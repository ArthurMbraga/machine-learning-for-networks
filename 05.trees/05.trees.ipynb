{
  "nbformat": 4,
  "nbformat_minor": 0,
  "metadata": {
    "colab": {
      "name": "05.trees.ipynb",
      "provenance": [],
      "authorship_tag": "ABX9TyOQDTr/UGG4fCzgbUwTg6QU",
      "include_colab_link": true
    },
    "kernelspec": {
      "name": "python3",
      "display_name": "Python 3"
    }
  },
  "cells": [
    {
      "cell_type": "markdown",
      "metadata": {
        "id": "view-in-github",
        "colab_type": "text"
      },
      "source": [
        "<a href=\"https://colab.research.google.com/github/andreaaraldo/machine-learning-for-networks/blob/master/05.trees/05.trees.ipynb\" target=\"_parent\"><img src=\"https://colab.research.google.com/assets/colab-badge.svg\" alt=\"Open In Colab\"/></a>"
      ]
    },
    {
      "cell_type": "code",
      "metadata": {
        "id": "p3SZL6IGYE4c",
        "colab_type": "code",
        "outputId": "0bc9160a-a102-4a85-9248-af6b419db1fe",
        "colab": {
          "base_uri": "https://localhost:8080/",
          "height": 478
        }
      },
      "source": [
        "import pandas as pd\n",
        "import numpy as np\n",
        "import matplotlib.pyplot as plt\n",
        "\n",
        "from sklearn.model_selection import train_test_split, RandomizedSearchCV, KFold\n",
        "from sklearn.ensemble import RandomForestClassifier\n",
        "from sklearn.metrics import log_loss\n",
        "\n",
        "from collections import Counter\n",
        "\n",
        "from imblearn.over_sampling import SMOTE\n",
        "\n",
        "\n",
        "# Import the visualization library I prepared for you\n",
        "! wget https://raw.githubusercontent.com/andreaaraldo/machine-learning-for-networks/master/course_library/visualization.py\n",
        "from visualization import plot_conf_mat, plot_feature_importances\n",
        "\n",
        "\n",
        "!pip install ipython-autotime # To show time at each cell\n",
        "                              # Credits to https://medium.com/@arptoth/how-to-measure-execution-time-in-google-colab-707cc9aad1c8\n",
        "%load_ext autotime\n",
        "\n",
        "\n",
        "# The following is to be able to mount Google Drive\n",
        "from google.colab import drive\n",
        "\n",
        "import pickle # To save the model\n",
        "from os.path import isfile"
      ],
      "execution_count": 1,
      "outputs": [
        {
          "output_type": "stream",
          "text": [
            "/usr/local/lib/python3.6/dist-packages/sklearn/externals/six.py:31: FutureWarning: The module is deprecated in version 0.21 and will be removed in version 0.23 since we've dropped support for Python 2.7. Please rely on the official version of six (https://pypi.org/project/six/).\n",
            "  \"(https://pypi.org/project/six/).\", FutureWarning)\n",
            "/usr/local/lib/python3.6/dist-packages/sklearn/utils/deprecation.py:144: FutureWarning: The sklearn.neighbors.base module is  deprecated in version 0.22 and will be removed in version 0.24. The corresponding classes / functions should instead be imported from sklearn.neighbors. Anything that cannot be imported from sklearn.neighbors is now part of the private API.\n",
            "  warnings.warn(message, FutureWarning)\n"
          ],
          "name": "stderr"
        },
        {
          "output_type": "stream",
          "text": [
            "--2020-03-25 08:55:56--  https://raw.githubusercontent.com/andreaaraldo/machine-learning-for-networks/master/course_library/visualization.py\n",
            "Resolving raw.githubusercontent.com (raw.githubusercontent.com)... 151.101.0.133, 151.101.64.133, 151.101.128.133, ...\n",
            "Connecting to raw.githubusercontent.com (raw.githubusercontent.com)|151.101.0.133|:443... connected.\n",
            "HTTP request sent, awaiting response... 200 OK\n",
            "Length: 5159 (5.0K) [text/plain]\n",
            "Saving to: ‘visualization.py’\n",
            "\n",
            "\rvisualization.py      0%[                    ]       0  --.-KB/s               \rvisualization.py    100%[===================>]   5.04K  --.-KB/s    in 0s      \n",
            "\n",
            "2020-03-25 08:55:56 (86.6 MB/s) - ‘visualization.py’ saved [5159/5159]\n",
            "\n",
            "Collecting ipython-autotime\n",
            "  Downloading https://files.pythonhosted.org/packages/e6/f9/0626bbdb322e3a078d968e87e3b01341e7890544de891d0cb613641220e6/ipython-autotime-0.1.tar.bz2\n",
            "Building wheels for collected packages: ipython-autotime\n",
            "  Building wheel for ipython-autotime (setup.py) ... \u001b[?25l\u001b[?25hdone\n",
            "  Created wheel for ipython-autotime: filename=ipython_autotime-0.1-cp36-none-any.whl size=1832 sha256=c68ac4e1b5c53e8c64614703123de0a468b28ec547d06de92dbe60144b584db3\n",
            "  Stored in directory: /root/.cache/pip/wheels/d2/df/81/2db1e54bc91002cec40334629bc39cfa86dff540b304ebcd6e\n",
            "Successfully built ipython-autotime\n",
            "Installing collected packages: ipython-autotime\n",
            "Successfully installed ipython-autotime-0.1\n"
          ],
          "name": "stdout"
        }
      ]
    },
    {
      "cell_type": "markdown",
      "metadata": {
        "id": "FAXD9THYlAVY",
        "colab_type": "text"
      },
      "source": [
        "Mount Google Drive"
      ]
    },
    {
      "cell_type": "code",
      "metadata": {
        "id": "fnCGlHqBlCSv",
        "colab_type": "code",
        "outputId": "f94f72c9-befc-4821-d453-852fbedec004",
        "colab": {
          "base_uri": "https://localhost:8080/",
          "height": 147
        }
      },
      "source": [
        "mount_point = '/content/gdrive' # Always the same, don't change it\n",
        "drive.mount(mount_point, force_remount=True)\n",
        "drive_path = mount_point + '/My Drive/' # Always the same, don't change it\n",
        "my_path = drive_path + \\\n",
        "  'tsp/teaching/data-science-for-networks/img-from-code/05.trees/'"
      ],
      "execution_count": 2,
      "outputs": [
        {
          "output_type": "stream",
          "text": [
            "Go to this URL in a browser: https://accounts.google.com/o/oauth2/auth?client_id=947318989803-6bn6qk8qdgf4n4g3pfee6491hc0brc4i.apps.googleusercontent.com&redirect_uri=urn%3aietf%3awg%3aoauth%3a2.0%3aoob&response_type=code&scope=email%20https%3a%2f%2fwww.googleapis.com%2fauth%2fdocs.test%20https%3a%2f%2fwww.googleapis.com%2fauth%2fdrive%20https%3a%2f%2fwww.googleapis.com%2fauth%2fdrive.photos.readonly%20https%3a%2f%2fwww.googleapis.com%2fauth%2fpeopleapi.readonly\n",
            "\n",
            "Enter your authorization code:\n",
            "··········\n",
            "Mounted at /content/gdrive\n",
            "time: 19.6 s\n"
          ],
          "name": "stdout"
        }
      ]
    },
    {
      "cell_type": "markdown",
      "metadata": {
        "id": "8AtvvynTUSsm",
        "colab_type": "text"
      },
      "source": [
        "# Use case and dataset\n",
        "\n",
        "We use the dataset by [Reyhane Askari Hemmat](https://github.com/ReyhaneAskari/SLA_violation_classification) (Université de Montréal) used in [He16]. This dataset is built from [Google Cloud Cluster Trace](https://github.com/google/cluster-data), a 29-days trace of activity in a Google Cloud cluster. The trace reports:\n",
        "\n",
        "* Resources available on the machines\n",
        "* Tasks submitted by users, along with the requested resources\n",
        "* Actual resources used by tasks\n",
        "* Events, like eviction of tasks (for lack of resources, failure of the machine, etc.)\n",
        "\n",
        "\n",
        "Hemmat et Al. [He16] pre-processed this trace:\n",
        "* For each submitted task, they checked if the task correctly terminates or is evicted\n",
        "* They created as csv file with the task characteristics and a `violation` column, to indicating failure (1) or normal termination (0).\n",
        "\n",
        "\n",
        "### Goal\n",
        "Predict a task failure, i.e., whether a task [will be evicted](https://github.com/ReyhaneAskari/SLA_violation_classification/blob/55bba2683dec43e739244b6b616294827a98f8e1/3_create_database/scripts/full_db_2.py#L33) before normal termination. "
      ]
    },
    {
      "cell_type": "code",
      "metadata": {
        "id": "BpetR2NnS7JP",
        "colab_type": "code",
        "outputId": "8c9ae77f-d47c-43af-c4a2-5ac413cbdb1e",
        "colab": {
          "base_uri": "https://localhost:8080/",
          "height": 257
        }
      },
      "source": [
        "!wget https://raw.githubusercontent.com/ReyhaneAskari/SLA_violation_classification/master/3_create_database/csvs/frull_db_2.csv"
      ],
      "execution_count": 3,
      "outputs": [
        {
          "output_type": "stream",
          "text": [
            "--2020-03-25 08:56:24--  https://raw.githubusercontent.com/ReyhaneAskari/SLA_violation_classification/master/3_create_database/csvs/frull_db_2.csv\n",
            "Resolving raw.githubusercontent.com (raw.githubusercontent.com)... 151.101.0.133, 151.101.64.133, 151.101.128.133, ...\n",
            "Connecting to raw.githubusercontent.com (raw.githubusercontent.com)|151.101.0.133|:443... connected.\n",
            "HTTP request sent, awaiting response... 200 OK\n",
            "Length: 10633997 (10M) [text/plain]\n",
            "Saving to: ‘frull_db_2.csv’\n",
            "\n",
            "frull_db_2.csv      100%[===================>]  10.14M  14.5MB/s    in 0.7s    \n",
            "\n",
            "2020-03-25 08:56:25 (14.5 MB/s) - ‘frull_db_2.csv’ saved [10633997/10633997]\n",
            "\n",
            "time: 2.56 s\n"
          ],
          "name": "stdout"
        }
      ]
    },
    {
      "cell_type": "markdown",
      "metadata": {
        "id": "nr8fOtg1WiuD",
        "colab_type": "text"
      },
      "source": [
        "Unfortunately, [no GPU support](https://stackoverflow.com/a/41568439/2110769) is available for scikit learn."
      ]
    },
    {
      "cell_type": "markdown",
      "metadata": {
        "id": "MIpuJgGbX4tz",
        "colab_type": "text"
      },
      "source": [
        "# Load dataset and preliminary operations\n"
      ]
    },
    {
      "cell_type": "code",
      "metadata": {
        "id": "bdjiawPyX7FR",
        "colab_type": "code",
        "outputId": "3df45325-3ed3-4aa8-d4e4-52506f44a665",
        "colab": {
          "base_uri": "https://localhost:8080/",
          "height": 442
        }
      },
      "source": [
        "train_path = \"frull_db_2.csv\"\n",
        "df = pd.read_csv(train_path)\n",
        "df"
      ],
      "execution_count": 4,
      "outputs": [
        {
          "output_type": "execute_result",
          "data": {
            "text/html": [
              "<div>\n",
              "<style scoped>\n",
              "    .dataframe tbody tr th:only-of-type {\n",
              "        vertical-align: middle;\n",
              "    }\n",
              "\n",
              "    .dataframe tbody tr th {\n",
              "        vertical-align: top;\n",
              "    }\n",
              "\n",
              "    .dataframe thead th {\n",
              "        text-align: right;\n",
              "    }\n",
              "</style>\n",
              "<table border=\"1\" class=\"dataframe\">\n",
              "  <thead>\n",
              "    <tr style=\"text-align: right;\">\n",
              "      <th></th>\n",
              "      <th>Unnamed: 0</th>\n",
              "      <th>job_id</th>\n",
              "      <th>task_idx</th>\n",
              "      <th>sched_cls</th>\n",
              "      <th>priority</th>\n",
              "      <th>cpu_requested</th>\n",
              "      <th>mem_requested</th>\n",
              "      <th>disk</th>\n",
              "      <th>violation</th>\n",
              "    </tr>\n",
              "  </thead>\n",
              "  <tbody>\n",
              "    <tr>\n",
              "      <th>0</th>\n",
              "      <td>2</td>\n",
              "      <td>3418314</td>\n",
              "      <td>0</td>\n",
              "      <td>3</td>\n",
              "      <td>9</td>\n",
              "      <td>0.12500</td>\n",
              "      <td>0.074460</td>\n",
              "      <td>0.000424</td>\n",
              "      <td>0</td>\n",
              "    </tr>\n",
              "    <tr>\n",
              "      <th>1</th>\n",
              "      <td>3</td>\n",
              "      <td>3418314</td>\n",
              "      <td>1</td>\n",
              "      <td>3</td>\n",
              "      <td>9</td>\n",
              "      <td>0.12500</td>\n",
              "      <td>0.074460</td>\n",
              "      <td>0.000424</td>\n",
              "      <td>0</td>\n",
              "    </tr>\n",
              "    <tr>\n",
              "      <th>2</th>\n",
              "      <td>45</td>\n",
              "      <td>3418368</td>\n",
              "      <td>0</td>\n",
              "      <td>3</td>\n",
              "      <td>9</td>\n",
              "      <td>0.03125</td>\n",
              "      <td>0.086910</td>\n",
              "      <td>0.000455</td>\n",
              "      <td>0</td>\n",
              "    </tr>\n",
              "    <tr>\n",
              "      <th>3</th>\n",
              "      <td>46</td>\n",
              "      <td>3418368</td>\n",
              "      <td>1</td>\n",
              "      <td>3</td>\n",
              "      <td>9</td>\n",
              "      <td>0.03125</td>\n",
              "      <td>0.086910</td>\n",
              "      <td>0.000455</td>\n",
              "      <td>0</td>\n",
              "    </tr>\n",
              "    <tr>\n",
              "      <th>4</th>\n",
              "      <td>47</td>\n",
              "      <td>3418368</td>\n",
              "      <td>2</td>\n",
              "      <td>3</td>\n",
              "      <td>9</td>\n",
              "      <td>0.03125</td>\n",
              "      <td>0.086910</td>\n",
              "      <td>0.000455</td>\n",
              "      <td>0</td>\n",
              "    </tr>\n",
              "    <tr>\n",
              "      <th>...</th>\n",
              "      <td>...</td>\n",
              "      <td>...</td>\n",
              "      <td>...</td>\n",
              "      <td>...</td>\n",
              "      <td>...</td>\n",
              "      <td>...</td>\n",
              "      <td>...</td>\n",
              "      <td>...</td>\n",
              "      <td>...</td>\n",
              "    </tr>\n",
              "    <tr>\n",
              "      <th>201195</th>\n",
              "      <td>450131</td>\n",
              "      <td>6251995937</td>\n",
              "      <td>196</td>\n",
              "      <td>0</td>\n",
              "      <td>0</td>\n",
              "      <td>0.06873</td>\n",
              "      <td>0.011930</td>\n",
              "      <td>0.000115</td>\n",
              "      <td>0</td>\n",
              "    </tr>\n",
              "    <tr>\n",
              "      <th>201196</th>\n",
              "      <td>450134</td>\n",
              "      <td>4392480606</td>\n",
              "      <td>180</td>\n",
              "      <td>2</td>\n",
              "      <td>0</td>\n",
              "      <td>0.06250</td>\n",
              "      <td>0.063350</td>\n",
              "      <td>0.000077</td>\n",
              "      <td>0</td>\n",
              "    </tr>\n",
              "    <tr>\n",
              "      <th>201197</th>\n",
              "      <td>450137</td>\n",
              "      <td>5285926325</td>\n",
              "      <td>0</td>\n",
              "      <td>0</td>\n",
              "      <td>9</td>\n",
              "      <td>0.06250</td>\n",
              "      <td>0.006218</td>\n",
              "      <td>0.000038</td>\n",
              "      <td>1</td>\n",
              "    </tr>\n",
              "    <tr>\n",
              "      <th>201198</th>\n",
              "      <td>450142</td>\n",
              "      <td>6183750753</td>\n",
              "      <td>60</td>\n",
              "      <td>1</td>\n",
              "      <td>0</td>\n",
              "      <td>0.12500</td>\n",
              "      <td>0.033390</td>\n",
              "      <td>0.000019</td>\n",
              "      <td>0</td>\n",
              "    </tr>\n",
              "    <tr>\n",
              "      <th>201199</th>\n",
              "      <td>450145</td>\n",
              "      <td>515042969</td>\n",
              "      <td>26</td>\n",
              "      <td>2</td>\n",
              "      <td>0</td>\n",
              "      <td>0.01562</td>\n",
              "      <td>0.015530</td>\n",
              "      <td>0.000215</td>\n",
              "      <td>0</td>\n",
              "    </tr>\n",
              "  </tbody>\n",
              "</table>\n",
              "<p>201200 rows × 9 columns</p>\n",
              "</div>"
            ],
            "text/plain": [
              "        Unnamed: 0      job_id  task_idx  ...  mem_requested      disk  violation\n",
              "0                2     3418314         0  ...       0.074460  0.000424          0\n",
              "1                3     3418314         1  ...       0.074460  0.000424          0\n",
              "2               45     3418368         0  ...       0.086910  0.000455          0\n",
              "3               46     3418368         1  ...       0.086910  0.000455          0\n",
              "4               47     3418368         2  ...       0.086910  0.000455          0\n",
              "...            ...         ...       ...  ...            ...       ...        ...\n",
              "201195      450131  6251995937       196  ...       0.011930  0.000115          0\n",
              "201196      450134  4392480606       180  ...       0.063350  0.000077          0\n",
              "201197      450137  5285926325         0  ...       0.006218  0.000038          1\n",
              "201198      450142  6183750753        60  ...       0.033390  0.000019          0\n",
              "201199      450145   515042969        26  ...       0.015530  0.000215          0\n",
              "\n",
              "[201200 rows x 9 columns]"
            ]
          },
          "metadata": {
            "tags": []
          },
          "execution_count": 4
        },
        {
          "output_type": "stream",
          "text": [
            "time: 213 ms\n"
          ],
          "name": "stdout"
        }
      ]
    },
    {
      "cell_type": "markdown",
      "metadata": {
        "id": "4tK7OuzSbq5x",
        "colab_type": "text"
      },
      "source": [
        "Column description:\n",
        "* `job_id`: users submit jobs, i.e., a set of tasks\n",
        "* `task_idx`: the index of a task within a job. A task is uniquely identified by `(job_id, task_idx)`\n",
        "* `sched_cls`: From [Re11]: \"3 representing a more latency-sensitive task (e.g., serving revenue-generating user requests) and 0 representing a non-production task (e.g., development, non-business-critical analyses, etc.)... more latency-sensitive tasks tend to have higher task priorities\"\n",
        "* `priority`\n",
        "* `cpu_requested`: Maximum amount of CPU the task is permitted to use. \n",
        "  * Unit of measurement: core-count / second.\n",
        "  * The scale is relateive to the CPU available in the most powerful machine of the cluster.\n",
        "  * This is specified by the user at submission time\n",
        "* `mem_requested`: Maximum amount of memory the task is permitted to use. \n",
        "  * Unit of measurement: GB\n",
        "  * The scale is relateive to the memory available in the machine of the cluster with the largest memory.\n",
        "  * This is specified by the user at submission time\n",
        "* `disk`: Similarly to `mem_requested`"
      ]
    },
    {
      "cell_type": "markdown",
      "metadata": {
        "id": "Lx1nvFTgZmZr",
        "colab_type": "text"
      },
      "source": [
        "We need to remove features that have no predictive meaning"
      ]
    },
    {
      "cell_type": "code",
      "metadata": {
        "id": "klofcMKtZqGR",
        "colab_type": "code",
        "outputId": "6532da93-0065-427d-f047-e21bc4eeaced",
        "colab": {
          "base_uri": "https://localhost:8080/",
          "height": 442
        }
      },
      "source": [
        "df = df.drop(labels=['Unnamed: 0', 'job_id', 'task_idx'], axis=1)\n",
        "df"
      ],
      "execution_count": 5,
      "outputs": [
        {
          "output_type": "execute_result",
          "data": {
            "text/html": [
              "<div>\n",
              "<style scoped>\n",
              "    .dataframe tbody tr th:only-of-type {\n",
              "        vertical-align: middle;\n",
              "    }\n",
              "\n",
              "    .dataframe tbody tr th {\n",
              "        vertical-align: top;\n",
              "    }\n",
              "\n",
              "    .dataframe thead th {\n",
              "        text-align: right;\n",
              "    }\n",
              "</style>\n",
              "<table border=\"1\" class=\"dataframe\">\n",
              "  <thead>\n",
              "    <tr style=\"text-align: right;\">\n",
              "      <th></th>\n",
              "      <th>sched_cls</th>\n",
              "      <th>priority</th>\n",
              "      <th>cpu_requested</th>\n",
              "      <th>mem_requested</th>\n",
              "      <th>disk</th>\n",
              "      <th>violation</th>\n",
              "    </tr>\n",
              "  </thead>\n",
              "  <tbody>\n",
              "    <tr>\n",
              "      <th>0</th>\n",
              "      <td>3</td>\n",
              "      <td>9</td>\n",
              "      <td>0.12500</td>\n",
              "      <td>0.074460</td>\n",
              "      <td>0.000424</td>\n",
              "      <td>0</td>\n",
              "    </tr>\n",
              "    <tr>\n",
              "      <th>1</th>\n",
              "      <td>3</td>\n",
              "      <td>9</td>\n",
              "      <td>0.12500</td>\n",
              "      <td>0.074460</td>\n",
              "      <td>0.000424</td>\n",
              "      <td>0</td>\n",
              "    </tr>\n",
              "    <tr>\n",
              "      <th>2</th>\n",
              "      <td>3</td>\n",
              "      <td>9</td>\n",
              "      <td>0.03125</td>\n",
              "      <td>0.086910</td>\n",
              "      <td>0.000455</td>\n",
              "      <td>0</td>\n",
              "    </tr>\n",
              "    <tr>\n",
              "      <th>3</th>\n",
              "      <td>3</td>\n",
              "      <td>9</td>\n",
              "      <td>0.03125</td>\n",
              "      <td>0.086910</td>\n",
              "      <td>0.000455</td>\n",
              "      <td>0</td>\n",
              "    </tr>\n",
              "    <tr>\n",
              "      <th>4</th>\n",
              "      <td>3</td>\n",
              "      <td>9</td>\n",
              "      <td>0.03125</td>\n",
              "      <td>0.086910</td>\n",
              "      <td>0.000455</td>\n",
              "      <td>0</td>\n",
              "    </tr>\n",
              "    <tr>\n",
              "      <th>...</th>\n",
              "      <td>...</td>\n",
              "      <td>...</td>\n",
              "      <td>...</td>\n",
              "      <td>...</td>\n",
              "      <td>...</td>\n",
              "      <td>...</td>\n",
              "    </tr>\n",
              "    <tr>\n",
              "      <th>201195</th>\n",
              "      <td>0</td>\n",
              "      <td>0</td>\n",
              "      <td>0.06873</td>\n",
              "      <td>0.011930</td>\n",
              "      <td>0.000115</td>\n",
              "      <td>0</td>\n",
              "    </tr>\n",
              "    <tr>\n",
              "      <th>201196</th>\n",
              "      <td>2</td>\n",
              "      <td>0</td>\n",
              "      <td>0.06250</td>\n",
              "      <td>0.063350</td>\n",
              "      <td>0.000077</td>\n",
              "      <td>0</td>\n",
              "    </tr>\n",
              "    <tr>\n",
              "      <th>201197</th>\n",
              "      <td>0</td>\n",
              "      <td>9</td>\n",
              "      <td>0.06250</td>\n",
              "      <td>0.006218</td>\n",
              "      <td>0.000038</td>\n",
              "      <td>1</td>\n",
              "    </tr>\n",
              "    <tr>\n",
              "      <th>201198</th>\n",
              "      <td>1</td>\n",
              "      <td>0</td>\n",
              "      <td>0.12500</td>\n",
              "      <td>0.033390</td>\n",
              "      <td>0.000019</td>\n",
              "      <td>0</td>\n",
              "    </tr>\n",
              "    <tr>\n",
              "      <th>201199</th>\n",
              "      <td>2</td>\n",
              "      <td>0</td>\n",
              "      <td>0.01562</td>\n",
              "      <td>0.015530</td>\n",
              "      <td>0.000215</td>\n",
              "      <td>0</td>\n",
              "    </tr>\n",
              "  </tbody>\n",
              "</table>\n",
              "<p>201200 rows × 6 columns</p>\n",
              "</div>"
            ],
            "text/plain": [
              "        sched_cls  priority  cpu_requested  mem_requested      disk  violation\n",
              "0               3         9        0.12500       0.074460  0.000424          0\n",
              "1               3         9        0.12500       0.074460  0.000424          0\n",
              "2               3         9        0.03125       0.086910  0.000455          0\n",
              "3               3         9        0.03125       0.086910  0.000455          0\n",
              "4               3         9        0.03125       0.086910  0.000455          0\n",
              "...           ...       ...            ...            ...       ...        ...\n",
              "201195          0         0        0.06873       0.011930  0.000115          0\n",
              "201196          2         0        0.06250       0.063350  0.000077          0\n",
              "201197          0         9        0.06250       0.006218  0.000038          1\n",
              "201198          1         0        0.12500       0.033390  0.000019          0\n",
              "201199          2         0        0.01562       0.015530  0.000215          0\n",
              "\n",
              "[201200 rows x 6 columns]"
            ]
          },
          "metadata": {
            "tags": []
          },
          "execution_count": 5
        },
        {
          "output_type": "stream",
          "text": [
            "time: 29.6 ms\n"
          ],
          "name": "stdout"
        }
      ]
    },
    {
      "cell_type": "markdown",
      "metadata": {
        "id": "kzn8ZKz3hFR6",
        "colab_type": "text"
      },
      "source": [
        "Let's partition the dataset in training and test dataset"
      ]
    },
    {
      "cell_type": "code",
      "metadata": {
        "id": "d6mFPOxQhJeC",
        "colab_type": "code",
        "outputId": "72e2d7ff-abd1-42e7-aa1e-37145ca5a9ca",
        "colab": {
          "base_uri": "https://localhost:8080/",
          "height": 35
        }
      },
      "source": [
        "X = df.drop(labels='violation', axis=1)\n",
        "y = df['violation']\n",
        "\n",
        "X_train, X_test, y_train, y_test = train_test_split(X,y, test_size=0.3, \n",
        "                                        shuffle=True, random_state=4)"
      ],
      "execution_count": 6,
      "outputs": [
        {
          "output_type": "stream",
          "text": [
            "time: 34.6 ms\n"
          ],
          "name": "stdout"
        }
      ]
    },
    {
      "cell_type": "markdown",
      "metadata": {
        "id": "vURrRYS_itCy",
        "colab_type": "text"
      },
      "source": [
        "Check for class imbalance and correct for it"
      ]
    },
    {
      "cell_type": "code",
      "metadata": {
        "id": "85bp3E7virt5",
        "colab_type": "code",
        "outputId": "8a748cf9-8e34-4be8-93ed-e209589def36",
        "colab": {
          "base_uri": "https://localhost:8080/",
          "height": 129
        }
      },
      "source": [
        "print( \"Samples per class before SMOTE: \", Counter(y_train) )\n",
        "\n",
        "smote = SMOTE()\n",
        "X_train, y_train = smote.fit_sample(X_train, y_train)\n",
        "\n",
        "print( \"Samples per class after SMOTE: \", Counter(y_train) )"
      ],
      "execution_count": 7,
      "outputs": [
        {
          "output_type": "stream",
          "text": [
            "Samples per class before SMOTE:  Counter({0: 129445, 1: 11395})\n"
          ],
          "name": "stdout"
        },
        {
          "output_type": "stream",
          "text": [
            "/usr/local/lib/python3.6/dist-packages/sklearn/utils/deprecation.py:87: FutureWarning: Function safe_indexing is deprecated; safe_indexing is deprecated in version 0.22 and will be removed in version 0.24.\n",
            "  warnings.warn(msg, category=FutureWarning)\n"
          ],
          "name": "stderr"
        },
        {
          "output_type": "stream",
          "text": [
            "Samples per class after SMOTE:  Counter({0: 129445, 1: 129445})\n",
            "time: 999 ms\n"
          ],
          "name": "stdout"
        }
      ]
    },
    {
      "cell_type": "markdown",
      "metadata": {
        "id": "nKdysedgj3UP",
        "colab_type": "text"
      },
      "source": [
        "# Training and testing a random forest"
      ]
    },
    {
      "cell_type": "code",
      "metadata": {
        "id": "JvkIIF5ej7VY",
        "colab_type": "code",
        "outputId": "8fe779da-13fb-4e16-9766-f3d13bf2fa28",
        "colab": {
          "base_uri": "https://localhost:8080/",
          "height": 164
        }
      },
      "source": [
        "model = RandomForestClassifier(n_estimators=100, \n",
        "                      criterion='gini', \n",
        "                      max_leaf_nodes=16, # Each tree cannot have more than that\n",
        "                      random_state=5, # For reproducibility\n",
        "                      n_jobs=-1, # Use all the CPUs\n",
        "                      max_features = 'auto' # auto means=sqrt(n_features)\n",
        "                      )\n",
        "\n",
        "model.fit(X_train, y_train)"
      ],
      "execution_count": 8,
      "outputs": [
        {
          "output_type": "execute_result",
          "data": {
            "text/plain": [
              "RandomForestClassifier(bootstrap=True, ccp_alpha=0.0, class_weight=None,\n",
              "                       criterion='gini', max_depth=None, max_features='auto',\n",
              "                       max_leaf_nodes=16, max_samples=None,\n",
              "                       min_impurity_decrease=0.0, min_impurity_split=None,\n",
              "                       min_samples_leaf=1, min_samples_split=2,\n",
              "                       min_weight_fraction_leaf=0.0, n_estimators=100,\n",
              "                       n_jobs=-1, oob_score=False, random_state=5, verbose=0,\n",
              "                       warm_start=False)"
            ]
          },
          "metadata": {
            "tags": []
          },
          "execution_count": 8
        },
        {
          "output_type": "stream",
          "text": [
            "time: 7.09 s\n"
          ],
          "name": "stdout"
        }
      ]
    },
    {
      "cell_type": "code",
      "metadata": {
        "id": "NoM2Tv84VOnF",
        "colab_type": "code",
        "outputId": "a5b56a87-2104-4be5-aff0-2ee32b0039d1",
        "colab": {
          "base_uri": "https://localhost:8080/",
          "height": 677
        }
      },
      "source": [
        "y_pred = model.predict(X_test)\n",
        "\n",
        "class_names = np.array(['ok', 'fail'])\n",
        "plot_conf_mat(y_test, y_pred, class_names)"
      ],
      "execution_count": 9,
      "outputs": [
        {
          "output_type": "stream",
          "text": [
            "Normalized confusion matrix\n",
            "[[0.90160097 0.09839903]\n",
            " [0.11302008 0.88697992]]\n"
          ],
          "name": "stdout"
        },
        {
          "output_type": "execute_result",
          "data": {
            "text/plain": [
              "<matplotlib.axes._subplots.AxesSubplot at 0x7f18fc99d4e0>"
            ]
          },
          "metadata": {
            "tags": []
          },
          "execution_count": 9
        },
        {
          "output_type": "display_data",
          "data": {
            "image/png": "[encoded data removed]",
            "text/plain": [
              "<Figure size 576x576 with 2 Axes>"
            ]
          },
          "metadata": {
            "tags": []
          }
        },
        {
          "output_type": "stream",
          "text": [
            "time: 645 ms\n"
          ],
          "name": "stdout"
        }
      ]
    },
    {
      "cell_type": "markdown",
      "metadata": {
        "id": "kbvEAr_9X0j8",
        "colab_type": "text"
      },
      "source": [
        "Let's check the feature importance"
      ]
    },
    {
      "cell_type": "code",
      "metadata": {
        "id": "6VoOAQ9XXprs",
        "colab_type": "code",
        "outputId": "5b2f4add-19be-4d75-85fd-238ef7b8070c",
        "colab": {
          "base_uri": "https://localhost:8080/",
          "height": 313
        }
      },
      "source": [
        "feature_names = X_test.columns\n",
        "plot_feature_importances(model.feature_importances_, feature_names)\n",
        "feature_names"
      ],
      "execution_count": 10,
      "outputs": [
        {
          "output_type": "display_data",
          "data": {
            "image/png": "[encoded data removed]",
            "text/plain": [
              "<Figure size 432x288 with 1 Axes>"
            ]
          },
          "metadata": {
            "tags": []
          }
        },
        {
          "output_type": "execute_result",
          "data": {
            "text/plain": [
              "Index(['sched_cls', 'priority', 'cpu_requested', 'mem_requested', 'disk'], dtype='object')"
            ]
          },
          "metadata": {
            "tags": []
          },
          "execution_count": 10
        },
        {
          "output_type": "stream",
          "text": [
            "time: 226 ms\n"
          ],
          "name": "stdout"
        }
      ]
    },
    {
      "cell_type": "markdown",
      "metadata": {
        "id": "FDhLe2UAari_",
        "colab_type": "text"
      },
      "source": [
        "Memory and Disk are the most determining factors in producing a failure"
      ]
    },
    {
      "cell_type": "markdown",
      "metadata": {
        "id": "wHsY9OsxekhI",
        "colab_type": "text"
      },
      "source": [
        "# Hyperparameter tuning\n",
        "You have three possibility:\n",
        "* Manual tuning: \n",
        "  * Divide the training set in training subset and validation subset\n",
        "  * Train different classifiers (with different hyperparameters) on the training subset\n",
        "  * Check their performance, i.e., accuracy, on the validation subset\n",
        "  * Choose the best\n",
        "  * Test it on the test set\n",
        "* `GridSearchCV` (as in `02.regression/b.polynomial-regression.ipynb`)\n",
        "* `RandomizedSearchCV`\n",
        "\n",
        "We use the latter now. See [Open Data Science post](https://medium.com/@ODSC/optimizing-hyperparameters-for-random-forest-algorithms-in-scikit-learn-d60b7aa07ead).\n",
        "\n",
        "Let's first define the values of the parameters we want to explore"
      ]
    },
    {
      "cell_type": "code",
      "metadata": {
        "id": "UJZBmbTTfdUB",
        "colab_type": "code",
        "outputId": "9e6a2ca5-d5be-414b-9db8-31f312b5f835",
        "colab": {
          "base_uri": "https://localhost:8080/",
          "height": 35
        }
      },
      "source": [
        "param_grid = {\n",
        "    'criterion':['gini', 'entropy'],\n",
        "    'max_features':[1,2,3,4,5],\n",
        "\n",
        "    # Number of allowed leafs\n",
        "    'max_leaf_nodes':[16, 32, 64, 128, 256, 512, 1024, 2048],\n",
        "\n",
        "    # A node will be split if this split induces a decrease of the \n",
        "    # impurity greater than or equal to this value.\n",
        "    'min_impurity_decrease' : [0, 0.001, 0.01, 0.1, 0.2],\n",
        "            \n",
        "    'max_depth':[1,10,100,1000,10000,100000],\n",
        "\n",
        "    # A node can be a leaf only if it contains at least the following fraction\n",
        "    # of samples\n",
        "    'min_weight_fraction_leaf' : [0.1, 0.01, 0.001, 0]\n",
        "    \n",
        "}"
      ],
      "execution_count": 11,
      "outputs": [
        {
          "output_type": "stream",
          "text": [
            "time: 7.57 ms\n"
          ],
          "name": "stdout"
        }
      ]
    },
    {
      "cell_type": "markdown",
      "metadata": {
        "id": "05YiuGo-zBNt",
        "colab_type": "text"
      },
      "source": [
        "We have a lot of possible configurations to check. We specify to just test 50\n",
        "out of them."
      ]
    },
    {
      "cell_type": "code",
      "metadata": {
        "id": "GGJ8LEylhRcU",
        "colab_type": "code",
        "outputId": "40dab709-26e0-4b03-8b00-a194e8213cfc",
        "colab": {
          "base_uri": "https://localhost:8080/",
          "height": 641
        }
      },
      "source": [
        "# Note that we use 1 CPU per classifier, since we are training different \n",
        "# classifiers\n",
        "forest = RandomForestClassifier(n_estimators=100, random_state = 4, n_jobs=1,)\n",
        "\n",
        "\n",
        "search = RandomizedSearchCV(\n",
        "                            scoring = 'accuracy', # See other possible metrics in\n",
        "                                                # https://scikit-learn.org/stable/modules/model_evaluation.html#scoring-parameter\n",
        "                            \n",
        "                            estimator=forest, \n",
        "                            param_distributions=param_grid,\n",
        "                            n_iter=50, # We just test 50 configurations\n",
        "                            verbose=2,random_state=42, \n",
        "                            n_jobs=-1, # Triain forests in parallel using \n",
        "                                      # all CPUs\n",
        "                            cv=5 # 5-fold validation                      \n",
        "                          )\n",
        "\n",
        "search.fit(X_test, y_test)"
      ],
      "execution_count": 12,
      "outputs": [
        {
          "output_type": "stream",
          "text": [
            "Fitting 5 folds for each of 50 candidates, totalling 250 fits\n"
          ],
          "name": "stdout"
        },
        {
          "output_type": "stream",
          "text": [
            "[Parallel(n_jobs=-1)]: Using backend LokyBackend with 2 concurrent workers.\n",
            "[Parallel(n_jobs=-1)]: Done  37 tasks      | elapsed:   37.4s\n",
            "[Parallel(n_jobs=-1)]: Done 158 tasks      | elapsed:  2.8min\n",
            "[Parallel(n_jobs=-1)]: Done 250 out of 250 | elapsed:  4.2min finished\n"
          ],
          "name": "stderr"
        },
        {
          "output_type": "execute_result",
          "data": {
            "text/plain": [
              "RandomizedSearchCV(cv=5, error_score=nan,\n",
              "                   estimator=RandomForestClassifier(bootstrap=True,\n",
              "                                                    ccp_alpha=0.0,\n",
              "                                                    class_weight=None,\n",
              "                                                    criterion='gini',\n",
              "                                                    max_depth=None,\n",
              "                                                    max_features='auto',\n",
              "                                                    max_leaf_nodes=None,\n",
              "                                                    max_samples=None,\n",
              "                                                    min_impurity_decrease=0.0,\n",
              "                                                    min_impurity_split=None,\n",
              "                                                    min_samples_leaf=1,\n",
              "                                                    min_samples_split=2,\n",
              "                                                    min_weight_fraction_leaf=0.0,\n",
              "                                                    n_estimators=100, n_jobs...\n",
              "                   param_distributions={'criterion': ['gini', 'entropy'],\n",
              "                                        'max_depth': [1, 10, 100, 1000, 10000,\n",
              "                                                      100000],\n",
              "                                        'max_features': [1, 2, 3, 4, 5],\n",
              "                                        'max_leaf_nodes': [16, 32, 64, 128, 256,\n",
              "                                                           512, 1024, 2048],\n",
              "                                        'min_impurity_decrease': [0, 0.001,\n",
              "                                                                  0.01, 0.1,\n",
              "                                                                  0.2],\n",
              "                                        'min_weight_fraction_leaf': [0.1, 0.01,\n",
              "                                                                     0.001,\n",
              "                                                                     0]},\n",
              "                   pre_dispatch='2*n_jobs', random_state=42, refit=True,\n",
              "                   return_train_score=False, scoring='accuracy', verbose=2)"
            ]
          },
          "metadata": {
            "tags": []
          },
          "execution_count": 12
        },
        {
          "output_type": "stream",
          "text": [
            "time: 4min 14s\n"
          ],
          "name": "stdout"
        }
      ]
    },
    {
      "cell_type": "code",
      "metadata": {
        "id": "9DAreqI_ylof",
        "colab_type": "code",
        "outputId": "28dde786-1035-4bef-e575-6f41534d95b0",
        "colab": {
          "base_uri": "https://localhost:8080/",
          "height": 715
        }
      },
      "source": [
        "print(search.best_params_)\n",
        "\n",
        "model = search.best_estimator_\n",
        "y_pred = model.predict(X_test)\n",
        "\n",
        "plot_conf_mat(y_test, y_pred, class_names)"
      ],
      "execution_count": 13,
      "outputs": [
        {
          "output_type": "stream",
          "text": [
            "{'min_weight_fraction_leaf': 0, 'min_impurity_decrease': 0.001, 'max_leaf_nodes': 64, 'max_features': 3, 'max_depth': 100000, 'criterion': 'entropy'}\n",
            "Normalized confusion matrix\n",
            "[[0.9987394  0.0012606 ]\n",
            " [0.39453529 0.60546471]]\n"
          ],
          "name": "stdout"
        },
        {
          "output_type": "execute_result",
          "data": {
            "text/plain": [
              "<matplotlib.axes._subplots.AxesSubplot at 0x7f18fc95d8d0>"
            ]
          },
          "metadata": {
            "tags": []
          },
          "execution_count": 13
        },
        {
          "output_type": "display_data",
          "data": {
            "image/png": "[encoded data removed]",
            "text/plain": [
              "<Figure size 576x576 with 2 Axes>"
            ]
          },
          "metadata": {
            "tags": []
          }
        },
        {
          "output_type": "stream",
          "text": [
            "time: 772 ms\n"
          ],
          "name": "stdout"
        }
      ]
    },
    {
      "cell_type": "markdown",
      "metadata": {
        "id": "dPqsap0U9mhP",
        "colab_type": "text"
      },
      "source": [
        "We got a worse model than the first one!\n",
        "\n",
        "==> RandomizedSearchCV risks to perform bad if the number of configurations tested is too small, since we fail to try out good configurations."
      ]
    },
    {
      "cell_type": "markdown",
      "metadata": {
        "id": "2HGxLiTjmINw",
        "colab_type": "text"
      },
      "source": [
        "Note that we get also get probabilities with RandomForests (fraction of trees that predicted `1`). And thus, we can compute cross-entropy"
      ]
    },
    {
      "cell_type": "code",
      "metadata": {
        "id": "F8xj3fczmdPG",
        "colab_type": "code",
        "colab": {
          "base_uri": "https://localhost:8080/",
          "height": 182
        },
        "outputId": "50a9ae26-b134-4d8a-979a-ebda27b4069a"
      },
      "source": [
        "proba = model.predict_proba(X_test)\n",
        "print(\"Output probabilities are \",proba)\n",
        "\n",
        "\n",
        "print(\"Cross entropy = \", log_loss(y_test, proba))"
      ],
      "execution_count": 14,
      "outputs": [
        {
          "output_type": "stream",
          "text": [
            "Output probabilities are  [[9.99730300e-01 2.69700273e-04]\n",
            " [9.99730300e-01 2.69700273e-04]\n",
            " [9.32014981e-01 6.79850194e-02]\n",
            " ...\n",
            " [9.94517212e-01 5.48278785e-03]\n",
            " [7.31214042e-01 2.68785958e-01]\n",
            " [6.62924123e-02 9.33707588e-01]]\n",
            "Cross entropy =  0.08419308729551421\n",
            "time: 463 ms\n"
          ],
          "name": "stdout"
        }
      ]
    },
    {
      "cell_type": "markdown",
      "metadata": {
        "id": "zW4MHSBYoHZs",
        "colab_type": "text"
      },
      "source": [
        "Don't confuse cross-entropy with entropy of a tree node!"
      ]
    },
    {
      "cell_type": "markdown",
      "metadata": {
        "id": "M8DGKHTglbWP",
        "colab_type": "text"
      },
      "source": [
        "Since it may take some time to perform randomized search, let's save the model (**serializing** the python object)"
      ]
    },
    {
      "cell_type": "code",
      "metadata": {
        "id": "-BrMXobAlg6h",
        "colab_type": "code",
        "outputId": "2a4c3186-eb30-404e-a938-d053337d3a99",
        "colab": {
          "base_uri": "https://localhost:8080/",
          "height": 35
        }
      },
      "source": [
        "filename = my_path+'forest-1.pkl'\n",
        "pickle.dump(model, open(filename, 'wb'))"
      ],
      "execution_count": 15,
      "outputs": [
        {
          "output_type": "stream",
          "text": [
            "time: 975 ms\n"
          ],
          "name": "stdout"
        }
      ]
    },
    {
      "cell_type": "markdown",
      "metadata": {
        "id": "idRrGqyTmEjh",
        "colab_type": "text"
      },
      "source": [
        "To later retrieve it:\n",
        "\n"
      ]
    },
    {
      "cell_type": "code",
      "metadata": {
        "id": "BdQ_XXhbmOoh",
        "colab_type": "code",
        "outputId": "0fde3b46-0b23-492b-d2b7-c35bede2380e",
        "colab": {
          "base_uri": "https://localhost:8080/",
          "height": 35
        }
      },
      "source": [
        "model = pickle.load(open(filename, 'rb'))"
      ],
      "execution_count": 16,
      "outputs": [
        {
          "output_type": "stream",
          "text": [
            "time: 12.8 ms\n"
          ],
          "name": "stdout"
        }
      ]
    },
    {
      "cell_type": "markdown",
      "metadata": {
        "id": "WPR8zkpMmvFg",
        "colab_type": "text"
      },
      "source": [
        "It is convenient to automate this process"
      ]
    },
    {
      "cell_type": "code",
      "metadata": {
        "id": "0WUn3T5Lmyby",
        "colab_type": "code",
        "outputId": "2b7bc1d4-73eb-4d5d-fd60-eac5d8853d47",
        "colab": {
          "base_uri": "https://localhost:8080/",
          "height": 35
        }
      },
      "source": [
        "def search_or_load(model_filename, search):\n",
        "  if(isfile(model_filename) ):\n",
        "    model = pickle.load(open(model_filename, 'rb'))\n",
        "\n",
        "  else:\n",
        "    search.fit(X_test, y_test)\n",
        "    print(search.best_params_)\n",
        "    model = search.best_estimator_\n",
        "    pickle.dump(model, open(model_filename, 'wb'))\n",
        "\n",
        "  return model\n"
      ],
      "execution_count": 17,
      "outputs": [
        {
          "output_type": "stream",
          "text": [
            "time: 5.86 ms\n"
          ],
          "name": "stdout"
        }
      ]
    },
    {
      "cell_type": "markdown",
      "metadata": {
        "id": "0ZMh852ona4j",
        "colab_type": "text"
      },
      "source": [
        "If we call this function, it will not redo the search, as the model has already been saved"
      ]
    },
    {
      "cell_type": "code",
      "metadata": {
        "id": "WSNcP0FcnjB_",
        "colab_type": "code",
        "outputId": "56f9e466-b92c-4fa2-b2e2-ea89a22ac4bd",
        "colab": {
          "base_uri": "https://localhost:8080/",
          "height": 35
        }
      },
      "source": [
        "model = search_or_load(filename, search)"
      ],
      "execution_count": 18,
      "outputs": [
        {
          "output_type": "stream",
          "text": [
            "time: 14.7 ms\n"
          ],
          "name": "stdout"
        }
      ]
    },
    {
      "cell_type": "markdown",
      "metadata": {
        "id": "oWms3-A_1B9e",
        "colab_type": "text"
      },
      "source": [
        "### More iterations\n",
        "\n",
        "\n",
        "Let's try to increase the number of tested configurations\n"
      ]
    },
    {
      "cell_type": "code",
      "metadata": {
        "id": "RlWTBjvr1I4i",
        "colab_type": "code",
        "outputId": "cf06c038-8887-4a34-e189-088f858366d8",
        "colab": {
          "base_uri": "https://localhost:8080/",
          "height": 35
        }
      },
      "source": [
        "search = RandomizedSearchCV(\n",
        "                            scoring = 'accuracy', # See other possible metrics in\n",
        "                                                # https://scikit-learn.org/stable/modules/model_evaluation.html#scoring-parameter\n",
        "                            \n",
        "                            estimator=forest, \n",
        "                            param_distributions=param_grid,\n",
        "                            n_iter=200,\n",
        "                            verbose=2,random_state=42, \n",
        "                            n_jobs=-1, # Triain forests in parallel using \n",
        "                                      # all CPUs\n",
        "                            cv=5 # 5-fold validation                      \n",
        "                          )\n",
        "\n",
        "filename = my_path + 'forest-2.pkl'\n",
        "model = search_or_load(filename, search)"
      ],
      "execution_count": 19,
      "outputs": [
        {
          "output_type": "stream",
          "text": [
            "time: 477 ms\n"
          ],
          "name": "stdout"
        }
      ]
    },
    {
      "cell_type": "code",
      "metadata": {
        "id": "yNPVrptu25IM",
        "colab_type": "code",
        "outputId": "ab0d6c3d-9f60-40a1-d002-a343e28b9424",
        "colab": {
          "base_uri": "https://localhost:8080/",
          "height": 677
        }
      },
      "source": [
        "\n",
        "y_pred = model.predict(X_test)\n",
        "\n",
        "plot_conf_mat(y_test, y_pred, class_names)"
      ],
      "execution_count": 20,
      "outputs": [
        {
          "output_type": "stream",
          "text": [
            "Normalized confusion matrix\n",
            "[[0.99632624 0.00367376]\n",
            " [0.25398468 0.74601532]]\n"
          ],
          "name": "stdout"
        },
        {
          "output_type": "execute_result",
          "data": {
            "text/plain": [
              "<matplotlib.axes._subplots.AxesSubplot at 0x7f18fc88acc0>"
            ]
          },
          "metadata": {
            "tags": []
          },
          "execution_count": 20
        },
        {
          "output_type": "display_data",
          "data": {
            "image/png": "[encoded data removed]",
            "text/plain": [
              "<Figure size 576x576 with 2 Axes>"
            ]
          },
          "metadata": {
            "tags": []
          }
        },
        {
          "output_type": "stream",
          "text": [
            "time: 911 ms\n"
          ],
          "name": "stdout"
        }
      ]
    },
    {
      "cell_type": "markdown",
      "metadata": {
        "id": "0uQhYyPumac6",
        "colab_type": "text"
      },
      "source": [
        "It's better, but still bad. \n",
        "\n",
        "Ways to improve:\n",
        "* Increase the number of trees\n",
        "* Increase the number of configurations to try out"
      ]
    },
    {
      "cell_type": "markdown",
      "metadata": {
        "id": "_xM3aXzg3UlD",
        "colab_type": "text"
      },
      "source": [
        "**Lesson learned**: before using Randomized Search, start with a single simple model."
      ]
    },
    {
      "cell_type": "code",
      "metadata": {
        "id": "mXqdAcVU3uPG",
        "colab_type": "code",
        "colab": {
          "base_uri": "https://localhost:8080/",
          "height": 248
        },
        "outputId": "edcd341e-2a35-46e4-d917-1db5d4efdeda"
      },
      "source": [
        "forest = RandomForestClassifier(n_estimators=600, random_state = 4, n_jobs=1,)\n",
        "\n",
        "search = RandomizedSearchCV(\n",
        "                            scoring = 'accuracy', # See other possible metrics in\n",
        "                                                # https://scikit-learn.org/stable/modules/model_evaluation.html#scoring-parameter\n",
        "                            \n",
        "                            estimator=forest, \n",
        "                            param_distributions=param_grid,\n",
        "                            n_iter=800,\n",
        "                            verbose=2,random_state=42, \n",
        "                            n_jobs=-1, # Triain forests in parallel using \n",
        "                                      # all CPUs\n",
        "                            cv=5 # 5-fold validation                      \n",
        "                          )\n",
        "\n",
        "filename = my_path + 'forest-3.pkl'\n",
        "model = search_or_load(filename, search)\n",
        "y_pred = model.predict(X_test)\n",
        "plot_conf_mat(y_test, y_pred, class_names)"
      ],
      "execution_count": 1,
      "outputs": [
        {
          "output_type": "error",
          "ename": "NameError",
          "evalue": "ignored",
          "traceback": [
            "\u001b[0;31m---------------------------------------------------------------------------\u001b[0m",
            "\u001b[0;31mNameError\u001b[0m                                 Traceback (most recent call last)",
            "\u001b[0;32m<ipython-input-1-0c1709c8cc1a>\u001b[0m in \u001b[0;36m<module>\u001b[0;34m()\u001b[0m\n\u001b[0;32m----> 1\u001b[0;31m \u001b[0mforest\u001b[0m \u001b[0;34m=\u001b[0m \u001b[0mRandomForestClassifier\u001b[0m\u001b[0;34m(\u001b[0m\u001b[0mn_estimators\u001b[0m\u001b[0;34m=\u001b[0m\u001b[0;36m600\u001b[0m\u001b[0;34m,\u001b[0m \u001b[0mrandom_state\u001b[0m \u001b[0;34m=\u001b[0m \u001b[0;36m4\u001b[0m\u001b[0;34m,\u001b[0m \u001b[0mn_jobs\u001b[0m\u001b[0;34m=\u001b[0m\u001b[0;36m1\u001b[0m\u001b[0;34m,\u001b[0m\u001b[0;34m)\u001b[0m\u001b[0;34m\u001b[0m\u001b[0;34m\u001b[0m\u001b[0m\n\u001b[0m\u001b[1;32m      2\u001b[0m \u001b[0;34m\u001b[0m\u001b[0m\n\u001b[1;32m      3\u001b[0m search = RandomizedSearchCV(\n\u001b[1;32m      4\u001b[0m                             \u001b[0mscoring\u001b[0m \u001b[0;34m=\u001b[0m \u001b[0;34m'accuracy'\u001b[0m\u001b[0;34m,\u001b[0m \u001b[0;31m# See other possible metrics in\u001b[0m\u001b[0;34m\u001b[0m\u001b[0;34m\u001b[0m\u001b[0m\n\u001b[1;32m      5\u001b[0m                                                 \u001b[0;31m# https://scikit-learn.org/stable/modules/model_evaluation.html#scoring-parameter\u001b[0m\u001b[0;34m\u001b[0m\u001b[0;34m\u001b[0m\u001b[0;34m\u001b[0m\u001b[0m\n",
            "\u001b[0;31mNameError\u001b[0m: name 'RandomForestClassifier' is not defined"
          ]
        }
      ]
    },
    {
      "cell_type": "markdown",
      "metadata": {
        "id": "H5Q4gXPxUrpm",
        "colab_type": "text"
      },
      "source": [
        "# References\n",
        "\n",
        "[He16] Hemmat, R. A., & Hafid, A. (2016). SLA Violation Prediction In Cloud Computing: A Machine Learning Perspective. Retrieved from http://arxiv.org/abs/1611.10338\n",
        "\n",
        "[Re11] Reiss, C., Wilkes, J., & Hellerstein, J. (2011). Google cluster-usage traces: format+ schema. Google Inc., …, 1–14. https://doi.org/10.1007/978-3-540-69057-3_88"
      ]
    },
    {
      "cell_type": "code",
      "metadata": {
        "id": "Kv0iv_ilU_7N",
        "colab_type": "code",
        "colab": {}
      },
      "source": [
        ""
      ],
      "execution_count": 0,
      "outputs": []
    }
  ]
}