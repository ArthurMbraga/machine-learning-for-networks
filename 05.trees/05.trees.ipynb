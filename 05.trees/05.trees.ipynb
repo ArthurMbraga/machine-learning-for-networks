{
  "nbformat": 4,
  "nbformat_minor": 0,
  "metadata": {
    "colab": {
      "name": "05.trees.ipynb",
      "provenance": [],
      "authorship_tag": "ABX9TyNQgSn0ICMUq71J60IwO9Vp",
      "include_colab_link": true
    },
    "kernelspec": {
      "name": "python3",
      "display_name": "Python 3"
    }
  },
  "cells": [
    {
      "cell_type": "markdown",
      "metadata": {
        "id": "view-in-github",
        "colab_type": "text"
      },
      "source": [
        "<a href=\"https://colab.research.google.com/github/andreaaraldo/machine-learning-for-networks/blob/master/05.trees/05.trees.ipynb\" target=\"_parent\"><img src=\"https://colab.research.google.com/assets/colab-badge.svg\" alt=\"Open In Colab\"/></a>"
      ]
    },
    {
      "cell_type": "code",
      "metadata": {
        "id": "p3SZL6IGYE4c",
        "colab_type": "code",
        "colab": {}
      },
      "source": [
        "import pandas as pd\n",
        "\n",
        "from sklearn.model_selection import train_test_split\n",
        "\n",
        "from collections import Counter\n",
        "\n",
        "from imblearn.over_sampling import SMOTE"
      ],
      "execution_count": 0,
      "outputs": []
    },
    {
      "cell_type": "markdown",
      "metadata": {
        "id": "8AtvvynTUSsm",
        "colab_type": "text"
      },
      "source": [
        "# Use case and dataset\n",
        "\n",
        "We use the dataset by [Reyhane Askari Hemmat](https://github.com/ReyhaneAskari/SLA_violation_classification) (Université de Montréal) used in [He16]. This dataset is built from [Google Cloud Cluster Trace](https://github.com/google/cluster-data), a 29-days trace of activity in a Google Cloud cluster. The trace reports:\n",
        "\n",
        "* Resources available on the machines\n",
        "* Tasks submitted by users, along with the requested resources\n",
        "* Actual resources used by tasks\n",
        "* Events, like eviction of tasks (for lack of resources, failure of the machine, etc.)\n",
        "\n",
        "\n",
        "Hemmat et Al. [He16] pre-processed this trace:\n",
        "* For each submitted task, they checked if the task correctly terminates or is evicted\n",
        "* They created as csv file with the task characteristics and a `violation` column, to indicating failure (1) or normal termination (0).\n",
        "\n",
        "\n",
        "### Goal\n",
        "Predict a task failure, i.e., whether a task [will be evicted](https://github.com/ReyhaneAskari/SLA_violation_classification/blob/55bba2683dec43e739244b6b616294827a98f8e1/3_create_database/scripts/full_db_2.py#L33) before normal termination. "
      ]
    },
    {
      "cell_type": "code",
      "metadata": {
        "id": "BpetR2NnS7JP",
        "colab_type": "code",
        "colab": {
          "base_uri": "https://localhost:8080/",
          "height": 239
        },
        "outputId": "0e42e290-f5d0-48b8-d8cf-48dbb6d36e73"
      },
      "source": [
        "!wget https://raw.githubusercontent.com/ReyhaneAskari/SLA_violation_classification/master/3_create_database/csvs/frull_db_2.csv"
      ],
      "execution_count": 1,
      "outputs": [
        {
          "output_type": "stream",
          "text": [
            "--2020-03-23 16:53:55--  https://raw.githubusercontent.com/ReyhaneAskari/SLA_violation_classification/master/3_create_database/csvs/frull_db_2.csv\n",
            "Resolving raw.githubusercontent.com (raw.githubusercontent.com)... 151.101.0.133, 151.101.64.133, 151.101.128.133, ...\n",
            "Connecting to raw.githubusercontent.com (raw.githubusercontent.com)|151.101.0.133|:443... connected.\n",
            "HTTP request sent, awaiting response... 200 OK\n",
            "Length: 10633997 (10M) [text/plain]\n",
            "Saving to: ‘frull_db_2.csv’\n",
            "\n",
            "\rfrull_db_2.csv        0%[                    ]       0  --.-KB/s               \rfrull_db_2.csv       81%[===============>    ]   8.22M  41.0MB/s               \rfrull_db_2.csv      100%[===================>]  10.14M  45.5MB/s    in 0.2s    \n",
            "\n",
            "2020-03-23 16:53:56 (45.5 MB/s) - ‘frull_db_2.csv’ saved [10633997/10633997]\n",
            "\n"
          ],
          "name": "stdout"
        }
      ]
    },
    {
      "cell_type": "markdown",
      "metadata": {
        "id": "nr8fOtg1WiuD",
        "colab_type": "text"
      },
      "source": [
        "Unfortunately, [no GPU support](https://stackoverflow.com/a/41568439/2110769) is available for scikit learn."
      ]
    },
    {
      "cell_type": "markdown",
      "metadata": {
        "id": "MIpuJgGbX4tz",
        "colab_type": "text"
      },
      "source": [
        "# Load dataset and preliminary operations\n"
      ]
    },
    {
      "cell_type": "code",
      "metadata": {
        "id": "bdjiawPyX7FR",
        "colab_type": "code",
        "colab": {
          "base_uri": "https://localhost:8080/",
          "height": 424
        },
        "outputId": "40b446b1-9e6b-47b6-b13f-54ee7ef77cda"
      },
      "source": [
        "train_path = \"frull_db_2.csv\"\n",
        "df = pd.read_csv(train_path)\n",
        "df"
      ],
      "execution_count": 20,
      "outputs": [
        {
          "output_type": "execute_result",
          "data": {
            "text/html": [
              "<div>\n",
              "<style scoped>\n",
              "    .dataframe tbody tr th:only-of-type {\n",
              "        vertical-align: middle;\n",
              "    }\n",
              "\n",
              "    .dataframe tbody tr th {\n",
              "        vertical-align: top;\n",
              "    }\n",
              "\n",
              "    .dataframe thead th {\n",
              "        text-align: right;\n",
              "    }\n",
              "</style>\n",
              "<table border=\"1\" class=\"dataframe\">\n",
              "  <thead>\n",
              "    <tr style=\"text-align: right;\">\n",
              "      <th></th>\n",
              "      <th>Unnamed: 0</th>\n",
              "      <th>job_id</th>\n",
              "      <th>task_idx</th>\n",
              "      <th>sched_cls</th>\n",
              "      <th>priority</th>\n",
              "      <th>cpu_requested</th>\n",
              "      <th>mem_requested</th>\n",
              "      <th>disk</th>\n",
              "      <th>violation</th>\n",
              "    </tr>\n",
              "  </thead>\n",
              "  <tbody>\n",
              "    <tr>\n",
              "      <th>0</th>\n",
              "      <td>2</td>\n",
              "      <td>3418314</td>\n",
              "      <td>0</td>\n",
              "      <td>3</td>\n",
              "      <td>9</td>\n",
              "      <td>0.12500</td>\n",
              "      <td>0.074460</td>\n",
              "      <td>0.000424</td>\n",
              "      <td>0</td>\n",
              "    </tr>\n",
              "    <tr>\n",
              "      <th>1</th>\n",
              "      <td>3</td>\n",
              "      <td>3418314</td>\n",
              "      <td>1</td>\n",
              "      <td>3</td>\n",
              "      <td>9</td>\n",
              "      <td>0.12500</td>\n",
              "      <td>0.074460</td>\n",
              "      <td>0.000424</td>\n",
              "      <td>0</td>\n",
              "    </tr>\n",
              "    <tr>\n",
              "      <th>2</th>\n",
              "      <td>45</td>\n",
              "      <td>3418368</td>\n",
              "      <td>0</td>\n",
              "      <td>3</td>\n",
              "      <td>9</td>\n",
              "      <td>0.03125</td>\n",
              "      <td>0.086910</td>\n",
              "      <td>0.000455</td>\n",
              "      <td>0</td>\n",
              "    </tr>\n",
              "    <tr>\n",
              "      <th>3</th>\n",
              "      <td>46</td>\n",
              "      <td>3418368</td>\n",
              "      <td>1</td>\n",
              "      <td>3</td>\n",
              "      <td>9</td>\n",
              "      <td>0.03125</td>\n",
              "      <td>0.086910</td>\n",
              "      <td>0.000455</td>\n",
              "      <td>0</td>\n",
              "    </tr>\n",
              "    <tr>\n",
              "      <th>4</th>\n",
              "      <td>47</td>\n",
              "      <td>3418368</td>\n",
              "      <td>2</td>\n",
              "      <td>3</td>\n",
              "      <td>9</td>\n",
              "      <td>0.03125</td>\n",
              "      <td>0.086910</td>\n",
              "      <td>0.000455</td>\n",
              "      <td>0</td>\n",
              "    </tr>\n",
              "    <tr>\n",
              "      <th>...</th>\n",
              "      <td>...</td>\n",
              "      <td>...</td>\n",
              "      <td>...</td>\n",
              "      <td>...</td>\n",
              "      <td>...</td>\n",
              "      <td>...</td>\n",
              "      <td>...</td>\n",
              "      <td>...</td>\n",
              "      <td>...</td>\n",
              "    </tr>\n",
              "    <tr>\n",
              "      <th>201195</th>\n",
              "      <td>450131</td>\n",
              "      <td>6251995937</td>\n",
              "      <td>196</td>\n",
              "      <td>0</td>\n",
              "      <td>0</td>\n",
              "      <td>0.06873</td>\n",
              "      <td>0.011930</td>\n",
              "      <td>0.000115</td>\n",
              "      <td>0</td>\n",
              "    </tr>\n",
              "    <tr>\n",
              "      <th>201196</th>\n",
              "      <td>450134</td>\n",
              "      <td>4392480606</td>\n",
              "      <td>180</td>\n",
              "      <td>2</td>\n",
              "      <td>0</td>\n",
              "      <td>0.06250</td>\n",
              "      <td>0.063350</td>\n",
              "      <td>0.000077</td>\n",
              "      <td>0</td>\n",
              "    </tr>\n",
              "    <tr>\n",
              "      <th>201197</th>\n",
              "      <td>450137</td>\n",
              "      <td>5285926325</td>\n",
              "      <td>0</td>\n",
              "      <td>0</td>\n",
              "      <td>9</td>\n",
              "      <td>0.06250</td>\n",
              "      <td>0.006218</td>\n",
              "      <td>0.000038</td>\n",
              "      <td>1</td>\n",
              "    </tr>\n",
              "    <tr>\n",
              "      <th>201198</th>\n",
              "      <td>450142</td>\n",
              "      <td>6183750753</td>\n",
              "      <td>60</td>\n",
              "      <td>1</td>\n",
              "      <td>0</td>\n",
              "      <td>0.12500</td>\n",
              "      <td>0.033390</td>\n",
              "      <td>0.000019</td>\n",
              "      <td>0</td>\n",
              "    </tr>\n",
              "    <tr>\n",
              "      <th>201199</th>\n",
              "      <td>450145</td>\n",
              "      <td>515042969</td>\n",
              "      <td>26</td>\n",
              "      <td>2</td>\n",
              "      <td>0</td>\n",
              "      <td>0.01562</td>\n",
              "      <td>0.015530</td>\n",
              "      <td>0.000215</td>\n",
              "      <td>0</td>\n",
              "    </tr>\n",
              "  </tbody>\n",
              "</table>\n",
              "<p>201200 rows × 9 columns</p>\n",
              "</div>"
            ],
            "text/plain": [
              "        Unnamed: 0      job_id  task_idx  ...  mem_requested      disk  violation\n",
              "0                2     3418314         0  ...       0.074460  0.000424          0\n",
              "1                3     3418314         1  ...       0.074460  0.000424          0\n",
              "2               45     3418368         0  ...       0.086910  0.000455          0\n",
              "3               46     3418368         1  ...       0.086910  0.000455          0\n",
              "4               47     3418368         2  ...       0.086910  0.000455          0\n",
              "...            ...         ...       ...  ...            ...       ...        ...\n",
              "201195      450131  6251995937       196  ...       0.011930  0.000115          0\n",
              "201196      450134  4392480606       180  ...       0.063350  0.000077          0\n",
              "201197      450137  5285926325         0  ...       0.006218  0.000038          1\n",
              "201198      450142  6183750753        60  ...       0.033390  0.000019          0\n",
              "201199      450145   515042969        26  ...       0.015530  0.000215          0\n",
              "\n",
              "[201200 rows x 9 columns]"
            ]
          },
          "metadata": {
            "tags": []
          },
          "execution_count": 20
        }
      ]
    },
    {
      "cell_type": "markdown",
      "metadata": {
        "id": "4tK7OuzSbq5x",
        "colab_type": "text"
      },
      "source": [
        "Column description:\n",
        "* `job_id`: users submit jobs, i.e., a set of tasks\n",
        "* `task_idx`: the index of a task within a job. A task is uniquely identified by `(job_id, task_idx)`\n",
        "* `sched_cls`: From [Re11]: \"3 representing a more latency-sensitive task (e.g., serving revenue-generating user requests) and 0 representing a non-production task (e.g., development, non-business-critical analyses, etc.)... more latency-sensitive tasks tend to have higher task priorities\"\n",
        "* `priority`\n",
        "* `cpu_requested`: Maximum amount of CPU the task is permitted to use. \n",
        "  * Unit of measurement: core-count / second.\n",
        "  * The scale is relateive to the CPU available in the most powerful machine of the cluster.\n",
        "  * This is specified by the user at submission time\n",
        "* `mem_requested`: Maximum amount of memory the task is permitted to use. \n",
        "  * Unit of measurement: GB\n",
        "  * The scale is relateive to the memory available in the machine of the cluster with the largest memory.\n",
        "  * This is specified by the user at submission time\n",
        "* `disk`: Similarly to `mem_requested`"
      ]
    },
    {
      "cell_type": "markdown",
      "metadata": {
        "id": "kzn8ZKz3hFR6",
        "colab_type": "text"
      },
      "source": [
        "Let's partition the dataset in training and test dataset"
      ]
    },
    {
      "cell_type": "code",
      "metadata": {
        "id": "d6mFPOxQhJeC",
        "colab_type": "code",
        "colab": {}
      },
      "source": [
        "X = df.drop(labels='violation', axis=1)\n",
        "y = df['violation']\n",
        "\n",
        "X_train, X_test, y_train, y_test = train_test_split(X,y, test_size=0.3, \n",
        "                                        shuffle=True, random_state=4)"
      ],
      "execution_count": 0,
      "outputs": []
    },
    {
      "cell_type": "markdown",
      "metadata": {
        "id": "vURrRYS_itCy",
        "colab_type": "text"
      },
      "source": [
        "Check for class imbalance and correct for it"
      ]
    },
    {
      "cell_type": "code",
      "metadata": {
        "id": "85bp3E7virt5",
        "colab_type": "code",
        "colab": {
          "base_uri": "https://localhost:8080/",
          "height": 110
        },
        "outputId": "e59e27ba-b4a9-4e95-c878-bce0d589b64b"
      },
      "source": [
        "print( \"Samples per class before SMOTE: \", Counter(y_train) )\n",
        "\n",
        "smote = SMOTE()\n",
        "X_train, y_train = smote.fit_sample(X_train, y_train)\n",
        "\n",
        "print( \"Samples per class after SMOTE: \", Counter(y_train) )"
      ],
      "execution_count": 22,
      "outputs": [
        {
          "output_type": "stream",
          "text": [
            "Samples per class before SMOTE:  Counter({0: 129445, 1: 11395})\n"
          ],
          "name": "stdout"
        },
        {
          "output_type": "stream",
          "text": [
            "/usr/local/lib/python3.6/dist-packages/sklearn/utils/deprecation.py:87: FutureWarning: Function safe_indexing is deprecated; safe_indexing is deprecated in version 0.22 and will be removed in version 0.24.\n",
            "  warnings.warn(msg, category=FutureWarning)\n"
          ],
          "name": "stderr"
        },
        {
          "output_type": "stream",
          "text": [
            "Samples per class after SMOTE:  Counter({0: 129445, 1: 129445})\n"
          ],
          "name": "stdout"
        }
      ]
    },
    {
      "cell_type": "markdown",
      "metadata": {
        "id": "nKdysedgj3UP",
        "colab_type": "text"
      },
      "source": [
        "# Training a random forest"
      ]
    },
    {
      "cell_type": "code",
      "metadata": {
        "id": "JvkIIF5ej7VY",
        "colab_type": "code",
        "colab": {}
      },
      "source": [
        ""
      ],
      "execution_count": 0,
      "outputs": []
    },
    {
      "cell_type": "markdown",
      "metadata": {
        "id": "H5Q4gXPxUrpm",
        "colab_type": "text"
      },
      "source": [
        "# References\n",
        "\n",
        "[He16] Hemmat, R. A., & Hafid, A. (2016). SLA Violation Prediction In Cloud Computing: A Machine Learning Perspective. Retrieved from http://arxiv.org/abs/1611.10338\n",
        "\n",
        "[Re11] Reiss, C., Wilkes, J., & Hellerstein, J. (2011). Google cluster-usage traces: format+ schema. Google Inc., …, 1–14. https://doi.org/10.1007/978-3-540-69057-3_88"
      ]
    },
    {
      "cell_type": "code",
      "metadata": {
        "id": "Kv0iv_ilU_7N",
        "colab_type": "code",
        "colab": {}
      },
      "source": [
        ""
      ],
      "execution_count": 0,
      "outputs": []
    }
  ]
}