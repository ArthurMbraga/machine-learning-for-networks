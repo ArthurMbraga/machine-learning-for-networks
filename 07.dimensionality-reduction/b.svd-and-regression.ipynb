{
  "nbformat": 4,
  "nbformat_minor": 0,
  "metadata": {
    "colab": {
      "name": "b.svd-and-regression.ipynb",
      "provenance": []
    },
    "kernelspec": {
      "display_name": "Python 3",
      "language": "python",
      "name": "python3"
    },
    "language_info": {
      "codemirror_mode": {
        "name": "ipython",
        "version": 3
      },
      "file_extension": ".py",
      "mimetype": "text/x-python",
      "name": "python",
      "nbconvert_exporter": "python",
      "pygments_lexer": "ipython3",
      "version": "3.6.8"
    }
  },
  "cells": [
    {
      "cell_type": "markdown",
      "metadata": {
        "id": "Y_R5L20uZad9"
      },
      "source": [
        "[![Open In Colab](https://colab.research.google.com/assets/colab-badge.svg)](https://colab.research.google.com/github/andreaaraldo/machine-learning-for-networks/blob/master/07.dimensionality-reduction/b.svd-and-regression.ipynb)"
      ]
    },
    {
      "cell_type": "markdown",
      "metadata": {
        "id": "y10wTQGHDt8-"
      },
      "source": [
        "# SINGULAR VALUE DECOMPOSITION AND REGRESSION"
      ]
    },
    {
      "cell_type": "markdown",
      "metadata": {
        "id": "C6Qp5ECeCuAI"
      },
      "source": [
        "We will here explain how Singular Value Decomposition can be used as a pre-processing step for supervised learning tasks."
      ]
    },
    {
      "cell_type": "code",
      "metadata": {
        "id": "TRNYr5HIZadw",
        "colab": {
          "base_uri": "https://localhost:8080/"
        },
        "outputId": "fbcca71e-de40-4a88-a697-e21019c8dd25"
      },
      "source": [
        "import numpy as np\n",
        "import pandas as pd # For dataframes (tables)\n",
        "from sklearn.preprocessing import StandardScaler\n",
        "from sklearn.model_selection import train_test_split\n",
        "from sklearn.metrics import mean_squared_error\n",
        "import math\n",
        "import matplotlib.pyplot as plt\n",
        "\n",
        "!pip install category_encoders\n",
        "import category_encoders as ce\n",
        "\n",
        "## Download the code I prepared for you\n",
        "!wget https://raw.githubusercontent.com/andreaaraldo/machine-learning-for-networks/master/course_library/andrea_models.py\n",
        "!wget https://raw.githubusercontent.com/andreaaraldo/machine-learning-for-networks/master/course_library/feature_engineering.py\n",
        "\n",
        "from andrea_models import AndreaLinearRegression # In the course library"
      ],
      "execution_count": 1,
      "outputs": [
        {
          "output_type": "stream",
          "name": "stdout",
          "text": [
            "Looking in indexes: https://pypi.org/simple, https://us-python.pkg.dev/colab-wheels/public/simple/\n",
            "Collecting category_encoders\n",
            "  Downloading category_encoders-2.6.0-py2.py3-none-any.whl (81 kB)\n",
            "\u001b[2K     \u001b[90m━━━━━━━━━━━━━━━━━━━━━━━━━━━━━━━━━━━━━━━\u001b[0m \u001b[32m81.2/81.2 KB\u001b[0m \u001b[31m877.3 kB/s\u001b[0m eta \u001b[36m0:00:00\u001b[0m\n",
            "\u001b[?25hRequirement already satisfied: scipy>=1.0.0 in /usr/local/lib/python3.8/dist-packages (from category_encoders) (1.7.3)\n",
            "Requirement already satisfied: scikit-learn>=0.20.0 in /usr/local/lib/python3.8/dist-packages (from category_encoders) (1.0.2)\n",
            "Requirement already satisfied: patsy>=0.5.1 in /usr/local/lib/python3.8/dist-packages (from category_encoders) (0.5.3)\n",
            "Requirement already satisfied: numpy>=1.14.0 in /usr/local/lib/python3.8/dist-packages (from category_encoders) (1.21.6)\n",
            "Requirement already satisfied: pandas>=1.0.5 in /usr/local/lib/python3.8/dist-packages (from category_encoders) (1.3.5)\n",
            "Requirement already satisfied: statsmodels>=0.9.0 in /usr/local/lib/python3.8/dist-packages (from category_encoders) (0.12.2)\n",
            "Requirement already satisfied: python-dateutil>=2.7.3 in /usr/local/lib/python3.8/dist-packages (from pandas>=1.0.5->category_encoders) (2.8.2)\n",
            "Requirement already satisfied: pytz>=2017.3 in /usr/local/lib/python3.8/dist-packages (from pandas>=1.0.5->category_encoders) (2022.7.1)\n",
            "Requirement already satisfied: six in /usr/local/lib/python3.8/dist-packages (from patsy>=0.5.1->category_encoders) (1.15.0)\n",
            "Requirement already satisfied: threadpoolctl>=2.0.0 in /usr/local/lib/python3.8/dist-packages (from scikit-learn>=0.20.0->category_encoders) (3.1.0)\n",
            "Requirement already satisfied: joblib>=0.11 in /usr/local/lib/python3.8/dist-packages (from scikit-learn>=0.20.0->category_encoders) (1.2.0)\n",
            "Installing collected packages: category_encoders\n",
            "Successfully installed category_encoders-2.6.0\n",
            "--2023-02-06 10:38:38--  https://raw.githubusercontent.com/andreaaraldo/machine-learning-for-networks/master/course_library/andrea_models.py\n",
            "Resolving raw.githubusercontent.com (raw.githubusercontent.com)... 185.199.111.133, 185.199.108.133, 185.199.109.133, ...\n",
            "Connecting to raw.githubusercontent.com (raw.githubusercontent.com)|185.199.111.133|:443... connected.\n",
            "HTTP request sent, awaiting response... 200 OK\n",
            "Length: 3190 (3.1K) [text/plain]\n",
            "Saving to: ‘andrea_models.py’\n",
            "\n",
            "andrea_models.py    100%[===================>]   3.12K  --.-KB/s    in 0s      \n",
            "\n",
            "2023-02-06 10:38:39 (44.1 MB/s) - ‘andrea_models.py’ saved [3190/3190]\n",
            "\n",
            "--2023-02-06 10:38:39--  https://raw.githubusercontent.com/andreaaraldo/machine-learning-for-networks/master/course_library/feature_engineering.py\n",
            "Resolving raw.githubusercontent.com (raw.githubusercontent.com)... 185.199.110.133, 185.199.109.133, 185.199.111.133, ...\n",
            "Connecting to raw.githubusercontent.com (raw.githubusercontent.com)|185.199.110.133|:443... connected.\n",
            "HTTP request sent, awaiting response... 200 OK\n",
            "Length: 2206 (2.2K) [text/plain]\n",
            "Saving to: ‘feature_engineering.py’\n",
            "\n",
            "feature_engineering 100%[===================>]   2.15K  --.-KB/s    in 0s      \n",
            "\n",
            "2023-02-06 10:38:39 (19.2 MB/s) - ‘feature_engineering.py’ saved [2206/2206]\n",
            "\n"
          ]
        }
      ]
    },
    {
      "cell_type": "markdown",
      "metadata": {
        "id": "O6mij0N0RUx8"
      },
      "source": [
        "# Usual preprocessing\n",
        "No need to read it carefully"
      ]
    },
    {
      "cell_type": "code",
      "metadata": {
        "id": "ur2YR7XIZaeD",
        "colab": {
          "base_uri": "https://localhost:8080/"
        },
        "outputId": "5c703aba-71ce-4c86-8a7e-561344dc9759"
      },
      "source": [
        "dataset_to_use = 'A'\n",
        "mydatasets_folder = \"https://raw.githubusercontent.com/andreaaraldo/machine-learning-for-networks/master/processed_datasets/requet/\"\n",
        "filename = \"df.\"+ dataset_to_use+\"_2.csv\"\n",
        "complete_name = mydatasets_folder+filename\n",
        "!wget $complete_name"
      ],
      "execution_count": 2,
      "outputs": [
        {
          "output_type": "stream",
          "name": "stdout",
          "text": [
            "--2023-02-06 10:38:41--  https://raw.githubusercontent.com/andreaaraldo/machine-learning-for-networks/master/processed_datasets/requet/df.A_2.csv\n",
            "Resolving raw.githubusercontent.com (raw.githubusercontent.com)... 185.199.108.133, 185.199.109.133, 185.199.110.133, ...\n",
            "Connecting to raw.githubusercontent.com (raw.githubusercontent.com)|185.199.108.133|:443... connected.\n",
            "HTTP request sent, awaiting response... 200 OK\n",
            "Length: 315832 (308K) [text/plain]\n",
            "Saving to: ‘df.A_2.csv’\n",
            "\n",
            "df.A_2.csv          100%[===================>] 308.43K  --.-KB/s    in 0.04s   \n",
            "\n",
            "2023-02-06 10:38:41 (7.11 MB/s) - ‘df.A_2.csv’ saved [315832/315832]\n",
            "\n"
          ]
        }
      ]
    },
    {
      "cell_type": "code",
      "metadata": {
        "id": "HDETEnsOZaeM",
        "scrolled": true,
        "colab": {
          "base_uri": "https://localhost:8080/",
          "height": 299
        },
        "outputId": "72d6a2f6-c310-4801-8f07-3862cdcc7264"
      },
      "source": [
        "df = pd.read_csv(complete_name)\n",
        "df.head()"
      ],
      "execution_count": 3,
      "outputs": [
        {
          "output_type": "execute_result",
          "data": {
            "text/plain": [
              "   RelativeTime  PacketsSent  PacketsReceived  BytesSent  BytesReceived  \\\n",
              "0           6.1           29               57       2372          79344   \n",
              "1           5.8            7               39        625          52973   \n",
              "2           7.3           16               23       1056          34178   \n",
              "3          39.2           14               29       3377          36821   \n",
              "4           4.6            9               77        900         104389   \n",
              "\n",
              "           IPSrc0           IPDst0 Protocol0  PacketsSent0  PacketsReceived0  \\\n",
              "0   192.168.1.190    173.194.55.23      QUIC            29                57   \n",
              "1   192.168.1.190   74.125.155.199      QUIC             4                36   \n",
              "2   192.168.1.190   74.125.155.201       TCP            16                23   \n",
              "3   192.168.1.190   172.217.135.40         0             0                 0   \n",
              "4   192.168.1.190  173.194.184.103      QUIC             9                77   \n",
              "\n",
              "   ...  BufferValid  KBytesReceived  label label_num KBytesReceived_log  \\\n",
              "0  ...         True          79.344  q480p       480           4.373793   \n",
              "1  ...         True          52.973  q360p       360           3.969782   \n",
              "2  ...         True          34.178  q720p       720           3.531582   \n",
              "3  ...         True          36.821  q144p       144           3.606068   \n",
              "4  ...         True         104.389  q360p       360           4.648124   \n",
              "\n",
              "   PacketsSent_log  PacketsReceived_log  BytesSent_log  BytesReceived_log  \\\n",
              "0         3.401197             4.060443       7.771910          11.281561   \n",
              "1         2.079442             3.688879       6.439350          10.877557   \n",
              "2         2.833213             3.178054       6.963190          10.439367   \n",
              "3         2.708050             3.401197       8.125039          10.513851   \n",
              "4         2.302585             4.356709       6.803505          11.555889   \n",
              "\n",
              "  BufferProgress_log  \n",
              "0           0.005164  \n",
              "1           0.004833  \n",
              "2           0.005473  \n",
              "3           0.009268  \n",
              "4           0.006599  \n",
              "\n",
              "[5 rows x 207 columns]"
            ],
            "text/html": [
              "\n",
              "  <div id=\"df-3ae23526-9e69-445c-82e4-9ef62bd81dcc\">\n",
              "    <div class=\"colab-df-container\">\n",
              "      <div>\n",
              "<style scoped>\n",
              "    .dataframe tbody tr th:only-of-type {\n",
              "        vertical-align: middle;\n",
              "    }\n",
              "\n",
              "    .dataframe tbody tr th {\n",
              "        vertical-align: top;\n",
              "    }\n",
              "\n",
              "    .dataframe thead th {\n",
              "        text-align: right;\n",
              "    }\n",
              "</style>\n",
              "<table border=\"1\" class=\"dataframe\">\n",
              "  <thead>\n",
              "    <tr style=\"text-align: right;\">\n",
              "      <th></th>\n",
              "      <th>RelativeTime</th>\n",
              "      <th>PacketsSent</th>\n",
              "      <th>PacketsReceived</th>\n",
              "      <th>BytesSent</th>\n",
              "      <th>BytesReceived</th>\n",
              "      <th>IPSrc0</th>\n",
              "      <th>IPDst0</th>\n",
              "      <th>Protocol0</th>\n",
              "      <th>PacketsSent0</th>\n",
              "      <th>PacketsReceived0</th>\n",
              "      <th>...</th>\n",
              "      <th>BufferValid</th>\n",
              "      <th>KBytesReceived</th>\n",
              "      <th>label</th>\n",
              "      <th>label_num</th>\n",
              "      <th>KBytesReceived_log</th>\n",
              "      <th>PacketsSent_log</th>\n",
              "      <th>PacketsReceived_log</th>\n",
              "      <th>BytesSent_log</th>\n",
              "      <th>BytesReceived_log</th>\n",
              "      <th>BufferProgress_log</th>\n",
              "    </tr>\n",
              "  </thead>\n",
              "  <tbody>\n",
              "    <tr>\n",
              "      <th>0</th>\n",
              "      <td>6.1</td>\n",
              "      <td>29</td>\n",
              "      <td>57</td>\n",
              "      <td>2372</td>\n",
              "      <td>79344</td>\n",
              "      <td>192.168.1.190</td>\n",
              "      <td>173.194.55.23</td>\n",
              "      <td>QUIC</td>\n",
              "      <td>29</td>\n",
              "      <td>57</td>\n",
              "      <td>...</td>\n",
              "      <td>True</td>\n",
              "      <td>79.344</td>\n",
              "      <td>q480p</td>\n",
              "      <td>480</td>\n",
              "      <td>4.373793</td>\n",
              "      <td>3.401197</td>\n",
              "      <td>4.060443</td>\n",
              "      <td>7.771910</td>\n",
              "      <td>11.281561</td>\n",
              "      <td>0.005164</td>\n",
              "    </tr>\n",
              "    <tr>\n",
              "      <th>1</th>\n",
              "      <td>5.8</td>\n",
              "      <td>7</td>\n",
              "      <td>39</td>\n",
              "      <td>625</td>\n",
              "      <td>52973</td>\n",
              "      <td>192.168.1.190</td>\n",
              "      <td>74.125.155.199</td>\n",
              "      <td>QUIC</td>\n",
              "      <td>4</td>\n",
              "      <td>36</td>\n",
              "      <td>...</td>\n",
              "      <td>True</td>\n",
              "      <td>52.973</td>\n",
              "      <td>q360p</td>\n",
              "      <td>360</td>\n",
              "      <td>3.969782</td>\n",
              "      <td>2.079442</td>\n",
              "      <td>3.688879</td>\n",
              "      <td>6.439350</td>\n",
              "      <td>10.877557</td>\n",
              "      <td>0.004833</td>\n",
              "    </tr>\n",
              "    <tr>\n",
              "      <th>2</th>\n",
              "      <td>7.3</td>\n",
              "      <td>16</td>\n",
              "      <td>23</td>\n",
              "      <td>1056</td>\n",
              "      <td>34178</td>\n",
              "      <td>192.168.1.190</td>\n",
              "      <td>74.125.155.201</td>\n",
              "      <td>TCP</td>\n",
              "      <td>16</td>\n",
              "      <td>23</td>\n",
              "      <td>...</td>\n",
              "      <td>True</td>\n",
              "      <td>34.178</td>\n",
              "      <td>q720p</td>\n",
              "      <td>720</td>\n",
              "      <td>3.531582</td>\n",
              "      <td>2.833213</td>\n",
              "      <td>3.178054</td>\n",
              "      <td>6.963190</td>\n",
              "      <td>10.439367</td>\n",
              "      <td>0.005473</td>\n",
              "    </tr>\n",
              "    <tr>\n",
              "      <th>3</th>\n",
              "      <td>39.2</td>\n",
              "      <td>14</td>\n",
              "      <td>29</td>\n",
              "      <td>3377</td>\n",
              "      <td>36821</td>\n",
              "      <td>192.168.1.190</td>\n",
              "      <td>172.217.135.40</td>\n",
              "      <td>0</td>\n",
              "      <td>0</td>\n",
              "      <td>0</td>\n",
              "      <td>...</td>\n",
              "      <td>True</td>\n",
              "      <td>36.821</td>\n",
              "      <td>q144p</td>\n",
              "      <td>144</td>\n",
              "      <td>3.606068</td>\n",
              "      <td>2.708050</td>\n",
              "      <td>3.401197</td>\n",
              "      <td>8.125039</td>\n",
              "      <td>10.513851</td>\n",
              "      <td>0.009268</td>\n",
              "    </tr>\n",
              "    <tr>\n",
              "      <th>4</th>\n",
              "      <td>4.6</td>\n",
              "      <td>9</td>\n",
              "      <td>77</td>\n",
              "      <td>900</td>\n",
              "      <td>104389</td>\n",
              "      <td>192.168.1.190</td>\n",
              "      <td>173.194.184.103</td>\n",
              "      <td>QUIC</td>\n",
              "      <td>9</td>\n",
              "      <td>77</td>\n",
              "      <td>...</td>\n",
              "      <td>True</td>\n",
              "      <td>104.389</td>\n",
              "      <td>q360p</td>\n",
              "      <td>360</td>\n",
              "      <td>4.648124</td>\n",
              "      <td>2.302585</td>\n",
              "      <td>4.356709</td>\n",
              "      <td>6.803505</td>\n",
              "      <td>11.555889</td>\n",
              "      <td>0.006599</td>\n",
              "    </tr>\n",
              "  </tbody>\n",
              "</table>\n",
              "<p>5 rows × 207 columns</p>\n",
              "</div>\n",
              "      <button class=\"colab-df-convert\" onclick=\"convertToInteractive('df-3ae23526-9e69-445c-82e4-9ef62bd81dcc')\"\n",
              "              title=\"Convert this dataframe to an interactive table.\"\n",
              "              style=\"display:none;\">\n",
              "        \n",
              "  <svg xmlns=\"http://www.w3.org/2000/svg\" height=\"24px\"viewBox=\"0 0 24 24\"\n",
              "       width=\"24px\">\n",
              "    <path d=\"M0 0h24v24H0V0z\" fill=\"none\"/>\n",
              "    <path d=\"M18.56 5.44l.94 2.06.94-2.06 2.06-.94-2.06-.94-.94-2.06-.94 2.06-2.06.94zm-11 1L8.5 8.5l.94-2.06 2.06-.94-2.06-.94L8.5 2.5l-.94 2.06-2.06.94zm10 10l.94 2.06.94-2.06 2.06-.94-2.06-.94-.94-2.06-.94 2.06-2.06.94z\"/><path d=\"M17.41 7.96l-1.37-1.37c-.4-.4-.92-.59-1.43-.59-.52 0-1.04.2-1.43.59L10.3 9.45l-7.72 7.72c-.78.78-.78 2.05 0 2.83L4 21.41c.39.39.9.59 1.41.59.51 0 1.02-.2 1.41-.59l7.78-7.78 2.81-2.81c.8-.78.8-2.07 0-2.86zM5.41 20L4 18.59l7.72-7.72 1.47 1.35L5.41 20z\"/>\n",
              "  </svg>\n",
              "      </button>\n",
              "      \n",
              "  <style>\n",
              "    .colab-df-container {\n",
              "      display:flex;\n",
              "      flex-wrap:wrap;\n",
              "      gap: 12px;\n",
              "    }\n",
              "\n",
              "    .colab-df-convert {\n",
              "      background-color: #E8F0FE;\n",
              "      border: none;\n",
              "      border-radius: 50%;\n",
              "      cursor: pointer;\n",
              "      display: none;\n",
              "      fill: #1967D2;\n",
              "      height: 32px;\n",
              "      padding: 0 0 0 0;\n",
              "      width: 32px;\n",
              "    }\n",
              "\n",
              "    .colab-df-convert:hover {\n",
              "      background-color: #E2EBFA;\n",
              "      box-shadow: 0px 1px 2px rgba(60, 64, 67, 0.3), 0px 1px 3px 1px rgba(60, 64, 67, 0.15);\n",
              "      fill: #174EA6;\n",
              "    }\n",
              "\n",
              "    [theme=dark] .colab-df-convert {\n",
              "      background-color: #3B4455;\n",
              "      fill: #D2E3FC;\n",
              "    }\n",
              "\n",
              "    [theme=dark] .colab-df-convert:hover {\n",
              "      background-color: #434B5C;\n",
              "      box-shadow: 0px 1px 3px 1px rgba(0, 0, 0, 0.15);\n",
              "      filter: drop-shadow(0px 1px 2px rgba(0, 0, 0, 0.3));\n",
              "      fill: #FFFFFF;\n",
              "    }\n",
              "  </style>\n",
              "\n",
              "      <script>\n",
              "        const buttonEl =\n",
              "          document.querySelector('#df-3ae23526-9e69-445c-82e4-9ef62bd81dcc button.colab-df-convert');\n",
              "        buttonEl.style.display =\n",
              "          google.colab.kernel.accessAllowed ? 'block' : 'none';\n",
              "\n",
              "        async function convertToInteractive(key) {\n",
              "          const element = document.querySelector('#df-3ae23526-9e69-445c-82e4-9ef62bd81dcc');\n",
              "          const dataTable =\n",
              "            await google.colab.kernel.invokeFunction('convertToInteractive',\n",
              "                                                     [key], {});\n",
              "          if (!dataTable) return;\n",
              "\n",
              "          const docLinkHtml = 'Like what you see? Visit the ' +\n",
              "            '<a target=\"_blank\" href=https://colab.research.google.com/notebooks/data_table.ipynb>data table notebook</a>'\n",
              "            + ' to learn more about interactive tables.';\n",
              "          element.innerHTML = '';\n",
              "          dataTable['output_type'] = 'display_data';\n",
              "          await google.colab.output.renderOutput(dataTable, element);\n",
              "          const docLink = document.createElement('div');\n",
              "          docLink.innerHTML = docLinkHtml;\n",
              "          element.appendChild(docLink);\n",
              "        }\n",
              "      </script>\n",
              "    </div>\n",
              "  </div>\n",
              "  "
            ]
          },
          "metadata": {},
          "execution_count": 3
        }
      ]
    },
    {
      "cell_type": "markdown",
      "metadata": {
        "id": "M-JQdh1jxEgW"
      },
      "source": [
        "Remove the columns that are redundant or  that we cannot observe in a real network or we think are superflous."
      ]
    },
    {
      "cell_type": "code",
      "metadata": {
        "id": "mSVlTJdIsyWz",
        "colab": {
          "base_uri": "https://localhost:8080/"
        },
        "outputId": "ccb47d9e-bce4-4d9b-b2c9-199a274febc1"
      },
      "source": [
        "cols_to_remove = list([\"label\", \"EpochTime\", \"StartTime\", \"KBytesReceived\"])\n",
        "columns_we_cannot_observe = list([\"Buffering\", \"Paused\", \"Playing\", \"CollectData\",\n",
        "              \"PlaybackProgress\", \"Length\", \"BufferHealth\", \"BufferProgress\", \n",
        "              \"BufferValid\"])\n",
        "log_transformed_cols = list(df.columns[df.columns.str.contains('_log')] )\n",
        "ip_address_cols  = list( df.columns[df.columns.str.contains('IP')] )\n",
        "cols_to_remove += columns_we_cannot_observe\n",
        "cols_to_remove += log_transformed_cols\n",
        "cols_to_remove += ip_address_cols\n",
        "print(\"Removing the following columns: \", cols_to_remove)\n",
        "\n",
        "df = df.drop(cols_to_remove, axis=1)\n"
      ],
      "execution_count": 4,
      "outputs": [
        {
          "output_type": "stream",
          "name": "stdout",
          "text": [
            "Removing the following columns:  ['label', 'EpochTime', 'StartTime', 'KBytesReceived', 'Buffering', 'Paused', 'Playing', 'CollectData', 'PlaybackProgress', 'Length', 'BufferHealth', 'BufferProgress', 'BufferValid', 'KBytesReceived_log', 'PacketsSent_log', 'PacketsReceived_log', 'BytesSent_log', 'BytesReceived_log', 'BufferProgress_log', 'IPSrc0', 'IPDst0', 'IPSrc1', 'IPDst1', 'IPSrc2', 'IPDst2', 'IPSrc3', 'IPDst3', 'IPSrc4', 'IPDst4', 'IPSrc5', 'IPDst5', 'IPSrc6', 'IPDst6', 'IPSrc7', 'IPDst7', 'IPSrc8', 'IPDst8', 'IPSrc9', 'IPDst9', 'IPSrc10', 'IPDst10', 'IPSrc11', 'IPDst11', 'IPSrc12', 'IPDst12', 'IPSrc13', 'IPDst13', 'IPSrc14', 'IPDst14', 'IPSrc15', 'IPDst15', 'IPSrc16', 'IPDst16', 'IPSrc17', 'IPDst17', 'IPSrc18', 'IPDst18', 'IPSrc19', 'IPDst19', 'IPSrc20', 'IPDst20', 'IPSrc21', 'IPDst21', 'IPSrc22', 'IPDst22', 'IPSrc23', 'IPDst23', 'IPSrc24', 'IPDst24', 'IPSrc25', 'IPDst25']\n"
          ]
        }
      ]
    },
    {
      "cell_type": "markdown",
      "metadata": {
        "id": "wPLl9Fz83GvT"
      },
      "source": [
        "One-hot encode all the columns relative to protocol"
      ]
    },
    {
      "cell_type": "code",
      "metadata": {
        "id": "Xn2a5j2Z3Mge",
        "colab": {
          "base_uri": "https://localhost:8080/",
          "height": 424
        },
        "outputId": "aafa0230-ff50-4a99-e215-1858bbb44105"
      },
      "source": [
        "protocol_columns =  df.columns[df.columns.str.contains('Protocol')]\n",
        "print(\"The columns concerning protocols are \", protocol_columns)\n",
        "\n",
        "encoder = ce.OneHotEncoder(cols=protocol_columns, use_cat_names=True)\n",
        "df = encoder.fit_transform(df)\n",
        "df.head()"
      ],
      "execution_count": 5,
      "outputs": [
        {
          "output_type": "stream",
          "name": "stdout",
          "text": [
            "The columns concerning protocols are  Index(['Protocol0', 'Protocol1', 'Protocol2', 'Protocol3', 'Protocol4',\n",
            "       'Protocol5', 'Protocol6', 'Protocol7', 'Protocol8', 'Protocol9',\n",
            "       'Protocol10', 'Protocol11', 'Protocol12', 'Protocol13', 'Protocol14',\n",
            "       'Protocol15', 'Protocol16', 'Protocol17', 'Protocol18', 'Protocol19',\n",
            "       'Protocol20', 'Protocol21', 'Protocol22', 'Protocol23', 'Protocol24',\n",
            "       'Protocol25'],\n",
            "      dtype='object')\n"
          ]
        },
        {
          "output_type": "execute_result",
          "data": {
            "text/plain": [
              "   RelativeTime  PacketsSent  PacketsReceived  BytesSent  BytesReceived  \\\n",
              "0           6.1           29               57       2372          79344   \n",
              "1           5.8            7               39        625          52973   \n",
              "2           7.3           16               23       1056          34178   \n",
              "3          39.2           14               29       3377          36821   \n",
              "4           4.6            9               77        900         104389   \n",
              "\n",
              "   Protocol0_QUIC  Protocol0_TCP  Protocol0_0  Protocol0_TLSv1.2  \\\n",
              "0               1              0            0                  0   \n",
              "1               1              0            0                  0   \n",
              "2               0              1            0                  0   \n",
              "3               0              0            1                  0   \n",
              "4               1              0            0                  0   \n",
              "\n",
              "   Protocol0_UDP  ...  PacketsSent24  PacketsReceived24  BytesSent24  \\\n",
              "0              0  ...              0                  0            0   \n",
              "1              0  ...              0                  0            0   \n",
              "2              0  ...              0                  0            0   \n",
              "3              0  ...              0                  0            0   \n",
              "4              0  ...              0                  0            0   \n",
              "\n",
              "   BytesReceived24  Protocol25_0.0  PacketsSent25  PacketsReceived25  \\\n",
              "0                0               1              0                  0   \n",
              "1                0               1              0                  0   \n",
              "2                0               1              0                  0   \n",
              "3                0               1              0                  0   \n",
              "4                0               1              0                  0   \n",
              "\n",
              "   BytesSent25  BytesReceived25  label_num  \n",
              "0            0                0        480  \n",
              "1            0                0        360  \n",
              "2            0                0        720  \n",
              "3            0                0        144  \n",
              "4            0                0        360  \n",
              "\n",
              "[5 rows x 167 columns]"
            ],
            "text/html": [
              "\n",
              "  <div id=\"df-78d271b0-e831-44fb-a06a-39a98dc13f02\">\n",
              "    <div class=\"colab-df-container\">\n",
              "      <div>\n",
              "<style scoped>\n",
              "    .dataframe tbody tr th:only-of-type {\n",
              "        vertical-align: middle;\n",
              "    }\n",
              "\n",
              "    .dataframe tbody tr th {\n",
              "        vertical-align: top;\n",
              "    }\n",
              "\n",
              "    .dataframe thead th {\n",
              "        text-align: right;\n",
              "    }\n",
              "</style>\n",
              "<table border=\"1\" class=\"dataframe\">\n",
              "  <thead>\n",
              "    <tr style=\"text-align: right;\">\n",
              "      <th></th>\n",
              "      <th>RelativeTime</th>\n",
              "      <th>PacketsSent</th>\n",
              "      <th>PacketsReceived</th>\n",
              "      <th>BytesSent</th>\n",
              "      <th>BytesReceived</th>\n",
              "      <th>Protocol0_QUIC</th>\n",
              "      <th>Protocol0_TCP</th>\n",
              "      <th>Protocol0_0</th>\n",
              "      <th>Protocol0_TLSv1.2</th>\n",
              "      <th>Protocol0_UDP</th>\n",
              "      <th>...</th>\n",
              "      <th>PacketsSent24</th>\n",
              "      <th>PacketsReceived24</th>\n",
              "      <th>BytesSent24</th>\n",
              "      <th>BytesReceived24</th>\n",
              "      <th>Protocol25_0.0</th>\n",
              "      <th>PacketsSent25</th>\n",
              "      <th>PacketsReceived25</th>\n",
              "      <th>BytesSent25</th>\n",
              "      <th>BytesReceived25</th>\n",
              "      <th>label_num</th>\n",
              "    </tr>\n",
              "  </thead>\n",
              "  <tbody>\n",
              "    <tr>\n",
              "      <th>0</th>\n",
              "      <td>6.1</td>\n",
              "      <td>29</td>\n",
              "      <td>57</td>\n",
              "      <td>2372</td>\n",
              "      <td>79344</td>\n",
              "      <td>1</td>\n",
              "      <td>0</td>\n",
              "      <td>0</td>\n",
              "      <td>0</td>\n",
              "      <td>0</td>\n",
              "      <td>...</td>\n",
              "      <td>0</td>\n",
              "      <td>0</td>\n",
              "      <td>0</td>\n",
              "      <td>0</td>\n",
              "      <td>1</td>\n",
              "      <td>0</td>\n",
              "      <td>0</td>\n",
              "      <td>0</td>\n",
              "      <td>0</td>\n",
              "      <td>480</td>\n",
              "    </tr>\n",
              "    <tr>\n",
              "      <th>1</th>\n",
              "      <td>5.8</td>\n",
              "      <td>7</td>\n",
              "      <td>39</td>\n",
              "      <td>625</td>\n",
              "      <td>52973</td>\n",
              "      <td>1</td>\n",
              "      <td>0</td>\n",
              "      <td>0</td>\n",
              "      <td>0</td>\n",
              "      <td>0</td>\n",
              "      <td>...</td>\n",
              "      <td>0</td>\n",
              "      <td>0</td>\n",
              "      <td>0</td>\n",
              "      <td>0</td>\n",
              "      <td>1</td>\n",
              "      <td>0</td>\n",
              "      <td>0</td>\n",
              "      <td>0</td>\n",
              "      <td>0</td>\n",
              "      <td>360</td>\n",
              "    </tr>\n",
              "    <tr>\n",
              "      <th>2</th>\n",
              "      <td>7.3</td>\n",
              "      <td>16</td>\n",
              "      <td>23</td>\n",
              "      <td>1056</td>\n",
              "      <td>34178</td>\n",
              "      <td>0</td>\n",
              "      <td>1</td>\n",
              "      <td>0</td>\n",
              "      <td>0</td>\n",
              "      <td>0</td>\n",
              "      <td>...</td>\n",
              "      <td>0</td>\n",
              "      <td>0</td>\n",
              "      <td>0</td>\n",
              "      <td>0</td>\n",
              "      <td>1</td>\n",
              "      <td>0</td>\n",
              "      <td>0</td>\n",
              "      <td>0</td>\n",
              "      <td>0</td>\n",
              "      <td>720</td>\n",
              "    </tr>\n",
              "    <tr>\n",
              "      <th>3</th>\n",
              "      <td>39.2</td>\n",
              "      <td>14</td>\n",
              "      <td>29</td>\n",
              "      <td>3377</td>\n",
              "      <td>36821</td>\n",
              "      <td>0</td>\n",
              "      <td>0</td>\n",
              "      <td>1</td>\n",
              "      <td>0</td>\n",
              "      <td>0</td>\n",
              "      <td>...</td>\n",
              "      <td>0</td>\n",
              "      <td>0</td>\n",
              "      <td>0</td>\n",
              "      <td>0</td>\n",
              "      <td>1</td>\n",
              "      <td>0</td>\n",
              "      <td>0</td>\n",
              "      <td>0</td>\n",
              "      <td>0</td>\n",
              "      <td>144</td>\n",
              "    </tr>\n",
              "    <tr>\n",
              "      <th>4</th>\n",
              "      <td>4.6</td>\n",
              "      <td>9</td>\n",
              "      <td>77</td>\n",
              "      <td>900</td>\n",
              "      <td>104389</td>\n",
              "      <td>1</td>\n",
              "      <td>0</td>\n",
              "      <td>0</td>\n",
              "      <td>0</td>\n",
              "      <td>0</td>\n",
              "      <td>...</td>\n",
              "      <td>0</td>\n",
              "      <td>0</td>\n",
              "      <td>0</td>\n",
              "      <td>0</td>\n",
              "      <td>1</td>\n",
              "      <td>0</td>\n",
              "      <td>0</td>\n",
              "      <td>0</td>\n",
              "      <td>0</td>\n",
              "      <td>360</td>\n",
              "    </tr>\n",
              "  </tbody>\n",
              "</table>\n",
              "<p>5 rows × 167 columns</p>\n",
              "</div>\n",
              "      <button class=\"colab-df-convert\" onclick=\"convertToInteractive('df-78d271b0-e831-44fb-a06a-39a98dc13f02')\"\n",
              "              title=\"Convert this dataframe to an interactive table.\"\n",
              "              style=\"display:none;\">\n",
              "        \n",
              "  <svg xmlns=\"http://www.w3.org/2000/svg\" height=\"24px\"viewBox=\"0 0 24 24\"\n",
              "       width=\"24px\">\n",
              "    <path d=\"M0 0h24v24H0V0z\" fill=\"none\"/>\n",
              "    <path d=\"M18.56 5.44l.94 2.06.94-2.06 2.06-.94-2.06-.94-.94-2.06-.94 2.06-2.06.94zm-11 1L8.5 8.5l.94-2.06 2.06-.94-2.06-.94L8.5 2.5l-.94 2.06-2.06.94zm10 10l.94 2.06.94-2.06 2.06-.94-2.06-.94-.94-2.06-.94 2.06-2.06.94z\"/><path d=\"M17.41 7.96l-1.37-1.37c-.4-.4-.92-.59-1.43-.59-.52 0-1.04.2-1.43.59L10.3 9.45l-7.72 7.72c-.78.78-.78 2.05 0 2.83L4 21.41c.39.39.9.59 1.41.59.51 0 1.02-.2 1.41-.59l7.78-7.78 2.81-2.81c.8-.78.8-2.07 0-2.86zM5.41 20L4 18.59l7.72-7.72 1.47 1.35L5.41 20z\"/>\n",
              "  </svg>\n",
              "      </button>\n",
              "      \n",
              "  <style>\n",
              "    .colab-df-container {\n",
              "      display:flex;\n",
              "      flex-wrap:wrap;\n",
              "      gap: 12px;\n",
              "    }\n",
              "\n",
              "    .colab-df-convert {\n",
              "      background-color: #E8F0FE;\n",
              "      border: none;\n",
              "      border-radius: 50%;\n",
              "      cursor: pointer;\n",
              "      display: none;\n",
              "      fill: #1967D2;\n",
              "      height: 32px;\n",
              "      padding: 0 0 0 0;\n",
              "      width: 32px;\n",
              "    }\n",
              "\n",
              "    .colab-df-convert:hover {\n",
              "      background-color: #E2EBFA;\n",
              "      box-shadow: 0px 1px 2px rgba(60, 64, 67, 0.3), 0px 1px 3px 1px rgba(60, 64, 67, 0.15);\n",
              "      fill: #174EA6;\n",
              "    }\n",
              "\n",
              "    [theme=dark] .colab-df-convert {\n",
              "      background-color: #3B4455;\n",
              "      fill: #D2E3FC;\n",
              "    }\n",
              "\n",
              "    [theme=dark] .colab-df-convert:hover {\n",
              "      background-color: #434B5C;\n",
              "      box-shadow: 0px 1px 3px 1px rgba(0, 0, 0, 0.15);\n",
              "      filter: drop-shadow(0px 1px 2px rgba(0, 0, 0, 0.3));\n",
              "      fill: #FFFFFF;\n",
              "    }\n",
              "  </style>\n",
              "\n",
              "      <script>\n",
              "        const buttonEl =\n",
              "          document.querySelector('#df-78d271b0-e831-44fb-a06a-39a98dc13f02 button.colab-df-convert');\n",
              "        buttonEl.style.display =\n",
              "          google.colab.kernel.accessAllowed ? 'block' : 'none';\n",
              "\n",
              "        async function convertToInteractive(key) {\n",
              "          const element = document.querySelector('#df-78d271b0-e831-44fb-a06a-39a98dc13f02');\n",
              "          const dataTable =\n",
              "            await google.colab.kernel.invokeFunction('convertToInteractive',\n",
              "                                                     [key], {});\n",
              "          if (!dataTable) return;\n",
              "\n",
              "          const docLinkHtml = 'Like what you see? Visit the ' +\n",
              "            '<a target=\"_blank\" href=https://colab.research.google.com/notebooks/data_table.ipynb>data table notebook</a>'\n",
              "            + ' to learn more about interactive tables.';\n",
              "          element.innerHTML = '';\n",
              "          dataTable['output_type'] = 'display_data';\n",
              "          await google.colab.output.renderOutput(dataTable, element);\n",
              "          const docLink = document.createElement('div');\n",
              "          docLink.innerHTML = docLinkHtml;\n",
              "          element.appendChild(docLink);\n",
              "        }\n",
              "      </script>\n",
              "    </div>\n",
              "  </div>\n",
              "  "
            ]
          },
          "metadata": {},
          "execution_count": 5
        }
      ]
    },
    {
      "cell_type": "markdown",
      "metadata": {
        "id": "8MNGUQXH4YWJ"
      },
      "source": [
        "Note that for the protocols of the least important connections (for instance `Protocol25_0.0`, the protocol of the least important connection), only 0.0 value exists. This means there is no traffic for such connections, for all the samples. In other words, there are no such connections."
      ]
    },
    {
      "cell_type": "code",
      "metadata": {
        "id": "Zst6Gz49Zaey"
      },
      "source": [
        "df_train, df_test = train_test_split(df, test_size=0.3, random_state=19)\n",
        "\n",
        "X_train = df_train.drop(\"label_num\", axis=1)\n",
        "y_train = df_train[\"label_num\"]\n",
        "\n",
        "X_test = df_test.drop(\"label_num\", axis=1)\n",
        "y_test = df_test[\"label_num\"]"
      ],
      "execution_count": 6,
      "outputs": []
    },
    {
      "cell_type": "markdown",
      "metadata": {
        "id": "ateeeFBt6N64"
      },
      "source": [
        "# Linear regression on the original dataset\n",
        "\n",
        "**Task**: Predict the resolution of videos consumed by users based on network information."
      ]
    },
    {
      "cell_type": "code",
      "metadata": {
        "id": "2EqFbJ7A6ZWA",
        "colab": {
          "base_uri": "https://localhost:8080/"
        },
        "outputId": "9329637f-c795-4c77-d8bc-68f5ccb86074"
      },
      "source": [
        "model = AndreaLinearRegression()\n",
        "model.fit(X_train, y_train)\n",
        "y_pred = model.predict(X_test)\n",
        "\n",
        "MSE = mean_squared_error(y_test, y_pred)\n",
        "RMSE = math.sqrt(MSE)\n",
        "RMSE"
      ],
      "execution_count": 7,
      "outputs": [
        {
          "output_type": "stream",
          "name": "stderr",
          "text": [
            "/usr/local/lib/python3.8/dist-packages/statsmodels/tsa/tsatools.py:142: FutureWarning: In a future version of pandas all arguments of concat except for the argument 'objs' will be keyword-only\n",
            "  x = pd.concat(x[::order], 1)\n"
          ]
        },
        {
          "output_type": "execute_result",
          "data": {
            "text/plain": [
              "286943.9842150007"
            ]
          },
          "metadata": {},
          "execution_count": 7
        }
      ]
    },
    {
      "cell_type": "markdown",
      "metadata": {
        "id": "ywssGjBb8IQ8"
      },
      "source": [
        "# Linear regression on the reduced dataset\n",
        "\n",
        "\n",
        "### Hands-on\n",
        "Perform **standard scaling**"
      ]
    },
    {
      "cell_type": "code",
      "metadata": {
        "id": "BxOrsyLw8Kmd"
      },
      "source": [
        "scaler = StandardScaler()\n",
        "X_train_sca = scaler.fit_transform(X_train)"
      ],
      "execution_count": 8,
      "outputs": []
    },
    {
      "cell_type": "markdown",
      "metadata": {
        "id": "FUKFPWhk_4r-"
      },
      "source": [
        "**Perform Singular Value Decomposition** on the features of the scaled training set"
      ]
    },
    {
      "cell_type": "code",
      "metadata": {
        "id": "o27yynoLAARm"
      },
      "source": [
        "U,Sigma,Vt = np.linalg.svd(X_train_sca)"
      ],
      "execution_count": 9,
      "outputs": []
    },
    {
      "cell_type": "markdown",
      "metadata": {
        "id": "TzlArc1Mx8e2"
      },
      "source": [
        "**Decide how many components** you want to keep. To this aim, visualize the variance captured by each component\n"
      ]
    },
    {
      "cell_type": "code",
      "metadata": {
        "id": "n2lMLMOrjSNY",
        "colab": {
          "base_uri": "https://localhost:8080/",
          "height": 436
        },
        "outputId": "47c2bcc7-fe6f-4ba2-b70a-4180399c3e0d"
      },
      "source": [
        "Sigma_squared = np.square(Sigma)\n",
        "total_variance = sum(Sigma_squared)\n",
        "\n",
        "### Plotting\n",
        "fig = plt.figure(figsize=(9,6))\n",
        "plt.plot(range(1,1+len(Sigma_squared)),Sigma_squared/total_variance)\n",
        "plt.xlabel(r'$r$',size=20)\n",
        "plt.ylabel(r'Normalized variance explained',size=20)\n",
        "plt.title(r'Normalized variance explained of X_train',size=20)"
      ],
      "execution_count": 10,
      "outputs": [
        {
          "output_type": "execute_result",
          "data": {
            "text/plain": [
              "Text(0.5, 1.0, 'Normalized variance explained of X_train')"
            ]
          },
          "metadata": {},
          "execution_count": 10
        },
        {
          "output_type": "display_data",
          "data": {
            "text/plain": [
              "<Figure size 648x432 with 1 Axes>"
            ],
            "image/png": "[encoded data removed]"
          },
          "metadata": {
            "needs_background": "light"
          }
        }
      ]
    },
    {
      "cell_type": "markdown",
      "metadata": {
        "id": "E3AEbdVQyUbf"
      },
      "source": [
        "Let us plot the variance we capture when we keep $r$ components"
      ]
    },
    {
      "cell_type": "code",
      "metadata": {
        "id": "pQiyWgyomgUs",
        "colab": {
          "base_uri": "https://localhost:8080/",
          "height": 479
        },
        "outputId": "7e0f25fc-9cad-445e-92f5-68f077be5c30"
      },
      "source": [
        "cumul = [ sum(Sigma_squared[0:i]/total_variance) for i in range(len(Sigma_squared))]\n",
        "\n",
        "### Plotting\n",
        "fig = plt.figure(figsize=(9,6))\n",
        "plt.plot(range(1,1+len(cumul)),cumul)\n",
        "plt.xlabel(r'$r$',size=20)\n",
        "plt.ylabel(r'Cumulative normalized variance explained',size=20)\n",
        "plt.grid(b=True)\n",
        "plt.title(r'Cumulative normalized variance explained of X_train',size=20)"
      ],
      "execution_count": 11,
      "outputs": [
        {
          "output_type": "execute_result",
          "data": {
            "text/plain": [
              "Text(0.5, 1.0, 'Cumulative normalized variance explained of X_train')"
            ]
          },
          "metadata": {},
          "execution_count": 11
        },
        {
          "output_type": "display_data",
          "data": {
            "text/plain": [
              "<Figure size 648x432 with 1 Axes>"
            ],
            "image/png": "[encoded data removed]"
          },
          "metadata": {
            "needs_background": "light"
          }
        }
      ]
    },
    {
      "cell_type": "markdown",
      "metadata": {
        "id": "wR_CPHacodQk"
      },
      "source": [
        "From the plots it is clear we can just keep 50 components."
      ]
    },
    {
      "cell_type": "code",
      "metadata": {
        "id": "9BFETy1RyuDX"
      },
      "source": [
        "r=50"
      ],
      "execution_count": 12,
      "outputs": []
    },
    {
      "cell_type": "markdown",
      "metadata": {
        "id": "3uBw-obuAbP4"
      },
      "source": [
        "**Compute the reduced training set**"
      ]
    },
    {
      "cell_type": "code",
      "metadata": {
        "id": "vsvYK_e4Adzx"
      },
      "source": [
        "V = Vt.T  # We are interested in V (while the Vt given by linalg.svd was \n",
        "          # the transpose of V)\n",
        "V_r = V[:, :r] # Take the first k columns\n",
        "X_train_reduced = X_train_sca.dot(V_r)"
      ],
      "execution_count": 13,
      "outputs": []
    },
    {
      "cell_type": "markdown",
      "metadata": {
        "id": "W-EjOrjvBNRV"
      },
      "source": [
        "**Fit a linear model** on the reduced training set"
      ]
    },
    {
      "cell_type": "code",
      "metadata": {
        "id": "IcGnleBvBQGw",
        "colab": {
          "base_uri": "https://localhost:8080/"
        },
        "outputId": "5609526c-8beb-468b-adfe-631b5215dfc9"
      },
      "source": [
        "model = AndreaLinearRegression()\n",
        "model.fit(X_train_reduced, y_train)\n"
      ],
      "execution_count": 14,
      "outputs": [
        {
          "output_type": "execute_result",
          "data": {
            "text/plain": [
              "AndreaLinearRegression()"
            ]
          },
          "metadata": {},
          "execution_count": 14
        }
      ]
    },
    {
      "cell_type": "markdown",
      "metadata": {
        "id": "w7e1XEF-Bagp"
      },
      "source": [
        "We can now use this model to make prediction on the reduced test set.\n",
        "\n",
        "\n",
        "**Project the test samples onto the reduced vectorial space**"
      ]
    },
    {
      "cell_type": "markdown",
      "metadata": {
        "id": "98mgJTp1z1jd"
      },
      "source": [
        "**Make the prediction** on the reduced samples."
      ]
    },
    {
      "cell_type": "code",
      "metadata": {
        "id": "fLuU34UrBX5c"
      },
      "source": [
        "X_test_sca = scaler.transform(X_test)\n",
        "X_test_reduced = X_test_sca.dot (V_r)"
      ],
      "execution_count": 17,
      "outputs": []
    },
    {
      "cell_type": "code",
      "metadata": {
        "colab": {
          "base_uri": "https://localhost:8080/"
        },
        "id": "ZUQ4wCyAz7qe",
        "outputId": "cf30d77e-cffb-4d2b-c348-f9c4f98c1b3a"
      },
      "source": [
        "y_pred = model.predict(X_test_reduced)\n",
        "\n",
        "MSE = mean_squared_error(y_test, y_pred)\n",
        "RMSE = math.sqrt(MSE)\n",
        "RMSE"
      ],
      "execution_count": 18,
      "outputs": [
        {
          "output_type": "execute_result",
          "data": {
            "text/plain": [
              "453.7876040634693"
            ]
          },
          "metadata": {},
          "execution_count": 18
        }
      ]
    },
    {
      "cell_type": "markdown",
      "metadata": {
        "id": "O2CjPoRYB4HX"
      },
      "source": [
        "Much better!"
      ]
    },
    {
      "cell_type": "code",
      "metadata": {
        "id": "snXpXs979BEO"
      },
      "source": [],
      "execution_count": null,
      "outputs": []
    }
  ]
}