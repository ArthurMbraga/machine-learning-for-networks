{
 "cells": [
  {
   "cell_type": "markdown",
   "metadata": {},
   "source": [
    "Predict `BufferHealth` (seconds ahead in the buffer) only based on network measurements.\n",
    "\n",
    "**Why?**: The operator may decide to allocate more bandwidth to users whose buffer is suffering."
   ]
  },
  {
   "cell_type": "code",
   "execution_count": 100,
   "metadata": {},
   "outputs": [],
   "source": [
    "import pandas as pd # For dataframes (tables)\n",
    "import matplotlib.pyplot as plt # For plots\n",
    "from sklearn.model_selection import train_test_split\n",
    "from sklearn.metrics import mean_squared_error\n",
    "import math # for sqrt\n",
    "import statsmodels.api as sm\n",
    "import numpy as np # For arange\n",
    "from sklearn.preprocessing import PolynomialFeatures\n",
    "\n",
    "\n",
    "# We will use a library that I created for you\n",
    "import os # To import external python files\n",
    "import sys# To import external python files\n",
    "sys.path.insert(0,os.path.abspath('../../course_library') ) # Replace this\n",
    "                                                            # with the correct\n",
    "                                                            # path\n",
    "import feature_engineering                                 \n",
    "from andrea_models import AndreaLinearRegression"
   ]
  },
  {
   "cell_type": "code",
   "execution_count": 84,
   "metadata": {},
   "outputs": [],
   "source": [
    "dataset_to_use = 'B1'\n",
    "mydatasets_folder = \"/home/araldo/datasets\"\n",
    "df = pd.read_csv(mydatasets_folder +'/video-qoe-processed/df.'+\n",
    "                 dataset_to_use+'_2.csv')"
   ]
  },
  {
   "cell_type": "markdown",
   "metadata": {},
   "source": [
    "# Univariate Polynomial Regression"
   ]
  },
  {
   "cell_type": "markdown",
   "metadata": {},
   "source": [
    "Let's check what are the most correlated features to `BufferHealth`."
   ]
  },
  {
   "cell_type": "code",
   "execution_count": 85,
   "metadata": {
    "scrolled": false
   },
   "outputs": [
    {
     "data": {
      "text/plain": [
       "BufferHealth           1.00\n",
       "BufferProgress_log     0.97\n",
       "BufferProgress         0.97\n",
       "BytesReceived0         0.61\n",
       "PacketsReceived        0.61\n",
       "BytesReceived          0.61\n",
       "PacketsReceived0       0.61\n",
       "KBytesReceived         0.61\n",
       "PacketsSent0           0.56\n",
       "PacketsSent            0.53\n",
       "RelativeTime           0.51\n",
       "PacketsReceived5       0.50\n",
       "PacketsReceived_log    0.50\n",
       "BytesReceived5         0.50\n",
       "KBytesReceived_log     0.49\n",
       "BytesReceived_log      0.49\n",
       "BytesSent0             0.49\n",
       "PacketsSent_log        0.45\n",
       "EpochTime             -0.44\n",
       "StartTime             -0.44\n",
       "label_num              0.39\n",
       "BytesSent5             0.37\n",
       "PacketsSent5           0.37\n",
       "BytesSent              0.37\n",
       "BytesSent_log          0.35\n",
       "BytesSent7            -0.28\n",
       "PacketsSent7          -0.22\n",
       "PacketsReceived7      -0.19\n",
       "BytesReceived7        -0.14\n",
       "PacketsSent10         -0.12\n",
       "                       ... \n",
       "IPDst21                 NaN\n",
       "Protocol21              NaN\n",
       "PacketsSent21           NaN\n",
       "PacketsReceived21       NaN\n",
       "BytesSent21             NaN\n",
       "BytesReceived21         NaN\n",
       "IPDst22                 NaN\n",
       "Protocol22              NaN\n",
       "PacketsSent22           NaN\n",
       "PacketsReceived22       NaN\n",
       "BytesSent22             NaN\n",
       "BytesReceived22         NaN\n",
       "IPDst23                 NaN\n",
       "Protocol23              NaN\n",
       "PacketsSent23           NaN\n",
       "PacketsReceived23       NaN\n",
       "BytesSent23             NaN\n",
       "BytesReceived23         NaN\n",
       "IPDst24                 NaN\n",
       "Protocol24              NaN\n",
       "PacketsSent24           NaN\n",
       "PacketsReceived24       NaN\n",
       "BytesSent24             NaN\n",
       "BytesReceived24         NaN\n",
       "Protocol25              NaN\n",
       "Buffering               NaN\n",
       "Paused                  NaN\n",
       "Playing                 NaN\n",
       "CollectData             NaN\n",
       "BufferValid             NaN\n",
       "Name: BufferHealth, Length: 147, dtype: float64"
      ]
     },
     "execution_count": 85,
     "metadata": {},
     "output_type": "execute_result"
    }
   ],
   "source": [
    "feats = feature_engineering.get_features_correlated_to_target(\n",
    "        df, target_feature='BufferHealth'\n",
    "        )\n",
    "feats"
   ]
  },
  {
   "cell_type": "markdown",
   "metadata": {},
   "source": [
    "We can not use `BufferProgress`, as it is not a network-layer measure and the net operator would not have access to the buffer of users.\n",
    "\n",
    "`BytesReceived` is also highly correlated (to have more seconds-ahead, we need to download more)."
   ]
  },
  {
   "cell_type": "code",
   "execution_count": 86,
   "metadata": {
    "scrolled": true
   },
   "outputs": [
    {
     "data": {
      "text/plain": [
       "[Text(0, 0.5, 'BufferHealth'), Text(0.5, 0, 'BytesReceived')]"
      ]
     },
     "execution_count": 86,
     "metadata": {},
     "output_type": "execute_result"
    },
    {
     "data": {
      "image/png": "[encoded data removed]",
      "text/plain": [
       "<Figure size 432x288 with 1 Axes>"
      ]
     },
     "metadata": {
      "needs_background": "light"
     },
     "output_type": "display_data"
    }
   ],
   "source": [
    "feature = 'BytesReceived'\n",
    "fig, ax = plt.subplots() # This creates just a canvas\n",
    "ax.scatter(df[feature],df['BufferHealth'],color='black',\n",
    "           s=2, label='all samples') # ax is the actual figure\n",
    "ax.set (xlabel=feature, ylabel='BufferHealth')"
   ]
  },
  {
   "cell_type": "markdown",
   "metadata": {},
   "source": [
    "Values are squashed on the left, let's use the log-transformed feature to see the dependency better."
   ]
  },
  {
   "cell_type": "code",
   "execution_count": 87,
   "metadata": {
    "scrolled": false
   },
   "outputs": [
    {
     "data": {
      "text/plain": [
       "[Text(0, 0.5, 'BufferHealth'), Text(0.5, 0, 'BytesReceived_log')]"
      ]
     },
     "execution_count": 87,
     "metadata": {},
     "output_type": "execute_result"
    },
    {
     "data": {
      "image/png": "[encoded data removed]",
      "text/plain": [
       "<Figure size 432x288 with 1 Axes>"
      ]
     },
     "metadata": {
      "needs_background": "light"
     },
     "output_type": "display_data"
    }
   ],
   "source": [
    "feature = 'BytesReceived_log'\n",
    "fig, ax = plt.subplots() # This creates just a canvas\n",
    "ax.scatter(df[feature],df['BufferHealth'],color='black',\n",
    "           s=2, label='all samples') # ax is the actual figure\n",
    "ax.set (xlabel=feature, ylabel='BufferHealth')"
   ]
  },
  {
   "cell_type": "markdown",
   "metadata": {},
   "source": [
    "The dependency is clearer now, although, in terms of Pearson's correlation coefficient \n",
    "$$\n",
    "\\rho(\\texttt{BytesReceived},\\texttt{BufferHealth}) \\ge \n",
    "\\rho(\\texttt{BytesReceived_log},\\texttt{BufferHealth})\n",
    "$$ \n",
    "\n",
    "Don't be surprised: Pearson's correlation only captures linear dependency and we see that here the dependency is not linear"
   ]
  },
  {
   "cell_type": "code",
   "execution_count": 88,
   "metadata": {},
   "outputs": [],
   "source": [
    "df_train, df_test = train_test_split(df, test_size=0.3, random_state=2)"
   ]
  },
  {
   "cell_type": "markdown",
   "metadata": {},
   "source": [
    "Let's put in evidence the test samples"
   ]
  },
  {
   "cell_type": "code",
   "execution_count": 89,
   "metadata": {
    "scrolled": true
   },
   "outputs": [
    {
     "data": {
      "image/png": "[encoded data removed]",
      "text/plain": [
       "<Figure size 432x288 with 1 Axes>"
      ]
     },
     "execution_count": 89,
     "metadata": {},
     "output_type": "execute_result"
    }
   ],
   "source": [
    "ax.scatter(df_test[feature],df_test['BufferHealth'],color='red',\n",
    "           s=2, label='test') # ax is the actual figure\n",
    "fig"
   ]
  },
  {
   "cell_type": "markdown",
   "metadata": {},
   "source": [
    "OLS linear regression"
   ]
  },
  {
   "cell_type": "code",
   "execution_count": 90,
   "metadata": {},
   "outputs": [
    {
     "data": {
      "text/html": [
       "<table class=\"simpletable\">\n",
       "<caption>OLS Regression Results</caption>\n",
       "<tr>\n",
       "  <th>Dep. Variable:</th>      <td>BufferHealth</td>   <th>  R-squared:         </th> <td>   0.369</td>\n",
       "</tr>\n",
       "<tr>\n",
       "  <th>Model:</th>                   <td>OLS</td>       <th>  Adj. R-squared:    </th> <td>   0.348</td>\n",
       "</tr>\n",
       "<tr>\n",
       "  <th>Method:</th>             <td>Least Squares</td>  <th>  F-statistic:       </th> <td>   17.51</td>\n",
       "</tr>\n",
       "<tr>\n",
       "  <th>Date:</th>             <td>Fri, 14 Feb 2020</td> <th>  Prob (F-statistic):</th> <td>0.000229</td>\n",
       "</tr>\n",
       "<tr>\n",
       "  <th>Time:</th>                 <td>18:00:56</td>     <th>  Log-Likelihood:    </th> <td> -64.395</td>\n",
       "</tr>\n",
       "<tr>\n",
       "  <th>No. Observations:</th>      <td>    32</td>      <th>  AIC:               </th> <td>   132.8</td>\n",
       "</tr>\n",
       "<tr>\n",
       "  <th>Df Residuals:</th>          <td>    30</td>      <th>  BIC:               </th> <td>   135.7</td>\n",
       "</tr>\n",
       "<tr>\n",
       "  <th>Df Model:</th>              <td>     1</td>      <th>                     </th>     <td> </td>   \n",
       "</tr>\n",
       "<tr>\n",
       "  <th>Covariance Type:</th>      <td>nonrobust</td>    <th>                     </th>     <td> </td>   \n",
       "</tr>\n",
       "</table>\n",
       "<table class=\"simpletable\">\n",
       "<tr>\n",
       "          <td></td>             <th>coef</th>     <th>std err</th>      <th>t</th>      <th>P>|t|</th>  <th>[0.025</th>    <th>0.975]</th>  \n",
       "</tr>\n",
       "<tr>\n",
       "  <th>const</th>             <td>  -13.7603</td> <td>    4.677</td> <td>   -2.942</td> <td> 0.006</td> <td>  -23.312</td> <td>   -4.209</td>\n",
       "</tr>\n",
       "<tr>\n",
       "  <th>BytesReceived_log</th> <td>    1.6199</td> <td>    0.387</td> <td>    4.185</td> <td> 0.000</td> <td>    0.829</td> <td>    2.410</td>\n",
       "</tr>\n",
       "</table>\n",
       "<table class=\"simpletable\">\n",
       "<tr>\n",
       "  <th>Omnibus:</th>       <td>11.109</td> <th>  Durbin-Watson:     </th> <td>   1.898</td>\n",
       "</tr>\n",
       "<tr>\n",
       "  <th>Prob(Omnibus):</th> <td> 0.004</td> <th>  Jarque-Bera (JB):  </th> <td>  10.120</td>\n",
       "</tr>\n",
       "<tr>\n",
       "  <th>Skew:</th>          <td> 1.179</td> <th>  Prob(JB):          </th> <td> 0.00635</td>\n",
       "</tr>\n",
       "<tr>\n",
       "  <th>Kurtosis:</th>      <td> 4.423</td> <th>  Cond. No.          </th> <td>    172.</td>\n",
       "</tr>\n",
       "</table><br/><br/>Warnings:<br/>[1] Standard Errors assume that the covariance matrix of the errors is correctly specified."
      ],
      "text/plain": [
       "<class 'statsmodels.iolib.summary.Summary'>\n",
       "\"\"\"\n",
       "                            OLS Regression Results                            \n",
       "==============================================================================\n",
       "Dep. Variable:           BufferHealth   R-squared:                       0.369\n",
       "Model:                            OLS   Adj. R-squared:                  0.348\n",
       "Method:                 Least Squares   F-statistic:                     17.51\n",
       "Date:                Fri, 14 Feb 2020   Prob (F-statistic):           0.000229\n",
       "Time:                        18:00:56   Log-Likelihood:                -64.395\n",
       "No. Observations:                  32   AIC:                             132.8\n",
       "Df Residuals:                      30   BIC:                             135.7\n",
       "Df Model:                           1                                         \n",
       "Covariance Type:            nonrobust                                         \n",
       "=====================================================================================\n",
       "                        coef    std err          t      P>|t|      [0.025      0.975]\n",
       "-------------------------------------------------------------------------------------\n",
       "const               -13.7603      4.677     -2.942      0.006     -23.312      -4.209\n",
       "BytesReceived_log     1.6199      0.387      4.185      0.000       0.829       2.410\n",
       "==============================================================================\n",
       "Omnibus:                       11.109   Durbin-Watson:                   1.898\n",
       "Prob(Omnibus):                  0.004   Jarque-Bera (JB):               10.120\n",
       "Skew:                           1.179   Prob(JB):                      0.00635\n",
       "Kurtosis:                       4.423   Cond. No.                         172.\n",
       "==============================================================================\n",
       "\n",
       "Warnings:\n",
       "[1] Standard Errors assume that the covariance matrix of the errors is correctly specified.\n",
       "\"\"\""
      ]
     },
     "execution_count": 90,
     "metadata": {},
     "output_type": "execute_result"
    }
   ],
   "source": [
    "feature = 'BytesReceived_log'\n",
    "target = 'BufferHealth'\n",
    "X_train = df_train[feature]\n",
    "X_test = df_test[feature]\n",
    "y_train = df_train[target]\n",
    "y_test = df_test[target]\n",
    "\n",
    "X_train_c = sm.add_constant(X_train)\n",
    "model_lin = sm.OLS(y_train, X_train_c).fit()\n",
    "model_lin.summary()"
   ]
  },
  {
   "cell_type": "markdown",
   "metadata": {},
   "source": [
    "The model is significant. Let's test it."
   ]
  },
  {
   "cell_type": "code",
   "execution_count": 92,
   "metadata": {},
   "outputs": [
    {
     "name": "stdout",
     "output_type": "stream",
     "text": [
      "The test error is of  3.722808230494189  seconds\n"
     ]
    }
   ],
   "source": [
    "X_test_c = sm.add_constant(X_test)\n",
    "y_pred = model_lin.predict(X_test_c)\n",
    "test_RMSE_linear = math.sqrt(mean_squared_error(y_pred, y_test))\n",
    "print('The test error is of ',test_RMSE_linear,' seconds')"
   ]
  },
  {
   "cell_type": "markdown",
   "metadata": {},
   "source": [
    "Let's plot the regression line"
   ]
  },
  {
   "cell_type": "code",
   "execution_count": 93,
   "metadata": {},
   "outputs": [
    {
     "data": {
      "image/png": "[encoded data removed]",
      "text/plain": [
       "<Figure size 432x288 with 1 Axes>"
      ]
     },
     "execution_count": 93,
     "metadata": {},
     "output_type": "execute_result"
    }
   ],
   "source": [
    "interval = np.arange(10, 15, 0.01)\n",
    "interval_c = sm.add_constant(interval)\n",
    "h_values = model_lin.predict(interval_c)\n",
    "ax.plot(interval,h_values, label=\"Linear \")\n",
    "ax.legend()\n",
    "fig"
   ]
  },
  {
   "cell_type": "markdown",
   "metadata": {},
   "source": [
    "Not great. We would like to have a curve more flexible than a rigid straight line."
   ]
  },
  {
   "cell_type": "markdown",
   "metadata": {},
   "source": [
    "To run a quadratic regression, we first need to add to the column `BytesReceived_log` the column $\\texttt{BytesReceived_log}^2$."
   ]
  },
  {
   "cell_type": "code",
   "execution_count": 94,
   "metadata": {},
   "outputs": [
    {
     "data": {
      "text/plain": [
       "array([[ 10.37402229, 107.62033849],\n",
       "       [ 12.16272141, 147.93179218],\n",
       "       [ 11.68839023, 136.61846627],\n",
       "       [ 11.25940002, 126.77408887],\n",
       "       [ 12.32598674, 151.92994917],\n",
       "       [ 11.8706069 , 140.91130823],\n",
       "       [ 12.99278303, 168.81241077],\n",
       "       [ 13.66424804, 186.71167441],\n",
       "       [ 11.28062764, 127.25255997],\n",
       "       [ 11.32280558, 128.2059262 ],\n",
       "       [ 10.23426503, 104.74018077],\n",
       "       [ 11.25712958, 126.72296641],\n",
       "       [ 12.53561377, 157.14161271],\n",
       "       [ 11.47326946, 131.63591203],\n",
       "       [ 13.39753148, 179.49384964],\n",
       "       [ 11.71440402, 137.22726145],\n",
       "       [ 11.98382245, 143.61200039],\n",
       "       [ 11.28156071, 127.2736121 ],\n",
       "       [ 13.24652779, 175.4704984 ],\n",
       "       [ 13.14613264, 172.82080331],\n",
       "       [ 11.31062567, 127.93025294],\n",
       "       [ 12.54261274, 157.31713427],\n",
       "       [ 13.39098953, 179.31860069],\n",
       "       [ 13.51802997, 182.73713426],\n",
       "       [ 12.21554762, 149.21960356],\n",
       "       [ 12.466088  , 155.40335001],\n",
       "       [ 11.61205561, 134.83983554],\n",
       "       [ 11.95845068, 143.0045426 ],\n",
       "       [ 11.67068107, 136.20479659],\n",
       "       [ 12.05954864, 145.43271345],\n",
       "       [ 11.85207982, 140.47179596],\n",
       "       [ 11.83681169, 140.11011089]])"
      ]
     },
     "execution_count": 94,
     "metadata": {},
     "output_type": "execute_result"
    }
   ],
   "source": [
    "# The function fit_transform wants a matrix while X_train is a dataframe\n",
    "# We need to transform it in array\n",
    "X_train = X_train.values\n",
    "\n",
    "# Now X_train is an array. We need to transform it in a matrix\n",
    "X_train = X_train.reshape(-1,1)\n",
    "\n",
    "\n",
    "X_train_poly = PolynomialFeatures(degree=2, \n",
    "                include_bias=False).fit_transform(X_train)\n",
    "X_train_poly"
   ]
  },
  {
   "cell_type": "code",
   "execution_count": 95,
   "metadata": {},
   "outputs": [
    {
     "data": {
      "text/html": [
       "<table class=\"simpletable\">\n",
       "<caption>OLS Regression Results</caption>\n",
       "<tr>\n",
       "  <th>Dep. Variable:</th>      <td>BufferHealth</td>   <th>  R-squared:         </th> <td>   0.414</td>\n",
       "</tr>\n",
       "<tr>\n",
       "  <th>Model:</th>                   <td>OLS</td>       <th>  Adj. R-squared:    </th> <td>   0.373</td>\n",
       "</tr>\n",
       "<tr>\n",
       "  <th>Method:</th>             <td>Least Squares</td>  <th>  F-statistic:       </th> <td>   10.23</td>\n",
       "</tr>\n",
       "<tr>\n",
       "  <th>Date:</th>             <td>Fri, 14 Feb 2020</td> <th>  Prob (F-statistic):</th> <td>0.000435</td>\n",
       "</tr>\n",
       "<tr>\n",
       "  <th>Time:</th>                 <td>18:00:56</td>     <th>  Log-Likelihood:    </th> <td> -63.209</td>\n",
       "</tr>\n",
       "<tr>\n",
       "  <th>No. Observations:</th>      <td>    32</td>      <th>  AIC:               </th> <td>   132.4</td>\n",
       "</tr>\n",
       "<tr>\n",
       "  <th>Df Residuals:</th>          <td>    29</td>      <th>  BIC:               </th> <td>   136.8</td>\n",
       "</tr>\n",
       "<tr>\n",
       "  <th>Df Model:</th>              <td>     2</td>      <th>                     </th>     <td> </td>   \n",
       "</tr>\n",
       "<tr>\n",
       "  <th>Covariance Type:</th>      <td>nonrobust</td>    <th>                     </th>     <td> </td>   \n",
       "</tr>\n",
       "</table>\n",
       "<table class=\"simpletable\">\n",
       "<tr>\n",
       "    <td></td>       <th>coef</th>     <th>std err</th>      <th>t</th>      <th>P>|t|</th>  <th>[0.025</th>    <th>0.975]</th>  \n",
       "</tr>\n",
       "<tr>\n",
       "  <th>const</th> <td>   64.2576</td> <td>   52.452</td> <td>    1.225</td> <td> 0.230</td> <td>  -43.018</td> <td>  171.533</td>\n",
       "</tr>\n",
       "<tr>\n",
       "  <th>x1</th>    <td>  -11.3349</td> <td>    8.684</td> <td>   -1.305</td> <td> 0.202</td> <td>  -29.097</td> <td>    6.427</td>\n",
       "</tr>\n",
       "<tr>\n",
       "  <th>x2</th>    <td>    0.5351</td> <td>    0.358</td> <td>    1.493</td> <td> 0.146</td> <td>   -0.198</td> <td>    1.268</td>\n",
       "</tr>\n",
       "</table>\n",
       "<table class=\"simpletable\">\n",
       "<tr>\n",
       "  <th>Omnibus:</th>       <td>18.793</td> <th>  Durbin-Watson:     </th> <td>   2.102</td>\n",
       "</tr>\n",
       "<tr>\n",
       "  <th>Prob(Omnibus):</th> <td> 0.000</td> <th>  Jarque-Bera (JB):  </th> <td>  24.331</td>\n",
       "</tr>\n",
       "<tr>\n",
       "  <th>Skew:</th>          <td> 1.572</td> <th>  Prob(JB):          </th> <td>5.21e-06</td>\n",
       "</tr>\n",
       "<tr>\n",
       "  <th>Kurtosis:</th>      <td> 5.893</td> <th>  Cond. No.          </th> <td>2.43e+04</td>\n",
       "</tr>\n",
       "</table><br/><br/>Warnings:<br/>[1] Standard Errors assume that the covariance matrix of the errors is correctly specified.<br/>[2] The condition number is large, 2.43e+04. This might indicate that there are<br/>strong multicollinearity or other numerical problems."
      ],
      "text/plain": [
       "<class 'statsmodels.iolib.summary.Summary'>\n",
       "\"\"\"\n",
       "                            OLS Regression Results                            \n",
       "==============================================================================\n",
       "Dep. Variable:           BufferHealth   R-squared:                       0.414\n",
       "Model:                            OLS   Adj. R-squared:                  0.373\n",
       "Method:                 Least Squares   F-statistic:                     10.23\n",
       "Date:                Fri, 14 Feb 2020   Prob (F-statistic):           0.000435\n",
       "Time:                        18:00:56   Log-Likelihood:                -63.209\n",
       "No. Observations:                  32   AIC:                             132.4\n",
       "Df Residuals:                      29   BIC:                             136.8\n",
       "Df Model:                           2                                         \n",
       "Covariance Type:            nonrobust                                         \n",
       "==============================================================================\n",
       "                 coef    std err          t      P>|t|      [0.025      0.975]\n",
       "------------------------------------------------------------------------------\n",
       "const         64.2576     52.452      1.225      0.230     -43.018     171.533\n",
       "x1           -11.3349      8.684     -1.305      0.202     -29.097       6.427\n",
       "x2             0.5351      0.358      1.493      0.146      -0.198       1.268\n",
       "==============================================================================\n",
       "Omnibus:                       18.793   Durbin-Watson:                   2.102\n",
       "Prob(Omnibus):                  0.000   Jarque-Bera (JB):               24.331\n",
       "Skew:                           1.572   Prob(JB):                     5.21e-06\n",
       "Kurtosis:                       5.893   Cond. No.                     2.43e+04\n",
       "==============================================================================\n",
       "\n",
       "Warnings:\n",
       "[1] Standard Errors assume that the covariance matrix of the errors is correctly specified.\n",
       "[2] The condition number is large, 2.43e+04. This might indicate that there are\n",
       "strong multicollinearity or other numerical problems.\n",
       "\"\"\""
      ]
     },
     "execution_count": 95,
     "metadata": {},
     "output_type": "execute_result"
    }
   ],
   "source": [
    "X_train_poly_c = sm.add_constant(X_train_poly)\n",
    "model_quadr = sm.OLS(y_train, X_train_poly_c).fit()\n",
    "model_quadr.summary()"
   ]
  },
  {
   "cell_type": "markdown",
   "metadata": {},
   "source": [
    "Let's plot the line"
   ]
  },
  {
   "cell_type": "code",
   "execution_count": 96,
   "metadata": {},
   "outputs": [
    {
     "data": {
      "image/png": "[encoded data removed]",
      "text/plain": [
       "<Figure size 432x288 with 1 Axes>"
      ]
     },
     "execution_count": 96,
     "metadata": {},
     "output_type": "execute_result"
    }
   ],
   "source": [
    "interval = interval.reshape(-1,1)\n",
    "interval_poly = PolynomialFeatures(degree=2, \n",
    "                include_bias=False).fit_transform(interval)\n",
    "interval_poly_c = sm.add_constant(interval_poly)\n",
    "h_values = model_quadr.predict(interval_poly_c)\n",
    "\n",
    "ax.plot(interval,h_values, label=\"Quadratic\")\n",
    "ax.legend()\n",
    "fig"
   ]
  },
  {
   "cell_type": "code",
   "execution_count": 97,
   "metadata": {},
   "outputs": [
    {
     "name": "stdout",
     "output_type": "stream",
     "text": [
      "The test error is  3.4349359394194794  seconds; with linear regression it was 3.722808230494189\n"
     ]
    }
   ],
   "source": [
    "X_test = X_test.values.reshape(-1,1)\n",
    "X_test_poly = PolynomialFeatures(degree=2, \n",
    "                include_bias=False).fit_transform(X_test)\n",
    "X_test_poly_c = sm.add_constant(X_test_poly)\n",
    "\n",
    "y_pred = model_quadr.predict(X_test_poly_c)\n",
    "test_RMSE_quadr = math.sqrt(mean_squared_error(y_pred, y_test))\n",
    "print('The test error is ',test_RMSE_quadr,\n",
    "          ' seconds; with linear regression it was', test_RMSE_linear)"
   ]
  },
  {
   "cell_type": "markdown",
   "metadata": {},
   "source": [
    "Let's try with cubic regression"
   ]
  },
  {
   "cell_type": "code",
   "execution_count": 98,
   "metadata": {},
   "outputs": [
    {
     "name": "stdout",
     "output_type": "stream",
     "text": [
      "RMSE:  0.17070005522339976  seconds; With quadratic regression it was  3.4349359394194794\n"
     ]
    },
    {
     "data": {
      "image/png": "[encoded data removed]",
      "text/plain": [
       "<Figure size 432x288 with 1 Axes>"
      ]
     },
     "execution_count": 98,
     "metadata": {},
     "output_type": "execute_result"
    }
   ],
   "source": [
    "mydegree = 3\n",
    "X_train_poly = PolynomialFeatures(degree=mydegree, \n",
    "                include_bias=False).fit_transform(X_train)\n",
    "X_train_poly_c = sm.add_constant(X_train_poly)\n",
    "model_cub = sm.OLS(y_train, X_train_poly_c).fit()\n",
    "\n",
    "X_test_poly = PolynomialFeatures(degree=mydegree, \n",
    "                include_bias=False).fit_transform(\n",
    "                        X_test)\n",
    "X_test_poly_c = sm.add_constant(X_test_poly)\n",
    "y_test = model_cub.predict(X_test_poly_c)\n",
    "test_RMSE_cub = math.sqrt(mean_squared_error(y_pred, y_test))\n",
    "print(\"RMSE: \", test_RMSE_cub, \" seconds; With quadratic regression it was \",\n",
    "             test_RMSE_quadr)\n",
    "\n",
    "### plot\n",
    "interval_poly = PolynomialFeatures(degree=mydegree, \n",
    "                include_bias=False).fit_transform(interval)\n",
    "interval_poly_c = sm.add_constant(interval_poly)\n",
    "h_values = model_cub.predict(interval_poly_c)\n",
    "\n",
    "ax.plot(interval,h_values, label=\"Cubic\")\n",
    "ax.legend()\n",
    "fig"
   ]
  },
  {
   "cell_type": "markdown",
   "metadata": {},
   "source": [
    "On average, we make an error of 0.2 seconds!"
   ]
  },
  {
   "cell_type": "markdown",
   "metadata": {},
   "source": [
    "Let's increase a lot the degree of the polynomial"
   ]
  },
  {
   "cell_type": "code",
   "execution_count": 99,
   "metadata": {
    "scrolled": true
   },
   "outputs": [
    {
     "name": "stdout",
     "output_type": "stream",
     "text": [
      "RMSE:  0.7000977366627632\n"
     ]
    },
    {
     "data": {
      "image/png": "[encoded data removed]",
      "text/plain": [
       "<Figure size 432x288 with 1 Axes>"
      ]
     },
     "execution_count": 99,
     "metadata": {},
     "output_type": "execute_result"
    }
   ],
   "source": [
    "mydegree = 8\n",
    "X_train_poly = PolynomialFeatures(degree=mydegree, \n",
    "                include_bias=False).fit_transform(X_train)\n",
    "X_train_poly_c = sm.add_constant(X_train_poly)\n",
    "model_high = sm.OLS(y_train, X_train_poly_c).fit()\n",
    "\n",
    "X_test_poly = PolynomialFeatures(degree=mydegree, \n",
    "                include_bias=False).fit_transform(\n",
    "                        X_test)\n",
    "X_test_poly_c = sm.add_constant(X_test_poly)\n",
    "y_test = model_high.predict(X_test_poly_c)\n",
    "RMSE_now = math.sqrt(mean_squared_error(y_pred, y_test))\n",
    "print(\"RMSE: \", RMSE_now)\n",
    "\n",
    "### plot\n",
    "interval_poly = PolynomialFeatures(degree=mydegree, \n",
    "                include_bias=False).fit_transform(interval)\n",
    "interval_poly_c = sm.add_constant(interval_poly)\n",
    "h_values = model_high.predict(interval_poly_c)\n",
    "\n",
    "\n",
    "ax.plot(interval,h_values, label=\"Degree \"+str(mydegree), color=\"gray\" )\n",
    "ax.legend()\n",
    "ax.set_ylim([0, 16] )\n",
    "fig"
   ]
  },
  {
   "cell_type": "markdown",
   "metadata": {},
   "source": [
    "This is a typical example of overfit.\n",
    "\n",
    "The model is so flexible that it can adapt **too** well to training data. \n"
   ]
  },
  {
   "cell_type": "markdown",
   "metadata": {},
   "source": [
    "\n",
    "**Generalization** means instead to \"step back\" from the observed data and not adapting too much"
   ]
  },
  {
   "cell_type": "code",
   "execution_count": null,
   "metadata": {},
   "outputs": [],
   "source": []
  }
 ],
 "metadata": {
  "kernelspec": {
   "display_name": "Python 3",
   "language": "python",
   "name": "python3"
  },
  "language_info": {
   "codemirror_mode": {
    "name": "ipython",
    "version": 3
   },
   "file_extension": ".py",
   "mimetype": "text/x-python",
   "name": "python",
   "nbconvert_exporter": "python",
   "pygments_lexer": "ipython3",
   "version": "3.6.8"
  }
 },
 "nbformat": 4,
 "nbformat_minor": 4
}
