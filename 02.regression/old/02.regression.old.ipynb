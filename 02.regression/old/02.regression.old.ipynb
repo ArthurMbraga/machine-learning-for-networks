{
 "cells": [
  {
   "cell_type": "code",
   "execution_count": 345,
   "metadata": {},
   "outputs": [],
   "source": [
    "import pandas as pd # For dataframes (tables)\n",
    "import numpy as np\n",
    "import matplotlib.pyplot as plt # For plots\n",
    "import sklearn.linear_model\n",
    "from sklearn.model_selection import train_test_split\n",
    "from sklearn.metrics import mean_squared_error\n",
    "import math"
   ]
  },
  {
   "cell_type": "code",
   "execution_count": 346,
   "metadata": {},
   "outputs": [],
   "source": [
    "mydatasets_folder = \"/home/araldo/datasets\"\n",
    "df = pd.read_csv(mydatasets_folder +'/video-qoe-processed/df_2.csv')"
   ]
  },
  {
   "cell_type": "code",
   "execution_count": 347,
   "metadata": {
    "scrolled": true
   },
   "outputs": [
    {
     "data": {
      "text/html": [
       "<div>\n",
       "<style scoped>\n",
       "    .dataframe tbody tr th:only-of-type {\n",
       "        vertical-align: middle;\n",
       "    }\n",
       "\n",
       "    .dataframe tbody tr th {\n",
       "        vertical-align: top;\n",
       "    }\n",
       "\n",
       "    .dataframe thead th {\n",
       "        text-align: right;\n",
       "    }\n",
       "</style>\n",
       "<table border=\"1\" class=\"dataframe\">\n",
       "  <thead>\n",
       "    <tr style=\"text-align: right;\">\n",
       "      <th></th>\n",
       "      <th>RelativeTime</th>\n",
       "      <th>PacketsSent</th>\n",
       "      <th>PacketsReceived</th>\n",
       "      <th>BytesSent</th>\n",
       "      <th>BytesReceived</th>\n",
       "      <th>IPSrc0</th>\n",
       "      <th>IPDst0</th>\n",
       "      <th>Protocol0</th>\n",
       "      <th>PacketsSent0</th>\n",
       "      <th>PacketsReceived0</th>\n",
       "      <th>...</th>\n",
       "      <th>BufferValid</th>\n",
       "      <th>KBytesReceived</th>\n",
       "      <th>label</th>\n",
       "      <th>label_num</th>\n",
       "      <th>KBytesReceived_log</th>\n",
       "      <th>PacketsSent_log</th>\n",
       "      <th>PacketsReceived_log</th>\n",
       "      <th>BytesSent_log</th>\n",
       "      <th>BytesReceived_log</th>\n",
       "      <th>BufferProgress_log</th>\n",
       "    </tr>\n",
       "  </thead>\n",
       "  <tbody>\n",
       "    <tr>\n",
       "      <th>0</th>\n",
       "      <td>6.1</td>\n",
       "      <td>29</td>\n",
       "      <td>57</td>\n",
       "      <td>2372</td>\n",
       "      <td>79344</td>\n",
       "      <td>192.168.1.190</td>\n",
       "      <td>173.194.55.23</td>\n",
       "      <td>QUIC</td>\n",
       "      <td>29</td>\n",
       "      <td>57</td>\n",
       "      <td>...</td>\n",
       "      <td>True</td>\n",
       "      <td>79.344</td>\n",
       "      <td>q480p</td>\n",
       "      <td>480</td>\n",
       "      <td>4.373793</td>\n",
       "      <td>3.401197</td>\n",
       "      <td>4.060443</td>\n",
       "      <td>7.771910</td>\n",
       "      <td>11.281561</td>\n",
       "      <td>0.005164</td>\n",
       "    </tr>\n",
       "    <tr>\n",
       "      <th>1</th>\n",
       "      <td>5.8</td>\n",
       "      <td>7</td>\n",
       "      <td>39</td>\n",
       "      <td>625</td>\n",
       "      <td>52973</td>\n",
       "      <td>192.168.1.190</td>\n",
       "      <td>74.125.155.199</td>\n",
       "      <td>QUIC</td>\n",
       "      <td>4</td>\n",
       "      <td>36</td>\n",
       "      <td>...</td>\n",
       "      <td>True</td>\n",
       "      <td>52.973</td>\n",
       "      <td>q360p</td>\n",
       "      <td>360</td>\n",
       "      <td>3.969782</td>\n",
       "      <td>2.079442</td>\n",
       "      <td>3.688879</td>\n",
       "      <td>6.439350</td>\n",
       "      <td>10.877557</td>\n",
       "      <td>0.004833</td>\n",
       "    </tr>\n",
       "    <tr>\n",
       "      <th>2</th>\n",
       "      <td>7.3</td>\n",
       "      <td>16</td>\n",
       "      <td>23</td>\n",
       "      <td>1056</td>\n",
       "      <td>34178</td>\n",
       "      <td>192.168.1.190</td>\n",
       "      <td>74.125.155.201</td>\n",
       "      <td>TCP</td>\n",
       "      <td>16</td>\n",
       "      <td>23</td>\n",
       "      <td>...</td>\n",
       "      <td>True</td>\n",
       "      <td>34.178</td>\n",
       "      <td>q720p</td>\n",
       "      <td>720</td>\n",
       "      <td>3.531582</td>\n",
       "      <td>2.833213</td>\n",
       "      <td>3.178054</td>\n",
       "      <td>6.963190</td>\n",
       "      <td>10.439367</td>\n",
       "      <td>0.005473</td>\n",
       "    </tr>\n",
       "    <tr>\n",
       "      <th>3</th>\n",
       "      <td>39.2</td>\n",
       "      <td>14</td>\n",
       "      <td>29</td>\n",
       "      <td>3377</td>\n",
       "      <td>36821</td>\n",
       "      <td>192.168.1.190</td>\n",
       "      <td>172.217.135.40</td>\n",
       "      <td>0</td>\n",
       "      <td>0</td>\n",
       "      <td>0</td>\n",
       "      <td>...</td>\n",
       "      <td>True</td>\n",
       "      <td>36.821</td>\n",
       "      <td>q144p</td>\n",
       "      <td>144</td>\n",
       "      <td>3.606068</td>\n",
       "      <td>2.708050</td>\n",
       "      <td>3.401197</td>\n",
       "      <td>8.125039</td>\n",
       "      <td>10.513851</td>\n",
       "      <td>0.009268</td>\n",
       "    </tr>\n",
       "    <tr>\n",
       "      <th>4</th>\n",
       "      <td>4.6</td>\n",
       "      <td>9</td>\n",
       "      <td>77</td>\n",
       "      <td>900</td>\n",
       "      <td>104389</td>\n",
       "      <td>192.168.1.190</td>\n",
       "      <td>173.194.184.103</td>\n",
       "      <td>QUIC</td>\n",
       "      <td>9</td>\n",
       "      <td>77</td>\n",
       "      <td>...</td>\n",
       "      <td>True</td>\n",
       "      <td>104.389</td>\n",
       "      <td>q360p</td>\n",
       "      <td>360</td>\n",
       "      <td>4.648124</td>\n",
       "      <td>2.302585</td>\n",
       "      <td>4.356709</td>\n",
       "      <td>6.803505</td>\n",
       "      <td>11.555889</td>\n",
       "      <td>0.006599</td>\n",
       "    </tr>\n",
       "  </tbody>\n",
       "</table>\n",
       "<p>5 rows × 207 columns</p>\n",
       "</div>"
      ],
      "text/plain": [
       "   RelativeTime  PacketsSent  PacketsReceived  BytesSent  BytesReceived  \\\n",
       "0           6.1           29               57       2372          79344   \n",
       "1           5.8            7               39        625          52973   \n",
       "2           7.3           16               23       1056          34178   \n",
       "3          39.2           14               29       3377          36821   \n",
       "4           4.6            9               77        900         104389   \n",
       "\n",
       "           IPSrc0           IPDst0 Protocol0  PacketsSent0  PacketsReceived0  \\\n",
       "0   192.168.1.190    173.194.55.23      QUIC            29                57   \n",
       "1   192.168.1.190   74.125.155.199      QUIC             4                36   \n",
       "2   192.168.1.190   74.125.155.201       TCP            16                23   \n",
       "3   192.168.1.190   172.217.135.40         0             0                 0   \n",
       "4   192.168.1.190  173.194.184.103      QUIC             9                77   \n",
       "\n",
       "         ...          BufferValid  KBytesReceived  label label_num  \\\n",
       "0        ...                 True          79.344  q480p       480   \n",
       "1        ...                 True          52.973  q360p       360   \n",
       "2        ...                 True          34.178  q720p       720   \n",
       "3        ...                 True          36.821  q144p       144   \n",
       "4        ...                 True         104.389  q360p       360   \n",
       "\n",
       "  KBytesReceived_log  PacketsSent_log  PacketsReceived_log  BytesSent_log  \\\n",
       "0           4.373793         3.401197             4.060443       7.771910   \n",
       "1           3.969782         2.079442             3.688879       6.439350   \n",
       "2           3.531582         2.833213             3.178054       6.963190   \n",
       "3           3.606068         2.708050             3.401197       8.125039   \n",
       "4           4.648124         2.302585             4.356709       6.803505   \n",
       "\n",
       "   BytesReceived_log BufferProgress_log  \n",
       "0          11.281561           0.005164  \n",
       "1          10.877557           0.004833  \n",
       "2          10.439367           0.005473  \n",
       "3          10.513851           0.009268  \n",
       "4          11.555889           0.006599  \n",
       "\n",
       "[5 rows x 207 columns]"
      ]
     },
     "execution_count": 347,
     "metadata": {},
     "output_type": "execute_result"
    }
   ],
   "source": [
    "df.head()"
   ]
  },
  {
   "cell_type": "code",
   "execution_count": 348,
   "metadata": {},
   "outputs": [
    {
     "name": "stdout",
     "output_type": "stream",
     "text": [
      "<class 'pandas.core.frame.DataFrame'>\n",
      "RangeIndex: 292 entries, 0 to 291\n",
      "Data columns (total 207 columns):\n",
      "RelativeTime           float64\n",
      "PacketsSent            int64\n",
      "PacketsReceived        int64\n",
      "BytesSent              int64\n",
      "BytesReceived          int64\n",
      "IPSrc0                 object\n",
      "IPDst0                 object\n",
      "Protocol0              object\n",
      "PacketsSent0           int64\n",
      "PacketsReceived0       int64\n",
      "BytesSent0             int64\n",
      "BytesReceived0         int64\n",
      "IPSrc1                 object\n",
      "IPDst1                 object\n",
      "Protocol1              object\n",
      "PacketsSent1           int64\n",
      "PacketsReceived1       int64\n",
      "BytesSent1             int64\n",
      "BytesReceived1         int64\n",
      "IPSrc2                 object\n",
      "IPDst2                 object\n",
      "Protocol2              object\n",
      "PacketsSent2           int64\n",
      "PacketsReceived2       int64\n",
      "BytesSent2             int64\n",
      "BytesReceived2         int64\n",
      "IPSrc3                 object\n",
      "IPDst3                 object\n",
      "Protocol3              object\n",
      "PacketsSent3           int64\n",
      "PacketsReceived3       int64\n",
      "BytesSent3             int64\n",
      "BytesReceived3         int64\n",
      "IPSrc4                 object\n",
      "IPDst4                 object\n",
      "Protocol4              object\n",
      "PacketsSent4           int64\n",
      "PacketsReceived4       int64\n",
      "BytesSent4             int64\n",
      "BytesReceived4         int64\n",
      "IPSrc5                 object\n",
      "IPDst5                 object\n",
      "Protocol5              object\n",
      "PacketsSent5           int64\n",
      "PacketsReceived5       int64\n",
      "BytesSent5             int64\n",
      "BytesReceived5         int64\n",
      "IPSrc6                 object\n",
      "IPDst6                 object\n",
      "Protocol6              object\n",
      "PacketsSent6           int64\n",
      "PacketsReceived6       int64\n",
      "BytesSent6             int64\n",
      "BytesReceived6         int64\n",
      "IPSrc7                 object\n",
      "IPDst7                 object\n",
      "Protocol7              object\n",
      "PacketsSent7           int64\n",
      "PacketsReceived7       int64\n",
      "BytesSent7             int64\n",
      "BytesReceived7         int64\n",
      "IPSrc8                 object\n",
      "IPDst8                 object\n",
      "Protocol8              object\n",
      "PacketsSent8           int64\n",
      "PacketsReceived8       int64\n",
      "BytesSent8             int64\n",
      "BytesReceived8         int64\n",
      "IPSrc9                 object\n",
      "IPDst9                 object\n",
      "Protocol9              object\n",
      "PacketsSent9           int64\n",
      "PacketsReceived9       int64\n",
      "BytesSent9             int64\n",
      "BytesReceived9         int64\n",
      "IPSrc10                object\n",
      "IPDst10                object\n",
      "Protocol10             int64\n",
      "PacketsSent10          int64\n",
      "PacketsReceived10      int64\n",
      "BytesSent10            int64\n",
      "BytesReceived10        int64\n",
      "IPSrc11                object\n",
      "IPDst11                object\n",
      "Protocol11             int64\n",
      "PacketsSent11          int64\n",
      "PacketsReceived11      int64\n",
      "BytesSent11            int64\n",
      "BytesReceived11        int64\n",
      "IPSrc12                object\n",
      "IPDst12                object\n",
      "Protocol12             object\n",
      "PacketsSent12          int64\n",
      "PacketsReceived12      int64\n",
      "BytesSent12            int64\n",
      "BytesReceived12        int64\n",
      "IPSrc13                object\n",
      "IPDst13                object\n",
      "Protocol13             object\n",
      "PacketsSent13          int64\n",
      "PacketsReceived13      int64\n",
      "BytesSent13            int64\n",
      "BytesReceived13        int64\n",
      "IPSrc14                object\n",
      "IPDst14                object\n",
      "Protocol14             int64\n",
      "PacketsSent14          int64\n",
      "PacketsReceived14      int64\n",
      "BytesSent14            int64\n",
      "BytesReceived14        int64\n",
      "IPSrc15                object\n",
      "IPDst15                object\n",
      "Protocol15             object\n",
      "PacketsSent15          int64\n",
      "PacketsReceived15      int64\n",
      "BytesSent15            int64\n",
      "BytesReceived15        int64\n",
      "IPSrc16                object\n",
      "IPDst16                object\n",
      "Protocol16             int64\n",
      "PacketsSent16          int64\n",
      "PacketsReceived16      int64\n",
      "BytesSent16            int64\n",
      "BytesReceived16        int64\n",
      "IPSrc17                object\n",
      "IPDst17                object\n",
      "Protocol17             int64\n",
      "PacketsSent17          int64\n",
      "PacketsReceived17      int64\n",
      "BytesSent17            int64\n",
      "BytesReceived17        int64\n",
      "IPSrc18                object\n",
      "IPDst18                object\n",
      "Protocol18             int64\n",
      "PacketsSent18          int64\n",
      "PacketsReceived18      int64\n",
      "BytesSent18            int64\n",
      "BytesReceived18        int64\n",
      "IPSrc19                object\n",
      "IPDst19                object\n",
      "Protocol19             int64\n",
      "PacketsSent19          int64\n",
      "PacketsReceived19      int64\n",
      "BytesSent19            int64\n",
      "BytesReceived19        int64\n",
      "IPSrc20                object\n",
      "IPDst20                object\n",
      "Protocol20             int64\n",
      "PacketsSent20          int64\n",
      "PacketsReceived20      int64\n",
      "BytesSent20            int64\n",
      "BytesReceived20        int64\n",
      "IPSrc21                object\n",
      "IPDst21                object\n",
      "Protocol21             int64\n",
      "PacketsSent21          int64\n",
      "PacketsReceived21      int64\n",
      "BytesSent21            int64\n",
      "BytesReceived21        int64\n",
      "IPSrc22                object\n",
      "IPDst22                object\n",
      "Protocol22             int64\n",
      "PacketsSent22          int64\n",
      "PacketsReceived22      int64\n",
      "BytesSent22            int64\n",
      "BytesReceived22        int64\n",
      "IPSrc23                object\n",
      "IPDst23                object\n",
      "Protocol23             int64\n",
      "PacketsSent23          int64\n",
      "PacketsReceived23      int64\n",
      "BytesSent23            int64\n",
      "BytesReceived23        int64\n",
      "IPSrc24                object\n",
      "IPDst24                object\n",
      "Protocol24             int64\n",
      "PacketsSent24          int64\n",
      "PacketsReceived24      int64\n",
      "BytesSent24            int64\n",
      "BytesReceived24        int64\n",
      "IPSrc25                object\n",
      "IPDst25                object\n",
      "Protocol25             int64\n",
      "PacketsSent25          int64\n",
      "PacketsReceived25      int64\n",
      "BytesSent25            int64\n",
      "BytesReceived25        int64\n",
      "Buffering              int64\n",
      "Paused                 int64\n",
      "Playing                int64\n",
      "CollectData            int64\n",
      "EpochTime              int64\n",
      "StartTime              int64\n",
      "PlaybackProgress       float64\n",
      "Length                 float64\n",
      "BufferHealth           float64\n",
      "BufferProgress         float64\n",
      "BufferValid            bool\n",
      "KBytesReceived         float64\n",
      "label                  object\n",
      "label_num              int64\n",
      "KBytesReceived_log     float64\n",
      "PacketsSent_log        float64\n",
      "PacketsReceived_log    float64\n",
      "BytesSent_log          float64\n",
      "BytesReceived_log      float64\n",
      "BufferProgress_log     float64\n",
      "dtypes: bool(1), float64(12), int64(128), object(66)\n",
      "memory usage: 470.3+ KB\n"
     ]
    }
   ],
   "source": [
    "df.info(verbose=True)"
   ]
  },
  {
   "cell_type": "markdown",
   "metadata": {},
   "source": [
    "Let's study the dependency between `label` and `KBytesReceived`"
   ]
  },
  {
   "cell_type": "markdown",
   "metadata": {},
   "source": [
    "Let's first plot the data as they are, using a scatterplot.\n",
    "\n",
    "See [mathplotlib documentation](https://matplotlib.org/tutorials/introductory/lifecycle.html) for more info (optional)."
   ]
  },
  {
   "cell_type": "code",
   "execution_count": 349,
   "metadata": {},
   "outputs": [
    {
     "data": {
      "image/png": "[encoded data removed]",
      "text/plain": [
       "<Figure size 432x288 with 1 Axes>"
      ]
     },
     "metadata": {
      "needs_background": "light"
     },
     "output_type": "display_data"
    }
   ],
   "source": [
    "fig, ax = plt.subplots() # This creates just a canvas\n",
    "ax.scatter(df['KBytesReceived'],df['label_num'],color='red',s=1) # ax is the actual figure\n",
    "\n",
    "# Customize the plot\n",
    "ax.set(xlim=[-100,1200], ylim=[-100,1200], ylabel=\"label_num\",\n",
    "      xlabel=\"KBytes received\")\n",
    "\n",
    "# Save it to the disk\n",
    "fig.savefig('img/scatter.pdf')"
   ]
  },
  {
   "cell_type": "code",
   "execution_count": 350,
   "metadata": {
    "scrolled": true
   },
   "outputs": [
    {
     "data": {
      "text/html": [
       "<div>\n",
       "<style scoped>\n",
       "    .dataframe tbody tr th:only-of-type {\n",
       "        vertical-align: middle;\n",
       "    }\n",
       "\n",
       "    .dataframe tbody tr th {\n",
       "        vertical-align: top;\n",
       "    }\n",
       "\n",
       "    .dataframe thead th {\n",
       "        text-align: right;\n",
       "    }\n",
       "</style>\n",
       "<table border=\"1\" class=\"dataframe\">\n",
       "  <thead>\n",
       "    <tr style=\"text-align: right;\">\n",
       "      <th></th>\n",
       "      <th>RelativeTime</th>\n",
       "      <th>PacketsSent</th>\n",
       "      <th>PacketsReceived</th>\n",
       "      <th>BytesSent</th>\n",
       "      <th>BytesReceived</th>\n",
       "      <th>IPSrc0</th>\n",
       "      <th>IPDst0</th>\n",
       "      <th>Protocol0</th>\n",
       "      <th>PacketsSent0</th>\n",
       "      <th>PacketsReceived0</th>\n",
       "      <th>...</th>\n",
       "      <th>BufferValid</th>\n",
       "      <th>KBytesReceived</th>\n",
       "      <th>label</th>\n",
       "      <th>label_num</th>\n",
       "      <th>KBytesReceived_log</th>\n",
       "      <th>PacketsSent_log</th>\n",
       "      <th>PacketsReceived_log</th>\n",
       "      <th>BytesSent_log</th>\n",
       "      <th>BytesReceived_log</th>\n",
       "      <th>BufferProgress_log</th>\n",
       "    </tr>\n",
       "  </thead>\n",
       "  <tbody>\n",
       "    <tr>\n",
       "      <th>275</th>\n",
       "      <td>2.7</td>\n",
       "      <td>0</td>\n",
       "      <td>107</td>\n",
       "      <td>0</td>\n",
       "      <td>109903</td>\n",
       "      <td>0</td>\n",
       "      <td>0</td>\n",
       "      <td>0</td>\n",
       "      <td>0</td>\n",
       "      <td>0</td>\n",
       "      <td>...</td>\n",
       "      <td>True</td>\n",
       "      <td>109.903</td>\n",
       "      <td>q720p</td>\n",
       "      <td>720</td>\n",
       "      <td>4.699598</td>\n",
       "      <td>0.000000</td>\n",
       "      <td>4.682131</td>\n",
       "      <td>0.000000</td>\n",
       "      <td>11.607363</td>\n",
       "      <td>0.002304</td>\n",
       "    </tr>\n",
       "    <tr>\n",
       "      <th>105</th>\n",
       "      <td>9.3</td>\n",
       "      <td>10</td>\n",
       "      <td>21</td>\n",
       "      <td>1973</td>\n",
       "      <td>29232</td>\n",
       "      <td>192.168.1.190</td>\n",
       "      <td>173.194.7.107</td>\n",
       "      <td>QUIC</td>\n",
       "      <td>7</td>\n",
       "      <td>21</td>\n",
       "      <td>...</td>\n",
       "      <td>True</td>\n",
       "      <td>29.232</td>\n",
       "      <td>q144p</td>\n",
       "      <td>144</td>\n",
       "      <td>3.375264</td>\n",
       "      <td>2.397895</td>\n",
       "      <td>3.091042</td>\n",
       "      <td>7.587817</td>\n",
       "      <td>10.283053</td>\n",
       "      <td>0.005681</td>\n",
       "    </tr>\n",
       "    <tr>\n",
       "      <th>163</th>\n",
       "      <td>4.2</td>\n",
       "      <td>15</td>\n",
       "      <td>72</td>\n",
       "      <td>2224</td>\n",
       "      <td>94952</td>\n",
       "      <td>192.168.1.190</td>\n",
       "      <td>74.125.155.235</td>\n",
       "      <td>QUIC</td>\n",
       "      <td>10</td>\n",
       "      <td>67</td>\n",
       "      <td>...</td>\n",
       "      <td>True</td>\n",
       "      <td>94.952</td>\n",
       "      <td>q360p</td>\n",
       "      <td>360</td>\n",
       "      <td>4.553372</td>\n",
       "      <td>2.772589</td>\n",
       "      <td>4.290459</td>\n",
       "      <td>7.707512</td>\n",
       "      <td>11.461137</td>\n",
       "      <td>0.007238</td>\n",
       "    </tr>\n",
       "    <tr>\n",
       "      <th>218</th>\n",
       "      <td>8.7</td>\n",
       "      <td>24</td>\n",
       "      <td>46</td>\n",
       "      <td>2578</td>\n",
       "      <td>62996</td>\n",
       "      <td>192.168.1.190</td>\n",
       "      <td>173.194.191.70</td>\n",
       "      <td>QUIC</td>\n",
       "      <td>24</td>\n",
       "      <td>46</td>\n",
       "      <td>...</td>\n",
       "      <td>True</td>\n",
       "      <td>62.996</td>\n",
       "      <td>q1080p</td>\n",
       "      <td>1080</td>\n",
       "      <td>4.143071</td>\n",
       "      <td>3.218876</td>\n",
       "      <td>3.850148</td>\n",
       "      <td>7.855157</td>\n",
       "      <td>11.050842</td>\n",
       "      <td>0.005245</td>\n",
       "    </tr>\n",
       "    <tr>\n",
       "      <th>198</th>\n",
       "      <td>4.5</td>\n",
       "      <td>55</td>\n",
       "      <td>82</td>\n",
       "      <td>4856</td>\n",
       "      <td>121852</td>\n",
       "      <td>192.168.1.190</td>\n",
       "      <td>173.194.53.38</td>\n",
       "      <td>TCP</td>\n",
       "      <td>55</td>\n",
       "      <td>82</td>\n",
       "      <td>...</td>\n",
       "      <td>True</td>\n",
       "      <td>121.852</td>\n",
       "      <td>q720p</td>\n",
       "      <td>720</td>\n",
       "      <td>4.802807</td>\n",
       "      <td>4.025352</td>\n",
       "      <td>4.418841</td>\n",
       "      <td>8.488176</td>\n",
       "      <td>11.710571</td>\n",
       "      <td>0.003931</td>\n",
       "    </tr>\n",
       "  </tbody>\n",
       "</table>\n",
       "<p>5 rows × 207 columns</p>\n",
       "</div>"
      ],
      "text/plain": [
       "     RelativeTime  PacketsSent  PacketsReceived  BytesSent  BytesReceived  \\\n",
       "275           2.7            0              107          0         109903   \n",
       "105           9.3           10               21       1973          29232   \n",
       "163           4.2           15               72       2224          94952   \n",
       "218           8.7           24               46       2578          62996   \n",
       "198           4.5           55               82       4856         121852   \n",
       "\n",
       "             IPSrc0          IPDst0 Protocol0  PacketsSent0  PacketsReceived0  \\\n",
       "275               0               0         0             0                 0   \n",
       "105   192.168.1.190   173.194.7.107      QUIC             7                21   \n",
       "163   192.168.1.190  74.125.155.235      QUIC            10                67   \n",
       "218   192.168.1.190  173.194.191.70      QUIC            24                46   \n",
       "198   192.168.1.190   173.194.53.38       TCP            55                82   \n",
       "\n",
       "           ...          BufferValid  KBytesReceived   label label_num  \\\n",
       "275        ...                 True         109.903   q720p       720   \n",
       "105        ...                 True          29.232   q144p       144   \n",
       "163        ...                 True          94.952   q360p       360   \n",
       "218        ...                 True          62.996  q1080p      1080   \n",
       "198        ...                 True         121.852   q720p       720   \n",
       "\n",
       "    KBytesReceived_log  PacketsSent_log  PacketsReceived_log  BytesSent_log  \\\n",
       "275           4.699598         0.000000             4.682131       0.000000   \n",
       "105           3.375264         2.397895             3.091042       7.587817   \n",
       "163           4.553372         2.772589             4.290459       7.707512   \n",
       "218           4.143071         3.218876             3.850148       7.855157   \n",
       "198           4.802807         4.025352             4.418841       8.488176   \n",
       "\n",
       "     BytesReceived_log BufferProgress_log  \n",
       "275          11.607363           0.002304  \n",
       "105          10.283053           0.005681  \n",
       "163          11.461137           0.007238  \n",
       "218          11.050842           0.005245  \n",
       "198          11.710571           0.003931  \n",
       "\n",
       "[5 rows x 207 columns]"
      ]
     },
     "execution_count": 350,
     "metadata": {},
     "output_type": "execute_result"
    }
   ],
   "source": [
    "df_train, df_test = train_test_split(df, test_size=0.2)\n",
    "df_test.head()"
   ]
  },
  {
   "cell_type": "markdown",
   "metadata": {},
   "source": [
    "Let's split the dataset in 80% training set, 20% test set."
   ]
  },
  {
   "cell_type": "markdown",
   "metadata": {},
   "source": [
    "Try to run the code above multiple times.\n",
    "\n",
    "What do you observe? Is it a problem? How do you solve it?"
   ]
  },
  {
   "cell_type": "markdown",
   "metadata": {},
   "source": [
    "To achieve reproducibility, set the seed"
   ]
  },
  {
   "cell_type": "code",
   "execution_count": 351,
   "metadata": {},
   "outputs": [
    {
     "name": "stdout",
     "output_type": "stream",
     "text": [
      "Training samples  233 ; Test samples  59\n"
     ]
    }
   ],
   "source": [
    "df_train, df_test = train_test_split(df, test_size=0.2, random_state=1)\n",
    "df_test.head()\n",
    "\n",
    "print('Training samples ', df_train.shape[0], '; Test samples ', df_test.shape[0])"
   ]
  },
  {
   "cell_type": "markdown",
   "metadata": {},
   "source": [
    "## Univariate Linear Regression"
   ]
  },
  {
   "cell_type": "markdown",
   "metadata": {},
   "source": [
    "**Goal**: Predict `label_num` based on `KBytesReceived`"
   ]
  },
  {
   "cell_type": "code",
   "execution_count": 352,
   "metadata": {},
   "outputs": [
    {
     "data": {
      "text/html": [
       "<div>\n",
       "<style scoped>\n",
       "    .dataframe tbody tr th:only-of-type {\n",
       "        vertical-align: middle;\n",
       "    }\n",
       "\n",
       "    .dataframe tbody tr th {\n",
       "        vertical-align: top;\n",
       "    }\n",
       "\n",
       "    .dataframe thead th {\n",
       "        text-align: right;\n",
       "    }\n",
       "</style>\n",
       "<table border=\"1\" class=\"dataframe\">\n",
       "  <thead>\n",
       "    <tr style=\"text-align: right;\">\n",
       "      <th></th>\n",
       "      <th>KBytesReceived</th>\n",
       "      <th>label_num</th>\n",
       "    </tr>\n",
       "  </thead>\n",
       "  <tbody>\n",
       "    <tr>\n",
       "      <th>138</th>\n",
       "      <td>37.584</td>\n",
       "      <td>144</td>\n",
       "    </tr>\n",
       "    <tr>\n",
       "      <th>150</th>\n",
       "      <td>137.403</td>\n",
       "      <td>480</td>\n",
       "    </tr>\n",
       "    <tr>\n",
       "      <th>70</th>\n",
       "      <td>91.872</td>\n",
       "      <td>1080</td>\n",
       "    </tr>\n",
       "    <tr>\n",
       "      <th>251</th>\n",
       "      <td>19.488</td>\n",
       "      <td>240</td>\n",
       "    </tr>\n",
       "    <tr>\n",
       "      <th>175</th>\n",
       "      <td>185.401</td>\n",
       "      <td>480</td>\n",
       "    </tr>\n",
       "    <tr>\n",
       "      <th>42</th>\n",
       "      <td>104.400</td>\n",
       "      <td>1080</td>\n",
       "    </tr>\n",
       "    <tr>\n",
       "      <th>73</th>\n",
       "      <td>46.677</td>\n",
       "      <td>720</td>\n",
       "    </tr>\n",
       "    <tr>\n",
       "      <th>168</th>\n",
       "      <td>119.712</td>\n",
       "      <td>720</td>\n",
       "    </tr>\n",
       "    <tr>\n",
       "      <th>5</th>\n",
       "      <td>114.236</td>\n",
       "      <td>360</td>\n",
       "    </tr>\n",
       "    <tr>\n",
       "      <th>193</th>\n",
       "      <td>86.304</td>\n",
       "      <td>1080</td>\n",
       "    </tr>\n",
       "    <tr>\n",
       "      <th>38</th>\n",
       "      <td>208.148</td>\n",
       "      <td>720</td>\n",
       "    </tr>\n",
       "    <tr>\n",
       "      <th>271</th>\n",
       "      <td>40.368</td>\n",
       "      <td>720</td>\n",
       "    </tr>\n",
       "    <tr>\n",
       "      <th>122</th>\n",
       "      <td>35.121</td>\n",
       "      <td>360</td>\n",
       "    </tr>\n",
       "    <tr>\n",
       "      <th>277</th>\n",
       "      <td>17.579</td>\n",
       "      <td>240</td>\n",
       "    </tr>\n",
       "    <tr>\n",
       "      <th>95</th>\n",
       "      <td>13.920</td>\n",
       "      <td>240</td>\n",
       "    </tr>\n",
       "    <tr>\n",
       "      <th>34</th>\n",
       "      <td>102.146</td>\n",
       "      <td>720</td>\n",
       "    </tr>\n",
       "    <tr>\n",
       "      <th>171</th>\n",
       "      <td>25.037</td>\n",
       "      <td>720</td>\n",
       "    </tr>\n",
       "    <tr>\n",
       "      <th>284</th>\n",
       "      <td>14.758</td>\n",
       "      <td>360</td>\n",
       "    </tr>\n",
       "    <tr>\n",
       "      <th>112</th>\n",
       "      <td>104.856</td>\n",
       "      <td>240</td>\n",
       "    </tr>\n",
       "    <tr>\n",
       "      <th>187</th>\n",
       "      <td>137.483</td>\n",
       "      <td>360</td>\n",
       "    </tr>\n",
       "    <tr>\n",
       "      <th>239</th>\n",
       "      <td>81.407</td>\n",
       "      <td>720</td>\n",
       "    </tr>\n",
       "    <tr>\n",
       "      <th>19</th>\n",
       "      <td>41.931</td>\n",
       "      <td>480</td>\n",
       "    </tr>\n",
       "    <tr>\n",
       "      <th>14</th>\n",
       "      <td>86.188</td>\n",
       "      <td>720</td>\n",
       "    </tr>\n",
       "    <tr>\n",
       "      <th>212</th>\n",
       "      <td>104.400</td>\n",
       "      <td>360</td>\n",
       "    </tr>\n",
       "    <tr>\n",
       "      <th>158</th>\n",
       "      <td>15.312</td>\n",
       "      <td>240</td>\n",
       "    </tr>\n",
       "    <tr>\n",
       "      <th>44</th>\n",
       "      <td>19.560</td>\n",
       "      <td>480</td>\n",
       "    </tr>\n",
       "    <tr>\n",
       "      <th>228</th>\n",
       "      <td>38.804</td>\n",
       "      <td>720</td>\n",
       "    </tr>\n",
       "    <tr>\n",
       "      <th>137</th>\n",
       "      <td>98.832</td>\n",
       "      <td>720</td>\n",
       "    </tr>\n",
       "    <tr>\n",
       "      <th>107</th>\n",
       "      <td>61.698</td>\n",
       "      <td>240</td>\n",
       "    </tr>\n",
       "    <tr>\n",
       "      <th>246</th>\n",
       "      <td>57.072</td>\n",
       "      <td>480</td>\n",
       "    </tr>\n",
       "    <tr>\n",
       "      <th>...</th>\n",
       "      <td>...</td>\n",
       "      <td>...</td>\n",
       "    </tr>\n",
       "    <tr>\n",
       "      <th>115</th>\n",
       "      <td>101.338</td>\n",
       "      <td>1080</td>\n",
       "    </tr>\n",
       "    <tr>\n",
       "      <th>270</th>\n",
       "      <td>69.600</td>\n",
       "      <td>480</td>\n",
       "    </tr>\n",
       "    <tr>\n",
       "      <th>216</th>\n",
       "      <td>38.976</td>\n",
       "      <td>360</td>\n",
       "    </tr>\n",
       "    <tr>\n",
       "      <th>264</th>\n",
       "      <td>116.928</td>\n",
       "      <td>480</td>\n",
       "    </tr>\n",
       "    <tr>\n",
       "      <th>209</th>\n",
       "      <td>97.138</td>\n",
       "      <td>360</td>\n",
       "    </tr>\n",
       "    <tr>\n",
       "      <th>1</th>\n",
       "      <td>52.973</td>\n",
       "      <td>360</td>\n",
       "    </tr>\n",
       "    <tr>\n",
       "      <th>22</th>\n",
       "      <td>175.480</td>\n",
       "      <td>720</td>\n",
       "    </tr>\n",
       "    <tr>\n",
       "      <th>7</th>\n",
       "      <td>67.177</td>\n",
       "      <td>144</td>\n",
       "    </tr>\n",
       "    <tr>\n",
       "      <th>141</th>\n",
       "      <td>118.490</td>\n",
       "      <td>360</td>\n",
       "    </tr>\n",
       "    <tr>\n",
       "      <th>86</th>\n",
       "      <td>133.740</td>\n",
       "      <td>720</td>\n",
       "    </tr>\n",
       "    <tr>\n",
       "      <th>241</th>\n",
       "      <td>37.649</td>\n",
       "      <td>480</td>\n",
       "    </tr>\n",
       "    <tr>\n",
       "      <th>215</th>\n",
       "      <td>71.466</td>\n",
       "      <td>720</td>\n",
       "    </tr>\n",
       "    <tr>\n",
       "      <th>68</th>\n",
       "      <td>32.016</td>\n",
       "      <td>480</td>\n",
       "    </tr>\n",
       "    <tr>\n",
       "      <th>50</th>\n",
       "      <td>54.288</td>\n",
       "      <td>480</td>\n",
       "    </tr>\n",
       "    <tr>\n",
       "      <th>156</th>\n",
       "      <td>25.005</td>\n",
       "      <td>1080</td>\n",
       "    </tr>\n",
       "    <tr>\n",
       "      <th>252</th>\n",
       "      <td>30.624</td>\n",
       "      <td>720</td>\n",
       "    </tr>\n",
       "    <tr>\n",
       "      <th>254</th>\n",
       "      <td>44.544</td>\n",
       "      <td>1080</td>\n",
       "    </tr>\n",
       "    <tr>\n",
       "      <th>276</th>\n",
       "      <td>16.235</td>\n",
       "      <td>144</td>\n",
       "    </tr>\n",
       "    <tr>\n",
       "      <th>178</th>\n",
       "      <td>36.811</td>\n",
       "      <td>480</td>\n",
       "    </tr>\n",
       "    <tr>\n",
       "      <th>281</th>\n",
       "      <td>27.840</td>\n",
       "      <td>480</td>\n",
       "    </tr>\n",
       "    <tr>\n",
       "      <th>237</th>\n",
       "      <td>37.584</td>\n",
       "      <td>240</td>\n",
       "    </tr>\n",
       "    <tr>\n",
       "      <th>71</th>\n",
       "      <td>62.640</td>\n",
       "      <td>240</td>\n",
       "    </tr>\n",
       "    <tr>\n",
       "      <th>129</th>\n",
       "      <td>13.920</td>\n",
       "      <td>720</td>\n",
       "    </tr>\n",
       "    <tr>\n",
       "      <th>144</th>\n",
       "      <td>20.880</td>\n",
       "      <td>480</td>\n",
       "    </tr>\n",
       "    <tr>\n",
       "      <th>133</th>\n",
       "      <td>30.922</td>\n",
       "      <td>480</td>\n",
       "    </tr>\n",
       "    <tr>\n",
       "      <th>203</th>\n",
       "      <td>84.912</td>\n",
       "      <td>720</td>\n",
       "    </tr>\n",
       "    <tr>\n",
       "      <th>255</th>\n",
       "      <td>47.328</td>\n",
       "      <td>144</td>\n",
       "    </tr>\n",
       "    <tr>\n",
       "      <th>72</th>\n",
       "      <td>77.036</td>\n",
       "      <td>720</td>\n",
       "    </tr>\n",
       "    <tr>\n",
       "      <th>235</th>\n",
       "      <td>34.753</td>\n",
       "      <td>360</td>\n",
       "    </tr>\n",
       "    <tr>\n",
       "      <th>37</th>\n",
       "      <td>32.016</td>\n",
       "      <td>480</td>\n",
       "    </tr>\n",
       "  </tbody>\n",
       "</table>\n",
       "<p>233 rows × 2 columns</p>\n",
       "</div>"
      ],
      "text/plain": [
       "     KBytesReceived  label_num\n",
       "138          37.584        144\n",
       "150         137.403        480\n",
       "70           91.872       1080\n",
       "251          19.488        240\n",
       "175         185.401        480\n",
       "42          104.400       1080\n",
       "73           46.677        720\n",
       "168         119.712        720\n",
       "5           114.236        360\n",
       "193          86.304       1080\n",
       "38          208.148        720\n",
       "271          40.368        720\n",
       "122          35.121        360\n",
       "277          17.579        240\n",
       "95           13.920        240\n",
       "34          102.146        720\n",
       "171          25.037        720\n",
       "284          14.758        360\n",
       "112         104.856        240\n",
       "187         137.483        360\n",
       "239          81.407        720\n",
       "19           41.931        480\n",
       "14           86.188        720\n",
       "212         104.400        360\n",
       "158          15.312        240\n",
       "44           19.560        480\n",
       "228          38.804        720\n",
       "137          98.832        720\n",
       "107          61.698        240\n",
       "246          57.072        480\n",
       "..              ...        ...\n",
       "115         101.338       1080\n",
       "270          69.600        480\n",
       "216          38.976        360\n",
       "264         116.928        480\n",
       "209          97.138        360\n",
       "1            52.973        360\n",
       "22          175.480        720\n",
       "7            67.177        144\n",
       "141         118.490        360\n",
       "86          133.740        720\n",
       "241          37.649        480\n",
       "215          71.466        720\n",
       "68           32.016        480\n",
       "50           54.288        480\n",
       "156          25.005       1080\n",
       "252          30.624        720\n",
       "254          44.544       1080\n",
       "276          16.235        144\n",
       "178          36.811        480\n",
       "281          27.840        480\n",
       "237          37.584        240\n",
       "71           62.640        240\n",
       "129          13.920        720\n",
       "144          20.880        480\n",
       "133          30.922        480\n",
       "203          84.912        720\n",
       "255          47.328        144\n",
       "72           77.036        720\n",
       "235          34.753        360\n",
       "37           32.016        480\n",
       "\n",
       "[233 rows x 2 columns]"
      ]
     },
     "execution_count": 352,
     "metadata": {},
     "output_type": "execute_result"
    }
   ],
   "source": [
    "df_train[['KBytesReceived','label_num']]"
   ]
  },
  {
   "cell_type": "markdown",
   "metadata": {},
   "source": [
    "Let's separate the independent variables $X$ from the dependent variables $y$"
   ]
  },
  {
   "cell_type": "code",
   "execution_count": 353,
   "metadata": {},
   "outputs": [],
   "source": [
    "# .reshape(-1, 1) is needed since we have one single feature\n",
    "X_train = df_train['KBytesReceived'].values\n",
    "\n",
    "# Models want matrices as input, while now we have a 1D array.\n",
    "# We need to do the following\n",
    "X_train = X_train.reshape(-1, 1);\n",
    "\n",
    "y_train = df_train['label_num'].values;\n",
    "\n",
    "\n",
    "# Do the same for the test dataset\n",
    "X_test = df_test['KBytesReceived'].values\n",
    "\n",
    "# Models want matrices as input, while now we have a 1D array.\n",
    "# We need to do the following\n",
    "X_test = X_test.reshape(-1, 1);\n",
    "\n",
    "y_test = df_test['label_num'].values;"
   ]
  },
  {
   "cell_type": "markdown",
   "metadata": {},
   "source": [
    "Let's train our first supervised learning model: an Ordinary Least Squares model."
   ]
  },
  {
   "cell_type": "code",
   "execution_count": 354,
   "metadata": {},
   "outputs": [
    {
     "name": "stdout",
     "output_type": "stream",
     "text": [
      "theta_0 =  527.5463632370178 ; theta_1 =  [1.11462853]\n"
     ]
    }
   ],
   "source": [
    "model = sklearn.linear_model.LinearRegression()\n",
    "model.fit(X_train,y_train)\n",
    "\n",
    "print(\"theta_0 = \", model.intercept_, \"; theta_1 = \", model.coef_)"
   ]
  },
  {
   "cell_type": "markdown",
   "metadata": {},
   "source": [
    "Now we have a trained model $h_{\\theta*}(\\cdot)$ stored in `model`. We can use it to predict new values."
   ]
  },
  {
   "cell_type": "code",
   "execution_count": 355,
   "metadata": {},
   "outputs": [
    {
     "data": {
      "text/plain": [
       "array([ 814.00589428, 1111.61171058, 1210.81364935,  776.10852442])"
      ]
     },
     "execution_count": 355,
     "metadata": {},
     "output_type": "execute_result"
    }
   ],
   "source": [
    "newKBytesReceivedSamples = np.array([257, 524, 613, 223])\n",
    "\n",
    "# Models want matrices as input, while now we have a 1D array.\n",
    "# We need to do the following\n",
    "newKBytesReceivedSamples = newKBytesReceivedSamples.reshape(-1, 1)\n",
    "\n",
    "predictedLabels = model.predict(newKBytesReceivedSamples)\n",
    "predictedLabels"
   ]
  },
  {
   "cell_type": "markdown",
   "metadata": {},
   "source": [
    "To plot the model, we let it predict on an interval"
   ]
  },
  {
   "cell_type": "code",
   "execution_count": 356,
   "metadata": {},
   "outputs": [],
   "source": [
    "interval = np.array([-100,1200]).reshape(-1,1)\n",
    "h_values = model.predict(interval)"
   ]
  },
  {
   "cell_type": "markdown",
   "metadata": {},
   "source": [
    "Let's plot the new model"
   ]
  },
  {
   "cell_type": "code",
   "execution_count": 357,
   "metadata": {
    "scrolled": false
   },
   "outputs": [
    {
     "data": {
      "image/png": "[encoded data removed]",
      "text/plain": [
       "<Figure size 432x288 with 1 Axes>"
      ]
     },
     "execution_count": 357,
     "metadata": {},
     "output_type": "execute_result"
    }
   ],
   "source": [
    "ax.plot(interval,h_values, label=\"Linear Regression (OLS)\")\n",
    "ax.legend()\n",
    "\n",
    "fig.savefig('img/QoE-prediction-OLS.pdf')\n",
    "fig"
   ]
  },
  {
   "cell_type": "code",
   "execution_count": 358,
   "metadata": {
    "scrolled": true
   },
   "outputs": [
    {
     "name": "stdout",
     "output_type": "stream",
     "text": [
      "theta_0 =  527.5463632370178 ; theta_1 =  [1.11462853]\n"
     ]
    }
   ],
   "source": [
    "print(\"theta_0 = \", model.intercept_, \"; theta_1 = \", model.coef_)"
   ]
  },
  {
   "cell_type": "markdown",
   "metadata": {},
   "source": [
    "The model we get is\n",
    "\n",
    "$$\n",
    "    h_{\\theta*}(x) = 327.6 + 0.7 x\n",
    "$$"
   ]
  },
  {
   "cell_type": "markdown",
   "metadata": {},
   "source": [
    "Let's evaluate the model on the test set"
   ]
  },
  {
   "cell_type": "code",
   "execution_count": 359,
   "metadata": {},
   "outputs": [],
   "source": [
    "y_pred = model.predict(X_test)"
   ]
  },
  {
   "cell_type": "markdown",
   "metadata": {},
   "source": [
    "Let us compare the true test labels and the predicted"
   ]
  },
  {
   "cell_type": "code",
   "execution_count": 360,
   "metadata": {
    "scrolled": true
   },
   "outputs": [
    {
     "data": {
      "text/html": [
       "<div>\n",
       "<style scoped>\n",
       "    .dataframe tbody tr th:only-of-type {\n",
       "        vertical-align: middle;\n",
       "    }\n",
       "\n",
       "    .dataframe tbody tr th {\n",
       "        vertical-align: top;\n",
       "    }\n",
       "\n",
       "    .dataframe thead th {\n",
       "        text-align: right;\n",
       "    }\n",
       "</style>\n",
       "<table border=\"1\" class=\"dataframe\">\n",
       "  <thead>\n",
       "    <tr style=\"text-align: right;\">\n",
       "      <th></th>\n",
       "      <th>true</th>\n",
       "      <th>pred</th>\n",
       "    </tr>\n",
       "  </thead>\n",
       "  <tbody>\n",
       "    <tr>\n",
       "      <th>0</th>\n",
       "      <td>360</td>\n",
       "      <td>633.718074</td>\n",
       "    </tr>\n",
       "    <tr>\n",
       "      <th>1</th>\n",
       "      <td>144</td>\n",
       "      <td>597.366694</td>\n",
       "    </tr>\n",
       "    <tr>\n",
       "      <th>2</th>\n",
       "      <td>720</td>\n",
       "      <td>668.044174</td>\n",
       "    </tr>\n",
       "    <tr>\n",
       "      <th>3</th>\n",
       "      <td>720</td>\n",
       "      <td>634.346725</td>\n",
       "    </tr>\n",
       "    <tr>\n",
       "      <th>4</th>\n",
       "      <td>720</td>\n",
       "      <td>574.084333</td>\n",
       "    </tr>\n",
       "    <tr>\n",
       "      <th>5</th>\n",
       "      <td>720</td>\n",
       "      <td>632.597873</td>\n",
       "    </tr>\n",
       "    <tr>\n",
       "      <th>6</th>\n",
       "      <td>480</td>\n",
       "      <td>591.160442</td>\n",
       "    </tr>\n",
       "    <tr>\n",
       "      <th>7</th>\n",
       "      <td>720</td>\n",
       "      <td>623.743263</td>\n",
       "    </tr>\n",
       "    <tr>\n",
       "      <th>8</th>\n",
       "      <td>1080</td>\n",
       "      <td>613.119739</td>\n",
       "    </tr>\n",
       "    <tr>\n",
       "      <th>9</th>\n",
       "      <td>1080</td>\n",
       "      <td>648.685306</td>\n",
       "    </tr>\n",
       "    <tr>\n",
       "      <th>10</th>\n",
       "      <td>360</td>\n",
       "      <td>605.725293</td>\n",
       "    </tr>\n",
       "    <tr>\n",
       "      <th>11</th>\n",
       "      <td>720</td>\n",
       "      <td>545.351439</td>\n",
       "    </tr>\n",
       "    <tr>\n",
       "      <th>12</th>\n",
       "      <td>144</td>\n",
       "      <td>539.698043</td>\n",
       "    </tr>\n",
       "    <tr>\n",
       "      <th>13</th>\n",
       "      <td>1080</td>\n",
       "      <td>611.270570</td>\n",
       "    </tr>\n",
       "    <tr>\n",
       "      <th>14</th>\n",
       "      <td>144</td>\n",
       "      <td>552.454967</td>\n",
       "    </tr>\n",
       "    <tr>\n",
       "      <th>15</th>\n",
       "      <td>144</td>\n",
       "      <td>543.493354</td>\n",
       "    </tr>\n",
       "    <tr>\n",
       "      <th>16</th>\n",
       "      <td>1080</td>\n",
       "      <td>678.047965</td>\n",
       "    </tr>\n",
       "    <tr>\n",
       "      <th>17</th>\n",
       "      <td>480</td>\n",
       "      <td>557.026058</td>\n",
       "    </tr>\n",
       "    <tr>\n",
       "      <th>18</th>\n",
       "      <td>1080</td>\n",
       "      <td>597.366694</td>\n",
       "    </tr>\n",
       "    <tr>\n",
       "      <th>19</th>\n",
       "      <td>360</td>\n",
       "      <td>634.604204</td>\n",
       "    </tr>\n",
       "    <tr>\n",
       "      <th>20</th>\n",
       "      <td>480</td>\n",
       "      <td>625.289253</td>\n",
       "    </tr>\n",
       "    <tr>\n",
       "      <th>21</th>\n",
       "      <td>720</td>\n",
       "      <td>560.395581</td>\n",
       "    </tr>\n",
       "    <tr>\n",
       "      <th>22</th>\n",
       "      <td>480</td>\n",
       "      <td>561.680747</td>\n",
       "    </tr>\n",
       "    <tr>\n",
       "      <th>23</th>\n",
       "      <td>144</td>\n",
       "      <td>574.335125</td>\n",
       "    </tr>\n",
       "    <tr>\n",
       "      <th>24</th>\n",
       "      <td>1080</td>\n",
       "      <td>664.083899</td>\n",
       "    </tr>\n",
       "    <tr>\n",
       "      <th>25</th>\n",
       "      <td>720</td>\n",
       "      <td>546.728006</td>\n",
       "    </tr>\n",
       "    <tr>\n",
       "      <th>26</th>\n",
       "      <td>720</td>\n",
       "      <td>833.389284</td>\n",
       "    </tr>\n",
       "    <tr>\n",
       "      <th>27</th>\n",
       "      <td>480</td>\n",
       "      <td>649.102177</td>\n",
       "    </tr>\n",
       "    <tr>\n",
       "      <th>28</th>\n",
       "      <td>480</td>\n",
       "      <td>579.975145</td>\n",
       "    </tr>\n",
       "    <tr>\n",
       "      <th>29</th>\n",
       "      <td>240</td>\n",
       "      <td>639.335802</td>\n",
       "    </tr>\n",
       "    <tr>\n",
       "      <th>30</th>\n",
       "      <td>480</td>\n",
       "      <td>584.954191</td>\n",
       "    </tr>\n",
       "    <tr>\n",
       "      <th>31</th>\n",
       "      <td>144</td>\n",
       "      <td>560.129184</td>\n",
       "    </tr>\n",
       "    <tr>\n",
       "      <th>32</th>\n",
       "      <td>720</td>\n",
       "      <td>639.565415</td>\n",
       "    </tr>\n",
       "    <tr>\n",
       "      <th>33</th>\n",
       "      <td>360</td>\n",
       "      <td>581.851065</td>\n",
       "    </tr>\n",
       "    <tr>\n",
       "      <th>34</th>\n",
       "      <td>480</td>\n",
       "      <td>549.268244</td>\n",
       "    </tr>\n",
       "    <tr>\n",
       "      <th>35</th>\n",
       "      <td>360</td>\n",
       "      <td>567.178095</td>\n",
       "    </tr>\n",
       "    <tr>\n",
       "      <th>36</th>\n",
       "      <td>1080</td>\n",
       "      <td>726.146415</td>\n",
       "    </tr>\n",
       "    <tr>\n",
       "      <th>37</th>\n",
       "      <td>240</td>\n",
       "      <td>539.958866</td>\n",
       "    </tr>\n",
       "    <tr>\n",
       "      <th>38</th>\n",
       "      <td>1080</td>\n",
       "      <td>547.716681</td>\n",
       "    </tr>\n",
       "    <tr>\n",
       "      <th>39</th>\n",
       "      <td>144</td>\n",
       "      <td>554.211621</td>\n",
       "    </tr>\n",
       "    <tr>\n",
       "      <th>40</th>\n",
       "      <td>1080</td>\n",
       "      <td>628.397952</td>\n",
       "    </tr>\n",
       "    <tr>\n",
       "      <th>41</th>\n",
       "      <td>720</td>\n",
       "      <td>728.186186</td>\n",
       "    </tr>\n",
       "    <tr>\n",
       "      <th>42</th>\n",
       "      <td>1080</td>\n",
       "      <td>597.763502</td>\n",
       "    </tr>\n",
       "    <tr>\n",
       "      <th>43</th>\n",
       "      <td>1080</td>\n",
       "      <td>636.805595</td>\n",
       "    </tr>\n",
       "    <tr>\n",
       "      <th>44</th>\n",
       "      <td>480</td>\n",
       "      <td>560.393351</td>\n",
       "    </tr>\n",
       "    <tr>\n",
       "      <th>45</th>\n",
       "      <td>240</td>\n",
       "      <td>592.892575</td>\n",
       "    </tr>\n",
       "    <tr>\n",
       "      <th>46</th>\n",
       "      <td>1080</td>\n",
       "      <td>580.299502</td>\n",
       "    </tr>\n",
       "    <tr>\n",
       "      <th>47</th>\n",
       "      <td>720</td>\n",
       "      <td>578.296515</td>\n",
       "    </tr>\n",
       "    <tr>\n",
       "      <th>48</th>\n",
       "      <td>240</td>\n",
       "      <td>570.990125</td>\n",
       "    </tr>\n",
       "    <tr>\n",
       "      <th>49</th>\n",
       "      <td>480</td>\n",
       "      <td>594.122010</td>\n",
       "    </tr>\n",
       "    <tr>\n",
       "      <th>50</th>\n",
       "      <td>144</td>\n",
       "      <td>540.759170</td>\n",
       "    </tr>\n",
       "    <tr>\n",
       "      <th>51</th>\n",
       "      <td>480</td>\n",
       "      <td>624.709646</td>\n",
       "    </tr>\n",
       "    <tr>\n",
       "      <th>52</th>\n",
       "      <td>720</td>\n",
       "      <td>660.053402</td>\n",
       "    </tr>\n",
       "    <tr>\n",
       "      <th>53</th>\n",
       "      <td>1080</td>\n",
       "      <td>629.949515</td>\n",
       "    </tr>\n",
       "    <tr>\n",
       "      <th>54</th>\n",
       "      <td>480</td>\n",
       "      <td>560.129184</td>\n",
       "    </tr>\n",
       "    <tr>\n",
       "      <th>55</th>\n",
       "      <td>480</td>\n",
       "      <td>606.676072</td>\n",
       "    </tr>\n",
       "    <tr>\n",
       "      <th>56</th>\n",
       "      <td>480</td>\n",
       "      <td>581.851065</td>\n",
       "    </tr>\n",
       "    <tr>\n",
       "      <th>57</th>\n",
       "      <td>360</td>\n",
       "      <td>643.901320</td>\n",
       "    </tr>\n",
       "    <tr>\n",
       "      <th>58</th>\n",
       "      <td>720</td>\n",
       "      <td>577.196376</td>\n",
       "    </tr>\n",
       "  </tbody>\n",
       "</table>\n",
       "</div>"
      ],
      "text/plain": [
       "    true        pred\n",
       "0    360  633.718074\n",
       "1    144  597.366694\n",
       "2    720  668.044174\n",
       "3    720  634.346725\n",
       "4    720  574.084333\n",
       "5    720  632.597873\n",
       "6    480  591.160442\n",
       "7    720  623.743263\n",
       "8   1080  613.119739\n",
       "9   1080  648.685306\n",
       "10   360  605.725293\n",
       "11   720  545.351439\n",
       "12   144  539.698043\n",
       "13  1080  611.270570\n",
       "14   144  552.454967\n",
       "15   144  543.493354\n",
       "16  1080  678.047965\n",
       "17   480  557.026058\n",
       "18  1080  597.366694\n",
       "19   360  634.604204\n",
       "20   480  625.289253\n",
       "21   720  560.395581\n",
       "22   480  561.680747\n",
       "23   144  574.335125\n",
       "24  1080  664.083899\n",
       "25   720  546.728006\n",
       "26   720  833.389284\n",
       "27   480  649.102177\n",
       "28   480  579.975145\n",
       "29   240  639.335802\n",
       "30   480  584.954191\n",
       "31   144  560.129184\n",
       "32   720  639.565415\n",
       "33   360  581.851065\n",
       "34   480  549.268244\n",
       "35   360  567.178095\n",
       "36  1080  726.146415\n",
       "37   240  539.958866\n",
       "38  1080  547.716681\n",
       "39   144  554.211621\n",
       "40  1080  628.397952\n",
       "41   720  728.186186\n",
       "42  1080  597.763502\n",
       "43  1080  636.805595\n",
       "44   480  560.393351\n",
       "45   240  592.892575\n",
       "46  1080  580.299502\n",
       "47   720  578.296515\n",
       "48   240  570.990125\n",
       "49   480  594.122010\n",
       "50   144  540.759170\n",
       "51   480  624.709646\n",
       "52   720  660.053402\n",
       "53  1080  629.949515\n",
       "54   480  560.129184\n",
       "55   480  606.676072\n",
       "56   480  581.851065\n",
       "57   360  643.901320\n",
       "58   720  577.196376"
      ]
     },
     "execution_count": 360,
     "metadata": {},
     "output_type": "execute_result"
    }
   ],
   "source": [
    "pd.DataFrame({'true':y_test,'pred':y_pred})"
   ]
  },
  {
   "cell_type": "markdown",
   "metadata": {},
   "source": [
    "Let's compute the Mean Square Error (MSE)"
   ]
  },
  {
   "cell_type": "code",
   "execution_count": 361,
   "metadata": {
    "scrolled": true
   },
   "outputs": [
    {
     "data": {
      "text/plain": [
       "89761.25092432198"
      ]
     },
     "execution_count": 361,
     "metadata": {},
     "output_type": "execute_result"
    }
   ],
   "source": [
    "MSE = mean_squared_error(y_test, y_pred)\n",
    "MSE"
   ]
  },
  {
   "cell_type": "markdown",
   "metadata": {},
   "source": [
    "The Root MSE is easier to understand"
   ]
  },
  {
   "cell_type": "code",
   "execution_count": 362,
   "metadata": {
    "scrolled": true
   },
   "outputs": [
    {
     "data": {
      "text/plain": [
       "299.6018206291844"
      ]
     },
     "execution_count": 362,
     "metadata": {},
     "output_type": "execute_result"
    }
   ],
   "source": [
    "RMSE_one_feature = math.sqrt(MSE)\n",
    "RMSE_one_feature"
   ]
  },
  {
   "cell_type": "markdown",
   "metadata": {},
   "source": [
    "\n",
    "\n",
    "\n",
    "### Use transformed variables"
   ]
  },
  {
   "cell_type": "markdown",
   "metadata": {},
   "source": [
    "We observe that the values of `KBytesReceived` are squashed toward small values (we also checked it with a histogram in the last notebook). We have shown in the last notebook that in this case a log transformation can unveil correlation.\n",
    "\n",
    "We now show that it also improves the model. First, have a look at the plot"
   ]
  },
  {
   "cell_type": "code",
   "execution_count": 363,
   "metadata": {
    "scrolled": false
   },
   "outputs": [
    {
     "data": {
      "text/plain": [
       "[Text(0, 0.5, 'label_num'), Text(0.5, 0, 'KBytesReceived_log')]"
      ]
     },
     "execution_count": 363,
     "metadata": {},
     "output_type": "execute_result"
    },
    {
     "data": {
      "image/png": "[encoded data removed]",
      "text/plain": [
       "<Figure size 432x288 with 1 Axes>"
      ]
     },
     "metadata": {
      "needs_background": "light"
     },
     "output_type": "display_data"
    }
   ],
   "source": [
    "fig, ax = plt.subplots()\n",
    "ax.scatter(df['KBytesReceived_log'],df['label_num'],color='red',s=1)\n",
    "ax.set(ylabel=\"label_num\",xlabel=\"KBytesReceived_log\")"
   ]
  },
  {
   "cell_type": "markdown",
   "metadata": {},
   "source": [
    "Let's train the new model"
   ]
  },
  {
   "cell_type": "code",
   "execution_count": 364,
   "metadata": {},
   "outputs": [
    {
     "data": {
      "text/plain": [
       "LinearRegression(copy_X=True, fit_intercept=True, n_jobs=None, normalize=False)"
      ]
     },
     "execution_count": 364,
     "metadata": {},
     "output_type": "execute_result"
    }
   ],
   "source": [
    "X_train = df_train['KBytesReceived_log'].values.reshape(-1,1)\n",
    "X_test = df_test['KBytesReceived_log'].values.reshape(-1,1)\n",
    "model.fit(X_train,y_train)"
   ]
  },
  {
   "cell_type": "markdown",
   "metadata": {},
   "source": [
    "Let's plot the corresponding line"
   ]
  },
  {
   "cell_type": "code",
   "execution_count": 365,
   "metadata": {
    "scrolled": true
   },
   "outputs": [
    {
     "data": {
      "image/png": "[encoded data removed]",
      "text/plain": [
       "<Figure size 432x288 with 1 Axes>"
      ]
     },
     "execution_count": 365,
     "metadata": {},
     "output_type": "execute_result"
    }
   ],
   "source": [
    "interval = np.array([2,6]).reshape(-1,1)\n",
    "h_values = model.predict(interval)\n",
    "ax.plot(interval, h_values, label=\"transformed model\")\n",
    "fig"
   ]
  },
  {
   "cell_type": "markdown",
   "metadata": {},
   "source": [
    "Let's check the test error"
   ]
  },
  {
   "cell_type": "code",
   "execution_count": 366,
   "metadata": {},
   "outputs": [
    {
     "data": {
      "text/plain": [
       "288.69197221686903"
      ]
     },
     "execution_count": 366,
     "metadata": {},
     "output_type": "execute_result"
    }
   ],
   "source": [
    "y_pred = model.predict(X_test)\n",
    "MSE = mean_squared_error(y_test, y_pred)\n",
    "RMSE_1_feature = math.sqrt(MSE)\n",
    "RMSE_1_feature"
   ]
  },
  {
   "cell_type": "markdown",
   "metadata": {},
   "source": [
    "Using the logarithmic transformation, we improved the model."
   ]
  },
  {
   "cell_type": "markdown",
   "metadata": {},
   "source": [
    "## Multivariate Linear Regression"
   ]
  },
  {
   "cell_type": "markdown",
   "metadata": {},
   "source": [
    "Can we improve the test loss if we use other features?\n",
    "\n",
    "Have a first look at the more correlated features (see notebook on data exploration)"
   ]
  },
  {
   "cell_type": "code",
   "execution_count": 367,
   "metadata": {
    "scrolled": false
   },
   "outputs": [
    {
     "data": {
      "text/plain": [
       "label_num              1.000\n",
       "EpochTime             -0.408\n",
       "StartTime             -0.408\n",
       "PacketsSent            0.384\n",
       "PacketsSent0           0.363\n",
       "BytesReceived_log      0.340\n",
       "KBytesReceived_log     0.340\n",
       "PacketsReceived_log    0.336\n",
       "BytesSent0             0.297\n",
       "BytesReceived          0.264\n",
       "KBytesReceived         0.264\n",
       "PacketsSent_log        0.257\n",
       "PacketsReceived        0.252\n",
       "BytesSent3            -0.234\n",
       "BytesSent              0.225\n",
       "BytesReceived0         0.203\n",
       "PacketsReceived0       0.199\n",
       "BytesSent4            -0.182\n",
       "PacketsSent3          -0.148\n",
       "PacketsSent1           0.136\n",
       "PlaybackProgress      -0.133\n",
       "BytesSent6            -0.130\n",
       "BytesSent15           -0.122\n",
       "PacketsSent15         -0.120\n",
       "PacketsReceived1       0.107\n",
       "BytesReceived1         0.106\n",
       "PacketsSent4          -0.105\n",
       "BufferHealth           0.104\n",
       "BytesSent1             0.104\n",
       "BytesReceived5        -0.099\n",
       "                       ...  \n",
       "PacketsSent20            NaN\n",
       "PacketsReceived20        NaN\n",
       "BytesSent20              NaN\n",
       "BytesReceived20          NaN\n",
       "Protocol21               NaN\n",
       "PacketsSent21            NaN\n",
       "PacketsReceived21        NaN\n",
       "BytesSent21              NaN\n",
       "BytesReceived21          NaN\n",
       "Protocol22               NaN\n",
       "PacketsSent22            NaN\n",
       "PacketsReceived22        NaN\n",
       "BytesSent22              NaN\n",
       "BytesReceived22          NaN\n",
       "Protocol23               NaN\n",
       "PacketsSent23            NaN\n",
       "PacketsReceived23        NaN\n",
       "BytesSent23              NaN\n",
       "BytesReceived23          NaN\n",
       "Protocol24               NaN\n",
       "PacketsSent24            NaN\n",
       "PacketsReceived24        NaN\n",
       "BytesSent24              NaN\n",
       "BytesReceived24          NaN\n",
       "Protocol25               NaN\n",
       "Buffering                NaN\n",
       "Paused                   NaN\n",
       "Playing                  NaN\n",
       "CollectData              NaN\n",
       "BufferValid              NaN\n",
       "Name: label_num, Length: 141, dtype: float64"
      ]
     },
     "execution_count": 367,
     "metadata": {},
     "output_type": "execute_result"
    }
   ],
   "source": [
    "corrmatrix = df.corr().round(3)\n",
    "corr_to_label_num = corrmatrix['label_num']\n",
    "# We sort based on the absolute value (see https://stackoverflow.com/a/30486411/2110769)\n",
    "corr_to_label_num.reindex(corr_to_label_num.abs().sort_values(ascending=False).index)"
   ]
  },
  {
   "cell_type": "markdown",
   "metadata": {},
   "source": [
    "Let's add `StartTime` among the regressors"
   ]
  },
  {
   "cell_type": "code",
   "execution_count": 368,
   "metadata": {
    "scrolled": true
   },
   "outputs": [
    {
     "data": {
      "text/plain": [
       "LinearRegression(copy_X=True, fit_intercept=True, n_jobs=None, normalize=False)"
      ]
     },
     "execution_count": 368,
     "metadata": {},
     "output_type": "execute_result"
    }
   ],
   "source": [
    "cols = ['KBytesReceived_log', 'StartTime']\n",
    "X_train = df_train[cols ].values\n",
    "model.fit(X_train, y_train)"
   ]
  },
  {
   "cell_type": "code",
   "execution_count": 369,
   "metadata": {},
   "outputs": [
    {
     "name": "stdout",
     "output_type": "stream",
     "text": [
      "theta_0= 106009.61693833006\n"
     ]
    },
    {
     "data": {
      "text/html": [
       "<div>\n",
       "<style scoped>\n",
       "    .dataframe tbody tr th:only-of-type {\n",
       "        vertical-align: middle;\n",
       "    }\n",
       "\n",
       "    .dataframe tbody tr th {\n",
       "        vertical-align: top;\n",
       "    }\n",
       "\n",
       "    .dataframe thead th {\n",
       "        text-align: right;\n",
       "    }\n",
       "</style>\n",
       "<table border=\"1\" class=\"dataframe\">\n",
       "  <thead>\n",
       "    <tr style=\"text-align: right;\">\n",
       "      <th></th>\n",
       "      <th>Feature</th>\n",
       "      <th>Coefficients</th>\n",
       "    </tr>\n",
       "  </thead>\n",
       "  <tbody>\n",
       "    <tr>\n",
       "      <th>0</th>\n",
       "      <td>KBytesReceived_log</td>\n",
       "      <td>9.526590e+01</td>\n",
       "    </tr>\n",
       "    <tr>\n",
       "      <th>1</th>\n",
       "      <td>StartTime</td>\n",
       "      <td>-6.957266e-08</td>\n",
       "    </tr>\n",
       "  </tbody>\n",
       "</table>\n",
       "</div>"
      ],
      "text/plain": [
       "              Feature  Coefficients\n",
       "0  KBytesReceived_log  9.526590e+01\n",
       "1           StartTime -6.957266e-08"
      ]
     },
     "execution_count": 369,
     "metadata": {},
     "output_type": "execute_result"
    }
   ],
   "source": [
    "print('theta_0=', model.intercept_)\n",
    "\n",
    "coefficients = pd.DataFrame({\"Feature\":cols,\n",
    "                             \"Coefficients\":np.transpose(model.coef_)})\n",
    "coefficients"
   ]
  },
  {
   "cell_type": "markdown",
   "metadata": {},
   "source": [
    "In more than 2D is more difficult to visualize"
   ]
  },
  {
   "cell_type": "code",
   "execution_count": 370,
   "metadata": {},
   "outputs": [],
   "source": [
    "X_test = df_test[['KBytesReceived_log', 'StartTime'] ].values\n",
    "y_pred = model.predict(X_test)"
   ]
  },
  {
   "cell_type": "code",
   "execution_count": 371,
   "metadata": {},
   "outputs": [
    {
     "name": "stdout",
     "output_type": "stream",
     "text": [
      "RMSE now:  263.6838813170785 ; RMSE with one feature:  299.6018206291844\n"
     ]
    }
   ],
   "source": [
    "MSE = mean_squared_error(y_test, y_pred)\n",
    "RMSE_some_features = math.sqrt(MSE)\n",
    "print('RMSE now: ', RMSE_some_features, '; RMSE with one feature: ',\n",
    "      RMSE_one_feature)"
   ]
  },
  {
   "cell_type": "markdown",
   "metadata": {},
   "source": [
    "We improved our RMSE by also considering `StartTime` ... BUT ...\n",
    "\n",
    "**Attention**: The correlation between `StartTime` and the label is __artificial__, just because the experimenter first measured low quality video sessions and then high quality. This would not be true in a real deployment\n",
    "\n",
    "\n",
    "**DO NOT BE OBSESSED BY REDUCING THE ERROR, AND LOOK AT THE MEANING OF FEATURES!**"
   ]
  },
  {
   "cell_type": "markdown",
   "metadata": {},
   "source": [
    "Let's add other correlated features"
   ]
  },
  {
   "cell_type": "code",
   "execution_count": 372,
   "metadata": {},
   "outputs": [
    {
     "name": "stdout",
     "output_type": "stream",
     "text": [
      "theta_0= 20102637.94171422 ; coefficients [ 3.70373654e+00  4.51942962e-01 -2.91006936e+06  2.90997096e+06\n",
      "  1.06310578e+02]\n"
     ]
    }
   ],
   "source": [
    "features_to_consider=['PacketsSent', 'PacketsSent0', 'BytesReceived_log',\n",
    "                     'KBytesReceived_log', 'PacketsReceived_log']\n",
    "\n",
    "X_train = df_train[features_to_consider]\n",
    "X_test = df_test[features_to_consider]\n",
    "\n",
    "model.fit(X_train, y_train)\n",
    "print('theta_0=', model.intercept_, '; coefficients', model.coef_)"
   ]
  },
  {
   "cell_type": "code",
   "execution_count": 373,
   "metadata": {},
   "outputs": [
    {
     "name": "stdout",
     "output_type": "stream",
     "text": [
      "RMSE now:  269.1524964130371 ; RMSE with one feature:  299.6018206291844\n"
     ]
    }
   ],
   "source": [
    "y_pred = model.predict(X_test)\n",
    "MSE = mean_squared_error(y_test, y_pred)\n",
    "RMSE_few_features = math.sqrt(MSE)\n",
    "print('RMSE now: ', RMSE_few_features, '; RMSE with one feature: ',\n",
    "      RMSE_one_feature)"
   ]
  },
  {
   "cell_type": "markdown",
   "metadata": {},
   "source": [
    "We improved a bit"
   ]
  },
  {
   "cell_type": "markdown",
   "metadata": {},
   "source": [
    "What if we take all the numeric features?"
   ]
  },
  {
   "cell_type": "code",
   "execution_count": 374,
   "metadata": {},
   "outputs": [
    {
     "data": {
      "text/plain": [
       "Index(['RelativeTime', 'PacketsSent', 'PacketsReceived', 'BytesSent',\n",
       "       'BytesReceived', 'PacketsSent0', 'PacketsReceived0', 'BytesSent0',\n",
       "       'BytesReceived0', 'PacketsSent1',\n",
       "       ...\n",
       "       'BufferHealth', 'BufferProgress', 'KBytesReceived', 'label_num',\n",
       "       'KBytesReceived_log', 'PacketsSent_log', 'PacketsReceived_log',\n",
       "       'BytesSent_log', 'BytesReceived_log', 'BufferProgress_log'],\n",
       "      dtype='object', length=140)"
      ]
     },
     "execution_count": 374,
     "metadata": {},
     "output_type": "execute_result"
    }
   ],
   "source": [
    "# Trick from https://stackoverflow.com/a/51684628/2110769\n",
    "cols = df_train.select_dtypes([np.number]).columns\n",
    "cols"
   ]
  },
  {
   "cell_type": "markdown",
   "metadata": {},
   "source": [
    "To construct our X_train and X_test, we should remove the target `label_num` and the \"artificial features\"."
   ]
  },
  {
   "cell_type": "code",
   "execution_count": 375,
   "metadata": {},
   "outputs": [],
   "source": [
    "cols = cols.drop(['label_num', 'StartTime', 'EpochTime' ] )"
   ]
  },
  {
   "cell_type": "code",
   "execution_count": 376,
   "metadata": {
    "scrolled": true
   },
   "outputs": [
    {
     "data": {
      "text/plain": [
       "LinearRegression(copy_X=True, fit_intercept=True, n_jobs=None, normalize=False)"
      ]
     },
     "execution_count": 376,
     "metadata": {},
     "output_type": "execute_result"
    }
   ],
   "source": [
    "X_train = df_train[cols]\n",
    "X_test = df_test[cols]\n",
    "\n",
    "model.fit(X_train, y_train)"
   ]
  },
  {
   "cell_type": "code",
   "execution_count": 377,
   "metadata": {},
   "outputs": [
    {
     "name": "stdout",
     "output_type": "stream",
     "text": [
      "RMSE now:  366.96557378060163 ; RMSE with some features:  263.6838813170785\n"
     ]
    }
   ],
   "source": [
    "y_pred = model.predict(X_test)\n",
    "MSE = mean_squared_error(y_test, y_pred)\n",
    "RMSE_many_features = math.sqrt(MSE)\n",
    "print('RMSE now: ', RMSE_many_features, '; RMSE with some features: ',\n",
    "      RMSE_some_features)\n"
   ]
  },
  {
   "cell_type": "markdown",
   "metadata": {},
   "source": [
    "What? We use more features and we obtain a worse model?\n",
    "\n",
    "The model is very bad on the test set. Is it good on the training set?"
   ]
  },
  {
   "cell_type": "markdown",
   "metadata": {},
   "source": [
    "Let's check the most correlated features"
   ]
  },
  {
   "cell_type": "code",
   "execution_count": 378,
   "metadata": {},
   "outputs": [
    {
     "data": {
      "text/plain": [
       "PacketsReceived8     BytesReceived8         1.000\n",
       "PacketsReceived15    BytesReceived15        1.000\n",
       "PacketsReceived13    BytesReceived13        1.000\n",
       "BytesReceived        KBytesReceived         1.000\n",
       "KBytesReceived_log   BytesReceived_log      1.000\n",
       "BufferProgress       BufferProgress_log     1.000\n",
       "PacketsReceived0     BytesReceived0         0.999\n",
       "PacketsSent25        BytesSent25            0.999\n",
       "PacketsReceived25    BytesReceived25        0.998\n",
       "PacketsSent13        BytesReceived13        0.997\n",
       "                     PacketsReceived13      0.997\n",
       "PacketsReceived1     BytesReceived1         0.996\n",
       "PacketsReceived2     BytesReceived2         0.996\n",
       "PacketsSent8         BytesSent8             0.995\n",
       "PacketsReceived      KBytesReceived         0.992\n",
       "                     BytesReceived          0.992\n",
       "PacketsSent12        BytesSent12            0.991\n",
       "PacketsSent13        BytesSent13            0.990\n",
       "KBytesReceived_log   PacketsReceived_log    0.988\n",
       "PacketsSent8         PacketsReceived8       0.988\n",
       "                     BytesReceived8         0.988\n",
       "PacketsReceived_log  BytesReceived_log      0.988\n",
       "PacketsSent15        BytesSent15            0.985\n",
       "BytesSent8           BytesReceived8         0.985\n",
       "PacketsReceived8     BytesSent8             0.985\n",
       "PacketsSent1         BytesSent1             0.975\n",
       "PacketsSent0         BytesSent0             0.975\n",
       "PacketsReceived13    BytesSent13            0.975\n",
       "BytesSent13          BytesReceived13        0.975\n",
       "PacketsReceived4     BytesReceived4         0.974\n",
       "PacketsSent12        PacketsReceived12      0.973\n",
       "PacketsReceived3     BytesReceived3         0.962\n",
       "PacketsReceived12    BytesSent12            0.959\n",
       "                     BytesReceived12        0.943\n",
       "PacketsSent2         PacketsReceived2       0.940\n",
       "PacketsSent          BytesSent              0.934\n",
       "PacketsSent4         PacketsReceived4       0.921\n",
       "PacketsSent9         PacketsReceived9       0.919\n",
       "PacketsSent1         PacketsReceived1       0.919\n",
       "PacketsSent2         BytesSent2             0.915\n",
       "                     BytesReceived2         0.913\n",
       "PacketsSent          PacketsSent0           0.912\n",
       "PacketsSent3         PacketsReceived3       0.911\n",
       "PacketsSent15        BytesReceived15        0.904\n",
       "PacketsSent_log      BytesSent_log          0.904\n",
       "PacketsSent15        PacketsReceived15      0.904\n",
       "dtype: float64"
      ]
     },
     "execution_count": 378,
     "metadata": {},
     "output_type": "execute_result"
    }
   ],
   "source": [
    "corrmatrix = df[cols].corr().round(3)\n",
    "\n",
    "\n",
    "# Trick from https://stackoverflow.com/a/43073761/2110769\n",
    "#the matrix is symmetric so we need to extract upper triangle matrix without diagonal (k = 1)\n",
    "highest_correlated = (corrmatrix.where(np.triu(np.ones(corrmatrix.shape), k=1).astype(np.bool))\n",
    "                 .stack()\n",
    "                 .sort_values(ascending=False))\n",
    "#first element of sol series is the pair with the bigest correlation\n",
    "\n",
    "highly_correlated = highest_correlated[highest_correlated>=0.9]\n",
    "highly_correlated"
   ]
  },
  {
   "cell_type": "markdown",
   "metadata": {},
   "source": [
    "As expected, packets received/set and bytes received/set are highly correlated. Also the variables transformed to log are correlated with the original ones. We can remove the original ones. If we have KBytes, we can remove Bytes"
   ]
  },
  {
   "cell_type": "code",
   "execution_count": 379,
   "metadata": {},
   "outputs": [
    {
     "name": "stdout",
     "output_type": "stream",
     "text": [
      "Now we are using  128  features for  233  samples\n",
      "RMSE_less_features:  369.1190653333921 ; RMSE with all features:  366.96557378060163 ; RMSE with some features:  263.6838813170785\n"
     ]
    }
   ],
   "source": [
    "cols_1 = cols.drop(['PacketsReceived8','PacketsReceived15', 'PacketsReceived13',\n",
    "          'BytesReceived','BytesReceived_log','BufferProgress',\n",
    "          'PacketsReceived0', 'PacketsSent25', 'PacketsReceived25'\n",
    "            ] )\n",
    "\n",
    "\n",
    "X_train = df_train[cols_1]\n",
    "X_test = df_test[cols_1]\n",
    "\n",
    "model.fit(X_train, y_train)\n",
    "\n",
    "\n",
    "y_pred = model.predict(X_test)\n",
    "MSE = mean_squared_error(y_test, y_pred)\n",
    "RMSE_less_features = math.sqrt(MSE)\n",
    "print('Now we are using ', len(cols_1), ' features for ', \n",
    "      df_train.shape[0], ' samples')\n",
    "print('RMSE_less_features: ', RMSE_less_features,\n",
    "      '; RMSE with all features: ', RMSE_many_features, \n",
    "      '; RMSE with some features: ',RMSE_some_features)"
   ]
  },
  {
   "cell_type": "markdown",
   "metadata": {},
   "source": [
    "We improved our model, but the one with less features is superior.\n",
    "\n",
    "**Do not use ALL the features, but just the RIGHT ones**."
   ]
  }
 ],
 "metadata": {
  "kernelspec": {
   "display_name": "Python 3",
   "language": "python",
   "name": "python3"
  },
  "language_info": {
   "codemirror_mode": {
    "name": "ipython",
    "version": 3
   },
   "file_extension": ".py",
   "mimetype": "text/x-python",
   "name": "python",
   "nbconvert_exporter": "python",
   "pygments_lexer": "ipython3",
   "version": "3.6.8"
  }
 },
 "nbformat": 4,
 "nbformat_minor": 4
}
