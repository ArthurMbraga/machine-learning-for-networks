{
 "cells": [
  {
   "cell_type": "code",
   "execution_count": 376,
   "metadata": {},
   "outputs": [],
   "source": [
    "from sklearn.linear_model import Ridge\n",
    "from sklearn.linear_model import LinearRegression\n",
    "import pandas as pd # For dataframes (tables)\n",
    "from sklearn.model_selection import cross_val_score, KFold\n",
    "from math import sqrt\n",
    "from statistics import mean\n",
    "import pickle\n",
    "import numpy as np\n",
    "from sklearn.preprocessing import PolynomialFeatures\n",
    "from sklearn.pipeline import make_pipeline\n",
    "\n",
    "\n",
    "# We will use a library that I created for you\n",
    "import os # To import external python files\n",
    "import sys# To import external python files\n",
    "sys.path.insert(0,os.path.abspath('../../course_library') ) # Replace this\n",
    "                                                            # with the correct\n",
    "                                                            # path\n",
    "from andrea_models import AndreaLinearRegression # In the course library"
   ]
  },
  {
   "cell_type": "code",
   "execution_count": 377,
   "metadata": {},
   "outputs": [],
   "source": [
    "dataset_to_use = 'A'\n",
    "mydatasets_folder = \"/home/araldo/datasets\"\n",
    "df = pd.read_csv(mydatasets_folder +'/video-qoe-processed/df.'+\n",
    "                 dataset_to_use+'_2.csv')"
   ]
  },
  {
   "cell_type": "markdown",
   "metadata": {},
   "source": [
    "We will start from one of the multi-variate linear regression models."
   ]
  },
  {
   "cell_type": "code",
   "execution_count": 378,
   "metadata": {
    "scrolled": false
   },
   "outputs": [
    {
     "data": {
      "text/plain": [
       "['RelativeTime',\n",
       " 'BytesSent',\n",
       " 'BytesSent0',\n",
       " 'BytesReceived0',\n",
       " 'BytesSent1',\n",
       " 'BytesSent2',\n",
       " 'BytesReceived2',\n",
       " 'BytesSent3',\n",
       " 'BytesReceived3',\n",
       " 'BytesSent4',\n",
       " 'BytesReceived4',\n",
       " 'BytesSent5',\n",
       " 'BytesReceived5',\n",
       " 'BytesSent6',\n",
       " 'BytesReceived6',\n",
       " 'BytesSent7',\n",
       " 'BytesReceived7',\n",
       " 'BytesSent8',\n",
       " 'BytesSent9',\n",
       " 'BytesReceived9',\n",
       " 'BytesSent12',\n",
       " 'BytesSent13',\n",
       " 'BytesSent15',\n",
       " 'BytesSent25',\n",
       " 'BytesReceived25',\n",
       " 'PlaybackProgress',\n",
       " 'Length',\n",
       " 'BufferHealth',\n",
       " 'KBytesReceived_log',\n",
       " 'BytesSent_log']"
      ]
     },
     "execution_count": 378,
     "metadata": {},
     "output_type": "execute_result"
    }
   ],
   "source": [
    "feature_filename = mydatasets_folder +'/video-qoe-processed/cols_3.pkl'\n",
    "infile = open(feature_filename,'rb')\n",
    "features = pickle.load(infile)\n",
    "infile.close()\n",
    "\n",
    "features"
   ]
  },
  {
   "cell_type": "code",
   "execution_count": 379,
   "metadata": {},
   "outputs": [],
   "source": [
    "def MyPolynomialRegression(degree=2, include_bias=False):\n",
    "    return make_pipeline(PolynomialFeatures(degree, include_bias), \n",
    "                         AndreaLinearRegression())"
   ]
  },
  {
   "cell_type": "code",
   "execution_count": 380,
   "metadata": {},
   "outputs": [],
   "source": [
    "#features=['BytesSent', 'BytesReceived','PacketsReceived']\n",
    "features=['KBytesReceived_log']\n",
    "\n",
    "X = df[features].values\n",
    "y = df['BufferHealth'].values\n",
    "\n",
    "k_fold = KFold(n_splits=5, shuffle=True, random_state=7)"
   ]
  },
  {
   "cell_type": "markdown",
   "metadata": {},
   "source": [
    "# Regularize a linear model"
   ]
  },
  {
   "cell_type": "markdown",
   "metadata": {},
   "source": [
    "Let's check again the cross validation error with the linear model"
   ]
  },
  {
   "cell_type": "code",
   "execution_count": 381,
   "metadata": {},
   "outputs": [
    {
     "name": "stdout",
     "output_type": "stream",
     "text": [
      "Cross validation error:  2.4130801461663203\n"
     ]
    }
   ],
   "source": [
    "scores = cross_val_score(AndreaLinearRegression(), \n",
    "                         X, y, cv=k_fold,\n",
    "                        scoring =\"neg_mean_squared_error\")\n",
    "print(\"Cross validation error: \", sqrt(mean(-scores)) )"
   ]
  },
  {
   "cell_type": "markdown",
   "metadata": {},
   "source": [
    "Ridge regression with $\\alpha=0$ is equivalent to LinearRegression"
   ]
  },
  {
   "cell_type": "code",
   "execution_count": 382,
   "metadata": {
    "scrolled": true
   },
   "outputs": [
    {
     "name": "stdout",
     "output_type": "stream",
     "text": [
      "Cross validation error:  2.413080146166123\n"
     ]
    }
   ],
   "source": [
    "# Implementation of Ridge regression does not behave well with\n",
    "# alpha=0, as it expects alpha > 0\n",
    "\n",
    "scores = cross_val_score(Ridge(alpha=1e-9), X, y, cv=k_fold,\n",
    "                        scoring =\"neg_mean_squared_error\")\n",
    "print(\"Cross validation error: \", sqrt(mean(-scores)) )"
   ]
  },
  {
   "cell_type": "markdown",
   "metadata": {},
   "source": [
    "Let's try with different alphas"
   ]
  },
  {
   "cell_type": "code",
   "execution_count": 383,
   "metadata": {
    "scrolled": true
   },
   "outputs": [
    {
     "data": {
      "text/html": [
       "<div>\n",
       "<style scoped>\n",
       "    .dataframe tbody tr th:only-of-type {\n",
       "        vertical-align: middle;\n",
       "    }\n",
       "\n",
       "    .dataframe tbody tr th {\n",
       "        vertical-align: top;\n",
       "    }\n",
       "\n",
       "    .dataframe thead th {\n",
       "        text-align: right;\n",
       "    }\n",
       "</style>\n",
       "<table border=\"1\" class=\"dataframe\">\n",
       "  <thead>\n",
       "    <tr style=\"text-align: right;\">\n",
       "      <th></th>\n",
       "      <th>alphas</th>\n",
       "      <th>errors</th>\n",
       "    </tr>\n",
       "  </thead>\n",
       "  <tbody>\n",
       "    <tr>\n",
       "      <th>0</th>\n",
       "      <td>1e-09</td>\n",
       "      <td>2.413080</td>\n",
       "    </tr>\n",
       "    <tr>\n",
       "      <th>1</th>\n",
       "      <td>0.5</td>\n",
       "      <td>2.412982</td>\n",
       "    </tr>\n",
       "    <tr>\n",
       "      <th>2</th>\n",
       "      <td>1</td>\n",
       "      <td>2.412885</td>\n",
       "    </tr>\n",
       "    <tr>\n",
       "      <th>3</th>\n",
       "      <td>5</td>\n",
       "      <td>2.412140</td>\n",
       "    </tr>\n",
       "    <tr>\n",
       "      <th>4</th>\n",
       "      <td>10</td>\n",
       "      <td>2.411287</td>\n",
       "    </tr>\n",
       "    <tr>\n",
       "      <th>5</th>\n",
       "      <td>1000000000.0</td>\n",
       "      <td>2.394870</td>\n",
       "    </tr>\n",
       "  </tbody>\n",
       "</table>\n",
       "</div>"
      ],
      "text/plain": [
       "         alphas    errors\n",
       "0         1e-09  2.413080\n",
       "1           0.5  2.412982\n",
       "2             1  2.412885\n",
       "3             5  2.412140\n",
       "4            10  2.411287\n",
       "5  1000000000.0  2.394870"
      ]
     },
     "execution_count": 383,
     "metadata": {},
     "output_type": "execute_result"
    },
    {
     "data": {
      "image/png": "[encoded data removed]",
      "text/plain": [
       "<Figure size 432x288 with 1 Axes>"
      ]
     },
     "metadata": {
      "needs_background": "light"
     },
     "output_type": "display_data"
    }
   ],
   "source": [
    "alpha_values = [1e-9, 0.5, 1, 5, 10, 1e9]\n",
    "errors = []\n",
    "\n",
    "for a in alpha_values:\n",
    "    scores = cross_val_score(Ridge(alpha=a), X, y, cv=k_fold,\n",
    "                            scoring =\"neg_mean_squared_error\")\n",
    "    error = sqrt(mean(-scores))\n",
    "    errors.append(error)\n",
    "\n",
    "df_errors = pd.DataFrame({'alphas':[str(a) for a in alpha_values],\n",
    "                          'errors':errors})\n",
    "ax = df_errors.plot.bar(x='alphas')\n",
    "ax.set( ylim=[min(errors),max(errors)], ylabel=\"Cross validation error\",\n",
    "      xlabel=\"alpha\") #ylim=[242,265],\n",
    "\n",
    "df_errors"
   ]
  },
  {
   "cell_type": "code",
   "execution_count": null,
   "metadata": {},
   "outputs": [],
   "source": []
  }
 ],
 "metadata": {
  "kernelspec": {
   "display_name": "Python 3",
   "language": "python",
   "name": "python3"
  },
  "language_info": {
   "codemirror_mode": {
    "name": "ipython",
    "version": 3
   },
   "file_extension": ".py",
   "mimetype": "text/x-python",
   "name": "python",
   "nbconvert_exporter": "python",
   "pygments_lexer": "ipython3",
   "version": "3.6.8"
  }
 },
 "nbformat": 4,
 "nbformat_minor": 4
}
