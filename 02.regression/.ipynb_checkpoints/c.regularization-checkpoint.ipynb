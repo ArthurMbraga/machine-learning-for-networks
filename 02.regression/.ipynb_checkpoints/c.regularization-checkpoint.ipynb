{
 "cells": [
  {
   "cell_type": "markdown",
   "metadata": {},
   "source": [
    "[![Open In Colab](https://colab.research.google.com/assets/colab-badge.svg)](https://colab.research.google.com/github/andreaaraldo/machine-learning-for-networks/blob/master/02.regression/c.regularization.ipynb)"
   ]
  },
  {
   "cell_type": "markdown",
   "metadata": {},
   "source": [
    "# REDO THIS WITH THE USUAL DATASET, TO GIVE THIS DATASET TO STUDENTS\n",
    "\n",
    "We will use the [Poqemon-QoE-Dataset](https://github.com/Lamyne/Poqemon-QoE-Dataset) used in:\n",
    "\n",
    "Lamine Amour, Sami Souihi, Abdelhamid Mellouk: ACR-based Subjective QoE Datasets to Quantify YouTube Video Quality. QoMEX, 2018 (Submitted).\n",
    "\n",
    "The goal is to predict the Mean Opinion Score (MOS) from information about transmission and video received by the client."
   ]
  },
  {
   "cell_type": "code",
   "execution_count": 1,
   "metadata": {},
   "outputs": [],
   "source": [
    "import pandas as pd\n",
    "from sklearn.model_selection import cross_val_score, KFold\n",
    "from math import sqrt\n",
    "from statistics import mean\n",
    "from sklearn.linear_model import LinearRegression, Ridge\n",
    "from sklearn.preprocessing import PolynomialFeatures\n",
    "from sklearn.pipeline import make_pipeline\n",
    "import matplotlib.pyplot as plt\n",
    "from sklearn.preprocessing import StandardScaler, MinMaxScaler\n",
    "from sklearn.model_selection import GridSearchCV\n",
    "from sklearn.model_selection import train_test_split\n",
    "from sklearn.metrics import mean_squared_error\n",
    "import numpy as np\n",
    "from sklearn.feature_selection import RFECV\n",
    "from sklearn.pipeline import Pipeline\n",
    "from regressors import stats # To print information about \n",
    "                            # regression. Install it with\n",
    "                            # pip install regressors\n",
    "\n",
    "# We will use a library that I created for you\n",
    "import os # To import external python files\n",
    "import sys# To import external python files\n",
    "sys.path.insert(0,os.path.abspath('../../course_library') ) # Replace this\n",
    "                                                            # with the correct\n",
    "                                                            # path\n",
    "from andrea_models import AndreaLinearRegression # In the course library\n",
    "from visualization import rotate_labels"
   ]
  },
  {
   "cell_type": "code",
   "execution_count": 2,
   "metadata": {},
   "outputs": [
    {
     "name": "stdout",
     "output_type": "stream",
     "text": [
      "<class 'pandas.core.frame.DataFrame'>\n",
      "RangeIndex: 300 entries, 0 to 299\n",
      "Data columns (total 30 columns):\n",
      "id                       300 non-null int64\n",
      "QoS_bandwidth            300 non-null int64\n",
      "QoS_packet-loss          300 non-null object\n",
      "QoS_delay                300 non-null float64\n",
      "QoS_jitter               300 non-null float64\n",
      "V_id-video               300 non-null int64\n",
      "V_content                300 non-null object\n",
      "V_norm-bitrate           300 non-null float64\n",
      "V_complexity             300 non-null float64\n",
      "V_complexity-class       300 non-null int64\n",
      "QoA_resolution           300 non-null int64\n",
      "QoA-bitrate              300 non-null float64\n",
      "QoA-frame_rate           300 non-null float64\n",
      "QoA_frame-drop           300 non-null float64\n",
      "QoA_audio-rate           300 non-null float64\n",
      "QoA_audio-drop           300 non-null float64\n",
      "QoD-cpu_mhz-moy          300 non-null float64\n",
      "QoD-cpu_mhz-avg          300 non-null float64\n",
      "QoD_cpu-nbr              300 non-null int64\n",
      "QoD-cpu_core-nbr         300 non-null int64\n",
      "QoD_stepping             300 non-null int64\n",
      "QoD-cpu_bigo-mips        300 non-null float64\n",
      "QoD_carte-class          300 non-null object\n",
      "QoD_screen-resolotion    300 non-null object\n",
      "QoD_screen-dimension     300 non-null object\n",
      "QoD_screen-mhz           300 non-null float64\n",
      "QoD-screen_blug-type     300 non-null object\n",
      "QoD-ram_clock-speed      300 non-null int64\n",
      "QoD_ram-size             300 non-null int64\n",
      "MOS                      300 non-null int64\n",
      "dtypes: float64(13), int64(11), object(6)\n",
      "memory usage: 70.4+ KB\n"
     ]
    }
   ],
   "source": [
    "file='/home/araldo/datasets/Poqemon-QoE-Dataset/VLC-QoS-QoEIF-.csv'\n",
    "df = pd.read_csv(file, sep=\";\")\n",
    "df.info(verbose=True)"
   ]
  },
  {
   "cell_type": "code",
   "execution_count": 3,
   "metadata": {},
   "outputs": [
    {
     "data": {
      "text/html": [
       "<div>\n",
       "<style scoped>\n",
       "    .dataframe tbody tr th:only-of-type {\n",
       "        vertical-align: middle;\n",
       "    }\n",
       "\n",
       "    .dataframe tbody tr th {\n",
       "        vertical-align: top;\n",
       "    }\n",
       "\n",
       "    .dataframe thead th {\n",
       "        text-align: right;\n",
       "    }\n",
       "</style>\n",
       "<table border=\"1\" class=\"dataframe\">\n",
       "  <thead>\n",
       "    <tr style=\"text-align: right;\">\n",
       "      <th></th>\n",
       "      <th>id</th>\n",
       "      <th>QoS_bandwidth</th>\n",
       "      <th>QoS_packet-loss</th>\n",
       "      <th>QoS_delay</th>\n",
       "      <th>QoS_jitter</th>\n",
       "      <th>V_id-video</th>\n",
       "      <th>V_content</th>\n",
       "      <th>V_norm-bitrate</th>\n",
       "      <th>V_complexity</th>\n",
       "      <th>V_complexity-class</th>\n",
       "      <th>...</th>\n",
       "      <th>QoD_stepping</th>\n",
       "      <th>QoD-cpu_bigo-mips</th>\n",
       "      <th>QoD_carte-class</th>\n",
       "      <th>QoD_screen-resolotion</th>\n",
       "      <th>QoD_screen-dimension</th>\n",
       "      <th>QoD_screen-mhz</th>\n",
       "      <th>QoD-screen_blug-type</th>\n",
       "      <th>QoD-ram_clock-speed</th>\n",
       "      <th>QoD_ram-size</th>\n",
       "      <th>MOS</th>\n",
       "    </tr>\n",
       "  </thead>\n",
       "  <tbody>\n",
       "    <tr>\n",
       "      <th>0</th>\n",
       "      <td>1</td>\n",
       "      <td>1024</td>\n",
       "      <td>0%</td>\n",
       "      <td>0.360</td>\n",
       "      <td>0.043</td>\n",
       "      <td>3</td>\n",
       "      <td>Movie</td>\n",
       "      <td>6.422284</td>\n",
       "      <td>5.874106</td>\n",
       "      <td>0</td>\n",
       "      <td>...</td>\n",
       "      <td>7</td>\n",
       "      <td>4988.58</td>\n",
       "      <td>Radeon HD 7610M</td>\n",
       "      <td>1366 x 768</td>\n",
       "      <td>361x203</td>\n",
       "      <td>76.5</td>\n",
       "      <td>LVDS</td>\n",
       "      <td>1333</td>\n",
       "      <td>4096</td>\n",
       "      <td>1</td>\n",
       "    </tr>\n",
       "    <tr>\n",
       "      <th>1</th>\n",
       "      <td>2</td>\n",
       "      <td>1024</td>\n",
       "      <td>0%</td>\n",
       "      <td>0.435</td>\n",
       "      <td>0.071</td>\n",
       "      <td>3</td>\n",
       "      <td>Movie</td>\n",
       "      <td>6.422284</td>\n",
       "      <td>5.874106</td>\n",
       "      <td>0</td>\n",
       "      <td>...</td>\n",
       "      <td>9</td>\n",
       "      <td>6784.45</td>\n",
       "      <td>Radeon HD 7470</td>\n",
       "      <td>1920 x 1200</td>\n",
       "      <td>508x317</td>\n",
       "      <td>154.0</td>\n",
       "      <td>DVI-0</td>\n",
       "      <td>1600</td>\n",
       "      <td>4096</td>\n",
       "      <td>1</td>\n",
       "    </tr>\n",
       "    <tr>\n",
       "      <th>2</th>\n",
       "      <td>16</td>\n",
       "      <td>1024</td>\n",
       "      <td>0%</td>\n",
       "      <td>0.403</td>\n",
       "      <td>0.033</td>\n",
       "      <td>3</td>\n",
       "      <td>Movie</td>\n",
       "      <td>6.422284</td>\n",
       "      <td>5.874106</td>\n",
       "      <td>0</td>\n",
       "      <td>...</td>\n",
       "      <td>7</td>\n",
       "      <td>4988.58</td>\n",
       "      <td>Radeon HD 7610M</td>\n",
       "      <td>1366 x 768</td>\n",
       "      <td>361x203</td>\n",
       "      <td>76.5</td>\n",
       "      <td>LVDS</td>\n",
       "      <td>1333</td>\n",
       "      <td>4096</td>\n",
       "      <td>1</td>\n",
       "    </tr>\n",
       "    <tr>\n",
       "      <th>3</th>\n",
       "      <td>18</td>\n",
       "      <td>1024</td>\n",
       "      <td>0%</td>\n",
       "      <td>0.499</td>\n",
       "      <td>0.018</td>\n",
       "      <td>3</td>\n",
       "      <td>Movie</td>\n",
       "      <td>6.422284</td>\n",
       "      <td>5.874106</td>\n",
       "      <td>0</td>\n",
       "      <td>...</td>\n",
       "      <td>7</td>\n",
       "      <td>4988.76</td>\n",
       "      <td>Radeon HD 7610M</td>\n",
       "      <td>1366 x 768</td>\n",
       "      <td>361x203</td>\n",
       "      <td>76.5</td>\n",
       "      <td>LVDS</td>\n",
       "      <td>1333</td>\n",
       "      <td>4096</td>\n",
       "      <td>1</td>\n",
       "    </tr>\n",
       "    <tr>\n",
       "      <th>4</th>\n",
       "      <td>19</td>\n",
       "      <td>1024</td>\n",
       "      <td>0%</td>\n",
       "      <td>0.472</td>\n",
       "      <td>0.034</td>\n",
       "      <td>3</td>\n",
       "      <td>Movie</td>\n",
       "      <td>6.422284</td>\n",
       "      <td>5.874106</td>\n",
       "      <td>0</td>\n",
       "      <td>...</td>\n",
       "      <td>7</td>\n",
       "      <td>4988.76</td>\n",
       "      <td>Radeon HD 7610M</td>\n",
       "      <td>1366 x 768</td>\n",
       "      <td>361x203</td>\n",
       "      <td>76.5</td>\n",
       "      <td>LVDS</td>\n",
       "      <td>1333</td>\n",
       "      <td>4096</td>\n",
       "      <td>1</td>\n",
       "    </tr>\n",
       "  </tbody>\n",
       "</table>\n",
       "<p>5 rows × 30 columns</p>\n",
       "</div>"
      ],
      "text/plain": [
       "   id  QoS_bandwidth QoS_packet-loss  QoS_delay  QoS_jitter  V_id-video  \\\n",
       "0   1           1024              0%      0.360       0.043           3   \n",
       "1   2           1024              0%      0.435       0.071           3   \n",
       "2  16           1024              0%      0.403       0.033           3   \n",
       "3  18           1024              0%      0.499       0.018           3   \n",
       "4  19           1024              0%      0.472       0.034           3   \n",
       "\n",
       "  V_content  V_norm-bitrate  V_complexity  V_complexity-class ...   \\\n",
       "0     Movie        6.422284      5.874106                   0 ...    \n",
       "1     Movie        6.422284      5.874106                   0 ...    \n",
       "2     Movie        6.422284      5.874106                   0 ...    \n",
       "3     Movie        6.422284      5.874106                   0 ...    \n",
       "4     Movie        6.422284      5.874106                   0 ...    \n",
       "\n",
       "   QoD_stepping  QoD-cpu_bigo-mips  QoD_carte-class  QoD_screen-resolotion  \\\n",
       "0             7            4988.58  Radeon HD 7610M             1366 x 768   \n",
       "1             9            6784.45   Radeon HD 7470            1920 x 1200   \n",
       "2             7            4988.58  Radeon HD 7610M             1366 x 768   \n",
       "3             7            4988.76  Radeon HD 7610M             1366 x 768   \n",
       "4             7            4988.76  Radeon HD 7610M             1366 x 768   \n",
       "\n",
       "   QoD_screen-dimension  QoD_screen-mhz  QoD-screen_blug-type  \\\n",
       "0               361x203            76.5                  LVDS   \n",
       "1               508x317           154.0                 DVI-0   \n",
       "2               361x203            76.5                  LVDS   \n",
       "3               361x203            76.5                  LVDS   \n",
       "4               361x203            76.5                  LVDS   \n",
       "\n",
       "   QoD-ram_clock-speed  QoD_ram-size  MOS  \n",
       "0                 1333          4096    1  \n",
       "1                 1600          4096    1  \n",
       "2                 1333          4096    1  \n",
       "3                 1333          4096    1  \n",
       "4                 1333          4096    1  \n",
       "\n",
       "[5 rows x 30 columns]"
      ]
     },
     "execution_count": 3,
     "metadata": {},
     "output_type": "execute_result"
    }
   ],
   "source": [
    "df.head()"
   ]
  },
  {
   "cell_type": "markdown",
   "metadata": {},
   "source": [
    "Let's check if we really need `QoS_packet-loss`"
   ]
  },
  {
   "cell_type": "code",
   "execution_count": 4,
   "metadata": {},
   "outputs": [
    {
     "data": {
      "text/plain": [
       "{'0%'}"
      ]
     },
     "execution_count": 4,
     "metadata": {},
     "output_type": "execute_result"
    }
   ],
   "source": [
    "# Returns the unique values\n",
    "set( df['QoS_packet-loss'])"
   ]
  },
  {
   "cell_type": "markdown",
   "metadata": {},
   "source": [
    "We do not need it."
   ]
  },
  {
   "cell_type": "code",
   "execution_count": 5,
   "metadata": {
    "scrolled": true
   },
   "outputs": [
    {
     "data": {
      "text/html": [
       "<div>\n",
       "<style scoped>\n",
       "    .dataframe tbody tr th:only-of-type {\n",
       "        vertical-align: middle;\n",
       "    }\n",
       "\n",
       "    .dataframe tbody tr th {\n",
       "        vertical-align: top;\n",
       "    }\n",
       "\n",
       "    .dataframe thead th {\n",
       "        text-align: right;\n",
       "    }\n",
       "</style>\n",
       "<table border=\"1\" class=\"dataframe\">\n",
       "  <thead>\n",
       "    <tr style=\"text-align: right;\">\n",
       "      <th></th>\n",
       "      <th>id</th>\n",
       "      <th>QoS_bandwidth</th>\n",
       "      <th>QoS_delay</th>\n",
       "      <th>QoS_jitter</th>\n",
       "      <th>V_id-video</th>\n",
       "      <th>V_content</th>\n",
       "      <th>V_norm-bitrate</th>\n",
       "      <th>V_complexity</th>\n",
       "      <th>V_complexity-class</th>\n",
       "      <th>QoA_resolution</th>\n",
       "      <th>...</th>\n",
       "      <th>QoD_stepping</th>\n",
       "      <th>QoD-cpu_bigo-mips</th>\n",
       "      <th>QoD_carte-class</th>\n",
       "      <th>QoD_screen-resolotion</th>\n",
       "      <th>QoD_screen-dimension</th>\n",
       "      <th>QoD_screen-mhz</th>\n",
       "      <th>QoD-screen_blug-type</th>\n",
       "      <th>QoD-ram_clock-speed</th>\n",
       "      <th>QoD_ram-size</th>\n",
       "      <th>MOS</th>\n",
       "    </tr>\n",
       "  </thead>\n",
       "  <tbody>\n",
       "    <tr>\n",
       "      <th>0</th>\n",
       "      <td>1</td>\n",
       "      <td>1024</td>\n",
       "      <td>0.360</td>\n",
       "      <td>0.043</td>\n",
       "      <td>3</td>\n",
       "      <td>Movie</td>\n",
       "      <td>6.422284</td>\n",
       "      <td>5.874106</td>\n",
       "      <td>0</td>\n",
       "      <td>144</td>\n",
       "      <td>...</td>\n",
       "      <td>7</td>\n",
       "      <td>4988.58</td>\n",
       "      <td>Radeon HD 7610M</td>\n",
       "      <td>1366 x 768</td>\n",
       "      <td>361x203</td>\n",
       "      <td>76.5</td>\n",
       "      <td>LVDS</td>\n",
       "      <td>1333</td>\n",
       "      <td>4096</td>\n",
       "      <td>1</td>\n",
       "    </tr>\n",
       "    <tr>\n",
       "      <th>1</th>\n",
       "      <td>2</td>\n",
       "      <td>1024</td>\n",
       "      <td>0.435</td>\n",
       "      <td>0.071</td>\n",
       "      <td>3</td>\n",
       "      <td>Movie</td>\n",
       "      <td>6.422284</td>\n",
       "      <td>5.874106</td>\n",
       "      <td>0</td>\n",
       "      <td>144</td>\n",
       "      <td>...</td>\n",
       "      <td>9</td>\n",
       "      <td>6784.45</td>\n",
       "      <td>Radeon HD 7470</td>\n",
       "      <td>1920 x 1200</td>\n",
       "      <td>508x317</td>\n",
       "      <td>154.0</td>\n",
       "      <td>DVI-0</td>\n",
       "      <td>1600</td>\n",
       "      <td>4096</td>\n",
       "      <td>1</td>\n",
       "    </tr>\n",
       "    <tr>\n",
       "      <th>2</th>\n",
       "      <td>16</td>\n",
       "      <td>1024</td>\n",
       "      <td>0.403</td>\n",
       "      <td>0.033</td>\n",
       "      <td>3</td>\n",
       "      <td>Movie</td>\n",
       "      <td>6.422284</td>\n",
       "      <td>5.874106</td>\n",
       "      <td>0</td>\n",
       "      <td>144</td>\n",
       "      <td>...</td>\n",
       "      <td>7</td>\n",
       "      <td>4988.58</td>\n",
       "      <td>Radeon HD 7610M</td>\n",
       "      <td>1366 x 768</td>\n",
       "      <td>361x203</td>\n",
       "      <td>76.5</td>\n",
       "      <td>LVDS</td>\n",
       "      <td>1333</td>\n",
       "      <td>4096</td>\n",
       "      <td>1</td>\n",
       "    </tr>\n",
       "    <tr>\n",
       "      <th>3</th>\n",
       "      <td>18</td>\n",
       "      <td>1024</td>\n",
       "      <td>0.499</td>\n",
       "      <td>0.018</td>\n",
       "      <td>3</td>\n",
       "      <td>Movie</td>\n",
       "      <td>6.422284</td>\n",
       "      <td>5.874106</td>\n",
       "      <td>0</td>\n",
       "      <td>144</td>\n",
       "      <td>...</td>\n",
       "      <td>7</td>\n",
       "      <td>4988.76</td>\n",
       "      <td>Radeon HD 7610M</td>\n",
       "      <td>1366 x 768</td>\n",
       "      <td>361x203</td>\n",
       "      <td>76.5</td>\n",
       "      <td>LVDS</td>\n",
       "      <td>1333</td>\n",
       "      <td>4096</td>\n",
       "      <td>1</td>\n",
       "    </tr>\n",
       "    <tr>\n",
       "      <th>4</th>\n",
       "      <td>19</td>\n",
       "      <td>1024</td>\n",
       "      <td>0.472</td>\n",
       "      <td>0.034</td>\n",
       "      <td>3</td>\n",
       "      <td>Movie</td>\n",
       "      <td>6.422284</td>\n",
       "      <td>5.874106</td>\n",
       "      <td>0</td>\n",
       "      <td>144</td>\n",
       "      <td>...</td>\n",
       "      <td>7</td>\n",
       "      <td>4988.76</td>\n",
       "      <td>Radeon HD 7610M</td>\n",
       "      <td>1366 x 768</td>\n",
       "      <td>361x203</td>\n",
       "      <td>76.5</td>\n",
       "      <td>LVDS</td>\n",
       "      <td>1333</td>\n",
       "      <td>4096</td>\n",
       "      <td>1</td>\n",
       "    </tr>\n",
       "  </tbody>\n",
       "</table>\n",
       "<p>5 rows × 29 columns</p>\n",
       "</div>"
      ],
      "text/plain": [
       "   id  QoS_bandwidth  QoS_delay  QoS_jitter  V_id-video V_content  \\\n",
       "0   1           1024      0.360       0.043           3     Movie   \n",
       "1   2           1024      0.435       0.071           3     Movie   \n",
       "2  16           1024      0.403       0.033           3     Movie   \n",
       "3  18           1024      0.499       0.018           3     Movie   \n",
       "4  19           1024      0.472       0.034           3     Movie   \n",
       "\n",
       "   V_norm-bitrate  V_complexity  V_complexity-class  QoA_resolution ...   \\\n",
       "0        6.422284      5.874106                   0             144 ...    \n",
       "1        6.422284      5.874106                   0             144 ...    \n",
       "2        6.422284      5.874106                   0             144 ...    \n",
       "3        6.422284      5.874106                   0             144 ...    \n",
       "4        6.422284      5.874106                   0             144 ...    \n",
       "\n",
       "   QoD_stepping  QoD-cpu_bigo-mips  QoD_carte-class  QoD_screen-resolotion  \\\n",
       "0             7            4988.58  Radeon HD 7610M             1366 x 768   \n",
       "1             9            6784.45   Radeon HD 7470            1920 x 1200   \n",
       "2             7            4988.58  Radeon HD 7610M             1366 x 768   \n",
       "3             7            4988.76  Radeon HD 7610M             1366 x 768   \n",
       "4             7            4988.76  Radeon HD 7610M             1366 x 768   \n",
       "\n",
       "   QoD_screen-dimension  QoD_screen-mhz  QoD-screen_blug-type  \\\n",
       "0               361x203            76.5                  LVDS   \n",
       "1               508x317           154.0                 DVI-0   \n",
       "2               361x203            76.5                  LVDS   \n",
       "3               361x203            76.5                  LVDS   \n",
       "4               361x203            76.5                  LVDS   \n",
       "\n",
       "   QoD-ram_clock-speed  QoD_ram-size  MOS  \n",
       "0                 1333          4096    1  \n",
       "1                 1600          4096    1  \n",
       "2                 1333          4096    1  \n",
       "3                 1333          4096    1  \n",
       "4                 1333          4096    1  \n",
       "\n",
       "[5 rows x 29 columns]"
      ]
     },
     "execution_count": 5,
     "metadata": {},
     "output_type": "execute_result"
    }
   ],
   "source": [
    "df = df.drop('QoS_packet-loss', axis=1)\n",
    "df.head()"
   ]
  },
  {
   "cell_type": "markdown",
   "metadata": {},
   "source": [
    "Let's try to infer MOS from the following features"
   ]
  },
  {
   "cell_type": "code",
   "execution_count": 6,
   "metadata": {},
   "outputs": [],
   "source": [
    "features = ['QoS_delay', 'QoS_jitter', \n",
    "            'QoA_resolution', 'V_norm-bitrate', \n",
    "           'QoA-bitrate', 'QoA-frame_rate', 'QoA_frame-drop',\n",
    "           'QoA_audio-rate', 'QoA_audio-drop', \n",
    "            'QoD-cpu_mhz-avg', 'QoD_cpu-nbr']\n",
    "\n",
    "\n",
    "\n",
    "X = df[features].values\n",
    "y = df['MOS'].values"
   ]
  },
  {
   "cell_type": "markdown",
   "metadata": {},
   "source": [
    "We will try different parameters of a model on the training set and evaluate their performance on the test set."
   ]
  },
  {
   "cell_type": "code",
   "execution_count": 7,
   "metadata": {},
   "outputs": [],
   "source": [
    "X_train, X_test, y_train, y_test =train_test_split(\n",
    "    X,y, test_size=0.2, shuffle=True, random_state=7)"
   ]
  },
  {
   "cell_type": "markdown",
   "metadata": {},
   "source": [
    "Let's first try a simple linear regression"
   ]
  },
  {
   "cell_type": "code",
   "execution_count": 8,
   "metadata": {},
   "outputs": [
    {
     "data": {
      "text/plain": [
       "0.6502159231697998"
      ]
     },
     "execution_count": 8,
     "metadata": {},
     "output_type": "execute_result"
    }
   ],
   "source": [
    "model = LinearRegression()\n",
    "model.fit(X_train, y_train)\n",
    "y_pred = model.predict(X_test)\n",
    "RMSE_lin = sqrt(mean_squared_error(y_pred, y_test) )\n",
    "RMSE_lin"
   ]
  },
  {
   "cell_type": "markdown",
   "metadata": {},
   "source": [
    "First, see that `Ridge` with `alpha=0`, the model becomes a simple linear regression."
   ]
  },
  {
   "cell_type": "code",
   "execution_count": 9,
   "metadata": {},
   "outputs": [
    {
     "data": {
      "text/plain": [
       "0.6502159231357222"
      ]
     },
     "execution_count": 9,
     "metadata": {},
     "output_type": "execute_result"
    }
   ],
   "source": [
    "# The implementation of Ridge regression does not behave well with\n",
    "# alpha=0, as it expects alpha > 0\n",
    "model = Ridge(alpha=1e-9)\n",
    "model.fit(X_train, y_train)\n",
    "y_pred = model.predict(X_test)\n",
    "sqrt(mean_squared_error(y_pred, y_test) )"
   ]
  },
  {
   "cell_type": "markdown",
   "metadata": {},
   "source": [
    "Let's try with some `alpha > 0`"
   ]
  },
  {
   "cell_type": "code",
   "execution_count": 10,
   "metadata": {},
   "outputs": [
    {
     "data": {
      "text/plain": [
       "0.6500183244027238"
      ]
     },
     "execution_count": 10,
     "metadata": {},
     "output_type": "execute_result"
    }
   ],
   "source": [
    "model = Ridge(alpha=1)\n",
    "model.fit(X_train, y_train)\n",
    "y_pred = model.predict(X_test)\n",
    "sqrt(mean_squared_error(y_pred, y_test) )\n"
   ]
  },
  {
   "cell_type": "markdown",
   "metadata": {},
   "source": [
    "Find the best alpha in the training set and report the cross validation error. \n",
    "\n",
    "**When looking for the best parameter, use training data only** (otherwise you have **data leakage**).\n",
    "\n",
    "(We do not use pipelines because we want to plot errors)"
   ]
  },
  {
   "cell_type": "code",
   "execution_count": 11,
   "metadata": {
    "scrolled": true
   },
   "outputs": [
    {
     "data": {
      "text/html": [
       "<div>\n",
       "<style scoped>\n",
       "    .dataframe tbody tr th:only-of-type {\n",
       "        vertical-align: middle;\n",
       "    }\n",
       "\n",
       "    .dataframe tbody tr th {\n",
       "        vertical-align: top;\n",
       "    }\n",
       "\n",
       "    .dataframe thead th {\n",
       "        text-align: right;\n",
       "    }\n",
       "</style>\n",
       "<table border=\"1\" class=\"dataframe\">\n",
       "  <thead>\n",
       "    <tr style=\"text-align: right;\">\n",
       "      <th></th>\n",
       "      <th>alphas</th>\n",
       "      <th>errors</th>\n",
       "    </tr>\n",
       "  </thead>\n",
       "  <tbody>\n",
       "    <tr>\n",
       "      <th>0</th>\n",
       "      <td>1e-09</td>\n",
       "      <td>0.589968</td>\n",
       "    </tr>\n",
       "    <tr>\n",
       "      <th>1</th>\n",
       "      <td>0.5</td>\n",
       "      <td>0.585732</td>\n",
       "    </tr>\n",
       "    <tr>\n",
       "      <th>2</th>\n",
       "      <td>1</td>\n",
       "      <td>0.584879</td>\n",
       "    </tr>\n",
       "    <tr>\n",
       "      <th>3</th>\n",
       "      <td>10</td>\n",
       "      <td>0.580221</td>\n",
       "    </tr>\n",
       "    <tr>\n",
       "      <th>4</th>\n",
       "      <td>100</td>\n",
       "      <td>0.566458</td>\n",
       "    </tr>\n",
       "    <tr>\n",
       "      <th>5</th>\n",
       "      <td>1000</td>\n",
       "      <td>0.559074</td>\n",
       "    </tr>\n",
       "    <tr>\n",
       "      <th>6</th>\n",
       "      <td>10000</td>\n",
       "      <td>0.569970</td>\n",
       "    </tr>\n",
       "    <tr>\n",
       "      <th>7</th>\n",
       "      <td>100000.0</td>\n",
       "      <td>0.722401</td>\n",
       "    </tr>\n",
       "    <tr>\n",
       "      <th>8</th>\n",
       "      <td>1000000.0</td>\n",
       "      <td>0.829704</td>\n",
       "    </tr>\n",
       "  </tbody>\n",
       "</table>\n",
       "</div>"
      ],
      "text/plain": [
       "      alphas    errors\n",
       "0      1e-09  0.589968\n",
       "1        0.5  0.585732\n",
       "2          1  0.584879\n",
       "3         10  0.580221\n",
       "4        100  0.566458\n",
       "5       1000  0.559074\n",
       "6      10000  0.569970\n",
       "7   100000.0  0.722401\n",
       "8  1000000.0  0.829704"
      ]
     },
     "execution_count": 11,
     "metadata": {},
     "output_type": "execute_result"
    },
    {
     "data": {
      "image/png": "[encoded data removed]",
      "text/plain": [
       "<Figure size 432x288 with 1 Axes>"
      ]
     },
     "metadata": {
      "needs_background": "light"
     },
     "output_type": "display_data"
    }
   ],
   "source": [
    "k_fold = KFold(n_splits=5, shuffle=True, random_state=10)\n",
    "\n",
    "alphas = [1e-9, 0.5, 1, 10, 100, 1000, 10000, 1e5, 1e6]\n",
    "errors = []\n",
    "for a in alphas:\n",
    "    scores = cross_val_score(Ridge(alpha=a), \n",
    "                X_train, y_train, cv=k_fold, \n",
    "                scoring = 'neg_mean_squared_error')\n",
    "    errors.append(sqrt(mean(-scores) ) )\n",
    "    \n",
    "# We convert x-values to string because otherwise they would \n",
    "# be to far from each other\n",
    "df_errors = pd.DataFrame({'alphas':[str(a) for a in alphas],\n",
    "                        'errors':errors})\n",
    "ax = df_errors.plot.bar(x='alphas')\n",
    "df_errors"
   ]
  },
  {
   "cell_type": "markdown",
   "metadata": {},
   "source": [
    "Let's analyze the best Ridge regression model."
   ]
  },
  {
   "cell_type": "code",
   "execution_count": 12,
   "metadata": {
    "scrolled": true
   },
   "outputs": [
    {
     "name": "stdout",
     "output_type": "stream",
     "text": [
      "Residuals:\n",
      "Min      1Q  Median      3Q     Max\n",
      "0.7576  2.2976  3.0047  4.1367  5.5629\n",
      "\n",
      "\n",
      "Coefficients:\n",
      "            Estimate  Std. Error  t value   p value\n",
      "_intercept -0.020460    0.275418  -0.0743  0.940844\n",
      "x1         -0.000476    0.513804  -0.0009  0.999262\n",
      "x2         -0.000019    2.287024  -0.0000  0.999993\n",
      "x3          0.002188    0.000208  10.5303  0.000000\n",
      "x4          0.017577    0.015366   1.1439  0.253813\n",
      "x5          0.000163    0.000054   3.0110  0.002883\n",
      "x6          0.016614    0.006172   2.6920  0.007605\n",
      "x7         -0.016762    0.034268  -0.4892  0.625175\n",
      "x8          0.042056    0.003265  12.8814  0.000000\n",
      "x9         -0.002159    0.011962  -0.1805  0.856952\n",
      "x10         0.000033    0.000073   0.4470  0.655307\n",
      "x11        -0.007668    0.016611  -0.4616  0.644779\n",
      "---\n",
      "R-squared:  0.83466,    Adjusted R-squared:  0.82669\n",
      "F-statistic: 104.64 on 11 features\n"
     ]
    }
   ],
   "source": [
    "model = Ridge(alpha=1000)\n",
    "model.fit(X_train, y_train)\n",
    "stats.summary(model, X_train, y_train)"
   ]
  },
  {
   "cell_type": "code",
   "execution_count": 13,
   "metadata": {},
   "outputs": [
    {
     "name": "stdout",
     "output_type": "stream",
     "text": [
      "The significant coefficients are for  QoA_resolution QoA-bitrate QoA-frame_rate QoA_audio-rate\n"
     ]
    }
   ],
   "source": [
    "print(\"The significant coefficients are for \", features[3-1],\n",
    "      features[5-1], features[6-1], features[8-1] )"
   ]
  },
  {
   "cell_type": "markdown",
   "metadata": {},
   "source": [
    "Regularization does not seem to improve w.r.t. the linear model.\n",
    "\n",
    "May there be some non-linear dependency?"
   ]
  },
  {
   "cell_type": "markdown",
   "metadata": {},
   "source": [
    "# Polynomial regression and regularization"
   ]
  },
  {
   "cell_type": "markdown",
   "metadata": {},
   "source": [
    "Let's try a polynomial regression"
   ]
  },
  {
   "cell_type": "code",
   "execution_count": 14,
   "metadata": {
    "scrolled": false
   },
   "outputs": [
    {
     "name": "stdout",
     "output_type": "stream",
     "text": [
      "RMSE quadr:  3.5527321567212757 RMSE linear:  0.6502159231697998\n"
     ]
    }
   ],
   "source": [
    "def MyPolynomialRegression(degree=2, include_bias=False):\n",
    "    return make_pipeline(PolynomialFeatures(degree, include_bias),\n",
    "                LinearRegression() )\n",
    "\n",
    "\n",
    "model = MyPolynomialRegression(degree=2)\n",
    "model.fit(X_train, y_train)\n",
    "y_pred = model.predict(X_test)\n",
    "RMSE_quadr = sqrt(mean_squared_error(y_pred, y_test) )\n",
    "print(\"RMSE quadr: \", RMSE_quadr, \"RMSE linear: \", RMSE_lin)"
   ]
  },
  {
   "cell_type": "markdown",
   "metadata": {},
   "source": [
    "Clearly, **overfitting**.\n",
    "\n",
    "Let's modify `MyPolynomialRegression` in order to make ridge regression instead of simple linear regression in the last step."
   ]
  },
  {
   "cell_type": "code",
   "execution_count": 15,
   "metadata": {},
   "outputs": [],
   "source": [
    "def MyPolynomialRegression(degree=2, include_bias=False, \n",
    "                           alpha=1e-9):\n",
    "    return make_pipeline(PolynomialFeatures(degree, \n",
    "                                            include_bias),\n",
    "                Ridge(alpha=alpha) )"
   ]
  },
  {
   "cell_type": "code",
   "execution_count": 16,
   "metadata": {
    "scrolled": false
   },
   "outputs": [
    {
     "data": {
      "text/html": [
       "<div>\n",
       "<style scoped>\n",
       "    .dataframe tbody tr th:only-of-type {\n",
       "        vertical-align: middle;\n",
       "    }\n",
       "\n",
       "    .dataframe tbody tr th {\n",
       "        vertical-align: top;\n",
       "    }\n",
       "\n",
       "    .dataframe thead th {\n",
       "        text-align: right;\n",
       "    }\n",
       "</style>\n",
       "<table border=\"1\" class=\"dataframe\">\n",
       "  <thead>\n",
       "    <tr style=\"text-align: right;\">\n",
       "      <th></th>\n",
       "      <th>alphas</th>\n",
       "      <th>errors</th>\n",
       "    </tr>\n",
       "  </thead>\n",
       "  <tbody>\n",
       "    <tr>\n",
       "      <th>0</th>\n",
       "      <td>0.5</td>\n",
       "      <td>3.403001</td>\n",
       "    </tr>\n",
       "    <tr>\n",
       "      <th>1</th>\n",
       "      <td>1</td>\n",
       "      <td>3.052019</td>\n",
       "    </tr>\n",
       "    <tr>\n",
       "      <th>2</th>\n",
       "      <td>10</td>\n",
       "      <td>2.324020</td>\n",
       "    </tr>\n",
       "    <tr>\n",
       "      <th>3</th>\n",
       "      <td>100</td>\n",
       "      <td>1.694671</td>\n",
       "    </tr>\n",
       "    <tr>\n",
       "      <th>4</th>\n",
       "      <td>1000</td>\n",
       "      <td>1.246561</td>\n",
       "    </tr>\n",
       "    <tr>\n",
       "      <th>5</th>\n",
       "      <td>100000.0</td>\n",
       "      <td>0.611480</td>\n",
       "    </tr>\n",
       "    <tr>\n",
       "      <th>6</th>\n",
       "      <td>1000000.0</td>\n",
       "      <td>0.626008</td>\n",
       "    </tr>\n",
       "    <tr>\n",
       "      <th>7</th>\n",
       "      <td>10000000.0</td>\n",
       "      <td>0.627981</td>\n",
       "    </tr>\n",
       "    <tr>\n",
       "      <th>8</th>\n",
       "      <td>1000000000.0</td>\n",
       "      <td>0.560663</td>\n",
       "    </tr>\n",
       "    <tr>\n",
       "      <th>9</th>\n",
       "      <td>1000000000000.0</td>\n",
       "      <td>0.946681</td>\n",
       "    </tr>\n",
       "    <tr>\n",
       "      <th>10</th>\n",
       "      <td>1000000000000000.0</td>\n",
       "      <td>1.150817</td>\n",
       "    </tr>\n",
       "  </tbody>\n",
       "</table>\n",
       "</div>"
      ],
      "text/plain": [
       "                alphas    errors\n",
       "0                  0.5  3.403001\n",
       "1                    1  3.052019\n",
       "2                   10  2.324020\n",
       "3                  100  1.694671\n",
       "4                 1000  1.246561\n",
       "5             100000.0  0.611480\n",
       "6            1000000.0  0.626008\n",
       "7           10000000.0  0.627981\n",
       "8         1000000000.0  0.560663\n",
       "9      1000000000000.0  0.946681\n",
       "10  1000000000000000.0  1.150817"
      ]
     },
     "execution_count": 16,
     "metadata": {},
     "output_type": "execute_result"
    },
    {
     "data": {
      "image/png": "[encoded data removed]",
      "text/plain": [
       "<Figure size 432x288 with 1 Axes>"
      ]
     },
     "metadata": {
      "needs_background": "light"
     },
     "output_type": "display_data"
    }
   ],
   "source": [
    "alphas = [0.5, 1, 10, 100, 1000, 1e5, 1e6, 1e7, 1e9, 1e12, 1e15]\n",
    "errors = []\n",
    "for a in alphas:\n",
    "    scores = cross_val_score(MyPolynomialRegression(degree=2,\n",
    "                    include_bias=False, alpha=a), \n",
    "                X_train, y_train, cv=k_fold, \n",
    "                scoring = 'neg_mean_squared_error')\n",
    "    errors.append(sqrt(mean(-scores) ) )\n",
    "    \n",
    "df_errors = pd.DataFrame({'alphas':[str(a) for a in alphas],\n",
    "                        'errors':errors})\n",
    "ax = df_errors.plot.bar(x='alphas')\n",
    "df_errors"
   ]
  },
  {
   "cell_type": "markdown",
   "metadata": {},
   "source": [
    "Let's compute the test error for the best alpha"
   ]
  },
  {
   "cell_type": "code",
   "execution_count": 17,
   "metadata": {
    "scrolled": true
   },
   "outputs": [
    {
     "name": "stdout",
     "output_type": "stream",
     "text": [
      "RMSE_poly_and_ridge:  0.5923726157888938 RMSE linear:  0.6502159231697998\n"
     ]
    }
   ],
   "source": [
    "model = MyPolynomialRegression(degree=2, alpha=1e9)\n",
    "model.fit(X_train, y_train)\n",
    "y_pred = model.predict(X_test)\n",
    "RMSE_poly_and_ridge = sqrt(mean_squared_error(y_pred, y_test) )\n",
    "print(\"RMSE_poly_and_ridge: \", RMSE_poly_and_ridge,\n",
    "      \"RMSE linear: \", RMSE_lin)"
   ]
  },
  {
   "cell_type": "markdown",
   "metadata": {},
   "source": [
    "A simple average is better than the linear model!"
   ]
  },
  {
   "cell_type": "markdown",
   "metadata": {},
   "source": [
    "# Feature scaling"
   ]
  },
  {
   "cell_type": "markdown",
   "metadata": {},
   "source": [
    "Go back to slides"
   ]
  },
  {
   "cell_type": "code",
   "execution_count": 18,
   "metadata": {
    "scrolled": true
   },
   "outputs": [
    {
     "data": {
      "image/png": "[encoded data removed]",
      "text/plain": [
       "<Figure size 432x288 with 1 Axes>"
      ]
     },
     "metadata": {
      "needs_background": "light"
     },
     "output_type": "display_data"
    }
   ],
   "source": [
    "ax = df[features].boxplot()\n",
    "ax.tick_params(axis='x', labelrotation=45)\n",
    "plt.savefig('img/c.boxplot.pdf')"
   ]
  },
  {
   "cell_type": "code",
   "execution_count": 19,
   "metadata": {
    "scrolled": true
   },
   "outputs": [
    {
     "data": {
      "image/png": "[encoded data removed]",
      "text/plain": [
       "<Figure size 432x288 with 1 Axes>"
      ]
     },
     "metadata": {
      "needs_background": "light"
     },
     "output_type": "display_data"
    }
   ],
   "source": [
    "scaler = StandardScaler()\n",
    "X_scaled = scaler.fit_transform(X)\n",
    "df_scaled = pd.DataFrame(X_scaled)\n",
    "df_scaled.columns = features\n",
    "ax = df_scaled.boxplot()\n",
    "ax.tick_params(axis='x', labelrotation=45)\n",
    "plt.savefig('img/c.boxplot-scaled.pdf')"
   ]
  },
  {
   "cell_type": "markdown",
   "metadata": {},
   "source": [
    "Scaling is usually included in the pipelines. Pipelines will use it correctly (train/test).\n",
    "\n",
    "Let's construct a pipeline with scaling and Ridge regression."
   ]
  },
  {
   "cell_type": "code",
   "execution_count": 20,
   "metadata": {},
   "outputs": [],
   "source": [
    "def MyScalingAndPolyRidge(degree=2, alpha=2):\n",
    "    return make_pipeline(\n",
    "       PolynomialFeatures(degree=degree, include_bias=False),\n",
    "        MinMaxScaler(),\n",
    "        Ridge(alpha=alpha)\n",
    "    )"
   ]
  },
  {
   "cell_type": "markdown",
   "metadata": {},
   "source": [
    "Let's find the best alpha with GridSearch"
   ]
  },
  {
   "cell_type": "code",
   "execution_count": 21,
   "metadata": {
    "scrolled": true
   },
   "outputs": [
    {
     "data": {
      "text/html": [
       "<div>\n",
       "<style scoped>\n",
       "    .dataframe tbody tr th:only-of-type {\n",
       "        vertical-align: middle;\n",
       "    }\n",
       "\n",
       "    .dataframe tbody tr th {\n",
       "        vertical-align: top;\n",
       "    }\n",
       "\n",
       "    .dataframe thead th {\n",
       "        text-align: right;\n",
       "    }\n",
       "</style>\n",
       "<table border=\"1\" class=\"dataframe\">\n",
       "  <thead>\n",
       "    <tr style=\"text-align: right;\">\n",
       "      <th></th>\n",
       "      <th>alphas</th>\n",
       "      <th>errors</th>\n",
       "    </tr>\n",
       "  </thead>\n",
       "  <tbody>\n",
       "    <tr>\n",
       "      <th>0</th>\n",
       "      <td>1e-09</td>\n",
       "      <td>6.043232</td>\n",
       "    </tr>\n",
       "    <tr>\n",
       "      <th>1</th>\n",
       "      <td>0.1</td>\n",
       "      <td>0.561536</td>\n",
       "    </tr>\n",
       "    <tr>\n",
       "      <th>2</th>\n",
       "      <td>0.2</td>\n",
       "      <td>0.554337</td>\n",
       "    </tr>\n",
       "    <tr>\n",
       "      <th>3</th>\n",
       "      <td>0.5</td>\n",
       "      <td>0.557097</td>\n",
       "    </tr>\n",
       "    <tr>\n",
       "      <th>4</th>\n",
       "      <td>1</td>\n",
       "      <td>0.560844</td>\n",
       "    </tr>\n",
       "    <tr>\n",
       "      <th>5</th>\n",
       "      <td>10</td>\n",
       "      <td>0.573534</td>\n",
       "    </tr>\n",
       "    <tr>\n",
       "      <th>6</th>\n",
       "      <td>100</td>\n",
       "      <td>0.742585</td>\n",
       "    </tr>\n",
       "    <tr>\n",
       "      <th>7</th>\n",
       "      <td>1000</td>\n",
       "      <td>1.156721</td>\n",
       "    </tr>\n",
       "    <tr>\n",
       "      <th>8</th>\n",
       "      <td>100000.0</td>\n",
       "      <td>1.301020</td>\n",
       "    </tr>\n",
       "    <tr>\n",
       "      <th>9</th>\n",
       "      <td>1000000.0</td>\n",
       "      <td>1.302610</td>\n",
       "    </tr>\n",
       "  </tbody>\n",
       "</table>\n",
       "</div>"
      ],
      "text/plain": [
       "      alphas    errors\n",
       "0      1e-09  6.043232\n",
       "1        0.1  0.561536\n",
       "2        0.2  0.554337\n",
       "3        0.5  0.557097\n",
       "4          1  0.560844\n",
       "5         10  0.573534\n",
       "6        100  0.742585\n",
       "7       1000  1.156721\n",
       "8   100000.0  1.301020\n",
       "9  1000000.0  1.302610"
      ]
     },
     "execution_count": 21,
     "metadata": {},
     "output_type": "execute_result"
    },
    {
     "data": {
      "image/png": "[encoded data removed]",
      "text/plain": [
       "<Figure size 432x288 with 1 Axes>"
      ]
     },
     "metadata": {
      "needs_background": "light"
     },
     "output_type": "display_data"
    }
   ],
   "source": [
    "alphas = [1e-9, 0.1, 0.2, 0.5, 1, 10, 100, 1000, 1e5, 1e6]\n",
    "errors = []\n",
    "for a in alphas:\n",
    "    scores = cross_val_score(MyScalingAndPolyRidge(degree=2,\n",
    "                    alpha=a), \n",
    "                X_train, y_train, cv=k_fold, \n",
    "                scoring = 'neg_mean_squared_error')\n",
    "    errors.append(sqrt(mean(-scores) ) )\n",
    "    \n",
    "df_errors = pd.DataFrame({'alphas':[str(a) for a in alphas],\n",
    "                        'errors':errors})\n",
    "ax = df_errors.plot.bar(x='alphas')\n",
    "df_errors"
   ]
  },
  {
   "cell_type": "markdown",
   "metadata": {},
   "source": [
    "After scaling, the best $\\alpha$ is 0.2."
   ]
  },
  {
   "cell_type": "code",
   "execution_count": 22,
   "metadata": {
    "scrolled": true
   },
   "outputs": [
    {
     "name": "stdout",
     "output_type": "stream",
     "text": [
      "RMSE_scaling_and_poly_and_ridge:  0.5201105216337409 , RMSE_poly_and_ridge: 0.5923726157888938\n"
     ]
    }
   ],
   "source": [
    "model = MyScalingAndPolyRidge(degree=2,\n",
    "                    alpha=0.2)\n",
    "model.fit(X_train, y_train)\n",
    "y_pred = model.predict(X_test)\n",
    "RMSE_scaling_and_poly_and_ridge = \\\n",
    "    sqrt(mean_squared_error(y_pred, y_test) )\n",
    "    \n",
    "print(\"RMSE_scaling_and_poly_and_ridge: \",\n",
    "      RMSE_scaling_and_poly_and_ridge,\n",
    "      \", RMSE_poly_and_ridge:\", \n",
    "      RMSE_poly_and_ridge)"
   ]
  },
  {
   "cell_type": "markdown",
   "metadata": {},
   "source": [
    "# Grid search"
   ]
  },
  {
   "cell_type": "markdown",
   "metadata": {},
   "source": [
    "Let's find the best combination of polynomial degree and regularization weight.\n",
    "\n",
    "Let's check how parameters are called"
   ]
  },
  {
   "cell_type": "code",
   "execution_count": 23,
   "metadata": {},
   "outputs": [
    {
     "data": {
      "text/plain": [
       "dict_keys(['cv', 'error_score', 'estimator__memory', 'estimator__steps', 'estimator__verbose', 'estimator__polynomialfeatures', 'estimator__minmaxscaler', 'estimator__ridge', 'estimator__polynomialfeatures__degree', 'estimator__polynomialfeatures__include_bias', 'estimator__polynomialfeatures__interaction_only', 'estimator__polynomialfeatures__order', 'estimator__minmaxscaler__copy', 'estimator__minmaxscaler__feature_range', 'estimator__ridge__alpha', 'estimator__ridge__copy_X', 'estimator__ridge__fit_intercept', 'estimator__ridge__max_iter', 'estimator__ridge__normalize', 'estimator__ridge__random_state', 'estimator__ridge__solver', 'estimator__ridge__tol', 'estimator', 'iid', 'n_jobs', 'param_grid', 'pre_dispatch', 'refit', 'return_train_score', 'scoring', 'verbose'])"
      ]
     },
     "execution_count": 23,
     "metadata": {},
     "output_type": "execute_result"
    }
   ],
   "source": [
    "GridSearchCV(MyScalingAndPolyRidge(), []).get_params().keys()"
   ]
  },
  {
   "cell_type": "code",
   "execution_count": 24,
   "metadata": {},
   "outputs": [],
   "source": [
    "parameters_to_test=[{'ridge__alpha':[0.1, 0.2, 0.5, 1, 5, 10, 50, \n",
    "                             1e6],\n",
    "                     'polynomialfeatures__degree':np.arange(1,6)\n",
    "                    }]\n",
    "grid = GridSearchCV(MyScalingAndPolyRidge(), parameters_to_test,\n",
    "                    cv=k_fold, scoring='neg_mean_squared_error'\n",
    "    )"
   ]
  },
  {
   "cell_type": "code",
   "execution_count": 25,
   "metadata": {
    "scrolled": true
   },
   "outputs": [
    {
     "name": "stdout",
     "output_type": "stream",
     "text": [
      "The best parameters are {'polynomialfeatures__degree': 2, 'ridge__alpha': 0.2}\n"
     ]
    }
   ],
   "source": [
    "grid.fit(X_train, y_train)\n",
    "print(\"The best parameters are\", grid.best_params_)"
   ]
  },
  {
   "cell_type": "markdown",
   "metadata": {},
   "source": [
    "Let's validate on the test set"
   ]
  },
  {
   "cell_type": "code",
   "execution_count": 26,
   "metadata": {},
   "outputs": [
    {
     "name": "stdout",
     "output_type": "stream",
     "text": [
      "RMSE_grid: 0.5201105216337409 , quadr.model + ridge RMSE: 0.5201105216337409\n"
     ]
    }
   ],
   "source": [
    "model = grid.best_estimator_\n",
    "model.fit(X_train, y_train)\n",
    "y_pred = model.predict(X_test)\n",
    "RMSE_grid = sqrt(mean_squared_error(y_pred, y_test))\n",
    "print(\"RMSE_grid:\", RMSE_grid, \", quadr.model + ridge RMSE:\",\n",
    "     RMSE_scaling_and_poly_and_ridge)"
   ]
  },
  {
   "cell_type": "markdown",
   "metadata": {},
   "source": [
    "# Recursive Feature Elimination"
   ]
  },
  {
   "cell_type": "code",
   "execution_count": 27,
   "metadata": {},
   "outputs": [],
   "source": [
    "def MyScaledLinearRegression():\n",
    "    return make_pipeline(\n",
    "        StandardScaler(),\n",
    "        LinearRegression()\n",
    "        )"
   ]
  },
  {
   "cell_type": "markdown",
   "metadata": {},
   "source": [
    "The following code will lead to a known error"
   ]
  },
  {
   "cell_type": "code",
   "execution_count": 29,
   "metadata": {},
   "outputs": [
    {
     "name": "stderr",
     "output_type": "stream",
     "text": [
      "/home/araldo/.conda/envs/my_env/lib/python3.6/site-packages/sklearn/model_selection/_split.py:1978: FutureWarning: The default value of cv will change from 3 to 5 in version 0.22. Specify it explicitly to silence this warning.\n",
      "  warnings.warn(CV_WARNING, FutureWarning)\n"
     ]
    },
    {
     "ename": "RuntimeError",
     "evalue": "The classifier does not expose \"coef_\" or \"feature_importances_\" attributes",
     "output_type": "error",
     "traceback": [
      "\u001b[0;31m---------------------------------------------------------------------------\u001b[0m",
      "\u001b[0;31mRuntimeError\u001b[0m                              Traceback (most recent call last)",
      "\u001b[0;32m<ipython-input-29-9933b38df207>\u001b[0m in \u001b[0;36m<module>\u001b[0;34m\u001b[0m\n\u001b[1;32m      2\u001b[0m \u001b[0;34m\u001b[0m\u001b[0m\n\u001b[1;32m      3\u001b[0m \u001b[0mrfe\u001b[0m \u001b[0;34m=\u001b[0m \u001b[0mRFECV\u001b[0m\u001b[0;34m(\u001b[0m\u001b[0mMyScaledLinearRegression\u001b[0m\u001b[0;34m(\u001b[0m\u001b[0;34m)\u001b[0m\u001b[0;34m)\u001b[0m\u001b[0;34m\u001b[0m\u001b[0;34m\u001b[0m\u001b[0m\n\u001b[0;32m----> 4\u001b[0;31m \u001b[0mrfe\u001b[0m\u001b[0;34m.\u001b[0m\u001b[0mfit\u001b[0m\u001b[0;34m(\u001b[0m\u001b[0mX_train\u001b[0m\u001b[0;34m,\u001b[0m \u001b[0my_train\u001b[0m\u001b[0;34m)\u001b[0m\u001b[0;34m\u001b[0m\u001b[0;34m\u001b[0m\u001b[0m\n\u001b[0m",
      "\u001b[0;32m~/.conda/envs/my_env/lib/python3.6/site-packages/sklearn/feature_selection/rfe.py\u001b[0m in \u001b[0;36mfit\u001b[0;34m(self, X, y, groups)\u001b[0m\n\u001b[1;32m    519\u001b[0m         scores = parallel(\n\u001b[1;32m    520\u001b[0m             \u001b[0mfunc\u001b[0m\u001b[0;34m(\u001b[0m\u001b[0mrfe\u001b[0m\u001b[0;34m,\u001b[0m \u001b[0mself\u001b[0m\u001b[0;34m.\u001b[0m\u001b[0mestimator\u001b[0m\u001b[0;34m,\u001b[0m \u001b[0mX\u001b[0m\u001b[0;34m,\u001b[0m \u001b[0my\u001b[0m\u001b[0;34m,\u001b[0m \u001b[0mtrain\u001b[0m\u001b[0;34m,\u001b[0m \u001b[0mtest\u001b[0m\u001b[0;34m,\u001b[0m \u001b[0mscorer\u001b[0m\u001b[0;34m)\u001b[0m\u001b[0;34m\u001b[0m\u001b[0;34m\u001b[0m\u001b[0m\n\u001b[0;32m--> 521\u001b[0;31m             for train, test in cv.split(X, y, groups))\n\u001b[0m\u001b[1;32m    522\u001b[0m \u001b[0;34m\u001b[0m\u001b[0m\n\u001b[1;32m    523\u001b[0m         \u001b[0mscores\u001b[0m \u001b[0;34m=\u001b[0m \u001b[0mnp\u001b[0m\u001b[0;34m.\u001b[0m\u001b[0msum\u001b[0m\u001b[0;34m(\u001b[0m\u001b[0mscores\u001b[0m\u001b[0;34m,\u001b[0m \u001b[0maxis\u001b[0m\u001b[0;34m=\u001b[0m\u001b[0;36m0\u001b[0m\u001b[0;34m)\u001b[0m\u001b[0;34m\u001b[0m\u001b[0;34m\u001b[0m\u001b[0m\n",
      "\u001b[0;32m~/.conda/envs/my_env/lib/python3.6/site-packages/sklearn/feature_selection/rfe.py\u001b[0m in \u001b[0;36m<genexpr>\u001b[0;34m(.0)\u001b[0m\n\u001b[1;32m    519\u001b[0m         scores = parallel(\n\u001b[1;32m    520\u001b[0m             \u001b[0mfunc\u001b[0m\u001b[0;34m(\u001b[0m\u001b[0mrfe\u001b[0m\u001b[0;34m,\u001b[0m \u001b[0mself\u001b[0m\u001b[0;34m.\u001b[0m\u001b[0mestimator\u001b[0m\u001b[0;34m,\u001b[0m \u001b[0mX\u001b[0m\u001b[0;34m,\u001b[0m \u001b[0my\u001b[0m\u001b[0;34m,\u001b[0m \u001b[0mtrain\u001b[0m\u001b[0;34m,\u001b[0m \u001b[0mtest\u001b[0m\u001b[0;34m,\u001b[0m \u001b[0mscorer\u001b[0m\u001b[0;34m)\u001b[0m\u001b[0;34m\u001b[0m\u001b[0;34m\u001b[0m\u001b[0m\n\u001b[0;32m--> 521\u001b[0;31m             for train, test in cv.split(X, y, groups))\n\u001b[0m\u001b[1;32m    522\u001b[0m \u001b[0;34m\u001b[0m\u001b[0m\n\u001b[1;32m    523\u001b[0m         \u001b[0mscores\u001b[0m \u001b[0;34m=\u001b[0m \u001b[0mnp\u001b[0m\u001b[0;34m.\u001b[0m\u001b[0msum\u001b[0m\u001b[0;34m(\u001b[0m\u001b[0mscores\u001b[0m\u001b[0;34m,\u001b[0m \u001b[0maxis\u001b[0m\u001b[0;34m=\u001b[0m\u001b[0;36m0\u001b[0m\u001b[0;34m)\u001b[0m\u001b[0;34m\u001b[0m\u001b[0;34m\u001b[0m\u001b[0m\n",
      "\u001b[0;32m~/.conda/envs/my_env/lib/python3.6/site-packages/sklearn/feature_selection/rfe.py\u001b[0m in \u001b[0;36m_rfe_single_fit\u001b[0;34m(rfe, estimator, X, y, train, test, scorer)\u001b[0m\n\u001b[1;32m     30\u001b[0m     \u001b[0mX_test\u001b[0m\u001b[0;34m,\u001b[0m \u001b[0my_test\u001b[0m \u001b[0;34m=\u001b[0m \u001b[0m_safe_split\u001b[0m\u001b[0;34m(\u001b[0m\u001b[0mestimator\u001b[0m\u001b[0;34m,\u001b[0m \u001b[0mX\u001b[0m\u001b[0;34m,\u001b[0m \u001b[0my\u001b[0m\u001b[0;34m,\u001b[0m \u001b[0mtest\u001b[0m\u001b[0;34m,\u001b[0m \u001b[0mtrain\u001b[0m\u001b[0;34m)\u001b[0m\u001b[0;34m\u001b[0m\u001b[0;34m\u001b[0m\u001b[0m\n\u001b[1;32m     31\u001b[0m     return rfe._fit(\n\u001b[0;32m---> 32\u001b[0;31m         \u001b[0mX_train\u001b[0m\u001b[0;34m,\u001b[0m \u001b[0my_train\u001b[0m\u001b[0;34m,\u001b[0m \u001b[0;32mlambda\u001b[0m \u001b[0mestimator\u001b[0m\u001b[0;34m,\u001b[0m \u001b[0mfeatures\u001b[0m\u001b[0;34m:\u001b[0m\u001b[0;34m\u001b[0m\u001b[0;34m\u001b[0m\u001b[0m\n\u001b[0m\u001b[1;32m     33\u001b[0m         _score(estimator, X_test[:, features], y_test, scorer)).scores_\n\u001b[1;32m     34\u001b[0m \u001b[0;34m\u001b[0m\u001b[0m\n",
      "\u001b[0;32m~/.conda/envs/my_env/lib/python3.6/site-packages/sklearn/feature_selection/rfe.py\u001b[0m in \u001b[0;36m_fit\u001b[0;34m(self, X, y, step_score)\u001b[0m\n\u001b[1;32m    189\u001b[0m                 \u001b[0mcoefs\u001b[0m \u001b[0;34m=\u001b[0m \u001b[0mgetattr\u001b[0m\u001b[0;34m(\u001b[0m\u001b[0mestimator\u001b[0m\u001b[0;34m,\u001b[0m \u001b[0;34m'feature_importances_'\u001b[0m\u001b[0;34m,\u001b[0m \u001b[0;32mNone\u001b[0m\u001b[0;34m)\u001b[0m\u001b[0;34m\u001b[0m\u001b[0;34m\u001b[0m\u001b[0m\n\u001b[1;32m    190\u001b[0m             \u001b[0;32mif\u001b[0m \u001b[0mcoefs\u001b[0m \u001b[0;32mis\u001b[0m \u001b[0;32mNone\u001b[0m\u001b[0;34m:\u001b[0m\u001b[0;34m\u001b[0m\u001b[0;34m\u001b[0m\u001b[0m\n\u001b[0;32m--> 191\u001b[0;31m                 raise RuntimeError('The classifier does not expose '\n\u001b[0m\u001b[1;32m    192\u001b[0m                                    \u001b[0;34m'\"coef_\" or \"feature_importances_\" '\u001b[0m\u001b[0;34m\u001b[0m\u001b[0;34m\u001b[0m\u001b[0m\n\u001b[1;32m    193\u001b[0m                                    'attributes')\n",
      "\u001b[0;31mRuntimeError\u001b[0m: The classifier does not expose \"coef_\" or \"feature_importances_\" attributes"
     ]
    }
   ],
   "source": [
    "# The following code will lead to a known error\n",
    "\n",
    "rfe = RFECV(MyScaledLinearRegression())\n",
    "rfe.fit(X_train, y_train)"
   ]
  },
  {
   "cell_type": "markdown",
   "metadata": {},
   "source": [
    "We need to modify the `Pipeline` class (inspired by [this blog](https://ramhiser.com/post/2018-03-25-feature-selection-with-scikit-learn-pipeline/) and this [StackOverflow post](https://stackoverflow.com/q/36683230/2110769))"
   ]
  },
  {
   "cell_type": "code",
   "execution_count": null,
   "metadata": {},
   "outputs": [],
   "source": [
    "class MyPipeline(Pipeline):\n",
    "\n",
    "    def fit(self, X, y=None, **fit_params):\n",
    "        super(MyPipeline, self).fit(X, y, **fit_params)\n",
    "        self.coef_ = self.steps[-1][-1].coef_\n",
    "        return self"
   ]
  },
  {
   "cell_type": "markdown",
   "metadata": {},
   "source": [
    "Let's try again"
   ]
  },
  {
   "cell_type": "code",
   "execution_count": null,
   "metadata": {},
   "outputs": [],
   "source": [
    "def MyScaledLinearRegression():\n",
    "    return MyPipeline(\n",
    "        [ \n",
    "            ('my_nice_scaler',StandardScaler() ), \n",
    "            ('my_beautiful_regression', LinearRegression() )\n",
    "        ]\n",
    "    )\n",
    "\n",
    "rfe = RFECV(MyScaledLinearRegression(), cv=k_fold, \n",
    "            scoring='neg_mean_squared_error')\n",
    "rfe.fit(X_train, y_train)"
   ]
  },
  {
   "cell_type": "markdown",
   "metadata": {},
   "source": [
    "Let's check how the cross-validated error changed with the num of features"
   ]
  },
  {
   "cell_type": "code",
   "execution_count": null,
   "metadata": {},
   "outputs": [],
   "source": [
    "RMSE_values = np.sqrt(- rfe.grid_scores_)\n",
    "RMSE_values"
   ]
  },
  {
   "cell_type": "code",
   "execution_count": null,
   "metadata": {},
   "outputs": [],
   "source": [
    "num_of_features = np.arange(1,len(features)+1)\n",
    "\n",
    "fig, ax = plt.subplots()\n",
    "ax.plot(num_of_features, RMSE_values)\n",
    "ax.set(xlabel=\"Num of features\", ylabel=\"Cross-Val RMSE\")"
   ]
  },
  {
   "cell_type": "markdown",
   "metadata": {},
   "source": [
    "Two features seem to give the best model. What are such features?"
   ]
  },
  {
   "cell_type": "code",
   "execution_count": null,
   "metadata": {},
   "outputs": [],
   "source": [
    "all_features_array = np.array(features)\n",
    "selected_features = all_features_array[rfe.support_]\n",
    "selected_features"
   ]
  },
  {
   "cell_type": "markdown",
   "metadata": {},
   "source": [
    "Let's test the selected model"
   ]
  },
  {
   "cell_type": "code",
   "execution_count": null,
   "metadata": {},
   "outputs": [],
   "source": [
    "y_pred = rfe.predict(X_test)\n",
    "RMSE_feat_elimin = sqrt(mean_squared_error(y_pred, y_test))\n",
    "print('RMSE_feat_elimin=', RMSE_feat_elimin, ', RMSE_grid', RMSE_grid,\n",
    "     ', RMSE_lin', RMSE_lin)"
   ]
  },
  {
   "cell_type": "markdown",
   "metadata": {},
   "source": [
    "This model is better than the linear regression where we had all the features. However, the one we found with grid (best polynomial with ridge regularization) is still the best.\n",
    "\n",
    "Some idea to improve even more the model?"
   ]
  },
  {
   "cell_type": "markdown",
   "metadata": {},
   "source": [
    "<details>\n",
    "<summary>...\n",
    "    \n",
    "__Click__\n",
    "</summary>\n",
    "\n",
    "* Find the best polynomial + normalization model based only on these two features. Or\n",
    "* Use RFECV on the polynomial model to select a subset of transformed features. Or\n",
    "* \n",
    "</details>"
   ]
  },
  {
   "cell_type": "code",
   "execution_count": null,
   "metadata": {},
   "outputs": [],
   "source": []
  }
 ],
 "metadata": {
  "kernelspec": {
   "display_name": "Python 3",
   "language": "python",
   "name": "python3"
  },
  "language_info": {
   "codemirror_mode": {
    "name": "ipython",
    "version": 3
   },
   "file_extension": ".py",
   "mimetype": "text/x-python",
   "name": "python",
   "nbconvert_exporter": "python",
   "pygments_lexer": "ipython3",
   "version": "3.6.8"
  }
 },
 "nbformat": 4,
 "nbformat_minor": 4
}
