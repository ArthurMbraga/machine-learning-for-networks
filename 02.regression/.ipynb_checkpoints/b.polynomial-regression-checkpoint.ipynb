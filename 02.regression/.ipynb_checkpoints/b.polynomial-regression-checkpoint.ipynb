{
 "cells": [
  {
   "cell_type": "markdown",
   "metadata": {},
   "source": [
    "[![Open In Colab](https://colab.research.google.com/assets/colab-badge.svg)](https://colab.research.google.com/github/andreaaraldo/machine-learning-for-networks/blob/master/02.regression/b.polynomial-regression.ipynb)"
   ]
  },
  {
   "cell_type": "markdown",
   "metadata": {},
   "source": [
    "Predict `BufferHealth` (seconds ahead in the buffer) only based on network measurements.\n",
    "\n",
    "**Why?**: The operator may decide to allocate more bandwidth to users whose buffer is suffering."
   ]
  },
  {
   "cell_type": "code",
   "execution_count": 6,
   "metadata": {},
   "outputs": [],
   "source": [
    "import pandas as pd # For dataframes (tables)\n",
    "import matplotlib.pyplot as plt # For plots\n",
    "from sklearn.model_selection import train_test_split\n",
    "from sklearn.metrics import mean_squared_error\n",
    "from math import sqrt\n",
    "import numpy as np # For arange\n",
    "from sklearn.preprocessing import PolynomialFeatures\n",
    "from sklearn.pipeline import make_pipeline\n",
    "from sklearn.model_selection import GridSearchCV\n",
    "from sklearn.model_selection import cross_val_score, KFold\n",
    "\n",
    "\n",
    "# We will use a library that I created for you\n",
    "import os # To import external python files\n",
    "import sys# To import external python files\n",
    "sys.path.insert(0,os.path.abspath('../../course_library') ) # Replace this\n",
    "                                                            # with the correct\n",
    "                                                            # path\n",
    "import feature_engineering                                 \n",
    "from andrea_models import AndreaLinearRegression"
   ]
  },
  {
   "cell_type": "code",
   "execution_count": 7,
   "metadata": {},
   "outputs": [],
   "source": [
    "dataset_to_use = 'B1'\n",
    "mydatasets_folder = \"/home/araldo/datasets\"\n",
    "df = pd.read_csv(mydatasets_folder +'/video-qoe-processed/df.'+\n",
    "                 dataset_to_use+'_2.csv')"
   ]
  },
  {
   "cell_type": "markdown",
   "metadata": {},
   "source": [
    "# Univariate Polynomial Regression"
   ]
  },
  {
   "cell_type": "markdown",
   "metadata": {},
   "source": [
    "Let's check what are the most correlated features to `BufferHealth`."
   ]
  },
  {
   "cell_type": "code",
   "execution_count": 8,
   "metadata": {
    "scrolled": false
   },
   "outputs": [
    {
     "data": {
      "text/plain": [
       "BufferHealth           1.00\n",
       "BufferProgress_log     0.97\n",
       "BufferProgress         0.97\n",
       "BytesReceived0         0.61\n",
       "PacketsReceived        0.61\n",
       "BytesReceived          0.61\n",
       "PacketsReceived0       0.61\n",
       "KBytesReceived         0.61\n",
       "PacketsSent0           0.56\n",
       "PacketsSent            0.53\n",
       "RelativeTime           0.51\n",
       "PacketsReceived5       0.50\n",
       "PacketsReceived_log    0.50\n",
       "BytesReceived5         0.50\n",
       "KBytesReceived_log     0.49\n",
       "BytesReceived_log      0.49\n",
       "BytesSent0             0.49\n",
       "PacketsSent_log        0.45\n",
       "EpochTime             -0.44\n",
       "StartTime             -0.44\n",
       "label_num              0.39\n",
       "BytesSent5             0.37\n",
       "PacketsSent5           0.37\n",
       "BytesSent              0.37\n",
       "BytesSent_log          0.35\n",
       "BytesSent7            -0.28\n",
       "PacketsSent7          -0.22\n",
       "PacketsReceived7      -0.19\n",
       "BytesReceived7        -0.14\n",
       "PacketsSent10         -0.12\n",
       "                       ... \n",
       "IPDst21                 NaN\n",
       "Protocol21              NaN\n",
       "PacketsSent21           NaN\n",
       "PacketsReceived21       NaN\n",
       "BytesSent21             NaN\n",
       "BytesReceived21         NaN\n",
       "IPDst22                 NaN\n",
       "Protocol22              NaN\n",
       "PacketsSent22           NaN\n",
       "PacketsReceived22       NaN\n",
       "BytesSent22             NaN\n",
       "BytesReceived22         NaN\n",
       "IPDst23                 NaN\n",
       "Protocol23              NaN\n",
       "PacketsSent23           NaN\n",
       "PacketsReceived23       NaN\n",
       "BytesSent23             NaN\n",
       "BytesReceived23         NaN\n",
       "IPDst24                 NaN\n",
       "Protocol24              NaN\n",
       "PacketsSent24           NaN\n",
       "PacketsReceived24       NaN\n",
       "BytesSent24             NaN\n",
       "BytesReceived24         NaN\n",
       "Protocol25              NaN\n",
       "Buffering               NaN\n",
       "Paused                  NaN\n",
       "Playing                 NaN\n",
       "CollectData             NaN\n",
       "BufferValid             NaN\n",
       "Name: BufferHealth, Length: 147, dtype: float64"
      ]
     },
     "execution_count": 8,
     "metadata": {},
     "output_type": "execute_result"
    }
   ],
   "source": [
    "feats = feature_engineering.get_features_correlated_to_target(\n",
    "        df, target_feature='BufferHealth'\n",
    "        )\n",
    "feats"
   ]
  },
  {
   "cell_type": "markdown",
   "metadata": {},
   "source": [
    "We can not use `BufferProgress`, as it is not a network-layer measure and the net operator would not have access to the buffer of users.\n",
    "\n",
    "`BytesReceived` is also highly correlated (to have more seconds-ahead, we need to download more)."
   ]
  },
  {
   "cell_type": "code",
   "execution_count": 9,
   "metadata": {
    "scrolled": true
   },
   "outputs": [
    {
     "data": {
      "text/plain": [
       "[Text(0, 0.5, 'BufferHealth'), Text(0.5, 0, 'BytesReceived')]"
      ]
     },
     "execution_count": 9,
     "metadata": {},
     "output_type": "execute_result"
    },
    {
     "data": {
      "image/png": "[encoded data removed]",
      "text/plain": [
       "<Figure size 432x288 with 1 Axes>"
      ]
     },
     "metadata": {
      "needs_background": "light"
     },
     "output_type": "display_data"
    }
   ],
   "source": [
    "feature = 'BytesReceived'\n",
    "fig, ax = plt.subplots() # This creates just a canvas\n",
    "ax.scatter(df[feature],df['BufferHealth'],color='black',\n",
    "           s=2, label='all samples') # ax is the actual figure\n",
    "ax.set (xlabel=feature, ylabel='BufferHealth')"
   ]
  },
  {
   "cell_type": "markdown",
   "metadata": {},
   "source": [
    "Values are squashed on the left, let's use the log-transformed feature to see the dependency better."
   ]
  },
  {
   "cell_type": "code",
   "execution_count": 10,
   "metadata": {
    "scrolled": false
   },
   "outputs": [
    {
     "data": {
      "text/plain": [
       "[Text(0, 0.5, 'BufferHealth'), Text(0.5, 0, 'BytesReceived_log')]"
      ]
     },
     "execution_count": 10,
     "metadata": {},
     "output_type": "execute_result"
    },
    {
     "data": {
      "image/png": "[encoded data removed]",
      "text/plain": [
       "<Figure size 432x288 with 1 Axes>"
      ]
     },
     "metadata": {
      "needs_background": "light"
     },
     "output_type": "display_data"
    }
   ],
   "source": [
    "feature = 'BytesReceived_log'\n",
    "fig, ax = plt.subplots() # This creates just a canvas\n",
    "ax.scatter(df[feature],df['BufferHealth'],color='black',\n",
    "           s=2, label='all samples') # ax is the actual figure\n",
    "ax.set (xlabel=feature, ylabel='BufferHealth')"
   ]
  },
  {
   "cell_type": "markdown",
   "metadata": {},
   "source": [
    "The dependency is clearer now, although, in terms of Pearson's correlation coefficient \n",
    "$$\n",
    "\\rho(\\texttt{BytesReceived},\\texttt{BufferHealth}) \\ge \n",
    "\\rho(\\texttt{BytesReceived_log},\\texttt{BufferHealth})\n",
    "$$ \n",
    "\n",
    "Don't be surprised: Pearson's correlation only captures linear dependency and we see that here the dependency is not linear"
   ]
  },
  {
   "cell_type": "code",
   "execution_count": 11,
   "metadata": {},
   "outputs": [],
   "source": [
    "df_train, df_test = train_test_split(df, test_size=0.3, random_state=2)"
   ]
  },
  {
   "cell_type": "markdown",
   "metadata": {},
   "source": [
    "Let's put in evidence the test samples"
   ]
  },
  {
   "cell_type": "code",
   "execution_count": 12,
   "metadata": {
    "scrolled": true
   },
   "outputs": [
    {
     "data": {
      "image/png": "[encoded data removed]",
      "text/plain": [
       "<Figure size 432x288 with 1 Axes>"
      ]
     },
     "execution_count": 12,
     "metadata": {},
     "output_type": "execute_result"
    }
   ],
   "source": [
    "ax.scatter(df_test[feature],df_test['BufferHealth'],color='red',\n",
    "           s=2, label='test') # ax is the actual figure\n",
    "fig"
   ]
  },
  {
   "cell_type": "markdown",
   "metadata": {},
   "source": [
    "OLS linear regression"
   ]
  },
  {
   "cell_type": "code",
   "execution_count": 13,
   "metadata": {
    "scrolled": true
   },
   "outputs": [
    {
     "name": "stdout",
     "output_type": "stream",
     "text": [
      "                            OLS Regression Results                            \n",
      "==============================================================================\n",
      "Dep. Variable:                      y   R-squared:                       0.369\n",
      "Model:                            OLS   Adj. R-squared:                  0.348\n",
      "Method:                 Least Squares   F-statistic:                     17.51\n",
      "Date:                Tue, 18 Feb 2020   Prob (F-statistic):           0.000229\n",
      "Time:                        19:56:36   Log-Likelihood:                -64.395\n",
      "No. Observations:                  32   AIC:                             132.8\n",
      "Df Residuals:                      30   BIC:                             135.7\n",
      "Df Model:                           1                                         \n",
      "Covariance Type:            nonrobust                                         \n",
      "==============================================================================\n",
      "                 coef    std err          t      P>|t|      [0.025      0.975]\n",
      "------------------------------------------------------------------------------\n",
      "const        -13.7603      4.677     -2.942      0.006     -23.312      -4.209\n",
      "x1             1.6199      0.387      4.185      0.000       0.829       2.410\n",
      "==============================================================================\n",
      "Omnibus:                       11.109   Durbin-Watson:                   1.898\n",
      "Prob(Omnibus):                  0.004   Jarque-Bera (JB):               10.120\n",
      "Skew:                           1.179   Prob(JB):                      0.00635\n",
      "Kurtosis:                       4.423   Cond. No.                         172.\n",
      "==============================================================================\n",
      "\n",
      "Warnings:\n",
      "[1] Standard Errors assume that the covariance matrix of the errors is correctly specified.\n"
     ]
    }
   ],
   "source": [
    "feature = 'BytesReceived_log'\n",
    "target = 'BufferHealth'\n",
    "X_train = df_train[feature].values.reshape(-1,1)\n",
    "X_test = df_test[feature].values.reshape(-1,1)\n",
    "y_train = df_train[target].values\n",
    "y_test = df_test[target].values\n",
    "\n",
    "model = AndreaLinearRegression(feature)\n",
    "model.fit(X_train, y_train)\n",
    "model.summary()"
   ]
  },
  {
   "cell_type": "markdown",
   "metadata": {},
   "source": [
    "The model is significant. Let's test it."
   ]
  },
  {
   "cell_type": "code",
   "execution_count": 14,
   "metadata": {},
   "outputs": [
    {
     "name": "stdout",
     "output_type": "stream",
     "text": [
      "The test error is of  3.722808230494189  seconds\n"
     ]
    }
   ],
   "source": [
    "y_pred = model.predict(X_test)\n",
    "RMSE_linear = sqrt(mean_squared_error(y_pred, y_test))\n",
    "print('The test error is of ',RMSE_linear,' seconds')"
   ]
  },
  {
   "cell_type": "markdown",
   "metadata": {},
   "source": [
    "Let's plot the regression line"
   ]
  },
  {
   "cell_type": "code",
   "execution_count": 15,
   "metadata": {
    "scrolled": true
   },
   "outputs": [
    {
     "data": {
      "image/png": "[encoded data removed]",
      "text/plain": [
       "<Figure size 432x288 with 1 Axes>"
      ]
     },
     "execution_count": 15,
     "metadata": {},
     "output_type": "execute_result"
    }
   ],
   "source": [
    "interval = np.arange(10, 15, 0.01).reshape(-1,1)\n",
    "h_values = model.predict(interval)\n",
    "ax.plot(interval,h_values, label=\"Linear \")\n",
    "ax.legend()\n",
    "fig"
   ]
  },
  {
   "cell_type": "markdown",
   "metadata": {},
   "source": [
    "Not great. We would like to have a curve more flexible than a rigid straight line."
   ]
  },
  {
   "cell_type": "markdown",
   "metadata": {},
   "source": [
    "To run a quadratic regression, we first need to add to the column `BytesReceived_log` the column $\\texttt{BytesReceived_log}^2$."
   ]
  },
  {
   "cell_type": "code",
   "execution_count": 16,
   "metadata": {
    "scrolled": true
   },
   "outputs": [
    {
     "data": {
      "text/plain": [
       "array([[ 10.37402229, 107.62033849],\n",
       "       [ 12.16272141, 147.93179218],\n",
       "       [ 11.68839023, 136.61846627],\n",
       "       [ 11.25940002, 126.77408887],\n",
       "       [ 12.32598674, 151.92994917],\n",
       "       [ 11.8706069 , 140.91130823],\n",
       "       [ 12.99278303, 168.81241077],\n",
       "       [ 13.66424804, 186.71167441],\n",
       "       [ 11.28062764, 127.25255997],\n",
       "       [ 11.32280558, 128.2059262 ],\n",
       "       [ 10.23426503, 104.74018077],\n",
       "       [ 11.25712958, 126.72296641],\n",
       "       [ 12.53561377, 157.14161271],\n",
       "       [ 11.47326946, 131.63591203],\n",
       "       [ 13.39753148, 179.49384964],\n",
       "       [ 11.71440402, 137.22726145],\n",
       "       [ 11.98382245, 143.61200039],\n",
       "       [ 11.28156071, 127.2736121 ],\n",
       "       [ 13.24652779, 175.4704984 ],\n",
       "       [ 13.14613264, 172.82080331],\n",
       "       [ 11.31062567, 127.93025294],\n",
       "       [ 12.54261274, 157.31713427],\n",
       "       [ 13.39098953, 179.31860069],\n",
       "       [ 13.51802997, 182.73713426],\n",
       "       [ 12.21554762, 149.21960356],\n",
       "       [ 12.466088  , 155.40335001],\n",
       "       [ 11.61205561, 134.83983554],\n",
       "       [ 11.95845068, 143.0045426 ],\n",
       "       [ 11.67068107, 136.20479659],\n",
       "       [ 12.05954864, 145.43271345],\n",
       "       [ 11.85207982, 140.47179596],\n",
       "       [ 11.83681169, 140.11011089]])"
      ]
     },
     "execution_count": 16,
     "metadata": {},
     "output_type": "execute_result"
    }
   ],
   "source": [
    "X_train_poly = PolynomialFeatures(degree=2, \n",
    "                include_bias=False).fit_transform(X_train)\n",
    "X_train_poly"
   ]
  },
  {
   "cell_type": "code",
   "execution_count": 17,
   "metadata": {},
   "outputs": [
    {
     "name": "stdout",
     "output_type": "stream",
     "text": [
      "                            OLS Regression Results                            \n",
      "==============================================================================\n",
      "Dep. Variable:                      y   R-squared:                       0.414\n",
      "Model:                            OLS   Adj. R-squared:                  0.373\n",
      "Method:                 Least Squares   F-statistic:                     10.23\n",
      "Date:                Tue, 18 Feb 2020   Prob (F-statistic):           0.000435\n",
      "Time:                        19:56:36   Log-Likelihood:                -63.209\n",
      "No. Observations:                  32   AIC:                             132.4\n",
      "Df Residuals:                      29   BIC:                             136.8\n",
      "Df Model:                           2                                         \n",
      "Covariance Type:            nonrobust                                         \n",
      "==============================================================================\n",
      "                 coef    std err          t      P>|t|      [0.025      0.975]\n",
      "------------------------------------------------------------------------------\n",
      "const         64.2576     52.452      1.225      0.230     -43.018     171.533\n",
      "x1           -11.3349      8.684     -1.305      0.202     -29.097       6.427\n",
      "x2             0.5351      0.358      1.493      0.146      -0.198       1.268\n",
      "==============================================================================\n",
      "Omnibus:                       18.793   Durbin-Watson:                   2.102\n",
      "Prob(Omnibus):                  0.000   Jarque-Bera (JB):               24.331\n",
      "Skew:                           1.572   Prob(JB):                     5.21e-06\n",
      "Kurtosis:                       5.893   Cond. No.                     2.43e+04\n",
      "==============================================================================\n",
      "\n",
      "Warnings:\n",
      "[1] Standard Errors assume that the covariance matrix of the errors is correctly specified.\n",
      "[2] The condition number is large, 2.43e+04. This might indicate that there are\n",
      "strong multicollinearity or other numerical problems.\n"
     ]
    }
   ],
   "source": [
    "model = AndreaLinearRegression()\n",
    "model.fit(X_train_poly, y_train)\n",
    "model.summary()"
   ]
  },
  {
   "cell_type": "markdown",
   "metadata": {},
   "source": [
    "Let's plot the line"
   ]
  },
  {
   "cell_type": "code",
   "execution_count": 18,
   "metadata": {},
   "outputs": [
    {
     "data": {
      "image/png": "[encoded data removed]",
      "text/plain": [
       "<Figure size 432x288 with 1 Axes>"
      ]
     },
     "execution_count": 18,
     "metadata": {},
     "output_type": "execute_result"
    }
   ],
   "source": [
    "interval = interval.reshape(-1,1)\n",
    "interval_poly = PolynomialFeatures(degree=2, \n",
    "                include_bias=False).fit_transform(interval)\n",
    "h_values = model.predict(interval_poly)\n",
    "\n",
    "ax.plot(interval,h_values, label=\"Quadratic\")\n",
    "ax.legend()\n",
    "fig"
   ]
  },
  {
   "cell_type": "code",
   "execution_count": 19,
   "metadata": {},
   "outputs": [
    {
     "name": "stdout",
     "output_type": "stream",
     "text": [
      "The test error is  3.4349359394194794  seconds; with linear regression it was 3.722808230494189\n"
     ]
    }
   ],
   "source": [
    "X_test_poly = PolynomialFeatures(degree=2, \n",
    "                include_bias=False).fit_transform(X_test)\n",
    "# include_bias=False, since the bias term will be added\n",
    "# by AndreaLinearRegression\n",
    "\n",
    "y_pred = model.predict(X_test_poly)\n",
    "RMSE_quadr = sqrt(mean_squared_error(y_pred, y_test))\n",
    "print('The test error is ',RMSE_quadr,\n",
    "          ' seconds; with linear regression it was', RMSE_linear)"
   ]
  },
  {
   "cell_type": "markdown",
   "metadata": {},
   "source": [
    "Let's try with cubic regression"
   ]
  },
  {
   "cell_type": "code",
   "execution_count": 20,
   "metadata": {},
   "outputs": [
    {
     "name": "stdout",
     "output_type": "stream",
     "text": [
      "RMSE:  3.5062243994987474  seconds; With quadratic regression it was  3.4349359394194794\n"
     ]
    },
    {
     "data": {
      "image/png": "[encoded data removed]",
      "text/plain": [
       "<Figure size 432x288 with 1 Axes>"
      ]
     },
     "execution_count": 20,
     "metadata": {},
     "output_type": "execute_result"
    }
   ],
   "source": [
    "mydegree = 3\n",
    "X_train_poly = PolynomialFeatures(degree=mydegree, \n",
    "                include_bias=False).fit_transform(X_train)\n",
    "model = AndreaLinearRegression()\n",
    "model.fit(X_train_poly, y_train)\n",
    "\n",
    "X_test_poly = PolynomialFeatures(degree=mydegree, \n",
    "                include_bias=False).fit_transform(\n",
    "                        X_test)\n",
    "y_pred = model.predict(X_test_poly)\n",
    "RMSE_cub = sqrt(mean_squared_error(y_pred, y_test))\n",
    "print(\"RMSE: \", RMSE_cub, \" seconds; With quadratic regression it was \",\n",
    "             RMSE_quadr)\n",
    "\n",
    "### plot\n",
    "interval_poly = PolynomialFeatures(degree=mydegree, \n",
    "                include_bias=False).fit_transform(interval)\n",
    "h_values = model.predict(interval_poly)\n",
    "\n",
    "ax.plot(interval,h_values, label=\"Cubic\")\n",
    "ax.legend()\n",
    "fig"
   ]
  },
  {
   "cell_type": "code",
   "execution_count": 21,
   "metadata": {},
   "outputs": [
    {
     "name": "stdout",
     "output_type": "stream",
     "text": [
      "RMSE:  3.5062243994987474  seconds; With quadratic regression it was  3.4349359394194794\n"
     ]
    }
   ],
   "source": [
    "mydegree = 3\n",
    "X_train_poly = PolynomialFeatures(degree=mydegree, \n",
    "                include_bias=False).fit_transform(X_train)\n",
    "model = AndreaLinearRegression()\n",
    "model.fit(X_train_poly, y_train)\n",
    "\n",
    "X_test_poly = PolynomialFeatures(degree=mydegree, \n",
    "                include_bias=False).fit_transform(\n",
    "                        X_test)\n",
    "y_pred = model.predict(X_test_poly)\n",
    "RMSE_cub = sqrt(mean_squared_error(y_pred, y_test))\n",
    "print(\"RMSE: \", RMSE_cub, \" seconds; With quadratic regression it was \",\n",
    "             RMSE_quadr)"
   ]
  },
  {
   "cell_type": "markdown",
   "metadata": {},
   "source": [
    "Let's increase a lot the degree of the polynomial"
   ]
  },
  {
   "cell_type": "code",
   "execution_count": 22,
   "metadata": {
    "scrolled": false
   },
   "outputs": [
    {
     "name": "stdout",
     "output_type": "stream",
     "text": [
      "RMSE:  3.7506914858168487\n"
     ]
    },
    {
     "data": {
      "image/png": "[encoded data removed]",
      "text/plain": [
       "<Figure size 432x288 with 1 Axes>"
      ]
     },
     "execution_count": 22,
     "metadata": {},
     "output_type": "execute_result"
    }
   ],
   "source": [
    "mydegree = 25\n",
    "X_train_poly = PolynomialFeatures(degree=mydegree, \n",
    "                include_bias=False).fit_transform(X_train)\n",
    "model = AndreaLinearRegression()\n",
    "model.fit(X_train_poly, y_train)\n",
    "\n",
    "X_test_poly = PolynomialFeatures(degree=mydegree, \n",
    "                include_bias=False).fit_transform(\n",
    "                        X_test)\n",
    "y_pred = model.predict(X_test_poly)\n",
    "RMSE_now = sqrt(mean_squared_error(y_pred, y_test))\n",
    "print(\"RMSE: \", RMSE_now)\n",
    "\n",
    "### plot\n",
    "interval_poly = PolynomialFeatures(degree=mydegree, \n",
    "                include_bias=False).fit_transform(interval)\n",
    "h_values = model.predict(interval_poly)\n",
    "\n",
    "\n",
    "ax.plot(interval,h_values, label=\"Degree \"+str(mydegree), color=\"gray\" )\n",
    "ax.legend()\n",
    "ax.set_ylim([0, 16] )\n",
    "fig"
   ]
  },
  {
   "cell_type": "markdown",
   "metadata": {},
   "source": [
    "This is a typical example of overfit.\n",
    "\n",
    "The model is so flexible that it can adapt **too** well to training data. \n"
   ]
  },
  {
   "cell_type": "markdown",
   "metadata": {},
   "source": [
    "\n",
    "**Generalization** means instead to \"step back\" from the observed data and not adapting too much"
   ]
  },
  {
   "cell_type": "markdown",
   "metadata": {},
   "source": [
    "# Pipelines\n",
    "\n",
    "We have repeated so far a lot of ugly code:"
   ]
  },
  {
   "cell_type": "code",
   "execution_count": 23,
   "metadata": {},
   "outputs": [],
   "source": [
    "X_train_poly = PolynomialFeatures(degree=3, \n",
    "                include_bias=False).fit_transform(X_train)\n",
    "model = AndreaLinearRegression()\n",
    "model.fit(X_train_poly, y_train)\n",
    "\n",
    "X_test_poly = PolynomialFeatures(degree=3, \n",
    "                include_bias=False).fit_transform(X_test)\n",
    "y_pred = model.predict(X_test_poly)"
   ]
  },
  {
   "cell_type": "markdown",
   "metadata": {},
   "source": [
    "We can write things in a more compact way, using pipelines"
   ]
  },
  {
   "cell_type": "code",
   "execution_count": 24,
   "metadata": {},
   "outputs": [],
   "source": [
    "def MyPolynomialRegression(degree=2, include_bias=False):\n",
    "    return make_pipeline(PolynomialFeatures(degree, include_bias), \n",
    "                         AndreaLinearRegression())\n"
   ]
  },
  {
   "cell_type": "markdown",
   "metadata": {},
   "source": [
    "Now `my_poly_regression` is an object which has a `fit` and a `predict` function.\n",
    "\n",
    "`fit` is equivalent to the previous lines"
   ]
  },
  {
   "cell_type": "code",
   "execution_count": 25,
   "metadata": {},
   "outputs": [],
   "source": [
    "model = MyPolynomialRegression(degree=3)\n",
    "model.fit(X_train, y_train) # Equivalent to lines 1-3\n",
    "y_pred = model.predict(X_test) # Equivalent to lines 6-8"
   ]
  },
  {
   "cell_type": "code",
   "execution_count": 26,
   "metadata": {},
   "outputs": [
    {
     "data": {
      "text/plain": [
       "3.5062243994987474"
      ]
     },
     "execution_count": 26,
     "metadata": {},
     "output_type": "execute_result"
    }
   ],
   "source": [
    "sqrt(mean_squared_error(y_test,y_pred))"
   ]
  },
  {
   "cell_type": "markdown",
   "metadata": {},
   "source": [
    "# Grid search"
   ]
  },
  {
   "cell_type": "markdown",
   "metadata": {},
   "source": [
    "We now train different regressions, each with a different degree, and evaluate each of them via cross-validation"
   ]
  },
  {
   "cell_type": "code",
   "execution_count": 27,
   "metadata": {
    "scrolled": true
   },
   "outputs": [
    {
     "data": {
      "text/plain": [
       "{'cv': KFold(n_splits=5, random_state=6, shuffle=True),\n",
       " 'error_score': 'raise-deprecating',\n",
       " 'estimator__memory': None,\n",
       " 'estimator__steps': [('polynomialfeatures',\n",
       "   PolynomialFeatures(degree=2, include_bias=True, interaction_only=False,\n",
       "                      order='C')),\n",
       "  ('andrealinearregression', AndreaLinearRegression(fit_intercept=True))],\n",
       " 'estimator__verbose': False,\n",
       " 'estimator__polynomialfeatures': PolynomialFeatures(degree=2, include_bias=True, interaction_only=False,\n",
       "                    order='C'),\n",
       " 'estimator__andrealinearregression': AndreaLinearRegression(fit_intercept=True),\n",
       " 'estimator__polynomialfeatures__degree': 2,\n",
       " 'estimator__polynomialfeatures__include_bias': True,\n",
       " 'estimator__polynomialfeatures__interaction_only': False,\n",
       " 'estimator__polynomialfeatures__order': 'C',\n",
       " 'estimator__andrealinearregression__fit_intercept': True,\n",
       " 'estimator': Pipeline(memory=None,\n",
       "          steps=[('polynomialfeatures',\n",
       "                  PolynomialFeatures(degree=2, include_bias=True,\n",
       "                                     interaction_only=False, order='C')),\n",
       "                 ('andrealinearregression',\n",
       "                  AndreaLinearRegression(fit_intercept=True))],\n",
       "          verbose=False),\n",
       " 'iid': 'warn',\n",
       " 'n_jobs': None,\n",
       " 'param_grid': {'polynomialfeatures__degree': array([ 1,  2,  3,  4,  5,  6,  7,  8,  9, 10, 11, 12, 13, 14, 15, 16, 17,\n",
       "         18, 19, 20, 21, 22, 23, 24, 25, 26, 27, 28, 29])},\n",
       " 'pre_dispatch': '2*n_jobs',\n",
       " 'refit': True,\n",
       " 'return_train_score': False,\n",
       " 'scoring': 'neg_mean_squared_error',\n",
       " 'verbose': 0}"
      ]
     },
     "execution_count": 27,
     "metadata": {},
     "output_type": "execute_result"
    }
   ],
   "source": [
    "parameters_to_test = {'polynomialfeatures__degree': np.arange(1,30)}\n",
    "k_fold = KFold(n_splits=5, shuffle=True, random_state=6)\n",
    "\n",
    "grid = GridSearchCV( MyPolynomialRegression(), parameters_to_test,\n",
    "                   cv = k_fold, scoring='neg_mean_squared_error')\n",
    "grid.get_params()"
   ]
  },
  {
   "cell_type": "code",
   "execution_count": 28,
   "metadata": {
    "scrolled": true
   },
   "outputs": [
    {
     "name": "stderr",
     "output_type": "stream",
     "text": [
      "/home/araldo/.conda/envs/my_env/lib/python3.6/site-packages/sklearn/model_selection/_search.py:813: DeprecationWarning: The default of the `iid` parameter will change from True to False in version 0.22 and will be removed in 0.24. This will change numeric results when test-set sizes are unequal.\n",
      "  DeprecationWarning)\n"
     ]
    },
    {
     "data": {
      "text/plain": [
       "GridSearchCV(cv=KFold(n_splits=5, random_state=6, shuffle=True),\n",
       "             error_score='raise-deprecating',\n",
       "             estimator=Pipeline(memory=None,\n",
       "                                steps=[('polynomialfeatures',\n",
       "                                        PolynomialFeatures(degree=2,\n",
       "                                                           include_bias=True,\n",
       "                                                           interaction_only=False,\n",
       "                                                           order='C')),\n",
       "                                       ('andrealinearregression',\n",
       "                                        AndreaLinearRegression(fit_intercept=True))],\n",
       "                                verbose=False),\n",
       "             iid='warn', n_jobs=None,\n",
       "             param_grid={'polynomialfeatures__degree': array([ 1,  2,  3,  4,  5,  6,  7,  8,  9, 10, 11, 12, 13, 14, 15, 16, 17,\n",
       "       18, 19, 20, 21, 22, 23, 24, 25, 26, 27, 28, 29])},\n",
       "             pre_dispatch='2*n_jobs', refit=True, return_train_score=False,\n",
       "             scoring='neg_mean_squared_error', verbose=0)"
      ]
     },
     "execution_count": 28,
     "metadata": {},
     "output_type": "execute_result"
    }
   ],
   "source": [
    "grid.fit(X_train, y_train)"
   ]
  },
  {
   "cell_type": "markdown",
   "metadata": {},
   "source": [
    "In the following we see:\n",
    "* For each split, the test error per each degree\n",
    "* For each degree, the score averaged among all the splits\n",
    "* For each degree, which position it is in the rank of the best ones"
   ]
  },
  {
   "cell_type": "code",
   "execution_count": 29,
   "metadata": {
    "scrolled": false
   },
   "outputs": [
    {
     "data": {
      "text/plain": [
       "{'mean_fit_time': array([0.00078211, 0.00120268, 0.00111666, 0.00062866, 0.00091014,\n",
       "        0.00070133, 0.00090013, 0.00063252, 0.00062885, 0.00063295,\n",
       "        0.00071998, 0.0006433 , 0.0006556 , 0.00080309, 0.00067434,\n",
       "        0.0008604 , 0.00075088, 0.00086665, 0.00075064, 0.00075188,\n",
       "        0.0008008 , 0.00079103, 0.0007874 , 0.00080237, 0.0008029 ,\n",
       "        0.00083075, 0.00083861, 0.00084872, 0.00086327]),\n",
       " 'std_fit_time': array([1.42904015e-04, 1.57509253e-04, 5.19880664e-05, 3.67438227e-05,\n",
       "        2.98427902e-04, 5.01363377e-05, 3.94862761e-04, 3.00796953e-05,\n",
       "        2.28467208e-05, 1.24420695e-05, 2.00779611e-04, 8.16826367e-06,\n",
       "        1.04158089e-05, 2.28580565e-04, 1.83421845e-05, 1.34859328e-04,\n",
       "        4.30020410e-05, 2.16228959e-04, 1.70222183e-05, 2.11215718e-05,\n",
       "        7.44121764e-05, 3.09450049e-05, 1.64156689e-05, 1.52219387e-05,\n",
       "        1.35396566e-05, 2.74007576e-05, 2.51033819e-05, 2.96581213e-05,\n",
       "        3.48663513e-05]),\n",
       " 'mean_score_time': array([0.00055704, 0.00067587, 0.00068564, 0.00037537, 0.00051398,\n",
       "        0.00041604, 0.00039058, 0.00037274, 0.0005476 , 0.00037799,\n",
       "        0.00044456, 0.00039549, 0.00040741, 0.00051351, 0.00041742,\n",
       "        0.00053849, 0.00044188, 0.00052719, 0.00045767, 0.00048265,\n",
       "        0.00052652, 0.00047693, 0.00047364, 0.00051017, 0.0005034 ,\n",
       "        0.00051007, 0.0005095 , 0.00051942, 0.0005826 ]),\n",
       " 'std_score_time': array([3.16621905e-04, 1.46679946e-05, 3.94826926e-05, 2.04688147e-05,\n",
       "        1.42847584e-04, 2.26369621e-05, 2.64618417e-05, 9.55889038e-06,\n",
       "        3.57861805e-04, 7.34948232e-06, 7.76157907e-05, 2.70885478e-05,\n",
       "        3.90253855e-05, 1.36925133e-04, 2.39191709e-05, 1.50517227e-04,\n",
       "        1.61932382e-05, 8.62390552e-05, 2.06358683e-05, 6.42886492e-05,\n",
       "        1.40672829e-04, 2.83814662e-05, 2.31450293e-06, 5.75260901e-05,\n",
       "        2.54099180e-05, 2.44397535e-05, 6.39744180e-07, 2.15158733e-06,\n",
       "        9.32453325e-05]),\n",
       " 'param_polynomialfeatures__degree': masked_array(data=[1, 2, 3, 4, 5, 6, 7, 8, 9, 10, 11, 12, 13, 14, 15, 16,\n",
       "                    17, 18, 19, 20, 21, 22, 23, 24, 25, 26, 27, 28, 29],\n",
       "              mask=[False, False, False, False, False, False, False, False,\n",
       "                    False, False, False, False, False, False, False, False,\n",
       "                    False, False, False, False, False, False, False, False,\n",
       "                    False, False, False, False, False],\n",
       "        fill_value='?',\n",
       "             dtype=object),\n",
       " 'params': [{'polynomialfeatures__degree': 1},\n",
       "  {'polynomialfeatures__degree': 2},\n",
       "  {'polynomialfeatures__degree': 3},\n",
       "  {'polynomialfeatures__degree': 4},\n",
       "  {'polynomialfeatures__degree': 5},\n",
       "  {'polynomialfeatures__degree': 6},\n",
       "  {'polynomialfeatures__degree': 7},\n",
       "  {'polynomialfeatures__degree': 8},\n",
       "  {'polynomialfeatures__degree': 9},\n",
       "  {'polynomialfeatures__degree': 10},\n",
       "  {'polynomialfeatures__degree': 11},\n",
       "  {'polynomialfeatures__degree': 12},\n",
       "  {'polynomialfeatures__degree': 13},\n",
       "  {'polynomialfeatures__degree': 14},\n",
       "  {'polynomialfeatures__degree': 15},\n",
       "  {'polynomialfeatures__degree': 16},\n",
       "  {'polynomialfeatures__degree': 17},\n",
       "  {'polynomialfeatures__degree': 18},\n",
       "  {'polynomialfeatures__degree': 19},\n",
       "  {'polynomialfeatures__degree': 20},\n",
       "  {'polynomialfeatures__degree': 21},\n",
       "  {'polynomialfeatures__degree': 22},\n",
       "  {'polynomialfeatures__degree': 23},\n",
       "  {'polynomialfeatures__degree': 24},\n",
       "  {'polynomialfeatures__degree': 25},\n",
       "  {'polynomialfeatures__degree': 26},\n",
       "  {'polynomialfeatures__degree': 27},\n",
       "  {'polynomialfeatures__degree': 28},\n",
       "  {'polynomialfeatures__degree': 29}],\n",
       " 'split0_test_score': array([   -6.55891136,    -6.03395589,    -6.06172387,    -6.83715488,\n",
       "           -5.95357871,    -5.74227176,    -6.39979621,    -7.59836558,\n",
       "           -9.59337652,   -12.7218073 ,   -17.42318394,   -24.24398872,\n",
       "          -33.84838974,   -47.02177275,   -64.66981377,   -87.81868334,\n",
       "         -117.60994051,  -155.30103033,  -202.25249727,  -259.97966068,\n",
       "         -330.1518436 ,  -414.56356143,  -515.57635273,  -635.68350458,\n",
       "         -778.18964987,  -947.38635349, -1148.97871976, -1390.35467372,\n",
       "        -1682.00574232]),\n",
       " 'split1_test_score': array([-1.88999414, -1.61694611, -1.58881961, -1.5001704 , -1.48251717,\n",
       "        -1.073963  , -1.03781089, -1.01353535, -1.00743805, -1.02529749,\n",
       "        -1.07546876, -1.16959142, -1.32036058, -1.53618366, -1.81346492,\n",
       "        -2.13187219, -2.45777281, -2.7546314 , -2.99431515, -3.16181433,\n",
       "        -3.25509783, -3.28093806, -3.25051101, -3.17622164, -3.07030581,\n",
       "        -2.94358045, -2.80574131, -2.66629934, -2.53251582]),\n",
       " 'split2_test_score': array([ -4.79988541,  -5.61096374,  -6.38437097,  -9.22394291,\n",
       "         -8.42412281,  -9.32652183,  -9.26377371,  -9.18630649,\n",
       "         -9.07461261,  -8.95319977,  -8.83794988,  -8.74580366,\n",
       "         -8.69374685,  -8.69338939,  -8.75000126,  -8.86247043,\n",
       "         -9.0246848 ,  -9.22766216,  -9.46159865,  -9.71723992,\n",
       "         -9.98693086, -10.26501752, -10.54738501, -10.83112075,\n",
       "        -11.11547875, -11.40044664, -11.68580986, -11.97312909,\n",
       "        -12.2635311 ]),\n",
       " 'split3_test_score': array([-1.50228813, -0.89042223, -0.94713103, -0.80998062, -0.68885391,\n",
       "        -0.44271332, -0.43671288, -0.43539328, -0.43810319, -0.44591407,\n",
       "        -0.45687653, -0.46927492, -0.48123202, -0.49109932, -0.49770696,\n",
       "        -0.50047025, -0.49931848, -0.4945726 , -0.48676081, -0.47650096,\n",
       "        -0.46446637, -0.45118801, -0.43723126, -0.42301463, -0.40895337,\n",
       "        -0.39528366, -0.38240644, -0.37048928, -0.35972603]),\n",
       " 'split4_test_score': array([-4.8088395 , -3.77599946, -4.38378299, -4.19917797, -7.25567164,\n",
       "        -3.85461328, -3.73854201, -3.91937154, -4.17613634, -4.39203229,\n",
       "        -4.5317687 , -4.59489615, -4.59612287, -4.55396367, -4.48534008,\n",
       "        -4.40364542, -4.31837043, -4.23569921, -4.15921126, -4.09073387,\n",
       "        -4.03083547, -3.9791695 , -3.93546746, -3.89887064, -3.86871935,\n",
       "        -3.84446661, -3.82543464, -3.81126677, -3.80164697]),\n",
       " 'mean_test_score': array([  -3.93151303,   -3.60064458,   -3.87017232,   -4.49249644,\n",
       "          -4.69576754,   -4.04552293,   -4.14679441,   -4.4228042 ,\n",
       "          -4.88558796,   -5.59301907,   -6.63906686,   -8.14859092,\n",
       "         -10.27524571,  -13.19801278,  -17.11816377,  -22.25791891,\n",
       "         -28.86025736,  -37.19178862,  -47.54290973,  -60.24053668,\n",
       "         -75.64818707,  -94.15886708, -116.29089214, -142.59175374,\n",
       "        -173.78683121, -210.81720997, -254.93291041, -307.75237882,\n",
       "        -371.57241348]),\n",
       " 'std_test_score': array([  1.95293517,   2.07286841,   2.24184108,   3.14921286,\n",
       "          3.07410587,   3.19862115,   3.27815536,   3.46867317,\n",
       "          3.90276928,   4.79954801,   6.41221308,   8.98978878,\n",
       "         12.79066955,  18.1135103 ,  25.31234651,  34.79964946,\n",
       "         47.04245562,  62.55963819,  81.91403888, 105.73237891,\n",
       "        134.70434277, 169.57076996, 211.30650551, 260.9408662 ,\n",
       "        319.83845668, 389.77203825, 473.09891218, 572.87192763,\n",
       "        693.42726957]),\n",
       " 'rank_test_score': array([ 3,  1,  2,  7,  8,  4,  5,  6,  9, 10, 11, 12, 13, 14, 15, 16, 17,\n",
       "        18, 19, 20, 21, 22, 23, 24, 25, 26, 27, 28, 29], dtype=int32)}"
      ]
     },
     "execution_count": 29,
     "metadata": {},
     "output_type": "execute_result"
    }
   ],
   "source": [
    "grid.cv_results_"
   ]
  },
  {
   "cell_type": "markdown",
   "metadata": {},
   "source": [
    "The following degree is the one with the highest score"
   ]
  },
  {
   "cell_type": "code",
   "execution_count": 30,
   "metadata": {
    "scrolled": true
   },
   "outputs": [
    {
     "data": {
      "text/plain": [
       "{'polynomialfeatures__degree': 2}"
      ]
     },
     "execution_count": 30,
     "metadata": {},
     "output_type": "execute_result"
    }
   ],
   "source": [
    "grid.best_params_"
   ]
  },
  {
   "cell_type": "markdown",
   "metadata": {},
   "source": [
    "Taking the regression with this degree, the cross validation score is:"
   ]
  },
  {
   "cell_type": "code",
   "execution_count": 31,
   "metadata": {
    "scrolled": true
   },
   "outputs": [
    {
     "data": {
      "text/plain": [
       "-3.6006445808837317"
      ]
     },
     "execution_count": 31,
     "metadata": {},
     "output_type": "execute_result"
    }
   ],
   "source": [
    "grid.best_score_"
   ]
  },
  {
   "cell_type": "markdown",
   "metadata": {},
   "source": [
    "The cross-validation root mean square error (RMSE):"
   ]
  },
  {
   "cell_type": "code",
   "execution_count": 32,
   "metadata": {},
   "outputs": [
    {
     "data": {
      "text/plain": [
       "1.8975364504756507"
      ]
     },
     "execution_count": 32,
     "metadata": {},
     "output_type": "execute_result"
    }
   ],
   "source": [
    "sqrt(-grid.best_score_)"
   ]
  },
  {
   "cell_type": "markdown",
   "metadata": {},
   "source": [
    "The regression model is:"
   ]
  },
  {
   "cell_type": "code",
   "execution_count": 33,
   "metadata": {},
   "outputs": [],
   "source": [
    "model = grid.best_estimator_"
   ]
  },
  {
   "cell_type": "markdown",
   "metadata": {},
   "source": [
    "We can evaluate it in the test set."
   ]
  },
  {
   "cell_type": "code",
   "execution_count": 34,
   "metadata": {},
   "outputs": [
    {
     "data": {
      "text/plain": [
       "3.4349359394194794"
      ]
     },
     "execution_count": 34,
     "metadata": {},
     "output_type": "execute_result"
    }
   ],
   "source": [
    "model.fit(X_train, y_train)\n",
    "y_pred = model.predict(X_test)\n",
    "sqrt(mean_squared_error(y_pred, y_test) )"
   ]
  }
 ],
 "metadata": {
  "kernelspec": {
   "display_name": "Python 3",
   "language": "python",
   "name": "python3"
  },
  "language_info": {
   "codemirror_mode": {
    "name": "ipython",
    "version": 3
   },
   "file_extension": ".py",
   "mimetype": "text/x-python",
   "name": "python",
   "nbconvert_exporter": "python",
   "pygments_lexer": "ipython3",
   "version": "3.6.8"
  }
 },
 "nbformat": 4,
 "nbformat_minor": 4
}
