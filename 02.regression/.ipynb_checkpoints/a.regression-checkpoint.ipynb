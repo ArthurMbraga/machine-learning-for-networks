{
 "cells": [
  {
   "cell_type": "markdown",
   "metadata": {
    "colab_type": "text",
    "id": "Y_R5L20uZad9"
   },
   "source": [
    "[![Open In Colab](https://colab.research.google.com/assets/colab-badge.svg)](https://colab.research.google.com/github/andreaaraldo/machine-learning-for-networks/blob/master/02.regression/a.regression.ipynb)"
   ]
  },
  {
   "cell_type": "code",
   "execution_count": 1,
   "metadata": {
    "colab": {
     "base_uri": "https://localhost:8080/",
     "height": 441
    },
    "colab_type": "code",
    "id": "TRNYr5HIZadw",
    "outputId": "641162f8-6936-49a3-d48e-1f4be0208d05"
   },
   "outputs": [
    {
     "name": "stdout",
     "output_type": "stream",
     "text": [
      "--2020-03-03 13:48:11--  https://raw.githubusercontent.com/andreaaraldo/machine-learning-for-networks/master/course_library/andrea_models.py\n",
      "Resolving raw.githubusercontent.com (raw.githubusercontent.com)... 151.101.0.133, 151.101.64.133, 151.101.128.133, ...\n",
      "Connecting to raw.githubusercontent.com (raw.githubusercontent.com)|151.101.0.133|:443... connected.\n",
      "HTTP request sent, awaiting response... 200 OK\n",
      "Length: 2150 (2.1K) [text/plain]\n",
      "Saving to: ‘andrea_models.py.4’\n",
      "\n",
      "\r",
      "andrea_models.py.4    0%[                    ]       0  --.-KB/s               \r",
      "andrea_models.py.4  100%[===================>]   2.10K  --.-KB/s    in 0s      \n",
      "\n",
      "2020-03-03 13:48:11 (51.0 MB/s) - ‘andrea_models.py.4’ saved [2150/2150]\n",
      "\n",
      "--2020-03-03 13:48:13--  https://raw.githubusercontent.com/andreaaraldo/machine-learning-for-networks/master/course_library/feature_engineering.py\n",
      "Resolving raw.githubusercontent.com (raw.githubusercontent.com)... 151.101.0.133, 151.101.64.133, 151.101.128.133, ...\n",
      "Connecting to raw.githubusercontent.com (raw.githubusercontent.com)|151.101.0.133|:443... connected.\n",
      "HTTP request sent, awaiting response... 200 OK\n",
      "Length: 2206 (2.2K) [text/plain]\n",
      "Saving to: ‘feature_engineering.py.1’\n",
      "\n",
      "feature_engineering 100%[===================>]   2.15K  --.-KB/s    in 0s      \n",
      "\n",
      "2020-03-03 13:48:13 (25.2 MB/s) - ‘feature_engineering.py.1’ saved [2206/2206]\n",
      "\n"
     ]
    }
   ],
   "source": [
    "import pandas as pd # For dataframes (tables)\n",
    "import numpy as np # For arange\n",
    "import matplotlib.pyplot as plt # For plots\n",
    "%matplotlib inline\n",
    "from sklearn.model_selection import train_test_split\n",
    "from sklearn.metrics import mean_squared_error\n",
    "import math # for sqrt\n",
    "from sklearn.model_selection import cross_val_score, KFold\n",
    "import pickle # to serialize/deserialize objects\n",
    "\n",
    "from statistics import mean\n",
    "\n",
    "\n",
    "## Download the code I prepared for you\n",
    "!wget https://raw.githubusercontent.com/andreaaraldo/machine-learning-for-networks/master/course_library/andrea_models.py\n",
    "!wget https://raw.githubusercontent.com/andreaaraldo/machine-learning-for-networks/master/course_library/feature_engineering.py\n",
    "\n",
    "from andrea_models import AndreaLinearRegression # In the course library"
   ]
  },
  {
   "cell_type": "code",
   "execution_count": 0,
   "metadata": {
    "colab": {},
    "colab_type": "code",
    "id": "JoPc-IhQn4nj"
   },
   "outputs": [],
   "source": [
    "savefigures=False"
   ]
  },
  {
   "cell_type": "code",
   "execution_count": 3,
   "metadata": {
    "colab": {
     "base_uri": "https://localhost:8080/",
     "height": 239
    },
    "colab_type": "code",
    "id": "ur2YR7XIZaeD",
    "outputId": "ac056b50-3020-4b40-d720-c888c75a3f7d"
   },
   "outputs": [
    {
     "name": "stdout",
     "output_type": "stream",
     "text": [
      "--2020-03-03 13:48:15--  https://raw.githubusercontent.com/andreaaraldo/machine-learning-for-networks/master/processed_datasets/requet/df.A_2.csv\n",
      "Resolving raw.githubusercontent.com (raw.githubusercontent.com)... 151.101.0.133, 151.101.64.133, 151.101.128.133, ...\n",
      "Connecting to raw.githubusercontent.com (raw.githubusercontent.com)|151.101.0.133|:443... connected.\n",
      "HTTP request sent, awaiting response... 200 OK\n",
      "Length: 315832 (308K) [text/plain]\n",
      "Saving to: ‘df.A_2.csv.1’\n",
      "\n",
      "\r",
      "df.A_2.csv.1          0%[                    ]       0  --.-KB/s               \r",
      "df.A_2.csv.1        100%[===================>] 308.43K  --.-KB/s    in 0.04s   \n",
      "\n",
      "2020-03-03 13:48:15 (8.43 MB/s) - ‘df.A_2.csv.1’ saved [315832/315832]\n",
      "\n"
     ]
    }
   ],
   "source": [
    "dataset_to_use = 'A'\n",
    "mydatasets_folder = \"https://raw.githubusercontent.com/andreaaraldo/machine-learning-for-networks/master/processed_datasets/requet/\"\n",
    "filename = \"df.\"+ dataset_to_use+\"_2.csv\"\n",
    "complete_name = mydatasets_folder+filename\n",
    "!wget $complete_name"
   ]
  },
  {
   "cell_type": "code",
   "execution_count": 4,
   "metadata": {
    "colab": {
     "base_uri": "https://localhost:8080/",
     "height": 90
    },
    "colab_type": "code",
    "id": "AF4ru9aJcBeW",
    "outputId": "8196e717-23fd-480c-aae4-f24ff02625f5"
   },
   "outputs": [
    {
     "name": "stdout",
     "output_type": "stream",
     "text": [
      "andrea_models.py    andrea_models.py.4\tfeature_engineering.py\t  sample_data\n",
      "andrea_models.py.1  cols_3.pkl\t\tfeature_engineering.py.1\n",
      "andrea_models.py.2  df.A_2.csv\t\tgdrive\n",
      "andrea_models.py.3  df.A_2.csv.1\t__pycache__\n"
     ]
    }
   ],
   "source": [
    "!ls"
   ]
  },
  {
   "cell_type": "code",
   "execution_count": 0,
   "metadata": {
    "colab": {},
    "colab_type": "code",
    "id": "QUK4YMixb70D"
   },
   "outputs": [],
   "source": [
    "df = pd.read_csv(filename)"
   ]
  },
  {
   "cell_type": "code",
   "execution_count": 6,
   "metadata": {
    "colab": {
     "base_uri": "https://localhost:8080/",
     "height": 256
    },
    "colab_type": "code",
    "id": "HDETEnsOZaeM",
    "outputId": "608be9f6-737d-456b-e551-503dd8b8167d",
    "scrolled": true
   },
   "outputs": [
    {
     "data": {
      "text/html": [
       "<div>\n",
       "<style scoped>\n",
       "    .dataframe tbody tr th:only-of-type {\n",
       "        vertical-align: middle;\n",
       "    }\n",
       "\n",
       "    .dataframe tbody tr th {\n",
       "        vertical-align: top;\n",
       "    }\n",
       "\n",
       "    .dataframe thead th {\n",
       "        text-align: right;\n",
       "    }\n",
       "</style>\n",
       "<table border=\"1\" class=\"dataframe\">\n",
       "  <thead>\n",
       "    <tr style=\"text-align: right;\">\n",
       "      <th></th>\n",
       "      <th>RelativeTime</th>\n",
       "      <th>PacketsSent</th>\n",
       "      <th>PacketsReceived</th>\n",
       "      <th>BytesSent</th>\n",
       "      <th>BytesReceived</th>\n",
       "      <th>IPSrc0</th>\n",
       "      <th>IPDst0</th>\n",
       "      <th>Protocol0</th>\n",
       "      <th>PacketsSent0</th>\n",
       "      <th>PacketsReceived0</th>\n",
       "      <th>BytesSent0</th>\n",
       "      <th>BytesReceived0</th>\n",
       "      <th>IPSrc1</th>\n",
       "      <th>IPDst1</th>\n",
       "      <th>Protocol1</th>\n",
       "      <th>PacketsSent1</th>\n",
       "      <th>PacketsReceived1</th>\n",
       "      <th>BytesSent1</th>\n",
       "      <th>BytesReceived1</th>\n",
       "      <th>IPSrc2</th>\n",
       "      <th>IPDst2</th>\n",
       "      <th>Protocol2</th>\n",
       "      <th>PacketsSent2</th>\n",
       "      <th>PacketsReceived2</th>\n",
       "      <th>BytesSent2</th>\n",
       "      <th>BytesReceived2</th>\n",
       "      <th>IPSrc3</th>\n",
       "      <th>IPDst3</th>\n",
       "      <th>Protocol3</th>\n",
       "      <th>PacketsSent3</th>\n",
       "      <th>PacketsReceived3</th>\n",
       "      <th>BytesSent3</th>\n",
       "      <th>BytesReceived3</th>\n",
       "      <th>IPSrc4</th>\n",
       "      <th>IPDst4</th>\n",
       "      <th>Protocol4</th>\n",
       "      <th>PacketsSent4</th>\n",
       "      <th>PacketsReceived4</th>\n",
       "      <th>BytesSent4</th>\n",
       "      <th>BytesReceived4</th>\n",
       "      <th>...</th>\n",
       "      <th>IPDst23</th>\n",
       "      <th>Protocol23</th>\n",
       "      <th>PacketsSent23</th>\n",
       "      <th>PacketsReceived23</th>\n",
       "      <th>BytesSent23</th>\n",
       "      <th>BytesReceived23</th>\n",
       "      <th>IPSrc24</th>\n",
       "      <th>IPDst24</th>\n",
       "      <th>Protocol24</th>\n",
       "      <th>PacketsSent24</th>\n",
       "      <th>PacketsReceived24</th>\n",
       "      <th>BytesSent24</th>\n",
       "      <th>BytesReceived24</th>\n",
       "      <th>IPSrc25</th>\n",
       "      <th>IPDst25</th>\n",
       "      <th>Protocol25</th>\n",
       "      <th>PacketsSent25</th>\n",
       "      <th>PacketsReceived25</th>\n",
       "      <th>BytesSent25</th>\n",
       "      <th>BytesReceived25</th>\n",
       "      <th>Buffering</th>\n",
       "      <th>Paused</th>\n",
       "      <th>Playing</th>\n",
       "      <th>CollectData</th>\n",
       "      <th>EpochTime</th>\n",
       "      <th>StartTime</th>\n",
       "      <th>PlaybackProgress</th>\n",
       "      <th>Length</th>\n",
       "      <th>BufferHealth</th>\n",
       "      <th>BufferProgress</th>\n",
       "      <th>BufferValid</th>\n",
       "      <th>KBytesReceived</th>\n",
       "      <th>label</th>\n",
       "      <th>label_num</th>\n",
       "      <th>KBytesReceived_log</th>\n",
       "      <th>PacketsSent_log</th>\n",
       "      <th>PacketsReceived_log</th>\n",
       "      <th>BytesSent_log</th>\n",
       "      <th>BytesReceived_log</th>\n",
       "      <th>BufferProgress_log</th>\n",
       "    </tr>\n",
       "  </thead>\n",
       "  <tbody>\n",
       "    <tr>\n",
       "      <th>0</th>\n",
       "      <td>6.1</td>\n",
       "      <td>29</td>\n",
       "      <td>57</td>\n",
       "      <td>2372</td>\n",
       "      <td>79344</td>\n",
       "      <td>192.168.1.190</td>\n",
       "      <td>173.194.55.23</td>\n",
       "      <td>QUIC</td>\n",
       "      <td>29</td>\n",
       "      <td>57</td>\n",
       "      <td>2372</td>\n",
       "      <td>79344</td>\n",
       "      <td>192.168.1.190</td>\n",
       "      <td>172.217.11.3</td>\n",
       "      <td>0</td>\n",
       "      <td>0</td>\n",
       "      <td>0</td>\n",
       "      <td>0</td>\n",
       "      <td>0</td>\n",
       "      <td>192.168.1.190</td>\n",
       "      <td>172.217.6.225</td>\n",
       "      <td>0</td>\n",
       "      <td>0</td>\n",
       "      <td>0</td>\n",
       "      <td>0</td>\n",
       "      <td>0</td>\n",
       "      <td>192.168.1.190</td>\n",
       "      <td>172.217.11.35</td>\n",
       "      <td>0</td>\n",
       "      <td>0</td>\n",
       "      <td>0</td>\n",
       "      <td>0</td>\n",
       "      <td>0</td>\n",
       "      <td>192.168.1.190</td>\n",
       "      <td>172.217.12.174</td>\n",
       "      <td>0</td>\n",
       "      <td>0</td>\n",
       "      <td>0</td>\n",
       "      <td>0</td>\n",
       "      <td>0</td>\n",
       "      <td>...</td>\n",
       "      <td>0</td>\n",
       "      <td>0</td>\n",
       "      <td>0</td>\n",
       "      <td>0</td>\n",
       "      <td>0</td>\n",
       "      <td>0</td>\n",
       "      <td>0</td>\n",
       "      <td>0</td>\n",
       "      <td>0</td>\n",
       "      <td>0</td>\n",
       "      <td>0</td>\n",
       "      <td>0</td>\n",
       "      <td>0</td>\n",
       "      <td>0</td>\n",
       "      <td>0.0.0.0</td>\n",
       "      <td>0</td>\n",
       "      <td>0</td>\n",
       "      <td>0</td>\n",
       "      <td>0</td>\n",
       "      <td>0</td>\n",
       "      <td>0</td>\n",
       "      <td>0</td>\n",
       "      <td>1</td>\n",
       "      <td>0</td>\n",
       "      <td>1520324868397</td>\n",
       "      <td>1520324862555</td>\n",
       "      <td>0.008</td>\n",
       "      <td>861.841</td>\n",
       "      <td>4.454</td>\n",
       "      <td>0.005177</td>\n",
       "      <td>True</td>\n",
       "      <td>79.344</td>\n",
       "      <td>q480p</td>\n",
       "      <td>480</td>\n",
       "      <td>4.373793</td>\n",
       "      <td>3.401197</td>\n",
       "      <td>4.060443</td>\n",
       "      <td>7.771910</td>\n",
       "      <td>11.281561</td>\n",
       "      <td>0.005164</td>\n",
       "    </tr>\n",
       "    <tr>\n",
       "      <th>1</th>\n",
       "      <td>5.8</td>\n",
       "      <td>7</td>\n",
       "      <td>39</td>\n",
       "      <td>625</td>\n",
       "      <td>52973</td>\n",
       "      <td>192.168.1.190</td>\n",
       "      <td>74.125.155.199</td>\n",
       "      <td>QUIC</td>\n",
       "      <td>4</td>\n",
       "      <td>36</td>\n",
       "      <td>384</td>\n",
       "      <td>50112</td>\n",
       "      <td>192.168.1.190</td>\n",
       "      <td>172.217.11.33</td>\n",
       "      <td>QUIC</td>\n",
       "      <td>2</td>\n",
       "      <td>2</td>\n",
       "      <td>159</td>\n",
       "      <td>1469</td>\n",
       "      <td>192.168.1.190</td>\n",
       "      <td>172.217.11.35</td>\n",
       "      <td>0</td>\n",
       "      <td>0</td>\n",
       "      <td>0</td>\n",
       "      <td>0</td>\n",
       "      <td>0</td>\n",
       "      <td>192.168.1.190</td>\n",
       "      <td>172.217.11.14</td>\n",
       "      <td>0</td>\n",
       "      <td>0</td>\n",
       "      <td>0</td>\n",
       "      <td>0</td>\n",
       "      <td>0</td>\n",
       "      <td>192.168.1.190</td>\n",
       "      <td>172.217.12.206</td>\n",
       "      <td>0</td>\n",
       "      <td>0</td>\n",
       "      <td>0</td>\n",
       "      <td>0</td>\n",
       "      <td>0</td>\n",
       "      <td>...</td>\n",
       "      <td>0</td>\n",
       "      <td>0</td>\n",
       "      <td>0</td>\n",
       "      <td>0</td>\n",
       "      <td>0</td>\n",
       "      <td>0</td>\n",
       "      <td>0</td>\n",
       "      <td>0</td>\n",
       "      <td>0</td>\n",
       "      <td>0</td>\n",
       "      <td>0</td>\n",
       "      <td>0</td>\n",
       "      <td>0</td>\n",
       "      <td>0</td>\n",
       "      <td>0.0.0.0</td>\n",
       "      <td>0</td>\n",
       "      <td>0</td>\n",
       "      <td>0</td>\n",
       "      <td>0</td>\n",
       "      <td>0</td>\n",
       "      <td>0</td>\n",
       "      <td>0</td>\n",
       "      <td>1</td>\n",
       "      <td>0</td>\n",
       "      <td>1521147321127</td>\n",
       "      <td>1521147316421</td>\n",
       "      <td>0.007</td>\n",
       "      <td>817.841</td>\n",
       "      <td>3.955</td>\n",
       "      <td>0.004844</td>\n",
       "      <td>True</td>\n",
       "      <td>52.973</td>\n",
       "      <td>q360p</td>\n",
       "      <td>360</td>\n",
       "      <td>3.969782</td>\n",
       "      <td>2.079442</td>\n",
       "      <td>3.688879</td>\n",
       "      <td>6.439350</td>\n",
       "      <td>10.877557</td>\n",
       "      <td>0.004833</td>\n",
       "    </tr>\n",
       "    <tr>\n",
       "      <th>2</th>\n",
       "      <td>7.3</td>\n",
       "      <td>16</td>\n",
       "      <td>23</td>\n",
       "      <td>1056</td>\n",
       "      <td>34178</td>\n",
       "      <td>192.168.1.190</td>\n",
       "      <td>74.125.155.201</td>\n",
       "      <td>TCP</td>\n",
       "      <td>16</td>\n",
       "      <td>23</td>\n",
       "      <td>1056</td>\n",
       "      <td>34178</td>\n",
       "      <td>192.168.1.190</td>\n",
       "      <td>172.217.11.1</td>\n",
       "      <td>0</td>\n",
       "      <td>0</td>\n",
       "      <td>0</td>\n",
       "      <td>0</td>\n",
       "      <td>0</td>\n",
       "      <td>192.168.1.190</td>\n",
       "      <td>172.217.11.3</td>\n",
       "      <td>0</td>\n",
       "      <td>0</td>\n",
       "      <td>0</td>\n",
       "      <td>0</td>\n",
       "      <td>0</td>\n",
       "      <td>192.168.1.190</td>\n",
       "      <td>216.58.219.206</td>\n",
       "      <td>0</td>\n",
       "      <td>0</td>\n",
       "      <td>0</td>\n",
       "      <td>0</td>\n",
       "      <td>0</td>\n",
       "      <td>192.168.1.190</td>\n",
       "      <td>216.58.217.99</td>\n",
       "      <td>0</td>\n",
       "      <td>0</td>\n",
       "      <td>0</td>\n",
       "      <td>0</td>\n",
       "      <td>0</td>\n",
       "      <td>...</td>\n",
       "      <td>0</td>\n",
       "      <td>0</td>\n",
       "      <td>0</td>\n",
       "      <td>0</td>\n",
       "      <td>0</td>\n",
       "      <td>0</td>\n",
       "      <td>192.168.1.190</td>\n",
       "      <td>0</td>\n",
       "      <td>0</td>\n",
       "      <td>0</td>\n",
       "      <td>0</td>\n",
       "      <td>0</td>\n",
       "      <td>0</td>\n",
       "      <td>192.168.1.190</td>\n",
       "      <td>0.0.0.0</td>\n",
       "      <td>0</td>\n",
       "      <td>0</td>\n",
       "      <td>0</td>\n",
       "      <td>0</td>\n",
       "      <td>0</td>\n",
       "      <td>0</td>\n",
       "      <td>0</td>\n",
       "      <td>1</td>\n",
       "      <td>0</td>\n",
       "      <td>1516218797937</td>\n",
       "      <td>1516218790859</td>\n",
       "      <td>0.004</td>\n",
       "      <td>623.401</td>\n",
       "      <td>3.417</td>\n",
       "      <td>0.005488</td>\n",
       "      <td>True</td>\n",
       "      <td>34.178</td>\n",
       "      <td>q720p</td>\n",
       "      <td>720</td>\n",
       "      <td>3.531582</td>\n",
       "      <td>2.833213</td>\n",
       "      <td>3.178054</td>\n",
       "      <td>6.963190</td>\n",
       "      <td>10.439367</td>\n",
       "      <td>0.005473</td>\n",
       "    </tr>\n",
       "    <tr>\n",
       "      <th>3</th>\n",
       "      <td>39.2</td>\n",
       "      <td>14</td>\n",
       "      <td>29</td>\n",
       "      <td>3377</td>\n",
       "      <td>36821</td>\n",
       "      <td>192.168.1.190</td>\n",
       "      <td>172.217.135.40</td>\n",
       "      <td>0</td>\n",
       "      <td>0</td>\n",
       "      <td>0</td>\n",
       "      <td>0</td>\n",
       "      <td>0</td>\n",
       "      <td>192.168.1.190</td>\n",
       "      <td>173.194.184.73</td>\n",
       "      <td>QUIC</td>\n",
       "      <td>11</td>\n",
       "      <td>28</td>\n",
       "      <td>2257</td>\n",
       "      <td>36767</td>\n",
       "      <td>192.168.1.190</td>\n",
       "      <td>172.217.11.35</td>\n",
       "      <td>0</td>\n",
       "      <td>0</td>\n",
       "      <td>0</td>\n",
       "      <td>0</td>\n",
       "      <td>0</td>\n",
       "      <td>192.168.1.190</td>\n",
       "      <td>172.217.12.206</td>\n",
       "      <td>QUIC</td>\n",
       "      <td>2</td>\n",
       "      <td>0</td>\n",
       "      <td>1054</td>\n",
       "      <td>0</td>\n",
       "      <td>192.168.1.190</td>\n",
       "      <td>172.217.11.1</td>\n",
       "      <td>0</td>\n",
       "      <td>0</td>\n",
       "      <td>0</td>\n",
       "      <td>0</td>\n",
       "      <td>0</td>\n",
       "      <td>...</td>\n",
       "      <td>0</td>\n",
       "      <td>0</td>\n",
       "      <td>0</td>\n",
       "      <td>0</td>\n",
       "      <td>0</td>\n",
       "      <td>0</td>\n",
       "      <td>0</td>\n",
       "      <td>0</td>\n",
       "      <td>0</td>\n",
       "      <td>0</td>\n",
       "      <td>0</td>\n",
       "      <td>0</td>\n",
       "      <td>0</td>\n",
       "      <td>0</td>\n",
       "      <td>0.0.0.0</td>\n",
       "      <td>0</td>\n",
       "      <td>0</td>\n",
       "      <td>0</td>\n",
       "      <td>0</td>\n",
       "      <td>0</td>\n",
       "      <td>0</td>\n",
       "      <td>0</td>\n",
       "      <td>1</td>\n",
       "      <td>0</td>\n",
       "      <td>1521736968995</td>\n",
       "      <td>1521736937485</td>\n",
       "      <td>0.004</td>\n",
       "      <td>544.601</td>\n",
       "      <td>5.067</td>\n",
       "      <td>0.009311</td>\n",
       "      <td>True</td>\n",
       "      <td>36.821</td>\n",
       "      <td>q144p</td>\n",
       "      <td>144</td>\n",
       "      <td>3.606068</td>\n",
       "      <td>2.708050</td>\n",
       "      <td>3.401197</td>\n",
       "      <td>8.125039</td>\n",
       "      <td>10.513851</td>\n",
       "      <td>0.009268</td>\n",
       "    </tr>\n",
       "    <tr>\n",
       "      <th>4</th>\n",
       "      <td>4.6</td>\n",
       "      <td>9</td>\n",
       "      <td>77</td>\n",
       "      <td>900</td>\n",
       "      <td>104389</td>\n",
       "      <td>192.168.1.190</td>\n",
       "      <td>173.194.184.103</td>\n",
       "      <td>QUIC</td>\n",
       "      <td>9</td>\n",
       "      <td>77</td>\n",
       "      <td>900</td>\n",
       "      <td>104389</td>\n",
       "      <td>192.168.1.190</td>\n",
       "      <td>172.217.11.3</td>\n",
       "      <td>0</td>\n",
       "      <td>0</td>\n",
       "      <td>0</td>\n",
       "      <td>0</td>\n",
       "      <td>0</td>\n",
       "      <td>192.168.1.190</td>\n",
       "      <td>172.217.11.33</td>\n",
       "      <td>0</td>\n",
       "      <td>0</td>\n",
       "      <td>0</td>\n",
       "      <td>0</td>\n",
       "      <td>0</td>\n",
       "      <td>192.168.1.190</td>\n",
       "      <td>172.217.11.35</td>\n",
       "      <td>0</td>\n",
       "      <td>0</td>\n",
       "      <td>0</td>\n",
       "      <td>0</td>\n",
       "      <td>0</td>\n",
       "      <td>192.168.1.190</td>\n",
       "      <td>172.217.7.14</td>\n",
       "      <td>0</td>\n",
       "      <td>0</td>\n",
       "      <td>0</td>\n",
       "      <td>0</td>\n",
       "      <td>0</td>\n",
       "      <td>...</td>\n",
       "      <td>0</td>\n",
       "      <td>0</td>\n",
       "      <td>0</td>\n",
       "      <td>0</td>\n",
       "      <td>0</td>\n",
       "      <td>0</td>\n",
       "      <td>0</td>\n",
       "      <td>0</td>\n",
       "      <td>0</td>\n",
       "      <td>0</td>\n",
       "      <td>0</td>\n",
       "      <td>0</td>\n",
       "      <td>0</td>\n",
       "      <td>0</td>\n",
       "      <td>0.0.0.0</td>\n",
       "      <td>0</td>\n",
       "      <td>0</td>\n",
       "      <td>0</td>\n",
       "      <td>0</td>\n",
       "      <td>0</td>\n",
       "      <td>0</td>\n",
       "      <td>0</td>\n",
       "      <td>1</td>\n",
       "      <td>0</td>\n",
       "      <td>1521135591235</td>\n",
       "      <td>1521135586918</td>\n",
       "      <td>0.005</td>\n",
       "      <td>552.961</td>\n",
       "      <td>3.656</td>\n",
       "      <td>0.006621</td>\n",
       "      <td>True</td>\n",
       "      <td>104.389</td>\n",
       "      <td>q360p</td>\n",
       "      <td>360</td>\n",
       "      <td>4.648124</td>\n",
       "      <td>2.302585</td>\n",
       "      <td>4.356709</td>\n",
       "      <td>6.803505</td>\n",
       "      <td>11.555889</td>\n",
       "      <td>0.006599</td>\n",
       "    </tr>\n",
       "  </tbody>\n",
       "</table>\n",
       "<p>5 rows × 207 columns</p>\n",
       "</div>"
      ],
      "text/plain": [
       "   RelativeTime  PacketsSent  ...  BytesReceived_log  BufferProgress_log\n",
       "0           6.1           29  ...          11.281561            0.005164\n",
       "1           5.8            7  ...          10.877557            0.004833\n",
       "2           7.3           16  ...          10.439367            0.005473\n",
       "3          39.2           14  ...          10.513851            0.009268\n",
       "4           4.6            9  ...          11.555889            0.006599\n",
       "\n",
       "[5 rows x 207 columns]"
      ]
     },
     "execution_count": 6,
     "metadata": {
      "tags": []
     },
     "output_type": "execute_result"
    }
   ],
   "source": [
    "df.head()"
   ]
  },
  {
   "cell_type": "code",
   "execution_count": 7,
   "metadata": {
    "colab": {
     "base_uri": "https://localhost:8080/",
     "height": 1000
    },
    "colab_type": "code",
    "id": "tWOsCMFiZaeT",
    "outputId": "1ef3021d-1c3e-486f-8602-c76be06b90f3",
    "scrolled": false
   },
   "outputs": [
    {
     "name": "stdout",
     "output_type": "stream",
     "text": [
      "<class 'pandas.core.frame.DataFrame'>\n",
      "RangeIndex: 292 entries, 0 to 291\n",
      "Data columns (total 207 columns):\n",
      "RelativeTime           float64\n",
      "PacketsSent            int64\n",
      "PacketsReceived        int64\n",
      "BytesSent              int64\n",
      "BytesReceived          int64\n",
      "IPSrc0                 object\n",
      "IPDst0                 object\n",
      "Protocol0              object\n",
      "PacketsSent0           int64\n",
      "PacketsReceived0       int64\n",
      "BytesSent0             int64\n",
      "BytesReceived0         int64\n",
      "IPSrc1                 object\n",
      "IPDst1                 object\n",
      "Protocol1              object\n",
      "PacketsSent1           int64\n",
      "PacketsReceived1       int64\n",
      "BytesSent1             int64\n",
      "BytesReceived1         int64\n",
      "IPSrc2                 object\n",
      "IPDst2                 object\n",
      "Protocol2              object\n",
      "PacketsSent2           int64\n",
      "PacketsReceived2       int64\n",
      "BytesSent2             int64\n",
      "BytesReceived2         int64\n",
      "IPSrc3                 object\n",
      "IPDst3                 object\n",
      "Protocol3              object\n",
      "PacketsSent3           int64\n",
      "PacketsReceived3       int64\n",
      "BytesSent3             int64\n",
      "BytesReceived3         int64\n",
      "IPSrc4                 object\n",
      "IPDst4                 object\n",
      "Protocol4              object\n",
      "PacketsSent4           int64\n",
      "PacketsReceived4       int64\n",
      "BytesSent4             int64\n",
      "BytesReceived4         int64\n",
      "IPSrc5                 object\n",
      "IPDst5                 object\n",
      "Protocol5              object\n",
      "PacketsSent5           int64\n",
      "PacketsReceived5       int64\n",
      "BytesSent5             int64\n",
      "BytesReceived5         int64\n",
      "IPSrc6                 object\n",
      "IPDst6                 object\n",
      "Protocol6              object\n",
      "PacketsSent6           int64\n",
      "PacketsReceived6       int64\n",
      "BytesSent6             int64\n",
      "BytesReceived6         int64\n",
      "IPSrc7                 object\n",
      "IPDst7                 object\n",
      "Protocol7              object\n",
      "PacketsSent7           int64\n",
      "PacketsReceived7       int64\n",
      "BytesSent7             int64\n",
      "BytesReceived7         int64\n",
      "IPSrc8                 object\n",
      "IPDst8                 object\n",
      "Protocol8              object\n",
      "PacketsSent8           int64\n",
      "PacketsReceived8       int64\n",
      "BytesSent8             int64\n",
      "BytesReceived8         int64\n",
      "IPSrc9                 object\n",
      "IPDst9                 object\n",
      "Protocol9              object\n",
      "PacketsSent9           int64\n",
      "PacketsReceived9       int64\n",
      "BytesSent9             int64\n",
      "BytesReceived9         int64\n",
      "IPSrc10                object\n",
      "IPDst10                object\n",
      "Protocol10             int64\n",
      "PacketsSent10          int64\n",
      "PacketsReceived10      int64\n",
      "BytesSent10            int64\n",
      "BytesReceived10        int64\n",
      "IPSrc11                object\n",
      "IPDst11                object\n",
      "Protocol11             int64\n",
      "PacketsSent11          int64\n",
      "PacketsReceived11      int64\n",
      "BytesSent11            int64\n",
      "BytesReceived11        int64\n",
      "IPSrc12                object\n",
      "IPDst12                object\n",
      "Protocol12             object\n",
      "PacketsSent12          int64\n",
      "PacketsReceived12      int64\n",
      "BytesSent12            int64\n",
      "BytesReceived12        int64\n",
      "IPSrc13                object\n",
      "IPDst13                object\n",
      "Protocol13             object\n",
      "PacketsSent13          int64\n",
      "PacketsReceived13      int64\n",
      "BytesSent13            int64\n",
      "BytesReceived13        int64\n",
      "IPSrc14                object\n",
      "IPDst14                object\n",
      "Protocol14             int64\n",
      "PacketsSent14          int64\n",
      "PacketsReceived14      int64\n",
      "BytesSent14            int64\n",
      "BytesReceived14        int64\n",
      "IPSrc15                object\n",
      "IPDst15                object\n",
      "Protocol15             object\n",
      "PacketsSent15          int64\n",
      "PacketsReceived15      int64\n",
      "BytesSent15            int64\n",
      "BytesReceived15        int64\n",
      "IPSrc16                object\n",
      "IPDst16                object\n",
      "Protocol16             int64\n",
      "PacketsSent16          int64\n",
      "PacketsReceived16      int64\n",
      "BytesSent16            int64\n",
      "BytesReceived16        int64\n",
      "IPSrc17                object\n",
      "IPDst17                object\n",
      "Protocol17             int64\n",
      "PacketsSent17          int64\n",
      "PacketsReceived17      int64\n",
      "BytesSent17            int64\n",
      "BytesReceived17        int64\n",
      "IPSrc18                object\n",
      "IPDst18                object\n",
      "Protocol18             int64\n",
      "PacketsSent18          int64\n",
      "PacketsReceived18      int64\n",
      "BytesSent18            int64\n",
      "BytesReceived18        int64\n",
      "IPSrc19                object\n",
      "IPDst19                object\n",
      "Protocol19             int64\n",
      "PacketsSent19          int64\n",
      "PacketsReceived19      int64\n",
      "BytesSent19            int64\n",
      "BytesReceived19        int64\n",
      "IPSrc20                object\n",
      "IPDst20                object\n",
      "Protocol20             int64\n",
      "PacketsSent20          int64\n",
      "PacketsReceived20      int64\n",
      "BytesSent20            int64\n",
      "BytesReceived20        int64\n",
      "IPSrc21                object\n",
      "IPDst21                object\n",
      "Protocol21             int64\n",
      "PacketsSent21          int64\n",
      "PacketsReceived21      int64\n",
      "BytesSent21            int64\n",
      "BytesReceived21        int64\n",
      "IPSrc22                object\n",
      "IPDst22                object\n",
      "Protocol22             int64\n",
      "PacketsSent22          int64\n",
      "PacketsReceived22      int64\n",
      "BytesSent22            int64\n",
      "BytesReceived22        int64\n",
      "IPSrc23                object\n",
      "IPDst23                object\n",
      "Protocol23             int64\n",
      "PacketsSent23          int64\n",
      "PacketsReceived23      int64\n",
      "BytesSent23            int64\n",
      "BytesReceived23        int64\n",
      "IPSrc24                object\n",
      "IPDst24                object\n",
      "Protocol24             int64\n",
      "PacketsSent24          int64\n",
      "PacketsReceived24      int64\n",
      "BytesSent24            int64\n",
      "BytesReceived24        int64\n",
      "IPSrc25                object\n",
      "IPDst25                object\n",
      "Protocol25             int64\n",
      "PacketsSent25          int64\n",
      "PacketsReceived25      int64\n",
      "BytesSent25            int64\n",
      "BytesReceived25        int64\n",
      "Buffering              int64\n",
      "Paused                 int64\n",
      "Playing                int64\n",
      "CollectData            int64\n",
      "EpochTime              int64\n",
      "StartTime              int64\n",
      "PlaybackProgress       float64\n",
      "Length                 float64\n",
      "BufferHealth           float64\n",
      "BufferProgress         float64\n",
      "BufferValid            bool\n",
      "KBytesReceived         float64\n",
      "label                  object\n",
      "label_num              int64\n",
      "KBytesReceived_log     float64\n",
      "PacketsSent_log        float64\n",
      "PacketsReceived_log    float64\n",
      "BytesSent_log          float64\n",
      "BytesReceived_log      float64\n",
      "BufferProgress_log     float64\n",
      "dtypes: bool(1), float64(12), int64(128), object(66)\n",
      "memory usage: 470.3+ KB\n"
     ]
    }
   ],
   "source": [
    "df.info(verbose=True)"
   ]
  },
  {
   "cell_type": "markdown",
   "metadata": {
    "colab_type": "text",
    "id": "8POUiIfOZaec"
   },
   "source": [
    "Let's study the dependency between `label` and `KBytesReceived`"
   ]
  },
  {
   "cell_type": "markdown",
   "metadata": {
    "colab_type": "text",
    "id": "AYPMX09MZaee"
   },
   "source": [
    "Let's first plot the data as they are, using a scatterplot.\n",
    "\n",
    "See [mathplotlib documentation](https://matplotlib.org/tutorials/introductory/lifecycle.html) for more info (optional)."
   ]
  },
  {
   "cell_type": "code",
   "execution_count": 8,
   "metadata": {
    "colab": {
     "base_uri": "https://localhost:8080/",
     "height": 356
    },
    "colab_type": "code",
    "id": "BCNcu9UbZaef",
    "outputId": "75ac67be-b29d-4a31-961f-16d275dd0f01"
   },
   "outputs": [
    {
     "data": {
      "text/plain": [
       "[(-100, 1200),\n",
       " Text(0, 0.5, 'label_num'),\n",
       " (-100, 1200),\n",
       " Text(0.5, 0, 'KBytes received')]"
      ]
     },
     "execution_count": 8,
     "metadata": {
      "tags": []
     },
     "output_type": "execute_result"
    },
    {
     "data": {
      "image/png": "[encoded data removed]",
      "text/plain": [
       "<Figure size 432x288 with 1 Axes>"
      ]
     },
     "metadata": {
      "tags": []
     },
     "output_type": "display_data"
    }
   ],
   "source": [
    "fig, ax = plt.subplots() # This creates just a canvas\n",
    "ax.scatter(df['KBytesReceived'],df['label_num'],color='red',\n",
    "           s=1, label='all samples') # ax is the actual figure\n",
    "\n",
    "# Customize the plot\n",
    "ax.set(xlim=[-100,1200], ylim=[-100,1200], ylabel=\"label_num\",\n",
    "      xlabel=\"KBytes received\")"
   ]
  },
  {
   "cell_type": "markdown",
   "metadata": {
    "colab_type": "text",
    "id": "IQsLItrbnVAY"
   },
   "source": [
    "# Save files in Google Drive\n",
    "\n",
    "Run this section only if you want to save the figure in your google drive"
   ]
  },
  {
   "cell_type": "markdown",
   "metadata": {
    "colab_type": "text",
    "id": "irR0g-3kgt38"
   },
   "source": [
    "We now save the figure in googledrive. We first mount the google drive volume"
   ]
  },
  {
   "cell_type": "code",
   "execution_count": 0,
   "metadata": {
    "colab": {},
    "colab_type": "code",
    "id": "3PvKYnuCgb80"
   },
   "outputs": [],
   "source": [
    "if savefigures:\n",
    "  # Inspired by https://colab.research.google.com/drive/1Eh0CgryaZnqWV8Jv4YzZMjXJXiDivzKY#scrollTo=u4X-zdyC0U6-\n",
    "\n",
    "  # keep these variables always the same\n",
    "  from google.colab import drive\n",
    "  mount_point = '/content/gdrive'\n",
    "  drive.mount(mount_point, force_remount=True)\n"
   ]
  },
  {
   "cell_type": "code",
   "execution_count": 0,
   "metadata": {
    "colab": {},
    "colab_type": "code",
    "id": "2M8Arp4KhV8X"
   },
   "outputs": [],
   "source": [
    "if savefigures:\n",
    "  drive_path = mount_point+'/My Drive/'\n",
    "\n",
    "  print(\"This is my google drive\")\n",
    "  !ls \"$drive_path\""
   ]
  },
  {
   "cell_type": "markdown",
   "metadata": {
    "colab_type": "text",
    "id": "8Kxp14oTmdsd"
   },
   "source": [
    "I save the figure in one of my folders"
   ]
  },
  {
   "cell_type": "code",
   "execution_count": 0,
   "metadata": {
    "colab": {},
    "colab_type": "code",
    "id": "DWroclOcmcQc"
   },
   "outputs": [],
   "source": [
    "if savefigures:\n",
    "  my_path = drive_path + 'tsp/teaching/data-science-for-networks/img-from-code/02.regression/'\n",
    "  filename = my_path+\"scatter.pdf\"\n",
    "  fig.savefig(filename)"
   ]
  },
  {
   "cell_type": "markdown",
   "metadata": {
    "colab_type": "text",
    "id": "Hu-81zM7ndLP"
   },
   "source": [
    "# Train-test-split"
   ]
  },
  {
   "cell_type": "code",
   "execution_count": 12,
   "metadata": {
    "colab": {
     "base_uri": "https://localhost:8080/",
     "height": 256
    },
    "colab_type": "code",
    "id": "9StTza7-Zael",
    "outputId": "7c11d7b4-815c-432c-bea3-4bc587ade3b5",
    "scrolled": false
   },
   "outputs": [
    {
     "data": {
      "text/html": [
       "<div>\n",
       "<style scoped>\n",
       "    .dataframe tbody tr th:only-of-type {\n",
       "        vertical-align: middle;\n",
       "    }\n",
       "\n",
       "    .dataframe tbody tr th {\n",
       "        vertical-align: top;\n",
       "    }\n",
       "\n",
       "    .dataframe thead th {\n",
       "        text-align: right;\n",
       "    }\n",
       "</style>\n",
       "<table border=\"1\" class=\"dataframe\">\n",
       "  <thead>\n",
       "    <tr style=\"text-align: right;\">\n",
       "      <th></th>\n",
       "      <th>RelativeTime</th>\n",
       "      <th>PacketsSent</th>\n",
       "      <th>PacketsReceived</th>\n",
       "      <th>BytesSent</th>\n",
       "      <th>BytesReceived</th>\n",
       "      <th>IPSrc0</th>\n",
       "      <th>IPDst0</th>\n",
       "      <th>Protocol0</th>\n",
       "      <th>PacketsSent0</th>\n",
       "      <th>PacketsReceived0</th>\n",
       "      <th>BytesSent0</th>\n",
       "      <th>BytesReceived0</th>\n",
       "      <th>IPSrc1</th>\n",
       "      <th>IPDst1</th>\n",
       "      <th>Protocol1</th>\n",
       "      <th>PacketsSent1</th>\n",
       "      <th>PacketsReceived1</th>\n",
       "      <th>BytesSent1</th>\n",
       "      <th>BytesReceived1</th>\n",
       "      <th>IPSrc2</th>\n",
       "      <th>IPDst2</th>\n",
       "      <th>Protocol2</th>\n",
       "      <th>PacketsSent2</th>\n",
       "      <th>PacketsReceived2</th>\n",
       "      <th>BytesSent2</th>\n",
       "      <th>BytesReceived2</th>\n",
       "      <th>IPSrc3</th>\n",
       "      <th>IPDst3</th>\n",
       "      <th>Protocol3</th>\n",
       "      <th>PacketsSent3</th>\n",
       "      <th>PacketsReceived3</th>\n",
       "      <th>BytesSent3</th>\n",
       "      <th>BytesReceived3</th>\n",
       "      <th>IPSrc4</th>\n",
       "      <th>IPDst4</th>\n",
       "      <th>Protocol4</th>\n",
       "      <th>PacketsSent4</th>\n",
       "      <th>PacketsReceived4</th>\n",
       "      <th>BytesSent4</th>\n",
       "      <th>BytesReceived4</th>\n",
       "      <th>...</th>\n",
       "      <th>IPDst23</th>\n",
       "      <th>Protocol23</th>\n",
       "      <th>PacketsSent23</th>\n",
       "      <th>PacketsReceived23</th>\n",
       "      <th>BytesSent23</th>\n",
       "      <th>BytesReceived23</th>\n",
       "      <th>IPSrc24</th>\n",
       "      <th>IPDst24</th>\n",
       "      <th>Protocol24</th>\n",
       "      <th>PacketsSent24</th>\n",
       "      <th>PacketsReceived24</th>\n",
       "      <th>BytesSent24</th>\n",
       "      <th>BytesReceived24</th>\n",
       "      <th>IPSrc25</th>\n",
       "      <th>IPDst25</th>\n",
       "      <th>Protocol25</th>\n",
       "      <th>PacketsSent25</th>\n",
       "      <th>PacketsReceived25</th>\n",
       "      <th>BytesSent25</th>\n",
       "      <th>BytesReceived25</th>\n",
       "      <th>Buffering</th>\n",
       "      <th>Paused</th>\n",
       "      <th>Playing</th>\n",
       "      <th>CollectData</th>\n",
       "      <th>EpochTime</th>\n",
       "      <th>StartTime</th>\n",
       "      <th>PlaybackProgress</th>\n",
       "      <th>Length</th>\n",
       "      <th>BufferHealth</th>\n",
       "      <th>BufferProgress</th>\n",
       "      <th>BufferValid</th>\n",
       "      <th>KBytesReceived</th>\n",
       "      <th>label</th>\n",
       "      <th>label_num</th>\n",
       "      <th>KBytesReceived_log</th>\n",
       "      <th>PacketsSent_log</th>\n",
       "      <th>PacketsReceived_log</th>\n",
       "      <th>BytesSent_log</th>\n",
       "      <th>BytesReceived_log</th>\n",
       "      <th>BufferProgress_log</th>\n",
       "    </tr>\n",
       "  </thead>\n",
       "  <tbody>\n",
       "    <tr>\n",
       "      <th>252</th>\n",
       "      <td>3.9</td>\n",
       "      <td>14</td>\n",
       "      <td>22</td>\n",
       "      <td>1153</td>\n",
       "      <td>30624</td>\n",
       "      <td>192.168.1.190</td>\n",
       "      <td>173.194.167.6</td>\n",
       "      <td>QUIC</td>\n",
       "      <td>14</td>\n",
       "      <td>22</td>\n",
       "      <td>1153</td>\n",
       "      <td>30624</td>\n",
       "      <td>192.168.1.190</td>\n",
       "      <td>172.217.10.3</td>\n",
       "      <td>0</td>\n",
       "      <td>0</td>\n",
       "      <td>0</td>\n",
       "      <td>0</td>\n",
       "      <td>0</td>\n",
       "      <td>192.168.1.190</td>\n",
       "      <td>172.217.7.1</td>\n",
       "      <td>0</td>\n",
       "      <td>0</td>\n",
       "      <td>0</td>\n",
       "      <td>0</td>\n",
       "      <td>0</td>\n",
       "      <td>192.168.1.190</td>\n",
       "      <td>172.217.6.238</td>\n",
       "      <td>0</td>\n",
       "      <td>0</td>\n",
       "      <td>0</td>\n",
       "      <td>0</td>\n",
       "      <td>0</td>\n",
       "      <td>192.168.1.190</td>\n",
       "      <td>172.217.3.110</td>\n",
       "      <td>0</td>\n",
       "      <td>0</td>\n",
       "      <td>0</td>\n",
       "      <td>0</td>\n",
       "      <td>0</td>\n",
       "      <td>...</td>\n",
       "      <td>0</td>\n",
       "      <td>0</td>\n",
       "      <td>0</td>\n",
       "      <td>0</td>\n",
       "      <td>0</td>\n",
       "      <td>0</td>\n",
       "      <td>0</td>\n",
       "      <td>0</td>\n",
       "      <td>0</td>\n",
       "      <td>0</td>\n",
       "      <td>0</td>\n",
       "      <td>0</td>\n",
       "      <td>0</td>\n",
       "      <td>0</td>\n",
       "      <td>0.0.0.0</td>\n",
       "      <td>0</td>\n",
       "      <td>0</td>\n",
       "      <td>0</td>\n",
       "      <td>0</td>\n",
       "      <td>0</td>\n",
       "      <td>0</td>\n",
       "      <td>0</td>\n",
       "      <td>1</td>\n",
       "      <td>0</td>\n",
       "      <td>1518550164860</td>\n",
       "      <td>1518550160874</td>\n",
       "      <td>0.004000</td>\n",
       "      <td>1005.861</td>\n",
       "      <td>3.557000</td>\n",
       "      <td>0.003540</td>\n",
       "      <td>True</td>\n",
       "      <td>30.624</td>\n",
       "      <td>q720p</td>\n",
       "      <td>720</td>\n",
       "      <td>3.421784</td>\n",
       "      <td>2.708050</td>\n",
       "      <td>3.135494</td>\n",
       "      <td>7.050989</td>\n",
       "      <td>10.329572</td>\n",
       "      <td>0.003534</td>\n",
       "    </tr>\n",
       "    <tr>\n",
       "      <th>47</th>\n",
       "      <td>10.5</td>\n",
       "      <td>6</td>\n",
       "      <td>48</td>\n",
       "      <td>607</td>\n",
       "      <td>66816</td>\n",
       "      <td>192.168.1.190</td>\n",
       "      <td>74.125.155.235</td>\n",
       "      <td>QUIC</td>\n",
       "      <td>6</td>\n",
       "      <td>48</td>\n",
       "      <td>607</td>\n",
       "      <td>66816</td>\n",
       "      <td>192.168.1.190</td>\n",
       "      <td>172.217.11.3</td>\n",
       "      <td>0</td>\n",
       "      <td>0</td>\n",
       "      <td>0</td>\n",
       "      <td>0</td>\n",
       "      <td>0</td>\n",
       "      <td>192.168.1.190</td>\n",
       "      <td>172.217.12.206</td>\n",
       "      <td>0</td>\n",
       "      <td>0</td>\n",
       "      <td>0</td>\n",
       "      <td>0</td>\n",
       "      <td>0</td>\n",
       "      <td>192.168.1.190</td>\n",
       "      <td>172.217.11.46</td>\n",
       "      <td>0</td>\n",
       "      <td>0</td>\n",
       "      <td>0</td>\n",
       "      <td>0</td>\n",
       "      <td>0</td>\n",
       "      <td>192.168.1.190</td>\n",
       "      <td>172.217.11.1</td>\n",
       "      <td>0</td>\n",
       "      <td>0</td>\n",
       "      <td>0</td>\n",
       "      <td>0</td>\n",
       "      <td>0</td>\n",
       "      <td>...</td>\n",
       "      <td>0</td>\n",
       "      <td>0</td>\n",
       "      <td>0</td>\n",
       "      <td>0</td>\n",
       "      <td>0</td>\n",
       "      <td>0</td>\n",
       "      <td>0</td>\n",
       "      <td>0</td>\n",
       "      <td>0</td>\n",
       "      <td>0</td>\n",
       "      <td>0</td>\n",
       "      <td>0</td>\n",
       "      <td>0</td>\n",
       "      <td>0</td>\n",
       "      <td>0.0.0.0</td>\n",
       "      <td>0</td>\n",
       "      <td>0</td>\n",
       "      <td>0</td>\n",
       "      <td>0</td>\n",
       "      <td>0</td>\n",
       "      <td>0</td>\n",
       "      <td>0</td>\n",
       "      <td>1</td>\n",
       "      <td>0</td>\n",
       "      <td>1521588037469</td>\n",
       "      <td>1521588028140</td>\n",
       "      <td>0.005000</td>\n",
       "      <td>568.261</td>\n",
       "      <td>6.626000</td>\n",
       "      <td>0.011669</td>\n",
       "      <td>True</td>\n",
       "      <td>66.816</td>\n",
       "      <td>q720p</td>\n",
       "      <td>720</td>\n",
       "      <td>4.201943</td>\n",
       "      <td>1.945910</td>\n",
       "      <td>3.891820</td>\n",
       "      <td>6.410175</td>\n",
       "      <td>11.109713</td>\n",
       "      <td>0.011601</td>\n",
       "    </tr>\n",
       "    <tr>\n",
       "      <th>133</th>\n",
       "      <td>4.1</td>\n",
       "      <td>16</td>\n",
       "      <td>26</td>\n",
       "      <td>1464</td>\n",
       "      <td>30922</td>\n",
       "      <td>192.168.1.190</td>\n",
       "      <td>172.217.129.10</td>\n",
       "      <td>QUIC</td>\n",
       "      <td>5</td>\n",
       "      <td>8</td>\n",
       "      <td>402</td>\n",
       "      <td>11136</td>\n",
       "      <td>192.168.1.190</td>\n",
       "      <td>172.217.11.35</td>\n",
       "      <td>0</td>\n",
       "      <td>0</td>\n",
       "      <td>0</td>\n",
       "      <td>0</td>\n",
       "      <td>0</td>\n",
       "      <td>192.168.1.190</td>\n",
       "      <td>172.217.11.33</td>\n",
       "      <td>QUIC</td>\n",
       "      <td>11</td>\n",
       "      <td>18</td>\n",
       "      <td>1062</td>\n",
       "      <td>19786</td>\n",
       "      <td>192.168.1.190</td>\n",
       "      <td>172.217.6.238</td>\n",
       "      <td>0</td>\n",
       "      <td>0</td>\n",
       "      <td>0</td>\n",
       "      <td>0</td>\n",
       "      <td>0</td>\n",
       "      <td>192.168.1.190</td>\n",
       "      <td>172.217.11.36</td>\n",
       "      <td>0</td>\n",
       "      <td>0</td>\n",
       "      <td>0</td>\n",
       "      <td>0</td>\n",
       "      <td>0</td>\n",
       "      <td>...</td>\n",
       "      <td>0</td>\n",
       "      <td>0</td>\n",
       "      <td>0</td>\n",
       "      <td>0</td>\n",
       "      <td>0</td>\n",
       "      <td>0</td>\n",
       "      <td>0</td>\n",
       "      <td>0</td>\n",
       "      <td>0</td>\n",
       "      <td>0</td>\n",
       "      <td>0</td>\n",
       "      <td>0</td>\n",
       "      <td>0</td>\n",
       "      <td>0</td>\n",
       "      <td>0.0.0.0</td>\n",
       "      <td>0</td>\n",
       "      <td>0</td>\n",
       "      <td>0</td>\n",
       "      <td>0</td>\n",
       "      <td>0</td>\n",
       "      <td>0</td>\n",
       "      <td>0</td>\n",
       "      <td>1</td>\n",
       "      <td>0</td>\n",
       "      <td>1520314372698</td>\n",
       "      <td>1520314368529</td>\n",
       "      <td>0.005000</td>\n",
       "      <td>638.981</td>\n",
       "      <td>1.869000</td>\n",
       "      <td>0.002933</td>\n",
       "      <td>True</td>\n",
       "      <td>30.922</td>\n",
       "      <td>q480p</td>\n",
       "      <td>480</td>\n",
       "      <td>3.431468</td>\n",
       "      <td>2.833213</td>\n",
       "      <td>3.295837</td>\n",
       "      <td>7.289611</td>\n",
       "      <td>10.339256</td>\n",
       "      <td>0.002929</td>\n",
       "    </tr>\n",
       "    <tr>\n",
       "      <th>78</th>\n",
       "      <td>4.0</td>\n",
       "      <td>51</td>\n",
       "      <td>102</td>\n",
       "      <td>4852</td>\n",
       "      <td>139015</td>\n",
       "      <td>192.168.1.190</td>\n",
       "      <td>74.125.1.151</td>\n",
       "      <td>QUIC</td>\n",
       "      <td>50</td>\n",
       "      <td>102</td>\n",
       "      <td>4084</td>\n",
       "      <td>139015</td>\n",
       "      <td>192.168.1.190</td>\n",
       "      <td>172.217.11.3</td>\n",
       "      <td>0</td>\n",
       "      <td>0</td>\n",
       "      <td>0</td>\n",
       "      <td>0</td>\n",
       "      <td>0</td>\n",
       "      <td>192.168.1.190</td>\n",
       "      <td>172.217.11.1</td>\n",
       "      <td>0</td>\n",
       "      <td>0</td>\n",
       "      <td>0</td>\n",
       "      <td>0</td>\n",
       "      <td>0</td>\n",
       "      <td>192.168.1.190</td>\n",
       "      <td>172.217.9.238</td>\n",
       "      <td>QUIC</td>\n",
       "      <td>1</td>\n",
       "      <td>0</td>\n",
       "      <td>768</td>\n",
       "      <td>0</td>\n",
       "      <td>192.168.1.190</td>\n",
       "      <td>172.217.6.226</td>\n",
       "      <td>0</td>\n",
       "      <td>0</td>\n",
       "      <td>0</td>\n",
       "      <td>0</td>\n",
       "      <td>0</td>\n",
       "      <td>...</td>\n",
       "      <td>0</td>\n",
       "      <td>0</td>\n",
       "      <td>0</td>\n",
       "      <td>0</td>\n",
       "      <td>0</td>\n",
       "      <td>0</td>\n",
       "      <td>0</td>\n",
       "      <td>0</td>\n",
       "      <td>0</td>\n",
       "      <td>0</td>\n",
       "      <td>0</td>\n",
       "      <td>0</td>\n",
       "      <td>0</td>\n",
       "      <td>0</td>\n",
       "      <td>0.0.0.0</td>\n",
       "      <td>0</td>\n",
       "      <td>0</td>\n",
       "      <td>0</td>\n",
       "      <td>0</td>\n",
       "      <td>0</td>\n",
       "      <td>0</td>\n",
       "      <td>0</td>\n",
       "      <td>1</td>\n",
       "      <td>0</td>\n",
       "      <td>1519150949816</td>\n",
       "      <td>1519150945725</td>\n",
       "      <td>0.033339</td>\n",
       "      <td>1114.261</td>\n",
       "      <td>3.527661</td>\n",
       "      <td>0.003196</td>\n",
       "      <td>True</td>\n",
       "      <td>139.015</td>\n",
       "      <td>q720p</td>\n",
       "      <td>720</td>\n",
       "      <td>4.934582</td>\n",
       "      <td>3.951244</td>\n",
       "      <td>4.634729</td>\n",
       "      <td>8.487352</td>\n",
       "      <td>11.842344</td>\n",
       "      <td>0.003191</td>\n",
       "    </tr>\n",
       "    <tr>\n",
       "      <th>65</th>\n",
       "      <td>12.4</td>\n",
       "      <td>21</td>\n",
       "      <td>41</td>\n",
       "      <td>1711</td>\n",
       "      <td>57018</td>\n",
       "      <td>192.168.1.190</td>\n",
       "      <td>74.125.1.135</td>\n",
       "      <td>0</td>\n",
       "      <td>0</td>\n",
       "      <td>0</td>\n",
       "      <td>0</td>\n",
       "      <td>0</td>\n",
       "      <td>192.168.1.190</td>\n",
       "      <td>173.194.162.198</td>\n",
       "      <td>QUIC</td>\n",
       "      <td>21</td>\n",
       "      <td>41</td>\n",
       "      <td>1711</td>\n",
       "      <td>57018</td>\n",
       "      <td>192.168.1.190</td>\n",
       "      <td>172.217.11.3</td>\n",
       "      <td>0</td>\n",
       "      <td>0</td>\n",
       "      <td>0</td>\n",
       "      <td>0</td>\n",
       "      <td>0</td>\n",
       "      <td>192.168.1.190</td>\n",
       "      <td>172.217.11.1</td>\n",
       "      <td>0</td>\n",
       "      <td>0</td>\n",
       "      <td>0</td>\n",
       "      <td>0</td>\n",
       "      <td>0</td>\n",
       "      <td>192.168.1.190</td>\n",
       "      <td>216.58.219.206</td>\n",
       "      <td>0</td>\n",
       "      <td>0</td>\n",
       "      <td>0</td>\n",
       "      <td>0</td>\n",
       "      <td>0</td>\n",
       "      <td>...</td>\n",
       "      <td>0</td>\n",
       "      <td>0</td>\n",
       "      <td>0</td>\n",
       "      <td>0</td>\n",
       "      <td>0</td>\n",
       "      <td>0</td>\n",
       "      <td>0</td>\n",
       "      <td>0</td>\n",
       "      <td>0</td>\n",
       "      <td>0</td>\n",
       "      <td>0</td>\n",
       "      <td>0</td>\n",
       "      <td>0</td>\n",
       "      <td>0</td>\n",
       "      <td>0.0.0.0</td>\n",
       "      <td>0</td>\n",
       "      <td>0</td>\n",
       "      <td>0</td>\n",
       "      <td>0</td>\n",
       "      <td>0</td>\n",
       "      <td>0</td>\n",
       "      <td>0</td>\n",
       "      <td>1</td>\n",
       "      <td>0</td>\n",
       "      <td>1520044129266</td>\n",
       "      <td>1520044118119</td>\n",
       "      <td>0.006000</td>\n",
       "      <td>960.421</td>\n",
       "      <td>5.583000</td>\n",
       "      <td>0.005819</td>\n",
       "      <td>True</td>\n",
       "      <td>57.018</td>\n",
       "      <td>q1080p</td>\n",
       "      <td>1080</td>\n",
       "      <td>4.043367</td>\n",
       "      <td>3.091042</td>\n",
       "      <td>3.737670</td>\n",
       "      <td>7.445418</td>\n",
       "      <td>10.951140</td>\n",
       "      <td>0.005802</td>\n",
       "    </tr>\n",
       "  </tbody>\n",
       "</table>\n",
       "<p>5 rows × 207 columns</p>\n",
       "</div>"
      ],
      "text/plain": [
       "     RelativeTime  PacketsSent  ...  BytesReceived_log  BufferProgress_log\n",
       "252           3.9           14  ...          10.329572            0.003534\n",
       "47           10.5            6  ...          11.109713            0.011601\n",
       "133           4.1           16  ...          10.339256            0.002929\n",
       "78            4.0           51  ...          11.842344            0.003191\n",
       "65           12.4           21  ...          10.951140            0.005802\n",
       "\n",
       "[5 rows x 207 columns]"
      ]
     },
     "execution_count": 12,
     "metadata": {
      "tags": []
     },
     "output_type": "execute_result"
    }
   ],
   "source": [
    "df_train, df_test = train_test_split(df, test_size=0.3)\n",
    "df_test.head()"
   ]
  },
  {
   "cell_type": "markdown",
   "metadata": {
    "colab_type": "text",
    "id": "L87_ZI6FZaer"
   },
   "source": [
    "Let's split the dataset in 80% training set, 20% test set."
   ]
  },
  {
   "cell_type": "markdown",
   "metadata": {
    "colab_type": "text",
    "id": "D57IUuJ-Zaet"
   },
   "source": [
    "Try to run the code above multiple times.\n",
    "\n",
    "What do you observe? Is it a problem? How do you solve it?"
   ]
  },
  {
   "cell_type": "markdown",
   "metadata": {
    "colab_type": "text",
    "id": "vM7cN44RZaew"
   },
   "source": [
    "To achieve reproducibility, set the seed"
   ]
  },
  {
   "cell_type": "code",
   "execution_count": 13,
   "metadata": {
    "colab": {
     "base_uri": "https://localhost:8080/",
     "height": 35
    },
    "colab_type": "code",
    "id": "Zst6Gz49Zaey",
    "outputId": "5cc4c455-85cb-44f1-d3e3-82557412f5e1"
   },
   "outputs": [
    {
     "name": "stdout",
     "output_type": "stream",
     "text": [
      "Training samples  204 ; Test samples  88\n"
     ]
    }
   ],
   "source": [
    "df_train, df_test = train_test_split(df, test_size=0.3, random_state=19)\n",
    "df_test.head()\n",
    "\n",
    "print('Training samples ', df_train.shape[0], '; Test samples ', df_test.shape[0])"
   ]
  },
  {
   "cell_type": "markdown",
   "metadata": {
    "colab_type": "text",
    "id": "dqZ4u5GEZae3"
   },
   "source": [
    "## Univariate Linear Regression"
   ]
  },
  {
   "cell_type": "markdown",
   "metadata": {
    "colab_type": "text",
    "id": "xCozQN3-Zae5"
   },
   "source": [
    "**Goal**: Predict `label_num` based on `KBytesReceived`"
   ]
  },
  {
   "cell_type": "code",
   "execution_count": 14,
   "metadata": {
    "colab": {
     "base_uri": "https://localhost:8080/",
     "height": 424
    },
    "colab_type": "code",
    "id": "gLNU1if4Zae6",
    "outputId": "f3d4659e-4390-43e2-abfb-d76f2c790147"
   },
   "outputs": [
    {
     "data": {
      "text/html": [
       "<div>\n",
       "<style scoped>\n",
       "    .dataframe tbody tr th:only-of-type {\n",
       "        vertical-align: middle;\n",
       "    }\n",
       "\n",
       "    .dataframe tbody tr th {\n",
       "        vertical-align: top;\n",
       "    }\n",
       "\n",
       "    .dataframe thead th {\n",
       "        text-align: right;\n",
       "    }\n",
       "</style>\n",
       "<table border=\"1\" class=\"dataframe\">\n",
       "  <thead>\n",
       "    <tr style=\"text-align: right;\">\n",
       "      <th></th>\n",
       "      <th>KBytesReceived</th>\n",
       "      <th>label_num</th>\n",
       "    </tr>\n",
       "  </thead>\n",
       "  <tbody>\n",
       "    <tr>\n",
       "      <th>211</th>\n",
       "      <td>135.024</td>\n",
       "      <td>1080</td>\n",
       "    </tr>\n",
       "    <tr>\n",
       "      <th>261</th>\n",
       "      <td>85.044</td>\n",
       "      <td>1080</td>\n",
       "    </tr>\n",
       "    <tr>\n",
       "      <th>150</th>\n",
       "      <td>137.403</td>\n",
       "      <td>480</td>\n",
       "    </tr>\n",
       "    <tr>\n",
       "      <th>31</th>\n",
       "      <td>48.720</td>\n",
       "      <td>360</td>\n",
       "    </tr>\n",
       "    <tr>\n",
       "      <th>189</th>\n",
       "      <td>86.304</td>\n",
       "      <td>720</td>\n",
       "    </tr>\n",
       "    <tr>\n",
       "      <th>...</th>\n",
       "      <td>...</td>\n",
       "      <td>...</td>\n",
       "    </tr>\n",
       "    <tr>\n",
       "      <th>159</th>\n",
       "      <td>46.066</td>\n",
       "      <td>720</td>\n",
       "    </tr>\n",
       "    <tr>\n",
       "      <th>19</th>\n",
       "      <td>41.931</td>\n",
       "      <td>480</td>\n",
       "    </tr>\n",
       "    <tr>\n",
       "      <th>245</th>\n",
       "      <td>66.958</td>\n",
       "      <td>720</td>\n",
       "    </tr>\n",
       "    <tr>\n",
       "      <th>110</th>\n",
       "      <td>41.752</td>\n",
       "      <td>720</td>\n",
       "    </tr>\n",
       "    <tr>\n",
       "      <th>93</th>\n",
       "      <td>79.808</td>\n",
       "      <td>480</td>\n",
       "    </tr>\n",
       "  </tbody>\n",
       "</table>\n",
       "<p>204 rows × 2 columns</p>\n",
       "</div>"
      ],
      "text/plain": [
       "     KBytesReceived  label_num\n",
       "211         135.024       1080\n",
       "261          85.044       1080\n",
       "150         137.403        480\n",
       "31           48.720        360\n",
       "189          86.304        720\n",
       "..              ...        ...\n",
       "159          46.066        720\n",
       "19           41.931        480\n",
       "245          66.958        720\n",
       "110          41.752        720\n",
       "93           79.808        480\n",
       "\n",
       "[204 rows x 2 columns]"
      ]
     },
     "execution_count": 14,
     "metadata": {
      "tags": []
     },
     "output_type": "execute_result"
    }
   ],
   "source": [
    "df_train[['KBytesReceived','label_num']]"
   ]
  },
  {
   "cell_type": "markdown",
   "metadata": {
    "colab_type": "text",
    "id": "fqS9xxiAZafA"
   },
   "source": [
    "Let's separate the independent variables $X$ from the dependent variables $y$"
   ]
  },
  {
   "cell_type": "code",
   "execution_count": 0,
   "metadata": {
    "colab": {},
    "colab_type": "code",
    "id": "GLIEAfroZafB"
   },
   "outputs": [],
   "source": [
    "# Scikit learn models expect matrices. We first transform \n",
    "# the dataframe into an array\n",
    "X_train = df_train[['KBytesReceived'] ].values\n",
    "\n",
    "# Scikit learn models expect matrices with multiple \n",
    "# rows and columns as X. X_train has instead just one column\n",
    "# ==> The following code is necessary\n",
    "X_train = X_train.reshape(-1,1)\n",
    "\n",
    "y_train = df_train['label_num'].values\n",
    "\n",
    "\n",
    "# Do the same for the test dataset\n",
    "X_test = df_test[[ 'KBytesReceived'] ].values.reshape(-1,1)\n",
    "y_test = df_test['label_num'].values"
   ]
  },
  {
   "cell_type": "markdown",
   "metadata": {
    "colab_type": "text",
    "id": "emtf78TgZafG"
   },
   "source": [
    "Let's train our first supervised learning model: an Ordinary Least Squares model."
   ]
  },
  {
   "cell_type": "markdown",
   "metadata": {
    "colab_type": "text",
    "id": "Rb54eFYJZafH"
   },
   "source": [
    "Note: the main library for machine learning in Python is `scikit learn`. However, as for regression, `statsmodel` is better. I prepared the following function with the same interface of `scikit learn` and the additional information of `statsmodel`."
   ]
  },
  {
   "cell_type": "code",
   "execution_count": 16,
   "metadata": {
    "colab": {
     "base_uri": "https://localhost:8080/",
     "height": 476
    },
    "colab_type": "code",
    "id": "K3bthb-mZafJ",
    "outputId": "4cfa667e-9e77-4b3c-e697-8111fcb93588"
   },
   "outputs": [
    {
     "name": "stdout",
     "output_type": "stream",
     "text": [
      "                            OLS Regression Results                            \n",
      "==============================================================================\n",
      "Dep. Variable:                      y   R-squared:                       0.072\n",
      "Model:                            OLS   Adj. R-squared:                  0.068\n",
      "Method:                 Least Squares   F-statistic:                     15.70\n",
      "Date:                Tue, 03 Mar 2020   Prob (F-statistic):           0.000103\n",
      "Time:                        13:48:18   Log-Likelihood:                -1445.2\n",
      "No. Observations:                 204   AIC:                             2894.\n",
      "Df Residuals:                     202   BIC:                             2901.\n",
      "Df Model:                           1                                         \n",
      "Covariance Type:            nonrobust                                         \n",
      "==================================================================================\n",
      "                     coef    std err          t      P>|t|      [0.025      0.975]\n",
      "----------------------------------------------------------------------------------\n",
      "intercept        519.5636     33.254     15.624      0.000     453.994     585.133\n",
      "KBytesReceived     1.4536      0.367      3.962      0.000       0.730       2.177\n",
      "==============================================================================\n",
      "Omnibus:                       32.312   Durbin-Watson:                   1.985\n",
      "Prob(Omnibus):                  0.000   Jarque-Bera (JB):               10.773\n",
      "Skew:                           0.292   Prob(JB):                      0.00458\n",
      "Kurtosis:                       2.038   Cond. No.                         148.\n",
      "==============================================================================\n",
      "\n",
      "Warnings:\n",
      "[1] Standard Errors assume that the covariance matrix of the errors is correctly specified.\n"
     ]
    }
   ],
   "source": [
    "model = AndreaLinearRegression()\n",
    "model.fit(X_train, y_train, column_names=['KBytesReceived'])\n",
    "model.summary()"
   ]
  },
  {
   "cell_type": "markdown",
   "metadata": {
    "colab_type": "text",
    "id": "tVArgDOFZafP"
   },
   "source": [
    "Now we have a trained model $h_{\\theta*}(\\cdot)$ stored in `model`. We can use it to predict new values."
   ]
  },
  {
   "cell_type": "code",
   "execution_count": 17,
   "metadata": {
    "colab": {
     "base_uri": "https://localhost:8080/",
     "height": 35
    },
    "colab_type": "code",
    "id": "kblDjTClZafQ",
    "outputId": "e86e3e37-1a4f-41dd-823c-5e7d4b893b32"
   },
   "outputs": [
    {
     "data": {
      "text/plain": [
       "array([ 893.14316416, 1281.2588651 , 1410.63076541,  843.72019101])"
      ]
     },
     "execution_count": 17,
     "metadata": {
      "tags": []
     },
     "output_type": "execute_result"
    }
   ],
   "source": [
    "newKBytesReceivedSamples = np.array([257, 524, 613, 223]).reshape(-1,1)\n",
    "\n",
    "\n",
    "predictedLabels = model.predict(newKBytesReceivedSamples)\n",
    "predictedLabels"
   ]
  },
  {
   "cell_type": "markdown",
   "metadata": {
    "colab_type": "text",
    "id": "K3eXFPKsZafV"
   },
   "source": [
    "To plot the model, we let it predict on an interval"
   ]
  },
  {
   "cell_type": "code",
   "execution_count": 18,
   "metadata": {
    "colab": {
     "base_uri": "https://localhost:8080/",
     "height": 54
    },
    "colab_type": "code",
    "id": "nMT1-M28ZafW",
    "outputId": "1e620b65-2314-453c-ab21-08f329a37bc8"
   },
   "outputs": [
    {
     "data": {
      "text/plain": [
       "array([ 374.20194605,  375.65556291,  377.10917977, ..., 2259.54301016,\n",
       "       2260.99662702, 2262.45024387])"
      ]
     },
     "execution_count": 18,
     "metadata": {
      "tags": []
     },
     "output_type": "execute_result"
    }
   ],
   "source": [
    "interval = np.arange(-100,1200).reshape(-1,1)\n",
    "h_values = model.predict(interval)\n",
    "h_values"
   ]
  },
  {
   "cell_type": "markdown",
   "metadata": {
    "colab_type": "text",
    "id": "4qZ6KEvZZafa"
   },
   "source": [
    "Let's plot the model. It is constructed so to minimize the distance between the blue points (training samples) and the line"
   ]
  },
  {
   "cell_type": "code",
   "execution_count": 19,
   "metadata": {
    "colab": {
     "base_uri": "https://localhost:8080/",
     "height": 283
    },
    "colab_type": "code",
    "id": "8_QSV59-Zafc",
    "outputId": "36b53d89-7197-44c6-cfab-767f78b540c1",
    "scrolled": true
   },
   "outputs": [
    {
     "data": {
      "image/png": "[encoded data removed]",
      "text/plain": [
       "<Figure size 432x288 with 1 Axes>"
      ]
     },
     "execution_count": 19,
     "metadata": {
      "tags": []
     },
     "output_type": "execute_result"
    }
   ],
   "source": [
    "ax.scatter(X_train,y_train,color='blue',s=1, \n",
    "           label=\"training samples\")\n",
    "\n",
    "ax.plot(interval,h_values, label=\"Linear Regression (OLS)\")\n",
    "ax.legend()\n",
    "\n",
    "fig"
   ]
  },
  {
   "cell_type": "code",
   "execution_count": 0,
   "metadata": {
    "colab": {},
    "colab_type": "code",
    "id": "Nt7uDKGvoUSg"
   },
   "outputs": [],
   "source": [
    "if savefigures:\n",
    "  filename = my_path+\"QoE-prediction-OLS.pdf\"\n",
    "  fig.savefig(filename)"
   ]
  },
  {
   "cell_type": "markdown",
   "metadata": {
    "colab_type": "text",
    "id": "8yIZmM7-Zafg"
   },
   "source": [
    "Let's evaluate the model on the test set"
   ]
  },
  {
   "cell_type": "code",
   "execution_count": 0,
   "metadata": {
    "colab": {},
    "colab_type": "code",
    "id": "vO41UMCCZafh"
   },
   "outputs": [],
   "source": [
    "y_pred = model.predict(X_test)"
   ]
  },
  {
   "cell_type": "markdown",
   "metadata": {
    "colab_type": "text",
    "id": "ZH4BFM-KZafm"
   },
   "source": [
    "Let us compare the true test labels and the predicted"
   ]
  },
  {
   "cell_type": "code",
   "execution_count": 22,
   "metadata": {
    "colab": {
     "base_uri": "https://localhost:8080/",
     "height": 424
    },
    "colab_type": "code",
    "id": "XQhMifAjZafm",
    "outputId": "b0a84f49-a13c-4fc9-8a28-4137a4173539",
    "scrolled": true
   },
   "outputs": [
    {
     "data": {
      "text/html": [
       "<div>\n",
       "<style scoped>\n",
       "    .dataframe tbody tr th:only-of-type {\n",
       "        vertical-align: middle;\n",
       "    }\n",
       "\n",
       "    .dataframe tbody tr th {\n",
       "        vertical-align: top;\n",
       "    }\n",
       "\n",
       "    .dataframe thead th {\n",
       "        text-align: right;\n",
       "    }\n",
       "</style>\n",
       "<table border=\"1\" class=\"dataframe\">\n",
       "  <thead>\n",
       "    <tr style=\"text-align: right;\">\n",
       "      <th></th>\n",
       "      <th>true</th>\n",
       "      <th>pred</th>\n",
       "    </tr>\n",
       "  </thead>\n",
       "  <tbody>\n",
       "    <tr>\n",
       "      <th>0</th>\n",
       "      <td>720</td>\n",
       "      <td>599.486394</td>\n",
       "    </tr>\n",
       "    <tr>\n",
       "      <th>1</th>\n",
       "      <td>720</td>\n",
       "      <td>578.113865</td>\n",
       "    </tr>\n",
       "    <tr>\n",
       "      <th>2</th>\n",
       "      <td>720</td>\n",
       "      <td>584.313541</td>\n",
       "    </tr>\n",
       "    <tr>\n",
       "      <th>3</th>\n",
       "      <td>1080</td>\n",
       "      <td>651.086885</td>\n",
       "    </tr>\n",
       "    <tr>\n",
       "      <th>4</th>\n",
       "      <td>480</td>\n",
       "      <td>609.283771</td>\n",
       "    </tr>\n",
       "    <tr>\n",
       "      <th>...</th>\n",
       "      <td>...</td>\n",
       "      <td>...</td>\n",
       "    </tr>\n",
       "    <tr>\n",
       "      <th>83</th>\n",
       "      <td>720</td>\n",
       "      <td>619.890814</td>\n",
       "    </tr>\n",
       "    <tr>\n",
       "      <th>84</th>\n",
       "      <td>720</td>\n",
       "      <td>539.797978</td>\n",
       "    </tr>\n",
       "    <tr>\n",
       "      <th>85</th>\n",
       "      <td>720</td>\n",
       "      <td>542.783707</td>\n",
       "    </tr>\n",
       "    <tr>\n",
       "      <th>86</th>\n",
       "      <td>480</td>\n",
       "      <td>600.564978</td>\n",
       "    </tr>\n",
       "    <tr>\n",
       "      <th>87</th>\n",
       "      <td>720</td>\n",
       "      <td>579.081974</td>\n",
       "    </tr>\n",
       "  </tbody>\n",
       "</table>\n",
       "<p>88 rows × 2 columns</p>\n",
       "</div>"
      ],
      "text/plain": [
       "    true        pred\n",
       "0    720  599.486394\n",
       "1    720  578.113865\n",
       "2    720  584.313541\n",
       "3   1080  651.086885\n",
       "4    480  609.283771\n",
       "..   ...         ...\n",
       "83   720  619.890814\n",
       "84   720  539.797978\n",
       "85   720  542.783707\n",
       "86   480  600.564978\n",
       "87   720  579.081974\n",
       "\n",
       "[88 rows x 2 columns]"
      ]
     },
     "execution_count": 22,
     "metadata": {
      "tags": []
     },
     "output_type": "execute_result"
    }
   ],
   "source": [
    "pd.DataFrame({'true':y_test,'pred':y_pred})"
   ]
  },
  {
   "cell_type": "markdown",
   "metadata": {
    "colab_type": "text",
    "id": "cf73Iu6cZafr"
   },
   "source": [
    "Let's compute the Mean Square Error (MSE)"
   ]
  },
  {
   "cell_type": "code",
   "execution_count": 23,
   "metadata": {
    "colab": {
     "base_uri": "https://localhost:8080/",
     "height": 35
    },
    "colab_type": "code",
    "id": "oFcL5ymXZafr",
    "outputId": "8d2b45ab-a543-4532-fc7b-862b33e1ebca",
    "scrolled": true
   },
   "outputs": [
    {
     "data": {
      "text/plain": [
       "75019.04691479652"
      ]
     },
     "execution_count": 23,
     "metadata": {
      "tags": []
     },
     "output_type": "execute_result"
    }
   ],
   "source": [
    "MSE = mean_squared_error(y_test, y_pred)\n",
    "MSE"
   ]
  },
  {
   "cell_type": "markdown",
   "metadata": {
    "colab_type": "text",
    "id": "6rtGOUUuZafw"
   },
   "source": [
    "The Root MSE is easier to understand, since it is in the same unity of measurement of the target"
   ]
  },
  {
   "cell_type": "code",
   "execution_count": 24,
   "metadata": {
    "colab": {
     "base_uri": "https://localhost:8080/",
     "height": 35
    },
    "colab_type": "code",
    "id": "w9OXQPvEZafx",
    "outputId": "62d6b5c8-e87c-4741-953e-34c4b8a6434f",
    "scrolled": false
   },
   "outputs": [
    {
     "data": {
      "text/plain": [
       "273.8960512946408"
      ]
     },
     "execution_count": 24,
     "metadata": {
      "tags": []
     },
     "output_type": "execute_result"
    }
   ],
   "source": [
    "RMSE_one_feature = math.sqrt(MSE)\n",
    "RMSE_one_feature"
   ]
  },
  {
   "cell_type": "markdown",
   "metadata": {
    "colab_type": "text",
    "id": "fbch3HutZaf0"
   },
   "source": [
    "#### Dependency on the training set\n",
    "\n",
    "If we change the training set, the model changes as well"
   ]
  },
  {
   "cell_type": "code",
   "execution_count": 25,
   "metadata": {
    "colab": {
     "base_uri": "https://localhost:8080/",
     "height": 476
    },
    "colab_type": "code",
    "id": "voSeuM5VZaf2",
    "outputId": "afa3ebe4-aee8-4b4f-da2a-64c8cdec2f18",
    "scrolled": false
   },
   "outputs": [
    {
     "name": "stdout",
     "output_type": "stream",
     "text": [
      "                            OLS Regression Results                            \n",
      "==============================================================================\n",
      "Dep. Variable:                      y   R-squared:                       0.094\n",
      "Model:                            OLS   Adj. R-squared:                  0.090\n",
      "Method:                 Least Squares   F-statistic:                     21.00\n",
      "Date:                Tue, 03 Mar 2020   Prob (F-statistic):           8.04e-06\n",
      "Time:                        13:48:19   Log-Likelihood:                -1437.6\n",
      "No. Observations:                 204   AIC:                             2879.\n",
      "Df Residuals:                     202   BIC:                             2886.\n",
      "Df Model:                           1                                         \n",
      "Covariance Type:            nonrobust                                         \n",
      "==================================================================================\n",
      "                     coef    std err          t      P>|t|      [0.025      0.975]\n",
      "----------------------------------------------------------------------------------\n",
      "intercept        511.4868     30.856     16.577      0.000     450.646     572.328\n",
      "KBytesReceived     1.5040      0.328      4.583      0.000       0.857       2.151\n",
      "==============================================================================\n",
      "Omnibus:                       22.828   Durbin-Watson:                   2.032\n",
      "Prob(Omnibus):                  0.000   Jarque-Bera (JB):               10.599\n",
      "Skew:                           0.357   Prob(JB):                      0.00499\n",
      "Kurtosis:                       2.141   Cond. No.                         148.\n",
      "==============================================================================\n",
      "\n",
      "Warnings:\n",
      "[1] Standard Errors assume that the covariance matrix of the errors is correctly specified.\n"
     ]
    }
   ],
   "source": [
    "df_train, df_test = train_test_split(df, test_size=0.3, random_state=2)\n",
    "\n",
    "X_train = df_train[['KBytesReceived'] ].values.reshape(-1,1)\n",
    "y_train = df_train['label_num'].values\n",
    "X_test = df_test[[ 'KBytesReceived'] ].values.reshape(-1,1)\n",
    "y_test = df_test['label_num'].values\n",
    "\n",
    "\n",
    "model.fit(X_train, y_train, column_names=['KBytesReceived'])\n",
    "model.summary()"
   ]
  },
  {
   "cell_type": "markdown",
   "metadata": {
    "colab_type": "text",
    "id": "t3gzpkAEZaf6"
   },
   "source": [
    "Note that the coefficients are different. Let's plot it"
   ]
  },
  {
   "cell_type": "code",
   "execution_count": 26,
   "metadata": {
    "colab": {
     "base_uri": "https://localhost:8080/",
     "height": 283
    },
    "colab_type": "code",
    "id": "Tl9KxvO7Zaf6",
    "outputId": "680cf350-a39f-403b-f504-6204d2505e0f",
    "scrolled": true
   },
   "outputs": [
    {
     "data": {
      "image/png": "[encoded data removed]",
      "text/plain": [
       "<Figure size 432x288 with 1 Axes>"
      ]
     },
     "execution_count": 26,
     "metadata": {
      "tags": []
     },
     "output_type": "execute_result"
    }
   ],
   "source": [
    "h_values = model.predict(interval)\n",
    "\n",
    "ax.scatter(X_train,y_train,color='orange',s=1, \n",
    "           label=\"training samples [2]\")\n",
    "ax.plot(interval,h_values, label=\"Linear Regression (OLS) [2]\")\n",
    "ax.legend()\n",
    "fig"
   ]
  },
  {
   "cell_type": "markdown",
   "metadata": {
    "colab_type": "text",
    "id": "bYbs1NQEZaf-"
   },
   "source": [
    "Let's train again a model on a different training set"
   ]
  },
  {
   "cell_type": "code",
   "execution_count": 27,
   "metadata": {
    "colab": {
     "base_uri": "https://localhost:8080/",
     "height": 283
    },
    "colab_type": "code",
    "id": "llykKdz8ZagA",
    "outputId": "2206b46f-dc6e-40df-e1fa-61e165dc6499"
   },
   "outputs": [
    {
     "data": {
      "image/png": "[encoded data removed]",
      "text/plain": [
       "<Figure size 432x288 with 1 Axes>"
      ]
     },
     "execution_count": 27,
     "metadata": {
      "tags": []
     },
     "output_type": "execute_result"
    }
   ],
   "source": [
    "df_train, df_test = train_test_split(df, test_size=0.3, random_state=3)\n",
    "\n",
    "X_train = df_train[['KBytesReceived'] ].values.reshape(-1,1)\n",
    "y_train = df_train['label_num'].values\n",
    "X_test = df_test[[ 'KBytesReceived'] ].values.reshape(-1,1)\n",
    "y_test = df_test['label_num'].values\n",
    "\n",
    "\n",
    "model.fit(X_train, y_train, column_names=['KBytesReceived'])\n",
    "h_values = model.predict(interval)\n",
    "ax.scatter(X_train,y_train,color='green',s=1, \n",
    "           label=\"training samples [3]\")\n",
    "ax.plot(interval,h_values, label=\"Linear Regression (OLS) [3]\")\n",
    "ax.legend()\n",
    "fig"
   ]
  },
  {
   "cell_type": "markdown",
   "metadata": {
    "colab_type": "text",
    "id": "rq6e2OukZagD"
   },
   "source": [
    "\n",
    "\n",
    "\n",
    "### Use transformed variables"
   ]
  },
  {
   "cell_type": "markdown",
   "metadata": {
    "colab_type": "text",
    "id": "OMde3u1fZagF"
   },
   "source": [
    "We observe that the values of `KBytesReceived` are squashed toward small values (we also checked it with a histogram in the last notebook). We have shown in the last notebook that in this case a log transformation can unveil correlation.\n",
    "\n",
    "We now show that it also improves the model. First, have a look at the plot"
   ]
  },
  {
   "cell_type": "code",
   "execution_count": 28,
   "metadata": {
    "colab": {
     "base_uri": "https://localhost:8080/",
     "height": 298
    },
    "colab_type": "code",
    "id": "QMER2-bxZagF",
    "outputId": "6543dcdd-5a42-4496-8040-68352e973373",
    "scrolled": false
   },
   "outputs": [
    {
     "data": {
      "text/plain": [
       "[Text(0, 0.5, 'label_num'), Text(0.5, 0, 'KBytesReceived_log')]"
      ]
     },
     "execution_count": 28,
     "metadata": {
      "tags": []
     },
     "output_type": "execute_result"
    },
    {
     "data": {
      "image/png": "[encoded data removed]",
      "text/plain": [
       "<Figure size 432x288 with 1 Axes>"
      ]
     },
     "metadata": {
      "tags": []
     },
     "output_type": "display_data"
    }
   ],
   "source": [
    "fig, ax = plt.subplots()\n",
    "ax.scatter(df['KBytesReceived_log'],df['label_num'],color='red',s=1)\n",
    "ax.set(ylabel=\"label_num\",xlabel=\"KBytesReceived_log\")"
   ]
  },
  {
   "cell_type": "markdown",
   "metadata": {
    "colab_type": "text",
    "id": "gHcWXuDNZagL"
   },
   "source": [
    "Let's train the new model"
   ]
  },
  {
   "cell_type": "code",
   "execution_count": 29,
   "metadata": {
    "colab": {
     "base_uri": "https://localhost:8080/",
     "height": 35
    },
    "colab_type": "code",
    "id": "VAS5kTjkZagL",
    "outputId": "861dfa49-3a22-4a14-d3dd-40862e675d66"
   },
   "outputs": [
    {
     "data": {
      "text/plain": [
       "AndreaLinearRegression(fit_intercept=True)"
      ]
     },
     "execution_count": 29,
     "metadata": {
      "tags": []
     },
     "output_type": "execute_result"
    }
   ],
   "source": [
    "X_train = df_train[['KBytesReceived_log'] ].values.reshape(-1,1)\n",
    "X_test = df_test[['KBytesReceived_log'] ].values.reshape(-1,1)\n",
    "\n",
    "model.fit(X_train, y_train, column_names=['KBytesReceived'])"
   ]
  },
  {
   "cell_type": "markdown",
   "metadata": {
    "colab_type": "text",
    "id": "WbeTFubdZagP"
   },
   "source": [
    "Let's plot the corresponding line"
   ]
  },
  {
   "cell_type": "code",
   "execution_count": 30,
   "metadata": {
    "colab": {
     "base_uri": "https://localhost:8080/",
     "height": 280
    },
    "colab_type": "code",
    "id": "We2LSmUnZagQ",
    "outputId": "9d063d5e-f787-426d-85ff-b3ddd42fdb89",
    "scrolled": true
   },
   "outputs": [
    {
     "data": {
      "image/png": "[encoded data removed]",
      "text/plain": [
       "<Figure size 432x288 with 1 Axes>"
      ]
     },
     "execution_count": 30,
     "metadata": {
      "tags": []
     },
     "output_type": "execute_result"
    }
   ],
   "source": [
    "interval = np.arange(2,6,0.1).reshape(-1,1)\n",
    "h_values = model.predict(interval)\n",
    "ax.plot(interval, h_values, label=\"transformed model\")\n",
    "fig"
   ]
  },
  {
   "cell_type": "markdown",
   "metadata": {
    "colab_type": "text",
    "id": "pszfNzWxZagT"
   },
   "source": [
    "Let's check the test error"
   ]
  },
  {
   "cell_type": "code",
   "execution_count": 31,
   "metadata": {
    "colab": {
     "base_uri": "https://localhost:8080/",
     "height": 35
    },
    "colab_type": "code",
    "id": "_L3e1H5uZagU",
    "outputId": "8a14a1c6-e621-4205-c3b3-9cbe00c5ba23"
   },
   "outputs": [
    {
     "data": {
      "text/plain": [
       "268.55219885344326"
      ]
     },
     "execution_count": 31,
     "metadata": {
      "tags": []
     },
     "output_type": "execute_result"
    }
   ],
   "source": [
    "y_pred = model.predict(X_test)\n",
    "RMSE_1_feature = math.sqrt(mean_squared_error(y_test, y_pred) )\n",
    "RMSE_1_feature"
   ]
  },
  {
   "cell_type": "markdown",
   "metadata": {
    "colab_type": "text",
    "id": "Bl7xYaT-ZagX"
   },
   "source": [
    "Using the logarithmic transformation, we improved the model."
   ]
  },
  {
   "cell_type": "code",
   "execution_count": 32,
   "metadata": {
    "colab": {
     "base_uri": "https://localhost:8080/",
     "height": 476
    },
    "colab_type": "code",
    "id": "27gZR7paZagZ",
    "outputId": "d072c8d6-c9af-4f8f-cdcb-52a34ace5d1e"
   },
   "outputs": [
    {
     "name": "stdout",
     "output_type": "stream",
     "text": [
      "                            OLS Regression Results                            \n",
      "==============================================================================\n",
      "Dep. Variable:                      y   R-squared:                       0.102\n",
      "Model:                            OLS   Adj. R-squared:                  0.097\n",
      "Method:                 Least Squares   F-statistic:                     22.84\n",
      "Date:                Tue, 03 Mar 2020   Prob (F-statistic):           3.39e-06\n",
      "Time:                        13:48:20   Log-Likelihood:                -1439.2\n",
      "No. Observations:                 204   AIC:                             2882.\n",
      "Df Residuals:                     202   BIC:                             2889.\n",
      "Df Model:                           1                                         \n",
      "Covariance Type:            nonrobust                                         \n",
      "==================================================================================\n",
      "                     coef    std err          t      P>|t|      [0.025      0.975]\n",
      "----------------------------------------------------------------------------------\n",
      "intercept        118.3754    104.580      1.132      0.259     -87.832     324.583\n",
      "KBytesReceived   123.5323     25.850      4.779      0.000      72.562     174.503\n",
      "==============================================================================\n",
      "Omnibus:                       17.210   Durbin-Watson:                   2.129\n",
      "Prob(Omnibus):                  0.000   Jarque-Bera (JB):                9.465\n",
      "Skew:                           0.356   Prob(JB):                      0.00880\n",
      "Kurtosis:                       2.220   Cond. No.                         22.7\n",
      "==============================================================================\n",
      "\n",
      "Warnings:\n",
      "[1] Standard Errors assume that the covariance matrix of the errors is correctly specified.\n"
     ]
    }
   ],
   "source": [
    "model.summary()"
   ]
  },
  {
   "cell_type": "markdown",
   "metadata": {
    "colab_type": "text",
    "id": "REbeolOgZagc"
   },
   "source": [
    "## Multivariate Linear Regression"
   ]
  },
  {
   "cell_type": "markdown",
   "metadata": {
    "colab_type": "text",
    "id": "CdHfgvUBZage"
   },
   "source": [
    "Can we improve the test loss if we use other features?\n",
    "\n",
    "Have a first look at the more correlated features (see notebook on data exploration)"
   ]
  },
  {
   "cell_type": "code",
   "execution_count": 33,
   "metadata": {
    "colab": {
     "base_uri": "https://localhost:8080/",
     "height": 237
    },
    "colab_type": "code",
    "id": "DbWsM3UfZage",
    "outputId": "ba0ee724-5bc0-4bac-a00f-dc26d2f2b33c",
    "scrolled": false
   },
   "outputs": [
    {
     "data": {
      "text/plain": [
       "label_num       1.000\n",
       "EpochTime      -0.408\n",
       "StartTime      -0.408\n",
       "PacketsSent     0.384\n",
       "PacketsSent0    0.363\n",
       "                ...  \n",
       "Buffering         NaN\n",
       "Paused            NaN\n",
       "Playing           NaN\n",
       "CollectData       NaN\n",
       "BufferValid       NaN\n",
       "Name: label_num, Length: 141, dtype: float64"
      ]
     },
     "execution_count": 33,
     "metadata": {
      "tags": []
     },
     "output_type": "execute_result"
    }
   ],
   "source": [
    "corrmatrix = df.corr().round(3)\n",
    "corr_to_label_num = corrmatrix['label_num']\n",
    "# We sort based on the absolute value (see https://stackoverflow.com/a/30486411/2110769)\n",
    "corr_to_label_num.reindex(corr_to_label_num.abs().sort_values(ascending=False).index)"
   ]
  },
  {
   "cell_type": "markdown",
   "metadata": {
    "colab_type": "text",
    "id": "dNbHwND7Zagh"
   },
   "source": [
    "Let's add `StartTime` among the regressors"
   ]
  },
  {
   "cell_type": "code",
   "execution_count": 34,
   "metadata": {
    "colab": {
     "base_uri": "https://localhost:8080/",
     "height": 531
    },
    "colab_type": "code",
    "id": "sjuycwtpZagi",
    "outputId": "c5ecd696-fb57-42a0-be36-9f6a39dd2636",
    "scrolled": false
   },
   "outputs": [
    {
     "name": "stdout",
     "output_type": "stream",
     "text": [
      "                            OLS Regression Results                            \n",
      "==============================================================================\n",
      "Dep. Variable:                      y   R-squared:                       0.101\n",
      "Model:                            OLS   Adj. R-squared:                  0.097\n",
      "Method:                 Least Squares   F-statistic:                     22.77\n",
      "Date:                Tue, 03 Mar 2020   Prob (F-statistic):           3.49e-06\n",
      "Time:                        13:48:20   Log-Likelihood:                -1439.2\n",
      "No. Observations:                 204   AIC:                             2882.\n",
      "Df Residuals:                     202   BIC:                             2889.\n",
      "Df Model:                           1                                         \n",
      "Covariance Type:            nonrobust                                         \n",
      "======================================================================================\n",
      "                         coef    std err          t      P>|t|      [0.025      0.975]\n",
      "--------------------------------------------------------------------------------------\n",
      "intercept              0.0289      0.006      4.809      0.000       0.017       0.041\n",
      "KBytesReceived_log   124.2161     25.830      4.809      0.000      73.285     175.147\n",
      "StartTime           7.599e-11   6.87e-11      1.106      0.270   -5.95e-11    2.12e-10\n",
      "==============================================================================\n",
      "Omnibus:                       17.150   Durbin-Watson:                   2.129\n",
      "Prob(Omnibus):                  0.000   Jarque-Bera (JB):                9.455\n",
      "Skew:                           0.356   Prob(JB):                      0.00885\n",
      "Kurtosis:                       2.221   Cond. No.                     1.72e+15\n",
      "==============================================================================\n",
      "\n",
      "Warnings:\n",
      "[1] Standard Errors assume that the covariance matrix of the errors is correctly specified.\n",
      "[2] The condition number is large, 1.72e+15. This might indicate that there are\n",
      "strong multicollinearity or other numerical problems.\n"
     ]
    }
   ],
   "source": [
    "cols = ['KBytesReceived_log', 'StartTime']\n",
    "\n",
    "# We do not need to reshape(-1,1) this time, as we \n",
    "# have a matrix with two columns now.\n",
    "X_train = df_train[cols ].values\n",
    "model = AndreaLinearRegression()\n",
    "model.fit(X_train, y_train, column_names=cols)\n",
    "model.summary()"
   ]
  },
  {
   "cell_type": "code",
   "execution_count": 0,
   "metadata": {
    "colab": {},
    "colab_type": "code",
    "id": "Tmlixw1NZagl"
   },
   "outputs": [],
   "source": [
    "X_test = df_test[cols ].values\n",
    "y_pred = model.predict(X_test)"
   ]
  },
  {
   "cell_type": "code",
   "execution_count": 36,
   "metadata": {
    "colab": {
     "base_uri": "https://localhost:8080/",
     "height": 35
    },
    "colab_type": "code",
    "id": "FraeuQnEZago",
    "outputId": "71bffce8-ba0a-4925-9670-44c6fd733c00"
   },
   "outputs": [
    {
     "name": "stdout",
     "output_type": "stream",
     "text": [
      "RMSE now:  268.5379993855423 ; RMSE with one feature:  273.8960512946408\n"
     ]
    }
   ],
   "source": [
    "MSE = mean_squared_error(y_test, y_pred)\n",
    "RMSE_some_features = math.sqrt(MSE)\n",
    "print('RMSE now: ', RMSE_some_features, '; RMSE with one feature: ',\n",
    "      RMSE_one_feature)"
   ]
  },
  {
   "cell_type": "markdown",
   "metadata": {
    "colab_type": "text",
    "id": "eVU_kuFZZagr"
   },
   "source": [
    "We improved our RMSE by also considering `StartTime` ... BUT ...\n",
    "\n",
    "**Attention**: The correlation between `StartTime` and the label is __artificial__, just because the experimenter first measured low quality video sessions and then high quality. This would not be true in a real deployment\n",
    "\n",
    "\n",
    "**DO NOT BE OBSESSED BY REDUCING THE ERROR, AND LOOK AT THE MEANING OF FEATURES!**"
   ]
  },
  {
   "cell_type": "markdown",
   "metadata": {
    "colab_type": "text",
    "id": "nZ2bud7SZagr"
   },
   "source": [
    "Let's add other correlated features"
   ]
  },
  {
   "cell_type": "code",
   "execution_count": 0,
   "metadata": {
    "colab": {},
    "colab_type": "code",
    "id": "_GboaeldZags"
   },
   "outputs": [],
   "source": [
    "cols=['PacketsSent', 'KBytesReceived_log', 'PacketsReceived_log']\n",
    "\n",
    "X_train = df_train[cols].values\n",
    "X_test = df_test[cols].values"
   ]
  },
  {
   "cell_type": "code",
   "execution_count": 38,
   "metadata": {
    "colab": {
     "base_uri": "https://localhost:8080/",
     "height": 35
    },
    "colab_type": "code",
    "id": "DPVAJUlpZagv",
    "outputId": "4641db1f-c863-4b5d-82e8-8defd6f6ac88"
   },
   "outputs": [
    {
     "data": {
      "text/plain": [
       "AndreaLinearRegression(fit_intercept=True)"
      ]
     },
     "execution_count": 38,
     "metadata": {
      "tags": []
     },
     "output_type": "execute_result"
    }
   ],
   "source": [
    "model = AndreaLinearRegression()\n",
    "model.fit(X_train, y_train, column_names=cols)"
   ]
  },
  {
   "cell_type": "code",
   "execution_count": 39,
   "metadata": {
    "colab": {
     "base_uri": "https://localhost:8080/",
     "height": 513
    },
    "colab_type": "code",
    "id": "sWqb1jEtZagy",
    "outputId": "4f72c957-f932-4d9b-e6e6-e30dcf16df54"
   },
   "outputs": [
    {
     "name": "stdout",
     "output_type": "stream",
     "text": [
      "                            OLS Regression Results                            \n",
      "==============================================================================\n",
      "Dep. Variable:                      y   R-squared:                       0.174\n",
      "Model:                            OLS   Adj. R-squared:                  0.161\n",
      "Method:                 Least Squares   F-statistic:                     14.03\n",
      "Date:                Tue, 03 Mar 2020   Prob (F-statistic):           2.46e-08\n",
      "Time:                        13:48:20   Log-Likelihood:                -1430.6\n",
      "No. Observations:                 204   AIC:                             2869.\n",
      "Df Residuals:                     200   BIC:                             2883.\n",
      "Df Model:                           3                                         \n",
      "Covariance Type:            nonrobust                                         \n",
      "=======================================================================================\n",
      "                          coef    std err          t      P>|t|      [0.025      0.975]\n",
      "---------------------------------------------------------------------------------------\n",
      "intercept             297.7369    109.629      2.716      0.007      81.559     513.915\n",
      "PacketsSent             5.0637      1.212      4.177      0.000       2.673       7.454\n",
      "KBytesReceived_log    -32.2476    159.920     -0.202      0.840    -347.593     283.097\n",
      "PacketsReceived_log    90.4637    166.725      0.543      0.588    -238.301     419.228\n",
      "==============================================================================\n",
      "Omnibus:                        9.198   Durbin-Watson:                   2.129\n",
      "Prob(Omnibus):                  0.010   Jarque-Bera (JB):                6.602\n",
      "Skew:                           0.318   Prob(JB):                       0.0368\n",
      "Kurtosis:                       2.389   Cond. No.                         341.\n",
      "==============================================================================\n",
      "\n",
      "Warnings:\n",
      "[1] Standard Errors assume that the covariance matrix of the errors is correctly specified.\n"
     ]
    }
   ],
   "source": [
    "model.summary()"
   ]
  },
  {
   "cell_type": "code",
   "execution_count": 40,
   "metadata": {
    "colab": {
     "base_uri": "https://localhost:8080/",
     "height": 35
    },
    "colab_type": "code",
    "id": "28QPi5WGZag1",
    "outputId": "42795aa6-5455-483e-f40e-346b436b3575"
   },
   "outputs": [
    {
     "name": "stdout",
     "output_type": "stream",
     "text": [
      "RMSE now:  263.9484263293869 ; RMSE with one feature:  273.8960512946408\n"
     ]
    }
   ],
   "source": [
    "y_pred = model.predict(X_test)\n",
    "MSE = mean_squared_error(y_test, y_pred)\n",
    "RMSE_few_features = math.sqrt(MSE)\n",
    "print('RMSE now: ', RMSE_few_features, '; RMSE with one feature: ',\n",
    "      RMSE_one_feature)"
   ]
  },
  {
   "cell_type": "markdown",
   "metadata": {
    "colab_type": "text",
    "id": "NrFCFlriZag4"
   },
   "source": [
    "We improved a bit"
   ]
  },
  {
   "cell_type": "markdown",
   "metadata": {
    "colab_type": "text",
    "id": "1XbfGR2fZag6"
   },
   "source": [
    "What if we take all the numeric features?"
   ]
  },
  {
   "cell_type": "code",
   "execution_count": 41,
   "metadata": {
    "colab": {
     "base_uri": "https://localhost:8080/",
     "height": 164
    },
    "colab_type": "code",
    "id": "SjROnnLiZag8",
    "outputId": "9a4d3001-ea4f-48a7-bcc4-5de4210b5632"
   },
   "outputs": [
    {
     "data": {
      "text/plain": [
       "Index(['RelativeTime', 'PacketsSent', 'PacketsReceived', 'BytesSent',\n",
       "       'BytesReceived', 'PacketsSent0', 'PacketsReceived0', 'BytesSent0',\n",
       "       'BytesReceived0', 'PacketsSent1',\n",
       "       ...\n",
       "       'BufferHealth', 'BufferProgress', 'KBytesReceived', 'label_num',\n",
       "       'KBytesReceived_log', 'PacketsSent_log', 'PacketsReceived_log',\n",
       "       'BytesSent_log', 'BytesReceived_log', 'BufferProgress_log'],\n",
       "      dtype='object', length=140)"
      ]
     },
     "execution_count": 41,
     "metadata": {
      "tags": []
     },
     "output_type": "execute_result"
    }
   ],
   "source": [
    "# Trick from https://stackoverflow.com/a/51684628/2110769\n",
    "cols = df_train.select_dtypes([np.number]).columns\n",
    "cols"
   ]
  },
  {
   "cell_type": "markdown",
   "metadata": {
    "colab_type": "text",
    "id": "11Pl33fDZahN"
   },
   "source": [
    "To construct our X_train and X_test, we should remove the target `label_num` and the \"artificial features\"."
   ]
  },
  {
   "cell_type": "code",
   "execution_count": 0,
   "metadata": {
    "colab": {},
    "colab_type": "code",
    "id": "Yrrf0SVQZahO"
   },
   "outputs": [],
   "source": [
    "cols = cols.drop(['label_num', 'StartTime', 'EpochTime' ] )"
   ]
  },
  {
   "cell_type": "code",
   "execution_count": 43,
   "metadata": {
    "colab": {
     "base_uri": "https://localhost:8080/",
     "height": 1000
    },
    "colab_type": "code",
    "id": "5nHJfwq1ZahR",
    "outputId": "f542a6ff-975b-4d2c-8e39-7a257340c8ae",
    "scrolled": false
   },
   "outputs": [
    {
     "name": "stdout",
     "output_type": "stream",
     "text": [
      "                            OLS Regression Results                            \n",
      "==============================================================================\n",
      "Dep. Variable:                      y   R-squared:                       0.612\n",
      "Model:                            OLS   Adj. R-squared:                  0.449\n",
      "Method:                 Least Squares   F-statistic:                     3.758\n",
      "Date:                Tue, 03 Mar 2020   Prob (F-statistic):           5.19e-11\n",
      "Time:                        13:48:20   Log-Likelihood:                -1353.5\n",
      "No. Observations:                 204   AIC:                             2829.\n",
      "Df Residuals:                     143   BIC:                             3032.\n",
      "Df Model:                          60                                         \n",
      "Covariance Type:            nonrobust                                         \n",
      "=======================================================================================\n",
      "                          coef    std err          t      P>|t|      [0.025      0.975]\n",
      "---------------------------------------------------------------------------------------\n",
      "RelativeTime            5.8463      2.351      2.487      0.014       1.199      10.494\n",
      "PacketsSent           -24.1450    118.696     -0.203      0.839    -258.771     210.481\n",
      "PacketsReceived     -1034.0938   2210.599     -0.468      0.641   -5403.767    3335.579\n",
      "BytesSent              11.6353     13.084      0.889      0.375     -14.227      37.498\n",
      "BytesReceived           9.5579     22.270      0.429      0.668     -34.463      53.579\n",
      "PacketsSent0           38.1521    118.393      0.322      0.748    -195.875     272.179\n",
      "PacketsReceived0     1053.0249   2210.033      0.476      0.634   -3315.531    5421.581\n",
      "BytesSent0            -11.7933     13.081     -0.902      0.369     -37.649      14.063\n",
      "BytesReceived0         -9.5800     22.269     -0.430      0.668     -53.600      34.440\n",
      "PacketsSent1           47.2402    120.805      0.391      0.696    -191.555     286.035\n",
      "PacketsReceived1      968.6417   2208.515      0.439      0.662   -3396.913    5334.196\n",
      "BytesSent1            -11.7453     13.117     -0.895      0.372     -37.674      14.183\n",
      "BytesReceived1         -9.5234     22.268     -0.428      0.670     -53.541      34.494\n",
      "PacketsSent2           49.1591    122.943      0.400      0.690    -193.862     292.180\n",
      "PacketsReceived2      978.5710   2216.434      0.442      0.660   -3402.637    5359.779\n",
      "BytesSent2            -11.5724     13.103     -0.883      0.379     -37.472      14.328\n",
      "BytesReceived2         -9.5410     22.273     -0.428      0.669     -53.569      34.487\n",
      "PacketsSent3           -4.8913    148.828     -0.033      0.974    -299.079     289.297\n",
      "PacketsReceived3     1092.6383   2224.123      0.491      0.624   -3303.768    5489.045\n",
      "BytesSent3            -11.6394     13.116     -0.887      0.376     -37.565      14.286\n",
      "BytesReceived3         -9.6007     22.278     -0.431      0.667     -53.638      34.437\n",
      "PacketsSent4          123.4797    164.214      0.752      0.453    -201.120     448.080\n",
      "PacketsReceived4     1154.9732   2223.109      0.520      0.604   -3239.429    5549.375\n",
      "BytesSent4            -12.3238     13.138     -0.938      0.350     -38.293      13.646\n",
      "BytesReceived4         -9.6797     22.277     -0.435      0.665     -53.714      34.354\n",
      "PacketsSent5          -82.2396    240.111     -0.343      0.732    -556.866     392.387\n",
      "PacketsReceived5     1499.5363   1942.014      0.772      0.441   -2339.228    5338.300\n",
      "BytesSent5            -11.7105     13.090     -0.895      0.373     -37.586      14.165\n",
      "BytesReceived5        -10.2214     22.095     -0.463      0.644     -53.897      33.454\n",
      "PacketsSent6          152.7860    202.194      0.756      0.451    -246.888     552.460\n",
      "PacketsReceived6     1093.0407   2252.790      0.485      0.628   -3360.032    5546.114\n",
      "BytesSent6            -13.0080     13.034     -0.998      0.320     -38.771      12.755\n",
      "BytesReceived6         -9.5208     22.352     -0.426      0.671     -53.705      34.663\n",
      "PacketsSent7         -528.1204    393.600     -1.342      0.182   -1306.147     249.907\n",
      "PacketsReceived7     1112.8869   2154.267      0.517      0.606   -3145.436    5371.210\n",
      "BytesSent7            -10.4301     13.067     -0.798      0.426     -36.261      15.400\n",
      "BytesReceived7         -9.3759     22.233     -0.422      0.674     -53.324      34.572\n",
      "PacketsSent8          447.1822    302.963      1.476      0.142    -151.682    1046.046\n",
      "PacketsReceived8       -0.0229      0.033     -0.694      0.489      -0.088       0.042\n",
      "BytesSent8            -11.5989     13.264     -0.874      0.383     -37.818      14.620\n",
      "BytesReceived8         -8.5917     18.017     -0.477      0.634     -44.206      27.023\n",
      "PacketsSent9           -0.0395      0.034     -1.154      0.250      -0.107       0.028\n",
      "PacketsReceived9       -0.0190      0.029     -0.664      0.508      -0.076       0.038\n",
      "BytesSent9            -12.4991     13.020     -0.960      0.339     -38.236      13.238\n",
      "BytesReceived9         -8.2171     20.209     -0.407      0.685     -48.164      31.730\n",
      "Protocol10             -0.0041      0.004     -0.928      0.355      -0.013       0.005\n",
      "PacketsSent10           0.0049      0.005      0.928      0.355      -0.006       0.015\n",
      "PacketsReceived10      -0.0008      0.001     -0.928      0.355      -0.003       0.001\n",
      "BytesSent10            -0.0007      0.001     -0.928      0.355      -0.002       0.001\n",
      "BytesReceived10        -0.0017      0.002     -0.929      0.355      -0.005       0.002\n",
      "Protocol11             -0.0003      0.000     -0.929      0.354      -0.001       0.000\n",
      "PacketsSent11           0.0005      0.000      0.927      0.355      -0.001       0.001\n",
      "PacketsReceived11    8.786e-05   9.53e-05      0.922      0.358      -0.000       0.000\n",
      "BytesSent11             0.0003      0.000      0.928      0.355      -0.000       0.001\n",
      "BytesReceived11        -0.0001      0.000     -0.929      0.354      -0.000       0.000\n",
      "PacketsSent12           0.2800      0.400      0.700      0.485      -0.511       1.071\n",
      "PacketsReceived12      -0.1993      0.210     -0.950      0.344      -0.614       0.216\n",
      "BytesSent12            -4.8242     11.718     -0.412      0.681     -27.987      18.339\n",
      "BytesReceived12       -14.6985     14.866     -0.989      0.324     -44.085      14.688\n",
      "PacketsSent13           0.0262      0.054      0.483      0.630      -0.081       0.133\n",
      "PacketsReceived13      -0.0796      0.078     -1.020      0.309      -0.234       0.075\n",
      "BytesSent13           -11.9873     12.794     -0.937      0.350     -37.277      13.302\n",
      "BytesReceived13        -6.3360     16.552     -0.383      0.702     -39.053      26.381\n",
      "Protocol14                   0          0        nan        nan           0           0\n",
      "PacketsSent14                0          0        nan        nan           0           0\n",
      "PacketsReceived14            0          0        nan        nan           0           0\n",
      "BytesSent14                  0          0        nan        nan           0           0\n",
      "BytesReceived14              0          0        nan        nan           0           0\n",
      "PacketsSent15           0.0133      0.065      0.206      0.837      -0.115       0.142\n",
      "PacketsReceived15       0.0939      0.131      0.715      0.476      -0.166       0.353\n",
      "BytesSent15           -12.1068     12.821     -0.944      0.347     -37.450      13.236\n",
      "BytesReceived15         6.0734      9.157      0.663      0.508     -12.027      24.174\n",
      "Protocol16                   0          0        nan        nan           0           0\n",
      "PacketsSent16                0          0        nan        nan           0           0\n",
      "PacketsReceived16            0          0        nan        nan           0           0\n",
      "BytesSent16                  0          0        nan        nan           0           0\n",
      "BytesReceived16              0          0        nan        nan           0           0\n",
      "Protocol17                   0          0        nan        nan           0           0\n",
      "PacketsSent17                0          0        nan        nan           0           0\n",
      "PacketsReceived17            0          0        nan        nan           0           0\n",
      "BytesSent17                  0          0        nan        nan           0           0\n",
      "BytesReceived17              0          0        nan        nan           0           0\n",
      "Protocol18                   0          0        nan        nan           0           0\n",
      "PacketsSent18                0          0        nan        nan           0           0\n",
      "PacketsReceived18            0          0        nan        nan           0           0\n",
      "BytesSent18                  0          0        nan        nan           0           0\n",
      "BytesReceived18              0          0        nan        nan           0           0\n",
      "Protocol19                   0          0        nan        nan           0           0\n",
      "PacketsSent19                0          0        nan        nan           0           0\n",
      "PacketsReceived19            0          0        nan        nan           0           0\n",
      "BytesSent19                  0          0        nan        nan           0           0\n",
      "BytesReceived19              0          0        nan        nan           0           0\n",
      "Protocol20                   0          0        nan        nan           0           0\n",
      "PacketsSent20                0          0        nan        nan           0           0\n",
      "PacketsReceived20            0          0        nan        nan           0           0\n",
      "BytesSent20                  0          0        nan        nan           0           0\n",
      "BytesReceived20              0          0        nan        nan           0           0\n",
      "Protocol21                   0          0        nan        nan           0           0\n",
      "PacketsSent21                0          0        nan        nan           0           0\n",
      "PacketsReceived21            0          0        nan        nan           0           0\n",
      "BytesSent21                  0          0        nan        nan           0           0\n",
      "BytesReceived21              0          0        nan        nan           0           0\n",
      "Protocol22                   0          0        nan        nan           0           0\n",
      "PacketsSent22                0          0        nan        nan           0           0\n",
      "PacketsReceived22            0          0        nan        nan           0           0\n",
      "BytesSent22                  0          0        nan        nan           0           0\n",
      "BytesReceived22              0          0        nan        nan           0           0\n",
      "Protocol23                   0          0        nan        nan           0           0\n",
      "PacketsSent23                0          0        nan        nan           0           0\n",
      "PacketsReceived23            0          0        nan        nan           0           0\n",
      "BytesSent23                  0          0        nan        nan           0           0\n",
      "BytesReceived23              0          0        nan        nan           0           0\n",
      "Protocol24                   0          0        nan        nan           0           0\n",
      "PacketsSent24                0          0        nan        nan           0           0\n",
      "PacketsReceived24            0          0        nan        nan           0           0\n",
      "BytesSent24                  0          0        nan        nan           0           0\n",
      "BytesReceived24              0          0        nan        nan           0           0\n",
      "Protocol25                   0          0        nan        nan           0           0\n",
      "PacketsSent25         839.2530    500.593      1.677      0.096    -150.265    1828.771\n",
      "PacketsReceived25    1031.5677   2210.588      0.467      0.641   -3338.084    5401.220\n",
      "BytesSent25           -21.2913     14.292     -1.490      0.138     -49.542       6.959\n",
      "BytesReceived25        -9.5637     22.270     -0.429      0.668     -53.584      34.457\n",
      "Buffering                    0          0        nan        nan           0           0\n",
      "Paused                       0          0        nan        nan           0           0\n",
      "Playing              2.281e+07   2.46e+07      0.929      0.354   -2.57e+07    7.13e+07\n",
      "CollectData                  0          0        nan        nan           0           0\n",
      "PlaybackProgress    -2278.7429   1643.384     -1.387      0.168   -5527.208     969.722\n",
      "Length                 -0.2554      0.218     -1.170      0.244      -0.687       0.176\n",
      "BufferHealth           21.0690     33.745      0.624      0.533     -45.635      87.773\n",
      "BufferProgress       4.339e+06   1.67e+06      2.602      0.010    1.04e+06    7.64e+06\n",
      "KBytesReceived          7.7152      8.300      0.930      0.354      -8.691      24.122\n",
      "KBytesReceived_log   3.302e+06   3.55e+06      0.929      0.354   -3.72e+06    1.03e+07\n",
      "PacketsSent_log       327.5762    112.132      2.921      0.004     105.925     549.227\n",
      "PacketsReceived_log   -10.3264    363.225     -0.028      0.977    -728.310     707.658\n",
      "BytesSent_log        -137.9484     49.054     -2.812      0.006    -234.914     -40.983\n",
      "BytesReceived_log   -3.302e+06   3.55e+06     -0.929      0.354   -1.03e+07    3.72e+06\n",
      "BufferProgress_log  -4.391e+06   1.69e+06     -2.604      0.010   -7.72e+06   -1.06e+06\n",
      "==============================================================================\n",
      "Omnibus:                        4.172   Durbin-Watson:                   2.001\n",
      "Prob(Omnibus):                  0.124   Jarque-Bera (JB):                4.149\n",
      "Skew:                           0.214   Prob(JB):                        0.126\n",
      "Kurtosis:                       3.553   Cond. No.                     1.06e+16\n",
      "==============================================================================\n",
      "\n",
      "Warnings:\n",
      "[1] Standard Errors assume that the covariance matrix of the errors is correctly specified.\n",
      "[2] The smallest eigenvalue is 2.49e-20. This might indicate that there are\n",
      "strong multicollinearity problems or that the design matrix is singular.\n"
     ]
    },
    {
     "name": "stderr",
     "output_type": "stream",
     "text": [
      "/usr/local/lib/python3.6/dist-packages/statsmodels/base/model.py:1294: RuntimeWarning: invalid value encountered in true_divide\n",
      "  return self.params / self.bse\n",
      "/usr/local/lib/python3.6/dist-packages/scipy/stats/_distn_infrastructure.py:903: RuntimeWarning: invalid value encountered in greater\n",
      "  return (a < x) & (x < b)\n",
      "/usr/local/lib/python3.6/dist-packages/scipy/stats/_distn_infrastructure.py:903: RuntimeWarning: invalid value encountered in less\n",
      "  return (a < x) & (x < b)\n",
      "/usr/local/lib/python3.6/dist-packages/scipy/stats/_distn_infrastructure.py:1912: RuntimeWarning: invalid value encountered in less_equal\n",
      "  cond2 = cond0 & (x <= _a)\n"
     ]
    }
   ],
   "source": [
    "X_train = df_train[cols].values\n",
    "X_test = df_test[cols].values\n",
    "\n",
    "model = AndreaLinearRegression()\n",
    "model.fit(X_train, y_train, column_names=cols)\n",
    "model.summary()"
   ]
  },
  {
   "cell_type": "markdown",
   "metadata": {
    "colab_type": "text",
    "id": "ai8jcQWoZahU"
   },
   "source": [
    "Let's deal with the warnings later. Let's just test the model."
   ]
  },
  {
   "cell_type": "code",
   "execution_count": 44,
   "metadata": {
    "colab": {
     "base_uri": "https://localhost:8080/",
     "height": 35
    },
    "colab_type": "code",
    "id": "nUWi-TaTZahV",
    "outputId": "0f85e31d-a247-4ede-f367-51b3ce9648e8",
    "scrolled": false
   },
   "outputs": [
    {
     "name": "stdout",
     "output_type": "stream",
     "text": [
      "RMSE now:  1954.0803147860581 ; RMSE with some features:  268.5379993855423\n"
     ]
    }
   ],
   "source": [
    "y_pred = model.predict(X_test)\n",
    "RMSE_all_features = math.sqrt(mean_squared_error(y_test, y_pred))\n",
    "print('RMSE now: ', RMSE_all_features, '; RMSE with some features: ',\n",
    "      RMSE_some_features)\n"
   ]
  },
  {
   "cell_type": "markdown",
   "metadata": {
    "colab_type": "text",
    "id": "PRxh16UpZahZ"
   },
   "source": [
    "What? We use more features and we obtain a worse model?"
   ]
  },
  {
   "cell_type": "markdown",
   "metadata": {
    "colab_type": "text",
    "id": "QpNpB1PwZaha"
   },
   "source": [
    "## Correct a bad model"
   ]
  },
  {
   "cell_type": "markdown",
   "metadata": {
    "colab_type": "text",
    "id": "1k7jW9vEZahb"
   },
   "source": [
    "Note that no coefficient is significant (look at the p-value). The model is \"rubbish\"."
   ]
  },
  {
   "cell_type": "markdown",
   "metadata": {
    "colab_type": "text",
    "id": "bzeEhcr-Zahc"
   },
   "source": [
    "\n",
    "\n",
    "Remember that\n",
    "$$\n",
    "    \\boldsymbol{\\theta}^* = (X^T X)^{-1} X^T \\textbf{y}\n",
    "$$\n",
    "\n",
    "Is $X^T X$ invertible?"
   ]
  },
  {
   "cell_type": "markdown",
   "metadata": {
    "colab_type": "text",
    "id": "pM8WINYfZahc"
   },
   "source": [
    "### Constant features"
   ]
  },
  {
   "cell_type": "code",
   "execution_count": 45,
   "metadata": {
    "colab": {
     "base_uri": "https://localhost:8080/",
     "height": 1000
    },
    "colab_type": "code",
    "id": "GIClDLhbZahd",
    "outputId": "770c7179-946f-424a-bdb2-f59d9a77e4c6"
   },
   "outputs": [
    {
     "name": "stdout",
     "output_type": "stream",
     "text": [
      "Help on module feature_engineering:\n",
      "\n",
      "NAME\n",
      "    feature_engineering\n",
      "\n",
      "FUNCTIONS\n",
      "    get_features_correlated_to_target(df, target_feature)\n",
      "        Returns the Pearson's correlation coefficient between the \n",
      "        features and the target\n",
      "        \n",
      "        Parameters\n",
      "        ------------\n",
      "        df_: dataframe\n",
      "        \n",
      "        target_feature: string\n",
      "                the name of the target feature\n",
      "        \n",
      "        Returns\n",
      "        --------------\n",
      "        Series\n",
      "                A series of features, with the Person's correlation \n",
      "                coefficient between them and the target, ordered in decreasing\n",
      "                oder of correlation\n",
      "    \n",
      "    get_most_correlated(df)\n",
      "        Returns the pairs of features in descending order of Person's \n",
      "        correlation\n",
      "        \n",
      "        Parameters\n",
      "        --------------\n",
      "        df: dataframe\n",
      "        \n",
      "        Returns\n",
      "        -------------\n",
      "        Series\n",
      "                the pair of features and the Pearson's coefficient\n",
      "    \n",
      "    low_var_features(df, threshold)\n",
      "        Returns the features whose variance is \n",
      "        above the threshold\n",
      "        \n",
      "        Parameters\n",
      "        ------------\n",
      "        df: dataframe\n",
      "        threshold : float\n",
      "        \n",
      "        Returns\n",
      "        -----------\n",
      "        list\n",
      "            the names of the features whose variance is below\n",
      "            the threshold\n",
      "\n",
      "FILE\n",
      "    /content/feature_engineering.py\n",
      "\n",
      "\n"
     ]
    }
   ],
   "source": [
    "import feature_engineering # From the course library\n",
    "help(feature_engineering)\n"
   ]
  },
  {
   "cell_type": "code",
   "execution_count": 46,
   "metadata": {
    "colab": {
     "base_uri": "https://localhost:8080/",
     "height": 1000
    },
    "colab_type": "code",
    "id": "ZyiWYWNDZahf",
    "outputId": "e375cb55-ac07-4116-e35e-2e089a20f064"
   },
   "outputs": [
    {
     "data": {
      "text/plain": [
       "['RelativeTime',\n",
       " 'PacketsSent',\n",
       " 'PacketsReceived',\n",
       " 'BytesSent',\n",
       " 'BytesReceived',\n",
       " 'PacketsSent0',\n",
       " 'PacketsReceived0',\n",
       " 'BytesSent0',\n",
       " 'BytesReceived0',\n",
       " 'PacketsSent1',\n",
       " 'PacketsReceived1',\n",
       " 'BytesSent1',\n",
       " 'BytesReceived1',\n",
       " 'PacketsSent2',\n",
       " 'PacketsReceived2',\n",
       " 'BytesSent2',\n",
       " 'BytesReceived2',\n",
       " 'PacketsSent3',\n",
       " 'PacketsReceived3',\n",
       " 'BytesSent3',\n",
       " 'BytesReceived3',\n",
       " 'PacketsSent4',\n",
       " 'PacketsReceived4',\n",
       " 'BytesSent4',\n",
       " 'BytesReceived4',\n",
       " 'PacketsSent5',\n",
       " 'PacketsReceived5',\n",
       " 'BytesSent5',\n",
       " 'BytesReceived5',\n",
       " 'PacketsSent6',\n",
       " 'PacketsReceived6',\n",
       " 'BytesSent6',\n",
       " 'BytesReceived6',\n",
       " 'PacketsSent7',\n",
       " 'PacketsReceived7',\n",
       " 'BytesSent7',\n",
       " 'BytesReceived7',\n",
       " 'PacketsSent8',\n",
       " 'PacketsReceived8',\n",
       " 'BytesSent8',\n",
       " 'BytesReceived8',\n",
       " 'PacketsSent9',\n",
       " 'PacketsReceived9',\n",
       " 'BytesSent9',\n",
       " 'BytesReceived9',\n",
       " 'PacketsSent12',\n",
       " 'PacketsReceived12',\n",
       " 'BytesSent12',\n",
       " 'BytesReceived12',\n",
       " 'PacketsSent13',\n",
       " 'PacketsReceived13',\n",
       " 'BytesSent13',\n",
       " 'BytesReceived13',\n",
       " 'PacketsSent15',\n",
       " 'PacketsReceived15',\n",
       " 'BytesSent15',\n",
       " 'BytesReceived15',\n",
       " 'PacketsSent25',\n",
       " 'PacketsReceived25',\n",
       " 'BytesSent25',\n",
       " 'BytesReceived25',\n",
       " 'PlaybackProgress',\n",
       " 'Length',\n",
       " 'BufferHealth',\n",
       " 'BufferProgress',\n",
       " 'KBytesReceived',\n",
       " 'KBytesReceived_log',\n",
       " 'PacketsSent_log',\n",
       " 'PacketsReceived_log',\n",
       " 'BytesSent_log',\n",
       " 'BytesReceived_log',\n",
       " 'BufferProgress_log']"
      ]
     },
     "execution_count": 46,
     "metadata": {
      "tags": []
     },
     "output_type": "execute_result"
    }
   ],
   "source": [
    "non_constant_features = \\\n",
    "    feature_engineering.low_var_features(df_train[cols], threshold=0)\n",
    "non_constant_features"
   ]
  },
  {
   "cell_type": "markdown",
   "metadata": {
    "colab_type": "text",
    "id": "-2BEOjFKZahj"
   },
   "source": [
    "We must only use non-constant features"
   ]
  },
  {
   "cell_type": "code",
   "execution_count": 47,
   "metadata": {
    "colab": {
     "base_uri": "https://localhost:8080/",
     "height": 1000
    },
    "colab_type": "code",
    "id": "SsgTyrozZahk",
    "outputId": "b59441e5-7c82-49d3-c52d-917f78d4a233",
    "scrolled": false
   },
   "outputs": [
    {
     "name": "stdout",
     "output_type": "stream",
     "text": [
      "                            OLS Regression Results                            \n",
      "==============================================================================\n",
      "Dep. Variable:                      y   R-squared:                       0.612\n",
      "Model:                            OLS   Adj. R-squared:                  0.449\n",
      "Method:                 Least Squares   F-statistic:                     3.758\n",
      "Date:                Tue, 03 Mar 2020   Prob (F-statistic):           5.19e-11\n",
      "Time:                        13:48:20   Log-Likelihood:                -1353.5\n",
      "No. Observations:                 204   AIC:                             2829.\n",
      "Df Residuals:                     143   BIC:                             3032.\n",
      "Df Model:                          60                                         \n",
      "Covariance Type:            nonrobust                                         \n",
      "=======================================================================================\n",
      "                          coef    std err          t      P>|t|      [0.025      0.975]\n",
      "---------------------------------------------------------------------------------------\n",
      "intercept            2.281e+07   2.46e+07      0.929      0.354   -2.57e+07    7.13e+07\n",
      "RelativeTime            5.8463      2.351      2.487      0.014       1.199      10.494\n",
      "PacketsSent            76.4531     50.727      1.507      0.134     -23.819     176.725\n",
      "PacketsReceived     -1034.0938   2210.599     -0.468      0.641   -5403.767    3335.579\n",
      "BytesSent              -0.4651      0.546     -0.852      0.395      -1.544       0.613\n",
      "BytesReceived           9.5656     22.270      0.430      0.668     -34.455      53.586\n",
      "PacketsSent0          -62.4460     51.400     -1.215      0.226    -164.048      39.156\n",
      "PacketsReceived0     1053.0249   2210.033      0.476      0.634   -3315.531    5421.581\n",
      "BytesSent0              0.3071      0.548      0.560      0.576      -0.777       1.391\n",
      "BytesReceived0         -9.5800     22.269     -0.430      0.668     -53.600      34.440\n",
      "PacketsSent1          -53.3579     51.366     -1.039      0.301    -154.893      48.177\n",
      "PacketsReceived1      968.6417   2208.515      0.439      0.662   -3396.913    5334.196\n",
      "BytesSent1              0.3551      0.564      0.629      0.530      -0.760       1.471\n",
      "BytesReceived1         -9.5234     22.268     -0.428      0.670     -53.541      34.494\n",
      "PacketsSent2          -51.4389     54.535     -0.943      0.347    -159.238      56.360\n",
      "PacketsReceived2      978.5710   2216.434      0.442      0.660   -3402.637    5359.779\n",
      "BytesSent2              0.5280      0.636      0.830      0.408      -0.729       1.785\n",
      "BytesReceived2         -9.5410     22.273     -0.428      0.669     -53.569      34.487\n",
      "PacketsSent3         -105.4894     96.107     -1.098      0.274    -295.462      84.484\n",
      "PacketsReceived3     1092.6383   2224.123      0.491      0.624   -3303.768    5489.045\n",
      "BytesSent3              0.4609      0.644      0.715      0.476      -0.813       1.735\n",
      "BytesReceived3         -9.6007     22.278     -0.431      0.667     -53.638      34.437\n",
      "PacketsSent4           22.8816    105.672      0.217      0.829    -185.999     231.762\n",
      "PacketsReceived4     1154.9732   2223.109      0.520      0.604   -3239.429    5549.375\n",
      "BytesSent4             -0.2234      0.648     -0.345      0.731      -1.503       1.057\n",
      "BytesReceived4         -9.6797     22.277     -0.435      0.665     -53.714      34.354\n",
      "PacketsSent5         -182.8377    209.940     -0.871      0.385    -597.824     232.149\n",
      "PacketsReceived5     1499.5363   1942.014      0.772      0.441   -2339.228    5338.300\n",
      "BytesSent5              0.3899      0.579      0.673      0.502      -0.755       1.535\n",
      "BytesReceived5        -10.2214     22.095     -0.463      0.644     -53.897      33.454\n",
      "PacketsSent6           52.1879    182.513      0.286      0.775    -308.585     412.960\n",
      "PacketsReceived6     1093.0407   2252.790      0.485      0.628   -3360.032    5546.114\n",
      "BytesSent6             -0.9077      0.909     -0.999      0.320      -2.704       0.889\n",
      "BytesReceived6         -9.5208     22.352     -0.426      0.671     -53.705      34.663\n",
      "PacketsSent7         -628.7185    385.289     -1.632      0.105   -1390.316     132.879\n",
      "PacketsReceived7     1112.8869   2154.267      0.517      0.606   -3145.436    5371.210\n",
      "BytesSent7              1.6703      1.581      1.056      0.293      -1.456       4.796\n",
      "BytesReceived7         -9.3759     22.233     -0.422      0.674     -53.324      34.572\n",
      "PacketsSent8          346.5841    280.222      1.237      0.218    -207.329     900.497\n",
      "PacketsReceived8       -0.0162      0.032     -0.499      0.618      -0.080       0.048\n",
      "BytesSent8              0.5015      2.051      0.245      0.807      -3.552       4.555\n",
      "BytesReceived8         -8.5917     18.017     -0.477      0.634     -44.206      27.023\n",
      "PacketsSent9           -0.0112      0.018     -0.624      0.534      -0.047       0.024\n",
      "PacketsReceived9       -0.0112      0.028     -0.401      0.689      -0.066       0.044\n",
      "BytesSent9             -0.6912      2.716     -0.255      0.799      -6.060       4.677\n",
      "BytesReceived9         -8.3353     20.202     -0.413      0.681     -48.269      31.599\n",
      "PacketsSent12           0.3839      0.392      0.980      0.329      -0.390       1.158\n",
      "PacketsReceived12      -0.1751      0.206     -0.848      0.398      -0.583       0.233\n",
      "BytesSent12             5.7504      3.322      1.731      0.086      -0.815      12.316\n",
      "BytesReceived12       -12.2576     14.451     -0.848      0.398     -40.824      16.308\n",
      "PacketsSent13          -0.0127      0.032     -0.397      0.692      -0.076       0.051\n",
      "PacketsReceived13      -0.0164      0.041     -0.402      0.688      -0.097       0.064\n",
      "BytesSent13            -0.1809      0.785     -0.231      0.818      -1.732       1.370\n",
      "BytesReceived13        -6.5253     16.541     -0.394      0.694     -39.221      26.170\n",
      "PacketsSent15           0.0348      0.059      0.585      0.560      -0.083       0.152\n",
      "PacketsReceived15       0.0774      0.131      0.591      0.556      -0.181       0.336\n",
      "BytesSent15            -0.2948      0.790     -0.373      0.710      -1.857       1.267\n",
      "BytesReceived15         5.4147      9.165      0.591      0.556     -12.702      23.532\n",
      "PacketsSent25         738.6549    487.872      1.514      0.132    -225.718    1703.028\n",
      "PacketsReceived25    1031.5677   2210.588      0.467      0.641   -3338.084    5401.220\n",
      "BytesSent25            -9.1909      5.614     -1.637      0.104     -20.288       1.906\n",
      "BytesReceived25        -9.5637     22.270     -0.429      0.668     -53.584      34.457\n",
      "PlaybackProgress    -2278.7429   1643.384     -1.387      0.168   -5527.208     969.722\n",
      "Length                 -0.2554      0.218     -1.170      0.244      -0.687       0.176\n",
      "BufferHealth           21.0690     33.745      0.624      0.533     -45.635      87.773\n",
      "BufferProgress       4.339e+06   1.67e+06      2.602      0.010    1.04e+06    7.64e+06\n",
      "KBytesReceived          0.0199      0.022      0.890      0.375      -0.024       0.064\n",
      "KBytesReceived_log   3.302e+06   3.55e+06      0.929      0.354   -3.72e+06    1.03e+07\n",
      "PacketsSent_log       327.5762    112.132      2.921      0.004     105.925     549.227\n",
      "PacketsReceived_log   -10.3264    363.225     -0.028      0.977    -728.310     707.658\n",
      "BytesSent_log        -137.9484     49.054     -2.812      0.006    -234.914     -40.983\n",
      "BytesReceived_log   -3.302e+06   3.55e+06     -0.929      0.354   -1.03e+07    3.72e+06\n",
      "BufferProgress_log  -4.391e+06   1.69e+06     -2.604      0.010   -7.72e+06   -1.06e+06\n",
      "==============================================================================\n",
      "Omnibus:                        4.172   Durbin-Watson:                   2.001\n",
      "Prob(Omnibus):                  0.124   Jarque-Bera (JB):                4.149\n",
      "Skew:                           0.214   Prob(JB):                        0.126\n",
      "Kurtosis:                       3.553   Cond. No.                     1.28e+16\n",
      "==============================================================================\n",
      "\n",
      "Warnings:\n",
      "[1] Standard Errors assume that the covariance matrix of the errors is correctly specified.\n",
      "[2] The smallest eigenvalue is 1.71e-20. This might indicate that there are\n",
      "strong multicollinearity problems or that the design matrix is singular.\n"
     ]
    }
   ],
   "source": [
    "X_train = df_train[non_constant_features].values\n",
    "X_test = df_test[non_constant_features].values\n",
    "\n",
    "model = AndreaLinearRegression()\n",
    "model.fit(X_train, y_train, column_names=non_constant_features)\n",
    "model.summary()"
   ]
  },
  {
   "cell_type": "markdown",
   "metadata": {
    "colab_type": "text",
    "id": "BYgecGCQZahm"
   },
   "source": [
    "The warnings disappear. Still, coefficients are no significant"
   ]
  },
  {
   "cell_type": "code",
   "execution_count": 48,
   "metadata": {
    "colab": {
     "base_uri": "https://localhost:8080/",
     "height": 35
    },
    "colab_type": "code",
    "id": "XLcXagAQZahn",
    "outputId": "fa4bbd35-a9f6-49b7-a94b-ed0af075a71a"
   },
   "outputs": [
    {
     "name": "stdout",
     "output_type": "stream",
     "text": [
      "RMSE:  1144.9467892491787\n"
     ]
    }
   ],
   "source": [
    "y_pred = model.predict(X_test)\n",
    "RMSE = math.sqrt(mean_squared_error(y_test, y_pred))\n",
    "print('RMSE: ', RMSE)"
   ]
  },
  {
   "cell_type": "markdown",
   "metadata": {
    "colab_type": "text",
    "id": "2Y_2YDsSZahq"
   },
   "source": [
    "As expected, the performance is bad."
   ]
  },
  {
   "cell_type": "markdown",
   "metadata": {
    "colab_type": "text",
    "id": "lx_CPTiMZahs"
   },
   "source": [
    "### Collinearity"
   ]
  },
  {
   "cell_type": "markdown",
   "metadata": {
    "colab_type": "text",
    "id": "EsS_dI4bZaht"
   },
   "source": [
    "Let's check the most correlated features"
   ]
  },
  {
   "cell_type": "code",
   "execution_count": 49,
   "metadata": {
    "colab": {
     "base_uri": "https://localhost:8080/",
     "height": 237
    },
    "colab_type": "code",
    "id": "7ubrLajeZahu",
    "outputId": "39ba33f7-d4cc-44f5-fcb0-f95142664b70"
   },
   "outputs": [
    {
     "data": {
      "text/plain": [
       "PacketsReceived12  BytesReceived12       1.0\n",
       "PacketsReceived13  BytesReceived13       1.0\n",
       "BufferProgress     BufferProgress_log    1.0\n",
       "BytesReceived      KBytesReceived        1.0\n",
       "PacketsReceived8   BytesReceived8        1.0\n",
       "                                        ... \n",
       "                   BufferHealth          0.0\n",
       "BytesReceived4     BytesSent9           -0.0\n",
       "BytesReceived8     BufferHealth          0.0\n",
       "BytesReceived15    BufferHealth         -0.0\n",
       "PacketsReceived15  BufferHealth         -0.0\n",
       "Length: 2556, dtype: float64"
      ]
     },
     "execution_count": 49,
     "metadata": {
      "tags": []
     },
     "output_type": "execute_result"
    }
   ],
   "source": [
    "most_corr_feats = \\\n",
    "    feature_engineering.get_most_correlated(\n",
    "            df_train[non_constant_features])\n",
    "most_corr_feats"
   ]
  },
  {
   "cell_type": "markdown",
   "metadata": {
    "colab_type": "text",
    "id": "wmECMMzIZahz"
   },
   "source": [
    "As expected, packets received/set and bytes received/set are highly correlated. Also the variables transformed to log are correlated with the original ones. We can remove the original ones. If we have KBytes, we can remove Bytes"
   ]
  },
  {
   "cell_type": "code",
   "execution_count": 50,
   "metadata": {
    "colab": {
     "base_uri": "https://localhost:8080/",
     "height": 1000
    },
    "colab_type": "code",
    "id": "UnHxjL7zZah1",
    "outputId": "76b6368b-042c-43db-8def-62fdee9ff1b8",
    "scrolled": true
   },
   "outputs": [
    {
     "name": "stdout",
     "output_type": "stream",
     "text": [
      "                            OLS Regression Results                            \n",
      "==============================================================================\n",
      "Dep. Variable:                      y   R-squared:                       0.583\n",
      "Model:                            OLS   Adj. R-squared:                  0.424\n",
      "Method:                 Least Squares   F-statistic:                     3.674\n",
      "Date:                Tue, 03 Mar 2020   Prob (F-statistic):           1.65e-10\n",
      "Time:                        13:48:20   Log-Likelihood:                -1360.8\n",
      "No. Observations:                 204   AIC:                             2836.\n",
      "Df Residuals:                     147   BIC:                             3025.\n",
      "Df Model:                          56                                         \n",
      "Covariance Type:            nonrobust                                         \n",
      "=======================================================================================\n",
      "                          coef    std err          t      P>|t|      [0.025      0.975]\n",
      "---------------------------------------------------------------------------------------\n",
      "intercept             540.6574    347.515      1.556      0.122    -146.114    1227.429\n",
      "RelativeTime            5.1428      2.359      2.180      0.031       0.480       9.805\n",
      "PacketsSent           793.9222    512.914      1.548      0.124    -219.716    1807.560\n",
      "PacketsReceived         4.4504      8.830      0.504      0.615     -12.999      21.900\n",
      "BytesSent              -1.8098      1.238     -1.462      0.146      -4.255       0.636\n",
      "PacketsSent0         -779.3447    513.280     -1.518      0.131   -1793.705     235.016\n",
      "BytesSent0              1.6462      1.244      1.324      0.188      -0.811       4.104\n",
      "BytesReceived0          0.7102      1.002      0.709      0.480      -1.270       2.690\n",
      "PacketsSent1         -774.9165    512.386     -1.512      0.133   -1787.510     237.677\n",
      "PacketsReceived1      -51.9312     60.838     -0.854      0.395    -172.161      68.299\n",
      "BytesSent1              1.6822      1.233      1.364      0.175      -0.755       4.120\n",
      "BytesReceived1          0.7457      1.009      0.739      0.461      -1.248       2.739\n",
      "PacketsSent2         -777.1960    515.204     -1.509      0.134   -1795.359     240.967\n",
      "PacketsReceived2      -35.2584     75.950     -0.464      0.643    -185.353     114.837\n",
      "BytesSent2              1.8889      1.277      1.479      0.141      -0.635       4.413\n",
      "BytesReceived2          0.7229      1.007      0.718      0.474      -1.268       2.713\n",
      "PacketsSent3         -862.4740    518.586     -1.663      0.098   -1887.321     162.373\n",
      "PacketsReceived3       68.2532     73.608      0.927      0.355     -77.213     213.719\n",
      "BytesSent3              1.9183      1.283      1.496      0.137      -0.617       4.453\n",
      "BytesReceived3          0.6811      1.001      0.681      0.497      -1.296       2.658\n",
      "PacketsSent4         -707.3428    520.702     -1.358      0.176   -1736.372     321.686\n",
      "PacketsReceived4      114.5381    130.652      0.877      0.382    -143.662     372.738\n",
      "BytesSent4              1.0072      1.276      0.789      0.431      -1.514       3.529\n",
      "BytesReceived4          0.6112      1.023      0.598      0.551      -1.410       2.632\n",
      "PacketsSent5         -951.3242    560.636     -1.697      0.092   -2059.272     156.623\n",
      "PacketsReceived5      616.7071    289.609      2.129      0.035      44.371    1189.043\n",
      "BytesSent5              1.7879      1.234      1.449      0.149      -0.650       4.226\n",
      "BytesReceived5          0.0081      0.975      0.008      0.993      -1.919       1.935\n",
      "PacketsSent6         -627.1954    551.347     -1.138      0.257   -1716.785     462.394\n",
      "PacketsReceived6       68.8179    295.327      0.233      0.816    -514.817     652.453\n",
      "BytesSent6              0.1898      1.418      0.134      0.894      -2.612       2.991\n",
      "BytesReceived6          0.8058      1.374      0.586      0.558      -1.910       3.521\n",
      "PacketsSent7        -1264.5443    848.382     -1.491      0.138   -2941.146     412.057\n",
      "PacketsReceived7       91.0960    278.171      0.327      0.744    -458.635     640.827\n",
      "BytesSent7              2.6187      2.271      1.153      0.251      -1.869       7.106\n",
      "BytesReceived7          0.8494      1.053      0.807      0.421      -1.231       2.930\n",
      "PacketsSent8         -351.0730    612.018     -0.574      0.567   -1560.564     858.418\n",
      "BytesSent8              2.3115      2.097      1.103      0.272      -1.832       6.455\n",
      "BytesReceived8         -0.4239      1.090     -0.389      0.698      -2.578       1.730\n",
      "PacketsSent9           -0.0073      0.006     -1.334      0.184      -0.018       0.004\n",
      "PacketsReceived9      9.72e-05      0.002      0.059      0.953      -0.003       0.003\n",
      "BytesSent9             -2.5950      2.017     -1.286      0.200      -6.582       1.392\n",
      "BytesReceived9          0.1589      1.108      0.143      0.886      -2.031       2.349\n",
      "PacketsSent12          -0.1051      0.546     -0.193      0.848      -1.184       0.974\n",
      "PacketsReceived12       0.0229      0.256      0.090      0.929      -0.482       0.528\n",
      "BytesSent12            -4.3764      7.641     -0.573      0.568     -19.476      10.723\n",
      "BytesReceived12         1.6014     17.892      0.090      0.929     -33.757      36.959\n",
      "PacketsSent13          -0.0037      0.003     -1.061      0.290      -0.011       0.003\n",
      "BytesSent13            -1.1201      0.808     -1.386      0.168      -2.717       0.477\n",
      "BytesReceived13        -0.2165      1.345     -0.161      0.872      -2.875       2.442\n",
      "PacketsSent15          -0.0259      0.035     -0.750      0.455      -0.094       0.042\n",
      "BytesSent15            -1.1095      0.776     -1.429      0.155      -2.644       0.425\n",
      "BytesReceived15        -3.4639      5.397     -0.642      0.522     -14.130       7.202\n",
      "BytesSent25            -7.6595      4.944     -1.549      0.123     -17.429       2.110\n",
      "BytesReceived25         0.7107      1.002      0.709      0.479      -1.270       2.691\n",
      "PlaybackProgress    -2686.4092   1659.574     -1.619      0.108   -5966.115     593.297\n",
      "Length                 -0.1552      0.216     -0.717      0.474      -0.583       0.272\n",
      "BufferHealth            9.0591     34.057      0.266      0.791     -58.246      76.364\n",
      "KBytesReceived       -714.6890   1002.016     -0.713      0.477   -2694.906    1265.528\n",
      "KBytesReceived_log    175.6171    320.554      0.548      0.585    -457.872     809.106\n",
      "PacketsSent_log       316.0259    114.306      2.765      0.006      90.130     541.922\n",
      "PacketsReceived_log  -110.1026    364.747     -0.302      0.763    -830.927     610.722\n",
      "BytesSent_log        -125.8737     49.900     -2.523      0.013    -224.488     -27.259\n",
      "BufferProgress_log  -3776.4879   2.47e+04     -0.153      0.879   -5.26e+04     4.5e+04\n",
      "==============================================================================\n",
      "Omnibus:                        0.980   Durbin-Watson:                   1.963\n",
      "Prob(Omnibus):                  0.613   Jarque-Bera (JB):                0.697\n",
      "Skew:                           0.122   Prob(JB):                        0.706\n",
      "Kurtosis:                       3.149   Cond. No.                     1.34e+16\n",
      "==============================================================================\n",
      "\n",
      "Warnings:\n",
      "[1] Standard Errors assume that the covariance matrix of the errors is correctly specified.\n",
      "[2] The smallest eigenvalue is 6.92e-21. This might indicate that there are\n",
      "strong multicollinearity problems or that the design matrix is singular.\n"
     ]
    }
   ],
   "source": [
    "to_remove = ['PacketsReceived8',\n",
    "        'PacketsReceived15', 'PacketsReceived13',\n",
    "          'BytesReceived','BytesReceived_log','BufferProgress',\n",
    "          'PacketsReceived0', 'PacketsSent25', 'PacketsReceived25'\n",
    "            ]\n",
    "\n",
    "# Take from non_constant_features all the features except the ones in\n",
    "# to_remove\n",
    "cols_1 = []\n",
    "for feat in non_constant_features:\n",
    "    if feat not in to_remove:\n",
    "        cols_1.append(feat)\n",
    "        \n",
    "        \n",
    "X_train = df_train[cols_1].values\n",
    "X_test = df_test[cols_1].values\n",
    "model = AndreaLinearRegression()\n",
    "model.fit(X_train, y_train, column_names=cols_1)\n",
    "model.summary()"
   ]
  },
  {
   "cell_type": "code",
   "execution_count": 51,
   "metadata": {
    "colab": {
     "base_uri": "https://localhost:8080/",
     "height": 35
    },
    "colab_type": "code",
    "id": "8n70GVWyZah3",
    "outputId": "bc6cbd2a-ea0c-4461-b9b7-f77c44a11028",
    "scrolled": false
   },
   "outputs": [
    {
     "name": "stdout",
     "output_type": "stream",
     "text": [
      "RMSE:  489.05947123250775 ; RMSE with one feature:  273.8960512946408\n"
     ]
    }
   ],
   "source": [
    "y_pred = model.predict(X_test)\n",
    "RMSE = math.sqrt(mean_squared_error(y_test, y_pred))\n",
    "print('RMSE: ', RMSE, '; RMSE with one feature: ',\n",
    "      RMSE_one_feature)"
   ]
  },
  {
   "cell_type": "markdown",
   "metadata": {
    "colab_type": "text",
    "id": "i2PCkKiZZah5"
   },
   "source": [
    "After removing the most correlated features, the model improved a bit. Still, the model with one feature only is better.\n",
    "\n",
    "Let's check the correlation among the remaining features."
   ]
  },
  {
   "cell_type": "code",
   "execution_count": 52,
   "metadata": {
    "colab": {
     "base_uri": "https://localhost:8080/",
     "height": 237
    },
    "colab_type": "code",
    "id": "arQu57dPZah5",
    "outputId": "e21c586c-2eaf-43e5-e7a6-778340830241"
   },
   "outputs": [
    {
     "data": {
      "text/plain": [
       "PacketsReceived12  BytesReceived12    1.000\n",
       "PacketsSent13      BytesReceived13    0.998\n",
       "PacketsReceived1   BytesReceived1     0.997\n",
       "PacketsSent13      BytesSent13        0.996\n",
       "PacketsSent8       BytesSent8         0.995\n",
       "                                      ...  \n",
       "BytesReceived6     BytesSent25        0.000\n",
       "BytesReceived0     BytesSent6        -0.000\n",
       "BytesReceived5     PacketsSent_log    0.000\n",
       "BytesReceived15    BufferHealth      -0.000\n",
       "                   BytesSent_log     -0.000\n",
       "Length: 1953, dtype: float64"
      ]
     },
     "execution_count": 52,
     "metadata": {
      "tags": []
     },
     "output_type": "execute_result"
    }
   ],
   "source": [
    "most_corr_feats = \\\n",
    "    feature_engineering.get_most_correlated(df_train[cols_1])\n",
    "most_corr_feats"
   ]
  },
  {
   "cell_type": "markdown",
   "metadata": {
    "colab_type": "text",
    "id": "UhqiOmqmZah8"
   },
   "source": [
    "Let's remove all the features regarding Packets (as they are highly correlated with Bytes). Still, preserve the ones that have high correlation with the target."
   ]
  },
  {
   "cell_type": "code",
   "execution_count": 53,
   "metadata": {
    "colab": {
     "base_uri": "https://localhost:8080/",
     "height": 237
    },
    "colab_type": "code",
    "id": "119h9DifZah9",
    "outputId": "f0c89387-bf50-4edd-f516-2ae9a931c891"
   },
   "outputs": [
    {
     "data": {
      "text/plain": [
       "label_num              1.00\n",
       "PacketsSent            0.40\n",
       "PacketsSent0           0.37\n",
       "PacketsReceived_log    0.32\n",
       "KBytesReceived_log     0.32\n",
       "                       ... \n",
       "BytesSent25           -0.01\n",
       "PacketsReceived2       0.01\n",
       "BytesReceived2         0.01\n",
       "PacketsSent6          -0.01\n",
       "Length                -0.00\n",
       "Name: label_num, Length: 64, dtype: float64"
      ]
     },
     "execution_count": 53,
     "metadata": {
      "tags": []
     },
     "output_type": "execute_result"
    }
   ],
   "source": [
    "feature_engineering.get_features_correlated_to_target(\n",
    "                    df_train[cols_1+['label_num']], 'label_num')"
   ]
  },
  {
   "cell_type": "code",
   "execution_count": 0,
   "metadata": {
    "colab": {},
    "colab_type": "code",
    "id": "Cxh-_MHwZah_"
   },
   "outputs": [],
   "source": [
    "to_preserve = ['PacketsSent','PacketsSent0','PacketsReceived_log',\n",
    "               'PacketsSent_log'\n",
    "]\n",
    "\n",
    "cols_2 = []\n",
    "for feat in cols_1:\n",
    "    if 'Packets' not in feat:\n",
    "        cols_2.append(feat)\n",
    "        \n",
    "cols_2 = cols_2 + to_preserve"
   ]
  },
  {
   "cell_type": "code",
   "execution_count": 55,
   "metadata": {
    "colab": {
     "base_uri": "https://localhost:8080/",
     "height": 1000
    },
    "colab_type": "code",
    "id": "mjpl7M_MZaiB",
    "outputId": "7b0e072e-93b4-423f-fb97-afb389913586"
   },
   "outputs": [
    {
     "name": "stdout",
     "output_type": "stream",
     "text": [
      "                            OLS Regression Results                            \n",
      "==============================================================================\n",
      "Dep. Variable:                      y   R-squared:                       0.538\n",
      "Model:                            OLS   Adj. R-squared:                  0.425\n",
      "Method:                 Least Squares   F-statistic:                     4.747\n",
      "Date:                Tue, 03 Mar 2020   Prob (F-statistic):           6.44e-13\n",
      "Time:                        13:48:21   Log-Likelihood:                -1371.3\n",
      "No. Observations:                 204   AIC:                             2825.\n",
      "Df Residuals:                     163   BIC:                             2961.\n",
      "Df Model:                          40                                         \n",
      "Covariance Type:            nonrobust                                         \n",
      "=======================================================================================\n",
      "                          coef    std err          t      P>|t|      [0.025      0.975]\n",
      "---------------------------------------------------------------------------------------\n",
      "intercept             525.5257    311.281      1.688      0.093     -89.137    1140.188\n",
      "RelativeTime            2.7719      1.553      1.784      0.076      -0.295       5.839\n",
      "BytesSent               0.3905      0.267      1.463      0.146      -0.137       0.918\n",
      "BytesSent0             -0.5567      0.275     -2.027      0.044      -1.099      -0.014\n",
      "BytesReceived0         -0.4381      0.767     -0.571      0.569      -1.953       1.077\n",
      "BytesSent1             -0.6751      0.272     -2.479      0.014      -1.213      -0.137\n",
      "BytesReceived1         -0.4366      0.767     -0.569      0.570      -1.952       1.078\n",
      "BytesSent2             -0.4924      0.270     -1.822      0.070      -1.026       0.041\n",
      "BytesReceived2         -0.4471      0.767     -0.583      0.561      -1.961       1.067\n",
      "BytesSent3             -0.5534      0.282     -1.960      0.052      -1.111       0.004\n",
      "BytesReceived3         -0.4449      0.767     -0.580      0.563      -1.959       1.069\n",
      "BytesSent4             -0.6938      0.335     -2.070      0.040      -1.356      -0.032\n",
      "BytesReceived4         -0.4399      0.767     -0.573      0.567      -1.955       1.075\n",
      "BytesSent5             -0.5084      0.302     -1.684      0.094      -1.105       0.088\n",
      "BytesReceived5         -0.8353      0.788     -1.060      0.291      -2.391       0.720\n",
      "BytesSent6             -0.7433      0.458     -1.622      0.107      -1.648       0.161\n",
      "BytesReceived6          0.1271      1.031      0.123      0.902      -1.909       2.163\n",
      "BytesSent7             -0.6244      0.447     -1.396      0.165      -1.508       0.259\n",
      "BytesReceived7         -0.5511      0.780     -0.706      0.481      -2.092       0.990\n",
      "BytesSent8              0.5867      0.818      0.717      0.474      -1.029       2.202\n",
      "BytesReceived8         -0.9049      0.849     -1.065      0.288      -2.582       0.773\n",
      "BytesSent9              1.0961      0.975      1.125      0.262      -0.828       3.020\n",
      "BytesReceived9         -0.6639      0.794     -0.836      0.404      -2.232       0.904\n",
      "BytesSent12             5.8529      3.292      1.778      0.077      -0.647      12.353\n",
      "BytesReceived12       -20.6651     10.900     -1.896      0.060     -42.188       0.858\n",
      "BytesSent13            -0.7787      0.703     -1.107      0.270      -2.167       0.610\n",
      "BytesReceived13        -0.4825      0.852     -0.566      0.572      -2.166       1.201\n",
      "BytesSent15            -0.9049      0.693     -1.307      0.193      -2.273       0.463\n",
      "BytesReceived15        -0.2987      4.059     -0.074      0.941      -8.315       7.717\n",
      "BytesSent25            -0.6141      0.354     -1.732      0.085      -1.314       0.086\n",
      "BytesReceived25        -0.4371      0.767     -0.570      0.570      -1.952       1.078\n",
      "PlaybackProgress    -2352.4879   1595.523     -1.474      0.142   -5503.046     798.070\n",
      "Length                 -0.0752      0.201     -0.374      0.709      -0.473       0.322\n",
      "BufferHealth            0.2490     31.129      0.008      0.994     -61.219      61.717\n",
      "KBytesReceived        436.9129    767.095      0.570      0.570   -1077.812    1951.638\n",
      "KBytesReceived_log    -18.4679    247.667     -0.075      0.941    -507.518     470.582\n",
      "BytesSent_log        -125.6596     46.912     -2.679      0.008    -218.293     -33.026\n",
      "BufferProgress_log   3111.0583    2.2e+04      0.142      0.888   -4.03e+04    4.65e+04\n",
      "PacketsSent            21.2698     14.198      1.498      0.136      -6.766      49.305\n",
      "PacketsSent0           -7.5235     15.129     -0.497      0.620     -37.398      22.351\n",
      "PacketsReceived_log    73.8615    273.979      0.270      0.788    -467.144     614.866\n",
      "PacketsSent_log       343.7151    105.603      3.255      0.001     135.190     552.240\n",
      "==============================================================================\n",
      "Omnibus:                        0.530   Durbin-Watson:                   1.973\n",
      "Prob(Omnibus):                  0.767   Jarque-Bera (JB):                0.605\n",
      "Skew:                           0.118   Prob(JB):                        0.739\n",
      "Kurtosis:                       2.876   Cond. No.                     1.34e+16\n",
      "==============================================================================\n",
      "\n",
      "Warnings:\n",
      "[1] Standard Errors assume that the covariance matrix of the errors is correctly specified.\n",
      "[2] The smallest eigenvalue is 6.92e-21. This might indicate that there are\n",
      "strong multicollinearity problems or that the design matrix is singular.\n"
     ]
    }
   ],
   "source": [
    "X_train = df_train[cols_2].values\n",
    "X_test = df_test[cols_2].values\n",
    "model = AndreaLinearRegression()\n",
    "model.fit(X_train, y_train, column_names=cols_2)\n",
    "model.summary()"
   ]
  },
  {
   "cell_type": "markdown",
   "metadata": {
    "colab_type": "text",
    "id": "-icK5AaTZaiE"
   },
   "source": [
    "The significance of some features is reinforced, but in general significance is weak."
   ]
  },
  {
   "cell_type": "code",
   "execution_count": 56,
   "metadata": {
    "colab": {
     "base_uri": "https://localhost:8080/",
     "height": 35
    },
    "colab_type": "code",
    "id": "JMOdDU0OZaiE",
    "outputId": "116241d6-0efb-4b70-e1e6-553e928f4558"
   },
   "outputs": [
    {
     "name": "stdout",
     "output_type": "stream",
     "text": [
      "RMSE:  6714.577335487809 ; RMSE with one feature:  273.8960512946408\n"
     ]
    }
   ],
   "source": [
    "y_pred = model.predict(X_test)\n",
    "RMSE = math.sqrt(mean_squared_error(y_test, y_pred))\n",
    "print('RMSE: ', RMSE, '; RMSE with one feature: ',\n",
    "      RMSE_one_feature)"
   ]
  },
  {
   "cell_type": "markdown",
   "metadata": {
    "colab_type": "text",
    "id": "14X2Y8rLZaiH"
   },
   "source": [
    "Performance is still bad. Let's remove other highly correlated features."
   ]
  },
  {
   "cell_type": "code",
   "execution_count": 57,
   "metadata": {
    "colab": {
     "base_uri": "https://localhost:8080/",
     "height": 237
    },
    "colab_type": "code",
    "id": "Gp0wHSjaZaiI",
    "outputId": "ebe11f6e-2f07-4f68-b682-293265e7fae6"
   },
   "outputs": [
    {
     "data": {
      "text/plain": [
       "BytesSent13         BytesReceived13        0.989\n",
       "BytesSent12         BytesReceived12        0.988\n",
       "KBytesReceived_log  PacketsReceived_log    0.987\n",
       "BytesSent8          BytesReceived8         0.985\n",
       "BytesSent0          PacketsSent0           0.975\n",
       "                                           ...  \n",
       "BytesReceived15     BytesSent_log         -0.000\n",
       "                    BufferHealth          -0.000\n",
       "BytesReceived5      PacketsSent_log        0.000\n",
       "BytesReceived6      BytesSent25            0.000\n",
       "BytesReceived0      BytesSent6            -0.000\n",
       "Length: 820, dtype: float64"
      ]
     },
     "execution_count": 57,
     "metadata": {
      "tags": []
     },
     "output_type": "execute_result"
    }
   ],
   "source": [
    "most_corr_feats = \\\n",
    "    feature_engineering.get_most_correlated(df_train[cols_2])\n",
    "most_corr_feats"
   ]
  },
  {
   "cell_type": "code",
   "execution_count": 58,
   "metadata": {
    "colab": {
     "base_uri": "https://localhost:8080/",
     "height": 35
    },
    "colab_type": "code",
    "id": "pA0iOdTeZaiL",
    "outputId": "38e1ef34-7786-403c-ccd9-2d19bb3b5e5f"
   },
   "outputs": [
    {
     "name": "stdout",
     "output_type": "stream",
     "text": [
      "RMSE:  252.00084651697878 ; RMSE with one feature:  273.8960512946408\n"
     ]
    }
   ],
   "source": [
    "to_remove = ['BytesReceived13','BytesReceived12','PacketsReceived_log',\n",
    "             'BytesReceived8','PacketsSent0','PacketsSent',\n",
    "             'BufferProgress_log','BytesReceived15','BytesReceived1',\n",
    "             'PacketsSent_log','PacketsSent', 'KBytesReceived'\n",
    "            ]\n",
    "\n",
    "cols_3 = []\n",
    "for feat in cols_2:\n",
    "    if feat not in to_remove:\n",
    "        cols_3.append(feat)\n",
    "        \n",
    "X_train = df_train[cols_3].values\n",
    "X_test = df_test[cols_3].values\n",
    "model = AndreaLinearRegression()\n",
    "model.fit(X_train, y_train)\n",
    "\n",
    "y_pred = model.predict(X_test)\n",
    "RMSE = math.sqrt(mean_squared_error(y_test, y_pred))\n",
    "print('RMSE: ', RMSE, '; RMSE with one feature: ',\n",
    "      RMSE_one_feature)"
   ]
  },
  {
   "cell_type": "markdown",
   "metadata": {
    "colab_type": "text",
    "id": "aSZ1_Df1ZaiO"
   },
   "source": [
    "We finally have a model that seems better than the initial univariate one!"
   ]
  },
  {
   "cell_type": "markdown",
   "metadata": {
    "colab_type": "text",
    "id": "1_VuwwSkZaiO"
   },
   "source": [
    "# Cross-validation"
   ]
  },
  {
   "cell_type": "markdown",
   "metadata": {
    "colab_type": "text",
    "id": "boUcestCZaiP"
   },
   "source": [
    "Are we sure the model with these 3 features is the best? Or the good results just depend on the training/test set split?"
   ]
  },
  {
   "cell_type": "code",
   "execution_count": 59,
   "metadata": {
    "colab": {
     "base_uri": "https://localhost:8080/",
     "height": 54
    },
    "colab_type": "code",
    "id": "xFycwXnoZaiQ",
    "outputId": "f6788db7-199d-47a1-e207-5164a1e16ed0",
    "scrolled": true
   },
   "outputs": [
    {
     "data": {
      "text/plain": [
       "array([-175867.83786347,  -56056.92564973, -115670.09288593,\n",
       "       -441516.67482338, -412723.78175341])"
      ]
     },
     "execution_count": 59,
     "metadata": {
      "tags": []
     },
     "output_type": "execute_result"
    }
   ],
   "source": [
    "X = df[cols_3].values\n",
    "y = df['label_num'].values\n",
    "\n",
    "\n",
    "k_fold = KFold(n_splits=5, shuffle=True, random_state=6)\n",
    "scores = cross_val_score(AndreaLinearRegression(),\n",
    "                X, y, cv=k_fold,\n",
    "                scoring='neg_mean_squared_error')\n",
    "scores"
   ]
  },
  {
   "cell_type": "code",
   "execution_count": 60,
   "metadata": {
    "colab": {
     "base_uri": "https://localhost:8080/",
     "height": 54
    },
    "colab_type": "code",
    "id": "8wgPEFnAZaiT",
    "outputId": "16811b7e-3d22-45e4-b153-7400f95b4cfd"
   },
   "outputs": [
    {
     "data": {
      "text/plain": [
       "array([175867.83786347,  56056.92564973, 115670.09288593, 441516.67482338,\n",
       "       412723.78175341])"
      ]
     },
     "execution_count": 60,
     "metadata": {
      "tags": []
     },
     "output_type": "execute_result"
    }
   ],
   "source": [
    "mse_vector = -scores\n",
    "mse_vector"
   ]
  },
  {
   "cell_type": "code",
   "execution_count": 61,
   "metadata": {
    "colab": {
     "base_uri": "https://localhost:8080/",
     "height": 35
    },
    "colab_type": "code",
    "id": "cWcr7wm1ZaiV",
    "outputId": "e6452c72-7351-4c13-a688-8fa12be52fcd"
   },
   "outputs": [
    {
     "data": {
      "text/plain": [
       "240367.0625951853"
      ]
     },
     "execution_count": 61,
     "metadata": {
      "tags": []
     },
     "output_type": "execute_result"
    }
   ],
   "source": [
    "avg_mse = mean(mse_vector)\n",
    "avg_mse"
   ]
  },
  {
   "cell_type": "code",
   "execution_count": 62,
   "metadata": {
    "colab": {
     "base_uri": "https://localhost:8080/",
     "height": 35
    },
    "colab_type": "code",
    "id": "TSIs1DqAZaiX",
    "outputId": "43f9e824-9b1e-4ee6-b27e-450bf14a3944",
    "scrolled": true
   },
   "outputs": [
    {
     "data": {
      "text/plain": [
       "490.27243711551364"
      ]
     },
     "execution_count": 62,
     "metadata": {
      "tags": []
     },
     "output_type": "execute_result"
    }
   ],
   "source": [
    "math.sqrt(avg_mse)"
   ]
  },
  {
   "cell_type": "markdown",
   "metadata": {
    "colab_type": "text",
    "id": "c6_W2Fj2Zaia"
   },
   "source": [
    "Let's try with one feature only"
   ]
  },
  {
   "cell_type": "code",
   "execution_count": 63,
   "metadata": {
    "colab": {
     "base_uri": "https://localhost:8080/",
     "height": 35
    },
    "colab_type": "code",
    "id": "Tn1lase_Zaia",
    "outputId": "299d20b3-6be8-4f1b-b6c2-012389171631"
   },
   "outputs": [
    {
     "data": {
      "text/plain": [
       "278.0436795473229"
      ]
     },
     "execution_count": 63,
     "metadata": {
      "tags": []
     },
     "output_type": "execute_result"
    }
   ],
   "source": [
    "X = df['KBytesReceived_log'].values.reshape(-1,1)\n",
    "\n",
    "\n",
    "\n",
    "scores = cross_val_score(AndreaLinearRegression(),\n",
    "                X, y, cv=k_fold,\n",
    "                scoring='neg_mean_squared_error')\n",
    "math.sqrt( mean(-scores) )"
   ]
  },
  {
   "cell_type": "markdown",
   "metadata": {
    "colab_type": "text",
    "id": "vvse9GEBZaid"
   },
   "source": [
    "Cross validation tells us that the univariate model is actually the best"
   ]
  },
  {
   "cell_type": "markdown",
   "metadata": {
    "colab_type": "text",
    "id": "4C-tpJ7-Zaie"
   },
   "source": [
    "# Not important\n",
    "\n",
    "We store `cols_3` as it will be used in another notebook. \n",
    "\n",
    "`pickle` allows to serialize any python object to the hard disk."
   ]
  },
  {
   "cell_type": "code",
   "execution_count": 0,
   "metadata": {
    "colab": {},
    "colab_type": "code",
    "id": "xdWb3P0WZaie"
   },
   "outputs": [],
   "source": [
    "filename = 'cols_3.pkl'\n",
    "outfile = open(filename,'wb')\n",
    "pickle.dump(cols_3,outfile)\n",
    "outfile.close()"
   ]
  },
  {
   "cell_type": "code",
   "execution_count": 0,
   "metadata": {
    "colab": {},
    "colab_type": "code",
    "id": "yIa2454qZaig"
   },
   "outputs": [],
   "source": []
  }
 ],
 "metadata": {
  "colab": {
   "name": "a.regression.ipynb",
   "provenance": []
  },
  "kernelspec": {
   "display_name": "Python 3",
   "language": "python",
   "name": "python3"
  },
  "language_info": {
   "codemirror_mode": {
    "name": "ipython",
    "version": 3
   },
   "file_extension": ".py",
   "mimetype": "text/x-python",
   "name": "python",
   "nbconvert_exporter": "python",
   "pygments_lexer": "ipython3",
   "version": "3.6.8"
  }
 },
 "nbformat": 4,
 "nbformat_minor": 1
}
