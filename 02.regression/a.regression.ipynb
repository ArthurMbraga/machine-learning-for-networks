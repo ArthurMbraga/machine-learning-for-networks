{
  "nbformat": 4,
  "nbformat_minor": 0,
  "metadata": {
    "kernelspec": {
      "display_name": "Python 3",
      "language": "python",
      "name": "python3"
    },
    "language_info": {
      "codemirror_mode": {
        "name": "ipython",
        "version": 3
      },
      "file_extension": ".py",
      "mimetype": "text/x-python",
      "name": "python",
      "nbconvert_exporter": "python",
      "pygments_lexer": "ipython3",
      "version": "3.6.8"
    },
    "colab": {
      "name": "a.regression.ipynb",
      "provenance": []
    }
  },
  "cells": [
    {
      "cell_type": "code",
      "metadata": {
        "id": "TRNYr5HIZadw",
        "colab_type": "code",
        "colab": {
          "base_uri": "https://localhost:8080/",
          "height": 358
        },
        "outputId": "ae23b648-019b-4821-dc45-b536f04a441d"
      },
      "source": [
        "import pandas as pd # For dataframes (tables)\n",
        "import numpy as np # For arange\n",
        "import matplotlib.pyplot as plt # For plots\n",
        "%matplotlib inline\n",
        "from sklearn.model_selection import train_test_split\n",
        "from sklearn.metrics import mean_squared_error\n",
        "import math # for sqrt\n",
        "from sklearn.model_selection import cross_val_score, KFold\n",
        "import pickle # to serialize/deserialize objects\n",
        "\n",
        "from statistics import mean\n",
        "\n",
        "# We will use a library that I created for you\n",
        "import os # To import external python files\n",
        "import sys# To import external python files\n",
        "sys.path.insert(0,os.path.abspath('../../course_library') ) # Replace this\n",
        "                                                            # with the correct\n",
        "                                                            # path\n",
        "\n",
        "\n",
        "\n",
        "from andrea_models import AndreaLinearRegression # In the course library"
      ],
      "execution_count": 1,
      "outputs": [
        {
          "output_type": "error",
          "ename": "ModuleNotFoundError",
          "evalue": "ignored",
          "traceback": [
            "\u001b[0;31m---------------------------------------------------------------------------\u001b[0m",
            "\u001b[0;31mModuleNotFoundError\u001b[0m                       Traceback (most recent call last)",
            "\u001b[0;32m<ipython-input-1-7cf39df6fd1f>\u001b[0m in \u001b[0;36m<module>\u001b[0;34m()\u001b[0m\n\u001b[1;32m     17\u001b[0m                                                             \u001b[0;31m# with the correct\u001b[0m\u001b[0;34m\u001b[0m\u001b[0;34m\u001b[0m\u001b[0;34m\u001b[0m\u001b[0m\n\u001b[1;32m     18\u001b[0m                                                             \u001b[0;31m# path\u001b[0m\u001b[0;34m\u001b[0m\u001b[0;34m\u001b[0m\u001b[0;34m\u001b[0m\u001b[0m\n\u001b[0;32m---> 19\u001b[0;31m \u001b[0;32mfrom\u001b[0m \u001b[0mandrea_models\u001b[0m \u001b[0;32mimport\u001b[0m \u001b[0mAndreaLinearRegression\u001b[0m \u001b[0;31m# In the course library\u001b[0m\u001b[0;34m\u001b[0m\u001b[0;34m\u001b[0m\u001b[0m\n\u001b[0m",
            "\u001b[0;31mModuleNotFoundError\u001b[0m: No module named 'andrea_models'",
            "",
            "\u001b[0;31m---------------------------------------------------------------------------\u001b[0;32m\nNOTE: If your import is failing due to a missing package, you can\nmanually install dependencies using either !pip or !apt.\n\nTo view examples of installing some common dependencies, click the\n\"Open Examples\" button below.\n\u001b[0;31m---------------------------------------------------------------------------\u001b[0m\n"
          ]
        }
      ]
    },
    {
      "cell_type": "markdown",
      "metadata": {
        "id": "Y_R5L20uZad9",
        "colab_type": "text"
      },
      "source": [
        "[![Open In Colab](https://colab.research.google.com/assets/colab-badge.svg)](https://colab.research.google.com/github/andreaaraldo/machine-learning-for-networks/blob/master/02.regression/a.regression.ipynb)"
      ]
    },
    {
      "cell_type": "code",
      "metadata": {
        "id": "ur2YR7XIZaeD",
        "colab_type": "code",
        "colab": {}
      },
      "source": [
        "dataset_to_use = 'A'\n",
        "mydatasets_folder = \"https://raw.githubusercontent.com/andreaaraldo/machine-learning-for-networks/master/processed_datasets/requet/\"\n",
        "filename = \"df.\"+ dataset_to_use+\"_2.csv\"\n",
        "!wget(mydatasets_folder+\"/\"+filename)\n",
        "df = pd.read_csv(filename)"
      ],
      "execution_count": 0,
      "outputs": []
    },
    {
      "cell_type": "code",
      "metadata": {
        "scrolled": true,
        "id": "HDETEnsOZaeM",
        "colab_type": "code",
        "colab": {},
        "outputId": "80c23308-825e-4d71-a71f-63558648ca04"
      },
      "source": [
        "df.head()"
      ],
      "execution_count": 0,
      "outputs": [
        {
          "output_type": "execute_result",
          "data": {
            "text/html": [
              "<div>\n",
              "<style scoped>\n",
              "    .dataframe tbody tr th:only-of-type {\n",
              "        vertical-align: middle;\n",
              "    }\n",
              "\n",
              "    .dataframe tbody tr th {\n",
              "        vertical-align: top;\n",
              "    }\n",
              "\n",
              "    .dataframe thead th {\n",
              "        text-align: right;\n",
              "    }\n",
              "</style>\n",
              "<table border=\"1\" class=\"dataframe\">\n",
              "  <thead>\n",
              "    <tr style=\"text-align: right;\">\n",
              "      <th></th>\n",
              "      <th>RelativeTime</th>\n",
              "      <th>PacketsSent</th>\n",
              "      <th>PacketsReceived</th>\n",
              "      <th>BytesSent</th>\n",
              "      <th>BytesReceived</th>\n",
              "      <th>IPSrc0</th>\n",
              "      <th>IPDst0</th>\n",
              "      <th>Protocol0</th>\n",
              "      <th>PacketsSent0</th>\n",
              "      <th>PacketsReceived0</th>\n",
              "      <th>...</th>\n",
              "      <th>BufferValid</th>\n",
              "      <th>KBytesReceived</th>\n",
              "      <th>label</th>\n",
              "      <th>label_num</th>\n",
              "      <th>KBytesReceived_log</th>\n",
              "      <th>PacketsSent_log</th>\n",
              "      <th>PacketsReceived_log</th>\n",
              "      <th>BytesSent_log</th>\n",
              "      <th>BytesReceived_log</th>\n",
              "      <th>BufferProgress_log</th>\n",
              "    </tr>\n",
              "  </thead>\n",
              "  <tbody>\n",
              "    <tr>\n",
              "      <th>0</th>\n",
              "      <td>6.1</td>\n",
              "      <td>29</td>\n",
              "      <td>57</td>\n",
              "      <td>2372</td>\n",
              "      <td>79344</td>\n",
              "      <td>192.168.1.190</td>\n",
              "      <td>173.194.55.23</td>\n",
              "      <td>QUIC</td>\n",
              "      <td>29</td>\n",
              "      <td>57</td>\n",
              "      <td>...</td>\n",
              "      <td>True</td>\n",
              "      <td>79.344</td>\n",
              "      <td>q480p</td>\n",
              "      <td>480</td>\n",
              "      <td>4.373793</td>\n",
              "      <td>3.401197</td>\n",
              "      <td>4.060443</td>\n",
              "      <td>7.771910</td>\n",
              "      <td>11.281561</td>\n",
              "      <td>0.005164</td>\n",
              "    </tr>\n",
              "    <tr>\n",
              "      <th>1</th>\n",
              "      <td>5.8</td>\n",
              "      <td>7</td>\n",
              "      <td>39</td>\n",
              "      <td>625</td>\n",
              "      <td>52973</td>\n",
              "      <td>192.168.1.190</td>\n",
              "      <td>74.125.155.199</td>\n",
              "      <td>QUIC</td>\n",
              "      <td>4</td>\n",
              "      <td>36</td>\n",
              "      <td>...</td>\n",
              "      <td>True</td>\n",
              "      <td>52.973</td>\n",
              "      <td>q360p</td>\n",
              "      <td>360</td>\n",
              "      <td>3.969782</td>\n",
              "      <td>2.079442</td>\n",
              "      <td>3.688879</td>\n",
              "      <td>6.439350</td>\n",
              "      <td>10.877557</td>\n",
              "      <td>0.004833</td>\n",
              "    </tr>\n",
              "    <tr>\n",
              "      <th>2</th>\n",
              "      <td>7.3</td>\n",
              "      <td>16</td>\n",
              "      <td>23</td>\n",
              "      <td>1056</td>\n",
              "      <td>34178</td>\n",
              "      <td>192.168.1.190</td>\n",
              "      <td>74.125.155.201</td>\n",
              "      <td>TCP</td>\n",
              "      <td>16</td>\n",
              "      <td>23</td>\n",
              "      <td>...</td>\n",
              "      <td>True</td>\n",
              "      <td>34.178</td>\n",
              "      <td>q720p</td>\n",
              "      <td>720</td>\n",
              "      <td>3.531582</td>\n",
              "      <td>2.833213</td>\n",
              "      <td>3.178054</td>\n",
              "      <td>6.963190</td>\n",
              "      <td>10.439367</td>\n",
              "      <td>0.005473</td>\n",
              "    </tr>\n",
              "    <tr>\n",
              "      <th>3</th>\n",
              "      <td>39.2</td>\n",
              "      <td>14</td>\n",
              "      <td>29</td>\n",
              "      <td>3377</td>\n",
              "      <td>36821</td>\n",
              "      <td>192.168.1.190</td>\n",
              "      <td>172.217.135.40</td>\n",
              "      <td>0</td>\n",
              "      <td>0</td>\n",
              "      <td>0</td>\n",
              "      <td>...</td>\n",
              "      <td>True</td>\n",
              "      <td>36.821</td>\n",
              "      <td>q144p</td>\n",
              "      <td>144</td>\n",
              "      <td>3.606068</td>\n",
              "      <td>2.708050</td>\n",
              "      <td>3.401197</td>\n",
              "      <td>8.125039</td>\n",
              "      <td>10.513851</td>\n",
              "      <td>0.009268</td>\n",
              "    </tr>\n",
              "    <tr>\n",
              "      <th>4</th>\n",
              "      <td>4.6</td>\n",
              "      <td>9</td>\n",
              "      <td>77</td>\n",
              "      <td>900</td>\n",
              "      <td>104389</td>\n",
              "      <td>192.168.1.190</td>\n",
              "      <td>173.194.184.103</td>\n",
              "      <td>QUIC</td>\n",
              "      <td>9</td>\n",
              "      <td>77</td>\n",
              "      <td>...</td>\n",
              "      <td>True</td>\n",
              "      <td>104.389</td>\n",
              "      <td>q360p</td>\n",
              "      <td>360</td>\n",
              "      <td>4.648124</td>\n",
              "      <td>2.302585</td>\n",
              "      <td>4.356709</td>\n",
              "      <td>6.803505</td>\n",
              "      <td>11.555889</td>\n",
              "      <td>0.006599</td>\n",
              "    </tr>\n",
              "  </tbody>\n",
              "</table>\n",
              "<p>5 rows × 207 columns</p>\n",
              "</div>"
            ],
            "text/plain": [
              "   RelativeTime  PacketsSent  PacketsReceived  BytesSent  BytesReceived  \\\n",
              "0           6.1           29               57       2372          79344   \n",
              "1           5.8            7               39        625          52973   \n",
              "2           7.3           16               23       1056          34178   \n",
              "3          39.2           14               29       3377          36821   \n",
              "4           4.6            9               77        900         104389   \n",
              "\n",
              "           IPSrc0           IPDst0 Protocol0  PacketsSent0  PacketsReceived0  \\\n",
              "0   192.168.1.190    173.194.55.23      QUIC            29                57   \n",
              "1   192.168.1.190   74.125.155.199      QUIC             4                36   \n",
              "2   192.168.1.190   74.125.155.201       TCP            16                23   \n",
              "3   192.168.1.190   172.217.135.40         0             0                 0   \n",
              "4   192.168.1.190  173.194.184.103      QUIC             9                77   \n",
              "\n",
              "         ...          BufferValid  KBytesReceived  label label_num  \\\n",
              "0        ...                 True          79.344  q480p       480   \n",
              "1        ...                 True          52.973  q360p       360   \n",
              "2        ...                 True          34.178  q720p       720   \n",
              "3        ...                 True          36.821  q144p       144   \n",
              "4        ...                 True         104.389  q360p       360   \n",
              "\n",
              "  KBytesReceived_log  PacketsSent_log  PacketsReceived_log  BytesSent_log  \\\n",
              "0           4.373793         3.401197             4.060443       7.771910   \n",
              "1           3.969782         2.079442             3.688879       6.439350   \n",
              "2           3.531582         2.833213             3.178054       6.963190   \n",
              "3           3.606068         2.708050             3.401197       8.125039   \n",
              "4           4.648124         2.302585             4.356709       6.803505   \n",
              "\n",
              "   BytesReceived_log BufferProgress_log  \n",
              "0          11.281561           0.005164  \n",
              "1          10.877557           0.004833  \n",
              "2          10.439367           0.005473  \n",
              "3          10.513851           0.009268  \n",
              "4          11.555889           0.006599  \n",
              "\n",
              "[5 rows x 207 columns]"
            ]
          },
          "metadata": {
            "tags": []
          },
          "execution_count": 117
        }
      ]
    },
    {
      "cell_type": "code",
      "metadata": {
        "scrolled": false,
        "id": "tWOsCMFiZaeT",
        "colab_type": "code",
        "colab": {},
        "outputId": "86cc8d25-ebea-404a-9447-39aff58452b7"
      },
      "source": [
        "df.info(verbose=True)"
      ],
      "execution_count": 0,
      "outputs": [
        {
          "output_type": "stream",
          "text": [
            "<class 'pandas.core.frame.DataFrame'>\n",
            "RangeIndex: 292 entries, 0 to 291\n",
            "Data columns (total 207 columns):\n",
            "RelativeTime           float64\n",
            "PacketsSent            int64\n",
            "PacketsReceived        int64\n",
            "BytesSent              int64\n",
            "BytesReceived          int64\n",
            "IPSrc0                 object\n",
            "IPDst0                 object\n",
            "Protocol0              object\n",
            "PacketsSent0           int64\n",
            "PacketsReceived0       int64\n",
            "BytesSent0             int64\n",
            "BytesReceived0         int64\n",
            "IPSrc1                 object\n",
            "IPDst1                 object\n",
            "Protocol1              object\n",
            "PacketsSent1           int64\n",
            "PacketsReceived1       int64\n",
            "BytesSent1             int64\n",
            "BytesReceived1         int64\n",
            "IPSrc2                 object\n",
            "IPDst2                 object\n",
            "Protocol2              object\n",
            "PacketsSent2           int64\n",
            "PacketsReceived2       int64\n",
            "BytesSent2             int64\n",
            "BytesReceived2         int64\n",
            "IPSrc3                 object\n",
            "IPDst3                 object\n",
            "Protocol3              object\n",
            "PacketsSent3           int64\n",
            "PacketsReceived3       int64\n",
            "BytesSent3             int64\n",
            "BytesReceived3         int64\n",
            "IPSrc4                 object\n",
            "IPDst4                 object\n",
            "Protocol4              object\n",
            "PacketsSent4           int64\n",
            "PacketsReceived4       int64\n",
            "BytesSent4             int64\n",
            "BytesReceived4         int64\n",
            "IPSrc5                 object\n",
            "IPDst5                 object\n",
            "Protocol5              object\n",
            "PacketsSent5           int64\n",
            "PacketsReceived5       int64\n",
            "BytesSent5             int64\n",
            "BytesReceived5         int64\n",
            "IPSrc6                 object\n",
            "IPDst6                 object\n",
            "Protocol6              object\n",
            "PacketsSent6           int64\n",
            "PacketsReceived6       int64\n",
            "BytesSent6             int64\n",
            "BytesReceived6         int64\n",
            "IPSrc7                 object\n",
            "IPDst7                 object\n",
            "Protocol7              object\n",
            "PacketsSent7           int64\n",
            "PacketsReceived7       int64\n",
            "BytesSent7             int64\n",
            "BytesReceived7         int64\n",
            "IPSrc8                 object\n",
            "IPDst8                 object\n",
            "Protocol8              object\n",
            "PacketsSent8           int64\n",
            "PacketsReceived8       int64\n",
            "BytesSent8             int64\n",
            "BytesReceived8         int64\n",
            "IPSrc9                 object\n",
            "IPDst9                 object\n",
            "Protocol9              object\n",
            "PacketsSent9           int64\n",
            "PacketsReceived9       int64\n",
            "BytesSent9             int64\n",
            "BytesReceived9         int64\n",
            "IPSrc10                object\n",
            "IPDst10                object\n",
            "Protocol10             int64\n",
            "PacketsSent10          int64\n",
            "PacketsReceived10      int64\n",
            "BytesSent10            int64\n",
            "BytesReceived10        int64\n",
            "IPSrc11                object\n",
            "IPDst11                object\n",
            "Protocol11             int64\n",
            "PacketsSent11          int64\n",
            "PacketsReceived11      int64\n",
            "BytesSent11            int64\n",
            "BytesReceived11        int64\n",
            "IPSrc12                object\n",
            "IPDst12                object\n",
            "Protocol12             object\n",
            "PacketsSent12          int64\n",
            "PacketsReceived12      int64\n",
            "BytesSent12            int64\n",
            "BytesReceived12        int64\n",
            "IPSrc13                object\n",
            "IPDst13                object\n",
            "Protocol13             object\n",
            "PacketsSent13          int64\n",
            "PacketsReceived13      int64\n",
            "BytesSent13            int64\n",
            "BytesReceived13        int64\n",
            "IPSrc14                object\n",
            "IPDst14                object\n",
            "Protocol14             int64\n",
            "PacketsSent14          int64\n",
            "PacketsReceived14      int64\n",
            "BytesSent14            int64\n",
            "BytesReceived14        int64\n",
            "IPSrc15                object\n",
            "IPDst15                object\n",
            "Protocol15             object\n",
            "PacketsSent15          int64\n",
            "PacketsReceived15      int64\n",
            "BytesSent15            int64\n",
            "BytesReceived15        int64\n",
            "IPSrc16                object\n",
            "IPDst16                object\n",
            "Protocol16             int64\n",
            "PacketsSent16          int64\n",
            "PacketsReceived16      int64\n",
            "BytesSent16            int64\n",
            "BytesReceived16        int64\n",
            "IPSrc17                object\n",
            "IPDst17                object\n",
            "Protocol17             int64\n",
            "PacketsSent17          int64\n",
            "PacketsReceived17      int64\n",
            "BytesSent17            int64\n",
            "BytesReceived17        int64\n",
            "IPSrc18                object\n",
            "IPDst18                object\n",
            "Protocol18             int64\n",
            "PacketsSent18          int64\n",
            "PacketsReceived18      int64\n",
            "BytesSent18            int64\n",
            "BytesReceived18        int64\n",
            "IPSrc19                object\n",
            "IPDst19                object\n",
            "Protocol19             int64\n",
            "PacketsSent19          int64\n",
            "PacketsReceived19      int64\n",
            "BytesSent19            int64\n",
            "BytesReceived19        int64\n",
            "IPSrc20                object\n",
            "IPDst20                object\n",
            "Protocol20             int64\n",
            "PacketsSent20          int64\n",
            "PacketsReceived20      int64\n",
            "BytesSent20            int64\n",
            "BytesReceived20        int64\n",
            "IPSrc21                object\n",
            "IPDst21                object\n",
            "Protocol21             int64\n",
            "PacketsSent21          int64\n",
            "PacketsReceived21      int64\n",
            "BytesSent21            int64\n",
            "BytesReceived21        int64\n",
            "IPSrc22                object\n",
            "IPDst22                object\n",
            "Protocol22             int64\n",
            "PacketsSent22          int64\n",
            "PacketsReceived22      int64\n",
            "BytesSent22            int64\n",
            "BytesReceived22        int64\n",
            "IPSrc23                object\n",
            "IPDst23                object\n",
            "Protocol23             int64\n",
            "PacketsSent23          int64\n",
            "PacketsReceived23      int64\n",
            "BytesSent23            int64\n",
            "BytesReceived23        int64\n",
            "IPSrc24                object\n",
            "IPDst24                object\n",
            "Protocol24             int64\n",
            "PacketsSent24          int64\n",
            "PacketsReceived24      int64\n",
            "BytesSent24            int64\n",
            "BytesReceived24        int64\n",
            "IPSrc25                object\n",
            "IPDst25                object\n",
            "Protocol25             int64\n",
            "PacketsSent25          int64\n",
            "PacketsReceived25      int64\n",
            "BytesSent25            int64\n",
            "BytesReceived25        int64\n",
            "Buffering              int64\n",
            "Paused                 int64\n",
            "Playing                int64\n",
            "CollectData            int64\n",
            "EpochTime              int64\n",
            "StartTime              int64\n",
            "PlaybackProgress       float64\n",
            "Length                 float64\n",
            "BufferHealth           float64\n",
            "BufferProgress         float64\n",
            "BufferValid            bool\n",
            "KBytesReceived         float64\n",
            "label                  object\n",
            "label_num              int64\n",
            "KBytesReceived_log     float64\n",
            "PacketsSent_log        float64\n",
            "PacketsReceived_log    float64\n",
            "BytesSent_log          float64\n",
            "BytesReceived_log      float64\n",
            "BufferProgress_log     float64\n",
            "dtypes: bool(1), float64(12), int64(128), object(66)\n",
            "memory usage: 470.3+ KB\n"
          ],
          "name": "stdout"
        }
      ]
    },
    {
      "cell_type": "markdown",
      "metadata": {
        "id": "8POUiIfOZaec",
        "colab_type": "text"
      },
      "source": [
        "Let's study the dependency between `label` and `KBytesReceived`"
      ]
    },
    {
      "cell_type": "markdown",
      "metadata": {
        "id": "AYPMX09MZaee",
        "colab_type": "text"
      },
      "source": [
        "Let's first plot the data as they are, using a scatterplot.\n",
        "\n",
        "See [mathplotlib documentation](https://matplotlib.org/tutorials/introductory/lifecycle.html) for more info (optional)."
      ]
    },
    {
      "cell_type": "code",
      "metadata": {
        "id": "BCNcu9UbZaef",
        "colab_type": "code",
        "colab": {},
        "outputId": "5eb3c10f-060a-4314-99da-3699f3105d25"
      },
      "source": [
        "fig, ax = plt.subplots() # This creates just a canvas\n",
        "ax.scatter(df['KBytesReceived'],df['label_num'],color='red',\n",
        "           s=1, label='all samples') # ax is the actual figure\n",
        "\n",
        "# Customize the plot\n",
        "ax.set(xlim=[-100,1200], ylim=[-100,1200], ylabel=\"label_num\",\n",
        "      xlabel=\"KBytes received\")\n",
        "\n",
        "# Save it to the disk\n",
        "fig.savefig('img/scatter.pdf')"
      ],
      "execution_count": 0,
      "outputs": [
        {
          "output_type": "display_data",
          "data": {
            "image/png": "[encoded data removed]",
            "text/plain": [
              "<Figure size 432x288 with 1 Axes>"
            ]
          },
          "metadata": {
            "tags": [],
            "needs_background": "light"
          }
        }
      ]
    },
    {
      "cell_type": "code",
      "metadata": {
        "scrolled": false,
        "id": "9StTza7-Zael",
        "colab_type": "code",
        "colab": {},
        "outputId": "be865c45-e226-4398-b075-126c42284108"
      },
      "source": [
        "df_train, df_test = train_test_split(df, test_size=0.3)\n",
        "df_test.head()"
      ],
      "execution_count": 0,
      "outputs": [
        {
          "output_type": "execute_result",
          "data": {
            "text/html": [
              "<div>\n",
              "<style scoped>\n",
              "    .dataframe tbody tr th:only-of-type {\n",
              "        vertical-align: middle;\n",
              "    }\n",
              "\n",
              "    .dataframe tbody tr th {\n",
              "        vertical-align: top;\n",
              "    }\n",
              "\n",
              "    .dataframe thead th {\n",
              "        text-align: right;\n",
              "    }\n",
              "</style>\n",
              "<table border=\"1\" class=\"dataframe\">\n",
              "  <thead>\n",
              "    <tr style=\"text-align: right;\">\n",
              "      <th></th>\n",
              "      <th>RelativeTime</th>\n",
              "      <th>PacketsSent</th>\n",
              "      <th>PacketsReceived</th>\n",
              "      <th>BytesSent</th>\n",
              "      <th>BytesReceived</th>\n",
              "      <th>IPSrc0</th>\n",
              "      <th>IPDst0</th>\n",
              "      <th>Protocol0</th>\n",
              "      <th>PacketsSent0</th>\n",
              "      <th>PacketsReceived0</th>\n",
              "      <th>...</th>\n",
              "      <th>BufferValid</th>\n",
              "      <th>KBytesReceived</th>\n",
              "      <th>label</th>\n",
              "      <th>label_num</th>\n",
              "      <th>KBytesReceived_log</th>\n",
              "      <th>PacketsSent_log</th>\n",
              "      <th>PacketsReceived_log</th>\n",
              "      <th>BytesSent_log</th>\n",
              "      <th>BytesReceived_log</th>\n",
              "      <th>BufferProgress_log</th>\n",
              "    </tr>\n",
              "  </thead>\n",
              "  <tbody>\n",
              "    <tr>\n",
              "      <th>196</th>\n",
              "      <td>6.3</td>\n",
              "      <td>22</td>\n",
              "      <td>43</td>\n",
              "      <td>1792</td>\n",
              "      <td>59856</td>\n",
              "      <td>192.168.1.190</td>\n",
              "      <td>172.217.129.103</td>\n",
              "      <td>QUIC</td>\n",
              "      <td>22</td>\n",
              "      <td>43</td>\n",
              "      <td>...</td>\n",
              "      <td>True</td>\n",
              "      <td>59.856</td>\n",
              "      <td>q480p</td>\n",
              "      <td>480</td>\n",
              "      <td>4.091942</td>\n",
              "      <td>3.135494</td>\n",
              "      <td>3.784190</td>\n",
              "      <td>7.491645</td>\n",
              "      <td>10.999714</td>\n",
              "      <td>0.003879</td>\n",
              "    </tr>\n",
              "    <tr>\n",
              "      <th>93</th>\n",
              "      <td>7.0</td>\n",
              "      <td>24</td>\n",
              "      <td>61</td>\n",
              "      <td>3019</td>\n",
              "      <td>79808</td>\n",
              "      <td>192.168.1.190</td>\n",
              "      <td>74.125.155.203</td>\n",
              "      <td>QUIC</td>\n",
              "      <td>17</td>\n",
              "      <td>55</td>\n",
              "      <td>...</td>\n",
              "      <td>True</td>\n",
              "      <td>79.808</td>\n",
              "      <td>q480p</td>\n",
              "      <td>480</td>\n",
              "      <td>4.379624</td>\n",
              "      <td>3.218876</td>\n",
              "      <td>4.127134</td>\n",
              "      <td>8.013012</td>\n",
              "      <td>11.287392</td>\n",
              "      <td>0.007391</td>\n",
              "    </tr>\n",
              "    <tr>\n",
              "      <th>259</th>\n",
              "      <td>7.5</td>\n",
              "      <td>18</td>\n",
              "      <td>96</td>\n",
              "      <td>2246</td>\n",
              "      <td>132284</td>\n",
              "      <td>192.168.1.190</td>\n",
              "      <td>173.194.184.107</td>\n",
              "      <td>QUIC</td>\n",
              "      <td>18</td>\n",
              "      <td>96</td>\n",
              "      <td>...</td>\n",
              "      <td>True</td>\n",
              "      <td>132.284</td>\n",
              "      <td>q720p</td>\n",
              "      <td>720</td>\n",
              "      <td>4.884951</td>\n",
              "      <td>2.944439</td>\n",
              "      <td>4.574711</td>\n",
              "      <td>7.717351</td>\n",
              "      <td>11.792714</td>\n",
              "      <td>0.003653</td>\n",
              "    </tr>\n",
              "    <tr>\n",
              "      <th>127</th>\n",
              "      <td>8.2</td>\n",
              "      <td>18</td>\n",
              "      <td>24</td>\n",
              "      <td>1794</td>\n",
              "      <td>29471</td>\n",
              "      <td>192.168.1.190</td>\n",
              "      <td>173.194.55.11</td>\n",
              "      <td>QUIC</td>\n",
              "      <td>11</td>\n",
              "      <td>21</td>\n",
              "      <td>...</td>\n",
              "      <td>True</td>\n",
              "      <td>29.471</td>\n",
              "      <td>q720p</td>\n",
              "      <td>720</td>\n",
              "      <td>3.383407</td>\n",
              "      <td>2.944439</td>\n",
              "      <td>3.218876</td>\n",
              "      <td>7.492760</td>\n",
              "      <td>10.291196</td>\n",
              "      <td>0.010024</td>\n",
              "    </tr>\n",
              "    <tr>\n",
              "      <th>18</th>\n",
              "      <td>6.0</td>\n",
              "      <td>9</td>\n",
              "      <td>11</td>\n",
              "      <td>2472</td>\n",
              "      <td>14307</td>\n",
              "      <td>192.168.1.190</td>\n",
              "      <td>173.194.184.231</td>\n",
              "      <td>QUIC</td>\n",
              "      <td>5</td>\n",
              "      <td>10</td>\n",
              "      <td>...</td>\n",
              "      <td>True</td>\n",
              "      <td>14.307</td>\n",
              "      <td>q144p</td>\n",
              "      <td>144</td>\n",
              "      <td>2.660749</td>\n",
              "      <td>2.302585</td>\n",
              "      <td>2.484907</td>\n",
              "      <td>7.813187</td>\n",
              "      <td>9.568574</td>\n",
              "      <td>0.003879</td>\n",
              "    </tr>\n",
              "  </tbody>\n",
              "</table>\n",
              "<p>5 rows × 207 columns</p>\n",
              "</div>"
            ],
            "text/plain": [
              "     RelativeTime  PacketsSent  PacketsReceived  BytesSent  BytesReceived  \\\n",
              "196           6.3           22               43       1792          59856   \n",
              "93            7.0           24               61       3019          79808   \n",
              "259           7.5           18               96       2246         132284   \n",
              "127           8.2           18               24       1794          29471   \n",
              "18            6.0            9               11       2472          14307   \n",
              "\n",
              "             IPSrc0           IPDst0 Protocol0  PacketsSent0  \\\n",
              "196   192.168.1.190  172.217.129.103      QUIC            22   \n",
              "93    192.168.1.190   74.125.155.203      QUIC            17   \n",
              "259   192.168.1.190  173.194.184.107      QUIC            18   \n",
              "127   192.168.1.190    173.194.55.11      QUIC            11   \n",
              "18    192.168.1.190  173.194.184.231      QUIC             5   \n",
              "\n",
              "     PacketsReceived0        ...          BufferValid  KBytesReceived  label  \\\n",
              "196                43        ...                 True          59.856  q480p   \n",
              "93                 55        ...                 True          79.808  q480p   \n",
              "259                96        ...                 True         132.284  q720p   \n",
              "127                21        ...                 True          29.471  q720p   \n",
              "18                 10        ...                 True          14.307  q144p   \n",
              "\n",
              "    label_num KBytesReceived_log  PacketsSent_log  PacketsReceived_log  \\\n",
              "196       480           4.091942         3.135494             3.784190   \n",
              "93        480           4.379624         3.218876             4.127134   \n",
              "259       720           4.884951         2.944439             4.574711   \n",
              "127       720           3.383407         2.944439             3.218876   \n",
              "18        144           2.660749         2.302585             2.484907   \n",
              "\n",
              "     BytesSent_log  BytesReceived_log BufferProgress_log  \n",
              "196       7.491645          10.999714           0.003879  \n",
              "93        8.013012          11.287392           0.007391  \n",
              "259       7.717351          11.792714           0.003653  \n",
              "127       7.492760          10.291196           0.010024  \n",
              "18        7.813187           9.568574           0.003879  \n",
              "\n",
              "[5 rows x 207 columns]"
            ]
          },
          "metadata": {
            "tags": []
          },
          "execution_count": 120
        }
      ]
    },
    {
      "cell_type": "markdown",
      "metadata": {
        "id": "L87_ZI6FZaer",
        "colab_type": "text"
      },
      "source": [
        "Let's split the dataset in 80% training set, 20% test set."
      ]
    },
    {
      "cell_type": "markdown",
      "metadata": {
        "id": "D57IUuJ-Zaet",
        "colab_type": "text"
      },
      "source": [
        "Try to run the code above multiple times.\n",
        "\n",
        "What do you observe? Is it a problem? How do you solve it?"
      ]
    },
    {
      "cell_type": "markdown",
      "metadata": {
        "id": "vM7cN44RZaew",
        "colab_type": "text"
      },
      "source": [
        "To achieve reproducibility, set the seed"
      ]
    },
    {
      "cell_type": "code",
      "metadata": {
        "id": "Zst6Gz49Zaey",
        "colab_type": "code",
        "colab": {},
        "outputId": "fe2e7480-406e-4e14-c7ff-7ea8dd165f0e"
      },
      "source": [
        "df_train, df_test = train_test_split(df, test_size=0.3, random_state=19)\n",
        "df_test.head()\n",
        "\n",
        "print('Training samples ', df_train.shape[0], '; Test samples ', df_test.shape[0])"
      ],
      "execution_count": 0,
      "outputs": [
        {
          "output_type": "stream",
          "text": [
            "Training samples  204 ; Test samples  88\n"
          ],
          "name": "stdout"
        }
      ]
    },
    {
      "cell_type": "markdown",
      "metadata": {
        "id": "dqZ4u5GEZae3",
        "colab_type": "text"
      },
      "source": [
        "## Univariate Linear Regression"
      ]
    },
    {
      "cell_type": "markdown",
      "metadata": {
        "id": "xCozQN3-Zae5",
        "colab_type": "text"
      },
      "source": [
        "**Goal**: Predict `label_num` based on `KBytesReceived`"
      ]
    },
    {
      "cell_type": "code",
      "metadata": {
        "id": "gLNU1if4Zae6",
        "colab_type": "code",
        "colab": {},
        "outputId": "0eb1b7d9-ca99-4491-ed52-7931526feb43"
      },
      "source": [
        "df_train[['KBytesReceived','label_num']]"
      ],
      "execution_count": 0,
      "outputs": [
        {
          "output_type": "execute_result",
          "data": {
            "text/html": [
              "<div>\n",
              "<style scoped>\n",
              "    .dataframe tbody tr th:only-of-type {\n",
              "        vertical-align: middle;\n",
              "    }\n",
              "\n",
              "    .dataframe tbody tr th {\n",
              "        vertical-align: top;\n",
              "    }\n",
              "\n",
              "    .dataframe thead th {\n",
              "        text-align: right;\n",
              "    }\n",
              "</style>\n",
              "<table border=\"1\" class=\"dataframe\">\n",
              "  <thead>\n",
              "    <tr style=\"text-align: right;\">\n",
              "      <th></th>\n",
              "      <th>KBytesReceived</th>\n",
              "      <th>label_num</th>\n",
              "    </tr>\n",
              "  </thead>\n",
              "  <tbody>\n",
              "    <tr>\n",
              "      <th>211</th>\n",
              "      <td>135.024</td>\n",
              "      <td>1080</td>\n",
              "    </tr>\n",
              "    <tr>\n",
              "      <th>261</th>\n",
              "      <td>85.044</td>\n",
              "      <td>1080</td>\n",
              "    </tr>\n",
              "    <tr>\n",
              "      <th>150</th>\n",
              "      <td>137.403</td>\n",
              "      <td>480</td>\n",
              "    </tr>\n",
              "    <tr>\n",
              "      <th>31</th>\n",
              "      <td>48.720</td>\n",
              "      <td>360</td>\n",
              "    </tr>\n",
              "    <tr>\n",
              "      <th>189</th>\n",
              "      <td>86.304</td>\n",
              "      <td>720</td>\n",
              "    </tr>\n",
              "    <tr>\n",
              "      <th>141</th>\n",
              "      <td>118.490</td>\n",
              "      <td>360</td>\n",
              "    </tr>\n",
              "    <tr>\n",
              "      <th>182</th>\n",
              "      <td>85.040</td>\n",
              "      <td>1080</td>\n",
              "    </tr>\n",
              "    <tr>\n",
              "      <th>98</th>\n",
              "      <td>15.387</td>\n",
              "      <td>720</td>\n",
              "    </tr>\n",
              "    <tr>\n",
              "      <th>96</th>\n",
              "      <td>79.002</td>\n",
              "      <td>360</td>\n",
              "    </tr>\n",
              "    <tr>\n",
              "      <th>174</th>\n",
              "      <td>75.114</td>\n",
              "      <td>1080</td>\n",
              "    </tr>\n",
              "    <tr>\n",
              "      <th>34</th>\n",
              "      <td>102.146</td>\n",
              "      <td>720</td>\n",
              "    </tr>\n",
              "    <tr>\n",
              "      <th>121</th>\n",
              "      <td>54.609</td>\n",
              "      <td>360</td>\n",
              "    </tr>\n",
              "    <tr>\n",
              "      <th>91</th>\n",
              "      <td>57.072</td>\n",
              "      <td>480</td>\n",
              "    </tr>\n",
              "    <tr>\n",
              "      <th>75</th>\n",
              "      <td>37.584</td>\n",
              "      <td>1080</td>\n",
              "    </tr>\n",
              "    <tr>\n",
              "      <th>92</th>\n",
              "      <td>57.173</td>\n",
              "      <td>144</td>\n",
              "    </tr>\n",
              "    <tr>\n",
              "      <th>136</th>\n",
              "      <td>146.160</td>\n",
              "      <td>1080</td>\n",
              "    </tr>\n",
              "    <tr>\n",
              "      <th>87</th>\n",
              "      <td>140.160</td>\n",
              "      <td>720</td>\n",
              "    </tr>\n",
              "    <tr>\n",
              "      <th>57</th>\n",
              "      <td>74.302</td>\n",
              "      <td>240</td>\n",
              "    </tr>\n",
              "    <tr>\n",
              "      <th>209</th>\n",
              "      <td>97.138</td>\n",
              "      <td>360</td>\n",
              "    </tr>\n",
              "    <tr>\n",
              "      <th>217</th>\n",
              "      <td>26.780</td>\n",
              "      <td>144</td>\n",
              "    </tr>\n",
              "    <tr>\n",
              "      <th>41</th>\n",
              "      <td>22.272</td>\n",
              "      <td>720</td>\n",
              "    </tr>\n",
              "    <tr>\n",
              "      <th>108</th>\n",
              "      <td>86.304</td>\n",
              "      <td>1080</td>\n",
              "    </tr>\n",
              "    <tr>\n",
              "      <th>243</th>\n",
              "      <td>62.640</td>\n",
              "      <td>1080</td>\n",
              "    </tr>\n",
              "    <tr>\n",
              "      <th>2</th>\n",
              "      <td>34.178</td>\n",
              "      <td>720</td>\n",
              "    </tr>\n",
              "    <tr>\n",
              "      <th>223</th>\n",
              "      <td>18.096</td>\n",
              "      <td>1080</td>\n",
              "    </tr>\n",
              "    <tr>\n",
              "      <th>120</th>\n",
              "      <td>58.626</td>\n",
              "      <td>240</td>\n",
              "    </tr>\n",
              "    <tr>\n",
              "      <th>33</th>\n",
              "      <td>25.056</td>\n",
              "      <td>240</td>\n",
              "    </tr>\n",
              "    <tr>\n",
              "      <th>115</th>\n",
              "      <td>101.338</td>\n",
              "      <td>1080</td>\n",
              "    </tr>\n",
              "    <tr>\n",
              "      <th>26</th>\n",
              "      <td>39.320</td>\n",
              "      <td>480</td>\n",
              "    </tr>\n",
              "    <tr>\n",
              "      <th>230</th>\n",
              "      <td>43.094</td>\n",
              "      <td>720</td>\n",
              "    </tr>\n",
              "    <tr>\n",
              "      <th>...</th>\n",
              "      <td>...</td>\n",
              "      <td>...</td>\n",
              "    </tr>\n",
              "    <tr>\n",
              "      <th>114</th>\n",
              "      <td>121.317</td>\n",
              "      <td>720</td>\n",
              "    </tr>\n",
              "    <tr>\n",
              "      <th>233</th>\n",
              "      <td>170.576</td>\n",
              "      <td>720</td>\n",
              "    </tr>\n",
              "    <tr>\n",
              "      <th>246</th>\n",
              "      <td>57.072</td>\n",
              "      <td>480</td>\n",
              "    </tr>\n",
              "    <tr>\n",
              "      <th>100</th>\n",
              "      <td>33.997</td>\n",
              "      <td>480</td>\n",
              "    </tr>\n",
              "    <tr>\n",
              "      <th>221</th>\n",
              "      <td>169.824</td>\n",
              "      <td>1080</td>\n",
              "    </tr>\n",
              "    <tr>\n",
              "      <th>183</th>\n",
              "      <td>100.224</td>\n",
              "      <td>1080</td>\n",
              "    </tr>\n",
              "    <tr>\n",
              "      <th>212</th>\n",
              "      <td>104.400</td>\n",
              "      <td>360</td>\n",
              "    </tr>\n",
              "    <tr>\n",
              "      <th>268</th>\n",
              "      <td>145.882</td>\n",
              "      <td>480</td>\n",
              "    </tr>\n",
              "    <tr>\n",
              "      <th>220</th>\n",
              "      <td>44.270</td>\n",
              "      <td>720</td>\n",
              "    </tr>\n",
              "    <tr>\n",
              "      <th>196</th>\n",
              "      <td>59.856</td>\n",
              "      <td>480</td>\n",
              "    </tr>\n",
              "    <tr>\n",
              "      <th>188</th>\n",
              "      <td>11.136</td>\n",
              "      <td>360</td>\n",
              "    </tr>\n",
              "    <tr>\n",
              "      <th>55</th>\n",
              "      <td>13.248</td>\n",
              "      <td>360</td>\n",
              "    </tr>\n",
              "    <tr>\n",
              "      <th>53</th>\n",
              "      <td>57.448</td>\n",
              "      <td>480</td>\n",
              "    </tr>\n",
              "    <tr>\n",
              "      <th>194</th>\n",
              "      <td>13.920</td>\n",
              "      <td>480</td>\n",
              "    </tr>\n",
              "    <tr>\n",
              "      <th>260</th>\n",
              "      <td>76.560</td>\n",
              "      <td>480</td>\n",
              "    </tr>\n",
              "    <tr>\n",
              "      <th>201</th>\n",
              "      <td>70.992</td>\n",
              "      <td>480</td>\n",
              "    </tr>\n",
              "    <tr>\n",
              "      <th>203</th>\n",
              "      <td>84.912</td>\n",
              "      <td>720</td>\n",
              "    </tr>\n",
              "    <tr>\n",
              "      <th>265</th>\n",
              "      <td>145.504</td>\n",
              "      <td>360</td>\n",
              "    </tr>\n",
              "    <tr>\n",
              "      <th>231</th>\n",
              "      <td>49.368</td>\n",
              "      <td>1080</td>\n",
              "    </tr>\n",
              "    <tr>\n",
              "      <th>271</th>\n",
              "      <td>40.368</td>\n",
              "      <td>720</td>\n",
              "    </tr>\n",
              "    <tr>\n",
              "      <th>167</th>\n",
              "      <td>14.813</td>\n",
              "      <td>720</td>\n",
              "    </tr>\n",
              "    <tr>\n",
              "      <th>266</th>\n",
              "      <td>126.049</td>\n",
              "      <td>720</td>\n",
              "    </tr>\n",
              "    <tr>\n",
              "      <th>97</th>\n",
              "      <td>11.136</td>\n",
              "      <td>144</td>\n",
              "    </tr>\n",
              "    <tr>\n",
              "      <th>162</th>\n",
              "      <td>27.840</td>\n",
              "      <td>480</td>\n",
              "    </tr>\n",
              "    <tr>\n",
              "      <th>22</th>\n",
              "      <td>175.480</td>\n",
              "      <td>720</td>\n",
              "    </tr>\n",
              "    <tr>\n",
              "      <th>159</th>\n",
              "      <td>46.066</td>\n",
              "      <td>720</td>\n",
              "    </tr>\n",
              "    <tr>\n",
              "      <th>19</th>\n",
              "      <td>41.931</td>\n",
              "      <td>480</td>\n",
              "    </tr>\n",
              "    <tr>\n",
              "      <th>245</th>\n",
              "      <td>66.958</td>\n",
              "      <td>720</td>\n",
              "    </tr>\n",
              "    <tr>\n",
              "      <th>110</th>\n",
              "      <td>41.752</td>\n",
              "      <td>720</td>\n",
              "    </tr>\n",
              "    <tr>\n",
              "      <th>93</th>\n",
              "      <td>79.808</td>\n",
              "      <td>480</td>\n",
              "    </tr>\n",
              "  </tbody>\n",
              "</table>\n",
              "<p>204 rows × 2 columns</p>\n",
              "</div>"
            ],
            "text/plain": [
              "     KBytesReceived  label_num\n",
              "211         135.024       1080\n",
              "261          85.044       1080\n",
              "150         137.403        480\n",
              "31           48.720        360\n",
              "189          86.304        720\n",
              "141         118.490        360\n",
              "182          85.040       1080\n",
              "98           15.387        720\n",
              "96           79.002        360\n",
              "174          75.114       1080\n",
              "34          102.146        720\n",
              "121          54.609        360\n",
              "91           57.072        480\n",
              "75           37.584       1080\n",
              "92           57.173        144\n",
              "136         146.160       1080\n",
              "87          140.160        720\n",
              "57           74.302        240\n",
              "209          97.138        360\n",
              "217          26.780        144\n",
              "41           22.272        720\n",
              "108          86.304       1080\n",
              "243          62.640       1080\n",
              "2            34.178        720\n",
              "223          18.096       1080\n",
              "120          58.626        240\n",
              "33           25.056        240\n",
              "115         101.338       1080\n",
              "26           39.320        480\n",
              "230          43.094        720\n",
              "..              ...        ...\n",
              "114         121.317        720\n",
              "233         170.576        720\n",
              "246          57.072        480\n",
              "100          33.997        480\n",
              "221         169.824       1080\n",
              "183         100.224       1080\n",
              "212         104.400        360\n",
              "268         145.882        480\n",
              "220          44.270        720\n",
              "196          59.856        480\n",
              "188          11.136        360\n",
              "55           13.248        360\n",
              "53           57.448        480\n",
              "194          13.920        480\n",
              "260          76.560        480\n",
              "201          70.992        480\n",
              "203          84.912        720\n",
              "265         145.504        360\n",
              "231          49.368       1080\n",
              "271          40.368        720\n",
              "167          14.813        720\n",
              "266         126.049        720\n",
              "97           11.136        144\n",
              "162          27.840        480\n",
              "22          175.480        720\n",
              "159          46.066        720\n",
              "19           41.931        480\n",
              "245          66.958        720\n",
              "110          41.752        720\n",
              "93           79.808        480\n",
              "\n",
              "[204 rows x 2 columns]"
            ]
          },
          "metadata": {
            "tags": []
          },
          "execution_count": 122
        }
      ]
    },
    {
      "cell_type": "markdown",
      "metadata": {
        "id": "fqS9xxiAZafA",
        "colab_type": "text"
      },
      "source": [
        "Let's separate the independent variables $X$ from the dependent variables $y$"
      ]
    },
    {
      "cell_type": "code",
      "metadata": {
        "id": "GLIEAfroZafB",
        "colab_type": "code",
        "colab": {}
      },
      "source": [
        "# Scikit learn models expect matrices. We first transform \n",
        "# the dataframe into an array\n",
        "X_train = df_train[['KBytesReceived'] ].values\n",
        "\n",
        "# Scikit learn models expect matrices with multiple \n",
        "# rows and columns as X. X_train has instead just one column\n",
        "# ==> The following code is necessary\n",
        "X_train = X_train.reshape(-1,1)\n",
        "\n",
        "y_train = df_train['label_num'].values\n",
        "\n",
        "\n",
        "# Do the same for the test dataset\n",
        "X_test = df_test[[ 'KBytesReceived'] ].values.reshape(-1,1)\n",
        "y_test = df_test['label_num'].values"
      ],
      "execution_count": 0,
      "outputs": []
    },
    {
      "cell_type": "markdown",
      "metadata": {
        "id": "emtf78TgZafG",
        "colab_type": "text"
      },
      "source": [
        "Let's train our first supervised learning model: an Ordinary Least Squares model."
      ]
    },
    {
      "cell_type": "markdown",
      "metadata": {
        "id": "Rb54eFYJZafH",
        "colab_type": "text"
      },
      "source": [
        "Note: the main library for machine learning in Python is `scikit learn`. However, as for regression, `statsmodel` is better. I prepared the following function with the same interface of `scikit learn` and the additional information of `statsmodel`."
      ]
    },
    {
      "cell_type": "code",
      "metadata": {
        "id": "K3bthb-mZafJ",
        "colab_type": "code",
        "colab": {},
        "outputId": "191e33c2-d3e4-4fd3-b910-aeb57c221d08"
      },
      "source": [
        "model = AndreaLinearRegression()\n",
        "model.fit(X_train, y_train, column_names=['KBytesReceived'])\n",
        "model.summary()"
      ],
      "execution_count": 0,
      "outputs": [
        {
          "output_type": "stream",
          "text": [
            "                            OLS Regression Results                            \n",
            "==============================================================================\n",
            "Dep. Variable:                      y   R-squared:                       0.072\n",
            "Model:                            OLS   Adj. R-squared:                  0.068\n",
            "Method:                 Least Squares   F-statistic:                     15.70\n",
            "Date:                Tue, 18 Feb 2020   Prob (F-statistic):           0.000103\n",
            "Time:                        19:28:50   Log-Likelihood:                -1445.2\n",
            "No. Observations:                 204   AIC:                             2894.\n",
            "Df Residuals:                     202   BIC:                             2901.\n",
            "Df Model:                           1                                         \n",
            "Covariance Type:            nonrobust                                         \n",
            "==================================================================================\n",
            "                     coef    std err          t      P>|t|      [0.025      0.975]\n",
            "----------------------------------------------------------------------------------\n",
            "intercept        519.5636     33.254     15.624      0.000     453.994     585.133\n",
            "KBytesReceived     1.4536      0.367      3.962      0.000       0.730       2.177\n",
            "==============================================================================\n",
            "Omnibus:                       32.312   Durbin-Watson:                   1.985\n",
            "Prob(Omnibus):                  0.000   Jarque-Bera (JB):               10.773\n",
            "Skew:                           0.292   Prob(JB):                      0.00458\n",
            "Kurtosis:                       2.038   Cond. No.                         148.\n",
            "==============================================================================\n",
            "\n",
            "Warnings:\n",
            "[1] Standard Errors assume that the covariance matrix of the errors is correctly specified.\n"
          ],
          "name": "stdout"
        }
      ]
    },
    {
      "cell_type": "markdown",
      "metadata": {
        "id": "tVArgDOFZafP",
        "colab_type": "text"
      },
      "source": [
        "Now we have a trained model $h_{\\theta*}(\\cdot)$ stored in `model`. We can use it to predict new values."
      ]
    },
    {
      "cell_type": "code",
      "metadata": {
        "id": "kblDjTClZafQ",
        "colab_type": "code",
        "colab": {},
        "outputId": "c1d83999-0661-4cc6-8380-7f15c6733001"
      },
      "source": [
        "newKBytesReceivedSamples = np.array([257, 524, 613, 223]).reshape(-1,1)\n",
        "\n",
        "\n",
        "predictedLabels = model.predict(newKBytesReceivedSamples)\n",
        "predictedLabels"
      ],
      "execution_count": 0,
      "outputs": [
        {
          "output_type": "execute_result",
          "data": {
            "text/plain": [
              "array([ 893.14316416, 1281.2588651 , 1410.63076541,  843.72019101])"
            ]
          },
          "metadata": {
            "tags": []
          },
          "execution_count": 125
        }
      ]
    },
    {
      "cell_type": "markdown",
      "metadata": {
        "id": "K3eXFPKsZafV",
        "colab_type": "text"
      },
      "source": [
        "To plot the model, we let it predict on an interval"
      ]
    },
    {
      "cell_type": "code",
      "metadata": {
        "id": "nMT1-M28ZafW",
        "colab_type": "code",
        "colab": {},
        "outputId": "4d956fb8-fa1a-418e-e8ec-898ff16e696c"
      },
      "source": [
        "interval = np.arange(-100,1200).reshape(-1,1)\n",
        "h_values = model.predict(interval)\n",
        "h_values"
      ],
      "execution_count": 0,
      "outputs": [
        {
          "output_type": "execute_result",
          "data": {
            "text/plain": [
              "array([ 374.20194605,  375.65556291,  377.10917977, ..., 2259.54301016,\n",
              "       2260.99662702, 2262.45024387])"
            ]
          },
          "metadata": {
            "tags": []
          },
          "execution_count": 126
        }
      ]
    },
    {
      "cell_type": "markdown",
      "metadata": {
        "id": "4qZ6KEvZZafa",
        "colab_type": "text"
      },
      "source": [
        "Let's plot the model. It is constructed so to minimize the distance between the blue points (training samples) and the line"
      ]
    },
    {
      "cell_type": "code",
      "metadata": {
        "scrolled": true,
        "id": "8_QSV59-Zafc",
        "colab_type": "code",
        "colab": {},
        "outputId": "53dd7974-79b7-445e-ee32-61ba407b8d8b"
      },
      "source": [
        "ax.scatter(X_train,y_train,color='blue',s=1, \n",
        "           label=\"training samples\")\n",
        "\n",
        "ax.plot(interval,h_values, label=\"Linear Regression (OLS)\")\n",
        "ax.legend()\n",
        "\n",
        "fig.savefig('img/QoE-prediction-OLS.pdf')\n",
        "fig"
      ],
      "execution_count": 0,
      "outputs": [
        {
          "output_type": "execute_result",
          "data": {
            "image/png": "[encoded data removed]",
            "text/plain": [
              "<Figure size 432x288 with 1 Axes>"
            ]
          },
          "metadata": {
            "tags": []
          },
          "execution_count": 127
        }
      ]
    },
    {
      "cell_type": "markdown",
      "metadata": {
        "id": "8yIZmM7-Zafg",
        "colab_type": "text"
      },
      "source": [
        "Let's evaluate the model on the test set"
      ]
    },
    {
      "cell_type": "code",
      "metadata": {
        "id": "vO41UMCCZafh",
        "colab_type": "code",
        "colab": {}
      },
      "source": [
        "y_pred = model.predict(X_test)"
      ],
      "execution_count": 0,
      "outputs": []
    },
    {
      "cell_type": "markdown",
      "metadata": {
        "id": "ZH4BFM-KZafm",
        "colab_type": "text"
      },
      "source": [
        "Let us compare the true test labels and the predicted"
      ]
    },
    {
      "cell_type": "code",
      "metadata": {
        "scrolled": true,
        "id": "XQhMifAjZafm",
        "colab_type": "code",
        "colab": {},
        "outputId": "6aacb880-a171-4018-9ba6-368c55fa03a6"
      },
      "source": [
        "pd.DataFrame({'true':y_test,'pred':y_pred})"
      ],
      "execution_count": 0,
      "outputs": [
        {
          "output_type": "execute_result",
          "data": {
            "text/html": [
              "<div>\n",
              "<style scoped>\n",
              "    .dataframe tbody tr th:only-of-type {\n",
              "        vertical-align: middle;\n",
              "    }\n",
              "\n",
              "    .dataframe tbody tr th {\n",
              "        vertical-align: top;\n",
              "    }\n",
              "\n",
              "    .dataframe thead th {\n",
              "        text-align: right;\n",
              "    }\n",
              "</style>\n",
              "<table border=\"1\" class=\"dataframe\">\n",
              "  <thead>\n",
              "    <tr style=\"text-align: right;\">\n",
              "      <th></th>\n",
              "      <th>true</th>\n",
              "      <th>pred</th>\n",
              "    </tr>\n",
              "  </thead>\n",
              "  <tbody>\n",
              "    <tr>\n",
              "      <th>0</th>\n",
              "      <td>720</td>\n",
              "      <td>599.486394</td>\n",
              "    </tr>\n",
              "    <tr>\n",
              "      <th>1</th>\n",
              "      <td>720</td>\n",
              "      <td>578.113865</td>\n",
              "    </tr>\n",
              "    <tr>\n",
              "      <th>2</th>\n",
              "      <td>720</td>\n",
              "      <td>584.313541</td>\n",
              "    </tr>\n",
              "    <tr>\n",
              "      <th>3</th>\n",
              "      <td>1080</td>\n",
              "      <td>651.086885</td>\n",
              "    </tr>\n",
              "    <tr>\n",
              "      <th>4</th>\n",
              "      <td>480</td>\n",
              "      <td>609.283771</td>\n",
              "    </tr>\n",
              "    <tr>\n",
              "      <th>5</th>\n",
              "      <td>1080</td>\n",
              "      <td>588.236853</td>\n",
              "    </tr>\n",
              "    <tr>\n",
              "      <th>6</th>\n",
              "      <td>720</td>\n",
              "      <td>1171.297111</td>\n",
              "    </tr>\n",
              "    <tr>\n",
              "      <th>7</th>\n",
              "      <td>480</td>\n",
              "      <td>789.065651</td>\n",
              "    </tr>\n",
              "    <tr>\n",
              "      <th>8</th>\n",
              "      <td>720</td>\n",
              "      <td>658.844838</td>\n",
              "    </tr>\n",
              "    <tr>\n",
              "      <th>9</th>\n",
              "      <td>144</td>\n",
              "      <td>550.438454</td>\n",
              "    </tr>\n",
              "    <tr>\n",
              "      <th>10</th>\n",
              "      <td>480</td>\n",
              "      <td>562.055760</td>\n",
              "    </tr>\n",
              "    <tr>\n",
              "      <th>11</th>\n",
              "      <td>240</td>\n",
              "      <td>665.351227</td>\n",
              "    </tr>\n",
              "    <tr>\n",
              "      <th>12</th>\n",
              "      <td>1080</td>\n",
              "      <td>580.225970</td>\n",
              "    </tr>\n",
              "    <tr>\n",
              "      <th>13</th>\n",
              "      <td>720</td>\n",
              "      <td>637.566795</td>\n",
              "    </tr>\n",
              "    <tr>\n",
              "      <th>14</th>\n",
              "      <td>144</td>\n",
              "      <td>552.047608</td>\n",
              "    </tr>\n",
              "    <tr>\n",
              "      <th>15</th>\n",
              "      <td>480</td>\n",
              "      <td>545.845025</td>\n",
              "    </tr>\n",
              "    <tr>\n",
              "      <th>16</th>\n",
              "      <td>144</td>\n",
              "      <td>548.095223</td>\n",
              "    </tr>\n",
              "    <tr>\n",
              "      <th>17</th>\n",
              "      <td>240</td>\n",
              "      <td>574.301028</td>\n",
              "    </tr>\n",
              "    <tr>\n",
              "      <th>18</th>\n",
              "      <td>360</td>\n",
              "      <td>572.172933</td>\n",
              "    </tr>\n",
              "    <tr>\n",
              "      <th>19</th>\n",
              "      <td>720</td>\n",
              "      <td>555.957837</td>\n",
              "    </tr>\n",
              "    <tr>\n",
              "      <th>20</th>\n",
              "      <td>480</td>\n",
              "      <td>689.532144</td>\n",
              "    </tr>\n",
              "    <tr>\n",
              "      <th>21</th>\n",
              "      <td>480</td>\n",
              "      <td>566.102629</td>\n",
              "    </tr>\n",
              "    <tr>\n",
              "      <th>22</th>\n",
              "      <td>360</td>\n",
              "      <td>570.081178</td>\n",
              "    </tr>\n",
              "    <tr>\n",
              "      <th>23</th>\n",
              "      <td>360</td>\n",
              "      <td>596.566078</td>\n",
              "    </tr>\n",
              "    <tr>\n",
              "      <th>24</th>\n",
              "      <td>720</td>\n",
              "      <td>547.071877</td>\n",
              "    </tr>\n",
              "    <tr>\n",
              "      <th>25</th>\n",
              "      <td>720</td>\n",
              "      <td>613.131495</td>\n",
              "    </tr>\n",
              "    <tr>\n",
              "      <th>26</th>\n",
              "      <td>1080</td>\n",
              "      <td>630.852538</td>\n",
              "    </tr>\n",
              "    <tr>\n",
              "      <th>27</th>\n",
              "      <td>240</td>\n",
              "      <td>535.751109</td>\n",
              "    </tr>\n",
              "    <tr>\n",
              "      <th>28</th>\n",
              "      <td>480</td>\n",
              "      <td>623.670218</td>\n",
              "    </tr>\n",
              "    <tr>\n",
              "      <th>29</th>\n",
              "      <td>480</td>\n",
              "      <td>647.032748</td>\n",
              "    </tr>\n",
              "    <tr>\n",
              "      <th>...</th>\n",
              "      <td>...</td>\n",
              "      <td>...</td>\n",
              "    </tr>\n",
              "    <tr>\n",
              "      <th>58</th>\n",
              "      <td>1080</td>\n",
              "      <td>677.544165</td>\n",
              "    </tr>\n",
              "    <tr>\n",
              "      <th>59</th>\n",
              "      <td>1080</td>\n",
              "      <td>675.368101</td>\n",
              "    </tr>\n",
              "    <tr>\n",
              "      <th>60</th>\n",
              "      <td>360</td>\n",
              "      <td>665.355588</td>\n",
              "    </tr>\n",
              "    <tr>\n",
              "      <th>61</th>\n",
              "      <td>480</td>\n",
              "      <td>574.290853</td>\n",
              "    </tr>\n",
              "    <tr>\n",
              "      <th>62</th>\n",
              "      <td>144</td>\n",
              "      <td>536.794806</td>\n",
              "    </tr>\n",
              "    <tr>\n",
              "      <th>63</th>\n",
              "      <td>240</td>\n",
              "      <td>576.219802</td>\n",
              "    </tr>\n",
              "    <tr>\n",
              "      <th>64</th>\n",
              "      <td>720</td>\n",
              "      <td>713.970350</td>\n",
              "    </tr>\n",
              "    <tr>\n",
              "      <th>65</th>\n",
              "      <td>480</td>\n",
              "      <td>568.098445</td>\n",
              "    </tr>\n",
              "    <tr>\n",
              "      <th>66</th>\n",
              "      <td>720</td>\n",
              "      <td>575.969780</td>\n",
              "    </tr>\n",
              "    <tr>\n",
              "      <th>67</th>\n",
              "      <td>720</td>\n",
              "      <td>625.555559</td>\n",
              "    </tr>\n",
              "    <tr>\n",
              "      <th>68</th>\n",
              "      <td>720</td>\n",
              "      <td>563.270983</td>\n",
              "    </tr>\n",
              "    <tr>\n",
              "      <th>69</th>\n",
              "      <td>360</td>\n",
              "      <td>571.248433</td>\n",
              "    </tr>\n",
              "    <tr>\n",
              "      <th>70</th>\n",
              "      <td>1080</td>\n",
              "      <td>634.794747</td>\n",
              "    </tr>\n",
              "    <tr>\n",
              "      <th>71</th>\n",
              "      <td>720</td>\n",
              "      <td>574.604834</td>\n",
              "    </tr>\n",
              "    <tr>\n",
              "      <th>72</th>\n",
              "      <td>144</td>\n",
              "      <td>588.360410</td>\n",
              "    </tr>\n",
              "    <tr>\n",
              "      <th>73</th>\n",
              "      <td>360</td>\n",
              "      <td>657.587460</td>\n",
              "    </tr>\n",
              "    <tr>\n",
              "      <th>74</th>\n",
              "      <td>360</td>\n",
              "      <td>590.383845</td>\n",
              "    </tr>\n",
              "    <tr>\n",
              "      <th>75</th>\n",
              "      <td>720</td>\n",
              "      <td>744.631491</td>\n",
              "    </tr>\n",
              "    <tr>\n",
              "      <th>76</th>\n",
              "      <td>480</td>\n",
              "      <td>620.735365</td>\n",
              "    </tr>\n",
              "    <tr>\n",
              "      <th>77</th>\n",
              "      <td>240</td>\n",
              "      <td>539.797978</td>\n",
              "    </tr>\n",
              "    <tr>\n",
              "      <th>78</th>\n",
              "      <td>480</td>\n",
              "      <td>549.915152</td>\n",
              "    </tr>\n",
              "    <tr>\n",
              "      <th>79</th>\n",
              "      <td>144</td>\n",
              "      <td>558.008890</td>\n",
              "    </tr>\n",
              "    <tr>\n",
              "      <th>80</th>\n",
              "      <td>720</td>\n",
              "      <td>711.789925</td>\n",
              "    </tr>\n",
              "    <tr>\n",
              "      <th>81</th>\n",
              "      <td>480</td>\n",
              "      <td>586.444543</td>\n",
              "    </tr>\n",
              "    <tr>\n",
              "      <th>82</th>\n",
              "      <td>480</td>\n",
              "      <td>590.383845</td>\n",
              "    </tr>\n",
              "    <tr>\n",
              "      <th>83</th>\n",
              "      <td>720</td>\n",
              "      <td>619.890814</td>\n",
              "    </tr>\n",
              "    <tr>\n",
              "      <th>84</th>\n",
              "      <td>720</td>\n",
              "      <td>539.797978</td>\n",
              "    </tr>\n",
              "    <tr>\n",
              "      <th>85</th>\n",
              "      <td>720</td>\n",
              "      <td>542.783707</td>\n",
              "    </tr>\n",
              "    <tr>\n",
              "      <th>86</th>\n",
              "      <td>480</td>\n",
              "      <td>600.564978</td>\n",
              "    </tr>\n",
              "    <tr>\n",
              "      <th>87</th>\n",
              "      <td>720</td>\n",
              "      <td>579.081974</td>\n",
              "    </tr>\n",
              "  </tbody>\n",
              "</table>\n",
              "<p>88 rows × 2 columns</p>\n",
              "</div>"
            ],
            "text/plain": [
              "    true         pred\n",
              "0    720   599.486394\n",
              "1    720   578.113865\n",
              "2    720   584.313541\n",
              "3   1080   651.086885\n",
              "4    480   609.283771\n",
              "5   1080   588.236853\n",
              "6    720  1171.297111\n",
              "7    480   789.065651\n",
              "8    720   658.844838\n",
              "9    144   550.438454\n",
              "10   480   562.055760\n",
              "11   240   665.351227\n",
              "12  1080   580.225970\n",
              "13   720   637.566795\n",
              "14   144   552.047608\n",
              "15   480   545.845025\n",
              "16   144   548.095223\n",
              "17   240   574.301028\n",
              "18   360   572.172933\n",
              "19   720   555.957837\n",
              "20   480   689.532144\n",
              "21   480   566.102629\n",
              "22   360   570.081178\n",
              "23   360   596.566078\n",
              "24   720   547.071877\n",
              "25   720   613.131495\n",
              "26  1080   630.852538\n",
              "27   240   535.751109\n",
              "28   480   623.670218\n",
              "29   480   647.032748\n",
              "..   ...          ...\n",
              "58  1080   677.544165\n",
              "59  1080   675.368101\n",
              "60   360   665.355588\n",
              "61   480   574.290853\n",
              "62   144   536.794806\n",
              "63   240   576.219802\n",
              "64   720   713.970350\n",
              "65   480   568.098445\n",
              "66   720   575.969780\n",
              "67   720   625.555559\n",
              "68   720   563.270983\n",
              "69   360   571.248433\n",
              "70  1080   634.794747\n",
              "71   720   574.604834\n",
              "72   144   588.360410\n",
              "73   360   657.587460\n",
              "74   360   590.383845\n",
              "75   720   744.631491\n",
              "76   480   620.735365\n",
              "77   240   539.797978\n",
              "78   480   549.915152\n",
              "79   144   558.008890\n",
              "80   720   711.789925\n",
              "81   480   586.444543\n",
              "82   480   590.383845\n",
              "83   720   619.890814\n",
              "84   720   539.797978\n",
              "85   720   542.783707\n",
              "86   480   600.564978\n",
              "87   720   579.081974\n",
              "\n",
              "[88 rows x 2 columns]"
            ]
          },
          "metadata": {
            "tags": []
          },
          "execution_count": 129
        }
      ]
    },
    {
      "cell_type": "markdown",
      "metadata": {
        "id": "cf73Iu6cZafr",
        "colab_type": "text"
      },
      "source": [
        "Let's compute the Mean Square Error (MSE)"
      ]
    },
    {
      "cell_type": "code",
      "metadata": {
        "scrolled": true,
        "id": "oFcL5ymXZafr",
        "colab_type": "code",
        "colab": {},
        "outputId": "a5c29271-30e5-42fd-d2c7-cb78fa07d0d1"
      },
      "source": [
        "MSE = mean_squared_error(y_test, y_pred)\n",
        "MSE"
      ],
      "execution_count": 0,
      "outputs": [
        {
          "output_type": "execute_result",
          "data": {
            "text/plain": [
              "75019.04691479652"
            ]
          },
          "metadata": {
            "tags": []
          },
          "execution_count": 130
        }
      ]
    },
    {
      "cell_type": "markdown",
      "metadata": {
        "id": "6rtGOUUuZafw",
        "colab_type": "text"
      },
      "source": [
        "The Root MSE is easier to understand, since it is in the same unity of measurement of the target"
      ]
    },
    {
      "cell_type": "code",
      "metadata": {
        "scrolled": false,
        "id": "w9OXQPvEZafx",
        "colab_type": "code",
        "colab": {},
        "outputId": "d354c677-49b4-452a-bd44-d087dce5989c"
      },
      "source": [
        "RMSE_one_feature = math.sqrt(MSE)\n",
        "RMSE_one_feature"
      ],
      "execution_count": 0,
      "outputs": [
        {
          "output_type": "execute_result",
          "data": {
            "text/plain": [
              "273.8960512946408"
            ]
          },
          "metadata": {
            "tags": []
          },
          "execution_count": 131
        }
      ]
    },
    {
      "cell_type": "markdown",
      "metadata": {
        "id": "fbch3HutZaf0",
        "colab_type": "text"
      },
      "source": [
        "#### Dependency on the training set\n",
        "\n",
        "If we change the training set, the model changes as well"
      ]
    },
    {
      "cell_type": "code",
      "metadata": {
        "scrolled": false,
        "id": "voSeuM5VZaf2",
        "colab_type": "code",
        "colab": {},
        "outputId": "4f90107c-8c4b-435c-cd90-e035c7e67fe2"
      },
      "source": [
        "df_train, df_test = train_test_split(df, test_size=0.3, random_state=2)\n",
        "\n",
        "X_train = df_train[['KBytesReceived'] ].values.reshape(-1,1)\n",
        "y_train = df_train['label_num'].values\n",
        "X_test = df_test[[ 'KBytesReceived'] ].values.reshape(-1,1)\n",
        "y_test = df_test['label_num'].values\n",
        "\n",
        "\n",
        "model.fit(X_train, y_train, column_names=['KBytesReceived'])\n",
        "model.summary()"
      ],
      "execution_count": 0,
      "outputs": [
        {
          "output_type": "stream",
          "text": [
            "                            OLS Regression Results                            \n",
            "==============================================================================\n",
            "Dep. Variable:                      y   R-squared:                       0.094\n",
            "Model:                            OLS   Adj. R-squared:                  0.090\n",
            "Method:                 Least Squares   F-statistic:                     21.00\n",
            "Date:                Tue, 18 Feb 2020   Prob (F-statistic):           8.04e-06\n",
            "Time:                        19:28:50   Log-Likelihood:                -1437.6\n",
            "No. Observations:                 204   AIC:                             2879.\n",
            "Df Residuals:                     202   BIC:                             2886.\n",
            "Df Model:                           1                                         \n",
            "Covariance Type:            nonrobust                                         \n",
            "==================================================================================\n",
            "                     coef    std err          t      P>|t|      [0.025      0.975]\n",
            "----------------------------------------------------------------------------------\n",
            "intercept        511.4868     30.856     16.577      0.000     450.646     572.328\n",
            "KBytesReceived     1.5040      0.328      4.583      0.000       0.857       2.151\n",
            "==============================================================================\n",
            "Omnibus:                       22.828   Durbin-Watson:                   2.032\n",
            "Prob(Omnibus):                  0.000   Jarque-Bera (JB):               10.599\n",
            "Skew:                           0.357   Prob(JB):                      0.00499\n",
            "Kurtosis:                       2.141   Cond. No.                         148.\n",
            "==============================================================================\n",
            "\n",
            "Warnings:\n",
            "[1] Standard Errors assume that the covariance matrix of the errors is correctly specified.\n"
          ],
          "name": "stdout"
        }
      ]
    },
    {
      "cell_type": "markdown",
      "metadata": {
        "id": "t3gzpkAEZaf6",
        "colab_type": "text"
      },
      "source": [
        "Note that the coefficients are different. Let's plot it"
      ]
    },
    {
      "cell_type": "code",
      "metadata": {
        "scrolled": true,
        "id": "Tl9KxvO7Zaf6",
        "colab_type": "code",
        "colab": {},
        "outputId": "7300ff80-b8a3-44fa-b727-4dabce0b79b9"
      },
      "source": [
        "h_values = model.predict(interval)\n",
        "\n",
        "ax.scatter(X_train,y_train,color='orange',s=1, \n",
        "           label=\"training samples [2]\")\n",
        "ax.plot(interval,h_values, label=\"Linear Regression (OLS) [2]\")\n",
        "ax.legend()\n",
        "fig"
      ],
      "execution_count": 0,
      "outputs": [
        {
          "output_type": "execute_result",
          "data": {
            "image/png": "[encoded data removed]",
            "text/plain": [
              "<Figure size 432x288 with 1 Axes>"
            ]
          },
          "metadata": {
            "tags": []
          },
          "execution_count": 133
        }
      ]
    },
    {
      "cell_type": "markdown",
      "metadata": {
        "id": "bYbs1NQEZaf-",
        "colab_type": "text"
      },
      "source": [
        "Let's train again a model on a different training set"
      ]
    },
    {
      "cell_type": "code",
      "metadata": {
        "id": "llykKdz8ZagA",
        "colab_type": "code",
        "colab": {},
        "outputId": "8eb5de4e-e143-43ac-e58c-1ddf33ec5bce"
      },
      "source": [
        "df_train, df_test = train_test_split(df, test_size=0.3, random_state=3)\n",
        "\n",
        "X_train = df_train[['KBytesReceived'] ].values.reshape(-1,1)\n",
        "y_train = df_train['label_num'].values\n",
        "X_test = df_test[[ 'KBytesReceived'] ].values.reshape(-1,1)\n",
        "y_test = df_test['label_num'].values\n",
        "\n",
        "\n",
        "model.fit(X_train, y_train, column_names=['KBytesReceived'])\n",
        "h_values = model.predict(interval)\n",
        "ax.scatter(X_train,y_train,color='green',s=1, \n",
        "           label=\"training samples [3]\")\n",
        "ax.plot(interval,h_values, label=\"Linear Regression (OLS) [3]\")\n",
        "ax.legend()\n",
        "fig"
      ],
      "execution_count": 0,
      "outputs": [
        {
          "output_type": "execute_result",
          "data": {
            "image/png": "[encoded data removed]",
            "text/plain": [
              "<Figure size 432x288 with 1 Axes>"
            ]
          },
          "metadata": {
            "tags": []
          },
          "execution_count": 134
        }
      ]
    },
    {
      "cell_type": "markdown",
      "metadata": {
        "id": "rq6e2OukZagD",
        "colab_type": "text"
      },
      "source": [
        "\n",
        "\n",
        "\n",
        "### Use transformed variables"
      ]
    },
    {
      "cell_type": "markdown",
      "metadata": {
        "id": "OMde3u1fZagF",
        "colab_type": "text"
      },
      "source": [
        "We observe that the values of `KBytesReceived` are squashed toward small values (we also checked it with a histogram in the last notebook). We have shown in the last notebook that in this case a log transformation can unveil correlation.\n",
        "\n",
        "We now show that it also improves the model. First, have a look at the plot"
      ]
    },
    {
      "cell_type": "code",
      "metadata": {
        "scrolled": false,
        "id": "QMER2-bxZagF",
        "colab_type": "code",
        "colab": {},
        "outputId": "8ac0199f-58bb-4bea-f346-754d332f6204"
      },
      "source": [
        "fig, ax = plt.subplots()\n",
        "ax.scatter(df['KBytesReceived_log'],df['label_num'],color='red',s=1)\n",
        "ax.set(ylabel=\"label_num\",xlabel=\"KBytesReceived_log\")"
      ],
      "execution_count": 0,
      "outputs": [
        {
          "output_type": "execute_result",
          "data": {
            "text/plain": [
              "[Text(0, 0.5, 'label_num'), Text(0.5, 0, 'KBytesReceived_log')]"
            ]
          },
          "metadata": {
            "tags": []
          },
          "execution_count": 135
        },
        {
          "output_type": "display_data",
          "data": {
            "image/png": "[encoded data removed]",
            "text/plain": [
              "<Figure size 432x288 with 1 Axes>"
            ]
          },
          "metadata": {
            "tags": [],
            "needs_background": "light"
          }
        }
      ]
    },
    {
      "cell_type": "markdown",
      "metadata": {
        "id": "gHcWXuDNZagL",
        "colab_type": "text"
      },
      "source": [
        "Let's train the new model"
      ]
    },
    {
      "cell_type": "code",
      "metadata": {
        "id": "VAS5kTjkZagL",
        "colab_type": "code",
        "colab": {},
        "outputId": "85ff23ad-fb7b-47ea-a03e-8c1f4aee41f3"
      },
      "source": [
        "X_train = df_train[['KBytesReceived_log'] ].values.reshape(-1,1)\n",
        "X_test = df_test[['KBytesReceived_log'] ].values.reshape(-1,1)\n",
        "\n",
        "model.fit(X_train, y_train, column_names=['KBytesReceived'])"
      ],
      "execution_count": 0,
      "outputs": [
        {
          "output_type": "execute_result",
          "data": {
            "text/plain": [
              "AndreaLinearRegression(fit_intercept=True)"
            ]
          },
          "metadata": {
            "tags": []
          },
          "execution_count": 136
        }
      ]
    },
    {
      "cell_type": "markdown",
      "metadata": {
        "id": "WbeTFubdZagP",
        "colab_type": "text"
      },
      "source": [
        "Let's plot the corresponding line"
      ]
    },
    {
      "cell_type": "code",
      "metadata": {
        "scrolled": true,
        "id": "We2LSmUnZagQ",
        "colab_type": "code",
        "colab": {},
        "outputId": "34edeb05-fbef-498f-91be-e8e750f04da1"
      },
      "source": [
        "interval = np.arange(2,6,0.1).reshape(-1,1)\n",
        "h_values = model.predict(interval)\n",
        "ax.plot(interval, h_values, label=\"transformed model\")\n",
        "fig"
      ],
      "execution_count": 0,
      "outputs": [
        {
          "output_type": "execute_result",
          "data": {
            "image/png": "[encoded data removed]",
            "text/plain": [
              "<Figure size 432x288 with 1 Axes>"
            ]
          },
          "metadata": {
            "tags": []
          },
          "execution_count": 137
        }
      ]
    },
    {
      "cell_type": "markdown",
      "metadata": {
        "id": "pszfNzWxZagT",
        "colab_type": "text"
      },
      "source": [
        "Let's check the test error"
      ]
    },
    {
      "cell_type": "code",
      "metadata": {
        "id": "_L3e1H5uZagU",
        "colab_type": "code",
        "colab": {},
        "outputId": "8e7d683f-be21-4e81-b959-85a63b16a893"
      },
      "source": [
        "y_pred = model.predict(X_test)\n",
        "RMSE_1_feature = math.sqrt(mean_squared_error(y_test, y_pred) )\n",
        "RMSE_1_feature"
      ],
      "execution_count": 0,
      "outputs": [
        {
          "output_type": "execute_result",
          "data": {
            "text/plain": [
              "268.55219885344326"
            ]
          },
          "metadata": {
            "tags": []
          },
          "execution_count": 138
        }
      ]
    },
    {
      "cell_type": "markdown",
      "metadata": {
        "id": "Bl7xYaT-ZagX",
        "colab_type": "text"
      },
      "source": [
        "Using the logarithmic transformation, we improved the model."
      ]
    },
    {
      "cell_type": "code",
      "metadata": {
        "id": "27gZR7paZagZ",
        "colab_type": "code",
        "colab": {},
        "outputId": "9197afa4-b42d-4113-9de8-45282ef7e078"
      },
      "source": [
        "model.summary()"
      ],
      "execution_count": 0,
      "outputs": [
        {
          "output_type": "stream",
          "text": [
            "                            OLS Regression Results                            \n",
            "==============================================================================\n",
            "Dep. Variable:                      y   R-squared:                       0.102\n",
            "Model:                            OLS   Adj. R-squared:                  0.097\n",
            "Method:                 Least Squares   F-statistic:                     22.84\n",
            "Date:                Tue, 18 Feb 2020   Prob (F-statistic):           3.39e-06\n",
            "Time:                        19:28:51   Log-Likelihood:                -1439.2\n",
            "No. Observations:                 204   AIC:                             2882.\n",
            "Df Residuals:                     202   BIC:                             2889.\n",
            "Df Model:                           1                                         \n",
            "Covariance Type:            nonrobust                                         \n",
            "==================================================================================\n",
            "                     coef    std err          t      P>|t|      [0.025      0.975]\n",
            "----------------------------------------------------------------------------------\n",
            "intercept        118.3754    104.580      1.132      0.259     -87.832     324.583\n",
            "KBytesReceived   123.5323     25.850      4.779      0.000      72.562     174.503\n",
            "==============================================================================\n",
            "Omnibus:                       17.210   Durbin-Watson:                   2.129\n",
            "Prob(Omnibus):                  0.000   Jarque-Bera (JB):                9.465\n",
            "Skew:                           0.356   Prob(JB):                      0.00880\n",
            "Kurtosis:                       2.220   Cond. No.                         22.7\n",
            "==============================================================================\n",
            "\n",
            "Warnings:\n",
            "[1] Standard Errors assume that the covariance matrix of the errors is correctly specified.\n"
          ],
          "name": "stdout"
        }
      ]
    },
    {
      "cell_type": "markdown",
      "metadata": {
        "id": "REbeolOgZagc",
        "colab_type": "text"
      },
      "source": [
        "## Multivariate Linear Regression"
      ]
    },
    {
      "cell_type": "markdown",
      "metadata": {
        "id": "CdHfgvUBZage",
        "colab_type": "text"
      },
      "source": [
        "Can we improve the test loss if we use other features?\n",
        "\n",
        "Have a first look at the more correlated features (see notebook on data exploration)"
      ]
    },
    {
      "cell_type": "code",
      "metadata": {
        "scrolled": false,
        "id": "DbWsM3UfZage",
        "colab_type": "code",
        "colab": {},
        "outputId": "ace84f71-101e-495e-9a26-db4946427ccf"
      },
      "source": [
        "corrmatrix = df.corr().round(3)\n",
        "corr_to_label_num = corrmatrix['label_num']\n",
        "# We sort based on the absolute value (see https://stackoverflow.com/a/30486411/2110769)\n",
        "corr_to_label_num.reindex(corr_to_label_num.abs().sort_values(ascending=False).index)"
      ],
      "execution_count": 0,
      "outputs": [
        {
          "output_type": "execute_result",
          "data": {
            "text/plain": [
              "label_num              1.000\n",
              "EpochTime             -0.408\n",
              "StartTime             -0.408\n",
              "PacketsSent            0.384\n",
              "PacketsSent0           0.363\n",
              "BytesReceived_log      0.340\n",
              "KBytesReceived_log     0.340\n",
              "PacketsReceived_log    0.336\n",
              "BytesSent0             0.297\n",
              "BytesReceived          0.264\n",
              "KBytesReceived         0.264\n",
              "PacketsSent_log        0.257\n",
              "PacketsReceived        0.252\n",
              "BytesSent3            -0.234\n",
              "BytesSent              0.225\n",
              "BytesReceived0         0.203\n",
              "PacketsReceived0       0.199\n",
              "BytesSent4            -0.182\n",
              "PacketsSent3          -0.148\n",
              "PacketsSent1           0.136\n",
              "PlaybackProgress      -0.133\n",
              "BytesSent6            -0.130\n",
              "BytesSent15           -0.122\n",
              "PacketsSent15         -0.120\n",
              "PacketsReceived1       0.107\n",
              "BytesReceived1         0.106\n",
              "PacketsSent4          -0.105\n",
              "BufferHealth           0.104\n",
              "BytesSent1             0.104\n",
              "BytesReceived5        -0.099\n",
              "                       ...  \n",
              "PacketsSent20            NaN\n",
              "PacketsReceived20        NaN\n",
              "BytesSent20              NaN\n",
              "BytesReceived20          NaN\n",
              "Protocol21               NaN\n",
              "PacketsSent21            NaN\n",
              "PacketsReceived21        NaN\n",
              "BytesSent21              NaN\n",
              "BytesReceived21          NaN\n",
              "Protocol22               NaN\n",
              "PacketsSent22            NaN\n",
              "PacketsReceived22        NaN\n",
              "BytesSent22              NaN\n",
              "BytesReceived22          NaN\n",
              "Protocol23               NaN\n",
              "PacketsSent23            NaN\n",
              "PacketsReceived23        NaN\n",
              "BytesSent23              NaN\n",
              "BytesReceived23          NaN\n",
              "Protocol24               NaN\n",
              "PacketsSent24            NaN\n",
              "PacketsReceived24        NaN\n",
              "BytesSent24              NaN\n",
              "BytesReceived24          NaN\n",
              "Protocol25               NaN\n",
              "Buffering                NaN\n",
              "Paused                   NaN\n",
              "Playing                  NaN\n",
              "CollectData              NaN\n",
              "BufferValid              NaN\n",
              "Name: label_num, Length: 141, dtype: float64"
            ]
          },
          "metadata": {
            "tags": []
          },
          "execution_count": 140
        }
      ]
    },
    {
      "cell_type": "markdown",
      "metadata": {
        "id": "dNbHwND7Zagh",
        "colab_type": "text"
      },
      "source": [
        "Let's add `StartTime` among the regressors"
      ]
    },
    {
      "cell_type": "code",
      "metadata": {
        "scrolled": false,
        "id": "sjuycwtpZagi",
        "colab_type": "code",
        "colab": {},
        "outputId": "41d1390a-0b9a-45c9-8bf5-1aa423851d02"
      },
      "source": [
        "cols = ['KBytesReceived_log', 'StartTime']\n",
        "\n",
        "# We do not need to reshape(-1,1) this time, as we \n",
        "# have a matrix with two columns now.\n",
        "X_train = df_train[cols ].values\n",
        "model = AndreaLinearRegression()\n",
        "model.fit(X_train, y_train, column_names=cols)\n",
        "model.summary()"
      ],
      "execution_count": 0,
      "outputs": [
        {
          "output_type": "stream",
          "text": [
            "                            OLS Regression Results                            \n",
            "==============================================================================\n",
            "Dep. Variable:                      y   R-squared:                       0.101\n",
            "Model:                            OLS   Adj. R-squared:                  0.097\n",
            "Method:                 Least Squares   F-statistic:                     22.77\n",
            "Date:                Tue, 18 Feb 2020   Prob (F-statistic):           3.49e-06\n",
            "Time:                        19:28:51   Log-Likelihood:                -1439.2\n",
            "No. Observations:                 204   AIC:                             2882.\n",
            "Df Residuals:                     202   BIC:                             2889.\n",
            "Df Model:                           1                                         \n",
            "Covariance Type:            nonrobust                                         \n",
            "======================================================================================\n",
            "                         coef    std err          t      P>|t|      [0.025      0.975]\n",
            "--------------------------------------------------------------------------------------\n",
            "intercept              0.0289      0.006      4.809      0.000       0.017       0.041\n",
            "KBytesReceived_log   124.2161     25.830      4.809      0.000      73.285     175.147\n",
            "StartTime           7.599e-11   6.87e-11      1.106      0.270   -5.95e-11    2.12e-10\n",
            "==============================================================================\n",
            "Omnibus:                       17.150   Durbin-Watson:                   2.129\n",
            "Prob(Omnibus):                  0.000   Jarque-Bera (JB):                9.455\n",
            "Skew:                           0.356   Prob(JB):                      0.00885\n",
            "Kurtosis:                       2.221   Cond. No.                     1.72e+15\n",
            "==============================================================================\n",
            "\n",
            "Warnings:\n",
            "[1] Standard Errors assume that the covariance matrix of the errors is correctly specified.\n",
            "[2] The condition number is large, 1.72e+15. This might indicate that there are\n",
            "strong multicollinearity or other numerical problems.\n"
          ],
          "name": "stdout"
        }
      ]
    },
    {
      "cell_type": "code",
      "metadata": {
        "id": "Tmlixw1NZagl",
        "colab_type": "code",
        "colab": {}
      },
      "source": [
        "X_test = df_test[cols ].values\n",
        "y_pred = model.predict(X_test)"
      ],
      "execution_count": 0,
      "outputs": []
    },
    {
      "cell_type": "code",
      "metadata": {
        "id": "FraeuQnEZago",
        "colab_type": "code",
        "colab": {},
        "outputId": "82e794af-17f6-4635-870a-02b599b1bc9c"
      },
      "source": [
        "MSE = mean_squared_error(y_test, y_pred)\n",
        "RMSE_some_features = math.sqrt(MSE)\n",
        "print('RMSE now: ', RMSE_some_features, '; RMSE with one feature: ',\n",
        "      RMSE_one_feature)"
      ],
      "execution_count": 0,
      "outputs": [
        {
          "output_type": "stream",
          "text": [
            "RMSE now:  268.5379993855423 ; RMSE with one feature:  273.8960512946408\n"
          ],
          "name": "stdout"
        }
      ]
    },
    {
      "cell_type": "markdown",
      "metadata": {
        "id": "eVU_kuFZZagr",
        "colab_type": "text"
      },
      "source": [
        "We improved our RMSE by also considering `StartTime` ... BUT ...\n",
        "\n",
        "**Attention**: The correlation between `StartTime` and the label is __artificial__, just because the experimenter first measured low quality video sessions and then high quality. This would not be true in a real deployment\n",
        "\n",
        "\n",
        "**DO NOT BE OBSESSED BY REDUCING THE ERROR, AND LOOK AT THE MEANING OF FEATURES!**"
      ]
    },
    {
      "cell_type": "markdown",
      "metadata": {
        "id": "nZ2bud7SZagr",
        "colab_type": "text"
      },
      "source": [
        "Let's add other correlated features"
      ]
    },
    {
      "cell_type": "code",
      "metadata": {
        "id": "_GboaeldZags",
        "colab_type": "code",
        "colab": {}
      },
      "source": [
        "cols=['PacketsSent', 'KBytesReceived_log', 'PacketsReceived_log']\n",
        "\n",
        "X_train = df_train[cols].values\n",
        "X_test = df_test[cols].values"
      ],
      "execution_count": 0,
      "outputs": []
    },
    {
      "cell_type": "code",
      "metadata": {
        "id": "DPVAJUlpZagv",
        "colab_type": "code",
        "colab": {},
        "outputId": "95338074-ee5c-4383-fb90-95ee6484856c"
      },
      "source": [
        "model = AndreaLinearRegression()\n",
        "model.fit(X_train, y_train, column_names=cols)"
      ],
      "execution_count": 0,
      "outputs": [
        {
          "output_type": "execute_result",
          "data": {
            "text/plain": [
              "AndreaLinearRegression(fit_intercept=True)"
            ]
          },
          "metadata": {
            "tags": []
          },
          "execution_count": 145
        }
      ]
    },
    {
      "cell_type": "code",
      "metadata": {
        "id": "sWqb1jEtZagy",
        "colab_type": "code",
        "colab": {},
        "outputId": "82c45063-2299-4a40-fc76-56d506b027e8"
      },
      "source": [
        "model.summary()"
      ],
      "execution_count": 0,
      "outputs": [
        {
          "output_type": "stream",
          "text": [
            "                            OLS Regression Results                            \n",
            "==============================================================================\n",
            "Dep. Variable:                      y   R-squared:                       0.174\n",
            "Model:                            OLS   Adj. R-squared:                  0.161\n",
            "Method:                 Least Squares   F-statistic:                     14.03\n",
            "Date:                Tue, 18 Feb 2020   Prob (F-statistic):           2.46e-08\n",
            "Time:                        19:28:51   Log-Likelihood:                -1430.6\n",
            "No. Observations:                 204   AIC:                             2869.\n",
            "Df Residuals:                     200   BIC:                             2883.\n",
            "Df Model:                           3                                         \n",
            "Covariance Type:            nonrobust                                         \n",
            "=======================================================================================\n",
            "                          coef    std err          t      P>|t|      [0.025      0.975]\n",
            "---------------------------------------------------------------------------------------\n",
            "intercept             297.7369    109.629      2.716      0.007      81.559     513.915\n",
            "PacketsSent             5.0637      1.212      4.177      0.000       2.673       7.454\n",
            "KBytesReceived_log    -32.2476    159.920     -0.202      0.840    -347.593     283.097\n",
            "PacketsReceived_log    90.4637    166.725      0.543      0.588    -238.301     419.228\n",
            "==============================================================================\n",
            "Omnibus:                        9.198   Durbin-Watson:                   2.129\n",
            "Prob(Omnibus):                  0.010   Jarque-Bera (JB):                6.602\n",
            "Skew:                           0.318   Prob(JB):                       0.0368\n",
            "Kurtosis:                       2.389   Cond. No.                         341.\n",
            "==============================================================================\n",
            "\n",
            "Warnings:\n",
            "[1] Standard Errors assume that the covariance matrix of the errors is correctly specified.\n"
          ],
          "name": "stdout"
        }
      ]
    },
    {
      "cell_type": "code",
      "metadata": {
        "id": "28QPi5WGZag1",
        "colab_type": "code",
        "colab": {},
        "outputId": "a0a36ab8-f867-4996-9465-d6ade491a98e"
      },
      "source": [
        "y_pred = model.predict(X_test)\n",
        "MSE = mean_squared_error(y_test, y_pred)\n",
        "RMSE_few_features = math.sqrt(MSE)\n",
        "print('RMSE now: ', RMSE_few_features, '; RMSE with one feature: ',\n",
        "      RMSE_one_feature)"
      ],
      "execution_count": 0,
      "outputs": [
        {
          "output_type": "stream",
          "text": [
            "RMSE now:  263.9484263293869 ; RMSE with one feature:  273.8960512946408\n"
          ],
          "name": "stdout"
        }
      ]
    },
    {
      "cell_type": "markdown",
      "metadata": {
        "id": "NrFCFlriZag4",
        "colab_type": "text"
      },
      "source": [
        "We improved a bit"
      ]
    },
    {
      "cell_type": "markdown",
      "metadata": {
        "id": "1XbfGR2fZag6",
        "colab_type": "text"
      },
      "source": [
        "What if we take all the numeric features?"
      ]
    },
    {
      "cell_type": "code",
      "metadata": {
        "id": "SjROnnLiZag8",
        "colab_type": "code",
        "colab": {},
        "outputId": "15acc7eb-efa2-4bf8-9210-f24e533c07f6"
      },
      "source": [
        "# Trick from https://stackoverflow.com/a/51684628/2110769\n",
        "cols = df_train.select_dtypes([np.number]).columns\n",
        "cols"
      ],
      "execution_count": 0,
      "outputs": [
        {
          "output_type": "execute_result",
          "data": {
            "text/plain": [
              "Index(['RelativeTime', 'PacketsSent', 'PacketsReceived', 'BytesSent',\n",
              "       'BytesReceived', 'PacketsSent0', 'PacketsReceived0', 'BytesSent0',\n",
              "       'BytesReceived0', 'PacketsSent1',\n",
              "       ...\n",
              "       'BufferHealth', 'BufferProgress', 'KBytesReceived', 'label_num',\n",
              "       'KBytesReceived_log', 'PacketsSent_log', 'PacketsReceived_log',\n",
              "       'BytesSent_log', 'BytesReceived_log', 'BufferProgress_log'],\n",
              "      dtype='object', length=140)"
            ]
          },
          "metadata": {
            "tags": []
          },
          "execution_count": 148
        }
      ]
    },
    {
      "cell_type": "markdown",
      "metadata": {
        "id": "11Pl33fDZahN",
        "colab_type": "text"
      },
      "source": [
        "To construct our X_train and X_test, we should remove the target `label_num` and the \"artificial features\"."
      ]
    },
    {
      "cell_type": "code",
      "metadata": {
        "id": "Yrrf0SVQZahO",
        "colab_type": "code",
        "colab": {}
      },
      "source": [
        "cols = cols.drop(['label_num', 'StartTime', 'EpochTime' ] )"
      ],
      "execution_count": 0,
      "outputs": []
    },
    {
      "cell_type": "code",
      "metadata": {
        "scrolled": false,
        "id": "5nHJfwq1ZahR",
        "colab_type": "code",
        "colab": {},
        "outputId": "cd2b7ce3-12a1-46e0-ad91-290b8ec9469f"
      },
      "source": [
        "X_train = df_train[cols].values\n",
        "X_test = df_test[cols].values\n",
        "\n",
        "model = AndreaLinearRegression()\n",
        "model.fit(X_train, y_train, column_names=cols)\n",
        "model.summary()"
      ],
      "execution_count": 0,
      "outputs": [
        {
          "output_type": "stream",
          "text": [
            "                            OLS Regression Results                            \n",
            "==============================================================================\n",
            "Dep. Variable:                      y   R-squared:                       0.612\n",
            "Model:                            OLS   Adj. R-squared:                  0.449\n",
            "Method:                 Least Squares   F-statistic:                     3.758\n",
            "Date:                Tue, 18 Feb 2020   Prob (F-statistic):           5.19e-11\n",
            "Time:                        19:28:51   Log-Likelihood:                -1353.5\n",
            "No. Observations:                 204   AIC:                             2829.\n",
            "Df Residuals:                     143   BIC:                             3032.\n",
            "Df Model:                          60                                         \n",
            "Covariance Type:            nonrobust                                         \n",
            "=======================================================================================\n",
            "                          coef    std err          t      P>|t|      [0.025      0.975]\n",
            "---------------------------------------------------------------------------------------\n",
            "RelativeTime            5.8463      2.351      2.487      0.014       1.199      10.494\n",
            "PacketsSent            88.2742     52.532      1.680      0.095     -15.565     192.114\n",
            "PacketsReceived     -1034.0938   2210.599     -0.468      0.641   -5403.767    3335.579\n",
            "BytesSent              10.2562     11.624      0.882      0.379     -12.720      33.233\n",
            "BytesReceived           9.5655     22.270      0.430      0.668     -34.455      53.586\n",
            "PacketsSent0          -74.2672     53.337     -1.392      0.166    -179.698      31.164\n",
            "PacketsReceived0     1053.0249   2210.033      0.476      0.634   -3315.531    5421.581\n",
            "BytesSent0            -10.4142     11.621     -0.896      0.372     -33.384      12.556\n",
            "BytesReceived0         -9.5800     22.269     -0.430      0.668     -53.600      34.440\n",
            "PacketsSent1          -65.1791     52.664     -1.238      0.218    -169.279      38.921\n",
            "PacketsReceived1      968.6417   2208.515      0.439      0.662   -3396.913    5334.196\n",
            "BytesSent1            -10.3662     11.657     -0.889      0.375     -33.409      12.677\n",
            "BytesReceived1         -9.5234     22.268     -0.428      0.670     -53.541      34.494\n",
            "PacketsSent2          -63.2601     55.565     -1.138      0.257    -173.095      46.574\n",
            "PacketsReceived2      978.5710   2216.434      0.442      0.660   -3402.637    5359.779\n",
            "BytesSent2            -10.1933     11.643     -0.875      0.383     -33.208      12.822\n",
            "BytesReceived2         -9.5410     22.273     -0.428      0.669     -53.569      34.487\n",
            "PacketsSent3         -117.3106     96.224     -1.219      0.225    -307.516      72.895\n",
            "PacketsReceived3     1092.6383   2224.123      0.491      0.624   -3303.768    5489.045\n",
            "BytesSent3            -10.2603     11.656     -0.880      0.380     -33.301      12.780\n",
            "BytesReceived3         -9.6007     22.278     -0.431      0.667     -53.638      34.437\n",
            "PacketsSent4           11.0604    104.176      0.106      0.916    -194.863     216.983\n",
            "PacketsReceived4     1154.9732   2223.109      0.520      0.604   -3239.429    5549.375\n",
            "BytesSent4            -10.9446     11.678     -0.937      0.350     -34.029      12.140\n",
            "BytesReceived4         -9.6797     22.277     -0.435      0.665     -53.714      34.354\n",
            "PacketsSent5         -194.6589    209.809     -0.928      0.355    -609.387     220.070\n",
            "PacketsReceived5     1499.5363   1942.014      0.772      0.441   -2339.228    5338.300\n",
            "BytesSent5            -10.3314     11.631     -0.888      0.376     -33.321      12.659\n",
            "BytesReceived5        -10.2214     22.095     -0.463      0.644     -53.897      33.454\n",
            "PacketsSent6           40.3667    184.277      0.219      0.827    -323.893     404.626\n",
            "PacketsReceived6     1093.0407   2252.790      0.485      0.628   -3360.032    5546.114\n",
            "BytesSent6            -11.6289     11.576     -1.005      0.317     -34.511      11.254\n",
            "BytesReceived6         -9.5208     22.352     -0.426      0.671     -53.705      34.663\n",
            "PacketsSent7         -640.5397    386.294     -1.658      0.099   -1404.125     123.046\n",
            "PacketsReceived7     1112.8869   2154.267      0.517      0.606   -3145.436    5371.210\n",
            "BytesSent7             -9.0510     11.618     -0.779      0.437     -32.017      13.915\n",
            "BytesReceived7         -9.3759     22.233     -0.422      0.674     -53.324      34.572\n",
            "PacketsSent8          334.7630    280.193      1.195      0.234    -219.093     888.619\n",
            "PacketsReceived8       -0.0158      0.032     -0.488      0.626      -0.080       0.048\n",
            "BytesSent8            -10.2198     11.823     -0.864      0.389     -33.589      13.150\n",
            "BytesReceived8         -8.5917     18.017     -0.477      0.634     -44.206      27.023\n",
            "PacketsSent9           -0.0422      0.037     -1.146      0.254      -0.115       0.031\n",
            "PacketsReceived9       -0.0112      0.028     -0.402      0.689      -0.066       0.044\n",
            "BytesSent9            -11.4468     11.937     -0.959      0.339     -35.043      12.150\n",
            "BytesReceived9         -8.3492     20.202     -0.413      0.680     -48.282      31.583\n",
            "Protocol10          -4.184e-05   4.57e-05     -0.916      0.361      -0.000    4.84e-05\n",
            "PacketsSent10        4.708e-05   5.06e-05      0.930      0.354   -5.29e-05       0.000\n",
            "PacketsReceived10   -6.133e-05   6.48e-05     -0.947      0.345      -0.000    6.67e-05\n",
            "BytesSent10          2.376e-05   2.47e-05      0.963      0.337    -2.5e-05    7.25e-05\n",
            "BytesReceived10     -6.481e-05   6.92e-05     -0.936      0.351      -0.000     7.2e-05\n",
            "Protocol11           2.182e-05   2.41e-05      0.904      0.368   -2.59e-05    6.95e-05\n",
            "PacketsSent11         1.93e-06   1.18e-06      1.632      0.105   -4.08e-07    4.27e-06\n",
            "PacketsReceived11     6.52e-06   6.95e-06      0.938      0.350   -7.22e-06    2.03e-05\n",
            "BytesSent11           9.31e-06   1.01e-05      0.920      0.359   -1.07e-05    2.93e-05\n",
            "BytesReceived11      6.903e-06   7.09e-06      0.973      0.332   -7.11e-06    2.09e-05\n",
            "PacketsSent12           0.2127      0.422      0.505      0.615      -0.621       1.046\n",
            "PacketsReceived12      -0.1708      0.206     -0.829      0.409      -0.578       0.237\n",
            "BytesSent12            -5.1474     12.074     -0.426      0.671     -29.015      18.720\n",
            "BytesReceived12       -11.9752     14.434     -0.830      0.408     -40.506      16.556\n",
            "PacketsSent13          -0.0457      0.046     -0.984      0.327      -0.137       0.046\n",
            "PacketsReceived13      -0.0170      0.041     -0.418      0.676      -0.097       0.063\n",
            "BytesSent13           -10.9367     11.688     -0.936      0.351     -34.041      12.168\n",
            "BytesReceived13        -6.5474     16.540     -0.396      0.693     -39.241      26.146\n",
            "Protocol14                   0          0        nan        nan           0           0\n",
            "PacketsSent14                0          0        nan        nan           0           0\n",
            "PacketsReceived14            0          0        nan        nan           0           0\n",
            "BytesSent14                  0          0        nan        nan           0           0\n",
            "BytesReceived14              0          0        nan        nan           0           0\n",
            "PacketsSent15           0.0032      0.070      0.046      0.964      -0.135       0.142\n",
            "PacketsReceived15       0.0763      0.131      0.583      0.561      -0.183       0.335\n",
            "BytesSent15           -11.0498     11.709     -0.944      0.347     -34.194      12.094\n",
            "BytesReceived15         5.3375      9.170      0.582      0.561     -12.789      23.464\n",
            "Protocol16                   0          0        nan        nan           0           0\n",
            "PacketsSent16                0          0        nan        nan           0           0\n",
            "PacketsReceived16            0          0        nan        nan           0           0\n",
            "BytesSent16                  0          0        nan        nan           0           0\n",
            "BytesReceived16              0          0        nan        nan           0           0\n",
            "Protocol17                   0          0        nan        nan           0           0\n",
            "PacketsSent17                0          0        nan        nan           0           0\n",
            "PacketsReceived17            0          0        nan        nan           0           0\n",
            "BytesSent17                  0          0        nan        nan           0           0\n",
            "BytesReceived17              0          0        nan        nan           0           0\n",
            "Protocol18                   0          0        nan        nan           0           0\n",
            "PacketsSent18                0          0        nan        nan           0           0\n",
            "PacketsReceived18            0          0        nan        nan           0           0\n",
            "BytesSent18                  0          0        nan        nan           0           0\n",
            "BytesReceived18              0          0        nan        nan           0           0\n",
            "Protocol19                   0          0        nan        nan           0           0\n",
            "PacketsSent19                0          0        nan        nan           0           0\n",
            "PacketsReceived19            0          0        nan        nan           0           0\n",
            "BytesSent19                  0          0        nan        nan           0           0\n",
            "BytesReceived19              0          0        nan        nan           0           0\n",
            "Protocol20                   0          0        nan        nan           0           0\n",
            "PacketsSent20                0          0        nan        nan           0           0\n",
            "PacketsReceived20            0          0        nan        nan           0           0\n",
            "BytesSent20                  0          0        nan        nan           0           0\n",
            "BytesReceived20              0          0        nan        nan           0           0\n",
            "Protocol21                   0          0        nan        nan           0           0\n",
            "PacketsSent21                0          0        nan        nan           0           0\n",
            "PacketsReceived21            0          0        nan        nan           0           0\n",
            "BytesSent21                  0          0        nan        nan           0           0\n",
            "BytesReceived21              0          0        nan        nan           0           0\n",
            "Protocol22                   0          0        nan        nan           0           0\n",
            "PacketsSent22                0          0        nan        nan           0           0\n",
            "PacketsReceived22            0          0        nan        nan           0           0\n",
            "BytesSent22                  0          0        nan        nan           0           0\n",
            "BytesReceived22              0          0        nan        nan           0           0\n",
            "Protocol23                   0          0        nan        nan           0           0\n",
            "PacketsSent23                0          0        nan        nan           0           0\n",
            "PacketsReceived23            0          0        nan        nan           0           0\n",
            "BytesSent23                  0          0        nan        nan           0           0\n",
            "BytesReceived23              0          0        nan        nan           0           0\n",
            "Protocol24                   0          0        nan        nan           0           0\n",
            "PacketsSent24                0          0        nan        nan           0           0\n",
            "PacketsReceived24            0          0        nan        nan           0           0\n",
            "BytesSent24                  0          0        nan        nan           0           0\n",
            "BytesReceived24              0          0        nan        nan           0           0\n",
            "Protocol25                   0          0        nan        nan           0           0\n",
            "PacketsSent25         726.8338    487.937      1.490      0.139    -237.668    1691.335\n",
            "PacketsReceived25    1031.5677   2210.588      0.467      0.641   -3338.084    5401.220\n",
            "BytesSent25           -19.9122     12.961     -1.536      0.127     -45.531       5.707\n",
            "BytesReceived25        -9.5637     22.270     -0.429      0.668     -53.584      34.457\n",
            "Buffering                    0          0        nan        nan           0           0\n",
            "Paused                       0          0        nan        nan           0           0\n",
            "Playing              2.281e+07   2.46e+07      0.929      0.354   -2.57e+07    7.13e+07\n",
            "CollectData                  0          0        nan        nan           0           0\n",
            "PlaybackProgress    -2278.7429   1643.384     -1.387      0.168   -5527.208     969.722\n",
            "Length                 -0.2554      0.218     -1.170      0.244      -0.687       0.176\n",
            "BufferHealth           21.0690     33.745      0.624      0.533     -45.635      87.773\n",
            "BufferProgress       4.339e+06   1.67e+06      2.602      0.010    1.04e+06    7.64e+06\n",
            "KBytesReceived          0.0825      0.080      1.029      0.305      -0.076       0.241\n",
            "KBytesReceived_log   3.302e+06   3.55e+06      0.929      0.354   -3.72e+06    1.03e+07\n",
            "PacketsSent_log       327.5762    112.132      2.921      0.004     105.925     549.227\n",
            "PacketsReceived_log   -10.3264    363.225     -0.028      0.977    -728.310     707.658\n",
            "BytesSent_log        -137.9484     49.054     -2.812      0.006    -234.914     -40.983\n",
            "BytesReceived_log   -3.302e+06   3.55e+06     -0.929      0.354   -1.03e+07    3.72e+06\n",
            "BufferProgress_log  -4.391e+06   1.69e+06     -2.604      0.010   -7.72e+06   -1.06e+06\n",
            "==============================================================================\n",
            "Omnibus:                        4.172   Durbin-Watson:                   2.001\n",
            "Prob(Omnibus):                  0.124   Jarque-Bera (JB):                4.149\n",
            "Skew:                           0.214   Prob(JB):                        0.126\n",
            "Kurtosis:                       3.553   Cond. No.                     1.06e+16\n",
            "==============================================================================\n",
            "\n",
            "Warnings:\n",
            "[1] Standard Errors assume that the covariance matrix of the errors is correctly specified.\n",
            "[2] The smallest eigenvalue is 2.49e-20. This might indicate that there are\n",
            "strong multicollinearity problems or that the design matrix is singular.\n"
          ],
          "name": "stdout"
        },
        {
          "output_type": "stream",
          "text": [
            "/home/araldo/.conda/envs/my_env/lib/python3.6/site-packages/statsmodels/base/model.py:1100: RuntimeWarning: invalid value encountered in true_divide\n",
            "  return self.params / self.bse\n",
            "/home/araldo/.conda/envs/my_env/lib/python3.6/site-packages/scipy/stats/_distn_infrastructure.py:877: RuntimeWarning: invalid value encountered in greater\n",
            "  return (self.a < x) & (x < self.b)\n",
            "/home/araldo/.conda/envs/my_env/lib/python3.6/site-packages/scipy/stats/_distn_infrastructure.py:877: RuntimeWarning: invalid value encountered in less\n",
            "  return (self.a < x) & (x < self.b)\n",
            "/home/araldo/.conda/envs/my_env/lib/python3.6/site-packages/scipy/stats/_distn_infrastructure.py:1831: RuntimeWarning: invalid value encountered in less_equal\n",
            "  cond2 = cond0 & (x <= self.a)\n"
          ],
          "name": "stderr"
        }
      ]
    },
    {
      "cell_type": "markdown",
      "metadata": {
        "id": "ai8jcQWoZahU",
        "colab_type": "text"
      },
      "source": [
        "Let's deal with the warnings later. Let's just test the model."
      ]
    },
    {
      "cell_type": "code",
      "metadata": {
        "scrolled": false,
        "id": "nUWi-TaTZahV",
        "colab_type": "code",
        "colab": {},
        "outputId": "3b0ccff5-521d-4cbc-dc46-a5eea331f475"
      },
      "source": [
        "y_pred = model.predict(X_test)\n",
        "RMSE_all_features = math.sqrt(mean_squared_error(y_test, y_pred))\n",
        "print('RMSE now: ', RMSE_all_features, '; RMSE with some features: ',\n",
        "      RMSE_some_features)\n"
      ],
      "execution_count": 0,
      "outputs": [
        {
          "output_type": "stream",
          "text": [
            "RMSE now:  1052.5103207215234 ; RMSE with some features:  268.5379993855423\n"
          ],
          "name": "stdout"
        }
      ]
    },
    {
      "cell_type": "markdown",
      "metadata": {
        "id": "PRxh16UpZahZ",
        "colab_type": "text"
      },
      "source": [
        "What? We use more features and we obtain a worse model?"
      ]
    },
    {
      "cell_type": "markdown",
      "metadata": {
        "id": "QpNpB1PwZaha",
        "colab_type": "text"
      },
      "source": [
        "## Correct a bad model"
      ]
    },
    {
      "cell_type": "markdown",
      "metadata": {
        "id": "1k7jW9vEZahb",
        "colab_type": "text"
      },
      "source": [
        "Note that no coefficient is significant (look at the p-value). The model is \"rubbish\"."
      ]
    },
    {
      "cell_type": "markdown",
      "metadata": {
        "id": "bzeEhcr-Zahc",
        "colab_type": "text"
      },
      "source": [
        "\n",
        "\n",
        "Remember that\n",
        "$$\n",
        "    \\boldsymbol{\\theta}^* = (X^T X)^{-1} X^T \\textbf{y}\n",
        "$$\n",
        "\n",
        "Is $X^T X$ invertible?"
      ]
    },
    {
      "cell_type": "markdown",
      "metadata": {
        "id": "pM8WINYfZahc",
        "colab_type": "text"
      },
      "source": [
        "### Constant features"
      ]
    },
    {
      "cell_type": "code",
      "metadata": {
        "id": "GIClDLhbZahd",
        "colab_type": "code",
        "colab": {},
        "outputId": "4e7e842f-0add-48e3-d567-4ef5c51d3c87"
      },
      "source": [
        "import feature_engineering # From the course library\n",
        "help(feature_engineering)\n"
      ],
      "execution_count": 0,
      "outputs": [
        {
          "output_type": "stream",
          "text": [
            "Help on module feature_engineering:\n",
            "\n",
            "NAME\n",
            "    feature_engineering\n",
            "\n",
            "FUNCTIONS\n",
            "    get_features_correlated_to_target(df, target_feature)\n",
            "        Returns the Pearson's correlation coefficient between the \n",
            "        features and the target\n",
            "        \n",
            "        Parameters\n",
            "        ------------\n",
            "        df_: dataframe\n",
            "        \n",
            "        target_feature: string\n",
            "                the name of the target feature\n",
            "        \n",
            "        Returns\n",
            "        --------------\n",
            "        Series\n",
            "                A series of features, with the Person's correlation \n",
            "                coefficient between them and the target, ordered in decreasing\n",
            "                oder of correlation\n",
            "    \n",
            "    get_most_correlated(df)\n",
            "        Returns the pairs of features in descending order of Person's \n",
            "        correlation\n",
            "        \n",
            "        Parameters\n",
            "        --------------\n",
            "        df: dataframe\n",
            "        \n",
            "        Returns\n",
            "        -------------\n",
            "        Series\n",
            "                the pair of features and the Pearson's coefficient\n",
            "    \n",
            "    low_var_features(df, threshold)\n",
            "        Returns the features whose variance is \n",
            "        above the threshold\n",
            "        \n",
            "        Parameters\n",
            "        ------------\n",
            "        df: dataframe\n",
            "        threshold : float\n",
            "        \n",
            "        Returns\n",
            "        -----------\n",
            "        list\n",
            "            the names of the features whose variance is below\n",
            "            the threshold\n",
            "\n",
            "FILE\n",
            "    /home/araldo/Dropbox/universita_in_fieri/tsp/teaching/data_science/new-course/NET4550/course_library/feature_engineering.py\n",
            "\n",
            "\n"
          ],
          "name": "stdout"
        }
      ]
    },
    {
      "cell_type": "code",
      "metadata": {
        "id": "ZyiWYWNDZahf",
        "colab_type": "code",
        "colab": {},
        "outputId": "bf4cf2f3-2256-4eef-dd54-d3dd7688f61a"
      },
      "source": [
        "non_constant_features = \\\n",
        "    feature_engineering.low_var_features(df_train[cols], threshold=0)\n",
        "non_constant_features"
      ],
      "execution_count": 0,
      "outputs": [
        {
          "output_type": "execute_result",
          "data": {
            "text/plain": [
              "['RelativeTime',\n",
              " 'PacketsSent',\n",
              " 'PacketsReceived',\n",
              " 'BytesSent',\n",
              " 'BytesReceived',\n",
              " 'PacketsSent0',\n",
              " 'PacketsReceived0',\n",
              " 'BytesSent0',\n",
              " 'BytesReceived0',\n",
              " 'PacketsSent1',\n",
              " 'PacketsReceived1',\n",
              " 'BytesSent1',\n",
              " 'BytesReceived1',\n",
              " 'PacketsSent2',\n",
              " 'PacketsReceived2',\n",
              " 'BytesSent2',\n",
              " 'BytesReceived2',\n",
              " 'PacketsSent3',\n",
              " 'PacketsReceived3',\n",
              " 'BytesSent3',\n",
              " 'BytesReceived3',\n",
              " 'PacketsSent4',\n",
              " 'PacketsReceived4',\n",
              " 'BytesSent4',\n",
              " 'BytesReceived4',\n",
              " 'PacketsSent5',\n",
              " 'PacketsReceived5',\n",
              " 'BytesSent5',\n",
              " 'BytesReceived5',\n",
              " 'PacketsSent6',\n",
              " 'PacketsReceived6',\n",
              " 'BytesSent6',\n",
              " 'BytesReceived6',\n",
              " 'PacketsSent7',\n",
              " 'PacketsReceived7',\n",
              " 'BytesSent7',\n",
              " 'BytesReceived7',\n",
              " 'PacketsSent8',\n",
              " 'PacketsReceived8',\n",
              " 'BytesSent8',\n",
              " 'BytesReceived8',\n",
              " 'PacketsSent9',\n",
              " 'PacketsReceived9',\n",
              " 'BytesSent9',\n",
              " 'BytesReceived9',\n",
              " 'PacketsSent12',\n",
              " 'PacketsReceived12',\n",
              " 'BytesSent12',\n",
              " 'BytesReceived12',\n",
              " 'PacketsSent13',\n",
              " 'PacketsReceived13',\n",
              " 'BytesSent13',\n",
              " 'BytesReceived13',\n",
              " 'PacketsSent15',\n",
              " 'PacketsReceived15',\n",
              " 'BytesSent15',\n",
              " 'BytesReceived15',\n",
              " 'PacketsSent25',\n",
              " 'PacketsReceived25',\n",
              " 'BytesSent25',\n",
              " 'BytesReceived25',\n",
              " 'PlaybackProgress',\n",
              " 'Length',\n",
              " 'BufferHealth',\n",
              " 'BufferProgress',\n",
              " 'KBytesReceived',\n",
              " 'KBytesReceived_log',\n",
              " 'PacketsSent_log',\n",
              " 'PacketsReceived_log',\n",
              " 'BytesSent_log',\n",
              " 'BytesReceived_log',\n",
              " 'BufferProgress_log']"
            ]
          },
          "metadata": {
            "tags": []
          },
          "execution_count": 153
        }
      ]
    },
    {
      "cell_type": "markdown",
      "metadata": {
        "id": "-2BEOjFKZahj",
        "colab_type": "text"
      },
      "source": [
        "We must only use non-constant features"
      ]
    },
    {
      "cell_type": "code",
      "metadata": {
        "scrolled": false,
        "id": "SsgTyrozZahk",
        "colab_type": "code",
        "colab": {},
        "outputId": "003af721-0462-4a18-cb48-488cae769c0c"
      },
      "source": [
        "X_train = df_train[non_constant_features].values\n",
        "X_test = df_test[non_constant_features].values\n",
        "\n",
        "model = AndreaLinearRegression()\n",
        "model.fit(X_train, y_train, column_names=non_constant_features)\n",
        "model.summary()"
      ],
      "execution_count": 0,
      "outputs": [
        {
          "output_type": "stream",
          "text": [
            "                            OLS Regression Results                            \n",
            "==============================================================================\n",
            "Dep. Variable:                      y   R-squared:                       0.612\n",
            "Model:                            OLS   Adj. R-squared:                  0.449\n",
            "Method:                 Least Squares   F-statistic:                     3.758\n",
            "Date:                Tue, 18 Feb 2020   Prob (F-statistic):           5.19e-11\n",
            "Time:                        19:28:51   Log-Likelihood:                -1353.5\n",
            "No. Observations:                 204   AIC:                             2829.\n",
            "Df Residuals:                     143   BIC:                             3032.\n",
            "Df Model:                          60                                         \n",
            "Covariance Type:            nonrobust                                         \n",
            "=======================================================================================\n",
            "                          coef    std err          t      P>|t|      [0.025      0.975]\n",
            "---------------------------------------------------------------------------------------\n",
            "intercept            2.281e+07   2.46e+07      0.929      0.354   -2.57e+07    7.13e+07\n",
            "RelativeTime            5.8463      2.351      2.487      0.014       1.199      10.494\n",
            "PacketsSent            76.4455     50.727      1.507      0.134     -23.826     176.717\n",
            "PacketsReceived     -1034.0938   2210.599     -0.468      0.641   -5403.767    3335.579\n",
            "BytesSent              -0.4591      0.546     -0.841      0.402      -1.538       0.620\n",
            "BytesReceived           9.5656     22.270      0.430      0.668     -34.455      53.586\n",
            "PacketsSent0          -62.4384     51.400     -1.215      0.226    -164.041      39.164\n",
            "PacketsReceived0     1053.0249   2210.033      0.476      0.634   -3315.531    5421.581\n",
            "BytesSent0              0.3011      0.549      0.549      0.584      -0.783       1.385\n",
            "BytesReceived0         -9.5800     22.269     -0.430      0.668     -53.600      34.440\n",
            "PacketsSent1          -53.3503     51.366     -1.039      0.301    -154.885      48.185\n",
            "PacketsReceived1      968.6417   2208.515      0.439      0.662   -3396.913    5334.196\n",
            "BytesSent1              0.3490      0.565      0.618      0.537      -0.767       1.465\n",
            "BytesReceived1         -9.5234     22.268     -0.428      0.670     -53.541      34.494\n",
            "PacketsSent2          -51.4314     54.535     -0.943      0.347    -159.231      56.368\n",
            "PacketsReceived2      978.5710   2216.434      0.442      0.660   -3402.637    5359.779\n",
            "BytesSent2              0.5220      0.636      0.821      0.413      -0.735       1.779\n",
            "BytesReceived2         -9.5410     22.273     -0.428      0.669     -53.569      34.487\n",
            "PacketsSent3         -105.4818     96.107     -1.098      0.274    -295.456      84.492\n",
            "PacketsReceived3     1092.6383   2224.123      0.491      0.624   -3303.768    5489.045\n",
            "BytesSent3              0.4549      0.645      0.706      0.481      -0.819       1.729\n",
            "BytesReceived3         -9.6007     22.278     -0.431      0.667     -53.638      34.437\n",
            "PacketsSent4           22.8892    105.672      0.217      0.829    -185.992     231.770\n",
            "PacketsReceived4     1154.9732   2223.109      0.520      0.604   -3239.429    5549.375\n",
            "BytesSent4             -0.2294      0.648     -0.354      0.724      -1.510       1.051\n",
            "BytesReceived4         -9.6797     22.277     -0.435      0.665     -53.714      34.354\n",
            "PacketsSent5         -182.8302    209.940     -0.871      0.385    -597.817     232.157\n",
            "PacketsReceived5     1499.5363   1942.014      0.772      0.441   -2339.228    5338.300\n",
            "BytesSent5              0.3838      0.579      0.662      0.509      -0.761       1.529\n",
            "BytesReceived5        -10.2214     22.095     -0.463      0.644     -53.897      33.454\n",
            "PacketsSent6           52.1955    182.513      0.286      0.775    -308.577     412.968\n",
            "PacketsReceived6     1093.0407   2252.790      0.485      0.628   -3360.032    5546.114\n",
            "BytesSent6             -0.9137      0.909     -1.005      0.317      -2.711       0.883\n",
            "BytesReceived6         -9.5208     22.352     -0.426      0.671     -53.705      34.663\n",
            "PacketsSent7         -628.7109    385.289     -1.632      0.105   -1390.309     132.887\n",
            "PacketsReceived7     1112.8869   2154.267      0.517      0.606   -3145.436    5371.210\n",
            "BytesSent7              1.6642      1.581      1.052      0.294      -1.462       4.790\n",
            "BytesReceived7         -9.3759     22.233     -0.422      0.674     -53.324      34.572\n",
            "PacketsSent8          346.5917    280.222      1.237      0.218    -207.321     900.504\n",
            "PacketsReceived8       -0.0156      0.032     -0.482      0.630      -0.080       0.048\n",
            "BytesSent8              0.4954      2.051      0.242      0.809      -3.558       4.549\n",
            "BytesReceived8         -8.5917     18.017     -0.477      0.634     -44.206      27.023\n",
            "PacketsSent9           -0.0117      0.018     -0.656      0.513      -0.047       0.024\n",
            "PacketsReceived9       -0.0115      0.028     -0.413      0.680      -0.067       0.044\n",
            "BytesSent9             -0.6972      2.716     -0.257      0.798      -6.066       4.672\n",
            "BytesReceived9         -8.3353     20.202     -0.413      0.681     -48.269      31.599\n",
            "PacketsSent12           0.3835      0.392      0.980      0.329      -0.390       1.157\n",
            "PacketsReceived12      -0.1751      0.206     -0.848      0.398      -0.583       0.233\n",
            "BytesSent12             5.7444      3.321      1.730      0.086      -0.821      12.310\n",
            "BytesReceived12       -12.2578     14.451     -0.848      0.398     -40.824      16.308\n",
            "PacketsSent13          -0.0132      0.032     -0.411      0.681      -0.076       0.050\n",
            "PacketsReceived13      -0.0159      0.041     -0.390      0.697      -0.096       0.065\n",
            "BytesSent13            -0.1870      0.785     -0.238      0.812      -1.738       1.364\n",
            "BytesReceived13        -6.5252     16.541     -0.394      0.694     -39.221      26.171\n",
            "PacketsSent15           0.0346      0.059      0.582      0.562      -0.083       0.152\n",
            "PacketsReceived15       0.0775      0.131      0.592      0.555      -0.181       0.336\n",
            "BytesSent15            -0.3008      0.790     -0.381      0.704      -1.863       1.261\n",
            "BytesReceived15         5.4147      9.165      0.591      0.556     -12.702      23.532\n",
            "PacketsSent25         738.6625    487.872      1.514      0.132    -225.711    1703.036\n",
            "PacketsReceived25    1031.5677   2210.588      0.467      0.641   -3338.084    5401.220\n",
            "BytesSent25            -9.1969      5.614     -1.638      0.104     -20.294       1.900\n",
            "BytesReceived25        -9.5637     22.270     -0.429      0.668     -53.584      34.457\n",
            "PlaybackProgress    -2278.7429   1643.384     -1.387      0.168   -5527.208     969.722\n",
            "Length                 -0.2554      0.218     -1.170      0.244      -0.687       0.176\n",
            "BufferHealth           21.0690     33.745      0.624      0.533     -45.635      87.773\n",
            "BufferProgress       4.339e+06   1.67e+06      2.602      0.010    1.04e+06    7.64e+06\n",
            "KBytesReceived          0.0199      0.022      0.889      0.376      -0.024       0.064\n",
            "KBytesReceived_log   3.302e+06   3.55e+06      0.929      0.354   -3.72e+06    1.03e+07\n",
            "PacketsSent_log       327.5762    112.132      2.921      0.004     105.925     549.227\n",
            "PacketsReceived_log   -10.3264    363.225     -0.028      0.977    -728.310     707.658\n",
            "BytesSent_log        -137.9484     49.054     -2.812      0.006    -234.914     -40.983\n",
            "BytesReceived_log   -3.302e+06   3.55e+06     -0.929      0.354   -1.03e+07    3.72e+06\n",
            "BufferProgress_log  -4.391e+06   1.69e+06     -2.604      0.010   -7.72e+06   -1.06e+06\n",
            "==============================================================================\n",
            "Omnibus:                        4.172   Durbin-Watson:                   2.001\n",
            "Prob(Omnibus):                  0.124   Jarque-Bera (JB):                4.149\n",
            "Skew:                           0.214   Prob(JB):                        0.126\n",
            "Kurtosis:                       3.553   Cond. No.                     1.28e+16\n",
            "==============================================================================\n",
            "\n",
            "Warnings:\n",
            "[1] Standard Errors assume that the covariance matrix of the errors is correctly specified.\n",
            "[2] The smallest eigenvalue is 1.71e-20. This might indicate that there are\n",
            "strong multicollinearity problems or that the design matrix is singular.\n"
          ],
          "name": "stdout"
        }
      ]
    },
    {
      "cell_type": "markdown",
      "metadata": {
        "id": "BYgecGCQZahm",
        "colab_type": "text"
      },
      "source": [
        "The warnings disappear. Still, coefficients are no significant"
      ]
    },
    {
      "cell_type": "code",
      "metadata": {
        "id": "XLcXagAQZahn",
        "colab_type": "code",
        "colab": {},
        "outputId": "389902f4-ed2e-40dc-dbc0-809886d63498"
      },
      "source": [
        "y_pred = model.predict(X_test)\n",
        "RMSE = math.sqrt(mean_squared_error(y_test, y_pred))\n",
        "print('RMSE: ', RMSE)"
      ],
      "execution_count": 0,
      "outputs": [
        {
          "output_type": "stream",
          "text": [
            "RMSE:  1145.0099952070225\n"
          ],
          "name": "stdout"
        }
      ]
    },
    {
      "cell_type": "markdown",
      "metadata": {
        "id": "2Y_2YDsSZahq",
        "colab_type": "text"
      },
      "source": [
        "As expected, the performance is bad."
      ]
    },
    {
      "cell_type": "markdown",
      "metadata": {
        "id": "lx_CPTiMZahs",
        "colab_type": "text"
      },
      "source": [
        "### Collinearity"
      ]
    },
    {
      "cell_type": "markdown",
      "metadata": {
        "id": "EsS_dI4bZaht",
        "colab_type": "text"
      },
      "source": [
        "Let's check the most correlated features"
      ]
    },
    {
      "cell_type": "code",
      "metadata": {
        "id": "7ubrLajeZahu",
        "colab_type": "code",
        "colab": {},
        "outputId": "b6c1afa9-5b7d-4dd8-e601-90ef869cd45a"
      },
      "source": [
        "most_corr_feats = \\\n",
        "    feature_engineering.get_most_correlated(\n",
        "            df_train[non_constant_features])\n",
        "most_corr_feats"
      ],
      "execution_count": 0,
      "outputs": [
        {
          "output_type": "execute_result",
          "data": {
            "text/plain": [
              "PacketsReceived12    BytesReceived12        1.000\n",
              "PacketsReceived13    BytesReceived13        1.000\n",
              "BufferProgress       BufferProgress_log     1.000\n",
              "BytesReceived        KBytesReceived         1.000\n",
              "PacketsReceived8     BytesReceived8         1.000\n",
              "KBytesReceived_log   BytesReceived_log      1.000\n",
              "PacketsReceived15    BytesReceived15        1.000\n",
              "PacketsSent25        BytesSent25            0.999\n",
              "PacketsReceived0     BytesReceived0         0.999\n",
              "PacketsSent13        PacketsReceived13      0.998\n",
              "                     BytesReceived13        0.998\n",
              "PacketsReceived25    BytesReceived25        0.997\n",
              "PacketsReceived1     BytesReceived1         0.997\n",
              "PacketsSent13        BytesSent13            0.996\n",
              "PacketsSent8         BytesSent8             0.995\n",
              "PacketsReceived2     BytesReceived2         0.994\n",
              "PacketsReceived      KBytesReceived         0.993\n",
              "                     BytesReceived          0.993\n",
              "PacketsSent15        BytesSent15            0.992\n",
              "PacketsReceived13    BytesSent13            0.989\n",
              "BytesSent13          BytesReceived13        0.989\n",
              "PacketsSent8         BytesReceived8         0.988\n",
              "BytesSent12          BytesReceived12        0.988\n",
              "PacketsSent8         PacketsReceived8       0.988\n",
              "PacketsReceived12    BytesSent12            0.988\n",
              "KBytesReceived_log   PacketsReceived_log    0.987\n",
              "PacketsReceived_log  BytesReceived_log      0.987\n",
              "PacketsSent12        BytesSent12            0.986\n",
              "PacketsReceived8     BytesSent8             0.985\n",
              "BytesSent8           BytesReceived8         0.985\n",
              "                                            ...  \n",
              "BytesSent2           PacketsSent5          -0.002\n",
              "PacketsReceived5     BufferProgress        -0.002\n",
              "PacketsReceived4     Length                -0.002\n",
              "PacketsReceived1     PacketsReceived4       0.002\n",
              "BytesReceived9       PlaybackProgress       0.002\n",
              "PacketsReceived4     BytesReceived9         0.002\n",
              "PacketsReceived      PacketsReceived7      -0.001\n",
              "PacketsReceived3     PacketsSent5           0.001\n",
              "PacketsReceived      BytesSent7            -0.001\n",
              "PacketsSent4         BytesReceived7        -0.001\n",
              "BytesSent1           BytesReceived4        -0.001\n",
              "BytesReceived5       PlaybackProgress      -0.001\n",
              "BytesSent1           BytesReceived7         0.001\n",
              "BytesReceived4       PacketsSent7           0.001\n",
              "BytesSent13          PacketsReceived_log    0.001\n",
              "BytesSent            PacketsSent3          -0.001\n",
              "BytesReceived4       PacketsReceived9      -0.001\n",
              "PacketsSent2         PacketsReceived_log   -0.001\n",
              "BytesReceived0       PacketsReceived6      -0.001\n",
              "BytesReceived5       PacketsSent_log        0.000\n",
              "BytesReceived15      BytesSent_log         -0.000\n",
              "PacketsReceived15    BytesSent_log         -0.000\n",
              "BytesReceived6       BytesSent25            0.000\n",
              "                     PacketsSent25          0.000\n",
              "BytesReceived0       BytesSent6            -0.000\n",
              "PacketsReceived8     BufferHealth           0.000\n",
              "BytesReceived4       BytesSent9            -0.000\n",
              "BytesReceived8       BufferHealth           0.000\n",
              "BytesReceived15      BufferHealth          -0.000\n",
              "PacketsReceived15    BufferHealth          -0.000\n",
              "Length: 2556, dtype: float64"
            ]
          },
          "metadata": {
            "tags": []
          },
          "execution_count": 156
        }
      ]
    },
    {
      "cell_type": "markdown",
      "metadata": {
        "id": "wmECMMzIZahz",
        "colab_type": "text"
      },
      "source": [
        "As expected, packets received/set and bytes received/set are highly correlated. Also the variables transformed to log are correlated with the original ones. We can remove the original ones. If we have KBytes, we can remove Bytes"
      ]
    },
    {
      "cell_type": "code",
      "metadata": {
        "scrolled": true,
        "id": "UnHxjL7zZah1",
        "colab_type": "code",
        "colab": {},
        "outputId": "3b0691a7-d58a-45fe-eff2-d2d5e575cb24"
      },
      "source": [
        "to_remove = ['PacketsReceived8',\n",
        "        'PacketsReceived15', 'PacketsReceived13',\n",
        "          'BytesReceived','BytesReceived_log','BufferProgress',\n",
        "          'PacketsReceived0', 'PacketsSent25', 'PacketsReceived25'\n",
        "            ]\n",
        "\n",
        "# Take from non_constant_features all the features except the ones in\n",
        "# to_remove\n",
        "cols_1 = []\n",
        "for feat in non_constant_features:\n",
        "    if feat not in to_remove:\n",
        "        cols_1.append(feat)\n",
        "        \n",
        "        \n",
        "X_train = df_train[cols_1].values\n",
        "X_test = df_test[cols_1].values\n",
        "model = AndreaLinearRegression()\n",
        "model.fit(X_train, y_train, column_names=cols_1)\n",
        "model.summary()"
      ],
      "execution_count": 0,
      "outputs": [
        {
          "output_type": "stream",
          "text": [
            "                            OLS Regression Results                            \n",
            "==============================================================================\n",
            "Dep. Variable:                      y   R-squared:                       0.583\n",
            "Model:                            OLS   Adj. R-squared:                  0.424\n",
            "Method:                 Least Squares   F-statistic:                     3.674\n",
            "Date:                Tue, 18 Feb 2020   Prob (F-statistic):           1.65e-10\n",
            "Time:                        19:28:51   Log-Likelihood:                -1360.8\n",
            "No. Observations:                 204   AIC:                             2836.\n",
            "Df Residuals:                     147   BIC:                             3025.\n",
            "Df Model:                          56                                         \n",
            "Covariance Type:            nonrobust                                         \n",
            "=======================================================================================\n",
            "                          coef    std err          t      P>|t|      [0.025      0.975]\n",
            "---------------------------------------------------------------------------------------\n",
            "intercept             540.6574    347.515      1.556      0.122    -146.114    1227.429\n",
            "RelativeTime            5.1428      2.359      2.180      0.031       0.480       9.805\n",
            "PacketsSent           793.9222    512.914      1.548      0.124    -219.716    1807.560\n",
            "PacketsReceived         4.4504      8.830      0.504      0.615     -12.999      21.900\n",
            "BytesSent              -1.8098      1.238     -1.462      0.146      -4.255       0.636\n",
            "PacketsSent0         -779.3447    513.280     -1.518      0.131   -1793.705     235.016\n",
            "BytesSent0              1.6462      1.244      1.324      0.188      -0.811       4.104\n",
            "BytesReceived0          0.7102      1.002      0.709      0.480      -1.270       2.690\n",
            "PacketsSent1         -774.9165    512.386     -1.512      0.133   -1787.510     237.677\n",
            "PacketsReceived1      -51.9312     60.838     -0.854      0.395    -172.161      68.299\n",
            "BytesSent1              1.6822      1.233      1.364      0.175      -0.755       4.120\n",
            "BytesReceived1          0.7457      1.009      0.739      0.461      -1.248       2.739\n",
            "PacketsSent2         -777.1960    515.204     -1.509      0.134   -1795.359     240.967\n",
            "PacketsReceived2      -35.2584     75.950     -0.464      0.643    -185.353     114.837\n",
            "BytesSent2              1.8889      1.277      1.479      0.141      -0.635       4.413\n",
            "BytesReceived2          0.7229      1.007      0.718      0.474      -1.268       2.713\n",
            "PacketsSent3         -862.4740    518.586     -1.663      0.098   -1887.321     162.373\n",
            "PacketsReceived3       68.2532     73.608      0.927      0.355     -77.213     213.719\n",
            "BytesSent3              1.9183      1.283      1.496      0.137      -0.617       4.453\n",
            "BytesReceived3          0.6811      1.001      0.681      0.497      -1.296       2.658\n",
            "PacketsSent4         -707.3428    520.702     -1.358      0.176   -1736.372     321.686\n",
            "PacketsReceived4      114.5381    130.652      0.877      0.382    -143.662     372.738\n",
            "BytesSent4              1.0072      1.276      0.789      0.431      -1.514       3.529\n",
            "BytesReceived4          0.6112      1.023      0.598      0.551      -1.410       2.632\n",
            "PacketsSent5         -951.3242    560.636     -1.697      0.092   -2059.272     156.623\n",
            "PacketsReceived5      616.7071    289.609      2.129      0.035      44.371    1189.043\n",
            "BytesSent5              1.7879      1.234      1.449      0.149      -0.650       4.226\n",
            "BytesReceived5          0.0081      0.975      0.008      0.993      -1.919       1.935\n",
            "PacketsSent6         -627.1954    551.347     -1.138      0.257   -1716.785     462.394\n",
            "PacketsReceived6       68.8179    295.327      0.233      0.816    -514.817     652.453\n",
            "BytesSent6              0.1898      1.418      0.134      0.894      -2.612       2.991\n",
            "BytesReceived6          0.8058      1.374      0.586      0.558      -1.910       3.521\n",
            "PacketsSent7        -1264.5443    848.382     -1.491      0.138   -2941.146     412.057\n",
            "PacketsReceived7       91.0960    278.171      0.327      0.744    -458.635     640.827\n",
            "BytesSent7              2.6187      2.271      1.153      0.251      -1.869       7.106\n",
            "BytesReceived7          0.8494      1.053      0.807      0.421      -1.231       2.930\n",
            "PacketsSent8         -351.0730    612.018     -0.574      0.567   -1560.564     858.418\n",
            "BytesSent8              2.3115      2.097      1.103      0.272      -1.832       6.455\n",
            "BytesReceived8         -0.4239      1.090     -0.389      0.698      -2.578       1.730\n",
            "PacketsSent9           -0.0073      0.006     -1.334      0.184      -0.018       0.004\n",
            "PacketsReceived9      9.72e-05      0.002      0.059      0.953      -0.003       0.003\n",
            "BytesSent9             -2.5950      2.017     -1.286      0.200      -6.582       1.392\n",
            "BytesReceived9          0.1589      1.108      0.143      0.886      -2.031       2.349\n",
            "PacketsSent12          -0.1051      0.546     -0.193      0.848      -1.184       0.974\n",
            "PacketsReceived12       0.0229      0.256      0.090      0.929      -0.482       0.528\n",
            "BytesSent12            -4.3764      7.641     -0.573      0.568     -19.476      10.723\n",
            "BytesReceived12         1.6014     17.892      0.090      0.929     -33.757      36.959\n",
            "PacketsSent13          -0.0037      0.003     -1.061      0.290      -0.011       0.003\n",
            "BytesSent13            -1.1201      0.808     -1.386      0.168      -2.717       0.477\n",
            "BytesReceived13        -0.2165      1.345     -0.161      0.872      -2.875       2.442\n",
            "PacketsSent15          -0.0259      0.035     -0.750      0.455      -0.094       0.042\n",
            "BytesSent15            -1.1095      0.776     -1.429      0.155      -2.644       0.425\n",
            "BytesReceived15        -3.4639      5.397     -0.642      0.522     -14.130       7.202\n",
            "BytesSent25            -7.6595      4.944     -1.549      0.123     -17.429       2.110\n",
            "BytesReceived25         0.7107      1.002      0.709      0.479      -1.270       2.691\n",
            "PlaybackProgress    -2686.4092   1659.574     -1.619      0.108   -5966.115     593.297\n",
            "Length                 -0.1552      0.216     -0.717      0.474      -0.583       0.272\n",
            "BufferHealth            9.0591     34.057      0.266      0.791     -58.246      76.364\n",
            "KBytesReceived       -714.6890   1002.016     -0.713      0.477   -2694.906    1265.528\n",
            "KBytesReceived_log    175.6171    320.554      0.548      0.585    -457.872     809.106\n",
            "PacketsSent_log       316.0259    114.306      2.765      0.006      90.130     541.922\n",
            "PacketsReceived_log  -110.1026    364.747     -0.302      0.763    -830.927     610.722\n",
            "BytesSent_log        -125.8737     49.900     -2.523      0.013    -224.488     -27.259\n",
            "BufferProgress_log  -3776.4879   2.47e+04     -0.153      0.879   -5.26e+04     4.5e+04\n",
            "==============================================================================\n",
            "Omnibus:                        0.980   Durbin-Watson:                   1.963\n",
            "Prob(Omnibus):                  0.613   Jarque-Bera (JB):                0.697\n",
            "Skew:                           0.122   Prob(JB):                        0.706\n",
            "Kurtosis:                       3.149   Cond. No.                     1.34e+16\n",
            "==============================================================================\n",
            "\n",
            "Warnings:\n",
            "[1] Standard Errors assume that the covariance matrix of the errors is correctly specified.\n",
            "[2] The smallest eigenvalue is 6.92e-21. This might indicate that there are\n",
            "strong multicollinearity problems or that the design matrix is singular.\n"
          ],
          "name": "stdout"
        }
      ]
    },
    {
      "cell_type": "code",
      "metadata": {
        "scrolled": false,
        "id": "8n70GVWyZah3",
        "colab_type": "code",
        "colab": {},
        "outputId": "6a8d462b-9f7b-40af-b454-436f7ff0a79c"
      },
      "source": [
        "y_pred = model.predict(X_test)\n",
        "RMSE = math.sqrt(mean_squared_error(y_test, y_pred))\n",
        "print('RMSE: ', RMSE, '; RMSE with one feature: ',\n",
        "      RMSE_one_feature)"
      ],
      "execution_count": 0,
      "outputs": [
        {
          "output_type": "stream",
          "text": [
            "RMSE:  489.05947122317014 ; RMSE with one feature:  273.8960512946408\n"
          ],
          "name": "stdout"
        }
      ]
    },
    {
      "cell_type": "markdown",
      "metadata": {
        "id": "i2PCkKiZZah5",
        "colab_type": "text"
      },
      "source": [
        "After removing the most correlated features, the model improved a bit. Still, the model with one feature only is better.\n",
        "\n",
        "Let's check the correlation among the remaining features."
      ]
    },
    {
      "cell_type": "code",
      "metadata": {
        "id": "arQu57dPZah5",
        "colab_type": "code",
        "colab": {},
        "outputId": "35726ef7-cd5f-4bc2-efb8-786de34034d4"
      },
      "source": [
        "most_corr_feats = \\\n",
        "    feature_engineering.get_most_correlated(df_train[cols_1])\n",
        "most_corr_feats"
      ],
      "execution_count": 0,
      "outputs": [
        {
          "output_type": "execute_result",
          "data": {
            "text/plain": [
              "PacketsReceived12   BytesReceived12        1.000\n",
              "PacketsSent13       BytesReceived13        0.998\n",
              "PacketsReceived1    BytesReceived1         0.997\n",
              "PacketsSent13       BytesSent13            0.996\n",
              "PacketsSent8        BytesSent8             0.995\n",
              "PacketsReceived2    BytesReceived2         0.994\n",
              "PacketsReceived     KBytesReceived         0.993\n",
              "PacketsSent15       BytesSent15            0.992\n",
              "BytesSent13         BytesReceived13        0.989\n",
              "PacketsReceived12   BytesSent12            0.988\n",
              "BytesSent12         BytesReceived12        0.988\n",
              "PacketsSent8        BytesReceived8         0.988\n",
              "KBytesReceived_log  PacketsReceived_log    0.987\n",
              "PacketsSent12       BytesSent12            0.986\n",
              "BytesSent8          BytesReceived8         0.985\n",
              "PacketsReceived4    BytesReceived4         0.981\n",
              "PacketsSent1        BytesSent1             0.979\n",
              "PacketsSent0        BytesSent0             0.975\n",
              "PacketsReceived3    BytesReceived3         0.967\n",
              "PacketsSent1        PacketsReceived1       0.963\n",
              "PacketsSent15       BytesReceived15        0.949\n",
              "PacketsSent12       PacketsReceived12      0.949\n",
              "                    BytesReceived12        0.949\n",
              "PacketsSent9        PacketsReceived9       0.944\n",
              "PacketsSent1        BytesReceived1         0.943\n",
              "PacketsSent         BytesSent              0.936\n",
              "PacketsSent2        PacketsReceived2       0.936\n",
              "                    BytesSent2             0.934\n",
              "PacketsSent4        PacketsReceived4       0.930\n",
              "PacketsReceived1    BytesSent1             0.920\n",
              "                                           ...  \n",
              "                    PacketsReceived4       0.002\n",
              "PacketsSent3        BytesSent5            -0.002\n",
              "PacketsReceived4    Length                -0.002\n",
              "PacketsSent2        BytesSent5             0.002\n",
              "PacketsSent0        PacketsReceived9       0.002\n",
              "PacketsSent         BytesSent4             0.002\n",
              "PacketsSent1        BytesReceived4         0.002\n",
              "BytesReceived1      BytesReceived6        -0.002\n",
              "BytesSent6          BytesSent25           -0.002\n",
              "                    Length                -0.002\n",
              "PacketsReceived     PacketsReceived7      -0.001\n",
              "PacketsSent2        PacketsReceived_log   -0.001\n",
              "BytesReceived5      PlaybackProgress      -0.001\n",
              "BytesReceived0      PacketsReceived6      -0.001\n",
              "BytesSent1          BytesReceived4        -0.001\n",
              "                    BytesReceived7         0.001\n",
              "PacketsSent4        BytesReceived7        -0.001\n",
              "BytesReceived4      PacketsReceived9      -0.001\n",
              "                    PacketsSent7           0.001\n",
              "BytesSent13         PacketsReceived_log    0.001\n",
              "PacketsReceived     BytesSent7            -0.001\n",
              "PacketsReceived3    PacketsSent5           0.001\n",
              "BytesSent           PacketsSent3          -0.001\n",
              "BytesReceived8      BufferHealth           0.000\n",
              "BytesReceived4      BytesSent9            -0.000\n",
              "BytesReceived6      BytesSent25            0.000\n",
              "BytesReceived0      BytesSent6            -0.000\n",
              "BytesReceived5      PacketsSent_log        0.000\n",
              "BytesReceived15     BufferHealth          -0.000\n",
              "                    BytesSent_log         -0.000\n",
              "Length: 1953, dtype: float64"
            ]
          },
          "metadata": {
            "tags": []
          },
          "execution_count": 159
        }
      ]
    },
    {
      "cell_type": "markdown",
      "metadata": {
        "id": "UhqiOmqmZah8",
        "colab_type": "text"
      },
      "source": [
        "Let's remove all the features regarding Packets (as they are highly correlated with Bytes). Still, preserve the ones that have high correlation with the target."
      ]
    },
    {
      "cell_type": "code",
      "metadata": {
        "id": "119h9DifZah9",
        "colab_type": "code",
        "colab": {},
        "outputId": "22dfedd0-5830-4c1e-c408-a5bc56c08d24"
      },
      "source": [
        "feature_engineering.get_features_correlated_to_target(\n",
        "                    df_train[cols_1+['label_num']], 'label_num')"
      ],
      "execution_count": 0,
      "outputs": [
        {
          "output_type": "execute_result",
          "data": {
            "text/plain": [
              "label_num              1.00\n",
              "PacketsSent            0.40\n",
              "PacketsSent0           0.37\n",
              "PacketsReceived_log    0.32\n",
              "KBytesReceived_log     0.32\n",
              "PacketsSent_log        0.30\n",
              "BytesSent0             0.30\n",
              "KBytesReceived         0.26\n",
              "PacketsReceived        0.25\n",
              "BytesSent3            -0.25\n",
              "BytesSent              0.24\n",
              "BytesReceived0         0.19\n",
              "PacketsSent3          -0.18\n",
              "BytesSent4            -0.16\n",
              "PacketsReceived1       0.15\n",
              "BytesReceived1         0.15\n",
              "BytesSent15           -0.14\n",
              "PacketsSent1           0.14\n",
              "PlaybackProgress      -0.14\n",
              "PacketsSent15         -0.13\n",
              "BytesSent1             0.12\n",
              "BytesReceived5        -0.12\n",
              "BytesSent6            -0.12\n",
              "BytesReceived15       -0.11\n",
              "BytesSent7            -0.10\n",
              "BufferProgress_log     0.09\n",
              "RelativeTime           0.09\n",
              "BufferHealth           0.08\n",
              "PacketsSent4          -0.08\n",
              "PacketsReceived5      -0.08\n",
              "                       ... \n",
              "PacketsReceived6       0.07\n",
              "BytesSent8            -0.06\n",
              "BytesReceived8        -0.06\n",
              "PacketsReceived3      -0.06\n",
              "PacketsSent12          0.06\n",
              "PacketsSent8          -0.05\n",
              "BytesReceived3        -0.05\n",
              "PacketsSent7          -0.05\n",
              "BytesReceived6         0.05\n",
              "PacketsReceived9       0.04\n",
              "BytesSent12            0.04\n",
              "BytesReceived4        -0.04\n",
              "PacketsSent2           0.04\n",
              "PacketsReceived4      -0.04\n",
              "BytesReceived13        0.03\n",
              "PacketsReceived12      0.03\n",
              "BytesSent_log          0.03\n",
              "PacketsSent9           0.03\n",
              "BytesReceived9         0.03\n",
              "BytesSent5            -0.03\n",
              "BytesReceived12        0.03\n",
              "PacketsSent13          0.02\n",
              "BytesSent9             0.02\n",
              "BytesSent2            -0.02\n",
              "BytesSent13            0.01\n",
              "BytesSent25           -0.01\n",
              "PacketsReceived2       0.01\n",
              "BytesReceived2         0.01\n",
              "PacketsSent6          -0.01\n",
              "Length                -0.00\n",
              "Name: label_num, Length: 64, dtype: float64"
            ]
          },
          "metadata": {
            "tags": []
          },
          "execution_count": 160
        }
      ]
    },
    {
      "cell_type": "code",
      "metadata": {
        "id": "Cxh-_MHwZah_",
        "colab_type": "code",
        "colab": {}
      },
      "source": [
        "to_preserve = ['PacketsSent','PacketsSent0','PacketsReceived_log',\n",
        "               'PacketsSent_log'\n",
        "]\n",
        "\n",
        "cols_2 = []\n",
        "for feat in cols_1:\n",
        "    if 'Packets' not in feat:\n",
        "        cols_2.append(feat)\n",
        "        \n",
        "cols_2 = cols_2 + to_preserve"
      ],
      "execution_count": 0,
      "outputs": []
    },
    {
      "cell_type": "code",
      "metadata": {
        "id": "mjpl7M_MZaiB",
        "colab_type": "code",
        "colab": {},
        "outputId": "6ccba12e-2fcd-4dc0-819a-d1dba2a1e8af"
      },
      "source": [
        "X_train = df_train[cols_2].values\n",
        "X_test = df_test[cols_2].values\n",
        "model = AndreaLinearRegression()\n",
        "model.fit(X_train, y_train, column_names=cols_2)\n",
        "model.summary()"
      ],
      "execution_count": 0,
      "outputs": [
        {
          "output_type": "stream",
          "text": [
            "                            OLS Regression Results                            \n",
            "==============================================================================\n",
            "Dep. Variable:                      y   R-squared:                       0.538\n",
            "Model:                            OLS   Adj. R-squared:                  0.425\n",
            "Method:                 Least Squares   F-statistic:                     4.747\n",
            "Date:                Tue, 18 Feb 2020   Prob (F-statistic):           6.44e-13\n",
            "Time:                        19:28:52   Log-Likelihood:                -1371.3\n",
            "No. Observations:                 204   AIC:                             2825.\n",
            "Df Residuals:                     163   BIC:                             2961.\n",
            "Df Model:                          40                                         \n",
            "Covariance Type:            nonrobust                                         \n",
            "=======================================================================================\n",
            "                          coef    std err          t      P>|t|      [0.025      0.975]\n",
            "---------------------------------------------------------------------------------------\n",
            "intercept             525.5257    311.281      1.688      0.093     -89.137    1140.188\n",
            "RelativeTime            2.7719      1.553      1.784      0.076      -0.295       5.839\n",
            "BytesSent               0.3905      0.267      1.463      0.146      -0.137       0.918\n",
            "BytesSent0             -0.5567      0.275     -2.027      0.044      -1.099      -0.014\n",
            "BytesReceived0         -0.4381      0.767     -0.571      0.569      -1.953       1.077\n",
            "BytesSent1             -0.6751      0.272     -2.479      0.014      -1.213      -0.137\n",
            "BytesReceived1         -0.4366      0.767     -0.569      0.570      -1.952       1.078\n",
            "BytesSent2             -0.4924      0.270     -1.822      0.070      -1.026       0.041\n",
            "BytesReceived2         -0.4471      0.767     -0.583      0.561      -1.961       1.067\n",
            "BytesSent3             -0.5534      0.282     -1.960      0.052      -1.111       0.004\n",
            "BytesReceived3         -0.4449      0.767     -0.580      0.563      -1.959       1.069\n",
            "BytesSent4             -0.6938      0.335     -2.070      0.040      -1.356      -0.032\n",
            "BytesReceived4         -0.4399      0.767     -0.573      0.567      -1.955       1.075\n",
            "BytesSent5             -0.5084      0.302     -1.684      0.094      -1.105       0.088\n",
            "BytesReceived5         -0.8353      0.788     -1.060      0.291      -2.391       0.720\n",
            "BytesSent6             -0.7433      0.458     -1.622      0.107      -1.648       0.161\n",
            "BytesReceived6          0.1271      1.031      0.123      0.902      -1.909       2.163\n",
            "BytesSent7             -0.6244      0.447     -1.396      0.165      -1.508       0.259\n",
            "BytesReceived7         -0.5511      0.780     -0.706      0.481      -2.092       0.990\n",
            "BytesSent8              0.5867      0.818      0.717      0.474      -1.029       2.202\n",
            "BytesReceived8         -0.9049      0.849     -1.065      0.288      -2.582       0.773\n",
            "BytesSent9              1.0961      0.975      1.125      0.262      -0.828       3.020\n",
            "BytesReceived9         -0.6639      0.794     -0.836      0.404      -2.232       0.904\n",
            "BytesSent12             5.8529      3.292      1.778      0.077      -0.647      12.353\n",
            "BytesReceived12       -20.6651     10.900     -1.896      0.060     -42.188       0.858\n",
            "BytesSent13            -0.7787      0.703     -1.107      0.270      -2.167       0.610\n",
            "BytesReceived13        -0.4825      0.852     -0.566      0.572      -2.166       1.201\n",
            "BytesSent15            -0.9049      0.693     -1.307      0.193      -2.273       0.463\n",
            "BytesReceived15        -0.2987      4.059     -0.074      0.941      -8.315       7.717\n",
            "BytesSent25            -0.6141      0.354     -1.732      0.085      -1.314       0.086\n",
            "BytesReceived25        -0.4371      0.767     -0.570      0.570      -1.952       1.078\n",
            "PlaybackProgress    -2352.4879   1595.523     -1.474      0.142   -5503.046     798.070\n",
            "Length                 -0.0752      0.201     -0.374      0.709      -0.473       0.322\n",
            "BufferHealth            0.2490     31.129      0.008      0.994     -61.219      61.717\n",
            "KBytesReceived        436.9129    767.095      0.570      0.570   -1077.812    1951.638\n",
            "KBytesReceived_log    -18.4679    247.667     -0.075      0.941    -507.518     470.582\n",
            "BytesSent_log        -125.6596     46.912     -2.679      0.008    -218.293     -33.026\n",
            "BufferProgress_log   3111.0583    2.2e+04      0.142      0.888   -4.03e+04    4.65e+04\n",
            "PacketsSent            21.2698     14.198      1.498      0.136      -6.766      49.305\n",
            "PacketsSent0           -7.5235     15.129     -0.497      0.620     -37.398      22.351\n",
            "PacketsReceived_log    73.8615    273.979      0.270      0.788    -467.144     614.866\n",
            "PacketsSent_log       343.7151    105.603      3.255      0.001     135.190     552.240\n",
            "==============================================================================\n",
            "Omnibus:                        0.530   Durbin-Watson:                   1.973\n",
            "Prob(Omnibus):                  0.767   Jarque-Bera (JB):                0.605\n",
            "Skew:                           0.118   Prob(JB):                        0.739\n",
            "Kurtosis:                       2.876   Cond. No.                     1.34e+16\n",
            "==============================================================================\n",
            "\n",
            "Warnings:\n",
            "[1] Standard Errors assume that the covariance matrix of the errors is correctly specified.\n",
            "[2] The smallest eigenvalue is 6.92e-21. This might indicate that there are\n",
            "strong multicollinearity problems or that the design matrix is singular.\n"
          ],
          "name": "stdout"
        }
      ]
    },
    {
      "cell_type": "markdown",
      "metadata": {
        "id": "-icK5AaTZaiE",
        "colab_type": "text"
      },
      "source": [
        "The significance of some features is reinforced, but in general significance is weak."
      ]
    },
    {
      "cell_type": "code",
      "metadata": {
        "id": "JMOdDU0OZaiE",
        "colab_type": "code",
        "colab": {},
        "outputId": "35ec9f92-8155-469d-d16c-b8670f3bc139"
      },
      "source": [
        "y_pred = model.predict(X_test)\n",
        "RMSE = math.sqrt(mean_squared_error(y_test, y_pred))\n",
        "print('RMSE: ', RMSE, '; RMSE with one feature: ',\n",
        "      RMSE_one_feature)"
      ],
      "execution_count": 0,
      "outputs": [
        {
          "output_type": "stream",
          "text": [
            "RMSE:  6714.577335488012 ; RMSE with one feature:  273.8960512946408\n"
          ],
          "name": "stdout"
        }
      ]
    },
    {
      "cell_type": "markdown",
      "metadata": {
        "id": "14X2Y8rLZaiH",
        "colab_type": "text"
      },
      "source": [
        "Performance is still bad. Let's remove other highly correlated features."
      ]
    },
    {
      "cell_type": "code",
      "metadata": {
        "id": "Gp0wHSjaZaiI",
        "colab_type": "code",
        "colab": {},
        "outputId": "3fb1c9bb-eda6-434e-9bb4-a331697963d8"
      },
      "source": [
        "most_corr_feats = \\\n",
        "    feature_engineering.get_most_correlated(df_train[cols_2])\n",
        "most_corr_feats"
      ],
      "execution_count": 0,
      "outputs": [
        {
          "output_type": "execute_result",
          "data": {
            "text/plain": [
              "BytesSent13         BytesReceived13        0.989\n",
              "BytesSent12         BytesReceived12        0.988\n",
              "KBytesReceived_log  PacketsReceived_log    0.987\n",
              "BytesSent8          BytesReceived8         0.985\n",
              "BytesSent0          PacketsSent0           0.975\n",
              "BytesSent           PacketsSent            0.936\n",
              "PacketsSent         PacketsSent0           0.909\n",
              "BufferHealth        BufferProgress_log     0.901\n",
              "BytesSent15         BytesReceived15        0.901\n",
              "BytesSent1          BytesReceived1         0.891\n",
              "BytesSent_log       PacketsSent_log        0.891\n",
              "BytesSent0          PacketsSent            0.886\n",
              "KBytesReceived      PacketsReceived_log    0.878\n",
              "                    KBytesReceived_log     0.870\n",
              "BytesSent0          BytesReceived0         0.860\n",
              "BytesSent9          BytesReceived13        0.858\n",
              "BytesSent           BytesSent0             0.853\n",
              "BytesSent9          BytesSent13            0.848\n",
              "BytesReceived0      PacketsSent0           0.843\n",
              "BytesSent           PacketsSent0           0.823\n",
              "BytesSent2          BytesReceived2         0.812\n",
              "PacketsSent         PacketsSent_log        0.808\n",
              "BytesSent           PacketsSent_log        0.795\n",
              "BytesReceived0      PacketsSent            0.735\n",
              "PacketsSent0        PacketsSent_log        0.715\n",
              "BytesSent0          PacketsSent_log        0.713\n",
              "BytesReceived0      KBytesReceived_log     0.702\n",
              "BytesSent           BytesReceived0         0.697\n",
              "BytesReceived0      PacketsReceived_log    0.668\n",
              "BytesReceived25     BytesSent_log         -0.660\n",
              "                                           ...  \n",
              "BytesReceived7      KBytesReceived_log     0.005\n",
              "BytesSent2          BytesSent5            -0.004\n",
              "BytesReceived13     PacketsSent0          -0.004\n",
              "BytesReceived9      KBytesReceived_log    -0.004\n",
              "BytesSent7          KBytesReceived        -0.004\n",
              "BytesReceived3      BytesReceived8        -0.004\n",
              "BytesReceived9      PacketsReceived_log   -0.003\n",
              "BytesSent7          PacketsSent_log        0.003\n",
              "BytesReceived4      Length                 0.003\n",
              "BytesReceived1      BytesSent12           -0.003\n",
              "BytesReceived7      PacketsReceived_log    0.002\n",
              "BytesSent1          BytesReceived6        -0.002\n",
              "BytesSent6          Length                -0.002\n",
              "                    BytesSent25           -0.002\n",
              "BytesReceived9      PlaybackProgress       0.002\n",
              "BytesSent7          BufferHealth          -0.002\n",
              "BytesSent4          PacketsSent            0.002\n",
              "BytesReceived1      BytesReceived6        -0.002\n",
              "BytesSent2          BytesSent9            -0.002\n",
              "BytesSent1          BytesReceived4        -0.001\n",
              "BytesSent13         PacketsReceived_log    0.001\n",
              "BytesReceived5      PlaybackProgress      -0.001\n",
              "BytesSent1          BytesReceived7         0.001\n",
              "BytesReceived4      BytesSent9            -0.000\n",
              "BytesReceived8      BufferHealth           0.000\n",
              "BytesReceived15     BytesSent_log         -0.000\n",
              "                    BufferHealth          -0.000\n",
              "BytesReceived5      PacketsSent_log        0.000\n",
              "BytesReceived6      BytesSent25            0.000\n",
              "BytesReceived0      BytesSent6            -0.000\n",
              "Length: 820, dtype: float64"
            ]
          },
          "metadata": {
            "tags": []
          },
          "execution_count": 164
        }
      ]
    },
    {
      "cell_type": "code",
      "metadata": {
        "id": "pA0iOdTeZaiL",
        "colab_type": "code",
        "colab": {},
        "outputId": "24323afe-f638-4c6a-980a-295bdc046cbc"
      },
      "source": [
        "to_remove = ['BytesReceived13','BytesReceived12','PacketsReceived_log',\n",
        "             'BytesReceived8','PacketsSent0','PacketsSent',\n",
        "             'BufferProgress_log','BytesReceived15','BytesReceived1',\n",
        "             'PacketsSent_log','PacketsSent', 'KBytesReceived'\n",
        "            ]\n",
        "\n",
        "cols_3 = []\n",
        "for feat in cols_2:\n",
        "    if feat not in to_remove:\n",
        "        cols_3.append(feat)\n",
        "        \n",
        "X_train = df_train[cols_3].values\n",
        "X_test = df_test[cols_3].values\n",
        "model = AndreaLinearRegression()\n",
        "model.fit(X_train, y_train)\n",
        "\n",
        "y_pred = model.predict(X_test)\n",
        "RMSE = math.sqrt(mean_squared_error(y_test, y_pred))\n",
        "print('RMSE: ', RMSE, '; RMSE with one feature: ',\n",
        "      RMSE_one_feature)"
      ],
      "execution_count": 0,
      "outputs": [
        {
          "output_type": "stream",
          "text": [
            "RMSE:  252.00084651697878 ; RMSE with one feature:  273.8960512946408\n"
          ],
          "name": "stdout"
        }
      ]
    },
    {
      "cell_type": "markdown",
      "metadata": {
        "id": "aSZ1_Df1ZaiO",
        "colab_type": "text"
      },
      "source": [
        "We finally have a model that seems better than the initial univariate one!"
      ]
    },
    {
      "cell_type": "markdown",
      "metadata": {
        "id": "1_VuwwSkZaiO",
        "colab_type": "text"
      },
      "source": [
        "# Cross-validation"
      ]
    },
    {
      "cell_type": "markdown",
      "metadata": {
        "id": "boUcestCZaiP",
        "colab_type": "text"
      },
      "source": [
        "Are we sure the model with these 3 features is the best? Or the good results just depend on the training/test set split?"
      ]
    },
    {
      "cell_type": "code",
      "metadata": {
        "scrolled": true,
        "id": "xFycwXnoZaiQ",
        "colab_type": "code",
        "colab": {},
        "outputId": "14d014b9-1efa-4a42-fd64-32be647c5e5a"
      },
      "source": [
        "X = df[cols_3].values\n",
        "y = df['label_num'].values\n",
        "\n",
        "\n",
        "k_fold = KFold(n_splits=5, shuffle=True, random_state=6)\n",
        "scores = cross_val_score(AndreaLinearRegression(),\n",
        "                X, y, cv=k_fold,\n",
        "                scoring='neg_mean_squared_error')\n",
        "scores"
      ],
      "execution_count": 0,
      "outputs": [
        {
          "output_type": "execute_result",
          "data": {
            "text/plain": [
              "array([-175867.83786347,  -56056.92564973, -115670.09288593,\n",
              "       -441516.67482338, -412723.78175341])"
            ]
          },
          "metadata": {
            "tags": []
          },
          "execution_count": 166
        }
      ]
    },
    {
      "cell_type": "code",
      "metadata": {
        "id": "8wgPEFnAZaiT",
        "colab_type": "code",
        "colab": {},
        "outputId": "486af8ec-da20-4e04-d7d0-ef78acdbb85d"
      },
      "source": [
        "mse_vector = -scores\n",
        "mse_vector"
      ],
      "execution_count": 0,
      "outputs": [
        {
          "output_type": "execute_result",
          "data": {
            "text/plain": [
              "array([175867.83786347,  56056.92564973, 115670.09288593, 441516.67482338,\n",
              "       412723.78175341])"
            ]
          },
          "metadata": {
            "tags": []
          },
          "execution_count": 167
        }
      ]
    },
    {
      "cell_type": "code",
      "metadata": {
        "id": "cWcr7wm1ZaiV",
        "colab_type": "code",
        "colab": {},
        "outputId": "23be58eb-d0a7-44bb-fb5a-da35e7b634cb"
      },
      "source": [
        "avg_mse = mean(mse_vector)\n",
        "avg_mse"
      ],
      "execution_count": 0,
      "outputs": [
        {
          "output_type": "execute_result",
          "data": {
            "text/plain": [
              "240367.0625951853"
            ]
          },
          "metadata": {
            "tags": []
          },
          "execution_count": 168
        }
      ]
    },
    {
      "cell_type": "code",
      "metadata": {
        "scrolled": true,
        "id": "TSIs1DqAZaiX",
        "colab_type": "code",
        "colab": {},
        "outputId": "c69d5c08-19ee-4303-f0f1-650c17e99743"
      },
      "source": [
        "math.sqrt(avg_mse)"
      ],
      "execution_count": 0,
      "outputs": [
        {
          "output_type": "execute_result",
          "data": {
            "text/plain": [
              "490.27243711551364"
            ]
          },
          "metadata": {
            "tags": []
          },
          "execution_count": 169
        }
      ]
    },
    {
      "cell_type": "markdown",
      "metadata": {
        "id": "c6_W2Fj2Zaia",
        "colab_type": "text"
      },
      "source": [
        "Let's try with one feature only"
      ]
    },
    {
      "cell_type": "code",
      "metadata": {
        "id": "Tn1lase_Zaia",
        "colab_type": "code",
        "colab": {},
        "outputId": "da24d581-ebc8-4ddf-ca48-872b09dbc8e0"
      },
      "source": [
        "X = df['KBytesReceived_log'].values.reshape(-1,1)\n",
        "\n",
        "\n",
        "\n",
        "scores = cross_val_score(AndreaLinearRegression(),\n",
        "                X, y, cv=k_fold,\n",
        "                scoring='neg_mean_squared_error')\n",
        "math.sqrt( mean(-scores) )"
      ],
      "execution_count": 0,
      "outputs": [
        {
          "output_type": "execute_result",
          "data": {
            "text/plain": [
              "278.0436795473229"
            ]
          },
          "metadata": {
            "tags": []
          },
          "execution_count": 170
        }
      ]
    },
    {
      "cell_type": "markdown",
      "metadata": {
        "id": "vvse9GEBZaid",
        "colab_type": "text"
      },
      "source": [
        "Cross validation tells us that the univariate model is actually the best"
      ]
    },
    {
      "cell_type": "markdown",
      "metadata": {
        "id": "4C-tpJ7-Zaie",
        "colab_type": "text"
      },
      "source": [
        "# Not important\n",
        "\n",
        "We store `cols_3` as it will be used in another notebook. \n",
        "\n",
        "`pickle` allows to serialize any python object to the hard disk."
      ]
    },
    {
      "cell_type": "code",
      "metadata": {
        "id": "xdWb3P0WZaie",
        "colab_type": "code",
        "colab": {}
      },
      "source": [
        "filename = mydatasets_folder +'/video-qoe-processed/cols_3.pkl'\n",
        "outfile = open(filename,'wb')\n",
        "pickle.dump(cols_3,outfile)\n",
        "outfile.close()"
      ],
      "execution_count": 0,
      "outputs": []
    },
    {
      "cell_type": "code",
      "metadata": {
        "id": "yIa2454qZaig",
        "colab_type": "code",
        "colab": {}
      },
      "source": [
        ""
      ],
      "execution_count": 0,
      "outputs": []
    }
  ]
}