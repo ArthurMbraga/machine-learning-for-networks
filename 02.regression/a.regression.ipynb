{
  "nbformat": 4,
  "nbformat_minor": 0,
  "metadata": {
    "colab": {
      "name": "a.regression.ipynb",
      "provenance": []
    },
    "kernelspec": {
      "display_name": "Python 3",
      "language": "python",
      "name": "python3"
    },
    "language_info": {
      "codemirror_mode": {
        "name": "ipython",
        "version": 3
      },
      "file_extension": ".py",
      "mimetype": "text/x-python",
      "name": "python",
      "nbconvert_exporter": "python",
      "pygments_lexer": "ipython3",
      "version": "3.6.8"
    }
  },
  "cells": [
    {
      "cell_type": "markdown",
      "metadata": {
        "id": "Y_R5L20uZad9"
      },
      "source": [
        "[![Open In Colab](https://colab.research.google.com/assets/colab-badge.svg)](https://colab.research.google.com/github/andreaaraldo/machine-learning-for-networks/blob/master/02.regression/a.regression.ipynb)"
      ]
    },
    {
      "cell_type": "code",
      "metadata": {
        "id": "TRNYr5HIZadw",
        "colab": {
          "base_uri": "https://localhost:8080/"
        },
        "outputId": "ae57c5e9-83f1-4e68-8738-dcc86248fb40"
      },
      "source": [
        "import pandas as pd # For dataframes (tables)\n",
        "import numpy as np # For arange\n",
        "import matplotlib.pyplot as plt # For plots\n",
        "%matplotlib inline\n",
        "from sklearn.model_selection import train_test_split\n",
        "from sklearn.metrics import mean_squared_error\n",
        "import math # for sqrt\n",
        "from sklearn.model_selection import cross_val_score, KFold\n",
        "import pickle # to serialize/deserialize objects\n",
        "\n",
        "from statistics import mean\n",
        "\n",
        "\n",
        "## Download the code I prepared for you\n",
        "!wget https://raw.githubusercontent.com/andreaaraldo/machine-learning-for-networks/master/course_library/andrea_models.py\n",
        "!wget https://raw.githubusercontent.com/andreaaraldo/machine-learning-for-networks/master/course_library/feature_engineering.py\n",
        "\n",
        "from andrea_models import AndreaLinearRegression # In the course library\n",
        "import feature_engineering # From the course library"
      ],
      "execution_count": 1,
      "outputs": [
        {
          "output_type": "stream",
          "name": "stdout",
          "text": [
            "--2024-05-14 08:54:32--  https://raw.githubusercontent.com/andreaaraldo/machine-learning-for-networks/master/course_library/andrea_models.py\n",
            "Resolving raw.githubusercontent.com (raw.githubusercontent.com)... 185.199.108.133, 185.199.109.133, 185.199.110.133, ...\n",
            "Connecting to raw.githubusercontent.com (raw.githubusercontent.com)|185.199.108.133|:443... connected.\n",
            "HTTP request sent, awaiting response... 200 OK\n",
            "Length: 3190 (3.1K) [text/plain]\n",
            "Saving to: ‘andrea_models.py’\n",
            "\n",
            "andrea_models.py    100%[===================>]   3.12K  --.-KB/s    in 0s      \n",
            "\n",
            "2024-05-14 08:54:33 (20.0 MB/s) - ‘andrea_models.py’ saved [3190/3190]\n",
            "\n",
            "--2024-05-14 08:54:33--  https://raw.githubusercontent.com/andreaaraldo/machine-learning-for-networks/master/course_library/feature_engineering.py\n",
            "Resolving raw.githubusercontent.com (raw.githubusercontent.com)... 185.199.110.133, 185.199.108.133, 185.199.109.133, ...\n",
            "Connecting to raw.githubusercontent.com (raw.githubusercontent.com)|185.199.110.133|:443... connected.\n",
            "HTTP request sent, awaiting response... 200 OK\n",
            "Length: 2593 (2.5K) [text/plain]\n",
            "Saving to: ‘feature_engineering.py’\n",
            "\n",
            "feature_engineering 100%[===================>]   2.53K  --.-KB/s    in 0s      \n",
            "\n",
            "2024-05-14 08:54:34 (37.2 MB/s) - ‘feature_engineering.py’ saved [2593/2593]\n",
            "\n"
          ]
        }
      ]
    },
    {
      "cell_type": "code",
      "metadata": {
        "id": "JoPc-IhQn4nj"
      },
      "source": [
        "savefigures=False"
      ],
      "execution_count": 2,
      "outputs": []
    },
    {
      "cell_type": "code",
      "metadata": {
        "id": "ur2YR7XIZaeD",
        "colab": {
          "base_uri": "https://localhost:8080/"
        },
        "outputId": "83119686-fcd2-4304-d786-8e814014e5e5"
      },
      "source": [
        "dataset_to_use = 'A'\n",
        "mydatasets_folder = \"https://raw.githubusercontent.com/andreaaraldo/machine-learning-for-networks/master/processed_datasets/requet/\"\n",
        "filename = \"df.\"+ dataset_to_use+\"_2.csv\"\n",
        "complete_name = mydatasets_folder+filename\n",
        "!wget $complete_name"
      ],
      "execution_count": 3,
      "outputs": [
        {
          "output_type": "stream",
          "name": "stdout",
          "text": [
            "--2024-05-14 08:54:35--  https://raw.githubusercontent.com/andreaaraldo/machine-learning-for-networks/master/processed_datasets/requet/df.A_2.csv\n",
            "Resolving raw.githubusercontent.com (raw.githubusercontent.com)... 185.199.110.133, 185.199.108.133, 185.199.109.133, ...\n",
            "Connecting to raw.githubusercontent.com (raw.githubusercontent.com)|185.199.110.133|:443... connected.\n",
            "HTTP request sent, awaiting response... 200 OK\n",
            "Length: 315832 (308K) [text/plain]\n",
            "Saving to: ‘df.A_2.csv’\n",
            "\n",
            "df.A_2.csv          100%[===================>] 308.43K  --.-KB/s    in 0.1s    \n",
            "\n",
            "2024-05-14 08:54:36 (2.88 MB/s) - ‘df.A_2.csv’ saved [315832/315832]\n",
            "\n"
          ]
        }
      ]
    },
    {
      "cell_type": "code",
      "metadata": {
        "id": "AF4ru9aJcBeW",
        "colab": {
          "base_uri": "https://localhost:8080/"
        },
        "outputId": "f7fe96db-42b5-4519-a2a0-591bb42a8a1b"
      },
      "source": [
        "!ls"
      ],
      "execution_count": 4,
      "outputs": [
        {
          "output_type": "stream",
          "name": "stdout",
          "text": [
            "andrea_models.py  df.A_2.csv  feature_engineering.py  __pycache__  sample_data\n"
          ]
        }
      ]
    },
    {
      "cell_type": "code",
      "metadata": {
        "id": "QUK4YMixb70D"
      },
      "source": [
        "df = pd.read_csv(filename)"
      ],
      "execution_count": 5,
      "outputs": []
    },
    {
      "cell_type": "code",
      "metadata": {
        "id": "HDETEnsOZaeM",
        "scrolled": true,
        "colab": {
          "base_uri": "https://localhost:8080/",
          "height": 255
        },
        "outputId": "3e97804d-a2a9-4606-ea55-8246372eec18"
      },
      "source": [
        "df.head()"
      ],
      "execution_count": 6,
      "outputs": [
        {
          "output_type": "execute_result",
          "data": {
            "text/plain": [
              "   RelativeTime  PacketsSent  PacketsReceived  BytesSent  BytesReceived  \\\n",
              "0           6.1           29               57       2372          79344   \n",
              "1           5.8            7               39        625          52973   \n",
              "2           7.3           16               23       1056          34178   \n",
              "3          39.2           14               29       3377          36821   \n",
              "4           4.6            9               77        900         104389   \n",
              "\n",
              "           IPSrc0           IPDst0 Protocol0  PacketsSent0  PacketsReceived0  \\\n",
              "0   192.168.1.190    173.194.55.23      QUIC            29                57   \n",
              "1   192.168.1.190   74.125.155.199      QUIC             4                36   \n",
              "2   192.168.1.190   74.125.155.201       TCP            16                23   \n",
              "3   192.168.1.190   172.217.135.40         0             0                 0   \n",
              "4   192.168.1.190  173.194.184.103      QUIC             9                77   \n",
              "\n",
              "   ...  BufferValid  KBytesReceived  label label_num KBytesReceived_log  \\\n",
              "0  ...         True          79.344  q480p       480           4.373793   \n",
              "1  ...         True          52.973  q360p       360           3.969782   \n",
              "2  ...         True          34.178  q720p       720           3.531582   \n",
              "3  ...         True          36.821  q144p       144           3.606068   \n",
              "4  ...         True         104.389  q360p       360           4.648124   \n",
              "\n",
              "   PacketsSent_log  PacketsReceived_log  BytesSent_log  BytesReceived_log  \\\n",
              "0         3.401197             4.060443       7.771910          11.281561   \n",
              "1         2.079442             3.688879       6.439350          10.877557   \n",
              "2         2.833213             3.178054       6.963190          10.439367   \n",
              "3         2.708050             3.401197       8.125039          10.513851   \n",
              "4         2.302585             4.356709       6.803505          11.555889   \n",
              "\n",
              "  BufferProgress_log  \n",
              "0           0.005164  \n",
              "1           0.004833  \n",
              "2           0.005473  \n",
              "3           0.009268  \n",
              "4           0.006599  \n",
              "\n",
              "[5 rows x 207 columns]"
            ],
            "text/html": [
              "\n",
              "  <div id=\"df-35e0724e-7097-4a3e-ba51-fd30a673d01e\" class=\"colab-df-container\">\n",
              "    <div>\n",
              "<style scoped>\n",
              "    .dataframe tbody tr th:only-of-type {\n",
              "        vertical-align: middle;\n",
              "    }\n",
              "\n",
              "    .dataframe tbody tr th {\n",
              "        vertical-align: top;\n",
              "    }\n",
              "\n",
              "    .dataframe thead th {\n",
              "        text-align: right;\n",
              "    }\n",
              "</style>\n",
              "<table border=\"1\" class=\"dataframe\">\n",
              "  <thead>\n",
              "    <tr style=\"text-align: right;\">\n",
              "      <th></th>\n",
              "      <th>RelativeTime</th>\n",
              "      <th>PacketsSent</th>\n",
              "      <th>PacketsReceived</th>\n",
              "      <th>BytesSent</th>\n",
              "      <th>BytesReceived</th>\n",
              "      <th>IPSrc0</th>\n",
              "      <th>IPDst0</th>\n",
              "      <th>Protocol0</th>\n",
              "      <th>PacketsSent0</th>\n",
              "      <th>PacketsReceived0</th>\n",
              "      <th>...</th>\n",
              "      <th>BufferValid</th>\n",
              "      <th>KBytesReceived</th>\n",
              "      <th>label</th>\n",
              "      <th>label_num</th>\n",
              "      <th>KBytesReceived_log</th>\n",
              "      <th>PacketsSent_log</th>\n",
              "      <th>PacketsReceived_log</th>\n",
              "      <th>BytesSent_log</th>\n",
              "      <th>BytesReceived_log</th>\n",
              "      <th>BufferProgress_log</th>\n",
              "    </tr>\n",
              "  </thead>\n",
              "  <tbody>\n",
              "    <tr>\n",
              "      <th>0</th>\n",
              "      <td>6.1</td>\n",
              "      <td>29</td>\n",
              "      <td>57</td>\n",
              "      <td>2372</td>\n",
              "      <td>79344</td>\n",
              "      <td>192.168.1.190</td>\n",
              "      <td>173.194.55.23</td>\n",
              "      <td>QUIC</td>\n",
              "      <td>29</td>\n",
              "      <td>57</td>\n",
              "      <td>...</td>\n",
              "      <td>True</td>\n",
              "      <td>79.344</td>\n",
              "      <td>q480p</td>\n",
              "      <td>480</td>\n",
              "      <td>4.373793</td>\n",
              "      <td>3.401197</td>\n",
              "      <td>4.060443</td>\n",
              "      <td>7.771910</td>\n",
              "      <td>11.281561</td>\n",
              "      <td>0.005164</td>\n",
              "    </tr>\n",
              "    <tr>\n",
              "      <th>1</th>\n",
              "      <td>5.8</td>\n",
              "      <td>7</td>\n",
              "      <td>39</td>\n",
              "      <td>625</td>\n",
              "      <td>52973</td>\n",
              "      <td>192.168.1.190</td>\n",
              "      <td>74.125.155.199</td>\n",
              "      <td>QUIC</td>\n",
              "      <td>4</td>\n",
              "      <td>36</td>\n",
              "      <td>...</td>\n",
              "      <td>True</td>\n",
              "      <td>52.973</td>\n",
              "      <td>q360p</td>\n",
              "      <td>360</td>\n",
              "      <td>3.969782</td>\n",
              "      <td>2.079442</td>\n",
              "      <td>3.688879</td>\n",
              "      <td>6.439350</td>\n",
              "      <td>10.877557</td>\n",
              "      <td>0.004833</td>\n",
              "    </tr>\n",
              "    <tr>\n",
              "      <th>2</th>\n",
              "      <td>7.3</td>\n",
              "      <td>16</td>\n",
              "      <td>23</td>\n",
              "      <td>1056</td>\n",
              "      <td>34178</td>\n",
              "      <td>192.168.1.190</td>\n",
              "      <td>74.125.155.201</td>\n",
              "      <td>TCP</td>\n",
              "      <td>16</td>\n",
              "      <td>23</td>\n",
              "      <td>...</td>\n",
              "      <td>True</td>\n",
              "      <td>34.178</td>\n",
              "      <td>q720p</td>\n",
              "      <td>720</td>\n",
              "      <td>3.531582</td>\n",
              "      <td>2.833213</td>\n",
              "      <td>3.178054</td>\n",
              "      <td>6.963190</td>\n",
              "      <td>10.439367</td>\n",
              "      <td>0.005473</td>\n",
              "    </tr>\n",
              "    <tr>\n",
              "      <th>3</th>\n",
              "      <td>39.2</td>\n",
              "      <td>14</td>\n",
              "      <td>29</td>\n",
              "      <td>3377</td>\n",
              "      <td>36821</td>\n",
              "      <td>192.168.1.190</td>\n",
              "      <td>172.217.135.40</td>\n",
              "      <td>0</td>\n",
              "      <td>0</td>\n",
              "      <td>0</td>\n",
              "      <td>...</td>\n",
              "      <td>True</td>\n",
              "      <td>36.821</td>\n",
              "      <td>q144p</td>\n",
              "      <td>144</td>\n",
              "      <td>3.606068</td>\n",
              "      <td>2.708050</td>\n",
              "      <td>3.401197</td>\n",
              "      <td>8.125039</td>\n",
              "      <td>10.513851</td>\n",
              "      <td>0.009268</td>\n",
              "    </tr>\n",
              "    <tr>\n",
              "      <th>4</th>\n",
              "      <td>4.6</td>\n",
              "      <td>9</td>\n",
              "      <td>77</td>\n",
              "      <td>900</td>\n",
              "      <td>104389</td>\n",
              "      <td>192.168.1.190</td>\n",
              "      <td>173.194.184.103</td>\n",
              "      <td>QUIC</td>\n",
              "      <td>9</td>\n",
              "      <td>77</td>\n",
              "      <td>...</td>\n",
              "      <td>True</td>\n",
              "      <td>104.389</td>\n",
              "      <td>q360p</td>\n",
              "      <td>360</td>\n",
              "      <td>4.648124</td>\n",
              "      <td>2.302585</td>\n",
              "      <td>4.356709</td>\n",
              "      <td>6.803505</td>\n",
              "      <td>11.555889</td>\n",
              "      <td>0.006599</td>\n",
              "    </tr>\n",
              "  </tbody>\n",
              "</table>\n",
              "<p>5 rows × 207 columns</p>\n",
              "</div>\n",
              "    <div class=\"colab-df-buttons\">\n",
              "\n",
              "  <div class=\"colab-df-container\">\n",
              "    <button class=\"colab-df-convert\" onclick=\"convertToInteractive('df-35e0724e-7097-4a3e-ba51-fd30a673d01e')\"\n",
              "            title=\"Convert this dataframe to an interactive table.\"\n",
              "            style=\"display:none;\">\n",
              "\n",
              "  <svg xmlns=\"http://www.w3.org/2000/svg\" height=\"24px\" viewBox=\"0 -960 960 960\">\n",
              "    <path d=\"M120-120v-720h720v720H120Zm60-500h600v-160H180v160Zm220 220h160v-160H400v160Zm0 220h160v-160H400v160ZM180-400h160v-160H180v160Zm440 0h160v-160H620v160ZM180-180h160v-160H180v160Zm440 0h160v-160H620v160Z\"/>\n",
              "  </svg>\n",
              "    </button>\n",
              "\n",
              "  <style>\n",
              "    .colab-df-container {\n",
              "      display:flex;\n",
              "      gap: 12px;\n",
              "    }\n",
              "\n",
              "    .colab-df-convert {\n",
              "      background-color: #E8F0FE;\n",
              "      border: none;\n",
              "      border-radius: 50%;\n",
              "      cursor: pointer;\n",
              "      display: none;\n",
              "      fill: #1967D2;\n",
              "      height: 32px;\n",
              "      padding: 0 0 0 0;\n",
              "      width: 32px;\n",
              "    }\n",
              "\n",
              "    .colab-df-convert:hover {\n",
              "      background-color: #E2EBFA;\n",
              "      box-shadow: 0px 1px 2px rgba(60, 64, 67, 0.3), 0px 1px 3px 1px rgba(60, 64, 67, 0.15);\n",
              "      fill: #174EA6;\n",
              "    }\n",
              "\n",
              "    .colab-df-buttons div {\n",
              "      margin-bottom: 4px;\n",
              "    }\n",
              "\n",
              "    [theme=dark] .colab-df-convert {\n",
              "      background-color: #3B4455;\n",
              "      fill: #D2E3FC;\n",
              "    }\n",
              "\n",
              "    [theme=dark] .colab-df-convert:hover {\n",
              "      background-color: #434B5C;\n",
              "      box-shadow: 0px 1px 3px 1px rgba(0, 0, 0, 0.15);\n",
              "      filter: drop-shadow(0px 1px 2px rgba(0, 0, 0, 0.3));\n",
              "      fill: #FFFFFF;\n",
              "    }\n",
              "  </style>\n",
              "\n",
              "    <script>\n",
              "      const buttonEl =\n",
              "        document.querySelector('#df-35e0724e-7097-4a3e-ba51-fd30a673d01e button.colab-df-convert');\n",
              "      buttonEl.style.display =\n",
              "        google.colab.kernel.accessAllowed ? 'block' : 'none';\n",
              "\n",
              "      async function convertToInteractive(key) {\n",
              "        const element = document.querySelector('#df-35e0724e-7097-4a3e-ba51-fd30a673d01e');\n",
              "        const dataTable =\n",
              "          await google.colab.kernel.invokeFunction('convertToInteractive',\n",
              "                                                    [key], {});\n",
              "        if (!dataTable) return;\n",
              "\n",
              "        const docLinkHtml = 'Like what you see? Visit the ' +\n",
              "          '<a target=\"_blank\" href=https://colab.research.google.com/notebooks/data_table.ipynb>data table notebook</a>'\n",
              "          + ' to learn more about interactive tables.';\n",
              "        element.innerHTML = '';\n",
              "        dataTable['output_type'] = 'display_data';\n",
              "        await google.colab.output.renderOutput(dataTable, element);\n",
              "        const docLink = document.createElement('div');\n",
              "        docLink.innerHTML = docLinkHtml;\n",
              "        element.appendChild(docLink);\n",
              "      }\n",
              "    </script>\n",
              "  </div>\n",
              "\n",
              "\n",
              "<div id=\"df-7136cd35-b884-4844-aecc-5a2e22014ff2\">\n",
              "  <button class=\"colab-df-quickchart\" onclick=\"quickchart('df-7136cd35-b884-4844-aecc-5a2e22014ff2')\"\n",
              "            title=\"Suggest charts\"\n",
              "            style=\"display:none;\">\n",
              "\n",
              "<svg xmlns=\"http://www.w3.org/2000/svg\" height=\"24px\"viewBox=\"0 0 24 24\"\n",
              "     width=\"24px\">\n",
              "    <g>\n",
              "        <path d=\"M19 3H5c-1.1 0-2 .9-2 2v14c0 1.1.9 2 2 2h14c1.1 0 2-.9 2-2V5c0-1.1-.9-2-2-2zM9 17H7v-7h2v7zm4 0h-2V7h2v10zm4 0h-2v-4h2v4z\"/>\n",
              "    </g>\n",
              "</svg>\n",
              "  </button>\n",
              "\n",
              "<style>\n",
              "  .colab-df-quickchart {\n",
              "      --bg-color: #E8F0FE;\n",
              "      --fill-color: #1967D2;\n",
              "      --hover-bg-color: #E2EBFA;\n",
              "      --hover-fill-color: #174EA6;\n",
              "      --disabled-fill-color: #AAA;\n",
              "      --disabled-bg-color: #DDD;\n",
              "  }\n",
              "\n",
              "  [theme=dark] .colab-df-quickchart {\n",
              "      --bg-color: #3B4455;\n",
              "      --fill-color: #D2E3FC;\n",
              "      --hover-bg-color: #434B5C;\n",
              "      --hover-fill-color: #FFFFFF;\n",
              "      --disabled-bg-color: #3B4455;\n",
              "      --disabled-fill-color: #666;\n",
              "  }\n",
              "\n",
              "  .colab-df-quickchart {\n",
              "    background-color: var(--bg-color);\n",
              "    border: none;\n",
              "    border-radius: 50%;\n",
              "    cursor: pointer;\n",
              "    display: none;\n",
              "    fill: var(--fill-color);\n",
              "    height: 32px;\n",
              "    padding: 0;\n",
              "    width: 32px;\n",
              "  }\n",
              "\n",
              "  .colab-df-quickchart:hover {\n",
              "    background-color: var(--hover-bg-color);\n",
              "    box-shadow: 0 1px 2px rgba(60, 64, 67, 0.3), 0 1px 3px 1px rgba(60, 64, 67, 0.15);\n",
              "    fill: var(--button-hover-fill-color);\n",
              "  }\n",
              "\n",
              "  .colab-df-quickchart-complete:disabled,\n",
              "  .colab-df-quickchart-complete:disabled:hover {\n",
              "    background-color: var(--disabled-bg-color);\n",
              "    fill: var(--disabled-fill-color);\n",
              "    box-shadow: none;\n",
              "  }\n",
              "\n",
              "  .colab-df-spinner {\n",
              "    border: 2px solid var(--fill-color);\n",
              "    border-color: transparent;\n",
              "    border-bottom-color: var(--fill-color);\n",
              "    animation:\n",
              "      spin 1s steps(1) infinite;\n",
              "  }\n",
              "\n",
              "  @keyframes spin {\n",
              "    0% {\n",
              "      border-color: transparent;\n",
              "      border-bottom-color: var(--fill-color);\n",
              "      border-left-color: var(--fill-color);\n",
              "    }\n",
              "    20% {\n",
              "      border-color: transparent;\n",
              "      border-left-color: var(--fill-color);\n",
              "      border-top-color: var(--fill-color);\n",
              "    }\n",
              "    30% {\n",
              "      border-color: transparent;\n",
              "      border-left-color: var(--fill-color);\n",
              "      border-top-color: var(--fill-color);\n",
              "      border-right-color: var(--fill-color);\n",
              "    }\n",
              "    40% {\n",
              "      border-color: transparent;\n",
              "      border-right-color: var(--fill-color);\n",
              "      border-top-color: var(--fill-color);\n",
              "    }\n",
              "    60% {\n",
              "      border-color: transparent;\n",
              "      border-right-color: var(--fill-color);\n",
              "    }\n",
              "    80% {\n",
              "      border-color: transparent;\n",
              "      border-right-color: var(--fill-color);\n",
              "      border-bottom-color: var(--fill-color);\n",
              "    }\n",
              "    90% {\n",
              "      border-color: transparent;\n",
              "      border-bottom-color: var(--fill-color);\n",
              "    }\n",
              "  }\n",
              "</style>\n",
              "\n",
              "  <script>\n",
              "    async function quickchart(key) {\n",
              "      const quickchartButtonEl =\n",
              "        document.querySelector('#' + key + ' button');\n",
              "      quickchartButtonEl.disabled = true;  // To prevent multiple clicks.\n",
              "      quickchartButtonEl.classList.add('colab-df-spinner');\n",
              "      try {\n",
              "        const charts = await google.colab.kernel.invokeFunction(\n",
              "            'suggestCharts', [key], {});\n",
              "      } catch (error) {\n",
              "        console.error('Error during call to suggestCharts:', error);\n",
              "      }\n",
              "      quickchartButtonEl.classList.remove('colab-df-spinner');\n",
              "      quickchartButtonEl.classList.add('colab-df-quickchart-complete');\n",
              "    }\n",
              "    (() => {\n",
              "      let quickchartButtonEl =\n",
              "        document.querySelector('#df-7136cd35-b884-4844-aecc-5a2e22014ff2 button');\n",
              "      quickchartButtonEl.style.display =\n",
              "        google.colab.kernel.accessAllowed ? 'block' : 'none';\n",
              "    })();\n",
              "  </script>\n",
              "</div>\n",
              "    </div>\n",
              "  </div>\n"
            ],
            "application/vnd.google.colaboratory.intrinsic+json": {
              "type": "dataframe",
              "variable_name": "df"
            }
          },
          "metadata": {},
          "execution_count": 6
        }
      ]
    },
    {
      "cell_type": "code",
      "metadata": {
        "id": "tWOsCMFiZaeT",
        "scrolled": true,
        "colab": {
          "base_uri": "https://localhost:8080/"
        },
        "outputId": "445fdd60-d074-41c1-e4d4-80af66c21f8e"
      },
      "source": [
        "df.info(verbose=True)"
      ],
      "execution_count": 7,
      "outputs": [
        {
          "output_type": "stream",
          "name": "stdout",
          "text": [
            "<class 'pandas.core.frame.DataFrame'>\n",
            "RangeIndex: 292 entries, 0 to 291\n",
            "Data columns (total 207 columns):\n",
            " #    Column               Dtype  \n",
            "---   ------               -----  \n",
            " 0    RelativeTime         float64\n",
            " 1    PacketsSent          int64  \n",
            " 2    PacketsReceived      int64  \n",
            " 3    BytesSent            int64  \n",
            " 4    BytesReceived        int64  \n",
            " 5    IPSrc0               object \n",
            " 6    IPDst0               object \n",
            " 7    Protocol0            object \n",
            " 8    PacketsSent0         int64  \n",
            " 9    PacketsReceived0     int64  \n",
            " 10   BytesSent0           int64  \n",
            " 11   BytesReceived0       int64  \n",
            " 12   IPSrc1               object \n",
            " 13   IPDst1               object \n",
            " 14   Protocol1            object \n",
            " 15   PacketsSent1         int64  \n",
            " 16   PacketsReceived1     int64  \n",
            " 17   BytesSent1           int64  \n",
            " 18   BytesReceived1       int64  \n",
            " 19   IPSrc2               object \n",
            " 20   IPDst2               object \n",
            " 21   Protocol2            object \n",
            " 22   PacketsSent2         int64  \n",
            " 23   PacketsReceived2     int64  \n",
            " 24   BytesSent2           int64  \n",
            " 25   BytesReceived2       int64  \n",
            " 26   IPSrc3               object \n",
            " 27   IPDst3               object \n",
            " 28   Protocol3            object \n",
            " 29   PacketsSent3         int64  \n",
            " 30   PacketsReceived3     int64  \n",
            " 31   BytesSent3           int64  \n",
            " 32   BytesReceived3       int64  \n",
            " 33   IPSrc4               object \n",
            " 34   IPDst4               object \n",
            " 35   Protocol4            object \n",
            " 36   PacketsSent4         int64  \n",
            " 37   PacketsReceived4     int64  \n",
            " 38   BytesSent4           int64  \n",
            " 39   BytesReceived4       int64  \n",
            " 40   IPSrc5               object \n",
            " 41   IPDst5               object \n",
            " 42   Protocol5            object \n",
            " 43   PacketsSent5         int64  \n",
            " 44   PacketsReceived5     int64  \n",
            " 45   BytesSent5           int64  \n",
            " 46   BytesReceived5       int64  \n",
            " 47   IPSrc6               object \n",
            " 48   IPDst6               object \n",
            " 49   Protocol6            object \n",
            " 50   PacketsSent6         int64  \n",
            " 51   PacketsReceived6     int64  \n",
            " 52   BytesSent6           int64  \n",
            " 53   BytesReceived6       int64  \n",
            " 54   IPSrc7               object \n",
            " 55   IPDst7               object \n",
            " 56   Protocol7            object \n",
            " 57   PacketsSent7         int64  \n",
            " 58   PacketsReceived7     int64  \n",
            " 59   BytesSent7           int64  \n",
            " 60   BytesReceived7       int64  \n",
            " 61   IPSrc8               object \n",
            " 62   IPDst8               object \n",
            " 63   Protocol8            object \n",
            " 64   PacketsSent8         int64  \n",
            " 65   PacketsReceived8     int64  \n",
            " 66   BytesSent8           int64  \n",
            " 67   BytesReceived8       int64  \n",
            " 68   IPSrc9               object \n",
            " 69   IPDst9               object \n",
            " 70   Protocol9            object \n",
            " 71   PacketsSent9         int64  \n",
            " 72   PacketsReceived9     int64  \n",
            " 73   BytesSent9           int64  \n",
            " 74   BytesReceived9       int64  \n",
            " 75   IPSrc10              object \n",
            " 76   IPDst10              object \n",
            " 77   Protocol10           int64  \n",
            " 78   PacketsSent10        int64  \n",
            " 79   PacketsReceived10    int64  \n",
            " 80   BytesSent10          int64  \n",
            " 81   BytesReceived10      int64  \n",
            " 82   IPSrc11              object \n",
            " 83   IPDst11              object \n",
            " 84   Protocol11           int64  \n",
            " 85   PacketsSent11        int64  \n",
            " 86   PacketsReceived11    int64  \n",
            " 87   BytesSent11          int64  \n",
            " 88   BytesReceived11      int64  \n",
            " 89   IPSrc12              object \n",
            " 90   IPDst12              object \n",
            " 91   Protocol12           object \n",
            " 92   PacketsSent12        int64  \n",
            " 93   PacketsReceived12    int64  \n",
            " 94   BytesSent12          int64  \n",
            " 95   BytesReceived12      int64  \n",
            " 96   IPSrc13              object \n",
            " 97   IPDst13              object \n",
            " 98   Protocol13           object \n",
            " 99   PacketsSent13        int64  \n",
            " 100  PacketsReceived13    int64  \n",
            " 101  BytesSent13          int64  \n",
            " 102  BytesReceived13      int64  \n",
            " 103  IPSrc14              object \n",
            " 104  IPDst14              object \n",
            " 105  Protocol14           int64  \n",
            " 106  PacketsSent14        int64  \n",
            " 107  PacketsReceived14    int64  \n",
            " 108  BytesSent14          int64  \n",
            " 109  BytesReceived14      int64  \n",
            " 110  IPSrc15              object \n",
            " 111  IPDst15              object \n",
            " 112  Protocol15           object \n",
            " 113  PacketsSent15        int64  \n",
            " 114  PacketsReceived15    int64  \n",
            " 115  BytesSent15          int64  \n",
            " 116  BytesReceived15      int64  \n",
            " 117  IPSrc16              object \n",
            " 118  IPDst16              object \n",
            " 119  Protocol16           int64  \n",
            " 120  PacketsSent16        int64  \n",
            " 121  PacketsReceived16    int64  \n",
            " 122  BytesSent16          int64  \n",
            " 123  BytesReceived16      int64  \n",
            " 124  IPSrc17              object \n",
            " 125  IPDst17              object \n",
            " 126  Protocol17           int64  \n",
            " 127  PacketsSent17        int64  \n",
            " 128  PacketsReceived17    int64  \n",
            " 129  BytesSent17          int64  \n",
            " 130  BytesReceived17      int64  \n",
            " 131  IPSrc18              object \n",
            " 132  IPDst18              object \n",
            " 133  Protocol18           int64  \n",
            " 134  PacketsSent18        int64  \n",
            " 135  PacketsReceived18    int64  \n",
            " 136  BytesSent18          int64  \n",
            " 137  BytesReceived18      int64  \n",
            " 138  IPSrc19              object \n",
            " 139  IPDst19              object \n",
            " 140  Protocol19           int64  \n",
            " 141  PacketsSent19        int64  \n",
            " 142  PacketsReceived19    int64  \n",
            " 143  BytesSent19          int64  \n",
            " 144  BytesReceived19      int64  \n",
            " 145  IPSrc20              object \n",
            " 146  IPDst20              object \n",
            " 147  Protocol20           int64  \n",
            " 148  PacketsSent20        int64  \n",
            " 149  PacketsReceived20    int64  \n",
            " 150  BytesSent20          int64  \n",
            " 151  BytesReceived20      int64  \n",
            " 152  IPSrc21              object \n",
            " 153  IPDst21              object \n",
            " 154  Protocol21           int64  \n",
            " 155  PacketsSent21        int64  \n",
            " 156  PacketsReceived21    int64  \n",
            " 157  BytesSent21          int64  \n",
            " 158  BytesReceived21      int64  \n",
            " 159  IPSrc22              object \n",
            " 160  IPDst22              object \n",
            " 161  Protocol22           int64  \n",
            " 162  PacketsSent22        int64  \n",
            " 163  PacketsReceived22    int64  \n",
            " 164  BytesSent22          int64  \n",
            " 165  BytesReceived22      int64  \n",
            " 166  IPSrc23              object \n",
            " 167  IPDst23              object \n",
            " 168  Protocol23           int64  \n",
            " 169  PacketsSent23        int64  \n",
            " 170  PacketsReceived23    int64  \n",
            " 171  BytesSent23          int64  \n",
            " 172  BytesReceived23      int64  \n",
            " 173  IPSrc24              object \n",
            " 174  IPDst24              object \n",
            " 175  Protocol24           int64  \n",
            " 176  PacketsSent24        int64  \n",
            " 177  PacketsReceived24    int64  \n",
            " 178  BytesSent24          int64  \n",
            " 179  BytesReceived24      int64  \n",
            " 180  IPSrc25              object \n",
            " 181  IPDst25              object \n",
            " 182  Protocol25           int64  \n",
            " 183  PacketsSent25        int64  \n",
            " 184  PacketsReceived25    int64  \n",
            " 185  BytesSent25          int64  \n",
            " 186  BytesReceived25      int64  \n",
            " 187  Buffering            int64  \n",
            " 188  Paused               int64  \n",
            " 189  Playing              int64  \n",
            " 190  CollectData          int64  \n",
            " 191  EpochTime            int64  \n",
            " 192  StartTime            int64  \n",
            " 193  PlaybackProgress     float64\n",
            " 194  Length               float64\n",
            " 195  BufferHealth         float64\n",
            " 196  BufferProgress       float64\n",
            " 197  BufferValid          bool   \n",
            " 198  KBytesReceived       float64\n",
            " 199  label                object \n",
            " 200  label_num            int64  \n",
            " 201  KBytesReceived_log   float64\n",
            " 202  PacketsSent_log      float64\n",
            " 203  PacketsReceived_log  float64\n",
            " 204  BytesSent_log        float64\n",
            " 205  BytesReceived_log    float64\n",
            " 206  BufferProgress_log   float64\n",
            "dtypes: bool(1), float64(12), int64(128), object(66)\n",
            "memory usage: 470.3+ KB\n"
          ]
        }
      ]
    },
    {
      "cell_type": "markdown",
      "metadata": {
        "id": "8POUiIfOZaec"
      },
      "source": [
        "Let's study the dependency between `label` and `KBytesReceived`"
      ]
    },
    {
      "cell_type": "markdown",
      "metadata": {
        "id": "AYPMX09MZaee"
      },
      "source": [
        "Let's first plot the data as they are, using a scatterplot.\n",
        "\n",
        "See [mathplotlib documentation](https://matplotlib.org/tutorials/introductory/lifecycle.html) for more info (optional)."
      ]
    },
    {
      "cell_type": "code",
      "metadata": {
        "id": "BCNcu9UbZaef",
        "scrolled": true,
        "colab": {
          "base_uri": "https://localhost:8080/",
          "height": 524
        },
        "outputId": "7d2035e8-e0b4-4680-8dd4-05195dbd9136"
      },
      "source": [
        "fig, ax = plt.subplots() # This creates just a canvas\n",
        "ax.scatter(df['KBytesReceived'],df['label_num'],color='red',\n",
        "           s=1, label='all samples') # ax is the actual figure\n",
        "\n",
        "# Customize the plot\n",
        "ax.set(xlim=[-100,1200], ylim=[-100,1200], ylabel=\"label_num\",\n",
        "      xlabel=\"KBytes received\")"
      ],
      "execution_count": 8,
      "outputs": [
        {
          "output_type": "execute_result",
          "data": {
            "text/plain": [
              "[(-100.0, 1200.0),\n",
              " (-100.0, 1200.0),\n",
              " Text(0, 0.5, 'label_num'),\n",
              " Text(0.5, 0, 'KBytes received')]"
            ]
          },
          "metadata": {},
          "execution_count": 8
        },
        {
          "output_type": "display_data",
          "data": {
            "text/plain": [
              "<Figure size 640x480 with 1 Axes>"
            ],
            "image/png": "[encoded data removed]"
          },
          "metadata": {}
        }
      ]
    },
    {
      "cell_type": "markdown",
      "metadata": {
        "id": "IQsLItrbnVAY"
      },
      "source": [
        "# Save files in Google Drive (skip this)\n",
        "\n",
        "Run this section only if you want to save the figure in your google drive."
      ]
    },
    {
      "cell_type": "markdown",
      "metadata": {
        "id": "irR0g-3kgt38"
      },
      "source": [
        "We now save the figure in googledrive. We first mount the google drive volume"
      ]
    },
    {
      "cell_type": "code",
      "metadata": {
        "id": "3PvKYnuCgb80"
      },
      "source": [
        "if savefigures:\n",
        "  # Inspired by https://colab.research.google.com/drive/1Eh0CgryaZnqWV8Jv4YzZMjXJXiDivzKY#scrollTo=u4X-zdyC0U6-\n",
        "\n",
        "  # keep these variables always the same\n",
        "  from google.colab import drive\n",
        "  mount_point = '/content/gdrive'\n",
        "  drive.mount(mount_point, force_remount=True)\n"
      ],
      "execution_count": 9,
      "outputs": []
    },
    {
      "cell_type": "code",
      "metadata": {
        "id": "2M8Arp4KhV8X"
      },
      "source": [
        "if savefigures:\n",
        "  drive_path = mount_point+'/My Drive/'\n",
        "\n",
        "  print(\"This is my google drive\")\n",
        "  !ls \"$drive_path\""
      ],
      "execution_count": 10,
      "outputs": []
    },
    {
      "cell_type": "markdown",
      "metadata": {
        "id": "8Kxp14oTmdsd"
      },
      "source": [
        "I save the figure in one of my folders"
      ]
    },
    {
      "cell_type": "code",
      "metadata": {
        "id": "DWroclOcmcQc"
      },
      "source": [
        "if savefigures:\n",
        "  my_path = drive_path + 'tsp/teaching/data-science-for-networks/img-from-code/02.regression/'\n",
        "  filename = my_path+\"scatter.pdf\"\n",
        "  fig.savefig(filename)"
      ],
      "execution_count": 11,
      "outputs": []
    },
    {
      "cell_type": "markdown",
      "metadata": {
        "id": "Hu-81zM7ndLP"
      },
      "source": [
        "# Train-test-split\n",
        "\n",
        "We now divide the dataframe in a training and a test dataframe. By default, the dataset is split randomly (which is good)."
      ]
    },
    {
      "cell_type": "code",
      "metadata": {
        "id": "9StTza7-Zael",
        "scrolled": false,
        "colab": {
          "base_uri": "https://localhost:8080/",
          "height": 255
        },
        "outputId": "8f17befc-ed23-46b6-b363-9695a39da5e1"
      },
      "source": [
        "df_train, df_test = train_test_split(df, test_size=0.3)\n",
        "df_test.head()"
      ],
      "execution_count": 12,
      "outputs": [
        {
          "output_type": "execute_result",
          "data": {
            "text/plain": [
              "     RelativeTime  PacketsSent  PacketsReceived  BytesSent  BytesReceived  \\\n",
              "268           3.9           54              107       5594         145882   \n",
              "108           5.0           31               62       2524          86304   \n",
              "9             6.1           14               21       1211          21595   \n",
              "46           11.4           15               30       1228          41760   \n",
              "289           7.5            6                8       1110          11136   \n",
              "\n",
              "             IPSrc0          IPDst0 Protocol0  PacketsSent0  PacketsReceived0  \\\n",
              "268   192.168.1.190   74.125.159.73      QUIC            54               107   \n",
              "108   192.168.1.190   172.217.129.9      QUIC            31                62   \n",
              "9     192.168.1.190   173.194.191.9         0             0                 0   \n",
              "46    192.168.1.190  173.194.162.26      QUIC            15                30   \n",
              "289   192.168.1.190    173.194.7.72      QUIC             6                 8   \n",
              "\n",
              "     ...  BufferValid  KBytesReceived   label label_num KBytesReceived_log  \\\n",
              "268  ...         True         145.882   q480p       480           4.982798   \n",
              "108  ...         True          86.304  q1080p      1080           4.457876   \n",
              "9    ...         True          21.595   q720p       720           3.072462   \n",
              "46   ...         True          41.760   q720p       720           3.731939   \n",
              "289  ...         True          11.136   q240p       240           2.410183   \n",
              "\n",
              "     PacketsSent_log  PacketsReceived_log  BytesSent_log  BytesReceived_log  \\\n",
              "268         4.007333             4.682131       8.629629          11.890560   \n",
              "108         3.465736             4.143135       7.833996          11.365643   \n",
              "9           2.708050             3.091042       7.100027           9.980263   \n",
              "46          2.772589             3.433987       7.113956          10.639718   \n",
              "289         1.945910             2.197225       7.013016           9.318028   \n",
              "\n",
              "    BufferProgress_log  \n",
              "268           0.007519  \n",
              "108           0.005629  \n",
              "9             0.002304  \n",
              "46            0.007770  \n",
              "289           0.004835  \n",
              "\n",
              "[5 rows x 207 columns]"
            ],
            "text/html": [
              "\n",
              "  <div id=\"df-c3dae93c-a51f-41d3-b9c5-f895e0865c38\" class=\"colab-df-container\">\n",
              "    <div>\n",
              "<style scoped>\n",
              "    .dataframe tbody tr th:only-of-type {\n",
              "        vertical-align: middle;\n",
              "    }\n",
              "\n",
              "    .dataframe tbody tr th {\n",
              "        vertical-align: top;\n",
              "    }\n",
              "\n",
              "    .dataframe thead th {\n",
              "        text-align: right;\n",
              "    }\n",
              "</style>\n",
              "<table border=\"1\" class=\"dataframe\">\n",
              "  <thead>\n",
              "    <tr style=\"text-align: right;\">\n",
              "      <th></th>\n",
              "      <th>RelativeTime</th>\n",
              "      <th>PacketsSent</th>\n",
              "      <th>PacketsReceived</th>\n",
              "      <th>BytesSent</th>\n",
              "      <th>BytesReceived</th>\n",
              "      <th>IPSrc0</th>\n",
              "      <th>IPDst0</th>\n",
              "      <th>Protocol0</th>\n",
              "      <th>PacketsSent0</th>\n",
              "      <th>PacketsReceived0</th>\n",
              "      <th>...</th>\n",
              "      <th>BufferValid</th>\n",
              "      <th>KBytesReceived</th>\n",
              "      <th>label</th>\n",
              "      <th>label_num</th>\n",
              "      <th>KBytesReceived_log</th>\n",
              "      <th>PacketsSent_log</th>\n",
              "      <th>PacketsReceived_log</th>\n",
              "      <th>BytesSent_log</th>\n",
              "      <th>BytesReceived_log</th>\n",
              "      <th>BufferProgress_log</th>\n",
              "    </tr>\n",
              "  </thead>\n",
              "  <tbody>\n",
              "    <tr>\n",
              "      <th>268</th>\n",
              "      <td>3.9</td>\n",
              "      <td>54</td>\n",
              "      <td>107</td>\n",
              "      <td>5594</td>\n",
              "      <td>145882</td>\n",
              "      <td>192.168.1.190</td>\n",
              "      <td>74.125.159.73</td>\n",
              "      <td>QUIC</td>\n",
              "      <td>54</td>\n",
              "      <td>107</td>\n",
              "      <td>...</td>\n",
              "      <td>True</td>\n",
              "      <td>145.882</td>\n",
              "      <td>q480p</td>\n",
              "      <td>480</td>\n",
              "      <td>4.982798</td>\n",
              "      <td>4.007333</td>\n",
              "      <td>4.682131</td>\n",
              "      <td>8.629629</td>\n",
              "      <td>11.890560</td>\n",
              "      <td>0.007519</td>\n",
              "    </tr>\n",
              "    <tr>\n",
              "      <th>108</th>\n",
              "      <td>5.0</td>\n",
              "      <td>31</td>\n",
              "      <td>62</td>\n",
              "      <td>2524</td>\n",
              "      <td>86304</td>\n",
              "      <td>192.168.1.190</td>\n",
              "      <td>172.217.129.9</td>\n",
              "      <td>QUIC</td>\n",
              "      <td>31</td>\n",
              "      <td>62</td>\n",
              "      <td>...</td>\n",
              "      <td>True</td>\n",
              "      <td>86.304</td>\n",
              "      <td>q1080p</td>\n",
              "      <td>1080</td>\n",
              "      <td>4.457876</td>\n",
              "      <td>3.465736</td>\n",
              "      <td>4.143135</td>\n",
              "      <td>7.833996</td>\n",
              "      <td>11.365643</td>\n",
              "      <td>0.005629</td>\n",
              "    </tr>\n",
              "    <tr>\n",
              "      <th>9</th>\n",
              "      <td>6.1</td>\n",
              "      <td>14</td>\n",
              "      <td>21</td>\n",
              "      <td>1211</td>\n",
              "      <td>21595</td>\n",
              "      <td>192.168.1.190</td>\n",
              "      <td>173.194.191.9</td>\n",
              "      <td>0</td>\n",
              "      <td>0</td>\n",
              "      <td>0</td>\n",
              "      <td>...</td>\n",
              "      <td>True</td>\n",
              "      <td>21.595</td>\n",
              "      <td>q720p</td>\n",
              "      <td>720</td>\n",
              "      <td>3.072462</td>\n",
              "      <td>2.708050</td>\n",
              "      <td>3.091042</td>\n",
              "      <td>7.100027</td>\n",
              "      <td>9.980263</td>\n",
              "      <td>0.002304</td>\n",
              "    </tr>\n",
              "    <tr>\n",
              "      <th>46</th>\n",
              "      <td>11.4</td>\n",
              "      <td>15</td>\n",
              "      <td>30</td>\n",
              "      <td>1228</td>\n",
              "      <td>41760</td>\n",
              "      <td>192.168.1.190</td>\n",
              "      <td>173.194.162.26</td>\n",
              "      <td>QUIC</td>\n",
              "      <td>15</td>\n",
              "      <td>30</td>\n",
              "      <td>...</td>\n",
              "      <td>True</td>\n",
              "      <td>41.760</td>\n",
              "      <td>q720p</td>\n",
              "      <td>720</td>\n",
              "      <td>3.731939</td>\n",
              "      <td>2.772589</td>\n",
              "      <td>3.433987</td>\n",
              "      <td>7.113956</td>\n",
              "      <td>10.639718</td>\n",
              "      <td>0.007770</td>\n",
              "    </tr>\n",
              "    <tr>\n",
              "      <th>289</th>\n",
              "      <td>7.5</td>\n",
              "      <td>6</td>\n",
              "      <td>8</td>\n",
              "      <td>1110</td>\n",
              "      <td>11136</td>\n",
              "      <td>192.168.1.190</td>\n",
              "      <td>173.194.7.72</td>\n",
              "      <td>QUIC</td>\n",
              "      <td>6</td>\n",
              "      <td>8</td>\n",
              "      <td>...</td>\n",
              "      <td>True</td>\n",
              "      <td>11.136</td>\n",
              "      <td>q240p</td>\n",
              "      <td>240</td>\n",
              "      <td>2.410183</td>\n",
              "      <td>1.945910</td>\n",
              "      <td>2.197225</td>\n",
              "      <td>7.013016</td>\n",
              "      <td>9.318028</td>\n",
              "      <td>0.004835</td>\n",
              "    </tr>\n",
              "  </tbody>\n",
              "</table>\n",
              "<p>5 rows × 207 columns</p>\n",
              "</div>\n",
              "    <div class=\"colab-df-buttons\">\n",
              "\n",
              "  <div class=\"colab-df-container\">\n",
              "    <button class=\"colab-df-convert\" onclick=\"convertToInteractive('df-c3dae93c-a51f-41d3-b9c5-f895e0865c38')\"\n",
              "            title=\"Convert this dataframe to an interactive table.\"\n",
              "            style=\"display:none;\">\n",
              "\n",
              "  <svg xmlns=\"http://www.w3.org/2000/svg\" height=\"24px\" viewBox=\"0 -960 960 960\">\n",
              "    <path d=\"M120-120v-720h720v720H120Zm60-500h600v-160H180v160Zm220 220h160v-160H400v160Zm0 220h160v-160H400v160ZM180-400h160v-160H180v160Zm440 0h160v-160H620v160ZM180-180h160v-160H180v160Zm440 0h160v-160H620v160Z\"/>\n",
              "  </svg>\n",
              "    </button>\n",
              "\n",
              "  <style>\n",
              "    .colab-df-container {\n",
              "      display:flex;\n",
              "      gap: 12px;\n",
              "    }\n",
              "\n",
              "    .colab-df-convert {\n",
              "      background-color: #E8F0FE;\n",
              "      border: none;\n",
              "      border-radius: 50%;\n",
              "      cursor: pointer;\n",
              "      display: none;\n",
              "      fill: #1967D2;\n",
              "      height: 32px;\n",
              "      padding: 0 0 0 0;\n",
              "      width: 32px;\n",
              "    }\n",
              "\n",
              "    .colab-df-convert:hover {\n",
              "      background-color: #E2EBFA;\n",
              "      box-shadow: 0px 1px 2px rgba(60, 64, 67, 0.3), 0px 1px 3px 1px rgba(60, 64, 67, 0.15);\n",
              "      fill: #174EA6;\n",
              "    }\n",
              "\n",
              "    .colab-df-buttons div {\n",
              "      margin-bottom: 4px;\n",
              "    }\n",
              "\n",
              "    [theme=dark] .colab-df-convert {\n",
              "      background-color: #3B4455;\n",
              "      fill: #D2E3FC;\n",
              "    }\n",
              "\n",
              "    [theme=dark] .colab-df-convert:hover {\n",
              "      background-color: #434B5C;\n",
              "      box-shadow: 0px 1px 3px 1px rgba(0, 0, 0, 0.15);\n",
              "      filter: drop-shadow(0px 1px 2px rgba(0, 0, 0, 0.3));\n",
              "      fill: #FFFFFF;\n",
              "    }\n",
              "  </style>\n",
              "\n",
              "    <script>\n",
              "      const buttonEl =\n",
              "        document.querySelector('#df-c3dae93c-a51f-41d3-b9c5-f895e0865c38 button.colab-df-convert');\n",
              "      buttonEl.style.display =\n",
              "        google.colab.kernel.accessAllowed ? 'block' : 'none';\n",
              "\n",
              "      async function convertToInteractive(key) {\n",
              "        const element = document.querySelector('#df-c3dae93c-a51f-41d3-b9c5-f895e0865c38');\n",
              "        const dataTable =\n",
              "          await google.colab.kernel.invokeFunction('convertToInteractive',\n",
              "                                                    [key], {});\n",
              "        if (!dataTable) return;\n",
              "\n",
              "        const docLinkHtml = 'Like what you see? Visit the ' +\n",
              "          '<a target=\"_blank\" href=https://colab.research.google.com/notebooks/data_table.ipynb>data table notebook</a>'\n",
              "          + ' to learn more about interactive tables.';\n",
              "        element.innerHTML = '';\n",
              "        dataTable['output_type'] = 'display_data';\n",
              "        await google.colab.output.renderOutput(dataTable, element);\n",
              "        const docLink = document.createElement('div');\n",
              "        docLink.innerHTML = docLinkHtml;\n",
              "        element.appendChild(docLink);\n",
              "      }\n",
              "    </script>\n",
              "  </div>\n",
              "\n",
              "\n",
              "<div id=\"df-77fb79b5-7dc9-4ecb-a069-b861c94993e9\">\n",
              "  <button class=\"colab-df-quickchart\" onclick=\"quickchart('df-77fb79b5-7dc9-4ecb-a069-b861c94993e9')\"\n",
              "            title=\"Suggest charts\"\n",
              "            style=\"display:none;\">\n",
              "\n",
              "<svg xmlns=\"http://www.w3.org/2000/svg\" height=\"24px\"viewBox=\"0 0 24 24\"\n",
              "     width=\"24px\">\n",
              "    <g>\n",
              "        <path d=\"M19 3H5c-1.1 0-2 .9-2 2v14c0 1.1.9 2 2 2h14c1.1 0 2-.9 2-2V5c0-1.1-.9-2-2-2zM9 17H7v-7h2v7zm4 0h-2V7h2v10zm4 0h-2v-4h2v4z\"/>\n",
              "    </g>\n",
              "</svg>\n",
              "  </button>\n",
              "\n",
              "<style>\n",
              "  .colab-df-quickchart {\n",
              "      --bg-color: #E8F0FE;\n",
              "      --fill-color: #1967D2;\n",
              "      --hover-bg-color: #E2EBFA;\n",
              "      --hover-fill-color: #174EA6;\n",
              "      --disabled-fill-color: #AAA;\n",
              "      --disabled-bg-color: #DDD;\n",
              "  }\n",
              "\n",
              "  [theme=dark] .colab-df-quickchart {\n",
              "      --bg-color: #3B4455;\n",
              "      --fill-color: #D2E3FC;\n",
              "      --hover-bg-color: #434B5C;\n",
              "      --hover-fill-color: #FFFFFF;\n",
              "      --disabled-bg-color: #3B4455;\n",
              "      --disabled-fill-color: #666;\n",
              "  }\n",
              "\n",
              "  .colab-df-quickchart {\n",
              "    background-color: var(--bg-color);\n",
              "    border: none;\n",
              "    border-radius: 50%;\n",
              "    cursor: pointer;\n",
              "    display: none;\n",
              "    fill: var(--fill-color);\n",
              "    height: 32px;\n",
              "    padding: 0;\n",
              "    width: 32px;\n",
              "  }\n",
              "\n",
              "  .colab-df-quickchart:hover {\n",
              "    background-color: var(--hover-bg-color);\n",
              "    box-shadow: 0 1px 2px rgba(60, 64, 67, 0.3), 0 1px 3px 1px rgba(60, 64, 67, 0.15);\n",
              "    fill: var(--button-hover-fill-color);\n",
              "  }\n",
              "\n",
              "  .colab-df-quickchart-complete:disabled,\n",
              "  .colab-df-quickchart-complete:disabled:hover {\n",
              "    background-color: var(--disabled-bg-color);\n",
              "    fill: var(--disabled-fill-color);\n",
              "    box-shadow: none;\n",
              "  }\n",
              "\n",
              "  .colab-df-spinner {\n",
              "    border: 2px solid var(--fill-color);\n",
              "    border-color: transparent;\n",
              "    border-bottom-color: var(--fill-color);\n",
              "    animation:\n",
              "      spin 1s steps(1) infinite;\n",
              "  }\n",
              "\n",
              "  @keyframes spin {\n",
              "    0% {\n",
              "      border-color: transparent;\n",
              "      border-bottom-color: var(--fill-color);\n",
              "      border-left-color: var(--fill-color);\n",
              "    }\n",
              "    20% {\n",
              "      border-color: transparent;\n",
              "      border-left-color: var(--fill-color);\n",
              "      border-top-color: var(--fill-color);\n",
              "    }\n",
              "    30% {\n",
              "      border-color: transparent;\n",
              "      border-left-color: var(--fill-color);\n",
              "      border-top-color: var(--fill-color);\n",
              "      border-right-color: var(--fill-color);\n",
              "    }\n",
              "    40% {\n",
              "      border-color: transparent;\n",
              "      border-right-color: var(--fill-color);\n",
              "      border-top-color: var(--fill-color);\n",
              "    }\n",
              "    60% {\n",
              "      border-color: transparent;\n",
              "      border-right-color: var(--fill-color);\n",
              "    }\n",
              "    80% {\n",
              "      border-color: transparent;\n",
              "      border-right-color: var(--fill-color);\n",
              "      border-bottom-color: var(--fill-color);\n",
              "    }\n",
              "    90% {\n",
              "      border-color: transparent;\n",
              "      border-bottom-color: var(--fill-color);\n",
              "    }\n",
              "  }\n",
              "</style>\n",
              "\n",
              "  <script>\n",
              "    async function quickchart(key) {\n",
              "      const quickchartButtonEl =\n",
              "        document.querySelector('#' + key + ' button');\n",
              "      quickchartButtonEl.disabled = true;  // To prevent multiple clicks.\n",
              "      quickchartButtonEl.classList.add('colab-df-spinner');\n",
              "      try {\n",
              "        const charts = await google.colab.kernel.invokeFunction(\n",
              "            'suggestCharts', [key], {});\n",
              "      } catch (error) {\n",
              "        console.error('Error during call to suggestCharts:', error);\n",
              "      }\n",
              "      quickchartButtonEl.classList.remove('colab-df-spinner');\n",
              "      quickchartButtonEl.classList.add('colab-df-quickchart-complete');\n",
              "    }\n",
              "    (() => {\n",
              "      let quickchartButtonEl =\n",
              "        document.querySelector('#df-77fb79b5-7dc9-4ecb-a069-b861c94993e9 button');\n",
              "      quickchartButtonEl.style.display =\n",
              "        google.colab.kernel.accessAllowed ? 'block' : 'none';\n",
              "    })();\n",
              "  </script>\n",
              "</div>\n",
              "    </div>\n",
              "  </div>\n"
            ],
            "application/vnd.google.colaboratory.intrinsic+json": {
              "type": "dataframe",
              "variable_name": "df_test"
            }
          },
          "metadata": {},
          "execution_count": 12
        }
      ]
    },
    {
      "cell_type": "markdown",
      "metadata": {
        "id": "L87_ZI6FZaer"
      },
      "source": [
        "Let's split the dataset in 70% training set, 30% test set."
      ]
    },
    {
      "cell_type": "markdown",
      "metadata": {
        "id": "D57IUuJ-Zaet"
      },
      "source": [
        "Try to run the code above multiple times.\n",
        "\n",
        "What do you observe? Is it a problem? How do you solve it?"
      ]
    },
    {
      "cell_type": "markdown",
      "metadata": {
        "id": "vM7cN44RZaew"
      },
      "source": [
        "To achieve reproducibility, set the seed with `random_state`."
      ]
    },
    {
      "cell_type": "code",
      "metadata": {
        "id": "Zst6Gz49Zaey",
        "colab": {
          "base_uri": "https://localhost:8080/"
        },
        "outputId": "bd73ed97-4c0e-4783-aaf4-a238c451c4b3"
      },
      "source": [
        "df_train, df_test = train_test_split(df, test_size=0.3, random_state=19)\n",
        "df_test.head()\n",
        "\n",
        "print('Training samples ', df_train.shape[0], '; Test samples ', df_test.shape[0])"
      ],
      "execution_count": 13,
      "outputs": [
        {
          "output_type": "stream",
          "name": "stdout",
          "text": [
            "Training samples  204 ; Test samples  88\n"
          ]
        }
      ]
    },
    {
      "cell_type": "markdown",
      "metadata": {
        "id": "dqZ4u5GEZae3"
      },
      "source": [
        "## Univariate Linear Regression"
      ]
    },
    {
      "cell_type": "markdown",
      "metadata": {
        "id": "xCozQN3-Zae5"
      },
      "source": [
        "**Goal**: Predict `label_num` based on `KBytesReceived`"
      ]
    },
    {
      "cell_type": "code",
      "metadata": {
        "id": "gLNU1if4Zae6",
        "colab": {
          "base_uri": "https://localhost:8080/",
          "height": 424
        },
        "outputId": "4471ca82-6f23-4950-aad1-86bed8e94ba2"
      },
      "source": [
        "df_train[['KBytesReceived','label_num']]"
      ],
      "execution_count": 14,
      "outputs": [
        {
          "output_type": "execute_result",
          "data": {
            "text/plain": [
              "     KBytesReceived  label_num\n",
              "211         135.024       1080\n",
              "261          85.044       1080\n",
              "150         137.403        480\n",
              "31           48.720        360\n",
              "189          86.304        720\n",
              "..              ...        ...\n",
              "159          46.066        720\n",
              "19           41.931        480\n",
              "245          66.958        720\n",
              "110          41.752        720\n",
              "93           79.808        480\n",
              "\n",
              "[204 rows x 2 columns]"
            ],
            "text/html": [
              "\n",
              "  <div id=\"df-c50deb66-0684-4f66-bb66-2942d47a402c\" class=\"colab-df-container\">\n",
              "    <div>\n",
              "<style scoped>\n",
              "    .dataframe tbody tr th:only-of-type {\n",
              "        vertical-align: middle;\n",
              "    }\n",
              "\n",
              "    .dataframe tbody tr th {\n",
              "        vertical-align: top;\n",
              "    }\n",
              "\n",
              "    .dataframe thead th {\n",
              "        text-align: right;\n",
              "    }\n",
              "</style>\n",
              "<table border=\"1\" class=\"dataframe\">\n",
              "  <thead>\n",
              "    <tr style=\"text-align: right;\">\n",
              "      <th></th>\n",
              "      <th>KBytesReceived</th>\n",
              "      <th>label_num</th>\n",
              "    </tr>\n",
              "  </thead>\n",
              "  <tbody>\n",
              "    <tr>\n",
              "      <th>211</th>\n",
              "      <td>135.024</td>\n",
              "      <td>1080</td>\n",
              "    </tr>\n",
              "    <tr>\n",
              "      <th>261</th>\n",
              "      <td>85.044</td>\n",
              "      <td>1080</td>\n",
              "    </tr>\n",
              "    <tr>\n",
              "      <th>150</th>\n",
              "      <td>137.403</td>\n",
              "      <td>480</td>\n",
              "    </tr>\n",
              "    <tr>\n",
              "      <th>31</th>\n",
              "      <td>48.720</td>\n",
              "      <td>360</td>\n",
              "    </tr>\n",
              "    <tr>\n",
              "      <th>189</th>\n",
              "      <td>86.304</td>\n",
              "      <td>720</td>\n",
              "    </tr>\n",
              "    <tr>\n",
              "      <th>...</th>\n",
              "      <td>...</td>\n",
              "      <td>...</td>\n",
              "    </tr>\n",
              "    <tr>\n",
              "      <th>159</th>\n",
              "      <td>46.066</td>\n",
              "      <td>720</td>\n",
              "    </tr>\n",
              "    <tr>\n",
              "      <th>19</th>\n",
              "      <td>41.931</td>\n",
              "      <td>480</td>\n",
              "    </tr>\n",
              "    <tr>\n",
              "      <th>245</th>\n",
              "      <td>66.958</td>\n",
              "      <td>720</td>\n",
              "    </tr>\n",
              "    <tr>\n",
              "      <th>110</th>\n",
              "      <td>41.752</td>\n",
              "      <td>720</td>\n",
              "    </tr>\n",
              "    <tr>\n",
              "      <th>93</th>\n",
              "      <td>79.808</td>\n",
              "      <td>480</td>\n",
              "    </tr>\n",
              "  </tbody>\n",
              "</table>\n",
              "<p>204 rows × 2 columns</p>\n",
              "</div>\n",
              "    <div class=\"colab-df-buttons\">\n",
              "\n",
              "  <div class=\"colab-df-container\">\n",
              "    <button class=\"colab-df-convert\" onclick=\"convertToInteractive('df-c50deb66-0684-4f66-bb66-2942d47a402c')\"\n",
              "            title=\"Convert this dataframe to an interactive table.\"\n",
              "            style=\"display:none;\">\n",
              "\n",
              "  <svg xmlns=\"http://www.w3.org/2000/svg\" height=\"24px\" viewBox=\"0 -960 960 960\">\n",
              "    <path d=\"M120-120v-720h720v720H120Zm60-500h600v-160H180v160Zm220 220h160v-160H400v160Zm0 220h160v-160H400v160ZM180-400h160v-160H180v160Zm440 0h160v-160H620v160ZM180-180h160v-160H180v160Zm440 0h160v-160H620v160Z\"/>\n",
              "  </svg>\n",
              "    </button>\n",
              "\n",
              "  <style>\n",
              "    .colab-df-container {\n",
              "      display:flex;\n",
              "      gap: 12px;\n",
              "    }\n",
              "\n",
              "    .colab-df-convert {\n",
              "      background-color: #E8F0FE;\n",
              "      border: none;\n",
              "      border-radius: 50%;\n",
              "      cursor: pointer;\n",
              "      display: none;\n",
              "      fill: #1967D2;\n",
              "      height: 32px;\n",
              "      padding: 0 0 0 0;\n",
              "      width: 32px;\n",
              "    }\n",
              "\n",
              "    .colab-df-convert:hover {\n",
              "      background-color: #E2EBFA;\n",
              "      box-shadow: 0px 1px 2px rgba(60, 64, 67, 0.3), 0px 1px 3px 1px rgba(60, 64, 67, 0.15);\n",
              "      fill: #174EA6;\n",
              "    }\n",
              "\n",
              "    .colab-df-buttons div {\n",
              "      margin-bottom: 4px;\n",
              "    }\n",
              "\n",
              "    [theme=dark] .colab-df-convert {\n",
              "      background-color: #3B4455;\n",
              "      fill: #D2E3FC;\n",
              "    }\n",
              "\n",
              "    [theme=dark] .colab-df-convert:hover {\n",
              "      background-color: #434B5C;\n",
              "      box-shadow: 0px 1px 3px 1px rgba(0, 0, 0, 0.15);\n",
              "      filter: drop-shadow(0px 1px 2px rgba(0, 0, 0, 0.3));\n",
              "      fill: #FFFFFF;\n",
              "    }\n",
              "  </style>\n",
              "\n",
              "    <script>\n",
              "      const buttonEl =\n",
              "        document.querySelector('#df-c50deb66-0684-4f66-bb66-2942d47a402c button.colab-df-convert');\n",
              "      buttonEl.style.display =\n",
              "        google.colab.kernel.accessAllowed ? 'block' : 'none';\n",
              "\n",
              "      async function convertToInteractive(key) {\n",
              "        const element = document.querySelector('#df-c50deb66-0684-4f66-bb66-2942d47a402c');\n",
              "        const dataTable =\n",
              "          await google.colab.kernel.invokeFunction('convertToInteractive',\n",
              "                                                    [key], {});\n",
              "        if (!dataTable) return;\n",
              "\n",
              "        const docLinkHtml = 'Like what you see? Visit the ' +\n",
              "          '<a target=\"_blank\" href=https://colab.research.google.com/notebooks/data_table.ipynb>data table notebook</a>'\n",
              "          + ' to learn more about interactive tables.';\n",
              "        element.innerHTML = '';\n",
              "        dataTable['output_type'] = 'display_data';\n",
              "        await google.colab.output.renderOutput(dataTable, element);\n",
              "        const docLink = document.createElement('div');\n",
              "        docLink.innerHTML = docLinkHtml;\n",
              "        element.appendChild(docLink);\n",
              "      }\n",
              "    </script>\n",
              "  </div>\n",
              "\n",
              "\n",
              "<div id=\"df-29e96a5b-fca8-47b9-b050-cc83daa15186\">\n",
              "  <button class=\"colab-df-quickchart\" onclick=\"quickchart('df-29e96a5b-fca8-47b9-b050-cc83daa15186')\"\n",
              "            title=\"Suggest charts\"\n",
              "            style=\"display:none;\">\n",
              "\n",
              "<svg xmlns=\"http://www.w3.org/2000/svg\" height=\"24px\"viewBox=\"0 0 24 24\"\n",
              "     width=\"24px\">\n",
              "    <g>\n",
              "        <path d=\"M19 3H5c-1.1 0-2 .9-2 2v14c0 1.1.9 2 2 2h14c1.1 0 2-.9 2-2V5c0-1.1-.9-2-2-2zM9 17H7v-7h2v7zm4 0h-2V7h2v10zm4 0h-2v-4h2v4z\"/>\n",
              "    </g>\n",
              "</svg>\n",
              "  </button>\n",
              "\n",
              "<style>\n",
              "  .colab-df-quickchart {\n",
              "      --bg-color: #E8F0FE;\n",
              "      --fill-color: #1967D2;\n",
              "      --hover-bg-color: #E2EBFA;\n",
              "      --hover-fill-color: #174EA6;\n",
              "      --disabled-fill-color: #AAA;\n",
              "      --disabled-bg-color: #DDD;\n",
              "  }\n",
              "\n",
              "  [theme=dark] .colab-df-quickchart {\n",
              "      --bg-color: #3B4455;\n",
              "      --fill-color: #D2E3FC;\n",
              "      --hover-bg-color: #434B5C;\n",
              "      --hover-fill-color: #FFFFFF;\n",
              "      --disabled-bg-color: #3B4455;\n",
              "      --disabled-fill-color: #666;\n",
              "  }\n",
              "\n",
              "  .colab-df-quickchart {\n",
              "    background-color: var(--bg-color);\n",
              "    border: none;\n",
              "    border-radius: 50%;\n",
              "    cursor: pointer;\n",
              "    display: none;\n",
              "    fill: var(--fill-color);\n",
              "    height: 32px;\n",
              "    padding: 0;\n",
              "    width: 32px;\n",
              "  }\n",
              "\n",
              "  .colab-df-quickchart:hover {\n",
              "    background-color: var(--hover-bg-color);\n",
              "    box-shadow: 0 1px 2px rgba(60, 64, 67, 0.3), 0 1px 3px 1px rgba(60, 64, 67, 0.15);\n",
              "    fill: var(--button-hover-fill-color);\n",
              "  }\n",
              "\n",
              "  .colab-df-quickchart-complete:disabled,\n",
              "  .colab-df-quickchart-complete:disabled:hover {\n",
              "    background-color: var(--disabled-bg-color);\n",
              "    fill: var(--disabled-fill-color);\n",
              "    box-shadow: none;\n",
              "  }\n",
              "\n",
              "  .colab-df-spinner {\n",
              "    border: 2px solid var(--fill-color);\n",
              "    border-color: transparent;\n",
              "    border-bottom-color: var(--fill-color);\n",
              "    animation:\n",
              "      spin 1s steps(1) infinite;\n",
              "  }\n",
              "\n",
              "  @keyframes spin {\n",
              "    0% {\n",
              "      border-color: transparent;\n",
              "      border-bottom-color: var(--fill-color);\n",
              "      border-left-color: var(--fill-color);\n",
              "    }\n",
              "    20% {\n",
              "      border-color: transparent;\n",
              "      border-left-color: var(--fill-color);\n",
              "      border-top-color: var(--fill-color);\n",
              "    }\n",
              "    30% {\n",
              "      border-color: transparent;\n",
              "      border-left-color: var(--fill-color);\n",
              "      border-top-color: var(--fill-color);\n",
              "      border-right-color: var(--fill-color);\n",
              "    }\n",
              "    40% {\n",
              "      border-color: transparent;\n",
              "      border-right-color: var(--fill-color);\n",
              "      border-top-color: var(--fill-color);\n",
              "    }\n",
              "    60% {\n",
              "      border-color: transparent;\n",
              "      border-right-color: var(--fill-color);\n",
              "    }\n",
              "    80% {\n",
              "      border-color: transparent;\n",
              "      border-right-color: var(--fill-color);\n",
              "      border-bottom-color: var(--fill-color);\n",
              "    }\n",
              "    90% {\n",
              "      border-color: transparent;\n",
              "      border-bottom-color: var(--fill-color);\n",
              "    }\n",
              "  }\n",
              "</style>\n",
              "\n",
              "  <script>\n",
              "    async function quickchart(key) {\n",
              "      const quickchartButtonEl =\n",
              "        document.querySelector('#' + key + ' button');\n",
              "      quickchartButtonEl.disabled = true;  // To prevent multiple clicks.\n",
              "      quickchartButtonEl.classList.add('colab-df-spinner');\n",
              "      try {\n",
              "        const charts = await google.colab.kernel.invokeFunction(\n",
              "            'suggestCharts', [key], {});\n",
              "      } catch (error) {\n",
              "        console.error('Error during call to suggestCharts:', error);\n",
              "      }\n",
              "      quickchartButtonEl.classList.remove('colab-df-spinner');\n",
              "      quickchartButtonEl.classList.add('colab-df-quickchart-complete');\n",
              "    }\n",
              "    (() => {\n",
              "      let quickchartButtonEl =\n",
              "        document.querySelector('#df-29e96a5b-fca8-47b9-b050-cc83daa15186 button');\n",
              "      quickchartButtonEl.style.display =\n",
              "        google.colab.kernel.accessAllowed ? 'block' : 'none';\n",
              "    })();\n",
              "  </script>\n",
              "</div>\n",
              "    </div>\n",
              "  </div>\n"
            ],
            "application/vnd.google.colaboratory.intrinsic+json": {
              "type": "dataframe",
              "summary": "{\n  \"name\": \"df_train[['KBytesReceived','label_num']]\",\n  \"rows\": 204,\n  \"fields\": [\n    {\n      \"column\": \"KBytesReceived\",\n      \"properties\": {\n        \"dtype\": \"number\",\n        \"std\": 55.51314745912519,\n        \"min\": 10.304,\n        \"max\": 419.923,\n        \"num_unique_values\": 175,\n        \"samples\": [\n          145.882,\n          76.295,\n          59.729\n        ],\n        \"semantic_type\": \"\",\n        \"description\": \"\"\n      }\n    },\n    {\n      \"column\": \"label_num\",\n      \"properties\": {\n        \"dtype\": \"number\",\n        \"std\": 300,\n        \"min\": 144,\n        \"max\": 1080,\n        \"num_unique_values\": 6,\n        \"samples\": [\n          1080,\n          480,\n          240\n        ],\n        \"semantic_type\": \"\",\n        \"description\": \"\"\n      }\n    }\n  ]\n}"
            }
          },
          "metadata": {},
          "execution_count": 14
        }
      ]
    },
    {
      "cell_type": "markdown",
      "metadata": {
        "id": "fqS9xxiAZafA"
      },
      "source": [
        "Let's separate the independent variables $X$ from the dependent variables $y$"
      ]
    },
    {
      "cell_type": "code",
      "metadata": {
        "id": "GLIEAfroZafB"
      },
      "source": [
        "# Scikit learn models expect matrices. We first transform\n",
        "# the dataframe into an array\n",
        "X_train = df_train[['KBytesReceived'] ].values\n",
        "\n",
        "# Scikit learn models expect matrices with multiple\n",
        "# rows and columns as X. X_train has instead just one column\n",
        "# ==> The following code is necessary\n",
        "X_train = X_train.reshape(-1,1)\n",
        "\n",
        "y_train = df_train['label_num'].values\n",
        "\n",
        "\n",
        "# Do the same for the test dataset\n",
        "X_test = df_test[[ 'KBytesReceived'] ].values.reshape(-1,1)\n",
        "y_test = df_test['label_num'].values"
      ],
      "execution_count": 15,
      "outputs": []
    },
    {
      "cell_type": "markdown",
      "metadata": {
        "id": "emtf78TgZafG"
      },
      "source": [
        "Let's train our first supervised learning model: an Ordinary Least Squares model."
      ]
    },
    {
      "cell_type": "markdown",
      "metadata": {
        "id": "Rb54eFYJZafH"
      },
      "source": [
        "Note: the main library for machine learning in Python is `scikit learn`. However `sklearn.LinearRegression` is quite poor, as it does not provide p-values and other information.\n",
        "\n",
        "An alternative library to `sklearn` exists, which is called `statsmodel` is better, but its interface is different from the other models of `sklearn`.\n",
        "\n",
        "I prepared the function `andrea_models.AndreaLinearRegression`, important at the beginning, to combine the best of `sklearn.LinearRegression` and `statsmodel`: it has tje same interface of `scikit learn` and the additional information of `statsmodel`."
      ]
    },
    {
      "cell_type": "code",
      "metadata": {
        "id": "K3bthb-mZafJ",
        "colab": {
          "base_uri": "https://localhost:8080/"
        },
        "outputId": "f9e1d275-8e0a-406d-b5d7-e06b8aff93ca"
      },
      "source": [
        "model = AndreaLinearRegression()\n",
        "model.fit(X_train, y_train, column_names=['KBytesReceived'])\n",
        "model.summary()"
      ],
      "execution_count": 16,
      "outputs": [
        {
          "output_type": "stream",
          "name": "stdout",
          "text": [
            "                            OLS Regression Results                            \n",
            "==============================================================================\n",
            "Dep. Variable:                      y   R-squared:                       0.072\n",
            "Model:                            OLS   Adj. R-squared:                  0.068\n",
            "Method:                 Least Squares   F-statistic:                     15.70\n",
            "Date:                Tue, 14 May 2024   Prob (F-statistic):           0.000103\n",
            "Time:                        08:54:38   Log-Likelihood:                -1445.2\n",
            "No. Observations:                 204   AIC:                             2894.\n",
            "Df Residuals:                     202   BIC:                             2901.\n",
            "Df Model:                           1                                         \n",
            "Covariance Type:            nonrobust                                         \n",
            "==================================================================================\n",
            "                     coef    std err          t      P>|t|      [0.025      0.975]\n",
            "----------------------------------------------------------------------------------\n",
            "intercept        519.5636     33.254     15.624      0.000     453.994     585.133\n",
            "KBytesReceived     1.4536      0.367      3.962      0.000       0.730       2.177\n",
            "==============================================================================\n",
            "Omnibus:                       32.312   Durbin-Watson:                   1.985\n",
            "Prob(Omnibus):                  0.000   Jarque-Bera (JB):               10.773\n",
            "Skew:                           0.292   Prob(JB):                      0.00458\n",
            "Kurtosis:                       2.038   Cond. No.                         148.\n",
            "==============================================================================\n",
            "\n",
            "Notes:\n",
            "[1] Standard Errors assume that the covariance matrix of the errors is correctly specified.\n"
          ]
        }
      ]
    },
    {
      "cell_type": "markdown",
      "metadata": {
        "id": "tVArgDOFZafP"
      },
      "source": [
        "Now we have a trained model $h_{\\theta*}(\\cdot)$ stored in `model`. We can use it to predict new values."
      ]
    },
    {
      "cell_type": "code",
      "metadata": {
        "id": "kblDjTClZafQ",
        "colab": {
          "base_uri": "https://localhost:8080/"
        },
        "outputId": "72fde064-fdd1-4e6c-9e3e-674cdb4736fd"
      },
      "source": [
        "newKBytesReceivedSamples = np.array([257, 524, 613, 223]).reshape(-1,1)\n",
        "\n",
        "\n",
        "predictedLabels = model.predict(newKBytesReceivedSamples)\n",
        "predictedLabels"
      ],
      "execution_count": 17,
      "outputs": [
        {
          "output_type": "execute_result",
          "data": {
            "text/plain": [
              "array([ 893.14316416, 1281.2588651 , 1410.63076541,  843.72019101])"
            ]
          },
          "metadata": {},
          "execution_count": 17
        }
      ]
    },
    {
      "cell_type": "markdown",
      "metadata": {
        "id": "K3eXFPKsZafV"
      },
      "source": [
        "To plot the model, we let it predict on an interval"
      ]
    },
    {
      "cell_type": "code",
      "metadata": {
        "id": "nMT1-M28ZafW",
        "colab": {
          "base_uri": "https://localhost:8080/"
        },
        "outputId": "4c0c8e6b-05d0-41e1-fc1d-eafeb992a191"
      },
      "source": [
        "interval = np.arange(-100,1200).reshape(-1,1)\n",
        "h_values = model.predict(interval)\n",
        "h_values"
      ],
      "execution_count": 18,
      "outputs": [
        {
          "output_type": "execute_result",
          "data": {
            "text/plain": [
              "array([ 374.20194605,  375.65556291,  377.10917977, ..., 2259.54301016,\n",
              "       2260.99662702, 2262.45024387])"
            ]
          },
          "metadata": {},
          "execution_count": 18
        }
      ]
    },
    {
      "cell_type": "markdown",
      "metadata": {
        "id": "4qZ6KEvZZafa"
      },
      "source": [
        "Let's plot the model. It is constructed so to minimize the distance between the blue points (training samples) and the line"
      ]
    },
    {
      "cell_type": "code",
      "metadata": {
        "id": "8_QSV59-Zafc",
        "scrolled": true,
        "colab": {
          "base_uri": "https://localhost:8080/",
          "height": 455
        },
        "outputId": "a41348fd-7f2e-4dbf-f6c5-79b767f38cff"
      },
      "source": [
        "ax.scatter(X_train,y_train,color='blue',s=1,\n",
        "           label=\"training samples\")\n",
        "\n",
        "ax.plot(interval,h_values, label=\"Linear Regression (OLS)\")\n",
        "ax.legend()\n",
        "\n",
        "fig"
      ],
      "execution_count": 19,
      "outputs": [
        {
          "output_type": "execute_result",
          "data": {
            "text/plain": [
              "<Figure size 640x480 with 1 Axes>"
            ],
            "image/png": "[encoded data removed]"
          },
          "metadata": {},
          "execution_count": 19
        }
      ]
    },
    {
      "cell_type": "code",
      "metadata": {
        "id": "Nt7uDKGvoUSg"
      },
      "source": [
        "# SKIP THIS\n",
        "if savefigures:\n",
        "  filename = my_path+\"QoE-prediction-OLS.pdf\"\n",
        "  fig.savefig(filename)"
      ],
      "execution_count": 20,
      "outputs": []
    },
    {
      "cell_type": "markdown",
      "metadata": {
        "id": "8yIZmM7-Zafg"
      },
      "source": [
        "Let's evaluate the model on the test set"
      ]
    },
    {
      "cell_type": "code",
      "metadata": {
        "id": "vO41UMCCZafh"
      },
      "source": [
        "y_pred = model.predict(X_test)"
      ],
      "execution_count": 21,
      "outputs": []
    },
    {
      "cell_type": "markdown",
      "metadata": {
        "id": "ZH4BFM-KZafm"
      },
      "source": [
        "Let us compare the true test labels and the predicted"
      ]
    },
    {
      "cell_type": "code",
      "metadata": {
        "id": "XQhMifAjZafm",
        "scrolled": true,
        "colab": {
          "base_uri": "https://localhost:8080/",
          "height": 424
        },
        "outputId": "e56cc2fe-95d1-4a47-a6ba-4ad55da77c66"
      },
      "source": [
        "pd.DataFrame({'true':y_test,'pred':y_pred})"
      ],
      "execution_count": 22,
      "outputs": [
        {
          "output_type": "execute_result",
          "data": {
            "text/plain": [
              "    true        pred\n",
              "0    720  599.486394\n",
              "1    720  578.113865\n",
              "2    720  584.313541\n",
              "3   1080  651.086885\n",
              "4    480  609.283771\n",
              "..   ...         ...\n",
              "83   720  619.890814\n",
              "84   720  539.797978\n",
              "85   720  542.783707\n",
              "86   480  600.564978\n",
              "87   720  579.081974\n",
              "\n",
              "[88 rows x 2 columns]"
            ],
            "text/html": [
              "\n",
              "  <div id=\"df-d7e5eca6-c25f-4358-8d63-896d0f16ca83\" class=\"colab-df-container\">\n",
              "    <div>\n",
              "<style scoped>\n",
              "    .dataframe tbody tr th:only-of-type {\n",
              "        vertical-align: middle;\n",
              "    }\n",
              "\n",
              "    .dataframe tbody tr th {\n",
              "        vertical-align: top;\n",
              "    }\n",
              "\n",
              "    .dataframe thead th {\n",
              "        text-align: right;\n",
              "    }\n",
              "</style>\n",
              "<table border=\"1\" class=\"dataframe\">\n",
              "  <thead>\n",
              "    <tr style=\"text-align: right;\">\n",
              "      <th></th>\n",
              "      <th>true</th>\n",
              "      <th>pred</th>\n",
              "    </tr>\n",
              "  </thead>\n",
              "  <tbody>\n",
              "    <tr>\n",
              "      <th>0</th>\n",
              "      <td>720</td>\n",
              "      <td>599.486394</td>\n",
              "    </tr>\n",
              "    <tr>\n",
              "      <th>1</th>\n",
              "      <td>720</td>\n",
              "      <td>578.113865</td>\n",
              "    </tr>\n",
              "    <tr>\n",
              "      <th>2</th>\n",
              "      <td>720</td>\n",
              "      <td>584.313541</td>\n",
              "    </tr>\n",
              "    <tr>\n",
              "      <th>3</th>\n",
              "      <td>1080</td>\n",
              "      <td>651.086885</td>\n",
              "    </tr>\n",
              "    <tr>\n",
              "      <th>4</th>\n",
              "      <td>480</td>\n",
              "      <td>609.283771</td>\n",
              "    </tr>\n",
              "    <tr>\n",
              "      <th>...</th>\n",
              "      <td>...</td>\n",
              "      <td>...</td>\n",
              "    </tr>\n",
              "    <tr>\n",
              "      <th>83</th>\n",
              "      <td>720</td>\n",
              "      <td>619.890814</td>\n",
              "    </tr>\n",
              "    <tr>\n",
              "      <th>84</th>\n",
              "      <td>720</td>\n",
              "      <td>539.797978</td>\n",
              "    </tr>\n",
              "    <tr>\n",
              "      <th>85</th>\n",
              "      <td>720</td>\n",
              "      <td>542.783707</td>\n",
              "    </tr>\n",
              "    <tr>\n",
              "      <th>86</th>\n",
              "      <td>480</td>\n",
              "      <td>600.564978</td>\n",
              "    </tr>\n",
              "    <tr>\n",
              "      <th>87</th>\n",
              "      <td>720</td>\n",
              "      <td>579.081974</td>\n",
              "    </tr>\n",
              "  </tbody>\n",
              "</table>\n",
              "<p>88 rows × 2 columns</p>\n",
              "</div>\n",
              "    <div class=\"colab-df-buttons\">\n",
              "\n",
              "  <div class=\"colab-df-container\">\n",
              "    <button class=\"colab-df-convert\" onclick=\"convertToInteractive('df-d7e5eca6-c25f-4358-8d63-896d0f16ca83')\"\n",
              "            title=\"Convert this dataframe to an interactive table.\"\n",
              "            style=\"display:none;\">\n",
              "\n",
              "  <svg xmlns=\"http://www.w3.org/2000/svg\" height=\"24px\" viewBox=\"0 -960 960 960\">\n",
              "    <path d=\"M120-120v-720h720v720H120Zm60-500h600v-160H180v160Zm220 220h160v-160H400v160Zm0 220h160v-160H400v160ZM180-400h160v-160H180v160Zm440 0h160v-160H620v160ZM180-180h160v-160H180v160Zm440 0h160v-160H620v160Z\"/>\n",
              "  </svg>\n",
              "    </button>\n",
              "\n",
              "  <style>\n",
              "    .colab-df-container {\n",
              "      display:flex;\n",
              "      gap: 12px;\n",
              "    }\n",
              "\n",
              "    .colab-df-convert {\n",
              "      background-color: #E8F0FE;\n",
              "      border: none;\n",
              "      border-radius: 50%;\n",
              "      cursor: pointer;\n",
              "      display: none;\n",
              "      fill: #1967D2;\n",
              "      height: 32px;\n",
              "      padding: 0 0 0 0;\n",
              "      width: 32px;\n",
              "    }\n",
              "\n",
              "    .colab-df-convert:hover {\n",
              "      background-color: #E2EBFA;\n",
              "      box-shadow: 0px 1px 2px rgba(60, 64, 67, 0.3), 0px 1px 3px 1px rgba(60, 64, 67, 0.15);\n",
              "      fill: #174EA6;\n",
              "    }\n",
              "\n",
              "    .colab-df-buttons div {\n",
              "      margin-bottom: 4px;\n",
              "    }\n",
              "\n",
              "    [theme=dark] .colab-df-convert {\n",
              "      background-color: #3B4455;\n",
              "      fill: #D2E3FC;\n",
              "    }\n",
              "\n",
              "    [theme=dark] .colab-df-convert:hover {\n",
              "      background-color: #434B5C;\n",
              "      box-shadow: 0px 1px 3px 1px rgba(0, 0, 0, 0.15);\n",
              "      filter: drop-shadow(0px 1px 2px rgba(0, 0, 0, 0.3));\n",
              "      fill: #FFFFFF;\n",
              "    }\n",
              "  </style>\n",
              "\n",
              "    <script>\n",
              "      const buttonEl =\n",
              "        document.querySelector('#df-d7e5eca6-c25f-4358-8d63-896d0f16ca83 button.colab-df-convert');\n",
              "      buttonEl.style.display =\n",
              "        google.colab.kernel.accessAllowed ? 'block' : 'none';\n",
              "\n",
              "      async function convertToInteractive(key) {\n",
              "        const element = document.querySelector('#df-d7e5eca6-c25f-4358-8d63-896d0f16ca83');\n",
              "        const dataTable =\n",
              "          await google.colab.kernel.invokeFunction('convertToInteractive',\n",
              "                                                    [key], {});\n",
              "        if (!dataTable) return;\n",
              "\n",
              "        const docLinkHtml = 'Like what you see? Visit the ' +\n",
              "          '<a target=\"_blank\" href=https://colab.research.google.com/notebooks/data_table.ipynb>data table notebook</a>'\n",
              "          + ' to learn more about interactive tables.';\n",
              "        element.innerHTML = '';\n",
              "        dataTable['output_type'] = 'display_data';\n",
              "        await google.colab.output.renderOutput(dataTable, element);\n",
              "        const docLink = document.createElement('div');\n",
              "        docLink.innerHTML = docLinkHtml;\n",
              "        element.appendChild(docLink);\n",
              "      }\n",
              "    </script>\n",
              "  </div>\n",
              "\n",
              "\n",
              "<div id=\"df-f6ea2142-4596-4994-b8d0-e5e2fed5a5d2\">\n",
              "  <button class=\"colab-df-quickchart\" onclick=\"quickchart('df-f6ea2142-4596-4994-b8d0-e5e2fed5a5d2')\"\n",
              "            title=\"Suggest charts\"\n",
              "            style=\"display:none;\">\n",
              "\n",
              "<svg xmlns=\"http://www.w3.org/2000/svg\" height=\"24px\"viewBox=\"0 0 24 24\"\n",
              "     width=\"24px\">\n",
              "    <g>\n",
              "        <path d=\"M19 3H5c-1.1 0-2 .9-2 2v14c0 1.1.9 2 2 2h14c1.1 0 2-.9 2-2V5c0-1.1-.9-2-2-2zM9 17H7v-7h2v7zm4 0h-2V7h2v10zm4 0h-2v-4h2v4z\"/>\n",
              "    </g>\n",
              "</svg>\n",
              "  </button>\n",
              "\n",
              "<style>\n",
              "  .colab-df-quickchart {\n",
              "      --bg-color: #E8F0FE;\n",
              "      --fill-color: #1967D2;\n",
              "      --hover-bg-color: #E2EBFA;\n",
              "      --hover-fill-color: #174EA6;\n",
              "      --disabled-fill-color: #AAA;\n",
              "      --disabled-bg-color: #DDD;\n",
              "  }\n",
              "\n",
              "  [theme=dark] .colab-df-quickchart {\n",
              "      --bg-color: #3B4455;\n",
              "      --fill-color: #D2E3FC;\n",
              "      --hover-bg-color: #434B5C;\n",
              "      --hover-fill-color: #FFFFFF;\n",
              "      --disabled-bg-color: #3B4455;\n",
              "      --disabled-fill-color: #666;\n",
              "  }\n",
              "\n",
              "  .colab-df-quickchart {\n",
              "    background-color: var(--bg-color);\n",
              "    border: none;\n",
              "    border-radius: 50%;\n",
              "    cursor: pointer;\n",
              "    display: none;\n",
              "    fill: var(--fill-color);\n",
              "    height: 32px;\n",
              "    padding: 0;\n",
              "    width: 32px;\n",
              "  }\n",
              "\n",
              "  .colab-df-quickchart:hover {\n",
              "    background-color: var(--hover-bg-color);\n",
              "    box-shadow: 0 1px 2px rgba(60, 64, 67, 0.3), 0 1px 3px 1px rgba(60, 64, 67, 0.15);\n",
              "    fill: var(--button-hover-fill-color);\n",
              "  }\n",
              "\n",
              "  .colab-df-quickchart-complete:disabled,\n",
              "  .colab-df-quickchart-complete:disabled:hover {\n",
              "    background-color: var(--disabled-bg-color);\n",
              "    fill: var(--disabled-fill-color);\n",
              "    box-shadow: none;\n",
              "  }\n",
              "\n",
              "  .colab-df-spinner {\n",
              "    border: 2px solid var(--fill-color);\n",
              "    border-color: transparent;\n",
              "    border-bottom-color: var(--fill-color);\n",
              "    animation:\n",
              "      spin 1s steps(1) infinite;\n",
              "  }\n",
              "\n",
              "  @keyframes spin {\n",
              "    0% {\n",
              "      border-color: transparent;\n",
              "      border-bottom-color: var(--fill-color);\n",
              "      border-left-color: var(--fill-color);\n",
              "    }\n",
              "    20% {\n",
              "      border-color: transparent;\n",
              "      border-left-color: var(--fill-color);\n",
              "      border-top-color: var(--fill-color);\n",
              "    }\n",
              "    30% {\n",
              "      border-color: transparent;\n",
              "      border-left-color: var(--fill-color);\n",
              "      border-top-color: var(--fill-color);\n",
              "      border-right-color: var(--fill-color);\n",
              "    }\n",
              "    40% {\n",
              "      border-color: transparent;\n",
              "      border-right-color: var(--fill-color);\n",
              "      border-top-color: var(--fill-color);\n",
              "    }\n",
              "    60% {\n",
              "      border-color: transparent;\n",
              "      border-right-color: var(--fill-color);\n",
              "    }\n",
              "    80% {\n",
              "      border-color: transparent;\n",
              "      border-right-color: var(--fill-color);\n",
              "      border-bottom-color: var(--fill-color);\n",
              "    }\n",
              "    90% {\n",
              "      border-color: transparent;\n",
              "      border-bottom-color: var(--fill-color);\n",
              "    }\n",
              "  }\n",
              "</style>\n",
              "\n",
              "  <script>\n",
              "    async function quickchart(key) {\n",
              "      const quickchartButtonEl =\n",
              "        document.querySelector('#' + key + ' button');\n",
              "      quickchartButtonEl.disabled = true;  // To prevent multiple clicks.\n",
              "      quickchartButtonEl.classList.add('colab-df-spinner');\n",
              "      try {\n",
              "        const charts = await google.colab.kernel.invokeFunction(\n",
              "            'suggestCharts', [key], {});\n",
              "      } catch (error) {\n",
              "        console.error('Error during call to suggestCharts:', error);\n",
              "      }\n",
              "      quickchartButtonEl.classList.remove('colab-df-spinner');\n",
              "      quickchartButtonEl.classList.add('colab-df-quickchart-complete');\n",
              "    }\n",
              "    (() => {\n",
              "      let quickchartButtonEl =\n",
              "        document.querySelector('#df-f6ea2142-4596-4994-b8d0-e5e2fed5a5d2 button');\n",
              "      quickchartButtonEl.style.display =\n",
              "        google.colab.kernel.accessAllowed ? 'block' : 'none';\n",
              "    })();\n",
              "  </script>\n",
              "</div>\n",
              "    </div>\n",
              "  </div>\n"
            ],
            "application/vnd.google.colaboratory.intrinsic+json": {
              "type": "dataframe",
              "summary": "{\n  \"name\": \"pd\",\n  \"rows\": 88,\n  \"fields\": [\n    {\n      \"column\": \"true\",\n      \"properties\": {\n        \"dtype\": \"number\",\n        \"std\": 277,\n        \"min\": 144,\n        \"max\": 1080,\n        \"num_unique_values\": 6,\n        \"samples\": [\n          720,\n          1080,\n          360\n        ],\n        \"semantic_type\": \"\",\n        \"description\": \"\"\n      }\n    },\n    {\n      \"column\": \"pred\",\n      \"properties\": {\n        \"dtype\": \"number\",\n        \"std\": 96.55904449036225,\n        \"min\": 535.7511091236735,\n        \"max\": 1171.2971106846057,\n        \"num_unique_values\": 86,\n        \"samples\": [\n          744.631490687751,\n          599.486393855147,\n          634.7947473224527\n        ],\n        \"semantic_type\": \"\",\n        \"description\": \"\"\n      }\n    }\n  ]\n}"
            }
          },
          "metadata": {},
          "execution_count": 22
        }
      ]
    },
    {
      "cell_type": "markdown",
      "metadata": {
        "id": "cf73Iu6cZafr"
      },
      "source": [
        "Let's compute the Mean Square Error (MSE)"
      ]
    },
    {
      "cell_type": "code",
      "metadata": {
        "id": "oFcL5ymXZafr",
        "scrolled": true,
        "colab": {
          "base_uri": "https://localhost:8080/"
        },
        "outputId": "f6f54dff-0aba-417b-c3cd-4327cd07a631"
      },
      "source": [
        "MSE = mean_squared_error(y_test, y_pred)\n",
        "MSE"
      ],
      "execution_count": 23,
      "outputs": [
        {
          "output_type": "execute_result",
          "data": {
            "text/plain": [
              "75019.04691479652"
            ]
          },
          "metadata": {},
          "execution_count": 23
        }
      ]
    },
    {
      "cell_type": "markdown",
      "metadata": {
        "id": "6rtGOUUuZafw"
      },
      "source": [
        "The Root MSE is easier to understand, since it is in the same unity of measurement of the target"
      ]
    },
    {
      "cell_type": "code",
      "metadata": {
        "id": "w9OXQPvEZafx",
        "scrolled": false,
        "colab": {
          "base_uri": "https://localhost:8080/"
        },
        "outputId": "f8b5bb1c-16e1-4c0e-c4d5-a424853181fe"
      },
      "source": [
        "RMSE_one_feature = math.sqrt(MSE)\n",
        "RMSE_one_feature"
      ],
      "execution_count": 24,
      "outputs": [
        {
          "output_type": "execute_result",
          "data": {
            "text/plain": [
              "273.8960512946408"
            ]
          },
          "metadata": {},
          "execution_count": 24
        }
      ]
    },
    {
      "cell_type": "markdown",
      "metadata": {
        "id": "fbch3HutZaf0"
      },
      "source": [
        "#### Dependency on the training set\n",
        "\n",
        "If we change the training set, the model changes as well"
      ]
    },
    {
      "cell_type": "code",
      "metadata": {
        "id": "voSeuM5VZaf2",
        "scrolled": false,
        "colab": {
          "base_uri": "https://localhost:8080/"
        },
        "outputId": "50f33ec0-b3ae-4bfa-c131-d7a19e72b379"
      },
      "source": [
        "df_train, df_test = train_test_split(df, test_size=0.3, random_state=2)\n",
        "\n",
        "X_train = df_train[['KBytesReceived'] ].values.reshape(-1,1)\n",
        "y_train = df_train['label_num'].values\n",
        "X_test = df_test[[ 'KBytesReceived'] ].values.reshape(-1,1)\n",
        "y_test = df_test['label_num'].values\n",
        "\n",
        "\n",
        "model.fit(X_train, y_train, column_names=['KBytesReceived'])\n",
        "model.summary()"
      ],
      "execution_count": 25,
      "outputs": [
        {
          "output_type": "stream",
          "name": "stdout",
          "text": [
            "                            OLS Regression Results                            \n",
            "==============================================================================\n",
            "Dep. Variable:                      y   R-squared:                       0.094\n",
            "Model:                            OLS   Adj. R-squared:                  0.090\n",
            "Method:                 Least Squares   F-statistic:                     21.00\n",
            "Date:                Tue, 14 May 2024   Prob (F-statistic):           8.04e-06\n",
            "Time:                        08:54:39   Log-Likelihood:                -1437.6\n",
            "No. Observations:                 204   AIC:                             2879.\n",
            "Df Residuals:                     202   BIC:                             2886.\n",
            "Df Model:                           1                                         \n",
            "Covariance Type:            nonrobust                                         \n",
            "==================================================================================\n",
            "                     coef    std err          t      P>|t|      [0.025      0.975]\n",
            "----------------------------------------------------------------------------------\n",
            "intercept        511.4868     30.856     16.577      0.000     450.646     572.328\n",
            "KBytesReceived     1.5040      0.328      4.583      0.000       0.857       2.151\n",
            "==============================================================================\n",
            "Omnibus:                       22.828   Durbin-Watson:                   2.032\n",
            "Prob(Omnibus):                  0.000   Jarque-Bera (JB):               10.599\n",
            "Skew:                           0.357   Prob(JB):                      0.00499\n",
            "Kurtosis:                       2.141   Cond. No.                         148.\n",
            "==============================================================================\n",
            "\n",
            "Notes:\n",
            "[1] Standard Errors assume that the covariance matrix of the errors is correctly specified.\n"
          ]
        }
      ]
    },
    {
      "cell_type": "markdown",
      "metadata": {
        "id": "t3gzpkAEZaf6"
      },
      "source": [
        "Note that the coefficients are different. Let's plot it"
      ]
    },
    {
      "cell_type": "code",
      "metadata": {
        "id": "Tl9KxvO7Zaf6",
        "scrolled": true,
        "colab": {
          "base_uri": "https://localhost:8080/",
          "height": 455
        },
        "outputId": "98d6329e-bdd3-4aa1-c5a9-a2f2a13fd914"
      },
      "source": [
        "h_values = model.predict(interval)\n",
        "\n",
        "ax.scatter(X_train,y_train,color='orange',s=1,\n",
        "           label=\"training samples [2]\")\n",
        "ax.plot(interval,h_values, label=\"Linear Regression (OLS) [2]\")\n",
        "ax.legend()\n",
        "fig"
      ],
      "execution_count": 26,
      "outputs": [
        {
          "output_type": "execute_result",
          "data": {
            "text/plain": [
              "<Figure size 640x480 with 1 Axes>"
            ],
            "image/png": "[encoded data removed]"
          },
          "metadata": {},
          "execution_count": 26
        }
      ]
    },
    {
      "cell_type": "markdown",
      "metadata": {
        "id": "bYbs1NQEZaf-"
      },
      "source": [
        "Let's train again a model on a different training set"
      ]
    },
    {
      "cell_type": "code",
      "metadata": {
        "id": "llykKdz8ZagA",
        "colab": {
          "base_uri": "https://localhost:8080/",
          "height": 455
        },
        "outputId": "163e5d57-25ef-4a59-90ef-ad1c9f7b769f"
      },
      "source": [
        "df_train, df_test = train_test_split(df, test_size=0.3, random_state=3)\n",
        "\n",
        "X_train = df_train[['KBytesReceived'] ].values.reshape(-1,1)\n",
        "y_train = df_train['label_num'].values\n",
        "X_test = df_test[[ 'KBytesReceived'] ].values.reshape(-1,1)\n",
        "y_test = df_test['label_num'].values\n",
        "\n",
        "\n",
        "model.fit(X_train, y_train, column_names=['KBytesReceived'])\n",
        "h_values = model.predict(interval)\n",
        "ax.scatter(X_train,y_train,color='green',s=1,\n",
        "           label=\"training samples [3]\")\n",
        "ax.plot(interval,h_values, label=\"Linear Regression (OLS) [3]\")\n",
        "ax.legend()\n",
        "fig"
      ],
      "execution_count": 27,
      "outputs": [
        {
          "output_type": "execute_result",
          "data": {
            "text/plain": [
              "<Figure size 640x480 with 1 Axes>"
            ],
            "image/png": "[encoded data removed]"
          },
          "metadata": {},
          "execution_count": 27
        }
      ]
    },
    {
      "cell_type": "markdown",
      "metadata": {
        "id": "rq6e2OukZagD"
      },
      "source": [
        "\n",
        "\n",
        "\n",
        "### Use transformed variables"
      ]
    },
    {
      "cell_type": "markdown",
      "metadata": {
        "id": "OMde3u1fZagF"
      },
      "source": [
        "We observe that the values of `KBytesReceived` are squashed toward small values (we also checked it with a histogram in the last notebook). We have shown in the last notebook that in this case a log transformation can unveil correlation.\n",
        "\n",
        "We now show that it also improves the model. First, have a look at the plot"
      ]
    },
    {
      "cell_type": "code",
      "metadata": {
        "id": "QMER2-bxZagF",
        "scrolled": false,
        "colab": {
          "base_uri": "https://localhost:8080/",
          "height": 467
        },
        "outputId": "adcd2b2b-fa9e-48ce-f639-44c69c1d1df1"
      },
      "source": [
        "fig, ax = plt.subplots()\n",
        "ax.scatter(df['KBytesReceived_log'],df['label_num'],color='red',s=1)\n",
        "ax.set(ylabel=\"label_num\",xlabel=\"KBytesReceived_log\")"
      ],
      "execution_count": 28,
      "outputs": [
        {
          "output_type": "execute_result",
          "data": {
            "text/plain": [
              "[Text(0, 0.5, 'label_num'), Text(0.5, 0, 'KBytesReceived_log')]"
            ]
          },
          "metadata": {},
          "execution_count": 28
        },
        {
          "output_type": "display_data",
          "data": {
            "text/plain": [
              "<Figure size 640x480 with 1 Axes>"
            ],
            "image/png": "[encoded data removed]"
          },
          "metadata": {}
        }
      ]
    },
    {
      "cell_type": "markdown",
      "metadata": {
        "id": "gHcWXuDNZagL"
      },
      "source": [
        "Let's train the new model"
      ]
    },
    {
      "cell_type": "code",
      "metadata": {
        "id": "VAS5kTjkZagL",
        "colab": {
          "base_uri": "https://localhost:8080/",
          "height": 75
        },
        "outputId": "243c7f9d-10c5-4481-c27a-6881bed141cb"
      },
      "source": [
        "X_train = df_train[['KBytesReceived_log'] ].values.reshape(-1,1)\n",
        "X_test = df_test[['KBytesReceived_log'] ].values.reshape(-1,1)\n",
        "\n",
        "model.fit(X_train, y_train, column_names=['KBytesReceived_log'])"
      ],
      "execution_count": 29,
      "outputs": [
        {
          "output_type": "execute_result",
          "data": {
            "text/plain": [
              "AndreaLinearRegression()"
            ],
            "text/html": [
              "<style>#sk-container-id-1 {color: black;background-color: white;}#sk-container-id-1 pre{padding: 0;}#sk-container-id-1 div.sk-toggleable {background-color: white;}#sk-container-id-1 label.sk-toggleable__label {cursor: pointer;display: block;width: 100%;margin-bottom: 0;padding: 0.3em;box-sizing: border-box;text-align: center;}#sk-container-id-1 label.sk-toggleable__label-arrow:before {content: \"▸\";float: left;margin-right: 0.25em;color: #696969;}#sk-container-id-1 label.sk-toggleable__label-arrow:hover:before {color: black;}#sk-container-id-1 div.sk-estimator:hover label.sk-toggleable__label-arrow:before {color: black;}#sk-container-id-1 div.sk-toggleable__content {max-height: 0;max-width: 0;overflow: hidden;text-align: left;background-color: #f0f8ff;}#sk-container-id-1 div.sk-toggleable__content pre {margin: 0.2em;color: black;border-radius: 0.25em;background-color: #f0f8ff;}#sk-container-id-1 input.sk-toggleable__control:checked~div.sk-toggleable__content {max-height: 200px;max-width: 100%;overflow: auto;}#sk-container-id-1 input.sk-toggleable__control:checked~label.sk-toggleable__label-arrow:before {content: \"▾\";}#sk-container-id-1 div.sk-estimator input.sk-toggleable__control:checked~label.sk-toggleable__label {background-color: #d4ebff;}#sk-container-id-1 div.sk-label input.sk-toggleable__control:checked~label.sk-toggleable__label {background-color: #d4ebff;}#sk-container-id-1 input.sk-hidden--visually {border: 0;clip: rect(1px 1px 1px 1px);clip: rect(1px, 1px, 1px, 1px);height: 1px;margin: -1px;overflow: hidden;padding: 0;position: absolute;width: 1px;}#sk-container-id-1 div.sk-estimator {font-family: monospace;background-color: #f0f8ff;border: 1px dotted black;border-radius: 0.25em;box-sizing: border-box;margin-bottom: 0.5em;}#sk-container-id-1 div.sk-estimator:hover {background-color: #d4ebff;}#sk-container-id-1 div.sk-parallel-item::after {content: \"\";width: 100%;border-bottom: 1px solid gray;flex-grow: 1;}#sk-container-id-1 div.sk-label:hover label.sk-toggleable__label {background-color: #d4ebff;}#sk-container-id-1 div.sk-serial::before {content: \"\";position: absolute;border-left: 1px solid gray;box-sizing: border-box;top: 0;bottom: 0;left: 50%;z-index: 0;}#sk-container-id-1 div.sk-serial {display: flex;flex-direction: column;align-items: center;background-color: white;padding-right: 0.2em;padding-left: 0.2em;position: relative;}#sk-container-id-1 div.sk-item {position: relative;z-index: 1;}#sk-container-id-1 div.sk-parallel {display: flex;align-items: stretch;justify-content: center;background-color: white;position: relative;}#sk-container-id-1 div.sk-item::before, #sk-container-id-1 div.sk-parallel-item::before {content: \"\";position: absolute;border-left: 1px solid gray;box-sizing: border-box;top: 0;bottom: 0;left: 50%;z-index: -1;}#sk-container-id-1 div.sk-parallel-item {display: flex;flex-direction: column;z-index: 1;position: relative;background-color: white;}#sk-container-id-1 div.sk-parallel-item:first-child::after {align-self: flex-end;width: 50%;}#sk-container-id-1 div.sk-parallel-item:last-child::after {align-self: flex-start;width: 50%;}#sk-container-id-1 div.sk-parallel-item:only-child::after {width: 0;}#sk-container-id-1 div.sk-dashed-wrapped {border: 1px dashed gray;margin: 0 0.4em 0.5em 0.4em;box-sizing: border-box;padding-bottom: 0.4em;background-color: white;}#sk-container-id-1 div.sk-label label {font-family: monospace;font-weight: bold;display: inline-block;line-height: 1.2em;}#sk-container-id-1 div.sk-label-container {text-align: center;}#sk-container-id-1 div.sk-container {/* jupyter's `normalize.less` sets `[hidden] { display: none; }` but bootstrap.min.css set `[hidden] { display: none !important; }` so we also need the `!important` here to be able to override the default hidden behavior on the sphinx rendered scikit-learn.org. See: https://github.com/scikit-learn/scikit-learn/issues/21755 */display: inline-block !important;position: relative;}#sk-container-id-1 div.sk-text-repr-fallback {display: none;}</style><div id=\"sk-container-id-1\" class=\"sk-top-container\"><div class=\"sk-text-repr-fallback\"><pre>AndreaLinearRegression()</pre><b>In a Jupyter environment, please rerun this cell to show the HTML representation or trust the notebook. <br />On GitHub, the HTML representation is unable to render, please try loading this page with nbviewer.org.</b></div><div class=\"sk-container\" hidden><div class=\"sk-item\"><div class=\"sk-estimator sk-toggleable\"><input class=\"sk-toggleable__control sk-hidden--visually\" id=\"sk-estimator-id-1\" type=\"checkbox\" checked><label for=\"sk-estimator-id-1\" class=\"sk-toggleable__label sk-toggleable__label-arrow\">AndreaLinearRegression</label><div class=\"sk-toggleable__content\"><pre>AndreaLinearRegression()</pre></div></div></div></div></div>"
            ]
          },
          "metadata": {},
          "execution_count": 29
        }
      ]
    },
    {
      "cell_type": "markdown",
      "metadata": {
        "id": "WbeTFubdZagP"
      },
      "source": [
        "Let's plot the corresponding line"
      ]
    },
    {
      "cell_type": "code",
      "metadata": {
        "id": "We2LSmUnZagQ",
        "scrolled": true,
        "colab": {
          "base_uri": "https://localhost:8080/",
          "height": 450
        },
        "outputId": "916259e5-0f90-41fa-d594-ccddf2227e43"
      },
      "source": [
        "interval = np.arange(2,6,0.1).reshape(-1,1)\n",
        "h_values = model.predict(interval)\n",
        "ax.plot(interval, h_values, label=\"transformed model\")\n",
        "fig"
      ],
      "execution_count": 30,
      "outputs": [
        {
          "output_type": "execute_result",
          "data": {
            "text/plain": [
              "<Figure size 640x480 with 1 Axes>"
            ],
            "image/png": "[encoded data removed]"
          },
          "metadata": {},
          "execution_count": 30
        }
      ]
    },
    {
      "cell_type": "markdown",
      "metadata": {
        "id": "pszfNzWxZagT"
      },
      "source": [
        "Let's check the test error"
      ]
    },
    {
      "cell_type": "code",
      "metadata": {
        "id": "_L3e1H5uZagU",
        "colab": {
          "base_uri": "https://localhost:8080/"
        },
        "outputId": "18a8c4d3-a8e6-4120-e670-3ae98467e8bd"
      },
      "source": [
        "y_pred = model.predict(X_test)\n",
        "RMSE_1_feature = math.sqrt(mean_squared_error(y_test, y_pred) )\n",
        "RMSE_1_feature"
      ],
      "execution_count": 31,
      "outputs": [
        {
          "output_type": "execute_result",
          "data": {
            "text/plain": [
              "268.5521988534433"
            ]
          },
          "metadata": {},
          "execution_count": 31
        }
      ]
    },
    {
      "cell_type": "markdown",
      "metadata": {
        "id": "Bl7xYaT-ZagX"
      },
      "source": [
        "Using the logarithmic transformation, we improved the model."
      ]
    },
    {
      "cell_type": "code",
      "metadata": {
        "id": "27gZR7paZagZ",
        "colab": {
          "base_uri": "https://localhost:8080/"
        },
        "outputId": "f33d7d63-4dca-42f9-92e4-fa6c4cf34bd7"
      },
      "source": [
        "model.summary()"
      ],
      "execution_count": 32,
      "outputs": [
        {
          "output_type": "stream",
          "name": "stdout",
          "text": [
            "                            OLS Regression Results                            \n",
            "==============================================================================\n",
            "Dep. Variable:                      y   R-squared:                       0.102\n",
            "Model:                            OLS   Adj. R-squared:                  0.097\n",
            "Method:                 Least Squares   F-statistic:                     22.84\n",
            "Date:                Tue, 14 May 2024   Prob (F-statistic):           3.39e-06\n",
            "Time:                        08:54:42   Log-Likelihood:                -1439.2\n",
            "No. Observations:                 204   AIC:                             2882.\n",
            "Df Residuals:                     202   BIC:                             2889.\n",
            "Df Model:                           1                                         \n",
            "Covariance Type:            nonrobust                                         \n",
            "======================================================================================\n",
            "                         coef    std err          t      P>|t|      [0.025      0.975]\n",
            "--------------------------------------------------------------------------------------\n",
            "intercept            118.3754    104.580      1.132      0.259     -87.832     324.583\n",
            "KBytesReceived_log   123.5323     25.850      4.779      0.000      72.562     174.503\n",
            "==============================================================================\n",
            "Omnibus:                       17.210   Durbin-Watson:                   2.129\n",
            "Prob(Omnibus):                  0.000   Jarque-Bera (JB):                9.465\n",
            "Skew:                           0.356   Prob(JB):                      0.00880\n",
            "Kurtosis:                       2.220   Cond. No.                         22.7\n",
            "==============================================================================\n",
            "\n",
            "Notes:\n",
            "[1] Standard Errors assume that the covariance matrix of the errors is correctly specified.\n"
          ]
        }
      ]
    },
    {
      "cell_type": "markdown",
      "metadata": {
        "id": "REbeolOgZagc"
      },
      "source": [
        "## Multivariate Linear Regression"
      ]
    },
    {
      "cell_type": "markdown",
      "metadata": {
        "id": "CdHfgvUBZage"
      },
      "source": [
        "Can we improve the test loss if we use other features?\n",
        "\n",
        "Have a first look at the more correlated features (see notebook on data exploration)"
      ]
    },
    {
      "cell_type": "code",
      "metadata": {
        "id": "DbWsM3UfZage",
        "scrolled": false,
        "colab": {
          "base_uri": "https://localhost:8080/"
        },
        "outputId": "187e878c-f5d5-47ba-e3b6-d54bfe2f964a"
      },
      "source": [
        "most_corr_feats = \\\n",
        "    feature_engineering.get_most_correlated(\n",
        "            df_train)\n",
        "most_corr_feats"
      ],
      "execution_count": 33,
      "outputs": [
        {
          "output_type": "execute_result",
          "data": {
            "text/plain": [
              "BufferProgress     BufferProgress_log    1.0\n",
              "PacketsReceived13  BytesReceived13       1.0\n",
              "PacketsReceived12  BytesReceived12       1.0\n",
              "BytesReceived      KBytesReceived        1.0\n",
              "EpochTime          StartTime             1.0\n",
              "                                        ... \n",
              "PacketsReceived15  BytesSent_log        -0.0\n",
              "BytesReceived4     BytesSent9           -0.0\n",
              "BytesReceived6     PacketsSent25         0.0\n",
              "BytesReceived5     PacketsSent_log       0.0\n",
              "BytesReceived15    BytesSent_log        -0.0\n",
              "Length: 2775, dtype: float64"
            ]
          },
          "metadata": {},
          "execution_count": 33
        }
      ]
    },
    {
      "cell_type": "markdown",
      "metadata": {
        "id": "dNbHwND7Zagh"
      },
      "source": [
        "Let's add `StartTime` among the regressors"
      ]
    },
    {
      "cell_type": "code",
      "metadata": {
        "id": "sjuycwtpZagi",
        "scrolled": false,
        "colab": {
          "base_uri": "https://localhost:8080/"
        },
        "outputId": "7feb14a2-9129-4ed5-da51-2d96406aeb87"
      },
      "source": [
        "cols = ['KBytesReceived_log', 'StartTime']\n",
        "\n",
        "# We do not need to reshape(-1,1) this time, as we\n",
        "# have a matrix with two columns now.\n",
        "X_train = df_train[cols ].values\n",
        "model = AndreaLinearRegression()\n",
        "model.fit(X_train, y_train, column_names=cols)\n",
        "model.summary()"
      ],
      "execution_count": 34,
      "outputs": [
        {
          "output_type": "stream",
          "name": "stdout",
          "text": [
            "                            OLS Regression Results                            \n",
            "==============================================================================\n",
            "Dep. Variable:                      y   R-squared:                       0.101\n",
            "Model:                            OLS   Adj. R-squared:                  0.097\n",
            "Method:                 Least Squares   F-statistic:                     22.77\n",
            "Date:                Tue, 14 May 2024   Prob (F-statistic):           3.49e-06\n",
            "Time:                        08:54:42   Log-Likelihood:                -1439.2\n",
            "No. Observations:                 204   AIC:                             2882.\n",
            "Df Residuals:                     202   BIC:                             2889.\n",
            "Df Model:                           1                                         \n",
            "Covariance Type:            nonrobust                                         \n",
            "======================================================================================\n",
            "                         coef    std err          t      P>|t|      [0.025      0.975]\n",
            "--------------------------------------------------------------------------------------\n",
            "intercept              0.0289      0.006      4.809      0.000       0.017       0.041\n",
            "KBytesReceived_log   124.2161     25.830      4.809      0.000      73.285     175.147\n",
            "StartTime           7.599e-11   6.87e-11      1.106      0.270   -5.95e-11    2.12e-10\n",
            "==============================================================================\n",
            "Omnibus:                       17.150   Durbin-Watson:                   2.129\n",
            "Prob(Omnibus):                  0.000   Jarque-Bera (JB):                9.455\n",
            "Skew:                           0.356   Prob(JB):                      0.00885\n",
            "Kurtosis:                       2.221   Cond. No.                     1.72e+15\n",
            "==============================================================================\n",
            "\n",
            "Notes:\n",
            "[1] Standard Errors assume that the covariance matrix of the errors is correctly specified.\n",
            "[2] The condition number is large, 1.72e+15. This might indicate that there are\n",
            "strong multicollinearity or other numerical problems.\n"
          ]
        }
      ]
    },
    {
      "cell_type": "code",
      "metadata": {
        "id": "Tmlixw1NZagl"
      },
      "source": [
        "X_test = df_test[cols ].values\n",
        "y_pred = model.predict(X_test)"
      ],
      "execution_count": 35,
      "outputs": []
    },
    {
      "cell_type": "code",
      "metadata": {
        "id": "FraeuQnEZago",
        "colab": {
          "base_uri": "https://localhost:8080/"
        },
        "outputId": "2d1654c9-018d-47f6-d5c5-cd54a0c665ee"
      },
      "source": [
        "MSE = mean_squared_error(y_test, y_pred)\n",
        "RMSE_some_features = math.sqrt(MSE)\n",
        "print('RMSE now: ', RMSE_some_features, '; RMSE with one feature: ',\n",
        "      RMSE_1_feature)"
      ],
      "execution_count": 36,
      "outputs": [
        {
          "output_type": "stream",
          "name": "stdout",
          "text": [
            "RMSE now:  268.5379993855423 ; RMSE with one feature:  268.5521988534433\n"
          ]
        }
      ]
    },
    {
      "cell_type": "markdown",
      "metadata": {
        "id": "eVU_kuFZZagr"
      },
      "source": [
        "We improved our RMSE by also considering `StartTime` ... BUT ...\n",
        "\n",
        "**Attention**: Remember that start time is simply the time at which the experimenter who created the dataset had started each connection. The correlation between `StartTime` and the label is __artificial__, just because the experimenter first measured many low quality video sessions and then high quality. This would not be true in a real deployment\n",
        "\n",
        "\n",
        "**DO NOT BE OBSESSED BY REDUCING THE ERROR, AND LOOK AT THE MEANING OF FEATURES!**"
      ]
    },
    {
      "cell_type": "markdown",
      "metadata": {
        "id": "nZ2bud7SZagr"
      },
      "source": [
        "Let's add other correlated features"
      ]
    },
    {
      "cell_type": "code",
      "metadata": {
        "id": "_GboaeldZags"
      },
      "source": [
        "cols=['PacketsSent', 'KBytesReceived_log', 'PacketsReceived_log']\n",
        "\n",
        "X_train = df_train[cols].values\n",
        "X_test = df_test[cols].values"
      ],
      "execution_count": 37,
      "outputs": []
    },
    {
      "cell_type": "code",
      "metadata": {
        "id": "DPVAJUlpZagv",
        "colab": {
          "base_uri": "https://localhost:8080/",
          "height": 75
        },
        "outputId": "feaeeb7d-7e25-4ee8-a75a-675784956090"
      },
      "source": [
        "model = AndreaLinearRegression()\n",
        "model.fit(X_train, y_train, column_names=cols)"
      ],
      "execution_count": 38,
      "outputs": [
        {
          "output_type": "execute_result",
          "data": {
            "text/plain": [
              "AndreaLinearRegression()"
            ],
            "text/html": [
              "<style>#sk-container-id-2 {color: black;background-color: white;}#sk-container-id-2 pre{padding: 0;}#sk-container-id-2 div.sk-toggleable {background-color: white;}#sk-container-id-2 label.sk-toggleable__label {cursor: pointer;display: block;width: 100%;margin-bottom: 0;padding: 0.3em;box-sizing: border-box;text-align: center;}#sk-container-id-2 label.sk-toggleable__label-arrow:before {content: \"▸\";float: left;margin-right: 0.25em;color: #696969;}#sk-container-id-2 label.sk-toggleable__label-arrow:hover:before {color: black;}#sk-container-id-2 div.sk-estimator:hover label.sk-toggleable__label-arrow:before {color: black;}#sk-container-id-2 div.sk-toggleable__content {max-height: 0;max-width: 0;overflow: hidden;text-align: left;background-color: #f0f8ff;}#sk-container-id-2 div.sk-toggleable__content pre {margin: 0.2em;color: black;border-radius: 0.25em;background-color: #f0f8ff;}#sk-container-id-2 input.sk-toggleable__control:checked~div.sk-toggleable__content {max-height: 200px;max-width: 100%;overflow: auto;}#sk-container-id-2 input.sk-toggleable__control:checked~label.sk-toggleable__label-arrow:before {content: \"▾\";}#sk-container-id-2 div.sk-estimator input.sk-toggleable__control:checked~label.sk-toggleable__label {background-color: #d4ebff;}#sk-container-id-2 div.sk-label input.sk-toggleable__control:checked~label.sk-toggleable__label {background-color: #d4ebff;}#sk-container-id-2 input.sk-hidden--visually {border: 0;clip: rect(1px 1px 1px 1px);clip: rect(1px, 1px, 1px, 1px);height: 1px;margin: -1px;overflow: hidden;padding: 0;position: absolute;width: 1px;}#sk-container-id-2 div.sk-estimator {font-family: monospace;background-color: #f0f8ff;border: 1px dotted black;border-radius: 0.25em;box-sizing: border-box;margin-bottom: 0.5em;}#sk-container-id-2 div.sk-estimator:hover {background-color: #d4ebff;}#sk-container-id-2 div.sk-parallel-item::after {content: \"\";width: 100%;border-bottom: 1px solid gray;flex-grow: 1;}#sk-container-id-2 div.sk-label:hover label.sk-toggleable__label {background-color: #d4ebff;}#sk-container-id-2 div.sk-serial::before {content: \"\";position: absolute;border-left: 1px solid gray;box-sizing: border-box;top: 0;bottom: 0;left: 50%;z-index: 0;}#sk-container-id-2 div.sk-serial {display: flex;flex-direction: column;align-items: center;background-color: white;padding-right: 0.2em;padding-left: 0.2em;position: relative;}#sk-container-id-2 div.sk-item {position: relative;z-index: 1;}#sk-container-id-2 div.sk-parallel {display: flex;align-items: stretch;justify-content: center;background-color: white;position: relative;}#sk-container-id-2 div.sk-item::before, #sk-container-id-2 div.sk-parallel-item::before {content: \"\";position: absolute;border-left: 1px solid gray;box-sizing: border-box;top: 0;bottom: 0;left: 50%;z-index: -1;}#sk-container-id-2 div.sk-parallel-item {display: flex;flex-direction: column;z-index: 1;position: relative;background-color: white;}#sk-container-id-2 div.sk-parallel-item:first-child::after {align-self: flex-end;width: 50%;}#sk-container-id-2 div.sk-parallel-item:last-child::after {align-self: flex-start;width: 50%;}#sk-container-id-2 div.sk-parallel-item:only-child::after {width: 0;}#sk-container-id-2 div.sk-dashed-wrapped {border: 1px dashed gray;margin: 0 0.4em 0.5em 0.4em;box-sizing: border-box;padding-bottom: 0.4em;background-color: white;}#sk-container-id-2 div.sk-label label {font-family: monospace;font-weight: bold;display: inline-block;line-height: 1.2em;}#sk-container-id-2 div.sk-label-container {text-align: center;}#sk-container-id-2 div.sk-container {/* jupyter's `normalize.less` sets `[hidden] { display: none; }` but bootstrap.min.css set `[hidden] { display: none !important; }` so we also need the `!important` here to be able to override the default hidden behavior on the sphinx rendered scikit-learn.org. See: https://github.com/scikit-learn/scikit-learn/issues/21755 */display: inline-block !important;position: relative;}#sk-container-id-2 div.sk-text-repr-fallback {display: none;}</style><div id=\"sk-container-id-2\" class=\"sk-top-container\"><div class=\"sk-text-repr-fallback\"><pre>AndreaLinearRegression()</pre><b>In a Jupyter environment, please rerun this cell to show the HTML representation or trust the notebook. <br />On GitHub, the HTML representation is unable to render, please try loading this page with nbviewer.org.</b></div><div class=\"sk-container\" hidden><div class=\"sk-item\"><div class=\"sk-estimator sk-toggleable\"><input class=\"sk-toggleable__control sk-hidden--visually\" id=\"sk-estimator-id-2\" type=\"checkbox\" checked><label for=\"sk-estimator-id-2\" class=\"sk-toggleable__label sk-toggleable__label-arrow\">AndreaLinearRegression</label><div class=\"sk-toggleable__content\"><pre>AndreaLinearRegression()</pre></div></div></div></div></div>"
            ]
          },
          "metadata": {},
          "execution_count": 38
        }
      ]
    },
    {
      "cell_type": "code",
      "metadata": {
        "id": "sWqb1jEtZagy",
        "colab": {
          "base_uri": "https://localhost:8080/"
        },
        "outputId": "0f4d6241-7f61-498c-9173-17ccd6e33e5e"
      },
      "source": [
        "model.summary()"
      ],
      "execution_count": 39,
      "outputs": [
        {
          "output_type": "stream",
          "name": "stdout",
          "text": [
            "                            OLS Regression Results                            \n",
            "==============================================================================\n",
            "Dep. Variable:                      y   R-squared:                       0.174\n",
            "Model:                            OLS   Adj. R-squared:                  0.161\n",
            "Method:                 Least Squares   F-statistic:                     14.03\n",
            "Date:                Tue, 14 May 2024   Prob (F-statistic):           2.46e-08\n",
            "Time:                        08:54:43   Log-Likelihood:                -1430.6\n",
            "No. Observations:                 204   AIC:                             2869.\n",
            "Df Residuals:                     200   BIC:                             2883.\n",
            "Df Model:                           3                                         \n",
            "Covariance Type:            nonrobust                                         \n",
            "=======================================================================================\n",
            "                          coef    std err          t      P>|t|      [0.025      0.975]\n",
            "---------------------------------------------------------------------------------------\n",
            "intercept             297.7369    109.629      2.716      0.007      81.559     513.915\n",
            "PacketsSent             5.0637      1.212      4.177      0.000       2.673       7.454\n",
            "KBytesReceived_log    -32.2476    159.920     -0.202      0.840    -347.593     283.097\n",
            "PacketsReceived_log    90.4637    166.725      0.543      0.588    -238.301     419.228\n",
            "==============================================================================\n",
            "Omnibus:                        9.198   Durbin-Watson:                   2.129\n",
            "Prob(Omnibus):                  0.010   Jarque-Bera (JB):                6.602\n",
            "Skew:                           0.318   Prob(JB):                       0.0368\n",
            "Kurtosis:                       2.389   Cond. No.                         341.\n",
            "==============================================================================\n",
            "\n",
            "Notes:\n",
            "[1] Standard Errors assume that the covariance matrix of the errors is correctly specified.\n"
          ]
        }
      ]
    },
    {
      "cell_type": "code",
      "metadata": {
        "id": "28QPi5WGZag1",
        "colab": {
          "base_uri": "https://localhost:8080/"
        },
        "outputId": "87a1c255-2f3c-4f90-d27e-2a58ca6b9ee4"
      },
      "source": [
        "y_pred = model.predict(X_test)\n",
        "MSE = mean_squared_error(y_test, y_pred)\n",
        "RMSE_few_features = math.sqrt(MSE)\n",
        "print('RMSE now: ', RMSE_few_features, '; RMSE with one feature: ',\n",
        "      RMSE_1_feature)"
      ],
      "execution_count": 40,
      "outputs": [
        {
          "output_type": "stream",
          "name": "stdout",
          "text": [
            "RMSE now:  263.9484263293869 ; RMSE with one feature:  268.5521988534433\n"
          ]
        }
      ]
    },
    {
      "cell_type": "markdown",
      "metadata": {
        "id": "NrFCFlriZag4"
      },
      "source": [
        "We improved a bit"
      ]
    },
    {
      "cell_type": "markdown",
      "metadata": {
        "id": "1XbfGR2fZag6"
      },
      "source": [
        "What if we take all the numeric features?"
      ]
    },
    {
      "cell_type": "code",
      "metadata": {
        "id": "SjROnnLiZag8",
        "colab": {
          "base_uri": "https://localhost:8080/"
        },
        "outputId": "de549da6-2927-4650-865d-90241450280f"
      },
      "source": [
        "# Trick from https://stackoverflow.com/a/51684628/2110769\n",
        "cols = df_train.select_dtypes([np.number]).columns\n",
        "cols"
      ],
      "execution_count": 41,
      "outputs": [
        {
          "output_type": "execute_result",
          "data": {
            "text/plain": [
              "Index(['RelativeTime', 'PacketsSent', 'PacketsReceived', 'BytesSent',\n",
              "       'BytesReceived', 'PacketsSent0', 'PacketsReceived0', 'BytesSent0',\n",
              "       'BytesReceived0', 'PacketsSent1',\n",
              "       ...\n",
              "       'BufferHealth', 'BufferProgress', 'KBytesReceived', 'label_num',\n",
              "       'KBytesReceived_log', 'PacketsSent_log', 'PacketsReceived_log',\n",
              "       'BytesSent_log', 'BytesReceived_log', 'BufferProgress_log'],\n",
              "      dtype='object', length=140)"
            ]
          },
          "metadata": {},
          "execution_count": 41
        }
      ]
    },
    {
      "cell_type": "markdown",
      "metadata": {
        "id": "11Pl33fDZahN"
      },
      "source": [
        "To construct our X_train and X_test, we should remove the target `label_num` and the \"artificial features\"."
      ]
    },
    {
      "cell_type": "code",
      "metadata": {
        "id": "Yrrf0SVQZahO"
      },
      "source": [
        "cols = cols.drop(['label_num', 'StartTime', 'EpochTime' ] )"
      ],
      "execution_count": 42,
      "outputs": []
    },
    {
      "cell_type": "code",
      "metadata": {
        "id": "5nHJfwq1ZahR",
        "scrolled": false,
        "colab": {
          "base_uri": "https://localhost:8080/"
        },
        "outputId": "0ac70658-5fbe-412b-c880-270d89792fca"
      },
      "source": [
        "X_train = df_train[cols].values\n",
        "X_test = df_test[cols].values\n",
        "\n",
        "model = AndreaLinearRegression()\n",
        "model.fit(X_train, y_train, column_names=cols)\n",
        "model.summary()"
      ],
      "execution_count": 43,
      "outputs": [
        {
          "output_type": "stream",
          "name": "stdout",
          "text": [
            "                            OLS Regression Results                            \n",
            "==============================================================================\n",
            "Dep. Variable:                      y   R-squared:                       0.612\n",
            "Model:                            OLS   Adj. R-squared:                  0.449\n",
            "Method:                 Least Squares   F-statistic:                     3.758\n",
            "Date:                Tue, 14 May 2024   Prob (F-statistic):           5.19e-11\n",
            "Time:                        08:54:43   Log-Likelihood:                -1353.5\n",
            "No. Observations:                 204   AIC:                             2829.\n",
            "Df Residuals:                     143   BIC:                             3032.\n",
            "Df Model:                          60                                         \n",
            "Covariance Type:            nonrobust                                         \n",
            "=======================================================================================\n",
            "                          coef    std err          t      P>|t|      [0.025      0.975]\n",
            "---------------------------------------------------------------------------------------\n",
            "RelativeTime            5.8463      2.351      2.487      0.014       1.199      10.494\n",
            "PacketsSent           -10.5733    105.500     -0.100      0.920    -219.114     197.967\n",
            "PacketsReceived     -1034.0938   2210.599     -0.468      0.641   -5403.767    3335.579\n",
            "BytesSent             -39.6601     42.225     -0.939      0.349    -123.127      43.806\n",
            "BytesReceived           9.5492     22.271      0.429      0.669     -34.473      53.572\n",
            "PacketsSent0           24.5804    105.249      0.234      0.816    -183.465     232.626\n",
            "PacketsReceived0     1053.0249   2210.033      0.476      0.634   -3315.531    5421.581\n",
            "BytesSent0             39.5021     42.229      0.935      0.351     -43.971     122.975\n",
            "BytesReceived0         -9.5800     22.269     -0.430      0.668     -53.600      34.440\n",
            "PacketsSent1           33.6685    107.589      0.313      0.755    -179.001     246.338\n",
            "PacketsReceived1      968.6417   2208.515      0.439      0.662   -3396.913    5334.196\n",
            "BytesSent1             39.5501     42.193      0.937      0.350     -43.852     122.952\n",
            "BytesReceived1         -9.5234     22.268     -0.428      0.670     -53.541      34.494\n",
            "PacketsSent2           35.5874    109.868      0.324      0.746    -181.588     252.763\n",
            "PacketsReceived2      978.5710   2216.434      0.442      0.660   -3402.637    5359.779\n",
            "BytesSent2             39.7230     42.212      0.941      0.348     -43.716     123.162\n",
            "BytesReceived2         -9.5410     22.273     -0.428      0.669     -53.569      34.487\n",
            "PacketsSent3          -18.4630    137.846     -0.134      0.894    -290.943     254.017\n",
            "PacketsReceived3     1092.6383   2224.123      0.491      0.624   -3303.768    5489.045\n",
            "BytesSent3             39.6560     42.199      0.940      0.349     -43.759     123.071\n",
            "BytesReceived3         -9.6007     22.278     -0.431      0.667     -53.638      34.437\n",
            "PacketsSent4          109.9080    153.044      0.718      0.474    -192.613     412.429\n",
            "PacketsReceived4     1154.9732   2223.109      0.520      0.604   -3239.429    5549.375\n",
            "BytesSent4             38.9716     42.177      0.924      0.357     -44.399     122.342\n",
            "BytesReceived4         -9.6797     22.277     -0.435      0.665     -53.714      34.354\n",
            "PacketsSent5          -95.8114    233.267     -0.411      0.682    -556.909     365.287\n",
            "PacketsReceived5     1499.5363   1942.014      0.772      0.441   -2339.228    5338.300\n",
            "BytesSent5             39.5849     42.221      0.938      0.350     -43.872     123.042\n",
            "BytesReceived5        -10.2214     22.095     -0.463      0.644     -53.897      33.454\n",
            "PacketsSent6          139.2143    196.118      0.710      0.479    -248.451     526.879\n",
            "PacketsReceived6     1093.0407   2252.790      0.485      0.628   -3360.032    5546.114\n",
            "BytesSent6             38.2874     42.302      0.905      0.367     -45.330     121.905\n",
            "BytesReceived6         -9.5208     22.352     -0.426      0.671     -53.705      34.663\n",
            "PacketsSent7         -541.6921    390.705     -1.386      0.168   -1313.995     230.611\n",
            "PacketsReceived7     1112.8869   2154.267      0.517      0.606   -3145.436    5371.210\n",
            "BytesSent7             40.8653     42.352      0.965      0.336     -42.851     124.582\n",
            "BytesReceived7         -9.3759     22.233     -0.422      0.674     -53.324      34.572\n",
            "PacketsSent8          433.6105    297.634      1.457      0.147    -154.720    1021.941\n",
            "PacketsReceived8        0.0311      0.061      0.509      0.611      -0.090       0.152\n",
            "BytesSent8             39.6965     42.239      0.940      0.349     -43.797     123.190\n",
            "BytesReceived8         -8.5918     18.017     -0.477      0.634     -44.206      27.023\n",
            "PacketsSent9            0.0671      0.088      0.767      0.445      -0.106       0.240\n",
            "PacketsReceived9       -0.0040      0.029     -0.138      0.890      -0.062       0.054\n",
            "BytesSent9             38.7566     42.603      0.910      0.365     -45.457     122.970\n",
            "BytesReceived9         -8.2332     20.208     -0.407      0.684     -48.179      31.712\n",
            "Protocol10              0.0009      0.001      0.927      0.355      -0.001       0.003\n",
            "PacketsSent10           0.0073      0.008      0.928      0.355      -0.008       0.023\n",
            "PacketsReceived10      -0.0082      0.009     -0.928      0.355      -0.026       0.009\n",
            "BytesSent10             0.0022      0.002      0.928      0.355      -0.002       0.007\n",
            "BytesReceived10         0.0003      0.000      0.925      0.357      -0.000       0.001\n",
            "Protocol11             -0.0015      0.002     -0.928      0.355      -0.005       0.002\n",
            "PacketsSent11          -0.0006      0.001     -0.927      0.355      -0.002       0.001\n",
            "PacketsReceived11      -0.0006      0.001     -0.928      0.355      -0.002       0.001\n",
            "BytesSent11         -8.015e-05   8.64e-05     -0.928      0.355      -0.000    9.06e-05\n",
            "BytesReceived11         0.0002      0.000      0.929      0.354      -0.000       0.000\n",
            "PacketsSent12           1.0489      0.839      1.250      0.213      -0.610       2.708\n",
            "PacketsReceived12      -0.2161      0.214     -1.009      0.314      -0.639       0.207\n",
            "BytesSent12            46.2539     43.944      1.053      0.294     -40.609     133.117\n",
            "BytesReceived12       -14.3506     14.779     -0.971      0.333     -43.563      14.862\n",
            "PacketsSent13           0.1733      0.205      0.845      0.399      -0.232       0.578\n",
            "PacketsReceived13       0.0021      0.046      0.045      0.964      -0.089       0.093\n",
            "BytesSent13            39.2680     42.488      0.924      0.357     -44.717     123.253\n",
            "BytesReceived13        -6.3620     16.550     -0.384      0.701     -39.076      26.352\n",
            "Protocol14                   0          0        nan        nan           0           0\n",
            "PacketsSent14                0          0        nan        nan           0           0\n",
            "PacketsReceived14            0          0        nan        nan           0           0\n",
            "BytesSent14                  0          0        nan        nan           0           0\n",
            "BytesReceived14              0          0        nan        nan           0           0\n",
            "PacketsSent15           0.1811      0.166      1.093      0.276      -0.146       0.509\n",
            "PacketsReceived15       0.0972      0.132      0.739      0.461      -0.163       0.357\n",
            "BytesSent15            39.1492     42.462      0.922      0.358     -44.785     123.083\n",
            "BytesReceived15         5.9834      9.155      0.654      0.514     -12.113      24.080\n",
            "Protocol16                   0          0        nan        nan           0           0\n",
            "PacketsSent16                0          0        nan        nan           0           0\n",
            "PacketsReceived16            0          0        nan        nan           0           0\n",
            "BytesSent16                  0          0        nan        nan           0           0\n",
            "BytesReceived16              0          0        nan        nan           0           0\n",
            "Protocol17                   0          0        nan        nan           0           0\n",
            "PacketsSent17                0          0        nan        nan           0           0\n",
            "PacketsReceived17            0          0        nan        nan           0           0\n",
            "BytesSent17                  0          0        nan        nan           0           0\n",
            "BytesReceived17              0          0        nan        nan           0           0\n",
            "Protocol18                   0          0        nan        nan           0           0\n",
            "PacketsSent18                0          0        nan        nan           0           0\n",
            "PacketsReceived18            0          0        nan        nan           0           0\n",
            "BytesSent18                  0          0        nan        nan           0           0\n",
            "BytesReceived18              0          0        nan        nan           0           0\n",
            "Protocol19                   0          0        nan        nan           0           0\n",
            "PacketsSent19                0          0        nan        nan           0           0\n",
            "PacketsReceived19            0          0        nan        nan           0           0\n",
            "BytesSent19                  0          0        nan        nan           0           0\n",
            "BytesReceived19              0          0        nan        nan           0           0\n",
            "Protocol20                   0          0        nan        nan           0           0\n",
            "PacketsSent20                0          0        nan        nan           0           0\n",
            "PacketsReceived20            0          0        nan        nan           0           0\n",
            "BytesSent20                  0          0        nan        nan           0           0\n",
            "BytesReceived20              0          0        nan        nan           0           0\n",
            "Protocol21                   0          0        nan        nan           0           0\n",
            "PacketsSent21                0          0        nan        nan           0           0\n",
            "PacketsReceived21            0          0        nan        nan           0           0\n",
            "BytesSent21                  0          0        nan        nan           0           0\n",
            "BytesReceived21              0          0        nan        nan           0           0\n",
            "Protocol22                   0          0        nan        nan           0           0\n",
            "PacketsSent22                0          0        nan        nan           0           0\n",
            "PacketsReceived22            0          0        nan        nan           0           0\n",
            "BytesSent22                  0          0        nan        nan           0           0\n",
            "BytesReceived22              0          0        nan        nan           0           0\n",
            "Protocol23                   0          0        nan        nan           0           0\n",
            "PacketsSent23                0          0        nan        nan           0           0\n",
            "PacketsReceived23            0          0        nan        nan           0           0\n",
            "BytesSent23                  0          0        nan        nan           0           0\n",
            "BytesReceived23              0          0        nan        nan           0           0\n",
            "Protocol24                   0          0        nan        nan           0           0\n",
            "PacketsSent24                0          0        nan        nan           0           0\n",
            "PacketsReceived24            0          0        nan        nan           0           0\n",
            "BytesSent24                  0          0        nan        nan           0           0\n",
            "BytesReceived24              0          0        nan        nan           0           0\n",
            "Protocol25                   0          0        nan        nan           0           0\n",
            "PacketsSent25         825.6813    497.482      1.660      0.099    -157.688    1809.051\n",
            "PacketsReceived25    1031.5677   2210.588      0.467      0.641   -3338.084    5401.220\n",
            "BytesSent25            30.0041     42.523      0.706      0.482     -54.051     114.059\n",
            "BytesReceived25        -9.5637     22.270     -0.429      0.668     -53.584      34.457\n",
            "Buffering                    0          0        nan        nan           0           0\n",
            "Paused                       0          0        nan        nan           0           0\n",
            "Playing              2.281e+07   2.46e+07      0.929      0.354   -2.57e+07    7.13e+07\n",
            "CollectData                  0          0        nan        nan           0           0\n",
            "PlaybackProgress    -2278.7429   1643.384     -1.387      0.168   -5527.208     969.722\n",
            "Length                 -0.2554      0.218     -1.170      0.244      -0.687       0.176\n",
            "BufferHealth           21.0690     33.745      0.624      0.533     -45.635      87.773\n",
            "BufferProgress       4.339e+06   1.67e+06      2.602      0.010    1.04e+06    7.64e+06\n",
            "KBytesReceived         16.3717     17.632      0.928      0.355     -18.482      51.226\n",
            "KBytesReceived_log   3.302e+06   3.55e+06      0.929      0.354   -3.72e+06    1.03e+07\n",
            "PacketsSent_log       327.5762    112.132      2.921      0.004     105.925     549.227\n",
            "PacketsReceived_log   -10.3264    363.225     -0.028      0.977    -728.310     707.658\n",
            "BytesSent_log        -137.9484     49.054     -2.812      0.006    -234.914     -40.983\n",
            "BytesReceived_log   -3.302e+06   3.55e+06     -0.929      0.354   -1.03e+07    3.72e+06\n",
            "BufferProgress_log  -4.391e+06   1.69e+06     -2.604      0.010   -7.72e+06   -1.06e+06\n",
            "==============================================================================\n",
            "Omnibus:                        4.172   Durbin-Watson:                   2.001\n",
            "Prob(Omnibus):                  0.124   Jarque-Bera (JB):                4.149\n",
            "Skew:                           0.214   Prob(JB):                        0.126\n",
            "Kurtosis:                       3.553   Cond. No.                     1.06e+16\n",
            "==============================================================================\n",
            "\n",
            "Notes:\n",
            "[1] Standard Errors assume that the covariance matrix of the errors is correctly specified.\n",
            "[2] The smallest eigenvalue is 2.49e-20. This might indicate that there are\n",
            "strong multicollinearity problems or that the design matrix is singular.\n"
          ]
        }
      ]
    },
    {
      "cell_type": "markdown",
      "metadata": {
        "id": "ai8jcQWoZahU"
      },
      "source": [
        "Let's deal with the warnings later. Let's just test the model."
      ]
    },
    {
      "cell_type": "code",
      "metadata": {
        "id": "nUWi-TaTZahV",
        "scrolled": false,
        "colab": {
          "base_uri": "https://localhost:8080/"
        },
        "outputId": "bb62536d-ba87-4818-83e9-02cf859f80f3"
      },
      "source": [
        "y_pred = model.predict(X_test)\n",
        "RMSE_all_features = math.sqrt(mean_squared_error(y_test, y_pred))\n",
        "print('RMSE now: ', RMSE_all_features, '; RMSE with some features: ',\n",
        "      RMSE_some_features)\n"
      ],
      "execution_count": 44,
      "outputs": [
        {
          "output_type": "stream",
          "name": "stdout",
          "text": [
            "RMSE now:  1838.1377739883055 ; RMSE with some features:  268.5379993855423\n"
          ]
        }
      ]
    },
    {
      "cell_type": "code",
      "metadata": {
        "id": "n3tzEi3cmula"
      },
      "source": [],
      "execution_count": 44,
      "outputs": []
    },
    {
      "cell_type": "markdown",
      "metadata": {
        "id": "PRxh16UpZahZ"
      },
      "source": [
        "What? We use more features and we obtain a worse model?"
      ]
    },
    {
      "cell_type": "markdown",
      "metadata": {
        "id": "QpNpB1PwZaha"
      },
      "source": [
        "## Correct a bad model"
      ]
    },
    {
      "cell_type": "markdown",
      "metadata": {
        "id": "1k7jW9vEZahb"
      },
      "source": [
        "Note that no coefficient is significant (look at the p-value). The model is \"rubbish\"."
      ]
    },
    {
      "cell_type": "markdown",
      "metadata": {
        "id": "bzeEhcr-Zahc"
      },
      "source": [
        "\n",
        "\n",
        "Remember that\n",
        "$$\n",
        "    \\boldsymbol{\\theta}^* = (X^T X)^{-1} X^T \\textbf{y}\n",
        "$$\n",
        "\n",
        "Is $X^T X$ invertible?"
      ]
    },
    {
      "cell_type": "markdown",
      "metadata": {
        "id": "pM8WINYfZahc"
      },
      "source": [
        "### Constant features"
      ]
    },
    {
      "cell_type": "code",
      "metadata": {
        "id": "ZyiWYWNDZahf",
        "colab": {
          "base_uri": "https://localhost:8080/"
        },
        "outputId": "266648ce-d8f4-4886-a47f-61fece802395"
      },
      "source": [
        "non_constant_features = \\\n",
        "    feature_engineering.low_var_features(df_train[cols], threshold=0)\n",
        "non_constant_features"
      ],
      "execution_count": 45,
      "outputs": [
        {
          "output_type": "execute_result",
          "data": {
            "text/plain": [
              "['RelativeTime',\n",
              " 'PacketsSent',\n",
              " 'PacketsReceived',\n",
              " 'BytesSent',\n",
              " 'BytesReceived',\n",
              " 'PacketsSent0',\n",
              " 'PacketsReceived0',\n",
              " 'BytesSent0',\n",
              " 'BytesReceived0',\n",
              " 'PacketsSent1',\n",
              " 'PacketsReceived1',\n",
              " 'BytesSent1',\n",
              " 'BytesReceived1',\n",
              " 'PacketsSent2',\n",
              " 'PacketsReceived2',\n",
              " 'BytesSent2',\n",
              " 'BytesReceived2',\n",
              " 'PacketsSent3',\n",
              " 'PacketsReceived3',\n",
              " 'BytesSent3',\n",
              " 'BytesReceived3',\n",
              " 'PacketsSent4',\n",
              " 'PacketsReceived4',\n",
              " 'BytesSent4',\n",
              " 'BytesReceived4',\n",
              " 'PacketsSent5',\n",
              " 'PacketsReceived5',\n",
              " 'BytesSent5',\n",
              " 'BytesReceived5',\n",
              " 'PacketsSent6',\n",
              " 'PacketsReceived6',\n",
              " 'BytesSent6',\n",
              " 'BytesReceived6',\n",
              " 'PacketsSent7',\n",
              " 'PacketsReceived7',\n",
              " 'BytesSent7',\n",
              " 'BytesReceived7',\n",
              " 'PacketsSent8',\n",
              " 'PacketsReceived8',\n",
              " 'BytesSent8',\n",
              " 'BytesReceived8',\n",
              " 'PacketsSent9',\n",
              " 'PacketsReceived9',\n",
              " 'BytesSent9',\n",
              " 'BytesReceived9',\n",
              " 'PacketsSent12',\n",
              " 'PacketsReceived12',\n",
              " 'BytesSent12',\n",
              " 'BytesReceived12',\n",
              " 'PacketsSent13',\n",
              " 'PacketsReceived13',\n",
              " 'BytesSent13',\n",
              " 'BytesReceived13',\n",
              " 'PacketsSent15',\n",
              " 'PacketsReceived15',\n",
              " 'BytesSent15',\n",
              " 'BytesReceived15',\n",
              " 'PacketsSent25',\n",
              " 'PacketsReceived25',\n",
              " 'BytesSent25',\n",
              " 'BytesReceived25',\n",
              " 'PlaybackProgress',\n",
              " 'Length',\n",
              " 'BufferHealth',\n",
              " 'BufferProgress',\n",
              " 'KBytesReceived',\n",
              " 'KBytesReceived_log',\n",
              " 'PacketsSent_log',\n",
              " 'PacketsReceived_log',\n",
              " 'BytesSent_log',\n",
              " 'BytesReceived_log',\n",
              " 'BufferProgress_log']"
            ]
          },
          "metadata": {},
          "execution_count": 45
        }
      ]
    },
    {
      "cell_type": "markdown",
      "metadata": {
        "id": "aWYkdm4J2xiA"
      },
      "source": [
        "The following function returns the features whose variance is above 0"
      ]
    },
    {
      "cell_type": "markdown",
      "metadata": {
        "id": "-2BEOjFKZahj"
      },
      "source": [
        "We must only use non-constant features"
      ]
    },
    {
      "cell_type": "code",
      "metadata": {
        "id": "SsgTyrozZahk",
        "scrolled": false,
        "colab": {
          "base_uri": "https://localhost:8080/"
        },
        "outputId": "3a427875-db40-47c3-c836-36003f5e1bde"
      },
      "source": [
        "X_train = df_train[non_constant_features].values\n",
        "X_test = df_test[non_constant_features].values\n",
        "\n",
        "model = AndreaLinearRegression()\n",
        "model.fit(X_train, y_train, column_names=non_constant_features)\n",
        "model.summary()"
      ],
      "execution_count": 46,
      "outputs": [
        {
          "output_type": "stream",
          "name": "stdout",
          "text": [
            "                            OLS Regression Results                            \n",
            "==============================================================================\n",
            "Dep. Variable:                      y   R-squared:                       0.612\n",
            "Model:                            OLS   Adj. R-squared:                  0.449\n",
            "Method:                 Least Squares   F-statistic:                     3.758\n",
            "Date:                Tue, 14 May 2024   Prob (F-statistic):           5.19e-11\n",
            "Time:                        08:54:44   Log-Likelihood:                -1353.5\n",
            "No. Observations:                 204   AIC:                             2829.\n",
            "Df Residuals:                     143   BIC:                             3032.\n",
            "Df Model:                          60                                         \n",
            "Covariance Type:            nonrobust                                         \n",
            "=======================================================================================\n",
            "                          coef    std err          t      P>|t|      [0.025      0.975]\n",
            "---------------------------------------------------------------------------------------\n",
            "intercept            2.281e+07   2.46e+07      0.929      0.354   -2.57e+07    7.13e+07\n",
            "RelativeTime            5.8463      2.351      2.487      0.014       1.199      10.494\n",
            "PacketsSent            76.4458     50.727      1.507      0.134     -23.826     176.718\n",
            "PacketsReceived     -1034.0938   2210.599     -0.468      0.641   -5403.767    3335.579\n",
            "BytesSent              -0.4705      0.545     -0.863      0.390      -1.549       0.608\n",
            "BytesReceived           9.5656     22.270      0.430      0.668     -34.455      53.586\n",
            "PacketsSent0          -62.4388     51.400     -1.215      0.226    -164.041      39.164\n",
            "PacketsReceived0     1053.0249   2210.033      0.476      0.634   -3315.531    5421.581\n",
            "BytesSent0              0.3125      0.548      0.570      0.570      -0.771       1.396\n",
            "BytesReceived0         -9.5800     22.269     -0.430      0.668     -53.600      34.440\n",
            "PacketsSent1          -53.3507     51.366     -1.039      0.301    -154.886      48.184\n",
            "PacketsReceived1      968.6417   2208.515      0.439      0.662   -3396.913    5334.196\n",
            "BytesSent1              0.3605      0.564      0.639      0.524      -0.755       1.476\n",
            "BytesReceived1         -9.5234     22.268     -0.428      0.670     -53.541      34.494\n",
            "PacketsSent2          -51.4317     54.535     -0.943      0.347    -159.231      56.368\n",
            "PacketsReceived2      978.5710   2216.434      0.442      0.660   -3402.637    5359.779\n",
            "BytesSent2              0.5334      0.636      0.839      0.403      -0.724       1.790\n",
            "BytesReceived2         -9.5410     22.273     -0.428      0.669     -53.569      34.487\n",
            "PacketsSent3         -105.4821     96.107     -1.098      0.274    -295.456      84.492\n",
            "PacketsReceived3     1092.6383   2224.123      0.491      0.624   -3303.768    5489.045\n",
            "BytesSent3              0.4663      0.644      0.724      0.470      -0.807       1.740\n",
            "BytesReceived3         -9.6007     22.278     -0.431      0.667     -53.638      34.437\n",
            "PacketsSent4           22.8888    105.672      0.217      0.829    -185.992     231.770\n",
            "PacketsReceived4     1154.9732   2223.109      0.520      0.604   -3239.429    5549.375\n",
            "BytesSent4             -0.2180      0.647     -0.337      0.737      -1.498       1.062\n",
            "BytesReceived4         -9.6797     22.277     -0.435      0.665     -53.714      34.354\n",
            "PacketsSent5         -182.8305    209.940     -0.871      0.385    -597.817     232.156\n",
            "PacketsReceived5     1499.5363   1942.014      0.772      0.441   -2339.228    5338.300\n",
            "BytesSent5              0.3952      0.579      0.683      0.496      -0.749       1.539\n",
            "BytesReceived5        -10.2214     22.095     -0.463      0.644     -53.897      33.454\n",
            "PacketsSent6           52.1952    182.513      0.286      0.775    -308.577     412.968\n",
            "PacketsReceived6     1093.0407   2252.790      0.485      0.628   -3360.032    5546.114\n",
            "BytesSent6             -0.9023      0.909     -0.993      0.322      -2.698       0.894\n",
            "BytesReceived6         -9.5208     22.352     -0.426      0.671     -53.705      34.663\n",
            "PacketsSent7         -628.7113    385.289     -1.632      0.105   -1390.309     132.887\n",
            "PacketsReceived7     1112.8869   2154.267      0.517      0.606   -3145.436    5371.210\n",
            "BytesSent7              1.6756      1.581      1.060      0.291      -1.450       4.801\n",
            "BytesReceived7         -9.3759     22.233     -0.422      0.674     -53.324      34.572\n",
            "PacketsSent8          346.5914    280.222      1.237      0.218    -207.321     900.504\n",
            "PacketsReceived8       -0.0156      0.032     -0.483      0.630      -0.080       0.048\n",
            "BytesSent8              0.5068      2.051      0.247      0.805      -3.547       4.561\n",
            "BytesReceived8         -8.5917     18.017     -0.477      0.634     -44.206      27.023\n",
            "PacketsSent9           -0.0115      0.018     -0.643      0.521      -0.047       0.024\n",
            "PacketsReceived9       -0.0116      0.028     -0.415      0.679      -0.067       0.043\n",
            "BytesSent9             -0.6858      2.716     -0.253      0.801      -6.054       4.683\n",
            "BytesReceived9         -8.3353     20.202     -0.413      0.681     -48.269      31.599\n",
            "PacketsSent12           0.3843      0.392      0.982      0.328      -0.390       1.158\n",
            "PacketsReceived12      -0.1751      0.206     -0.848      0.398      -0.583       0.233\n",
            "BytesSent12             5.7558      3.322      1.733      0.085      -0.810      12.322\n",
            "BytesReceived12       -12.2577     14.451     -0.848      0.398     -40.824      16.308\n",
            "PacketsSent13          -0.0143      0.032     -0.448      0.655      -0.078       0.049\n",
            "PacketsReceived13      -0.0170      0.041     -0.418      0.676      -0.097       0.063\n",
            "BytesSent13            -0.1756      0.785     -0.224      0.823      -1.726       1.375\n",
            "BytesReceived13        -6.5252     16.541     -0.394      0.694     -39.221      26.171\n",
            "PacketsSent15           0.0345      0.059      0.580      0.563      -0.083       0.152\n",
            "PacketsReceived15       0.0772      0.131      0.590      0.556      -0.182       0.336\n",
            "BytesSent15            -0.2894      0.790     -0.366      0.715      -1.851       1.272\n",
            "BytesReceived15         5.4147      9.165      0.591      0.556     -12.702      23.532\n",
            "PacketsSent25         738.6622    487.872      1.514      0.132    -225.711    1703.035\n",
            "PacketsReceived25    1031.5677   2210.588      0.467      0.641   -3338.084    5401.220\n",
            "BytesSent25            -9.1855      5.614     -1.636      0.104     -20.282       1.911\n",
            "BytesReceived25        -9.5637     22.270     -0.429      0.668     -53.584      34.457\n",
            "PlaybackProgress    -2278.7429   1643.384     -1.387      0.168   -5527.208     969.722\n",
            "Length                 -0.2554      0.218     -1.170      0.244      -0.687       0.176\n",
            "BufferHealth           21.0690     33.745      0.624      0.533     -45.635      87.773\n",
            "BufferProgress       4.339e+06   1.67e+06      2.602      0.010    1.04e+06    7.64e+06\n",
            "KBytesReceived          0.0160      0.022      0.719      0.473      -0.028       0.060\n",
            "KBytesReceived_log   3.302e+06   3.55e+06      0.929      0.354   -3.72e+06    1.03e+07\n",
            "PacketsSent_log       327.5762    112.132      2.921      0.004     105.925     549.227\n",
            "PacketsReceived_log   -10.3264    363.225     -0.028      0.977    -728.310     707.658\n",
            "BytesSent_log        -137.9484     49.054     -2.812      0.006    -234.914     -40.983\n",
            "BytesReceived_log   -3.302e+06   3.55e+06     -0.929      0.354   -1.03e+07    3.72e+06\n",
            "BufferProgress_log  -4.391e+06   1.69e+06     -2.604      0.010   -7.72e+06   -1.06e+06\n",
            "==============================================================================\n",
            "Omnibus:                        4.172   Durbin-Watson:                   2.001\n",
            "Prob(Omnibus):                  0.124   Jarque-Bera (JB):                4.149\n",
            "Skew:                           0.214   Prob(JB):                        0.126\n",
            "Kurtosis:                       3.553   Cond. No.                     1.28e+16\n",
            "==============================================================================\n",
            "\n",
            "Notes:\n",
            "[1] Standard Errors assume that the covariance matrix of the errors is correctly specified.\n",
            "[2] The smallest eigenvalue is 1.71e-20. This might indicate that there are\n",
            "strong multicollinearity problems or that the design matrix is singular.\n"
          ]
        }
      ]
    },
    {
      "cell_type": "markdown",
      "metadata": {
        "id": "BYgecGCQZahm"
      },
      "source": [
        "The warnings disappear. Still, coefficients are no significant"
      ]
    },
    {
      "cell_type": "code",
      "metadata": {
        "id": "XLcXagAQZahn",
        "colab": {
          "base_uri": "https://localhost:8080/"
        },
        "outputId": "a03b216f-2f6f-4a0e-f026-fa46b7d9e195"
      },
      "source": [
        "y_pred = model.predict(X_test)\n",
        "RMSE = math.sqrt(mean_squared_error(y_test, y_pred))\n",
        "print('RMSE: ', RMSE)"
      ],
      "execution_count": 47,
      "outputs": [
        {
          "output_type": "stream",
          "name": "stdout",
          "text": [
            "RMSE:  1145.000952393813\n"
          ]
        }
      ]
    },
    {
      "cell_type": "markdown",
      "metadata": {
        "id": "2Y_2YDsSZahq"
      },
      "source": [
        "We improved a bit, but the performance is still bad."
      ]
    },
    {
      "cell_type": "markdown",
      "metadata": {
        "id": "lx_CPTiMZahs"
      },
      "source": [
        "### Collinearity"
      ]
    },
    {
      "cell_type": "markdown",
      "metadata": {
        "id": "EsS_dI4bZaht"
      },
      "source": [
        "Let's check the most correlated features"
      ]
    },
    {
      "cell_type": "code",
      "metadata": {
        "id": "7ubrLajeZahu",
        "colab": {
          "base_uri": "https://localhost:8080/"
        },
        "outputId": "d630bc24-f52d-48c7-cdb7-5ae06f33c213"
      },
      "source": [
        "most_corr_feats = \\\n",
        "    feature_engineering.get_most_correlated(\n",
        "            df_train[non_constant_features])\n",
        "most_corr_feats"
      ],
      "execution_count": 48,
      "outputs": [
        {
          "output_type": "execute_result",
          "data": {
            "text/plain": [
              "BytesReceived       KBytesReceived       1.0\n",
              "PacketsReceived15   BytesReceived15      1.0\n",
              "KBytesReceived_log  BytesReceived_log    1.0\n",
              "PacketsReceived8    BytesReceived8       1.0\n",
              "PacketsReceived12   BytesReceived12      1.0\n",
              "                                        ... \n",
              "BytesReceived15     BytesSent_log       -0.0\n",
              "BytesReceived8      BufferHealth         0.0\n",
              "BytesReceived15     BufferHealth        -0.0\n",
              "BytesReceived0      BytesSent6          -0.0\n",
              "PacketsReceived15   BufferHealth        -0.0\n",
              "Length: 2556, dtype: float64"
            ]
          },
          "metadata": {},
          "execution_count": 48
        }
      ]
    },
    {
      "cell_type": "markdown",
      "metadata": {
        "id": "wmECMMzIZahz"
      },
      "source": [
        "As expected, packets received/set and bytes received/set are highly correlated. Also the variables transformed to log are correlated with the original ones. We can remove the original ones. If we have KBytes, we can remove Bytes"
      ]
    },
    {
      "cell_type": "code",
      "metadata": {
        "id": "UnHxjL7zZah1",
        "scrolled": true,
        "colab": {
          "base_uri": "https://localhost:8080/"
        },
        "outputId": "50691868-536a-44ef-e23a-34ebb428b324"
      },
      "source": [
        "to_remove = ['PacketsReceived8',\n",
        "        'PacketsReceived15', 'PacketsReceived13',\n",
        "          'BytesReceived','BytesReceived_log','BufferProgress',\n",
        "          'PacketsReceived0', 'PacketsSent25', 'PacketsReceived25'\n",
        "            ]\n",
        "\n",
        "# Take from non_constant_features all the features except the ones in\n",
        "# to_remove\n",
        "cols_1 = []\n",
        "for feat in non_constant_features:\n",
        "    if feat not in to_remove:\n",
        "        cols_1.append(feat)\n",
        "\n",
        "\n",
        "X_train = df_train[cols_1].values\n",
        "X_test = df_test[cols_1].values\n",
        "model = AndreaLinearRegression()\n",
        "model.fit(X_train, y_train, column_names=cols_1)\n",
        "model.summary()"
      ],
      "execution_count": 49,
      "outputs": [
        {
          "output_type": "stream",
          "name": "stdout",
          "text": [
            "                            OLS Regression Results                            \n",
            "==============================================================================\n",
            "Dep. Variable:                      y   R-squared:                       0.583\n",
            "Model:                            OLS   Adj. R-squared:                  0.424\n",
            "Method:                 Least Squares   F-statistic:                     3.674\n",
            "Date:                Tue, 14 May 2024   Prob (F-statistic):           1.65e-10\n",
            "Time:                        08:54:44   Log-Likelihood:                -1360.8\n",
            "No. Observations:                 204   AIC:                             2836.\n",
            "Df Residuals:                     147   BIC:                             3025.\n",
            "Df Model:                          56                                         \n",
            "Covariance Type:            nonrobust                                         \n",
            "=======================================================================================\n",
            "                          coef    std err          t      P>|t|      [0.025      0.975]\n",
            "---------------------------------------------------------------------------------------\n",
            "intercept             540.6574    347.515      1.556      0.122    -146.114    1227.429\n",
            "RelativeTime            5.1428      2.359      2.180      0.031       0.480       9.805\n",
            "PacketsSent           793.9222    512.914      1.548      0.124    -219.716    1807.560\n",
            "PacketsReceived         4.4504      8.830      0.504      0.615     -12.999      21.900\n",
            "BytesSent              -1.8098      1.238     -1.462      0.146      -4.255       0.636\n",
            "PacketsSent0         -779.3447    513.280     -1.518      0.131   -1793.705     235.016\n",
            "BytesSent0              1.6462      1.244      1.324      0.188      -0.811       4.104\n",
            "BytesReceived0          0.7102      1.002      0.709      0.480      -1.270       2.690\n",
            "PacketsSent1         -774.9165    512.386     -1.512      0.133   -1787.510     237.677\n",
            "PacketsReceived1      -51.9312     60.838     -0.854      0.395    -172.161      68.299\n",
            "BytesSent1              1.6822      1.233      1.364      0.175      -0.755       4.120\n",
            "BytesReceived1          0.7457      1.009      0.739      0.461      -1.248       2.739\n",
            "PacketsSent2         -777.1960    515.204     -1.509      0.134   -1795.359     240.967\n",
            "PacketsReceived2      -35.2584     75.950     -0.464      0.643    -185.353     114.837\n",
            "BytesSent2              1.8889      1.277      1.479      0.141      -0.635       4.413\n",
            "BytesReceived2          0.7229      1.007      0.718      0.474      -1.268       2.713\n",
            "PacketsSent3         -862.4740    518.586     -1.663      0.098   -1887.321     162.373\n",
            "PacketsReceived3       68.2532     73.608      0.927      0.355     -77.213     213.719\n",
            "BytesSent3              1.9183      1.283      1.496      0.137      -0.617       4.453\n",
            "BytesReceived3          0.6811      1.001      0.681      0.497      -1.296       2.658\n",
            "PacketsSent4         -707.3428    520.702     -1.358      0.176   -1736.372     321.686\n",
            "PacketsReceived4      114.5381    130.652      0.877      0.382    -143.662     372.738\n",
            "BytesSent4              1.0072      1.276      0.789      0.431      -1.514       3.529\n",
            "BytesReceived4          0.6112      1.023      0.598      0.551      -1.410       2.632\n",
            "PacketsSent5         -951.3242    560.636     -1.697      0.092   -2059.272     156.623\n",
            "PacketsReceived5      616.7071    289.609      2.129      0.035      44.371    1189.043\n",
            "BytesSent5              1.7879      1.234      1.449      0.149      -0.650       4.226\n",
            "BytesReceived5          0.0081      0.975      0.008      0.993      -1.919       1.935\n",
            "PacketsSent6         -627.1954    551.347     -1.138      0.257   -1716.785     462.394\n",
            "PacketsReceived6       68.8179    295.327      0.233      0.816    -514.817     652.453\n",
            "BytesSent6              0.1898      1.418      0.134      0.894      -2.612       2.991\n",
            "BytesReceived6          0.8058      1.374      0.586      0.558      -1.910       3.521\n",
            "PacketsSent7        -1264.5443    848.382     -1.491      0.138   -2941.146     412.057\n",
            "PacketsReceived7       91.0960    278.171      0.327      0.744    -458.635     640.827\n",
            "BytesSent7              2.6187      2.271      1.153      0.251      -1.869       7.106\n",
            "BytesReceived7          0.8494      1.053      0.807      0.421      -1.231       2.930\n",
            "PacketsSent8         -351.0730    612.018     -0.574      0.567   -1560.564     858.418\n",
            "BytesSent8              2.3115      2.097      1.103      0.272      -1.832       6.455\n",
            "BytesReceived8         -0.4239      1.090     -0.389      0.698      -2.578       1.730\n",
            "PacketsSent9           -0.0073      0.006     -1.334      0.184      -0.018       0.004\n",
            "PacketsReceived9      9.72e-05      0.002      0.059      0.953      -0.003       0.003\n",
            "BytesSent9             -2.5950      2.017     -1.286      0.200      -6.582       1.392\n",
            "BytesReceived9          0.1589      1.108      0.143      0.886      -2.031       2.349\n",
            "PacketsSent12          -0.1051      0.546     -0.193      0.848      -1.184       0.974\n",
            "PacketsReceived12       0.0229      0.256      0.090      0.929      -0.482       0.528\n",
            "BytesSent12            -4.3764      7.641     -0.573      0.568     -19.476      10.723\n",
            "BytesReceived12         1.6014     17.892      0.090      0.929     -33.757      36.959\n",
            "PacketsSent13          -0.0037      0.003     -1.061      0.290      -0.011       0.003\n",
            "BytesSent13            -1.1201      0.808     -1.386      0.168      -2.717       0.477\n",
            "BytesReceived13        -0.2165      1.345     -0.161      0.872      -2.875       2.442\n",
            "PacketsSent15          -0.0259      0.035     -0.750      0.455      -0.094       0.042\n",
            "BytesSent15            -1.1095      0.776     -1.429      0.155      -2.644       0.425\n",
            "BytesReceived15        -3.4639      5.397     -0.642      0.522     -14.130       7.202\n",
            "BytesSent25            -7.6595      4.944     -1.549      0.123     -17.429       2.110\n",
            "BytesReceived25         0.7107      1.002      0.709      0.479      -1.270       2.691\n",
            "PlaybackProgress    -2686.4092   1659.574     -1.619      0.108   -5966.115     593.297\n",
            "Length                 -0.1552      0.216     -0.717      0.474      -0.583       0.272\n",
            "BufferHealth            9.0591     34.057      0.266      0.791     -58.246      76.364\n",
            "KBytesReceived       -714.6890   1002.016     -0.713      0.477   -2694.906    1265.528\n",
            "KBytesReceived_log    175.6171    320.554      0.548      0.585    -457.872     809.106\n",
            "PacketsSent_log       316.0259    114.306      2.765      0.006      90.130     541.922\n",
            "PacketsReceived_log  -110.1026    364.747     -0.302      0.763    -830.927     610.722\n",
            "BytesSent_log        -125.8737     49.900     -2.523      0.013    -224.488     -27.259\n",
            "BufferProgress_log  -3776.4879   2.47e+04     -0.153      0.879   -5.26e+04     4.5e+04\n",
            "==============================================================================\n",
            "Omnibus:                        0.980   Durbin-Watson:                   1.963\n",
            "Prob(Omnibus):                  0.613   Jarque-Bera (JB):                0.697\n",
            "Skew:                           0.122   Prob(JB):                        0.706\n",
            "Kurtosis:                       3.149   Cond. No.                     1.34e+16\n",
            "==============================================================================\n",
            "\n",
            "Notes:\n",
            "[1] Standard Errors assume that the covariance matrix of the errors is correctly specified.\n",
            "[2] The smallest eigenvalue is 6.92e-21. This might indicate that there are\n",
            "strong multicollinearity problems or that the design matrix is singular.\n"
          ]
        }
      ]
    },
    {
      "cell_type": "code",
      "metadata": {
        "id": "8n70GVWyZah3",
        "scrolled": false,
        "colab": {
          "base_uri": "https://localhost:8080/"
        },
        "outputId": "ceb5d8e4-64da-4f17-e6da-1ce86d319886"
      },
      "source": [
        "y_pred = model.predict(X_test)\n",
        "RMSE = math.sqrt(mean_squared_error(y_test, y_pred))\n",
        "print('RMSE: ', RMSE, '; RMSE with one feature: ',\n",
        "      RMSE_one_feature)"
      ],
      "execution_count": 50,
      "outputs": [
        {
          "output_type": "stream",
          "name": "stdout",
          "text": [
            "RMSE:  489.05947122866166 ; RMSE with one feature:  273.8960512946408\n"
          ]
        }
      ]
    },
    {
      "cell_type": "markdown",
      "metadata": {
        "id": "i2PCkKiZZah5"
      },
      "source": [
        "After removing the most correlated features, the model improved a bit. Still, the model with one feature only is better.\n",
        "\n",
        "Let's check the correlation among the remaining features."
      ]
    },
    {
      "cell_type": "code",
      "metadata": {
        "id": "arQu57dPZah5",
        "colab": {
          "base_uri": "https://localhost:8080/"
        },
        "outputId": "86ef4703-c3cf-499a-9f2a-cac431201bc5"
      },
      "source": [
        "most_corr_feats = \\\n",
        "    feature_engineering.get_most_correlated(df_train[cols_1])\n",
        "most_corr_feats"
      ],
      "execution_count": 51,
      "outputs": [
        {
          "output_type": "execute_result",
          "data": {
            "text/plain": [
              "PacketsReceived12  BytesReceived12    1.000\n",
              "PacketsSent13      BytesReceived13    0.998\n",
              "PacketsReceived1   BytesReceived1     0.997\n",
              "PacketsSent13      BytesSent13        0.996\n",
              "PacketsSent8       BytesSent8         0.995\n",
              "                                      ...  \n",
              "BytesReceived0     BytesSent6        -0.000\n",
              "BytesReceived4     BytesSent9        -0.000\n",
              "BytesReceived5     PacketsSent_log    0.000\n",
              "BytesReceived8     BufferHealth       0.000\n",
              "BytesReceived15    BufferHealth      -0.000\n",
              "Length: 1953, dtype: float64"
            ]
          },
          "metadata": {},
          "execution_count": 51
        }
      ]
    },
    {
      "cell_type": "markdown",
      "metadata": {
        "id": "UhqiOmqmZah8"
      },
      "source": [
        "Let's remove all the features regarding Packets (as they are highly correlated with Bytes). Still, preserve the ones that have high correlation with the target."
      ]
    },
    {
      "cell_type": "code",
      "metadata": {
        "id": "119h9DifZah9",
        "colab": {
          "base_uri": "https://localhost:8080/"
        },
        "outputId": "6756e6b2-05ea-4105-815f-f4840581c1c4"
      },
      "source": [
        "feature_engineering.get_features_correlated_to_target(\n",
        "                    df_train[cols_1+['label_num']], 'label_num')"
      ],
      "execution_count": 52,
      "outputs": [
        {
          "output_type": "execute_result",
          "data": {
            "text/plain": [
              "label_num              1.00\n",
              "PacketsSent            0.40\n",
              "PacketsSent0           0.37\n",
              "PacketsReceived_log    0.32\n",
              "KBytesReceived_log     0.32\n",
              "                       ... \n",
              "BytesSent25           -0.01\n",
              "BytesReceived2         0.01\n",
              "PacketsReceived2       0.01\n",
              "PacketsSent6          -0.01\n",
              "Length                -0.00\n",
              "Name: label_num, Length: 64, dtype: float64"
            ]
          },
          "metadata": {},
          "execution_count": 52
        }
      ]
    },
    {
      "cell_type": "code",
      "metadata": {
        "id": "Cxh-_MHwZah_"
      },
      "source": [
        "to_preserve = ['PacketsSent','PacketsSent0','PacketsReceived_log',\n",
        "               'PacketsSent_log'\n",
        "]\n",
        "\n",
        "cols_2 = []\n",
        "for feat in cols_1:\n",
        "    if 'Packets' not in feat:\n",
        "        cols_2.append(feat)\n",
        "\n",
        "cols_2 = cols_2 + to_preserve"
      ],
      "execution_count": 53,
      "outputs": []
    },
    {
      "cell_type": "code",
      "metadata": {
        "id": "mjpl7M_MZaiB",
        "colab": {
          "base_uri": "https://localhost:8080/"
        },
        "outputId": "db104991-7988-4a59-e6a3-3b6416f49cfd"
      },
      "source": [
        "X_train = df_train[cols_2].values\n",
        "X_test = df_test[cols_2].values\n",
        "model = AndreaLinearRegression()\n",
        "model.fit(X_train, y_train, column_names=cols_2)\n",
        "model.summary()"
      ],
      "execution_count": 54,
      "outputs": [
        {
          "output_type": "stream",
          "name": "stdout",
          "text": [
            "                            OLS Regression Results                            \n",
            "==============================================================================\n",
            "Dep. Variable:                      y   R-squared:                       0.538\n",
            "Model:                            OLS   Adj. R-squared:                  0.425\n",
            "Method:                 Least Squares   F-statistic:                     4.747\n",
            "Date:                Tue, 14 May 2024   Prob (F-statistic):           6.44e-13\n",
            "Time:                        08:54:44   Log-Likelihood:                -1371.3\n",
            "No. Observations:                 204   AIC:                             2825.\n",
            "Df Residuals:                     163   BIC:                             2961.\n",
            "Df Model:                          40                                         \n",
            "Covariance Type:            nonrobust                                         \n",
            "=======================================================================================\n",
            "                          coef    std err          t      P>|t|      [0.025      0.975]\n",
            "---------------------------------------------------------------------------------------\n",
            "intercept             525.5257    311.281      1.688      0.093     -89.137    1140.188\n",
            "RelativeTime            2.7719      1.553      1.784      0.076      -0.295       5.839\n",
            "BytesSent               0.3905      0.267      1.463      0.146      -0.137       0.918\n",
            "BytesSent0             -0.5567      0.275     -2.027      0.044      -1.099      -0.014\n",
            "BytesReceived0         -0.4381      0.767     -0.571      0.569      -1.953       1.077\n",
            "BytesSent1             -0.6751      0.272     -2.479      0.014      -1.213      -0.137\n",
            "BytesReceived1         -0.4366      0.767     -0.569      0.570      -1.952       1.078\n",
            "BytesSent2             -0.4924      0.270     -1.822      0.070      -1.026       0.041\n",
            "BytesReceived2         -0.4471      0.767     -0.583      0.561      -1.961       1.067\n",
            "BytesSent3             -0.5534      0.282     -1.960      0.052      -1.111       0.004\n",
            "BytesReceived3         -0.4449      0.767     -0.580      0.563      -1.959       1.069\n",
            "BytesSent4             -0.6938      0.335     -2.070      0.040      -1.356      -0.032\n",
            "BytesReceived4         -0.4399      0.767     -0.573      0.567      -1.955       1.075\n",
            "BytesSent5             -0.5084      0.302     -1.684      0.094      -1.105       0.088\n",
            "BytesReceived5         -0.8353      0.788     -1.060      0.291      -2.391       0.720\n",
            "BytesSent6             -0.7433      0.458     -1.622      0.107      -1.648       0.161\n",
            "BytesReceived6          0.1271      1.031      0.123      0.902      -1.909       2.163\n",
            "BytesSent7             -0.6244      0.447     -1.396      0.165      -1.508       0.259\n",
            "BytesReceived7         -0.5511      0.780     -0.706      0.481      -2.092       0.990\n",
            "BytesSent8              0.5867      0.818      0.717      0.474      -1.029       2.202\n",
            "BytesReceived8         -0.9049      0.849     -1.065      0.288      -2.582       0.773\n",
            "BytesSent9              1.0961      0.975      1.125      0.262      -0.828       3.020\n",
            "BytesReceived9         -0.6639      0.794     -0.836      0.404      -2.232       0.904\n",
            "BytesSent12             5.8529      3.292      1.778      0.077      -0.647      12.353\n",
            "BytesReceived12       -20.6651     10.900     -1.896      0.060     -42.188       0.858\n",
            "BytesSent13            -0.7787      0.703     -1.107      0.270      -2.167       0.610\n",
            "BytesReceived13        -0.4825      0.852     -0.566      0.572      -2.166       1.201\n",
            "BytesSent15            -0.9049      0.693     -1.307      0.193      -2.273       0.463\n",
            "BytesReceived15        -0.2987      4.059     -0.074      0.941      -8.315       7.717\n",
            "BytesSent25            -0.6141      0.354     -1.732      0.085      -1.314       0.086\n",
            "BytesReceived25        -0.4371      0.767     -0.570      0.570      -1.952       1.078\n",
            "PlaybackProgress    -2352.4879   1595.523     -1.474      0.142   -5503.046     798.070\n",
            "Length                 -0.0752      0.201     -0.374      0.709      -0.473       0.322\n",
            "BufferHealth            0.2490     31.129      0.008      0.994     -61.219      61.717\n",
            "KBytesReceived        436.9129    767.095      0.570      0.570   -1077.812    1951.638\n",
            "KBytesReceived_log    -18.4679    247.667     -0.075      0.941    -507.518     470.582\n",
            "BytesSent_log        -125.6596     46.912     -2.679      0.008    -218.293     -33.026\n",
            "BufferProgress_log   3111.0583    2.2e+04      0.142      0.888   -4.03e+04    4.65e+04\n",
            "PacketsSent            21.2698     14.198      1.498      0.136      -6.766      49.305\n",
            "PacketsSent0           -7.5235     15.129     -0.497      0.620     -37.398      22.351\n",
            "PacketsReceived_log    73.8615    273.979      0.270      0.788    -467.144     614.866\n",
            "PacketsSent_log       343.7151    105.603      3.255      0.001     135.190     552.240\n",
            "==============================================================================\n",
            "Omnibus:                        0.530   Durbin-Watson:                   1.973\n",
            "Prob(Omnibus):                  0.767   Jarque-Bera (JB):                0.605\n",
            "Skew:                           0.118   Prob(JB):                        0.739\n",
            "Kurtosis:                       2.876   Cond. No.                     1.34e+16\n",
            "==============================================================================\n",
            "\n",
            "Notes:\n",
            "[1] Standard Errors assume that the covariance matrix of the errors is correctly specified.\n",
            "[2] The smallest eigenvalue is 6.92e-21. This might indicate that there are\n",
            "strong multicollinearity problems or that the design matrix is singular.\n"
          ]
        }
      ]
    },
    {
      "cell_type": "markdown",
      "metadata": {
        "id": "-icK5AaTZaiE"
      },
      "source": [
        "The significance of some features is reinforced, but in general significance is weak."
      ]
    },
    {
      "cell_type": "code",
      "metadata": {
        "id": "JMOdDU0OZaiE",
        "colab": {
          "base_uri": "https://localhost:8080/"
        },
        "outputId": "1a1a5c33-d3d2-4ac1-fb06-de98892bb47f"
      },
      "source": [
        "y_pred = model.predict(X_test)\n",
        "RMSE = math.sqrt(mean_squared_error(y_test, y_pred))\n",
        "print('RMSE: ', RMSE, '; RMSE with one feature: ',\n",
        "      RMSE_one_feature)"
      ],
      "execution_count": 55,
      "outputs": [
        {
          "output_type": "stream",
          "name": "stdout",
          "text": [
            "RMSE:  6714.577335487919 ; RMSE with one feature:  273.8960512946408\n"
          ]
        }
      ]
    },
    {
      "cell_type": "markdown",
      "metadata": {
        "id": "14X2Y8rLZaiH"
      },
      "source": [
        "Performance is still bad. Let's remove other highly correlated features."
      ]
    },
    {
      "cell_type": "code",
      "metadata": {
        "id": "Gp0wHSjaZaiI",
        "colab": {
          "base_uri": "https://localhost:8080/"
        },
        "outputId": "e828320f-6cf6-4212-d5a4-5f2dc5b5968c"
      },
      "source": [
        "most_corr_feats = \\\n",
        "    feature_engineering.get_most_correlated(df_train[cols_2])\n",
        "most_corr_feats"
      ],
      "execution_count": 56,
      "outputs": [
        {
          "output_type": "execute_result",
          "data": {
            "text/plain": [
              "BytesSent13         BytesReceived13        0.989\n",
              "BytesSent12         BytesReceived12        0.988\n",
              "KBytesReceived_log  PacketsReceived_log    0.987\n",
              "BytesSent8          BytesReceived8         0.985\n",
              "BytesSent0          PacketsSent0           0.975\n",
              "                                           ...  \n",
              "BytesReceived15     BytesSent_log         -0.000\n",
              "BytesReceived0      BytesSent6            -0.000\n",
              "BytesReceived5      PacketsSent_log        0.000\n",
              "BytesReceived15     BufferHealth          -0.000\n",
              "BytesReceived4      BytesSent9            -0.000\n",
              "Length: 820, dtype: float64"
            ]
          },
          "metadata": {},
          "execution_count": 56
        }
      ]
    },
    {
      "cell_type": "code",
      "metadata": {
        "id": "pA0iOdTeZaiL",
        "colab": {
          "base_uri": "https://localhost:8080/"
        },
        "outputId": "82ae8f95-5eac-4a85-e7f6-7f7694981904"
      },
      "source": [
        "to_remove = ['BytesReceived13','BytesReceived12','PacketsReceived_log',\n",
        "             'BytesReceived8','PacketsSent0','PacketsSent',\n",
        "             'BufferProgress_log','BytesReceived15','BytesReceived1',\n",
        "             'PacketsSent_log','PacketsSent', 'KBytesReceived'\n",
        "            ]\n",
        "\n",
        "cols_3 = []\n",
        "for feat in cols_2:\n",
        "    if feat not in to_remove:\n",
        "        cols_3.append(feat)\n",
        "\n",
        "X_train = df_train[cols_3].values\n",
        "X_test = df_test[cols_3].values\n",
        "model = AndreaLinearRegression()\n",
        "model.fit(X_train, y_train)\n",
        "\n",
        "y_pred = model.predict(X_test)\n",
        "RMSE = math.sqrt(mean_squared_error(y_test, y_pred))\n",
        "print('RMSE: ', RMSE, '; RMSE with one feature: ',\n",
        "      RMSE_one_feature)"
      ],
      "execution_count": 57,
      "outputs": [
        {
          "output_type": "stream",
          "name": "stdout",
          "text": [
            "RMSE:  252.00084651697776 ; RMSE with one feature:  273.8960512946408\n"
          ]
        }
      ]
    },
    {
      "cell_type": "markdown",
      "metadata": {
        "id": "aSZ1_Df1ZaiO"
      },
      "source": [
        "We finally have a model that seems better than the initial univariate one!"
      ]
    },
    {
      "cell_type": "code",
      "metadata": {
        "id": "93CtBAJ4C2S0",
        "colab": {
          "base_uri": "https://localhost:8080/"
        },
        "outputId": "a4e13017-127b-4438-d12a-7b5978debcab"
      },
      "source": [
        "cols_3"
      ],
      "execution_count": 58,
      "outputs": [
        {
          "output_type": "execute_result",
          "data": {
            "text/plain": [
              "['RelativeTime',\n",
              " 'BytesSent',\n",
              " 'BytesSent0',\n",
              " 'BytesReceived0',\n",
              " 'BytesSent1',\n",
              " 'BytesSent2',\n",
              " 'BytesReceived2',\n",
              " 'BytesSent3',\n",
              " 'BytesReceived3',\n",
              " 'BytesSent4',\n",
              " 'BytesReceived4',\n",
              " 'BytesSent5',\n",
              " 'BytesReceived5',\n",
              " 'BytesSent6',\n",
              " 'BytesReceived6',\n",
              " 'BytesSent7',\n",
              " 'BytesReceived7',\n",
              " 'BytesSent8',\n",
              " 'BytesSent9',\n",
              " 'BytesReceived9',\n",
              " 'BytesSent12',\n",
              " 'BytesSent13',\n",
              " 'BytesSent15',\n",
              " 'BytesSent25',\n",
              " 'BytesReceived25',\n",
              " 'PlaybackProgress',\n",
              " 'Length',\n",
              " 'BufferHealth',\n",
              " 'KBytesReceived_log',\n",
              " 'BytesSent_log']"
            ]
          },
          "metadata": {},
          "execution_count": 58
        }
      ]
    },
    {
      "cell_type": "markdown",
      "metadata": {
        "id": "1_VuwwSkZaiO"
      },
      "source": [
        "# Cross-validation"
      ]
    },
    {
      "cell_type": "markdown",
      "metadata": {
        "id": "boUcestCZaiP"
      },
      "source": [
        "Are we sure the model with these last features is the best? Or the good results just depend on the training/test set split?"
      ]
    },
    {
      "cell_type": "code",
      "metadata": {
        "id": "xFycwXnoZaiQ",
        "scrolled": true,
        "colab": {
          "base_uri": "https://localhost:8080/"
        },
        "outputId": "c80ab64c-0a0d-4e26-8ef1-db2e983bcb39"
      },
      "source": [
        "X = df[cols_3].values\n",
        "y = df['label_num'].values\n",
        "\n",
        "\n",
        "k_fold = KFold(n_splits=5, shuffle=True, random_state=6)\n",
        "\n",
        "# Cross validation works with score, i.e., the higher the better.\n",
        "# This is why the scoring function is the negative Mean Squared Error.\n",
        "scores = cross_val_score(AndreaLinearRegression(),\n",
        "                X, y, cv=k_fold,\n",
        "                scoring='neg_mean_squared_error')\n",
        "scores"
      ],
      "execution_count": 59,
      "outputs": [
        {
          "output_type": "execute_result",
          "data": {
            "text/plain": [
              "array([-175867.83786346,  -56056.92564973, -115670.09288592,\n",
              "       -441516.67482342, -412723.78175343])"
            ]
          },
          "metadata": {},
          "execution_count": 59
        }
      ]
    },
    {
      "cell_type": "code",
      "metadata": {
        "id": "8wgPEFnAZaiT",
        "colab": {
          "base_uri": "https://localhost:8080/"
        },
        "outputId": "b5a96bba-1772-4fd2-918a-855dd9a6dd66"
      },
      "source": [
        "mse_vector = -scores\n",
        "mse_vector"
      ],
      "execution_count": 60,
      "outputs": [
        {
          "output_type": "execute_result",
          "data": {
            "text/plain": [
              "array([175867.83786346,  56056.92564973, 115670.09288592, 441516.67482342,\n",
              "       412723.78175343])"
            ]
          },
          "metadata": {},
          "execution_count": 60
        }
      ]
    },
    {
      "cell_type": "code",
      "metadata": {
        "id": "cWcr7wm1ZaiV",
        "colab": {
          "base_uri": "https://localhost:8080/"
        },
        "outputId": "7ee1148a-907b-43ba-89e1-84127c540015"
      },
      "source": [
        "avg_mse = mean(mse_vector)\n",
        "avg_mse"
      ],
      "execution_count": 61,
      "outputs": [
        {
          "output_type": "execute_result",
          "data": {
            "text/plain": [
              "240367.06259519377"
            ]
          },
          "metadata": {},
          "execution_count": 61
        }
      ]
    },
    {
      "cell_type": "code",
      "metadata": {
        "id": "TSIs1DqAZaiX",
        "scrolled": true,
        "colab": {
          "base_uri": "https://localhost:8080/"
        },
        "outputId": "1c0f022f-f359-4ab5-f0a5-e17cac024807"
      },
      "source": [
        "math.sqrt(avg_mse)"
      ],
      "execution_count": 62,
      "outputs": [
        {
          "output_type": "execute_result",
          "data": {
            "text/plain": [
              "490.2724371155223"
            ]
          },
          "metadata": {},
          "execution_count": 62
        }
      ]
    },
    {
      "cell_type": "markdown",
      "metadata": {
        "id": "c6_W2Fj2Zaia"
      },
      "source": [
        "Let's try with one feature only"
      ]
    },
    {
      "cell_type": "code",
      "metadata": {
        "id": "Tn1lase_Zaia",
        "colab": {
          "base_uri": "https://localhost:8080/"
        },
        "outputId": "1d061f92-63c2-41ea-a6d3-98d88d66c6d2"
      },
      "source": [
        "X = df['KBytesReceived_log'].values.reshape(-1,1)\n",
        "\n",
        "\n",
        "\n",
        "scores = cross_val_score(AndreaLinearRegression(),\n",
        "                X, y, cv=k_fold,\n",
        "                scoring='neg_mean_squared_error')\n",
        "math.sqrt( mean(-scores) )"
      ],
      "execution_count": 63,
      "outputs": [
        {
          "output_type": "execute_result",
          "data": {
            "text/plain": [
              "278.0436795473229"
            ]
          },
          "metadata": {},
          "execution_count": 63
        }
      ]
    },
    {
      "cell_type": "markdown",
      "metadata": {
        "id": "vvse9GEBZaid"
      },
      "source": [
        "Cross validation tells us that the univariate model is actually the best"
      ]
    },
    {
      "cell_type": "markdown",
      "metadata": {
        "id": "4C-tpJ7-Zaie"
      },
      "source": [
        "# Not important\n",
        "\n",
        "We store `cols_3` as it will be used in another notebook.\n",
        "\n",
        "`pickle` allows to serialize any python object to the hard disk."
      ]
    },
    {
      "cell_type": "code",
      "metadata": {
        "id": "xdWb3P0WZaie"
      },
      "source": [
        "filename = 'cols_3.pkl'\n",
        "outfile = open(filename,'wb')\n",
        "pickle.dump(cols_3,outfile)\n",
        "outfile.close()"
      ],
      "execution_count": 64,
      "outputs": []
    },
    {
      "cell_type": "code",
      "metadata": {
        "id": "yIa2454qZaig"
      },
      "source": [],
      "execution_count": 64,
      "outputs": []
    }
  ]
}