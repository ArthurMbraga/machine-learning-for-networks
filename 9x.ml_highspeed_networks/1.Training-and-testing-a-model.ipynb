{
  "nbformat": 4,
  "nbformat_minor": 0,
  "metadata": {
    "colab": {
      "name": "Training and testing an MLP.ipynb",
      "provenance": [],
      "include_colab_link": true
    },
    "kernelspec": {
      "display_name": "Python 3",
      "language": "python",
      "name": "python3"
    },
    "language_info": {
      "codemirror_mode": {
        "name": "ipython",
        "version": 3
      },
      "file_extension": ".py",
      "mimetype": "text/x-python",
      "name": "python",
      "nbconvert_exporter": "python",
      "pygments_lexer": "ipython3",
      "version": "3.6.8"
    },
    "accelerator": "TPU"
  },
  "cells": [
    {
      "cell_type": "markdown",
      "metadata": {
        "id": "view-in-github",
        "colab_type": "text"
      },
      "source": [
        "<a href=\"https://colab.research.google.com/github/andreaaraldo/machine-learning-for-networks/blob/master/9x.ml_highspeed_networks/1.Training-and-testing-a-model.ipynb\" target=\"_parent\"><img src=\"https://colab.research.google.com/assets/colab-badge.svg\" alt=\"Open In Colab\"/></a>"
      ]
    },
    {
      "cell_type": "code",
      "metadata": {
        "id": "dRBJhnfFNx-b",
        "colab": {
          "base_uri": "https://localhost:8080/"
        },
        "outputId": "e04cb73b-6e55-4c38-9a31-6f5963f8a8f3"
      },
      "source": [
        "import pandas as pd\n",
        "import numpy as np\n",
        "\n",
        "from sklearn.linear_model import LogisticRegression\n",
        "from sklearn.metrics import accuracy_score\n",
        "from sklearn.utils import shuffle\n",
        "from sklearn.model_selection import train_test_split\n",
        "from sklearn.preprocessing import MinMaxScaler\n",
        "\n",
        "\n",
        "import pickle # To save the model\n",
        "from functools import partial\n",
        "import random\n",
        "\n",
        "\n",
        "\n",
        "# The following is to be able to mount Google Drive\n",
        "from google.colab import drive\n",
        "\n",
        "\n",
        "# We import a function I prepared for you in the course library\n",
        "! wget https://raw.githubusercontent.com/andreaaraldo/machine-learning-for-networks/master/course_library/visualization.py\n",
        "from visualization import plot_conf_mat\n",
        "\n",
        "\n",
        "from typing import List\n",
        "\n",
        "import tensorflow as tf\n",
        "import tensorflow.keras as keras\n",
        "from tensorflow.keras.layers import Dense\n",
        "from tensorflow.keras.models import Sequential, load_model\n",
        "from tensorflow.keras.utils import plot_model\n",
        "from tensorflow.keras.callbacks import ModelCheckpoint, CSVLogger\n",
        "\n",
        "\n",
        "# The following library is to plot the loss during training\n",
        "# https://github.com/stared/livelossplot\n",
        "! pip install livelossplot\n",
        "from livelossplot import PlotLossesKerasTF\n",
        "\n",
        "\n",
        "import os\n",
        "from os.path import isfile"
      ],
      "execution_count": 1,
      "outputs": [
        {
          "output_type": "stream",
          "name": "stdout",
          "text": [
            "--2022-02-14 09:48:57--  https://raw.githubusercontent.com/andreaaraldo/machine-learning-for-networks/master/course_library/visualization.py\n",
            "Resolving raw.githubusercontent.com (raw.githubusercontent.com)... 185.199.108.133, 185.199.109.133, 185.199.110.133, ...\n",
            "Connecting to raw.githubusercontent.com (raw.githubusercontent.com)|185.199.108.133|:443... connected.\n",
            "HTTP request sent, awaiting response... 200 OK\n",
            "Length: 13008 (13K) [text/plain]\n",
            "Saving to: ‘visualization.py’\n",
            "\n",
            "\rvisualization.py      0%[                    ]       0  --.-KB/s               \rvisualization.py    100%[===================>]  12.70K  --.-KB/s    in 0s      \n",
            "\n",
            "2022-02-14 09:48:57 (107 MB/s) - ‘visualization.py’ saved [13008/13008]\n",
            "\n",
            "Collecting livelossplot\n",
            "  Downloading livelossplot-0.5.4-py3-none-any.whl (22 kB)\n",
            "Requirement already satisfied: ipython in /usr/local/lib/python3.7/dist-packages (from livelossplot) (5.5.0)\n",
            "Requirement already satisfied: matplotlib in /usr/local/lib/python3.7/dist-packages (from livelossplot) (3.2.2)\n",
            "Requirement already satisfied: bokeh in /usr/local/lib/python3.7/dist-packages (from livelossplot) (2.3.3)\n",
            "Requirement already satisfied: typing-extensions>=3.7.4 in /usr/local/lib/python3.7/dist-packages (from bokeh->livelossplot) (3.10.0.2)\n",
            "Requirement already satisfied: numpy>=1.11.3 in /usr/local/lib/python3.7/dist-packages (from bokeh->livelossplot) (1.19.5)\n",
            "Requirement already satisfied: python-dateutil>=2.1 in /usr/local/lib/python3.7/dist-packages (from bokeh->livelossplot) (2.8.2)\n",
            "Requirement already satisfied: packaging>=16.8 in /usr/local/lib/python3.7/dist-packages (from bokeh->livelossplot) (21.3)\n",
            "Requirement already satisfied: PyYAML>=3.10 in /usr/local/lib/python3.7/dist-packages (from bokeh->livelossplot) (3.13)\n",
            "Requirement already satisfied: Jinja2>=2.9 in /usr/local/lib/python3.7/dist-packages (from bokeh->livelossplot) (2.11.3)\n",
            "Requirement already satisfied: tornado>=5.1 in /usr/local/lib/python3.7/dist-packages (from bokeh->livelossplot) (5.1.1)\n",
            "Requirement already satisfied: pillow>=7.1.0 in /usr/local/lib/python3.7/dist-packages (from bokeh->livelossplot) (7.1.2)\n",
            "Requirement already satisfied: MarkupSafe>=0.23 in /usr/local/lib/python3.7/dist-packages (from Jinja2>=2.9->bokeh->livelossplot) (2.0.1)\n",
            "Requirement already satisfied: pyparsing!=3.0.5,>=2.0.2 in /usr/local/lib/python3.7/dist-packages (from packaging>=16.8->bokeh->livelossplot) (3.0.7)\n",
            "Requirement already satisfied: six>=1.5 in /usr/local/lib/python3.7/dist-packages (from python-dateutil>=2.1->bokeh->livelossplot) (1.15.0)\n",
            "Requirement already satisfied: pexpect in /usr/local/lib/python3.7/dist-packages (from ipython->livelossplot) (4.8.0)\n",
            "Requirement already satisfied: simplegeneric>0.8 in /usr/local/lib/python3.7/dist-packages (from ipython->livelossplot) (0.8.1)\n",
            "Requirement already satisfied: decorator in /usr/local/lib/python3.7/dist-packages (from ipython->livelossplot) (4.4.2)\n",
            "Requirement already satisfied: traitlets>=4.2 in /usr/local/lib/python3.7/dist-packages (from ipython->livelossplot) (5.1.1)\n",
            "Requirement already satisfied: pygments in /usr/local/lib/python3.7/dist-packages (from ipython->livelossplot) (2.6.1)\n",
            "Requirement already satisfied: prompt-toolkit<2.0.0,>=1.0.4 in /usr/local/lib/python3.7/dist-packages (from ipython->livelossplot) (1.0.18)\n",
            "Requirement already satisfied: pickleshare in /usr/local/lib/python3.7/dist-packages (from ipython->livelossplot) (0.7.5)\n",
            "Requirement already satisfied: setuptools>=18.5 in /usr/local/lib/python3.7/dist-packages (from ipython->livelossplot) (57.4.0)\n",
            "Requirement already satisfied: wcwidth in /usr/local/lib/python3.7/dist-packages (from prompt-toolkit<2.0.0,>=1.0.4->ipython->livelossplot) (0.2.5)\n",
            "Requirement already satisfied: cycler>=0.10 in /usr/local/lib/python3.7/dist-packages (from matplotlib->livelossplot) (0.11.0)\n",
            "Requirement already satisfied: kiwisolver>=1.0.1 in /usr/local/lib/python3.7/dist-packages (from matplotlib->livelossplot) (1.3.2)\n",
            "Requirement already satisfied: ptyprocess>=0.5 in /usr/local/lib/python3.7/dist-packages (from pexpect->ipython->livelossplot) (0.7.0)\n",
            "Installing collected packages: livelossplot\n",
            "Successfully installed livelossplot-0.5.4\n"
          ]
        }
      ]
    },
    {
      "cell_type": "markdown",
      "metadata": {
        "id": "J6CXPBcNbnOp"
      },
      "source": [
        "# Download the dataset and train/test split"
      ]
    },
    {
      "cell_type": "markdown",
      "metadata": {
        "id": "iUWKkvOYXik2"
      },
      "source": [
        "Load the dataset"
      ]
    },
    {
      "cell_type": "code",
      "metadata": {
        "id": "m10tUo-bXkli",
        "colab": {
          "base_uri": "https://localhost:8080/"
        },
        "outputId": "ff50081e-e075-4a9c-f3c9-208261018183"
      },
      "source": [
        "! wget https://raw.githubusercontent.com/andreaaraldo/machine-learning-for-networks/master/9x.ml_highspeed_networks/lowdataset.csv\n",
        "! wget https://raw.githubusercontent.com/andreaaraldo/machine-learning-for-networks/master/9x.ml_highspeed_networks/highdataset.csv\n",
        "! wget https://raw.githubusercontent.com/andreaaraldo/machine-learning-for-networks/master/9x.ml_highspeed_networks/fulldataset.csv\n"
      ],
      "execution_count": 2,
      "outputs": [
        {
          "output_type": "stream",
          "name": "stdout",
          "text": [
            "--2022-02-14 09:49:12--  https://raw.githubusercontent.com/andreaaraldo/machine-learning-for-networks/master/9x.ml_highspeed_networks/lowdataset.csv\n",
            "Resolving raw.githubusercontent.com (raw.githubusercontent.com)... 185.199.109.133, 185.199.108.133, 185.199.111.133, ...\n",
            "Connecting to raw.githubusercontent.com (raw.githubusercontent.com)|185.199.109.133|:443... connected.\n",
            "HTTP request sent, awaiting response... 200 OK\n",
            "Length: 261162 (255K) [text/plain]\n",
            "Saving to: ‘lowdataset.csv’\n",
            "\n",
            "lowdataset.csv      100%[===================>] 255.04K  --.-KB/s    in 0.02s   \n",
            "\n",
            "2022-02-14 09:49:13 (11.7 MB/s) - ‘lowdataset.csv’ saved [261162/261162]\n",
            "\n",
            "--2022-02-14 09:49:13--  https://raw.githubusercontent.com/andreaaraldo/machine-learning-for-networks/master/9x.ml_highspeed_networks/highdataset.csv\n",
            "Resolving raw.githubusercontent.com (raw.githubusercontent.com)... 185.199.108.133, 185.199.109.133, 185.199.110.133, ...\n",
            "Connecting to raw.githubusercontent.com (raw.githubusercontent.com)|185.199.108.133|:443... connected.\n",
            "HTTP request sent, awaiting response... 200 OK\n",
            "Length: 267387 (261K) [text/plain]\n",
            "Saving to: ‘highdataset.csv’\n",
            "\n",
            "highdataset.csv     100%[===================>] 261.12K  --.-KB/s    in 0.03s   \n",
            "\n",
            "2022-02-14 09:49:13 (10.1 MB/s) - ‘highdataset.csv’ saved [267387/267387]\n",
            "\n",
            "--2022-02-14 09:49:13--  https://raw.githubusercontent.com/andreaaraldo/machine-learning-for-networks/master/9x.ml_highspeed_networks/fulldataset.csv\n",
            "Resolving raw.githubusercontent.com (raw.githubusercontent.com)... 185.199.108.133, 185.199.109.133, 185.199.110.133, ...\n",
            "Connecting to raw.githubusercontent.com (raw.githubusercontent.com)|185.199.108.133|:443... connected.\n",
            "HTTP request sent, awaiting response... 200 OK\n",
            "Length: 1686836 (1.6M) [text/plain]\n",
            "Saving to: ‘fulldataset.csv’\n",
            "\n",
            "fulldataset.csv     100%[===================>]   1.61M  --.-KB/s    in 0.05s   \n",
            "\n",
            "2022-02-14 09:49:14 (32.0 MB/s) - ‘fulldataset.csv’ saved [1686836/1686836]\n",
            "\n"
          ]
        }
      ]
    },
    {
      "cell_type": "code",
      "metadata": {
        "id": "pTz-hYo7Nx-v",
        "colab": {
          "base_uri": "https://localhost:8080/"
        },
        "outputId": "ae0f0eff-834c-4af7-875c-8c7ca5149498"
      },
      "source": [
        "# Read the full dataset\n",
        "full_df = pd.read_csv('fulldataset.csv')\n",
        "\n",
        "# Remove the timestamp, which does not have predictive importance\n",
        "full_df = full_df.drop(columns=[\"time\"])\n",
        "\n",
        "data = full_df.to_numpy()\n",
        "print (data)"
      ],
      "execution_count": 3,
      "outputs": [
        {
          "output_type": "stream",
          "name": "stdout",
          "text": [
            "[[1.83684800e+06 1.90327023e+08 1.16151881e+08 ... 2.59473178e+08\n",
            "  1.00265909e+02 0.00000000e+00]\n",
            " [1.85564100e+06 1.90782590e+08 1.16159726e+08 ... 2.59522865e+08\n",
            "  1.00276024e+02 0.00000000e+00]\n",
            " [1.85637300e+06 1.90688064e+08 1.16229597e+08 ... 2.59533231e+08\n",
            "  1.00281822e+02 0.00000000e+00]\n",
            " ...\n",
            " [4.63221500e+06 1.75145145e+08 9.35510160e+07 ... 2.59453245e+08\n",
            "  1.00262788e+02 2.00000000e+00]\n",
            " [4.64478900e+06 1.75105471e+08 9.33248380e+07 ... 2.59444187e+08\n",
            "  1.00259509e+02 2.00000000e+00]\n",
            " [4.63646600e+06 1.75154689e+08 9.35143800e+07 ... 2.59458785e+08\n",
            "  1.00264199e+02 2.00000000e+00]]\n"
          ]
        }
      ]
    },
    {
      "cell_type": "code",
      "metadata": {
        "id": "kQA0mgrXZxZC",
        "colab": {
          "base_uri": "https://localhost:8080/",
          "height": 322
        },
        "outputId": "803ec5cf-6a40-4363-f98d-e4361b267243"
      },
      "source": [
        "full_df.head()"
      ],
      "execution_count": 4,
      "outputs": [
        {
          "output_type": "execute_result",
          "data": {
            "text/html": [
              "\n",
              "  <div id=\"df-5cd5da98-ee48-43cd-89ab-67ac7fa45045\">\n",
              "    <div class=\"colab-df-container\">\n",
              "      <div>\n",
              "<style scoped>\n",
              "    .dataframe tbody tr th:only-of-type {\n",
              "        vertical-align: middle;\n",
              "    }\n",
              "\n",
              "    .dataframe tbody tr th {\n",
              "        vertical-align: top;\n",
              "    }\n",
              "\n",
              "    .dataframe thead th {\n",
              "        text-align: right;\n",
              "    }\n",
              "</style>\n",
              "<table border=\"1\" class=\"dataframe\">\n",
              "  <thead>\n",
              "    <tr style=\"text-align: right;\">\n",
              "      <th></th>\n",
              "      <th>L1-dcache-load-misses</th>\n",
              "      <th>L1-dcache-loads</th>\n",
              "      <th>L1-dcache-stores</th>\n",
              "      <th>L1-icache-load-misses</th>\n",
              "      <th>LLC-load-misses</th>\n",
              "      <th>LLC-loads</th>\n",
              "      <th>LLC-store-misses</th>\n",
              "      <th>LLC-stores</th>\n",
              "      <th>branch-load-misses</th>\n",
              "      <th>branch-misses</th>\n",
              "      <th>branches</th>\n",
              "      <th>bus-cycles</th>\n",
              "      <th>cache-misses</th>\n",
              "      <th>cache-references</th>\n",
              "      <th>context-switches</th>\n",
              "      <th>cpu-clock</th>\n",
              "      <th>cycles</th>\n",
              "      <th>dTLB-load-misses</th>\n",
              "      <th>dTLB-store-misses</th>\n",
              "      <th>dTLB-stores</th>\n",
              "      <th>iTLB-load-misses</th>\n",
              "      <th>iTLB-loads</th>\n",
              "      <th>instructions</th>\n",
              "      <th>minor-faults</th>\n",
              "      <th>node-load-misses</th>\n",
              "      <th>node-loads</th>\n",
              "      <th>node-store-misses</th>\n",
              "      <th>node-stores</th>\n",
              "      <th>page-faults</th>\n",
              "      <th>ref-cycles</th>\n",
              "      <th>task-clock</th>\n",
              "      <th>label</th>\n",
              "    </tr>\n",
              "  </thead>\n",
              "  <tbody>\n",
              "    <tr>\n",
              "      <th>0</th>\n",
              "      <td>1836848.0</td>\n",
              "      <td>190327023.0</td>\n",
              "      <td>116151881.0</td>\n",
              "      <td>31680.0</td>\n",
              "      <td>301.0</td>\n",
              "      <td>272831.0</td>\n",
              "      <td>251.0</td>\n",
              "      <td>155393.0</td>\n",
              "      <td>171640.0</td>\n",
              "      <td>172007.0</td>\n",
              "      <td>105852681.0</td>\n",
              "      <td>9979685.0</td>\n",
              "      <td>597.0</td>\n",
              "      <td>450842.0</td>\n",
              "      <td>0.0</td>\n",
              "      <td>100.265610</td>\n",
              "      <td>259323485.0</td>\n",
              "      <td>1930.0</td>\n",
              "      <td>1003.0</td>\n",
              "      <td>116268401.0</td>\n",
              "      <td>2595.0</td>\n",
              "      <td>8.0</td>\n",
              "      <td>614259959.0</td>\n",
              "      <td>0.0</td>\n",
              "      <td>169.0</td>\n",
              "      <td>150.0</td>\n",
              "      <td>50.0</td>\n",
              "      <td>213.0</td>\n",
              "      <td>0.0</td>\n",
              "      <td>259473178.0</td>\n",
              "      <td>100.265909</td>\n",
              "      <td>0</td>\n",
              "    </tr>\n",
              "    <tr>\n",
              "      <th>1</th>\n",
              "      <td>1855641.0</td>\n",
              "      <td>190782590.0</td>\n",
              "      <td>116159726.0</td>\n",
              "      <td>31550.0</td>\n",
              "      <td>288.0</td>\n",
              "      <td>273045.0</td>\n",
              "      <td>259.0</td>\n",
              "      <td>154536.0</td>\n",
              "      <td>173760.0</td>\n",
              "      <td>173161.0</td>\n",
              "      <td>105824138.0</td>\n",
              "      <td>9979835.0</td>\n",
              "      <td>602.0</td>\n",
              "      <td>454711.0</td>\n",
              "      <td>0.0</td>\n",
              "      <td>100.276363</td>\n",
              "      <td>259527811.0</td>\n",
              "      <td>1968.0</td>\n",
              "      <td>1028.0</td>\n",
              "      <td>116231409.0</td>\n",
              "      <td>2557.0</td>\n",
              "      <td>0.0</td>\n",
              "      <td>614006400.0</td>\n",
              "      <td>0.0</td>\n",
              "      <td>175.0</td>\n",
              "      <td>125.0</td>\n",
              "      <td>50.0</td>\n",
              "      <td>238.0</td>\n",
              "      <td>0.0</td>\n",
              "      <td>259522865.0</td>\n",
              "      <td>100.276024</td>\n",
              "      <td>0</td>\n",
              "    </tr>\n",
              "    <tr>\n",
              "      <th>2</th>\n",
              "      <td>1856373.0</td>\n",
              "      <td>190688064.0</td>\n",
              "      <td>116229597.0</td>\n",
              "      <td>30507.0</td>\n",
              "      <td>251.0</td>\n",
              "      <td>272370.0</td>\n",
              "      <td>251.0</td>\n",
              "      <td>154825.0</td>\n",
              "      <td>170987.0</td>\n",
              "      <td>170923.0</td>\n",
              "      <td>105932173.0</td>\n",
              "      <td>9980286.0</td>\n",
              "      <td>657.0</td>\n",
              "      <td>451996.0</td>\n",
              "      <td>0.0</td>\n",
              "      <td>100.282061</td>\n",
              "      <td>259493612.0</td>\n",
              "      <td>1981.0</td>\n",
              "      <td>1040.0</td>\n",
              "      <td>116288889.0</td>\n",
              "      <td>2595.0</td>\n",
              "      <td>8.0</td>\n",
              "      <td>614749577.0</td>\n",
              "      <td>0.0</td>\n",
              "      <td>257.0</td>\n",
              "      <td>94.0</td>\n",
              "      <td>25.0</td>\n",
              "      <td>213.0</td>\n",
              "      <td>0.0</td>\n",
              "      <td>259533231.0</td>\n",
              "      <td>100.281822</td>\n",
              "      <td>0</td>\n",
              "    </tr>\n",
              "    <tr>\n",
              "      <th>3</th>\n",
              "      <td>1855415.0</td>\n",
              "      <td>190785345.0</td>\n",
              "      <td>116289893.0</td>\n",
              "      <td>32535.0</td>\n",
              "      <td>226.0</td>\n",
              "      <td>273049.0</td>\n",
              "      <td>251.0</td>\n",
              "      <td>154438.0</td>\n",
              "      <td>170998.0</td>\n",
              "      <td>170960.0</td>\n",
              "      <td>105974902.0</td>\n",
              "      <td>9983166.0</td>\n",
              "      <td>1374.0</td>\n",
              "      <td>454628.0</td>\n",
              "      <td>0.0</td>\n",
              "      <td>100.269016</td>\n",
              "      <td>259464166.0</td>\n",
              "      <td>2031.0</td>\n",
              "      <td>1015.0</td>\n",
              "      <td>116218953.0</td>\n",
              "      <td>2645.0</td>\n",
              "      <td>0.0</td>\n",
              "      <td>614927834.0</td>\n",
              "      <td>0.0</td>\n",
              "      <td>157.0</td>\n",
              "      <td>138.0</td>\n",
              "      <td>13.0</td>\n",
              "      <td>226.0</td>\n",
              "      <td>0.0</td>\n",
              "      <td>259571508.0</td>\n",
              "      <td>100.270504</td>\n",
              "      <td>0</td>\n",
              "    </tr>\n",
              "    <tr>\n",
              "      <th>4</th>\n",
              "      <td>1844978.0</td>\n",
              "      <td>190653473.0</td>\n",
              "      <td>116246239.0</td>\n",
              "      <td>31360.0</td>\n",
              "      <td>363.0</td>\n",
              "      <td>270856.0</td>\n",
              "      <td>259.0</td>\n",
              "      <td>154519.0</td>\n",
              "      <td>172861.0</td>\n",
              "      <td>172986.0</td>\n",
              "      <td>105931477.0</td>\n",
              "      <td>9978938.0</td>\n",
              "      <td>1325.0</td>\n",
              "      <td>452995.0</td>\n",
              "      <td>0.0</td>\n",
              "      <td>100.271755</td>\n",
              "      <td>259535337.0</td>\n",
              "      <td>2018.0</td>\n",
              "      <td>978.0</td>\n",
              "      <td>116317169.0</td>\n",
              "      <td>2914.0</td>\n",
              "      <td>0.0</td>\n",
              "      <td>614366676.0</td>\n",
              "      <td>0.0</td>\n",
              "      <td>263.0</td>\n",
              "      <td>489.0</td>\n",
              "      <td>50.0</td>\n",
              "      <td>238.0</td>\n",
              "      <td>0.0</td>\n",
              "      <td>259490859.0</td>\n",
              "      <td>100.270495</td>\n",
              "      <td>0</td>\n",
              "    </tr>\n",
              "  </tbody>\n",
              "</table>\n",
              "</div>\n",
              "      <button class=\"colab-df-convert\" onclick=\"convertToInteractive('df-5cd5da98-ee48-43cd-89ab-67ac7fa45045')\"\n",
              "              title=\"Convert this dataframe to an interactive table.\"\n",
              "              style=\"display:none;\">\n",
              "        \n",
              "  <svg xmlns=\"http://www.w3.org/2000/svg\" height=\"24px\"viewBox=\"0 0 24 24\"\n",
              "       width=\"24px\">\n",
              "    <path d=\"M0 0h24v24H0V0z\" fill=\"none\"/>\n",
              "    <path d=\"M18.56 5.44l.94 2.06.94-2.06 2.06-.94-2.06-.94-.94-2.06-.94 2.06-2.06.94zm-11 1L8.5 8.5l.94-2.06 2.06-.94-2.06-.94L8.5 2.5l-.94 2.06-2.06.94zm10 10l.94 2.06.94-2.06 2.06-.94-2.06-.94-.94-2.06-.94 2.06-2.06.94z\"/><path d=\"M17.41 7.96l-1.37-1.37c-.4-.4-.92-.59-1.43-.59-.52 0-1.04.2-1.43.59L10.3 9.45l-7.72 7.72c-.78.78-.78 2.05 0 2.83L4 21.41c.39.39.9.59 1.41.59.51 0 1.02-.2 1.41-.59l7.78-7.78 2.81-2.81c.8-.78.8-2.07 0-2.86zM5.41 20L4 18.59l7.72-7.72 1.47 1.35L5.41 20z\"/>\n",
              "  </svg>\n",
              "      </button>\n",
              "      \n",
              "  <style>\n",
              "    .colab-df-container {\n",
              "      display:flex;\n",
              "      flex-wrap:wrap;\n",
              "      gap: 12px;\n",
              "    }\n",
              "\n",
              "    .colab-df-convert {\n",
              "      background-color: #E8F0FE;\n",
              "      border: none;\n",
              "      border-radius: 50%;\n",
              "      cursor: pointer;\n",
              "      display: none;\n",
              "      fill: #1967D2;\n",
              "      height: 32px;\n",
              "      padding: 0 0 0 0;\n",
              "      width: 32px;\n",
              "    }\n",
              "\n",
              "    .colab-df-convert:hover {\n",
              "      background-color: #E2EBFA;\n",
              "      box-shadow: 0px 1px 2px rgba(60, 64, 67, 0.3), 0px 1px 3px 1px rgba(60, 64, 67, 0.15);\n",
              "      fill: #174EA6;\n",
              "    }\n",
              "\n",
              "    [theme=dark] .colab-df-convert {\n",
              "      background-color: #3B4455;\n",
              "      fill: #D2E3FC;\n",
              "    }\n",
              "\n",
              "    [theme=dark] .colab-df-convert:hover {\n",
              "      background-color: #434B5C;\n",
              "      box-shadow: 0px 1px 3px 1px rgba(0, 0, 0, 0.15);\n",
              "      filter: drop-shadow(0px 1px 2px rgba(0, 0, 0, 0.3));\n",
              "      fill: #FFFFFF;\n",
              "    }\n",
              "  </style>\n",
              "\n",
              "      <script>\n",
              "        const buttonEl =\n",
              "          document.querySelector('#df-5cd5da98-ee48-43cd-89ab-67ac7fa45045 button.colab-df-convert');\n",
              "        buttonEl.style.display =\n",
              "          google.colab.kernel.accessAllowed ? 'block' : 'none';\n",
              "\n",
              "        async function convertToInteractive(key) {\n",
              "          const element = document.querySelector('#df-5cd5da98-ee48-43cd-89ab-67ac7fa45045');\n",
              "          const dataTable =\n",
              "            await google.colab.kernel.invokeFunction('convertToInteractive',\n",
              "                                                     [key], {});\n",
              "          if (!dataTable) return;\n",
              "\n",
              "          const docLinkHtml = 'Like what you see? Visit the ' +\n",
              "            '<a target=\"_blank\" href=https://colab.research.google.com/notebooks/data_table.ipynb>data table notebook</a>'\n",
              "            + ' to learn more about interactive tables.';\n",
              "          element.innerHTML = '';\n",
              "          dataTable['output_type'] = 'display_data';\n",
              "          await google.colab.output.renderOutput(dataTable, element);\n",
              "          const docLink = document.createElement('div');\n",
              "          docLink.innerHTML = docLinkHtml;\n",
              "          element.appendChild(docLink);\n",
              "        }\n",
              "      </script>\n",
              "    </div>\n",
              "  </div>\n",
              "  "
            ],
            "text/plain": [
              "   L1-dcache-load-misses  L1-dcache-loads  ...  task-clock  label\n",
              "0              1836848.0      190327023.0  ...  100.265909      0\n",
              "1              1855641.0      190782590.0  ...  100.276024      0\n",
              "2              1856373.0      190688064.0  ...  100.281822      0\n",
              "3              1855415.0      190785345.0  ...  100.270504      0\n",
              "4              1844978.0      190653473.0  ...  100.270495      0\n",
              "\n",
              "[5 rows x 32 columns]"
            ]
          },
          "metadata": {},
          "execution_count": 4
        }
      ]
    },
    {
      "cell_type": "code",
      "metadata": {
        "id": "wdr7yrCrcl-I",
        "colab": {
          "base_uri": "https://localhost:8080/"
        },
        "outputId": "8633543b-f940-453b-c235-6ab2b57d05f9"
      },
      "source": [
        "print(\"samples and columns\", full_df.shape)\n",
        "print(\"Possible labels \", np.unique(full_df['label']) )"
      ],
      "execution_count": 5,
      "outputs": [
        {
          "output_type": "stream",
          "name": "stdout",
          "text": [
            "samples and columns (5824, 32)\n",
            "Possible labels  [0 1 2]\n"
          ]
        }
      ]
    },
    {
      "cell_type": "code",
      "metadata": {
        "id": "-GsuWyTFKez7"
      },
      "source": [
        "train, test = train_test_split(data, test_size=0.2, shuffle=True, random_state=1 )"
      ],
      "execution_count": 6,
      "outputs": []
    },
    {
      "cell_type": "markdown",
      "metadata": {
        "id": "kC4hctiCcCZr"
      },
      "source": [
        "# Pre-processing"
      ]
    },
    {
      "cell_type": "code",
      "metadata": {
        "id": "Bvw0Rj_WNx_G"
      },
      "source": [
        "# We separate the last column in \n",
        "train_x, train_y = np.hsplit(train, [train.shape[1] - 1])\n",
        "train_y = train_y.reshape(-1).astype(int)\n",
        "\n",
        "test_x, test_y = np.hsplit(test, [test.shape[1] - 1])\n",
        "test_y = test_y.reshape(-1).astype(int)"
      ],
      "execution_count": 7,
      "outputs": []
    },
    {
      "cell_type": "markdown",
      "metadata": {
        "id": "mG3QQz4icEsJ"
      },
      "source": [
        "We apply Min-Max scaler. In this code we do it by hand, but we could have done it also by directly using `sklearn.preprocessing.MinMaxScaler`."
      ]
    },
    {
      "cell_type": "code",
      "metadata": {
        "id": "4b-YT34ENx_M"
      },
      "source": [
        "min = train_x.min(axis=0)\n",
        "max = train_x.max(axis=0)\n",
        "\n",
        "train_x = (train_x - min)/(max - min)\n",
        "test_x = (test_x - min)/(max - min)"
      ],
      "execution_count": 8,
      "outputs": []
    },
    {
      "cell_type": "markdown",
      "metadata": {
        "id": "C4DLhKZnKxxD"
      },
      "source": [
        "# Google Drive"
      ]
    },
    {
      "cell_type": "markdown",
      "metadata": {
        "id": "WkrrtK8jPlvd"
      },
      "source": [
        "Use the following code (modify it with the names of your folders) to attach your google drive, where you will store your models, to be used later in the testbed notebook."
      ]
    },
    {
      "cell_type": "code",
      "metadata": {
        "id": "f8SLPKQ6PIhI",
        "colab": {
          "base_uri": "https://localhost:8080/"
        },
        "outputId": "3b3de1af-659b-4af6-ee44-78bc6d90bdfa"
      },
      "source": [
        "mount_point = '/content/gdrive' # Always the same, don't change it\n",
        "drive.mount(mount_point, force_remount=True)\n",
        "drive_path = mount_point + '/My Drive/' # Always the same, don't change it\n",
        "\n",
        "# Replace the following folder with some folder inside your google drive\n",
        "my_path = drive_path + \\\n",
        "  'tsp/teaching/data-science-for-networks/img-from-code/09.highspeed-net/'"
      ],
      "execution_count": 9,
      "outputs": [
        {
          "output_type": "stream",
          "name": "stdout",
          "text": [
            "Mounted at /content/gdrive\n"
          ]
        }
      ]
    },
    {
      "cell_type": "markdown",
      "metadata": {
        "id": "_HYIodkjdL6w"
      },
      "source": [
        "# Logistic Regression"
      ]
    },
    {
      "cell_type": "code",
      "metadata": {
        "id": "6MIcuYmaQY23",
        "colab": {
          "base_uri": "https://localhost:8080/",
          "height": 671
        },
        "outputId": "287b6dc6-7a96-4ad2-ae02-37f544a33540"
      },
      "source": [
        "model = LogisticRegression(multi_class=\"multinomial\", solver=\"lbfgs\", max_iter=600)\n",
        "model.fit(train_x, train_y)\n",
        "y_pred = model.predict(test_x)\n",
        "class_names = np.array([\"low\", \"mid\", \"high\"] )\n",
        "plot_conf_mat(test_y, y_pred, class_names)\n",
        "print(\"The accuracy is \", accuracy_score(test_y, y_pred) )"
      ],
      "execution_count": 10,
      "outputs": [
        {
          "output_type": "stream",
          "name": "stdout",
          "text": [
            "Normalized confusion matrix\n",
            "[[0.99469496 0.00265252 0.00265252]\n",
            " [0.23446328 0.72033898 0.04519774]\n",
            " [0.08986175 0.1843318  0.72580645]]\n",
            "The accuracy is  0.8111587982832618\n"
          ]
        },
        {
          "output_type": "display_data",
          "data": {
            "image/png": "[encoded data removed]",
            "text/plain": [
              "<Figure size 576x576 with 2 Axes>"
            ]
          },
          "metadata": {
            "needs_background": "light"
          }
        }
      ]
    },
    {
      "cell_type": "markdown",
      "metadata": {
        "id": "_4_c3nN-7oa9"
      },
      "source": [
        "Save the model"
      ]
    },
    {
      "cell_type": "code",
      "metadata": {
        "id": "MwmwCV4z8TTr"
      },
      "source": [
        "with open(my_path+\"logistic-reg.pkl\", \"wb\") as dump_file:\n",
        "  pickle.dump(model, dump_file)"
      ],
      "execution_count": 11,
      "outputs": []
    },
    {
      "cell_type": "markdown",
      "metadata": {
        "id": "drqzhCQTW8dy"
      },
      "source": [
        "# 1st Neural Network\n",
        "\n",
        "If you use Neural Networks, in Colab do \"Runtime > Change Runtime type\" to TPU or GPU.\n",
        "\n",
        "The functions `build_model()` and `train_model(..)` are very similar to what you encountered in the [notebooks on Neural Networks](https://github.com/andreaaraldo/machine-learning-for-networks/tree/master/04.neural_networks)."
      ]
    },
    {
      "cell_type": "code",
      "metadata": {
        "id": "dqxl31dhG7bD"
      },
      "source": [
        "def make_sequential_model(sample_size, layer_sizes, \n",
        "                          hidden_activation_function=\"relu\", \n",
        "                          out_activation_function=\"softmax\",\n",
        "                          loss_fun=\"sparse_categorical_crossentropy\",\n",
        "                          learning_rate=0.01,\n",
        "                          regularization_coeff=0,\n",
        "                          metrics=['accuracy']):\n",
        "  \"\"\"\n",
        "  Makes a sequential model.\n",
        "  Parameters\n",
        "  -------------------------\n",
        "  sample_size: integer\n",
        "    The number of features of the samples\n",
        "\n",
        "  layer_sizes: list\n",
        "    List of the size of the neural network layers. For instance, if\n",
        "    layer_sizes = [8, 6, 4], the 1st layer will have 5 neurons, the 2nd 6 etc.\n",
        "    Attention: the size of the last layer (the output layer) is not arbitrary.\n",
        "    In case of monodimensional regression, it must be 1.\n",
        "    When using categorical_crossentropy, it must be the same as the number of \n",
        "    categories.\n",
        "    When using binary_crossentropy, it must be 1.\n",
        "\n",
        "  inner_activation_function: string\n",
        "    Activation function used in all layers, except the last one.\n",
        "    Ex: \"relu\"\n",
        "\n",
        "  out_activation_function: string\n",
        "    Activation function of the last layer.\n",
        "    Ex. \"softmax\"\n",
        "\n",
        "  loss_fun: string\n",
        "    The loss function we want to minimize. Ex. categorical_crossentropy\n",
        "\n",
        "  learning_rate: float\n",
        "    Ex. 0.01\n",
        "\n",
        "  regularization_coeff: float\n",
        "    Coefficient of ridge regression\n",
        "    Ex. 0.01\n",
        "\n",
        "  metrics: list of strings\n",
        "    The metrics we want to show during training. Ex. ['accuracy']\n",
        "  \"\"\"\n",
        "\n",
        "  model = Sequential()\n",
        "\n",
        "\n",
        "  # In the next code we will use `partial`, which is a function of the ptyhon\n",
        "  # library functools, which allows to define a class, identical to another\n",
        "  # class but with some different default values.\n",
        "  # In our case we define MyDenseLayer equal to the standard keras class\n",
        "  # `Dense`, which implements a simple neural network layer, specifying \n",
        "  # two default values: one for the activation function, and another for the\n",
        "  # regularization\n",
        "\n",
        "  if (regularization_coeff==0):\n",
        "    # No regularization\n",
        "    MyDenseLayer = partial(Dense, activation=hidden_activation_function)\n",
        "  else:\n",
        "    MyDenseLayer = partial(Dense, activation=hidden_activation_function,\n",
        "                         kernel_regularizer=keras.regularizers.l2(regularization_coeff))\n",
        "\n",
        "  # Add the input layer\n",
        "  model.add( MyDenseLayer(layer_sizes[0], \n",
        "                  input_dim = sample_size) )\n",
        "  \n",
        "  # Add hidden layers\n",
        "  for i in range(1,len(layer_sizes)-1 ): # We iterate from the 2nd element to the penultimate\n",
        "    model.add( MyDenseLayer(layer_sizes[i]) )\n",
        "    \n",
        "  # Add output layer\n",
        "  model.add( Dense(layer_sizes[-1],\n",
        "                  activation = out_activation_function) )\n",
        "  \n",
        "\n",
        "  model.compile(loss=loss_fun, \n",
        "              optimizer=keras.optimizers.Adam(lr=learning_rate) ,\n",
        "              metrics=metrics)\n",
        "  \n",
        "  return model\n",
        "\n",
        "\n",
        "def enforce_reproducibility(seed):\n",
        "  tf.keras.backend.clear_session()\n",
        "\n",
        "  # To know more: \n",
        "  #       https://machinelearningmastery.com/reproducible-results-neural-networks-keras/\n",
        "  random.seed(seed)\n",
        "  np.random.seed(random.randint(0,300000))\n",
        "  tf.random.set_seed(random.randint(0,300000))\n",
        "\n",
        "\n",
        "def train_model(model, nn_file, X_tr, y_tr, seed, max_epochs=1000, \n",
        "                overwrite=True, validation_split=0.2, patience=20):\n",
        "  \"\"\"\n",
        "  model: neural network model\n",
        "            It must be a compiled neural network, e.g., a model issued by the\n",
        "            function make_sequential_model(..) defined before\n",
        "\n",
        "  nn_file:  string (name of a file)\n",
        "            This file will be used to store the weights of the trained neural\n",
        "            network. Such weights are automatically stored during training \n",
        "            (thanks to the ModelCheckpoint callback (see the implementation \n",
        "            code)), so that even if the code fails in the middle of training,\n",
        "            you can resume training without starting from scratch.\n",
        "            If the file already exists, before starting training, the weights\n",
        "            in such a file will be loaded, so that we do not start training from\n",
        "            scratch, but we start already from (hopefully) good weigths.\n",
        "  \n",
        "  overwrite: boolean\n",
        "            If true, the model will be built and trained from scratch, \n",
        "            indipendent of whether nn_file exists or not.\n",
        "\n",
        "  seed: integer\n",
        "\n",
        "  X_tr: matrix\n",
        "            Feature matrix of the training set\n",
        "\n",
        "  y_tr: matrix\n",
        "            True labels of the training set\n",
        "\n",
        "  max_epochs: integer\n",
        "            Training will stop after such number of epochs\n",
        "\n",
        "  validation_split: float (between 0 and 1)\n",
        "            Fraction of training dataset that will be used as validation\n",
        "\n",
        "  patience: integer\n",
        "            Training will stop if the validation loss does not improve after the \n",
        "            specified number of epochs\n",
        "  \"\"\"\n",
        "  \n",
        "  enforce_reproducibility(seed)\n",
        "\n",
        "\n",
        "  # Before starting training, Keras divides (X_tr, y_tr) into a training subset\n",
        "  # and a validation subset. During iterations, Keras will do backpropagation\n",
        "  # in order to minimize the loss on the trainins subset, but it will monitor \n",
        "  # and also plot the loss on the validation subset.\n",
        "  # However, Keras always takes the first part of (X_tr, y_tr) as training\n",
        "  # subset and the second part as validation subset. This can be bad, in case\n",
        "  # the dataset has been created with a certain order (for instance all the \n",
        "  # samples with a certain characteristic first, and then all the others), as\n",
        "  # we instead need to train the neural network on a representative subset of \n",
        "  # samples. For this reason, we first shuffle the dataset\n",
        "  X_train, y_train = shuffle(X_tr, y_tr, random_state=seed)\n",
        "\n",
        "\n",
        "  ##################\n",
        "  #### CALLBACKS ###\n",
        "  ##################\n",
        "  # These functions are called at every epoch\n",
        "  plot_cb = PlotLossesKerasTF()  # Plots the loss\n",
        "  checkpoint_cb = ModelCheckpoint(nn_file) # Stores weights\n",
        "  logger_cb = CSVLogger(nn_file+'.csv', append=True) # Stores history\n",
        "                # see https://theailearner.com/2019/07/23/keras-callbacks-csvlogger/\n",
        "\n",
        "\n",
        "  # To stop early if we already converged\n",
        "  # See pagg 315-16 of [Ge19]\n",
        "  early_stop_cb = tf.keras.callbacks.EarlyStopping(verbose=1,\n",
        "      monitor='val_loss',\n",
        "     patience=patience, restore_best_weights=True) \n",
        "\n",
        "\n",
        "  if overwrite==True:\n",
        "    try:\n",
        "      os.remove(nn_file)\n",
        "    except OSError:\n",
        "      pass\n",
        "\n",
        "    try:\n",
        "      os.remove(nn_file+'.csv')\n",
        "    except OSError:\n",
        "      pass\n",
        "\n",
        "  if isfile(nn_file):\n",
        "    print(\"Loading pre-existing model\")\n",
        "    model = load_model(nn_file)\n",
        "\n",
        "  history = model.fit(X_train, y_train, epochs=max_epochs, \n",
        "                      callbacks = [plot_cb, checkpoint_cb, logger_cb, early_stop_cb], \n",
        "                      validation_split=validation_split )\n",
        "\n",
        "  return history"
      ],
      "execution_count": 12,
      "outputs": []
    },
    {
      "cell_type": "code",
      "metadata": {
        "id": "YiPHBaSKHnDt"
      },
      "source": [
        "sample_size = train_x.shape[1]\n",
        "num_of_classes=len(class_names)"
      ],
      "execution_count": 13,
      "outputs": []
    },
    {
      "cell_type": "code",
      "metadata": {
        "colab": {
          "base_uri": "https://localhost:8080/",
          "height": 766
        },
        "id": "Mc7OX9j8HLsj",
        "outputId": "6bcbe9b2-0c3b-4a35-8241-5fa59debb24c"
      },
      "source": [
        "nnfile = nn_file = my_path + 'nn1.h5'\n",
        "\n",
        "shallow_architecture=[20, 10, 5, num_of_classes]\n",
        "model = make_sequential_model(sample_size, shallow_architecture)\n",
        "history = train_model(model, nn_file, train_x, train_y, seed=3)"
      ],
      "execution_count": 14,
      "outputs": [
        {
          "output_type": "display_data",
          "data": {
            "image/png": "[encoded data removed]",
            "text/plain": [
              "<Figure size 864x576 with 2 Axes>"
            ]
          },
          "metadata": {
            "needs_background": "light"
          }
        },
        {
          "output_type": "stream",
          "name": "stdout",
          "text": [
            "accuracy\n",
            "\ttraining         \t (min:    0.726, max:    0.968, cur:    0.961)\n",
            "\tvalidation       \t (min:    0.843, max:    0.960, cur:    0.948)\n",
            "Loss\n",
            "\ttraining         \t (min:    0.062, max:    0.690, cur:    0.064)\n",
            "\tvalidation       \t (min:    0.075, max:    0.429, cur:    0.087)\n",
            "Restoring model weights from the end of the best epoch: 31.\n",
            "\b\b\b\b\b\b\b\b\b\b\b\b\b\b\b\b\b\b\b\b\b\b\b\b\b\b\b\b\b\b\b\b\b\b\b\b\b\b\b\b\b\b\b\b\b\b\b\b\b\b\b\b\b\b\b\b\b\b\b\b\b\b\b\b\b\b\b\b\b\b\b\b\b\b\b\b\b\b\b\b\b\b\b\b\r117/117 [==============================] - 1s 6ms/step - loss: 0.0642 - accuracy: 0.9614 - val_loss: 0.0868 - val_accuracy: 0.9485\n",
            "Epoch 00051: early stopping\n"
          ]
        }
      ]
    },
    {
      "cell_type": "code",
      "metadata": {
        "id": "7qvMwurWdTcU",
        "colab": {
          "base_uri": "https://localhost:8080/"
        },
        "outputId": "6f5bd2d4-a02b-4566-d4a6-b9df0f20f562"
      },
      "source": [
        "print(\"The trained NN model has been saved to \", nnfile)"
      ],
      "execution_count": 15,
      "outputs": [
        {
          "output_type": "stream",
          "name": "stdout",
          "text": [
            "The trained NN model has been saved to  /content/gdrive/My Drive/tsp/teaching/data-science-for-networks/img-from-code/09.highspeed-net/nn1.h5\n"
          ]
        }
      ]
    },
    {
      "cell_type": "code",
      "metadata": {
        "id": "OQPXGOiHfK7K",
        "colab": {
          "base_uri": "https://localhost:8080/",
          "height": 671
        },
        "outputId": "9be62a04-64d6-46aa-a0b2-9c9dc0afef93"
      },
      "source": [
        "y_pred_ = model.predict(test_x)\n",
        "y_pred = np.argmax(y_pred_, axis=1)\n",
        "plot_conf_mat(test_y, y_pred, class_names)\n",
        "print(\"The accuracy is \", accuracy_score(test_y, y_pred) )"
      ],
      "execution_count": 20,
      "outputs": [
        {
          "output_type": "stream",
          "name": "stdout",
          "text": [
            "Normalized confusion matrix\n",
            "[[0.9867374  0.00530504 0.00795756]\n",
            " [0.05649718 0.93785311 0.00564972]\n",
            " [0.06682028 0.01152074 0.92165899]]\n",
            "The accuracy is  0.9476394849785408\n"
          ]
        },
        {
          "output_type": "display_data",
          "data": {
            "image/png": "[encoded data removed]",
            "text/plain": [
              "<Figure size 576x576 with 2 Axes>"
            ]
          },
          "metadata": {
            "needs_background": "light"
          }
        }
      ]
    },
    {
      "cell_type": "markdown",
      "metadata": {
        "id": "nQCeJ4XRftJV"
      },
      "source": [
        "This NN performs better than the Logistic Regression. However, will it be fast enough to classify at line speed?\n",
        "\n",
        "You will have to check on the testbed notebook!"
      ]
    },
    {
      "cell_type": "markdown",
      "metadata": {
        "id": "F7xQEweVcXOB"
      },
      "source": [
        "# Your model\n",
        "\n",
        "Train your models here and dump (i.e., save) them."
      ]
    },
    {
      "cell_type": "code",
      "metadata": {
        "id": "UQ-vga2xWok7"
      },
      "source": [
        ""
      ],
      "execution_count": null,
      "outputs": []
    }
  ]
}