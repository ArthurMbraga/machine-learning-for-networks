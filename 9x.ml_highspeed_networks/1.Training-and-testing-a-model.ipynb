{
  "nbformat": 4,
  "nbformat_minor": 0,
  "metadata": {
    "colab": {
      "name": "Training and testing an MLP.ipynb",
      "provenance": [],
      "include_colab_link": true
    },
    "kernelspec": {
      "display_name": "Python 3",
      "language": "python",
      "name": "python3"
    },
    "language_info": {
      "codemirror_mode": {
        "name": "ipython",
        "version": 3
      },
      "file_extension": ".py",
      "mimetype": "text/x-python",
      "name": "python",
      "nbconvert_exporter": "python",
      "pygments_lexer": "ipython3",
      "version": "3.6.8"
    }
  },
  "cells": [
    {
      "cell_type": "markdown",
      "metadata": {
        "id": "view-in-github",
        "colab_type": "text"
      },
      "source": [
        "<a href=\"https://colab.research.google.com/github/andreaaraldo/machine-learning-for-networks/blob/master/9x.ml_highspeed_networks/1.Training-and-testing-a-model.ipynb\" target=\"_parent\"><img src=\"https://colab.research.google.com/assets/colab-badge.svg\" alt=\"Open In Colab\"/></a>"
      ]
    },
    {
      "cell_type": "code",
      "metadata": {
        "colab_type": "code",
        "id": "dRBJhnfFNx-b",
        "outputId": "70b8da1a-00e0-403a-ea19-cf320dac4b6e",
        "colab": {
          "base_uri": "https://localhost:8080/",
          "height": 214
        }
      },
      "source": [
        "import pandas as pd\n",
        "import numpy as np\n",
        "\n",
        "from sklearn.linear_model import LogisticRegression\n",
        "from sklearn.metrics import accuracy_score\n",
        "\n",
        "import pickle # To save the model\n",
        "\n",
        "\n",
        "\n",
        "# The following is to be able to mount Google Drive\n",
        "from google.colab import drive\n",
        "\n",
        "\n",
        "# We import a function I prepared for you in the course library\n",
        "! wget https://raw.githubusercontent.com/andreaaraldo/machine-learning-for-networks/master/course_library/visualization.py\n",
        "from visualization import plot_conf_mat\n",
        "\n",
        "\n",
        "from typing import List"
      ],
      "execution_count": 24,
      "outputs": [
        {
          "output_type": "stream",
          "text": [
            "--2020-05-23 14:33:59--  https://raw.githubusercontent.com/andreaaraldo/machine-learning-for-networks/master/course_library/visualization.py\n",
            "Resolving raw.githubusercontent.com (raw.githubusercontent.com)... 151.101.0.133, 151.101.64.133, 151.101.128.133, ...\n",
            "Connecting to raw.githubusercontent.com (raw.githubusercontent.com)|151.101.0.133|:443... connected.\n",
            "HTTP request sent, awaiting response... 200 OK\n",
            "Length: 13008 (13K) [text/plain]\n",
            "Saving to: ‘visualization.py.3’\n",
            "\n",
            "visualization.py.3  100%[===================>]  12.70K  --.-KB/s    in 0s      \n",
            "\n",
            "2020-05-23 14:34:00 (73.7 MB/s) - ‘visualization.py.3’ saved [13008/13008]\n",
            "\n"
          ],
          "name": "stdout"
        }
      ]
    },
    {
      "cell_type": "markdown",
      "metadata": {
        "colab_type": "text",
        "id": "J6CXPBcNbnOp"
      },
      "source": [
        "# Download the dataset and train/test split"
      ]
    },
    {
      "cell_type": "markdown",
      "metadata": {
        "colab_type": "text",
        "id": "iUWKkvOYXik2"
      },
      "source": [
        "Load the dataset"
      ]
    },
    {
      "cell_type": "code",
      "metadata": {
        "colab_type": "code",
        "id": "m10tUo-bXkli",
        "outputId": "b69ef252-bc8f-49c8-9ea3-5610dd3bf265",
        "colab": {
          "base_uri": "https://localhost:8080/",
          "height": 609
        }
      },
      "source": [
        "! wget https://raw.githubusercontent.com/andreaaraldo/machine-learning-for-networks/master/9x.ml_highspeed_networks/lowdataset.csv\n",
        "! wget https://raw.githubusercontent.com/andreaaraldo/machine-learning-for-networks/master/9x.ml_highspeed_networks/highdataset.csv\n",
        "! wget https://raw.githubusercontent.com/andreaaraldo/machine-learning-for-networks/master/9x.ml_highspeed_networks/fulldataset.csv\n"
      ],
      "execution_count": 1,
      "outputs": [
        {
          "output_type": "stream",
          "text": [
            "--2020-05-23 14:20:06--  https://raw.githubusercontent.com/andreaaraldo/machine-learning-for-networks/master/9x.ml_highspeed_networks/lowdataset.csv\n",
            "Resolving raw.githubusercontent.com (raw.githubusercontent.com)... 151.101.0.133, 151.101.64.133, 151.101.128.133, ...\n",
            "Connecting to raw.githubusercontent.com (raw.githubusercontent.com)|151.101.0.133|:443... connected.\n",
            "HTTP request sent, awaiting response... 200 OK\n",
            "Length: 261162 (255K) [text/plain]\n",
            "Saving to: ‘lowdataset.csv’\n",
            "\n",
            "lowdataset.csv      100%[===================>] 255.04K  --.-KB/s    in 0.05s   \n",
            "\n",
            "2020-05-23 14:20:10 (4.64 MB/s) - ‘lowdataset.csv’ saved [261162/261162]\n",
            "\n",
            "--2020-05-23 14:20:12--  https://raw.githubusercontent.com/andreaaraldo/machine-learning-for-networks/master/9x.ml_highspeed_networks/highdataset.csv\n",
            "Resolving raw.githubusercontent.com (raw.githubusercontent.com)... 151.101.0.133, 151.101.64.133, 151.101.128.133, ...\n",
            "Connecting to raw.githubusercontent.com (raw.githubusercontent.com)|151.101.0.133|:443... connected.\n",
            "HTTP request sent, awaiting response... 200 OK\n",
            "Length: 267387 (261K) [text/plain]\n",
            "Saving to: ‘highdataset.csv’\n",
            "\n",
            "highdataset.csv     100%[===================>] 261.12K  --.-KB/s    in 0.06s   \n",
            "\n",
            "2020-05-23 14:20:14 (4.44 MB/s) - ‘highdataset.csv’ saved [267387/267387]\n",
            "\n",
            "--2020-05-23 14:20:15--  https://raw.githubusercontent.com/andreaaraldo/machine-learning-for-networks/master/9x.ml_highspeed_networks/fulldataset.csv\n",
            "Resolving raw.githubusercontent.com (raw.githubusercontent.com)... 151.101.0.133, 151.101.64.133, 151.101.128.133, ...\n",
            "Connecting to raw.githubusercontent.com (raw.githubusercontent.com)|151.101.0.133|:443... connected.\n",
            "HTTP request sent, awaiting response... 200 OK\n",
            "Length: 1686836 (1.6M) [text/plain]\n",
            "Saving to: ‘fulldataset.csv’\n",
            "\n",
            "fulldataset.csv     100%[===================>]   1.61M  --.-KB/s    in 0.1s    \n",
            "\n",
            "2020-05-23 14:20:17 (12.5 MB/s) - ‘fulldataset.csv’ saved [1686836/1686836]\n",
            "\n"
          ],
          "name": "stdout"
        }
      ]
    },
    {
      "cell_type": "code",
      "metadata": {
        "colab_type": "code",
        "id": "k4uQp2pyYPDn",
        "outputId": "bf2156bc-d2c0-4d33-8e17-d20d4fc75b68",
        "colab": {
          "base_uri": "https://localhost:8080/",
          "height": 53
        }
      },
      "source": [
        "! ls"
      ],
      "execution_count": 3,
      "outputs": [
        {
          "output_type": "stream",
          "text": [
            "fulldataset.csv  lowdataset.csv  sample_data\n",
            "highdataset.csv  __pycache__\t visualization.py\n"
          ],
          "name": "stdout"
        }
      ]
    },
    {
      "cell_type": "code",
      "metadata": {
        "colab_type": "code",
        "id": "pTz-hYo7Nx-v",
        "outputId": "1212639f-f1b9-4e32-8d07-a2ad861ec1e7",
        "colab": {
          "base_uri": "https://localhost:8080/",
          "height": 250
        }
      },
      "source": [
        "# Read the full dataset\n",
        "full_df = pd.read_csv('fulldataset.csv')\n",
        "\n",
        "data = full_df.to_numpy()\n",
        "print (data)"
      ],
      "execution_count": 4,
      "outputs": [
        {
          "output_type": "stream",
          "text": [
            "[[2.50873265e+01 1.83684800e+06 1.90327023e+08 ... 2.59473178e+08\n",
            "  1.00265909e+02 0.00000000e+00]\n",
            " [2.51876032e+01 1.85564100e+06 1.90782590e+08 ... 2.59522865e+08\n",
            "  1.00276024e+02 0.00000000e+00]\n",
            " [2.52878841e+01 1.85637300e+06 1.90688064e+08 ... 2.59533231e+08\n",
            "  1.00281822e+02 0.00000000e+00]\n",
            " ...\n",
            " [5.97582917e+01 4.63221500e+06 1.75145145e+08 ... 2.59453245e+08\n",
            "  1.00262788e+02 2.00000000e+00]\n",
            " [5.98585523e+01 4.64478900e+06 1.75105471e+08 ... 2.59444187e+08\n",
            "  1.00259509e+02 2.00000000e+00]\n",
            " [5.99588178e+01 4.63646600e+06 1.75154689e+08 ... 2.59458785e+08\n",
            "  1.00264199e+02 2.00000000e+00]]\n"
          ],
          "name": "stdout"
        }
      ]
    },
    {
      "cell_type": "code",
      "metadata": {
        "colab_type": "code",
        "id": "kQA0mgrXZxZC",
        "outputId": "be775129-f714-431c-b5fc-8d5ecd932ce0",
        "colab": {
          "base_uri": "https://localhost:8080/",
          "height": 278
        }
      },
      "source": [
        "full_df.head()"
      ],
      "execution_count": 5,
      "outputs": [
        {
          "output_type": "execute_result",
          "data": {
            "text/html": [
              "<div>\n",
              "<style scoped>\n",
              "    .dataframe tbody tr th:only-of-type {\n",
              "        vertical-align: middle;\n",
              "    }\n",
              "\n",
              "    .dataframe tbody tr th {\n",
              "        vertical-align: top;\n",
              "    }\n",
              "\n",
              "    .dataframe thead th {\n",
              "        text-align: right;\n",
              "    }\n",
              "</style>\n",
              "<table border=\"1\" class=\"dataframe\">\n",
              "  <thead>\n",
              "    <tr style=\"text-align: right;\">\n",
              "      <th></th>\n",
              "      <th>time</th>\n",
              "      <th>L1-dcache-load-misses</th>\n",
              "      <th>L1-dcache-loads</th>\n",
              "      <th>L1-dcache-stores</th>\n",
              "      <th>L1-icache-load-misses</th>\n",
              "      <th>LLC-load-misses</th>\n",
              "      <th>LLC-loads</th>\n",
              "      <th>LLC-store-misses</th>\n",
              "      <th>LLC-stores</th>\n",
              "      <th>branch-load-misses</th>\n",
              "      <th>branch-misses</th>\n",
              "      <th>branches</th>\n",
              "      <th>bus-cycles</th>\n",
              "      <th>cache-misses</th>\n",
              "      <th>cache-references</th>\n",
              "      <th>context-switches</th>\n",
              "      <th>cpu-clock</th>\n",
              "      <th>cycles</th>\n",
              "      <th>dTLB-load-misses</th>\n",
              "      <th>dTLB-store-misses</th>\n",
              "      <th>dTLB-stores</th>\n",
              "      <th>iTLB-load-misses</th>\n",
              "      <th>iTLB-loads</th>\n",
              "      <th>instructions</th>\n",
              "      <th>minor-faults</th>\n",
              "      <th>node-load-misses</th>\n",
              "      <th>node-loads</th>\n",
              "      <th>node-store-misses</th>\n",
              "      <th>node-stores</th>\n",
              "      <th>page-faults</th>\n",
              "      <th>ref-cycles</th>\n",
              "      <th>task-clock</th>\n",
              "      <th>label</th>\n",
              "    </tr>\n",
              "  </thead>\n",
              "  <tbody>\n",
              "    <tr>\n",
              "      <th>0</th>\n",
              "      <td>25.087326</td>\n",
              "      <td>1836848.0</td>\n",
              "      <td>190327023.0</td>\n",
              "      <td>116151881.0</td>\n",
              "      <td>31680.0</td>\n",
              "      <td>301.0</td>\n",
              "      <td>272831.0</td>\n",
              "      <td>251.0</td>\n",
              "      <td>155393.0</td>\n",
              "      <td>171640.0</td>\n",
              "      <td>172007.0</td>\n",
              "      <td>105852681.0</td>\n",
              "      <td>9979685.0</td>\n",
              "      <td>597.0</td>\n",
              "      <td>450842.0</td>\n",
              "      <td>0.0</td>\n",
              "      <td>100.265610</td>\n",
              "      <td>259323485.0</td>\n",
              "      <td>1930.0</td>\n",
              "      <td>1003.0</td>\n",
              "      <td>116268401.0</td>\n",
              "      <td>2595.0</td>\n",
              "      <td>8.0</td>\n",
              "      <td>614259959.0</td>\n",
              "      <td>0.0</td>\n",
              "      <td>169.0</td>\n",
              "      <td>150.0</td>\n",
              "      <td>50.0</td>\n",
              "      <td>213.0</td>\n",
              "      <td>0.0</td>\n",
              "      <td>259473178.0</td>\n",
              "      <td>100.265909</td>\n",
              "      <td>0</td>\n",
              "    </tr>\n",
              "    <tr>\n",
              "      <th>1</th>\n",
              "      <td>25.187603</td>\n",
              "      <td>1855641.0</td>\n",
              "      <td>190782590.0</td>\n",
              "      <td>116159726.0</td>\n",
              "      <td>31550.0</td>\n",
              "      <td>288.0</td>\n",
              "      <td>273045.0</td>\n",
              "      <td>259.0</td>\n",
              "      <td>154536.0</td>\n",
              "      <td>173760.0</td>\n",
              "      <td>173161.0</td>\n",
              "      <td>105824138.0</td>\n",
              "      <td>9979835.0</td>\n",
              "      <td>602.0</td>\n",
              "      <td>454711.0</td>\n",
              "      <td>0.0</td>\n",
              "      <td>100.276363</td>\n",
              "      <td>259527811.0</td>\n",
              "      <td>1968.0</td>\n",
              "      <td>1028.0</td>\n",
              "      <td>116231409.0</td>\n",
              "      <td>2557.0</td>\n",
              "      <td>0.0</td>\n",
              "      <td>614006400.0</td>\n",
              "      <td>0.0</td>\n",
              "      <td>175.0</td>\n",
              "      <td>125.0</td>\n",
              "      <td>50.0</td>\n",
              "      <td>238.0</td>\n",
              "      <td>0.0</td>\n",
              "      <td>259522865.0</td>\n",
              "      <td>100.276024</td>\n",
              "      <td>0</td>\n",
              "    </tr>\n",
              "    <tr>\n",
              "      <th>2</th>\n",
              "      <td>25.287884</td>\n",
              "      <td>1856373.0</td>\n",
              "      <td>190688064.0</td>\n",
              "      <td>116229597.0</td>\n",
              "      <td>30507.0</td>\n",
              "      <td>251.0</td>\n",
              "      <td>272370.0</td>\n",
              "      <td>251.0</td>\n",
              "      <td>154825.0</td>\n",
              "      <td>170987.0</td>\n",
              "      <td>170923.0</td>\n",
              "      <td>105932173.0</td>\n",
              "      <td>9980286.0</td>\n",
              "      <td>657.0</td>\n",
              "      <td>451996.0</td>\n",
              "      <td>0.0</td>\n",
              "      <td>100.282061</td>\n",
              "      <td>259493612.0</td>\n",
              "      <td>1981.0</td>\n",
              "      <td>1040.0</td>\n",
              "      <td>116288889.0</td>\n",
              "      <td>2595.0</td>\n",
              "      <td>8.0</td>\n",
              "      <td>614749577.0</td>\n",
              "      <td>0.0</td>\n",
              "      <td>257.0</td>\n",
              "      <td>94.0</td>\n",
              "      <td>25.0</td>\n",
              "      <td>213.0</td>\n",
              "      <td>0.0</td>\n",
              "      <td>259533231.0</td>\n",
              "      <td>100.281822</td>\n",
              "      <td>0</td>\n",
              "    </tr>\n",
              "    <tr>\n",
              "      <th>3</th>\n",
              "      <td>25.388149</td>\n",
              "      <td>1855415.0</td>\n",
              "      <td>190785345.0</td>\n",
              "      <td>116289893.0</td>\n",
              "      <td>32535.0</td>\n",
              "      <td>226.0</td>\n",
              "      <td>273049.0</td>\n",
              "      <td>251.0</td>\n",
              "      <td>154438.0</td>\n",
              "      <td>170998.0</td>\n",
              "      <td>170960.0</td>\n",
              "      <td>105974902.0</td>\n",
              "      <td>9983166.0</td>\n",
              "      <td>1374.0</td>\n",
              "      <td>454628.0</td>\n",
              "      <td>0.0</td>\n",
              "      <td>100.269016</td>\n",
              "      <td>259464166.0</td>\n",
              "      <td>2031.0</td>\n",
              "      <td>1015.0</td>\n",
              "      <td>116218953.0</td>\n",
              "      <td>2645.0</td>\n",
              "      <td>0.0</td>\n",
              "      <td>614927834.0</td>\n",
              "      <td>0.0</td>\n",
              "      <td>157.0</td>\n",
              "      <td>138.0</td>\n",
              "      <td>13.0</td>\n",
              "      <td>226.0</td>\n",
              "      <td>0.0</td>\n",
              "      <td>259571508.0</td>\n",
              "      <td>100.270504</td>\n",
              "      <td>0</td>\n",
              "    </tr>\n",
              "    <tr>\n",
              "      <th>4</th>\n",
              "      <td>25.488421</td>\n",
              "      <td>1844978.0</td>\n",
              "      <td>190653473.0</td>\n",
              "      <td>116246239.0</td>\n",
              "      <td>31360.0</td>\n",
              "      <td>363.0</td>\n",
              "      <td>270856.0</td>\n",
              "      <td>259.0</td>\n",
              "      <td>154519.0</td>\n",
              "      <td>172861.0</td>\n",
              "      <td>172986.0</td>\n",
              "      <td>105931477.0</td>\n",
              "      <td>9978938.0</td>\n",
              "      <td>1325.0</td>\n",
              "      <td>452995.0</td>\n",
              "      <td>0.0</td>\n",
              "      <td>100.271755</td>\n",
              "      <td>259535337.0</td>\n",
              "      <td>2018.0</td>\n",
              "      <td>978.0</td>\n",
              "      <td>116317169.0</td>\n",
              "      <td>2914.0</td>\n",
              "      <td>0.0</td>\n",
              "      <td>614366676.0</td>\n",
              "      <td>0.0</td>\n",
              "      <td>263.0</td>\n",
              "      <td>489.0</td>\n",
              "      <td>50.0</td>\n",
              "      <td>238.0</td>\n",
              "      <td>0.0</td>\n",
              "      <td>259490859.0</td>\n",
              "      <td>100.270495</td>\n",
              "      <td>0</td>\n",
              "    </tr>\n",
              "  </tbody>\n",
              "</table>\n",
              "</div>"
            ],
            "text/plain": [
              "        time  L1-dcache-load-misses  ...  task-clock  label\n",
              "0  25.087326              1836848.0  ...  100.265909      0\n",
              "1  25.187603              1855641.0  ...  100.276024      0\n",
              "2  25.287884              1856373.0  ...  100.281822      0\n",
              "3  25.388149              1855415.0  ...  100.270504      0\n",
              "4  25.488421              1844978.0  ...  100.270495      0\n",
              "\n",
              "[5 rows x 33 columns]"
            ]
          },
          "metadata": {
            "tags": []
          },
          "execution_count": 5
        }
      ]
    },
    {
      "cell_type": "code",
      "metadata": {
        "colab_type": "code",
        "id": "wdr7yrCrcl-I",
        "outputId": "86fcff18-8efd-48a6-89dc-fe0851524ab8",
        "colab": {
          "base_uri": "https://localhost:8080/",
          "height": 53
        }
      },
      "source": [
        "print(\"samples and columns\", full_df.shape)\n",
        "print(\"Possible labels \", np.unique(full_df['label']) )"
      ],
      "execution_count": 6,
      "outputs": [
        {
          "output_type": "stream",
          "text": [
            "samples and columns (5824, 33)\n",
            "Possible labels  [0 1 2]\n"
          ],
          "name": "stdout"
        }
      ]
    },
    {
      "cell_type": "code",
      "metadata": {
        "colab_type": "code",
        "id": "gdXSQpLANx-8",
        "outputId": "0afb9b11-47a7-4310-e7cb-bb4906631f55",
        "colab": {
          "base_uri": "https://localhost:8080/",
          "height": 107
        }
      },
      "source": [
        "def train_validation_test_splits(data, train_size, validation_size):\n",
        "    assert(train_size + validation_size < 1.0)\n",
        "    # shuffling of the dataset\n",
        "    np.random.shuffle(data)\n",
        "    # extract the training portion\n",
        "    n = int(train_size * len(data))\n",
        "    train, rest = data[:n,:], data[n:,:]\n",
        "    # from the remaining examples, we extract the validation and test portions\n",
        "    n = int(validation_size * len(data))\n",
        "    validation, test = rest[:n,:], rest[n:,:]\n",
        "    return train, validation, test\n",
        "\n",
        "train, validation, test = train_validation_test_splits(data, 0.8, 0.1)\n",
        "\n",
        "print('The number of examples in the original dataset is ' + str(data.shape[0]))\n",
        "\n",
        "print('The training-set has ' + str(train.shape[0]) + ' examples')\n",
        "print('The validation-set has ' + str(validation.shape[0]) + ' exampels')\n",
        "print('The test-set has ' + str(test.shape[0]) + ' examples')\n",
        "print('The shape of train is ' + str(train.shape)) "
      ],
      "execution_count": 7,
      "outputs": [
        {
          "output_type": "stream",
          "text": [
            "The number of examples in the original dataset is 5824\n",
            "The training-set has 4659 examples\n",
            "The validation-set has 582 exampels\n",
            "The test-set has 583 examples\n",
            "The shape of train is (4659, 33)\n"
          ],
          "name": "stdout"
        }
      ]
    },
    {
      "cell_type": "markdown",
      "metadata": {
        "colab_type": "text",
        "id": "kC4hctiCcCZr"
      },
      "source": [
        "# Pre-processing"
      ]
    },
    {
      "cell_type": "code",
      "metadata": {
        "colab_type": "code",
        "id": "Bvw0Rj_WNx_G",
        "colab": {}
      },
      "source": [
        "# We separate the last column in \n",
        "train_x, train_y = np.hsplit(train, [train.shape[1] - 1])\n",
        "train_y = train_y.reshape(-1).astype(int)\n",
        "\n",
        "validation_x, validation_y = np.hsplit(validation, [validation.shape[1] - 1])\n",
        "validation_y = validation_y.reshape(-1).astype(int)\n",
        "\n",
        "test_x, test_y = np.hsplit(test, [test.shape[1] - 1])\n",
        "test_y = test_y.reshape(-1).astype(int)"
      ],
      "execution_count": 0,
      "outputs": []
    },
    {
      "cell_type": "markdown",
      "metadata": {
        "colab_type": "text",
        "id": "mG3QQz4icEsJ"
      },
      "source": [
        "We apply Min-Max scaler. In this code we do it by hand, but we could have done it also by directly using `sklearn.preprocessing.MinMaxScaler`."
      ]
    },
    {
      "cell_type": "code",
      "metadata": {
        "colab_type": "code",
        "id": "4b-YT34ENx_M",
        "colab": {}
      },
      "source": [
        "min = train_x.min(axis=0)\n",
        "max = train_x.max(axis=0)\n",
        "\n",
        "train_x = (train_x - min)/(max - min)\n",
        "validation_x = (validation_x - min)/(max - min)\n",
        "test_x = (test_x - min)/(max - min)"
      ],
      "execution_count": 0,
      "outputs": []
    },
    {
      "cell_type": "markdown",
      "metadata": {
        "colab_type": "text",
        "id": "C4DLhKZnKxxD"
      },
      "source": [
        "# Google Drive"
      ]
    },
    {
      "cell_type": "markdown",
      "metadata": {
        "colab_type": "text",
        "id": "WkrrtK8jPlvd"
      },
      "source": [
        "Use the following code (modify it with the names of your folders) to attach your google drive, where you will store your models, to be used later in the testbed notebook."
      ]
    },
    {
      "cell_type": "code",
      "metadata": {
        "colab_type": "code",
        "id": "f8SLPKQ6PIhI",
        "outputId": "2ded5853-2ad0-42af-ce6e-b330bbc1417d",
        "colab": {
          "base_uri": "https://localhost:8080/",
          "height": 35
        }
      },
      "source": [
        "mount_point = '/content/gdrive' # Always the same, don't change it\n",
        "drive.mount(mount_point, force_remount=True)\n",
        "drive_path = mount_point + '/My Drive/' # Always the same, don't change it\n",
        "\n",
        "# Replace the following folder with some folder inside your google drive\n",
        "my_path = drive_path + \\\n",
        "  'tsp/teaching/data-science-for-networks/img-from-code/09.highspeed-net/'"
      ],
      "execution_count": 22,
      "outputs": [
        {
          "output_type": "stream",
          "text": [
            "Mounted at /content/gdrive\n"
          ],
          "name": "stdout"
        }
      ]
    },
    {
      "cell_type": "markdown",
      "metadata": {
        "colab_type": "text",
        "id": "_HYIodkjdL6w"
      },
      "source": [
        "# Logistic Regression"
      ]
    },
    {
      "cell_type": "code",
      "metadata": {
        "colab_type": "code",
        "id": "6MIcuYmaQY23",
        "outputId": "d93e6050-24df-4d33-8f61-0f85dde58da4",
        "colab": {
          "base_uri": "https://localhost:8080/",
          "height": 671
        }
      },
      "source": [
        "model = LogisticRegression(multi_class=\"multinomial\", solver=\"lbfgs\", max_iter=600)\n",
        "model.fit(train_x, train_y)\n",
        "y_pred = model.predict(test_x)\n",
        "class_names = np.array([\"low\", \"mid\", \"high\"] )\n",
        "plot_conf_mat(test_y, y_pred, class_names)\n",
        "print(\"The accuracy is \", accuracy_score(test_y, y_pred) )"
      ],
      "execution_count": 18,
      "outputs": [
        {
          "output_type": "stream",
          "text": [
            "Normalized confusion matrix\n",
            "[[0.985      0.005      0.01      ]\n",
            " [0.22285714 0.72571429 0.05142857]\n",
            " [0.13461538 0.14423077 0.72115385]]\n",
            "The accuracy is  0.8130360205831904\n"
          ],
          "name": "stdout"
        },
        {
          "output_type": "display_data",
          "data": {
            "image/png": "[encoded data removed]",
            "text/plain": [
              "<Figure size 576x576 with 2 Axes>"
            ]
          },
          "metadata": {
            "tags": [],
            "needs_background": "light"
          }
        }
      ]
    },
    {
      "cell_type": "markdown",
      "metadata": {
        "id": "_4_c3nN-7oa9",
        "colab_type": "text"
      },
      "source": [
        "Save the model"
      ]
    },
    {
      "cell_type": "code",
      "metadata": {
        "id": "MwmwCV4z8TTr",
        "colab_type": "code",
        "colab": {}
      },
      "source": [
        "dump_file = open(my_path+\"logistic-reg.pkl\", \"wb\")\n",
        "pickle.dump(model, dump_file)"
      ],
      "execution_count": 0,
      "outputs": []
    },
    {
      "cell_type": "markdown",
      "metadata": {
        "colab_type": "text",
        "id": "F7xQEweVcXOB"
      },
      "source": [
        "# Your model\n",
        "\n",
        "Train your models here and dump (i.e., save) them."
      ]
    },
    {
      "cell_type": "code",
      "metadata": {
        "id": "ytUq-62883Lu",
        "colab_type": "code",
        "colab": {}
      },
      "source": [
        ""
      ],
      "execution_count": 0,
      "outputs": []
    }
  ]
}