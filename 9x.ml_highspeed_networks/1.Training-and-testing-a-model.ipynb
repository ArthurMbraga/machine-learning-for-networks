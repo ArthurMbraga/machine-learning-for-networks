{
  "nbformat": 4,
  "nbformat_minor": 0,
  "metadata": {
    "colab": {
      "name": "Training and testing an MLP.ipynb",
      "provenance": [],
      "include_colab_link": true
    },
    "kernelspec": {
      "display_name": "Python 3",
      "language": "python",
      "name": "python3"
    },
    "language_info": {
      "codemirror_mode": {
        "name": "ipython",
        "version": 3
      },
      "file_extension": ".py",
      "mimetype": "text/x-python",
      "name": "python",
      "nbconvert_exporter": "python",
      "pygments_lexer": "ipython3",
      "version": "3.6.8"
    }
  },
  "cells": [
    {
      "cell_type": "markdown",
      "metadata": {
        "id": "view-in-github",
        "colab_type": "text"
      },
      "source": [
        "<a href=\"https://colab.research.google.com/github/andreaaraldo/machine-learning-for-networks/blob/master/9x.ml_highspeed_networks/1.Training-and-testing-a-model.ipynb\" target=\"_parent\"><img src=\"https://colab.research.google.com/assets/colab-badge.svg\" alt=\"Open In Colab\"/></a>"
      ]
    },
    {
      "cell_type": "code",
      "metadata": {
        "colab_type": "code",
        "id": "dRBJhnfFNx-b",
        "outputId": "eade2a69-5e2f-410f-ef45-c6bab4169512",
        "colab": {
          "base_uri": "https://localhost:8080/",
          "height": 270
        }
      },
      "source": [
        "import pandas as pd\n",
        "import numpy as np\n",
        "\n",
        "from sklearn.linear_model import LogisticRegression\n",
        "from sklearn.metrics import accuracy_score\n",
        "\n",
        "import pickle # To save the model\n",
        "\n",
        "\n",
        "\n",
        "# The following is to be able to mount Google Drive\n",
        "from google.colab import drive\n",
        "\n",
        "\n",
        "# We import a function I prepared for you in the course library\n",
        "! wget https://raw.githubusercontent.com/andreaaraldo/machine-learning-for-networks/master/course_library/visualization.py\n",
        "from visualization import plot_conf_mat\n",
        "\n",
        "\n",
        "from typing import List"
      ],
      "execution_count": 0,
      "outputs": [
        {
          "output_type": "stream",
          "text": [
            "--2020-05-23 16:01:31--  https://raw.githubusercontent.com/andreaaraldo/machine-learning-for-networks/master/course_library/visualization.py\n",
            "Resolving raw.githubusercontent.com (raw.githubusercontent.com)... 151.101.0.133, 151.101.64.133, 151.101.128.133, ...\n",
            "Connecting to raw.githubusercontent.com (raw.githubusercontent.com)|151.101.0.133|:443... connected.\n",
            "HTTP request sent, awaiting response... 200 OK\n",
            "Length: 13008 (13K) [text/plain]\n",
            "Saving to: ‘visualization.py’\n",
            "\n",
            "\rvisualization.py      0%[                    ]       0  --.-KB/s               \rvisualization.py    100%[===================>]  12.70K  --.-KB/s    in 0s      \n",
            "\n",
            "2020-05-23 16:01:32 (85.8 MB/s) - ‘visualization.py’ saved [13008/13008]\n",
            "\n"
          ],
          "name": "stdout"
        },
        {
          "output_type": "stream",
          "text": [
            "/usr/local/lib/python3.6/dist-packages/statsmodels/tools/_testing.py:19: FutureWarning: pandas.util.testing is deprecated. Use the functions in the public API at pandas.testing instead.\n",
            "  import pandas.util.testing as tm\n"
          ],
          "name": "stderr"
        }
      ]
    },
    {
      "cell_type": "markdown",
      "metadata": {
        "colab_type": "text",
        "id": "J6CXPBcNbnOp"
      },
      "source": [
        "# Download the dataset and train/test split"
      ]
    },
    {
      "cell_type": "markdown",
      "metadata": {
        "colab_type": "text",
        "id": "iUWKkvOYXik2"
      },
      "source": [
        "Load the dataset"
      ]
    },
    {
      "cell_type": "code",
      "metadata": {
        "colab_type": "code",
        "id": "m10tUo-bXkli",
        "outputId": "f349f869-060f-49f8-8082-3ef4dc800ea5",
        "colab": {
          "base_uri": "https://localhost:8080/",
          "height": 609
        }
      },
      "source": [
        "! wget https://raw.githubusercontent.com/andreaaraldo/machine-learning-for-networks/master/9x.ml_highspeed_networks/lowdataset.csv\n",
        "! wget https://raw.githubusercontent.com/andreaaraldo/machine-learning-for-networks/master/9x.ml_highspeed_networks/highdataset.csv\n",
        "! wget https://raw.githubusercontent.com/andreaaraldo/machine-learning-for-networks/master/9x.ml_highspeed_networks/fulldataset.csv\n"
      ],
      "execution_count": 0,
      "outputs": [
        {
          "output_type": "stream",
          "text": [
            "--2020-05-23 16:01:34--  https://raw.githubusercontent.com/andreaaraldo/machine-learning-for-networks/master/9x.ml_highspeed_networks/lowdataset.csv\n",
            "Resolving raw.githubusercontent.com (raw.githubusercontent.com)... 151.101.0.133, 151.101.64.133, 151.101.128.133, ...\n",
            "Connecting to raw.githubusercontent.com (raw.githubusercontent.com)|151.101.0.133|:443... connected.\n",
            "HTTP request sent, awaiting response... 200 OK\n",
            "Length: 261162 (255K) [text/plain]\n",
            "Saving to: ‘lowdataset.csv’\n",
            "\n",
            "\rlowdataset.csv        0%[                    ]       0  --.-KB/s               \rlowdataset.csv      100%[===================>] 255.04K  --.-KB/s    in 0.05s   \n",
            "\n",
            "2020-05-23 16:01:34 (4.87 MB/s) - ‘lowdataset.csv’ saved [261162/261162]\n",
            "\n",
            "--2020-05-23 16:01:35--  https://raw.githubusercontent.com/andreaaraldo/machine-learning-for-networks/master/9x.ml_highspeed_networks/highdataset.csv\n",
            "Resolving raw.githubusercontent.com (raw.githubusercontent.com)... 151.101.0.133, 151.101.64.133, 151.101.128.133, ...\n",
            "Connecting to raw.githubusercontent.com (raw.githubusercontent.com)|151.101.0.133|:443... connected.\n",
            "HTTP request sent, awaiting response... 200 OK\n",
            "Length: 267387 (261K) [text/plain]\n",
            "Saving to: ‘highdataset.csv’\n",
            "\n",
            "highdataset.csv     100%[===================>] 261.12K  --.-KB/s    in 0.06s   \n",
            "\n",
            "2020-05-23 16:01:36 (4.49 MB/s) - ‘highdataset.csv’ saved [267387/267387]\n",
            "\n",
            "--2020-05-23 16:01:38--  https://raw.githubusercontent.com/andreaaraldo/machine-learning-for-networks/master/9x.ml_highspeed_networks/fulldataset.csv\n",
            "Resolving raw.githubusercontent.com (raw.githubusercontent.com)... 151.101.0.133, 151.101.64.133, 151.101.128.133, ...\n",
            "Connecting to raw.githubusercontent.com (raw.githubusercontent.com)|151.101.0.133|:443... connected.\n",
            "HTTP request sent, awaiting response... 200 OK\n",
            "Length: 1686836 (1.6M) [text/plain]\n",
            "Saving to: ‘fulldataset.csv’\n",
            "\n",
            "fulldataset.csv     100%[===================>]   1.61M  9.11MB/s    in 0.2s    \n",
            "\n",
            "2020-05-23 16:01:39 (9.11 MB/s) - ‘fulldataset.csv’ saved [1686836/1686836]\n",
            "\n"
          ],
          "name": "stdout"
        }
      ]
    },
    {
      "cell_type": "code",
      "metadata": {
        "colab_type": "code",
        "id": "pTz-hYo7Nx-v",
        "outputId": "dce7a7da-4eee-4ae6-a559-324e3295448b",
        "colab": {
          "base_uri": "https://localhost:8080/",
          "height": 250
        }
      },
      "source": [
        "# Read the full dataset\n",
        "full_df = pd.read_csv('fulldataset.csv')\n",
        "\n",
        "# Remove the timestamp, which does not have predictive importance\n",
        "full_df = full_df.drop(columns=[\"time\"])\n",
        "\n",
        "data = full_df.to_numpy()\n",
        "print (data)"
      ],
      "execution_count": 0,
      "outputs": [
        {
          "output_type": "stream",
          "text": [
            "[[1.83684800e+06 1.90327023e+08 1.16151881e+08 ... 2.59473178e+08\n",
            "  1.00265909e+02 0.00000000e+00]\n",
            " [1.85564100e+06 1.90782590e+08 1.16159726e+08 ... 2.59522865e+08\n",
            "  1.00276024e+02 0.00000000e+00]\n",
            " [1.85637300e+06 1.90688064e+08 1.16229597e+08 ... 2.59533231e+08\n",
            "  1.00281822e+02 0.00000000e+00]\n",
            " ...\n",
            " [4.63221500e+06 1.75145145e+08 9.35510160e+07 ... 2.59453245e+08\n",
            "  1.00262788e+02 2.00000000e+00]\n",
            " [4.64478900e+06 1.75105471e+08 9.33248380e+07 ... 2.59444187e+08\n",
            "  1.00259509e+02 2.00000000e+00]\n",
            " [4.63646600e+06 1.75154689e+08 9.35143800e+07 ... 2.59458785e+08\n",
            "  1.00264199e+02 2.00000000e+00]]\n"
          ],
          "name": "stdout"
        }
      ]
    },
    {
      "cell_type": "code",
      "metadata": {
        "colab_type": "code",
        "id": "kQA0mgrXZxZC",
        "outputId": "e1067f2d-2b40-412e-bf58-9a7171973167",
        "colab": {
          "base_uri": "https://localhost:8080/",
          "height": 278
        }
      },
      "source": [
        "full_df.head()"
      ],
      "execution_count": 0,
      "outputs": [
        {
          "output_type": "execute_result",
          "data": {
            "text/html": [
              "<div>\n",
              "<style scoped>\n",
              "    .dataframe tbody tr th:only-of-type {\n",
              "        vertical-align: middle;\n",
              "    }\n",
              "\n",
              "    .dataframe tbody tr th {\n",
              "        vertical-align: top;\n",
              "    }\n",
              "\n",
              "    .dataframe thead th {\n",
              "        text-align: right;\n",
              "    }\n",
              "</style>\n",
              "<table border=\"1\" class=\"dataframe\">\n",
              "  <thead>\n",
              "    <tr style=\"text-align: right;\">\n",
              "      <th></th>\n",
              "      <th>L1-dcache-load-misses</th>\n",
              "      <th>L1-dcache-loads</th>\n",
              "      <th>L1-dcache-stores</th>\n",
              "      <th>L1-icache-load-misses</th>\n",
              "      <th>LLC-load-misses</th>\n",
              "      <th>LLC-loads</th>\n",
              "      <th>LLC-store-misses</th>\n",
              "      <th>LLC-stores</th>\n",
              "      <th>branch-load-misses</th>\n",
              "      <th>branch-misses</th>\n",
              "      <th>branches</th>\n",
              "      <th>bus-cycles</th>\n",
              "      <th>cache-misses</th>\n",
              "      <th>cache-references</th>\n",
              "      <th>context-switches</th>\n",
              "      <th>cpu-clock</th>\n",
              "      <th>cycles</th>\n",
              "      <th>dTLB-load-misses</th>\n",
              "      <th>dTLB-store-misses</th>\n",
              "      <th>dTLB-stores</th>\n",
              "      <th>iTLB-load-misses</th>\n",
              "      <th>iTLB-loads</th>\n",
              "      <th>instructions</th>\n",
              "      <th>minor-faults</th>\n",
              "      <th>node-load-misses</th>\n",
              "      <th>node-loads</th>\n",
              "      <th>node-store-misses</th>\n",
              "      <th>node-stores</th>\n",
              "      <th>page-faults</th>\n",
              "      <th>ref-cycles</th>\n",
              "      <th>task-clock</th>\n",
              "      <th>label</th>\n",
              "    </tr>\n",
              "  </thead>\n",
              "  <tbody>\n",
              "    <tr>\n",
              "      <th>0</th>\n",
              "      <td>1836848.0</td>\n",
              "      <td>190327023.0</td>\n",
              "      <td>116151881.0</td>\n",
              "      <td>31680.0</td>\n",
              "      <td>301.0</td>\n",
              "      <td>272831.0</td>\n",
              "      <td>251.0</td>\n",
              "      <td>155393.0</td>\n",
              "      <td>171640.0</td>\n",
              "      <td>172007.0</td>\n",
              "      <td>105852681.0</td>\n",
              "      <td>9979685.0</td>\n",
              "      <td>597.0</td>\n",
              "      <td>450842.0</td>\n",
              "      <td>0.0</td>\n",
              "      <td>100.265610</td>\n",
              "      <td>259323485.0</td>\n",
              "      <td>1930.0</td>\n",
              "      <td>1003.0</td>\n",
              "      <td>116268401.0</td>\n",
              "      <td>2595.0</td>\n",
              "      <td>8.0</td>\n",
              "      <td>614259959.0</td>\n",
              "      <td>0.0</td>\n",
              "      <td>169.0</td>\n",
              "      <td>150.0</td>\n",
              "      <td>50.0</td>\n",
              "      <td>213.0</td>\n",
              "      <td>0.0</td>\n",
              "      <td>259473178.0</td>\n",
              "      <td>100.265909</td>\n",
              "      <td>0</td>\n",
              "    </tr>\n",
              "    <tr>\n",
              "      <th>1</th>\n",
              "      <td>1855641.0</td>\n",
              "      <td>190782590.0</td>\n",
              "      <td>116159726.0</td>\n",
              "      <td>31550.0</td>\n",
              "      <td>288.0</td>\n",
              "      <td>273045.0</td>\n",
              "      <td>259.0</td>\n",
              "      <td>154536.0</td>\n",
              "      <td>173760.0</td>\n",
              "      <td>173161.0</td>\n",
              "      <td>105824138.0</td>\n",
              "      <td>9979835.0</td>\n",
              "      <td>602.0</td>\n",
              "      <td>454711.0</td>\n",
              "      <td>0.0</td>\n",
              "      <td>100.276363</td>\n",
              "      <td>259527811.0</td>\n",
              "      <td>1968.0</td>\n",
              "      <td>1028.0</td>\n",
              "      <td>116231409.0</td>\n",
              "      <td>2557.0</td>\n",
              "      <td>0.0</td>\n",
              "      <td>614006400.0</td>\n",
              "      <td>0.0</td>\n",
              "      <td>175.0</td>\n",
              "      <td>125.0</td>\n",
              "      <td>50.0</td>\n",
              "      <td>238.0</td>\n",
              "      <td>0.0</td>\n",
              "      <td>259522865.0</td>\n",
              "      <td>100.276024</td>\n",
              "      <td>0</td>\n",
              "    </tr>\n",
              "    <tr>\n",
              "      <th>2</th>\n",
              "      <td>1856373.0</td>\n",
              "      <td>190688064.0</td>\n",
              "      <td>116229597.0</td>\n",
              "      <td>30507.0</td>\n",
              "      <td>251.0</td>\n",
              "      <td>272370.0</td>\n",
              "      <td>251.0</td>\n",
              "      <td>154825.0</td>\n",
              "      <td>170987.0</td>\n",
              "      <td>170923.0</td>\n",
              "      <td>105932173.0</td>\n",
              "      <td>9980286.0</td>\n",
              "      <td>657.0</td>\n",
              "      <td>451996.0</td>\n",
              "      <td>0.0</td>\n",
              "      <td>100.282061</td>\n",
              "      <td>259493612.0</td>\n",
              "      <td>1981.0</td>\n",
              "      <td>1040.0</td>\n",
              "      <td>116288889.0</td>\n",
              "      <td>2595.0</td>\n",
              "      <td>8.0</td>\n",
              "      <td>614749577.0</td>\n",
              "      <td>0.0</td>\n",
              "      <td>257.0</td>\n",
              "      <td>94.0</td>\n",
              "      <td>25.0</td>\n",
              "      <td>213.0</td>\n",
              "      <td>0.0</td>\n",
              "      <td>259533231.0</td>\n",
              "      <td>100.281822</td>\n",
              "      <td>0</td>\n",
              "    </tr>\n",
              "    <tr>\n",
              "      <th>3</th>\n",
              "      <td>1855415.0</td>\n",
              "      <td>190785345.0</td>\n",
              "      <td>116289893.0</td>\n",
              "      <td>32535.0</td>\n",
              "      <td>226.0</td>\n",
              "      <td>273049.0</td>\n",
              "      <td>251.0</td>\n",
              "      <td>154438.0</td>\n",
              "      <td>170998.0</td>\n",
              "      <td>170960.0</td>\n",
              "      <td>105974902.0</td>\n",
              "      <td>9983166.0</td>\n",
              "      <td>1374.0</td>\n",
              "      <td>454628.0</td>\n",
              "      <td>0.0</td>\n",
              "      <td>100.269016</td>\n",
              "      <td>259464166.0</td>\n",
              "      <td>2031.0</td>\n",
              "      <td>1015.0</td>\n",
              "      <td>116218953.0</td>\n",
              "      <td>2645.0</td>\n",
              "      <td>0.0</td>\n",
              "      <td>614927834.0</td>\n",
              "      <td>0.0</td>\n",
              "      <td>157.0</td>\n",
              "      <td>138.0</td>\n",
              "      <td>13.0</td>\n",
              "      <td>226.0</td>\n",
              "      <td>0.0</td>\n",
              "      <td>259571508.0</td>\n",
              "      <td>100.270504</td>\n",
              "      <td>0</td>\n",
              "    </tr>\n",
              "    <tr>\n",
              "      <th>4</th>\n",
              "      <td>1844978.0</td>\n",
              "      <td>190653473.0</td>\n",
              "      <td>116246239.0</td>\n",
              "      <td>31360.0</td>\n",
              "      <td>363.0</td>\n",
              "      <td>270856.0</td>\n",
              "      <td>259.0</td>\n",
              "      <td>154519.0</td>\n",
              "      <td>172861.0</td>\n",
              "      <td>172986.0</td>\n",
              "      <td>105931477.0</td>\n",
              "      <td>9978938.0</td>\n",
              "      <td>1325.0</td>\n",
              "      <td>452995.0</td>\n",
              "      <td>0.0</td>\n",
              "      <td>100.271755</td>\n",
              "      <td>259535337.0</td>\n",
              "      <td>2018.0</td>\n",
              "      <td>978.0</td>\n",
              "      <td>116317169.0</td>\n",
              "      <td>2914.0</td>\n",
              "      <td>0.0</td>\n",
              "      <td>614366676.0</td>\n",
              "      <td>0.0</td>\n",
              "      <td>263.0</td>\n",
              "      <td>489.0</td>\n",
              "      <td>50.0</td>\n",
              "      <td>238.0</td>\n",
              "      <td>0.0</td>\n",
              "      <td>259490859.0</td>\n",
              "      <td>100.270495</td>\n",
              "      <td>0</td>\n",
              "    </tr>\n",
              "  </tbody>\n",
              "</table>\n",
              "</div>"
            ],
            "text/plain": [
              "   L1-dcache-load-misses  L1-dcache-loads  ...  task-clock  label\n",
              "0              1836848.0      190327023.0  ...  100.265909      0\n",
              "1              1855641.0      190782590.0  ...  100.276024      0\n",
              "2              1856373.0      190688064.0  ...  100.281822      0\n",
              "3              1855415.0      190785345.0  ...  100.270504      0\n",
              "4              1844978.0      190653473.0  ...  100.270495      0\n",
              "\n",
              "[5 rows x 32 columns]"
            ]
          },
          "metadata": {
            "tags": []
          },
          "execution_count": 7
        }
      ]
    },
    {
      "cell_type": "code",
      "metadata": {
        "colab_type": "code",
        "id": "wdr7yrCrcl-I",
        "outputId": "024ce3fb-f0b8-4cf1-abc8-7ecf94fa34f2",
        "colab": {
          "base_uri": "https://localhost:8080/",
          "height": 53
        }
      },
      "source": [
        "print(\"samples and columns\", full_df.shape)\n",
        "print(\"Possible labels \", np.unique(full_df['label']) )"
      ],
      "execution_count": 0,
      "outputs": [
        {
          "output_type": "stream",
          "text": [
            "samples and columns (5824, 32)\n",
            "Possible labels  [0 1 2]\n"
          ],
          "name": "stdout"
        }
      ]
    },
    {
      "cell_type": "code",
      "metadata": {
        "colab_type": "code",
        "id": "gdXSQpLANx-8",
        "outputId": "7fcc1c5b-6b4b-474b-b9f2-70683e712020",
        "colab": {
          "base_uri": "https://localhost:8080/",
          "height": 107
        }
      },
      "source": [
        "def train_validation_test_splits(data, train_size, validation_size):\n",
        "    assert(train_size + validation_size < 1.0)\n",
        "    # shuffling of the dataset\n",
        "    np.random.shuffle(data)\n",
        "    # extract the training portion\n",
        "    n = int(train_size * len(data))\n",
        "    train, rest = data[:n,:], data[n:,:]\n",
        "    # from the remaining examples, we extract the validation and test portions\n",
        "    n = int(validation_size * len(data))\n",
        "    validation, test = rest[:n,:], rest[n:,:]\n",
        "    return train, validation, test\n",
        "\n",
        "train, validation, test = train_validation_test_splits(data, 0.8, 0.1)\n",
        "\n",
        "print('The number of examples in the original dataset is ' + str(data.shape[0]))\n",
        "\n",
        "print('The training-set has ' + str(train.shape[0]) + ' examples')\n",
        "print('The validation-set has ' + str(validation.shape[0]) + ' exampels')\n",
        "print('The test-set has ' + str(test.shape[0]) + ' examples')\n",
        "print('The shape of train is ' + str(train.shape)) "
      ],
      "execution_count": 0,
      "outputs": [
        {
          "output_type": "stream",
          "text": [
            "The number of examples in the original dataset is 5824\n",
            "The training-set has 4659 examples\n",
            "The validation-set has 582 exampels\n",
            "The test-set has 583 examples\n",
            "The shape of train is (4659, 32)\n"
          ],
          "name": "stdout"
        }
      ]
    },
    {
      "cell_type": "markdown",
      "metadata": {
        "colab_type": "text",
        "id": "kC4hctiCcCZr"
      },
      "source": [
        "# Pre-processing"
      ]
    },
    {
      "cell_type": "code",
      "metadata": {
        "colab_type": "code",
        "id": "Bvw0Rj_WNx_G",
        "colab": {}
      },
      "source": [
        "# We separate the last column in \n",
        "train_x, train_y = np.hsplit(train, [train.shape[1] - 1])\n",
        "train_y = train_y.reshape(-1).astype(int)\n",
        "\n",
        "validation_x, validation_y = np.hsplit(validation, [validation.shape[1] - 1])\n",
        "validation_y = validation_y.reshape(-1).astype(int)\n",
        "\n",
        "test_x, test_y = np.hsplit(test, [test.shape[1] - 1])\n",
        "test_y = test_y.reshape(-1).astype(int)"
      ],
      "execution_count": 0,
      "outputs": []
    },
    {
      "cell_type": "markdown",
      "metadata": {
        "colab_type": "text",
        "id": "mG3QQz4icEsJ"
      },
      "source": [
        "We apply Min-Max scaler. In this code we do it by hand, but we could have done it also by directly using `sklearn.preprocessing.MinMaxScaler`."
      ]
    },
    {
      "cell_type": "code",
      "metadata": {
        "colab_type": "code",
        "id": "4b-YT34ENx_M",
        "colab": {}
      },
      "source": [
        "min = train_x.min(axis=0)\n",
        "max = train_x.max(axis=0)\n",
        "\n",
        "train_x = (train_x - min)/(max - min)\n",
        "validation_x = (validation_x - min)/(max - min)\n",
        "test_x = (test_x - min)/(max - min)"
      ],
      "execution_count": 0,
      "outputs": []
    },
    {
      "cell_type": "markdown",
      "metadata": {
        "colab_type": "text",
        "id": "C4DLhKZnKxxD"
      },
      "source": [
        "# Google Drive"
      ]
    },
    {
      "cell_type": "markdown",
      "metadata": {
        "colab_type": "text",
        "id": "WkrrtK8jPlvd"
      },
      "source": [
        "Use the following code (modify it with the names of your folders) to attach your google drive, where you will store your models, to be used later in the testbed notebook."
      ]
    },
    {
      "cell_type": "code",
      "metadata": {
        "colab_type": "code",
        "id": "f8SLPKQ6PIhI",
        "outputId": "a1affe92-2552-4381-a912-2915bba7ee86",
        "colab": {
          "base_uri": "https://localhost:8080/",
          "height": 127
        }
      },
      "source": [
        "mount_point = '/content/gdrive' # Always the same, don't change it\n",
        "drive.mount(mount_point, force_remount=True)\n",
        "drive_path = mount_point + '/My Drive/' # Always the same, don't change it\n",
        "\n",
        "# Replace the following folder with some folder inside your google drive\n",
        "my_path = drive_path + \\\n",
        "  'tsp/teaching/data-science-for-networks/img-from-code/09.highspeed-net/'"
      ],
      "execution_count": 0,
      "outputs": [
        {
          "output_type": "stream",
          "text": [
            "Go to this URL in a browser: https://accounts.google.com/o/oauth2/auth?client_id=947318989803-6bn6qk8qdgf4n4g3pfee6491hc0brc4i.apps.googleusercontent.com&redirect_uri=urn%3aietf%3awg%3aoauth%3a2.0%3aoob&response_type=code&scope=email%20https%3a%2f%2fwww.googleapis.com%2fauth%2fdocs.test%20https%3a%2f%2fwww.googleapis.com%2fauth%2fdrive%20https%3a%2f%2fwww.googleapis.com%2fauth%2fdrive.photos.readonly%20https%3a%2f%2fwww.googleapis.com%2fauth%2fpeopleapi.readonly\n",
            "\n",
            "Enter your authorization code:\n",
            "··········\n",
            "Mounted at /content/gdrive\n"
          ],
          "name": "stdout"
        }
      ]
    },
    {
      "cell_type": "markdown",
      "metadata": {
        "colab_type": "text",
        "id": "_HYIodkjdL6w"
      },
      "source": [
        "# Logistic Regression"
      ]
    },
    {
      "cell_type": "code",
      "metadata": {
        "colab_type": "code",
        "id": "6MIcuYmaQY23",
        "outputId": "51245bb7-7fcc-4f01-81f0-435b72adef70",
        "colab": {
          "base_uri": "https://localhost:8080/",
          "height": 671
        }
      },
      "source": [
        "model = LogisticRegression(multi_class=\"multinomial\", solver=\"lbfgs\", max_iter=600)\n",
        "model.fit(train_x, train_y)\n",
        "y_pred = model.predict(test_x)\n",
        "class_names = np.array([\"low\", \"mid\", \"high\"] )\n",
        "plot_conf_mat(test_y, y_pred, class_names)\n",
        "print(\"The accuracy is \", accuracy_score(test_y, y_pred) )"
      ],
      "execution_count": 0,
      "outputs": [
        {
          "output_type": "stream",
          "text": [
            "Normalized confusion matrix\n",
            "[[0.98369565 0.01086957 0.00543478]\n",
            " [0.21111111 0.77222222 0.01666667]\n",
            " [0.06849315 0.15068493 0.78082192]]\n",
            "The accuracy is  0.8421955403087479\n"
          ],
          "name": "stdout"
        },
        {
          "output_type": "display_data",
          "data": {
            "image/png": "[encoded data removed]",
            "text/plain": [
              "<Figure size 576x576 with 2 Axes>"
            ]
          },
          "metadata": {
            "tags": [],
            "needs_background": "light"
          }
        }
      ]
    },
    {
      "cell_type": "markdown",
      "metadata": {
        "id": "_4_c3nN-7oa9",
        "colab_type": "text"
      },
      "source": [
        "Save the model"
      ]
    },
    {
      "cell_type": "code",
      "metadata": {
        "id": "MwmwCV4z8TTr",
        "colab_type": "code",
        "colab": {}
      },
      "source": [
        "with open(my_path+\"logistic-reg.pkl\", \"wb\") as dump_file:\n",
        "  pickle.dump(model, dump_file)"
      ],
      "execution_count": 0,
      "outputs": []
    },
    {
      "cell_type": "markdown",
      "metadata": {
        "colab_type": "text",
        "id": "F7xQEweVcXOB"
      },
      "source": [
        "# Your models\n",
        "\n",
        "Train your models here and dump (i.e., save) them."
      ]
    },
    {
      "cell_type": "code",
      "metadata": {
        "id": "ytUq-62883Lu",
        "colab_type": "code",
        "colab": {}
      },
      "source": [
        ""
      ],
      "execution_count": 0,
      "outputs": []
    }
  ]
}