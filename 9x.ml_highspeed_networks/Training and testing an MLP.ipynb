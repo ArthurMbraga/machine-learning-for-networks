{
  "nbformat": 4,
  "nbformat_minor": 0,
  "metadata": {
    "kernelspec": {
      "display_name": "Python 3",
      "language": "python",
      "name": "python3"
    },
    "language_info": {
      "codemirror_mode": {
        "name": "ipython",
        "version": 3
      },
      "file_extension": ".py",
      "mimetype": "text/x-python",
      "name": "python",
      "nbconvert_exporter": "python",
      "pygments_lexer": "ipython3",
      "version": "3.8.2"
    },
    "colab": {
      "name": "Training and testing an MLP.ipynb",
      "provenance": [],
      "include_colab_link": true
    }
  },
  "cells": [
    {
      "cell_type": "markdown",
      "metadata": {
        "id": "view-in-github",
        "colab_type": "text"
      },
      "source": [
        "<a href=\"https://colab.research.google.com/github/andreaaraldo/machine-learning-for-networks/blob/master/9x.ml_highspeed_networks/Training%20and%20testing%20an%20MLP.ipynb\" target=\"_parent\"><img src=\"https://colab.research.google.com/assets/colab-badge.svg\" alt=\"Open In Colab\"/></a>"
      ]
    },
    {
      "cell_type": "code",
      "metadata": {
        "id": "dRBJhnfFNx-b",
        "colab_type": "code",
        "colab": {}
      },
      "source": [
        "import pandas as pd\n",
        "import numpy as np\n",
        "\n",
        "import torch\n",
        "import torch.optim as optim\n",
        "import torch.nn as nn\n",
        "import torch.nn.functional as F\n",
        "from torch.utils.data import DataLoader, TensorDataset\n",
        "\n",
        "from livelossplot import PlotLosses\n",
        "\n",
        "from typing import List"
      ],
      "execution_count": 0,
      "outputs": []
    },
    {
      "cell_type": "code",
      "metadata": {
        "id": "pTz-hYo7Nx-v",
        "colab_type": "code",
        "colab": {},
        "outputId": "ebdc42a0-254e-4a20-f99c-00e02e5ea968"
      },
      "source": [
        "# Read csv for single-label dataset\n",
        "df_h = pd.read_csv('highdataset.csv')\n",
        "df_l = pd.read_csv('lowdataset.csv')\n",
        "\n",
        "# Read the full dataset\n",
        "#full_df = pd.concat([df_h, df_l], ignore_index=True)\n",
        "full_df = pd.read_csv('fulldataset.csv')\n",
        "\n",
        "data = full_df.to_numpy()\n",
        "print (data)"
      ],
      "execution_count": 0,
      "outputs": [
        {
          "output_type": "stream",
          "text": [
            "[[1.00049514e+00 1.03077728e+08 1.23124322e+09 ... 2.58867891e+09\n",
            "  1.00033176e+03 2.00000000e+00]\n",
            " [2.00077842e+00 1.03101759e+08 1.23279932e+09 ... 2.58855446e+09\n",
            "  1.00027918e+03 2.00000000e+00]\n",
            " [3.00103663e+00 1.02770344e+08 1.23782341e+09 ... 2.58852670e+09\n",
            "  1.00023441e+03 2.00000000e+00]\n",
            " ...\n",
            " [2.70220397e+01 5.47615400e+06 1.94312134e+09 ... 2.58890188e+09\n",
            "  1.00023598e+03 0.00000000e+00]\n",
            " [2.80222923e+01 5.48787400e+06 1.94338561e+09 ... 2.58887486e+09\n",
            "  1.00023823e+03 0.00000000e+00]\n",
            " [2.90225439e+01 5.49727500e+06 1.94272972e+09 ... 2.58887145e+09\n",
            "  1.00022864e+03 0.00000000e+00]]\n"
          ],
          "name": "stdout"
        }
      ]
    },
    {
      "cell_type": "code",
      "metadata": {
        "id": "gdXSQpLANx-8",
        "colab_type": "code",
        "colab": {},
        "outputId": "258faa5c-3188-4f2d-d5a6-3e3d84b22091"
      },
      "source": [
        "def train_validation_test_splits(data, train_size, validation_size):\n",
        "    assert(train_size + validation_size < 1.0)\n",
        "    # shuffling of the dataset\n",
        "    np.random.shuffle(data)\n",
        "    # extract the training portion\n",
        "    n = int(train_size * len(data))\n",
        "    train, rest = data[:n,:], data[n:,:]\n",
        "    # from the remaining examples, we extract the validation and test portions\n",
        "    n = int(validation_size * len(data))\n",
        "    validation, test = rest[:n,:], rest[n:,:]\n",
        "    return train, validation, test\n",
        "\n",
        "train, validation, test = train_validation_test_splits(data, 0.8, 0.1)\n",
        "\n",
        "print('The number of examples in the original dataset is ' + str(data.shape[0]))\n",
        "\n",
        "print('The training-set has ' + str(train.shape[0]) + ' examples')\n",
        "print('The validation-set has ' + str(validation.shape[0]) + ' exampels')\n",
        "print('The test-set has ' + str(test.shape[0]) + ' examples')\n",
        "print('The shape of train is ' + str(train.shape)) "
      ],
      "execution_count": 0,
      "outputs": [
        {
          "output_type": "stream",
          "text": [
            "The number of examples in the original dataset is 2610\n",
            "The training-set has 2088 examples\n",
            "The validation-set has 261 exampels\n",
            "The test-set has 261 examples\n",
            "The shape of train is (2088, 33)\n"
          ],
          "name": "stdout"
        }
      ]
    },
    {
      "cell_type": "code",
      "metadata": {
        "id": "Bvw0Rj_WNx_G",
        "colab_type": "code",
        "colab": {}
      },
      "source": [
        "train_x, train_y = np.hsplit(train, [train.shape[1] - 1])\n",
        "train_y = train_y.reshape(-1).astype(int)\n",
        "\n",
        "validation_x, validation_y = np.hsplit(validation, [validation.shape[1] - 1])\n",
        "validation_y = validation_y.reshape(-1).astype(int)\n",
        "\n",
        "test_x, test_y = np.hsplit(test, [test.shape[1] - 1])\n",
        "test_y = test_y.reshape(-1).astype(int)"
      ],
      "execution_count": 0,
      "outputs": []
    },
    {
      "cell_type": "code",
      "metadata": {
        "id": "4b-YT34ENx_M",
        "colab_type": "code",
        "colab": {}
      },
      "source": [
        "min = train_x.min(axis=0)\n",
        "max = train_x.max(axis=0)\n",
        "\n",
        "train_x = (train_x - min)/(max - min)\n",
        "validation_x = (validation_x - min)/(max - min)\n",
        "test_x = (test_x - min)/(max - min)"
      ],
      "execution_count": 0,
      "outputs": []
    },
    {
      "cell_type": "code",
      "metadata": {
        "id": "jUbQbRNpNx_T",
        "colab_type": "code",
        "colab": {}
      },
      "source": [
        "class MLP(nn.Module):\n",
        "    \n",
        "    def __init__(self, input_size:int=10, hidden:List[int]=[10, 20, 30], output_size:int = 2):\n",
        "        super(MLP, self).__init__()\n",
        "        #Your definition here\n",
        "        \n",
        "    def forward(self, x):\n",
        "        #Your forward here\n",
        "        y = F.softmax(y)\n",
        "        return y\n",
        "        \n",
        "        "
      ],
      "execution_count": 0,
      "outputs": []
    },
    {
      "cell_type": "code",
      "metadata": {
        "id": "oCGb-LtMNx_a",
        "colab_type": "code",
        "colab": {},
        "outputId": "f3bc3f68-5667-49e7-8f1d-98f4ab3452a0"
      },
      "source": [
        "model = MLP(a, [b], c)     # Where a is the number of features, and c is the number of classes\n",
        "model = model.double()\n",
        "model.parameters()"
      ],
      "execution_count": 0,
      "outputs": [
        {
          "output_type": "stream",
          "text": [
            "[10, 3]\n"
          ],
          "name": "stdout"
        },
        {
          "output_type": "execute_result",
          "data": {
            "text/plain": [
              "<generator object Module.parameters at 0x7f2fb50abd60>"
            ]
          },
          "metadata": {
            "tags": []
          },
          "execution_count": 35
        }
      ]
    },
    {
      "cell_type": "code",
      "metadata": {
        "id": "HpxuLoYHNx_e",
        "colab_type": "code",
        "colab": {}
      },
      "source": [
        "criterion = nn.CrossEntropyLoss()\n",
        "\n",
        "# Your optimizer here\n",
        "#optimizer = optim.SGD(model.parameters(), lr=0.001, momentum=0.9, weight_decay=0)\n",
        "optimizer = optim.Adam(model.parameters(), lr=0.01)"
      ],
      "execution_count": 0,
      "outputs": []
    },
    {
      "cell_type": "code",
      "metadata": {
        "id": "UuY6OcqRNx_j",
        "colab_type": "code",
        "colab": {}
      },
      "source": [
        "batch_size = 32\n",
        "\n",
        "train_dataset = TensorDataset(\n",
        "    torch.from_numpy(train_x).double(), \n",
        "    torch.from_numpy(train_y))\n",
        "train_loader = DataLoader(train_dataset, batch_size=batch_size, shuffle=True)\n",
        "\n",
        "validation_dataset = TensorDataset(\n",
        "    torch.from_numpy(validation_x).double(), \n",
        "    torch.from_numpy(validation_y))\n",
        "validation_loader = DataLoader(validation_dataset, batch_size=batch_size, shuffle=False)\n",
        "\n",
        "\n",
        "test_dataset = TensorDataset(\n",
        "    torch.from_numpy(test_x).double(), \n",
        "    torch.from_numpy(test_y))\n",
        "test_loader = DataLoader(test_dataset, batch_size=batch_size, shuffle=False)"
      ],
      "execution_count": 0,
      "outputs": []
    },
    {
      "cell_type": "code",
      "metadata": {
        "id": "pqoop3bWNx_p",
        "colab_type": "code",
        "colab": {}
      },
      "source": [
        "liveloss = PlotLosses()"
      ],
      "execution_count": 0,
      "outputs": []
    },
    {
      "cell_type": "code",
      "metadata": {
        "id": "MjdLQGk7Nx_u",
        "colab_type": "code",
        "colab": {},
        "outputId": "8e5355df-d2d0-469f-f281-d018b6ecdf3b"
      },
      "source": [
        "epochs = 10\n",
        "\n",
        "data_loader = {'train':train_loader, 'validation':validation_loader}\n",
        "\n",
        "for epoch in range(epochs):  # loop over the dataset multiple times\n",
        "    \n",
        "    ####\n",
        "    # Your training here\n",
        "    ####\n",
        "    \n",
        "    \n",
        "    epoch_loss = running_loss / len(data_loader[phase].dataset)\n",
        "    logs[prefix + 'log loss'] = epoch_loss.item()\n",
        "    epoch_acc = running_corrects.float() / len(data_loader[phase].dataset)\n",
        "    logs[prefix + 'accuracy'] = epoch_acc.item()\n",
        "    \n",
        "    liveloss.update(logs)\n",
        "    liveloss.draw()"
      ],
      "execution_count": 0,
      "outputs": [
        {
          "output_type": "display_data",
          "data": {
            "image/png": "[encoded data removed]",
            "text/plain": [
              "<Figure size 864x576 with 2 Axes>"
            ]
          },
          "metadata": {
            "tags": [],
            "needs_background": "light"
          }
        },
        {
          "output_type": "stream",
          "text": [
            "accuracy\n",
            "\ttraining         \t (min:    0.586, max:    1.000, cur:    1.000)\n",
            "\tvalidation       \t (min:    0.996, max:    1.000, cur:    1.000)\n",
            "log loss\n",
            "\ttraining         \t (min:    0.871, max:    1.061, cur:    0.873)\n",
            "\tvalidation       \t (min:    0.871, max:    0.999, cur:    0.873)\n"
          ],
          "name": "stdout"
        }
      ]
    },
    {
      "cell_type": "code",
      "metadata": {
        "id": "ZQgv9gKVNx_0",
        "colab_type": "code",
        "colab": {},
        "outputId": "55c4a24e-0604-4a03-cf6b-ec129a0c38b2"
      },
      "source": [
        "# Your evaluation here\n",
        "\n",
        "model.eval()\n",
        "\n",
        "running_loss = 0.0\n",
        "running_corrects = 0\n",
        "for i, batch in enumerate(test_loader):\n",
        "    x, y = batch\n",
        "    y_pred = model(x)\n",
        "    _, y_pred = torch.max(y_pred.detach(), 1)\n",
        "    running_corrects += torch.sum(y_pred == y)\n",
        "\n",
        "acc = running_corrects.float() / len(data_loader[phase].dataset)\n",
        "print(acc)\n"
      ],
      "execution_count": 0,
      "outputs": [
        {
          "output_type": "stream",
          "text": [
            "tensor(1.)\n"
          ],
          "name": "stdout"
        },
        {
          "output_type": "stream",
          "text": [
            "<ipython-input-34-e9c7a85e67d8>:16: UserWarning: Implicit dimension choice for softmax has been deprecated. Change the call to include dim=X as an argument.\n",
            "  y = F.softmax(y)\n"
          ],
          "name": "stderr"
        }
      ]
    },
    {
      "cell_type": "code",
      "metadata": {
        "id": "RzIvCR4-Nx_4",
        "colab_type": "code",
        "colab": {}
      },
      "source": [
        ""
      ],
      "execution_count": 0,
      "outputs": []
    }
  ]
}