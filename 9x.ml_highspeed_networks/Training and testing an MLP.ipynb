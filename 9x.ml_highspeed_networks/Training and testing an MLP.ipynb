{
  "nbformat": 4,
  "nbformat_minor": 0,
  "metadata": {
    "kernelspec": {
      "display_name": "Python 3",
      "language": "python",
      "name": "python3"
    },
    "language_info": {
      "codemirror_mode": {
        "name": "ipython",
        "version": 3
      },
      "file_extension": ".py",
      "mimetype": "text/x-python",
      "name": "python",
      "nbconvert_exporter": "python",
      "pygments_lexer": "ipython3",
      "version": "3.8.2"
    },
    "colab": {
      "name": "Training and testing an MLP.ipynb",
      "provenance": [],
      "include_colab_link": true
    }
  },
  "cells": [
    {
      "cell_type": "markdown",
      "metadata": {
        "id": "view-in-github",
        "colab_type": "text"
      },
      "source": [
        "<a href=\"https://colab.research.google.com/github/andreaaraldo/machine-learning-for-networks/blob/master/9x.ml_highspeed_networks/Training%20and%20testing%20an%20MLP.ipynb\" target=\"_parent\"><img src=\"https://colab.research.google.com/assets/colab-badge.svg\" alt=\"Open In Colab\"/></a>"
      ]
    },
    {
      "cell_type": "code",
      "metadata": {
        "id": "dRBJhnfFNx-b",
        "colab_type": "code",
        "outputId": "df3d1bbf-a25c-4c69-f1de-d77dfeb1730b",
        "colab": {
          "base_uri": "https://localhost:8080/",
          "height": 629
        }
      },
      "source": [
        "import pandas as pd\n",
        "import numpy as np\n",
        "\n",
        "from sklearn.linear_model import LogisticRegression\n",
        "\n",
        "import torch\n",
        "import torch.optim as optim\n",
        "import torch.nn as nn\n",
        "import torch.nn.functional as F\n",
        "from torch.utils.data import DataLoader, TensorDataset\n",
        "\n",
        "# The following library is to plot the loss during training\n",
        "# https://github.com/stared/livelossplot\n",
        "! pip install livelossplot\n",
        "from livelossplot import PlotLosses\n",
        "\n",
        "\n",
        "# The following is to be able to mount Google Drive\n",
        "from google.colab import drive\n",
        "\n",
        "\n",
        "# We import a function I prepared for you in the course library\n",
        "! wget https://raw.githubusercontent.com/andreaaraldo/machine-learning-for-networks/master/course_library/visualization.py\n",
        "from visualization import plot_conf_mat\n",
        "\n",
        "\n",
        "from typing import List"
      ],
      "execution_count": 16,
      "outputs": [
        {
          "output_type": "stream",
          "text": [
            "Requirement already satisfied: livelossplot in /usr/local/lib/python3.6/dist-packages (0.5.0)\n",
            "Requirement already satisfied: matplotlib; python_version >= \"3.6\" in /usr/local/lib/python3.6/dist-packages (from livelossplot) (3.2.1)\n",
            "Requirement already satisfied: ipython in /usr/local/lib/python3.6/dist-packages (from livelossplot) (5.5.0)\n",
            "Requirement already satisfied: python-dateutil>=2.1 in /usr/local/lib/python3.6/dist-packages (from matplotlib; python_version >= \"3.6\"->livelossplot) (2.8.1)\n",
            "Requirement already satisfied: cycler>=0.10 in /usr/local/lib/python3.6/dist-packages (from matplotlib; python_version >= \"3.6\"->livelossplot) (0.10.0)\n",
            "Requirement already satisfied: kiwisolver>=1.0.1 in /usr/local/lib/python3.6/dist-packages (from matplotlib; python_version >= \"3.6\"->livelossplot) (1.2.0)\n",
            "Requirement already satisfied: numpy>=1.11 in /usr/local/lib/python3.6/dist-packages (from matplotlib; python_version >= \"3.6\"->livelossplot) (1.18.4)\n",
            "Requirement already satisfied: pyparsing!=2.0.4,!=2.1.2,!=2.1.6,>=2.0.1 in /usr/local/lib/python3.6/dist-packages (from matplotlib; python_version >= \"3.6\"->livelossplot) (2.4.7)\n",
            "Requirement already satisfied: pexpect; sys_platform != \"win32\" in /usr/local/lib/python3.6/dist-packages (from ipython->livelossplot) (4.8.0)\n",
            "Requirement already satisfied: decorator in /usr/local/lib/python3.6/dist-packages (from ipython->livelossplot) (4.4.2)\n",
            "Requirement already satisfied: prompt-toolkit<2.0.0,>=1.0.4 in /usr/local/lib/python3.6/dist-packages (from ipython->livelossplot) (1.0.18)\n",
            "Requirement already satisfied: pickleshare in /usr/local/lib/python3.6/dist-packages (from ipython->livelossplot) (0.7.5)\n",
            "Requirement already satisfied: traitlets>=4.2 in /usr/local/lib/python3.6/dist-packages (from ipython->livelossplot) (4.3.3)\n",
            "Requirement already satisfied: setuptools>=18.5 in /usr/local/lib/python3.6/dist-packages (from ipython->livelossplot) (46.3.0)\n",
            "Requirement already satisfied: pygments in /usr/local/lib/python3.6/dist-packages (from ipython->livelossplot) (2.1.3)\n",
            "Requirement already satisfied: simplegeneric>0.8 in /usr/local/lib/python3.6/dist-packages (from ipython->livelossplot) (0.8.1)\n",
            "Requirement already satisfied: six>=1.5 in /usr/local/lib/python3.6/dist-packages (from python-dateutil>=2.1->matplotlib; python_version >= \"3.6\"->livelossplot) (1.12.0)\n",
            "Requirement already satisfied: ptyprocess>=0.5 in /usr/local/lib/python3.6/dist-packages (from pexpect; sys_platform != \"win32\"->ipython->livelossplot) (0.6.0)\n",
            "Requirement already satisfied: wcwidth in /usr/local/lib/python3.6/dist-packages (from prompt-toolkit<2.0.0,>=1.0.4->ipython->livelossplot) (0.1.9)\n",
            "Requirement already satisfied: ipython-genutils in /usr/local/lib/python3.6/dist-packages (from traitlets>=4.2->ipython->livelossplot) (0.2.0)\n",
            "--2020-05-18 14:50:52--  https://raw.githubusercontent.com/andreaaraldo/machine-learning-for-networks/master/course_library/visualization.py\n",
            "Resolving raw.githubusercontent.com (raw.githubusercontent.com)... 151.101.0.133, 151.101.64.133, 151.101.128.133, ...\n",
            "Connecting to raw.githubusercontent.com (raw.githubusercontent.com)|151.101.0.133|:443... connected.\n",
            "HTTP request sent, awaiting response... 200 OK\n",
            "Length: 13008 (13K) [text/plain]\n",
            "Saving to: ‘visualization.py’\n",
            "\n",
            "visualization.py    100%[===================>]  12.70K  --.-KB/s    in 0.001s  \n",
            "\n",
            "2020-05-18 14:50:52 (12.4 MB/s) - ‘visualization.py’ saved [13008/13008]\n",
            "\n"
          ],
          "name": "stdout"
        },
        {
          "output_type": "stream",
          "text": [
            "/usr/local/lib/python3.6/dist-packages/statsmodels/tools/_testing.py:19: FutureWarning: pandas.util.testing is deprecated. Use the functions in the public API at pandas.testing instead.\n",
            "  import pandas.util.testing as tm\n"
          ],
          "name": "stderr"
        }
      ]
    },
    {
      "cell_type": "markdown",
      "metadata": {
        "id": "J6CXPBcNbnOp",
        "colab_type": "text"
      },
      "source": [
        "# Download the dataset and train/test split"
      ]
    },
    {
      "cell_type": "markdown",
      "metadata": {
        "id": "iUWKkvOYXik2",
        "colab_type": "text"
      },
      "source": [
        "Load the dataset"
      ]
    },
    {
      "cell_type": "code",
      "metadata": {
        "id": "m10tUo-bXkli",
        "colab_type": "code",
        "outputId": "215f2d28-74e9-47c0-eb29-26bad42d5c9c",
        "colab": {
          "base_uri": "https://localhost:8080/",
          "height": 609
        }
      },
      "source": [
        "! wget https://raw.githubusercontent.com/andreaaraldo/machine-learning-for-networks/master/9x.ml_highspeed_networks/lowdataset.csv\n",
        "! wget https://raw.githubusercontent.com/andreaaraldo/machine-learning-for-networks/master/9x.ml_highspeed_networks/highdataset.csv\n",
        "! wget https://raw.githubusercontent.com/andreaaraldo/machine-learning-for-networks/master/9x.ml_highspeed_networks/fulldataset.csv\n"
      ],
      "execution_count": 2,
      "outputs": [
        {
          "output_type": "stream",
          "text": [
            "--2020-05-18 14:14:20--  https://raw.githubusercontent.com/andreaaraldo/machine-learning-for-networks/master/9x.ml_highspeed_networks/lowdataset.csv\n",
            "Resolving raw.githubusercontent.com (raw.githubusercontent.com)... 151.101.0.133, 151.101.64.133, 151.101.128.133, ...\n",
            "Connecting to raw.githubusercontent.com (raw.githubusercontent.com)|151.101.0.133|:443... connected.\n",
            "HTTP request sent, awaiting response... 200 OK\n",
            "Length: 261162 (255K) [text/plain]\n",
            "Saving to: ‘lowdataset.csv’\n",
            "\n",
            "\rlowdataset.csv        0%[                    ]       0  --.-KB/s               \rlowdataset.csv      100%[===================>] 255.04K  --.-KB/s    in 0.05s   \n",
            "\n",
            "2020-05-18 14:14:20 (4.84 MB/s) - ‘lowdataset.csv’ saved [261162/261162]\n",
            "\n",
            "--2020-05-18 14:14:23--  https://raw.githubusercontent.com/andreaaraldo/machine-learning-for-networks/master/9x.ml_highspeed_networks/highdataset.csv\n",
            "Resolving raw.githubusercontent.com (raw.githubusercontent.com)... 151.101.0.133, 151.101.64.133, 151.101.128.133, ...\n",
            "Connecting to raw.githubusercontent.com (raw.githubusercontent.com)|151.101.0.133|:443... connected.\n",
            "HTTP request sent, awaiting response... 200 OK\n",
            "Length: 267387 (261K) [text/plain]\n",
            "Saving to: ‘highdataset.csv’\n",
            "\n",
            "highdataset.csv     100%[===================>] 261.12K  --.-KB/s    in 0.05s   \n",
            "\n",
            "2020-05-18 14:14:25 (4.68 MB/s) - ‘highdataset.csv’ saved [267387/267387]\n",
            "\n",
            "--2020-05-18 14:14:26--  https://raw.githubusercontent.com/andreaaraldo/machine-learning-for-networks/master/9x.ml_highspeed_networks/fulldataset.csv\n",
            "Resolving raw.githubusercontent.com (raw.githubusercontent.com)... 151.101.0.133, 151.101.64.133, 151.101.128.133, ...\n",
            "Connecting to raw.githubusercontent.com (raw.githubusercontent.com)|151.101.0.133|:443... connected.\n",
            "HTTP request sent, awaiting response... 200 OK\n",
            "Length: 791331 (773K) [text/plain]\n",
            "Saving to: ‘fulldataset.csv’\n",
            "\n",
            "fulldataset.csv     100%[===================>] 772.78K  --.-KB/s    in 0.1s    \n",
            "\n",
            "2020-05-18 14:14:29 (7.17 MB/s) - ‘fulldataset.csv’ saved [791331/791331]\n",
            "\n"
          ],
          "name": "stdout"
        }
      ]
    },
    {
      "cell_type": "code",
      "metadata": {
        "id": "k4uQp2pyYPDn",
        "colab_type": "code",
        "outputId": "1b57bf70-97fa-4b88-a9dc-f9d68787a879",
        "colab": {
          "base_uri": "https://localhost:8080/",
          "height": 35
        }
      },
      "source": [
        "! ls"
      ],
      "execution_count": 3,
      "outputs": [
        {
          "output_type": "stream",
          "text": [
            "fulldataset.csv  highdataset.csv  lowdataset.csv  sample_data\n"
          ],
          "name": "stdout"
        }
      ]
    },
    {
      "cell_type": "code",
      "metadata": {
        "id": "pTz-hYo7Nx-v",
        "colab_type": "code",
        "outputId": "f09d070e-0385-4d47-9b2f-03ff7afb5b7c",
        "colab": {
          "base_uri": "https://localhost:8080/",
          "height": 250
        }
      },
      "source": [
        "# Read the full dataset\n",
        "full_df = pd.read_csv('fulldataset.csv')\n",
        "\n",
        "data = full_df.to_numpy()\n",
        "print (data)"
      ],
      "execution_count": 4,
      "outputs": [
        {
          "output_type": "stream",
          "text": [
            "[[1.00049514e+00 1.03077728e+08 1.23124322e+09 ... 2.58867891e+09\n",
            "  1.00033176e+03 2.00000000e+00]\n",
            " [2.00077842e+00 1.03101759e+08 1.23279932e+09 ... 2.58855446e+09\n",
            "  1.00027918e+03 2.00000000e+00]\n",
            " [3.00103663e+00 1.02770344e+08 1.23782341e+09 ... 2.58852670e+09\n",
            "  1.00023441e+03 2.00000000e+00]\n",
            " ...\n",
            " [2.70220397e+01 5.47615400e+06 1.94312134e+09 ... 2.58890188e+09\n",
            "  1.00023598e+03 0.00000000e+00]\n",
            " [2.80222923e+01 5.48787400e+06 1.94338561e+09 ... 2.58887486e+09\n",
            "  1.00023823e+03 0.00000000e+00]\n",
            " [2.90225439e+01 5.49727500e+06 1.94272972e+09 ... 2.58887145e+09\n",
            "  1.00022864e+03 0.00000000e+00]]\n"
          ],
          "name": "stdout"
        }
      ]
    },
    {
      "cell_type": "code",
      "metadata": {
        "id": "kQA0mgrXZxZC",
        "colab_type": "code",
        "outputId": "95d01e58-9ee6-48ba-f23f-f769a42b66f8",
        "colab": {
          "base_uri": "https://localhost:8080/",
          "height": 278
        }
      },
      "source": [
        "full_df.head()"
      ],
      "execution_count": 5,
      "outputs": [
        {
          "output_type": "execute_result",
          "data": {
            "text/html": [
              "<div>\n",
              "<style scoped>\n",
              "    .dataframe tbody tr th:only-of-type {\n",
              "        vertical-align: middle;\n",
              "    }\n",
              "\n",
              "    .dataframe tbody tr th {\n",
              "        vertical-align: top;\n",
              "    }\n",
              "\n",
              "    .dataframe thead th {\n",
              "        text-align: right;\n",
              "    }\n",
              "</style>\n",
              "<table border=\"1\" class=\"dataframe\">\n",
              "  <thead>\n",
              "    <tr style=\"text-align: right;\">\n",
              "      <th></th>\n",
              "      <th>time</th>\n",
              "      <th>L1-dcache-load-misses</th>\n",
              "      <th>L1-dcache-loads</th>\n",
              "      <th>L1-dcache-stores</th>\n",
              "      <th>L1-icache-load-misses</th>\n",
              "      <th>LLC-load-misses</th>\n",
              "      <th>LLC-loads</th>\n",
              "      <th>LLC-store-misses</th>\n",
              "      <th>LLC-stores</th>\n",
              "      <th>branch-load-misses</th>\n",
              "      <th>branch-misses</th>\n",
              "      <th>branches</th>\n",
              "      <th>bus-cycles</th>\n",
              "      <th>cache-misses</th>\n",
              "      <th>cache-references</th>\n",
              "      <th>context-switches</th>\n",
              "      <th>cpu-clock</th>\n",
              "      <th>cycles</th>\n",
              "      <th>dTLB-load-misses</th>\n",
              "      <th>dTLB-store-misses</th>\n",
              "      <th>dTLB-stores</th>\n",
              "      <th>iTLB-load-misses</th>\n",
              "      <th>iTLB-loads</th>\n",
              "      <th>instructions</th>\n",
              "      <th>minor-faults</th>\n",
              "      <th>node-load-misses</th>\n",
              "      <th>node-loads</th>\n",
              "      <th>node-store-misses</th>\n",
              "      <th>node-stores</th>\n",
              "      <th>page-faults</th>\n",
              "      <th>ref-cycles</th>\n",
              "      <th>task-clock</th>\n",
              "      <th>label</th>\n",
              "    </tr>\n",
              "  </thead>\n",
              "  <tbody>\n",
              "    <tr>\n",
              "      <th>0</th>\n",
              "      <td>1.000495</td>\n",
              "      <td>103077728.0</td>\n",
              "      <td>1.231243e+09</td>\n",
              "      <td>898826152.0</td>\n",
              "      <td>72883.0</td>\n",
              "      <td>5839.0</td>\n",
              "      <td>67744732.0</td>\n",
              "      <td>2342.0</td>\n",
              "      <td>18527710.0</td>\n",
              "      <td>7807489.0</td>\n",
              "      <td>7886979.0</td>\n",
              "      <td>628881534.0</td>\n",
              "      <td>99552660.0</td>\n",
              "      <td>8737.0</td>\n",
              "      <td>86426321.0</td>\n",
              "      <td>0.0</td>\n",
              "      <td>1000.331787</td>\n",
              "      <td>2.588345e+09</td>\n",
              "      <td>2037420.0</td>\n",
              "      <td>1125.0</td>\n",
              "      <td>896680176.0</td>\n",
              "      <td>6564.0</td>\n",
              "      <td>65.0</td>\n",
              "      <td>4.156039e+09</td>\n",
              "      <td>0.0</td>\n",
              "      <td>2042.0</td>\n",
              "      <td>3702.0</td>\n",
              "      <td>347.0</td>\n",
              "      <td>2070.0</td>\n",
              "      <td>0.0</td>\n",
              "      <td>2.588679e+09</td>\n",
              "      <td>1000.331761</td>\n",
              "      <td>2</td>\n",
              "    </tr>\n",
              "    <tr>\n",
              "      <th>1</th>\n",
              "      <td>2.000778</td>\n",
              "      <td>103101759.0</td>\n",
              "      <td>1.232799e+09</td>\n",
              "      <td>905120554.0</td>\n",
              "      <td>74731.0</td>\n",
              "      <td>4571.0</td>\n",
              "      <td>67881423.0</td>\n",
              "      <td>2362.0</td>\n",
              "      <td>18554828.0</td>\n",
              "      <td>9133385.0</td>\n",
              "      <td>9165031.0</td>\n",
              "      <td>625981553.0</td>\n",
              "      <td>99547137.0</td>\n",
              "      <td>7102.0</td>\n",
              "      <td>86473425.0</td>\n",
              "      <td>0.0</td>\n",
              "      <td>1000.282500</td>\n",
              "      <td>2.588267e+09</td>\n",
              "      <td>1761197.0</td>\n",
              "      <td>850.0</td>\n",
              "      <td>900898809.0</td>\n",
              "      <td>6452.0</td>\n",
              "      <td>17.0</td>\n",
              "      <td>4.145298e+09</td>\n",
              "      <td>0.0</td>\n",
              "      <td>2057.0</td>\n",
              "      <td>2426.0</td>\n",
              "      <td>288.0</td>\n",
              "      <td>1988.0</td>\n",
              "      <td>0.0</td>\n",
              "      <td>2.588554e+09</td>\n",
              "      <td>1000.279182</td>\n",
              "      <td>2</td>\n",
              "    </tr>\n",
              "    <tr>\n",
              "      <th>2</th>\n",
              "      <td>3.001037</td>\n",
              "      <td>102770344.0</td>\n",
              "      <td>1.237823e+09</td>\n",
              "      <td>899330524.0</td>\n",
              "      <td>71705.0</td>\n",
              "      <td>4151.0</td>\n",
              "      <td>67815941.0</td>\n",
              "      <td>2392.0</td>\n",
              "      <td>18520769.0</td>\n",
              "      <td>8287877.0</td>\n",
              "      <td>8327272.0</td>\n",
              "      <td>628893346.0</td>\n",
              "      <td>99545309.0</td>\n",
              "      <td>6302.0</td>\n",
              "      <td>86445289.0</td>\n",
              "      <td>1.0</td>\n",
              "      <td>1000.234177</td>\n",
              "      <td>2.588165e+09</td>\n",
              "      <td>2273062.0</td>\n",
              "      <td>800.0</td>\n",
              "      <td>897296903.0</td>\n",
              "      <td>6858.0</td>\n",
              "      <td>50.0</td>\n",
              "      <td>4.167709e+09</td>\n",
              "      <td>0.0</td>\n",
              "      <td>2141.0</td>\n",
              "      <td>1678.0</td>\n",
              "      <td>278.0</td>\n",
              "      <td>2112.0</td>\n",
              "      <td>0.0</td>\n",
              "      <td>2.588527e+09</td>\n",
              "      <td>1000.234405</td>\n",
              "      <td>2</td>\n",
              "    </tr>\n",
              "    <tr>\n",
              "      <th>3</th>\n",
              "      <td>4.001291</td>\n",
              "      <td>102978552.0</td>\n",
              "      <td>1.238686e+09</td>\n",
              "      <td>896826652.0</td>\n",
              "      <td>72874.0</td>\n",
              "      <td>3564.0</td>\n",
              "      <td>67792090.0</td>\n",
              "      <td>2341.0</td>\n",
              "      <td>18533209.0</td>\n",
              "      <td>7735405.0</td>\n",
              "      <td>7619128.0</td>\n",
              "      <td>629780640.0</td>\n",
              "      <td>99547593.0</td>\n",
              "      <td>5947.0</td>\n",
              "      <td>86563931.0</td>\n",
              "      <td>0.0</td>\n",
              "      <td>1000.238555</td>\n",
              "      <td>2.588264e+09</td>\n",
              "      <td>2157620.0</td>\n",
              "      <td>1000.0</td>\n",
              "      <td>898206667.0</td>\n",
              "      <td>7405.0</td>\n",
              "      <td>46.0</td>\n",
              "      <td>4.175008e+09</td>\n",
              "      <td>0.0</td>\n",
              "      <td>2336.0</td>\n",
              "      <td>1478.0</td>\n",
              "      <td>350.0</td>\n",
              "      <td>2038.0</td>\n",
              "      <td>0.0</td>\n",
              "      <td>2.588566e+09</td>\n",
              "      <td>1000.238518</td>\n",
              "      <td>2</td>\n",
              "    </tr>\n",
              "    <tr>\n",
              "      <th>4</th>\n",
              "      <td>5.001552</td>\n",
              "      <td>103130303.0</td>\n",
              "      <td>1.233340e+09</td>\n",
              "      <td>904715733.0</td>\n",
              "      <td>73539.0</td>\n",
              "      <td>3078.0</td>\n",
              "      <td>67095884.0</td>\n",
              "      <td>2344.0</td>\n",
              "      <td>18528084.0</td>\n",
              "      <td>8670019.0</td>\n",
              "      <td>8614560.0</td>\n",
              "      <td>627457256.0</td>\n",
              "      <td>99546692.0</td>\n",
              "      <td>5607.0</td>\n",
              "      <td>86487874.0</td>\n",
              "      <td>0.0</td>\n",
              "      <td>1000.249457</td>\n",
              "      <td>2.588232e+09</td>\n",
              "      <td>2279698.0</td>\n",
              "      <td>1113.0</td>\n",
              "      <td>896643768.0</td>\n",
              "      <td>6489.0</td>\n",
              "      <td>42.0</td>\n",
              "      <td>4.161144e+09</td>\n",
              "      <td>20.0</td>\n",
              "      <td>2063.0</td>\n",
              "      <td>1263.0</td>\n",
              "      <td>288.0</td>\n",
              "      <td>2125.0</td>\n",
              "      <td>20.0</td>\n",
              "      <td>2.588545e+09</td>\n",
              "      <td>1000.249625</td>\n",
              "      <td>2</td>\n",
              "    </tr>\n",
              "  </tbody>\n",
              "</table>\n",
              "</div>"
            ],
            "text/plain": [
              "       time  L1-dcache-load-misses  ...   task-clock  label\n",
              "0  1.000495            103077728.0  ...  1000.331761      2\n",
              "1  2.000778            103101759.0  ...  1000.279182      2\n",
              "2  3.001037            102770344.0  ...  1000.234405      2\n",
              "3  4.001291            102978552.0  ...  1000.238518      2\n",
              "4  5.001552            103130303.0  ...  1000.249625      2\n",
              "\n",
              "[5 rows x 33 columns]"
            ]
          },
          "metadata": {
            "tags": []
          },
          "execution_count": 5
        }
      ]
    },
    {
      "cell_type": "code",
      "metadata": {
        "id": "wdr7yrCrcl-I",
        "colab_type": "code",
        "outputId": "1f262005-8cab-4cf6-f969-91b70aba066f",
        "colab": {
          "base_uri": "https://localhost:8080/",
          "height": 53
        }
      },
      "source": [
        "print(\"samples and columns\", full_df.shape)\n",
        "print(\"Possible labels \", np.unique(full_df['label']) )"
      ],
      "execution_count": 6,
      "outputs": [
        {
          "output_type": "stream",
          "text": [
            "samples and columns (2610, 33)\n",
            "Possible labels  [0 1 2]\n"
          ],
          "name": "stdout"
        }
      ]
    },
    {
      "cell_type": "code",
      "metadata": {
        "id": "gdXSQpLANx-8",
        "colab_type": "code",
        "outputId": "a4248fc9-5922-49ac-a0e2-667b52b49d8c",
        "colab": {
          "base_uri": "https://localhost:8080/",
          "height": 107
        }
      },
      "source": [
        "def train_validation_test_splits(data, train_size, validation_size):\n",
        "    assert(train_size + validation_size < 1.0)\n",
        "    # shuffling of the dataset\n",
        "    np.random.shuffle(data)\n",
        "    # extract the training portion\n",
        "    n = int(train_size * len(data))\n",
        "    train, rest = data[:n,:], data[n:,:]\n",
        "    # from the remaining examples, we extract the validation and test portions\n",
        "    n = int(validation_size * len(data))\n",
        "    validation, test = rest[:n,:], rest[n:,:]\n",
        "    return train, validation, test\n",
        "\n",
        "train, validation, test = train_validation_test_splits(data, 0.8, 0.1)\n",
        "\n",
        "print('The number of examples in the original dataset is ' + str(data.shape[0]))\n",
        "\n",
        "print('The training-set has ' + str(train.shape[0]) + ' examples')\n",
        "print('The validation-set has ' + str(validation.shape[0]) + ' exampels')\n",
        "print('The test-set has ' + str(test.shape[0]) + ' examples')\n",
        "print('The shape of train is ' + str(train.shape)) "
      ],
      "execution_count": 7,
      "outputs": [
        {
          "output_type": "stream",
          "text": [
            "The number of examples in the original dataset is 2610\n",
            "The training-set has 2088 examples\n",
            "The validation-set has 261 exampels\n",
            "The test-set has 261 examples\n",
            "The shape of train is (2088, 33)\n"
          ],
          "name": "stdout"
        }
      ]
    },
    {
      "cell_type": "markdown",
      "metadata": {
        "id": "kC4hctiCcCZr",
        "colab_type": "text"
      },
      "source": [
        "# Pre-processing"
      ]
    },
    {
      "cell_type": "code",
      "metadata": {
        "id": "Bvw0Rj_WNx_G",
        "colab_type": "code",
        "colab": {}
      },
      "source": [
        "# We separate the last column in \n",
        "train_x, train_y = np.hsplit(train, [train.shape[1] - 1])\n",
        "train_y = train_y.reshape(-1).astype(int)\n",
        "\n",
        "validation_x, validation_y = np.hsplit(validation, [validation.shape[1] - 1])\n",
        "validation_y = validation_y.reshape(-1).astype(int)\n",
        "\n",
        "test_x, test_y = np.hsplit(test, [test.shape[1] - 1])\n",
        "test_y = test_y.reshape(-1).astype(int)"
      ],
      "execution_count": 0,
      "outputs": []
    },
    {
      "cell_type": "markdown",
      "metadata": {
        "id": "mG3QQz4icEsJ",
        "colab_type": "text"
      },
      "source": [
        "We apply Min-Max scaler. In this code we do it by hand, but we could have done it also by directly using `sklearn.preprocessing.MinMaxScaler`."
      ]
    },
    {
      "cell_type": "code",
      "metadata": {
        "id": "4b-YT34ENx_M",
        "colab_type": "code",
        "colab": {}
      },
      "source": [
        "min = train_x.min(axis=0)\n",
        "max = train_x.max(axis=0)\n",
        "\n",
        "train_x = (train_x - min)/(max - min)\n",
        "validation_x = (validation_x - min)/(max - min)\n",
        "test_x = (test_x - min)/(max - min)"
      ],
      "execution_count": 0,
      "outputs": []
    },
    {
      "cell_type": "markdown",
      "metadata": {
        "id": "C4DLhKZnKxxD",
        "colab_type": "text"
      },
      "source": [
        "# Google Drive"
      ]
    },
    {
      "cell_type": "markdown",
      "metadata": {
        "id": "WkrrtK8jPlvd",
        "colab_type": "text"
      },
      "source": [
        "Use the following code (modify it with the names of your folders) to attach your google drive, where you will store your models, to be used later in the testbed notebook."
      ]
    },
    {
      "cell_type": "code",
      "metadata": {
        "id": "f8SLPKQ6PIhI",
        "colab_type": "code",
        "colab": {
          "base_uri": "https://localhost:8080/",
          "height": 127
        },
        "outputId": "d33894ca-884c-42ef-89d6-08dd2b081672"
      },
      "source": [
        "mount_point = '/content/gdrive' # Always the same, don't change it\n",
        "drive.mount(mount_point, force_remount=True)\n",
        "drive_path = mount_point + '/My Drive/' # Always the same, don't change it\n",
        "\n",
        "# Replace the following folder with some folder inside your google drive\n",
        "my_path = drive_path + \\\n",
        "  'tsp/teaching/data-R-for-networks/img-from-code/09.highspeed-net/'"
      ],
      "execution_count": 12,
      "outputs": [
        {
          "output_type": "stream",
          "text": [
            "Go to this URL in a browser: https://accounts.google.com/o/oauth2/auth?client_id=947318989803-6bn6qk8qdgf4n4g3pfee6491hc0brc4i.apps.googleusercontent.com&redirect_uri=urn%3aietf%3awg%3aoauth%3a2.0%3aoob&response_type=code&scope=email%20https%3a%2f%2fwww.googleapis.com%2fauth%2fdocs.test%20https%3a%2f%2fwww.googleapis.com%2fauth%2fdrive%20https%3a%2f%2fwww.googleapis.com%2fauth%2fdrive.photos.readonly%20https%3a%2f%2fwww.googleapis.com%2fauth%2fpeopleapi.readonly\n",
            "\n",
            "Enter your authorization code:\n",
            "··········\n",
            "Mounted at /content/gdrive\n"
          ],
          "name": "stdout"
        }
      ]
    },
    {
      "cell_type": "markdown",
      "metadata": {
        "id": "_HYIodkjdL6w",
        "colab_type": "text"
      },
      "source": [
        "# Logistic Regression"
      ]
    },
    {
      "cell_type": "code",
      "metadata": {
        "id": "6MIcuYmaQY23",
        "colab_type": "code",
        "colab": {
          "base_uri": "https://localhost:8080/",
          "height": 675
        },
        "outputId": "40cad859-a534-43c5-bb0d-e3959fe26efc"
      },
      "source": [
        "model = LogisticRegression(multi_class=\"multinomial\", solver=\"lbfgs\")\n",
        "model.fit(train_x, train_y)\n",
        "y_pred = model.predict(test_x)\n",
        "class_names = np.array([\"low\", \"mid\", \"high\"] )\n",
        "plot_conf_mat(test_y, y_pred, class_names)"
      ],
      "execution_count": 19,
      "outputs": [
        {
          "output_type": "stream",
          "text": [
            "Normalized confusion matrix\n",
            "[[1. 0. 0.]\n",
            " [0. 1. 0.]\n",
            " [0. 0. 1.]]\n"
          ],
          "name": "stdout"
        },
        {
          "output_type": "execute_result",
          "data": {
            "text/plain": [
              "<matplotlib.axes._subplots.AxesSubplot at 0x7f25a0ed2fd0>"
            ]
          },
          "metadata": {
            "tags": []
          },
          "execution_count": 19
        },
        {
          "output_type": "display_data",
          "data": {
            "image/png": "[encoded data removed]",
            "text/plain": [
              "<Figure size 576x576 with 2 Axes>"
            ]
          },
          "metadata": {
            "tags": [],
            "needs_background": "light"
          }
        }
      ]
    },
    {
      "cell_type": "markdown",
      "metadata": {
        "id": "F7xQEweVcXOB",
        "colab_type": "text"
      },
      "source": [
        "# Neural Network\n",
        "\n",
        "**aa: Perché output size è 2, mentre invece nel dataset che carichi (tu carichi full_df) ci sono 3 labels?**"
      ]
    },
    {
      "cell_type": "code",
      "metadata": {
        "id": "jUbQbRNpNx_T",
        "colab_type": "code",
        "colab": {}
      },
      "source": [
        "class MLP(nn.Module):\n",
        "    \n",
        "    def __init__(self, input_size:int=10, hidden:List[int]=[10, 20, 30], output_size:int = 2):\n",
        "        super(MLP, self).__init__()\n",
        "        #Your definition here\n",
        "        \n",
        "    def forward(self, x):\n",
        "        #Your forward here\n",
        "        y = F.softmax(y)\n",
        "        return y\n",
        "        \n",
        "        "
      ],
      "execution_count": 0,
      "outputs": []
    },
    {
      "cell_type": "code",
      "metadata": {
        "id": "oCGb-LtMNx_a",
        "colab_type": "code",
        "outputId": "cf12debe-cd1e-49f2-a6dd-693c1aaae6d3",
        "colab": {
          "base_uri": "https://localhost:8080/",
          "height": 208
        }
      },
      "source": [
        "model = MLP(a, [b], c)     # Where a is the number of features, and c is the number of classes\n",
        "model = model.double()\n",
        "model.parameters()"
      ],
      "execution_count": 0,
      "outputs": [
        {
          "output_type": "error",
          "ename": "NameError",
          "evalue": "ignored",
          "traceback": [
            "\u001b[0;31m---------------------------------------------------------------------------\u001b[0m",
            "\u001b[0;31mNameError\u001b[0m                                 Traceback (most recent call last)",
            "\u001b[0;32m<ipython-input-18-cfac445f1f7a>\u001b[0m in \u001b[0;36m<module>\u001b[0;34m()\u001b[0m\n\u001b[0;32m----> 1\u001b[0;31m \u001b[0mmodel\u001b[0m \u001b[0;34m=\u001b[0m \u001b[0mMLP\u001b[0m\u001b[0;34m(\u001b[0m\u001b[0ma\u001b[0m\u001b[0;34m,\u001b[0m \u001b[0;34m[\u001b[0m\u001b[0mb\u001b[0m\u001b[0;34m]\u001b[0m\u001b[0;34m,\u001b[0m \u001b[0mc\u001b[0m\u001b[0;34m)\u001b[0m     \u001b[0;31m# Where a is the number of features, and c is the number of classes\u001b[0m\u001b[0;34m\u001b[0m\u001b[0;34m\u001b[0m\u001b[0m\n\u001b[0m\u001b[1;32m      2\u001b[0m \u001b[0mmodel\u001b[0m \u001b[0;34m=\u001b[0m \u001b[0mmodel\u001b[0m\u001b[0;34m.\u001b[0m\u001b[0mdouble\u001b[0m\u001b[0;34m(\u001b[0m\u001b[0;34m)\u001b[0m\u001b[0;34m\u001b[0m\u001b[0;34m\u001b[0m\u001b[0m\n\u001b[1;32m      3\u001b[0m \u001b[0mmodel\u001b[0m\u001b[0;34m.\u001b[0m\u001b[0mparameters\u001b[0m\u001b[0;34m(\u001b[0m\u001b[0;34m)\u001b[0m\u001b[0;34m\u001b[0m\u001b[0;34m\u001b[0m\u001b[0m\n",
            "\u001b[0;31mNameError\u001b[0m: name 'a' is not defined"
          ]
        }
      ]
    },
    {
      "cell_type": "code",
      "metadata": {
        "id": "HpxuLoYHNx_e",
        "colab_type": "code",
        "colab": {}
      },
      "source": [
        "criterion = nn.CrossEntropyLoss()\n",
        "\n",
        "# Your optimizer here\n",
        "#optimizer = optim.SGD(model.parameters(), lr=0.001, momentum=0.9, weight_decay=0)\n",
        "optimizer = optim.Adam(model.parameters(), lr=0.01)"
      ],
      "execution_count": 0,
      "outputs": []
    },
    {
      "cell_type": "code",
      "metadata": {
        "id": "UuY6OcqRNx_j",
        "colab_type": "code",
        "colab": {}
      },
      "source": [
        "batch_size = 32\n",
        "\n",
        "train_dataset = TensorDataset(\n",
        "    torch.from_numpy(train_x).double(), \n",
        "    torch.from_numpy(train_y))\n",
        "train_loader = DataLoader(train_dataset, batch_size=batch_size, shuffle=True)\n",
        "\n",
        "validation_dataset = TensorDataset(\n",
        "    torch.from_numpy(validation_x).double(), \n",
        "    torch.from_numpy(validation_y))\n",
        "validation_loader = DataLoader(validation_dataset, batch_size=batch_size, shuffle=False)\n",
        "\n",
        "\n",
        "test_dataset = TensorDataset(\n",
        "    torch.from_numpy(test_x).double(), \n",
        "    torch.from_numpy(test_y))\n",
        "test_loader = DataLoader(test_dataset, batch_size=batch_size, shuffle=False)"
      ],
      "execution_count": 0,
      "outputs": []
    },
    {
      "cell_type": "code",
      "metadata": {
        "id": "pqoop3bWNx_p",
        "colab_type": "code",
        "colab": {}
      },
      "source": [
        "liveloss = PlotLosses()"
      ],
      "execution_count": 0,
      "outputs": []
    },
    {
      "cell_type": "code",
      "metadata": {
        "id": "MjdLQGk7Nx_u",
        "colab_type": "code",
        "outputId": "8e5355df-d2d0-469f-f281-d018b6ecdf3b",
        "colab": {}
      },
      "source": [
        "epochs = 10\n",
        "\n",
        "data_loader = {'train':train_loader, 'validation':validation_loader}\n",
        "\n",
        "for epoch in range(epochs):  # loop over the dataset multiple times\n",
        "    \n",
        "    ####\n",
        "    # Your training here\n",
        "    ####\n",
        "    \n",
        "    \n",
        "    epoch_loss = running_loss / len(data_loader[phase].dataset)\n",
        "    logs[prefix + 'log loss'] = epoch_loss.item()\n",
        "    epoch_acc = running_corrects.float() / len(data_loader[phase].dataset)\n",
        "    logs[prefix + 'accuracy'] = epoch_acc.item()\n",
        "    \n",
        "    liveloss.update(logs)\n",
        "    liveloss.draw()"
      ],
      "execution_count": 0,
      "outputs": [
        {
          "output_type": "display_data",
          "data": {
            "image/png": "[encoded data removed]",
            "text/plain": [
              "<Figure size 864x576 with 2 Axes>"
            ]
          },
          "metadata": {
            "tags": [],
            "needs_background": "light"
          }
        },
        {
          "output_type": "stream",
          "text": [
            "accuracy\n",
            "\ttraining         \t (min:    0.586, max:    1.000, cur:    1.000)\n",
            "\tvalidation       \t (min:    0.996, max:    1.000, cur:    1.000)\n",
            "log loss\n",
            "\ttraining         \t (min:    0.871, max:    1.061, cur:    0.873)\n",
            "\tvalidation       \t (min:    0.871, max:    0.999, cur:    0.873)\n"
          ],
          "name": "stdout"
        }
      ]
    },
    {
      "cell_type": "code",
      "metadata": {
        "id": "ZQgv9gKVNx_0",
        "colab_type": "code",
        "outputId": "55c4a24e-0604-4a03-cf6b-ec129a0c38b2",
        "colab": {}
      },
      "source": [
        "# Your evaluation here\n",
        "\n",
        "model.eval()\n",
        "\n",
        "running_loss = 0.0\n",
        "running_corrects = 0\n",
        "for i, batch in enumerate(test_loader):\n",
        "    x, y = batch\n",
        "    y_pred = model(x)\n",
        "    _, y_pred = torch.max(y_pred.detach(), 1)\n",
        "    running_corrects += torch.sum(y_pred == y)\n",
        "\n",
        "acc = running_corrects.float() / len(data_loader[phase].dataset)\n",
        "print(acc)\n"
      ],
      "execution_count": 0,
      "outputs": [
        {
          "output_type": "stream",
          "text": [
            "tensor(1.)\n"
          ],
          "name": "stdout"
        },
        {
          "output_type": "stream",
          "text": [
            "<ipython-input-34-e9c7a85e67d8>:16: UserWarning: Implicit dimension choice for softmax has been deprecated. Change the call to include dim=X as an argument.\n",
            "  y = F.softmax(y)\n"
          ],
          "name": "stderr"
        }
      ]
    },
    {
      "cell_type": "code",
      "metadata": {
        "id": "RzIvCR4-Nx_4",
        "colab_type": "code",
        "colab": {}
      },
      "source": [
        ""
      ],
      "execution_count": 0,
      "outputs": []
    }
  ]
}