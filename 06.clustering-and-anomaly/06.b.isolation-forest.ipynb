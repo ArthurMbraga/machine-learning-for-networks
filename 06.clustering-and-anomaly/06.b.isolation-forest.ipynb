{
  "nbformat": 4,
  "nbformat_minor": 0,
  "metadata": {
    "colab": {
      "name": "anomaly-detection.ipynb",
      "provenance": [],
      "collapsed_sections": [],
      "toc_visible": true,
      "authorship_tag": "ABX9TyNeIDvXXg2WNO/51vl4ZMxZ",
      "include_colab_link": true
    },
    "kernelspec": {
      "name": "python3",
      "display_name": "Python 3"
    }
  },
  "cells": [
    {
      "cell_type": "markdown",
      "metadata": {
        "id": "view-in-github",
        "colab_type": "text"
      },
      "source": [
        "<a href=\"https://colab.research.google.com/github/andreaaraldo/machine-learning-for-networks/blob/master/06.clustering-and-anomaly/06.b.isolation-forest.ipynb\" target=\"_parent\"><img src=\"https://colab.research.google.com/assets/colab-badge.svg\" alt=\"Open In Colab\"/></a>"
      ]
    },
    {
      "cell_type": "code",
      "metadata": {
        "id": "GBULsF7v48hW",
        "colab_type": "code",
        "outputId": "4a6efb5d-945d-4c8e-cf62-9043edb7351e",
        "colab": {
          "base_uri": "https://localhost:8080/",
          "height": 629
        }
      },
      "source": [
        "import pandas as pd\n",
        "import numpy as np\n",
        "import matplotlib.pyplot as plt\n",
        "import random\n",
        "\n",
        "from sklearn.model_selection import GridSearchCV\n",
        "from sklearn.ensemble import IsolationForest\n",
        "from sklearn.metrics import average_precision_score, precision_score, \\\n",
        "                        recall_score, precision_recall_curve, roc_curve, \\\n",
        "                        roc_auc_score\n",
        "from sklearn.model_selection import train_test_split\n",
        "from sklearn.utils import shuffle\n",
        "\n",
        "\n",
        "\n",
        "# I prepared these libraries for you\n",
        "! wget https://raw.githubusercontent.com/andreaaraldo/machine-learning-for-networks/master/course_library/andrea_models.py\n",
        "! wget https://raw.githubusercontent.com/andreaaraldo/machine-learning-for-networks/master/course_library/visualization.py\n",
        "from andrea_models import subsample\n",
        "from visualization import silhouette_diagram, plot_conf_mat, \\\n",
        "                      false_positive_rate, evaluate_anomaly_detector\n",
        "\n",
        "\n",
        "\n",
        "# To show time at each cell\n",
        "# Credits to https://medium.com/@arptoth/how-to-measure-execution-time-in-google-colab-707cc9aad1c8\n",
        "!pip install ipython-autotime \n",
        "%load_ext autotime"
      ],
      "execution_count": 1,
      "outputs": [
        {
          "output_type": "stream",
          "text": [
            "--2020-04-03 15:53:48--  https://raw.githubusercontent.com/andreaaraldo/machine-learning-for-networks/master/course_library/andrea_models.py\n",
            "Resolving raw.githubusercontent.com (raw.githubusercontent.com)... 151.101.0.133, 151.101.64.133, 151.101.128.133, ...\n",
            "Connecting to raw.githubusercontent.com (raw.githubusercontent.com)|151.101.0.133|:443... connected.\n",
            "HTTP request sent, awaiting response... 200 OK\n",
            "Length: 3190 (3.1K) [text/plain]\n",
            "Saving to: ‘andrea_models.py’\n",
            "\n",
            "\randrea_models.py      0%[                    ]       0  --.-KB/s               \randrea_models.py    100%[===================>]   3.12K  --.-KB/s    in 0s      \n",
            "\n",
            "2020-04-03 15:53:48 (49.4 MB/s) - ‘andrea_models.py’ saved [3190/3190]\n",
            "\n",
            "--2020-04-03 15:53:51--  https://raw.githubusercontent.com/andreaaraldo/machine-learning-for-networks/master/course_library/visualization.py\n",
            "Resolving raw.githubusercontent.com (raw.githubusercontent.com)... 151.101.0.133, 151.101.64.133, 151.101.128.133, ...\n",
            "Connecting to raw.githubusercontent.com (raw.githubusercontent.com)|151.101.0.133|:443... connected.\n",
            "HTTP request sent, awaiting response... 200 OK\n",
            "Length: 12412 (12K) [text/plain]\n",
            "Saving to: ‘visualization.py’\n",
            "\n",
            "visualization.py    100%[===================>]  12.12K  --.-KB/s    in 0s      \n",
            "\n",
            "2020-04-03 15:53:51 (161 MB/s) - ‘visualization.py’ saved [12412/12412]\n",
            "\n"
          ],
          "name": "stdout"
        },
        {
          "output_type": "stream",
          "text": [
            "/usr/local/lib/python3.6/dist-packages/statsmodels/tools/_testing.py:19: FutureWarning: pandas.util.testing is deprecated. Use the functions in the public API at pandas.testing instead.\n",
            "  import pandas.util.testing as tm\n"
          ],
          "name": "stderr"
        },
        {
          "output_type": "stream",
          "text": [
            "Collecting ipython-autotime\n",
            "  Downloading https://files.pythonhosted.org/packages/e6/f9/0626bbdb322e3a078d968e87e3b01341e7890544de891d0cb613641220e6/ipython-autotime-0.1.tar.bz2\n",
            "Building wheels for collected packages: ipython-autotime\n",
            "  Building wheel for ipython-autotime (setup.py) ... \u001b[?25l\u001b[?25hdone\n",
            "  Created wheel for ipython-autotime: filename=ipython_autotime-0.1-cp36-none-any.whl size=1832 sha256=4232196b0bda4feec3541d7712982f4dbf52c1841c0d821c6d6b94a7c9c9b3f5\n",
            "  Stored in directory: /root/.cache/pip/wheels/d2/df/81/2db1e54bc91002cec40334629bc39cfa86dff540b304ebcd6e\n",
            "Successfully built ipython-autotime\n",
            "Installing collected packages: ipython-autotime\n",
            "Successfully installed ipython-autotime-0.1\n"
          ],
          "name": "stdout"
        }
      ]
    },
    {
      "cell_type": "markdown",
      "metadata": {
        "id": "2cwrp2t9Kxtf",
        "colab_type": "text"
      },
      "source": [
        "The following code is the same as in the [previous notebook](https://github.com/andreaaraldo/machine-learning-for-networks/blob/master/06.clustering-and-anomaly/06.a.kmeans-anomaly.ipynb)."
      ]
    },
    {
      "cell_type": "code",
      "metadata": {
        "id": "oXUz8ht82vnA",
        "colab_type": "code",
        "colab": {
          "base_uri": "https://localhost:8080/",
          "height": 107
        },
        "outputId": "f63705c6-4191-43e7-8d5e-96459ce96f39"
      },
      "source": [
        "help(evaluate_anomaly_detector)"
      ],
      "execution_count": 23,
      "outputs": [
        {
          "output_type": "stream",
          "text": [
            "Help on function evaluate_anomaly_detector in module __main__:\n",
            "\n",
            "evaluate_anomaly_detector(y_train, anomaly_scores)\n",
            "\n",
            "time: 2.42 ms\n"
          ],
          "name": "stdout"
        }
      ]
    },
    {
      "cell_type": "code",
      "metadata": {
        "id": "ZY_xtEaVP4y5",
        "colab_type": "code",
        "outputId": "a0a27822-dc40-417c-c156-d5f8ba108eef",
        "colab": {
          "base_uri": "https://localhost:8080/",
          "height": 1000
        }
      },
      "source": [
        "np.random.seed(9)\n",
        "random.seed(9)\n",
        "\n",
        "! wget https://datahub.io/machine-learning/creditcard/r/creditcard.csv\n",
        "\n",
        "df = pd.read_csv('creditcard.csv')\n",
        "df.head()\n",
        "\n",
        "df.info(verbose=True)\n",
        "df['Class'].value_counts()\n",
        "num_of_normal = sum( df['Class']==\"'0'\" )\n",
        "num_of_anomalies = sum( df['Class']==\"'1'\" )\n",
        "num_of_anomalies/num_of_normal\n",
        "\n",
        "df = df.drop('Time', axis=1)\n",
        "X = df.drop('Class', axis=1)\n",
        "y = [1 if c==\"'1'\" else 0 for c in df['Class']] "
      ],
      "execution_count": 7,
      "outputs": [
        {
          "output_type": "stream",
          "text": [
            "--2020-04-03 15:55:59--  https://datahub.io/machine-learning/creditcard/r/creditcard.csv\n",
            "Resolving datahub.io (datahub.io)... 104.18.49.253, 104.18.48.253, 2606:4700:3033::6812:31fd, ...\n",
            "Connecting to datahub.io (datahub.io)|104.18.49.253|:443... connected.\n",
            "HTTP request sent, awaiting response... 302 Found\n",
            "Location: https://pkgstore.datahub.io/machine-learning/creditcard/creditcard_csv/data/ebdc64b6837b3026238f3fcad3402337/creditcard_csv.csv [following]\n",
            "--2020-04-03 15:56:01--  https://pkgstore.datahub.io/machine-learning/creditcard/creditcard_csv/data/ebdc64b6837b3026238f3fcad3402337/creditcard_csv.csv\n",
            "Resolving pkgstore.datahub.io (pkgstore.datahub.io)... 104.18.49.253, 104.18.48.253, 2606:4700:3031::6812:30fd, ...\n",
            "Connecting to pkgstore.datahub.io (pkgstore.datahub.io)|104.18.49.253|:443... connected.\n",
            "HTTP request sent, awaiting response... 200 OK\n",
            "Length: 151114991 (144M) [text/csv]\n",
            "Saving to: ‘creditcard.csv’\n",
            "\n",
            "creditcard.csv      100%[===================>] 144.11M   134MB/s    in 1.1s    \n",
            "\n",
            "2020-04-03 15:56:02 (134 MB/s) - ‘creditcard.csv’ saved [151114991/151114991]\n",
            "\n",
            "<class 'pandas.core.frame.DataFrame'>\n",
            "RangeIndex: 284807 entries, 0 to 284806\n",
            "Data columns (total 31 columns):\n",
            " #   Column  Non-Null Count   Dtype  \n",
            "---  ------  --------------   -----  \n",
            " 0   Time    284807 non-null  float64\n",
            " 1   V1      284807 non-null  float64\n",
            " 2   V2      284807 non-null  float64\n",
            " 3   V3      284807 non-null  float64\n",
            " 4   V4      284807 non-null  float64\n",
            " 5   V5      284807 non-null  float64\n",
            " 6   V6      284807 non-null  float64\n",
            " 7   V7      284807 non-null  float64\n",
            " 8   V8      284807 non-null  float64\n",
            " 9   V9      284807 non-null  float64\n",
            " 10  V10     284807 non-null  float64\n",
            " 11  V11     284807 non-null  float64\n",
            " 12  V12     284807 non-null  float64\n",
            " 13  V13     284807 non-null  float64\n",
            " 14  V14     284807 non-null  float64\n",
            " 15  V15     284807 non-null  float64\n",
            " 16  V16     284807 non-null  float64\n",
            " 17  V17     284807 non-null  float64\n",
            " 18  V18     284807 non-null  float64\n",
            " 19  V19     284807 non-null  float64\n",
            " 20  V20     284807 non-null  float64\n",
            " 21  V21     284807 non-null  float64\n",
            " 22  V22     284807 non-null  float64\n",
            " 23  V23     284807 non-null  float64\n",
            " 24  V24     284807 non-null  float64\n",
            " 25  V25     284807 non-null  float64\n",
            " 26  V26     284807 non-null  float64\n",
            " 27  V27     284807 non-null  float64\n",
            " 28  V28     284807 non-null  float64\n",
            " 29  Amount  284807 non-null  float64\n",
            " 30  Class   284807 non-null  object \n",
            "dtypes: float64(30), object(1)\n",
            "memory usage: 67.4+ MB\n",
            "time: 7.17 s\n"
          ],
          "name": "stdout"
        }
      ]
    },
    {
      "cell_type": "markdown",
      "metadata": {
        "id": "UsH49kUrLdvB",
        "colab_type": "text"
      },
      "source": [
        "Differently than KMeans, isolation forests do not need any scaling."
      ]
    },
    {
      "cell_type": "code",
      "metadata": {
        "colab_type": "code",
        "id": "fMWM5kAednaT",
        "colab": {}
      },
      "source": [
        ""
      ],
      "execution_count": 0,
      "outputs": []
    },
    {
      "cell_type": "markdown",
      "metadata": {
        "id": "vFOEyU9FSlOG",
        "colab_type": "text"
      },
      "source": [
        "# Tune the Precision-Recall curve and the ROC curve\n",
        "\n",
        "We will apply isolation forests on the credit card fraud dataset, already used in the [previous notebook](https://github.com/andreaaraldo/machine-learning-for-networks/blob/master/06.clustering-and-anomaly/06.a.kmeans-anomaly.ipynb). A similar notebook can be found in [Kaggle](https://www.kaggle.com/amarnayak/testing-isolation-forest-for-fraud-detection). \n",
        "\n",
        " As in the [previous notebook](https://github.com/andreaaraldo/machine-learning-for-networks/blob/master/06.clustering-and-anomaly/06.a.kmeans-anomaly.ipynb), we separate training and test set."
      ]
    },
    {
      "cell_type": "code",
      "metadata": {
        "id": "3sUY9uLbSEOJ",
        "colab_type": "code",
        "outputId": "26f56702-e5fc-4c9e-91f4-5226af367712",
        "colab": {
          "base_uri": "https://localhost:8080/",
          "height": 35
        }
      },
      "source": [
        "X, y = shuffle(X,y)\n",
        "X_train, X_test, y_train, y_test = train_test_split(X, y, test_size=0.5)\n",
        "model = IsolationForest()"
      ],
      "execution_count": 8,
      "outputs": [
        {
          "output_type": "stream",
          "text": [
            "time: 300 ms\n"
          ],
          "name": "stdout"
        }
      ]
    },
    {
      "cell_type": "code",
      "metadata": {
        "id": "pTSx-sPV24L1",
        "colab_type": "code",
        "colab": {}
      },
      "source": [
        "help(evaluate_anomaly_detector)"
      ],
      "execution_count": 0,
      "outputs": []
    },
    {
      "cell_type": "markdown",
      "metadata": {
        "id": "LQeTbkVGXgzl",
        "colab_type": "text"
      },
      "source": [
        "Our approach is unsupervised, so we **don't use y into fit(..)**"
      ]
    },
    {
      "cell_type": "code",
      "metadata": {
        "id": "N5jtm6q3UDjt",
        "colab_type": "code",
        "outputId": "56b79e77-75a1-4075-ce5b-06cfe18681e8",
        "colab": {
          "base_uri": "https://localhost:8080/",
          "height": 35
        }
      },
      "source": [
        "model.fit(X_train)\n",
        "anomaly_scores = - model.decision_function(X_train)"
      ],
      "execution_count": 9,
      "outputs": [
        {
          "output_type": "stream",
          "text": [
            "time: 7.87 s\n"
          ],
          "name": "stdout"
        }
      ]
    },
    {
      "cell_type": "code",
      "metadata": {
        "id": "0PcEYdkFKvIe",
        "colab_type": "code",
        "outputId": "cfd16e6c-6e2e-4e4b-a555-f59a7b46ab00",
        "colab": {
          "base_uri": "https://localhost:8080/",
          "height": 1000
        }
      },
      "source": [
        "evaluate_anomaly_detector(y_train, anomaly_scores)"
      ],
      "execution_count": 10,
      "outputs": [
        {
          "output_type": "display_data",
          "data": {
            "image/png": "[encoded data removed]",
            "text/plain": [
              "<Figure size 1152x1152 with 6 Axes>"
            ]
          },
          "metadata": {
            "tags": []
          }
        },
        {
          "output_type": "stream",
          "text": [
            "time: 1.51 s\n"
          ],
          "name": "stdout"
        }
      ]
    },
    {
      "cell_type": "markdown",
      "metadata": {
        "id": "bD0uukLiP-9P",
        "colab_type": "text"
      },
      "source": [
        "Our isolation tree is still bad. The AUC of the precision-recall and ROC curves can be improved"
      ]
    },
    {
      "cell_type": "code",
      "metadata": {
        "id": "KqRePBmO2zA_",
        "colab_type": "code",
        "colab": {}
      },
      "source": [
        "help(evaluate_anomaly_detector)"
      ],
      "execution_count": 0,
      "outputs": []
    },
    {
      "cell_type": "markdown",
      "metadata": {
        "id": "4ygrbAGV7Gre",
        "colab_type": "text"
      },
      "source": [
        "Create a function to put all these evaluations together"
      ]
    },
    {
      "cell_type": "code",
      "metadata": {
        "id": "aMdAK_Wu7NJt",
        "colab_type": "code",
        "outputId": "2dfafb10-93db-403a-9b8f-dd30e56f564f",
        "colab": {
          "base_uri": "https://localhost:8080/",
          "height": 35
        }
      },
      "source": [
        "def evaluate_anomaly_detector(y_train, anomaly_scores):\n",
        "  precision, recall, thresholds = precision_recall_curve(y_train, anomaly_scores)\n",
        "  plt.plot(recall, precision)\n",
        "  plt.ylabel('Precision')\n",
        "  plt.xlabel('Recall')\n",
        "\n",
        "  auc_score = average_precision_score(y_train,anomaly_scores)\n",
        "  print(\"Area under the precision-recall curve:\", auc_score)\n",
        "\n",
        "  return precision, recall, thresholds, auc_score"
      ],
      "execution_count": 11,
      "outputs": [
        {
          "output_type": "stream",
          "text": [
            "time: 5.67 ms\n"
          ],
          "name": "stdout"
        }
      ]
    },
    {
      "cell_type": "markdown",
      "metadata": {
        "id": "8f64ObuR50-p",
        "colab_type": "text"
      },
      "source": [
        "### Number of trees\n",
        "\n",
        "Increasing the number of trees always improves performance"
      ]
    },
    {
      "cell_type": "code",
      "metadata": {
        "id": "8Qshgv_B57u3",
        "colab_type": "code",
        "outputId": "2055a4b8-c8e1-4c1a-e9ed-f32161300c45",
        "colab": {
          "base_uri": "https://localhost:8080/",
          "height": 71
        }
      },
      "source": [
        "model = IsolationForest(n_estimators=500)\n",
        "model.fit(X_train)\n"
      ],
      "execution_count": 12,
      "outputs": [
        {
          "output_type": "execute_result",
          "data": {
            "text/plain": [
              "IsolationForest(behaviour='deprecated', bootstrap=False, contamination='auto',\n",
              "                max_features=1.0, max_samples='auto', n_estimators=500,\n",
              "                n_jobs=None, random_state=None, verbose=0, warm_start=False)"
            ]
          },
          "metadata": {
            "tags": []
          },
          "execution_count": 12
        },
        {
          "output_type": "stream",
          "text": [
            "time: 10.5 s\n"
          ],
          "name": "stdout"
        }
      ]
    },
    {
      "cell_type": "code",
      "metadata": {
        "id": "-BkyUcbv2z6v",
        "colab_type": "code",
        "colab": {}
      },
      "source": [
        "help(evaluate_anomaly_detector)"
      ],
      "execution_count": 0,
      "outputs": []
    },
    {
      "cell_type": "code",
      "metadata": {
        "id": "M7zO5J578AAp",
        "colab_type": "code",
        "outputId": "c4640aef-6d32-4728-867b-ec95e0b3ec6d",
        "colab": {
          "base_uri": "https://localhost:8080/",
          "height": 446
        }
      },
      "source": [
        "anomaly_scores = -model.decision_function(X_train)\n",
        "evaluate_anomaly_detector(y_train, anomaly_scores)"
      ],
      "execution_count": 13,
      "outputs": [
        {
          "output_type": "stream",
          "text": [
            "Area under the precision-recall curve: 0.16061742847406832\n"
          ],
          "name": "stdout"
        },
        {
          "output_type": "execute_result",
          "data": {
            "text/plain": [
              "(array([0.00201562, 0.00200744, 0.00200746, ..., 0.        , 0.        ,\n",
              "        1.        ]),\n",
              " array([1.        , 0.99593496, 0.99593496, ..., 0.        , 0.        ,\n",
              "        0.        ]),\n",
              " array([-0.13603157, -0.13603122, -0.13603109, ...,  0.25744372,\n",
              "         0.25888364,  0.27462814]),\n",
              " 0.16061742847406832)"
            ]
          },
          "metadata": {
            "tags": []
          },
          "execution_count": 13
        },
        {
          "output_type": "display_data",
          "data": {
            "image/png": "[encoded data removed]",
            "text/plain": [
              "<Figure size 432x288 with 1 Axes>"
            ]
          },
          "metadata": {
            "tags": []
          }
        },
        {
          "output_type": "stream",
          "text": [
            "time: 29.3 s\n"
          ],
          "name": "stdout"
        }
      ]
    },
    {
      "cell_type": "markdown",
      "metadata": {
        "id": "LiaERj668vdV",
        "colab_type": "text"
      },
      "source": [
        "### Others\n",
        "\n",
        "GridSearch from `sklearn` is not simple (however not impossible) to apply. It is more simple to make a grid search manually"
      ]
    },
    {
      "cell_type": "code",
      "metadata": {
        "id": "Udd-9wZU9tg2",
        "colab_type": "code",
        "outputId": "1e3fe889-a8a7-482f-e887-3e19c77f53ab",
        "colab": {
          "base_uri": "https://localhost:8080/",
          "height": 196
        }
      },
      "source": [
        "iforest = IsolationForest(n_estimators=500)\n",
        "\n",
        "for max_features in [1, 15, 29]:\n",
        "  for max_samples in range(256, X_train.shape[0], int(X_train.shape[0] / 3) ):\n",
        "    model = IsolationForest(n_estimators=500, max_features=max_features,\n",
        "                            max_samples = max_samples)\n",
        "    model.fit(X_train)\n",
        "    anomaly_scores = -model.decision_function(X_train)\n",
        "    auc_score = average_precision_score(y_train, anomaly_scores)\n",
        "    print(\"max_fetaures:\", max_features, \"; max_samples:\", max_samples, \n",
        "          \"auc_score:\", auc_score)"
      ],
      "execution_count": 14,
      "outputs": [
        {
          "output_type": "stream",
          "text": [
            "max_fetaures: 1 ; max_samples: 256 auc_score: 0.1554807662884762\n",
            "max_fetaures: 1 ; max_samples: 47723 auc_score: 0.20355469917939423\n",
            "max_fetaures: 1 ; max_samples: 95190 auc_score: 0.1956571483808927\n",
            "max_fetaures: 15 ; max_samples: 256 auc_score: 0.15042149906743724\n",
            "max_fetaures: 15 ; max_samples: 47723 auc_score: 0.22126354642389168\n",
            "max_fetaures: 15 ; max_samples: 95190 auc_score: 0.23036654280846913\n",
            "max_fetaures: 29 ; max_samples: 256 auc_score: 0.13996559969003916\n",
            "max_fetaures: 29 ; max_samples: 47723 auc_score: 0.22654100539764696\n",
            "max_fetaures: 29 ; max_samples: 95190 auc_score: 0.23050696911613683\n",
            "time: 7min 3s\n"
          ],
          "name": "stdout"
        }
      ]
    },
    {
      "cell_type": "markdown",
      "metadata": {
        "id": "0G9HKLucExni",
        "colab_type": "text"
      },
      "source": [
        "Let's evaluate the best configuration we found"
      ]
    },
    {
      "cell_type": "code",
      "metadata": {
        "id": "70agUFiYE70R",
        "colab_type": "code",
        "outputId": "3da5b206-1a62-466f-c00b-ef24572f8ea0",
        "colab": {
          "base_uri": "https://localhost:8080/",
          "height": 446
        }
      },
      "source": [
        "n_estimators=500\n",
        "max_features = 29\n",
        "max_samples = 47723\n",
        "\n",
        "model = IsolationForest(n_estimators=n_estimators, max_features=max_features,\n",
        "                        max_samples=max_samples)\n",
        "\n",
        "model.fit(X_train)\n",
        "anomaly_scores = -model.decision_function(X_train)\n",
        "evaluate_anomaly_detector(y_train, anomaly_scores)"
      ],
      "execution_count": 15,
      "outputs": [
        {
          "output_type": "stream",
          "text": [
            "Area under the precision-recall curve: 0.22825294646380814\n"
          ],
          "name": "stdout"
        },
        {
          "output_type": "execute_result",
          "data": {
            "text/plain": [
              "(array([0.00213412, 0.00212546, 0.00212548, ..., 0.        , 0.        ,\n",
              "        1.        ]),\n",
              " array([1.        , 0.99593496, 0.99593496, ..., 0.        , 0.        ,\n",
              "        0.        ]),\n",
              " array([-0.17844069, -0.17844032, -0.17843993, ...,  0.31689548,\n",
              "         0.31791311,  0.36068837]),\n",
              " 0.22825294646380814)"
            ]
          },
          "metadata": {
            "tags": []
          },
          "execution_count": 15
        },
        {
          "output_type": "display_data",
          "data": {
            "image/png": "[encoded data removed]",
            "text/plain": [
              "<Figure size 432x288 with 1 Axes>"
            ]
          },
          "metadata": {
            "tags": []
          }
        },
        {
          "output_type": "stream",
          "text": [
            "time: 54.9 s\n"
          ],
          "name": "stdout"
        }
      ]
    },
    {
      "cell_type": "code",
      "metadata": {
        "id": "VxbRmS83204g",
        "colab_type": "code",
        "colab": {}
      },
      "source": [
        "help(evaluate_anomaly_detector)"
      ],
      "execution_count": 0,
      "outputs": []
    },
    {
      "cell_type": "markdown",
      "metadata": {
        "id": "U2ozL0f_F7c2",
        "colab_type": "text"
      },
      "source": [
        "Note that `auc_score` is different, since isolation forests have a lot of randomness."
      ]
    },
    {
      "cell_type": "markdown",
      "metadata": {
        "id": "rQI45j6OHFZv",
        "colab_type": "text"
      },
      "source": [
        "No real improvement. Increase further the number of trees."
      ]
    },
    {
      "cell_type": "code",
      "metadata": {
        "id": "NYSpsud1HPsN",
        "colab_type": "code",
        "outputId": "92000239-b5e1-45cc-9388-de5bc0a085fe",
        "colab": {
          "base_uri": "https://localhost:8080/",
          "height": 71
        }
      },
      "source": [
        "n_estimators = 1500\n",
        "\n",
        "model = IsolationForest(n_estimators=n_estimators, max_features=max_features,\n",
        "                        max_samples=max_samples)\n",
        "\n",
        "model.fit(X_train)"
      ],
      "execution_count": 16,
      "outputs": [
        {
          "output_type": "execute_result",
          "data": {
            "text/plain": [
              "IsolationForest(behaviour='deprecated', bootstrap=False, contamination='auto',\n",
              "                max_features=29, max_samples=47723, n_estimators=1500,\n",
              "                n_jobs=None, random_state=None, verbose=0, warm_start=False)"
            ]
          },
          "metadata": {
            "tags": []
          },
          "execution_count": 16
        },
        {
          "output_type": "stream",
          "text": [
            "time: 53.5 s\n"
          ],
          "name": "stdout"
        }
      ]
    },
    {
      "cell_type": "code",
      "metadata": {
        "id": "FSYQYj0DP165",
        "colab_type": "code",
        "outputId": "bc820037-92d6-4e37-8508-97ed8b28b378",
        "colab": {
          "base_uri": "https://localhost:8080/",
          "height": 35
        }
      },
      "source": [
        "\n",
        "anomaly_scores = -model.decision_function(X_train)"
      ],
      "execution_count": 17,
      "outputs": [
        {
          "output_type": "stream",
          "text": [
            "time: 1min 52s\n"
          ],
          "name": "stdout"
        }
      ]
    },
    {
      "cell_type": "code",
      "metadata": {
        "id": "bgxPLnO9LEM5",
        "colab_type": "code",
        "outputId": "f050fccc-26c1-4bae-ceeb-c9e50d3fb1ac",
        "colab": {
          "base_uri": "https://localhost:8080/",
          "height": 446
        }
      },
      "source": [
        "evaluate_anomaly_detector(y_train, anomaly_scores)"
      ],
      "execution_count": 18,
      "outputs": [
        {
          "output_type": "stream",
          "text": [
            "Area under the precision-recall curve: 0.2196836243580709\n"
          ],
          "name": "stdout"
        },
        {
          "output_type": "execute_result",
          "data": {
            "text/plain": [
              "(array([0.00205804, 0.00204969, 0.00204971, ..., 0.        , 0.        ,\n",
              "        1.        ]),\n",
              " array([1.        , 0.99593496, 0.99593496, ..., 0.        , 0.        ,\n",
              "        0.        ]),\n",
              " array([-0.17885654, -0.1788565 , -0.1788564 , ...,  0.31561594,\n",
              "         0.31615941,  0.3591071 ]),\n",
              " 0.2196836243580709)"
            ]
          },
          "metadata": {
            "tags": []
          },
          "execution_count": 18
        },
        {
          "output_type": "display_data",
          "data": {
            "image/png": "[encoded data removed]",
            "text/plain": [
              "<Figure size 432x288 with 1 Axes>"
            ]
          },
          "metadata": {
            "tags": []
          }
        },
        {
          "output_type": "stream",
          "text": [
            "time: 335 ms\n"
          ],
          "name": "stdout"
        }
      ]
    },
    {
      "cell_type": "code",
      "metadata": {
        "id": "FX7eplv922rb",
        "colab_type": "code",
        "colab": {}
      },
      "source": [
        "help(evaluate_anomaly_detector)"
      ],
      "execution_count": 0,
      "outputs": []
    },
    {
      "cell_type": "markdown",
      "metadata": {
        "id": "jSFQiraYdY0_",
        "colab_type": "text"
      },
      "source": [
        "# Fix the threshold"
      ]
    },
    {
      "cell_type": "markdown",
      "metadata": {
        "id": "wmmj2uN8V3ju",
        "colab_type": "text"
      },
      "source": [
        "A good threshold could be:"
      ]
    },
    {
      "cell_type": "code",
      "metadata": {
        "id": "JtXGcZz-0qgh",
        "colab_type": "code",
        "colab": {
          "base_uri": "https://localhost:8080/",
          "height": 107
        },
        "outputId": "885a6b71-5d3a-46db-824c-8d01ccffb67e"
      },
      "source": [
        "help(evaluate_anomaly_detector)"
      ],
      "execution_count": 21,
      "outputs": [
        {
          "output_type": "stream",
          "text": [
            "Help on function evaluate_anomaly_detector in module __main__:\n",
            "\n",
            "evaluate_anomaly_detector(y_train, anomaly_scores)\n",
            "\n",
            "time: 2.81 ms\n"
          ],
          "name": "stdout"
        }
      ]
    },
    {
      "cell_type": "code",
      "metadata": {
        "id": "luNNte_XVzlJ",
        "colab_type": "code",
        "outputId": "fc2addd3-24f0-4fd8-ae2f-4898f1e5af4e",
        "colab": {
          "base_uri": "https://localhost:8080/",
          "height": 226
        }
      },
      "source": [
        "threshold_selected = -0.15\n",
        "\n",
        "evaluate_anomaly_detector(y_train, anomaly_scores, \n",
        "                          threshold_selected=threshold_selected)"
      ],
      "execution_count": 22,
      "outputs": [
        {
          "output_type": "error",
          "ename": "TypeError",
          "evalue": "ignored",
          "traceback": [
            "\u001b[0;31m---------------------------------------------------------------------------\u001b[0m",
            "\u001b[0;31mTypeError\u001b[0m                                 Traceback (most recent call last)",
            "\u001b[0;32m<ipython-input-22-6001639a8368>\u001b[0m in \u001b[0;36m<module>\u001b[0;34m()\u001b[0m\n\u001b[1;32m      2\u001b[0m \u001b[0;34m\u001b[0m\u001b[0m\n\u001b[1;32m      3\u001b[0m evaluate_anomaly_detector(y_train, anomaly_scores, \n\u001b[0;32m----> 4\u001b[0;31m                           threshold_selected=threshold_selected)\n\u001b[0m",
            "\u001b[0;31mTypeError\u001b[0m: evaluate_anomaly_detector() got an unexpected keyword argument 'threshold_selected'"
          ]
        },
        {
          "output_type": "stream",
          "text": [
            "time: 18.5 ms\n"
          ],
          "name": "stdout"
        }
      ]
    },
    {
      "cell_type": "markdown",
      "metadata": {
        "id": "qnzU5ZbjWNl2",
        "colab_type": "text"
      },
      "source": [
        "But the false positive rate is too high. We need to renounce to some recall"
      ]
    },
    {
      "cell_type": "code",
      "metadata": {
        "id": "isIGjVKsWYgy",
        "colab_type": "code",
        "colab": {}
      },
      "source": [
        "threshold_selected = -0.115\n",
        "\n",
        "evaluate_anomaly_detector(y_train, anomaly_scores, threshold_selected)"
      ],
      "execution_count": 0,
      "outputs": []
    },
    {
      "cell_type": "markdown",
      "metadata": {
        "id": "n6UPUX0wM_MS",
        "colab_type": "text"
      },
      "source": [
        "With this choice\n",
        "* We find 84% of frauds\n",
        "* We raise false alarms for 2% of normal activities"
      ]
    },
    {
      "cell_type": "markdown",
      "metadata": {
        "id": "ZHl-6FahXRIz",
        "colab_type": "text"
      },
      "source": [
        "# Test\n"
      ]
    },
    {
      "cell_type": "code",
      "metadata": {
        "id": "ultG5aldXjgO",
        "colab_type": "code",
        "colab": {}
      },
      "source": [
        "model.fit(X_test)\n",
        "an_scores = -model.decision_function(X_test)"
      ],
      "execution_count": 0,
      "outputs": []
    },
    {
      "cell_type": "code",
      "metadata": {
        "id": "l_pRClNYYDzF",
        "colab_type": "code",
        "colab": {}
      },
      "source": [
        "y_pred = (an_scores >= threshold_selected)\n",
        "\n",
        "precision = precision_score(y_test, y_pred)\n",
        "recall = recall_score(y_test, y_pred)\n",
        "fpr = false_positive_rate(y_test, y_pred)\n",
        "\n",
        "print(\"precision=\", precision)\n",
        "print('recall=', recall)\n",
        "print('false positive rate=', fpr)\n"
      ],
      "execution_count": 0,
      "outputs": []
    },
    {
      "cell_type": "code",
      "metadata": {
        "id": "ovUPlkjWZSVI",
        "colab_type": "code",
        "colab": {}
      },
      "source": [
        "class_names= np.array( ['normal', 'anomaly'] )\n",
        "plot_conf_mat(y_test, y_pred, class_names)"
      ],
      "execution_count": 0,
      "outputs": []
    },
    {
      "cell_type": "markdown",
      "metadata": {
        "id": "IKvUVCWPhrjV",
        "colab_type": "text"
      },
      "source": [
        "# Todo\n",
        "\n",
        "Check:\n",
        "* https://medium.com/datadriveninvestor/credit-card-fraud-detection-using-local-outlier-factor-and-isolation-forest-in-python-56edd0a44af5\n",
        "* https://medium.com/learningdatascience/anomaly-detection-techniques-in-python-50f650c75aaf"
      ]
    },
    {
      "cell_type": "code",
      "metadata": {
        "id": "8MniIOQah9fv",
        "colab_type": "code",
        "colab": {}
      },
      "source": [
        ""
      ],
      "execution_count": 0,
      "outputs": []
    }
  ]
}