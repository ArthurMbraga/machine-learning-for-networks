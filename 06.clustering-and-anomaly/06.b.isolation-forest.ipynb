{
  "nbformat": 4,
  "nbformat_minor": 0,
  "metadata": {
    "colab": {
      "name": "anomaly-detection.ipynb",
      "provenance": [],
      "collapsed_sections": [],
      "authorship_tag": "ABX9TyPh+hqJWMEb+TaFYdxIRPwS",
      "include_colab_link": true
    },
    "kernelspec": {
      "name": "python3",
      "display_name": "Python 3"
    }
  },
  "cells": [
    {
      "cell_type": "markdown",
      "metadata": {
        "id": "view-in-github",
        "colab_type": "text"
      },
      "source": [
        "<a href=\"https://colab.research.google.com/github/andreaaraldo/machine-learning-for-networks/blob/master/06.clustering-and-anomaly/06.b.isolation-forest.ipynb\" target=\"_parent\"><img src=\"https://colab.research.google.com/assets/colab-badge.svg\" alt=\"Open In Colab\"/></a>"
      ]
    },
    {
      "cell_type": "code",
      "metadata": {
        "id": "GBULsF7v48hW",
        "colab_type": "code",
        "outputId": "c0f4c9fd-6498-416d-ace8-715e71d20c75",
        "colab": {
          "base_uri": "https://localhost:8080/",
          "height": 412
        }
      },
      "source": [
        "import pandas as pd\n",
        "import numpy as np\n",
        "import matplotlib.pyplot as plt\n",
        "import random\n",
        "\n",
        "from sklearn.preprocessing import StandardScaler\n",
        "from sklearn.cluster import KMeans\n",
        "from sklearn.metrics import silhouette_samples, silhouette_score\n",
        "from sklearn.model_selection import train_test_split\n",
        "from sklearn.metrics import precision_recall_curve, roc_curve\n",
        "\n",
        "\n",
        "\n",
        "# I prepared these libraries for you\n",
        "! wget https://raw.githubusercontent.com/andreaaraldo/machine-learning-for-networks/master/course_library/andrea_models.py\n",
        "! wget https://raw.githubusercontent.com/andreaaraldo/machine-learning-for-networks/master/course_library/visualization.py\n",
        "from andrea_models import subsample\n",
        "from visualization import silhouette_diagram"
      ],
      "execution_count": 0,
      "outputs": [
        {
          "output_type": "stream",
          "text": [
            "--2020-04-01 16:11:58--  https://raw.githubusercontent.com/andreaaraldo/machine-learning-for-networks/master/course_library/andrea_models.py\n",
            "Resolving raw.githubusercontent.com (raw.githubusercontent.com)... 151.101.0.133, 151.101.64.133, 151.101.128.133, ...\n",
            "Connecting to raw.githubusercontent.com (raw.githubusercontent.com)|151.101.0.133|:443... connected.\n",
            "HTTP request sent, awaiting response... 200 OK\n",
            "Length: 3190 (3.1K) [text/plain]\n",
            "Saving to: ‘andrea_models.py.1’\n",
            "\n",
            "\randrea_models.py.1    0%[                    ]       0  --.-KB/s               \randrea_models.py.1  100%[===================>]   3.12K  --.-KB/s    in 0s      \n",
            "\n",
            "2020-04-01 16:11:59 (63.6 MB/s) - ‘andrea_models.py.1’ saved [3190/3190]\n",
            "\n",
            "--2020-04-01 16:12:01--  https://raw.githubusercontent.com/andreaaraldo/machine-learning-for-networks/master/course_library/visualization.py\n",
            "Resolving raw.githubusercontent.com (raw.githubusercontent.com)... 151.101.0.133, 151.101.64.133, 151.101.128.133, ...\n",
            "Connecting to raw.githubusercontent.com (raw.githubusercontent.com)|151.101.0.133|:443... connected.\n",
            "HTTP request sent, awaiting response... 200 OK\n",
            "Length: 7337 (7.2K) [text/plain]\n",
            "Saving to: ‘visualization.py.1’\n",
            "\n",
            "visualization.py.1  100%[===================>]   7.17K  --.-KB/s    in 0s      \n",
            "\n",
            "2020-04-01 16:12:02 (142 MB/s) - ‘visualization.py.1’ saved [7337/7337]\n",
            "\n"
          ],
          "name": "stdout"
        }
      ]
    },
    {
      "cell_type": "markdown",
      "metadata": {
        "id": "2cwrp2t9Kxtf",
        "colab_type": "text"
      },
      "source": [
        "The following code is the same as in the [previous notebook](https://github.com/andreaaraldo/machine-learning-for-networks/blob/master/06.clustering-and-anomaly/06.a.kmeans-anomaly.ipynb)."
      ]
    },
    {
      "cell_type": "code",
      "metadata": {
        "id": "ZY_xtEaVP4y5",
        "colab_type": "code",
        "colab": {}
      },
      "source": [
        "np.random.seed(9)\n",
        "random.seed(9)\n",
        "\n",
        "! wget https://datahub.io/machine-learning/creditcard/r/creditcard.csv\n",
        "\n",
        "df = pd.read_csv('creditcard.csv')\n",
        "df.head()\n",
        "\n",
        "df.info(verbose=True)\n",
        "df['Class'].value_counts()\n",
        "num_of_normal = sum( df['Class']==\"'0'\" )\n",
        "num_of_anomalies = sum( df['Class']==\"'1'\" )\n",
        "num_of_anomalies/num_of_normal\n",
        "\n",
        "df = df.drop('Time', axis=1)\n",
        "X = df.drop('Class', axis=1)\n",
        "y = [1 if c==\"'1'\" else 0 for c in df['Class']] "
      ],
      "execution_count": 0,
      "outputs": []
    },
    {
      "cell_type": "markdown",
      "metadata": {
        "id": "UsH49kUrLdvB",
        "colab_type": "text"
      },
      "source": [
        "Differently than KMeans, isolation forests do not need any scaling."
      ]
    },
    {
      "cell_type": "markdown",
      "metadata": {
        "id": "IKvUVCWPhrjV",
        "colab_type": "text"
      },
      "source": [
        "# Todo\n",
        "\n",
        "Check:\n",
        "* https://medium.com/datadriveninvestor/credit-card-fraud-detection-using-local-outlier-factor-and-isolation-forest-in-python-56edd0a44af5\n",
        "* https://medium.com/learningdatascience/anomaly-detection-techniques-in-python-50f650c75aaf"
      ]
    },
    {
      "cell_type": "code",
      "metadata": {
        "id": "8MniIOQah9fv",
        "colab_type": "code",
        "colab": {}
      },
      "source": [
        ""
      ],
      "execution_count": 0,
      "outputs": []
    }
  ]
}