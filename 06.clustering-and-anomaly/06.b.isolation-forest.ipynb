{
  "nbformat": 4,
  "nbformat_minor": 0,
  "metadata": {
    "colab": {
      "name": "anomaly-detection.ipynb",
      "provenance": [],
      "collapsed_sections": [],
      "authorship_tag": "ABX9TyPf/z5OS6gxL6R0A3sNnqPJ",
      "include_colab_link": true
    },
    "kernelspec": {
      "name": "python3",
      "display_name": "Python 3"
    }
  },
  "cells": [
    {
      "cell_type": "markdown",
      "metadata": {
        "id": "view-in-github",
        "colab_type": "text"
      },
      "source": [
        "<a href=\"https://colab.research.google.com/github/andreaaraldo/machine-learning-for-networks/blob/master/06.clustering-and-anomaly/06.b.isolation-forest.ipynb\" target=\"_parent\"><img src=\"https://colab.research.google.com/assets/colab-badge.svg\" alt=\"Open In Colab\"/></a>"
      ]
    },
    {
      "cell_type": "code",
      "metadata": {
        "id": "GBULsF7v48hW",
        "colab_type": "code",
        "outputId": "93d190df-e840-4558-ee79-338d76c0e3cc",
        "colab": {
          "base_uri": "https://localhost:8080/",
          "height": 467
        }
      },
      "source": [
        "import pandas as pd\n",
        "import numpy as np\n",
        "import matplotlib.pyplot as plt\n",
        "import random\n",
        "\n",
        "from sklearn.model_selection import GridSearchCV\n",
        "from sklearn.ensemble import IsolationForest\n",
        "from sklearn.metrics import average_precision_score\n",
        "from sklearn.model_selection import train_test_split\n",
        "from sklearn.metrics import precision_recall_curve, roc_curve, roc_auc_score\n",
        "from sklearn.utils import shuffle\n",
        "\n",
        "\n",
        "\n",
        "# I prepared these libraries for you\n",
        "! wget https://raw.githubusercontent.com/andreaaraldo/machine-learning-for-networks/master/course_library/andrea_models.py\n",
        "! wget https://raw.githubusercontent.com/andreaaraldo/machine-learning-for-networks/master/course_library/visualization.py\n",
        "from andrea_models import subsample\n",
        "from visualization import silhouette_diagram"
      ],
      "execution_count": 1,
      "outputs": [
        {
          "output_type": "stream",
          "text": [
            "--2020-04-03 06:48:56--  https://raw.githubusercontent.com/andreaaraldo/machine-learning-for-networks/master/course_library/andrea_models.py\n",
            "Resolving raw.githubusercontent.com (raw.githubusercontent.com)... 151.101.0.133, 151.101.64.133, 151.101.128.133, ...\n",
            "Connecting to raw.githubusercontent.com (raw.githubusercontent.com)|151.101.0.133|:443... connected.\n",
            "HTTP request sent, awaiting response... 200 OK\n",
            "Length: 3190 (3.1K) [text/plain]\n",
            "Saving to: ‘andrea_models.py’\n",
            "\n",
            "\randrea_models.py      0%[                    ]       0  --.-KB/s               \randrea_models.py    100%[===================>]   3.12K  --.-KB/s    in 0s      \n",
            "\n",
            "2020-04-03 06:48:56 (58.4 MB/s) - ‘andrea_models.py’ saved [3190/3190]\n",
            "\n",
            "--2020-04-03 06:48:59--  https://raw.githubusercontent.com/andreaaraldo/machine-learning-for-networks/master/course_library/visualization.py\n",
            "Resolving raw.githubusercontent.com (raw.githubusercontent.com)... 151.101.0.133, 151.101.64.133, 151.101.128.133, ...\n",
            "Connecting to raw.githubusercontent.com (raw.githubusercontent.com)|151.101.0.133|:443... connected.\n",
            "HTTP request sent, awaiting response... 200 OK\n",
            "Length: 7337 (7.2K) [text/plain]\n",
            "Saving to: ‘visualization.py’\n",
            "\n",
            "visualization.py    100%[===================>]   7.17K  --.-KB/s    in 0s      \n",
            "\n",
            "2020-04-03 06:49:00 (76.6 MB/s) - ‘visualization.py’ saved [7337/7337]\n",
            "\n"
          ],
          "name": "stdout"
        },
        {
          "output_type": "stream",
          "text": [
            "/usr/local/lib/python3.6/dist-packages/statsmodels/tools/_testing.py:19: FutureWarning: pandas.util.testing is deprecated. Use the functions in the public API at pandas.testing instead.\n",
            "  import pandas.util.testing as tm\n"
          ],
          "name": "stderr"
        }
      ]
    },
    {
      "cell_type": "markdown",
      "metadata": {
        "id": "2cwrp2t9Kxtf",
        "colab_type": "text"
      },
      "source": [
        "The following code is the same as in the [previous notebook](https://github.com/andreaaraldo/machine-learning-for-networks/blob/master/06.clustering-and-anomaly/06.a.kmeans-anomaly.ipynb)."
      ]
    },
    {
      "cell_type": "code",
      "metadata": {
        "id": "ZY_xtEaVP4y5",
        "colab_type": "code",
        "outputId": "0b823ede-9196-4117-baee-673c438fc625",
        "colab": {
          "base_uri": "https://localhost:8080/",
          "height": 985
        }
      },
      "source": [
        "np.random.seed(9)\n",
        "random.seed(9)\n",
        "\n",
        "! wget https://datahub.io/machine-learning/creditcard/r/creditcard.csv\n",
        "\n",
        "df = pd.read_csv('creditcard.csv')\n",
        "df.head()\n",
        "\n",
        "df.info(verbose=True)\n",
        "df['Class'].value_counts()\n",
        "num_of_normal = sum( df['Class']==\"'0'\" )\n",
        "num_of_anomalies = sum( df['Class']==\"'1'\" )\n",
        "num_of_anomalies/num_of_normal\n",
        "\n",
        "df = df.drop('Time', axis=1)\n",
        "X = df.drop('Class', axis=1)\n",
        "y = [1 if c==\"'1'\" else 0 for c in df['Class']] "
      ],
      "execution_count": 2,
      "outputs": [
        {
          "output_type": "stream",
          "text": [
            "--2020-04-03 06:49:04--  https://datahub.io/machine-learning/creditcard/r/creditcard.csv\n",
            "Resolving datahub.io (datahub.io)... 104.18.49.253, 104.18.48.253, 2606:4700:3033::6812:31fd, ...\n",
            "Connecting to datahub.io (datahub.io)|104.18.49.253|:443... connected.\n",
            "HTTP request sent, awaiting response... 302 Found\n",
            "Location: https://pkgstore.datahub.io/machine-learning/creditcard/creditcard_csv/data/ebdc64b6837b3026238f3fcad3402337/creditcard_csv.csv [following]\n",
            "--2020-04-03 06:49:06--  https://pkgstore.datahub.io/machine-learning/creditcard/creditcard_csv/data/ebdc64b6837b3026238f3fcad3402337/creditcard_csv.csv\n",
            "Resolving pkgstore.datahub.io (pkgstore.datahub.io)... 104.18.48.253, 104.18.49.253, 2606:4700:3033::6812:31fd, ...\n",
            "Connecting to pkgstore.datahub.io (pkgstore.datahub.io)|104.18.48.253|:443... connected.\n",
            "HTTP request sent, awaiting response... 200 OK\n",
            "Length: 151114991 (144M) [text/csv]\n",
            "Saving to: ‘creditcard.csv’\n",
            "\n",
            "creditcard.csv      100%[===================>] 144.11M  9.30MB/s    in 17s     \n",
            "\n",
            "2020-04-03 06:49:24 (8.62 MB/s) - ‘creditcard.csv’ saved [151114991/151114991]\n",
            "\n",
            "<class 'pandas.core.frame.DataFrame'>\n",
            "RangeIndex: 284807 entries, 0 to 284806\n",
            "Data columns (total 31 columns):\n",
            " #   Column  Non-Null Count   Dtype  \n",
            "---  ------  --------------   -----  \n",
            " 0   Time    284807 non-null  float64\n",
            " 1   V1      284807 non-null  float64\n",
            " 2   V2      284807 non-null  float64\n",
            " 3   V3      284807 non-null  float64\n",
            " 4   V4      284807 non-null  float64\n",
            " 5   V5      284807 non-null  float64\n",
            " 6   V6      284807 non-null  float64\n",
            " 7   V7      284807 non-null  float64\n",
            " 8   V8      284807 non-null  float64\n",
            " 9   V9      284807 non-null  float64\n",
            " 10  V10     284807 non-null  float64\n",
            " 11  V11     284807 non-null  float64\n",
            " 12  V12     284807 non-null  float64\n",
            " 13  V13     284807 non-null  float64\n",
            " 14  V14     284807 non-null  float64\n",
            " 15  V15     284807 non-null  float64\n",
            " 16  V16     284807 non-null  float64\n",
            " 17  V17     284807 non-null  float64\n",
            " 18  V18     284807 non-null  float64\n",
            " 19  V19     284807 non-null  float64\n",
            " 20  V20     284807 non-null  float64\n",
            " 21  V21     284807 non-null  float64\n",
            " 22  V22     284807 non-null  float64\n",
            " 23  V23     284807 non-null  float64\n",
            " 24  V24     284807 non-null  float64\n",
            " 25  V25     284807 non-null  float64\n",
            " 26  V26     284807 non-null  float64\n",
            " 27  V27     284807 non-null  float64\n",
            " 28  V28     284807 non-null  float64\n",
            " 29  Amount  284807 non-null  float64\n",
            " 30  Class   284807 non-null  object \n",
            "dtypes: float64(30), object(1)\n",
            "memory usage: 67.4+ MB\n"
          ],
          "name": "stdout"
        }
      ]
    },
    {
      "cell_type": "markdown",
      "metadata": {
        "id": "UsH49kUrLdvB",
        "colab_type": "text"
      },
      "source": [
        "Differently than KMeans, isolation forests do not need any scaling."
      ]
    },
    {
      "cell_type": "markdown",
      "metadata": {
        "id": "vFOEyU9FSlOG",
        "colab_type": "text"
      },
      "source": [
        "# Anomaly detection\n",
        "\n",
        "We will apply isolation forests on the credit card fraud dataset, already used in the [previous notebook](https://github.com/andreaaraldo/machine-learning-for-networks/blob/master/06.clustering-and-anomaly/06.a.kmeans-anomaly.ipynb). A similar notebook can be found in [Kaggle](https://www.kaggle.com/amarnayak/testing-isolation-forest-for-fraud-detection). \n",
        "\n",
        " As in the [previous notebook](https://github.com/andreaaraldo/machine-learning-for-networks/blob/master/06.clustering-and-anomaly/06.a.kmeans-anomaly.ipynb), we separate training and test set."
      ]
    },
    {
      "cell_type": "code",
      "metadata": {
        "id": "3sUY9uLbSEOJ",
        "colab_type": "code",
        "colab": {}
      },
      "source": [
        "X, y = shuffle(X,y)\n",
        "X_train, X_test, y_train, y_test = train_test_split(X, y, test_size=0.5)\n",
        "model = IsolationForest()"
      ],
      "execution_count": 0,
      "outputs": []
    },
    {
      "cell_type": "markdown",
      "metadata": {
        "id": "LQeTbkVGXgzl",
        "colab_type": "text"
      },
      "source": [
        "Our approach is unsupervised, so we **don't use y into fit(..)**"
      ]
    },
    {
      "cell_type": "code",
      "metadata": {
        "id": "N5jtm6q3UDjt",
        "colab_type": "code",
        "colab": {}
      },
      "source": [
        "model.fit(X_train)\n",
        "anomaly_scores = - model.decision_function(X_train)"
      ],
      "execution_count": 0,
      "outputs": []
    },
    {
      "cell_type": "code",
      "metadata": {
        "id": "0PcEYdkFKvIe",
        "colab_type": "code",
        "outputId": "1aaa1b04-d538-4b1f-d4ba-b8c78590a71b",
        "colab": {
          "base_uri": "https://localhost:8080/",
          "height": 297
        }
      },
      "source": [
        "precision, recall, thresholds = precision_recall_curve(y_train, anomaly_scores)\n",
        "plt.plot(recall, precision)\n",
        "plt.ylabel('Precision')\n",
        "plt.xlabel('Recall')"
      ],
      "execution_count": 5,
      "outputs": [
        {
          "output_type": "execute_result",
          "data": {
            "text/plain": [
              "Text(0.5, 0, 'Recall')"
            ]
          },
          "metadata": {
            "tags": []
          },
          "execution_count": 5
        },
        {
          "output_type": "display_data",
          "data": {
            "image/png": "[encoded data removed]",
            "text/plain": [
              "<Figure size 432x288 with 1 Axes>"
            ]
          },
          "metadata": {
            "tags": []
          }
        }
      ]
    },
    {
      "cell_type": "markdown",
      "metadata": {
        "id": "bD0uukLiP-9P",
        "colab_type": "text"
      },
      "source": [
        "Our isolation tree is still bad. We expect a very small Area Under the Curve (AUC)."
      ]
    },
    {
      "cell_type": "code",
      "metadata": {
        "id": "C6uTxdTV2y5A",
        "colab_type": "code",
        "outputId": "305a7ecb-d599-4860-e3ef-10a3e044a436",
        "colab": {
          "base_uri": "https://localhost:8080/",
          "height": 35
        }
      },
      "source": [
        "auc_score = average_precision_score(y_train,anomaly_scores)\n",
        "auc_score"
      ],
      "execution_count": 6,
      "outputs": [
        {
          "output_type": "execute_result",
          "data": {
            "text/plain": [
              "0.1733991913360156"
            ]
          },
          "metadata": {
            "tags": []
          },
          "execution_count": 6
        }
      ]
    },
    {
      "cell_type": "markdown",
      "metadata": {
        "id": "4ygrbAGV7Gre",
        "colab_type": "text"
      },
      "source": [
        "Create a function to put all these evaluations together"
      ]
    },
    {
      "cell_type": "code",
      "metadata": {
        "id": "aMdAK_Wu7NJt",
        "colab_type": "code",
        "colab": {}
      },
      "source": [
        "def evaluate_anomaly_detector(y_train, anomaly_scores):\n",
        "  precision, recall, thresholds = precision_recall_curve(y_train, anomaly_scores)\n",
        "  plt.plot(recall, precision)\n",
        "  plt.ylabel('Precision')\n",
        "  plt.xlabel('Recall')\n",
        "\n",
        "  auc_score = average_precision_score(y_train,anomaly_scores)\n",
        "  print(\"Area under the precision-recall curve:\", auc_score)\n",
        "\n",
        "  return precision, recall, thresholds, auc_score"
      ],
      "execution_count": 0,
      "outputs": []
    },
    {
      "cell_type": "markdown",
      "metadata": {
        "id": "8f64ObuR50-p",
        "colab_type": "text"
      },
      "source": [
        "# Hyper-paramter tuning\n",
        "\n",
        "\n",
        "### Number of trees\n",
        "\n",
        "Increasing the number of trees always improves performance"
      ]
    },
    {
      "cell_type": "code",
      "metadata": {
        "id": "8Qshgv_B57u3",
        "colab_type": "code",
        "outputId": "2a72bae6-1307-4f1f-a130-f1110cdf22ee",
        "colab": {
          "base_uri": "https://localhost:8080/",
          "height": 71
        }
      },
      "source": [
        "model = IsolationForest(n_estimators=500)\n",
        "model.fit(X_train)\n"
      ],
      "execution_count": 8,
      "outputs": [
        {
          "output_type": "execute_result",
          "data": {
            "text/plain": [
              "IsolationForest(behaviour='deprecated', bootstrap=False, contamination='auto',\n",
              "                max_features=1.0, max_samples='auto', n_estimators=500,\n",
              "                n_jobs=None, random_state=None, verbose=0, warm_start=False)"
            ]
          },
          "metadata": {
            "tags": []
          },
          "execution_count": 8
        }
      ]
    },
    {
      "cell_type": "code",
      "metadata": {
        "id": "M7zO5J578AAp",
        "colab_type": "code",
        "outputId": "f20e8b88-926a-4a2a-9576-a3b18d276a9f",
        "colab": {
          "base_uri": "https://localhost:8080/",
          "height": 422
        }
      },
      "source": [
        "anomaly_scores = -model.decision_function(X_train)\n",
        "evaluate_anomaly_detector(y_train, anomaly_scores)"
      ],
      "execution_count": 9,
      "outputs": [
        {
          "output_type": "stream",
          "text": [
            "Area under the precision-recall curve: 0.16061742847406832\n"
          ],
          "name": "stdout"
        },
        {
          "output_type": "execute_result",
          "data": {
            "text/plain": [
              "(array([0.00201562, 0.00200744, 0.00200746, ..., 0.        , 0.        ,\n",
              "        1.        ]),\n",
              " array([1.        , 0.99593496, 0.99593496, ..., 0.        , 0.        ,\n",
              "        0.        ]),\n",
              " array([-0.13603157, -0.13603122, -0.13603109, ...,  0.25744372,\n",
              "         0.25888364,  0.27462814]),\n",
              " 0.16061742847406832)"
            ]
          },
          "metadata": {
            "tags": []
          },
          "execution_count": 9
        },
        {
          "output_type": "display_data",
          "data": {
            "image/png": "[encoded data removed]",
            "text/plain": [
              "<Figure size 432x288 with 1 Axes>"
            ]
          },
          "metadata": {
            "tags": []
          }
        }
      ]
    },
    {
      "cell_type": "markdown",
      "metadata": {
        "id": "LiaERj668vdV",
        "colab_type": "text"
      },
      "source": [
        "### Others\n",
        "\n",
        "GridSearch from `sklearn` is not simple (however not impossible) to apply. It is more simple to make a grid search manually"
      ]
    },
    {
      "cell_type": "code",
      "metadata": {
        "id": "Udd-9wZU9tg2",
        "colab_type": "code",
        "outputId": "28f3b647-a8b9-4434-f9b1-5b78e3063d75",
        "colab": {
          "base_uri": "https://localhost:8080/",
          "height": 178
        }
      },
      "source": [
        "iforest = IsolationForest(n_estimators=500)\n",
        "\n",
        "for max_features in range(1,22, 7):\n",
        "  for max_samples in range(256, X_train.shape[0], int(X_train.shape[0] / 3) ):\n",
        "    model = IsolationForest(n_estimators=500, max_features=max_features,\n",
        "                            max_samples = max_samples)\n",
        "    model.fit(X_train)\n",
        "    anomaly_scores = -model.decision_function(X_train)\n",
        "    auc_score = average_precision_score(y_train, anomaly_scores)\n",
        "    print(\"max_fetaures:\", max_features, \"; max_samples:\", max_samples, \n",
        "          \"auc_score:\", auc_score)"
      ],
      "execution_count": 10,
      "outputs": [
        {
          "output_type": "stream",
          "text": [
            "max_fetaures: 1 ; max_samples: 256 auc_score: 0.1554807662884762\n",
            "max_fetaures: 1 ; max_samples: 47723 auc_score: 0.20355469917939423\n",
            "max_fetaures: 1 ; max_samples: 95190 auc_score: 0.1956571483808927\n",
            "max_fetaures: 8 ; max_samples: 256 auc_score: 0.15031115242271875\n",
            "max_fetaures: 8 ; max_samples: 47723 auc_score: 0.21816838445008577\n",
            "max_fetaures: 8 ; max_samples: 95190 auc_score: 0.22253782689201337\n",
            "max_fetaures: 15 ; max_samples: 256 auc_score: 0.15045454246695456\n",
            "max_fetaures: 15 ; max_samples: 47723 auc_score: 0.21652447392159815\n",
            "max_fetaures: 15 ; max_samples: 95190 auc_score: 0.22484062834095425\n"
          ],
          "name": "stdout"
        }
      ]
    },
    {
      "cell_type": "markdown",
      "metadata": {
        "id": "0G9HKLucExni",
        "colab_type": "text"
      },
      "source": [
        "Let's evaluate the best configuration we found"
      ]
    },
    {
      "cell_type": "code",
      "metadata": {
        "id": "70agUFiYE70R",
        "colab_type": "code",
        "outputId": "0804f21f-670a-4a4b-f964-660a35dab9b5",
        "colab": {
          "base_uri": "https://localhost:8080/",
          "height": 422
        }
      },
      "source": [
        "n_estimators=500\n",
        "max_features = 15\n",
        "max_samples = 47723\n",
        "\n",
        "model = IsolationForest(n_estimators=n_estimators, max_features=max_features,\n",
        "                        max_samples=max_samples)\n",
        "\n",
        "model.fit(X_train)\n",
        "anomaly_scores = -model.decision_function(X_train)\n",
        "evaluate_anomaly_detector(y_train, anomaly_scores)"
      ],
      "execution_count": 11,
      "outputs": [
        {
          "output_type": "stream",
          "text": [
            "Area under the precision-recall curve: 0.23135663789230024\n"
          ],
          "name": "stdout"
        },
        {
          "output_type": "execute_result",
          "data": {
            "text/plain": [
              "(array([0.00206148, 0.00205311, 0.00205313, ..., 0.        , 0.        ,\n",
              "        1.        ]),\n",
              " array([1.        , 0.99593496, 0.99593496, ..., 0.        , 0.        ,\n",
              "        0.        ]),\n",
              " array([-0.17576869, -0.17576855, -0.17576811, ...,  0.31796645,\n",
              "         0.32023937,  0.36276485]),\n",
              " 0.23135663789230024)"
            ]
          },
          "metadata": {
            "tags": []
          },
          "execution_count": 11
        },
        {
          "output_type": "display_data",
          "data": {
            "image/png": "[encoded data removed]",
            "text/plain": [
              "<Figure size 432x288 with 1 Axes>"
            ]
          },
          "metadata": {
            "tags": []
          }
        }
      ]
    },
    {
      "cell_type": "markdown",
      "metadata": {
        "id": "U2ozL0f_F7c2",
        "colab_type": "text"
      },
      "source": [
        "Note that `auc_score` is different, since isolation forests have a lot of randomness.\n",
        "\n",
        "It seems that increasing the number of `max_features` improves the forest. Let us try with all the features"
      ]
    },
    {
      "cell_type": "code",
      "metadata": {
        "id": "tBpjX9Q7GbzU",
        "colab_type": "code",
        "outputId": "a50f44ed-1d72-4556-ea26-1fb0423727f9",
        "colab": {
          "base_uri": "https://localhost:8080/",
          "height": 422
        }
      },
      "source": [
        "max_features = X_train.shape[1]\n",
        "\n",
        "model = IsolationForest(n_estimators=n_estimators, max_features=max_features,\n",
        "                        max_samples=max_samples)\n",
        "\n",
        "model.fit(X_train)\n",
        "anomaly_scores = -model.decision_function(X_train)\n",
        "evaluate_anomaly_detector(y_train, anomaly_scores)"
      ],
      "execution_count": 12,
      "outputs": [
        {
          "output_type": "stream",
          "text": [
            "Area under the precision-recall curve: 0.22405990877299717\n"
          ],
          "name": "stdout"
        },
        {
          "output_type": "execute_result",
          "data": {
            "text/plain": [
              "(array([0.00215988, 0.00215112, 0.00215114, ..., 0.        , 0.        ,\n",
              "        1.        ]),\n",
              " array([1.        , 0.99593496, 0.99593496, ..., 0.        , 0.        ,\n",
              "        0.        ]),\n",
              " array([-0.17717711, -0.17717708, -0.17717689, ...,  0.31481929,\n",
              "         0.31523977,  0.35524194]),\n",
              " 0.22405990877299717)"
            ]
          },
          "metadata": {
            "tags": []
          },
          "execution_count": 12
        },
        {
          "output_type": "display_data",
          "data": {
            "image/png": "[encoded data removed]",
            "text/plain": [
              "<Figure size 432x288 with 1 Axes>"
            ]
          },
          "metadata": {
            "tags": []
          }
        }
      ]
    },
    {
      "cell_type": "markdown",
      "metadata": {
        "id": "rQI45j6OHFZv",
        "colab_type": "text"
      },
      "source": [
        "No real improvement. Try to increase the number of trees."
      ]
    },
    {
      "cell_type": "code",
      "metadata": {
        "id": "NYSpsud1HPsN",
        "colab_type": "code",
        "outputId": "cfd9522a-e405-4ca2-ad93-f1ebbc06c57c",
        "colab": {
          "base_uri": "https://localhost:8080/",
          "height": 422
        }
      },
      "source": [
        "n_estimators = 1500\n",
        "\n",
        "model = IsolationForest(n_estimators=n_estimators, max_features=max_features,\n",
        "                        max_samples=max_samples)\n",
        "\n",
        "model.fit(X_train)\n",
        "anomaly_scores = -model.decision_function(X_train)\n",
        "evaluate_anomaly_detector(y_train, anomaly_scores)"
      ],
      "execution_count": 13,
      "outputs": [
        {
          "output_type": "stream",
          "text": [
            "Area under the precision-recall curve: 0.22610781937429875\n"
          ],
          "name": "stdout"
        },
        {
          "output_type": "execute_result",
          "data": {
            "text/plain": [
              "(array([0.00203329, 0.00202504, 0.00202506, ..., 0.        , 0.        ,\n",
              "        1.        ]),\n",
              " array([1.        , 0.99593496, 0.99593496, ..., 0.        , 0.        ,\n",
              "        0.        ]),\n",
              " array([-0.17917069, -0.17917057, -0.17917052, ...,  0.31785516,\n",
              "         0.31916658,  0.35917984]),\n",
              " 0.22610781937429875)"
            ]
          },
          "metadata": {
            "tags": []
          },
          "execution_count": 13
        },
        {
          "output_type": "display_data",
          "data": {
            "image/png": "[encoded data removed]",
            "text/plain": [
              "<Figure size 432x288 with 1 Axes>"
            ]
          },
          "metadata": {
            "tags": []
          }
        }
      ]
    },
    {
      "cell_type": "markdown",
      "metadata": {
        "id": "NN6avnusJU-L",
        "colab_type": "text"
      },
      "source": [
        "# ROC curve\n",
        "\n",
        "Add to our evaluation function the code to plot the ROC curve"
      ]
    },
    {
      "cell_type": "code",
      "metadata": {
        "id": "h7DyD8vJJjAp",
        "colab_type": "code",
        "colab": {}
      },
      "source": [
        "def evaluate_anomaly_detector(y_train, anomaly_scores):\n",
        "  \"\"\"\n",
        "  Inspired by http://abhay.harpale.net/blog/machine-learning/threshold-tuning-using-roc/\n",
        "  \"\"\"\n",
        "  fig, (ax1, ax2) = plt.subplots(1,2, figsize=(19, 8))\n",
        "\n",
        "  #### Precision-recall curve\n",
        "  precision, recall, thresholds = precision_recall_curve(y_train, anomaly_scores)\n",
        "  pr_auc_score = average_precision_score(y_train,anomaly_scores)\n",
        "\n",
        "  ax1.plot(recall, precision, \n",
        "           label='Pr-Re curve (AUC = %0.2f)' % (pr_auc_score))\n",
        "  ax1.set_ylabel('Precision')\n",
        "  ax1.set_xlabel('Recall')\n",
        "\n",
        "  # Also plot the thresholds\n",
        "  #the last precision is 1 and the last recall is 0\n",
        "  thresholds = np.append(thresholds, max(anomaly_scores)+1) \n",
        "\n",
        "  ax1_tw = ax1.twinx()  # instantiate a second axes that shares the same x-axis\n",
        "  ax1_tw.plot(recall, thresholds,linestyle='dashed', color='r', \n",
        "              label='Threshold')\n",
        "  ax1_tw.tick_params(axis='y')\n",
        "  ax1_tw.set_ylabel('Threshold')\n",
        "  ax1.grid(True)\n",
        "  ax1.legend(loc=\"lower center\")\n",
        "  ax1.set_xticks(np.arange(0, 1+0.09, 0.1))\n",
        "  ax1.set_yticks(np.arange(0, 1+0.09, 0.1))\n",
        "\n",
        "\n",
        "\n",
        "  ### New part\n",
        "  fpr, tpr, thresholds_roc = roc_curve(y_train, anomaly_scores)\n",
        "  roc_auc_sc = roc_auc_score(y_train, anomaly_scores)\n",
        "  # The thresholds obtained here are the same as the ones obtained with the\n",
        "  # precision-recall curve\n",
        "  \n",
        "  ax2.plot(fpr, tpr, label='ROC (AUC = %0.2f)' % (roc_auc_sc))\n",
        "  ax2.set_ylabel('True Positive Rate: TP/(TP+FN) )')\n",
        "  ax2.set_xlabel('False Positive Rate: FP/(FP+TN)')\n",
        "\n",
        "  # Also plot the thresholds\n",
        "  ax2_tw = ax2.twinx()  # instantiate a second axes that shares the same x-axis\n",
        "  ax2_tw.plot(recall, thresholds,linestyle='dashed', color='r', \n",
        "              label='Threshold')\n",
        "  ax2_tw.tick_params(axis='y')\n",
        "  ax2_tw.set_ylabel('Threshold')\n",
        "  ax2.grid(True)\n",
        "  ax2.legend(loc=\"lower center\")\n",
        "  ax2.set_xticks(np.arange(0, 1+0.09, 0.1))\n",
        "  ax2.set_yticks(np.arange(0, 1+0.09, 0.1))\n",
        "\n",
        "\n",
        "\n",
        "\n",
        "\n",
        "  # recall = tpr\n",
        "  return precision, recall, thresholds, fpr"
      ],
      "execution_count": 0,
      "outputs": []
    },
    {
      "cell_type": "code",
      "metadata": {
        "id": "bgxPLnO9LEM5",
        "colab_type": "code",
        "outputId": "df5ac4fb-6b7e-43c8-ec46-40274cb9a001",
        "colab": {
          "base_uri": "https://localhost:8080/",
          "height": 640
        }
      },
      "source": [
        "evaluate_anomaly_detector(y_train, anomaly_scores)"
      ],
      "execution_count": 60,
      "outputs": [
        {
          "output_type": "execute_result",
          "data": {
            "text/plain": [
              "(array([0.00203329, 0.00202504, 0.00202506, ..., 0.        , 0.        ,\n",
              "        1.        ]),\n",
              " array([1.        , 0.99593496, 0.99593496, ..., 0.        , 0.        ,\n",
              "        0.        ]),\n",
              " array([-0.17917069, -0.17917057, -0.17917052, ...,  0.31916658,\n",
              "         0.35917984,  1.35917984]),\n",
              " array([0.00000000e+00, 7.03447597e-06, 2.11034279e-05, ...,\n",
              "        9.99880414e-01, 9.99894483e-01, 1.00000000e+00]))"
            ]
          },
          "metadata": {
            "tags": []
          },
          "execution_count": 60
        },
        {
          "output_type": "display_data",
          "data": {
            "image/png": "[encoded data removed]",
            "text/plain": [
              "<Figure size 1368x576 with 4 Axes>"
            ]
          },
          "metadata": {
            "tags": []
          }
        }
      ]
    },
    {
      "cell_type": "markdown",
      "metadata": {
        "id": "n6UPUX0wM_MS",
        "colab_type": "text"
      },
      "source": [
        "Observe that:\n",
        "* Precision and recall is \"merciless\". This is because it is very difficult to be \"precise\"\n",
        "* If we wanto to find 80% of anomalies, the alarms are true 10% of the times\n",
        "* However, only a few percentage of normal activities will raise false alarms"
      ]
    },
    {
      "cell_type": "markdown",
      "metadata": {
        "id": "IKvUVCWPhrjV",
        "colab_type": "text"
      },
      "source": [
        "# Todo\n",
        "\n",
        "Check:\n",
        "* https://medium.com/datadriveninvestor/credit-card-fraud-detection-using-local-outlier-factor-and-isolation-forest-in-python-56edd0a44af5\n",
        "* https://medium.com/learningdatascience/anomaly-detection-techniques-in-python-50f650c75aaf"
      ]
    },
    {
      "cell_type": "code",
      "metadata": {
        "id": "8MniIOQah9fv",
        "colab_type": "code",
        "colab": {}
      },
      "source": [
        ""
      ],
      "execution_count": 0,
      "outputs": []
    }
  ]
}