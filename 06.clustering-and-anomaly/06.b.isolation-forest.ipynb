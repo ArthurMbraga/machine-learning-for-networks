{
  "nbformat": 4,
  "nbformat_minor": 0,
  "metadata": {
    "colab": {
      "name": "anomaly-detection.ipynb",
      "provenance": [],
      "collapsed_sections": [],
      "authorship_tag": "ABX9TyPc4pJRHGD/E8YzpyL07f3P",
      "include_colab_link": true
    },
    "kernelspec": {
      "name": "python3",
      "display_name": "Python 3"
    }
  },
  "cells": [
    {
      "cell_type": "markdown",
      "metadata": {
        "id": "view-in-github",
        "colab_type": "text"
      },
      "source": [
        "<a href=\"https://colab.research.google.com/github/andreaaraldo/machine-learning-for-networks/blob/master/06.clustering-and-anomaly/06.b.isolation-forest.ipynb\" target=\"_parent\"><img src=\"https://colab.research.google.com/assets/colab-badge.svg\" alt=\"Open In Colab\"/></a>"
      ]
    },
    {
      "cell_type": "code",
      "metadata": {
        "id": "GBULsF7v48hW",
        "colab_type": "code",
        "outputId": "c0f4c9fd-6498-416d-ace8-715e71d20c75",
        "colab": {
          "base_uri": "https://localhost:8080/",
          "height": 412
        }
      },
      "source": [
        "import pandas as pd\n",
        "import numpy as np\n",
        "import matplotlib.pyplot as plt\n",
        "import random\n",
        "\n",
        "from sklearn.preprocessing import StandardScaler\n",
        "from sklearn.cluster import KMeans\n",
        "from sklearn.metrics import silhouette_samples, silhouette_score\n",
        "from sklearn.model_selection import train_test_split\n",
        "from sklearn.metrics import precision_recall_curve, roc_curve\n",
        "\n",
        "\n",
        "\n",
        "# I prepared these libraries for you\n",
        "! wget https://raw.githubusercontent.com/andreaaraldo/machine-learning-for-networks/master/course_library/andrea_models.py\n",
        "! wget https://raw.githubusercontent.com/andreaaraldo/machine-learning-for-networks/master/course_library/visualization.py\n",
        "from andrea_models import subsample\n",
        "from visualization import silhouette_diagram"
      ],
      "execution_count": 32,
      "outputs": [
        {
          "output_type": "stream",
          "text": [
            "--2020-04-01 16:11:58--  https://raw.githubusercontent.com/andreaaraldo/machine-learning-for-networks/master/course_library/andrea_models.py\n",
            "Resolving raw.githubusercontent.com (raw.githubusercontent.com)... 151.101.0.133, 151.101.64.133, 151.101.128.133, ...\n",
            "Connecting to raw.githubusercontent.com (raw.githubusercontent.com)|151.101.0.133|:443... connected.\n",
            "HTTP request sent, awaiting response... 200 OK\n",
            "Length: 3190 (3.1K) [text/plain]\n",
            "Saving to: ‘andrea_models.py.1’\n",
            "\n",
            "\randrea_models.py.1    0%[                    ]       0  --.-KB/s               \randrea_models.py.1  100%[===================>]   3.12K  --.-KB/s    in 0s      \n",
            "\n",
            "2020-04-01 16:11:59 (63.6 MB/s) - ‘andrea_models.py.1’ saved [3190/3190]\n",
            "\n",
            "--2020-04-01 16:12:01--  https://raw.githubusercontent.com/andreaaraldo/machine-learning-for-networks/master/course_library/visualization.py\n",
            "Resolving raw.githubusercontent.com (raw.githubusercontent.com)... 151.101.0.133, 151.101.64.133, 151.101.128.133, ...\n",
            "Connecting to raw.githubusercontent.com (raw.githubusercontent.com)|151.101.0.133|:443... connected.\n",
            "HTTP request sent, awaiting response... 200 OK\n",
            "Length: 7337 (7.2K) [text/plain]\n",
            "Saving to: ‘visualization.py.1’\n",
            "\n",
            "visualization.py.1  100%[===================>]   7.17K  --.-KB/s    in 0s      \n",
            "\n",
            "2020-04-01 16:12:02 (142 MB/s) - ‘visualization.py.1’ saved [7337/7337]\n",
            "\n"
          ],
          "name": "stdout"
        }
      ]
    },
    {
      "cell_type": "markdown",
      "metadata": {
        "id": "t611XRgGP2KL",
        "colab_type": "text"
      },
      "source": [
        "Let's fix the random seed. In Python, setting a seed is [a mess](https://medium.com/@ODSC/properly-setting-the-random-seed-in-ml-experiments-not-as-simple-as-you-might-imagine-219969c84752) ([2](https://machinelearningmastery.com/reproducible-results-neural-networks-keras/), [3](https://github.com/scikit-learn/scikit-learn/issues/10237) )"
      ]
    },
    {
      "cell_type": "code",
      "metadata": {
        "id": "ZY_xtEaVP4y5",
        "colab_type": "code",
        "colab": {}
      },
      "source": [
        "np.random.seed(9)\n",
        "random.seed(9)"
      ],
      "execution_count": 0,
      "outputs": []
    },
    {
      "cell_type": "markdown",
      "metadata": {
        "id": "aOY530eu5Kny",
        "colab_type": "text"
      },
      "source": [
        "**Goal**: \n",
        "Find fraudolent credit card transactions\n",
        "\n",
        "**Dataset**:\n",
        "* From [DataHub](https://datahub.io/machine-learning/creditcard)\n",
        "* Anonimized transactions\n",
        "* Features have no precise meaning: obtained via Principal Component Analysis (PCA)\n",
        "* Ground truth: transactions labeled as normal/anomaly"
      ]
    },
    {
      "cell_type": "code",
      "metadata": {
        "id": "N4CReVkb5n7N",
        "colab_type": "code",
        "outputId": "9cd172a3-62d5-4ddc-eca8-4e0fcbebfa46",
        "colab": {
          "base_uri": "https://localhost:8080/",
          "height": 304
        }
      },
      "source": [
        "! wget https://datahub.io/machine-learning/creditcard/r/creditcard.csv"
      ],
      "execution_count": 3,
      "outputs": [
        {
          "output_type": "stream",
          "text": [
            "--2020-04-01 15:55:11--  https://datahub.io/machine-learning/creditcard/r/creditcard.csv\n",
            "Resolving datahub.io (datahub.io)... 104.18.49.253, 104.18.48.253, 2606:4700:3031::6812:30fd, ...\n",
            "Connecting to datahub.io (datahub.io)|104.18.49.253|:443... connected.\n",
            "HTTP request sent, awaiting response... 302 Found\n",
            "Location: https://pkgstore.datahub.io/machine-learning/creditcard/creditcard_csv/data/ebdc64b6837b3026238f3fcad3402337/creditcard_csv.csv [following]\n",
            "--2020-04-01 15:55:12--  https://pkgstore.datahub.io/machine-learning/creditcard/creditcard_csv/data/ebdc64b6837b3026238f3fcad3402337/creditcard_csv.csv\n",
            "Resolving pkgstore.datahub.io (pkgstore.datahub.io)... 104.18.48.253, 104.18.49.253, 2606:4700:3031::6812:30fd, ...\n",
            "Connecting to pkgstore.datahub.io (pkgstore.datahub.io)|104.18.48.253|:443... connected.\n",
            "HTTP request sent, awaiting response... 200 OK\n",
            "Length: 151114991 (144M) [text/csv]\n",
            "Saving to: ‘creditcard.csv’\n",
            "\n",
            "creditcard.csv      100%[===================>] 144.11M  96.4MB/s    in 1.5s    \n",
            "\n",
            "2020-04-01 15:55:14 (96.4 MB/s) - ‘creditcard.csv’ saved [151114991/151114991]\n",
            "\n"
          ],
          "name": "stdout"
        }
      ]
    },
    {
      "cell_type": "code",
      "metadata": {
        "id": "_8BAOQ2v6Y_l",
        "colab_type": "code",
        "outputId": "64825fd7-d4db-4151-eece-3efef4659168",
        "colab": {
          "base_uri": "https://localhost:8080/",
          "height": 226
        }
      },
      "source": [
        "df = pd.read_csv('creditcard.csv')\n",
        "df.head()"
      ],
      "execution_count": 4,
      "outputs": [
        {
          "output_type": "execute_result",
          "data": {
            "text/html": [
              "<div>\n",
              "<style scoped>\n",
              "    .dataframe tbody tr th:only-of-type {\n",
              "        vertical-align: middle;\n",
              "    }\n",
              "\n",
              "    .dataframe tbody tr th {\n",
              "        vertical-align: top;\n",
              "    }\n",
              "\n",
              "    .dataframe thead th {\n",
              "        text-align: right;\n",
              "    }\n",
              "</style>\n",
              "<table border=\"1\" class=\"dataframe\">\n",
              "  <thead>\n",
              "    <tr style=\"text-align: right;\">\n",
              "      <th></th>\n",
              "      <th>Time</th>\n",
              "      <th>V1</th>\n",
              "      <th>V2</th>\n",
              "      <th>V3</th>\n",
              "      <th>V4</th>\n",
              "      <th>V5</th>\n",
              "      <th>V6</th>\n",
              "      <th>V7</th>\n",
              "      <th>V8</th>\n",
              "      <th>V9</th>\n",
              "      <th>V10</th>\n",
              "      <th>V11</th>\n",
              "      <th>V12</th>\n",
              "      <th>V13</th>\n",
              "      <th>V14</th>\n",
              "      <th>V15</th>\n",
              "      <th>V16</th>\n",
              "      <th>V17</th>\n",
              "      <th>V18</th>\n",
              "      <th>V19</th>\n",
              "      <th>V20</th>\n",
              "      <th>V21</th>\n",
              "      <th>V22</th>\n",
              "      <th>V23</th>\n",
              "      <th>V24</th>\n",
              "      <th>V25</th>\n",
              "      <th>V26</th>\n",
              "      <th>V27</th>\n",
              "      <th>V28</th>\n",
              "      <th>Amount</th>\n",
              "      <th>Class</th>\n",
              "    </tr>\n",
              "  </thead>\n",
              "  <tbody>\n",
              "    <tr>\n",
              "      <th>0</th>\n",
              "      <td>0.0</td>\n",
              "      <td>-1.359807</td>\n",
              "      <td>-0.072781</td>\n",
              "      <td>2.536347</td>\n",
              "      <td>1.378155</td>\n",
              "      <td>-0.338321</td>\n",
              "      <td>0.462388</td>\n",
              "      <td>0.239599</td>\n",
              "      <td>0.098698</td>\n",
              "      <td>0.363787</td>\n",
              "      <td>0.090794</td>\n",
              "      <td>-0.551600</td>\n",
              "      <td>-0.617801</td>\n",
              "      <td>-0.991390</td>\n",
              "      <td>-0.311169</td>\n",
              "      <td>1.468177</td>\n",
              "      <td>-0.470401</td>\n",
              "      <td>0.207971</td>\n",
              "      <td>0.025791</td>\n",
              "      <td>0.403993</td>\n",
              "      <td>0.251412</td>\n",
              "      <td>-0.018307</td>\n",
              "      <td>0.277838</td>\n",
              "      <td>-0.110474</td>\n",
              "      <td>0.066928</td>\n",
              "      <td>0.128539</td>\n",
              "      <td>-0.189115</td>\n",
              "      <td>0.133558</td>\n",
              "      <td>-0.021053</td>\n",
              "      <td>149.62</td>\n",
              "      <td>'0'</td>\n",
              "    </tr>\n",
              "    <tr>\n",
              "      <th>1</th>\n",
              "      <td>0.0</td>\n",
              "      <td>1.191857</td>\n",
              "      <td>0.266151</td>\n",
              "      <td>0.166480</td>\n",
              "      <td>0.448154</td>\n",
              "      <td>0.060018</td>\n",
              "      <td>-0.082361</td>\n",
              "      <td>-0.078803</td>\n",
              "      <td>0.085102</td>\n",
              "      <td>-0.255425</td>\n",
              "      <td>-0.166974</td>\n",
              "      <td>1.612727</td>\n",
              "      <td>1.065235</td>\n",
              "      <td>0.489095</td>\n",
              "      <td>-0.143772</td>\n",
              "      <td>0.635558</td>\n",
              "      <td>0.463917</td>\n",
              "      <td>-0.114805</td>\n",
              "      <td>-0.183361</td>\n",
              "      <td>-0.145783</td>\n",
              "      <td>-0.069083</td>\n",
              "      <td>-0.225775</td>\n",
              "      <td>-0.638672</td>\n",
              "      <td>0.101288</td>\n",
              "      <td>-0.339846</td>\n",
              "      <td>0.167170</td>\n",
              "      <td>0.125895</td>\n",
              "      <td>-0.008983</td>\n",
              "      <td>0.014724</td>\n",
              "      <td>2.69</td>\n",
              "      <td>'0'</td>\n",
              "    </tr>\n",
              "    <tr>\n",
              "      <th>2</th>\n",
              "      <td>1.0</td>\n",
              "      <td>-1.358354</td>\n",
              "      <td>-1.340163</td>\n",
              "      <td>1.773209</td>\n",
              "      <td>0.379780</td>\n",
              "      <td>-0.503198</td>\n",
              "      <td>1.800499</td>\n",
              "      <td>0.791461</td>\n",
              "      <td>0.247676</td>\n",
              "      <td>-1.514654</td>\n",
              "      <td>0.207643</td>\n",
              "      <td>0.624501</td>\n",
              "      <td>0.066084</td>\n",
              "      <td>0.717293</td>\n",
              "      <td>-0.165946</td>\n",
              "      <td>2.345865</td>\n",
              "      <td>-2.890083</td>\n",
              "      <td>1.109969</td>\n",
              "      <td>-0.121359</td>\n",
              "      <td>-2.261857</td>\n",
              "      <td>0.524980</td>\n",
              "      <td>0.247998</td>\n",
              "      <td>0.771679</td>\n",
              "      <td>0.909412</td>\n",
              "      <td>-0.689281</td>\n",
              "      <td>-0.327642</td>\n",
              "      <td>-0.139097</td>\n",
              "      <td>-0.055353</td>\n",
              "      <td>-0.059752</td>\n",
              "      <td>378.66</td>\n",
              "      <td>'0'</td>\n",
              "    </tr>\n",
              "    <tr>\n",
              "      <th>3</th>\n",
              "      <td>1.0</td>\n",
              "      <td>-0.966272</td>\n",
              "      <td>-0.185226</td>\n",
              "      <td>1.792993</td>\n",
              "      <td>-0.863291</td>\n",
              "      <td>-0.010309</td>\n",
              "      <td>1.247203</td>\n",
              "      <td>0.237609</td>\n",
              "      <td>0.377436</td>\n",
              "      <td>-1.387024</td>\n",
              "      <td>-0.054952</td>\n",
              "      <td>-0.226487</td>\n",
              "      <td>0.178228</td>\n",
              "      <td>0.507757</td>\n",
              "      <td>-0.287924</td>\n",
              "      <td>-0.631418</td>\n",
              "      <td>-1.059647</td>\n",
              "      <td>-0.684093</td>\n",
              "      <td>1.965775</td>\n",
              "      <td>-1.232622</td>\n",
              "      <td>-0.208038</td>\n",
              "      <td>-0.108300</td>\n",
              "      <td>0.005274</td>\n",
              "      <td>-0.190321</td>\n",
              "      <td>-1.175575</td>\n",
              "      <td>0.647376</td>\n",
              "      <td>-0.221929</td>\n",
              "      <td>0.062723</td>\n",
              "      <td>0.061458</td>\n",
              "      <td>123.50</td>\n",
              "      <td>'0'</td>\n",
              "    </tr>\n",
              "    <tr>\n",
              "      <th>4</th>\n",
              "      <td>2.0</td>\n",
              "      <td>-1.158233</td>\n",
              "      <td>0.877737</td>\n",
              "      <td>1.548718</td>\n",
              "      <td>0.403034</td>\n",
              "      <td>-0.407193</td>\n",
              "      <td>0.095921</td>\n",
              "      <td>0.592941</td>\n",
              "      <td>-0.270533</td>\n",
              "      <td>0.817739</td>\n",
              "      <td>0.753074</td>\n",
              "      <td>-0.822843</td>\n",
              "      <td>0.538196</td>\n",
              "      <td>1.345852</td>\n",
              "      <td>-1.119670</td>\n",
              "      <td>0.175121</td>\n",
              "      <td>-0.451449</td>\n",
              "      <td>-0.237033</td>\n",
              "      <td>-0.038195</td>\n",
              "      <td>0.803487</td>\n",
              "      <td>0.408542</td>\n",
              "      <td>-0.009431</td>\n",
              "      <td>0.798278</td>\n",
              "      <td>-0.137458</td>\n",
              "      <td>0.141267</td>\n",
              "      <td>-0.206010</td>\n",
              "      <td>0.502292</td>\n",
              "      <td>0.219422</td>\n",
              "      <td>0.215153</td>\n",
              "      <td>69.99</td>\n",
              "      <td>'0'</td>\n",
              "    </tr>\n",
              "  </tbody>\n",
              "</table>\n",
              "</div>"
            ],
            "text/plain": [
              "   Time        V1        V2        V3  ...       V27       V28  Amount  Class\n",
              "0   0.0 -1.359807 -0.072781  2.536347  ...  0.133558 -0.021053  149.62    '0'\n",
              "1   0.0  1.191857  0.266151  0.166480  ... -0.008983  0.014724    2.69    '0'\n",
              "2   1.0 -1.358354 -1.340163  1.773209  ... -0.055353 -0.059752  378.66    '0'\n",
              "3   1.0 -0.966272 -0.185226  1.792993  ...  0.062723  0.061458  123.50    '0'\n",
              "4   2.0 -1.158233  0.877737  1.548718  ...  0.219422  0.215153   69.99    '0'\n",
              "\n",
              "[5 rows x 31 columns]"
            ]
          },
          "metadata": {
            "tags": []
          },
          "execution_count": 4
        }
      ]
    },
    {
      "cell_type": "code",
      "metadata": {
        "id": "Mr_0wwf98DYb",
        "colab_type": "code",
        "outputId": "316e598d-7e1a-4d85-dfea-18e4cfc2cc4d",
        "colab": {
          "base_uri": "https://localhost:8080/",
          "height": 698
        }
      },
      "source": [
        "df.info(verbose=True)"
      ],
      "execution_count": 5,
      "outputs": [
        {
          "output_type": "stream",
          "text": [
            "<class 'pandas.core.frame.DataFrame'>\n",
            "RangeIndex: 284807 entries, 0 to 284806\n",
            "Data columns (total 31 columns):\n",
            " #   Column  Non-Null Count   Dtype  \n",
            "---  ------  --------------   -----  \n",
            " 0   Time    284807 non-null  float64\n",
            " 1   V1      284807 non-null  float64\n",
            " 2   V2      284807 non-null  float64\n",
            " 3   V3      284807 non-null  float64\n",
            " 4   V4      284807 non-null  float64\n",
            " 5   V5      284807 non-null  float64\n",
            " 6   V6      284807 non-null  float64\n",
            " 7   V7      284807 non-null  float64\n",
            " 8   V8      284807 non-null  float64\n",
            " 9   V9      284807 non-null  float64\n",
            " 10  V10     284807 non-null  float64\n",
            " 11  V11     284807 non-null  float64\n",
            " 12  V12     284807 non-null  float64\n",
            " 13  V13     284807 non-null  float64\n",
            " 14  V14     284807 non-null  float64\n",
            " 15  V15     284807 non-null  float64\n",
            " 16  V16     284807 non-null  float64\n",
            " 17  V17     284807 non-null  float64\n",
            " 18  V18     284807 non-null  float64\n",
            " 19  V19     284807 non-null  float64\n",
            " 20  V20     284807 non-null  float64\n",
            " 21  V21     284807 non-null  float64\n",
            " 22  V22     284807 non-null  float64\n",
            " 23  V23     284807 non-null  float64\n",
            " 24  V24     284807 non-null  float64\n",
            " 25  V25     284807 non-null  float64\n",
            " 26  V26     284807 non-null  float64\n",
            " 27  V27     284807 non-null  float64\n",
            " 28  V28     284807 non-null  float64\n",
            " 29  Amount  284807 non-null  float64\n",
            " 30  Class   284807 non-null  object \n",
            "dtypes: float64(30), object(1)\n",
            "memory usage: 67.4+ MB\n"
          ],
          "name": "stdout"
        }
      ]
    },
    {
      "cell_type": "code",
      "metadata": {
        "id": "KU86_Nog9_kS",
        "colab_type": "code",
        "outputId": "5500b3f8-f3f7-4b53-a5d9-d35708a6d5cf",
        "colab": {
          "base_uri": "https://localhost:8080/",
          "height": 71
        }
      },
      "source": [
        "df['Class'].value_counts()"
      ],
      "execution_count": 6,
      "outputs": [
        {
          "output_type": "execute_result",
          "data": {
            "text/plain": [
              "'0'    284315\n",
              "'1'       492\n",
              "Name: Class, dtype: int64"
            ]
          },
          "metadata": {
            "tags": []
          },
          "execution_count": 6
        }
      ]
    },
    {
      "cell_type": "markdown",
      "metadata": {
        "id": "fJtKa1Ho_weS",
        "colab_type": "text"
      },
      "source": [
        "The anomalies are the minority."
      ]
    },
    {
      "cell_type": "code",
      "metadata": {
        "id": "WEbuaM8sPbGL",
        "colab_type": "code",
        "outputId": "dadafb87-0a9e-4b02-b221-8afdf7ef987c",
        "colab": {
          "base_uri": "https://localhost:8080/",
          "height": 35
        }
      },
      "source": [
        "num_of_normal = sum( df['Class']==\"'0'\" )\n",
        "num_of_anomalies = sum( df['Class']==\"'1'\" )\n",
        "num_of_anomalies/num_of_normal"
      ],
      "execution_count": 7,
      "outputs": [
        {
          "output_type": "execute_result",
          "data": {
            "text/plain": [
              "0.0017304750013189597"
            ]
          },
          "metadata": {
            "tags": []
          },
          "execution_count": 7
        }
      ]
    },
    {
      "cell_type": "markdown",
      "metadata": {
        "id": "FyOrydPKAobv",
        "colab_type": "text"
      },
      "source": [
        "Remove the time, since it has no meaning for discovering anomalies for us."
      ]
    },
    {
      "cell_type": "code",
      "metadata": {
        "id": "Y91gFh8sAtaO",
        "colab_type": "code",
        "colab": {}
      },
      "source": [
        "df = df.drop('Time', axis=1)"
      ],
      "execution_count": 0,
      "outputs": []
    },
    {
      "cell_type": "markdown",
      "metadata": {
        "id": "R_zDuq-dBTgT",
        "colab_type": "text"
      },
      "source": [
        "We put the ground truth **y** aside"
      ]
    },
    {
      "cell_type": "code",
      "metadata": {
        "id": "H_RE9GXcBkZr",
        "colab_type": "code",
        "colab": {}
      },
      "source": [
        "X = df.drop('Class', axis=1)\n",
        "\n",
        "y = [1 if c==\"'1'\" else 0 for c in df['Class']] "
      ],
      "execution_count": 0,
      "outputs": []
    },
    {
      "cell_type": "markdown",
      "metadata": {
        "id": "bUxd0iC_AKmV",
        "colab_type": "text"
      },
      "source": [
        "All the methods we will use, except iForests, performs best if the dataset is scaled"
      ]
    },
    {
      "cell_type": "code",
      "metadata": {
        "id": "RqxgCXQ7A3wX",
        "colab_type": "code",
        "colab": {}
      },
      "source": [
        "scaler = StandardScaler()\n",
        "X_scaled = scaler.fit_transform(X)"
      ],
      "execution_count": 0,
      "outputs": []
    },
    {
      "cell_type": "markdown",
      "metadata": {
        "id": "p5NwMBin_L_M",
        "colab_type": "text"
      },
      "source": [
        "# K-means clustering"
      ]
    },
    {
      "cell_type": "markdown",
      "metadata": {
        "id": "bKjVk1wy015n",
        "colab_type": "text"
      },
      "source": [
        "Before detecting anomalies, look for a \"good\" clustering.\n",
        "\n",
        "Start with K=3 clusters."
      ]
    },
    {
      "cell_type": "code",
      "metadata": {
        "id": "5jG4cjxF_LsB",
        "colab_type": "code",
        "colab": {}
      },
      "source": [
        "K =3\n",
        "model = KMeans(n_clusters=K)\n",
        "clusters = model.fit_predict(X_scaled)"
      ],
      "execution_count": 0,
      "outputs": []
    },
    {
      "cell_type": "markdown",
      "metadata": {
        "id": "aEodFhNvCc1P",
        "colab_type": "text"
      },
      "source": [
        "The array \"`clusters`\" contains the cluster id of each sample"
      ]
    },
    {
      "cell_type": "code",
      "metadata": {
        "id": "YG7I4n1U-Jua",
        "colab_type": "code",
        "outputId": "ac131bbc-a922-4f70-f23f-e0a30f04a19b",
        "colab": {
          "base_uri": "https://localhost:8080/",
          "height": 35
        }
      },
      "source": [
        "clusters[0:5]"
      ],
      "execution_count": 12,
      "outputs": [
        {
          "output_type": "execute_result",
          "data": {
            "text/plain": [
              "array([2, 2, 1, 1, 2], dtype=int32)"
            ]
          },
          "metadata": {
            "tags": []
          },
          "execution_count": 12
        }
      ]
    },
    {
      "cell_type": "markdown",
      "metadata": {
        "id": "63dVGcU8Cy4s",
        "colab_type": "text"
      },
      "source": [
        "Check how many elements per cluster"
      ]
    },
    {
      "cell_type": "code",
      "metadata": {
        "colab_type": "code",
        "outputId": "7f36d087-67d9-46d8-87db-2ff50bbcd5db",
        "id": "MYYIVZoDyXK_",
        "colab": {
          "base_uri": "https://localhost:8080/",
          "height": 337
        }
      },
      "source": [
        "plt.hist(clusters)"
      ],
      "execution_count": 13,
      "outputs": [
        {
          "output_type": "execute_result",
          "data": {
            "text/plain": [
              "(array([ 20308.,      0.,      0.,      0.,      0.,  40453.,      0.,\n",
              "             0.,      0., 224046.]),\n",
              " array([0. , 0.2, 0.4, 0.6, 0.8, 1. , 1.2, 1.4, 1.6, 1.8, 2. ]),\n",
              " <a list of 10 Patch objects>)"
            ]
          },
          "metadata": {
            "tags": []
          },
          "execution_count": 13
        },
        {
          "output_type": "display_data",
          "data": {
            "image/png": "[encoded data removed]",
            "text/plain": [
              "<Figure size 432x288 with 1 Axes>"
            ]
          },
          "metadata": {
            "tags": []
          }
        }
      ]
    },
    {
      "cell_type": "markdown",
      "metadata": {
        "id": "7k5TiI6eM_6-",
        "colab_type": "text"
      },
      "source": [
        "Inertia (sum of squared distances between a sample and its centroid)"
      ]
    },
    {
      "cell_type": "code",
      "metadata": {
        "id": "uCd9F2FCNOpd",
        "colab_type": "code",
        "outputId": "af7b059d-cac3-42bd-88bb-995e88f61c43",
        "colab": {
          "base_uri": "https://localhost:8080/",
          "height": 35
        }
      },
      "source": [
        "model.inertia_"
      ],
      "execution_count": 14,
      "outputs": [
        {
          "output_type": "execute_result",
          "data": {
            "text/plain": [
              "7689781.829537551"
            ]
          },
          "metadata": {
            "tags": []
          },
          "execution_count": 14
        }
      ]
    },
    {
      "cell_type": "markdown",
      "metadata": {
        "id": "Rbo4qncMMQpq",
        "colab_type": "text"
      },
      "source": [
        "### Random initializations\n",
        "\n",
        "In sklearn, Kmeans algorithm is repeated `n_init` times (by default 10), so to produce 10 models. The model with the smallest inertia is selected.\n",
        "\n",
        "How to know if `n_init` is enough or we should increase it? Intuitively, the more the dimensions (features), the more random initializations we would need.\n",
        "\n",
        "Suggestion: Repeat KMeans many times, increasing `n_init` until you see that the inertia stops improving.\n",
        "\n",
        "To go fast, do this on a smaller subset."
      ]
    },
    {
      "cell_type": "code",
      "metadata": {
        "id": "aTXSYEdYMNJ8",
        "colab_type": "code",
        "colab": {}
      },
      "source": [
        "n_samples = 10000\n",
        "X_sub = subsample(X_scaled, n_samples)"
      ],
      "execution_count": 0,
      "outputs": []
    },
    {
      "cell_type": "code",
      "metadata": {
        "id": "yzR-i9MgNgKZ",
        "colab_type": "code",
        "outputId": "339afbcf-df23-482a-bc3e-872048deb5a4",
        "colab": {
          "base_uri": "https://localhost:8080/",
          "height": 624
        }
      },
      "source": [
        "inertia_values = []\n",
        "\n",
        "repeats = range(10, 200, 10)\n",
        "\n",
        "for r in repeats:\n",
        "  model = KMeans(K, n_init=r)\n",
        "  model.fit_predict(X_sub)\n",
        "  inertia_values.append(model.inertia_)\n",
        "  print(\"Inertia with \", r, \" initializations:\", model.inertia_)\n",
        "\n",
        "plt.plot(repeats, inertia_values)"
      ],
      "execution_count": 16,
      "outputs": [
        {
          "output_type": "stream",
          "text": [
            "Inertia with  10  initializations: 271821.97577353125\n",
            "Inertia with  20  initializations: 271444.1554050617\n",
            "Inertia with  30  initializations: 271444.1554050617\n",
            "Inertia with  40  initializations: 271269.3131686847\n",
            "Inertia with  50  initializations: 271276.58275819715\n",
            "Inertia with  60  initializations: 271268.02201911627\n",
            "Inertia with  70  initializations: 273940.761632693\n",
            "Inertia with  80  initializations: 271276.58275819715\n",
            "Inertia with  90  initializations: 271639.6336519549\n",
            "Inertia with  100  initializations: 271268.02201911627\n",
            "Inertia with  110  initializations: 271268.73592729965\n",
            "Inertia with  120  initializations: 271444.1554050617\n",
            "Inertia with  130  initializations: 271276.58275819715\n",
            "Inertia with  140  initializations: 271287.62941894564\n",
            "Inertia with  150  initializations: 271444.1554050617\n",
            "Inertia with  160  initializations: 271268.73592729965\n",
            "Inertia with  170  initializations: 271268.73592729965\n",
            "Inertia with  180  initializations: 271268.02201911627\n",
            "Inertia with  190  initializations: 271268.73592729965\n"
          ],
          "name": "stdout"
        },
        {
          "output_type": "execute_result",
          "data": {
            "text/plain": [
              "[<matplotlib.lines.Line2D at 0x7f49445a0a58>]"
            ]
          },
          "metadata": {
            "tags": []
          },
          "execution_count": 16
        },
        {
          "output_type": "display_data",
          "data": {
            "image/png": "[encoded data removed]",
            "text/plain": [
              "<Figure size 432x288 with 1 Axes>"
            ]
          },
          "metadata": {
            "tags": []
          }
        }
      ]
    },
    {
      "cell_type": "markdown",
      "metadata": {
        "id": "94CxN8dPlzaV",
        "colab_type": "text"
      },
      "source": [
        "It seems that 80 repeats should be enough"
      ]
    },
    {
      "cell_type": "code",
      "metadata": {
        "id": "WiBSARD2l8eH",
        "colab_type": "code",
        "colab": {}
      },
      "source": [
        "n_init = 80"
      ],
      "execution_count": 0,
      "outputs": []
    },
    {
      "cell_type": "markdown",
      "metadata": {
        "id": "uyuaNtLIAR1h",
        "colab_type": "text"
      },
      "source": [
        "### Silhouette"
      ]
    },
    {
      "cell_type": "markdown",
      "metadata": {
        "id": "BjkSGU4dU8FC",
        "colab_type": "text"
      },
      "source": [
        "To evaluate the goodness of clustering, we compute the silhouette score \n",
        "\n",
        "=> Infeasible on the entire dataset!"
      ]
    },
    {
      "cell_type": "markdown",
      "metadata": {
        "id": "vCkQspSyMe0t",
        "colab_type": "text"
      },
      "source": [
        "Recall that you need to compute the distances between all samples, i.e."
      ]
    },
    {
      "cell_type": "code",
      "metadata": {
        "id": "WJtawALRM08T",
        "colab_type": "code",
        "outputId": "bd6e8610-92c6-4d91-988a-8807e42c337e",
        "colab": {
          "base_uri": "https://localhost:8080/",
          "height": 35
        }
      },
      "source": [
        "print(\"Distances to be computed: \", \"{:e}\".format( X_scaled.shape[0]**2) )"
      ],
      "execution_count": 18,
      "outputs": [
        {
          "output_type": "stream",
          "text": [
            "Distances to be computed:  8.111503e+10\n"
          ],
          "name": "stdout"
        }
      ]
    },
    {
      "cell_type": "markdown",
      "metadata": {
        "id": "eRcRiPKyiPGR",
        "colab_type": "text"
      },
      "source": [
        "We will just check the silhouette on a random subset of samples."
      ]
    },
    {
      "cell_type": "code",
      "metadata": {
        "id": "ekRmDWmSif_S",
        "colab_type": "code",
        "colab": {}
      },
      "source": [
        "model = KMeans(K, n_init=n_init)\n",
        "clusters = model.fit_predict(X_sub)"
      ],
      "execution_count": 0,
      "outputs": []
    },
    {
      "cell_type": "code",
      "metadata": {
        "id": "r8IQfkhiK566",
        "colab_type": "code",
        "outputId": "31efe374-f6e5-435e-dd40-dc2b3bed032f",
        "colab": {
          "base_uri": "https://localhost:8080/",
          "height": 35
        }
      },
      "source": [
        "# The silhouette_score gives the average value for all the samples.\n",
        "# This gives a perspective into the density and separation of the formed\n",
        "# clusters\n",
        "silhouette_avg = silhouette_score(X_sub, clusters)\n",
        "silhouette_avg\n",
        "\n"
      ],
      "execution_count": 20,
      "outputs": [
        {
          "output_type": "execute_result",
          "data": {
            "text/plain": [
              "0.078239536522569"
            ]
          },
          "metadata": {
            "tags": []
          },
          "execution_count": 20
        }
      ]
    },
    {
      "cell_type": "code",
      "metadata": {
        "id": "12m576vPLGcw",
        "colab_type": "code",
        "outputId": "d4dc6bcc-806e-4e3d-d3e6-f31a287b2b8d",
        "colab": {
          "base_uri": "https://localhost:8080/",
          "height": 458
        }
      },
      "source": [
        "sample_silhouette_values = silhouette_diagram(X_sub, clusters, K)\n"
      ],
      "execution_count": 21,
      "outputs": [
        {
          "output_type": "display_data",
          "data": {
            "image/png": "[encoded data removed]",
            "text/plain": [
              "<Figure size 648x504 with 1 Axes>"
            ]
          },
          "metadata": {
            "tags": []
          }
        }
      ]
    },
    {
      "cell_type": "markdown",
      "metadata": {
        "id": "_LHrJ7c80xu9",
        "colab_type": "text"
      },
      "source": [
        "Clustering is bad:\n",
        "* The silhouette score is << 1 \n",
        "* Sample silhouette values are quite low.\n",
        "* Cluster 2 seems useless\n",
        "\n",
        "\n",
        "Let's check other values of K"
      ]
    },
    {
      "cell_type": "code",
      "metadata": {
        "id": "pkzPohoEJur0",
        "colab_type": "code",
        "outputId": "d47b02bc-5643-413e-913c-6ae66bc6efe4",
        "colab": {
          "base_uri": "https://localhost:8080/",
          "height": 462
        }
      },
      "source": [
        "max_clusters = 12\n",
        "\n",
        "scores = []\n",
        "\n",
        "for K in range (2,max_clusters):\n",
        "  # To avoid using always the same seed, let's change the random state every time\n",
        "  model = KMeans(K, n_init=n_init)\n",
        "  clusters = model.fit_predict(X_sub)\n",
        "\n",
        "  silhouette_avg = silhouette_score(X_sub, clusters)\n",
        "  scores.append(silhouette_avg)\n",
        "  print (\"For K=\",K, \" the silhouette score is \", silhouette_avg)\n",
        "\n",
        "plt.plot(range (2,max_clusters), scores)"
      ],
      "execution_count": 22,
      "outputs": [
        {
          "output_type": "stream",
          "text": [
            "For K= 2  the silhouette score is  0.925586669964095\n",
            "For K= 3  the silhouette score is  0.07999335126817486\n",
            "For K= 4  the silhouette score is  0.05357125205850432\n",
            "For K= 5  the silhouette score is  0.05128987504186771\n",
            "For K= 6  the silhouette score is  0.06573835873726966\n",
            "For K= 7  the silhouette score is  0.07644377835358557\n",
            "For K= 8  the silhouette score is  0.08270619090350376\n",
            "For K= 9  the silhouette score is  0.06011921317375458\n",
            "For K= 10  the silhouette score is  0.0660848509923532\n",
            "For K= 11  the silhouette score is  0.08104587811510933\n"
          ],
          "name": "stdout"
        },
        {
          "output_type": "execute_result",
          "data": {
            "text/plain": [
              "[<matplotlib.lines.Line2D at 0x7f49444990f0>]"
            ]
          },
          "metadata": {
            "tags": []
          },
          "execution_count": 22
        },
        {
          "output_type": "display_data",
          "data": {
            "image/png": "[encoded data removed]",
            "text/plain": [
              "<Figure size 432x288 with 1 Axes>"
            ]
          },
          "metadata": {
            "tags": []
          }
        }
      ]
    },
    {
      "cell_type": "markdown",
      "metadata": {
        "id": "DlwS2Dh-nrN0",
        "colab_type": "text"
      },
      "source": [
        "The best silhouette score is for K=2\n",
        "\n",
        "The hyperparameters we decide to use are:\n"
      ]
    },
    {
      "cell_type": "code",
      "metadata": {
        "id": "5JUnWaB4wTxU",
        "colab_type": "code",
        "colab": {}
      },
      "source": [
        "K=2\n",
        "n_init = 80"
      ],
      "execution_count": 0,
      "outputs": []
    },
    {
      "cell_type": "markdown",
      "metadata": {
        "id": "wV-k3zBkwVs2",
        "colab_type": "text"
      },
      "source": [
        "Note that we did not need to separete training and test set, as we have **ignored ground truth** and all the metrics we observe are just based on features."
      ]
    },
    {
      "cell_type": "markdown",
      "metadata": {
        "id": "ZASw9JcJwD8u",
        "colab_type": "text"
      },
      "source": [
        "# Anomaly detection\n",
        "\n",
        "From now on, we will  run KMeans with the hyperparameters above.\n",
        "\n",
        "We will now proceed as follows:\n",
        "* Separate training and test set\n",
        "* Run KMeans **on the training set**\n",
        "* Find the scores of the samples\n",
        "* Plot the precision-recall curve and the ROC curve\n",
        "* Choose a threshold\n",
        "* Use that threshold **on the test set**\n",
        "* Check precision and recall"
      ]
    },
    {
      "cell_type": "code",
      "metadata": {
        "id": "tT6N9AEPfQ1y",
        "colab_type": "code",
        "colab": {}
      },
      "source": [
        "X_train, X_test, y_train, y_test = train_test_split(X_scaled, y, test_size=0.5)"
      ],
      "execution_count": 0,
      "outputs": []
    },
    {
      "cell_type": "code",
      "metadata": {
        "id": "9PhdvH-FwF15",
        "colab_type": "code",
        "colab": {}
      },
      "source": [
        "model = KMeans(K, n_init=n_init)\n",
        "clusters = model.fit_predict(X_train)\n"
      ],
      "execution_count": 0,
      "outputs": []
    },
    {
      "cell_type": "markdown",
      "metadata": {
        "id": "k1qcRM_dfjsw",
        "colab_type": "text"
      },
      "source": [
        "The score of a sample is the distance from its closest centroid"
      ]
    },
    {
      "cell_type": "code",
      "metadata": {
        "id": "-9k55TgDdpW8",
        "colab_type": "code",
        "colab": {}
      },
      "source": [
        "sample_scores = model.transform(X_train).min(axis=1)"
      ],
      "execution_count": 0,
      "outputs": []
    },
    {
      "cell_type": "code",
      "metadata": {
        "id": "k6_sMXzSg9Ab",
        "colab_type": "code",
        "colab": {
          "base_uri": "https://localhost:8080/",
          "height": 297
        },
        "outputId": "1033f511-0a3b-4316-9357-30a8ba0b1846"
      },
      "source": [
        "precision, recall, thresholds = precision_recall_curve(y_train, sample_scores)\n",
        "plt.plot(recall, precision)\n",
        "plt.ylabel('Precision')\n",
        "plt.xlabel('Recall')"
      ],
      "execution_count": 42,
      "outputs": [
        {
          "output_type": "execute_result",
          "data": {
            "text/plain": [
              "Text(0.5, 0, 'Recall')"
            ]
          },
          "metadata": {
            "tags": []
          },
          "execution_count": 42
        },
        {
          "output_type": "display_data",
          "data": {
            "image/png": "[encoded data removed]",
            "text/plain": [
              "<Figure size 432x288 with 1 Axes>"
            ]
          },
          "metadata": {
            "tags": []
          }
        }
      ]
    },
    {
      "cell_type": "markdown",
      "metadata": {
        "id": "ZEYRniGCjHOQ",
        "colab_type": "text"
      },
      "source": [
        "Our anomaly detection is veeery bad!\n",
        "Remember from the slides:\n",
        "![alt text](https://raw.githubusercontent.com/andreaaraldo/machine-learning-for-networks/master/06.clustering-and-anomaly/img/precision-recall.png)\n",
        "\n",
        "Something strange occurs:\n",
        "* After a point, increasing the threshold, precision deteriorates\n",
        "* ==> There are samples very far from their centroids that are not anomalies\n",
        "\n",
        "\n",
        "\n",
        "**KMeans-based anomaly detection does not perform well in our case**\n",
        "\n",
        "In the next notebook, we will apply Isolation Forests."
      ]
    },
    {
      "cell_type": "markdown",
      "metadata": {
        "id": "IKvUVCWPhrjV",
        "colab_type": "text"
      },
      "source": [
        "# Todo\n",
        "\n",
        "Check:\n",
        "* https://medium.com/datadriveninvestor/credit-card-fraud-detection-using-local-outlier-factor-and-isolation-forest-in-python-56edd0a44af5\n",
        "* https://medium.com/learningdatascience/anomaly-detection-techniques-in-python-50f650c75aaf"
      ]
    },
    {
      "cell_type": "code",
      "metadata": {
        "id": "8MniIOQah9fv",
        "colab_type": "code",
        "colab": {}
      },
      "source": [
        ""
      ],
      "execution_count": 0,
      "outputs": []
    }
  ]
}
