{
  "nbformat": 4,
  "nbformat_minor": 0,
  "metadata": {
    "colab": {
      "name": "anomaly-detection.ipynb",
      "provenance": [],
      "collapsed_sections": [],
      "authorship_tag": "ABX9TyMLzlfgvQQTAsgUYnL7RPP4",
      "include_colab_link": true
    },
    "kernelspec": {
      "name": "python3",
      "display_name": "Python 3"
    }
  },
  "cells": [
    {
      "cell_type": "markdown",
      "metadata": {
        "id": "view-in-github",
        "colab_type": "text"
      },
      "source": [
        "<a href=\"https://colab.research.google.com/github/andreaaraldo/machine-learning-for-networks/blob/master/06.clustering-and-anomaly/06.b.isolation-forest.ipynb\" target=\"_parent\"><img src=\"https://colab.research.google.com/assets/colab-badge.svg\" alt=\"Open In Colab\"/></a>"
      ]
    },
    {
      "cell_type": "code",
      "metadata": {
        "id": "GBULsF7v48hW",
        "colab_type": "code",
        "outputId": "a50855d0-471a-4b2e-e60b-66f62c7b8965",
        "colab": {
          "base_uri": "https://localhost:8080/",
          "height": 412
        }
      },
      "source": [
        "import pandas as pd\n",
        "import numpy as np\n",
        "import matplotlib.pyplot as plt\n",
        "import random\n",
        "\n",
        "from sklearn.preprocessing import StandardScaler\n",
        "from sklearn.ensemble import IsolationForest\n",
        "from sklearn.metrics import silhouette_samples, silhouette_score\n",
        "from sklearn.model_selection import train_test_split\n",
        "from sklearn.metrics import precision_recall_curve, roc_curve\n",
        "\n",
        "\n",
        "\n",
        "# I prepared these libraries for you\n",
        "! wget https://raw.githubusercontent.com/andreaaraldo/machine-learning-for-networks/master/course_library/andrea_models.py\n",
        "! wget https://raw.githubusercontent.com/andreaaraldo/machine-learning-for-networks/master/course_library/visualization.py\n",
        "from andrea_models import subsample\n",
        "from visualization import silhouette_diagram"
      ],
      "execution_count": 4,
      "outputs": [
        {
          "output_type": "stream",
          "text": [
            "--2020-04-02 09:51:45--  https://raw.githubusercontent.com/andreaaraldo/machine-learning-for-networks/master/course_library/andrea_models.py\n",
            "Resolving raw.githubusercontent.com (raw.githubusercontent.com)... 151.101.0.133, 151.101.64.133, 151.101.128.133, ...\n",
            "Connecting to raw.githubusercontent.com (raw.githubusercontent.com)|151.101.0.133|:443... connected.\n",
            "HTTP request sent, awaiting response... 200 OK\n",
            "Length: 3190 (3.1K) [text/plain]\n",
            "Saving to: ‘andrea_models.py.1’\n",
            "\n",
            "\randrea_models.py.1    0%[                    ]       0  --.-KB/s               \randrea_models.py.1  100%[===================>]   3.12K  --.-KB/s    in 0s      \n",
            "\n",
            "2020-04-02 09:51:45 (38.0 MB/s) - ‘andrea_models.py.1’ saved [3190/3190]\n",
            "\n",
            "--2020-04-02 09:51:47--  https://raw.githubusercontent.com/andreaaraldo/machine-learning-for-networks/master/course_library/visualization.py\n",
            "Resolving raw.githubusercontent.com (raw.githubusercontent.com)... 151.101.0.133, 151.101.64.133, 151.101.128.133, ...\n",
            "Connecting to raw.githubusercontent.com (raw.githubusercontent.com)|151.101.0.133|:443... connected.\n",
            "HTTP request sent, awaiting response... 200 OK\n",
            "Length: 7337 (7.2K) [text/plain]\n",
            "Saving to: ‘visualization.py.1’\n",
            "\n",
            "visualization.py.1  100%[===================>]   7.17K  --.-KB/s    in 0s      \n",
            "\n",
            "2020-04-02 09:51:47 (81.7 MB/s) - ‘visualization.py.1’ saved [7337/7337]\n",
            "\n"
          ],
          "name": "stdout"
        }
      ]
    },
    {
      "cell_type": "markdown",
      "metadata": {
        "id": "2cwrp2t9Kxtf",
        "colab_type": "text"
      },
      "source": [
        "The following code is the same as in the [previous notebook](https://github.com/andreaaraldo/machine-learning-for-networks/blob/master/06.clustering-and-anomaly/06.a.kmeans-anomaly.ipynb)."
      ]
    },
    {
      "cell_type": "code",
      "metadata": {
        "id": "ZY_xtEaVP4y5",
        "colab_type": "code",
        "colab": {
          "base_uri": "https://localhost:8080/",
          "height": 985
        },
        "outputId": "20a87643-e89a-41b2-ebeb-af73553ed9b5"
      },
      "source": [
        "np.random.seed(9)\n",
        "random.seed(9)\n",
        "\n",
        "! wget https://datahub.io/machine-learning/creditcard/r/creditcard.csv\n",
        "\n",
        "df = pd.read_csv('creditcard.csv')\n",
        "df.head()\n",
        "\n",
        "df.info(verbose=True)\n",
        "df['Class'].value_counts()\n",
        "num_of_normal = sum( df['Class']==\"'0'\" )\n",
        "num_of_anomalies = sum( df['Class']==\"'1'\" )\n",
        "num_of_anomalies/num_of_normal\n",
        "\n",
        "df = df.drop('Time', axis=1)\n",
        "X = df.drop('Class', axis=1)\n",
        "y = [1 if c==\"'1'\" else 0 for c in df['Class']] "
      ],
      "execution_count": 2,
      "outputs": [
        {
          "output_type": "stream",
          "text": [
            "--2020-04-02 09:45:03--  https://datahub.io/machine-learning/creditcard/r/creditcard.csv\n",
            "Resolving datahub.io (datahub.io)... 104.18.49.253, 104.18.48.253, 2606:4700:3033::6812:31fd, ...\n",
            "Connecting to datahub.io (datahub.io)|104.18.49.253|:443... connected.\n",
            "HTTP request sent, awaiting response... 302 Found\n",
            "Location: https://pkgstore.datahub.io/machine-learning/creditcard/creditcard_csv/data/ebdc64b6837b3026238f3fcad3402337/creditcard_csv.csv [following]\n",
            "--2020-04-02 09:45:05--  https://pkgstore.datahub.io/machine-learning/creditcard/creditcard_csv/data/ebdc64b6837b3026238f3fcad3402337/creditcard_csv.csv\n",
            "Resolving pkgstore.datahub.io (pkgstore.datahub.io)... 104.18.48.253, 104.18.49.253, 2606:4700:3033::6812:31fd, ...\n",
            "Connecting to pkgstore.datahub.io (pkgstore.datahub.io)|104.18.48.253|:443... connected.\n",
            "HTTP request sent, awaiting response... 200 OK\n",
            "Length: 151114991 (144M) [text/csv]\n",
            "Saving to: ‘creditcard.csv’\n",
            "\n",
            "creditcard.csv      100%[===================>] 144.11M  9.57MB/s    in 16s     \n",
            "\n",
            "2020-04-02 09:45:22 (8.82 MB/s) - ‘creditcard.csv’ saved [151114991/151114991]\n",
            "\n",
            "<class 'pandas.core.frame.DataFrame'>\n",
            "RangeIndex: 284807 entries, 0 to 284806\n",
            "Data columns (total 31 columns):\n",
            " #   Column  Non-Null Count   Dtype  \n",
            "---  ------  --------------   -----  \n",
            " 0   Time    284807 non-null  float64\n",
            " 1   V1      284807 non-null  float64\n",
            " 2   V2      284807 non-null  float64\n",
            " 3   V3      284807 non-null  float64\n",
            " 4   V4      284807 non-null  float64\n",
            " 5   V5      284807 non-null  float64\n",
            " 6   V6      284807 non-null  float64\n",
            " 7   V7      284807 non-null  float64\n",
            " 8   V8      284807 non-null  float64\n",
            " 9   V9      284807 non-null  float64\n",
            " 10  V10     284807 non-null  float64\n",
            " 11  V11     284807 non-null  float64\n",
            " 12  V12     284807 non-null  float64\n",
            " 13  V13     284807 non-null  float64\n",
            " 14  V14     284807 non-null  float64\n",
            " 15  V15     284807 non-null  float64\n",
            " 16  V16     284807 non-null  float64\n",
            " 17  V17     284807 non-null  float64\n",
            " 18  V18     284807 non-null  float64\n",
            " 19  V19     284807 non-null  float64\n",
            " 20  V20     284807 non-null  float64\n",
            " 21  V21     284807 non-null  float64\n",
            " 22  V22     284807 non-null  float64\n",
            " 23  V23     284807 non-null  float64\n",
            " 24  V24     284807 non-null  float64\n",
            " 25  V25     284807 non-null  float64\n",
            " 26  V26     284807 non-null  float64\n",
            " 27  V27     284807 non-null  float64\n",
            " 28  V28     284807 non-null  float64\n",
            " 29  Amount  284807 non-null  float64\n",
            " 30  Class   284807 non-null  object \n",
            "dtypes: float64(30), object(1)\n",
            "memory usage: 67.4+ MB\n"
          ],
          "name": "stdout"
        }
      ]
    },
    {
      "cell_type": "markdown",
      "metadata": {
        "id": "UsH49kUrLdvB",
        "colab_type": "text"
      },
      "source": [
        "Differently than KMeans, isolation forests do not need any scaling."
      ]
    },
    {
      "cell_type": "markdown",
      "metadata": {
        "id": "vFOEyU9FSlOG",
        "colab_type": "text"
      },
      "source": [
        "# Anomly detection\n",
        "\n",
        " As in the [previous notebook](https://github.com/andreaaraldo/machine-learning-for-networks/blob/master/06.clustering-and-anomaly/06.a.kmeans-anomaly.ipynb), we separate training and test set."
      ]
    },
    {
      "cell_type": "code",
      "metadata": {
        "id": "3sUY9uLbSEOJ",
        "colab_type": "code",
        "colab": {}
      },
      "source": [
        "X_train, X_test, y_train, y_test = train_test_split(X, y, test_size=0.5)\n",
        "model = IsolationForest()"
      ],
      "execution_count": 0,
      "outputs": []
    },
    {
      "cell_type": "markdown",
      "metadata": {
        "id": "LQeTbkVGXgzl",
        "colab_type": "text"
      },
      "source": [
        "Our approacyh is unsupervised, so we **don't use y into fit(..)**"
      ]
    },
    {
      "cell_type": "code",
      "metadata": {
        "id": "N5jtm6q3UDjt",
        "colab_type": "code",
        "colab": {}
      },
      "source": [
        "model.fit(X_train)\n",
        "y_train = model.predict(X_train)"
      ],
      "execution_count": 0,
      "outputs": []
    },
    {
      "cell_type": "markdown",
      "metadata": {
        "id": "IKvUVCWPhrjV",
        "colab_type": "text"
      },
      "source": [
        "# Todo\n",
        "\n",
        "Check:\n",
        "* https://medium.com/datadriveninvestor/credit-card-fraud-detection-using-local-outlier-factor-and-isolation-forest-in-python-56edd0a44af5\n",
        "* https://medium.com/learningdatascience/anomaly-detection-techniques-in-python-50f650c75aaf"
      ]
    },
    {
      "cell_type": "code",
      "metadata": {
        "id": "8MniIOQah9fv",
        "colab_type": "code",
        "colab": {}
      },
      "source": [
        ""
      ],
      "execution_count": 0,
      "outputs": []
    }
  ]
}