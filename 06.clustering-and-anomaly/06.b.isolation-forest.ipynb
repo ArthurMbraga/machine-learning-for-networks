{
  "nbformat": 4,
  "nbformat_minor": 0,
  "metadata": {
    "colab": {
      "name": "anomaly-detection.ipynb",
      "provenance": [],
      "collapsed_sections": [],
      "authorship_tag": "ABX9TyM62uxfeliGuajx3J8oqCOG",
      "include_colab_link": true
    },
    "kernelspec": {
      "name": "python3",
      "display_name": "Python 3"
    }
  },
  "cells": [
    {
      "cell_type": "markdown",
      "metadata": {
        "id": "view-in-github",
        "colab_type": "text"
      },
      "source": [
        "<a href=\"https://colab.research.google.com/github/andreaaraldo/machine-learning-for-networks/blob/master/06.clustering-and-anomaly/06.b.isolation-forest.ipynb\" target=\"_parent\"><img src=\"https://colab.research.google.com/assets/colab-badge.svg\" alt=\"Open In Colab\"/></a>"
      ]
    },
    {
      "cell_type": "code",
      "metadata": {
        "id": "GBULsF7v48hW",
        "colab_type": "code",
        "outputId": "9617d6e6-eb15-49ca-b608-6007b0dcbe84",
        "colab": {
          "base_uri": "https://localhost:8080/",
          "height": 412
        }
      },
      "source": [
        "import pandas as pd\n",
        "import numpy as np\n",
        "import matplotlib.pyplot as plt\n",
        "import random\n",
        "\n",
        "from sklearn.model_selection import GridSearchCV\n",
        "from sklearn.ensemble import IsolationForest\n",
        "from sklearn.metrics import average_precision_score\n",
        "from sklearn.model_selection import train_test_split\n",
        "from sklearn.metrics import precision_recall_curve, roc_curve, roc_auc_score\n",
        "from sklearn.utils import shuffle\n",
        "\n",
        "\n",
        "\n",
        "# I prepared these libraries for you\n",
        "! wget https://raw.githubusercontent.com/andreaaraldo/machine-learning-for-networks/master/course_library/andrea_models.py\n",
        "! wget https://raw.githubusercontent.com/andreaaraldo/machine-learning-for-networks/master/course_library/visualization.py\n",
        "from andrea_models import subsample\n",
        "from visualization import silhouette_diagram"
      ],
      "execution_count": 0,
      "outputs": [
        {
          "output_type": "stream",
          "text": [
            "--2020-04-02 18:37:43--  https://raw.githubusercontent.com/andreaaraldo/machine-learning-for-networks/master/course_library/andrea_models.py\n",
            "Resolving raw.githubusercontent.com (raw.githubusercontent.com)... 151.101.0.133, 151.101.64.133, 151.101.128.133, ...\n",
            "Connecting to raw.githubusercontent.com (raw.githubusercontent.com)|151.101.0.133|:443... connected.\n",
            "HTTP request sent, awaiting response... 200 OK\n",
            "Length: 3190 (3.1K) [text/plain]\n",
            "Saving to: ‘andrea_models.py.3’\n",
            "\n",
            "\randrea_models.py.3    0%[                    ]       0  --.-KB/s               \randrea_models.py.3  100%[===================>]   3.12K  --.-KB/s    in 0s      \n",
            "\n",
            "2020-04-02 18:37:43 (85.0 MB/s) - ‘andrea_models.py.3’ saved [3190/3190]\n",
            "\n",
            "--2020-04-02 18:37:45--  https://raw.githubusercontent.com/andreaaraldo/machine-learning-for-networks/master/course_library/visualization.py\n",
            "Resolving raw.githubusercontent.com (raw.githubusercontent.com)... 151.101.0.133, 151.101.64.133, 151.101.128.133, ...\n",
            "Connecting to raw.githubusercontent.com (raw.githubusercontent.com)|151.101.0.133|:443... connected.\n",
            "HTTP request sent, awaiting response... 200 OK\n",
            "Length: 7337 (7.2K) [text/plain]\n",
            "Saving to: ‘visualization.py.3’\n",
            "\n",
            "visualization.py.3  100%[===================>]   7.17K  --.-KB/s    in 0s      \n",
            "\n",
            "2020-04-02 18:37:45 (112 MB/s) - ‘visualization.py.3’ saved [7337/7337]\n",
            "\n"
          ],
          "name": "stdout"
        }
      ]
    },
    {
      "cell_type": "markdown",
      "metadata": {
        "id": "2cwrp2t9Kxtf",
        "colab_type": "text"
      },
      "source": [
        "The following code is the same as in the [previous notebook](https://github.com/andreaaraldo/machine-learning-for-networks/blob/master/06.clustering-and-anomaly/06.a.kmeans-anomaly.ipynb)."
      ]
    },
    {
      "cell_type": "code",
      "metadata": {
        "id": "ZY_xtEaVP4y5",
        "colab_type": "code",
        "outputId": "5459d094-9e8b-43a5-e628-6d7274036f7c",
        "colab": {
          "base_uri": "https://localhost:8080/",
          "height": 985
        }
      },
      "source": [
        "np.random.seed(9)\n",
        "random.seed(9)\n",
        "\n",
        "! wget https://datahub.io/machine-learning/creditcard/r/creditcard.csv\n",
        "\n",
        "df = pd.read_csv('creditcard.csv')\n",
        "df.head()\n",
        "\n",
        "df.info(verbose=True)\n",
        "df['Class'].value_counts()\n",
        "num_of_normal = sum( df['Class']==\"'0'\" )\n",
        "num_of_anomalies = sum( df['Class']==\"'1'\" )\n",
        "num_of_anomalies/num_of_normal\n",
        "\n",
        "df = df.drop('Time', axis=1)\n",
        "X = df.drop('Class', axis=1)\n",
        "y = [1 if c==\"'1'\" else 0 for c in df['Class']] "
      ],
      "execution_count": 0,
      "outputs": [
        {
          "output_type": "stream",
          "text": [
            "--2020-04-02 17:27:10--  https://datahub.io/machine-learning/creditcard/r/creditcard.csv\n",
            "Resolving datahub.io (datahub.io)... 104.18.49.253, 104.18.48.253, 2606:4700:3031::6812:30fd, ...\n",
            "Connecting to datahub.io (datahub.io)|104.18.49.253|:443... connected.\n",
            "HTTP request sent, awaiting response... 302 Found\n",
            "Location: https://pkgstore.datahub.io/machine-learning/creditcard/creditcard_csv/data/ebdc64b6837b3026238f3fcad3402337/creditcard_csv.csv [following]\n",
            "--2020-04-02 17:27:14--  https://pkgstore.datahub.io/machine-learning/creditcard/creditcard_csv/data/ebdc64b6837b3026238f3fcad3402337/creditcard_csv.csv\n",
            "Resolving pkgstore.datahub.io (pkgstore.datahub.io)... 104.18.49.253, 104.18.48.253, 2606:4700:3033::6812:31fd, ...\n",
            "Connecting to pkgstore.datahub.io (pkgstore.datahub.io)|104.18.49.253|:443... connected.\n",
            "HTTP request sent, awaiting response... 200 OK\n",
            "Length: 151114991 (144M) [text/csv]\n",
            "Saving to: ‘creditcard.csv’\n",
            "\n",
            "creditcard.csv      100%[===================>] 144.11M  29.5MB/s    in 6.2s    \n",
            "\n",
            "2020-04-02 17:27:21 (23.2 MB/s) - ‘creditcard.csv’ saved [151114991/151114991]\n",
            "\n",
            "<class 'pandas.core.frame.DataFrame'>\n",
            "RangeIndex: 284807 entries, 0 to 284806\n",
            "Data columns (total 31 columns):\n",
            " #   Column  Non-Null Count   Dtype  \n",
            "---  ------  --------------   -----  \n",
            " 0   Time    284807 non-null  float64\n",
            " 1   V1      284807 non-null  float64\n",
            " 2   V2      284807 non-null  float64\n",
            " 3   V3      284807 non-null  float64\n",
            " 4   V4      284807 non-null  float64\n",
            " 5   V5      284807 non-null  float64\n",
            " 6   V6      284807 non-null  float64\n",
            " 7   V7      284807 non-null  float64\n",
            " 8   V8      284807 non-null  float64\n",
            " 9   V9      284807 non-null  float64\n",
            " 10  V10     284807 non-null  float64\n",
            " 11  V11     284807 non-null  float64\n",
            " 12  V12     284807 non-null  float64\n",
            " 13  V13     284807 non-null  float64\n",
            " 14  V14     284807 non-null  float64\n",
            " 15  V15     284807 non-null  float64\n",
            " 16  V16     284807 non-null  float64\n",
            " 17  V17     284807 non-null  float64\n",
            " 18  V18     284807 non-null  float64\n",
            " 19  V19     284807 non-null  float64\n",
            " 20  V20     284807 non-null  float64\n",
            " 21  V21     284807 non-null  float64\n",
            " 22  V22     284807 non-null  float64\n",
            " 23  V23     284807 non-null  float64\n",
            " 24  V24     284807 non-null  float64\n",
            " 25  V25     284807 non-null  float64\n",
            " 26  V26     284807 non-null  float64\n",
            " 27  V27     284807 non-null  float64\n",
            " 28  V28     284807 non-null  float64\n",
            " 29  Amount  284807 non-null  float64\n",
            " 30  Class   284807 non-null  object \n",
            "dtypes: float64(30), object(1)\n",
            "memory usage: 67.4+ MB\n"
          ],
          "name": "stdout"
        }
      ]
    },
    {
      "cell_type": "markdown",
      "metadata": {
        "id": "UsH49kUrLdvB",
        "colab_type": "text"
      },
      "source": [
        "Differently than KMeans, isolation forests do not need any scaling."
      ]
    },
    {
      "cell_type": "markdown",
      "metadata": {
        "id": "vFOEyU9FSlOG",
        "colab_type": "text"
      },
      "source": [
        "# Anomaly detection\n",
        "\n",
        "We will apply isolation forests on the credit card fraud dataset, already used in the [previous notebook](https://github.com/andreaaraldo/machine-learning-for-networks/blob/master/06.clustering-and-anomaly/06.a.kmeans-anomaly.ipynb). A similar notebook can be found in [Kaggle](https://www.kaggle.com/amarnayak/testing-isolation-forest-for-fraud-detection). \n",
        "\n",
        " As in the [previous notebook](https://github.com/andreaaraldo/machine-learning-for-networks/blob/master/06.clustering-and-anomaly/06.a.kmeans-anomaly.ipynb), we separate training and test set."
      ]
    },
    {
      "cell_type": "code",
      "metadata": {
        "id": "3sUY9uLbSEOJ",
        "colab_type": "code",
        "colab": {}
      },
      "source": [
        "X, y = shuffle(X,y)\n",
        "X_train, X_test, y_train, y_test = train_test_split(X, y, test_size=0.5)\n",
        "model = IsolationForest()"
      ],
      "execution_count": 0,
      "outputs": []
    },
    {
      "cell_type": "markdown",
      "metadata": {
        "id": "LQeTbkVGXgzl",
        "colab_type": "text"
      },
      "source": [
        "Our approach is unsupervised, so we **don't use y into fit(..)**"
      ]
    },
    {
      "cell_type": "code",
      "metadata": {
        "id": "N5jtm6q3UDjt",
        "colab_type": "code",
        "colab": {}
      },
      "source": [
        "model.fit(X_train)\n",
        "anomaly_scores = - model.decision_function(X_train)"
      ],
      "execution_count": 0,
      "outputs": []
    },
    {
      "cell_type": "code",
      "metadata": {
        "id": "0PcEYdkFKvIe",
        "colab_type": "code",
        "outputId": "c315e1ed-b76f-4ca1-85bc-a0bb357766b2",
        "colab": {
          "base_uri": "https://localhost:8080/",
          "height": 297
        }
      },
      "source": [
        "precision, recall, thresholds = precision_recall_curve(y_train, anomaly_scores)\n",
        "plt.plot(recall, precision)\n",
        "plt.ylabel('Precision')\n",
        "plt.xlabel('Recall')"
      ],
      "execution_count": 0,
      "outputs": [
        {
          "output_type": "execute_result",
          "data": {
            "text/plain": [
              "Text(0.5, 0, 'Recall')"
            ]
          },
          "metadata": {
            "tags": []
          },
          "execution_count": 5
        },
        {
          "output_type": "display_data",
          "data": {
            "image/png": "[encoded data removed]",
            "text/plain": [
              "<Figure size 432x288 with 1 Axes>"
            ]
          },
          "metadata": {
            "tags": []
          }
        }
      ]
    },
    {
      "cell_type": "markdown",
      "metadata": {
        "id": "bD0uukLiP-9P",
        "colab_type": "text"
      },
      "source": [
        "Our isolation tree is still bad. We expect a very small Area Under the Curve (AUC)."
      ]
    },
    {
      "cell_type": "code",
      "metadata": {
        "id": "C6uTxdTV2y5A",
        "colab_type": "code",
        "outputId": "6fe18a58-8654-46d4-e2fb-b42611b9a594",
        "colab": {
          "base_uri": "https://localhost:8080/",
          "height": 35
        }
      },
      "source": [
        "auc_score = average_precision_score(y_train,anomaly_scores)\n",
        "auc_score"
      ],
      "execution_count": 0,
      "outputs": [
        {
          "output_type": "execute_result",
          "data": {
            "text/plain": [
              "0.07955914347014917"
            ]
          },
          "metadata": {
            "tags": []
          },
          "execution_count": 6
        }
      ]
    },
    {
      "cell_type": "markdown",
      "metadata": {
        "id": "4ygrbAGV7Gre",
        "colab_type": "text"
      },
      "source": [
        "Create a function to put all these evaluations together"
      ]
    },
    {
      "cell_type": "code",
      "metadata": {
        "id": "aMdAK_Wu7NJt",
        "colab_type": "code",
        "colab": {}
      },
      "source": [
        "def evaluate_anomaly_detector(y_train, anomaly_scores):\n",
        "  precision, recall, thresholds = precision_recall_curve(y_train, anomaly_scores)\n",
        "  plt.plot(recall, precision)\n",
        "  plt.ylabel('Precision')\n",
        "  plt.xlabel('Recall')\n",
        "\n",
        "  auc_score = average_precision_score(y_train,anomaly_scores)\n",
        "  print(\"Area under the precision-recall curve:\", auc_score)\n",
        "\n",
        "  return precision, recall, thresholds, auc_score"
      ],
      "execution_count": 0,
      "outputs": []
    },
    {
      "cell_type": "markdown",
      "metadata": {
        "id": "8f64ObuR50-p",
        "colab_type": "text"
      },
      "source": [
        "# Hyper-paramter tuning\n",
        "\n",
        "\n",
        "### Number of trees\n",
        "\n",
        "Increasing the number of trees always improves performance"
      ]
    },
    {
      "cell_type": "code",
      "metadata": {
        "id": "8Qshgv_B57u3",
        "colab_type": "code",
        "outputId": "d8f180f6-90ed-451a-c259-c23ef98e167a",
        "colab": {
          "base_uri": "https://localhost:8080/",
          "height": 208
        }
      },
      "source": [
        "model = IsolationForest(n_estimators=500)\n",
        "model.fit(X_train)\n"
      ],
      "execution_count": 0,
      "outputs": [
        {
          "output_type": "error",
          "ename": "NameError",
          "evalue": "ignored",
          "traceback": [
            "\u001b[0;31m---------------------------------------------------------------------------\u001b[0m",
            "\u001b[0;31mNameError\u001b[0m                                 Traceback (most recent call last)",
            "\u001b[0;32m<ipython-input-8-b0024dc40b8e>\u001b[0m in \u001b[0;36m<module>\u001b[0;34m()\u001b[0m\n\u001b[1;32m      4\u001b[0m \u001b[0mauc_score\u001b[0m \u001b[0;34m=\u001b[0m \u001b[0maverage_precision_score\u001b[0m\u001b[0;34m(\u001b[0m\u001b[0my_train\u001b[0m\u001b[0;34m,\u001b[0m \u001b[0manomaly_scores\u001b[0m\u001b[0;34m)\u001b[0m\u001b[0;34m\u001b[0m\u001b[0;34m\u001b[0m\u001b[0m\n\u001b[1;32m      5\u001b[0m \u001b[0;34m\u001b[0m\u001b[0m\n\u001b[0;32m----> 6\u001b[0;31m \u001b[0mplot_precision_recall\u001b[0m\u001b[0;34m(\u001b[0m\u001b[0my_train\u001b[0m\u001b[0;34m,\u001b[0m \u001b[0manomaly_scores\u001b[0m\u001b[0;34m)\u001b[0m\u001b[0;34m\u001b[0m\u001b[0;34m\u001b[0m\u001b[0m\n\u001b[0m",
            "\u001b[0;31mNameError\u001b[0m: name 'plot_precision_recall' is not defined"
          ]
        }
      ]
    },
    {
      "cell_type": "code",
      "metadata": {
        "id": "M7zO5J578AAp",
        "colab_type": "code",
        "outputId": "9827bd39-971d-4ec6-e7d9-817053d03435",
        "colab": {
          "base_uri": "https://localhost:8080/",
          "height": 405
        }
      },
      "source": [
        "anomaly_scores = -model.decision_function(X_train)\n",
        "evaluate_anomaly_detector(y_train, anomaly_scores)"
      ],
      "execution_count": 0,
      "outputs": [
        {
          "output_type": "stream",
          "text": [
            "Area under the precision-recall curve: 0.18540235602150487\n"
          ],
          "name": "stdout"
        },
        {
          "output_type": "execute_result",
          "data": {
            "text/plain": [
              "(array([0.00196929, 0.00196143, 0.00196145, ..., 0.        , 0.        ,\n",
              "        1.        ]),\n",
              " array([1.   , 0.996, 0.996, ..., 0.   , 0.   , 0.   ]),\n",
              " array([-0.13753976, -0.13753806, -0.13753805, ...,  0.24047163,\n",
              "         0.25434504,  0.25590498]),\n",
              " 0.18540235602150487)"
            ]
          },
          "metadata": {
            "tags": []
          },
          "execution_count": 9
        },
        {
          "output_type": "display_data",
          "data": {
            "image/png": "[encoded data removed]",
            "text/plain": [
              "<Figure size 432x288 with 1 Axes>"
            ]
          },
          "metadata": {
            "tags": []
          }
        }
      ]
    },
    {
      "cell_type": "markdown",
      "metadata": {
        "id": "LiaERj668vdV",
        "colab_type": "text"
      },
      "source": [
        "### Others\n",
        "\n",
        "GridSearch from `sklearn` is not simple (however not impossible) to apply. It is more simple to make a grid search manually"
      ]
    },
    {
      "cell_type": "code",
      "metadata": {
        "id": "Udd-9wZU9tg2",
        "colab_type": "code",
        "outputId": "82f8e316-26de-42e4-ab42-1da095723bb9",
        "colab": {
          "base_uri": "https://localhost:8080/",
          "height": 178
        }
      },
      "source": [
        "iforest = IsolationForest(n_estimators=500)\n",
        "\n",
        "for max_features in range(1,22, 7):\n",
        "  for max_samples in range(256, X_train.shape[0], int(X_train.shape[0] / 3) ):\n",
        "    model = IsolationForest(n_estimators=500, max_features=max_features,\n",
        "                            max_samples = max_samples)\n",
        "    model.fit(X_train)\n",
        "    anomaly_scores = -model.decision_function(X_train)\n",
        "    auc_score = average_precision_score(y_train, anomaly_scores)\n",
        "    print(\"max_fetaures:\", max_features, \"; max_samples:\", max_samples, \n",
        "          \"auc_score:\", auc_score)"
      ],
      "execution_count": 0,
      "outputs": [
        {
          "output_type": "stream",
          "text": [
            "max_fetaures: 1 ; max_samples: 256 auc_score: 0.18255187359521147\n",
            "max_fetaures: 1 ; max_samples: 47723 auc_score: 0.19806738394419995\n",
            "max_fetaures: 1 ; max_samples: 95190 auc_score: 0.19658597316539578\n",
            "max_fetaures: 8 ; max_samples: 256 auc_score: 0.16442943684946978\n",
            "max_fetaures: 8 ; max_samples: 47723 auc_score: 0.2447546777362474\n",
            "max_fetaures: 8 ; max_samples: 95190 auc_score: 0.23576343074761147\n",
            "max_fetaures: 15 ; max_samples: 256 auc_score: 0.1704741582775213\n",
            "max_fetaures: 15 ; max_samples: 47723 auc_score: 0.24730832510099937\n",
            "max_fetaures: 15 ; max_samples: 95190 auc_score: 0.24086041045913079\n"
          ],
          "name": "stdout"
        }
      ]
    },
    {
      "cell_type": "markdown",
      "metadata": {
        "id": "0G9HKLucExni",
        "colab_type": "text"
      },
      "source": [
        "Let's evaluate the best configuration we found"
      ]
    },
    {
      "cell_type": "code",
      "metadata": {
        "id": "70agUFiYE70R",
        "colab_type": "code",
        "outputId": "7d38aa0a-51ce-40eb-810b-45bbd4bc719a",
        "colab": {
          "base_uri": "https://localhost:8080/",
          "height": 405
        }
      },
      "source": [
        "n_estimators=500\n",
        "max_features = 15\n",
        "max_samples = 47723\n",
        "\n",
        "model = IsolationForest(n_estimators=n_estimators, max_features=max_features,\n",
        "                        max_samples=max_samples)\n",
        "\n",
        "model.fit(X_train)\n",
        "anomaly_scores = -model.decision_function(X_train)\n",
        "evaluate_anomaly_detector(y_train, anomaly_scores)"
      ],
      "execution_count": 0,
      "outputs": [
        {
          "output_type": "stream",
          "text": [
            "Area under the precision-recall curve: 0.23296094778395748\n"
          ],
          "name": "stdout"
        },
        {
          "output_type": "execute_result",
          "data": {
            "text/plain": [
              "(array([0.00205487, 0.00204667, 0.00204669, ..., 0.        , 0.        ,\n",
              "        1.        ]),\n",
              " array([1.   , 0.996, 0.996, ..., 0.   , 0.   , 0.   ]),\n",
              " array([-0.17609601, -0.17609587, -0.1760958 , ...,  0.28075405,\n",
              "         0.29920244,  0.32541908]),\n",
              " 0.23296094778395748)"
            ]
          },
          "metadata": {
            "tags": []
          },
          "execution_count": 19
        },
        {
          "output_type": "display_data",
          "data": {
            "image/png": "[encoded data removed]",
            "text/plain": [
              "<Figure size 432x288 with 1 Axes>"
            ]
          },
          "metadata": {
            "tags": []
          }
        }
      ]
    },
    {
      "cell_type": "markdown",
      "metadata": {
        "id": "U2ozL0f_F7c2",
        "colab_type": "text"
      },
      "source": [
        "Note that `auc_score` is different, since isolation forests have a lot of randomness.\n",
        "\n",
        "It seems that increasing the number of `max_features` improves the forest. Let us try with all the features"
      ]
    },
    {
      "cell_type": "code",
      "metadata": {
        "id": "tBpjX9Q7GbzU",
        "colab_type": "code",
        "outputId": "a6a968c5-41b0-4600-fdde-3296acbe4e70",
        "colab": {
          "base_uri": "https://localhost:8080/",
          "height": 405
        }
      },
      "source": [
        "max_features = X_train.shape[1]\n",
        "\n",
        "model = IsolationForest(n_estimators=n_estimators, max_features=max_features,\n",
        "                        max_samples=max_samples)\n",
        "\n",
        "model.fit(X_train)\n",
        "anomaly_scores = -model.decision_function(X_train)\n",
        "evaluate_anomaly_detector(y_train, anomaly_scores)"
      ],
      "execution_count": 0,
      "outputs": [
        {
          "output_type": "stream",
          "text": [
            "Area under the precision-recall curve: 0.24602274776579133\n"
          ],
          "name": "stdout"
        },
        {
          "output_type": "execute_result",
          "data": {
            "text/plain": [
              "(array([0.0022112 , 0.00220237, 0.00220239, ..., 0.        , 0.        ,\n",
              "        1.        ]),\n",
              " array([1.   , 0.996, 0.996, ..., 0.   , 0.   , 0.   ]),\n",
              " array([-0.17634882, -0.17634834, -0.17634833, ...,  0.28178777,\n",
              "         0.29486868,  0.31571696]),\n",
              " 0.24602274776579133)"
            ]
          },
          "metadata": {
            "tags": []
          },
          "execution_count": 20
        },
        {
          "output_type": "display_data",
          "data": {
            "image/png": "[encoded data removed]",
            "text/plain": [
              "<Figure size 432x288 with 1 Axes>"
            ]
          },
          "metadata": {
            "tags": []
          }
        }
      ]
    },
    {
      "cell_type": "markdown",
      "metadata": {
        "id": "rQI45j6OHFZv",
        "colab_type": "text"
      },
      "source": [
        "No real improvement. Try to increase the number of trees."
      ]
    },
    {
      "cell_type": "code",
      "metadata": {
        "id": "NYSpsud1HPsN",
        "colab_type": "code",
        "outputId": "ec5463a3-d6fd-4e46-be88-53489839d7e8",
        "colab": {
          "base_uri": "https://localhost:8080/",
          "height": 405
        }
      },
      "source": [
        "n_estimators = 2500\n",
        "\n",
        "model = IsolationForest(n_estimators=n_estimators, max_features=max_features,\n",
        "                        max_samples=max_samples)\n",
        "\n",
        "model.fit(X_train)\n",
        "anomaly_scores = -model.decision_function(X_train)\n",
        "evaluate_anomaly_detector(y_train, anomaly_scores)"
      ],
      "execution_count": 0,
      "outputs": [
        {
          "output_type": "stream",
          "text": [
            "Area under the precision-recall curve: 0.2407254754536009\n"
          ],
          "name": "stdout"
        },
        {
          "output_type": "execute_result",
          "data": {
            "text/plain": [
              "(array([0.00215536, 0.00214676, 0.00214677, ..., 0.        , 0.        ,\n",
              "        1.        ]),\n",
              " array([1.   , 0.996, 0.996, ..., 0.   , 0.   , 0.   ]),\n",
              " array([-0.17773198, -0.17773187, -0.17773167, ...,  0.28397147,\n",
              "         0.29888819,  0.31850182]),\n",
              " 0.2407254754536009)"
            ]
          },
          "metadata": {
            "tags": []
          },
          "execution_count": 21
        },
        {
          "output_type": "display_data",
          "data": {
            "image/png": "[encoded data removed]",
            "text/plain": [
              "<Figure size 432x288 with 1 Axes>"
            ]
          },
          "metadata": {
            "tags": []
          }
        }
      ]
    },
    {
      "cell_type": "markdown",
      "metadata": {
        "id": "NN6avnusJU-L",
        "colab_type": "text"
      },
      "source": [
        "# ROC curve\n",
        "\n",
        "Add to our evaluation function the code to plot the ROC curve"
      ]
    },
    {
      "cell_type": "code",
      "metadata": {
        "id": "h7DyD8vJJjAp",
        "colab_type": "code",
        "colab": {}
      },
      "source": [
        "def evaluate_anomaly_detector(y_train, anomaly_scores):\n",
        "  fig, (ax1, ax2) = plt.subplots(1,2, figsize=(15, 8))\n",
        "\n",
        "  precision, recall, thresholds = precision_recall_curve(y_train, anomaly_scores)\n",
        "  ax1.plot(recall, precision)\n",
        "  ax1.set_ylabel('Precision')\n",
        "  ax1.set_xlabel('Recall')\n",
        "\n",
        "  ### New part\n",
        "  fpr, tpr, thresholds_roc = roc_curve(y_train, anomaly_scores)\n",
        "  ax2.plot(fpr, tpr)\n",
        "  ax2.set_ylabel('True Positive Rate')\n",
        "  ax2.set_xlabel('False Positive Rate')\n",
        "\n",
        "  pr_auc_score = average_precision_score(y_train,anomaly_scores)\n",
        "  roc_auc_sc = roc_auc_score(y_train, anomaly_scores)\n",
        "\n",
        "  print(\"Area under the precision-recall curve:\", pr_auc_score)\n",
        "  print(\"Area under the ROC curve:\", roc_auc_sc)\n",
        "\n",
        "  return precision, recall, thresholds"
      ],
      "execution_count": 0,
      "outputs": []
    },
    {
      "cell_type": "code",
      "metadata": {
        "id": "bgxPLnO9LEM5",
        "colab_type": "code",
        "outputId": "2621e6e3-bd67-44cd-bb73-42531332672a",
        "colab": {
          "base_uri": "https://localhost:8080/",
          "height": 623
        }
      },
      "source": [
        "evaluate_anomaly_detector(y_train, anomaly_scores)"
      ],
      "execution_count": 0,
      "outputs": [
        {
          "output_type": "stream",
          "text": [
            "Area under the precision-recall curve: 0.2407254754536009\n",
            "Area under the ROC curve: 0.95984788221142\n"
          ],
          "name": "stdout"
        },
        {
          "output_type": "execute_result",
          "data": {
            "text/plain": [
              "(array([0.00215536, 0.00214676, 0.00214677, ..., 0.        , 0.        ,\n",
              "        1.        ]),\n",
              " array([1.   , 0.996, 0.996, ..., 0.   , 0.   , 0.   ]),\n",
              " array([-0.17773198, -0.17773187, -0.17773167, ...,  0.28397147,\n",
              "         0.29888819,  0.31850182]))"
            ]
          },
          "metadata": {
            "tags": []
          },
          "execution_count": 37
        },
        {
          "output_type": "display_data",
          "data": {
            "image/png": "[encoded data removed]",
            "text/plain": [
              "<Figure size 1080x576 with 2 Axes>"
            ]
          },
          "metadata": {
            "tags": []
          }
        }
      ]
    },
    {
      "cell_type": "markdown",
      "metadata": {
        "id": "n6UPUX0wM_MS",
        "colab_type": "text"
      },
      "source": [
        "Observe that:\n",
        "* Precision and recall is \"merciless\". This is because it is very difficult to be \"precise\"\n",
        "* If we wanto to find 80% of anomalies, every alarm is true only 10% of the times"
      ]
    },
    {
      "cell_type": "markdown",
      "metadata": {
        "id": "IKvUVCWPhrjV",
        "colab_type": "text"
      },
      "source": [
        "# Todo\n",
        "\n",
        "Check:\n",
        "* https://medium.com/datadriveninvestor/credit-card-fraud-detection-using-local-outlier-factor-and-isolation-forest-in-python-56edd0a44af5\n",
        "* https://medium.com/learningdatascience/anomaly-detection-techniques-in-python-50f650c75aaf"
      ]
    },
    {
      "cell_type": "code",
      "metadata": {
        "id": "8MniIOQah9fv",
        "colab_type": "code",
        "colab": {}
      },
      "source": [
        ""
      ],
      "execution_count": 0,
      "outputs": []
    }
  ]
}