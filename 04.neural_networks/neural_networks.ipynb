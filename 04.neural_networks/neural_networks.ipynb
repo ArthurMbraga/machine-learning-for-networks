{
  "nbformat": 4,
  "nbformat_minor": 0,
  "metadata": {
    "colab": {
      "name": "neural-networks.ipynb",
      "provenance": [],
      "collapsed_sections": [],
      "authorship_tag": "ABX9TyPCk1TBfXeqH1vFeowJyexP",
      "include_colab_link": true
    },
    "kernelspec": {
      "name": "python3",
      "display_name": "Python 3"
    }
  },
  "cells": [
    {
      "cell_type": "markdown",
      "metadata": {
        "id": "view-in-github",
        "colab_type": "text"
      },
      "source": [
        "<a href=\"https://colab.research.google.com/github/andreaaraldo/machine-learning-for-networks/blob/master/04.neural_networks/neural_networks.ipynb\" target=\"_parent\"><img src=\"https://colab.research.google.com/assets/colab-badge.svg\" alt=\"Open In Colab\"/></a>"
      ]
    },
    {
      "cell_type": "code",
      "metadata": {
        "id": "wHY0Omw3e1eb",
        "colab_type": "code",
        "colab": {}
      },
      "source": [
        "import pandas as pd"
      ],
      "execution_count": 0,
      "outputs": []
    },
    {
      "cell_type": "markdown",
      "metadata": {
        "id": "LAyrD98bGJDl",
        "colab_type": "text"
      },
      "source": [
        "# Use case description\n",
        "\n",
        "The use case is from:\n",
        "\n",
        "Khangura, S. K. (2019). Neural Network-based Available Bandwidth Estimation from TCP Sender-side Measurements. In IEEE/IFIP PEMWN.\n",
        "\n",
        "\n",
        "**Goal** Estimate available bandwidth in a network via **passive measures**.\n",
        "\n",
        "More precisely:\n",
        "_Estimate the capacity available to a TCP flow_ (sharing links with other flows) observing\n",
        "* The time gaps between segments sent $g_{\\text{in}}$\n",
        "* The gaps between acks $g_\\text{ack}$\n",
        "\n",
        "The auhtors set up the following testbed:\n",
        "\n",
        "\n",
        "![alt text](https://raw.githubusercontent.com/andreaaraldo/machine-learning-for-networks/master/04.neural_networks/img/testbed.png)\n",
        "\n",
        "\n",
        "Measures are collected in the **Video Receiver**. All the other machines just produce cross-traffic.\n",
        "\n",
        "Measures are recorded via an Endace Data Acquisition and Generation (DAG) card, which timestamp all packets in an extremely precise way.\n",
        "\n",
        "![alt text](https://www.endace.com/assets/images/products/DAG%209.5G4F_angled_small.png)\n",
        "\n",
        "([Producer website](https://www.endace.com/endace-high-speed-packet-capture-solutions/oem/dag/))\n",
        "\n",
        "**Why**: Knowing the available bandwidth, video streaming clients can properly choose the quality level to request."
      ]
    },
    {
      "cell_type": "markdown",
      "metadata": {
        "id": "KXQAcMSZW4n_",
        "colab_type": "text"
      },
      "source": [
        "# Traces\n",
        "\n",
        "The description of the dataset can be found in the Appendix of Khangura's [PhD thesis](https://www.repo.uni-hannover.de/bitstream/handle/123456789/9219/Khangura_Sukhpreet_PhD_Thesis.pdf?sequence=3&isAllowed=y)."
      ]
    },
    {
      "cell_type": "code",
      "metadata": {
        "id": "2u-6liSdGH62",
        "colab_type": "code",
        "outputId": "b75d7f1e-1f7a-4722-f62f-c62efdeb2335",
        "colab": {
          "base_uri": "https://localhost:8080/",
          "height": 239
        }
      },
      "source": [
        "!wget https://www.ikt.uni-hannover.de/fileadmin/institut/Forschung/BandwidthEstimationTraces/BandwidthEstimationTraces.zip"
      ],
      "execution_count": 20,
      "outputs": [
        {
          "output_type": "stream",
          "text": [
            "--2020-03-15 11:31:38--  https://www.ikt.uni-hannover.de/fileadmin/institut/Forschung/BandwidthEstimationTraces/BandwidthEstimationTraces.zip\n",
            "Resolving www.ikt.uni-hannover.de (www.ikt.uni-hannover.de)... 130.75.2.72\n",
            "Connecting to www.ikt.uni-hannover.de (www.ikt.uni-hannover.de)|130.75.2.72|:443... connected.\n",
            "HTTP request sent, awaiting response... 200 OK\n",
            "Length: 941822 (920K) [application/zip]\n",
            "Saving to: ‘BandwidthEstimationTraces.zip.2’\n",
            "\n",
            "BandwidthEstimation 100%[===================>] 919.75K   366KB/s    in 2.5s    \n",
            "\n",
            "2020-03-15 11:31:41 (366 KB/s) - ‘BandwidthEstimationTraces.zip.2’ saved [941822/941822]\n",
            "\n"
          ],
          "name": "stdout"
        }
      ]
    },
    {
      "cell_type": "code",
      "metadata": {
        "id": "blbuQi5dWFRl",
        "colab_type": "code",
        "colab": {}
      },
      "source": [
        "! unzip -o -q BandwidthEstimationTraces.zip"
      ],
      "execution_count": 0,
      "outputs": []
    },
    {
      "cell_type": "code",
      "metadata": {
        "id": "yFiAO1GMWmR8",
        "colab_type": "code",
        "outputId": "8a46d898-5744-425a-d242-a23ced683662",
        "colab": {
          "base_uri": "https://localhost:8080/",
          "height": 35
        }
      },
      "source": [
        "!ls BandwidthEstimationTraces"
      ],
      "execution_count": 22,
      "outputs": [
        {
          "output_type": "stream",
          "text": [
            "testing  training\n"
          ],
          "name": "stdout"
        }
      ]
    },
    {
      "cell_type": "markdown",
      "metadata": {
        "id": "TRvAQC70cisA",
        "colab_type": "text"
      },
      "source": [
        "Training and test datasets are separated"
      ]
    },
    {
      "cell_type": "code",
      "metadata": {
        "id": "tvKB2SxTWoYI",
        "colab_type": "code",
        "outputId": "8694c101-735c-419d-952e-b1916e436ca2",
        "colab": {
          "base_uri": "https://localhost:8080/",
          "height": 72
        }
      },
      "source": [
        "! ls BandwidthEstimationTraces/training"
      ],
      "execution_count": 23,
      "outputs": [
        {
          "output_type": "stream",
          "text": [
            "MultiLinkCapacity100   TightLinkafterBottleneckLink\n",
            "SingleLinkCapacity100  TightLinkbeforeBottleneckLink\n",
            "SingleLinkCapacity50\n"
          ],
          "name": "stdout"
        }
      ]
    },
    {
      "cell_type": "markdown",
      "metadata": {
        "id": "2FOIPBZocvZo",
        "colab_type": "text"
      },
      "source": [
        "For simplicity, we will just consider the case with a single link between client and server, of total capacity C=100 Mbps (Ethernet level)"
      ]
    },
    {
      "cell_type": "code",
      "metadata": {
        "id": "W306F9Azc826",
        "colab_type": "code",
        "outputId": "56af4bfd-359b-41d8-fa33-d1e6edd7606b",
        "colab": {
          "base_uri": "https://localhost:8080/",
          "height": 35
        }
      },
      "source": [
        "! ls BandwidthEstimationTraces/training/SingleLinkCapacity100"
      ],
      "execution_count": 24,
      "outputs": [
        {
          "output_type": "stream",
          "text": [
            "25_et_100_C_5_delta  50_et_100_C_5_delta  75_et_100_C_5_delta\n"
          ],
          "name": "stdout"
        }
      ]
    },
    {
      "cell_type": "markdown",
      "metadata": {
        "id": "FPBsb5Axdd2z",
        "colab_type": "text"
      },
      "source": [
        "There are three sets of traces:\n",
        "* With cross traffic rate $\\lambda$=25 Mbps\n",
        "* With cross traffic rate $\\lambda$=50 Mbps\n",
        "* With cross traffic rate $\\lambda$=75 Mbps\n",
        "\n",
        "All rates are intended at the Ethernet level"
      ]
    },
    {
      "cell_type": "code",
      "metadata": {
        "id": "P210sSI9dDJv",
        "colab_type": "code",
        "outputId": "c40f28e6-c392-403c-ddf3-e603e6ee0321",
        "colab": {
          "base_uri": "https://localhost:8080/",
          "height": 935
        }
      },
      "source": [
        "! ls BandwidthEstimationTraces/training/SingleLinkCapacity100/75_et_100_C_5_delta"
      ],
      "execution_count": 29,
      "outputs": [
        {
          "output_type": "stream",
          "text": [
            "75_et_100_C_5_delta_100.csv  75_et_100_C_5_delta_55.csv\n",
            "75_et_100_C_5_delta_10.csv   75_et_100_C_5_delta_56.csv\n",
            "75_et_100_C_5_delta_11.csv   75_et_100_C_5_delta_57.csv\n",
            "75_et_100_C_5_delta_12.csv   75_et_100_C_5_delta_58.csv\n",
            "75_et_100_C_5_delta_13.csv   75_et_100_C_5_delta_59.csv\n",
            "75_et_100_C_5_delta_14.csv   75_et_100_C_5_delta_5.csv\n",
            "75_et_100_C_5_delta_15.csv   75_et_100_C_5_delta_60.csv\n",
            "75_et_100_C_5_delta_16.csv   75_et_100_C_5_delta_61.csv\n",
            "75_et_100_C_5_delta_17.csv   75_et_100_C_5_delta_62.csv\n",
            "75_et_100_C_5_delta_18.csv   75_et_100_C_5_delta_63.csv\n",
            "75_et_100_C_5_delta_19.csv   75_et_100_C_5_delta_64.csv\n",
            "75_et_100_C_5_delta_1.csv    75_et_100_C_5_delta_65.csv\n",
            "75_et_100_C_5_delta_20.csv   75_et_100_C_5_delta_66.csv\n",
            "75_et_100_C_5_delta_21.csv   75_et_100_C_5_delta_67.csv\n",
            "75_et_100_C_5_delta_22.csv   75_et_100_C_5_delta_68.csv\n",
            "75_et_100_C_5_delta_23.csv   75_et_100_C_5_delta_69.csv\n",
            "75_et_100_C_5_delta_24.csv   75_et_100_C_5_delta_6.csv\n",
            "75_et_100_C_5_delta_25.csv   75_et_100_C_5_delta_70.csv\n",
            "75_et_100_C_5_delta_26.csv   75_et_100_C_5_delta_71.csv\n",
            "75_et_100_C_5_delta_27.csv   75_et_100_C_5_delta_72.csv\n",
            "75_et_100_C_5_delta_28.csv   75_et_100_C_5_delta_73.csv\n",
            "75_et_100_C_5_delta_29.csv   75_et_100_C_5_delta_74.csv\n",
            "75_et_100_C_5_delta_2.csv    75_et_100_C_5_delta_75.csv\n",
            "75_et_100_C_5_delta_30.csv   75_et_100_C_5_delta_76.csv\n",
            "75_et_100_C_5_delta_31.csv   75_et_100_C_5_delta_77.csv\n",
            "75_et_100_C_5_delta_32.csv   75_et_100_C_5_delta_78.csv\n",
            "75_et_100_C_5_delta_33.csv   75_et_100_C_5_delta_79.csv\n",
            "75_et_100_C_5_delta_34.csv   75_et_100_C_5_delta_7.csv\n",
            "75_et_100_C_5_delta_35.csv   75_et_100_C_5_delta_80.csv\n",
            "75_et_100_C_5_delta_36.csv   75_et_100_C_5_delta_81.csv\n",
            "75_et_100_C_5_delta_37.csv   75_et_100_C_5_delta_82.csv\n",
            "75_et_100_C_5_delta_38.csv   75_et_100_C_5_delta_83.csv\n",
            "75_et_100_C_5_delta_39.csv   75_et_100_C_5_delta_84.csv\n",
            "75_et_100_C_5_delta_3.csv    75_et_100_C_5_delta_85.csv\n",
            "75_et_100_C_5_delta_40.csv   75_et_100_C_5_delta_86.csv\n",
            "75_et_100_C_5_delta_41.csv   75_et_100_C_5_delta_87.csv\n",
            "75_et_100_C_5_delta_42.csv   75_et_100_C_5_delta_88.csv\n",
            "75_et_100_C_5_delta_43.csv   75_et_100_C_5_delta_89.csv\n",
            "75_et_100_C_5_delta_44.csv   75_et_100_C_5_delta_8.csv\n",
            "75_et_100_C_5_delta_45.csv   75_et_100_C_5_delta_90.csv\n",
            "75_et_100_C_5_delta_46.csv   75_et_100_C_5_delta_91.csv\n",
            "75_et_100_C_5_delta_47.csv   75_et_100_C_5_delta_92.csv\n",
            "75_et_100_C_5_delta_48.csv   75_et_100_C_5_delta_93.csv\n",
            "75_et_100_C_5_delta_49.csv   75_et_100_C_5_delta_94.csv\n",
            "75_et_100_C_5_delta_4.csv    75_et_100_C_5_delta_95.csv\n",
            "75_et_100_C_5_delta_50.csv   75_et_100_C_5_delta_96.csv\n",
            "75_et_100_C_5_delta_51.csv   75_et_100_C_5_delta_97.csv\n",
            "75_et_100_C_5_delta_52.csv   75_et_100_C_5_delta_98.csv\n",
            "75_et_100_C_5_delta_53.csv   75_et_100_C_5_delta_99.csv\n",
            "75_et_100_C_5_delta_54.csv   75_et_100_C_5_delta_9.csv\n"
          ],
          "name": "stdout"
        }
      ]
    },
    {
      "cell_type": "markdown",
      "metadata": {
        "id": "GTeZj2Z3eJwV",
        "colab_type": "text"
      },
      "source": [
        "Every experiment is repeated 100 times."
      ]
    },
    {
      "cell_type": "code",
      "metadata": {
        "id": "cRwGpDEHeMkK",
        "colab_type": "code",
        "outputId": "e743f77f-6a65-4eaa-ed41-c915f19ad9ed",
        "colab": {
          "base_uri": "https://localhost:8080/",
          "height": 677
        }
      },
      "source": [
        "filename = \"BandwidthEstimationTraces/training/SingleLinkCapacity100/75_et_100_C_5_delta/75_et_100_C_5_delta_33.csv\"\n",
        "df = pd.read_csv(filename)\n",
        "df"
      ],
      "execution_count": 30,
      "outputs": [
        {
          "output_type": "execute_result",
          "data": {
            "text/html": [
              "<div>\n",
              "<style scoped>\n",
              "    .dataframe tbody tr th:only-of-type {\n",
              "        vertical-align: middle;\n",
              "    }\n",
              "\n",
              "    .dataframe tbody tr th {\n",
              "        vertical-align: top;\n",
              "    }\n",
              "\n",
              "    .dataframe thead th {\n",
              "        text-align: right;\n",
              "    }\n",
              "</style>\n",
              "<table border=\"1\" class=\"dataframe\">\n",
              "  <thead>\n",
              "    <tr style=\"text-align: right;\">\n",
              "      <th></th>\n",
              "      <th>100</th>\n",
              "      <th>25</th>\n",
              "    </tr>\n",
              "  </thead>\n",
              "  <tbody>\n",
              "    <tr>\n",
              "      <th>0</th>\n",
              "      <td>1.00060</td>\n",
              "      <td>4.9907</td>\n",
              "    </tr>\n",
              "    <tr>\n",
              "      <th>1</th>\n",
              "      <td>0.99982</td>\n",
              "      <td>9.9443</td>\n",
              "    </tr>\n",
              "    <tr>\n",
              "      <th>2</th>\n",
              "      <td>1.00340</td>\n",
              "      <td>14.9910</td>\n",
              "    </tr>\n",
              "    <tr>\n",
              "      <th>3</th>\n",
              "      <td>1.01250</td>\n",
              "      <td>19.9870</td>\n",
              "    </tr>\n",
              "    <tr>\n",
              "      <th>4</th>\n",
              "      <td>1.09670</td>\n",
              "      <td>25.0280</td>\n",
              "    </tr>\n",
              "    <tr>\n",
              "      <th>5</th>\n",
              "      <td>1.10830</td>\n",
              "      <td>29.9820</td>\n",
              "    </tr>\n",
              "    <tr>\n",
              "      <th>6</th>\n",
              "      <td>1.27700</td>\n",
              "      <td>35.3180</td>\n",
              "    </tr>\n",
              "    <tr>\n",
              "      <th>7</th>\n",
              "      <td>1.27810</td>\n",
              "      <td>39.9750</td>\n",
              "    </tr>\n",
              "    <tr>\n",
              "      <th>8</th>\n",
              "      <td>1.24280</td>\n",
              "      <td>44.5390</td>\n",
              "    </tr>\n",
              "    <tr>\n",
              "      <th>9</th>\n",
              "      <td>1.42630</td>\n",
              "      <td>50.0520</td>\n",
              "    </tr>\n",
              "    <tr>\n",
              "      <th>10</th>\n",
              "      <td>1.44800</td>\n",
              "      <td>54.8200</td>\n",
              "    </tr>\n",
              "    <tr>\n",
              "      <th>11</th>\n",
              "      <td>1.33250</td>\n",
              "      <td>59.9640</td>\n",
              "    </tr>\n",
              "    <tr>\n",
              "      <th>12</th>\n",
              "      <td>1.39210</td>\n",
              "      <td>65.1400</td>\n",
              "    </tr>\n",
              "    <tr>\n",
              "      <th>13</th>\n",
              "      <td>1.57500</td>\n",
              "      <td>70.8650</td>\n",
              "    </tr>\n",
              "    <tr>\n",
              "      <th>14</th>\n",
              "      <td>1.50830</td>\n",
              "      <td>75.2580</td>\n",
              "    </tr>\n",
              "    <tr>\n",
              "      <th>15</th>\n",
              "      <td>1.49620</td>\n",
              "      <td>80.2280</td>\n",
              "    </tr>\n",
              "    <tr>\n",
              "      <th>16</th>\n",
              "      <td>1.68820</td>\n",
              "      <td>85.9380</td>\n",
              "    </tr>\n",
              "    <tr>\n",
              "      <th>17</th>\n",
              "      <td>1.81020</td>\n",
              "      <td>90.3930</td>\n",
              "    </tr>\n",
              "    <tr>\n",
              "      <th>18</th>\n",
              "      <td>1.76140</td>\n",
              "      <td>95.4080</td>\n",
              "    </tr>\n",
              "    <tr>\n",
              "      <th>19</th>\n",
              "      <td>1.73000</td>\n",
              "      <td>100.1100</td>\n",
              "    </tr>\n",
              "  </tbody>\n",
              "</table>\n",
              "</div>"
            ],
            "text/plain": [
              "        100        25\n",
              "0   1.00060    4.9907\n",
              "1   0.99982    9.9443\n",
              "2   1.00340   14.9910\n",
              "3   1.01250   19.9870\n",
              "4   1.09670   25.0280\n",
              "5   1.10830   29.9820\n",
              "6   1.27700   35.3180\n",
              "7   1.27810   39.9750\n",
              "8   1.24280   44.5390\n",
              "9   1.42630   50.0520\n",
              "10  1.44800   54.8200\n",
              "11  1.33250   59.9640\n",
              "12  1.39210   65.1400\n",
              "13  1.57500   70.8650\n",
              "14  1.50830   75.2580\n",
              "15  1.49620   80.2280\n",
              "16  1.68820   85.9380\n",
              "17  1.81020   90.3930\n",
              "18  1.76140   95.4080\n",
              "19  1.73000  100.1100"
            ]
          },
          "metadata": {
            "tags": []
          },
          "execution_count": 30
        }
      ]
    },
    {
      "cell_type": "markdown",
      "metadata": {
        "id": "YgpozAfk8YZv",
        "colab_type": "text"
      },
      "source": [
        "The header is not a sample. It just tells us the scenario, i.e. total channel capacity (Mbps) and available bandwith (Mbps).\n",
        "\n",
        "The columns are:\n",
        "* $g_\\text{in} / g_\\text{ack}$\n",
        "* Some sort of time stamp that we will ignore (not well described in the dataset)\n",
        "\n",
        "Add a label column, such that:\n",
        "* label = 'low' if available bandwith = 25Mbps\n",
        "* label = 'mid' if available bandwith = 50Mbps\n",
        "* label = 'hig' if available bandwith = 75Mbps"
      ]
    },
    {
      "cell_type": "code",
      "metadata": {
        "id": "FJyovkIOfD8K",
        "colab_type": "code",
        "colab": {
          "base_uri": "https://localhost:8080/",
          "height": 35
        },
        "outputId": "19e7086e-892c-4a49-955b-5c528c409c8d"
      },
      "source": [
        "avail_band = 'low' if df.columns[1]=='25' \\\n",
        "      else 'adult'\n",
        "avail_band"
      ],
      "execution_count": 47,
      "outputs": [
        {
          "output_type": "execute_result",
          "data": {
            "text/plain": [
              "'low'"
            ]
          },
          "metadata": {
            "tags": []
          },
          "execution_count": 47
        }
      ]
    },
    {
      "cell_type": "markdown",
      "metadata": {
        "id": "6u0cMK1JDKLH",
        "colab_type": "text"
      },
      "source": [
        "# Limits of the work\n",
        "\n",
        "* Only a finite set of available bandwidth values are used (25, 50, 75 Mbps). In reality, any value can occur => Need to extend the test and validation test with random bandwidth values."
      ]
    },
    {
      "cell_type": "code",
      "metadata": {
        "id": "H0fubtu0Dkq4",
        "colab_type": "code",
        "colab": {
          "base_uri": "https://localhost:8080/",
          "height": 157
        },
        "outputId": "ff954684-1640-41ec-b62d-1205b5095eea"
      },
      "source": [
        "  else 'mid' if df.columns[1]=='50' else 'hig' if df.columns[1]=='75' else raise ValueException('Value of bandwidth available = '+ df.columns[1]+' not valid')"
      ],
      "execution_count": 40,
      "outputs": [
        {
          "output_type": "error",
          "ename": "SyntaxError",
          "evalue": "ignored",
          "traceback": [
            "\u001b[0;36m  File \u001b[0;32m\"<ipython-input-40-807835a77217>\"\u001b[0;36m, line \u001b[0;32m1\u001b[0m\n\u001b[0;31m    else 'mid' if df.columns[1]=='50' else 'hig' if df.columns[1]=='75' else raise ValueException('Value of bandwidth available = '+ df.columns[1]+' not valid')\u001b[0m\n\u001b[0m       ^\u001b[0m\n\u001b[0;31mSyntaxError\u001b[0m\u001b[0;31m:\u001b[0m invalid syntax\n"
          ]
        }
      ]
    },
    {
      "cell_type": "code",
      "metadata": {
        "id": "yfLC0FZpGl13",
        "colab_type": "code",
        "colab": {}
      },
      "source": [
        ""
      ],
      "execution_count": 0,
      "outputs": []
    }
  ]
}