{
  "nbformat": 4,
  "nbformat_minor": 0,
  "metadata": {
    "kernelspec": {
      "display_name": "Python 3",
      "language": "python",
      "name": "python3"
    },
    "language_info": {
      "codemirror_mode": {
        "name": "ipython",
        "version": 3
      },
      "file_extension": ".py",
      "mimetype": "text/x-python",
      "name": "python",
      "nbconvert_exporter": "python",
      "pygments_lexer": "ipython3",
      "version": "3.6.8"
    },
    "colab": {
      "name": "ignore.preprocessing.ipynb",
      "provenance": []
    }
  },
  "cells": [
    {
      "cell_type": "markdown",
      "metadata": {
        "id": "l9YluDp3CpfT",
        "colab_type": "text"
      },
      "source": [
        "We use the [Requet dataset](https://github.com/Wimnet/RequetDataSet), in particular the \"merged files\" which summarize the connection and QoE information every 100 ms."
      ]
    },
    {
      "cell_type": "code",
      "metadata": {
        "id": "ui_6_kWhCpfa",
        "colab_type": "code",
        "colab": {}
      },
      "source": [
        "# Request gives us different datasets. In this notebook, we are using one\n",
        "# of them\n",
        "dataset_to_use = 'B1'"
      ],
      "execution_count": 0,
      "outputs": []
    },
    {
      "cell_type": "code",
      "metadata": {
        "id": "Sl9q0WKkCpfr",
        "colab_type": "code",
        "colab": {
          "base_uri": "https://localhost:8080/",
          "height": 54
        },
        "outputId": "036ba1e3-e689-441d-c7fa-eda6e573c2a3"
      },
      "source": [
        "import numpy as np\n",
        "\n",
        "## To make figsize(..) work (https://stackoverflow.com/a/23762991/2110769)\n",
        "%pylab \n",
        "\n",
        "import pandas as pd\n",
        "import matplotlib.pyplot as plt\n",
        "\n",
        "# no need to write plt.show\n",
        "%matplotlib inline\n",
        "\n",
        "\n",
        "from scipy.io import arff\n",
        "import glob"
      ],
      "execution_count": 5,
      "outputs": [
        {
          "output_type": "stream",
          "text": [
            "Using matplotlib backend: agg\n",
            "Populating the interactive namespace from numpy and matplotlib\n"
          ],
          "name": "stdout"
        }
      ]
    },
    {
      "cell_type": "markdown",
      "metadata": {
        "id": "SOoYhCiECpgB",
        "colab_type": "text"
      },
      "source": [
        "## Load and preprocessing\n",
        "\n",
        "Download the dataset"
      ]
    },
    {
      "cell_type": "code",
      "metadata": {
        "id": "uAif0CYcDmrS",
        "colab_type": "code",
        "colab": {
          "base_uri": "https://localhost:8080/",
          "height": 311
        },
        "outputId": "645efb17-5dd8-48f3-842c-95c415b29956"
      },
      "source": [
        "!wget https://github.com/Wimnet/RequetDataSet/archive/master.zip"
      ],
      "execution_count": 6,
      "outputs": [
        {
          "output_type": "stream",
          "text": [
            "--2020-03-03 11:06:53--  https://github.com/Wimnet/RequetDataSet/archive/master.zip\n",
            "Resolving github.com (github.com)... 192.30.253.113\n",
            "Connecting to github.com (github.com)|192.30.253.113|:443... connected.\n",
            "HTTP request sent, awaiting response... 302 Found\n",
            "Location: https://codeload.github.com/Wimnet/RequetDataSet/zip/master [following]\n",
            "--2020-03-03 11:06:53--  https://codeload.github.com/Wimnet/RequetDataSet/zip/master\n",
            "Resolving codeload.github.com (codeload.github.com)... 140.82.113.9\n",
            "Connecting to codeload.github.com (codeload.github.com)|140.82.113.9|:443... connected.\n",
            "HTTP request sent, awaiting response... 200 OK\n",
            "Length: unspecified [application/zip]\n",
            "Saving to: ‘master.zip’\n",
            "\n",
            "master.zip              [    <=>             ]   1.82G  12.9MB/s    in 3m 49s  \n",
            "\n",
            "2020-03-03 11:10:42 (8.14 MB/s) - ‘master.zip’ saved [1954671698]\n",
            "\n"
          ],
          "name": "stdout"
        }
      ]
    },
    {
      "cell_type": "code",
      "metadata": {
        "id": "EcZMO8-PDfGd",
        "colab_type": "code",
        "colab": {
          "base_uri": "https://localhost:8080/",
          "height": 137
        },
        "outputId": "0309c598-b2dd-4546-8f8d-6466e394aed8"
      },
      "source": [
        "We need to remove the special characters \\[ and \\] before reading the files"
      ],
      "execution_count": 11,
      "outputs": [
        {
          "output_type": "error",
          "ename": "SyntaxError",
          "evalue": "ignored",
          "traceback": [
            "\u001b[0;36m  File \u001b[0;32m\"<ipython-input-11-275bfc548106>\"\u001b[0;36m, line \u001b[0;32m1\u001b[0m\n\u001b[0;31m    We need to remove the special characters \\[ and \\] before reading the files\u001b[0m\n\u001b[0m          ^\u001b[0m\n\u001b[0;31mSyntaxError\u001b[0m\u001b[0;31m:\u001b[0m invalid syntax\n"
          ]
        }
      ]
    },
    {
      "cell_type": "code",
      "metadata": {
        "id": "6bbcRTysFAiu",
        "colab_type": "code",
        "colab": {
          "base_uri": "https://localhost:8080/",
          "height": 35
        },
        "outputId": "c8704a0c-834f-4d3a-e9a8-98c91bbc4fff"
      },
      "source": [
        "!unzip -qq master.zip"
      ],
      "execution_count": 17,
      "outputs": [
        {
          "output_type": "stream",
          "text": [
            "replace RequetDataSet-master/A/.DS_Store? [y]es, [n]o, [A]ll, [N]one, [r]ename: "
          ],
          "name": "stdout"
        }
      ]
    },
    {
      "cell_type": "code",
      "metadata": {
        "id": "vsnyCs1fHqIz",
        "colab_type": "code",
        "colab": {
          "base_uri": "https://localhost:8080/",
          "height": 35
        },
        "outputId": "d56409e4-e9db-4205-8dcf-4051ebaaeb92"
      },
      "source": [
        "!ls RequetDataSet-master"
      ],
      "execution_count": 21,
      "outputs": [
        {
          "output_type": "stream",
          "text": [
            "A  B1  B2  C  D  ExperimentInfo.txt  README.md\n"
          ],
          "name": "stdout"
        }
      ]
    },
    {
      "cell_type": "code",
      "metadata": {
        "id": "NoeTQB6OCpgE",
        "colab_type": "code",
        "colab": {
          "base_uri": "https://localhost:8080/",
          "height": 1000
        },
        "outputId": "45c28d5f-8fa1-4f4e-e540-be2fe29ff616"
      },
      "source": [
        "mydatasets_folder = \"RequetDataSet-master\"\n",
        "dataset_folder=mydatasets_folder+'/'+dataset_to_use+'/MERGED_FILES/'\n",
        "files=glob.glob(dataset_folder+'baseline_*_merged.txt')\n",
        "\n",
        "print(\"Files found in folder : \", dataset_folder ,\":\", files)\n",
        "\n",
        "df=pd.DataFrame()\n",
        "\n",
        "i=1;\n",
        "\n",
        "for file in files:\n",
        "    outfilename = file+\".csv\"\n",
        "    fin = open(file, \"rt\")\n",
        "    fout = open(outfilename,\"wt\")\n",
        "    # From https://pythonexamples.org/python-replace-string-in-file/\n",
        "    for line in fin:\n",
        "        fout.write(line.replace('[','').replace(']',''))\n",
        "    fin.close()\n",
        "    fout.close()\n",
        "    df=pd.concat( [ df, pd.read_csv(outfilename, header=None) ], \n",
        "                ignore_index=True)\n",
        "    print(\"Concatenating (\",i,\"/\",len(files),\"): \", file)\n",
        "    i = i+1"
      ],
      "execution_count": 25,
      "outputs": [
        {
          "output_type": "stream",
          "text": [
            "Files found in folder :  RequetDataSet-master/B1/MERGED_FILES/ : ['RequetDataSet-master/B1/MERGED_FILES/baseline_apartment_exp_314_merged.txt', 'RequetDataSet-master/B1/MERGED_FILES/baseline_apartment_exp_387_merged.txt', 'RequetDataSet-master/B1/MERGED_FILES/baseline_apartment_exp_304_merged.txt', 'RequetDataSet-master/B1/MERGED_FILES/baseline_apartment_exp_284_merged.txt', 'RequetDataSet-master/B1/MERGED_FILES/baseline_apartment_exp_292_merged.txt', 'RequetDataSet-master/B1/MERGED_FILES/baseline_apartment_exp_287_merged.txt', 'RequetDataSet-master/B1/MERGED_FILES/baseline_apartment_exp_312_merged.txt', 'RequetDataSet-master/B1/MERGED_FILES/baseline_apartment_exp_293_merged.txt', 'RequetDataSet-master/B1/MERGED_FILES/baseline_apartment_exp_315_merged.txt', 'RequetDataSet-master/B1/MERGED_FILES/baseline_apartment_exp_301_merged.txt', 'RequetDataSet-master/B1/MERGED_FILES/baseline_apartment_exp_275_merged.txt', 'RequetDataSet-master/B1/MERGED_FILES/baseline_apartment_exp_308_merged.txt', 'RequetDataSet-master/B1/MERGED_FILES/baseline_apartment_exp_272_merged.txt', 'RequetDataSet-master/B1/MERGED_FILES/baseline_apartment_exp_290_merged.txt', 'RequetDataSet-master/B1/MERGED_FILES/baseline_apartment_exp_384_merged.txt', 'RequetDataSet-master/B1/MERGED_FILES/baseline_apartment_exp_317_merged.txt', 'RequetDataSet-master/B1/MERGED_FILES/baseline_apartment_exp_271_merged.txt', 'RequetDataSet-master/B1/MERGED_FILES/baseline_apartment_exp_381_merged.txt', 'RequetDataSet-master/B1/MERGED_FILES/baseline_apartment_exp_269_merged.txt', 'RequetDataSet-master/B1/MERGED_FILES/baseline_apartment_exp_300_merged.txt', 'RequetDataSet-master/B1/MERGED_FILES/baseline_apartment_exp_379_merged.txt', 'RequetDataSet-master/B1/MERGED_FILES/baseline_apartment_exp_268_merged.txt', 'RequetDataSet-master/B1/MERGED_FILES/baseline_apartment_exp_294_merged.txt', 'RequetDataSet-master/B1/MERGED_FILES/baseline_apartment_exp_302_merged.txt', 'RequetDataSet-master/B1/MERGED_FILES/baseline_apartment_exp_281_merged.txt', 'RequetDataSet-master/B1/MERGED_FILES/baseline_apartment_exp_382_merged.txt', 'RequetDataSet-master/B1/MERGED_FILES/baseline_apartment_exp_313_merged.txt', 'RequetDataSet-master/B1/MERGED_FILES/baseline_apartment_exp_299_merged.txt', 'RequetDataSet-master/B1/MERGED_FILES/baseline_apartment_exp_306_merged.txt', 'RequetDataSet-master/B1/MERGED_FILES/baseline_apartment_exp_289_merged.txt', 'RequetDataSet-master/B1/MERGED_FILES/baseline_apartment_exp_307_merged.txt', 'RequetDataSet-master/B1/MERGED_FILES/baseline_apartment_exp_270_merged.txt', 'RequetDataSet-master/B1/MERGED_FILES/baseline_apartment_exp_286_merged.txt', 'RequetDataSet-master/B1/MERGED_FILES/baseline_apartment_exp_383_merged.txt', 'RequetDataSet-master/B1/MERGED_FILES/baseline_apartment_exp_279_merged.txt', 'RequetDataSet-master/B1/MERGED_FILES/baseline_apartment_exp_282_merged.txt', 'RequetDataSet-master/B1/MERGED_FILES/baseline_apartment_exp_273_merged.txt', 'RequetDataSet-master/B1/MERGED_FILES/baseline_apartment_exp_278_merged.txt', 'RequetDataSet-master/B1/MERGED_FILES/baseline_apartment_exp_316_merged.txt', 'RequetDataSet-master/B1/MERGED_FILES/baseline_apartment_exp_298_merged.txt', 'RequetDataSet-master/B1/MERGED_FILES/baseline_apartment_exp_285_merged.txt', 'RequetDataSet-master/B1/MERGED_FILES/baseline_apartment_exp_280_merged.txt', 'RequetDataSet-master/B1/MERGED_FILES/baseline_apartment_exp_311_merged.txt', 'RequetDataSet-master/B1/MERGED_FILES/baseline_apartment_exp_274_merged.txt', 'RequetDataSet-master/B1/MERGED_FILES/baseline_apartment_exp_303_merged.txt', 'RequetDataSet-master/B1/MERGED_FILES/baseline_apartment_exp_296_merged.txt', 'RequetDataSet-master/B1/MERGED_FILES/baseline_apartment_exp_283_merged.txt', 'RequetDataSet-master/B1/MERGED_FILES/baseline_apartment_exp_309_merged.txt', 'RequetDataSet-master/B1/MERGED_FILES/baseline_apartment_exp_297_merged.txt', 'RequetDataSet-master/B1/MERGED_FILES/baseline_apartment_exp_310_merged.txt', 'RequetDataSet-master/B1/MERGED_FILES/baseline_apartment_exp_386_merged.txt', 'RequetDataSet-master/B1/MERGED_FILES/baseline_apartment_exp_385_merged.txt', 'RequetDataSet-master/B1/MERGED_FILES/baseline_apartment_exp_288_merged.txt', 'RequetDataSet-master/B1/MERGED_FILES/baseline_apartment_exp_276_merged.txt', 'RequetDataSet-master/B1/MERGED_FILES/baseline_apartment_exp_277_merged.txt', 'RequetDataSet-master/B1/MERGED_FILES/baseline_apartment_exp_380_merged.txt', 'RequetDataSet-master/B1/MERGED_FILES/baseline_apartment_exp_295_merged.txt', 'RequetDataSet-master/B1/MERGED_FILES/baseline_apartment_exp_291_merged.txt', 'RequetDataSet-master/B1/MERGED_FILES/baseline_apartment_exp_305_merged.txt', 'RequetDataSet-master/B1/MERGED_FILES/baseline_apartment_exp_378_merged.txt']\n"
          ],
          "name": "stdout"
        },
        {
          "output_type": "stream",
          "text": [
            "/usr/local/lib/python3.6/dist-packages/IPython/core/interactiveshell.py:2718: DtypeWarning: Columns (21,35,42,49,56,63,70,84,91) have mixed types. Specify dtype option on import or set low_memory=False.\n",
            "  interactivity=interactivity, compiler=compiler, result=result)\n"
          ],
          "name": "stderr"
        },
        {
          "output_type": "stream",
          "text": [
            "Concatenating ( 1 / 60 ):  RequetDataSet-master/B1/MERGED_FILES/baseline_apartment_exp_314_merged.txt\n"
          ],
          "name": "stdout"
        },
        {
          "output_type": "stream",
          "text": [
            "/usr/local/lib/python3.6/dist-packages/IPython/core/interactiveshell.py:2718: DtypeWarning: Columns (14,21,28,35,42,49,56,70,77,91,98,105) have mixed types. Specify dtype option on import or set low_memory=False.\n",
            "  interactivity=interactivity, compiler=compiler, result=result)\n"
          ],
          "name": "stderr"
        },
        {
          "output_type": "stream",
          "text": [
            "Concatenating ( 2 / 60 ):  RequetDataSet-master/B1/MERGED_FILES/baseline_apartment_exp_387_merged.txt\n"
          ],
          "name": "stdout"
        },
        {
          "output_type": "stream",
          "text": [
            "/usr/local/lib/python3.6/dist-packages/IPython/core/interactiveshell.py:2718: DtypeWarning: Columns (14,21,28,35,49,56,63,70,91,98,105,119) have mixed types. Specify dtype option on import or set low_memory=False.\n",
            "  interactivity=interactivity, compiler=compiler, result=result)\n"
          ],
          "name": "stderr"
        },
        {
          "output_type": "stream",
          "text": [
            "Concatenating ( 3 / 60 ):  RequetDataSet-master/B1/MERGED_FILES/baseline_apartment_exp_304_merged.txt\n"
          ],
          "name": "stdout"
        },
        {
          "output_type": "stream",
          "text": [
            "/usr/local/lib/python3.6/dist-packages/IPython/core/interactiveshell.py:2718: DtypeWarning: Columns (14,21,35,42,56,70,77,91,98,105,119) have mixed types. Specify dtype option on import or set low_memory=False.\n",
            "  interactivity=interactivity, compiler=compiler, result=result)\n"
          ],
          "name": "stderr"
        },
        {
          "output_type": "stream",
          "text": [
            "Concatenating ( 4 / 60 ):  RequetDataSet-master/B1/MERGED_FILES/baseline_apartment_exp_284_merged.txt\n"
          ],
          "name": "stdout"
        },
        {
          "output_type": "stream",
          "text": [
            "/usr/local/lib/python3.6/dist-packages/IPython/core/interactiveshell.py:2718: DtypeWarning: Columns (14,21,35,42,56,63,70,84,91,98,105) have mixed types. Specify dtype option on import or set low_memory=False.\n",
            "  interactivity=interactivity, compiler=compiler, result=result)\n"
          ],
          "name": "stderr"
        },
        {
          "output_type": "stream",
          "text": [
            "Concatenating ( 5 / 60 ):  RequetDataSet-master/B1/MERGED_FILES/baseline_apartment_exp_292_merged.txt\n"
          ],
          "name": "stdout"
        },
        {
          "output_type": "stream",
          "text": [
            "/usr/local/lib/python3.6/dist-packages/IPython/core/interactiveshell.py:2718: DtypeWarning: Columns (14,35,42,49,63,70,77,91) have mixed types. Specify dtype option on import or set low_memory=False.\n",
            "  interactivity=interactivity, compiler=compiler, result=result)\n"
          ],
          "name": "stderr"
        },
        {
          "output_type": "stream",
          "text": [
            "Concatenating ( 6 / 60 ):  RequetDataSet-master/B1/MERGED_FILES/baseline_apartment_exp_287_merged.txt\n"
          ],
          "name": "stdout"
        },
        {
          "output_type": "stream",
          "text": [
            "/usr/local/lib/python3.6/dist-packages/IPython/core/interactiveshell.py:2718: DtypeWarning: Columns (14,21,28,49,56,63,70,77,84,91,105,119) have mixed types. Specify dtype option on import or set low_memory=False.\n",
            "  interactivity=interactivity, compiler=compiler, result=result)\n"
          ],
          "name": "stderr"
        },
        {
          "output_type": "stream",
          "text": [
            "Concatenating ( 7 / 60 ):  RequetDataSet-master/B1/MERGED_FILES/baseline_apartment_exp_312_merged.txt\n"
          ],
          "name": "stdout"
        },
        {
          "output_type": "stream",
          "text": [
            "/usr/local/lib/python3.6/dist-packages/IPython/core/interactiveshell.py:2718: DtypeWarning: Columns (14,21,28,42,49,56,63,84,91,105,112) have mixed types. Specify dtype option on import or set low_memory=False.\n",
            "  interactivity=interactivity, compiler=compiler, result=result)\n"
          ],
          "name": "stderr"
        },
        {
          "output_type": "stream",
          "text": [
            "Concatenating ( 8 / 60 ):  RequetDataSet-master/B1/MERGED_FILES/baseline_apartment_exp_293_merged.txt\n"
          ],
          "name": "stdout"
        },
        {
          "output_type": "stream",
          "text": [
            "/usr/local/lib/python3.6/dist-packages/IPython/core/interactiveshell.py:2718: DtypeWarning: Columns (14,42,49,56,63,70,77,84,91,98,105,119) have mixed types. Specify dtype option on import or set low_memory=False.\n",
            "  interactivity=interactivity, compiler=compiler, result=result)\n"
          ],
          "name": "stderr"
        },
        {
          "output_type": "stream",
          "text": [
            "Concatenating ( 9 / 60 ):  RequetDataSet-master/B1/MERGED_FILES/baseline_apartment_exp_315_merged.txt\n"
          ],
          "name": "stdout"
        },
        {
          "output_type": "stream",
          "text": [
            "/usr/local/lib/python3.6/dist-packages/IPython/core/interactiveshell.py:2718: DtypeWarning: Columns (7,14,35,42,49,56,70,77,84,91,98,105,119) have mixed types. Specify dtype option on import or set low_memory=False.\n",
            "  interactivity=interactivity, compiler=compiler, result=result)\n"
          ],
          "name": "stderr"
        },
        {
          "output_type": "stream",
          "text": [
            "Concatenating ( 10 / 60 ):  RequetDataSet-master/B1/MERGED_FILES/baseline_apartment_exp_301_merged.txt\n"
          ],
          "name": "stdout"
        },
        {
          "output_type": "stream",
          "text": [
            "/usr/local/lib/python3.6/dist-packages/IPython/core/interactiveshell.py:2718: DtypeWarning: Columns (14,28,35,42,49,56,70,77,91,105,112,119,126,133,147) have mixed types. Specify dtype option on import or set low_memory=False.\n",
            "  interactivity=interactivity, compiler=compiler, result=result)\n"
          ],
          "name": "stderr"
        },
        {
          "output_type": "stream",
          "text": [
            "Concatenating ( 11 / 60 ):  RequetDataSet-master/B1/MERGED_FILES/baseline_apartment_exp_275_merged.txt\n"
          ],
          "name": "stdout"
        },
        {
          "output_type": "stream",
          "text": [
            "/usr/local/lib/python3.6/dist-packages/IPython/core/interactiveshell.py:2718: DtypeWarning: Columns (14,21,28,42,49,56,63,70,91,98,105,112,126,133) have mixed types. Specify dtype option on import or set low_memory=False.\n",
            "  interactivity=interactivity, compiler=compiler, result=result)\n"
          ],
          "name": "stderr"
        },
        {
          "output_type": "stream",
          "text": [
            "Concatenating ( 12 / 60 ):  RequetDataSet-master/B1/MERGED_FILES/baseline_apartment_exp_308_merged.txt\n"
          ],
          "name": "stdout"
        },
        {
          "output_type": "stream",
          "text": [
            "/usr/local/lib/python3.6/dist-packages/IPython/core/interactiveshell.py:2718: DtypeWarning: Columns (21,35,42,56,70,77,84,91,105,112,126) have mixed types. Specify dtype option on import or set low_memory=False.\n",
            "  interactivity=interactivity, compiler=compiler, result=result)\n"
          ],
          "name": "stderr"
        },
        {
          "output_type": "stream",
          "text": [
            "Concatenating ( 13 / 60 ):  RequetDataSet-master/B1/MERGED_FILES/baseline_apartment_exp_272_merged.txt\n"
          ],
          "name": "stdout"
        },
        {
          "output_type": "stream",
          "text": [
            "/usr/local/lib/python3.6/dist-packages/IPython/core/interactiveshell.py:2718: DtypeWarning: Columns (14,35,42,56,63,70,77,84,98) have mixed types. Specify dtype option on import or set low_memory=False.\n",
            "  interactivity=interactivity, compiler=compiler, result=result)\n"
          ],
          "name": "stderr"
        },
        {
          "output_type": "stream",
          "text": [
            "Concatenating ( 14 / 60 ):  RequetDataSet-master/B1/MERGED_FILES/baseline_apartment_exp_290_merged.txt\n"
          ],
          "name": "stdout"
        },
        {
          "output_type": "stream",
          "text": [
            "/usr/local/lib/python3.6/dist-packages/IPython/core/interactiveshell.py:2718: DtypeWarning: Columns (14,21,28,35,49,56,70,91,105,112,126) have mixed types. Specify dtype option on import or set low_memory=False.\n",
            "  interactivity=interactivity, compiler=compiler, result=result)\n"
          ],
          "name": "stderr"
        },
        {
          "output_type": "stream",
          "text": [
            "Concatenating ( 15 / 60 ):  RequetDataSet-master/B1/MERGED_FILES/baseline_apartment_exp_384_merged.txt\n"
          ],
          "name": "stdout"
        },
        {
          "output_type": "stream",
          "text": [
            "/usr/local/lib/python3.6/dist-packages/IPython/core/interactiveshell.py:2718: DtypeWarning: Columns (14,28,35,42,49,56,63,77,84,91,98,105,112,126) have mixed types. Specify dtype option on import or set low_memory=False.\n",
            "  interactivity=interactivity, compiler=compiler, result=result)\n"
          ],
          "name": "stderr"
        },
        {
          "output_type": "stream",
          "text": [
            "Concatenating ( 16 / 60 ):  RequetDataSet-master/B1/MERGED_FILES/baseline_apartment_exp_317_merged.txt\n"
          ],
          "name": "stdout"
        },
        {
          "output_type": "stream",
          "text": [
            "/usr/local/lib/python3.6/dist-packages/IPython/core/interactiveshell.py:2718: DtypeWarning: Columns (14,21,28,35,49,56,70,77,84,91,98,105,112,119,133) have mixed types. Specify dtype option on import or set low_memory=False.\n",
            "  interactivity=interactivity, compiler=compiler, result=result)\n"
          ],
          "name": "stderr"
        },
        {
          "output_type": "stream",
          "text": [
            "Concatenating ( 17 / 60 ):  RequetDataSet-master/B1/MERGED_FILES/baseline_apartment_exp_271_merged.txt\n"
          ],
          "name": "stdout"
        },
        {
          "output_type": "stream",
          "text": [
            "/usr/local/lib/python3.6/dist-packages/IPython/core/interactiveshell.py:2718: DtypeWarning: Columns (7,14,21,28,42,49,63,70,77,84,91,98,105,112,126) have mixed types. Specify dtype option on import or set low_memory=False.\n",
            "  interactivity=interactivity, compiler=compiler, result=result)\n"
          ],
          "name": "stderr"
        },
        {
          "output_type": "stream",
          "text": [
            "Concatenating ( 18 / 60 ):  RequetDataSet-master/B1/MERGED_FILES/baseline_apartment_exp_381_merged.txt\n"
          ],
          "name": "stdout"
        },
        {
          "output_type": "stream",
          "text": [
            "/usr/local/lib/python3.6/dist-packages/IPython/core/interactiveshell.py:2718: DtypeWarning: Columns (35,42,49,56,63,70,77,84) have mixed types. Specify dtype option on import or set low_memory=False.\n",
            "  interactivity=interactivity, compiler=compiler, result=result)\n"
          ],
          "name": "stderr"
        },
        {
          "output_type": "stream",
          "text": [
            "Concatenating ( 19 / 60 ):  RequetDataSet-master/B1/MERGED_FILES/baseline_apartment_exp_269_merged.txt\n"
          ],
          "name": "stdout"
        },
        {
          "output_type": "stream",
          "text": [
            "/usr/local/lib/python3.6/dist-packages/IPython/core/interactiveshell.py:2718: DtypeWarning: Columns (14,21,28,42,49,63,70,84,91,98,105) have mixed types. Specify dtype option on import or set low_memory=False.\n",
            "  interactivity=interactivity, compiler=compiler, result=result)\n"
          ],
          "name": "stderr"
        },
        {
          "output_type": "stream",
          "text": [
            "Concatenating ( 20 / 60 ):  RequetDataSet-master/B1/MERGED_FILES/baseline_apartment_exp_300_merged.txt\n"
          ],
          "name": "stdout"
        },
        {
          "output_type": "stream",
          "text": [
            "/usr/local/lib/python3.6/dist-packages/IPython/core/interactiveshell.py:2718: DtypeWarning: Columns (14,21,49,56,63,70,77,84,91) have mixed types. Specify dtype option on import or set low_memory=False.\n",
            "  interactivity=interactivity, compiler=compiler, result=result)\n"
          ],
          "name": "stderr"
        },
        {
          "output_type": "stream",
          "text": [
            "Concatenating ( 21 / 60 ):  RequetDataSet-master/B1/MERGED_FILES/baseline_apartment_exp_379_merged.txt\n"
          ],
          "name": "stdout"
        },
        {
          "output_type": "stream",
          "text": [
            "/usr/local/lib/python3.6/dist-packages/IPython/core/interactiveshell.py:2718: DtypeWarning: Columns (14,21,28,35,56,70,84,91,98,112,133) have mixed types. Specify dtype option on import or set low_memory=False.\n",
            "  interactivity=interactivity, compiler=compiler, result=result)\n"
          ],
          "name": "stderr"
        },
        {
          "output_type": "stream",
          "text": [
            "Concatenating ( 22 / 60 ):  RequetDataSet-master/B1/MERGED_FILES/baseline_apartment_exp_268_merged.txt\n"
          ],
          "name": "stdout"
        },
        {
          "output_type": "stream",
          "text": [
            "/usr/local/lib/python3.6/dist-packages/IPython/core/interactiveshell.py:2718: DtypeWarning: Columns (14,21,28,35,49,70,77,84,91,105,112,119) have mixed types. Specify dtype option on import or set low_memory=False.\n",
            "  interactivity=interactivity, compiler=compiler, result=result)\n"
          ],
          "name": "stderr"
        },
        {
          "output_type": "stream",
          "text": [
            "Concatenating ( 23 / 60 ):  RequetDataSet-master/B1/MERGED_FILES/baseline_apartment_exp_294_merged.txt\n"
          ],
          "name": "stdout"
        },
        {
          "output_type": "stream",
          "text": [
            "/usr/local/lib/python3.6/dist-packages/IPython/core/interactiveshell.py:2718: DtypeWarning: Columns (14,21,35,42,49,63,77,84,91,98,105,112,119,133,140) have mixed types. Specify dtype option on import or set low_memory=False.\n",
            "  interactivity=interactivity, compiler=compiler, result=result)\n"
          ],
          "name": "stderr"
        },
        {
          "output_type": "stream",
          "text": [
            "Concatenating ( 24 / 60 ):  RequetDataSet-master/B1/MERGED_FILES/baseline_apartment_exp_302_merged.txt\n"
          ],
          "name": "stdout"
        },
        {
          "output_type": "stream",
          "text": [
            "/usr/local/lib/python3.6/dist-packages/IPython/core/interactiveshell.py:2718: DtypeWarning: Columns (7,21,28,35,42,56,63,70,84,91,98,105,112,119,126,140) have mixed types. Specify dtype option on import or set low_memory=False.\n",
            "  interactivity=interactivity, compiler=compiler, result=result)\n"
          ],
          "name": "stderr"
        },
        {
          "output_type": "stream",
          "text": [
            "Concatenating ( 25 / 60 ):  RequetDataSet-master/B1/MERGED_FILES/baseline_apartment_exp_281_merged.txt\n"
          ],
          "name": "stdout"
        },
        {
          "output_type": "stream",
          "text": [
            "/usr/local/lib/python3.6/dist-packages/IPython/core/interactiveshell.py:2718: DtypeWarning: Columns (14,21,28,35,49,63,70,77,84,98,105,112,119,126,133,147) have mixed types. Specify dtype option on import or set low_memory=False.\n",
            "  interactivity=interactivity, compiler=compiler, result=result)\n"
          ],
          "name": "stderr"
        },
        {
          "output_type": "stream",
          "text": [
            "Concatenating ( 26 / 60 ):  RequetDataSet-master/B1/MERGED_FILES/baseline_apartment_exp_382_merged.txt\n"
          ],
          "name": "stdout"
        },
        {
          "output_type": "stream",
          "text": [
            "/usr/local/lib/python3.6/dist-packages/IPython/core/interactiveshell.py:2718: DtypeWarning: Columns (21,35,42,63,70,77,84,91,98,105,112) have mixed types. Specify dtype option on import or set low_memory=False.\n",
            "  interactivity=interactivity, compiler=compiler, result=result)\n"
          ],
          "name": "stderr"
        },
        {
          "output_type": "stream",
          "text": [
            "Concatenating ( 27 / 60 ):  RequetDataSet-master/B1/MERGED_FILES/baseline_apartment_exp_313_merged.txt\n"
          ],
          "name": "stdout"
        },
        {
          "output_type": "stream",
          "text": [
            "/usr/local/lib/python3.6/dist-packages/IPython/core/interactiveshell.py:2718: DtypeWarning: Columns (14,21,28,49,56,63,70,77,84,91,98,105) have mixed types. Specify dtype option on import or set low_memory=False.\n",
            "  interactivity=interactivity, compiler=compiler, result=result)\n"
          ],
          "name": "stderr"
        },
        {
          "output_type": "stream",
          "text": [
            "Concatenating ( 28 / 60 ):  RequetDataSet-master/B1/MERGED_FILES/baseline_apartment_exp_299_merged.txt\n"
          ],
          "name": "stdout"
        },
        {
          "output_type": "stream",
          "text": [
            "/usr/local/lib/python3.6/dist-packages/IPython/core/interactiveshell.py:2718: DtypeWarning: Columns (14,28,35,42,49,63,70,77,84,91,98,112,119,126,140) have mixed types. Specify dtype option on import or set low_memory=False.\n",
            "  interactivity=interactivity, compiler=compiler, result=result)\n"
          ],
          "name": "stderr"
        },
        {
          "output_type": "stream",
          "text": [
            "Concatenating ( 29 / 60 ):  RequetDataSet-master/B1/MERGED_FILES/baseline_apartment_exp_306_merged.txt\n"
          ],
          "name": "stdout"
        },
        {
          "output_type": "stream",
          "text": [
            "/usr/local/lib/python3.6/dist-packages/IPython/core/interactiveshell.py:2718: DtypeWarning: Columns (14,21,28,42,63,77,84,91) have mixed types. Specify dtype option on import or set low_memory=False.\n",
            "  interactivity=interactivity, compiler=compiler, result=result)\n"
          ],
          "name": "stderr"
        },
        {
          "output_type": "stream",
          "text": [
            "Concatenating ( 30 / 60 ):  RequetDataSet-master/B1/MERGED_FILES/baseline_apartment_exp_289_merged.txt\n"
          ],
          "name": "stdout"
        },
        {
          "output_type": "stream",
          "text": [
            "/usr/local/lib/python3.6/dist-packages/IPython/core/interactiveshell.py:2718: DtypeWarning: Columns (14,21,35,49,56,63,84,91) have mixed types. Specify dtype option on import or set low_memory=False.\n",
            "  interactivity=interactivity, compiler=compiler, result=result)\n"
          ],
          "name": "stderr"
        },
        {
          "output_type": "stream",
          "text": [
            "Concatenating ( 31 / 60 ):  RequetDataSet-master/B1/MERGED_FILES/baseline_apartment_exp_307_merged.txt\n"
          ],
          "name": "stdout"
        },
        {
          "output_type": "stream",
          "text": [
            "/usr/local/lib/python3.6/dist-packages/IPython/core/interactiveshell.py:2718: DtypeWarning: Columns (14,21,28,42,56,70,91) have mixed types. Specify dtype option on import or set low_memory=False.\n",
            "  interactivity=interactivity, compiler=compiler, result=result)\n"
          ],
          "name": "stderr"
        },
        {
          "output_type": "stream",
          "text": [
            "Concatenating ( 32 / 60 ):  RequetDataSet-master/B1/MERGED_FILES/baseline_apartment_exp_270_merged.txt\n"
          ],
          "name": "stdout"
        },
        {
          "output_type": "stream",
          "text": [
            "/usr/local/lib/python3.6/dist-packages/IPython/core/interactiveshell.py:2718: DtypeWarning: Columns (21,35,42,49,56,70,77,84,91,105) have mixed types. Specify dtype option on import or set low_memory=False.\n",
            "  interactivity=interactivity, compiler=compiler, result=result)\n"
          ],
          "name": "stderr"
        },
        {
          "output_type": "stream",
          "text": [
            "Concatenating ( 33 / 60 ):  RequetDataSet-master/B1/MERGED_FILES/baseline_apartment_exp_286_merged.txt\n"
          ],
          "name": "stdout"
        },
        {
          "output_type": "stream",
          "text": [
            "/usr/local/lib/python3.6/dist-packages/IPython/core/interactiveshell.py:2718: DtypeWarning: Columns (21,28,42,56,63,70,84,91,98,105) have mixed types. Specify dtype option on import or set low_memory=False.\n",
            "  interactivity=interactivity, compiler=compiler, result=result)\n"
          ],
          "name": "stderr"
        },
        {
          "output_type": "stream",
          "text": [
            "Concatenating ( 34 / 60 ):  RequetDataSet-master/B1/MERGED_FILES/baseline_apartment_exp_383_merged.txt\n"
          ],
          "name": "stdout"
        },
        {
          "output_type": "stream",
          "text": [
            "/usr/local/lib/python3.6/dist-packages/IPython/core/interactiveshell.py:2718: DtypeWarning: Columns (21,28,49,56,70,77,84,98) have mixed types. Specify dtype option on import or set low_memory=False.\n",
            "  interactivity=interactivity, compiler=compiler, result=result)\n"
          ],
          "name": "stderr"
        },
        {
          "output_type": "stream",
          "text": [
            "Concatenating ( 35 / 60 ):  RequetDataSet-master/B1/MERGED_FILES/baseline_apartment_exp_279_merged.txt\n"
          ],
          "name": "stdout"
        },
        {
          "output_type": "stream",
          "text": [
            "/usr/local/lib/python3.6/dist-packages/IPython/core/interactiveshell.py:2718: DtypeWarning: Columns (21,35,42,49,56,77,84,91,105,112,126,133) have mixed types. Specify dtype option on import or set low_memory=False.\n",
            "  interactivity=interactivity, compiler=compiler, result=result)\n"
          ],
          "name": "stderr"
        },
        {
          "output_type": "stream",
          "text": [
            "Concatenating ( 36 / 60 ):  RequetDataSet-master/B1/MERGED_FILES/baseline_apartment_exp_282_merged.txt\n"
          ],
          "name": "stdout"
        },
        {
          "output_type": "stream",
          "text": [
            "/usr/local/lib/python3.6/dist-packages/IPython/core/interactiveshell.py:2718: DtypeWarning: Columns (14,28,35,42,49,63,77,84,91,98,112) have mixed types. Specify dtype option on import or set low_memory=False.\n",
            "  interactivity=interactivity, compiler=compiler, result=result)\n"
          ],
          "name": "stderr"
        },
        {
          "output_type": "stream",
          "text": [
            "Concatenating ( 37 / 60 ):  RequetDataSet-master/B1/MERGED_FILES/baseline_apartment_exp_273_merged.txt\n"
          ],
          "name": "stdout"
        },
        {
          "output_type": "stream",
          "text": [
            "/usr/local/lib/python3.6/dist-packages/IPython/core/interactiveshell.py:2718: DtypeWarning: Columns (21,28,35,63,70,77,84,98,105,112) have mixed types. Specify dtype option on import or set low_memory=False.\n",
            "  interactivity=interactivity, compiler=compiler, result=result)\n"
          ],
          "name": "stderr"
        },
        {
          "output_type": "stream",
          "text": [
            "Concatenating ( 38 / 60 ):  RequetDataSet-master/B1/MERGED_FILES/baseline_apartment_exp_278_merged.txt\n"
          ],
          "name": "stdout"
        },
        {
          "output_type": "stream",
          "text": [
            "/usr/local/lib/python3.6/dist-packages/IPython/core/interactiveshell.py:2718: DtypeWarning: Columns (21,28,42,49,56,63,70,84,91,98,112) have mixed types. Specify dtype option on import or set low_memory=False.\n",
            "  interactivity=interactivity, compiler=compiler, result=result)\n"
          ],
          "name": "stderr"
        },
        {
          "output_type": "stream",
          "text": [
            "Concatenating ( 39 / 60 ):  RequetDataSet-master/B1/MERGED_FILES/baseline_apartment_exp_316_merged.txt\n"
          ],
          "name": "stdout"
        },
        {
          "output_type": "stream",
          "text": [
            "/usr/local/lib/python3.6/dist-packages/IPython/core/interactiveshell.py:2718: DtypeWarning: Columns (14,28,35,49,56,63,77,84,91,105) have mixed types. Specify dtype option on import or set low_memory=False.\n",
            "  interactivity=interactivity, compiler=compiler, result=result)\n"
          ],
          "name": "stderr"
        },
        {
          "output_type": "stream",
          "text": [
            "Concatenating ( 40 / 60 ):  RequetDataSet-master/B1/MERGED_FILES/baseline_apartment_exp_298_merged.txt\n"
          ],
          "name": "stdout"
        },
        {
          "output_type": "stream",
          "text": [
            "/usr/local/lib/python3.6/dist-packages/IPython/core/interactiveshell.py:2718: DtypeWarning: Columns (14,28,42,49,63,70,77,84,91,98,105,119,126,133) have mixed types. Specify dtype option on import or set low_memory=False.\n",
            "  interactivity=interactivity, compiler=compiler, result=result)\n"
          ],
          "name": "stderr"
        },
        {
          "output_type": "stream",
          "text": [
            "Concatenating ( 41 / 60 ):  RequetDataSet-master/B1/MERGED_FILES/baseline_apartment_exp_285_merged.txt\n"
          ],
          "name": "stdout"
        },
        {
          "output_type": "stream",
          "text": [
            "/usr/local/lib/python3.6/dist-packages/IPython/core/interactiveshell.py:2718: DtypeWarning: Columns (28,35,42,56,63,77,84,91) have mixed types. Specify dtype option on import or set low_memory=False.\n",
            "  interactivity=interactivity, compiler=compiler, result=result)\n"
          ],
          "name": "stderr"
        },
        {
          "output_type": "stream",
          "text": [
            "Concatenating ( 42 / 60 ):  RequetDataSet-master/B1/MERGED_FILES/baseline_apartment_exp_280_merged.txt\n"
          ],
          "name": "stdout"
        },
        {
          "output_type": "stream",
          "text": [
            "/usr/local/lib/python3.6/dist-packages/IPython/core/interactiveshell.py:2718: DtypeWarning: Columns (7,14,21,28,35,56,63,70,84,91) have mixed types. Specify dtype option on import or set low_memory=False.\n",
            "  interactivity=interactivity, compiler=compiler, result=result)\n"
          ],
          "name": "stderr"
        },
        {
          "output_type": "stream",
          "text": [
            "Concatenating ( 43 / 60 ):  RequetDataSet-master/B1/MERGED_FILES/baseline_apartment_exp_311_merged.txt\n"
          ],
          "name": "stdout"
        },
        {
          "output_type": "stream",
          "text": [
            "/usr/local/lib/python3.6/dist-packages/IPython/core/interactiveshell.py:2718: DtypeWarning: Columns (14,35,42,49,56,63,77,84,91,98,112) have mixed types. Specify dtype option on import or set low_memory=False.\n",
            "  interactivity=interactivity, compiler=compiler, result=result)\n"
          ],
          "name": "stderr"
        },
        {
          "output_type": "stream",
          "text": [
            "Concatenating ( 44 / 60 ):  RequetDataSet-master/B1/MERGED_FILES/baseline_apartment_exp_274_merged.txt\n"
          ],
          "name": "stdout"
        },
        {
          "output_type": "stream",
          "text": [
            "/usr/local/lib/python3.6/dist-packages/IPython/core/interactiveshell.py:2718: DtypeWarning: Columns (14,21,28,35,49,56,63,77,84,98,112,119) have mixed types. Specify dtype option on import or set low_memory=False.\n",
            "  interactivity=interactivity, compiler=compiler, result=result)\n"
          ],
          "name": "stderr"
        },
        {
          "output_type": "stream",
          "text": [
            "Concatenating ( 45 / 60 ):  RequetDataSet-master/B1/MERGED_FILES/baseline_apartment_exp_303_merged.txt\n"
          ],
          "name": "stdout"
        },
        {
          "output_type": "stream",
          "text": [
            "/usr/local/lib/python3.6/dist-packages/IPython/core/interactiveshell.py:2718: DtypeWarning: Columns (14,21,28,35,42,49,63,84,91,98,105,119,133) have mixed types. Specify dtype option on import or set low_memory=False.\n",
            "  interactivity=interactivity, compiler=compiler, result=result)\n"
          ],
          "name": "stderr"
        },
        {
          "output_type": "stream",
          "text": [
            "Concatenating ( 46 / 60 ):  RequetDataSet-master/B1/MERGED_FILES/baseline_apartment_exp_296_merged.txt\n"
          ],
          "name": "stdout"
        },
        {
          "output_type": "stream",
          "text": [
            "/usr/local/lib/python3.6/dist-packages/IPython/core/interactiveshell.py:2718: DtypeWarning: Columns (14,21,28,42,49,56,63,84,98,105,112,119,126,133) have mixed types. Specify dtype option on import or set low_memory=False.\n",
            "  interactivity=interactivity, compiler=compiler, result=result)\n"
          ],
          "name": "stderr"
        },
        {
          "output_type": "stream",
          "text": [
            "Concatenating ( 47 / 60 ):  RequetDataSet-master/B1/MERGED_FILES/baseline_apartment_exp_283_merged.txt\n"
          ],
          "name": "stdout"
        },
        {
          "output_type": "stream",
          "text": [
            "/usr/local/lib/python3.6/dist-packages/IPython/core/interactiveshell.py:2718: DtypeWarning: Columns (28,42,49,63,70,77,84,98) have mixed types. Specify dtype option on import or set low_memory=False.\n",
            "  interactivity=interactivity, compiler=compiler, result=result)\n"
          ],
          "name": "stderr"
        },
        {
          "output_type": "stream",
          "text": [
            "Concatenating ( 48 / 60 ):  RequetDataSet-master/B1/MERGED_FILES/baseline_apartment_exp_309_merged.txt\n"
          ],
          "name": "stdout"
        },
        {
          "output_type": "stream",
          "text": [
            "/usr/local/lib/python3.6/dist-packages/IPython/core/interactiveshell.py:2718: DtypeWarning: Columns (14,21,28,42,49,56,63,84,91,98,105,112) have mixed types. Specify dtype option on import or set low_memory=False.\n",
            "  interactivity=interactivity, compiler=compiler, result=result)\n"
          ],
          "name": "stderr"
        },
        {
          "output_type": "stream",
          "text": [
            "Concatenating ( 49 / 60 ):  RequetDataSet-master/B1/MERGED_FILES/baseline_apartment_exp_297_merged.txt\n"
          ],
          "name": "stdout"
        },
        {
          "output_type": "stream",
          "text": [
            "/usr/local/lib/python3.6/dist-packages/IPython/core/interactiveshell.py:2718: DtypeWarning: Columns (14,28,35,42,49,63,70,77,84,91,98,105,119) have mixed types. Specify dtype option on import or set low_memory=False.\n",
            "  interactivity=interactivity, compiler=compiler, result=result)\n"
          ],
          "name": "stderr"
        },
        {
          "output_type": "stream",
          "text": [
            "Concatenating ( 50 / 60 ):  RequetDataSet-master/B1/MERGED_FILES/baseline_apartment_exp_310_merged.txt\n"
          ],
          "name": "stdout"
        },
        {
          "output_type": "stream",
          "text": [
            "/usr/local/lib/python3.6/dist-packages/IPython/core/interactiveshell.py:2718: DtypeWarning: Columns (21,28,35,56,63,70,77,84,91,98,112,119) have mixed types. Specify dtype option on import or set low_memory=False.\n",
            "  interactivity=interactivity, compiler=compiler, result=result)\n"
          ],
          "name": "stderr"
        },
        {
          "output_type": "stream",
          "text": [
            "Concatenating ( 51 / 60 ):  RequetDataSet-master/B1/MERGED_FILES/baseline_apartment_exp_386_merged.txt\n"
          ],
          "name": "stdout"
        },
        {
          "output_type": "stream",
          "text": [
            "/usr/local/lib/python3.6/dist-packages/IPython/core/interactiveshell.py:2718: DtypeWarning: Columns (14,21,28,42,49,56,70,77,91,98,105,119) have mixed types. Specify dtype option on import or set low_memory=False.\n",
            "  interactivity=interactivity, compiler=compiler, result=result)\n"
          ],
          "name": "stderr"
        },
        {
          "output_type": "stream",
          "text": [
            "Concatenating ( 52 / 60 ):  RequetDataSet-master/B1/MERGED_FILES/baseline_apartment_exp_385_merged.txt\n"
          ],
          "name": "stdout"
        },
        {
          "output_type": "stream",
          "text": [
            "/usr/local/lib/python3.6/dist-packages/IPython/core/interactiveshell.py:2718: DtypeWarning: Columns (14,21,28,35,56,63,70,77,84,98,105,112,126,133,140) have mixed types. Specify dtype option on import or set low_memory=False.\n",
            "  interactivity=interactivity, compiler=compiler, result=result)\n"
          ],
          "name": "stderr"
        },
        {
          "output_type": "stream",
          "text": [
            "Concatenating ( 53 / 60 ):  RequetDataSet-master/B1/MERGED_FILES/baseline_apartment_exp_288_merged.txt\n"
          ],
          "name": "stdout"
        },
        {
          "output_type": "stream",
          "text": [
            "/usr/local/lib/python3.6/dist-packages/IPython/core/interactiveshell.py:2718: DtypeWarning: Columns (14,21,28,35,42,49,56,77,91,98,112,119,126) have mixed types. Specify dtype option on import or set low_memory=False.\n",
            "  interactivity=interactivity, compiler=compiler, result=result)\n"
          ],
          "name": "stderr"
        },
        {
          "output_type": "stream",
          "text": [
            "Concatenating ( 54 / 60 ):  RequetDataSet-master/B1/MERGED_FILES/baseline_apartment_exp_276_merged.txt\n"
          ],
          "name": "stdout"
        },
        {
          "output_type": "stream",
          "text": [
            "/usr/local/lib/python3.6/dist-packages/IPython/core/interactiveshell.py:2718: DtypeWarning: Columns (14,28,35,42,63,70,77,91,98,105,112,119,126) have mixed types. Specify dtype option on import or set low_memory=False.\n",
            "  interactivity=interactivity, compiler=compiler, result=result)\n"
          ],
          "name": "stderr"
        },
        {
          "output_type": "stream",
          "text": [
            "Concatenating ( 55 / 60 ):  RequetDataSet-master/B1/MERGED_FILES/baseline_apartment_exp_277_merged.txt\n"
          ],
          "name": "stdout"
        },
        {
          "output_type": "stream",
          "text": [
            "/usr/local/lib/python3.6/dist-packages/IPython/core/interactiveshell.py:2718: DtypeWarning: Columns (28,35,42,49,56,70,77) have mixed types. Specify dtype option on import or set low_memory=False.\n",
            "  interactivity=interactivity, compiler=compiler, result=result)\n"
          ],
          "name": "stderr"
        },
        {
          "output_type": "stream",
          "text": [
            "Concatenating ( 56 / 60 ):  RequetDataSet-master/B1/MERGED_FILES/baseline_apartment_exp_380_merged.txt\n"
          ],
          "name": "stdout"
        },
        {
          "output_type": "stream",
          "text": [
            "/usr/local/lib/python3.6/dist-packages/IPython/core/interactiveshell.py:2718: DtypeWarning: Columns (14,21,28,35,49,56,63,70,84,91,98,105,112,119) have mixed types. Specify dtype option on import or set low_memory=False.\n",
            "  interactivity=interactivity, compiler=compiler, result=result)\n"
          ],
          "name": "stderr"
        },
        {
          "output_type": "stream",
          "text": [
            "Concatenating ( 57 / 60 ):  RequetDataSet-master/B1/MERGED_FILES/baseline_apartment_exp_295_merged.txt\n"
          ],
          "name": "stdout"
        },
        {
          "output_type": "stream",
          "text": [
            "/usr/local/lib/python3.6/dist-packages/IPython/core/interactiveshell.py:2718: DtypeWarning: Columns (7,21,35,56,63,70,77,91,98,105,112,119) have mixed types. Specify dtype option on import or set low_memory=False.\n",
            "  interactivity=interactivity, compiler=compiler, result=result)\n"
          ],
          "name": "stderr"
        },
        {
          "output_type": "stream",
          "text": [
            "Concatenating ( 58 / 60 ):  RequetDataSet-master/B1/MERGED_FILES/baseline_apartment_exp_291_merged.txt\n"
          ],
          "name": "stdout"
        },
        {
          "output_type": "stream",
          "text": [
            "/usr/local/lib/python3.6/dist-packages/IPython/core/interactiveshell.py:2718: DtypeWarning: Columns (14,21,28,35,42,49,63,70,77,84,98,112,119) have mixed types. Specify dtype option on import or set low_memory=False.\n",
            "  interactivity=interactivity, compiler=compiler, result=result)\n"
          ],
          "name": "stderr"
        },
        {
          "output_type": "stream",
          "text": [
            "Concatenating ( 59 / 60 ):  RequetDataSet-master/B1/MERGED_FILES/baseline_apartment_exp_305_merged.txt\n"
          ],
          "name": "stdout"
        },
        {
          "output_type": "stream",
          "text": [
            "/usr/local/lib/python3.6/dist-packages/IPython/core/interactiveshell.py:2718: DtypeWarning: Columns (14,21,28,35,49,56,70,77,84,91,98,105,119) have mixed types. Specify dtype option on import or set low_memory=False.\n",
            "  interactivity=interactivity, compiler=compiler, result=result)\n"
          ],
          "name": "stderr"
        },
        {
          "output_type": "stream",
          "text": [
            "Concatenating ( 60 / 60 ):  RequetDataSet-master/B1/MERGED_FILES/baseline_apartment_exp_378_merged.txt\n"
          ],
          "name": "stdout"
        }
      ]
    },
    {
      "cell_type": "code",
      "metadata": {
        "id": "jt0IQcKWHF0J",
        "colab_type": "code",
        "colab": {}
      },
      "source": [
        ""
      ],
      "execution_count": 0,
      "outputs": []
    },
    {
      "cell_type": "markdown",
      "metadata": {
        "id": "6Eui0Ap-CpgO",
        "colab_type": "text"
      },
      "source": [
        "More than 15 minutes when ran locally"
      ]
    },
    {
      "cell_type": "markdown",
      "metadata": {
        "id": "qNMYKFOACpgQ",
        "colab_type": "text"
      },
      "source": [
        "We build the column names"
      ]
    },
    {
      "cell_type": "code",
      "metadata": {
        "scrolled": false,
        "id": "IVj08w-mCpgT",
        "colab_type": "code",
        "colab": {}
      },
      "source": [
        "######\n",
        "#### INTERVAL INFO\n",
        "######\n",
        "\n",
        "# First, we have general information about the 100ms-wide interval.\n",
        "colnames=['RelativeTime', 'PacketsSent', 'PacketsReceived', 'BytesSent', 'BytesReceived']\n",
        "\n",
        "\n",
        "\n",
        "######\n",
        "#### NET INFO\n",
        "######\n",
        "NUM_OF_NET_INFO = 26\n",
        "# Then, we have some NetworkInfo, each one related to the connection of the client to \n",
        "# a server (only the top NUM_OF_NET_INFO are represented)\n",
        "\n",
        "for interval in range(0,NUM_OF_NET_INFO) :\n",
        "        int_str = str(interval)\n",
        "        network_info=['IPSrc'+int_str, 'IPDst'+int_str, 'Protocol'+int_str, \n",
        "                      'PacketsSent'+int_str, 'PacketsReceived'+int_str, \n",
        "                      'BytesSent'+int_str, 'BytesReceived'+int_str]\n",
        "        colnames.extend(network_info)\n",
        "\n",
        "        \n",
        "######\n",
        "#### PLAYBACK INFO\n",
        "######\n",
        "playback_info_event = ['Buffering', 'Paused', 'Playing', 'CollectData'];\n",
        "colnames.extend(playback_info_event);\n",
        "\n",
        "playback_info_generic = ['EpochTime', \n",
        "                'StartTime', 'PlaybackProgress', 'Length'];\n",
        "colnames.extend(playback_info_generic);\n",
        "\n",
        "playback_info_quality = ['UnlabelledQuality', 'q144p', 'q240p', \n",
        "                 'q360p', 'q480p', 'q720p', 'q1080p', 'q1440p', 'q2160p'];\n",
        "colnames.extend(playback_info_quality);\n",
        "\n",
        "playback_info_health_and_progress = ['BufferHealth',\n",
        "                'BufferProgress', 'BufferValid'];\n",
        "colnames.extend(playback_info_health_and_progress)\n",
        "\n",
        "\n",
        "# The correct number of columns should be calculated as follows\n",
        "NUM_OF_INTERVAL_INFO_COLS = 5\n",
        "NUM_OF_NET_INFO_COLS = 7\n",
        "\n",
        "NUM_OF_GENERIC_PLAYBACK_EVENT_COLS = 4\n",
        "NUM_OF_GENERIC_PLAYBACK_COLS = 4\n",
        "NUM_OF_PLAYBACK_QUALITY_COLS = 9\n",
        "NUM_OF_PLAYBACK_HEALTH_AND_PROGRESS_COLS = 3\n",
        "NUM_OF_PLAYBCAK_COLS = NUM_OF_GENERIC_PLAYBACK_EVENT_COLS + \\\n",
        "    NUM_OF_GENERIC_PLAYBACK_COLS + \\\n",
        "    NUM_OF_PLAYBACK_QUALITY_COLS + NUM_OF_PLAYBACK_HEALTH_AND_PROGRESS_COLS\n",
        "    \n",
        "NUM_COLS = NUM_OF_INTERVAL_INFO_COLS + \\\n",
        "    NUM_OF_NET_INFO_COLS*NUM_OF_NET_INFO + NUM_OF_PLAYBCAK_COLS\n",
        "\n",
        "if (len(colnames) !=  NUM_COLS):\n",
        "    raise Exception(\"Expected number of columns \", NUM_COLS, \", constructed \",\n",
        "                   len(colnames) );"
      ],
      "execution_count": 0,
      "outputs": []
    },
    {
      "cell_type": "code",
      "metadata": {
        "id": "ygH-2KInCpgb",
        "colab_type": "code",
        "colab": {}
      },
      "source": [
        "df.columns=colnames"
      ],
      "execution_count": 0,
      "outputs": []
    },
    {
      "cell_type": "code",
      "metadata": {
        "scrolled": false,
        "id": "eyirc-M0Cpgi",
        "colab_type": "code",
        "colab": {
          "base_uri": "https://localhost:8080/",
          "height": 256
        },
        "outputId": "7e1ee772-b529-4576-fa8a-af90a592e8bf"
      },
      "source": [
        "df.head()"
      ],
      "execution_count": 29,
      "outputs": [
        {
          "output_type": "execute_result",
          "data": {
            "text/html": [
              "<div>\n",
              "<style scoped>\n",
              "    .dataframe tbody tr th:only-of-type {\n",
              "        vertical-align: middle;\n",
              "    }\n",
              "\n",
              "    .dataframe tbody tr th {\n",
              "        vertical-align: top;\n",
              "    }\n",
              "\n",
              "    .dataframe thead th {\n",
              "        text-align: right;\n",
              "    }\n",
              "</style>\n",
              "<table border=\"1\" class=\"dataframe\">\n",
              "  <thead>\n",
              "    <tr style=\"text-align: right;\">\n",
              "      <th></th>\n",
              "      <th>RelativeTime</th>\n",
              "      <th>PacketsSent</th>\n",
              "      <th>PacketsReceived</th>\n",
              "      <th>BytesSent</th>\n",
              "      <th>BytesReceived</th>\n",
              "      <th>IPSrc0</th>\n",
              "      <th>IPDst0</th>\n",
              "      <th>Protocol0</th>\n",
              "      <th>PacketsSent0</th>\n",
              "      <th>PacketsReceived0</th>\n",
              "      <th>BytesSent0</th>\n",
              "      <th>BytesReceived0</th>\n",
              "      <th>IPSrc1</th>\n",
              "      <th>IPDst1</th>\n",
              "      <th>Protocol1</th>\n",
              "      <th>PacketsSent1</th>\n",
              "      <th>PacketsReceived1</th>\n",
              "      <th>BytesSent1</th>\n",
              "      <th>BytesReceived1</th>\n",
              "      <th>IPSrc2</th>\n",
              "      <th>IPDst2</th>\n",
              "      <th>Protocol2</th>\n",
              "      <th>PacketsSent2</th>\n",
              "      <th>PacketsReceived2</th>\n",
              "      <th>BytesSent2</th>\n",
              "      <th>BytesReceived2</th>\n",
              "      <th>IPSrc3</th>\n",
              "      <th>IPDst3</th>\n",
              "      <th>Protocol3</th>\n",
              "      <th>PacketsSent3</th>\n",
              "      <th>PacketsReceived3</th>\n",
              "      <th>BytesSent3</th>\n",
              "      <th>BytesReceived3</th>\n",
              "      <th>IPSrc4</th>\n",
              "      <th>IPDst4</th>\n",
              "      <th>Protocol4</th>\n",
              "      <th>PacketsSent4</th>\n",
              "      <th>PacketsReceived4</th>\n",
              "      <th>BytesSent4</th>\n",
              "      <th>BytesReceived4</th>\n",
              "      <th>...</th>\n",
              "      <th>IPDst23</th>\n",
              "      <th>Protocol23</th>\n",
              "      <th>PacketsSent23</th>\n",
              "      <th>PacketsReceived23</th>\n",
              "      <th>BytesSent23</th>\n",
              "      <th>BytesReceived23</th>\n",
              "      <th>IPSrc24</th>\n",
              "      <th>IPDst24</th>\n",
              "      <th>Protocol24</th>\n",
              "      <th>PacketsSent24</th>\n",
              "      <th>PacketsReceived24</th>\n",
              "      <th>BytesSent24</th>\n",
              "      <th>BytesReceived24</th>\n",
              "      <th>IPSrc25</th>\n",
              "      <th>IPDst25</th>\n",
              "      <th>Protocol25</th>\n",
              "      <th>PacketsSent25</th>\n",
              "      <th>PacketsReceived25</th>\n",
              "      <th>BytesSent25</th>\n",
              "      <th>BytesReceived25</th>\n",
              "      <th>Buffering</th>\n",
              "      <th>Paused</th>\n",
              "      <th>Playing</th>\n",
              "      <th>CollectData</th>\n",
              "      <th>EpochTime</th>\n",
              "      <th>StartTime</th>\n",
              "      <th>PlaybackProgress</th>\n",
              "      <th>Length</th>\n",
              "      <th>UnlabelledQuality</th>\n",
              "      <th>q144p</th>\n",
              "      <th>q240p</th>\n",
              "      <th>q360p</th>\n",
              "      <th>q480p</th>\n",
              "      <th>q720p</th>\n",
              "      <th>q1080p</th>\n",
              "      <th>q1440p</th>\n",
              "      <th>q2160p</th>\n",
              "      <th>BufferHealth</th>\n",
              "      <th>BufferProgress</th>\n",
              "      <th>BufferValid</th>\n",
              "    </tr>\n",
              "  </thead>\n",
              "  <tbody>\n",
              "    <tr>\n",
              "      <th>0</th>\n",
              "      <td>0.0</td>\n",
              "      <td>0</td>\n",
              "      <td>1</td>\n",
              "      <td>0</td>\n",
              "      <td>42</td>\n",
              "      <td>192.168.1.15</td>\n",
              "      <td>173.194.31.105</td>\n",
              "      <td>0</td>\n",
              "      <td>0</td>\n",
              "      <td>0</td>\n",
              "      <td>0</td>\n",
              "      <td>0</td>\n",
              "      <td>192.168.1.15</td>\n",
              "      <td>172.217.10.35</td>\n",
              "      <td>0</td>\n",
              "      <td>0</td>\n",
              "      <td>0</td>\n",
              "      <td>0</td>\n",
              "      <td>0</td>\n",
              "      <td>192.168.1.15</td>\n",
              "      <td>172.217.12.206</td>\n",
              "      <td>0</td>\n",
              "      <td>0</td>\n",
              "      <td>0</td>\n",
              "      <td>0</td>\n",
              "      <td>0</td>\n",
              "      <td>192.168.1.15</td>\n",
              "      <td>172.217.10.46</td>\n",
              "      <td>0</td>\n",
              "      <td>0</td>\n",
              "      <td>0</td>\n",
              "      <td>0</td>\n",
              "      <td>0</td>\n",
              "      <td>192.168.1.15</td>\n",
              "      <td>172.217.12.182</td>\n",
              "      <td>0</td>\n",
              "      <td>0</td>\n",
              "      <td>0</td>\n",
              "      <td>0</td>\n",
              "      <td>0</td>\n",
              "      <td>...</td>\n",
              "      <td>0</td>\n",
              "      <td>0</td>\n",
              "      <td>0</td>\n",
              "      <td>0</td>\n",
              "      <td>0</td>\n",
              "      <td>0</td>\n",
              "      <td>192.168.1.15</td>\n",
              "      <td>0</td>\n",
              "      <td>0</td>\n",
              "      <td>0</td>\n",
              "      <td>0</td>\n",
              "      <td>0</td>\n",
              "      <td>0</td>\n",
              "      <td>192.168.1.15</td>\n",
              "      <td>0.0.0.0</td>\n",
              "      <td>0</td>\n",
              "      <td>0</td>\n",
              "      <td>0</td>\n",
              "      <td>0</td>\n",
              "      <td>0</td>\n",
              "      <td>0</td>\n",
              "      <td>0</td>\n",
              "      <td>0</td>\n",
              "      <td>0</td>\n",
              "      <td>0</td>\n",
              "      <td>1533526730715</td>\n",
              "      <td>0.0</td>\n",
              "      <td>576.841</td>\n",
              "      <td>0</td>\n",
              "      <td>0</td>\n",
              "      <td>0</td>\n",
              "      <td>0</td>\n",
              "      <td>0</td>\n",
              "      <td>0</td>\n",
              "      <td>0</td>\n",
              "      <td>0</td>\n",
              "      <td>0</td>\n",
              "      <td>0.0</td>\n",
              "      <td>0.0</td>\n",
              "      <td>-1</td>\n",
              "    </tr>\n",
              "    <tr>\n",
              "      <th>1</th>\n",
              "      <td>0.1</td>\n",
              "      <td>0</td>\n",
              "      <td>0</td>\n",
              "      <td>0</td>\n",
              "      <td>0</td>\n",
              "      <td>192.168.1.15</td>\n",
              "      <td>173.194.31.105</td>\n",
              "      <td>0</td>\n",
              "      <td>0</td>\n",
              "      <td>0</td>\n",
              "      <td>0</td>\n",
              "      <td>0</td>\n",
              "      <td>192.168.1.15</td>\n",
              "      <td>172.217.10.35</td>\n",
              "      <td>0</td>\n",
              "      <td>0</td>\n",
              "      <td>0</td>\n",
              "      <td>0</td>\n",
              "      <td>0</td>\n",
              "      <td>192.168.1.15</td>\n",
              "      <td>172.217.12.206</td>\n",
              "      <td>0</td>\n",
              "      <td>0</td>\n",
              "      <td>0</td>\n",
              "      <td>0</td>\n",
              "      <td>0</td>\n",
              "      <td>192.168.1.15</td>\n",
              "      <td>172.217.10.46</td>\n",
              "      <td>0</td>\n",
              "      <td>0</td>\n",
              "      <td>0</td>\n",
              "      <td>0</td>\n",
              "      <td>0</td>\n",
              "      <td>192.168.1.15</td>\n",
              "      <td>172.217.12.182</td>\n",
              "      <td>0</td>\n",
              "      <td>0</td>\n",
              "      <td>0</td>\n",
              "      <td>0</td>\n",
              "      <td>0</td>\n",
              "      <td>...</td>\n",
              "      <td>0</td>\n",
              "      <td>0</td>\n",
              "      <td>0</td>\n",
              "      <td>0</td>\n",
              "      <td>0</td>\n",
              "      <td>0</td>\n",
              "      <td>192.168.1.15</td>\n",
              "      <td>0</td>\n",
              "      <td>0</td>\n",
              "      <td>0</td>\n",
              "      <td>0</td>\n",
              "      <td>0</td>\n",
              "      <td>0</td>\n",
              "      <td>192.168.1.15</td>\n",
              "      <td>0.0.0.0</td>\n",
              "      <td>0</td>\n",
              "      <td>0</td>\n",
              "      <td>0</td>\n",
              "      <td>0</td>\n",
              "      <td>0</td>\n",
              "      <td>0</td>\n",
              "      <td>0</td>\n",
              "      <td>0</td>\n",
              "      <td>0</td>\n",
              "      <td>0</td>\n",
              "      <td>1533526730715</td>\n",
              "      <td>0.0</td>\n",
              "      <td>576.841</td>\n",
              "      <td>0</td>\n",
              "      <td>0</td>\n",
              "      <td>0</td>\n",
              "      <td>0</td>\n",
              "      <td>0</td>\n",
              "      <td>0</td>\n",
              "      <td>0</td>\n",
              "      <td>0</td>\n",
              "      <td>0</td>\n",
              "      <td>0.0</td>\n",
              "      <td>0.0</td>\n",
              "      <td>-1</td>\n",
              "    </tr>\n",
              "    <tr>\n",
              "      <th>2</th>\n",
              "      <td>0.2</td>\n",
              "      <td>2</td>\n",
              "      <td>1</td>\n",
              "      <td>1471</td>\n",
              "      <td>95</td>\n",
              "      <td>192.168.1.15</td>\n",
              "      <td>173.194.31.105</td>\n",
              "      <td>0</td>\n",
              "      <td>0</td>\n",
              "      <td>0</td>\n",
              "      <td>0</td>\n",
              "      <td>0</td>\n",
              "      <td>192.168.1.15</td>\n",
              "      <td>172.217.10.35</td>\n",
              "      <td>0</td>\n",
              "      <td>0</td>\n",
              "      <td>0</td>\n",
              "      <td>0</td>\n",
              "      <td>0</td>\n",
              "      <td>192.168.1.15</td>\n",
              "      <td>172.217.12.206</td>\n",
              "      <td>0</td>\n",
              "      <td>0</td>\n",
              "      <td>0</td>\n",
              "      <td>0</td>\n",
              "      <td>0</td>\n",
              "      <td>192.168.1.15</td>\n",
              "      <td>172.217.10.46</td>\n",
              "      <td>0</td>\n",
              "      <td>0</td>\n",
              "      <td>0</td>\n",
              "      <td>0</td>\n",
              "      <td>0</td>\n",
              "      <td>192.168.1.15</td>\n",
              "      <td>172.217.12.182</td>\n",
              "      <td>0</td>\n",
              "      <td>0</td>\n",
              "      <td>0</td>\n",
              "      <td>0</td>\n",
              "      <td>0</td>\n",
              "      <td>...</td>\n",
              "      <td>0</td>\n",
              "      <td>0</td>\n",
              "      <td>0</td>\n",
              "      <td>0</td>\n",
              "      <td>0</td>\n",
              "      <td>0</td>\n",
              "      <td>192.168.1.15</td>\n",
              "      <td>0</td>\n",
              "      <td>0</td>\n",
              "      <td>0</td>\n",
              "      <td>0</td>\n",
              "      <td>0</td>\n",
              "      <td>0</td>\n",
              "      <td>192.168.1.15</td>\n",
              "      <td>0.0.0.0</td>\n",
              "      <td>0</td>\n",
              "      <td>1</td>\n",
              "      <td>1</td>\n",
              "      <td>79</td>\n",
              "      <td>95</td>\n",
              "      <td>0</td>\n",
              "      <td>0</td>\n",
              "      <td>0</td>\n",
              "      <td>0</td>\n",
              "      <td>0</td>\n",
              "      <td>1533526730715</td>\n",
              "      <td>0.0</td>\n",
              "      <td>576.841</td>\n",
              "      <td>0</td>\n",
              "      <td>0</td>\n",
              "      <td>0</td>\n",
              "      <td>0</td>\n",
              "      <td>0</td>\n",
              "      <td>0</td>\n",
              "      <td>0</td>\n",
              "      <td>0</td>\n",
              "      <td>0</td>\n",
              "      <td>0.0</td>\n",
              "      <td>0.0</td>\n",
              "      <td>-1</td>\n",
              "    </tr>\n",
              "    <tr>\n",
              "      <th>3</th>\n",
              "      <td>0.3</td>\n",
              "      <td>9</td>\n",
              "      <td>9</td>\n",
              "      <td>2473</td>\n",
              "      <td>7558</td>\n",
              "      <td>192.168.1.15</td>\n",
              "      <td>173.194.31.105</td>\n",
              "      <td>0</td>\n",
              "      <td>0</td>\n",
              "      <td>0</td>\n",
              "      <td>0</td>\n",
              "      <td>0</td>\n",
              "      <td>192.168.1.15</td>\n",
              "      <td>172.217.10.35</td>\n",
              "      <td>0</td>\n",
              "      <td>0</td>\n",
              "      <td>0</td>\n",
              "      <td>0</td>\n",
              "      <td>0</td>\n",
              "      <td>192.168.1.15</td>\n",
              "      <td>172.217.12.206</td>\n",
              "      <td>0</td>\n",
              "      <td>0</td>\n",
              "      <td>0</td>\n",
              "      <td>0</td>\n",
              "      <td>0</td>\n",
              "      <td>192.168.1.15</td>\n",
              "      <td>172.217.10.46</td>\n",
              "      <td>0</td>\n",
              "      <td>0</td>\n",
              "      <td>0</td>\n",
              "      <td>0</td>\n",
              "      <td>0</td>\n",
              "      <td>192.168.1.15</td>\n",
              "      <td>172.217.12.182</td>\n",
              "      <td>0</td>\n",
              "      <td>0</td>\n",
              "      <td>0</td>\n",
              "      <td>0</td>\n",
              "      <td>0</td>\n",
              "      <td>...</td>\n",
              "      <td>0</td>\n",
              "      <td>0</td>\n",
              "      <td>0</td>\n",
              "      <td>0</td>\n",
              "      <td>0</td>\n",
              "      <td>0</td>\n",
              "      <td>192.168.1.15</td>\n",
              "      <td>0</td>\n",
              "      <td>0</td>\n",
              "      <td>0</td>\n",
              "      <td>0</td>\n",
              "      <td>0</td>\n",
              "      <td>0</td>\n",
              "      <td>192.168.1.15</td>\n",
              "      <td>0.0.0.0</td>\n",
              "      <td>0</td>\n",
              "      <td>2</td>\n",
              "      <td>0</td>\n",
              "      <td>152</td>\n",
              "      <td>0</td>\n",
              "      <td>0</td>\n",
              "      <td>0</td>\n",
              "      <td>0</td>\n",
              "      <td>0</td>\n",
              "      <td>0</td>\n",
              "      <td>1533526730715</td>\n",
              "      <td>0.0</td>\n",
              "      <td>576.841</td>\n",
              "      <td>0</td>\n",
              "      <td>0</td>\n",
              "      <td>0</td>\n",
              "      <td>0</td>\n",
              "      <td>0</td>\n",
              "      <td>0</td>\n",
              "      <td>0</td>\n",
              "      <td>0</td>\n",
              "      <td>0</td>\n",
              "      <td>0.0</td>\n",
              "      <td>0.0</td>\n",
              "      <td>-1</td>\n",
              "    </tr>\n",
              "    <tr>\n",
              "      <th>4</th>\n",
              "      <td>0.4</td>\n",
              "      <td>17</td>\n",
              "      <td>14</td>\n",
              "      <td>7901</td>\n",
              "      <td>9423</td>\n",
              "      <td>192.168.1.15</td>\n",
              "      <td>173.194.31.105</td>\n",
              "      <td>0</td>\n",
              "      <td>0</td>\n",
              "      <td>0</td>\n",
              "      <td>0</td>\n",
              "      <td>0</td>\n",
              "      <td>192.168.1.15</td>\n",
              "      <td>172.217.10.35</td>\n",
              "      <td>0</td>\n",
              "      <td>0</td>\n",
              "      <td>0</td>\n",
              "      <td>0</td>\n",
              "      <td>0</td>\n",
              "      <td>192.168.1.15</td>\n",
              "      <td>172.217.12.206</td>\n",
              "      <td>QUIC</td>\n",
              "      <td>6</td>\n",
              "      <td>4</td>\n",
              "      <td>3396</td>\n",
              "      <td>4249</td>\n",
              "      <td>192.168.1.15</td>\n",
              "      <td>172.217.10.46</td>\n",
              "      <td>0</td>\n",
              "      <td>0</td>\n",
              "      <td>0</td>\n",
              "      <td>0</td>\n",
              "      <td>0</td>\n",
              "      <td>192.168.1.15</td>\n",
              "      <td>172.217.12.182</td>\n",
              "      <td>0</td>\n",
              "      <td>0</td>\n",
              "      <td>0</td>\n",
              "      <td>0</td>\n",
              "      <td>0</td>\n",
              "      <td>...</td>\n",
              "      <td>0</td>\n",
              "      <td>0</td>\n",
              "      <td>0</td>\n",
              "      <td>0</td>\n",
              "      <td>0</td>\n",
              "      <td>0</td>\n",
              "      <td>192.168.1.15</td>\n",
              "      <td>0</td>\n",
              "      <td>0</td>\n",
              "      <td>0</td>\n",
              "      <td>0</td>\n",
              "      <td>0</td>\n",
              "      <td>0</td>\n",
              "      <td>192.168.1.15</td>\n",
              "      <td>0.0.0.0</td>\n",
              "      <td>0</td>\n",
              "      <td>0</td>\n",
              "      <td>2</td>\n",
              "      <td>0</td>\n",
              "      <td>446</td>\n",
              "      <td>0</td>\n",
              "      <td>0</td>\n",
              "      <td>0</td>\n",
              "      <td>0</td>\n",
              "      <td>0</td>\n",
              "      <td>1533526730715</td>\n",
              "      <td>0.0</td>\n",
              "      <td>576.841</td>\n",
              "      <td>0</td>\n",
              "      <td>0</td>\n",
              "      <td>0</td>\n",
              "      <td>0</td>\n",
              "      <td>0</td>\n",
              "      <td>0</td>\n",
              "      <td>0</td>\n",
              "      <td>0</td>\n",
              "      <td>0</td>\n",
              "      <td>0.0</td>\n",
              "      <td>0.0</td>\n",
              "      <td>-1</td>\n",
              "    </tr>\n",
              "  </tbody>\n",
              "</table>\n",
              "<p>5 rows × 207 columns</p>\n",
              "</div>"
            ],
            "text/plain": [
              "   RelativeTime  PacketsSent  ...  BufferProgress  BufferValid\n",
              "0           0.0            0  ...             0.0           -1\n",
              "1           0.1            0  ...             0.0           -1\n",
              "2           0.2            2  ...             0.0           -1\n",
              "3           0.3            9  ...             0.0           -1\n",
              "4           0.4           17  ...             0.0           -1\n",
              "\n",
              "[5 rows x 207 columns]"
            ]
          },
          "metadata": {
            "tags": []
          },
          "execution_count": 29
        }
      ]
    },
    {
      "cell_type": "markdown",
      "metadata": {
        "id": "sXWjK65jCpgr",
        "colab_type": "text"
      },
      "source": [
        "Remove the collect data event and unlabeled"
      ]
    },
    {
      "cell_type": "code",
      "metadata": {
        "id": "AOoPW1vSCpgs",
        "colab_type": "code",
        "colab": {}
      },
      "source": [
        "df = df [df['CollectData']!=1]\n",
        "df = df [df['UnlabelledQuality']!=1]"
      ],
      "execution_count": 0,
      "outputs": []
    },
    {
      "cell_type": "code",
      "metadata": {
        "scrolled": false,
        "id": "8w5FT6PXCpgz",
        "colab_type": "code",
        "colab": {
          "base_uri": "https://localhost:8080/",
          "height": 1000
        },
        "outputId": "9e741aba-9e4e-4fe3-8b31-fad563125da7"
      },
      "source": [
        "df.info(verbose=True)"
      ],
      "execution_count": 31,
      "outputs": [
        {
          "output_type": "stream",
          "text": [
            "<class 'pandas.core.frame.DataFrame'>\n",
            "Int64Index: 2002 entries, 0 to 360599\n",
            "Data columns (total 207 columns):\n",
            "RelativeTime         float64\n",
            "PacketsSent          int64\n",
            "PacketsReceived      int64\n",
            "BytesSent            int64\n",
            "BytesReceived        int64\n",
            "IPSrc0               object\n",
            "IPDst0               object\n",
            "Protocol0            object\n",
            "PacketsSent0         int64\n",
            "PacketsReceived0     int64\n",
            "BytesSent0           int64\n",
            "BytesReceived0       int64\n",
            "IPSrc1               object\n",
            "IPDst1               object\n",
            "Protocol1            object\n",
            "PacketsSent1         int64\n",
            "PacketsReceived1     int64\n",
            "BytesSent1           int64\n",
            "BytesReceived1       int64\n",
            "IPSrc2               object\n",
            "IPDst2               object\n",
            "Protocol2            object\n",
            "PacketsSent2         int64\n",
            "PacketsReceived2     int64\n",
            "BytesSent2           int64\n",
            "BytesReceived2       int64\n",
            "IPSrc3               object\n",
            "IPDst3               object\n",
            "Protocol3            object\n",
            "PacketsSent3         int64\n",
            "PacketsReceived3     int64\n",
            "BytesSent3           int64\n",
            "BytesReceived3       int64\n",
            "IPSrc4               object\n",
            "IPDst4               object\n",
            "Protocol4            object\n",
            "PacketsSent4         int64\n",
            "PacketsReceived4     int64\n",
            "BytesSent4           int64\n",
            "BytesReceived4       int64\n",
            "IPSrc5               object\n",
            "IPDst5               object\n",
            "Protocol5            object\n",
            "PacketsSent5         int64\n",
            "PacketsReceived5     int64\n",
            "BytesSent5           int64\n",
            "BytesReceived5       int64\n",
            "IPSrc6               object\n",
            "IPDst6               object\n",
            "Protocol6            object\n",
            "PacketsSent6         int64\n",
            "PacketsReceived6     int64\n",
            "BytesSent6           int64\n",
            "BytesReceived6       int64\n",
            "IPSrc7               object\n",
            "IPDst7               object\n",
            "Protocol7            object\n",
            "PacketsSent7         int64\n",
            "PacketsReceived7     int64\n",
            "BytesSent7           int64\n",
            "BytesReceived7       int64\n",
            "IPSrc8               object\n",
            "IPDst8               object\n",
            "Protocol8            object\n",
            "PacketsSent8         int64\n",
            "PacketsReceived8     int64\n",
            "BytesSent8           int64\n",
            "BytesReceived8       int64\n",
            "IPSrc9               object\n",
            "IPDst9               object\n",
            "Protocol9            object\n",
            "PacketsSent9         int64\n",
            "PacketsReceived9     int64\n",
            "BytesSent9           int64\n",
            "BytesReceived9       int64\n",
            "IPSrc10              object\n",
            "IPDst10              object\n",
            "Protocol10           object\n",
            "PacketsSent10        int64\n",
            "PacketsReceived10    int64\n",
            "BytesSent10          int64\n",
            "BytesReceived10      int64\n",
            "IPSrc11              object\n",
            "IPDst11              object\n",
            "Protocol11           object\n",
            "PacketsSent11        int64\n",
            "PacketsReceived11    int64\n",
            "BytesSent11          int64\n",
            "BytesReceived11      int64\n",
            "IPSrc12              object\n",
            "IPDst12              object\n",
            "Protocol12           object\n",
            "PacketsSent12        int64\n",
            "PacketsReceived12    int64\n",
            "BytesSent12          int64\n",
            "BytesReceived12      int64\n",
            "IPSrc13              object\n",
            "IPDst13              object\n",
            "Protocol13           object\n",
            "PacketsSent13        int64\n",
            "PacketsReceived13    int64\n",
            "BytesSent13          int64\n",
            "BytesReceived13      int64\n",
            "IPSrc14              object\n",
            "IPDst14              object\n",
            "Protocol14           object\n",
            "PacketsSent14        int64\n",
            "PacketsReceived14    int64\n",
            "BytesSent14          int64\n",
            "BytesReceived14      int64\n",
            "IPSrc15              object\n",
            "IPDst15              object\n",
            "Protocol15           object\n",
            "PacketsSent15        int64\n",
            "PacketsReceived15    int64\n",
            "BytesSent15          int64\n",
            "BytesReceived15      int64\n",
            "IPSrc16              object\n",
            "IPDst16              object\n",
            "Protocol16           object\n",
            "PacketsSent16        int64\n",
            "PacketsReceived16    int64\n",
            "BytesSent16          int64\n",
            "BytesReceived16      int64\n",
            "IPSrc17              object\n",
            "IPDst17              object\n",
            "Protocol17           object\n",
            "PacketsSent17        int64\n",
            "PacketsReceived17    int64\n",
            "BytesSent17          int64\n",
            "BytesReceived17      int64\n",
            "IPSrc18              object\n",
            "IPDst18              object\n",
            "Protocol18           object\n",
            "PacketsSent18        int64\n",
            "PacketsReceived18    int64\n",
            "BytesSent18          int64\n",
            "BytesReceived18      int64\n",
            "IPSrc19              object\n",
            "IPDst19              object\n",
            "Protocol19           object\n",
            "PacketsSent19        int64\n",
            "PacketsReceived19    int64\n",
            "BytesSent19          int64\n",
            "BytesReceived19      int64\n",
            "IPSrc20              object\n",
            "IPDst20              object\n",
            "Protocol20           object\n",
            "PacketsSent20        int64\n",
            "PacketsReceived20    int64\n",
            "BytesSent20          int64\n",
            "BytesReceived20      int64\n",
            "IPSrc21              object\n",
            "IPDst21              int64\n",
            "Protocol21           int64\n",
            "PacketsSent21        int64\n",
            "PacketsReceived21    int64\n",
            "BytesSent21          int64\n",
            "BytesReceived21      int64\n",
            "IPSrc22              object\n",
            "IPDst22              int64\n",
            "Protocol22           int64\n",
            "PacketsSent22        int64\n",
            "PacketsReceived22    int64\n",
            "BytesSent22          int64\n",
            "BytesReceived22      int64\n",
            "IPSrc23              object\n",
            "IPDst23              int64\n",
            "Protocol23           int64\n",
            "PacketsSent23        int64\n",
            "PacketsReceived23    int64\n",
            "BytesSent23          int64\n",
            "BytesReceived23      int64\n",
            "IPSrc24              object\n",
            "IPDst24              int64\n",
            "Protocol24           int64\n",
            "PacketsSent24        int64\n",
            "PacketsReceived24    int64\n",
            "BytesSent24          int64\n",
            "BytesReceived24      int64\n",
            "IPSrc25              object\n",
            "IPDst25              object\n",
            "Protocol25           int64\n",
            "PacketsSent25        int64\n",
            "PacketsReceived25    int64\n",
            "BytesSent25          int64\n",
            "BytesReceived25      int64\n",
            "Buffering            int64\n",
            "Paused               int64\n",
            "Playing              int64\n",
            "CollectData          int64\n",
            "EpochTime            int64\n",
            "StartTime            int64\n",
            "PlaybackProgress     float64\n",
            "Length               float64\n",
            "UnlabelledQuality    int64\n",
            "q144p                int64\n",
            "q240p                int64\n",
            "q360p                int64\n",
            "q480p                int64\n",
            "q720p                int64\n",
            "q1080p               int64\n",
            "q1440p               int64\n",
            "q2160p               int64\n",
            "BufferHealth         float64\n",
            "BufferProgress       float64\n",
            "BufferValid          object\n",
            "dtypes: float64(5), int64(132), object(70)\n",
            "memory usage: 3.2+ MB\n"
          ],
          "name": "stdout"
        }
      ]
    },
    {
      "cell_type": "code",
      "metadata": {
        "scrolled": true,
        "id": "zF8lGYz1Cpg6",
        "colab_type": "code",
        "colab": {}
      },
      "source": [
        "df['avg_qual'] = (\\\n",
        "    df['q144p']*144 + df['q240p']*240 + df['q360p']*360 +\\\n",
        "    df['q480p']*480 + df['q720p']*720 + df['q1080p']*1080 + \\\n",
        "    df['q1440p']*1440 + df['q2160p']*2160 \\\n",
        "    ) * \\\n",
        "    (\\\n",
        "    df['q144p'] + df['q240p'] + df['q360p'] +\\\n",
        "    df['q480p'] + df['q720p'] + df['q1080p'] + \\\n",
        "    df['q1440p'] + df['q2160p']\\\n",
        "    );\n",
        "\n",
        "df.head()\n",
        "\n",
        "df['KBytesReceived'] = df['BytesReceived']/1000;\n"
      ],
      "execution_count": 0,
      "outputs": []
    },
    {
      "cell_type": "code",
      "metadata": {
        "id": "43Q3RzvhCpg_",
        "colab_type": "code",
        "colab": {
          "base_uri": "https://localhost:8080/",
          "height": 424
        },
        "outputId": "f936b174-0201-4e39-e72d-6cf50d00259b"
      },
      "source": [
        "#df_small = df[['KBytesReceived','avg_qual']]\n",
        "df_small = df[ df['KBytesReceived']>10 ]\n",
        "df_small[['KBytesReceived','avg_qual']]"
      ],
      "execution_count": 33,
      "outputs": [
        {
          "output_type": "execute_result",
          "data": {
            "text/html": [
              "<div>\n",
              "<style scoped>\n",
              "    .dataframe tbody tr th:only-of-type {\n",
              "        vertical-align: middle;\n",
              "    }\n",
              "\n",
              "    .dataframe tbody tr th {\n",
              "        vertical-align: top;\n",
              "    }\n",
              "\n",
              "    .dataframe thead th {\n",
              "        text-align: right;\n",
              "    }\n",
              "</style>\n",
              "<table border=\"1\" class=\"dataframe\">\n",
              "  <thead>\n",
              "    <tr style=\"text-align: right;\">\n",
              "      <th></th>\n",
              "      <th>KBytesReceived</th>\n",
              "      <th>avg_qual</th>\n",
              "    </tr>\n",
              "  </thead>\n",
              "  <tbody>\n",
              "    <tr>\n",
              "      <th>10</th>\n",
              "      <td>16.467</td>\n",
              "      <td>0</td>\n",
              "    </tr>\n",
              "    <tr>\n",
              "      <th>36</th>\n",
              "      <td>77.429</td>\n",
              "      <td>144</td>\n",
              "    </tr>\n",
              "    <tr>\n",
              "      <th>6025</th>\n",
              "      <td>16.534</td>\n",
              "      <td>0</td>\n",
              "    </tr>\n",
              "    <tr>\n",
              "      <th>6057</th>\n",
              "      <td>140.715</td>\n",
              "      <td>480</td>\n",
              "    </tr>\n",
              "    <tr>\n",
              "      <th>12024</th>\n",
              "      <td>12.370</td>\n",
              "      <td>0</td>\n",
              "    </tr>\n",
              "    <tr>\n",
              "      <th>...</th>\n",
              "      <td>...</td>\n",
              "      <td>...</td>\n",
              "    </tr>\n",
              "    <tr>\n",
              "      <th>342608</th>\n",
              "      <td>119.179</td>\n",
              "      <td>360</td>\n",
              "    </tr>\n",
              "    <tr>\n",
              "      <th>348583</th>\n",
              "      <td>15.507</td>\n",
              "      <td>0</td>\n",
              "    </tr>\n",
              "    <tr>\n",
              "      <th>348588</th>\n",
              "      <td>16.362</td>\n",
              "      <td>0</td>\n",
              "    </tr>\n",
              "    <tr>\n",
              "      <th>348616</th>\n",
              "      <td>122.320</td>\n",
              "      <td>240</td>\n",
              "    </tr>\n",
              "    <tr>\n",
              "      <th>354596</th>\n",
              "      <td>16.175</td>\n",
              "      <td>0</td>\n",
              "    </tr>\n",
              "  </tbody>\n",
              "</table>\n",
              "<p>157 rows × 2 columns</p>\n",
              "</div>"
            ],
            "text/plain": [
              "        KBytesReceived  avg_qual\n",
              "10              16.467         0\n",
              "36              77.429       144\n",
              "6025            16.534         0\n",
              "6057           140.715       480\n",
              "12024           12.370         0\n",
              "...                ...       ...\n",
              "342608         119.179       360\n",
              "348583          15.507         0\n",
              "348588          16.362         0\n",
              "348616         122.320       240\n",
              "354596          16.175         0\n",
              "\n",
              "[157 rows x 2 columns]"
            ]
          },
          "metadata": {
            "tags": []
          },
          "execution_count": 33
        }
      ]
    },
    {
      "cell_type": "markdown",
      "metadata": {
        "id": "3bDFeU2FCphH",
        "colab_type": "text"
      },
      "source": [
        "## Retrieve Labels"
      ]
    },
    {
      "cell_type": "code",
      "metadata": {
        "id": "tAOClR2-CphJ",
        "colab_type": "code",
        "colab": {
          "base_uri": "https://localhost:8080/",
          "height": 605
        },
        "outputId": "3a6a64b8-ab7d-47e8-a0a5-113825f34308"
      },
      "source": [
        "quality_columns=['UnlabelledQuality', 'q144p', 'q240p', 'q360p', \n",
        "                  'q480p', 'q720p', 'q1080p', 'q1440p', 'q2160p']\n",
        "\n",
        "print(\"samples with quality info:\\n\", df_small[quality_columns].sum(axis=1))\n",
        "\n",
        "df_no_quality = (df_small[quality_columns].sum(axis=1) - 1 )*(-1)\n",
        "print(\"Samples with no quality info:\\n\", df_no_quality)\n",
        "\n",
        "df_small['NoQualityInfo'] = df_no_quality\n",
        "\n"
      ],
      "execution_count": 34,
      "outputs": [
        {
          "output_type": "stream",
          "text": [
            "samples with quality info:\n",
            " 10        0\n",
            "36        1\n",
            "6025      0\n",
            "6057      1\n",
            "12024     0\n",
            "         ..\n",
            "342608    1\n",
            "348583    0\n",
            "348588    0\n",
            "348616    1\n",
            "354596    0\n",
            "Length: 157, dtype: int64\n",
            "Samples with no quality info:\n",
            " 10        1\n",
            "36        0\n",
            "6025      1\n",
            "6057      0\n",
            "12024     1\n",
            "         ..\n",
            "342608    0\n",
            "348583    1\n",
            "348588    1\n",
            "348616    0\n",
            "354596    1\n",
            "Length: 157, dtype: int64\n"
          ],
          "name": "stdout"
        },
        {
          "output_type": "stream",
          "text": [
            "/usr/local/lib/python3.6/dist-packages/ipykernel_launcher.py:9: SettingWithCopyWarning: \n",
            "A value is trying to be set on a copy of a slice from a DataFrame.\n",
            "Try using .loc[row_indexer,col_indexer] = value instead\n",
            "\n",
            "See the caveats in the documentation: http://pandas.pydata.org/pandas-docs/stable/user_guide/indexing.html#returning-a-view-versus-a-copy\n",
            "  if __name__ == '__main__':\n"
          ],
          "name": "stderr"
        }
      ]
    },
    {
      "cell_type": "code",
      "metadata": {
        "scrolled": false,
        "id": "rJUKTa_sCphO",
        "colab_type": "code",
        "colab": {
          "base_uri": "https://localhost:8080/",
          "height": 366
        },
        "outputId": "3797a21d-a5b1-4b2e-919d-3598f4f66296"
      },
      "source": [
        "quality_columns.append('NoQualityInfo')\n",
        "\n",
        "\n",
        "# https://stackoverflow.com/a/38334528/2110769\n",
        "label = df_small[quality_columns].idxmax(axis=1)\n",
        "\n",
        "df_small['label'] = label\n",
        "df_small.head()"
      ],
      "execution_count": 35,
      "outputs": [
        {
          "output_type": "stream",
          "text": [
            "/usr/local/lib/python3.6/dist-packages/ipykernel_launcher.py:7: SettingWithCopyWarning: \n",
            "A value is trying to be set on a copy of a slice from a DataFrame.\n",
            "Try using .loc[row_indexer,col_indexer] = value instead\n",
            "\n",
            "See the caveats in the documentation: http://pandas.pydata.org/pandas-docs/stable/user_guide/indexing.html#returning-a-view-versus-a-copy\n",
            "  import sys\n"
          ],
          "name": "stderr"
        },
        {
          "output_type": "execute_result",
          "data": {
            "text/html": [
              "<div>\n",
              "<style scoped>\n",
              "    .dataframe tbody tr th:only-of-type {\n",
              "        vertical-align: middle;\n",
              "    }\n",
              "\n",
              "    .dataframe tbody tr th {\n",
              "        vertical-align: top;\n",
              "    }\n",
              "\n",
              "    .dataframe thead th {\n",
              "        text-align: right;\n",
              "    }\n",
              "</style>\n",
              "<table border=\"1\" class=\"dataframe\">\n",
              "  <thead>\n",
              "    <tr style=\"text-align: right;\">\n",
              "      <th></th>\n",
              "      <th>RelativeTime</th>\n",
              "      <th>PacketsSent</th>\n",
              "      <th>PacketsReceived</th>\n",
              "      <th>BytesSent</th>\n",
              "      <th>BytesReceived</th>\n",
              "      <th>IPSrc0</th>\n",
              "      <th>IPDst0</th>\n",
              "      <th>Protocol0</th>\n",
              "      <th>PacketsSent0</th>\n",
              "      <th>PacketsReceived0</th>\n",
              "      <th>BytesSent0</th>\n",
              "      <th>BytesReceived0</th>\n",
              "      <th>IPSrc1</th>\n",
              "      <th>IPDst1</th>\n",
              "      <th>Protocol1</th>\n",
              "      <th>PacketsSent1</th>\n",
              "      <th>PacketsReceived1</th>\n",
              "      <th>BytesSent1</th>\n",
              "      <th>BytesReceived1</th>\n",
              "      <th>IPSrc2</th>\n",
              "      <th>IPDst2</th>\n",
              "      <th>Protocol2</th>\n",
              "      <th>PacketsSent2</th>\n",
              "      <th>PacketsReceived2</th>\n",
              "      <th>BytesSent2</th>\n",
              "      <th>BytesReceived2</th>\n",
              "      <th>IPSrc3</th>\n",
              "      <th>IPDst3</th>\n",
              "      <th>Protocol3</th>\n",
              "      <th>PacketsSent3</th>\n",
              "      <th>PacketsReceived3</th>\n",
              "      <th>BytesSent3</th>\n",
              "      <th>BytesReceived3</th>\n",
              "      <th>IPSrc4</th>\n",
              "      <th>IPDst4</th>\n",
              "      <th>Protocol4</th>\n",
              "      <th>PacketsSent4</th>\n",
              "      <th>PacketsReceived4</th>\n",
              "      <th>BytesSent4</th>\n",
              "      <th>BytesReceived4</th>\n",
              "      <th>...</th>\n",
              "      <th>BytesSent23</th>\n",
              "      <th>BytesReceived23</th>\n",
              "      <th>IPSrc24</th>\n",
              "      <th>IPDst24</th>\n",
              "      <th>Protocol24</th>\n",
              "      <th>PacketsSent24</th>\n",
              "      <th>PacketsReceived24</th>\n",
              "      <th>BytesSent24</th>\n",
              "      <th>BytesReceived24</th>\n",
              "      <th>IPSrc25</th>\n",
              "      <th>IPDst25</th>\n",
              "      <th>Protocol25</th>\n",
              "      <th>PacketsSent25</th>\n",
              "      <th>PacketsReceived25</th>\n",
              "      <th>BytesSent25</th>\n",
              "      <th>BytesReceived25</th>\n",
              "      <th>Buffering</th>\n",
              "      <th>Paused</th>\n",
              "      <th>Playing</th>\n",
              "      <th>CollectData</th>\n",
              "      <th>EpochTime</th>\n",
              "      <th>StartTime</th>\n",
              "      <th>PlaybackProgress</th>\n",
              "      <th>Length</th>\n",
              "      <th>UnlabelledQuality</th>\n",
              "      <th>q144p</th>\n",
              "      <th>q240p</th>\n",
              "      <th>q360p</th>\n",
              "      <th>q480p</th>\n",
              "      <th>q720p</th>\n",
              "      <th>q1080p</th>\n",
              "      <th>q1440p</th>\n",
              "      <th>q2160p</th>\n",
              "      <th>BufferHealth</th>\n",
              "      <th>BufferProgress</th>\n",
              "      <th>BufferValid</th>\n",
              "      <th>avg_qual</th>\n",
              "      <th>KBytesReceived</th>\n",
              "      <th>NoQualityInfo</th>\n",
              "      <th>label</th>\n",
              "    </tr>\n",
              "  </thead>\n",
              "  <tbody>\n",
              "    <tr>\n",
              "      <th>10</th>\n",
              "      <td>1.0</td>\n",
              "      <td>7</td>\n",
              "      <td>14</td>\n",
              "      <td>490</td>\n",
              "      <td>16467</td>\n",
              "      <td>192.168.1.15</td>\n",
              "      <td>173.194.31.105</td>\n",
              "      <td>0</td>\n",
              "      <td>0</td>\n",
              "      <td>0</td>\n",
              "      <td>0</td>\n",
              "      <td>0</td>\n",
              "      <td>192.168.1.15</td>\n",
              "      <td>172.217.10.35</td>\n",
              "      <td>0</td>\n",
              "      <td>0</td>\n",
              "      <td>0</td>\n",
              "      <td>0</td>\n",
              "      <td>0</td>\n",
              "      <td>192.168.1.15</td>\n",
              "      <td>172.217.12.206</td>\n",
              "      <td>QUIC</td>\n",
              "      <td>7</td>\n",
              "      <td>14</td>\n",
              "      <td>490</td>\n",
              "      <td>16467</td>\n",
              "      <td>192.168.1.15</td>\n",
              "      <td>172.217.10.46</td>\n",
              "      <td>0</td>\n",
              "      <td>0</td>\n",
              "      <td>0</td>\n",
              "      <td>0</td>\n",
              "      <td>0</td>\n",
              "      <td>192.168.1.15</td>\n",
              "      <td>172.217.12.182</td>\n",
              "      <td>0</td>\n",
              "      <td>0</td>\n",
              "      <td>0</td>\n",
              "      <td>0</td>\n",
              "      <td>0</td>\n",
              "      <td>...</td>\n",
              "      <td>0</td>\n",
              "      <td>0</td>\n",
              "      <td>192.168.1.15</td>\n",
              "      <td>0</td>\n",
              "      <td>0</td>\n",
              "      <td>0</td>\n",
              "      <td>0</td>\n",
              "      <td>0</td>\n",
              "      <td>0</td>\n",
              "      <td>192.168.1.15</td>\n",
              "      <td>0.0.0.0</td>\n",
              "      <td>0</td>\n",
              "      <td>0</td>\n",
              "      <td>0</td>\n",
              "      <td>0</td>\n",
              "      <td>0</td>\n",
              "      <td>0</td>\n",
              "      <td>0</td>\n",
              "      <td>0</td>\n",
              "      <td>0</td>\n",
              "      <td>0</td>\n",
              "      <td>1533526730715</td>\n",
              "      <td>0.000000</td>\n",
              "      <td>576.841</td>\n",
              "      <td>0</td>\n",
              "      <td>0</td>\n",
              "      <td>0</td>\n",
              "      <td>0</td>\n",
              "      <td>0</td>\n",
              "      <td>0</td>\n",
              "      <td>0</td>\n",
              "      <td>0</td>\n",
              "      <td>0</td>\n",
              "      <td>0.000000</td>\n",
              "      <td>0.000000</td>\n",
              "      <td>-1</td>\n",
              "      <td>0</td>\n",
              "      <td>16.467</td>\n",
              "      <td>1</td>\n",
              "      <td>NoQualityInfo</td>\n",
              "    </tr>\n",
              "    <tr>\n",
              "      <th>36</th>\n",
              "      <td>3.6</td>\n",
              "      <td>14</td>\n",
              "      <td>57</td>\n",
              "      <td>2932</td>\n",
              "      <td>77429</td>\n",
              "      <td>192.168.1.15</td>\n",
              "      <td>173.194.31.105</td>\n",
              "      <td>QUIC</td>\n",
              "      <td>8</td>\n",
              "      <td>56</td>\n",
              "      <td>1126</td>\n",
              "      <td>77137</td>\n",
              "      <td>192.168.1.15</td>\n",
              "      <td>172.217.10.35</td>\n",
              "      <td>0</td>\n",
              "      <td>0</td>\n",
              "      <td>0</td>\n",
              "      <td>0</td>\n",
              "      <td>0</td>\n",
              "      <td>192.168.1.15</td>\n",
              "      <td>172.217.12.206</td>\n",
              "      <td>QUIC</td>\n",
              "      <td>2</td>\n",
              "      <td>0</td>\n",
              "      <td>1232</td>\n",
              "      <td>0</td>\n",
              "      <td>192.168.1.15</td>\n",
              "      <td>172.217.10.46</td>\n",
              "      <td>0</td>\n",
              "      <td>0</td>\n",
              "      <td>0</td>\n",
              "      <td>0</td>\n",
              "      <td>0</td>\n",
              "      <td>192.168.1.15</td>\n",
              "      <td>172.217.12.182</td>\n",
              "      <td>0</td>\n",
              "      <td>0</td>\n",
              "      <td>0</td>\n",
              "      <td>0</td>\n",
              "      <td>0</td>\n",
              "      <td>...</td>\n",
              "      <td>0</td>\n",
              "      <td>0</td>\n",
              "      <td>192.168.1.15</td>\n",
              "      <td>0</td>\n",
              "      <td>0</td>\n",
              "      <td>0</td>\n",
              "      <td>0</td>\n",
              "      <td>0</td>\n",
              "      <td>0</td>\n",
              "      <td>192.168.1.15</td>\n",
              "      <td>0.0.0.0</td>\n",
              "      <td>0</td>\n",
              "      <td>3</td>\n",
              "      <td>1</td>\n",
              "      <td>335</td>\n",
              "      <td>292</td>\n",
              "      <td>0</td>\n",
              "      <td>0</td>\n",
              "      <td>1</td>\n",
              "      <td>0</td>\n",
              "      <td>1533526733566</td>\n",
              "      <td>1533526730715</td>\n",
              "      <td>0.034220</td>\n",
              "      <td>576.841</td>\n",
              "      <td>0</td>\n",
              "      <td>1</td>\n",
              "      <td>0</td>\n",
              "      <td>0</td>\n",
              "      <td>0</td>\n",
              "      <td>0</td>\n",
              "      <td>0</td>\n",
              "      <td>0</td>\n",
              "      <td>0</td>\n",
              "      <td>4.606780</td>\n",
              "      <td>0.008046</td>\n",
              "      <td>true</td>\n",
              "      <td>144</td>\n",
              "      <td>77.429</td>\n",
              "      <td>0</td>\n",
              "      <td>q144p</td>\n",
              "    </tr>\n",
              "    <tr>\n",
              "      <th>6025</th>\n",
              "      <td>1.5</td>\n",
              "      <td>7</td>\n",
              "      <td>14</td>\n",
              "      <td>490</td>\n",
              "      <td>16534</td>\n",
              "      <td>192.168.1.15</td>\n",
              "      <td>173.194.61.41</td>\n",
              "      <td>0</td>\n",
              "      <td>0</td>\n",
              "      <td>0</td>\n",
              "      <td>0</td>\n",
              "      <td>0</td>\n",
              "      <td>192.168.1.15</td>\n",
              "      <td>172.217.11.35</td>\n",
              "      <td>0</td>\n",
              "      <td>0</td>\n",
              "      <td>0</td>\n",
              "      <td>0</td>\n",
              "      <td>0</td>\n",
              "      <td>192.168.1.15</td>\n",
              "      <td>172.217.12.142</td>\n",
              "      <td>QUIC</td>\n",
              "      <td>7</td>\n",
              "      <td>14</td>\n",
              "      <td>490</td>\n",
              "      <td>16534</td>\n",
              "      <td>192.168.1.15</td>\n",
              "      <td>172.217.12.162</td>\n",
              "      <td>0</td>\n",
              "      <td>0</td>\n",
              "      <td>0</td>\n",
              "      <td>0</td>\n",
              "      <td>0</td>\n",
              "      <td>192.168.1.15</td>\n",
              "      <td>172.217.12.205</td>\n",
              "      <td>0</td>\n",
              "      <td>0</td>\n",
              "      <td>0</td>\n",
              "      <td>0</td>\n",
              "      <td>0</td>\n",
              "      <td>...</td>\n",
              "      <td>0</td>\n",
              "      <td>0</td>\n",
              "      <td>192.168.1.15</td>\n",
              "      <td>0</td>\n",
              "      <td>0</td>\n",
              "      <td>0</td>\n",
              "      <td>0</td>\n",
              "      <td>0</td>\n",
              "      <td>0</td>\n",
              "      <td>192.168.1.15</td>\n",
              "      <td>0.0.0.0</td>\n",
              "      <td>0</td>\n",
              "      <td>0</td>\n",
              "      <td>0</td>\n",
              "      <td>0</td>\n",
              "      <td>0</td>\n",
              "      <td>0</td>\n",
              "      <td>0</td>\n",
              "      <td>0</td>\n",
              "      <td>0</td>\n",
              "      <td>0</td>\n",
              "      <td>1533535533434</td>\n",
              "      <td>0.000000</td>\n",
              "      <td>617.801</td>\n",
              "      <td>0</td>\n",
              "      <td>0</td>\n",
              "      <td>0</td>\n",
              "      <td>0</td>\n",
              "      <td>0</td>\n",
              "      <td>0</td>\n",
              "      <td>0</td>\n",
              "      <td>0</td>\n",
              "      <td>0</td>\n",
              "      <td>0.000000</td>\n",
              "      <td>0.000000</td>\n",
              "      <td>-1</td>\n",
              "      <td>0</td>\n",
              "      <td>16.534</td>\n",
              "      <td>1</td>\n",
              "      <td>NoQualityInfo</td>\n",
              "    </tr>\n",
              "    <tr>\n",
              "      <th>6057</th>\n",
              "      <td>4.7</td>\n",
              "      <td>20</td>\n",
              "      <td>109</td>\n",
              "      <td>3457</td>\n",
              "      <td>140715</td>\n",
              "      <td>192.168.1.15</td>\n",
              "      <td>173.194.61.41</td>\n",
              "      <td>QUIC</td>\n",
              "      <td>11</td>\n",
              "      <td>101</td>\n",
              "      <td>794</td>\n",
              "      <td>139285</td>\n",
              "      <td>192.168.1.15</td>\n",
              "      <td>172.217.11.35</td>\n",
              "      <td>0</td>\n",
              "      <td>0</td>\n",
              "      <td>0</td>\n",
              "      <td>0</td>\n",
              "      <td>0</td>\n",
              "      <td>192.168.1.15</td>\n",
              "      <td>172.217.12.142</td>\n",
              "      <td>QUIC</td>\n",
              "      <td>3</td>\n",
              "      <td>3</td>\n",
              "      <td>1298</td>\n",
              "      <td>226</td>\n",
              "      <td>192.168.1.15</td>\n",
              "      <td>172.217.12.162</td>\n",
              "      <td>QUIC</td>\n",
              "      <td>1</td>\n",
              "      <td>0</td>\n",
              "      <td>239</td>\n",
              "      <td>0</td>\n",
              "      <td>192.168.1.15</td>\n",
              "      <td>172.217.12.205</td>\n",
              "      <td>0</td>\n",
              "      <td>0</td>\n",
              "      <td>0</td>\n",
              "      <td>0</td>\n",
              "      <td>0</td>\n",
              "      <td>...</td>\n",
              "      <td>0</td>\n",
              "      <td>0</td>\n",
              "      <td>192.168.1.15</td>\n",
              "      <td>0</td>\n",
              "      <td>0</td>\n",
              "      <td>0</td>\n",
              "      <td>0</td>\n",
              "      <td>0</td>\n",
              "      <td>0</td>\n",
              "      <td>192.168.1.15</td>\n",
              "      <td>0.0.0.0</td>\n",
              "      <td>0</td>\n",
              "      <td>5</td>\n",
              "      <td>5</td>\n",
              "      <td>1126</td>\n",
              "      <td>1204</td>\n",
              "      <td>0</td>\n",
              "      <td>0</td>\n",
              "      <td>1</td>\n",
              "      <td>0</td>\n",
              "      <td>1533535537367</td>\n",
              "      <td>1533535533434</td>\n",
              "      <td>0.039622</td>\n",
              "      <td>617.801</td>\n",
              "      <td>0</td>\n",
              "      <td>0</td>\n",
              "      <td>0</td>\n",
              "      <td>0</td>\n",
              "      <td>1</td>\n",
              "      <td>0</td>\n",
              "      <td>0</td>\n",
              "      <td>0</td>\n",
              "      <td>0</td>\n",
              "      <td>5.590378</td>\n",
              "      <td>0.009113</td>\n",
              "      <td>true</td>\n",
              "      <td>480</td>\n",
              "      <td>140.715</td>\n",
              "      <td>0</td>\n",
              "      <td>q480p</td>\n",
              "    </tr>\n",
              "    <tr>\n",
              "      <th>12024</th>\n",
              "      <td>0.4</td>\n",
              "      <td>16</td>\n",
              "      <td>13</td>\n",
              "      <td>4859</td>\n",
              "      <td>12370</td>\n",
              "      <td>192.168.1.15</td>\n",
              "      <td>173.194.31.105</td>\n",
              "      <td>0</td>\n",
              "      <td>0</td>\n",
              "      <td>0</td>\n",
              "      <td>0</td>\n",
              "      <td>0</td>\n",
              "      <td>192.168.1.15</td>\n",
              "      <td>172.217.11.35</td>\n",
              "      <td>QUIC</td>\n",
              "      <td>4</td>\n",
              "      <td>4</td>\n",
              "      <td>1613</td>\n",
              "      <td>4249</td>\n",
              "      <td>192.168.1.15</td>\n",
              "      <td>172.217.7.14</td>\n",
              "      <td>TLSv1.2</td>\n",
              "      <td>12</td>\n",
              "      <td>9</td>\n",
              "      <td>3246</td>\n",
              "      <td>8121</td>\n",
              "      <td>192.168.1.15</td>\n",
              "      <td>172.217.10.131</td>\n",
              "      <td>0</td>\n",
              "      <td>0</td>\n",
              "      <td>0</td>\n",
              "      <td>0</td>\n",
              "      <td>0</td>\n",
              "      <td>192.168.1.15</td>\n",
              "      <td>172.217.12.182</td>\n",
              "      <td>0</td>\n",
              "      <td>0</td>\n",
              "      <td>0</td>\n",
              "      <td>0</td>\n",
              "      <td>0</td>\n",
              "      <td>...</td>\n",
              "      <td>0</td>\n",
              "      <td>0</td>\n",
              "      <td>192.168.1.15</td>\n",
              "      <td>0</td>\n",
              "      <td>0</td>\n",
              "      <td>0</td>\n",
              "      <td>0</td>\n",
              "      <td>0</td>\n",
              "      <td>0</td>\n",
              "      <td>192.168.1.15</td>\n",
              "      <td>0.0.0.0</td>\n",
              "      <td>0</td>\n",
              "      <td>0</td>\n",
              "      <td>0</td>\n",
              "      <td>0</td>\n",
              "      <td>0</td>\n",
              "      <td>0</td>\n",
              "      <td>0</td>\n",
              "      <td>0</td>\n",
              "      <td>0</td>\n",
              "      <td>0</td>\n",
              "      <td>1533518611600</td>\n",
              "      <td>0.000000</td>\n",
              "      <td>576.841</td>\n",
              "      <td>0</td>\n",
              "      <td>0</td>\n",
              "      <td>0</td>\n",
              "      <td>0</td>\n",
              "      <td>0</td>\n",
              "      <td>0</td>\n",
              "      <td>0</td>\n",
              "      <td>0</td>\n",
              "      <td>0</td>\n",
              "      <td>0.000000</td>\n",
              "      <td>0.000000</td>\n",
              "      <td>-1</td>\n",
              "      <td>0</td>\n",
              "      <td>12.370</td>\n",
              "      <td>1</td>\n",
              "      <td>NoQualityInfo</td>\n",
              "    </tr>\n",
              "  </tbody>\n",
              "</table>\n",
              "<p>5 rows × 211 columns</p>\n",
              "</div>"
            ],
            "text/plain": [
              "       RelativeTime  PacketsSent  ...  NoQualityInfo          label\n",
              "10              1.0            7  ...              1  NoQualityInfo\n",
              "36              3.6           14  ...              0          q144p\n",
              "6025            1.5            7  ...              1  NoQualityInfo\n",
              "6057            4.7           20  ...              0          q480p\n",
              "12024           0.4           16  ...              1  NoQualityInfo\n",
              "\n",
              "[5 rows x 211 columns]"
            ]
          },
          "metadata": {
            "tags": []
          },
          "execution_count": 35
        }
      ]
    },
    {
      "cell_type": "code",
      "metadata": {
        "id": "BapZWeZiCphT",
        "colab_type": "code",
        "colab": {
          "base_uri": "https://localhost:8080/",
          "height": 256
        },
        "outputId": "0cb20768-2541-4783-c825-7919adcd51a3"
      },
      "source": [
        "df_small = df_small.drop(columns=quality_columns, axis=1)\n",
        "df_small = df_small.drop(columns=['avg_qual'], axis=1)\n",
        "df_small.head()"
      ],
      "execution_count": 36,
      "outputs": [
        {
          "output_type": "execute_result",
          "data": {
            "text/html": [
              "<div>\n",
              "<style scoped>\n",
              "    .dataframe tbody tr th:only-of-type {\n",
              "        vertical-align: middle;\n",
              "    }\n",
              "\n",
              "    .dataframe tbody tr th {\n",
              "        vertical-align: top;\n",
              "    }\n",
              "\n",
              "    .dataframe thead th {\n",
              "        text-align: right;\n",
              "    }\n",
              "</style>\n",
              "<table border=\"1\" class=\"dataframe\">\n",
              "  <thead>\n",
              "    <tr style=\"text-align: right;\">\n",
              "      <th></th>\n",
              "      <th>RelativeTime</th>\n",
              "      <th>PacketsSent</th>\n",
              "      <th>PacketsReceived</th>\n",
              "      <th>BytesSent</th>\n",
              "      <th>BytesReceived</th>\n",
              "      <th>IPSrc0</th>\n",
              "      <th>IPDst0</th>\n",
              "      <th>Protocol0</th>\n",
              "      <th>PacketsSent0</th>\n",
              "      <th>PacketsReceived0</th>\n",
              "      <th>BytesSent0</th>\n",
              "      <th>BytesReceived0</th>\n",
              "      <th>IPSrc1</th>\n",
              "      <th>IPDst1</th>\n",
              "      <th>Protocol1</th>\n",
              "      <th>PacketsSent1</th>\n",
              "      <th>PacketsReceived1</th>\n",
              "      <th>BytesSent1</th>\n",
              "      <th>BytesReceived1</th>\n",
              "      <th>IPSrc2</th>\n",
              "      <th>IPDst2</th>\n",
              "      <th>Protocol2</th>\n",
              "      <th>PacketsSent2</th>\n",
              "      <th>PacketsReceived2</th>\n",
              "      <th>BytesSent2</th>\n",
              "      <th>BytesReceived2</th>\n",
              "      <th>IPSrc3</th>\n",
              "      <th>IPDst3</th>\n",
              "      <th>Protocol3</th>\n",
              "      <th>PacketsSent3</th>\n",
              "      <th>PacketsReceived3</th>\n",
              "      <th>BytesSent3</th>\n",
              "      <th>BytesReceived3</th>\n",
              "      <th>IPSrc4</th>\n",
              "      <th>IPDst4</th>\n",
              "      <th>Protocol4</th>\n",
              "      <th>PacketsSent4</th>\n",
              "      <th>PacketsReceived4</th>\n",
              "      <th>BytesSent4</th>\n",
              "      <th>BytesReceived4</th>\n",
              "      <th>...</th>\n",
              "      <th>IPDst22</th>\n",
              "      <th>Protocol22</th>\n",
              "      <th>PacketsSent22</th>\n",
              "      <th>PacketsReceived22</th>\n",
              "      <th>BytesSent22</th>\n",
              "      <th>BytesReceived22</th>\n",
              "      <th>IPSrc23</th>\n",
              "      <th>IPDst23</th>\n",
              "      <th>Protocol23</th>\n",
              "      <th>PacketsSent23</th>\n",
              "      <th>PacketsReceived23</th>\n",
              "      <th>BytesSent23</th>\n",
              "      <th>BytesReceived23</th>\n",
              "      <th>IPSrc24</th>\n",
              "      <th>IPDst24</th>\n",
              "      <th>Protocol24</th>\n",
              "      <th>PacketsSent24</th>\n",
              "      <th>PacketsReceived24</th>\n",
              "      <th>BytesSent24</th>\n",
              "      <th>BytesReceived24</th>\n",
              "      <th>IPSrc25</th>\n",
              "      <th>IPDst25</th>\n",
              "      <th>Protocol25</th>\n",
              "      <th>PacketsSent25</th>\n",
              "      <th>PacketsReceived25</th>\n",
              "      <th>BytesSent25</th>\n",
              "      <th>BytesReceived25</th>\n",
              "      <th>Buffering</th>\n",
              "      <th>Paused</th>\n",
              "      <th>Playing</th>\n",
              "      <th>CollectData</th>\n",
              "      <th>EpochTime</th>\n",
              "      <th>StartTime</th>\n",
              "      <th>PlaybackProgress</th>\n",
              "      <th>Length</th>\n",
              "      <th>BufferHealth</th>\n",
              "      <th>BufferProgress</th>\n",
              "      <th>BufferValid</th>\n",
              "      <th>KBytesReceived</th>\n",
              "      <th>label</th>\n",
              "    </tr>\n",
              "  </thead>\n",
              "  <tbody>\n",
              "    <tr>\n",
              "      <th>10</th>\n",
              "      <td>1.0</td>\n",
              "      <td>7</td>\n",
              "      <td>14</td>\n",
              "      <td>490</td>\n",
              "      <td>16467</td>\n",
              "      <td>192.168.1.15</td>\n",
              "      <td>173.194.31.105</td>\n",
              "      <td>0</td>\n",
              "      <td>0</td>\n",
              "      <td>0</td>\n",
              "      <td>0</td>\n",
              "      <td>0</td>\n",
              "      <td>192.168.1.15</td>\n",
              "      <td>172.217.10.35</td>\n",
              "      <td>0</td>\n",
              "      <td>0</td>\n",
              "      <td>0</td>\n",
              "      <td>0</td>\n",
              "      <td>0</td>\n",
              "      <td>192.168.1.15</td>\n",
              "      <td>172.217.12.206</td>\n",
              "      <td>QUIC</td>\n",
              "      <td>7</td>\n",
              "      <td>14</td>\n",
              "      <td>490</td>\n",
              "      <td>16467</td>\n",
              "      <td>192.168.1.15</td>\n",
              "      <td>172.217.10.46</td>\n",
              "      <td>0</td>\n",
              "      <td>0</td>\n",
              "      <td>0</td>\n",
              "      <td>0</td>\n",
              "      <td>0</td>\n",
              "      <td>192.168.1.15</td>\n",
              "      <td>172.217.12.182</td>\n",
              "      <td>0</td>\n",
              "      <td>0</td>\n",
              "      <td>0</td>\n",
              "      <td>0</td>\n",
              "      <td>0</td>\n",
              "      <td>...</td>\n",
              "      <td>0</td>\n",
              "      <td>0</td>\n",
              "      <td>0</td>\n",
              "      <td>0</td>\n",
              "      <td>0</td>\n",
              "      <td>0</td>\n",
              "      <td>192.168.1.15</td>\n",
              "      <td>0</td>\n",
              "      <td>0</td>\n",
              "      <td>0</td>\n",
              "      <td>0</td>\n",
              "      <td>0</td>\n",
              "      <td>0</td>\n",
              "      <td>192.168.1.15</td>\n",
              "      <td>0</td>\n",
              "      <td>0</td>\n",
              "      <td>0</td>\n",
              "      <td>0</td>\n",
              "      <td>0</td>\n",
              "      <td>0</td>\n",
              "      <td>192.168.1.15</td>\n",
              "      <td>0.0.0.0</td>\n",
              "      <td>0</td>\n",
              "      <td>0</td>\n",
              "      <td>0</td>\n",
              "      <td>0</td>\n",
              "      <td>0</td>\n",
              "      <td>0</td>\n",
              "      <td>0</td>\n",
              "      <td>0</td>\n",
              "      <td>0</td>\n",
              "      <td>0</td>\n",
              "      <td>1533526730715</td>\n",
              "      <td>0.000000</td>\n",
              "      <td>576.841</td>\n",
              "      <td>0.000000</td>\n",
              "      <td>0.000000</td>\n",
              "      <td>-1</td>\n",
              "      <td>16.467</td>\n",
              "      <td>NoQualityInfo</td>\n",
              "    </tr>\n",
              "    <tr>\n",
              "      <th>36</th>\n",
              "      <td>3.6</td>\n",
              "      <td>14</td>\n",
              "      <td>57</td>\n",
              "      <td>2932</td>\n",
              "      <td>77429</td>\n",
              "      <td>192.168.1.15</td>\n",
              "      <td>173.194.31.105</td>\n",
              "      <td>QUIC</td>\n",
              "      <td>8</td>\n",
              "      <td>56</td>\n",
              "      <td>1126</td>\n",
              "      <td>77137</td>\n",
              "      <td>192.168.1.15</td>\n",
              "      <td>172.217.10.35</td>\n",
              "      <td>0</td>\n",
              "      <td>0</td>\n",
              "      <td>0</td>\n",
              "      <td>0</td>\n",
              "      <td>0</td>\n",
              "      <td>192.168.1.15</td>\n",
              "      <td>172.217.12.206</td>\n",
              "      <td>QUIC</td>\n",
              "      <td>2</td>\n",
              "      <td>0</td>\n",
              "      <td>1232</td>\n",
              "      <td>0</td>\n",
              "      <td>192.168.1.15</td>\n",
              "      <td>172.217.10.46</td>\n",
              "      <td>0</td>\n",
              "      <td>0</td>\n",
              "      <td>0</td>\n",
              "      <td>0</td>\n",
              "      <td>0</td>\n",
              "      <td>192.168.1.15</td>\n",
              "      <td>172.217.12.182</td>\n",
              "      <td>0</td>\n",
              "      <td>0</td>\n",
              "      <td>0</td>\n",
              "      <td>0</td>\n",
              "      <td>0</td>\n",
              "      <td>...</td>\n",
              "      <td>0</td>\n",
              "      <td>0</td>\n",
              "      <td>0</td>\n",
              "      <td>0</td>\n",
              "      <td>0</td>\n",
              "      <td>0</td>\n",
              "      <td>192.168.1.15</td>\n",
              "      <td>0</td>\n",
              "      <td>0</td>\n",
              "      <td>0</td>\n",
              "      <td>0</td>\n",
              "      <td>0</td>\n",
              "      <td>0</td>\n",
              "      <td>192.168.1.15</td>\n",
              "      <td>0</td>\n",
              "      <td>0</td>\n",
              "      <td>0</td>\n",
              "      <td>0</td>\n",
              "      <td>0</td>\n",
              "      <td>0</td>\n",
              "      <td>192.168.1.15</td>\n",
              "      <td>0.0.0.0</td>\n",
              "      <td>0</td>\n",
              "      <td>3</td>\n",
              "      <td>1</td>\n",
              "      <td>335</td>\n",
              "      <td>292</td>\n",
              "      <td>0</td>\n",
              "      <td>0</td>\n",
              "      <td>1</td>\n",
              "      <td>0</td>\n",
              "      <td>1533526733566</td>\n",
              "      <td>1533526730715</td>\n",
              "      <td>0.034220</td>\n",
              "      <td>576.841</td>\n",
              "      <td>4.606780</td>\n",
              "      <td>0.008046</td>\n",
              "      <td>true</td>\n",
              "      <td>77.429</td>\n",
              "      <td>q144p</td>\n",
              "    </tr>\n",
              "    <tr>\n",
              "      <th>6025</th>\n",
              "      <td>1.5</td>\n",
              "      <td>7</td>\n",
              "      <td>14</td>\n",
              "      <td>490</td>\n",
              "      <td>16534</td>\n",
              "      <td>192.168.1.15</td>\n",
              "      <td>173.194.61.41</td>\n",
              "      <td>0</td>\n",
              "      <td>0</td>\n",
              "      <td>0</td>\n",
              "      <td>0</td>\n",
              "      <td>0</td>\n",
              "      <td>192.168.1.15</td>\n",
              "      <td>172.217.11.35</td>\n",
              "      <td>0</td>\n",
              "      <td>0</td>\n",
              "      <td>0</td>\n",
              "      <td>0</td>\n",
              "      <td>0</td>\n",
              "      <td>192.168.1.15</td>\n",
              "      <td>172.217.12.142</td>\n",
              "      <td>QUIC</td>\n",
              "      <td>7</td>\n",
              "      <td>14</td>\n",
              "      <td>490</td>\n",
              "      <td>16534</td>\n",
              "      <td>192.168.1.15</td>\n",
              "      <td>172.217.12.162</td>\n",
              "      <td>0</td>\n",
              "      <td>0</td>\n",
              "      <td>0</td>\n",
              "      <td>0</td>\n",
              "      <td>0</td>\n",
              "      <td>192.168.1.15</td>\n",
              "      <td>172.217.12.205</td>\n",
              "      <td>0</td>\n",
              "      <td>0</td>\n",
              "      <td>0</td>\n",
              "      <td>0</td>\n",
              "      <td>0</td>\n",
              "      <td>...</td>\n",
              "      <td>0</td>\n",
              "      <td>0</td>\n",
              "      <td>0</td>\n",
              "      <td>0</td>\n",
              "      <td>0</td>\n",
              "      <td>0</td>\n",
              "      <td>192.168.1.15</td>\n",
              "      <td>0</td>\n",
              "      <td>0</td>\n",
              "      <td>0</td>\n",
              "      <td>0</td>\n",
              "      <td>0</td>\n",
              "      <td>0</td>\n",
              "      <td>192.168.1.15</td>\n",
              "      <td>0</td>\n",
              "      <td>0</td>\n",
              "      <td>0</td>\n",
              "      <td>0</td>\n",
              "      <td>0</td>\n",
              "      <td>0</td>\n",
              "      <td>192.168.1.15</td>\n",
              "      <td>0.0.0.0</td>\n",
              "      <td>0</td>\n",
              "      <td>0</td>\n",
              "      <td>0</td>\n",
              "      <td>0</td>\n",
              "      <td>0</td>\n",
              "      <td>0</td>\n",
              "      <td>0</td>\n",
              "      <td>0</td>\n",
              "      <td>0</td>\n",
              "      <td>0</td>\n",
              "      <td>1533535533434</td>\n",
              "      <td>0.000000</td>\n",
              "      <td>617.801</td>\n",
              "      <td>0.000000</td>\n",
              "      <td>0.000000</td>\n",
              "      <td>-1</td>\n",
              "      <td>16.534</td>\n",
              "      <td>NoQualityInfo</td>\n",
              "    </tr>\n",
              "    <tr>\n",
              "      <th>6057</th>\n",
              "      <td>4.7</td>\n",
              "      <td>20</td>\n",
              "      <td>109</td>\n",
              "      <td>3457</td>\n",
              "      <td>140715</td>\n",
              "      <td>192.168.1.15</td>\n",
              "      <td>173.194.61.41</td>\n",
              "      <td>QUIC</td>\n",
              "      <td>11</td>\n",
              "      <td>101</td>\n",
              "      <td>794</td>\n",
              "      <td>139285</td>\n",
              "      <td>192.168.1.15</td>\n",
              "      <td>172.217.11.35</td>\n",
              "      <td>0</td>\n",
              "      <td>0</td>\n",
              "      <td>0</td>\n",
              "      <td>0</td>\n",
              "      <td>0</td>\n",
              "      <td>192.168.1.15</td>\n",
              "      <td>172.217.12.142</td>\n",
              "      <td>QUIC</td>\n",
              "      <td>3</td>\n",
              "      <td>3</td>\n",
              "      <td>1298</td>\n",
              "      <td>226</td>\n",
              "      <td>192.168.1.15</td>\n",
              "      <td>172.217.12.162</td>\n",
              "      <td>QUIC</td>\n",
              "      <td>1</td>\n",
              "      <td>0</td>\n",
              "      <td>239</td>\n",
              "      <td>0</td>\n",
              "      <td>192.168.1.15</td>\n",
              "      <td>172.217.12.205</td>\n",
              "      <td>0</td>\n",
              "      <td>0</td>\n",
              "      <td>0</td>\n",
              "      <td>0</td>\n",
              "      <td>0</td>\n",
              "      <td>...</td>\n",
              "      <td>0</td>\n",
              "      <td>0</td>\n",
              "      <td>0</td>\n",
              "      <td>0</td>\n",
              "      <td>0</td>\n",
              "      <td>0</td>\n",
              "      <td>192.168.1.15</td>\n",
              "      <td>0</td>\n",
              "      <td>0</td>\n",
              "      <td>0</td>\n",
              "      <td>0</td>\n",
              "      <td>0</td>\n",
              "      <td>0</td>\n",
              "      <td>192.168.1.15</td>\n",
              "      <td>0</td>\n",
              "      <td>0</td>\n",
              "      <td>0</td>\n",
              "      <td>0</td>\n",
              "      <td>0</td>\n",
              "      <td>0</td>\n",
              "      <td>192.168.1.15</td>\n",
              "      <td>0.0.0.0</td>\n",
              "      <td>0</td>\n",
              "      <td>5</td>\n",
              "      <td>5</td>\n",
              "      <td>1126</td>\n",
              "      <td>1204</td>\n",
              "      <td>0</td>\n",
              "      <td>0</td>\n",
              "      <td>1</td>\n",
              "      <td>0</td>\n",
              "      <td>1533535537367</td>\n",
              "      <td>1533535533434</td>\n",
              "      <td>0.039622</td>\n",
              "      <td>617.801</td>\n",
              "      <td>5.590378</td>\n",
              "      <td>0.009113</td>\n",
              "      <td>true</td>\n",
              "      <td>140.715</td>\n",
              "      <td>q480p</td>\n",
              "    </tr>\n",
              "    <tr>\n",
              "      <th>12024</th>\n",
              "      <td>0.4</td>\n",
              "      <td>16</td>\n",
              "      <td>13</td>\n",
              "      <td>4859</td>\n",
              "      <td>12370</td>\n",
              "      <td>192.168.1.15</td>\n",
              "      <td>173.194.31.105</td>\n",
              "      <td>0</td>\n",
              "      <td>0</td>\n",
              "      <td>0</td>\n",
              "      <td>0</td>\n",
              "      <td>0</td>\n",
              "      <td>192.168.1.15</td>\n",
              "      <td>172.217.11.35</td>\n",
              "      <td>QUIC</td>\n",
              "      <td>4</td>\n",
              "      <td>4</td>\n",
              "      <td>1613</td>\n",
              "      <td>4249</td>\n",
              "      <td>192.168.1.15</td>\n",
              "      <td>172.217.7.14</td>\n",
              "      <td>TLSv1.2</td>\n",
              "      <td>12</td>\n",
              "      <td>9</td>\n",
              "      <td>3246</td>\n",
              "      <td>8121</td>\n",
              "      <td>192.168.1.15</td>\n",
              "      <td>172.217.10.131</td>\n",
              "      <td>0</td>\n",
              "      <td>0</td>\n",
              "      <td>0</td>\n",
              "      <td>0</td>\n",
              "      <td>0</td>\n",
              "      <td>192.168.1.15</td>\n",
              "      <td>172.217.12.182</td>\n",
              "      <td>0</td>\n",
              "      <td>0</td>\n",
              "      <td>0</td>\n",
              "      <td>0</td>\n",
              "      <td>0</td>\n",
              "      <td>...</td>\n",
              "      <td>0</td>\n",
              "      <td>0</td>\n",
              "      <td>0</td>\n",
              "      <td>0</td>\n",
              "      <td>0</td>\n",
              "      <td>0</td>\n",
              "      <td>192.168.1.15</td>\n",
              "      <td>0</td>\n",
              "      <td>0</td>\n",
              "      <td>0</td>\n",
              "      <td>0</td>\n",
              "      <td>0</td>\n",
              "      <td>0</td>\n",
              "      <td>192.168.1.15</td>\n",
              "      <td>0</td>\n",
              "      <td>0</td>\n",
              "      <td>0</td>\n",
              "      <td>0</td>\n",
              "      <td>0</td>\n",
              "      <td>0</td>\n",
              "      <td>192.168.1.15</td>\n",
              "      <td>0.0.0.0</td>\n",
              "      <td>0</td>\n",
              "      <td>0</td>\n",
              "      <td>0</td>\n",
              "      <td>0</td>\n",
              "      <td>0</td>\n",
              "      <td>0</td>\n",
              "      <td>0</td>\n",
              "      <td>0</td>\n",
              "      <td>0</td>\n",
              "      <td>0</td>\n",
              "      <td>1533518611600</td>\n",
              "      <td>0.000000</td>\n",
              "      <td>576.841</td>\n",
              "      <td>0.000000</td>\n",
              "      <td>0.000000</td>\n",
              "      <td>-1</td>\n",
              "      <td>12.370</td>\n",
              "      <td>NoQualityInfo</td>\n",
              "    </tr>\n",
              "  </tbody>\n",
              "</table>\n",
              "<p>5 rows × 200 columns</p>\n",
              "</div>"
            ],
            "text/plain": [
              "       RelativeTime  PacketsSent  ...  KBytesReceived          label\n",
              "10              1.0            7  ...          16.467  NoQualityInfo\n",
              "36              3.6           14  ...          77.429          q144p\n",
              "6025            1.5            7  ...          16.534  NoQualityInfo\n",
              "6057            4.7           20  ...         140.715          q480p\n",
              "12024           0.4           16  ...          12.370  NoQualityInfo\n",
              "\n",
              "[5 rows x 200 columns]"
            ]
          },
          "metadata": {
            "tags": []
          },
          "execution_count": 36
        }
      ]
    },
    {
      "cell_type": "markdown",
      "metadata": {
        "id": "p2DrkDb2CphY",
        "colab_type": "text"
      },
      "source": [
        "Save pre-processed data"
      ]
    },
    {
      "cell_type": "code",
      "metadata": {
        "id": "AS3GTAlGCphZ",
        "colab_type": "code",
        "colab": {
          "base_uri": "https://localhost:8080/",
          "height": 35
        },
        "outputId": "1de2f690-a1d5-4dbb-eee5-1fb9a8a07b6b"
      },
      "source": [
        "filename = 'df.'+dataset_to_use+'_1.csv'\n",
        "df_small.to_csv(filename,index = None, header=True)\n",
        "print(filename, \" saved\")\n"
      ],
      "execution_count": 40,
      "outputs": [
        {
          "output_type": "stream",
          "text": [
            "df.B1_1.csv  saved\n"
          ],
          "name": "stdout"
        }
      ]
    },
    {
      "cell_type": "code",
      "metadata": {
        "id": "xXfUczKmJLzc",
        "colab_type": "code",
        "colab": {}
      },
      "source": [
        ""
      ],
      "execution_count": 0,
      "outputs": []
    }
  ]
}