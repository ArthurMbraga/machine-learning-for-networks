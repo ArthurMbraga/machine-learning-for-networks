{
  "nbformat": 4,
  "nbformat_minor": 0,
  "metadata": {
    "kernelspec": {
      "display_name": "Python 3",
      "language": "python",
      "name": "python3"
    },
    "language_info": {
      "codemirror_mode": {
        "name": "ipython",
        "version": 3
      },
      "file_extension": ".py",
      "mimetype": "text/x-python",
      "name": "python",
      "nbconvert_exporter": "python",
      "pygments_lexer": "ipython3",
      "version": "3.6.8"
    },
    "colab": {
      "name": "a.polynomial-regression.ipynb",
      "provenance": []
    }
  },
  "cells": [
    {
      "cell_type": "markdown",
      "metadata": {
        "id": "cbb2cpw7tyH2",
        "colab_type": "text"
      },
      "source": [
        "[![Open In Colab](https://colab.research.google.com/assets/colab-badge.svg)](https://colab.research.google.com/github/andreaaraldo/machine-learning-for-networks/blob/master/03.regression_contd-and-classification/a.polynomial-regression.ipynb)"
      ]
    },
    {
      "cell_type": "markdown",
      "metadata": {
        "id": "rr_26hqKtyH7",
        "colab_type": "text"
      },
      "source": [
        "Predict `BufferHealth` (seconds ahead in the buffer) only based on network measurements.\n",
        "\n",
        "**Why?**: The operator may decide to allocate more bandwidth to users whose buffer is suffering."
      ]
    },
    {
      "cell_type": "code",
      "metadata": {
        "id": "gP4C_WyCtyH_",
        "colab_type": "code",
        "outputId": "6af7b7ed-5cef-4344-ccc6-29790fcddcdd",
        "colab": {
          "base_uri": "https://localhost:8080/",
          "height": 464
        }
      },
      "source": [
        "import pandas as pd # For dataframes (tables)\n",
        "import matplotlib.pyplot as plt # For plots\n",
        "from sklearn.model_selection import train_test_split\n",
        "from sklearn.metrics import mean_squared_error\n",
        "from math import sqrt\n",
        "import numpy as np # For arange\n",
        "from sklearn.preprocessing import PolynomialFeatures\n",
        "from sklearn.pipeline import make_pipeline\n",
        "from sklearn.model_selection import GridSearchCV\n",
        "from sklearn.model_selection import cross_val_score, KFold\n",
        "\n",
        "\n",
        "# Load the functions I prepared for you\n",
        "!wget https://raw.githubusercontent.com/andreaaraldo/machine-learning-for-networks/master/course_library/andrea_models.py\n",
        "!wget https://raw.githubusercontent.com/andreaaraldo/machine-learning-for-networks/master/course_library/feature_engineering.py\n",
        "\n",
        "import feature_engineering                                 \n",
        "from andrea_models import AndreaLinearRegression"
      ],
      "execution_count": 1,
      "outputs": [
        {
          "output_type": "stream",
          "text": [
            "--2020-04-17 08:31:06--  https://raw.githubusercontent.com/andreaaraldo/machine-learning-for-networks/master/course_library/andrea_models.py\n",
            "Resolving raw.githubusercontent.com (raw.githubusercontent.com)... 151.101.0.133, 151.101.64.133, 151.101.128.133, ...\n",
            "Connecting to raw.githubusercontent.com (raw.githubusercontent.com)|151.101.0.133|:443... connected.\n",
            "HTTP request sent, awaiting response... 200 OK\n",
            "Length: 3190 (3.1K) [text/plain]\n",
            "Saving to: ‘andrea_models.py.3’\n",
            "\n",
            "\randrea_models.py.3    0%[                    ]       0  --.-KB/s               \randrea_models.py.3  100%[===================>]   3.12K  --.-KB/s    in 0s      \n",
            "\n",
            "2020-04-17 08:31:06 (46.5 MB/s) - ‘andrea_models.py.3’ saved [3190/3190]\n",
            "\n",
            "--2020-04-17 08:31:09--  https://raw.githubusercontent.com/andreaaraldo/machine-learning-for-networks/master/course_library/feature_engineering.py\n",
            "Resolving raw.githubusercontent.com (raw.githubusercontent.com)... 151.101.0.133, 151.101.64.133, 151.101.128.133, ...\n",
            "Connecting to raw.githubusercontent.com (raw.githubusercontent.com)|151.101.0.133|:443... connected.\n",
            "HTTP request sent, awaiting response... 200 OK\n",
            "Length: 2206 (2.2K) [text/plain]\n",
            "Saving to: ‘feature_engineering.py.3’\n",
            "\n",
            "feature_engineering 100%[===================>]   2.15K  --.-KB/s    in 0s      \n",
            "\n",
            "2020-04-17 08:31:09 (45.7 MB/s) - ‘feature_engineering.py.3’ saved [2206/2206]\n",
            "\n"
          ],
          "name": "stdout"
        },
        {
          "output_type": "stream",
          "text": [
            "/usr/local/lib/python3.6/dist-packages/statsmodels/tools/_testing.py:19: FutureWarning: pandas.util.testing is deprecated. Use the functions in the public API at pandas.testing instead.\n",
            "  import pandas.util.testing as tm\n"
          ],
          "name": "stderr"
        }
      ]
    },
    {
      "cell_type": "code",
      "metadata": {
        "id": "D8IBrJkytyIO",
        "colab_type": "code",
        "outputId": "37cee7ff-9e15-4583-d0a0-c7af23752010",
        "colab": {
          "base_uri": "https://localhost:8080/",
          "height": 233
        }
      },
      "source": [
        "dataset_to_use = 'B1'\n",
        "mydatasets_folder = \"https://raw.githubusercontent.com/andreaaraldo/machine-learning-for-networks/master/processed_datasets/requet/\"\n",
        "\n",
        "filename = \"df.\"+ dataset_to_use+\"_2.csv\"\n",
        "complete_name = mydatasets_folder+filename\n",
        "!wget $complete_name"
      ],
      "execution_count": 2,
      "outputs": [
        {
          "output_type": "stream",
          "text": [
            "--2020-04-17 08:31:11--  https://raw.githubusercontent.com/andreaaraldo/machine-learning-for-networks/master/processed_datasets/requet/df.B1_2.csv\n",
            "Resolving raw.githubusercontent.com (raw.githubusercontent.com)... 151.101.0.133, 151.101.64.133, 151.101.128.133, ...\n",
            "Connecting to raw.githubusercontent.com (raw.githubusercontent.com)|151.101.0.133|:443... connected.\n",
            "HTTP request sent, awaiting response... 200 OK\n",
            "Length: 58556 (57K) [text/plain]\n",
            "Saving to: ‘df.B1_2.csv.2’\n",
            "\n",
            "\rdf.B1_2.csv.2         0%[                    ]       0  --.-KB/s               \rdf.B1_2.csv.2       100%[===================>]  57.18K  --.-KB/s    in 0.02s   \n",
            "\n",
            "2020-04-17 08:31:11 (2.26 MB/s) - ‘df.B1_2.csv.2’ saved [58556/58556]\n",
            "\n"
          ],
          "name": "stdout"
        }
      ]
    },
    {
      "cell_type": "code",
      "metadata": {
        "id": "wciwIMW4uO38",
        "colab_type": "code",
        "colab": {}
      },
      "source": [
        "df = pd.read_csv(filename)"
      ],
      "execution_count": 0,
      "outputs": []
    },
    {
      "cell_type": "markdown",
      "metadata": {
        "id": "1HG1uyLstyIX",
        "colab_type": "text"
      },
      "source": [
        "# Univariate Polynomial Regression"
      ]
    },
    {
      "cell_type": "markdown",
      "metadata": {
        "id": "MKzzb7OmtyIa",
        "colab_type": "text"
      },
      "source": [
        "Let's check what are the most correlated features to `BufferHealth`."
      ]
    },
    {
      "cell_type": "code",
      "metadata": {
        "scrolled": false,
        "id": "7hooA9W4tyIe",
        "colab_type": "code",
        "outputId": "f1145e17-bde7-4a76-fcb9-a046b3d5e4cf",
        "colab": {
          "base_uri": "https://localhost:8080/",
          "height": 230
        }
      },
      "source": [
        "feats = feature_engineering.get_features_correlated_to_target(\n",
        "        df, target_feature='BufferHealth'\n",
        "        )\n",
        "feats"
      ],
      "execution_count": 4,
      "outputs": [
        {
          "output_type": "execute_result",
          "data": {
            "text/plain": [
              "BufferHealth          1.00\n",
              "BufferProgress_log    0.97\n",
              "BufferProgress        0.97\n",
              "BytesReceived0        0.61\n",
              "PacketsReceived       0.61\n",
              "                      ... \n",
              "Buffering              NaN\n",
              "Paused                 NaN\n",
              "Playing                NaN\n",
              "CollectData            NaN\n",
              "BufferValid            NaN\n",
              "Name: BufferHealth, Length: 147, dtype: float64"
            ]
          },
          "metadata": {
            "tags": []
          },
          "execution_count": 4
        }
      ]
    },
    {
      "cell_type": "markdown",
      "metadata": {
        "id": "b8z96TVityIm",
        "colab_type": "text"
      },
      "source": [
        "We can not use `BufferProgress`, as it is not a network-layer measure and the net operator would not have access to the buffer of users.\n",
        "\n",
        "`BytesReceived` is also highly correlated (to have more seconds-ahead, we need to download more)."
      ]
    },
    {
      "cell_type": "code",
      "metadata": {
        "scrolled": true,
        "id": "R1zDObpttyIp",
        "colab_type": "code",
        "outputId": "a6110112-b952-4bc4-8975-d10199e7854a",
        "colab": {
          "base_uri": "https://localhost:8080/",
          "height": 297
        }
      },
      "source": [
        "feature = 'BytesReceived'\n",
        "fig, ax = plt.subplots() # This creates just a canvas\n",
        "ax.scatter(df[feature],df['BufferHealth'],color='black',\n",
        "           s=2, label='all samples') # ax is the actual figure\n",
        "ax.set (xlabel=feature, ylabel='BufferHealth')"
      ],
      "execution_count": 5,
      "outputs": [
        {
          "output_type": "execute_result",
          "data": {
            "text/plain": [
              "[Text(0, 0.5, 'BufferHealth'), Text(0.5, 0, 'BytesReceived')]"
            ]
          },
          "metadata": {
            "tags": []
          },
          "execution_count": 5
        },
        {
          "output_type": "display_data",
          "data": {
            "image/png": "[encoded data removed]",
            "text/plain": [
              "<Figure size 432x288 with 1 Axes>"
            ]
          },
          "metadata": {
            "tags": [],
            "needs_background": "light"
          }
        }
      ]
    },
    {
      "cell_type": "markdown",
      "metadata": {
        "id": "4_nFz8nxtyIx",
        "colab_type": "text"
      },
      "source": [
        "Values are squashed on the left, let's use the log-transformed feature to see the dependency better."
      ]
    },
    {
      "cell_type": "code",
      "metadata": {
        "scrolled": false,
        "id": "1j3j6hxEtyI0",
        "colab_type": "code",
        "outputId": "c76feffa-5f97-49e8-a544-e6924b811db3",
        "colab": {
          "base_uri": "https://localhost:8080/",
          "height": 298
        }
      },
      "source": [
        "feature = 'BytesReceived_log'\n",
        "fig, ax = plt.subplots() # This creates just a canvas\n",
        "ax.scatter(df[feature],df['BufferHealth'],color='black',\n",
        "           s=2, label='all samples') # ax is the actual figure\n",
        "ax.set (xlabel=feature, ylabel='BufferHealth')"
      ],
      "execution_count": 6,
      "outputs": [
        {
          "output_type": "execute_result",
          "data": {
            "text/plain": [
              "[Text(0, 0.5, 'BufferHealth'), Text(0.5, 0, 'BytesReceived_log')]"
            ]
          },
          "metadata": {
            "tags": []
          },
          "execution_count": 6
        },
        {
          "output_type": "display_data",
          "data": {
            "image/png": "[encoded data removed]",
            "text/plain": [
              "<Figure size 432x288 with 1 Axes>"
            ]
          },
          "metadata": {
            "tags": [],
            "needs_background": "light"
          }
        }
      ]
    },
    {
      "cell_type": "markdown",
      "metadata": {
        "id": "NdjY0Th5tyI7",
        "colab_type": "text"
      },
      "source": [
        "The dependency is clearer now, although, in terms of Pearson's correlation coefficient \n",
        "$$\n",
        "\\rho(\\texttt{BytesReceived},\\texttt{BufferHealth}) \\ge \n",
        "\\rho(\\texttt{BytesReceived_log},\\texttt{BufferHealth})\n",
        "$$ \n",
        "\n",
        "Don't be surprised: Pearson's correlation only captures linear dependency and we see that here the dependency is not linear"
      ]
    },
    {
      "cell_type": "code",
      "metadata": {
        "id": "7M7YsTgJtyI8",
        "colab_type": "code",
        "colab": {}
      },
      "source": [
        "df_train, df_test = train_test_split(df, test_size=0.3, random_state=2)"
      ],
      "execution_count": 0,
      "outputs": []
    },
    {
      "cell_type": "markdown",
      "metadata": {
        "id": "eTMX1bavtyJE",
        "colab_type": "text"
      },
      "source": [
        "Let's put in evidence the test samples"
      ]
    },
    {
      "cell_type": "code",
      "metadata": {
        "scrolled": true,
        "id": "u3cASWiqtyJG",
        "colab_type": "code",
        "outputId": "c8325770-e5ea-464a-ac85-82a17fd0cb12",
        "colab": {
          "base_uri": "https://localhost:8080/",
          "height": 280
        }
      },
      "source": [
        "ax.scatter(df_test[feature],df_test['BufferHealth'],color='red',\n",
        "           s=2, label='test') # ax is the actual figure\n",
        "fig"
      ],
      "execution_count": 8,
      "outputs": [
        {
          "output_type": "execute_result",
          "data": {
            "image/png": "[encoded data removed]",
            "text/plain": [
              "<Figure size 432x288 with 1 Axes>"
            ]
          },
          "metadata": {
            "tags": []
          },
          "execution_count": 8
        }
      ]
    },
    {
      "cell_type": "markdown",
      "metadata": {
        "id": "Q0eEORmItyJM",
        "colab_type": "text"
      },
      "source": [
        "OLS linear regression"
      ]
    },
    {
      "cell_type": "code",
      "metadata": {
        "scrolled": true,
        "id": "_VMnez7ptyJO",
        "colab_type": "code",
        "outputId": "b42e9818-2565-4a88-e3d9-7b68c62df31c",
        "colab": {
          "base_uri": "https://localhost:8080/",
          "height": 482
        }
      },
      "source": [
        "feature = 'BytesReceived_log'\n",
        "target = 'BufferHealth'\n",
        "X_train = df_train[feature].values.reshape(-1,1)\n",
        "X_test = df_test[feature].values.reshape(-1,1)\n",
        "y_train = df_train[target].values\n",
        "y_test = df_test[target].values\n",
        "\n",
        "model = AndreaLinearRegression(feature)\n",
        "model.fit(X_train, y_train)\n",
        "model.summary()"
      ],
      "execution_count": 9,
      "outputs": [
        {
          "output_type": "stream",
          "text": [
            "                            OLS Regression Results                            \n",
            "==============================================================================\n",
            "Dep. Variable:                      y   R-squared:                       0.369\n",
            "Model:                            OLS   Adj. R-squared:                  0.348\n",
            "Method:                 Least Squares   F-statistic:                     17.51\n",
            "Date:                Fri, 17 Apr 2020   Prob (F-statistic):           0.000229\n",
            "Time:                        08:31:29   Log-Likelihood:                -64.395\n",
            "No. Observations:                  32   AIC:                             132.8\n",
            "Df Residuals:                      30   BIC:                             135.7\n",
            "Df Model:                           1                                         \n",
            "Covariance Type:            nonrobust                                         \n",
            "==============================================================================\n",
            "                 coef    std err          t      P>|t|      [0.025      0.975]\n",
            "------------------------------------------------------------------------------\n",
            "const        -13.7603      4.677     -2.942      0.006     -23.312      -4.209\n",
            "x1             1.6199      0.387      4.185      0.000       0.829       2.410\n",
            "==============================================================================\n",
            "Omnibus:                       11.109   Durbin-Watson:                   1.898\n",
            "Prob(Omnibus):                  0.004   Jarque-Bera (JB):               10.120\n",
            "Skew:                           1.179   Prob(JB):                      0.00635\n",
            "Kurtosis:                       4.423   Cond. No.                         172.\n",
            "==============================================================================\n",
            "\n",
            "Warnings:\n",
            "[1] Standard Errors assume that the covariance matrix of the errors is correctly specified.\n"
          ],
          "name": "stdout"
        }
      ]
    },
    {
      "cell_type": "markdown",
      "metadata": {
        "id": "RNNgAx-KtyJW",
        "colab_type": "text"
      },
      "source": [
        "The model is significant (p-values are low). Let's test it."
      ]
    },
    {
      "cell_type": "code",
      "metadata": {
        "id": "bhQXGDqgtyJX",
        "colab_type": "code",
        "outputId": "df5123a7-62a9-47ee-8013-51714c8c30a1",
        "colab": {
          "base_uri": "https://localhost:8080/",
          "height": 35
        }
      },
      "source": [
        "y_pred = model.predict(X_test)\n",
        "RMSE_linear = sqrt(mean_squared_error(y_pred, y_test))\n",
        "print('The test error is of ',RMSE_linear,' seconds')"
      ],
      "execution_count": 10,
      "outputs": [
        {
          "output_type": "stream",
          "text": [
            "The test error is of  3.722808230494189  seconds\n"
          ],
          "name": "stdout"
        }
      ]
    },
    {
      "cell_type": "markdown",
      "metadata": {
        "id": "YRLvyS1AtyJe",
        "colab_type": "text"
      },
      "source": [
        "Let's plot the regression line"
      ]
    },
    {
      "cell_type": "code",
      "metadata": {
        "scrolled": true,
        "id": "jeo4qbVRtyJg",
        "colab_type": "code",
        "outputId": "bc3cfefb-0277-41ea-e8e0-4e619c32f7cf",
        "colab": {
          "base_uri": "https://localhost:8080/",
          "height": 280
        }
      },
      "source": [
        "interval = np.arange(10, 15, 0.01).reshape(-1,1)\n",
        "h_values = model.predict(interval)\n",
        "ax.plot(interval,h_values, label=\"Linear \")\n",
        "ax.legend()\n",
        "fig"
      ],
      "execution_count": 11,
      "outputs": [
        {
          "output_type": "execute_result",
          "data": {
            "image/png": "[encoded data removed]",
            "text/plain": [
              "<Figure size 432x288 with 1 Axes>"
            ]
          },
          "metadata": {
            "tags": []
          },
          "execution_count": 11
        }
      ]
    },
    {
      "cell_type": "markdown",
      "metadata": {
        "id": "oYy0iVnEtyJq",
        "colab_type": "text"
      },
      "source": [
        "Not great. We would like to have a curve more flexible than a rigid straight line."
      ]
    },
    {
      "cell_type": "markdown",
      "metadata": {
        "id": "De9Z2HrytyJs",
        "colab_type": "text"
      },
      "source": [
        "To run a quadratic regression, we first need to add to the column `BytesReceived_log` the column $\\texttt{BytesReceived_log}^2$."
      ]
    },
    {
      "cell_type": "code",
      "metadata": {
        "scrolled": true,
        "id": "Lk5Y8d2ttyJu",
        "colab_type": "code",
        "outputId": "33137811-873b-4b31-9f34-5d426ce5ecf9",
        "colab": {
          "base_uri": "https://localhost:8080/",
          "height": 586
        }
      },
      "source": [
        "X_train_poly = PolynomialFeatures(degree=2, \n",
        "                include_bias=False).fit_transform(X_train)\n",
        "X_train_poly"
      ],
      "execution_count": 12,
      "outputs": [
        {
          "output_type": "execute_result",
          "data": {
            "text/plain": [
              "array([[ 10.37402229, 107.62033849],\n",
              "       [ 12.16272141, 147.93179218],\n",
              "       [ 11.68839023, 136.61846627],\n",
              "       [ 11.25940002, 126.77408887],\n",
              "       [ 12.32598674, 151.92994917],\n",
              "       [ 11.8706069 , 140.91130823],\n",
              "       [ 12.99278303, 168.81241077],\n",
              "       [ 13.66424804, 186.71167441],\n",
              "       [ 11.28062764, 127.25255997],\n",
              "       [ 11.32280558, 128.2059262 ],\n",
              "       [ 10.23426503, 104.74018077],\n",
              "       [ 11.25712958, 126.72296641],\n",
              "       [ 12.53561377, 157.14161271],\n",
              "       [ 11.47326946, 131.63591203],\n",
              "       [ 13.39753148, 179.49384964],\n",
              "       [ 11.71440402, 137.22726145],\n",
              "       [ 11.98382245, 143.61200039],\n",
              "       [ 11.28156071, 127.2736121 ],\n",
              "       [ 13.24652779, 175.4704984 ],\n",
              "       [ 13.14613264, 172.82080331],\n",
              "       [ 11.31062567, 127.93025294],\n",
              "       [ 12.54261274, 157.31713427],\n",
              "       [ 13.39098953, 179.31860069],\n",
              "       [ 13.51802997, 182.73713426],\n",
              "       [ 12.21554762, 149.21960356],\n",
              "       [ 12.466088  , 155.40335001],\n",
              "       [ 11.61205561, 134.83983554],\n",
              "       [ 11.95845068, 143.0045426 ],\n",
              "       [ 11.67068107, 136.20479659],\n",
              "       [ 12.05954864, 145.43271345],\n",
              "       [ 11.85207982, 140.47179596],\n",
              "       [ 11.83681169, 140.11011089]])"
            ]
          },
          "metadata": {
            "tags": []
          },
          "execution_count": 12
        }
      ]
    },
    {
      "cell_type": "code",
      "metadata": {
        "id": "4txqKkuEtyJ1",
        "colab_type": "code",
        "outputId": "3995fd44-a362-4e29-df1a-2a31e28a4f29",
        "colab": {
          "base_uri": "https://localhost:8080/",
          "height": 535
        }
      },
      "source": [
        "model = AndreaLinearRegression()\n",
        "model.fit(X_train_poly, y_train)\n",
        "model.summary()"
      ],
      "execution_count": 13,
      "outputs": [
        {
          "output_type": "stream",
          "text": [
            "                            OLS Regression Results                            \n",
            "==============================================================================\n",
            "Dep. Variable:                      y   R-squared:                       0.414\n",
            "Model:                            OLS   Adj. R-squared:                  0.373\n",
            "Method:                 Least Squares   F-statistic:                     10.23\n",
            "Date:                Fri, 17 Apr 2020   Prob (F-statistic):           0.000435\n",
            "Time:                        08:31:53   Log-Likelihood:                -63.209\n",
            "No. Observations:                  32   AIC:                             132.4\n",
            "Df Residuals:                      29   BIC:                             136.8\n",
            "Df Model:                           2                                         \n",
            "Covariance Type:            nonrobust                                         \n",
            "==============================================================================\n",
            "                 coef    std err          t      P>|t|      [0.025      0.975]\n",
            "------------------------------------------------------------------------------\n",
            "const         64.2576     52.452      1.225      0.230     -43.018     171.533\n",
            "x1           -11.3349      8.684     -1.305      0.202     -29.097       6.427\n",
            "x2             0.5351      0.358      1.493      0.146      -0.198       1.268\n",
            "==============================================================================\n",
            "Omnibus:                       18.793   Durbin-Watson:                   2.102\n",
            "Prob(Omnibus):                  0.000   Jarque-Bera (JB):               24.331\n",
            "Skew:                           1.572   Prob(JB):                     5.21e-06\n",
            "Kurtosis:                       5.893   Cond. No.                     2.43e+04\n",
            "==============================================================================\n",
            "\n",
            "Warnings:\n",
            "[1] Standard Errors assume that the covariance matrix of the errors is correctly specified.\n",
            "[2] The condition number is large, 2.43e+04. This might indicate that there are\n",
            "strong multicollinearity or other numerical problems.\n"
          ],
          "name": "stdout"
        }
      ]
    },
    {
      "cell_type": "markdown",
      "metadata": {
        "id": "VAzMIt_QtyJ6",
        "colab_type": "text"
      },
      "source": [
        "Let's plot the line"
      ]
    },
    {
      "cell_type": "code",
      "metadata": {
        "id": "5nZV1h7HtyJ8",
        "colab_type": "code",
        "outputId": "b8d2fe0f-f868-4dd9-b440-b2fad583e7ef",
        "colab": {
          "base_uri": "https://localhost:8080/",
          "height": 280
        }
      },
      "source": [
        "interval = interval.reshape(-1,1)\n",
        "interval_poly = PolynomialFeatures(degree=2, \n",
        "                include_bias=False).fit_transform(interval)\n",
        "h_values = model.predict(interval_poly)\n",
        "\n",
        "ax.plot(interval,h_values, label=\"Quadratic\")\n",
        "ax.legend()\n",
        "fig"
      ],
      "execution_count": 14,
      "outputs": [
        {
          "output_type": "execute_result",
          "data": {
            "image/png": "[encoded data removed]",
            "text/plain": [
              "<Figure size 432x288 with 1 Axes>"
            ]
          },
          "metadata": {
            "tags": []
          },
          "execution_count": 14
        }
      ]
    },
    {
      "cell_type": "code",
      "metadata": {
        "id": "buV29lH6tyKB",
        "colab_type": "code",
        "outputId": "ade92bb1-5e4d-4e73-825f-550265a8e674",
        "colab": {
          "base_uri": "https://localhost:8080/",
          "height": 55
        }
      },
      "source": [
        "X_test_poly = PolynomialFeatures(degree=2, \n",
        "                include_bias=False).fit_transform(X_test)\n",
        "# include_bias=False, since the bias term will be added\n",
        "# by AndreaLinearRegression\n",
        "\n",
        "y_train_pred = model.predict(X_train_poly)\n",
        "RMSE_train_quadr = sqrt(mean_squared_error(y_train_pred, y_train))\n",
        "\n",
        "y_pred = model.predict(X_test_poly)\n",
        "RMSE_quadr = sqrt(mean_squared_error(y_pred, y_test))\n",
        "print('The test error is ',RMSE_quadr,\n",
        "          ' seconds; with linear regression it was', RMSE_linear)"
      ],
      "execution_count": 15,
      "outputs": [
        {
          "output_type": "stream",
          "text": [
            "The test error is  3.4349359394194794  seconds; with linear regression it was 3.722808230494189\n"
          ],
          "name": "stdout"
        }
      ]
    },
    {
      "cell_type": "markdown",
      "metadata": {
        "id": "iiWjqE7htyKF",
        "colab_type": "text"
      },
      "source": [
        "Let's try with cubic regression"
      ]
    },
    {
      "cell_type": "code",
      "metadata": {
        "id": "v67qNsxOtyKH",
        "colab_type": "code",
        "outputId": "44518f46-8efc-485e-9190-13ba69c54840",
        "colab": {
          "base_uri": "https://localhost:8080/",
          "height": 336
        },
        "cellView": "code"
      },
      "source": [
        "#@title Default title text\n",
        "mydegree = 3\n",
        "X_train_poly = PolynomialFeatures(degree=mydegree, \n",
        "                include_bias=False).fit_transform(X_train)\n",
        "model = AndreaLinearRegression()\n",
        "model.fit(X_train_poly, y_train)\n",
        "\n",
        "X_test_poly = PolynomialFeatures(degree=mydegree, \n",
        "                include_bias=False).fit_transform(\n",
        "                        X_test)\n",
        "                \n",
        "y_train_pred = model.predict(X_train_poly)\n",
        "RMSE_train_cub = sqrt(mean_squared_error(y_train_pred, y_train))\n",
        "\n",
        "y_pred = model.predict(X_test_poly)\n",
        "RMSE_cub = sqrt(mean_squared_error(y_pred, y_test))\n",
        "print(\"train RMSE: \", RMSE_train_cub, \" seconds; With quadratic regression it was \",\n",
        "             RMSE_train_quadr)\n",
        "print(\"test RMSE: \", RMSE_cub, \" seconds; With quadratic regression it was \",\n",
        "             RMSE_quadr)\n",
        "\n",
        "### plot\n",
        "interval_poly = PolynomialFeatures(degree=mydegree, \n",
        "                include_bias=False).fit_transform(interval)\n",
        "h_values = model.predict(interval_poly)\n",
        "\n",
        "ax.plot(interval,h_values, label=\"Cubic\")\n",
        "ax.legend()\n",
        "fig"
      ],
      "execution_count": 16,
      "outputs": [
        {
          "output_type": "stream",
          "text": [
            "train RMSE:  1.736097166802031  seconds; With quadratic regression it was  1.7443082879348246\n",
            "test RMSE:  3.5062243994987474  seconds; With quadratic regression it was  3.4349359394194794\n"
          ],
          "name": "stdout"
        },
        {
          "output_type": "execute_result",
          "data": {
            "image/png": "[encoded data removed]",
            "text/plain": [
              "<Figure size 432x288 with 1 Axes>"
            ]
          },
          "metadata": {
            "tags": []
          },
          "execution_count": 16
        }
      ]
    },
    {
      "cell_type": "markdown",
      "metadata": {
        "id": "ZFZzKwAXtyKP",
        "colab_type": "text"
      },
      "source": [
        "Let's increase a lot the degree of the polynomial"
      ]
    },
    {
      "cell_type": "code",
      "metadata": {
        "scrolled": false,
        "id": "0UG48ZqgtyKS",
        "colab_type": "code",
        "outputId": "de1d908b-06df-498f-a904-03871c73ef64",
        "colab": {
          "base_uri": "https://localhost:8080/",
          "height": 302
        }
      },
      "source": [
        "mydegree = 25\n",
        "X_train_poly = PolynomialFeatures(degree=mydegree, \n",
        "                include_bias=False).fit_transform(X_train)\n",
        "model = AndreaLinearRegression()\n",
        "model.fit(X_train_poly, y_train)\n",
        "\n",
        "X_test_poly = PolynomialFeatures(degree=mydegree, \n",
        "                include_bias=False).fit_transform(\n",
        "                        X_test)\n",
        "y_pred = model.predict(X_test_poly)\n",
        "RMSE_now = sqrt(mean_squared_error(y_pred, y_test))\n",
        "print(\"RMSE: \", RMSE_now)\n",
        "\n",
        "### plot\n",
        "interval_poly = PolynomialFeatures(degree=mydegree, \n",
        "                include_bias=False).fit_transform(interval)\n",
        "h_values = model.predict(interval_poly)\n",
        "\n",
        "\n",
        "ax.plot(interval,h_values, label=\"Degree \"+str(mydegree), color=\"gray\" )\n",
        "ax.legend()\n",
        "ax.set_ylim([0, 16] )\n",
        "fig"
      ],
      "execution_count": 17,
      "outputs": [
        {
          "output_type": "stream",
          "text": [
            "RMSE:  3.7506914858168487\n"
          ],
          "name": "stdout"
        },
        {
          "output_type": "execute_result",
          "data": {
            "image/png": "[encoded data removed]",
            "text/plain": [
              "<Figure size 432x288 with 1 Axes>"
            ]
          },
          "metadata": {
            "tags": []
          },
          "execution_count": 17
        }
      ]
    },
    {
      "cell_type": "markdown",
      "metadata": {
        "id": "8h4fIdAHtyKW",
        "colab_type": "text"
      },
      "source": [
        "This is a typical example of overfit.\n",
        "\n",
        "The model is so flexible that it can adapt **too** well to training data. \n"
      ]
    },
    {
      "cell_type": "markdown",
      "metadata": {
        "id": "JsAY89vFtyKY",
        "colab_type": "text"
      },
      "source": [
        "\n",
        "**Generalization** means instead to \"step back\" from the observed data and not adapting too much"
      ]
    },
    {
      "cell_type": "markdown",
      "metadata": {
        "id": "GuFxRe8KtyKY",
        "colab_type": "text"
      },
      "source": [
        "# Pipelines\n",
        "\n",
        "We have repeated so far a lot of ugly code:"
      ]
    },
    {
      "cell_type": "code",
      "metadata": {
        "id": "_Oqm5GkUtyKa",
        "colab_type": "code",
        "colab": {}
      },
      "source": [
        "X_train_poly = PolynomialFeatures(degree=3, \n",
        "                include_bias=False).fit_transform(X_train)\n",
        "model = AndreaLinearRegression()\n",
        "model.fit(X_train_poly, y_train)\n",
        "\n",
        "X_test_poly = PolynomialFeatures(degree=3, \n",
        "                include_bias=False).fit_transform(X_test)\n",
        "y_pred = model.predict(X_test_poly)"
      ],
      "execution_count": 0,
      "outputs": []
    },
    {
      "cell_type": "markdown",
      "metadata": {
        "id": "mov7DIz1tyKe",
        "colab_type": "text"
      },
      "source": [
        "We can write things in a more compact way, using pipelines"
      ]
    },
    {
      "cell_type": "code",
      "metadata": {
        "id": "vwprM9TatyKf",
        "colab_type": "code",
        "colab": {}
      },
      "source": [
        "def MyPolynomialRegression(degree=2, include_bias=False):\n",
        "    return make_pipeline(PolynomialFeatures(degree, include_bias), \n",
        "                         AndreaLinearRegression())\n"
      ],
      "execution_count": 0,
      "outputs": []
    },
    {
      "cell_type": "markdown",
      "metadata": {
        "id": "G5w8H-XYtyKi",
        "colab_type": "text"
      },
      "source": [
        "Now `my_poly_regression` is an object which has a `fit` and a `predict` function.\n",
        "\n",
        "`fit` is equivalent to the previous lines"
      ]
    },
    {
      "cell_type": "code",
      "metadata": {
        "id": "ubj0uqCktyKl",
        "colab_type": "code",
        "colab": {}
      },
      "source": [
        "model = MyPolynomialRegression(degree=3)\n",
        "model.fit(X_train, y_train) # Equivalent to lines 1-3\n",
        "y_pred = model.predict(X_test) # Equivalent to lines 6-8"
      ],
      "execution_count": 0,
      "outputs": []
    },
    {
      "cell_type": "code",
      "metadata": {
        "id": "BwCPi3aotyKn",
        "colab_type": "code",
        "outputId": "7a7321cf-e4d2-43f1-faff-073d643eab7d",
        "colab": {
          "base_uri": "https://localhost:8080/",
          "height": 35
        }
      },
      "source": [
        "sqrt(mean_squared_error(y_test,y_pred))"
      ],
      "execution_count": 21,
      "outputs": [
        {
          "output_type": "execute_result",
          "data": {
            "text/plain": [
              "3.5062243994987474"
            ]
          },
          "metadata": {
            "tags": []
          },
          "execution_count": 21
        }
      ]
    },
    {
      "cell_type": "markdown",
      "metadata": {
        "id": "7Ep8MVqStyKs",
        "colab_type": "text"
      },
      "source": [
        "# Grid search"
      ]
    },
    {
      "cell_type": "markdown",
      "metadata": {
        "id": "AEHsLpqbtyKv",
        "colab_type": "text"
      },
      "source": [
        "We now train different regressions, each with a different degree, and evaluate each of them via cross-validation"
      ]
    },
    {
      "cell_type": "code",
      "metadata": {
        "scrolled": true,
        "id": "wL3k5b5qtyKw",
        "colab_type": "code",
        "outputId": "e2e5622a-32b2-4088-fa86-1145d854bfa2",
        "colab": {
          "base_uri": "https://localhost:8080/",
          "height": 606
        }
      },
      "source": [
        "parameters_to_test = {'polynomialfeatures__degree': np.arange(1,30)}\n",
        "k_fold = KFold(n_splits=5, shuffle=True, random_state=6)\n",
        "\n",
        "grid = GridSearchCV( MyPolynomialRegression(), parameters_to_test,\n",
        "                   cv = k_fold, scoring='neg_mean_squared_error')\n",
        "grid.get_params()"
      ],
      "execution_count": 22,
      "outputs": [
        {
          "output_type": "execute_result",
          "data": {
            "text/plain": [
              "{'cv': KFold(n_splits=5, random_state=6, shuffle=True),\n",
              " 'error_score': nan,\n",
              " 'estimator': Pipeline(memory=None,\n",
              "          steps=[('polynomialfeatures',\n",
              "                  PolynomialFeatures(degree=2, include_bias=True,\n",
              "                                     interaction_only=False, order='C')),\n",
              "                 ('andrealinearregression',\n",
              "                  AndreaLinearRegression(fit_intercept=True))],\n",
              "          verbose=False),\n",
              " 'estimator__andrealinearregression': AndreaLinearRegression(fit_intercept=True),\n",
              " 'estimator__andrealinearregression__fit_intercept': True,\n",
              " 'estimator__memory': None,\n",
              " 'estimator__polynomialfeatures': PolynomialFeatures(degree=2, include_bias=True, interaction_only=False,\n",
              "                    order='C'),\n",
              " 'estimator__polynomialfeatures__degree': 2,\n",
              " 'estimator__polynomialfeatures__include_bias': True,\n",
              " 'estimator__polynomialfeatures__interaction_only': False,\n",
              " 'estimator__polynomialfeatures__order': 'C',\n",
              " 'estimator__steps': [('polynomialfeatures',\n",
              "   PolynomialFeatures(degree=2, include_bias=True, interaction_only=False,\n",
              "                      order='C')),\n",
              "  ('andrealinearregression', AndreaLinearRegression(fit_intercept=True))],\n",
              " 'estimator__verbose': False,\n",
              " 'iid': 'deprecated',\n",
              " 'n_jobs': None,\n",
              " 'param_grid': {'polynomialfeatures__degree': array([ 1,  2,  3,  4,  5,  6,  7,  8,  9, 10, 11, 12, 13, 14, 15, 16, 17,\n",
              "         18, 19, 20, 21, 22, 23, 24, 25, 26, 27, 28, 29])},\n",
              " 'pre_dispatch': '2*n_jobs',\n",
              " 'refit': True,\n",
              " 'return_train_score': False,\n",
              " 'scoring': 'neg_mean_squared_error',\n",
              " 'verbose': 0}"
            ]
          },
          "metadata": {
            "tags": []
          },
          "execution_count": 22
        }
      ]
    },
    {
      "cell_type": "code",
      "metadata": {
        "scrolled": true,
        "id": "57pcT0eZtyKz",
        "colab_type": "code",
        "outputId": "230a3dd8-169f-4664-e6b2-355315b2d821",
        "colab": {
          "base_uri": "https://localhost:8080/",
          "height": 322
        }
      },
      "source": [
        "grid.fit(X_train, y_train)"
      ],
      "execution_count": 23,
      "outputs": [
        {
          "output_type": "execute_result",
          "data": {
            "text/plain": [
              "GridSearchCV(cv=KFold(n_splits=5, random_state=6, shuffle=True),\n",
              "             error_score=nan,\n",
              "             estimator=Pipeline(memory=None,\n",
              "                                steps=[('polynomialfeatures',\n",
              "                                        PolynomialFeatures(degree=2,\n",
              "                                                           include_bias=True,\n",
              "                                                           interaction_only=False,\n",
              "                                                           order='C')),\n",
              "                                       ('andrealinearregression',\n",
              "                                        AndreaLinearRegression(fit_intercept=True))],\n",
              "                                verbose=False),\n",
              "             iid='deprecated', n_jobs=None,\n",
              "             param_grid={'polynomialfeatures__degree': array([ 1,  2,  3,  4,  5,  6,  7,  8,  9, 10, 11, 12, 13, 14, 15, 16, 17,\n",
              "       18, 19, 20, 21, 22, 23, 24, 25, 26, 27, 28, 29])},\n",
              "             pre_dispatch='2*n_jobs', refit=True, return_train_score=False,\n",
              "             scoring='neg_mean_squared_error', verbose=0)"
            ]
          },
          "metadata": {
            "tags": []
          },
          "execution_count": 23
        }
      ]
    },
    {
      "cell_type": "markdown",
      "metadata": {
        "id": "WNSQmOtBtyK2",
        "colab_type": "text"
      },
      "source": [
        "In the following we see:\n",
        "* For each split, the test error per each degree\n",
        "* For each degree, the score averaged among all the splits\n",
        "* For each degree, which position it is in the rank of the best ones"
      ]
    },
    {
      "cell_type": "code",
      "metadata": {
        "scrolled": false,
        "id": "z395DV_1tyK3",
        "colab_type": "code",
        "outputId": "1fbb1345-ba77-4ac8-9f86-eb3ce8a767b2",
        "colab": {
          "base_uri": "https://localhost:8080/",
          "height": 1000
        }
      },
      "source": [
        "grid.cv_results_"
      ],
      "execution_count": 24,
      "outputs": [
        {
          "output_type": "execute_result",
          "data": {
            "text/plain": [
              "{'mean_fit_time': array([0.00152998, 0.00075612, 0.00077238, 0.00080924, 0.00078993,\n",
              "        0.00081677, 0.00082116, 0.0008317 , 0.00084481, 0.00085912,\n",
              "        0.00089111, 0.00113516, 0.0009922 , 0.00089493, 0.00090866,\n",
              "        0.00091653, 0.00091949, 0.00092983, 0.00102873, 0.00097699,\n",
              "        0.00098548, 0.00103173, 0.00100183, 0.00101662, 0.00102754,\n",
              "        0.00100656, 0.00117068, 0.00158424, 0.00192037]),\n",
              " 'mean_score_time': array([0.00101829, 0.00043592, 0.00046878, 0.00047569, 0.00048566,\n",
              "        0.00047889, 0.00049138, 0.00056624, 0.00050702, 0.00050278,\n",
              "        0.00056458, 0.0006485 , 0.00061221, 0.00051804, 0.0005343 ,\n",
              "        0.00053124, 0.00053349, 0.00058169, 0.00054255, 0.00052371,\n",
              "        0.00056615, 0.00056639, 0.00057011, 0.00055161, 0.00056429,\n",
              "        0.00058122, 0.00072727, 0.00085759, 0.00084248]),\n",
              " 'mean_test_score': array([  -3.91198371,   -3.58565749,   -3.87316569,   -4.51408536,\n",
              "          -4.76094885,   -4.08801664,   -4.17532714,   -4.43059445,\n",
              "          -4.85793334,   -5.50765019,   -6.46504956,   -7.84471097,\n",
              "          -9.78797041,  -12.45928176,  -16.0432654 ,  -20.74342833,\n",
              "         -26.78201741,  -34.40271914,  -43.87087663,  -55.48518995,\n",
              "         -69.57783483,  -86.5079749 , -106.74938949, -130.80254645,\n",
              "        -159.33062143, -193.19402617, -233.5356224 , -281.83517164,\n",
              "        -340.19263245]),\n",
              " 'param_polynomialfeatures__degree': masked_array(data=[1, 2, 3, 4, 5, 6, 7, 8, 9, 10, 11, 12, 13, 14, 15, 16,\n",
              "                    17, 18, 19, 20, 21, 22, 23, 24, 25, 26, 27, 28, 29],\n",
              "              mask=[False, False, False, False, False, False, False, False,\n",
              "                    False, False, False, False, False, False, False, False,\n",
              "                    False, False, False, False, False, False, False, False,\n",
              "                    False, False, False, False, False],\n",
              "        fill_value='?',\n",
              "             dtype=object),\n",
              " 'params': [{'polynomialfeatures__degree': 1},\n",
              "  {'polynomialfeatures__degree': 2},\n",
              "  {'polynomialfeatures__degree': 3},\n",
              "  {'polynomialfeatures__degree': 4},\n",
              "  {'polynomialfeatures__degree': 5},\n",
              "  {'polynomialfeatures__degree': 6},\n",
              "  {'polynomialfeatures__degree': 7},\n",
              "  {'polynomialfeatures__degree': 8},\n",
              "  {'polynomialfeatures__degree': 9},\n",
              "  {'polynomialfeatures__degree': 10},\n",
              "  {'polynomialfeatures__degree': 11},\n",
              "  {'polynomialfeatures__degree': 12},\n",
              "  {'polynomialfeatures__degree': 13},\n",
              "  {'polynomialfeatures__degree': 14},\n",
              "  {'polynomialfeatures__degree': 15},\n",
              "  {'polynomialfeatures__degree': 16},\n",
              "  {'polynomialfeatures__degree': 17},\n",
              "  {'polynomialfeatures__degree': 18},\n",
              "  {'polynomialfeatures__degree': 19},\n",
              "  {'polynomialfeatures__degree': 20},\n",
              "  {'polynomialfeatures__degree': 21},\n",
              "  {'polynomialfeatures__degree': 22},\n",
              "  {'polynomialfeatures__degree': 23},\n",
              "  {'polynomialfeatures__degree': 24},\n",
              "  {'polynomialfeatures__degree': 25},\n",
              "  {'polynomialfeatures__degree': 26},\n",
              "  {'polynomialfeatures__degree': 27},\n",
              "  {'polynomialfeatures__degree': 28},\n",
              "  {'polynomialfeatures__degree': 29}],\n",
              " 'rank_test_score': array([ 3,  1,  2,  7,  8,  4,  5,  6,  9, 10, 11, 12, 13, 14, 15, 16, 17,\n",
              "        18, 19, 20, 21, 22, 23, 24, 25, 26, 27, 28, 29], dtype=int32),\n",
              " 'split0_test_score': array([   -6.55891136,    -6.03395589,    -6.06172387,    -6.83715488,\n",
              "           -5.95357871,    -5.74227176,    -6.39979621,    -7.59836558,\n",
              "           -9.59337652,   -12.7218073 ,   -17.42318394,   -24.24398872,\n",
              "          -33.84838974,   -47.02177275,   -64.66981377,   -87.81868334,\n",
              "         -117.60994051,  -155.30103033,  -202.25249727,  -259.97966068,\n",
              "         -330.1518436 ,  -414.56356143,  -515.57635273,  -635.68350458,\n",
              "         -778.18964987,  -947.38635349, -1148.97871976, -1390.35467372,\n",
              "        -1682.00574232]),\n",
              " 'split1_test_score': array([-1.88999414, -1.61694611, -1.58881961, -1.5001704 , -1.48251717,\n",
              "        -1.073963  , -1.03781089, -1.01353535, -1.00743805, -1.02529749,\n",
              "        -1.07546876, -1.16959142, -1.32036058, -1.53618366, -1.81346492,\n",
              "        -2.13187219, -2.45777281, -2.7546314 , -2.99431515, -3.16181433,\n",
              "        -3.25509783, -3.28093806, -3.25051101, -3.17622164, -3.07030581,\n",
              "        -2.94358045, -2.80574131, -2.66629934, -2.53251582]),\n",
              " 'split2_test_score': array([ -4.79988541,  -5.61096374,  -6.38437097,  -9.22394291,\n",
              "         -8.42412281,  -9.32652183,  -9.26377371,  -9.18630649,\n",
              "         -9.07461261,  -8.95319977,  -8.83794988,  -8.74580366,\n",
              "         -8.69374685,  -8.69338939,  -8.75000126,  -8.86247043,\n",
              "         -9.0246848 ,  -9.22766216,  -9.46159865,  -9.71723992,\n",
              "         -9.98693086, -10.26501752, -10.54738501, -10.83112075,\n",
              "        -11.11547875, -11.40044664, -11.68580986, -11.97312909,\n",
              "        -12.2635311 ]),\n",
              " 'split3_test_score': array([-1.50228813, -0.89042223, -0.94713103, -0.80998062, -0.68885391,\n",
              "        -0.44271332, -0.43671288, -0.43539328, -0.43810319, -0.44591407,\n",
              "        -0.45687653, -0.46927492, -0.48123202, -0.49109932, -0.49770696,\n",
              "        -0.50047025, -0.49931848, -0.4945726 , -0.48676081, -0.47650096,\n",
              "        -0.46446637, -0.45118801, -0.43723126, -0.42301463, -0.40895337,\n",
              "        -0.39528366, -0.38240644, -0.37048928, -0.35972603]),\n",
              " 'split4_test_score': array([-4.8088395 , -3.77599946, -4.38378299, -4.19917797, -7.25567164,\n",
              "        -3.85461328, -3.73854201, -3.91937154, -4.17613634, -4.39203229,\n",
              "        -4.5317687 , -4.59489615, -4.59612287, -4.55396367, -4.48534008,\n",
              "        -4.40364542, -4.31837043, -4.23569921, -4.15921126, -4.09073387,\n",
              "        -4.03083547, -3.9791695 , -3.93546746, -3.89887064, -3.86871935,\n",
              "        -3.84446661, -3.82543464, -3.81126677, -3.80164697]),\n",
              " 'std_fit_time': array([8.95664438e-04, 2.98842639e-05, 9.59213383e-06, 2.05689886e-05,\n",
              "        5.84470880e-06, 2.65638958e-05, 1.10790525e-05, 8.86275972e-06,\n",
              "        1.42626131e-05, 2.66175952e-06, 3.32477594e-05, 1.04693005e-04,\n",
              "        1.26201744e-04, 1.03393427e-05, 3.74629565e-05, 8.69152633e-06,\n",
              "        7.47372846e-06, 1.13041588e-05, 1.18619547e-04, 1.20257537e-05,\n",
              "        3.06662277e-06, 3.73694333e-05, 2.35815139e-05, 1.26033031e-05,\n",
              "        2.23205635e-05, 1.73442921e-05, 1.83381392e-04, 2.46268735e-05,\n",
              "        8.28461297e-04]),\n",
              " 'std_score_time': array([9.69009931e-04, 2.42173195e-05, 1.53037244e-05, 1.53200588e-05,\n",
              "        1.75415163e-05, 9.60634581e-06, 1.59387769e-05, 9.46608835e-05,\n",
              "        1.12543671e-05, 1.07191890e-05, 1.01127932e-04, 1.06193787e-04,\n",
              "        1.12544823e-04, 1.57647874e-05, 2.22530251e-05, 4.69000313e-06,\n",
              "        1.60550441e-05, 7.10476805e-05, 1.60139212e-05, 2.60127672e-06,\n",
              "        1.52771065e-05, 3.44050484e-06, 8.08010378e-06, 3.34330523e-06,\n",
              "        1.21583190e-05, 7.81983863e-06, 1.94656270e-04, 3.28388165e-05,\n",
              "        9.41038585e-05]),\n",
              " 'std_test_score': array([  1.92322751,   2.06263803,   2.24216791,   3.1775038 ,\n",
              "          3.11110664,   3.24363159,   3.31217684,   3.47996681,\n",
              "          3.87378022,   4.70899429,   6.23850406,   8.70934961,\n",
              "         12.37232541,  17.5145268 ,  24.47639743,  33.65532016,\n",
              "         45.50186601,  60.51710187,  79.24497122, 102.2915201 ,\n",
              "        130.32395187, 164.05911761, 204.44036144, 252.46376726,\n",
              "        309.44983807, 377.11399206, 457.73723343, 554.27356546,\n",
              "        670.9187091 ])}"
            ]
          },
          "metadata": {
            "tags": []
          },
          "execution_count": 24
        }
      ]
    },
    {
      "cell_type": "markdown",
      "metadata": {
        "id": "tGTzCLvttyK7",
        "colab_type": "text"
      },
      "source": [
        "The following degree is the one with the highest score"
      ]
    },
    {
      "cell_type": "code",
      "metadata": {
        "scrolled": true,
        "id": "COkdAQWytyK9",
        "colab_type": "code",
        "outputId": "c214510e-9a57-4ee3-c1d2-8c3d91a2d143",
        "colab": {
          "base_uri": "https://localhost:8080/",
          "height": 35
        }
      },
      "source": [
        "grid.best_params_"
      ],
      "execution_count": 25,
      "outputs": [
        {
          "output_type": "execute_result",
          "data": {
            "text/plain": [
              "{'polynomialfeatures__degree': 2}"
            ]
          },
          "metadata": {
            "tags": []
          },
          "execution_count": 25
        }
      ]
    },
    {
      "cell_type": "markdown",
      "metadata": {
        "id": "m7kpL3XJtyLB",
        "colab_type": "text"
      },
      "source": [
        "Taking the regression with this degree, the cross validation score is:"
      ]
    },
    {
      "cell_type": "code",
      "metadata": {
        "scrolled": true,
        "id": "PUeUy1hAtyLC",
        "colab_type": "code",
        "outputId": "fd863593-e467-41ca-c041-676454d3ff65",
        "colab": {
          "base_uri": "https://localhost:8080/",
          "height": 35
        }
      },
      "source": [
        "grid.best_score_"
      ],
      "execution_count": 26,
      "outputs": [
        {
          "output_type": "execute_result",
          "data": {
            "text/plain": [
              "-3.585657486221782"
            ]
          },
          "metadata": {
            "tags": []
          },
          "execution_count": 26
        }
      ]
    },
    {
      "cell_type": "markdown",
      "metadata": {
        "id": "dAzGVZirtyLG",
        "colab_type": "text"
      },
      "source": [
        "The cross-validation root mean square error (RMSE):"
      ]
    },
    {
      "cell_type": "code",
      "metadata": {
        "id": "-OEI74VTtyLH",
        "colab_type": "code",
        "outputId": "89a80068-4d7e-43ff-ab14-d688ea86bf56",
        "colab": {
          "base_uri": "https://localhost:8080/",
          "height": 35
        }
      },
      "source": [
        "sqrt(-grid.best_score_)"
      ],
      "execution_count": 27,
      "outputs": [
        {
          "output_type": "execute_result",
          "data": {
            "text/plain": [
              "1.8935832398449723"
            ]
          },
          "metadata": {
            "tags": []
          },
          "execution_count": 27
        }
      ]
    },
    {
      "cell_type": "markdown",
      "metadata": {
        "id": "8MM6AZBMtyLL",
        "colab_type": "text"
      },
      "source": [
        "The regression model is:"
      ]
    },
    {
      "cell_type": "code",
      "metadata": {
        "id": "bxIpIqfgtyLN",
        "colab_type": "code",
        "colab": {}
      },
      "source": [
        "model = grid.best_estimator_"
      ],
      "execution_count": 0,
      "outputs": []
    },
    {
      "cell_type": "markdown",
      "metadata": {
        "id": "Y0E5wDa1tyLR",
        "colab_type": "text"
      },
      "source": [
        "We can evaluate it in the test set."
      ]
    },
    {
      "cell_type": "code",
      "metadata": {
        "id": "xc8nC9Z2tyLS",
        "colab_type": "code",
        "outputId": "28c10c13-1d8b-4783-d479-0b714e98efb3",
        "colab": {
          "base_uri": "https://localhost:8080/",
          "height": 35
        }
      },
      "source": [
        "model.fit(X_train, y_train)\n",
        "y_pred = model.predict(X_test)\n",
        "sqrt(mean_squared_error(y_pred, y_test) )"
      ],
      "execution_count": 30,
      "outputs": [
        {
          "output_type": "execute_result",
          "data": {
            "text/plain": [
              "3.4349359394194794"
            ]
          },
          "metadata": {
            "tags": []
          },
          "execution_count": 30
        }
      ]
    },
    {
      "cell_type": "code",
      "metadata": {
        "id": "fC-1lkViRL6z",
        "colab_type": "code",
        "colab": {}
      },
      "source": [
        ""
      ],
      "execution_count": 0,
      "outputs": []
    }
  ]
}