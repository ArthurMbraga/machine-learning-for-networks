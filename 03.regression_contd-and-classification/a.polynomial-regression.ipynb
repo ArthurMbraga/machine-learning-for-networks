{
  "nbformat": 4,
  "nbformat_minor": 0,
  "metadata": {
    "kernelspec": {
      "display_name": "Python 3",
      "language": "python",
      "name": "python3"
    },
    "language_info": {
      "codemirror_mode": {
        "name": "ipython",
        "version": 3
      },
      "file_extension": ".py",
      "mimetype": "text/x-python",
      "name": "python",
      "nbconvert_exporter": "python",
      "pygments_lexer": "ipython3",
      "version": "3.6.8"
    },
    "colab": {
      "name": "a.polynomial-regression.ipynb",
      "provenance": []
    }
  },
  "cells": [
    {
      "cell_type": "markdown",
      "metadata": {
        "id": "cbb2cpw7tyH2"
      },
      "source": [
        "[![Open In Colab](https://colab.research.google.com/assets/colab-badge.svg)](https://colab.research.google.com/github/andreaaraldo/machine-learning-for-networks/blob/master/03.regression_contd-and-classification/a.polynomial-regression.ipynb)"
      ]
    },
    {
      "cell_type": "markdown",
      "metadata": {
        "id": "rr_26hqKtyH7"
      },
      "source": [
        "Predict `BufferHealth` (seconds ahead in the buffer) only based on network measurements.\n",
        "\n",
        "**Why?**: The operator may decide to allocate more bandwidth to users whose buffer is suffering."
      ]
    },
    {
      "cell_type": "code",
      "metadata": {
        "id": "gP4C_WyCtyH_",
        "colab": {
          "base_uri": "https://localhost:8080/"
        },
        "outputId": "3cac8bb6-34a0-4db0-8b27-0f1a2ce822a2"
      },
      "source": [
        "import pandas as pd # For dataframes (tables)\n",
        "import matplotlib.pyplot as plt # For plots\n",
        "from sklearn.model_selection import train_test_split\n",
        "from sklearn.metrics import mean_squared_error\n",
        "from math import sqrt\n",
        "import numpy as np # For arange\n",
        "from sklearn.preprocessing import PolynomialFeatures\n",
        "from sklearn.pipeline import make_pipeline\n",
        "from sklearn.model_selection import GridSearchCV\n",
        "from sklearn.model_selection import cross_val_score, KFold\n",
        "\n",
        "\n",
        "# Load the functions I prepared for you\n",
        "!wget https://raw.githubusercontent.com/andreaaraldo/machine-learning-for-networks/master/course_library/andrea_models.py\n",
        "!wget https://raw.githubusercontent.com/andreaaraldo/machine-learning-for-networks/master/course_library/feature_engineering.py\n",
        "\n",
        "import feature_engineering                                 \n",
        "from andrea_models import AndreaLinearRegression"
      ],
      "execution_count": 1,
      "outputs": [
        {
          "output_type": "stream",
          "name": "stdout",
          "text": [
            "--2022-04-22 10:59:11--  https://raw.githubusercontent.com/andreaaraldo/machine-learning-for-networks/master/course_library/andrea_models.py\n",
            "Resolving raw.githubusercontent.com (raw.githubusercontent.com)... 185.199.108.133, 185.199.109.133, 185.199.110.133, ...\n",
            "Connecting to raw.githubusercontent.com (raw.githubusercontent.com)|185.199.108.133|:443... connected.\n",
            "HTTP request sent, awaiting response... 200 OK\n",
            "Length: 3190 (3.1K) [text/plain]\n",
            "Saving to: ‘andrea_models.py.1’\n",
            "\n",
            "\randrea_models.py.1    0%[                    ]       0  --.-KB/s               \randrea_models.py.1  100%[===================>]   3.12K  --.-KB/s    in 0s      \n",
            "\n",
            "2022-04-22 10:59:11 (48.3 MB/s) - ‘andrea_models.py.1’ saved [3190/3190]\n",
            "\n",
            "--2022-04-22 10:59:11--  https://raw.githubusercontent.com/andreaaraldo/machine-learning-for-networks/master/course_library/feature_engineering.py\n",
            "Resolving raw.githubusercontent.com (raw.githubusercontent.com)... 185.199.108.133, 185.199.109.133, 185.199.110.133, ...\n",
            "Connecting to raw.githubusercontent.com (raw.githubusercontent.com)|185.199.108.133|:443... connected.\n",
            "HTTP request sent, awaiting response... 200 OK\n",
            "Length: 2206 (2.2K) [text/plain]\n",
            "Saving to: ‘feature_engineering.py.1’\n",
            "\n",
            "feature_engineering 100%[===================>]   2.15K  --.-KB/s    in 0s      \n",
            "\n",
            "2022-04-22 10:59:11 (30.5 MB/s) - ‘feature_engineering.py.1’ saved [2206/2206]\n",
            "\n"
          ]
        },
        {
          "output_type": "stream",
          "name": "stderr",
          "text": [
            "/usr/local/lib/python3.7/dist-packages/statsmodels/tools/_testing.py:19: FutureWarning: pandas.util.testing is deprecated. Use the functions in the public API at pandas.testing instead.\n",
            "  import pandas.util.testing as tm\n"
          ]
        }
      ]
    },
    {
      "cell_type": "code",
      "metadata": {
        "id": "D8IBrJkytyIO",
        "colab": {
          "base_uri": "https://localhost:8080/"
        },
        "outputId": "0fae4ed0-132d-4f39-a22a-8e3d67051ebe"
      },
      "source": [
        "dataset_to_use = 'B1'\n",
        "mydatasets_folder = \"https://raw.githubusercontent.com/andreaaraldo/machine-learning-for-networks/master/processed_datasets/requet/\"\n",
        "\n",
        "filename = \"df.\"+ dataset_to_use+\"_2.csv\"\n",
        "complete_name = mydatasets_folder+filename\n",
        "!wget $complete_name"
      ],
      "execution_count": 2,
      "outputs": [
        {
          "output_type": "stream",
          "name": "stdout",
          "text": [
            "--2022-04-22 10:59:12--  https://raw.githubusercontent.com/andreaaraldo/machine-learning-for-networks/master/processed_datasets/requet/df.B1_2.csv\n",
            "Resolving raw.githubusercontent.com (raw.githubusercontent.com)... 185.199.108.133, 185.199.109.133, 185.199.110.133, ...\n",
            "Connecting to raw.githubusercontent.com (raw.githubusercontent.com)|185.199.108.133|:443... connected.\n",
            "HTTP request sent, awaiting response... 200 OK\n",
            "Length: 58556 (57K) [text/plain]\n",
            "Saving to: ‘df.B1_2.csv.1’\n",
            "\n",
            "\rdf.B1_2.csv.1         0%[                    ]       0  --.-KB/s               \rdf.B1_2.csv.1       100%[===================>]  57.18K  --.-KB/s    in 0.003s  \n",
            "\n",
            "2022-04-22 10:59:12 (17.0 MB/s) - ‘df.B1_2.csv.1’ saved [58556/58556]\n",
            "\n"
          ]
        }
      ]
    },
    {
      "cell_type": "code",
      "metadata": {
        "id": "wciwIMW4uO38"
      },
      "source": [
        "df = pd.read_csv(filename)"
      ],
      "execution_count": 3,
      "outputs": []
    },
    {
      "cell_type": "markdown",
      "metadata": {
        "id": "1HG1uyLstyIX"
      },
      "source": [
        "# Univariate Polynomial Regression"
      ]
    },
    {
      "cell_type": "markdown",
      "metadata": {
        "id": "MKzzb7OmtyIa"
      },
      "source": [
        "Let's check what are the most correlated features to `BufferHealth`."
      ]
    },
    {
      "cell_type": "code",
      "metadata": {
        "scrolled": false,
        "id": "7hooA9W4tyIe",
        "colab": {
          "base_uri": "https://localhost:8080/"
        },
        "outputId": "192e73d8-195a-4a2f-f433-69d657988dab"
      },
      "source": [
        "feats = feature_engineering.get_features_correlated_to_target(\n",
        "        df, target_feature='BufferHealth'\n",
        "        )\n",
        "feats"
      ],
      "execution_count": 4,
      "outputs": [
        {
          "output_type": "execute_result",
          "data": {
            "text/plain": [
              "BufferHealth          1.00\n",
              "BufferProgress_log    0.97\n",
              "BufferProgress        0.97\n",
              "PacketsReceived       0.61\n",
              "KBytesReceived        0.61\n",
              "                      ... \n",
              "Buffering              NaN\n",
              "Paused                 NaN\n",
              "Playing                NaN\n",
              "CollectData            NaN\n",
              "BufferValid            NaN\n",
              "Name: BufferHealth, Length: 147, dtype: float64"
            ]
          },
          "metadata": {},
          "execution_count": 4
        }
      ]
    },
    {
      "cell_type": "markdown",
      "metadata": {
        "id": "b8z96TVityIm"
      },
      "source": [
        "We can not use `BufferProgress`, as it is not a network-layer measure and the net operator would not have access to the buffer of users.\n",
        "\n",
        "`BytesReceived` is also highly correlated (to have more seconds-ahead, we need to download more)."
      ]
    },
    {
      "cell_type": "code",
      "metadata": {
        "scrolled": true,
        "id": "R1zDObpttyIp",
        "colab": {
          "base_uri": "https://localhost:8080/",
          "height": 296
        },
        "outputId": "efd9bb5b-6e88-4f4f-9890-ffed25972b2f"
      },
      "source": [
        "feature = 'BytesReceived'\n",
        "fig, ax = plt.subplots() # This creates just a canvas\n",
        "ax.scatter(df[feature],df['BufferHealth'],color='black',\n",
        "           s=2, label='all samples') # ax is the actual figure\n",
        "ax.set (xlabel=feature, ylabel='BufferHealth')"
      ],
      "execution_count": 5,
      "outputs": [
        {
          "output_type": "execute_result",
          "data": {
            "text/plain": [
              "[Text(0, 0.5, 'BufferHealth'), Text(0.5, 0, 'BytesReceived')]"
            ]
          },
          "metadata": {},
          "execution_count": 5
        },
        {
          "output_type": "display_data",
          "data": {
            "text/plain": [
              "<Figure size 432x288 with 1 Axes>"
            ],
            "image/png": "[encoded data removed]"
          },
          "metadata": {
            "needs_background": "light"
          }
        }
      ]
    },
    {
      "cell_type": "markdown",
      "metadata": {
        "id": "4_nFz8nxtyIx"
      },
      "source": [
        "Values are squashed on the left, let's use the log-transformed feature to see the dependency better."
      ]
    },
    {
      "cell_type": "code",
      "metadata": {
        "scrolled": false,
        "id": "1j3j6hxEtyI0",
        "colab": {
          "base_uri": "https://localhost:8080/",
          "height": 297
        },
        "outputId": "292bfe14-1fd8-469a-e188-c357786c9168"
      },
      "source": [
        "feature = 'BytesReceived_log'\n",
        "fig, ax = plt.subplots() # This creates just a canvas\n",
        "ax.scatter(df[feature],df['BufferHealth'],color='black',\n",
        "           s=2, label='all samples') # ax is the actual figure\n",
        "ax.set (xlabel=feature, ylabel='BufferHealth')"
      ],
      "execution_count": 6,
      "outputs": [
        {
          "output_type": "execute_result",
          "data": {
            "text/plain": [
              "[Text(0, 0.5, 'BufferHealth'), Text(0.5, 0, 'BytesReceived_log')]"
            ]
          },
          "metadata": {},
          "execution_count": 6
        },
        {
          "output_type": "display_data",
          "data": {
            "text/plain": [
              "<Figure size 432x288 with 1 Axes>"
            ],
            "image/png": "[encoded data removed]"
          },
          "metadata": {
            "needs_background": "light"
          }
        }
      ]
    },
    {
      "cell_type": "markdown",
      "metadata": {
        "id": "NdjY0Th5tyI7"
      },
      "source": [
        "The dependency is clearer now, although, in terms of Pearson's correlation coefficient \n",
        "$$\n",
        "\\rho(\\texttt{BytesReceived},\\texttt{BufferHealth}) \\ge \n",
        "\\rho(\\texttt{BytesReceived_log},\\texttt{BufferHealth})\n",
        "$$ \n",
        "\n",
        "Don't be surprised: Pearson's correlation only captures linear dependency and we see that here the dependency is not linear"
      ]
    },
    {
      "cell_type": "code",
      "metadata": {
        "id": "7M7YsTgJtyI8"
      },
      "source": [
        "df_train, df_test = train_test_split(df, test_size=0.3, random_state=2)"
      ],
      "execution_count": 7,
      "outputs": []
    },
    {
      "cell_type": "markdown",
      "metadata": {
        "id": "eTMX1bavtyJE"
      },
      "source": [
        "Let's put in evidence the test samples"
      ]
    },
    {
      "cell_type": "code",
      "metadata": {
        "scrolled": true,
        "id": "u3cASWiqtyJG",
        "colab": {
          "base_uri": "https://localhost:8080/",
          "height": 280
        },
        "outputId": "57a95951-3b40-4418-f57c-bb97768ae741"
      },
      "source": [
        "ax.scatter(df_test[feature],df_test['BufferHealth'],color='red',\n",
        "           s=2, label='test') # ax is the actual figure\n",
        "fig"
      ],
      "execution_count": 8,
      "outputs": [
        {
          "output_type": "execute_result",
          "data": {
            "text/plain": [
              "<Figure size 432x288 with 1 Axes>"
            ],
            "image/png": "[encoded data removed]"
          },
          "metadata": {},
          "execution_count": 8
        }
      ]
    },
    {
      "cell_type": "markdown",
      "metadata": {
        "id": "Q0eEORmItyJM"
      },
      "source": [
        "OLS linear regression"
      ]
    },
    {
      "cell_type": "code",
      "metadata": {
        "scrolled": true,
        "id": "_VMnez7ptyJO",
        "colab": {
          "base_uri": "https://localhost:8080/"
        },
        "outputId": "8cd8dd09-aaef-46e6-dd16-3a00d7f68512"
      },
      "source": [
        "feature = 'BytesReceived_log'\n",
        "target = 'BufferHealth'\n",
        "X_train = df_train[feature].values.reshape(-1,1)\n",
        "X_test = df_test[feature].values.reshape(-1,1)\n",
        "y_train = df_train[target].values\n",
        "y_test = df_test[target].values\n",
        "\n",
        "model = AndreaLinearRegression(feature)\n",
        "model.fit(X_train, y_train)\n",
        "model.summary()"
      ],
      "execution_count": 9,
      "outputs": [
        {
          "output_type": "stream",
          "name": "stdout",
          "text": [
            "                            OLS Regression Results                            \n",
            "==============================================================================\n",
            "Dep. Variable:                      y   R-squared:                       0.369\n",
            "Model:                            OLS   Adj. R-squared:                  0.348\n",
            "Method:                 Least Squares   F-statistic:                     17.51\n",
            "Date:                Fri, 22 Apr 2022   Prob (F-statistic):           0.000229\n",
            "Time:                        10:59:13   Log-Likelihood:                -64.395\n",
            "No. Observations:                  32   AIC:                             132.8\n",
            "Df Residuals:                      30   BIC:                             135.7\n",
            "Df Model:                           1                                         \n",
            "Covariance Type:            nonrobust                                         \n",
            "==============================================================================\n",
            "                 coef    std err          t      P>|t|      [0.025      0.975]\n",
            "------------------------------------------------------------------------------\n",
            "const        -13.7603      4.677     -2.942      0.006     -23.312      -4.209\n",
            "x1             1.6199      0.387      4.185      0.000       0.829       2.410\n",
            "==============================================================================\n",
            "Omnibus:                       11.109   Durbin-Watson:                   1.898\n",
            "Prob(Omnibus):                  0.004   Jarque-Bera (JB):               10.120\n",
            "Skew:                           1.179   Prob(JB):                      0.00635\n",
            "Kurtosis:                       4.423   Cond. No.                         172.\n",
            "==============================================================================\n",
            "\n",
            "Warnings:\n",
            "[1] Standard Errors assume that the covariance matrix of the errors is correctly specified.\n"
          ]
        }
      ]
    },
    {
      "cell_type": "markdown",
      "metadata": {
        "id": "RNNgAx-KtyJW"
      },
      "source": [
        "The model is significant (p-values are low). Let's test it."
      ]
    },
    {
      "cell_type": "code",
      "metadata": {
        "id": "bhQXGDqgtyJX",
        "colab": {
          "base_uri": "https://localhost:8080/"
        },
        "outputId": "d7860740-9693-453c-c5c6-a17f217dd1b8"
      },
      "source": [
        "y_pred = model.predict(X_test)\n",
        "RMSE_linear = sqrt(mean_squared_error(y_pred, y_test))\n",
        "print('The test error is of ',RMSE_linear,' seconds')"
      ],
      "execution_count": 10,
      "outputs": [
        {
          "output_type": "stream",
          "name": "stdout",
          "text": [
            "The test error is of  3.7228082304941905  seconds\n"
          ]
        }
      ]
    },
    {
      "cell_type": "markdown",
      "metadata": {
        "id": "YRLvyS1AtyJe"
      },
      "source": [
        "Let's plot the regression line"
      ]
    },
    {
      "cell_type": "code",
      "metadata": {
        "scrolled": true,
        "id": "jeo4qbVRtyJg",
        "colab": {
          "base_uri": "https://localhost:8080/",
          "height": 280
        },
        "outputId": "328409b9-6800-48fe-9608-989c7f490800"
      },
      "source": [
        "interval = np.arange(10, 15, 0.01).reshape(-1,1)\n",
        "h_values = model.predict(interval)\n",
        "ax.plot(interval,h_values, label=\"Linear \")\n",
        "ax.legend()\n",
        "fig"
      ],
      "execution_count": 11,
      "outputs": [
        {
          "output_type": "execute_result",
          "data": {
            "text/plain": [
              "<Figure size 432x288 with 1 Axes>"
            ],
            "image/png": "[encoded data removed]"
          },
          "metadata": {},
          "execution_count": 11
        }
      ]
    },
    {
      "cell_type": "markdown",
      "metadata": {
        "id": "oYy0iVnEtyJq"
      },
      "source": [
        "Not great. We would like to have a curve more flexible than a rigid straight line."
      ]
    },
    {
      "cell_type": "markdown",
      "metadata": {
        "id": "De9Z2HrytyJs"
      },
      "source": [
        "To run a quadratic regression, we first need to add to the column `BytesReceived_log` the column $\\texttt{BytesReceived_log}^2$."
      ]
    },
    {
      "cell_type": "code",
      "metadata": {
        "scrolled": true,
        "id": "Lk5Y8d2ttyJu",
        "colab": {
          "base_uri": "https://localhost:8080/"
        },
        "outputId": "3dc20344-e0fd-4ca0-cfaf-b5840e44c010"
      },
      "source": [
        "X_train_poly = PolynomialFeatures(degree=2, \n",
        "                include_bias=False).fit_transform(X_train)\n",
        "X_train_poly"
      ],
      "execution_count": 12,
      "outputs": [
        {
          "output_type": "execute_result",
          "data": {
            "text/plain": [
              "array([[ 10.37402229, 107.62033849],\n",
              "       [ 12.16272141, 147.93179218],\n",
              "       [ 11.68839023, 136.61846627],\n",
              "       [ 11.25940002, 126.77408887],\n",
              "       [ 12.32598674, 151.92994917],\n",
              "       [ 11.8706069 , 140.91130823],\n",
              "       [ 12.99278303, 168.81241077],\n",
              "       [ 13.66424804, 186.71167441],\n",
              "       [ 11.28062764, 127.25255997],\n",
              "       [ 11.32280558, 128.2059262 ],\n",
              "       [ 10.23426503, 104.74018077],\n",
              "       [ 11.25712958, 126.72296641],\n",
              "       [ 12.53561377, 157.14161271],\n",
              "       [ 11.47326946, 131.63591203],\n",
              "       [ 13.39753148, 179.49384964],\n",
              "       [ 11.71440402, 137.22726145],\n",
              "       [ 11.98382245, 143.61200039],\n",
              "       [ 11.28156071, 127.2736121 ],\n",
              "       [ 13.24652779, 175.4704984 ],\n",
              "       [ 13.14613264, 172.82080331],\n",
              "       [ 11.31062567, 127.93025294],\n",
              "       [ 12.54261274, 157.31713427],\n",
              "       [ 13.39098953, 179.31860069],\n",
              "       [ 13.51802997, 182.73713426],\n",
              "       [ 12.21554762, 149.21960356],\n",
              "       [ 12.466088  , 155.40335001],\n",
              "       [ 11.61205561, 134.83983554],\n",
              "       [ 11.95845068, 143.0045426 ],\n",
              "       [ 11.67068107, 136.20479659],\n",
              "       [ 12.05954864, 145.43271345],\n",
              "       [ 11.85207982, 140.47179596],\n",
              "       [ 11.83681169, 140.11011089]])"
            ]
          },
          "metadata": {},
          "execution_count": 12
        }
      ]
    },
    {
      "cell_type": "code",
      "metadata": {
        "id": "4txqKkuEtyJ1",
        "colab": {
          "base_uri": "https://localhost:8080/"
        },
        "outputId": "2a1d96a2-3bee-427f-d729-d5599e536e0c"
      },
      "source": [
        "model = AndreaLinearRegression()\n",
        "model.fit(X_train_poly, y_train)\n",
        "model.summary()"
      ],
      "execution_count": 13,
      "outputs": [
        {
          "output_type": "stream",
          "name": "stdout",
          "text": [
            "                            OLS Regression Results                            \n",
            "==============================================================================\n",
            "Dep. Variable:                      y   R-squared:                       0.414\n",
            "Model:                            OLS   Adj. R-squared:                  0.373\n",
            "Method:                 Least Squares   F-statistic:                     10.23\n",
            "Date:                Fri, 22 Apr 2022   Prob (F-statistic):           0.000435\n",
            "Time:                        10:59:13   Log-Likelihood:                -63.209\n",
            "No. Observations:                  32   AIC:                             132.4\n",
            "Df Residuals:                      29   BIC:                             136.8\n",
            "Df Model:                           2                                         \n",
            "Covariance Type:            nonrobust                                         \n",
            "==============================================================================\n",
            "                 coef    std err          t      P>|t|      [0.025      0.975]\n",
            "------------------------------------------------------------------------------\n",
            "const         64.2576     52.452      1.225      0.230     -43.018     171.533\n",
            "x1           -11.3349      8.684     -1.305      0.202     -29.097       6.427\n",
            "x2             0.5351      0.358      1.493      0.146      -0.198       1.268\n",
            "==============================================================================\n",
            "Omnibus:                       18.793   Durbin-Watson:                   2.102\n",
            "Prob(Omnibus):                  0.000   Jarque-Bera (JB):               24.331\n",
            "Skew:                           1.572   Prob(JB):                     5.21e-06\n",
            "Kurtosis:                       5.893   Cond. No.                     2.43e+04\n",
            "==============================================================================\n",
            "\n",
            "Warnings:\n",
            "[1] Standard Errors assume that the covariance matrix of the errors is correctly specified.\n",
            "[2] The condition number is large, 2.43e+04. This might indicate that there are\n",
            "strong multicollinearity or other numerical problems.\n"
          ]
        }
      ]
    },
    {
      "cell_type": "markdown",
      "metadata": {
        "id": "VAzMIt_QtyJ6"
      },
      "source": [
        "Let's plot the line"
      ]
    },
    {
      "cell_type": "code",
      "metadata": {
        "id": "5nZV1h7HtyJ8",
        "colab": {
          "base_uri": "https://localhost:8080/",
          "height": 280
        },
        "outputId": "92ec84c2-d816-4d52-87ad-de369882e4a0"
      },
      "source": [
        "interval = interval.reshape(-1,1)\n",
        "interval_poly = PolynomialFeatures(degree=2, \n",
        "                include_bias=False).fit_transform(interval)\n",
        "h_values = model.predict(interval_poly)\n",
        "\n",
        "ax.plot(interval,h_values, label=\"Quadratic\")\n",
        "ax.legend()\n",
        "fig"
      ],
      "execution_count": 14,
      "outputs": [
        {
          "output_type": "execute_result",
          "data": {
            "text/plain": [
              "<Figure size 432x288 with 1 Axes>"
            ],
            "image/png": "[encoded data removed]"
          },
          "metadata": {},
          "execution_count": 14
        }
      ]
    },
    {
      "cell_type": "code",
      "metadata": {
        "id": "buV29lH6tyKB",
        "colab": {
          "base_uri": "https://localhost:8080/"
        },
        "outputId": "ef646c04-92c8-485c-8286-31655e5bca98"
      },
      "source": [
        "X_test_poly = PolynomialFeatures(degree=2, \n",
        "                include_bias=False).fit_transform(X_test)\n",
        "# include_bias=False, since the bias term will be added\n",
        "# by AndreaLinearRegression\n",
        "\n",
        "y_train_pred = model.predict(X_train_poly)\n",
        "RMSE_train_quadr = sqrt(mean_squared_error(y_train_pred, y_train))\n",
        "\n",
        "y_pred = model.predict(X_test_poly)\n",
        "RMSE_quadr = sqrt(mean_squared_error(y_pred, y_test))\n",
        "print('The test error is ',RMSE_quadr,\n",
        "          ' seconds; with linear regression it was', RMSE_linear)"
      ],
      "execution_count": 15,
      "outputs": [
        {
          "output_type": "stream",
          "name": "stdout",
          "text": [
            "The test error is  3.434935939419482  seconds; with linear regression it was 3.7228082304941905\n"
          ]
        }
      ]
    },
    {
      "cell_type": "markdown",
      "metadata": {
        "id": "iiWjqE7htyKF"
      },
      "source": [
        "Let's try with cubic regression"
      ]
    },
    {
      "cell_type": "code",
      "metadata": {
        "id": "v67qNsxOtyKH",
        "colab": {
          "base_uri": "https://localhost:8080/",
          "height": 315
        },
        "cellView": "code",
        "outputId": "77f8a2f8-9164-4be1-8ac9-46929109e64a"
      },
      "source": [
        "#@title Default title text\n",
        "mydegree = 3\n",
        "X_train_poly = PolynomialFeatures(degree=mydegree, \n",
        "                include_bias=False).fit_transform(X_train)\n",
        "model = AndreaLinearRegression()\n",
        "model.fit(X_train_poly, y_train)\n",
        "\n",
        "X_test_poly = PolynomialFeatures(degree=mydegree, \n",
        "                include_bias=False).fit_transform(\n",
        "                        X_test)\n",
        "                \n",
        "y_train_pred = model.predict(X_train_poly)\n",
        "RMSE_train_cub = sqrt(mean_squared_error(y_train_pred, y_train))\n",
        "\n",
        "y_pred = model.predict(X_test_poly)\n",
        "RMSE_cub = sqrt(mean_squared_error(y_pred, y_test))\n",
        "print(\"train RMSE: \", RMSE_train_cub, \" seconds; With quadratic regression it was \",\n",
        "             RMSE_train_quadr)\n",
        "print(\"test RMSE: \", RMSE_cub, \" seconds; With quadratic regression it was \",\n",
        "             RMSE_quadr)\n",
        "\n",
        "### plot\n",
        "interval_poly = PolynomialFeatures(degree=mydegree, \n",
        "                include_bias=False).fit_transform(interval)\n",
        "h_values = model.predict(interval_poly)\n",
        "\n",
        "ax.plot(interval,h_values, label=\"Cubic\")\n",
        "ax.legend()\n",
        "fig"
      ],
      "execution_count": 16,
      "outputs": [
        {
          "output_type": "stream",
          "name": "stdout",
          "text": [
            "train RMSE:  1.736097166801989  seconds; With quadratic regression it was  1.744308287934826\n",
            "test RMSE:  3.5062243994982722  seconds; With quadratic regression it was  3.434935939419482\n"
          ]
        },
        {
          "output_type": "execute_result",
          "data": {
            "text/plain": [
              "<Figure size 432x288 with 1 Axes>"
            ],
            "image/png": "[encoded data removed]"
          },
          "metadata": {},
          "execution_count": 16
        }
      ]
    },
    {
      "cell_type": "markdown",
      "metadata": {
        "id": "ZFZzKwAXtyKP"
      },
      "source": [
        "Let's increase a lot the degree of the polynomial"
      ]
    },
    {
      "cell_type": "code",
      "metadata": {
        "scrolled": false,
        "id": "0UG48ZqgtyKS",
        "colab": {
          "base_uri": "https://localhost:8080/",
          "height": 301
        },
        "outputId": "bca7fc24-ac4f-4015-f9e6-5a69c85b234c"
      },
      "source": [
        "mydegree = 25\n",
        "X_train_poly = PolynomialFeatures(degree=mydegree, \n",
        "                include_bias=False).fit_transform(X_train)\n",
        "model = AndreaLinearRegression()\n",
        "model.fit(X_train_poly, y_train)\n",
        "\n",
        "X_test_poly = PolynomialFeatures(degree=mydegree, \n",
        "                include_bias=False).fit_transform(\n",
        "                        X_test)\n",
        "y_pred = model.predict(X_test_poly)\n",
        "RMSE_now = sqrt(mean_squared_error(y_pred, y_test))\n",
        "print(\"RMSE: \", RMSE_now)\n",
        "\n",
        "### plot\n",
        "interval_poly = PolynomialFeatures(degree=mydegree, \n",
        "                include_bias=False).fit_transform(interval)\n",
        "h_values = model.predict(interval_poly)\n",
        "\n",
        "\n",
        "ax.plot(interval,h_values, label=\"Degree \"+str(mydegree), color=\"gray\" )\n",
        "ax.legend()\n",
        "ax.set_ylim([0, 16] )\n",
        "fig"
      ],
      "execution_count": 17,
      "outputs": [
        {
          "output_type": "stream",
          "name": "stdout",
          "text": [
            "RMSE:  3.750735399310576\n"
          ]
        },
        {
          "output_type": "execute_result",
          "data": {
            "text/plain": [
              "<Figure size 432x288 with 1 Axes>"
            ],
            "image/png": "[encoded data removed]"
          },
          "metadata": {},
          "execution_count": 17
        }
      ]
    },
    {
      "cell_type": "markdown",
      "metadata": {
        "id": "8h4fIdAHtyKW"
      },
      "source": [
        "This is a typical example of overfit.\n",
        "\n",
        "The model is so flexible that it can adapt **too** well to training data. \n"
      ]
    },
    {
      "cell_type": "markdown",
      "metadata": {
        "id": "JsAY89vFtyKY"
      },
      "source": [
        "\n",
        "**Generalization** means instead to \"step back\" from the observed data and not adapting too much"
      ]
    },
    {
      "cell_type": "markdown",
      "metadata": {
        "id": "GuFxRe8KtyKY"
      },
      "source": [
        "# Pipelines\n",
        "\n",
        "We have repeated so far a lot of ugly code:"
      ]
    },
    {
      "cell_type": "code",
      "metadata": {
        "id": "_Oqm5GkUtyKa"
      },
      "source": [
        "X_train_poly = PolynomialFeatures(degree=3, \n",
        "                include_bias=False).fit_transform(X_train)\n",
        "model = AndreaLinearRegression()\n",
        "model.fit(X_train_poly, y_train)\n",
        "\n",
        "X_test_poly = PolynomialFeatures(degree=3, \n",
        "                include_bias=False).fit_transform(X_test)\n",
        "y_pred = model.predict(X_test_poly)"
      ],
      "execution_count": 18,
      "outputs": []
    },
    {
      "cell_type": "markdown",
      "metadata": {
        "id": "mov7DIz1tyKe"
      },
      "source": [
        "We can write things in a more compact way, using pipelines"
      ]
    },
    {
      "cell_type": "code",
      "metadata": {
        "id": "vwprM9TatyKf"
      },
      "source": [
        "def MyPolynomialRegression(degree=2):\n",
        "    return make_pipeline(PolynomialFeatures(degree, include_bias=False), \n",
        "                         AndreaLinearRegression())\n"
      ],
      "execution_count": 19,
      "outputs": []
    },
    {
      "cell_type": "markdown",
      "metadata": {
        "id": "G5w8H-XYtyKi"
      },
      "source": [
        "Now `my_poly_regression` is an object which has a `fit` and a `predict` function.\n",
        "\n",
        "You can now use MyPolynomialRegression(..) as follows."
      ]
    },
    {
      "cell_type": "code",
      "metadata": {
        "id": "ubj0uqCktyKl"
      },
      "source": [
        "model = MyPolynomialRegression(degree=3)\n",
        "model.fit(X_train, y_train) # Equivalent to lines 1-3\n",
        "y_pred = model.predict(X_test) # Equivalent to lines 6-8"
      ],
      "execution_count": 20,
      "outputs": []
    },
    {
      "cell_type": "code",
      "metadata": {
        "id": "BwCPi3aotyKn",
        "colab": {
          "base_uri": "https://localhost:8080/"
        },
        "outputId": "6132b162-b32c-4241-92a7-d5ebb31886a3"
      },
      "source": [
        "sqrt(mean_squared_error(y_test,y_pred))"
      ],
      "execution_count": 21,
      "outputs": [
        {
          "output_type": "execute_result",
          "data": {
            "text/plain": [
              "3.5062243994982722"
            ]
          },
          "metadata": {},
          "execution_count": 21
        }
      ]
    },
    {
      "cell_type": "markdown",
      "metadata": {
        "id": "r9WsewNNFuBP"
      },
      "source": [
        "## How does a pipeline works\n",
        "\n",
        "We have seen that using pipeline makes our code more elegant, more compact and more understandable. Let's see more in detail some general rules when using pipelines. More details can be found [in this page](https://scikit-learn.org/stable/modules/compose.html).\n",
        "\n",
        "* The first arguments of `make_pipeline` must be \"transformers\", i.e., they must have a `fit_transform(..)` method, like the `PolynomialFeatures` in our case. In our case we used just one transformer, but we can also use a chain of transformers.\n",
        "* The last argument of `make_pipeline` must be a \"model\", i.e., it must have functions `fit(..)` and `predict(..)`, like `AndreaLinearRegression` in our case.\n",
        "* When you call `fit(some_df)` on a pipeline obtained via `make_pipeline(transformer1, transformer2, mymodel)`, the following things happen, in sequence:\n",
        "    * `transformed_data1 = transformer1.fit_transform(some_df)`\n",
        "    * `transformed_data2 = transformer2.fit_transform(transformed_data1)`\n",
        "    * `mymodel.fit(transformed_data2)`\n",
        "* When you then call `predict(some_other_df)` on the pipeline, the following things happen in parallel:\n",
        "    * `transformed_other_data1 = transformer1.transform(some_df)`\n",
        "    * `transformed_other_data2 = transformer2.transform(transformed_other_data1)`\n",
        "    * `mymodel.predict(transformed_other_data2)`\n"
      ]
    },
    {
      "cell_type": "markdown",
      "metadata": {
        "id": "7Ep8MVqStyKs"
      },
      "source": [
        "# Grid search"
      ]
    },
    {
      "cell_type": "markdown",
      "metadata": {
        "id": "AEHsLpqbtyKv"
      },
      "source": [
        "So far we have tried different polynomial degree and see how their performance look like.\n",
        "\n",
        "We now perform a systematic search of the best one. To this aim, we train different regressions, each with a different degree, and evaluate each of them via cross-validation.\n",
        "At the end, we take the degree that gave us the smallest error."
      ]
    },
    {
      "cell_type": "code",
      "metadata": {
        "scrolled": true,
        "id": "wL3k5b5qtyKw",
        "colab": {
          "base_uri": "https://localhost:8080/"
        },
        "outputId": "47b69ac8-1e2b-424d-aa1c-48d197490755"
      },
      "source": [
        "parameters_to_test = {'polynomialfeatures__degree': np.arange(1,30)}\n",
        "k_fold = KFold(n_splits=5, shuffle=True, random_state=6)\n",
        "\n",
        "grid = GridSearchCV( MyPolynomialRegression(), parameters_to_test,\n",
        "                   cv = k_fold, scoring='neg_mean_squared_error')\n",
        "grid.get_params()"
      ],
      "execution_count": 22,
      "outputs": [
        {
          "output_type": "execute_result",
          "data": {
            "text/plain": [
              "{'cv': KFold(n_splits=5, random_state=6, shuffle=True),\n",
              " 'error_score': nan,\n",
              " 'estimator': Pipeline(steps=[('polynomialfeatures', PolynomialFeatures(include_bias=False)),\n",
              "                 ('andrealinearregression', AndreaLinearRegression())]),\n",
              " 'estimator__andrealinearregression': AndreaLinearRegression(),\n",
              " 'estimator__andrealinearregression__fit_intercept': True,\n",
              " 'estimator__memory': None,\n",
              " 'estimator__polynomialfeatures': PolynomialFeatures(include_bias=False),\n",
              " 'estimator__polynomialfeatures__degree': 2,\n",
              " 'estimator__polynomialfeatures__include_bias': False,\n",
              " 'estimator__polynomialfeatures__interaction_only': False,\n",
              " 'estimator__polynomialfeatures__order': 'C',\n",
              " 'estimator__steps': [('polynomialfeatures',\n",
              "   PolynomialFeatures(include_bias=False)),\n",
              "  ('andrealinearregression', AndreaLinearRegression())],\n",
              " 'estimator__verbose': False,\n",
              " 'n_jobs': None,\n",
              " 'param_grid': {'polynomialfeatures__degree': array([ 1,  2,  3,  4,  5,  6,  7,  8,  9, 10, 11, 12, 13, 14, 15, 16, 17,\n",
              "         18, 19, 20, 21, 22, 23, 24, 25, 26, 27, 28, 29])},\n",
              " 'pre_dispatch': '2*n_jobs',\n",
              " 'refit': True,\n",
              " 'return_train_score': False,\n",
              " 'scoring': 'neg_mean_squared_error',\n",
              " 'verbose': 0}"
            ]
          },
          "metadata": {},
          "execution_count": 22
        }
      ]
    },
    {
      "cell_type": "code",
      "metadata": {
        "scrolled": true,
        "id": "57pcT0eZtyKz",
        "colab": {
          "base_uri": "https://localhost:8080/"
        },
        "outputId": "f5ab0010-7412-468d-9eda-20b8de070c7e"
      },
      "source": [
        "grid.fit(X_train, y_train)"
      ],
      "execution_count": 23,
      "outputs": [
        {
          "output_type": "execute_result",
          "data": {
            "text/plain": [
              "GridSearchCV(cv=KFold(n_splits=5, random_state=6, shuffle=True),\n",
              "             estimator=Pipeline(steps=[('polynomialfeatures',\n",
              "                                        PolynomialFeatures(include_bias=False)),\n",
              "                                       ('andrealinearregression',\n",
              "                                        AndreaLinearRegression())]),\n",
              "             param_grid={'polynomialfeatures__degree': array([ 1,  2,  3,  4,  5,  6,  7,  8,  9, 10, 11, 12, 13, 14, 15, 16, 17,\n",
              "       18, 19, 20, 21, 22, 23, 24, 25, 26, 27, 28, 29])},\n",
              "             scoring='neg_mean_squared_error')"
            ]
          },
          "metadata": {},
          "execution_count": 23
        }
      ]
    },
    {
      "cell_type": "markdown",
      "metadata": {
        "id": "WNSQmOtBtyK2"
      },
      "source": [
        "In the following we see:\n",
        "* For each split, the test error per each degree\n",
        "* For each degree, the score averaged among all the splits\n",
        "* For each degree, which position it is in the rank of the best ones"
      ]
    },
    {
      "cell_type": "code",
      "metadata": {
        "scrolled": false,
        "id": "z395DV_1tyK3",
        "colab": {
          "base_uri": "https://localhost:8080/"
        },
        "outputId": "364457b2-8b89-474b-8fd3-5aa6764d9552"
      },
      "source": [
        "grid.cv_results_"
      ],
      "execution_count": 24,
      "outputs": [
        {
          "output_type": "execute_result",
          "data": {
            "text/plain": [
              "{'mean_fit_time': array([0.00188398, 0.00170951, 0.0013341 , 0.00101933, 0.00100079,\n",
              "        0.00101099, 0.00100098, 0.00125475, 0.00142527, 0.00105171,\n",
              "        0.00113349, 0.00126228, 0.00127735, 0.00109811, 0.00120845,\n",
              "        0.00110626, 0.00116577, 0.00111828, 0.00111785, 0.00124292,\n",
              "        0.00260901, 0.00191298, 0.00121427, 0.00187578, 0.00217695,\n",
              "        0.00135303, 0.00123491, 0.00153923, 0.00168076]),\n",
              " 'mean_score_time': array([0.00083642, 0.00090775, 0.00070615, 0.00055366, 0.00051455,\n",
              "        0.00063725, 0.00051446, 0.00066772, 0.00079694, 0.00055766,\n",
              "        0.00060749, 0.0007319 , 0.00062833, 0.00060778, 0.00069261,\n",
              "        0.00059533, 0.00058985, 0.00058045, 0.00059652, 0.00060129,\n",
              "        0.00085802, 0.00073509, 0.00070176, 0.00104418, 0.00093637,\n",
              "        0.00064301, 0.00064158, 0.00073581, 0.00090261]),\n",
              " 'mean_test_score': array([  -3.91198371,   -3.58565749,   -3.87316569,   -4.51408534,\n",
              "          -4.76095337,   -4.08789623,   -4.17474135,   -4.42947409,\n",
              "          -4.85788761,   -5.50780602,   -6.46502435,   -7.84470772,\n",
              "          -9.78796849,  -12.45927274,  -16.04308867,  -20.74343486,\n",
              "         -26.78224736,  -34.40260458,  -43.87163437,  -55.48507564,\n",
              "         -69.57657005,  -86.51100007, -106.75676565, -130.80597512,\n",
              "        -159.33218713, -193.19556668, -233.50636099, -281.83452118,\n",
              "        -340.22053834]),\n",
              " 'param_polynomialfeatures__degree': masked_array(data=[1, 2, 3, 4, 5, 6, 7, 8, 9, 10, 11, 12, 13, 14, 15, 16,\n",
              "                    17, 18, 19, 20, 21, 22, 23, 24, 25, 26, 27, 28, 29],\n",
              "              mask=[False, False, False, False, False, False, False, False,\n",
              "                    False, False, False, False, False, False, False, False,\n",
              "                    False, False, False, False, False, False, False, False,\n",
              "                    False, False, False, False, False],\n",
              "        fill_value='?',\n",
              "             dtype=object),\n",
              " 'params': [{'polynomialfeatures__degree': 1},\n",
              "  {'polynomialfeatures__degree': 2},\n",
              "  {'polynomialfeatures__degree': 3},\n",
              "  {'polynomialfeatures__degree': 4},\n",
              "  {'polynomialfeatures__degree': 5},\n",
              "  {'polynomialfeatures__degree': 6},\n",
              "  {'polynomialfeatures__degree': 7},\n",
              "  {'polynomialfeatures__degree': 8},\n",
              "  {'polynomialfeatures__degree': 9},\n",
              "  {'polynomialfeatures__degree': 10},\n",
              "  {'polynomialfeatures__degree': 11},\n",
              "  {'polynomialfeatures__degree': 12},\n",
              "  {'polynomialfeatures__degree': 13},\n",
              "  {'polynomialfeatures__degree': 14},\n",
              "  {'polynomialfeatures__degree': 15},\n",
              "  {'polynomialfeatures__degree': 16},\n",
              "  {'polynomialfeatures__degree': 17},\n",
              "  {'polynomialfeatures__degree': 18},\n",
              "  {'polynomialfeatures__degree': 19},\n",
              "  {'polynomialfeatures__degree': 20},\n",
              "  {'polynomialfeatures__degree': 21},\n",
              "  {'polynomialfeatures__degree': 22},\n",
              "  {'polynomialfeatures__degree': 23},\n",
              "  {'polynomialfeatures__degree': 24},\n",
              "  {'polynomialfeatures__degree': 25},\n",
              "  {'polynomialfeatures__degree': 26},\n",
              "  {'polynomialfeatures__degree': 27},\n",
              "  {'polynomialfeatures__degree': 28},\n",
              "  {'polynomialfeatures__degree': 29}],\n",
              " 'rank_test_score': array([ 3,  1,  2,  7,  8,  4,  5,  6,  9, 10, 11, 12, 13, 14, 15, 16, 17,\n",
              "        18, 19, 20, 21, 22, 23, 24, 25, 26, 27, 28, 29], dtype=int32),\n",
              " 'split0_test_score': array([   -6.55891136,    -6.03395589,    -6.06172387,    -6.83715485,\n",
              "           -5.95357525,    -5.74226142,    -6.39960398,    -7.59778633,\n",
              "           -9.59223577,   -12.72206838,   -17.42307244,   -24.24397653,\n",
              "          -33.84838311,   -47.021728  ,   -64.66893096,   -87.8187184 ,\n",
              "         -117.61108287,  -155.30042777,  -202.25630661,  -259.97920422,\n",
              "         -330.14557848,  -414.57861308,  -515.61336229,  -635.70058574,\n",
              "         -778.19751236,  -947.3938028 , -1148.83220619, -1390.35135457,\n",
              "        -1682.14540558]),\n",
              " 'split1_test_score': array([-1.88999414, -1.61694611, -1.58881961, -1.5001704 , -1.48251657,\n",
              "        -1.074029  , -1.03793083, -1.01341706, -1.00758804, -1.02529479,\n",
              "        -1.07546885, -1.16959168, -1.32036067, -1.53618451, -1.81346126,\n",
              "        -2.13188384, -2.45777708, -2.75465115, -2.99428057, -3.16171198,\n",
              "        -3.25509024, -3.28085149, -3.25040854, -3.17623858, -3.07027874,\n",
              "        -2.94373101, -2.80592071, -2.66636746, -2.53246348]),\n",
              " 'split2_test_score': array([ -4.79988541,  -5.61096374,  -6.38437097,  -9.22394284,\n",
              "         -8.42412583,  -9.32674823,  -9.26230152,  -9.18165196,\n",
              "         -9.07520129,  -8.95373191,  -8.83794101,  -8.74580124,\n",
              "         -8.69374646,  -8.69338949,  -8.75000406,  -8.86247272,\n",
              "         -9.02468641,  -9.22766713,  -9.46157993,  -9.71724966,\n",
              "         -9.98694063, -10.26515814, -10.54732164, -10.83116742,\n",
              "        -11.11545144, -11.40056008, -11.68584091, -11.97312515,\n",
              "        -12.26344716]),\n",
              " 'split3_test_score': array([-1.50228813, -0.89042223, -0.94713103, -0.80998062, -0.68885345,\n",
              "        -0.44236215, -0.43751083, -0.4351131 , -0.43825805, -0.44589051,\n",
              "        -0.4568682 , -0.46927372, -0.48123203, -0.49109915, -0.4977074 ,\n",
              "        -0.50046754, -0.49931878, -0.49457247, -0.48676113, -0.47651692,\n",
              "        -0.46446621, -0.45120283, -0.43722362, -0.42301419, -0.40894637,\n",
              "        -0.39528984, -0.38241067, -0.37048836, -0.35972784]),\n",
              " 'split4_test_score': array([-4.8088395 , -3.77599946, -4.38378299, -4.19917799, -7.25569576,\n",
              "        -3.85408038, -3.7363596 , -3.91940201, -4.1761549 , -4.39204452,\n",
              "        -4.53177123, -4.59489542, -4.59612016, -4.55396257, -4.48533965,\n",
              "        -4.40363178, -4.31837165, -4.23570439, -4.15924359, -4.09069543,\n",
              "        -4.0307747 , -3.9791748 , -3.93551214, -3.89886968, -3.86874675,\n",
              "        -3.84444968, -3.82542647, -3.81127038, -3.80164764]),\n",
              " 'std_fit_time': array([1.44141571e-04, 1.04151365e-04, 3.84015369e-04, 3.39917006e-05,\n",
              "        3.96631646e-05, 2.95599043e-05, 1.26847647e-05, 2.99467949e-04,\n",
              "        1.87791344e-04, 3.34522253e-05, 1.43730727e-04, 2.78575091e-04,\n",
              "        1.77036325e-04, 1.95836736e-05, 1.39149269e-04, 8.67660210e-06,\n",
              "        5.03824435e-05, 2.87151796e-05, 1.36874692e-05, 1.52412955e-04,\n",
              "        3.39705063e-04, 6.76755151e-04, 4.04842891e-05, 2.60937675e-04,\n",
              "        9.91508102e-04, 1.25250336e-04, 2.11409399e-05, 6.30988343e-04,\n",
              "        5.12563008e-04]),\n",
              " 'std_score_time': array([8.82028108e-05, 1.01089770e-04, 2.34066456e-04, 2.68503782e-05,\n",
              "        9.17512014e-06, 1.96114805e-04, 4.38430958e-06, 1.59922226e-04,\n",
              "        1.73321065e-04, 4.66716168e-06, 1.10068023e-04, 1.54110007e-04,\n",
              "        1.09634766e-04, 5.44435286e-05, 1.10571638e-04, 2.08329276e-05,\n",
              "        3.37919123e-05, 1.24367687e-05, 1.61407793e-05, 2.44896620e-05,\n",
              "        5.93162042e-05, 1.33111926e-04, 1.24860026e-04, 2.15338077e-04,\n",
              "        3.37410883e-04, 1.81618003e-05, 1.25780206e-05, 1.61147638e-04,\n",
              "        3.65891771e-04]),\n",
              " 'std_test_score': array([  1.92322751,   2.06263803,   2.24216791,   3.17750378,\n",
              "          3.1111112 ,   3.24377801,   3.3115535 ,   3.47867606,\n",
              "          3.87356371,   4.70915716,   6.23846564,   8.70934519,\n",
              "         12.37232305,  17.51450916,  24.4760469 ,  33.65533433,\n",
              "         45.50232133,  60.51685813,  79.24649583, 102.29134934,\n",
              "        130.32145254, 164.06513075, 204.45517596, 252.47059309,\n",
              "        309.45298618, 377.11694659, 457.6786093 , 554.27223109,\n",
              "        670.97458661])}"
            ]
          },
          "metadata": {},
          "execution_count": 24
        }
      ]
    },
    {
      "cell_type": "markdown",
      "metadata": {
        "id": "tGTzCLvttyK7"
      },
      "source": [
        "The following degree is the one with the highest score"
      ]
    },
    {
      "cell_type": "code",
      "metadata": {
        "scrolled": true,
        "id": "COkdAQWytyK9",
        "colab": {
          "base_uri": "https://localhost:8080/"
        },
        "outputId": "cdc328f1-40e8-4078-9815-1018edb9583b"
      },
      "source": [
        "grid.best_params_"
      ],
      "execution_count": 25,
      "outputs": [
        {
          "output_type": "execute_result",
          "data": {
            "text/plain": [
              "{'polynomialfeatures__degree': 2}"
            ]
          },
          "metadata": {},
          "execution_count": 25
        }
      ]
    },
    {
      "cell_type": "markdown",
      "metadata": {
        "id": "m7kpL3XJtyLB"
      },
      "source": [
        "Taking the regression with this degree, the cross validation score is:"
      ]
    },
    {
      "cell_type": "code",
      "metadata": {
        "scrolled": true,
        "id": "PUeUy1hAtyLC",
        "colab": {
          "base_uri": "https://localhost:8080/"
        },
        "outputId": "d8aee85e-98ce-481c-f887-c6f003927d97"
      },
      "source": [
        "grid.best_score_"
      ],
      "execution_count": 26,
      "outputs": [
        {
          "output_type": "execute_result",
          "data": {
            "text/plain": [
              "-3.58565748622163"
            ]
          },
          "metadata": {},
          "execution_count": 26
        }
      ]
    },
    {
      "cell_type": "markdown",
      "metadata": {
        "id": "dAzGVZirtyLG"
      },
      "source": [
        "The cross-validation root mean square error (RMSE):"
      ]
    },
    {
      "cell_type": "code",
      "metadata": {
        "id": "-OEI74VTtyLH",
        "colab": {
          "base_uri": "https://localhost:8080/"
        },
        "outputId": "205e45f8-00ea-4c68-daa1-3d1a74978de6"
      },
      "source": [
        "sqrt(-grid.best_score_)"
      ],
      "execution_count": 27,
      "outputs": [
        {
          "output_type": "execute_result",
          "data": {
            "text/plain": [
              "1.8935832398449322"
            ]
          },
          "metadata": {},
          "execution_count": 27
        }
      ]
    },
    {
      "cell_type": "markdown",
      "metadata": {
        "id": "8MM6AZBMtyLL"
      },
      "source": [
        "The regression model is:"
      ]
    },
    {
      "cell_type": "code",
      "metadata": {
        "id": "bxIpIqfgtyLN"
      },
      "source": [
        "model = grid.best_estimator_"
      ],
      "execution_count": 28,
      "outputs": []
    },
    {
      "cell_type": "markdown",
      "metadata": {
        "id": "Y0E5wDa1tyLR"
      },
      "source": [
        "We can evaluate it in the test set."
      ]
    },
    {
      "cell_type": "code",
      "metadata": {
        "id": "xc8nC9Z2tyLS",
        "colab": {
          "base_uri": "https://localhost:8080/"
        },
        "outputId": "f956091a-858a-4e27-b628-2ed75f74a93f"
      },
      "source": [
        "model.fit(X_train, y_train)\n",
        "y_pred = model.predict(X_test)\n",
        "sqrt(mean_squared_error(y_pred, y_test) )"
      ],
      "execution_count": 29,
      "outputs": [
        {
          "output_type": "execute_result",
          "data": {
            "text/plain": [
              "3.434935939419482"
            ]
          },
          "metadata": {},
          "execution_count": 29
        }
      ]
    },
    {
      "cell_type": "code",
      "metadata": {
        "id": "fC-1lkViRL6z"
      },
      "source": [
        ""
      ],
      "execution_count": 29,
      "outputs": []
    }
  ]
}