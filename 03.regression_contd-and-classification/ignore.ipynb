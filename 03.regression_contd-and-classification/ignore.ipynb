{
  "nbformat": 4,
  "nbformat_minor": 0,
  "metadata": {
    "kernelspec": {
      "display_name": "Python 3",
      "language": "python",
      "name": "python3"
    },
    "language_info": {
      "codemirror_mode": {
        "name": "ipython",
        "version": 3
      },
      "file_extension": ".py",
      "mimetype": "text/x-python",
      "name": "python",
      "nbconvert_exporter": "python",
      "pygments_lexer": "ipython3",
      "version": "3.6.8"
    },
    "colab": {
      "name": "ignore.ipynb",
      "provenance": []
    }
  },
  "cells": [
    {
      "cell_type": "markdown",
      "metadata": {
        "id": "TG1dr7Se0yj5",
        "colab_type": "text"
      },
      "source": [
        "This notebook is just intended to plot some figures\n",
        "\n",
        "Plot the exponential function"
      ]
    },
    {
      "cell_type": "markdown",
      "metadata": {
        "id": "srI0MpRZ0yj9",
        "colab_type": "text"
      },
      "source": [
        "[![Open In Colab](https://colab.research.google.com/assets/colab-badge.svg)](https://colab.research.google.com/github/andreaaraldo/machine-learning-for-networks/blob/master/03.classification/ignore.ipynb)"
      ]
    },
    {
      "cell_type": "code",
      "metadata": {
        "id": "wTAMOgT40ykC",
        "colab_type": "code",
        "colab": {}
      },
      "source": [
        "import numpy as np\n",
        "import math\n",
        "import matplotlib.pyplot as plt\n",
        "from scipy.special import softmax\n",
        "import pandas as pd\n",
        "from sklearn.linear_model import LogisticRegression\n",
        "from sklearn.model_selection import train_test_split\n",
        "from sklearn.metrics import plot_confusion_matrix\n",
        "import random"
      ],
      "execution_count": 0,
      "outputs": []
    },
    {
      "cell_type": "code",
      "metadata": {
        "id": "-H1-l0d00ykP",
        "colab_type": "code",
        "colab": {
          "base_uri": "https://localhost:8080/",
          "height": 409
        },
        "outputId": "2dc40b5e-beba-4320-b65a-240d282a2e73"
      },
      "source": [
        "x = [-1, 5, 5, 8, 6]\n",
        "y = softmax(x)\n",
        "\n",
        "\n",
        "fig, (ax1, ax2) = plt.subplots(1, 2)\n",
        "ax1.bar(np.arange(len(x)), x )\n",
        "ax1.set(title=\"Original values\")\n",
        "ax2.bar(np.arange(len(y)), y )\n",
        "ax2.set(title = \"Softmax values\")\n",
        "\n",
        "fig.tight_layout()\n",
        "\n",
        "\n",
        "from google.colab import drive\n",
        "mount_point = '/content/gdrive'\n",
        "drive.mount(mount_point, force_remount=True)\n",
        "drive_path = mount_point+'/My Drive/'\n",
        "my_path = drive_path + 'tsp/teaching/data-science-for-networks/img-from-code/03.classification/'\n",
        "\n",
        "\n",
        "fig.savefig(my_path+'softmax.pdf')"
      ],
      "execution_count": 2,
      "outputs": [
        {
          "output_type": "stream",
          "text": [
            "Go to this URL in a browser: https://accounts.google.com/o/oauth2/auth?client_id=947318989803-6bn6qk8qdgf4n4g3pfee6491hc0brc4i.apps.googleusercontent.com&redirect_uri=urn%3aietf%3awg%3aoauth%3a2.0%3aoob&response_type=code&scope=email%20https%3a%2f%2fwww.googleapis.com%2fauth%2fdocs.test%20https%3a%2f%2fwww.googleapis.com%2fauth%2fdrive%20https%3a%2f%2fwww.googleapis.com%2fauth%2fdrive.photos.readonly%20https%3a%2f%2fwww.googleapis.com%2fauth%2fpeopleapi.readonly\n",
            "\n",
            "Enter your authorization code:\n",
            "··········\n",
            "Mounted at /content/gdrive\n"
          ],
          "name": "stdout"
        },
        {
          "output_type": "display_data",
          "data": {
            "image/png": "[encoded data removed]",
            "text/plain": [
              "<Figure size 432x288 with 2 Axes>"
            ]
          },
          "metadata": {
            "tags": []
          }
        }
      ]
    },
    {
      "cell_type": "code",
      "metadata": {
        "id": "Uu7-gYkP0ykY",
        "colab_type": "code",
        "colab": {}
      },
      "source": [
        "X = np.arange(0,5000).reshape(-1,1)"
      ],
      "execution_count": 0,
      "outputs": []
    },
    {
      "cell_type": "code",
      "metadata": {
        "id": "qkUYOCFZ0ykg",
        "colab_type": "code",
        "colab": {}
      },
      "source": [
        "y = [ int( ( a + random.uniform(-200, 100) ) /1669)%3 for a in X ]"
      ],
      "execution_count": 0,
      "outputs": []
    },
    {
      "cell_type": "code",
      "metadata": {
        "id": "8Aks2leq0yko",
        "colab_type": "code",
        "colab": {
          "base_uri": "https://localhost:8080/",
          "height": 90
        },
        "outputId": "feb9b1b7-cefc-4c51-cb26-ed6ffe639ee7"
      },
      "source": [
        "pd.value_counts(y)"
      ],
      "execution_count": 6,
      "outputs": [
        {
          "output_type": "execute_result",
          "data": {
            "text/plain": [
              "0    1735\n",
              "1    1668\n",
              "2    1597\n",
              "dtype: int64"
            ]
          },
          "metadata": {
            "tags": []
          },
          "execution_count": 6
        }
      ]
    },
    {
      "cell_type": "code",
      "metadata": {
        "id": "gVsMoszN0ykv",
        "colab_type": "code",
        "colab": {
          "base_uri": "https://localhost:8080/",
          "height": 279
        },
        "outputId": "629034d8-ae32-44a5-e299-3890dd0127d2"
      },
      "source": [
        "X_train, X_test, y_train, y_test = train_test_split(X,y, test_size=0.2, random_state=2)\n",
        "\n",
        "model = LogisticRegression()\n",
        "model.fit(X_train, y_train)\n",
        "plot_confusion_matrix(model, X_test, y_test, normalize='true' )\n",
        "plt.savefig(my_path+'good-confusion.pdf')"
      ],
      "execution_count": 7,
      "outputs": [
        {
          "output_type": "display_data",
          "data": {
            "image/png": "[encoded data removed]",
            "text/plain": [
              "<Figure size 432x288 with 2 Axes>"
            ]
          },
          "metadata": {
            "tags": []
          }
        }
      ]
    },
    {
      "cell_type": "code",
      "metadata": {
        "id": "0ZaDxfY60yk1",
        "colab_type": "code",
        "colab": {}
      },
      "source": [
        ""
      ],
      "execution_count": 0,
      "outputs": []
    }
  ]
}