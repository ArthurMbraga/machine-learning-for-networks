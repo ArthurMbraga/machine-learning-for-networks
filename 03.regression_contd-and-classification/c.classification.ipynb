{
  "nbformat": 4,
  "nbformat_minor": 0,
  "metadata": {
    "kernelspec": {
      "display_name": "Python 3",
      "language": "python",
      "name": "python3"
    },
    "language_info": {
      "codemirror_mode": {
        "name": "ipython",
        "version": 3
      },
      "file_extension": ".py",
      "mimetype": "text/x-python",
      "name": "python",
      "nbconvert_exporter": "python",
      "pygments_lexer": "ipython3",
      "version": "3.6.8"
    },
    "colab": {
      "name": "c.classification.ipynb",
      "provenance": []
    }
  },
  "cells": [
    {
      "cell_type": "markdown",
      "metadata": {
        "id": "-Vr-wBr92C5M"
      },
      "source": [
        "[![Open In Colab](https://colab.research.google.com/assets/colab-badge.svg)](https://colab.research.google.com/github/andreaaraldo/machine-learning-for-networks/blob/master/03.regression_contd-and-classification/c.classification.ipynb)"
      ]
    },
    {
      "cell_type": "code",
      "metadata": {
        "id": "Tfn4oGZi2C5R"
      },
      "source": [
        "import pandas as pd\n",
        "import numpy as np\n",
        "from sklearn.model_selection import train_test_split\n",
        "from sklearn.linear_model import LogisticRegression"
      ],
      "execution_count": null,
      "outputs": []
    },
    {
      "cell_type": "code",
      "source": [
        "from sklearn.pipeline import make_pipeline\n",
        "\n",
        "from sklearn.metrics import accuracy_score, classification_report\n",
        "from sklearn.model_selection import GridSearchCV, KFold\n",
        "\n",
        "import matplotlib.pyplot as plt\n",
        "%matplotlib inline\n",
        "\n",
        "from sklearn.preprocessing import StandardScaler\n",
        "\n",
        "!pip install imbalanced-learn\n",
        "from imblearn.over_sampling import SMOTE\n",
        "\n",
        "# We import a function I prepared for you in the course library\n",
        "! wget https://raw.githubusercontent.com/andreaaraldo/machine-learning-for-networks/master/course_library/visualization.py\n",
        "from visualization import plot_conf_mat"
      ],
      "metadata": {
        "colab": {
          "base_uri": "https://localhost:8080/"
        },
        "id": "11e_v29q0OR1",
        "outputId": "54771097-6cfa-4091-ac3f-45b06b1fff88"
      },
      "execution_count": null,
      "outputs": [
        {
          "output_type": "stream",
          "name": "stdout",
          "text": [
            "--2023-05-16 18:54:02--  https://raw.githubusercontent.com/andreaaraldo/machine-learning-for-networks/master/course_library/visualization.py\n",
            "Resolving raw.githubusercontent.com (raw.githubusercontent.com)... 185.199.110.133, 185.199.109.133, 185.199.108.133, ...\n",
            "Connecting to raw.githubusercontent.com (raw.githubusercontent.com)|185.199.110.133|:443... connected.\n",
            "HTTP request sent, awaiting response... 200 OK\n",
            "Length: 13023 (13K) [text/plain]\n",
            "Saving to: ‘visualization.py.2’\n",
            "\n",
            "\rvisualization.py.2    0%[                    ]       0  --.-KB/s               \rvisualization.py.2  100%[===================>]  12.72K  --.-KB/s    in 0s      \n",
            "\n",
            "2023-05-16 18:54:03 (138 MB/s) - ‘visualization.py.2’ saved [13023/13023]\n",
            "\n"
          ]
        }
      ]
    },
    {
      "cell_type": "code",
      "metadata": {
        "id": "6Yh2SEcE3L0i"
      },
      "source": [
        "savefigures=False"
      ],
      "execution_count": null,
      "outputs": []
    },
    {
      "cell_type": "markdown",
      "metadata": {
        "id": "6V2i7HKP246b"
      },
      "source": [
        "Download the dataset from my github"
      ]
    },
    {
      "cell_type": "code",
      "metadata": {
        "id": "I_bYiNxp2C5j",
        "colab": {
          "base_uri": "https://localhost:8080/"
        },
        "outputId": "da980e33-b2d8-4cd0-a810-d55efcdbd0a7"
      },
      "source": [
        "dataset_to_use = 'A'\n",
        "mydatasets_folder = \"https://raw.githubusercontent.com/andreaaraldo/machine-learning-for-networks/master/processed_datasets/requet/\"\n",
        "filename = \"df.\"+ dataset_to_use+\"_2.csv\"\n",
        "complete_name = mydatasets_folder+filename\n",
        "!wget $complete_name\n"
      ],
      "execution_count": null,
      "outputs": [
        {
          "output_type": "stream",
          "name": "stdout",
          "text": [
            "--2023-05-16 18:54:03--  https://raw.githubusercontent.com/andreaaraldo/machine-learning-for-networks/master/processed_datasets/requet/df.A_2.csv\n",
            "Resolving raw.githubusercontent.com (raw.githubusercontent.com)... 185.199.110.133, 185.199.108.133, 185.199.111.133, ...\n",
            "Connecting to raw.githubusercontent.com (raw.githubusercontent.com)|185.199.110.133|:443... connected.\n",
            "HTTP request sent, awaiting response... 200 OK\n",
            "Length: 315832 (308K) [text/plain]\n",
            "Saving to: ‘df.A_2.csv.2’\n",
            "\n",
            "\rdf.A_2.csv.2          0%[                    ]       0  --.-KB/s               \rdf.A_2.csv.2        100%[===================>] 308.43K  --.-KB/s    in 0.03s   \n",
            "\n",
            "2023-05-16 18:54:03 (8.84 MB/s) - ‘df.A_2.csv.2’ saved [315832/315832]\n",
            "\n"
          ]
        }
      ]
    },
    {
      "cell_type": "code",
      "metadata": {
        "id": "LfNTDaVS2xjG"
      },
      "source": [
        "df = pd.read_csv(filename)"
      ],
      "execution_count": null,
      "outputs": []
    },
    {
      "cell_type": "code",
      "metadata": {
        "scrolled": true,
        "id": "d9RI7qSw2C5s",
        "colab": {
          "base_uri": "https://localhost:8080/"
        },
        "outputId": "d15ebc8a-d81c-41e6-bbda-404f03ef2c5f"
      },
      "source": [
        "print(\"The resolutions found in our dataset are\")\n",
        "set(df['label_num'].values)"
      ],
      "execution_count": null,
      "outputs": [
        {
          "output_type": "stream",
          "name": "stdout",
          "text": [
            "The resolutions found in our dataset are\n"
          ]
        },
        {
          "output_type": "execute_result",
          "data": {
            "text/plain": [
              "{144, 240, 360, 480, 720, 1080}"
            ]
          },
          "metadata": {},
          "execution_count": 86
        }
      ]
    },
    {
      "cell_type": "markdown",
      "metadata": {
        "id": "3JFz9NcU2C52"
      },
      "source": [
        "How many samples in each class?"
      ]
    },
    {
      "cell_type": "code",
      "metadata": {
        "id": "tIqNr-kk2C55",
        "colab": {
          "base_uri": "https://localhost:8080/"
        },
        "outputId": "8ce34c3d-b9f5-4ceb-c9cc-8344410a84b3"
      },
      "source": [
        "df['label_num'].value_counts()"
      ],
      "execution_count": null,
      "outputs": [
        {
          "output_type": "execute_result",
          "data": {
            "text/plain": [
              "720     92\n",
              "480     63\n",
              "1080    55\n",
              "360     33\n",
              "144     27\n",
              "240     22\n",
              "Name: label_num, dtype: int64"
            ]
          },
          "metadata": {},
          "execution_count": 87
        }
      ]
    },
    {
      "cell_type": "markdown",
      "metadata": {
        "id": "D490rkaIMZlq"
      },
      "source": [
        "# Binary classification with Logistic Regression"
      ]
    },
    {
      "cell_type": "markdown",
      "metadata": {
        "id": "Qx2SQZOt2C6C"
      },
      "source": [
        "We want to infer whether the resolution of the transmitted video is low (<=240) or high (>=360)"
      ]
    },
    {
      "cell_type": "code",
      "metadata": {
        "id": "5oJj_qhX2C6E",
        "colab": {
          "base_uri": "https://localhost:8080/"
        },
        "outputId": "c14d3408-1d35-461f-ecf0-b249649d7e74"
      },
      "source": [
        "high_res = df['label_num']>=720\n",
        "high_res.head()"
      ],
      "execution_count": null,
      "outputs": [
        {
          "output_type": "execute_result",
          "data": {
            "text/plain": [
              "0    False\n",
              "1    False\n",
              "2     True\n",
              "3    False\n",
              "4    False\n",
              "Name: label_num, dtype: bool"
            ]
          },
          "metadata": {},
          "execution_count": 88
        }
      ]
    },
    {
      "cell_type": "markdown",
      "metadata": {
        "id": "vfQ4r0ya2C6M"
      },
      "source": [
        "Convert into `int`"
      ]
    },
    {
      "cell_type": "code",
      "metadata": {
        "scrolled": false,
        "id": "5NgalOJf2C6O",
        "colab": {
          "base_uri": "https://localhost:8080/"
        },
        "outputId": "7600b7ca-4605-40f5-da0c-8d6537d9d534"
      },
      "source": [
        "high_res = high_res.astype(np.int)\n",
        "high_res.head()"
      ],
      "execution_count": null,
      "outputs": [
        {
          "output_type": "stream",
          "name": "stderr",
          "text": [
            "<ipython-input-89-add0c3eff9cc>:1: DeprecationWarning: `np.int` is a deprecated alias for the builtin `int`. To silence this warning, use `int` by itself. Doing this will not modify any behavior and is safe. When replacing `np.int`, you may wish to use e.g. `np.int64` or `np.int32` to specify the precision. If you wish to review your current use, check the release note link for additional information.\n",
            "Deprecated in NumPy 1.20; for more details and guidance: https://numpy.org/devdocs/release/1.20.0-notes.html#deprecations\n",
            "  high_res = high_res.astype(np.int)\n"
          ]
        },
        {
          "output_type": "execute_result",
          "data": {
            "text/plain": [
              "0    0\n",
              "1    0\n",
              "2    1\n",
              "3    0\n",
              "4    0\n",
              "Name: label_num, dtype: int64"
            ]
          },
          "metadata": {},
          "execution_count": 89
        }
      ]
    },
    {
      "cell_type": "markdown",
      "metadata": {
        "id": "PCpiiFDP2C6V"
      },
      "source": [
        "Let's add it to the dataframe"
      ]
    },
    {
      "cell_type": "code",
      "metadata": {
        "id": "yt_uS4ZX2C6Y"
      },
      "source": [
        "df['high_res'] = high_res"
      ],
      "execution_count": null,
      "outputs": []
    },
    {
      "cell_type": "code",
      "metadata": {
        "id": "-pV73WJR2C6i"
      },
      "source": [
        "df_train,df_test = train_test_split(df, test_size=0.2, random_state=1)\n",
        "\n",
        "columns = ['BytesReceived0', 'PacketsSent0']\n",
        "\n",
        "X_train = df_train[columns]\n",
        "X_test = df_test[columns]\n",
        "y_train = df_train['high_res']\n",
        "y_test = df_test['high_res']"
      ],
      "execution_count": null,
      "outputs": []
    },
    {
      "cell_type": "markdown",
      "metadata": {
        "id": "5SA5mcPo2C6n"
      },
      "source": [
        "Logistic regression adds by default a regularization with weight `C`.\n",
        "Let's try with no regularization first"
      ]
    },
    {
      "cell_type": "code",
      "metadata": {
        "id": "pJesnyet2C6q",
        "colab": {
          "base_uri": "https://localhost:8080/",
          "height": 74
        },
        "outputId": "72868bbc-5968-4096-e9f8-a4edbce038bb"
      },
      "source": [
        "# We cannot directly write `C=0`, as the library wants `C`>0, so we just provide a very small `C`\n",
        "\n",
        "model = LogisticRegression(C=1e-9)\n",
        "model.fit(X_train, y_train)"
      ],
      "execution_count": null,
      "outputs": [
        {
          "output_type": "execute_result",
          "data": {
            "text/plain": [
              "LogisticRegression(C=1e-09)"
            ],
            "text/html": [
              "<style>#sk-container-id-5 {color: black;background-color: white;}#sk-container-id-5 pre{padding: 0;}#sk-container-id-5 div.sk-toggleable {background-color: white;}#sk-container-id-5 label.sk-toggleable__label {cursor: pointer;display: block;width: 100%;margin-bottom: 0;padding: 0.3em;box-sizing: border-box;text-align: center;}#sk-container-id-5 label.sk-toggleable__label-arrow:before {content: \"▸\";float: left;margin-right: 0.25em;color: #696969;}#sk-container-id-5 label.sk-toggleable__label-arrow:hover:before {color: black;}#sk-container-id-5 div.sk-estimator:hover label.sk-toggleable__label-arrow:before {color: black;}#sk-container-id-5 div.sk-toggleable__content {max-height: 0;max-width: 0;overflow: hidden;text-align: left;background-color: #f0f8ff;}#sk-container-id-5 div.sk-toggleable__content pre {margin: 0.2em;color: black;border-radius: 0.25em;background-color: #f0f8ff;}#sk-container-id-5 input.sk-toggleable__control:checked~div.sk-toggleable__content {max-height: 200px;max-width: 100%;overflow: auto;}#sk-container-id-5 input.sk-toggleable__control:checked~label.sk-toggleable__label-arrow:before {content: \"▾\";}#sk-container-id-5 div.sk-estimator input.sk-toggleable__control:checked~label.sk-toggleable__label {background-color: #d4ebff;}#sk-container-id-5 div.sk-label input.sk-toggleable__control:checked~label.sk-toggleable__label {background-color: #d4ebff;}#sk-container-id-5 input.sk-hidden--visually {border: 0;clip: rect(1px 1px 1px 1px);clip: rect(1px, 1px, 1px, 1px);height: 1px;margin: -1px;overflow: hidden;padding: 0;position: absolute;width: 1px;}#sk-container-id-5 div.sk-estimator {font-family: monospace;background-color: #f0f8ff;border: 1px dotted black;border-radius: 0.25em;box-sizing: border-box;margin-bottom: 0.5em;}#sk-container-id-5 div.sk-estimator:hover {background-color: #d4ebff;}#sk-container-id-5 div.sk-parallel-item::after {content: \"\";width: 100%;border-bottom: 1px solid gray;flex-grow: 1;}#sk-container-id-5 div.sk-label:hover label.sk-toggleable__label {background-color: #d4ebff;}#sk-container-id-5 div.sk-serial::before {content: \"\";position: absolute;border-left: 1px solid gray;box-sizing: border-box;top: 0;bottom: 0;left: 50%;z-index: 0;}#sk-container-id-5 div.sk-serial {display: flex;flex-direction: column;align-items: center;background-color: white;padding-right: 0.2em;padding-left: 0.2em;position: relative;}#sk-container-id-5 div.sk-item {position: relative;z-index: 1;}#sk-container-id-5 div.sk-parallel {display: flex;align-items: stretch;justify-content: center;background-color: white;position: relative;}#sk-container-id-5 div.sk-item::before, #sk-container-id-5 div.sk-parallel-item::before {content: \"\";position: absolute;border-left: 1px solid gray;box-sizing: border-box;top: 0;bottom: 0;left: 50%;z-index: -1;}#sk-container-id-5 div.sk-parallel-item {display: flex;flex-direction: column;z-index: 1;position: relative;background-color: white;}#sk-container-id-5 div.sk-parallel-item:first-child::after {align-self: flex-end;width: 50%;}#sk-container-id-5 div.sk-parallel-item:last-child::after {align-self: flex-start;width: 50%;}#sk-container-id-5 div.sk-parallel-item:only-child::after {width: 0;}#sk-container-id-5 div.sk-dashed-wrapped {border: 1px dashed gray;margin: 0 0.4em 0.5em 0.4em;box-sizing: border-box;padding-bottom: 0.4em;background-color: white;}#sk-container-id-5 div.sk-label label {font-family: monospace;font-weight: bold;display: inline-block;line-height: 1.2em;}#sk-container-id-5 div.sk-label-container {text-align: center;}#sk-container-id-5 div.sk-container {/* jupyter's `normalize.less` sets `[hidden] { display: none; }` but bootstrap.min.css set `[hidden] { display: none !important; }` so we also need the `!important` here to be able to override the default hidden behavior on the sphinx rendered scikit-learn.org. See: https://github.com/scikit-learn/scikit-learn/issues/21755 */display: inline-block !important;position: relative;}#sk-container-id-5 div.sk-text-repr-fallback {display: none;}</style><div id=\"sk-container-id-5\" class=\"sk-top-container\"><div class=\"sk-text-repr-fallback\"><pre>LogisticRegression(C=1e-09)</pre><b>In a Jupyter environment, please rerun this cell to show the HTML representation or trust the notebook. <br />On GitHub, the HTML representation is unable to render, please try loading this page with nbviewer.org.</b></div><div class=\"sk-container\" hidden><div class=\"sk-item\"><div class=\"sk-estimator sk-toggleable\"><input class=\"sk-toggleable__control sk-hidden--visually\" id=\"sk-estimator-id-9\" type=\"checkbox\" checked><label for=\"sk-estimator-id-9\" class=\"sk-toggleable__label sk-toggleable__label-arrow\">LogisticRegression</label><div class=\"sk-toggleable__content\"><pre>LogisticRegression(C=1e-09)</pre></div></div></div></div></div>"
            ]
          },
          "metadata": {},
          "execution_count": 92
        }
      ]
    },
    {
      "cell_type": "code",
      "metadata": {
        "scrolled": true,
        "id": "BKLNhQs22C6y",
        "colab": {
          "base_uri": "https://localhost:8080/"
        },
        "outputId": "272a0969-6141-4a9b-edf8-8b4c9dbc409c"
      },
      "source": [
        "y_pred_proba = model.predict_proba(X_test)\n",
        "y_pred_proba"
      ],
      "execution_count": null,
      "outputs": [
        {
          "output_type": "execute_result",
          "data": {
            "text/plain": [
              "array([[0.42748436, 0.57251564],\n",
              "       [0.45211939, 0.54788061],\n",
              "       [0.40498133, 0.59501867],\n",
              "       [0.42705787, 0.57294213],\n",
              "       [0.46802996, 0.53197004],\n",
              "       [0.5       , 0.5       ],\n",
              "       [0.45635394, 0.54364606],\n",
              "       [0.43421147, 0.56578853],\n",
              "       [0.44159467, 0.55840533],\n",
              "       [0.49573093, 0.50426907],\n",
              "       [0.44854129, 0.55145871],\n",
              "       [0.5       , 0.5       ],\n",
              "       [0.5       , 0.5       ],\n",
              "       [0.44266093, 0.55733907],\n",
              "       [0.48292983, 0.51707017],\n",
              "       [0.48932869, 0.51067131],\n",
              "       [0.39792715, 0.60207285],\n",
              "       [0.47973237, 0.52026763],\n",
              "       [0.45211892, 0.54788108],\n",
              "       [0.5       , 0.5       ],\n",
              "       [0.43329908, 0.56670092],\n",
              "       [0.47760179, 0.52239821],\n",
              "       [0.47653727, 0.52346273],\n",
              "       [0.46802549, 0.53197451],\n",
              "       [0.40716638, 0.59283362],\n",
              "       [0.48719528, 0.51280472],\n",
              "       [0.5       , 0.5       ],\n",
              "       [0.42167345, 0.57832655],\n",
              "       [0.5       , 0.5       ],\n",
              "       [0.42370421, 0.57629579],\n",
              "       [0.46377526, 0.53622474],\n",
              "       [0.47760226, 0.52239774],\n",
              "       [0.5       , 0.5       ],\n",
              "       [0.46271555, 0.53728445],\n",
              "       [0.48506258, 0.51493742],\n",
              "       [0.47276603, 0.52723397],\n",
              "       [0.36668748, 0.63331252],\n",
              "       [0.49146225, 0.50853775],\n",
              "       [0.48612857, 0.51387143],\n",
              "       [0.48186474, 0.51813526],\n",
              "       [0.43106755, 0.56893245],\n",
              "       [0.36545462, 0.63454538],\n",
              "       [0.45184838, 0.54815162],\n",
              "       [0.42540337, 0.57459663],\n",
              "       [0.5       , 0.5       ],\n",
              "       [0.45517124, 0.54482876],\n",
              "       [0.46377538, 0.53622462],\n",
              "       [0.5       , 0.5       ],\n",
              "       [0.47015156, 0.52984844],\n",
              "       [0.46320049, 0.53679951],\n",
              "       [0.49252945, 0.50747055],\n",
              "       [0.43355826, 0.56644174],\n",
              "       [0.40984533, 0.59015467],\n",
              "       [0.43002091, 0.56997909],\n",
              "       [0.47760249, 0.52239751],\n",
              "       [0.4457841 , 0.5542159 ],\n",
              "       [0.46271496, 0.53728504],\n",
              "       [0.42064143, 0.57935857],\n",
              "       [0.48506199, 0.51493801]])"
            ]
          },
          "metadata": {},
          "execution_count": 93
        }
      ]
    },
    {
      "cell_type": "markdown",
      "metadata": {
        "id": "q1ir_4S12C64"
      },
      "source": [
        "`y_pred_proba` has two values:\n",
        "* $\\mathbb{P}(\\mathbf{x}\\notin \\text{class }1)$\n",
        "* $\\mathbb{P}(\\mathbf{x}\\in \\text{class }1)$\n",
        "\n",
        "They sum up to 1."
      ]
    },
    {
      "cell_type": "markdown",
      "metadata": {
        "id": "M8y8EqW82C67"
      },
      "source": [
        "The actual prediction is"
      ]
    },
    {
      "cell_type": "code",
      "metadata": {
        "scrolled": false,
        "id": "93X7Xkr72C69",
        "colab": {
          "base_uri": "https://localhost:8080/"
        },
        "outputId": "84a97f08-1282-4953-a7e7-fd335c05183d"
      },
      "source": [
        "y_pred = model.predict(X_test)\n",
        "y_pred"
      ],
      "execution_count": null,
      "outputs": [
        {
          "output_type": "execute_result",
          "data": {
            "text/plain": [
              "array([1, 1, 1, 1, 1, 0, 1, 1, 1, 1, 1, 0, 0, 1, 1, 1, 1, 1, 1, 0, 1, 1,\n",
              "       1, 1, 1, 1, 0, 1, 0, 1, 1, 1, 0, 1, 1, 1, 1, 1, 1, 1, 1, 1, 1, 1,\n",
              "       0, 1, 1, 0, 1, 1, 1, 1, 1, 1, 1, 1, 1, 1, 1])"
            ]
          },
          "metadata": {},
          "execution_count": 94
        }
      ]
    },
    {
      "cell_type": "markdown",
      "metadata": {
        "id": "y5NX6hfT2C7D"
      },
      "source": [
        "Let's have a look at the predictions vs. the true value"
      ]
    },
    {
      "cell_type": "code",
      "metadata": {
        "scrolled": true,
        "id": "AcaM3Ide2C7F",
        "colab": {
          "base_uri": "https://localhost:8080/",
          "height": 1000
        },
        "outputId": "c113b56d-8af4-43c3-dfb0-541e447f93c8"
      },
      "source": [
        "pd.DataFrame({'true':y_test, 'pred':y_pred })"
      ],
      "execution_count": null,
      "outputs": [
        {
          "output_type": "execute_result",
          "data": {
            "text/plain": [
              "     true  pred\n",
              "132     0     1\n",
              "267     0     1\n",
              "266     1     1\n",
              "62      1     1\n",
              "110     1     1\n",
              "27      1     0\n",
              "91      0     1\n",
              "189     1     1\n",
              "85      1     1\n",
              "164     1     1\n",
              "88      0     1\n",
              "11      1     0\n",
              "139     0     0\n",
              "174     1     1\n",
              "12      0     1\n",
              "18      0     1\n",
              "291     1     1\n",
              "59      0     1\n",
              "243     1     1\n",
              "207     0     0\n",
              "119     0     1\n",
              "127     1     1\n",
              "102     0     1\n",
              "177     0     1\n",
              "154     1     1\n",
              "90      1     1\n",
              "146     1     0\n",
              "204     0     1\n",
              "51      0     0\n",
              "229     0     1\n",
              "157     0     1\n",
              "105     0     1\n",
              "181     1     0\n",
              "185     0     1\n",
              "123     0     1\n",
              "258     0     1\n",
              "290     1     1\n",
              "289     0     1\n",
              "232     1     1\n",
              "180     0     1\n",
              "279     1     1\n",
              "274     1     1\n",
              "218     1     1\n",
              "202     1     1\n",
              "208     0     0\n",
              "120     0     1\n",
              "89      1     1\n",
              "280     1     0\n",
              "238     0     1\n",
              "99      0     1\n",
              "214     0     1\n",
              "224     0     1\n",
              "39      1     1\n",
              "58      1     1\n",
              "179     0     1\n",
              "201     0     1\n",
              "117     0     1\n",
              "4       0     1\n",
              "17      1     1"
            ],
            "text/html": [
              "\n",
              "  <div id=\"df-bbd4ab63-2e44-4540-9a63-da3c04ff55c6\">\n",
              "    <div class=\"colab-df-container\">\n",
              "      <div>\n",
              "<style scoped>\n",
              "    .dataframe tbody tr th:only-of-type {\n",
              "        vertical-align: middle;\n",
              "    }\n",
              "\n",
              "    .dataframe tbody tr th {\n",
              "        vertical-align: top;\n",
              "    }\n",
              "\n",
              "    .dataframe thead th {\n",
              "        text-align: right;\n",
              "    }\n",
              "</style>\n",
              "<table border=\"1\" class=\"dataframe\">\n",
              "  <thead>\n",
              "    <tr style=\"text-align: right;\">\n",
              "      <th></th>\n",
              "      <th>true</th>\n",
              "      <th>pred</th>\n",
              "    </tr>\n",
              "  </thead>\n",
              "  <tbody>\n",
              "    <tr>\n",
              "      <th>132</th>\n",
              "      <td>0</td>\n",
              "      <td>1</td>\n",
              "    </tr>\n",
              "    <tr>\n",
              "      <th>267</th>\n",
              "      <td>0</td>\n",
              "      <td>1</td>\n",
              "    </tr>\n",
              "    <tr>\n",
              "      <th>266</th>\n",
              "      <td>1</td>\n",
              "      <td>1</td>\n",
              "    </tr>\n",
              "    <tr>\n",
              "      <th>62</th>\n",
              "      <td>1</td>\n",
              "      <td>1</td>\n",
              "    </tr>\n",
              "    <tr>\n",
              "      <th>110</th>\n",
              "      <td>1</td>\n",
              "      <td>1</td>\n",
              "    </tr>\n",
              "    <tr>\n",
              "      <th>27</th>\n",
              "      <td>1</td>\n",
              "      <td>0</td>\n",
              "    </tr>\n",
              "    <tr>\n",
              "      <th>91</th>\n",
              "      <td>0</td>\n",
              "      <td>1</td>\n",
              "    </tr>\n",
              "    <tr>\n",
              "      <th>189</th>\n",
              "      <td>1</td>\n",
              "      <td>1</td>\n",
              "    </tr>\n",
              "    <tr>\n",
              "      <th>85</th>\n",
              "      <td>1</td>\n",
              "      <td>1</td>\n",
              "    </tr>\n",
              "    <tr>\n",
              "      <th>164</th>\n",
              "      <td>1</td>\n",
              "      <td>1</td>\n",
              "    </tr>\n",
              "    <tr>\n",
              "      <th>88</th>\n",
              "      <td>0</td>\n",
              "      <td>1</td>\n",
              "    </tr>\n",
              "    <tr>\n",
              "      <th>11</th>\n",
              "      <td>1</td>\n",
              "      <td>0</td>\n",
              "    </tr>\n",
              "    <tr>\n",
              "      <th>139</th>\n",
              "      <td>0</td>\n",
              "      <td>0</td>\n",
              "    </tr>\n",
              "    <tr>\n",
              "      <th>174</th>\n",
              "      <td>1</td>\n",
              "      <td>1</td>\n",
              "    </tr>\n",
              "    <tr>\n",
              "      <th>12</th>\n",
              "      <td>0</td>\n",
              "      <td>1</td>\n",
              "    </tr>\n",
              "    <tr>\n",
              "      <th>18</th>\n",
              "      <td>0</td>\n",
              "      <td>1</td>\n",
              "    </tr>\n",
              "    <tr>\n",
              "      <th>291</th>\n",
              "      <td>1</td>\n",
              "      <td>1</td>\n",
              "    </tr>\n",
              "    <tr>\n",
              "      <th>59</th>\n",
              "      <td>0</td>\n",
              "      <td>1</td>\n",
              "    </tr>\n",
              "    <tr>\n",
              "      <th>243</th>\n",
              "      <td>1</td>\n",
              "      <td>1</td>\n",
              "    </tr>\n",
              "    <tr>\n",
              "      <th>207</th>\n",
              "      <td>0</td>\n",
              "      <td>0</td>\n",
              "    </tr>\n",
              "    <tr>\n",
              "      <th>119</th>\n",
              "      <td>0</td>\n",
              "      <td>1</td>\n",
              "    </tr>\n",
              "    <tr>\n",
              "      <th>127</th>\n",
              "      <td>1</td>\n",
              "      <td>1</td>\n",
              "    </tr>\n",
              "    <tr>\n",
              "      <th>102</th>\n",
              "      <td>0</td>\n",
              "      <td>1</td>\n",
              "    </tr>\n",
              "    <tr>\n",
              "      <th>177</th>\n",
              "      <td>0</td>\n",
              "      <td>1</td>\n",
              "    </tr>\n",
              "    <tr>\n",
              "      <th>154</th>\n",
              "      <td>1</td>\n",
              "      <td>1</td>\n",
              "    </tr>\n",
              "    <tr>\n",
              "      <th>90</th>\n",
              "      <td>1</td>\n",
              "      <td>1</td>\n",
              "    </tr>\n",
              "    <tr>\n",
              "      <th>146</th>\n",
              "      <td>1</td>\n",
              "      <td>0</td>\n",
              "    </tr>\n",
              "    <tr>\n",
              "      <th>204</th>\n",
              "      <td>0</td>\n",
              "      <td>1</td>\n",
              "    </tr>\n",
              "    <tr>\n",
              "      <th>51</th>\n",
              "      <td>0</td>\n",
              "      <td>0</td>\n",
              "    </tr>\n",
              "    <tr>\n",
              "      <th>229</th>\n",
              "      <td>0</td>\n",
              "      <td>1</td>\n",
              "    </tr>\n",
              "    <tr>\n",
              "      <th>157</th>\n",
              "      <td>0</td>\n",
              "      <td>1</td>\n",
              "    </tr>\n",
              "    <tr>\n",
              "      <th>105</th>\n",
              "      <td>0</td>\n",
              "      <td>1</td>\n",
              "    </tr>\n",
              "    <tr>\n",
              "      <th>181</th>\n",
              "      <td>1</td>\n",
              "      <td>0</td>\n",
              "    </tr>\n",
              "    <tr>\n",
              "      <th>185</th>\n",
              "      <td>0</td>\n",
              "      <td>1</td>\n",
              "    </tr>\n",
              "    <tr>\n",
              "      <th>123</th>\n",
              "      <td>0</td>\n",
              "      <td>1</td>\n",
              "    </tr>\n",
              "    <tr>\n",
              "      <th>258</th>\n",
              "      <td>0</td>\n",
              "      <td>1</td>\n",
              "    </tr>\n",
              "    <tr>\n",
              "      <th>290</th>\n",
              "      <td>1</td>\n",
              "      <td>1</td>\n",
              "    </tr>\n",
              "    <tr>\n",
              "      <th>289</th>\n",
              "      <td>0</td>\n",
              "      <td>1</td>\n",
              "    </tr>\n",
              "    <tr>\n",
              "      <th>232</th>\n",
              "      <td>1</td>\n",
              "      <td>1</td>\n",
              "    </tr>\n",
              "    <tr>\n",
              "      <th>180</th>\n",
              "      <td>0</td>\n",
              "      <td>1</td>\n",
              "    </tr>\n",
              "    <tr>\n",
              "      <th>279</th>\n",
              "      <td>1</td>\n",
              "      <td>1</td>\n",
              "    </tr>\n",
              "    <tr>\n",
              "      <th>274</th>\n",
              "      <td>1</td>\n",
              "      <td>1</td>\n",
              "    </tr>\n",
              "    <tr>\n",
              "      <th>218</th>\n",
              "      <td>1</td>\n",
              "      <td>1</td>\n",
              "    </tr>\n",
              "    <tr>\n",
              "      <th>202</th>\n",
              "      <td>1</td>\n",
              "      <td>1</td>\n",
              "    </tr>\n",
              "    <tr>\n",
              "      <th>208</th>\n",
              "      <td>0</td>\n",
              "      <td>0</td>\n",
              "    </tr>\n",
              "    <tr>\n",
              "      <th>120</th>\n",
              "      <td>0</td>\n",
              "      <td>1</td>\n",
              "    </tr>\n",
              "    <tr>\n",
              "      <th>89</th>\n",
              "      <td>1</td>\n",
              "      <td>1</td>\n",
              "    </tr>\n",
              "    <tr>\n",
              "      <th>280</th>\n",
              "      <td>1</td>\n",
              "      <td>0</td>\n",
              "    </tr>\n",
              "    <tr>\n",
              "      <th>238</th>\n",
              "      <td>0</td>\n",
              "      <td>1</td>\n",
              "    </tr>\n",
              "    <tr>\n",
              "      <th>99</th>\n",
              "      <td>0</td>\n",
              "      <td>1</td>\n",
              "    </tr>\n",
              "    <tr>\n",
              "      <th>214</th>\n",
              "      <td>0</td>\n",
              "      <td>1</td>\n",
              "    </tr>\n",
              "    <tr>\n",
              "      <th>224</th>\n",
              "      <td>0</td>\n",
              "      <td>1</td>\n",
              "    </tr>\n",
              "    <tr>\n",
              "      <th>39</th>\n",
              "      <td>1</td>\n",
              "      <td>1</td>\n",
              "    </tr>\n",
              "    <tr>\n",
              "      <th>58</th>\n",
              "      <td>1</td>\n",
              "      <td>1</td>\n",
              "    </tr>\n",
              "    <tr>\n",
              "      <th>179</th>\n",
              "      <td>0</td>\n",
              "      <td>1</td>\n",
              "    </tr>\n",
              "    <tr>\n",
              "      <th>201</th>\n",
              "      <td>0</td>\n",
              "      <td>1</td>\n",
              "    </tr>\n",
              "    <tr>\n",
              "      <th>117</th>\n",
              "      <td>0</td>\n",
              "      <td>1</td>\n",
              "    </tr>\n",
              "    <tr>\n",
              "      <th>4</th>\n",
              "      <td>0</td>\n",
              "      <td>1</td>\n",
              "    </tr>\n",
              "    <tr>\n",
              "      <th>17</th>\n",
              "      <td>1</td>\n",
              "      <td>1</td>\n",
              "    </tr>\n",
              "  </tbody>\n",
              "</table>\n",
              "</div>\n",
              "      <button class=\"colab-df-convert\" onclick=\"convertToInteractive('df-bbd4ab63-2e44-4540-9a63-da3c04ff55c6')\"\n",
              "              title=\"Convert this dataframe to an interactive table.\"\n",
              "              style=\"display:none;\">\n",
              "        \n",
              "  <svg xmlns=\"http://www.w3.org/2000/svg\" height=\"24px\"viewBox=\"0 0 24 24\"\n",
              "       width=\"24px\">\n",
              "    <path d=\"M0 0h24v24H0V0z\" fill=\"none\"/>\n",
              "    <path d=\"M18.56 5.44l.94 2.06.94-2.06 2.06-.94-2.06-.94-.94-2.06-.94 2.06-2.06.94zm-11 1L8.5 8.5l.94-2.06 2.06-.94-2.06-.94L8.5 2.5l-.94 2.06-2.06.94zm10 10l.94 2.06.94-2.06 2.06-.94-2.06-.94-.94-2.06-.94 2.06-2.06.94z\"/><path d=\"M17.41 7.96l-1.37-1.37c-.4-.4-.92-.59-1.43-.59-.52 0-1.04.2-1.43.59L10.3 9.45l-7.72 7.72c-.78.78-.78 2.05 0 2.83L4 21.41c.39.39.9.59 1.41.59.51 0 1.02-.2 1.41-.59l7.78-7.78 2.81-2.81c.8-.78.8-2.07 0-2.86zM5.41 20L4 18.59l7.72-7.72 1.47 1.35L5.41 20z\"/>\n",
              "  </svg>\n",
              "      </button>\n",
              "      \n",
              "  <style>\n",
              "    .colab-df-container {\n",
              "      display:flex;\n",
              "      flex-wrap:wrap;\n",
              "      gap: 12px;\n",
              "    }\n",
              "\n",
              "    .colab-df-convert {\n",
              "      background-color: #E8F0FE;\n",
              "      border: none;\n",
              "      border-radius: 50%;\n",
              "      cursor: pointer;\n",
              "      display: none;\n",
              "      fill: #1967D2;\n",
              "      height: 32px;\n",
              "      padding: 0 0 0 0;\n",
              "      width: 32px;\n",
              "    }\n",
              "\n",
              "    .colab-df-convert:hover {\n",
              "      background-color: #E2EBFA;\n",
              "      box-shadow: 0px 1px 2px rgba(60, 64, 67, 0.3), 0px 1px 3px 1px rgba(60, 64, 67, 0.15);\n",
              "      fill: #174EA6;\n",
              "    }\n",
              "\n",
              "    [theme=dark] .colab-df-convert {\n",
              "      background-color: #3B4455;\n",
              "      fill: #D2E3FC;\n",
              "    }\n",
              "\n",
              "    [theme=dark] .colab-df-convert:hover {\n",
              "      background-color: #434B5C;\n",
              "      box-shadow: 0px 1px 3px 1px rgba(0, 0, 0, 0.15);\n",
              "      filter: drop-shadow(0px 1px 2px rgba(0, 0, 0, 0.3));\n",
              "      fill: #FFFFFF;\n",
              "    }\n",
              "  </style>\n",
              "\n",
              "      <script>\n",
              "        const buttonEl =\n",
              "          document.querySelector('#df-bbd4ab63-2e44-4540-9a63-da3c04ff55c6 button.colab-df-convert');\n",
              "        buttonEl.style.display =\n",
              "          google.colab.kernel.accessAllowed ? 'block' : 'none';\n",
              "\n",
              "        async function convertToInteractive(key) {\n",
              "          const element = document.querySelector('#df-bbd4ab63-2e44-4540-9a63-da3c04ff55c6');\n",
              "          const dataTable =\n",
              "            await google.colab.kernel.invokeFunction('convertToInteractive',\n",
              "                                                     [key], {});\n",
              "          if (!dataTable) return;\n",
              "\n",
              "          const docLinkHtml = 'Like what you see? Visit the ' +\n",
              "            '<a target=\"_blank\" href=https://colab.research.google.com/notebooks/data_table.ipynb>data table notebook</a>'\n",
              "            + ' to learn more about interactive tables.';\n",
              "          element.innerHTML = '';\n",
              "          dataTable['output_type'] = 'display_data';\n",
              "          await google.colab.output.renderOutput(dataTable, element);\n",
              "          const docLink = document.createElement('div');\n",
              "          docLink.innerHTML = docLinkHtml;\n",
              "          element.appendChild(docLink);\n",
              "        }\n",
              "      </script>\n",
              "    </div>\n",
              "  </div>\n",
              "  "
            ]
          },
          "metadata": {},
          "execution_count": 95
        }
      ]
    },
    {
      "cell_type": "markdown",
      "metadata": {
        "id": "sl-NWowR2C7M"
      },
      "source": [
        "Let's evaluate the goodness of our classifier"
      ]
    },
    {
      "cell_type": "code",
      "metadata": {
        "id": "bGVgf1YC2C7N",
        "colab": {
          "base_uri": "https://localhost:8080/"
        },
        "outputId": "a3e9daf4-8ebd-4f0f-ae90-0062cec9fb5e"
      },
      "source": [
        "accuracy_score(y_test, y_pred)"
      ],
      "execution_count": null,
      "outputs": [
        {
          "output_type": "execute_result",
          "data": {
            "text/plain": [
              "0.4406779661016949"
            ]
          },
          "metadata": {},
          "execution_count": 96
        }
      ]
    },
    {
      "cell_type": "markdown",
      "metadata": {
        "id": "gMgyGpJLpWOf"
      },
      "source": [
        "### Normalization"
      ]
    },
    {
      "cell_type": "markdown",
      "metadata": {
        "id": "K5_V8n4S2C7T"
      },
      "source": [
        "Very bad. Our classifier is just a random guess!\n",
        "\n",
        "Let' first normalize. Normalization is important every time you use a sigmoid (as in Logistic Regression)."
      ]
    },
    {
      "cell_type": "code",
      "metadata": {
        "scrolled": true,
        "id": "5OmlabtC2C7V"
      },
      "source": [
        "scaler = StandardScaler()\n",
        "scaler.fit(X_train)\n",
        "X_train_scaled = scaler.transform(X_train)"
      ],
      "execution_count": null,
      "outputs": []
    },
    {
      "cell_type": "code",
      "metadata": {
        "id": "DeZ69DAm2C7Z"
      },
      "source": [
        "model = LogisticRegression(C=1)\n",
        "model.fit(X_train_scaled, y_train)\n",
        "X_test_scaled = scaler.transform(X_test)\n",
        "y_pred = model.predict(X_test_scaled)"
      ],
      "execution_count": null,
      "outputs": []
    },
    {
      "cell_type": "code",
      "metadata": {
        "scrolled": true,
        "id": "HltmJCVd2C7e",
        "colab": {
          "base_uri": "https://localhost:8080/"
        },
        "outputId": "eb12c03e-7126-4820-889c-37b7b949e99a"
      },
      "source": [
        "accuracy_score(y_pred, y_test)"
      ],
      "execution_count": null,
      "outputs": [
        {
          "output_type": "execute_result",
          "data": {
            "text/plain": [
              "0.7627118644067796"
            ]
          },
          "metadata": {},
          "execution_count": 99
        }
      ]
    },
    {
      "cell_type": "markdown",
      "metadata": {
        "id": "7u0n5kBc2C7j"
      },
      "source": [
        "Better."
      ]
    },
    {
      "cell_type": "markdown",
      "metadata": {
        "id": "jAqat1Av2C7k"
      },
      "source": [
        "## Decision boundary"
      ]
    },
    {
      "cell_type": "markdown",
      "metadata": {
        "id": "H_P9qOsT2C7l"
      },
      "source": [
        "Let's plot our dataset"
      ]
    },
    {
      "cell_type": "code",
      "metadata": {
        "id": "8qcVuP9K2C7n",
        "colab": {
          "base_uri": "https://localhost:8080/",
          "height": 311
        },
        "outputId": "a2fa78de-86b0-4d2a-8bf7-ee9d6aa2880e"
      },
      "source": [
        "fig, ax = plt.subplots(figsize=(3,3) )\n",
        "\n",
        "X = df[columns]\n",
        "\n",
        "X_scaled = scaler.transform(X)\n",
        "\n",
        "BytesReceived0_scaled = X_scaled[:,0]\n",
        "PacketsSent0_scaled = X_scaled[:,1]\n",
        "\n",
        "scatter = ax.scatter(BytesReceived0_scaled, PacketsSent0_scaled,\n",
        "          c=df['high_res'], cmap='bwr', s=14)\n",
        "\n",
        "\n",
        "ax.set(xlabel=\"BytesReceived0_scaled\", ylabel=\"PacketsSent0_scaled\" )\n",
        "\n",
        "# Add the legend associated to the different colors\n",
        "legend = ax.legend(*scatter.legend_elements() )"
      ],
      "execution_count": null,
      "outputs": [
        {
          "output_type": "display_data",
          "data": {
            "text/plain": [
              "<Figure size 300x300 with 1 Axes>"
            ],
            "image/png": "[encoded data removed]"
          },
          "metadata": {}
        }
      ]
    },
    {
      "cell_type": "code",
      "metadata": {
        "id": "pbYSmutU2C7t"
      },
      "source": [],
      "execution_count": null,
      "outputs": []
    },
    {
      "cell_type": "code",
      "metadata": {
        "id": "5s_VEaVW2C72"
      },
      "source": [],
      "execution_count": null,
      "outputs": []
    },
    {
      "cell_type": "markdown",
      "metadata": {
        "id": "m0Uox9uh2C78"
      },
      "source": [
        "Let's plot the decision boundary, i.e. the surface that separates the regions of the space in which prediction is `1` from the ones in which preciction is `0`."
      ]
    },
    {
      "cell_type": "code",
      "metadata": {
        "id": "xWm4lF5i2C7-",
        "colab": {
          "base_uri": "https://localhost:8080/"
        },
        "outputId": "5a472e9a-82df-4eac-ba36-63bc10a2dcfd"
      },
      "source": [
        "# This code is not important to understand\n",
        "\n",
        "### First, create a grid of points\n",
        "horiz_min = min(BytesReceived0_scaled)\n",
        "vert_min = min(PacketsSent0_scaled)\n",
        "horiz_max = max(BytesReceived0_scaled)\n",
        "vert_max = max(PacketsSent0_scaled)\n",
        "\n",
        "grid_step=0.1\n",
        "\n",
        "horiz_part, vert_part = \\\n",
        "    np.mgrid[horiz_min:horiz_max:grid_step,\n",
        "             vert_min:vert_max:grid_step]\n",
        "grid = np.c_[horiz_part.ravel(), vert_part.ravel()]\n",
        "print (\"The grid is \", grid)\n",
        "grid_probability = model.predict_proba(grid)[:,1]\n",
        "print(\"The probability associated to each point is\", grid_probability)\n",
        "grid_probability = grid_probability.reshape(horiz_part.shape)\n",
        "print(\"After reshaping\", grid_probability)"
      ],
      "execution_count": null,
      "outputs": [
        {
          "output_type": "stream",
          "name": "stdout",
          "text": [
            "The grid is  [[-1.07158236 -0.89800608]\n",
            " [-1.07158236 -0.79800608]\n",
            " [-1.07158236 -0.69800608]\n",
            " ...\n",
            " [ 6.92841764  7.00199392]\n",
            " [ 6.92841764  7.10199392]\n",
            " [ 6.92841764  7.20199392]]\n",
            "The probability associated to each point is [0.4088402  0.45242172 0.49674521 ... 0.99567488 0.9963771  0.99696566]\n",
            "After reshaping [[4.08840204e-01 4.52421722e-01 4.96745207e-01 ... 9.99998858e-01\n",
            "  9.99999044e-01 9.99999200e-01]\n",
            " [3.84187193e-01 4.27039124e-01 4.71014912e-01 ... 9.99998734e-01\n",
            "  9.99998941e-01 9.99999113e-01]\n",
            " [3.60115184e-01 4.02035033e-01 4.45437734e-01 ... 9.99998597e-01\n",
            "  9.99998826e-01 9.99999017e-01]\n",
            " ...\n",
            " [2.23304606e-04 2.66764068e-04 3.18678899e-04 ... 9.96477597e-01\n",
            "  9.97049879e-01 9.97529413e-01]\n",
            " [2.01443212e-04 2.40649042e-04 2.87483102e-04 ... 9.96096740e-01\n",
            "  9.96730696e-01 9.97261970e-01]\n",
            " [1.81721647e-04 2.17090007e-04 2.59340300e-04 ... 9.95674881e-01\n",
            "  9.96377105e-01 9.96965664e-01]]\n"
          ]
        }
      ]
    },
    {
      "cell_type": "code",
      "metadata": {
        "id": "oG-EfSDB2C8B",
        "colab": {
          "base_uri": "https://localhost:8080/",
          "height": 311
        },
        "outputId": "60e674d6-1a59-4d75-b464-192cdbdd1b78"
      },
      "source": [
        "### Now, add to the scatterplot the decision boundaruy\n",
        "\n",
        "ax.contour(horiz_part, vert_part, grid_probability, [0.5])\n",
        "fig.set_size_inches(3, 3)\n",
        "fig\n"
      ],
      "execution_count": null,
      "outputs": [
        {
          "output_type": "execute_result",
          "data": {
            "text/plain": [
              "<Figure size 300x300 with 1 Axes>"
            ],
            "image/png": "[encoded data removed]"
          },
          "metadata": {},
          "execution_count": 102
        }
      ]
    },
    {
      "cell_type": "markdown",
      "metadata": {
        "id": "PyPnq8NZ2C8H"
      },
      "source": [
        "# Multinomial Logistic Regression"
      ]
    },
    {
      "cell_type": "markdown",
      "metadata": {
        "id": "aE_gaqdK2C8J"
      },
      "source": [
        "Let' create three catagories:\n",
        "\n",
        "* 0: low resolution\n",
        "* 1: mid resolution\n",
        "* 2: high resolution"
      ]
    },
    {
      "cell_type": "code",
      "metadata": {
        "id": "ZbONZ0U52C8K"
      },
      "source": [
        "threshold1=240\n",
        "threshold2=480\n",
        "\n",
        "res = [0 if d < threshold1\n",
        "       else 1 if threshold1 <= d < threshold2\n",
        "       else 2\n",
        "      for d in df['label_num']\n",
        "      ]\n",
        "\n",
        "df['res'] = res\n"
      ],
      "execution_count": null,
      "outputs": []
    },
    {
      "cell_type": "markdown",
      "metadata": {
        "id": "hOk3oxQ22C8P"
      },
      "source": [
        "Let's create a pipeline to scale (important when we regularize) and then apply Multinomial Regression"
      ]
    },
    {
      "cell_type": "code",
      "metadata": {
        "id": "_SoPMXCU2C8R"
      },
      "source": [
        "def MyMultinomialRegression(C=1e-9):\n",
        "    return make_pipeline(\n",
        "        StandardScaler(),\n",
        "        LogisticRegression(multi_class=\"multinomial\", solver=\"lbfgs\", C=C)\n",
        "    )\n",
        "\n",
        "# lbfgs is an improved version of gradient descent:\n",
        "# https://en.wikipedia.org/wiki/Limited-memory_BFGS"
      ],
      "execution_count": null,
      "outputs": []
    },
    {
      "cell_type": "markdown",
      "metadata": {
        "id": "aQPwGu-F2C8U"
      },
      "source": [
        "Now that we added another column to `df`, we need to divide the new `df` into train and test set again.\n",
        "\n",
        "Note: if we use the same seed (`random_state`) as before, the same samples as before will fall in the train and test set."
      ]
    },
    {
      "cell_type": "code",
      "metadata": {
        "id": "PdQY8W_32C8W",
        "colab": {
          "base_uri": "https://localhost:8080/",
          "height": 125
        },
        "outputId": "0e57c523-d9ef-4d8d-916e-0f1b943525e3"
      },
      "source": [
        "df_train, df_test = train_test_split(df,test_size=0.2, random_state=1)\n",
        "\n",
        "y_train = df_train['res']\n",
        "y_test = df_test['res']\n",
        "\n",
        "model = MyMultinomialRegression(C=1)\n",
        "model.fit(X_train, y_train)"
      ],
      "execution_count": null,
      "outputs": [
        {
          "output_type": "execute_result",
          "data": {
            "text/plain": [
              "Pipeline(steps=[('standardscaler', StandardScaler()),\n",
              "                ('logisticregression',\n",
              "                 LogisticRegression(C=1, multi_class='multinomial'))])"
            ],
            "text/html": [
              "<style>#sk-container-id-6 {color: black;background-color: white;}#sk-container-id-6 pre{padding: 0;}#sk-container-id-6 div.sk-toggleable {background-color: white;}#sk-container-id-6 label.sk-toggleable__label {cursor: pointer;display: block;width: 100%;margin-bottom: 0;padding: 0.3em;box-sizing: border-box;text-align: center;}#sk-container-id-6 label.sk-toggleable__label-arrow:before {content: \"▸\";float: left;margin-right: 0.25em;color: #696969;}#sk-container-id-6 label.sk-toggleable__label-arrow:hover:before {color: black;}#sk-container-id-6 div.sk-estimator:hover label.sk-toggleable__label-arrow:before {color: black;}#sk-container-id-6 div.sk-toggleable__content {max-height: 0;max-width: 0;overflow: hidden;text-align: left;background-color: #f0f8ff;}#sk-container-id-6 div.sk-toggleable__content pre {margin: 0.2em;color: black;border-radius: 0.25em;background-color: #f0f8ff;}#sk-container-id-6 input.sk-toggleable__control:checked~div.sk-toggleable__content {max-height: 200px;max-width: 100%;overflow: auto;}#sk-container-id-6 input.sk-toggleable__control:checked~label.sk-toggleable__label-arrow:before {content: \"▾\";}#sk-container-id-6 div.sk-estimator input.sk-toggleable__control:checked~label.sk-toggleable__label {background-color: #d4ebff;}#sk-container-id-6 div.sk-label input.sk-toggleable__control:checked~label.sk-toggleable__label {background-color: #d4ebff;}#sk-container-id-6 input.sk-hidden--visually {border: 0;clip: rect(1px 1px 1px 1px);clip: rect(1px, 1px, 1px, 1px);height: 1px;margin: -1px;overflow: hidden;padding: 0;position: absolute;width: 1px;}#sk-container-id-6 div.sk-estimator {font-family: monospace;background-color: #f0f8ff;border: 1px dotted black;border-radius: 0.25em;box-sizing: border-box;margin-bottom: 0.5em;}#sk-container-id-6 div.sk-estimator:hover {background-color: #d4ebff;}#sk-container-id-6 div.sk-parallel-item::after {content: \"\";width: 100%;border-bottom: 1px solid gray;flex-grow: 1;}#sk-container-id-6 div.sk-label:hover label.sk-toggleable__label {background-color: #d4ebff;}#sk-container-id-6 div.sk-serial::before {content: \"\";position: absolute;border-left: 1px solid gray;box-sizing: border-box;top: 0;bottom: 0;left: 50%;z-index: 0;}#sk-container-id-6 div.sk-serial {display: flex;flex-direction: column;align-items: center;background-color: white;padding-right: 0.2em;padding-left: 0.2em;position: relative;}#sk-container-id-6 div.sk-item {position: relative;z-index: 1;}#sk-container-id-6 div.sk-parallel {display: flex;align-items: stretch;justify-content: center;background-color: white;position: relative;}#sk-container-id-6 div.sk-item::before, #sk-container-id-6 div.sk-parallel-item::before {content: \"\";position: absolute;border-left: 1px solid gray;box-sizing: border-box;top: 0;bottom: 0;left: 50%;z-index: -1;}#sk-container-id-6 div.sk-parallel-item {display: flex;flex-direction: column;z-index: 1;position: relative;background-color: white;}#sk-container-id-6 div.sk-parallel-item:first-child::after {align-self: flex-end;width: 50%;}#sk-container-id-6 div.sk-parallel-item:last-child::after {align-self: flex-start;width: 50%;}#sk-container-id-6 div.sk-parallel-item:only-child::after {width: 0;}#sk-container-id-6 div.sk-dashed-wrapped {border: 1px dashed gray;margin: 0 0.4em 0.5em 0.4em;box-sizing: border-box;padding-bottom: 0.4em;background-color: white;}#sk-container-id-6 div.sk-label label {font-family: monospace;font-weight: bold;display: inline-block;line-height: 1.2em;}#sk-container-id-6 div.sk-label-container {text-align: center;}#sk-container-id-6 div.sk-container {/* jupyter's `normalize.less` sets `[hidden] { display: none; }` but bootstrap.min.css set `[hidden] { display: none !important; }` so we also need the `!important` here to be able to override the default hidden behavior on the sphinx rendered scikit-learn.org. See: https://github.com/scikit-learn/scikit-learn/issues/21755 */display: inline-block !important;position: relative;}#sk-container-id-6 div.sk-text-repr-fallback {display: none;}</style><div id=\"sk-container-id-6\" class=\"sk-top-container\"><div class=\"sk-text-repr-fallback\"><pre>Pipeline(steps=[(&#x27;standardscaler&#x27;, StandardScaler()),\n",
              "                (&#x27;logisticregression&#x27;,\n",
              "                 LogisticRegression(C=1, multi_class=&#x27;multinomial&#x27;))])</pre><b>In a Jupyter environment, please rerun this cell to show the HTML representation or trust the notebook. <br />On GitHub, the HTML representation is unable to render, please try loading this page with nbviewer.org.</b></div><div class=\"sk-container\" hidden><div class=\"sk-item sk-dashed-wrapped\"><div class=\"sk-label-container\"><div class=\"sk-label sk-toggleable\"><input class=\"sk-toggleable__control sk-hidden--visually\" id=\"sk-estimator-id-10\" type=\"checkbox\" ><label for=\"sk-estimator-id-10\" class=\"sk-toggleable__label sk-toggleable__label-arrow\">Pipeline</label><div class=\"sk-toggleable__content\"><pre>Pipeline(steps=[(&#x27;standardscaler&#x27;, StandardScaler()),\n",
              "                (&#x27;logisticregression&#x27;,\n",
              "                 LogisticRegression(C=1, multi_class=&#x27;multinomial&#x27;))])</pre></div></div></div><div class=\"sk-serial\"><div class=\"sk-item\"><div class=\"sk-estimator sk-toggleable\"><input class=\"sk-toggleable__control sk-hidden--visually\" id=\"sk-estimator-id-11\" type=\"checkbox\" ><label for=\"sk-estimator-id-11\" class=\"sk-toggleable__label sk-toggleable__label-arrow\">StandardScaler</label><div class=\"sk-toggleable__content\"><pre>StandardScaler()</pre></div></div></div><div class=\"sk-item\"><div class=\"sk-estimator sk-toggleable\"><input class=\"sk-toggleable__control sk-hidden--visually\" id=\"sk-estimator-id-12\" type=\"checkbox\" ><label for=\"sk-estimator-id-12\" class=\"sk-toggleable__label sk-toggleable__label-arrow\">LogisticRegression</label><div class=\"sk-toggleable__content\"><pre>LogisticRegression(C=1, multi_class=&#x27;multinomial&#x27;)</pre></div></div></div></div></div></div></div>"
            ]
          },
          "metadata": {},
          "execution_count": 105
        }
      ]
    },
    {
      "cell_type": "code",
      "metadata": {
        "id": "PCSrfwdv2C8b",
        "colab": {
          "base_uri": "https://localhost:8080/"
        },
        "outputId": "51944f9a-dabe-43c5-d42c-e072fa3ab63c"
      },
      "source": [
        "y_pred = model.predict(X_test)\n",
        "y_pred"
      ],
      "execution_count": null,
      "outputs": [
        {
          "output_type": "execute_result",
          "data": {
            "text/plain": [
              "array([1, 2, 2, 2, 2, 2, 2, 2, 2, 2, 2, 2, 2, 2, 2, 2, 2, 2, 2, 2, 2, 2,\n",
              "       2, 2, 2, 2, 2, 2, 2, 2, 2, 2, 2, 2, 2, 2, 2, 2, 2, 2, 2, 2, 2, 2,\n",
              "       2, 2, 2, 2, 2, 2, 2, 2, 2, 2, 2, 2, 2, 1, 2])"
            ]
          },
          "metadata": {},
          "execution_count": 106
        }
      ]
    },
    {
      "cell_type": "code",
      "metadata": {
        "id": "m8nWw-Wf2C8e",
        "colab": {
          "base_uri": "https://localhost:8080/"
        },
        "outputId": "2add62a2-594c-4b65-ab93-ea9246f01f84"
      },
      "source": [
        "accuracy_score(y_pred, y_test)"
      ],
      "execution_count": null,
      "outputs": [
        {
          "output_type": "execute_result",
          "data": {
            "text/plain": [
              "0.7288135593220338"
            ]
          },
          "metadata": {},
          "execution_count": 107
        }
      ]
    },
    {
      "cell_type": "markdown",
      "metadata": {
        "id": "PLe7p2wo2C8i"
      },
      "source": [
        "Accuracy may be a misleading. To really understand the performance of the classifier, we need to plot a confusion matrix. We will use a function I created for you. Let's check its documentation."
      ]
    },
    {
      "cell_type": "code",
      "metadata": {
        "id": "j5xR3JYkJXq0",
        "colab": {
          "base_uri": "https://localhost:8080/"
        },
        "outputId": "7b341a4c-9ddc-4933-da7e-40f48a76c607"
      },
      "source": [
        "print(plot_conf_mat.__doc__)"
      ],
      "execution_count": null,
      "outputs": [
        {
          "output_type": "stream",
          "name": "stdout",
          "text": [
            "\n",
            " \t\tThis function prints and plots the confusion matrix.\n",
            " \t\tIn case of errors, you may need to do \n",
            " \t\t\t\tclass_names = np.array(class_names)\n",
            " \t\tbefore calling this function.\n",
            "\n",
            "\n",
            " \t\tParameters:\n",
            " \t\t--------------------------\n",
            "\t\ttarget: The array of the true categories. It contains as many values \n",
            "\t\t\t\tas the number of samples. Each value is an integer number \n",
            "\t\t\t\tcorresponding to a certain category. This array represents \n",
            "\t\t\t\tthe true category of each sample.\n",
            "\t\t\n",
            "\t\tpredicted:\tIt has the same format, but it does not represent the true \n",
            "\t\t\t\t\tcategory, rather it represents the result of a model.\n",
            "\n",
            "\t\tclass_names:\tArray of strings, where the first. The k-th element\n",
            "\t\t\t\t\t\tis the name of the k-th class\n",
            "\n",
            "\t\tnormalize: \t(default=True) If False, it just prints the number of values in \n",
            "\t\t\t\t\t\teach cell. Otherwise it prints the frequencies, i.e.\n",
            "\t\t\t\t\t\tthe sum over each row is 1\n",
            "\n",
            "\t\ttitle: \t(default=None) Title of the figure\n",
            "\n",
            "\t\tcmap: \t(default=plt.cm.viridis) Color map\n",
            "\n",
            "\t\ttext:\t(default=True) If True it prints numerical values on each cell. Otherwise\n",
            "\t\t\t\tit just shows the colors\n",
            "\n",
            "\n",
            "\t\twidth: \t(default=8) Of the figure\n",
            "\n",
            "\t\theight:\t(default=8) Of the figure\n",
            " \t\t\n"
          ]
        }
      ]
    },
    {
      "cell_type": "code",
      "metadata": {
        "id": "nOdXm8Q-2C8j",
        "colab": {
          "base_uri": "https://localhost:8080/",
          "height": 894
        },
        "outputId": "fec3c98e-3527-4061-dfb7-5ba6a5b5f73b"
      },
      "source": [
        "class_names=np.array([\"low\", \"mid\", \"high\"] )\n",
        "\n",
        "plot_conf_mat(y_test, y_pred, class_names)"
      ],
      "execution_count": null,
      "outputs": [
        {
          "output_type": "stream",
          "name": "stdout",
          "text": [
            "Normalized confusion matrix\n",
            "[[0.  0.  1. ]\n",
            " [0.  0.2 0.8]\n",
            " [0.  0.  1. ]]\n"
          ]
        },
        {
          "output_type": "execute_result",
          "data": {
            "text/plain": [
              "<Axes: title={'center': 'Normalized confusion matrix'}, xlabel='Predicted label', ylabel='True label'>"
            ]
          },
          "metadata": {},
          "execution_count": 109
        },
        {
          "output_type": "display_data",
          "data": {
            "text/plain": [
              "<Figure size 800x800 with 2 Axes>"
            ],
            "image/png": "[encoded data removed]"
          },
          "metadata": {}
        }
      ]
    },
    {
      "cell_type": "markdown",
      "metadata": {
        "id": "t-SU4V24Nv5Q"
      },
      "source": [
        "You can customize the confusion matrix more. For instance you may change the size. If you have many labels, you may need to remove numbers printed."
      ]
    },
    {
      "cell_type": "code",
      "metadata": {
        "id": "mvMnA5jbOSnU",
        "colab": {
          "base_uri": "https://localhost:8080/",
          "height": 478
        },
        "outputId": "a0f15341-4825-439b-b611-55c78baa004a"
      },
      "source": [
        "plot_conf_mat(y_test, y_pred, class_names, normalize=False,\n",
        "              title=\"My beautiful confusion matrix\", cmap=plt.cm.viridis,\n",
        "              text=False, width=4, height=4)"
      ],
      "execution_count": null,
      "outputs": [
        {
          "output_type": "stream",
          "name": "stdout",
          "text": [
            "Confusion matrix, without normalization\n",
            "[[ 0  0  8]\n",
            " [ 0  2  8]\n",
            " [ 0  0 41]]\n"
          ]
        },
        {
          "output_type": "execute_result",
          "data": {
            "text/plain": [
              "<Axes: title={'center': 'My beautiful confusion matrix'}, xlabel='Predicted label', ylabel='True label'>"
            ]
          },
          "metadata": {},
          "execution_count": 110
        },
        {
          "output_type": "display_data",
          "data": {
            "text/plain": [
              "<Figure size 400x400 with 2 Axes>"
            ],
            "image/png": "[encoded data removed]"
          },
          "metadata": {}
        }
      ]
    },
    {
      "cell_type": "markdown",
      "metadata": {
        "id": "2lQOSqFV2C8n"
      },
      "source": [
        "# Class imbalance"
      ]
    },
    {
      "cell_type": "markdown",
      "metadata": {
        "id": "zyRffZ262C8s"
      },
      "source": [
        "Our dataset is quite umbalanced"
      ]
    },
    {
      "cell_type": "code",
      "metadata": {
        "id": "C7mxprdx2C8t",
        "colab": {
          "base_uri": "https://localhost:8080/"
        },
        "outputId": "f1ee6fca-f13b-4072-e61f-b642ef8db2bb"
      },
      "source": [
        "df['res'].value_counts()"
      ],
      "execution_count": null,
      "outputs": [
        {
          "output_type": "execute_result",
          "data": {
            "text/plain": [
              "2    210\n",
              "1     55\n",
              "0     27\n",
              "Name: res, dtype: int64"
            ]
          },
          "metadata": {},
          "execution_count": 111
        }
      ]
    },
    {
      "cell_type": "markdown",
      "metadata": {
        "id": "hXvsIvak2C8o"
      },
      "source": [
        "When a class is prevalent, the model adapts to that class: the result is a very bad classifier with a high accuracy.\n",
        "\n",
        "For instance, a silly classifier that always predicts the prevalent class would give good accuracy."
      ]
    },
    {
      "cell_type": "code",
      "metadata": {
        "scrolled": true,
        "id": "zfNBlXis2C8o",
        "colab": {
          "base_uri": "https://localhost:8080/"
        },
        "outputId": "18491046-649d-4be5-9462-90cf88413066"
      },
      "source": [
        "y_pred = [2 for i in range(len(y_test))]\n",
        "accuracy_score(y_pred, y_test)"
      ],
      "execution_count": null,
      "outputs": [
        {
          "output_type": "execute_result",
          "data": {
            "text/plain": [
              "0.6949152542372882"
            ]
          },
          "metadata": {},
          "execution_count": 112
        }
      ]
    },
    {
      "cell_type": "markdown",
      "metadata": {
        "id": "bgSd23wF2C8w"
      },
      "source": [
        "Simple idea: In the training set, we can create synthetic samples  of the small classes, in order for all the classes to be of the same size. This is done by Synthetic Minority Over-sampling TEchnique (SMOTE):\n",
        "\n",
        "N. V. Chawla, K. W. Bowyer, L. O.Hall, W. P. Kegelmeyer, “SMOTE: synthetic minority over-sampling technique,” Journal of artificial intelligence research, 321-357, 2002.\n",
        "\n",
        "(**~10000 citations!**)\n",
        "\n",
        "Synthetic samples are generated via 5-Nearest Neighbors (we'll see it later)"
      ]
    },
    {
      "cell_type": "code",
      "metadata": {
        "scrolled": true,
        "id": "MYm2x0n42C8x",
        "colab": {
          "base_uri": "https://localhost:8080/"
        },
        "outputId": "02744b8c-e8d2-4596-a00a-8fec6595f0cd"
      },
      "source": [
        "smote = SMOTE()\n",
        "\n",
        "X_train_balanced, y_train_balanced = smote.fit_resample(X_train, y_train)\n",
        "pd.value_counts(y_train_balanced)"
      ],
      "execution_count": null,
      "outputs": [
        {
          "output_type": "execute_result",
          "data": {
            "text/plain": [
              "0    169\n",
              "2    169\n",
              "1    169\n",
              "Name: res, dtype: int64"
            ]
          },
          "metadata": {},
          "execution_count": 113
        }
      ]
    },
    {
      "cell_type": "markdown",
      "metadata": {
        "id": "e_OqPaJX2C80"
      },
      "source": [
        "We train on the oversampled traing dataset and we test on the original test set."
      ]
    },
    {
      "cell_type": "code",
      "metadata": {
        "id": "PlIT7QyK2C81",
        "colab": {
          "base_uri": "https://localhost:8080/",
          "height": 893
        },
        "outputId": "b2f3d167-334f-43bc-e8f9-123f95a7a150"
      },
      "source": [
        "model.fit(X_train_balanced, y_train_balanced)\n",
        "y_pred = model.predict(X_test)\n",
        "plot_conf_mat(y_test, y_pred,class_names)\n"
      ],
      "execution_count": null,
      "outputs": [
        {
          "output_type": "stream",
          "name": "stdout",
          "text": [
            "Normalized confusion matrix\n",
            "[[0.75       0.125      0.125     ]\n",
            " [0.2        0.6        0.2       ]\n",
            " [0.34146341 0.09756098 0.56097561]]\n"
          ]
        },
        {
          "output_type": "execute_result",
          "data": {
            "text/plain": [
              "<Axes: title={'center': 'Normalized confusion matrix'}, xlabel='Predicted label', ylabel='True label'>"
            ]
          },
          "metadata": {},
          "execution_count": 114
        },
        {
          "output_type": "display_data",
          "data": {
            "text/plain": [
              "<Figure size 800x800 with 2 Axes>"
            ],
            "image/png": "[encoded data removed]"
          },
          "metadata": {}
        }
      ]
    },
    {
      "cell_type": "code",
      "metadata": {
        "id": "1OLBtKyT2C85",
        "colab": {
          "base_uri": "https://localhost:8080/"
        },
        "outputId": "21d82c40-d07d-43d4-f230-adfa0c69639f"
      },
      "source": [
        "accuracy_score(y_pred, y_test)"
      ],
      "execution_count": null,
      "outputs": [
        {
          "output_type": "execute_result",
          "data": {
            "text/plain": [
              "0.5932203389830508"
            ]
          },
          "metadata": {},
          "execution_count": 115
        }
      ]
    },
    {
      "cell_type": "markdown",
      "metadata": {
        "id": "FzBccak-2C89"
      },
      "source": [
        "We improved a bit, still the model is not excellent"
      ]
    },
    {
      "cell_type": "markdown",
      "metadata": {
        "id": "gGYic4ID2C8-"
      },
      "source": [
        "Some ideas to improve it further?\n",
        "<details>\n",
        "<summary>\n",
        "CLICK\n",
        "</summary>\n",
        "    \n",
        "* Find the regularization weight via grid search\n",
        "* Try to transform the input\n",
        "* Find the best combination of features manually or via Recursive Feature Elimination\n",
        "    \n",
        "    \n",
        "</details>"
      ]
    },
    {
      "cell_type": "markdown",
      "metadata": {
        "id": "cI8uynV22C9A"
      },
      "source": [
        "A classification report summarizes for us all the important features"
      ]
    },
    {
      "cell_type": "code",
      "metadata": {
        "id": "8tbIfLnM2C9B",
        "colab": {
          "base_uri": "https://localhost:8080/"
        },
        "outputId": "66f11c9d-d65e-4cce-e24a-7d0dc5e5e598"
      },
      "source": [
        "print( classification_report(y_test, y_pred) )"
      ],
      "execution_count": null,
      "outputs": [
        {
          "output_type": "stream",
          "name": "stdout",
          "text": [
            "              precision    recall  f1-score   support\n",
            "\n",
            "           0       0.27      0.75      0.40         8\n",
            "           1       0.55      0.60      0.57        10\n",
            "           2       0.88      0.56      0.69        41\n",
            "\n",
            "    accuracy                           0.59        59\n",
            "   macro avg       0.57      0.64      0.55        59\n",
            "weighted avg       0.74      0.59      0.63        59\n",
            "\n"
          ]
        }
      ]
    },
    {
      "cell_type": "markdown",
      "metadata": {
        "id": "BtXzs6fI2C9E"
      },
      "source": [
        "# Grid search\n",
        "\n",
        "Let's find the best regularization weight `C` via grid search. Let's first check what is the correct name of the parameter `C` to which we need to refer."
      ]
    },
    {
      "cell_type": "code",
      "metadata": {
        "id": "pl-V_x1n2C9E",
        "colab": {
          "base_uri": "https://localhost:8080/"
        },
        "outputId": "d75332f0-5f8d-44b1-ba84-8b37fa472580"
      },
      "source": [
        "GridSearchCV(MyMultinomialRegression(), [] ).get_params().keys()"
      ],
      "execution_count": null,
      "outputs": [
        {
          "output_type": "execute_result",
          "data": {
            "text/plain": [
              "dict_keys(['cv', 'error_score', 'estimator__memory', 'estimator__steps', 'estimator__verbose', 'estimator__standardscaler', 'estimator__logisticregression', 'estimator__standardscaler__copy', 'estimator__standardscaler__with_mean', 'estimator__standardscaler__with_std', 'estimator__logisticregression__C', 'estimator__logisticregression__class_weight', 'estimator__logisticregression__dual', 'estimator__logisticregression__fit_intercept', 'estimator__logisticregression__intercept_scaling', 'estimator__logisticregression__l1_ratio', 'estimator__logisticregression__max_iter', 'estimator__logisticregression__multi_class', 'estimator__logisticregression__n_jobs', 'estimator__logisticregression__penalty', 'estimator__logisticregression__random_state', 'estimator__logisticregression__solver', 'estimator__logisticregression__tol', 'estimator__logisticregression__verbose', 'estimator__logisticregression__warm_start', 'estimator', 'n_jobs', 'param_grid', 'pre_dispatch', 'refit', 'return_train_score', 'scoring', 'verbose'])"
            ]
          },
          "metadata": {},
          "execution_count": 117
        }
      ]
    },
    {
      "cell_type": "code",
      "metadata": {
        "id": "QlWKJmnM2C9K"
      },
      "source": [
        "k_fold = KFold(n_splits=5, shuffle=True, random_state=5)\n",
        "\n",
        "parameters_to_test = [{ 'logisticregression__C': [1e-9, 1e-3, 0.01, 0.1, 1, 10, 100, 1000, 10000] }]\n",
        "\n",
        "# The different scoring metrics available are in:\n",
        "#     https://scikit-learn.org/stable/modules/model_evaluation.html#scoring-parameter\n",
        "grid = GridSearchCV(MyMultinomialRegression(), parameters_to_test, cv=k_fold,\n",
        "                    scoring='f1_macro')"
      ],
      "execution_count": null,
      "outputs": []
    },
    {
      "cell_type": "code",
      "metadata": {
        "id": "IuTBAZHl2C9P",
        "colab": {
          "base_uri": "https://localhost:8080/"
        },
        "outputId": "6b91d735-3157-4d1c-88ac-7580367b3601"
      },
      "source": [
        "grid.fit(X_train_balanced, y_train_balanced)\n",
        "print(\"The best regularization weigth is \", grid.best_params_)"
      ],
      "execution_count": null,
      "outputs": [
        {
          "output_type": "stream",
          "name": "stdout",
          "text": [
            "The best regularization weigth is  {'logisticregression__C': 0.1}\n"
          ]
        }
      ]
    },
    {
      "cell_type": "code",
      "metadata": {
        "id": "Jzi56tvQ2C9S",
        "colab": {
          "base_uri": "https://localhost:8080/",
          "height": 1000
        },
        "outputId": "e7e6226d-ab84-4202-e5ae-ac3e22af633b"
      },
      "source": [
        "model = grid.best_estimator_\n",
        "model.fit(X_train_balanced, y_train_balanced)\n",
        "y_pred = model.predict(X_test)\n",
        "print(classification_report(y_test, y_pred))\n",
        "plot_conf_mat(y_test, y_pred, class_names)"
      ],
      "execution_count": null,
      "outputs": [
        {
          "output_type": "stream",
          "name": "stdout",
          "text": [
            "              precision    recall  f1-score   support\n",
            "\n",
            "           0       0.28      0.88      0.42         8\n",
            "           1       0.60      0.60      0.60        10\n",
            "           2       0.88      0.51      0.65        41\n",
            "\n",
            "    accuracy                           0.58        59\n",
            "   macro avg       0.58      0.66      0.56        59\n",
            "weighted avg       0.75      0.58      0.61        59\n",
            "\n",
            "Normalized confusion matrix\n",
            "[[0.875      0.         0.125     ]\n",
            " [0.2        0.6        0.2       ]\n",
            " [0.3902439  0.09756098 0.51219512]]\n"
          ]
        },
        {
          "output_type": "execute_result",
          "data": {
            "text/plain": [
              "<Axes: title={'center': 'Normalized confusion matrix'}, xlabel='Predicted label', ylabel='True label'>"
            ]
          },
          "metadata": {},
          "execution_count": 120
        },
        {
          "output_type": "display_data",
          "data": {
            "text/plain": [
              "<Figure size 800x800 with 2 Axes>"
            ],
            "image/png": "[encoded data removed]"
          },
          "metadata": {}
        }
      ]
    },
    {
      "cell_type": "code",
      "metadata": {
        "id": "vVcurkvg2C9V"
      },
      "source": [],
      "execution_count": null,
      "outputs": []
    },
    {
      "cell_type": "markdown",
      "metadata": {
        "id": "9MlPJZrX2C8G"
      },
      "source": [
        "Some ideas to improve this model?\n",
        "<details>\n",
        "<summary>\n",
        "CLICK\n",
        "</summary>\n",
        "    \n",
        "* Since data are \"squashed\" towards low value => log-transformation\n",
        "* Find the best combination of features manually or via Recursive Feature Elimination\n",
        "    \n",
        "    \n",
        "</details>"
      ]
    },
    {
      "cell_type": "code",
      "metadata": {
        "id": "YbfaMzHSNd-y"
      },
      "source": [],
      "execution_count": null,
      "outputs": []
    }
  ]
}