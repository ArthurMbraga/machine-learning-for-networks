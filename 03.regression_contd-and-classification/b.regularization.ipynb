{
  "nbformat": 4,
  "nbformat_minor": 0,
  "metadata": {
    "colab": {
      "name": "b.regularization.ipynb",
      "provenance": []
    },
    "kernelspec": {
      "display_name": "Python 3",
      "language": "python",
      "name": "python3"
    },
    "language_info": {
      "codemirror_mode": {
        "name": "ipython",
        "version": 3
      },
      "file_extension": ".py",
      "mimetype": "text/x-python",
      "name": "python",
      "nbconvert_exporter": "python",
      "pygments_lexer": "ipython3",
      "version": "3.6.8"
    }
  },
  "cells": [
    {
      "cell_type": "markdown",
      "metadata": {
        "id": "1DA60WwsaETC"
      },
      "source": [
        "[![Open In Colab](https://colab.research.google.com/assets/colab-badge.svg)](https://colab.research.google.com/github/andreaaraldo/machine-learning-for-networks/blob/master/03.regression_contd-and-classification/b.regularization.ipynb)"
      ]
    },
    {
      "cell_type": "markdown",
      "metadata": {
        "id": "Q9X8oDQSwegQ"
      },
      "source": [
        "We will use the same dataset as in the previous notebook."
      ]
    },
    {
      "cell_type": "code",
      "metadata": {
        "id": "JXOPM_VCwegU",
        "outputId": "033b4462-9e8d-4265-ba36-3f449815d6d8",
        "colab": {
          "base_uri": "https://localhost:8080/"
        }
      },
      "source": [
        "import pandas as pd\n",
        "from sklearn.model_selection import cross_val_score, KFold\n",
        "from math import sqrt\n",
        "from statistics import mean\n",
        "from sklearn.linear_model import LinearRegression, Ridge\n",
        "from sklearn.preprocessing import PolynomialFeatures\n",
        "from sklearn.pipeline import make_pipeline\n",
        "import matplotlib.pyplot as plt\n",
        "from sklearn.preprocessing import StandardScaler\n",
        "from sklearn.model_selection import GridSearchCV\n",
        "from sklearn.model_selection import train_test_split\n",
        "from sklearn.metrics import mean_squared_error\n",
        "import numpy as np\n",
        "from sklearn.feature_selection import RFECV\n",
        "from sklearn.pipeline import Pipeline\n",
        "\n",
        "!pip install regressors\n",
        "#from regressors import stats # To print information about\n",
        "                            # regression.\n",
        "\n",
        "\n",
        "## Download the code I prepared for you\n",
        "!wget https://raw.githubusercontent.com/andreaaraldo/machine-learning-for-networks/master/course_library/andrea_models.py\n",
        "!wget https://raw.githubusercontent.com/andreaaraldo/machine-learning-for-networks/master/course_library/visualization.py\n",
        "\n",
        "from andrea_models import AndreaLinearRegression # In the course library\n",
        "from visualization import rotate_labels"
      ],
      "execution_count": null,
      "outputs": [
        {
          "output_type": "stream",
          "name": "stdout",
          "text": [
            "Collecting regressors\n",
            "  Using cached regressors-0.0.3.tar.gz (24 kB)\n",
            "  \u001b[1;31merror\u001b[0m: \u001b[1msubprocess-exited-with-error\u001b[0m\n",
            "  \n",
            "  \u001b[31m×\u001b[0m \u001b[32mpython setup.py egg_info\u001b[0m did not run successfully.\n",
            "  \u001b[31m│\u001b[0m exit code: \u001b[1;36m1\u001b[0m\n",
            "  \u001b[31m╰─>\u001b[0m See above for output.\n",
            "  \n",
            "  \u001b[1;35mnote\u001b[0m: This error originates from a subprocess, and is likely not a problem with pip.\n",
            "  Preparing metadata (setup.py) ... \u001b[?25l\u001b[?25herror\n",
            "\u001b[1;31merror\u001b[0m: \u001b[1mmetadata-generation-failed\u001b[0m\n",
            "\n",
            "\u001b[31m×\u001b[0m Encountered error while generating package metadata.\n",
            "\u001b[31m╰─>\u001b[0m See above for output.\n",
            "\n",
            "\u001b[1;35mnote\u001b[0m: This is an issue with the package mentioned above, not pip.\n",
            "\u001b[1;36mhint\u001b[0m: See above for details.\n",
            "--2023-09-14 15:47:07--  https://raw.githubusercontent.com/andreaaraldo/machine-learning-for-networks/master/course_library/andrea_models.py\n",
            "Resolving raw.githubusercontent.com (raw.githubusercontent.com)... 185.199.109.133, 185.199.108.133, 185.199.110.133, ...\n",
            "Connecting to raw.githubusercontent.com (raw.githubusercontent.com)|185.199.109.133|:443... connected.\n",
            "HTTP request sent, awaiting response... 200 OK\n",
            "Length: 3190 (3.1K) [text/plain]\n",
            "Saving to: ‘andrea_models.py.1’\n",
            "\n",
            "andrea_models.py.1  100%[===================>]   3.12K  --.-KB/s    in 0s      \n",
            "\n",
            "2023-09-14 15:47:07 (36.5 MB/s) - ‘andrea_models.py.1’ saved [3190/3190]\n",
            "\n",
            "--2023-09-14 15:47:07--  https://raw.githubusercontent.com/andreaaraldo/machine-learning-for-networks/master/course_library/visualization.py\n",
            "Resolving raw.githubusercontent.com (raw.githubusercontent.com)... 185.199.108.133, 185.199.109.133, 185.199.110.133, ...\n",
            "Connecting to raw.githubusercontent.com (raw.githubusercontent.com)|185.199.108.133|:443... connected.\n",
            "HTTP request sent, awaiting response... 200 OK\n",
            "Length: 13023 (13K) [text/plain]\n",
            "Saving to: ‘visualization.py.1’\n",
            "\n",
            "visualization.py.1  100%[===================>]  12.72K  --.-KB/s    in 0s      \n",
            "\n",
            "2023-09-14 15:47:07 (58.3 MB/s) - ‘visualization.py.1’ saved [13023/13023]\n",
            "\n"
          ]
        }
      ]
    },
    {
      "cell_type": "code",
      "metadata": {
        "id": "-NhY3EewjWRS"
      },
      "source": [
        "# IGNORE THIS\n",
        "savefigures=False"
      ],
      "execution_count": null,
      "outputs": []
    },
    {
      "cell_type": "markdown",
      "metadata": {
        "id": "1Ps1woMAabHV"
      },
      "source": [
        "Download the dataset"
      ]
    },
    {
      "cell_type": "code",
      "metadata": {
        "id": "Oqw1-eCWan9M",
        "outputId": "0cc34f49-3af7-48a6-9907-e755b3d74159",
        "colab": {
          "base_uri": "https://localhost:8080/"
        }
      },
      "source": [
        "dataset_to_use = 'B1'\n",
        "mydatasets_folder = \"https://raw.githubusercontent.com/andreaaraldo/machine-learning-for-networks/master/processed_datasets/requet/\"\n",
        "\n",
        "filename = \"df.\"+ dataset_to_use+\"_2.csv\"\n",
        "complete_name = mydatasets_folder+filename\n",
        "!wget $complete_name"
      ],
      "execution_count": null,
      "outputs": [
        {
          "output_type": "stream",
          "name": "stdout",
          "text": [
            "--2023-09-14 15:47:08--  https://raw.githubusercontent.com/andreaaraldo/machine-learning-for-networks/master/processed_datasets/requet/df.B1_2.csv\n",
            "Resolving raw.githubusercontent.com (raw.githubusercontent.com)... 185.199.108.133, 185.199.109.133, 185.199.110.133, ...\n",
            "Connecting to raw.githubusercontent.com (raw.githubusercontent.com)|185.199.108.133|:443... connected.\n",
            "HTTP request sent, awaiting response... 200 OK\n",
            "Length: 58556 (57K) [text/plain]\n",
            "Saving to: ‘df.B1_2.csv.1’\n",
            "\n",
            "\rdf.B1_2.csv.1         0%[                    ]       0  --.-KB/s               \rdf.B1_2.csv.1       100%[===================>]  57.18K  --.-KB/s    in 0.002s  \n",
            "\n",
            "2023-09-14 15:47:08 (32.6 MB/s) - ‘df.B1_2.csv.1’ saved [58556/58556]\n",
            "\n"
          ]
        }
      ]
    },
    {
      "cell_type": "code",
      "metadata": {
        "id": "DFmT-xl0wegk",
        "outputId": "5278ed99-7025-4ea9-981c-36a272913e28",
        "colab": {
          "base_uri": "https://localhost:8080/"
        }
      },
      "source": [
        "df = pd.read_csv(filename)\n",
        "df.info(verbose=True)"
      ],
      "execution_count": null,
      "outputs": [
        {
          "output_type": "stream",
          "name": "stdout",
          "text": [
            "<class 'pandas.core.frame.DataFrame'>\n",
            "RangeIndex: 47 entries, 0 to 46\n",
            "Data columns (total 207 columns):\n",
            " #    Column               Dtype  \n",
            "---   ------               -----  \n",
            " 0    RelativeTime         float64\n",
            " 1    PacketsSent          int64  \n",
            " 2    PacketsReceived      int64  \n",
            " 3    BytesSent            int64  \n",
            " 4    BytesReceived        int64  \n",
            " 5    IPSrc0               object \n",
            " 6    IPDst0               object \n",
            " 7    Protocol0            object \n",
            " 8    PacketsSent0         int64  \n",
            " 9    PacketsReceived0     int64  \n",
            " 10   BytesSent0           int64  \n",
            " 11   BytesReceived0       int64  \n",
            " 12   IPSrc1               object \n",
            " 13   IPDst1               object \n",
            " 14   Protocol1            object \n",
            " 15   PacketsSent1         int64  \n",
            " 16   PacketsReceived1     int64  \n",
            " 17   BytesSent1           int64  \n",
            " 18   BytesReceived1       int64  \n",
            " 19   IPSrc2               object \n",
            " 20   IPDst2               object \n",
            " 21   Protocol2            object \n",
            " 22   PacketsSent2         int64  \n",
            " 23   PacketsReceived2     int64  \n",
            " 24   BytesSent2           int64  \n",
            " 25   BytesReceived2       int64  \n",
            " 26   IPSrc3               object \n",
            " 27   IPDst3               object \n",
            " 28   Protocol3            object \n",
            " 29   PacketsSent3         int64  \n",
            " 30   PacketsReceived3     int64  \n",
            " 31   BytesSent3           int64  \n",
            " 32   BytesReceived3       int64  \n",
            " 33   IPSrc4               object \n",
            " 34   IPDst4               object \n",
            " 35   Protocol4            object \n",
            " 36   PacketsSent4         int64  \n",
            " 37   PacketsReceived4     int64  \n",
            " 38   BytesSent4           int64  \n",
            " 39   BytesReceived4       int64  \n",
            " 40   IPSrc5               object \n",
            " 41   IPDst5               object \n",
            " 42   Protocol5            object \n",
            " 43   PacketsSent5         int64  \n",
            " 44   PacketsReceived5     int64  \n",
            " 45   BytesSent5           int64  \n",
            " 46   BytesReceived5       int64  \n",
            " 47   IPSrc6               object \n",
            " 48   IPDst6               object \n",
            " 49   Protocol6            object \n",
            " 50   PacketsSent6         int64  \n",
            " 51   PacketsReceived6     int64  \n",
            " 52   BytesSent6           int64  \n",
            " 53   BytesReceived6       int64  \n",
            " 54   IPSrc7               object \n",
            " 55   IPDst7               object \n",
            " 56   Protocol7            object \n",
            " 57   PacketsSent7         int64  \n",
            " 58   PacketsReceived7     int64  \n",
            " 59   BytesSent7           int64  \n",
            " 60   BytesReceived7       int64  \n",
            " 61   IPSrc8               object \n",
            " 62   IPDst8               object \n",
            " 63   Protocol8            object \n",
            " 64   PacketsSent8         int64  \n",
            " 65   PacketsReceived8     int64  \n",
            " 66   BytesSent8           int64  \n",
            " 67   BytesReceived8       int64  \n",
            " 68   IPSrc9               object \n",
            " 69   IPDst9               object \n",
            " 70   Protocol9            object \n",
            " 71   PacketsSent9         int64  \n",
            " 72   PacketsReceived9     int64  \n",
            " 73   BytesSent9           int64  \n",
            " 74   BytesReceived9       int64  \n",
            " 75   IPSrc10              object \n",
            " 76   IPDst10              object \n",
            " 77   Protocol10           object \n",
            " 78   PacketsSent10        int64  \n",
            " 79   PacketsReceived10    int64  \n",
            " 80   BytesSent10          int64  \n",
            " 81   BytesReceived10      int64  \n",
            " 82   IPSrc11              object \n",
            " 83   IPDst11              object \n",
            " 84   Protocol11           int64  \n",
            " 85   PacketsSent11        int64  \n",
            " 86   PacketsReceived11    int64  \n",
            " 87   BytesSent11          int64  \n",
            " 88   BytesReceived11      int64  \n",
            " 89   IPSrc12              object \n",
            " 90   IPDst12              object \n",
            " 91   Protocol12           int64  \n",
            " 92   PacketsSent12        int64  \n",
            " 93   PacketsReceived12    int64  \n",
            " 94   BytesSent12          int64  \n",
            " 95   BytesReceived12      int64  \n",
            " 96   IPSrc13              object \n",
            " 97   IPDst13              object \n",
            " 98   Protocol13           int64  \n",
            " 99   PacketsSent13        int64  \n",
            " 100  PacketsReceived13    int64  \n",
            " 101  BytesSent13          int64  \n",
            " 102  BytesReceived13      int64  \n",
            " 103  IPSrc14              object \n",
            " 104  IPDst14              object \n",
            " 105  Protocol14           int64  \n",
            " 106  PacketsSent14        int64  \n",
            " 107  PacketsReceived14    int64  \n",
            " 108  BytesSent14          int64  \n",
            " 109  BytesReceived14      int64  \n",
            " 110  IPSrc15              object \n",
            " 111  IPDst15              object \n",
            " 112  Protocol15           int64  \n",
            " 113  PacketsSent15        int64  \n",
            " 114  PacketsReceived15    int64  \n",
            " 115  BytesSent15          int64  \n",
            " 116  BytesReceived15      int64  \n",
            " 117  IPSrc16              object \n",
            " 118  IPDst16              object \n",
            " 119  Protocol16           int64  \n",
            " 120  PacketsSent16        int64  \n",
            " 121  PacketsReceived16    int64  \n",
            " 122  BytesSent16          int64  \n",
            " 123  BytesReceived16      int64  \n",
            " 124  IPSrc17              object \n",
            " 125  IPDst17              object \n",
            " 126  Protocol17           int64  \n",
            " 127  PacketsSent17        int64  \n",
            " 128  PacketsReceived17    int64  \n",
            " 129  BytesSent17          int64  \n",
            " 130  BytesReceived17      int64  \n",
            " 131  IPSrc18              object \n",
            " 132  IPDst18              object \n",
            " 133  Protocol18           int64  \n",
            " 134  PacketsSent18        int64  \n",
            " 135  PacketsReceived18    int64  \n",
            " 136  BytesSent18          int64  \n",
            " 137  BytesReceived18      int64  \n",
            " 138  IPSrc19              object \n",
            " 139  IPDst19              object \n",
            " 140  Protocol19           int64  \n",
            " 141  PacketsSent19        int64  \n",
            " 142  PacketsReceived19    int64  \n",
            " 143  BytesSent19          int64  \n",
            " 144  BytesReceived19      int64  \n",
            " 145  IPSrc20              object \n",
            " 146  IPDst20              object \n",
            " 147  Protocol20           int64  \n",
            " 148  PacketsSent20        int64  \n",
            " 149  PacketsReceived20    int64  \n",
            " 150  BytesSent20          int64  \n",
            " 151  BytesReceived20      int64  \n",
            " 152  IPSrc21              object \n",
            " 153  IPDst21              int64  \n",
            " 154  Protocol21           int64  \n",
            " 155  PacketsSent21        int64  \n",
            " 156  PacketsReceived21    int64  \n",
            " 157  BytesSent21          int64  \n",
            " 158  BytesReceived21      int64  \n",
            " 159  IPSrc22              object \n",
            " 160  IPDst22              int64  \n",
            " 161  Protocol22           int64  \n",
            " 162  PacketsSent22        int64  \n",
            " 163  PacketsReceived22    int64  \n",
            " 164  BytesSent22          int64  \n",
            " 165  BytesReceived22      int64  \n",
            " 166  IPSrc23              object \n",
            " 167  IPDst23              int64  \n",
            " 168  Protocol23           int64  \n",
            " 169  PacketsSent23        int64  \n",
            " 170  PacketsReceived23    int64  \n",
            " 171  BytesSent23          int64  \n",
            " 172  BytesReceived23      int64  \n",
            " 173  IPSrc24              object \n",
            " 174  IPDst24              int64  \n",
            " 175  Protocol24           int64  \n",
            " 176  PacketsSent24        int64  \n",
            " 177  PacketsReceived24    int64  \n",
            " 178  BytesSent24          int64  \n",
            " 179  BytesReceived24      int64  \n",
            " 180  IPSrc25              object \n",
            " 181  IPDst25              object \n",
            " 182  Protocol25           int64  \n",
            " 183  PacketsSent25        int64  \n",
            " 184  PacketsReceived25    int64  \n",
            " 185  BytesSent25          int64  \n",
            " 186  BytesReceived25      int64  \n",
            " 187  Buffering            int64  \n",
            " 188  Paused               int64  \n",
            " 189  Playing              int64  \n",
            " 190  CollectData          int64  \n",
            " 191  EpochTime            int64  \n",
            " 192  StartTime            int64  \n",
            " 193  PlaybackProgress     float64\n",
            " 194  Length               float64\n",
            " 195  BufferHealth         float64\n",
            " 196  BufferProgress       float64\n",
            " 197  BufferValid          bool   \n",
            " 198  KBytesReceived       float64\n",
            " 199  label                object \n",
            " 200  label_num            int64  \n",
            " 201  KBytesReceived_log   float64\n",
            " 202  PacketsSent_log      float64\n",
            " 203  PacketsReceived_log  float64\n",
            " 204  BytesSent_log        float64\n",
            " 205  BytesReceived_log    float64\n",
            " 206  BufferProgress_log   float64\n",
            "dtypes: bool(1), float64(12), int64(134), object(60)\n",
            "memory usage: 75.8+ KB\n"
          ]
        }
      ]
    },
    {
      "cell_type": "code",
      "metadata": {
        "id": "J3NniJHywegu",
        "outputId": "3f444795-2147-4b89-90ca-60cdb77fd678",
        "colab": {
          "base_uri": "https://localhost:8080/",
          "height": 255
        }
      },
      "source": [
        "df.head()"
      ],
      "execution_count": null,
      "outputs": [
        {
          "output_type": "execute_result",
          "data": {
            "text/plain": [
              "   RelativeTime  PacketsSent  PacketsReceived  BytesSent  BytesReceived  \\\n",
              "0           4.0            6               31       1668          36199   \n",
              "1           3.8           10               58       1935          77605   \n",
              "2           3.6           14               62       2842          75432   \n",
              "3           3.7           33              205       3569         278065   \n",
              "4           3.6            6               20       2036          27840   \n",
              "\n",
              "          IPSrc0          IPDst0 Protocol0  PacketsSent0  PacketsReceived0  \\\n",
              "0   192.168.1.15     74.125.0.41      QUIC             2                26   \n",
              "1   192.168.1.15   173.194.31.91      QUIC             5                55   \n",
              "2   192.168.1.15  173.194.131.41      QUIC             7                54   \n",
              "3   192.168.1.15   173.194.31.91      QUIC            16               168   \n",
              "4   192.168.1.15     74.125.0.24      QUIC             4                20   \n",
              "\n",
              "   ...  BufferValid  KBytesReceived  label label_num KBytesReceived_log  \\\n",
              "0  ...         True          36.199  q360p       360           3.589031   \n",
              "1  ...         True          77.605  q144p       144           4.351632   \n",
              "2  ...         True          75.432  q144p       144           4.323232   \n",
              "3  ...         True         278.065  q360p       360           5.627855   \n",
              "4  ...         True          27.840  q360p       360           3.326474   \n",
              "\n",
              "   PacketsSent_log  PacketsReceived_log  BytesSent_log  BytesReceived_log  \\\n",
              "0         1.945910             3.465736       7.419980          10.496814   \n",
              "1         2.397895             4.077537       7.568379          11.259400   \n",
              "2         2.708050             4.143135       7.952615          11.231000   \n",
              "3         3.526361             5.327876       8.180321          12.535614   \n",
              "4         1.945910             3.044522       7.619233          10.234265   \n",
              "\n",
              "  BufferProgress_log  \n",
              "0           0.015240  \n",
              "1           0.007078  \n",
              "2           0.006487  \n",
              "3           0.005879  \n",
              "4           0.007130  \n",
              "\n",
              "[5 rows x 207 columns]"
            ],
            "text/html": [
              "\n",
              "  <div id=\"df-c5a85520-cf9c-42a3-ab77-1b5c1a8d9ebb\" class=\"colab-df-container\">\n",
              "    <div>\n",
              "<style scoped>\n",
              "    .dataframe tbody tr th:only-of-type {\n",
              "        vertical-align: middle;\n",
              "    }\n",
              "\n",
              "    .dataframe tbody tr th {\n",
              "        vertical-align: top;\n",
              "    }\n",
              "\n",
              "    .dataframe thead th {\n",
              "        text-align: right;\n",
              "    }\n",
              "</style>\n",
              "<table border=\"1\" class=\"dataframe\">\n",
              "  <thead>\n",
              "    <tr style=\"text-align: right;\">\n",
              "      <th></th>\n",
              "      <th>RelativeTime</th>\n",
              "      <th>PacketsSent</th>\n",
              "      <th>PacketsReceived</th>\n",
              "      <th>BytesSent</th>\n",
              "      <th>BytesReceived</th>\n",
              "      <th>IPSrc0</th>\n",
              "      <th>IPDst0</th>\n",
              "      <th>Protocol0</th>\n",
              "      <th>PacketsSent0</th>\n",
              "      <th>PacketsReceived0</th>\n",
              "      <th>...</th>\n",
              "      <th>BufferValid</th>\n",
              "      <th>KBytesReceived</th>\n",
              "      <th>label</th>\n",
              "      <th>label_num</th>\n",
              "      <th>KBytesReceived_log</th>\n",
              "      <th>PacketsSent_log</th>\n",
              "      <th>PacketsReceived_log</th>\n",
              "      <th>BytesSent_log</th>\n",
              "      <th>BytesReceived_log</th>\n",
              "      <th>BufferProgress_log</th>\n",
              "    </tr>\n",
              "  </thead>\n",
              "  <tbody>\n",
              "    <tr>\n",
              "      <th>0</th>\n",
              "      <td>4.0</td>\n",
              "      <td>6</td>\n",
              "      <td>31</td>\n",
              "      <td>1668</td>\n",
              "      <td>36199</td>\n",
              "      <td>192.168.1.15</td>\n",
              "      <td>74.125.0.41</td>\n",
              "      <td>QUIC</td>\n",
              "      <td>2</td>\n",
              "      <td>26</td>\n",
              "      <td>...</td>\n",
              "      <td>True</td>\n",
              "      <td>36.199</td>\n",
              "      <td>q360p</td>\n",
              "      <td>360</td>\n",
              "      <td>3.589031</td>\n",
              "      <td>1.945910</td>\n",
              "      <td>3.465736</td>\n",
              "      <td>7.419980</td>\n",
              "      <td>10.496814</td>\n",
              "      <td>0.015240</td>\n",
              "    </tr>\n",
              "    <tr>\n",
              "      <th>1</th>\n",
              "      <td>3.8</td>\n",
              "      <td>10</td>\n",
              "      <td>58</td>\n",
              "      <td>1935</td>\n",
              "      <td>77605</td>\n",
              "      <td>192.168.1.15</td>\n",
              "      <td>173.194.31.91</td>\n",
              "      <td>QUIC</td>\n",
              "      <td>5</td>\n",
              "      <td>55</td>\n",
              "      <td>...</td>\n",
              "      <td>True</td>\n",
              "      <td>77.605</td>\n",
              "      <td>q144p</td>\n",
              "      <td>144</td>\n",
              "      <td>4.351632</td>\n",
              "      <td>2.397895</td>\n",
              "      <td>4.077537</td>\n",
              "      <td>7.568379</td>\n",
              "      <td>11.259400</td>\n",
              "      <td>0.007078</td>\n",
              "    </tr>\n",
              "    <tr>\n",
              "      <th>2</th>\n",
              "      <td>3.6</td>\n",
              "      <td>14</td>\n",
              "      <td>62</td>\n",
              "      <td>2842</td>\n",
              "      <td>75432</td>\n",
              "      <td>192.168.1.15</td>\n",
              "      <td>173.194.131.41</td>\n",
              "      <td>QUIC</td>\n",
              "      <td>7</td>\n",
              "      <td>54</td>\n",
              "      <td>...</td>\n",
              "      <td>True</td>\n",
              "      <td>75.432</td>\n",
              "      <td>q144p</td>\n",
              "      <td>144</td>\n",
              "      <td>4.323232</td>\n",
              "      <td>2.708050</td>\n",
              "      <td>4.143135</td>\n",
              "      <td>7.952615</td>\n",
              "      <td>11.231000</td>\n",
              "      <td>0.006487</td>\n",
              "    </tr>\n",
              "    <tr>\n",
              "      <th>3</th>\n",
              "      <td>3.7</td>\n",
              "      <td>33</td>\n",
              "      <td>205</td>\n",
              "      <td>3569</td>\n",
              "      <td>278065</td>\n",
              "      <td>192.168.1.15</td>\n",
              "      <td>173.194.31.91</td>\n",
              "      <td>QUIC</td>\n",
              "      <td>16</td>\n",
              "      <td>168</td>\n",
              "      <td>...</td>\n",
              "      <td>True</td>\n",
              "      <td>278.065</td>\n",
              "      <td>q360p</td>\n",
              "      <td>360</td>\n",
              "      <td>5.627855</td>\n",
              "      <td>3.526361</td>\n",
              "      <td>5.327876</td>\n",
              "      <td>8.180321</td>\n",
              "      <td>12.535614</td>\n",
              "      <td>0.005879</td>\n",
              "    </tr>\n",
              "    <tr>\n",
              "      <th>4</th>\n",
              "      <td>3.6</td>\n",
              "      <td>6</td>\n",
              "      <td>20</td>\n",
              "      <td>2036</td>\n",
              "      <td>27840</td>\n",
              "      <td>192.168.1.15</td>\n",
              "      <td>74.125.0.24</td>\n",
              "      <td>QUIC</td>\n",
              "      <td>4</td>\n",
              "      <td>20</td>\n",
              "      <td>...</td>\n",
              "      <td>True</td>\n",
              "      <td>27.840</td>\n",
              "      <td>q360p</td>\n",
              "      <td>360</td>\n",
              "      <td>3.326474</td>\n",
              "      <td>1.945910</td>\n",
              "      <td>3.044522</td>\n",
              "      <td>7.619233</td>\n",
              "      <td>10.234265</td>\n",
              "      <td>0.007130</td>\n",
              "    </tr>\n",
              "  </tbody>\n",
              "</table>\n",
              "<p>5 rows × 207 columns</p>\n",
              "</div>\n",
              "    <div class=\"colab-df-buttons\">\n",
              "\n",
              "  <div class=\"colab-df-container\">\n",
              "    <button class=\"colab-df-convert\" onclick=\"convertToInteractive('df-c5a85520-cf9c-42a3-ab77-1b5c1a8d9ebb')\"\n",
              "            title=\"Convert this dataframe to an interactive table.\"\n",
              "            style=\"display:none;\">\n",
              "\n",
              "  <svg xmlns=\"http://www.w3.org/2000/svg\" height=\"24px\" viewBox=\"0 -960 960 960\">\n",
              "    <path d=\"M120-120v-720h720v720H120Zm60-500h600v-160H180v160Zm220 220h160v-160H400v160Zm0 220h160v-160H400v160ZM180-400h160v-160H180v160Zm440 0h160v-160H620v160ZM180-180h160v-160H180v160Zm440 0h160v-160H620v160Z\"/>\n",
              "  </svg>\n",
              "    </button>\n",
              "\n",
              "  <style>\n",
              "    .colab-df-container {\n",
              "      display:flex;\n",
              "      gap: 12px;\n",
              "    }\n",
              "\n",
              "    .colab-df-convert {\n",
              "      background-color: #E8F0FE;\n",
              "      border: none;\n",
              "      border-radius: 50%;\n",
              "      cursor: pointer;\n",
              "      display: none;\n",
              "      fill: #1967D2;\n",
              "      height: 32px;\n",
              "      padding: 0 0 0 0;\n",
              "      width: 32px;\n",
              "    }\n",
              "\n",
              "    .colab-df-convert:hover {\n",
              "      background-color: #E2EBFA;\n",
              "      box-shadow: 0px 1px 2px rgba(60, 64, 67, 0.3), 0px 1px 3px 1px rgba(60, 64, 67, 0.15);\n",
              "      fill: #174EA6;\n",
              "    }\n",
              "\n",
              "    .colab-df-buttons div {\n",
              "      margin-bottom: 4px;\n",
              "    }\n",
              "\n",
              "    [theme=dark] .colab-df-convert {\n",
              "      background-color: #3B4455;\n",
              "      fill: #D2E3FC;\n",
              "    }\n",
              "\n",
              "    [theme=dark] .colab-df-convert:hover {\n",
              "      background-color: #434B5C;\n",
              "      box-shadow: 0px 1px 3px 1px rgba(0, 0, 0, 0.15);\n",
              "      filter: drop-shadow(0px 1px 2px rgba(0, 0, 0, 0.3));\n",
              "      fill: #FFFFFF;\n",
              "    }\n",
              "  </style>\n",
              "\n",
              "    <script>\n",
              "      const buttonEl =\n",
              "        document.querySelector('#df-c5a85520-cf9c-42a3-ab77-1b5c1a8d9ebb button.colab-df-convert');\n",
              "      buttonEl.style.display =\n",
              "        google.colab.kernel.accessAllowed ? 'block' : 'none';\n",
              "\n",
              "      async function convertToInteractive(key) {\n",
              "        const element = document.querySelector('#df-c5a85520-cf9c-42a3-ab77-1b5c1a8d9ebb');\n",
              "        const dataTable =\n",
              "          await google.colab.kernel.invokeFunction('convertToInteractive',\n",
              "                                                    [key], {});\n",
              "        if (!dataTable) return;\n",
              "\n",
              "        const docLinkHtml = 'Like what you see? Visit the ' +\n",
              "          '<a target=\"_blank\" href=https://colab.research.google.com/notebooks/data_table.ipynb>data table notebook</a>'\n",
              "          + ' to learn more about interactive tables.';\n",
              "        element.innerHTML = '';\n",
              "        dataTable['output_type'] = 'display_data';\n",
              "        await google.colab.output.renderOutput(dataTable, element);\n",
              "        const docLink = document.createElement('div');\n",
              "        docLink.innerHTML = docLinkHtml;\n",
              "        element.appendChild(docLink);\n",
              "      }\n",
              "    </script>\n",
              "  </div>\n",
              "\n",
              "\n",
              "<div id=\"df-ea03646b-279a-4d5f-a9d5-d25ffe1a9e53\">\n",
              "  <button class=\"colab-df-quickchart\" onclick=\"quickchart('df-ea03646b-279a-4d5f-a9d5-d25ffe1a9e53')\"\n",
              "            title=\"Suggest charts.\"\n",
              "            style=\"display:none;\">\n",
              "\n",
              "<svg xmlns=\"http://www.w3.org/2000/svg\" height=\"24px\"viewBox=\"0 0 24 24\"\n",
              "     width=\"24px\">\n",
              "    <g>\n",
              "        <path d=\"M19 3H5c-1.1 0-2 .9-2 2v14c0 1.1.9 2 2 2h14c1.1 0 2-.9 2-2V5c0-1.1-.9-2-2-2zM9 17H7v-7h2v7zm4 0h-2V7h2v10zm4 0h-2v-4h2v4z\"/>\n",
              "    </g>\n",
              "</svg>\n",
              "  </button>\n",
              "\n",
              "<style>\n",
              "  .colab-df-quickchart {\n",
              "      --bg-color: #E8F0FE;\n",
              "      --fill-color: #1967D2;\n",
              "      --hover-bg-color: #E2EBFA;\n",
              "      --hover-fill-color: #174EA6;\n",
              "      --disabled-fill-color: #AAA;\n",
              "      --disabled-bg-color: #DDD;\n",
              "  }\n",
              "\n",
              "  [theme=dark] .colab-df-quickchart {\n",
              "      --bg-color: #3B4455;\n",
              "      --fill-color: #D2E3FC;\n",
              "      --hover-bg-color: #434B5C;\n",
              "      --hover-fill-color: #FFFFFF;\n",
              "      --disabled-bg-color: #3B4455;\n",
              "      --disabled-fill-color: #666;\n",
              "  }\n",
              "\n",
              "  .colab-df-quickchart {\n",
              "    background-color: var(--bg-color);\n",
              "    border: none;\n",
              "    border-radius: 50%;\n",
              "    cursor: pointer;\n",
              "    display: none;\n",
              "    fill: var(--fill-color);\n",
              "    height: 32px;\n",
              "    padding: 0;\n",
              "    width: 32px;\n",
              "  }\n",
              "\n",
              "  .colab-df-quickchart:hover {\n",
              "    background-color: var(--hover-bg-color);\n",
              "    box-shadow: 0 1px 2px rgba(60, 64, 67, 0.3), 0 1px 3px 1px rgba(60, 64, 67, 0.15);\n",
              "    fill: var(--button-hover-fill-color);\n",
              "  }\n",
              "\n",
              "  .colab-df-quickchart-complete:disabled,\n",
              "  .colab-df-quickchart-complete:disabled:hover {\n",
              "    background-color: var(--disabled-bg-color);\n",
              "    fill: var(--disabled-fill-color);\n",
              "    box-shadow: none;\n",
              "  }\n",
              "\n",
              "  .colab-df-spinner {\n",
              "    border: 2px solid var(--fill-color);\n",
              "    border-color: transparent;\n",
              "    border-bottom-color: var(--fill-color);\n",
              "    animation:\n",
              "      spin 1s steps(1) infinite;\n",
              "  }\n",
              "\n",
              "  @keyframes spin {\n",
              "    0% {\n",
              "      border-color: transparent;\n",
              "      border-bottom-color: var(--fill-color);\n",
              "      border-left-color: var(--fill-color);\n",
              "    }\n",
              "    20% {\n",
              "      border-color: transparent;\n",
              "      border-left-color: var(--fill-color);\n",
              "      border-top-color: var(--fill-color);\n",
              "    }\n",
              "    30% {\n",
              "      border-color: transparent;\n",
              "      border-left-color: var(--fill-color);\n",
              "      border-top-color: var(--fill-color);\n",
              "      border-right-color: var(--fill-color);\n",
              "    }\n",
              "    40% {\n",
              "      border-color: transparent;\n",
              "      border-right-color: var(--fill-color);\n",
              "      border-top-color: var(--fill-color);\n",
              "    }\n",
              "    60% {\n",
              "      border-color: transparent;\n",
              "      border-right-color: var(--fill-color);\n",
              "    }\n",
              "    80% {\n",
              "      border-color: transparent;\n",
              "      border-right-color: var(--fill-color);\n",
              "      border-bottom-color: var(--fill-color);\n",
              "    }\n",
              "    90% {\n",
              "      border-color: transparent;\n",
              "      border-bottom-color: var(--fill-color);\n",
              "    }\n",
              "  }\n",
              "</style>\n",
              "\n",
              "  <script>\n",
              "    async function quickchart(key) {\n",
              "      const quickchartButtonEl =\n",
              "        document.querySelector('#' + key + ' button');\n",
              "      quickchartButtonEl.disabled = true;  // To prevent multiple clicks.\n",
              "      quickchartButtonEl.classList.add('colab-df-spinner');\n",
              "      try {\n",
              "        const charts = await google.colab.kernel.invokeFunction(\n",
              "            'suggestCharts', [key], {});\n",
              "      } catch (error) {\n",
              "        console.error('Error during call to suggestCharts:', error);\n",
              "      }\n",
              "      quickchartButtonEl.classList.remove('colab-df-spinner');\n",
              "      quickchartButtonEl.classList.add('colab-df-quickchart-complete');\n",
              "    }\n",
              "    (() => {\n",
              "      let quickchartButtonEl =\n",
              "        document.querySelector('#df-ea03646b-279a-4d5f-a9d5-d25ffe1a9e53 button');\n",
              "      quickchartButtonEl.style.display =\n",
              "        google.colab.kernel.accessAllowed ? 'block' : 'none';\n",
              "    })();\n",
              "  </script>\n",
              "</div>\n",
              "    </div>\n",
              "  </div>\n"
            ]
          },
          "metadata": {},
          "execution_count": 37
        }
      ]
    },
    {
      "cell_type": "markdown",
      "metadata": {
        "id": "jNxaSEqXwehN"
      },
      "source": [
        "Let's try to infer BufferHealth from the following features"
      ]
    },
    {
      "cell_type": "code",
      "metadata": {
        "id": "1LMq-IW7wehO"
      },
      "source": [
        "features = ['KBytesReceived_log','BytesSent_log', 'PacketsSent',\n",
        "            'PacketsReceived', 'BytesSent1']\n",
        "\n",
        "X = df[features].values\n",
        "y = df['BufferHealth'].values"
      ],
      "execution_count": null,
      "outputs": []
    },
    {
      "cell_type": "markdown",
      "metadata": {
        "id": "e6G25S-MwehU"
      },
      "source": [
        "We will try different parameters of a model on the training set and evaluate their performance on the test set."
      ]
    },
    {
      "cell_type": "code",
      "metadata": {
        "id": "GdmZl-hLwehY"
      },
      "source": [
        "X_train, X_test, y_train, y_test =train_test_split(\n",
        "    X,y, test_size=0.3, shuffle=True, random_state=7)"
      ],
      "execution_count": null,
      "outputs": []
    },
    {
      "cell_type": "markdown",
      "metadata": {
        "id": "2qJEquIEAtbM"
      },
      "source": [
        "### Linear regression"
      ]
    },
    {
      "cell_type": "markdown",
      "metadata": {
        "id": "ehPpkedxwehe"
      },
      "source": [
        "Let's first try a simple linear regression"
      ]
    },
    {
      "cell_type": "code",
      "metadata": {
        "id": "fn6HXQoewehh",
        "outputId": "d14fd95f-a33b-4ebb-c9cc-e81a5bcf14ef",
        "colab": {
          "base_uri": "https://localhost:8080/"
        }
      },
      "source": [
        "model = LinearRegression()\n",
        "model.fit(X_train, y_train)\n",
        "y_pred = model.predict(X_test)\n",
        "RMSE_lin = sqrt(mean_squared_error(y_pred, y_test) )\n",
        "RMSE_lin"
      ],
      "execution_count": null,
      "outputs": [
        {
          "output_type": "execute_result",
          "data": {
            "text/plain": [
              "2.148766515019231"
            ]
          },
          "metadata": {},
          "execution_count": 40
        }
      ]
    },
    {
      "cell_type": "markdown",
      "metadata": {
        "id": "AzhmOuBqwehn"
      },
      "source": [
        "A regressor with the regularization term is also called Ridge regressor.\n",
        "\n",
        "First, see that `Ridge` with `alpha=0`, the model becomes a simple linear regression."
      ]
    },
    {
      "cell_type": "code",
      "metadata": {
        "id": "Pdg4jXIbwehp",
        "outputId": "fecc60aa-4fe0-4043-ae2a-3660f7a18863",
        "colab": {
          "base_uri": "https://localhost:8080/"
        }
      },
      "source": [
        "# The implementation of Ridge regression does not behave well with\n",
        "# alpha=0, as it expects alpha > 0\n",
        "model = Ridge(alpha=1e-13)\n",
        "model.fit(X_train, y_train)\n",
        "y_pred = model.predict(X_test)\n",
        "sqrt(mean_squared_error(y_pred, y_test) )"
      ],
      "execution_count": null,
      "outputs": [
        {
          "output_type": "execute_result",
          "data": {
            "text/plain": [
              "2.148766515019224"
            ]
          },
          "metadata": {},
          "execution_count": 41
        }
      ]
    },
    {
      "cell_type": "markdown",
      "metadata": {
        "id": "jbNao7yyAyLM"
      },
      "source": [
        "### Linear regression + regularization"
      ]
    },
    {
      "cell_type": "markdown",
      "metadata": {
        "id": "v44NMmLdwehw"
      },
      "source": [
        "Let's try with some `alpha > 0`"
      ]
    },
    {
      "cell_type": "code",
      "metadata": {
        "id": "PFKPWq7Awehy",
        "outputId": "d62da21a-0519-418c-ac7b-6e78f646c9db",
        "colab": {
          "base_uri": "https://localhost:8080/"
        }
      },
      "source": [
        "model = Ridge(alpha=10)\n",
        "model.fit(X_train, y_train)\n",
        "y_pred = model.predict(X_test)\n",
        "sqrt(mean_squared_error(y_pred, y_test) )\n"
      ],
      "execution_count": null,
      "outputs": [
        {
          "output_type": "execute_result",
          "data": {
            "text/plain": [
              "2.1476270838437523"
            ]
          },
          "metadata": {},
          "execution_count": 42
        }
      ]
    },
    {
      "cell_type": "markdown",
      "metadata": {
        "id": "Hw2Ohm0fweh4"
      },
      "source": [
        "Find the best alpha in the training set and report the cross validation error.\n",
        "\n",
        "**When looking for the best parameter, use training data only** (otherwise you have **data leakage**)."
      ]
    },
    {
      "cell_type": "code",
      "metadata": {
        "id": "Z9DXdMxoweh6",
        "outputId": "0d6ba167-86a1-4164-c65f-d9d7192cc968",
        "scrolled": true,
        "colab": {
          "base_uri": "https://localhost:8080/",
          "height": 824
        }
      },
      "source": [
        "k_fold = KFold(n_splits=5, shuffle=True, random_state=10)\n",
        "\n",
        "alphas = [1e-9, 0.5, 1, 10, 100, 1000, 10000, 1e5, 1e6]\n",
        "errors = []\n",
        "for a in alphas:\n",
        "    scores = cross_val_score(Ridge(alpha=a),\n",
        "                X_train, y_train, cv=k_fold,\n",
        "                scoring = 'neg_mean_squared_error')\n",
        "    errors.append(sqrt(mean(-scores) ) )\n",
        "\n",
        "# We convert x-values to string because otherwise they would\n",
        "# be to far from each other\n",
        "df_errors = pd.DataFrame({'alphas':[str(a) for a in alphas],\n",
        "                        'cross-validation errors':errors})\n",
        "ax = df_errors.plot.bar(x='alphas')\n",
        "df_errors"
      ],
      "execution_count": null,
      "outputs": [
        {
          "output_type": "execute_result",
          "data": {
            "text/plain": [
              "      alphas  cross-validation errors\n",
              "0      1e-09                 3.013704\n",
              "1        0.5                 2.961386\n",
              "2          1                 2.925507\n",
              "3         10                 2.783285\n",
              "4        100                 2.738127\n",
              "5       1000                 2.710322\n",
              "6      10000                 2.672646\n",
              "7   100000.0                 2.662294\n",
              "8  1000000.0                 2.860985"
            ],
            "text/html": [
              "\n",
              "  <div id=\"df-f8de8142-3bd0-494b-87ad-dedd3b3c15e7\" class=\"colab-df-container\">\n",
              "    <div>\n",
              "<style scoped>\n",
              "    .dataframe tbody tr th:only-of-type {\n",
              "        vertical-align: middle;\n",
              "    }\n",
              "\n",
              "    .dataframe tbody tr th {\n",
              "        vertical-align: top;\n",
              "    }\n",
              "\n",
              "    .dataframe thead th {\n",
              "        text-align: right;\n",
              "    }\n",
              "</style>\n",
              "<table border=\"1\" class=\"dataframe\">\n",
              "  <thead>\n",
              "    <tr style=\"text-align: right;\">\n",
              "      <th></th>\n",
              "      <th>alphas</th>\n",
              "      <th>cross-validation errors</th>\n",
              "    </tr>\n",
              "  </thead>\n",
              "  <tbody>\n",
              "    <tr>\n",
              "      <th>0</th>\n",
              "      <td>1e-09</td>\n",
              "      <td>3.013704</td>\n",
              "    </tr>\n",
              "    <tr>\n",
              "      <th>1</th>\n",
              "      <td>0.5</td>\n",
              "      <td>2.961386</td>\n",
              "    </tr>\n",
              "    <tr>\n",
              "      <th>2</th>\n",
              "      <td>1</td>\n",
              "      <td>2.925507</td>\n",
              "    </tr>\n",
              "    <tr>\n",
              "      <th>3</th>\n",
              "      <td>10</td>\n",
              "      <td>2.783285</td>\n",
              "    </tr>\n",
              "    <tr>\n",
              "      <th>4</th>\n",
              "      <td>100</td>\n",
              "      <td>2.738127</td>\n",
              "    </tr>\n",
              "    <tr>\n",
              "      <th>5</th>\n",
              "      <td>1000</td>\n",
              "      <td>2.710322</td>\n",
              "    </tr>\n",
              "    <tr>\n",
              "      <th>6</th>\n",
              "      <td>10000</td>\n",
              "      <td>2.672646</td>\n",
              "    </tr>\n",
              "    <tr>\n",
              "      <th>7</th>\n",
              "      <td>100000.0</td>\n",
              "      <td>2.662294</td>\n",
              "    </tr>\n",
              "    <tr>\n",
              "      <th>8</th>\n",
              "      <td>1000000.0</td>\n",
              "      <td>2.860985</td>\n",
              "    </tr>\n",
              "  </tbody>\n",
              "</table>\n",
              "</div>\n",
              "    <div class=\"colab-df-buttons\">\n",
              "\n",
              "  <div class=\"colab-df-container\">\n",
              "    <button class=\"colab-df-convert\" onclick=\"convertToInteractive('df-f8de8142-3bd0-494b-87ad-dedd3b3c15e7')\"\n",
              "            title=\"Convert this dataframe to an interactive table.\"\n",
              "            style=\"display:none;\">\n",
              "\n",
              "  <svg xmlns=\"http://www.w3.org/2000/svg\" height=\"24px\" viewBox=\"0 -960 960 960\">\n",
              "    <path d=\"M120-120v-720h720v720H120Zm60-500h600v-160H180v160Zm220 220h160v-160H400v160Zm0 220h160v-160H400v160ZM180-400h160v-160H180v160Zm440 0h160v-160H620v160ZM180-180h160v-160H180v160Zm440 0h160v-160H620v160Z\"/>\n",
              "  </svg>\n",
              "    </button>\n",
              "\n",
              "  <style>\n",
              "    .colab-df-container {\n",
              "      display:flex;\n",
              "      gap: 12px;\n",
              "    }\n",
              "\n",
              "    .colab-df-convert {\n",
              "      background-color: #E8F0FE;\n",
              "      border: none;\n",
              "      border-radius: 50%;\n",
              "      cursor: pointer;\n",
              "      display: none;\n",
              "      fill: #1967D2;\n",
              "      height: 32px;\n",
              "      padding: 0 0 0 0;\n",
              "      width: 32px;\n",
              "    }\n",
              "\n",
              "    .colab-df-convert:hover {\n",
              "      background-color: #E2EBFA;\n",
              "      box-shadow: 0px 1px 2px rgba(60, 64, 67, 0.3), 0px 1px 3px 1px rgba(60, 64, 67, 0.15);\n",
              "      fill: #174EA6;\n",
              "    }\n",
              "\n",
              "    .colab-df-buttons div {\n",
              "      margin-bottom: 4px;\n",
              "    }\n",
              "\n",
              "    [theme=dark] .colab-df-convert {\n",
              "      background-color: #3B4455;\n",
              "      fill: #D2E3FC;\n",
              "    }\n",
              "\n",
              "    [theme=dark] .colab-df-convert:hover {\n",
              "      background-color: #434B5C;\n",
              "      box-shadow: 0px 1px 3px 1px rgba(0, 0, 0, 0.15);\n",
              "      filter: drop-shadow(0px 1px 2px rgba(0, 0, 0, 0.3));\n",
              "      fill: #FFFFFF;\n",
              "    }\n",
              "  </style>\n",
              "\n",
              "    <script>\n",
              "      const buttonEl =\n",
              "        document.querySelector('#df-f8de8142-3bd0-494b-87ad-dedd3b3c15e7 button.colab-df-convert');\n",
              "      buttonEl.style.display =\n",
              "        google.colab.kernel.accessAllowed ? 'block' : 'none';\n",
              "\n",
              "      async function convertToInteractive(key) {\n",
              "        const element = document.querySelector('#df-f8de8142-3bd0-494b-87ad-dedd3b3c15e7');\n",
              "        const dataTable =\n",
              "          await google.colab.kernel.invokeFunction('convertToInteractive',\n",
              "                                                    [key], {});\n",
              "        if (!dataTable) return;\n",
              "\n",
              "        const docLinkHtml = 'Like what you see? Visit the ' +\n",
              "          '<a target=\"_blank\" href=https://colab.research.google.com/notebooks/data_table.ipynb>data table notebook</a>'\n",
              "          + ' to learn more about interactive tables.';\n",
              "        element.innerHTML = '';\n",
              "        dataTable['output_type'] = 'display_data';\n",
              "        await google.colab.output.renderOutput(dataTable, element);\n",
              "        const docLink = document.createElement('div');\n",
              "        docLink.innerHTML = docLinkHtml;\n",
              "        element.appendChild(docLink);\n",
              "      }\n",
              "    </script>\n",
              "  </div>\n",
              "\n",
              "\n",
              "<div id=\"df-cf67d98d-7ae9-42b3-9007-a13dd75c7c21\">\n",
              "  <button class=\"colab-df-quickchart\" onclick=\"quickchart('df-cf67d98d-7ae9-42b3-9007-a13dd75c7c21')\"\n",
              "            title=\"Suggest charts.\"\n",
              "            style=\"display:none;\">\n",
              "\n",
              "<svg xmlns=\"http://www.w3.org/2000/svg\" height=\"24px\"viewBox=\"0 0 24 24\"\n",
              "     width=\"24px\">\n",
              "    <g>\n",
              "        <path d=\"M19 3H5c-1.1 0-2 .9-2 2v14c0 1.1.9 2 2 2h14c1.1 0 2-.9 2-2V5c0-1.1-.9-2-2-2zM9 17H7v-7h2v7zm4 0h-2V7h2v10zm4 0h-2v-4h2v4z\"/>\n",
              "    </g>\n",
              "</svg>\n",
              "  </button>\n",
              "\n",
              "<style>\n",
              "  .colab-df-quickchart {\n",
              "      --bg-color: #E8F0FE;\n",
              "      --fill-color: #1967D2;\n",
              "      --hover-bg-color: #E2EBFA;\n",
              "      --hover-fill-color: #174EA6;\n",
              "      --disabled-fill-color: #AAA;\n",
              "      --disabled-bg-color: #DDD;\n",
              "  }\n",
              "\n",
              "  [theme=dark] .colab-df-quickchart {\n",
              "      --bg-color: #3B4455;\n",
              "      --fill-color: #D2E3FC;\n",
              "      --hover-bg-color: #434B5C;\n",
              "      --hover-fill-color: #FFFFFF;\n",
              "      --disabled-bg-color: #3B4455;\n",
              "      --disabled-fill-color: #666;\n",
              "  }\n",
              "\n",
              "  .colab-df-quickchart {\n",
              "    background-color: var(--bg-color);\n",
              "    border: none;\n",
              "    border-radius: 50%;\n",
              "    cursor: pointer;\n",
              "    display: none;\n",
              "    fill: var(--fill-color);\n",
              "    height: 32px;\n",
              "    padding: 0;\n",
              "    width: 32px;\n",
              "  }\n",
              "\n",
              "  .colab-df-quickchart:hover {\n",
              "    background-color: var(--hover-bg-color);\n",
              "    box-shadow: 0 1px 2px rgba(60, 64, 67, 0.3), 0 1px 3px 1px rgba(60, 64, 67, 0.15);\n",
              "    fill: var(--button-hover-fill-color);\n",
              "  }\n",
              "\n",
              "  .colab-df-quickchart-complete:disabled,\n",
              "  .colab-df-quickchart-complete:disabled:hover {\n",
              "    background-color: var(--disabled-bg-color);\n",
              "    fill: var(--disabled-fill-color);\n",
              "    box-shadow: none;\n",
              "  }\n",
              "\n",
              "  .colab-df-spinner {\n",
              "    border: 2px solid var(--fill-color);\n",
              "    border-color: transparent;\n",
              "    border-bottom-color: var(--fill-color);\n",
              "    animation:\n",
              "      spin 1s steps(1) infinite;\n",
              "  }\n",
              "\n",
              "  @keyframes spin {\n",
              "    0% {\n",
              "      border-color: transparent;\n",
              "      border-bottom-color: var(--fill-color);\n",
              "      border-left-color: var(--fill-color);\n",
              "    }\n",
              "    20% {\n",
              "      border-color: transparent;\n",
              "      border-left-color: var(--fill-color);\n",
              "      border-top-color: var(--fill-color);\n",
              "    }\n",
              "    30% {\n",
              "      border-color: transparent;\n",
              "      border-left-color: var(--fill-color);\n",
              "      border-top-color: var(--fill-color);\n",
              "      border-right-color: var(--fill-color);\n",
              "    }\n",
              "    40% {\n",
              "      border-color: transparent;\n",
              "      border-right-color: var(--fill-color);\n",
              "      border-top-color: var(--fill-color);\n",
              "    }\n",
              "    60% {\n",
              "      border-color: transparent;\n",
              "      border-right-color: var(--fill-color);\n",
              "    }\n",
              "    80% {\n",
              "      border-color: transparent;\n",
              "      border-right-color: var(--fill-color);\n",
              "      border-bottom-color: var(--fill-color);\n",
              "    }\n",
              "    90% {\n",
              "      border-color: transparent;\n",
              "      border-bottom-color: var(--fill-color);\n",
              "    }\n",
              "  }\n",
              "</style>\n",
              "\n",
              "  <script>\n",
              "    async function quickchart(key) {\n",
              "      const quickchartButtonEl =\n",
              "        document.querySelector('#' + key + ' button');\n",
              "      quickchartButtonEl.disabled = true;  // To prevent multiple clicks.\n",
              "      quickchartButtonEl.classList.add('colab-df-spinner');\n",
              "      try {\n",
              "        const charts = await google.colab.kernel.invokeFunction(\n",
              "            'suggestCharts', [key], {});\n",
              "      } catch (error) {\n",
              "        console.error('Error during call to suggestCharts:', error);\n",
              "      }\n",
              "      quickchartButtonEl.classList.remove('colab-df-spinner');\n",
              "      quickchartButtonEl.classList.add('colab-df-quickchart-complete');\n",
              "    }\n",
              "    (() => {\n",
              "      let quickchartButtonEl =\n",
              "        document.querySelector('#df-cf67d98d-7ae9-42b3-9007-a13dd75c7c21 button');\n",
              "      quickchartButtonEl.style.display =\n",
              "        google.colab.kernel.accessAllowed ? 'block' : 'none';\n",
              "    })();\n",
              "  </script>\n",
              "</div>\n",
              "    </div>\n",
              "  </div>\n"
            ]
          },
          "metadata": {},
          "execution_count": 43
        },
        {
          "output_type": "display_data",
          "data": {
            "text/plain": [
              "<Figure size 640x480 with 1 Axes>"
            ],
            "image/png": "[encoded data removed]"
          },
          "metadata": {}
        }
      ]
    },
    {
      "cell_type": "markdown",
      "metadata": {
        "id": "dg4N-Fc0weiF"
      },
      "source": [
        "Let's analyze the best Ridge regression model."
      ]
    },
    {
      "cell_type": "code",
      "metadata": {
        "id": "gOtBgCYnweiG",
        "outputId": "099dd367-a831-4dcd-e94e-662006299a73",
        "scrolled": true,
        "colab": {
          "base_uri": "https://localhost:8080/",
          "height": 74
        }
      },
      "source": [
        "model = Ridge(alpha=100000)\n",
        "model.fit(X_train, y_train)\n",
        "#stats.summary(model, X_train, y_train)"
      ],
      "execution_count": null,
      "outputs": [
        {
          "output_type": "execute_result",
          "data": {
            "text/plain": [
              "Ridge(alpha=100000)"
            ],
            "text/html": [
              "<style>#sk-container-id-3 {color: black;background-color: white;}#sk-container-id-3 pre{padding: 0;}#sk-container-id-3 div.sk-toggleable {background-color: white;}#sk-container-id-3 label.sk-toggleable__label {cursor: pointer;display: block;width: 100%;margin-bottom: 0;padding: 0.3em;box-sizing: border-box;text-align: center;}#sk-container-id-3 label.sk-toggleable__label-arrow:before {content: \"▸\";float: left;margin-right: 0.25em;color: #696969;}#sk-container-id-3 label.sk-toggleable__label-arrow:hover:before {color: black;}#sk-container-id-3 div.sk-estimator:hover label.sk-toggleable__label-arrow:before {color: black;}#sk-container-id-3 div.sk-toggleable__content {max-height: 0;max-width: 0;overflow: hidden;text-align: left;background-color: #f0f8ff;}#sk-container-id-3 div.sk-toggleable__content pre {margin: 0.2em;color: black;border-radius: 0.25em;background-color: #f0f8ff;}#sk-container-id-3 input.sk-toggleable__control:checked~div.sk-toggleable__content {max-height: 200px;max-width: 100%;overflow: auto;}#sk-container-id-3 input.sk-toggleable__control:checked~label.sk-toggleable__label-arrow:before {content: \"▾\";}#sk-container-id-3 div.sk-estimator input.sk-toggleable__control:checked~label.sk-toggleable__label {background-color: #d4ebff;}#sk-container-id-3 div.sk-label input.sk-toggleable__control:checked~label.sk-toggleable__label {background-color: #d4ebff;}#sk-container-id-3 input.sk-hidden--visually {border: 0;clip: rect(1px 1px 1px 1px);clip: rect(1px, 1px, 1px, 1px);height: 1px;margin: -1px;overflow: hidden;padding: 0;position: absolute;width: 1px;}#sk-container-id-3 div.sk-estimator {font-family: monospace;background-color: #f0f8ff;border: 1px dotted black;border-radius: 0.25em;box-sizing: border-box;margin-bottom: 0.5em;}#sk-container-id-3 div.sk-estimator:hover {background-color: #d4ebff;}#sk-container-id-3 div.sk-parallel-item::after {content: \"\";width: 100%;border-bottom: 1px solid gray;flex-grow: 1;}#sk-container-id-3 div.sk-label:hover label.sk-toggleable__label {background-color: #d4ebff;}#sk-container-id-3 div.sk-serial::before {content: \"\";position: absolute;border-left: 1px solid gray;box-sizing: border-box;top: 0;bottom: 0;left: 50%;z-index: 0;}#sk-container-id-3 div.sk-serial {display: flex;flex-direction: column;align-items: center;background-color: white;padding-right: 0.2em;padding-left: 0.2em;position: relative;}#sk-container-id-3 div.sk-item {position: relative;z-index: 1;}#sk-container-id-3 div.sk-parallel {display: flex;align-items: stretch;justify-content: center;background-color: white;position: relative;}#sk-container-id-3 div.sk-item::before, #sk-container-id-3 div.sk-parallel-item::before {content: \"\";position: absolute;border-left: 1px solid gray;box-sizing: border-box;top: 0;bottom: 0;left: 50%;z-index: -1;}#sk-container-id-3 div.sk-parallel-item {display: flex;flex-direction: column;z-index: 1;position: relative;background-color: white;}#sk-container-id-3 div.sk-parallel-item:first-child::after {align-self: flex-end;width: 50%;}#sk-container-id-3 div.sk-parallel-item:last-child::after {align-self: flex-start;width: 50%;}#sk-container-id-3 div.sk-parallel-item:only-child::after {width: 0;}#sk-container-id-3 div.sk-dashed-wrapped {border: 1px dashed gray;margin: 0 0.4em 0.5em 0.4em;box-sizing: border-box;padding-bottom: 0.4em;background-color: white;}#sk-container-id-3 div.sk-label label {font-family: monospace;font-weight: bold;display: inline-block;line-height: 1.2em;}#sk-container-id-3 div.sk-label-container {text-align: center;}#sk-container-id-3 div.sk-container {/* jupyter's `normalize.less` sets `[hidden] { display: none; }` but bootstrap.min.css set `[hidden] { display: none !important; }` so we also need the `!important` here to be able to override the default hidden behavior on the sphinx rendered scikit-learn.org. See: https://github.com/scikit-learn/scikit-learn/issues/21755 */display: inline-block !important;position: relative;}#sk-container-id-3 div.sk-text-repr-fallback {display: none;}</style><div id=\"sk-container-id-3\" class=\"sk-top-container\"><div class=\"sk-text-repr-fallback\"><pre>Ridge(alpha=100000)</pre><b>In a Jupyter environment, please rerun this cell to show the HTML representation or trust the notebook. <br />On GitHub, the HTML representation is unable to render, please try loading this page with nbviewer.org.</b></div><div class=\"sk-container\" hidden><div class=\"sk-item\"><div class=\"sk-estimator sk-toggleable\"><input class=\"sk-toggleable__control sk-hidden--visually\" id=\"sk-estimator-id-6\" type=\"checkbox\" checked><label for=\"sk-estimator-id-6\" class=\"sk-toggleable__label sk-toggleable__label-arrow\">Ridge</label><div class=\"sk-toggleable__content\"><pre>Ridge(alpha=100000)</pre></div></div></div></div></div>"
            ]
          },
          "metadata": {},
          "execution_count": 44
        }
      ]
    },
    {
      "cell_type": "code",
      "metadata": {
        "id": "lf3WzW6KeQyq",
        "outputId": "e1179ac7-63da-48fc-884e-fb317d29452a",
        "colab": {
          "base_uri": "https://localhost:8080/"
        }
      },
      "source": [
        "y_pred = model.predict(X_test)\n",
        "RMSE_lin_ridge = sqrt(mean_squared_error(y_pred, y_test) )\n",
        "RMSE_lin_ridge"
      ],
      "execution_count": null,
      "outputs": [
        {
          "output_type": "execute_result",
          "data": {
            "text/plain": [
              "2.1019796958771435"
            ]
          },
          "metadata": {},
          "execution_count": 45
        }
      ]
    },
    {
      "cell_type": "markdown",
      "metadata": {
        "id": "7QmYUMKQweiR"
      },
      "source": [
        "We improved the model.\n",
        "\n",
        "Can we improve it further by exploting some non-linear dependency?"
      ]
    },
    {
      "cell_type": "markdown",
      "metadata": {
        "id": "EF-4peOZweiU"
      },
      "source": [
        "# Polynomial regression and regularization"
      ]
    },
    {
      "cell_type": "markdown",
      "metadata": {
        "id": "0194De50weiV"
      },
      "source": [
        "Let's try a polynomial regression"
      ]
    },
    {
      "cell_type": "code",
      "metadata": {
        "id": "ey57G9D6weiX",
        "outputId": "75ce2da1-9fa0-446b-aba4-9553ee4a748c",
        "scrolled": false,
        "colab": {
          "base_uri": "https://localhost:8080/"
        }
      },
      "source": [
        "def MyPolynomialRegression(degree=2, include_bias_=False):\n",
        "    return make_pipeline(PolynomialFeatures(degree, include_bias=include_bias_),\n",
        "                LinearRegression() )\n",
        "\n",
        "\n",
        "model = MyPolynomialRegression(degree=2)\n",
        "model.fit(X_train, y_train)\n",
        "y_pred = model.predict(X_test)\n",
        "RMSE_quadr = sqrt(mean_squared_error(y_pred, y_test) )\n",
        "print(\"RMSE quadr: \", RMSE_quadr, \"RMSE Ridge: \", RMSE_lin)"
      ],
      "execution_count": null,
      "outputs": [
        {
          "output_type": "stream",
          "name": "stdout",
          "text": [
            "RMSE quadr:  3.1620591245523437 RMSE Ridge:  2.148766515019231\n"
          ]
        }
      ]
    },
    {
      "cell_type": "markdown",
      "metadata": {
        "id": "l1362tdDweib"
      },
      "source": [
        "Clearly, **overfitting**.\n",
        "\n",
        "Let's modify `MyPolynomialRegression` in order to perform ridge regression instead of simple linear regression in the last step."
      ]
    },
    {
      "cell_type": "code",
      "metadata": {
        "id": "ZTVXeNHQweid"
      },
      "source": [
        "def MyPolynomialRegression(degree=2, include_bias_=False,\n",
        "                           alpha=1e-9):\n",
        "    return make_pipeline(PolynomialFeatures(degree,\n",
        "                                            include_bias=include_bias_),\n",
        "                Ridge(alpha=alpha) )"
      ],
      "execution_count": null,
      "outputs": []
    },
    {
      "cell_type": "code",
      "metadata": {
        "id": "ccJR0E5iweii",
        "outputId": "a18e17c5-cfc1-4d67-8c7a-4df2c7b0a0a3",
        "scrolled": false,
        "colab": {
          "base_uri": "https://localhost:8080/",
          "height": 966
        }
      },
      "source": [
        "alphas = [0.5, 1, 10, 100, 1000, 1e5, 1e6, 1e7, 1e9, 1e12, 1e15]\n",
        "errors = []\n",
        "for a in alphas:\n",
        "    scores = cross_val_score(MyPolynomialRegression(degree=2,\n",
        "                    include_bias_=False, alpha=a),\n",
        "                X_train, y_train, cv=k_fold,\n",
        "                scoring = 'neg_mean_squared_error')\n",
        "    errors.append(sqrt(mean(-scores) ) )\n",
        "\n",
        "df_errors = pd.DataFrame({'alphas':[str(a) for a in alphas],\n",
        "                        'errors':errors})\n",
        "ax = df_errors.plot.bar(x='alphas')\n",
        "df_errors"
      ],
      "execution_count": null,
      "outputs": [
        {
          "output_type": "execute_result",
          "data": {
            "text/plain": [
              "                alphas    errors\n",
              "0                  0.5  6.518287\n",
              "1                    1  6.373724\n",
              "2                   10  5.657535\n",
              "3                  100  5.003791\n",
              "4                 1000  4.582287\n",
              "5             100000.0  3.796534\n",
              "6            1000000.0  3.303027\n",
              "7           10000000.0  2.930702\n",
              "8         1000000000.0  2.669323\n",
              "9      1000000000000.0  3.048577\n",
              "10  1000000000000000.0  3.295514"
            ],
            "text/html": [
              "\n",
              "  <div id=\"df-2686fcf3-3f84-4fbe-b792-940271c80e55\" class=\"colab-df-container\">\n",
              "    <div>\n",
              "<style scoped>\n",
              "    .dataframe tbody tr th:only-of-type {\n",
              "        vertical-align: middle;\n",
              "    }\n",
              "\n",
              "    .dataframe tbody tr th {\n",
              "        vertical-align: top;\n",
              "    }\n",
              "\n",
              "    .dataframe thead th {\n",
              "        text-align: right;\n",
              "    }\n",
              "</style>\n",
              "<table border=\"1\" class=\"dataframe\">\n",
              "  <thead>\n",
              "    <tr style=\"text-align: right;\">\n",
              "      <th></th>\n",
              "      <th>alphas</th>\n",
              "      <th>errors</th>\n",
              "    </tr>\n",
              "  </thead>\n",
              "  <tbody>\n",
              "    <tr>\n",
              "      <th>0</th>\n",
              "      <td>0.5</td>\n",
              "      <td>6.518287</td>\n",
              "    </tr>\n",
              "    <tr>\n",
              "      <th>1</th>\n",
              "      <td>1</td>\n",
              "      <td>6.373724</td>\n",
              "    </tr>\n",
              "    <tr>\n",
              "      <th>2</th>\n",
              "      <td>10</td>\n",
              "      <td>5.657535</td>\n",
              "    </tr>\n",
              "    <tr>\n",
              "      <th>3</th>\n",
              "      <td>100</td>\n",
              "      <td>5.003791</td>\n",
              "    </tr>\n",
              "    <tr>\n",
              "      <th>4</th>\n",
              "      <td>1000</td>\n",
              "      <td>4.582287</td>\n",
              "    </tr>\n",
              "    <tr>\n",
              "      <th>5</th>\n",
              "      <td>100000.0</td>\n",
              "      <td>3.796534</td>\n",
              "    </tr>\n",
              "    <tr>\n",
              "      <th>6</th>\n",
              "      <td>1000000.0</td>\n",
              "      <td>3.303027</td>\n",
              "    </tr>\n",
              "    <tr>\n",
              "      <th>7</th>\n",
              "      <td>10000000.0</td>\n",
              "      <td>2.930702</td>\n",
              "    </tr>\n",
              "    <tr>\n",
              "      <th>8</th>\n",
              "      <td>1000000000.0</td>\n",
              "      <td>2.669323</td>\n",
              "    </tr>\n",
              "    <tr>\n",
              "      <th>9</th>\n",
              "      <td>1000000000000.0</td>\n",
              "      <td>3.048577</td>\n",
              "    </tr>\n",
              "    <tr>\n",
              "      <th>10</th>\n",
              "      <td>1000000000000000.0</td>\n",
              "      <td>3.295514</td>\n",
              "    </tr>\n",
              "  </tbody>\n",
              "</table>\n",
              "</div>\n",
              "    <div class=\"colab-df-buttons\">\n",
              "\n",
              "  <div class=\"colab-df-container\">\n",
              "    <button class=\"colab-df-convert\" onclick=\"convertToInteractive('df-2686fcf3-3f84-4fbe-b792-940271c80e55')\"\n",
              "            title=\"Convert this dataframe to an interactive table.\"\n",
              "            style=\"display:none;\">\n",
              "\n",
              "  <svg xmlns=\"http://www.w3.org/2000/svg\" height=\"24px\" viewBox=\"0 -960 960 960\">\n",
              "    <path d=\"M120-120v-720h720v720H120Zm60-500h600v-160H180v160Zm220 220h160v-160H400v160Zm0 220h160v-160H400v160ZM180-400h160v-160H180v160Zm440 0h160v-160H620v160ZM180-180h160v-160H180v160Zm440 0h160v-160H620v160Z\"/>\n",
              "  </svg>\n",
              "    </button>\n",
              "\n",
              "  <style>\n",
              "    .colab-df-container {\n",
              "      display:flex;\n",
              "      gap: 12px;\n",
              "    }\n",
              "\n",
              "    .colab-df-convert {\n",
              "      background-color: #E8F0FE;\n",
              "      border: none;\n",
              "      border-radius: 50%;\n",
              "      cursor: pointer;\n",
              "      display: none;\n",
              "      fill: #1967D2;\n",
              "      height: 32px;\n",
              "      padding: 0 0 0 0;\n",
              "      width: 32px;\n",
              "    }\n",
              "\n",
              "    .colab-df-convert:hover {\n",
              "      background-color: #E2EBFA;\n",
              "      box-shadow: 0px 1px 2px rgba(60, 64, 67, 0.3), 0px 1px 3px 1px rgba(60, 64, 67, 0.15);\n",
              "      fill: #174EA6;\n",
              "    }\n",
              "\n",
              "    .colab-df-buttons div {\n",
              "      margin-bottom: 4px;\n",
              "    }\n",
              "\n",
              "    [theme=dark] .colab-df-convert {\n",
              "      background-color: #3B4455;\n",
              "      fill: #D2E3FC;\n",
              "    }\n",
              "\n",
              "    [theme=dark] .colab-df-convert:hover {\n",
              "      background-color: #434B5C;\n",
              "      box-shadow: 0px 1px 3px 1px rgba(0, 0, 0, 0.15);\n",
              "      filter: drop-shadow(0px 1px 2px rgba(0, 0, 0, 0.3));\n",
              "      fill: #FFFFFF;\n",
              "    }\n",
              "  </style>\n",
              "\n",
              "    <script>\n",
              "      const buttonEl =\n",
              "        document.querySelector('#df-2686fcf3-3f84-4fbe-b792-940271c80e55 button.colab-df-convert');\n",
              "      buttonEl.style.display =\n",
              "        google.colab.kernel.accessAllowed ? 'block' : 'none';\n",
              "\n",
              "      async function convertToInteractive(key) {\n",
              "        const element = document.querySelector('#df-2686fcf3-3f84-4fbe-b792-940271c80e55');\n",
              "        const dataTable =\n",
              "          await google.colab.kernel.invokeFunction('convertToInteractive',\n",
              "                                                    [key], {});\n",
              "        if (!dataTable) return;\n",
              "\n",
              "        const docLinkHtml = 'Like what you see? Visit the ' +\n",
              "          '<a target=\"_blank\" href=https://colab.research.google.com/notebooks/data_table.ipynb>data table notebook</a>'\n",
              "          + ' to learn more about interactive tables.';\n",
              "        element.innerHTML = '';\n",
              "        dataTable['output_type'] = 'display_data';\n",
              "        await google.colab.output.renderOutput(dataTable, element);\n",
              "        const docLink = document.createElement('div');\n",
              "        docLink.innerHTML = docLinkHtml;\n",
              "        element.appendChild(docLink);\n",
              "      }\n",
              "    </script>\n",
              "  </div>\n",
              "\n",
              "\n",
              "<div id=\"df-9650c6ed-0dc2-4f79-b523-57dd0c8a298f\">\n",
              "  <button class=\"colab-df-quickchart\" onclick=\"quickchart('df-9650c6ed-0dc2-4f79-b523-57dd0c8a298f')\"\n",
              "            title=\"Suggest charts.\"\n",
              "            style=\"display:none;\">\n",
              "\n",
              "<svg xmlns=\"http://www.w3.org/2000/svg\" height=\"24px\"viewBox=\"0 0 24 24\"\n",
              "     width=\"24px\">\n",
              "    <g>\n",
              "        <path d=\"M19 3H5c-1.1 0-2 .9-2 2v14c0 1.1.9 2 2 2h14c1.1 0 2-.9 2-2V5c0-1.1-.9-2-2-2zM9 17H7v-7h2v7zm4 0h-2V7h2v10zm4 0h-2v-4h2v4z\"/>\n",
              "    </g>\n",
              "</svg>\n",
              "  </button>\n",
              "\n",
              "<style>\n",
              "  .colab-df-quickchart {\n",
              "      --bg-color: #E8F0FE;\n",
              "      --fill-color: #1967D2;\n",
              "      --hover-bg-color: #E2EBFA;\n",
              "      --hover-fill-color: #174EA6;\n",
              "      --disabled-fill-color: #AAA;\n",
              "      --disabled-bg-color: #DDD;\n",
              "  }\n",
              "\n",
              "  [theme=dark] .colab-df-quickchart {\n",
              "      --bg-color: #3B4455;\n",
              "      --fill-color: #D2E3FC;\n",
              "      --hover-bg-color: #434B5C;\n",
              "      --hover-fill-color: #FFFFFF;\n",
              "      --disabled-bg-color: #3B4455;\n",
              "      --disabled-fill-color: #666;\n",
              "  }\n",
              "\n",
              "  .colab-df-quickchart {\n",
              "    background-color: var(--bg-color);\n",
              "    border: none;\n",
              "    border-radius: 50%;\n",
              "    cursor: pointer;\n",
              "    display: none;\n",
              "    fill: var(--fill-color);\n",
              "    height: 32px;\n",
              "    padding: 0;\n",
              "    width: 32px;\n",
              "  }\n",
              "\n",
              "  .colab-df-quickchart:hover {\n",
              "    background-color: var(--hover-bg-color);\n",
              "    box-shadow: 0 1px 2px rgba(60, 64, 67, 0.3), 0 1px 3px 1px rgba(60, 64, 67, 0.15);\n",
              "    fill: var(--button-hover-fill-color);\n",
              "  }\n",
              "\n",
              "  .colab-df-quickchart-complete:disabled,\n",
              "  .colab-df-quickchart-complete:disabled:hover {\n",
              "    background-color: var(--disabled-bg-color);\n",
              "    fill: var(--disabled-fill-color);\n",
              "    box-shadow: none;\n",
              "  }\n",
              "\n",
              "  .colab-df-spinner {\n",
              "    border: 2px solid var(--fill-color);\n",
              "    border-color: transparent;\n",
              "    border-bottom-color: var(--fill-color);\n",
              "    animation:\n",
              "      spin 1s steps(1) infinite;\n",
              "  }\n",
              "\n",
              "  @keyframes spin {\n",
              "    0% {\n",
              "      border-color: transparent;\n",
              "      border-bottom-color: var(--fill-color);\n",
              "      border-left-color: var(--fill-color);\n",
              "    }\n",
              "    20% {\n",
              "      border-color: transparent;\n",
              "      border-left-color: var(--fill-color);\n",
              "      border-top-color: var(--fill-color);\n",
              "    }\n",
              "    30% {\n",
              "      border-color: transparent;\n",
              "      border-left-color: var(--fill-color);\n",
              "      border-top-color: var(--fill-color);\n",
              "      border-right-color: var(--fill-color);\n",
              "    }\n",
              "    40% {\n",
              "      border-color: transparent;\n",
              "      border-right-color: var(--fill-color);\n",
              "      border-top-color: var(--fill-color);\n",
              "    }\n",
              "    60% {\n",
              "      border-color: transparent;\n",
              "      border-right-color: var(--fill-color);\n",
              "    }\n",
              "    80% {\n",
              "      border-color: transparent;\n",
              "      border-right-color: var(--fill-color);\n",
              "      border-bottom-color: var(--fill-color);\n",
              "    }\n",
              "    90% {\n",
              "      border-color: transparent;\n",
              "      border-bottom-color: var(--fill-color);\n",
              "    }\n",
              "  }\n",
              "</style>\n",
              "\n",
              "  <script>\n",
              "    async function quickchart(key) {\n",
              "      const quickchartButtonEl =\n",
              "        document.querySelector('#' + key + ' button');\n",
              "      quickchartButtonEl.disabled = true;  // To prevent multiple clicks.\n",
              "      quickchartButtonEl.classList.add('colab-df-spinner');\n",
              "      try {\n",
              "        const charts = await google.colab.kernel.invokeFunction(\n",
              "            'suggestCharts', [key], {});\n",
              "      } catch (error) {\n",
              "        console.error('Error during call to suggestCharts:', error);\n",
              "      }\n",
              "      quickchartButtonEl.classList.remove('colab-df-spinner');\n",
              "      quickchartButtonEl.classList.add('colab-df-quickchart-complete');\n",
              "    }\n",
              "    (() => {\n",
              "      let quickchartButtonEl =\n",
              "        document.querySelector('#df-9650c6ed-0dc2-4f79-b523-57dd0c8a298f button');\n",
              "      quickchartButtonEl.style.display =\n",
              "        google.colab.kernel.accessAllowed ? 'block' : 'none';\n",
              "    })();\n",
              "  </script>\n",
              "</div>\n",
              "    </div>\n",
              "  </div>\n"
            ]
          },
          "metadata": {},
          "execution_count": 48
        },
        {
          "output_type": "display_data",
          "data": {
            "text/plain": [
              "<Figure size 640x480 with 1 Axes>"
            ],
            "image/png": "[encoded data removed]"
          },
          "metadata": {}
        }
      ]
    },
    {
      "cell_type": "markdown",
      "metadata": {
        "id": "hTwyQjfWweil"
      },
      "source": [
        "Let's compute the test error for the best alpha"
      ]
    },
    {
      "cell_type": "code",
      "metadata": {
        "id": "cHuYNq1Mweim",
        "outputId": "5969aaeb-bb90-4b68-83cd-e43a55aa1ae6",
        "scrolled": true,
        "colab": {
          "base_uri": "https://localhost:8080/"
        }
      },
      "source": [
        "model = MyPolynomialRegression(degree=2, alpha=1e9)\n",
        "model.fit(X_train, y_train)\n",
        "y_pred = model.predict(X_test)\n",
        "RMSE_poly_and_ridge = sqrt(mean_squared_error(y_pred, y_test) )\n",
        "print(\"RMSE_poly_and_ridge: \", RMSE_poly_and_ridge,\n",
        "      \"\\nRMSE poly without ridge: \", RMSE_quadr,\n",
        "      \"\\nRMSE linear: \", RMSE_lin)"
      ],
      "execution_count": null,
      "outputs": [
        {
          "output_type": "stream",
          "name": "stdout",
          "text": [
            "RMSE_poly_and_ridge:  2.022860936212547 \n",
            "RMSE poly without ridge:  3.1620591245523437 \n",
            "RMSE linear:  2.148766515019231\n"
          ]
        }
      ]
    },
    {
      "cell_type": "markdown",
      "metadata": {
        "id": "x5TAmE5ztaCB"
      },
      "source": [
        "Regularization improved the model"
      ]
    },
    {
      "cell_type": "markdown",
      "metadata": {
        "id": "qdgU9hQTweit"
      },
      "source": [
        "# Feature scaling"
      ]
    },
    {
      "cell_type": "markdown",
      "metadata": {
        "id": "hXYtPm-eweiu"
      },
      "source": [
        "Go back to slides"
      ]
    },
    {
      "cell_type": "code",
      "metadata": {
        "id": "uw7_8z0Nweiu",
        "outputId": "97f67aac-73ad-4903-d9cf-6b20bd8f6a64",
        "scrolled": true,
        "colab": {
          "base_uri": "https://localhost:8080/",
          "height": 524
        }
      },
      "source": [
        "ax = df[features].boxplot()\n",
        "ax.tick_params(axis='x', labelrotation=45)\n"
      ],
      "execution_count": null,
      "outputs": [
        {
          "output_type": "display_data",
          "data": {
            "text/plain": [
              "<Figure size 640x480 with 1 Axes>"
            ],
            "image/png": "[encoded data removed]"
          },
          "metadata": {}
        }
      ]
    },
    {
      "cell_type": "markdown",
      "metadata": {
        "id": "RCLgeKwpfEYx"
      },
      "source": [
        "The scale of the features is very diverse. Our regularized model is likely to ignore the \"smallest\" features."
      ]
    },
    {
      "cell_type": "code",
      "metadata": {
        "id": "L2X1O28fxYVC"
      },
      "source": [
        "# IGNORE THIS\n",
        "if savefigures:\n",
        "  from google.colab import drive\n",
        "  mount_point = '/content/gdrive'\n",
        "  drive.mount(mount_point, force_remount=True)\n",
        "  drive_path = mount_point+'/My Drive/'\n",
        "  my_path = drive_path + 'tsp/teaching/data-science-for-networks/img-from-code/02.regression/'\n",
        "\n",
        "  plt.savefig(my_path+'c.boxplot.pdf')"
      ],
      "execution_count": null,
      "outputs": []
    },
    {
      "cell_type": "code",
      "metadata": {
        "id": "MTE3D0YIwei0",
        "outputId": "48ca7ca9-02e3-4857-ceed-f6e9c6335b86",
        "scrolled": true,
        "colab": {
          "base_uri": "https://localhost:8080/",
          "height": 524
        }
      },
      "source": [
        "scaler = StandardScaler()\n",
        "scaler.fit(X)\n",
        "X_scaled = scaler.transform(X)\n",
        "df_scaled = pd.DataFrame(X_scaled)\n",
        "df_scaled.columns = features\n",
        "ax = df_scaled.boxplot()\n",
        "ax.tick_params(axis='x', labelrotation=45)\n",
        "\n",
        "if savefigures:\n",
        "  plt.savefig(my_path+'c.boxplot-scaled.pdf')"
      ],
      "execution_count": null,
      "outputs": [
        {
          "output_type": "display_data",
          "data": {
            "text/plain": [
              "<Figure size 640x480 with 1 Axes>"
            ],
            "image/png": "[encoded data removed]"
          },
          "metadata": {}
        }
      ]
    },
    {
      "cell_type": "markdown",
      "metadata": {
        "id": "kioxld8Owei4"
      },
      "source": [
        "Scaling is usually included in the pipelines. Pipelines will follow the correct protocol when scaling. For instance, if we use a Standard Scaler, the pipeline defined in the following code will behave as follows:\n",
        "* When you call `fit` on your pipeline (and you pass `X_train`,`y_train`), the pipeline will\n",
        "   * compute the average and the standard deviation of the features of `X_train`, scale `X_train` to obtain the scaled dataset\n",
        "   * storing these avareges and standard deviations for later use\n",
        "* It will then train the model on the scaled dataset\n",
        "* When you call `predict` on your pipeline (and you pass `X_test`), the pipeline will scale each sample based on the averages and standard deviations **computed before**\n",
        "* The pipeline will make the prediction\n",
        "\n",
        "Note the scaling parameters (e.g., the Min and the Max) are calculated only based on the training set.\n",
        "\n",
        "Let's construct a pipeline with scaling and Ridge regression."
      ]
    },
    {
      "cell_type": "code",
      "metadata": {
        "id": "RBDe-zUfwei4"
      },
      "source": [
        "def MyScalingAndPolyRidge(degree=2, alpha=2):\n",
        "    return make_pipeline(\n",
        "       PolynomialFeatures(degree=degree, include_bias=False),\n",
        "        StandardScaler(),\n",
        "        Ridge(alpha=alpha)\n",
        "    )"
      ],
      "execution_count": null,
      "outputs": []
    },
    {
      "cell_type": "markdown",
      "metadata": {
        "id": "ql_fuiRXwei7"
      },
      "source": [
        "Let's find the best alpha with GridSearch"
      ]
    },
    {
      "cell_type": "code",
      "metadata": {
        "id": "FoVp5ljFwei8",
        "outputId": "e518460b-f406-4a98-d114-1fa16a66070c",
        "scrolled": true,
        "colab": {
          "base_uri": "https://localhost:8080/",
          "height": 950
        }
      },
      "source": [
        "alphas = [1e-9, 1e-7, 1e-4, 1e-3, 0.1, 0.2, 0.5, 1, 10, 100, 1000, 1e5, 1e6]\n",
        "errors = []\n",
        "for a in alphas:\n",
        "    scores = cross_val_score(MyScalingAndPolyRidge(degree=2,\n",
        "                    alpha=a),\n",
        "                X_train, y_train, cv=k_fold,\n",
        "                scoring = 'neg_mean_squared_error')\n",
        "    errors.append(sqrt(mean(-scores) ) )\n",
        "\n",
        "df_errors = pd.DataFrame({'alphas':[str(a) for a in alphas],\n",
        "                        'errors':errors})\n",
        "ax = df_errors.plot.bar(x='alphas')\n",
        "df_errors"
      ],
      "execution_count": null,
      "outputs": [
        {
          "output_type": "execute_result",
          "data": {
            "text/plain": [
              "       alphas    errors\n",
              "0       1e-09  6.923994\n",
              "1       1e-07  6.922589\n",
              "2      0.0001  6.190035\n",
              "3       0.001  5.336172\n",
              "4         0.1  3.083997\n",
              "5         0.2  2.928843\n",
              "6         0.5  2.903422\n",
              "7           1  2.954656\n",
              "8          10  2.984474\n",
              "9         100  2.847807\n",
              "10       1000  3.070546\n",
              "11   100000.0  3.292544\n",
              "12  1000000.0  3.295527"
            ],
            "text/html": [
              "\n",
              "  <div id=\"df-f342ea9c-c230-4331-ad61-667e4355e639\" class=\"colab-df-container\">\n",
              "    <div>\n",
              "<style scoped>\n",
              "    .dataframe tbody tr th:only-of-type {\n",
              "        vertical-align: middle;\n",
              "    }\n",
              "\n",
              "    .dataframe tbody tr th {\n",
              "        vertical-align: top;\n",
              "    }\n",
              "\n",
              "    .dataframe thead th {\n",
              "        text-align: right;\n",
              "    }\n",
              "</style>\n",
              "<table border=\"1\" class=\"dataframe\">\n",
              "  <thead>\n",
              "    <tr style=\"text-align: right;\">\n",
              "      <th></th>\n",
              "      <th>alphas</th>\n",
              "      <th>errors</th>\n",
              "    </tr>\n",
              "  </thead>\n",
              "  <tbody>\n",
              "    <tr>\n",
              "      <th>0</th>\n",
              "      <td>1e-09</td>\n",
              "      <td>6.923994</td>\n",
              "    </tr>\n",
              "    <tr>\n",
              "      <th>1</th>\n",
              "      <td>1e-07</td>\n",
              "      <td>6.922589</td>\n",
              "    </tr>\n",
              "    <tr>\n",
              "      <th>2</th>\n",
              "      <td>0.0001</td>\n",
              "      <td>6.190035</td>\n",
              "    </tr>\n",
              "    <tr>\n",
              "      <th>3</th>\n",
              "      <td>0.001</td>\n",
              "      <td>5.336172</td>\n",
              "    </tr>\n",
              "    <tr>\n",
              "      <th>4</th>\n",
              "      <td>0.1</td>\n",
              "      <td>3.083997</td>\n",
              "    </tr>\n",
              "    <tr>\n",
              "      <th>5</th>\n",
              "      <td>0.2</td>\n",
              "      <td>2.928843</td>\n",
              "    </tr>\n",
              "    <tr>\n",
              "      <th>6</th>\n",
              "      <td>0.5</td>\n",
              "      <td>2.903422</td>\n",
              "    </tr>\n",
              "    <tr>\n",
              "      <th>7</th>\n",
              "      <td>1</td>\n",
              "      <td>2.954656</td>\n",
              "    </tr>\n",
              "    <tr>\n",
              "      <th>8</th>\n",
              "      <td>10</td>\n",
              "      <td>2.984474</td>\n",
              "    </tr>\n",
              "    <tr>\n",
              "      <th>9</th>\n",
              "      <td>100</td>\n",
              "      <td>2.847807</td>\n",
              "    </tr>\n",
              "    <tr>\n",
              "      <th>10</th>\n",
              "      <td>1000</td>\n",
              "      <td>3.070546</td>\n",
              "    </tr>\n",
              "    <tr>\n",
              "      <th>11</th>\n",
              "      <td>100000.0</td>\n",
              "      <td>3.292544</td>\n",
              "    </tr>\n",
              "    <tr>\n",
              "      <th>12</th>\n",
              "      <td>1000000.0</td>\n",
              "      <td>3.295527</td>\n",
              "    </tr>\n",
              "  </tbody>\n",
              "</table>\n",
              "</div>\n",
              "    <div class=\"colab-df-buttons\">\n",
              "\n",
              "  <div class=\"colab-df-container\">\n",
              "    <button class=\"colab-df-convert\" onclick=\"convertToInteractive('df-f342ea9c-c230-4331-ad61-667e4355e639')\"\n",
              "            title=\"Convert this dataframe to an interactive table.\"\n",
              "            style=\"display:none;\">\n",
              "\n",
              "  <svg xmlns=\"http://www.w3.org/2000/svg\" height=\"24px\" viewBox=\"0 -960 960 960\">\n",
              "    <path d=\"M120-120v-720h720v720H120Zm60-500h600v-160H180v160Zm220 220h160v-160H400v160Zm0 220h160v-160H400v160ZM180-400h160v-160H180v160Zm440 0h160v-160H620v160ZM180-180h160v-160H180v160Zm440 0h160v-160H620v160Z\"/>\n",
              "  </svg>\n",
              "    </button>\n",
              "\n",
              "  <style>\n",
              "    .colab-df-container {\n",
              "      display:flex;\n",
              "      gap: 12px;\n",
              "    }\n",
              "\n",
              "    .colab-df-convert {\n",
              "      background-color: #E8F0FE;\n",
              "      border: none;\n",
              "      border-radius: 50%;\n",
              "      cursor: pointer;\n",
              "      display: none;\n",
              "      fill: #1967D2;\n",
              "      height: 32px;\n",
              "      padding: 0 0 0 0;\n",
              "      width: 32px;\n",
              "    }\n",
              "\n",
              "    .colab-df-convert:hover {\n",
              "      background-color: #E2EBFA;\n",
              "      box-shadow: 0px 1px 2px rgba(60, 64, 67, 0.3), 0px 1px 3px 1px rgba(60, 64, 67, 0.15);\n",
              "      fill: #174EA6;\n",
              "    }\n",
              "\n",
              "    .colab-df-buttons div {\n",
              "      margin-bottom: 4px;\n",
              "    }\n",
              "\n",
              "    [theme=dark] .colab-df-convert {\n",
              "      background-color: #3B4455;\n",
              "      fill: #D2E3FC;\n",
              "    }\n",
              "\n",
              "    [theme=dark] .colab-df-convert:hover {\n",
              "      background-color: #434B5C;\n",
              "      box-shadow: 0px 1px 3px 1px rgba(0, 0, 0, 0.15);\n",
              "      filter: drop-shadow(0px 1px 2px rgba(0, 0, 0, 0.3));\n",
              "      fill: #FFFFFF;\n",
              "    }\n",
              "  </style>\n",
              "\n",
              "    <script>\n",
              "      const buttonEl =\n",
              "        document.querySelector('#df-f342ea9c-c230-4331-ad61-667e4355e639 button.colab-df-convert');\n",
              "      buttonEl.style.display =\n",
              "        google.colab.kernel.accessAllowed ? 'block' : 'none';\n",
              "\n",
              "      async function convertToInteractive(key) {\n",
              "        const element = document.querySelector('#df-f342ea9c-c230-4331-ad61-667e4355e639');\n",
              "        const dataTable =\n",
              "          await google.colab.kernel.invokeFunction('convertToInteractive',\n",
              "                                                    [key], {});\n",
              "        if (!dataTable) return;\n",
              "\n",
              "        const docLinkHtml = 'Like what you see? Visit the ' +\n",
              "          '<a target=\"_blank\" href=https://colab.research.google.com/notebooks/data_table.ipynb>data table notebook</a>'\n",
              "          + ' to learn more about interactive tables.';\n",
              "        element.innerHTML = '';\n",
              "        dataTable['output_type'] = 'display_data';\n",
              "        await google.colab.output.renderOutput(dataTable, element);\n",
              "        const docLink = document.createElement('div');\n",
              "        docLink.innerHTML = docLinkHtml;\n",
              "        element.appendChild(docLink);\n",
              "      }\n",
              "    </script>\n",
              "  </div>\n",
              "\n",
              "\n",
              "<div id=\"df-823efbbc-131a-425a-9d07-88a5d6473958\">\n",
              "  <button class=\"colab-df-quickchart\" onclick=\"quickchart('df-823efbbc-131a-425a-9d07-88a5d6473958')\"\n",
              "            title=\"Suggest charts.\"\n",
              "            style=\"display:none;\">\n",
              "\n",
              "<svg xmlns=\"http://www.w3.org/2000/svg\" height=\"24px\"viewBox=\"0 0 24 24\"\n",
              "     width=\"24px\">\n",
              "    <g>\n",
              "        <path d=\"M19 3H5c-1.1 0-2 .9-2 2v14c0 1.1.9 2 2 2h14c1.1 0 2-.9 2-2V5c0-1.1-.9-2-2-2zM9 17H7v-7h2v7zm4 0h-2V7h2v10zm4 0h-2v-4h2v4z\"/>\n",
              "    </g>\n",
              "</svg>\n",
              "  </button>\n",
              "\n",
              "<style>\n",
              "  .colab-df-quickchart {\n",
              "      --bg-color: #E8F0FE;\n",
              "      --fill-color: #1967D2;\n",
              "      --hover-bg-color: #E2EBFA;\n",
              "      --hover-fill-color: #174EA6;\n",
              "      --disabled-fill-color: #AAA;\n",
              "      --disabled-bg-color: #DDD;\n",
              "  }\n",
              "\n",
              "  [theme=dark] .colab-df-quickchart {\n",
              "      --bg-color: #3B4455;\n",
              "      --fill-color: #D2E3FC;\n",
              "      --hover-bg-color: #434B5C;\n",
              "      --hover-fill-color: #FFFFFF;\n",
              "      --disabled-bg-color: #3B4455;\n",
              "      --disabled-fill-color: #666;\n",
              "  }\n",
              "\n",
              "  .colab-df-quickchart {\n",
              "    background-color: var(--bg-color);\n",
              "    border: none;\n",
              "    border-radius: 50%;\n",
              "    cursor: pointer;\n",
              "    display: none;\n",
              "    fill: var(--fill-color);\n",
              "    height: 32px;\n",
              "    padding: 0;\n",
              "    width: 32px;\n",
              "  }\n",
              "\n",
              "  .colab-df-quickchart:hover {\n",
              "    background-color: var(--hover-bg-color);\n",
              "    box-shadow: 0 1px 2px rgba(60, 64, 67, 0.3), 0 1px 3px 1px rgba(60, 64, 67, 0.15);\n",
              "    fill: var(--button-hover-fill-color);\n",
              "  }\n",
              "\n",
              "  .colab-df-quickchart-complete:disabled,\n",
              "  .colab-df-quickchart-complete:disabled:hover {\n",
              "    background-color: var(--disabled-bg-color);\n",
              "    fill: var(--disabled-fill-color);\n",
              "    box-shadow: none;\n",
              "  }\n",
              "\n",
              "  .colab-df-spinner {\n",
              "    border: 2px solid var(--fill-color);\n",
              "    border-color: transparent;\n",
              "    border-bottom-color: var(--fill-color);\n",
              "    animation:\n",
              "      spin 1s steps(1) infinite;\n",
              "  }\n",
              "\n",
              "  @keyframes spin {\n",
              "    0% {\n",
              "      border-color: transparent;\n",
              "      border-bottom-color: var(--fill-color);\n",
              "      border-left-color: var(--fill-color);\n",
              "    }\n",
              "    20% {\n",
              "      border-color: transparent;\n",
              "      border-left-color: var(--fill-color);\n",
              "      border-top-color: var(--fill-color);\n",
              "    }\n",
              "    30% {\n",
              "      border-color: transparent;\n",
              "      border-left-color: var(--fill-color);\n",
              "      border-top-color: var(--fill-color);\n",
              "      border-right-color: var(--fill-color);\n",
              "    }\n",
              "    40% {\n",
              "      border-color: transparent;\n",
              "      border-right-color: var(--fill-color);\n",
              "      border-top-color: var(--fill-color);\n",
              "    }\n",
              "    60% {\n",
              "      border-color: transparent;\n",
              "      border-right-color: var(--fill-color);\n",
              "    }\n",
              "    80% {\n",
              "      border-color: transparent;\n",
              "      border-right-color: var(--fill-color);\n",
              "      border-bottom-color: var(--fill-color);\n",
              "    }\n",
              "    90% {\n",
              "      border-color: transparent;\n",
              "      border-bottom-color: var(--fill-color);\n",
              "    }\n",
              "  }\n",
              "</style>\n",
              "\n",
              "  <script>\n",
              "    async function quickchart(key) {\n",
              "      const quickchartButtonEl =\n",
              "        document.querySelector('#' + key + ' button');\n",
              "      quickchartButtonEl.disabled = true;  // To prevent multiple clicks.\n",
              "      quickchartButtonEl.classList.add('colab-df-spinner');\n",
              "      try {\n",
              "        const charts = await google.colab.kernel.invokeFunction(\n",
              "            'suggestCharts', [key], {});\n",
              "      } catch (error) {\n",
              "        console.error('Error during call to suggestCharts:', error);\n",
              "      }\n",
              "      quickchartButtonEl.classList.remove('colab-df-spinner');\n",
              "      quickchartButtonEl.classList.add('colab-df-quickchart-complete');\n",
              "    }\n",
              "    (() => {\n",
              "      let quickchartButtonEl =\n",
              "        document.querySelector('#df-823efbbc-131a-425a-9d07-88a5d6473958 button');\n",
              "      quickchartButtonEl.style.display =\n",
              "        google.colab.kernel.accessAllowed ? 'block' : 'none';\n",
              "    })();\n",
              "  </script>\n",
              "</div>\n",
              "    </div>\n",
              "  </div>\n"
            ]
          },
          "metadata": {},
          "execution_count": 54
        },
        {
          "output_type": "display_data",
          "data": {
            "text/plain": [
              "<Figure size 640x480 with 1 Axes>"
            ],
            "image/png": "[encoded data removed]"
          },
          "metadata": {}
        }
      ]
    },
    {
      "cell_type": "markdown",
      "metadata": {
        "id": "jQ_xSIbvwejB"
      },
      "source": [
        "After scaling, the best $\\alpha$ is 10."
      ]
    },
    {
      "cell_type": "code",
      "metadata": {
        "id": "eL8vw3eEwejD",
        "outputId": "5ea699da-1d96-4845-beb9-49fad8a9128c",
        "scrolled": true,
        "colab": {
          "base_uri": "https://localhost:8080/"
        }
      },
      "source": [
        "model = MyScalingAndPolyRidge(degree=2,\n",
        "                    alpha=10)\n",
        "model.fit(X_train, y_train)\n",
        "y_pred = model.predict(X_test)\n",
        "RMSE_scaling_and_poly_and_ridge = \\\n",
        "    sqrt(mean_squared_error(y_pred, y_test) )\n",
        "\n",
        "print(\"RMSE_scaling_and_poly_and_ridge: \",\n",
        "      RMSE_scaling_and_poly_and_ridge,\n",
        "      \"\\nRMSE_poly_and_ridge:\",\n",
        "      RMSE_poly_and_ridge)"
      ],
      "execution_count": null,
      "outputs": [
        {
          "output_type": "stream",
          "name": "stdout",
          "text": [
            "RMSE_scaling_and_poly_and_ridge:  2.114824051028912 \n",
            "RMSE_poly_and_ridge: 2.022860936212547\n"
          ]
        }
      ]
    },
    {
      "cell_type": "markdown",
      "metadata": {
        "id": "QR1nMywSrew9"
      },
      "source": [
        "Scaling improved the accuracy."
      ]
    },
    {
      "cell_type": "markdown",
      "metadata": {
        "id": "aJY0sEk1wejI"
      },
      "source": [
        "# Grid search"
      ]
    },
    {
      "cell_type": "markdown",
      "metadata": {
        "id": "8TVhOASvwejJ"
      },
      "source": [
        "Let's find the best combination of polynomial degree and regularization weight.\n",
        "\n",
        "Let's check how parameters are called"
      ]
    },
    {
      "cell_type": "code",
      "metadata": {
        "id": "5YgQHH8YwejK",
        "outputId": "ffa95b45-f392-4627-b266-6a307529732f",
        "colab": {
          "base_uri": "https://localhost:8080/"
        }
      },
      "source": [
        "GridSearchCV(MyScalingAndPolyRidge(), []).get_params().keys()"
      ],
      "execution_count": null,
      "outputs": [
        {
          "output_type": "execute_result",
          "data": {
            "text/plain": [
              "dict_keys(['cv', 'error_score', 'estimator__memory', 'estimator__steps', 'estimator__verbose', 'estimator__polynomialfeatures', 'estimator__standardscaler', 'estimator__ridge', 'estimator__polynomialfeatures__degree', 'estimator__polynomialfeatures__include_bias', 'estimator__polynomialfeatures__interaction_only', 'estimator__polynomialfeatures__order', 'estimator__standardscaler__copy', 'estimator__standardscaler__with_mean', 'estimator__standardscaler__with_std', 'estimator__ridge__alpha', 'estimator__ridge__copy_X', 'estimator__ridge__fit_intercept', 'estimator__ridge__max_iter', 'estimator__ridge__positive', 'estimator__ridge__random_state', 'estimator__ridge__solver', 'estimator__ridge__tol', 'estimator', 'n_jobs', 'param_grid', 'pre_dispatch', 'refit', 'return_train_score', 'scoring', 'verbose'])"
            ]
          },
          "metadata": {},
          "execution_count": 56
        }
      ]
    },
    {
      "cell_type": "code",
      "metadata": {
        "id": "x5GG_665wejN"
      },
      "source": [
        "parameters_to_test=[{'ridge__alpha':[0.1, 0.2, 0.5, 1, 5, 10, 50,\n",
        "                             1e6],\n",
        "                     'polynomialfeatures__degree':np.arange(1,6)\n",
        "                    }]\n",
        "grid = GridSearchCV(MyScalingAndPolyRidge(), parameters_to_test,\n",
        "                    cv=k_fold, scoring='neg_mean_squared_error'\n",
        "    )"
      ],
      "execution_count": null,
      "outputs": []
    },
    {
      "cell_type": "code",
      "metadata": {
        "id": "HZN3QLHNwejQ",
        "outputId": "e142c3f3-384f-4978-c66e-9d58f19295cc",
        "scrolled": true,
        "colab": {
          "base_uri": "https://localhost:8080/"
        }
      },
      "source": [
        "grid.fit(X_train, y_train)\n",
        "print(\"The best parameters are\", grid.best_params_)"
      ],
      "execution_count": null,
      "outputs": [
        {
          "output_type": "stream",
          "name": "stdout",
          "text": [
            "The best parameters are {'polynomialfeatures__degree': 4, 'ridge__alpha': 10}\n"
          ]
        }
      ]
    },
    {
      "cell_type": "markdown",
      "metadata": {
        "id": "yKWCGJV3wejU"
      },
      "source": [
        "Let's validate on the test set"
      ]
    },
    {
      "cell_type": "code",
      "metadata": {
        "id": "cXcq0Hx2wejV",
        "outputId": "07d7299c-f33f-4f15-b1a1-914dfb4a3ab6",
        "colab": {
          "base_uri": "https://localhost:8080/"
        }
      },
      "source": [
        "model = grid.best_estimator_\n",
        "model.fit(X_train, y_train)\n",
        "y_pred = model.predict(X_test)\n",
        "RMSE_grid = sqrt(mean_squared_error(y_pred, y_test))\n",
        "\n",
        "RMSE_grid"
      ],
      "execution_count": null,
      "outputs": [
        {
          "output_type": "execute_result",
          "data": {
            "text/plain": [
              "2.1954094411001304"
            ]
          },
          "metadata": {},
          "execution_count": 59
        }
      ]
    },
    {
      "cell_type": "markdown",
      "metadata": {
        "id": "XCTxYPXkwejY"
      },
      "source": [
        "# Recursive Feature Elimination"
      ]
    },
    {
      "cell_type": "markdown",
      "metadata": {
        "id": "uDZhWiyEro-q"
      },
      "source": [
        "We now experiment with Recursive Feature Elimination with Linear Regression"
      ]
    },
    {
      "cell_type": "code",
      "metadata": {
        "id": "4XavjxAwwejZ"
      },
      "source": [
        "def MyScaledLinearRegression():\n",
        "    return make_pipeline(\n",
        "        StandardScaler(),\n",
        "        LinearRegression()\n",
        "        )"
      ],
      "execution_count": null,
      "outputs": []
    },
    {
      "cell_type": "markdown",
      "metadata": {
        "id": "w6hL3w6Mwejc"
      },
      "source": [
        "The following code will lead to a **known error**"
      ]
    },
    {
      "cell_type": "code",
      "metadata": {
        "id": "8G4lk6Kqwejc",
        "outputId": "b0b52ac3-fd5d-494a-e214-a99193cbeef5",
        "colab": {
          "base_uri": "https://localhost:8080/",
          "height": 392
        }
      },
      "source": [
        "# The following code will lead to a known error\n",
        "\n",
        "rfe = RFECV(MyScaledLinearRegression())\n",
        "rfe.fit(X_train, y_train)"
      ],
      "execution_count": null,
      "outputs": [
        {
          "output_type": "error",
          "ename": "ValueError",
          "evalue": "ignored",
          "traceback": [
            "\u001b[0;31m---------------------------------------------------------------------------\u001b[0m",
            "\u001b[0;31mValueError\u001b[0m                                Traceback (most recent call last)",
            "\u001b[0;32m<ipython-input-61-9933b38df207>\u001b[0m in \u001b[0;36m<cell line: 4>\u001b[0;34m()\u001b[0m\n\u001b[1;32m      2\u001b[0m \u001b[0;34m\u001b[0m\u001b[0m\n\u001b[1;32m      3\u001b[0m \u001b[0mrfe\u001b[0m \u001b[0;34m=\u001b[0m \u001b[0mRFECV\u001b[0m\u001b[0;34m(\u001b[0m\u001b[0mMyScaledLinearRegression\u001b[0m\u001b[0;34m(\u001b[0m\u001b[0;34m)\u001b[0m\u001b[0;34m)\u001b[0m\u001b[0;34m\u001b[0m\u001b[0;34m\u001b[0m\u001b[0m\n\u001b[0;32m----> 4\u001b[0;31m \u001b[0mrfe\u001b[0m\u001b[0;34m.\u001b[0m\u001b[0mfit\u001b[0m\u001b[0;34m(\u001b[0m\u001b[0mX_train\u001b[0m\u001b[0;34m,\u001b[0m \u001b[0my_train\u001b[0m\u001b[0;34m)\u001b[0m\u001b[0;34m\u001b[0m\u001b[0;34m\u001b[0m\u001b[0m\n\u001b[0m",
            "\u001b[0;32m/usr/local/lib/python3.10/dist-packages/sklearn/feature_selection/_rfe.py\u001b[0m in \u001b[0;36mfit\u001b[0;34m(self, X, y, groups)\u001b[0m\n\u001b[1;32m    723\u001b[0m             \u001b[0mfunc\u001b[0m \u001b[0;34m=\u001b[0m \u001b[0mdelayed\u001b[0m\u001b[0;34m(\u001b[0m\u001b[0m_rfe_single_fit\u001b[0m\u001b[0;34m)\u001b[0m\u001b[0;34m\u001b[0m\u001b[0;34m\u001b[0m\u001b[0m\n\u001b[1;32m    724\u001b[0m \u001b[0;34m\u001b[0m\u001b[0m\n\u001b[0;32m--> 725\u001b[0;31m         scores = parallel(\n\u001b[0m\u001b[1;32m    726\u001b[0m             \u001b[0mfunc\u001b[0m\u001b[0;34m(\u001b[0m\u001b[0mrfe\u001b[0m\u001b[0;34m,\u001b[0m \u001b[0mself\u001b[0m\u001b[0;34m.\u001b[0m\u001b[0mestimator\u001b[0m\u001b[0;34m,\u001b[0m \u001b[0mX\u001b[0m\u001b[0;34m,\u001b[0m \u001b[0my\u001b[0m\u001b[0;34m,\u001b[0m \u001b[0mtrain\u001b[0m\u001b[0;34m,\u001b[0m \u001b[0mtest\u001b[0m\u001b[0;34m,\u001b[0m \u001b[0mscorer\u001b[0m\u001b[0;34m)\u001b[0m\u001b[0;34m\u001b[0m\u001b[0;34m\u001b[0m\u001b[0m\n\u001b[1;32m    727\u001b[0m             \u001b[0;32mfor\u001b[0m \u001b[0mtrain\u001b[0m\u001b[0;34m,\u001b[0m \u001b[0mtest\u001b[0m \u001b[0;32min\u001b[0m \u001b[0mcv\u001b[0m\u001b[0;34m.\u001b[0m\u001b[0msplit\u001b[0m\u001b[0;34m(\u001b[0m\u001b[0mX\u001b[0m\u001b[0;34m,\u001b[0m \u001b[0my\u001b[0m\u001b[0;34m,\u001b[0m \u001b[0mgroups\u001b[0m\u001b[0;34m)\u001b[0m\u001b[0;34m\u001b[0m\u001b[0;34m\u001b[0m\u001b[0m\n",
            "\u001b[0;32m/usr/local/lib/python3.10/dist-packages/sklearn/feature_selection/_rfe.py\u001b[0m in \u001b[0;36m<genexpr>\u001b[0;34m(.0)\u001b[0m\n\u001b[1;32m    724\u001b[0m \u001b[0;34m\u001b[0m\u001b[0m\n\u001b[1;32m    725\u001b[0m         scores = parallel(\n\u001b[0;32m--> 726\u001b[0;31m             \u001b[0mfunc\u001b[0m\u001b[0;34m(\u001b[0m\u001b[0mrfe\u001b[0m\u001b[0;34m,\u001b[0m \u001b[0mself\u001b[0m\u001b[0;34m.\u001b[0m\u001b[0mestimator\u001b[0m\u001b[0;34m,\u001b[0m \u001b[0mX\u001b[0m\u001b[0;34m,\u001b[0m \u001b[0my\u001b[0m\u001b[0;34m,\u001b[0m \u001b[0mtrain\u001b[0m\u001b[0;34m,\u001b[0m \u001b[0mtest\u001b[0m\u001b[0;34m,\u001b[0m \u001b[0mscorer\u001b[0m\u001b[0;34m)\u001b[0m\u001b[0;34m\u001b[0m\u001b[0;34m\u001b[0m\u001b[0m\n\u001b[0m\u001b[1;32m    727\u001b[0m             \u001b[0;32mfor\u001b[0m \u001b[0mtrain\u001b[0m\u001b[0;34m,\u001b[0m \u001b[0mtest\u001b[0m \u001b[0;32min\u001b[0m \u001b[0mcv\u001b[0m\u001b[0;34m.\u001b[0m\u001b[0msplit\u001b[0m\u001b[0;34m(\u001b[0m\u001b[0mX\u001b[0m\u001b[0;34m,\u001b[0m \u001b[0my\u001b[0m\u001b[0;34m,\u001b[0m \u001b[0mgroups\u001b[0m\u001b[0;34m)\u001b[0m\u001b[0;34m\u001b[0m\u001b[0;34m\u001b[0m\u001b[0m\n\u001b[1;32m    728\u001b[0m         )\n",
            "\u001b[0;32m/usr/local/lib/python3.10/dist-packages/sklearn/feature_selection/_rfe.py\u001b[0m in \u001b[0;36m_rfe_single_fit\u001b[0;34m(rfe, estimator, X, y, train, test, scorer)\u001b[0m\n\u001b[1;32m     35\u001b[0m     \u001b[0mX_train\u001b[0m\u001b[0;34m,\u001b[0m \u001b[0my_train\u001b[0m \u001b[0;34m=\u001b[0m \u001b[0m_safe_split\u001b[0m\u001b[0;34m(\u001b[0m\u001b[0mestimator\u001b[0m\u001b[0;34m,\u001b[0m \u001b[0mX\u001b[0m\u001b[0;34m,\u001b[0m \u001b[0my\u001b[0m\u001b[0;34m,\u001b[0m \u001b[0mtrain\u001b[0m\u001b[0;34m)\u001b[0m\u001b[0;34m\u001b[0m\u001b[0;34m\u001b[0m\u001b[0m\n\u001b[1;32m     36\u001b[0m     \u001b[0mX_test\u001b[0m\u001b[0;34m,\u001b[0m \u001b[0my_test\u001b[0m \u001b[0;34m=\u001b[0m \u001b[0m_safe_split\u001b[0m\u001b[0;34m(\u001b[0m\u001b[0mestimator\u001b[0m\u001b[0;34m,\u001b[0m \u001b[0mX\u001b[0m\u001b[0;34m,\u001b[0m \u001b[0my\u001b[0m\u001b[0;34m,\u001b[0m \u001b[0mtest\u001b[0m\u001b[0;34m,\u001b[0m \u001b[0mtrain\u001b[0m\u001b[0;34m)\u001b[0m\u001b[0;34m\u001b[0m\u001b[0;34m\u001b[0m\u001b[0m\n\u001b[0;32m---> 37\u001b[0;31m     return rfe._fit(\n\u001b[0m\u001b[1;32m     38\u001b[0m         \u001b[0mX_train\u001b[0m\u001b[0;34m,\u001b[0m\u001b[0;34m\u001b[0m\u001b[0;34m\u001b[0m\u001b[0m\n\u001b[1;32m     39\u001b[0m         \u001b[0my_train\u001b[0m\u001b[0;34m,\u001b[0m\u001b[0;34m\u001b[0m\u001b[0;34m\u001b[0m\u001b[0m\n",
            "\u001b[0;32m/usr/local/lib/python3.10/dist-packages/sklearn/feature_selection/_rfe.py\u001b[0m in \u001b[0;36m_fit\u001b[0;34m(self, X, y, step_score, **fit_params)\u001b[0m\n\u001b[1;32m    300\u001b[0m \u001b[0;34m\u001b[0m\u001b[0m\n\u001b[1;32m    301\u001b[0m             \u001b[0;31m# Get importance and rank them\u001b[0m\u001b[0;34m\u001b[0m\u001b[0;34m\u001b[0m\u001b[0m\n\u001b[0;32m--> 302\u001b[0;31m             importances = _get_feature_importances(\n\u001b[0m\u001b[1;32m    303\u001b[0m                 \u001b[0mestimator\u001b[0m\u001b[0;34m,\u001b[0m\u001b[0;34m\u001b[0m\u001b[0;34m\u001b[0m\u001b[0m\n\u001b[1;32m    304\u001b[0m                 \u001b[0mself\u001b[0m\u001b[0;34m.\u001b[0m\u001b[0mimportance_getter\u001b[0m\u001b[0;34m,\u001b[0m\u001b[0;34m\u001b[0m\u001b[0;34m\u001b[0m\u001b[0m\n",
            "\u001b[0;32m/usr/local/lib/python3.10/dist-packages/sklearn/feature_selection/_base.py\u001b[0m in \u001b[0;36m_get_feature_importances\u001b[0;34m(estimator, getter, transform_func, norm_order)\u001b[0m\n\u001b[1;32m    206\u001b[0m                 \u001b[0mgetter\u001b[0m \u001b[0;34m=\u001b[0m \u001b[0mattrgetter\u001b[0m\u001b[0;34m(\u001b[0m\u001b[0;34m\"feature_importances_\"\u001b[0m\u001b[0;34m)\u001b[0m\u001b[0;34m\u001b[0m\u001b[0;34m\u001b[0m\u001b[0m\n\u001b[1;32m    207\u001b[0m             \u001b[0;32melse\u001b[0m\u001b[0;34m:\u001b[0m\u001b[0;34m\u001b[0m\u001b[0;34m\u001b[0m\u001b[0m\n\u001b[0;32m--> 208\u001b[0;31m                 raise ValueError(\n\u001b[0m\u001b[1;32m    209\u001b[0m                     \u001b[0;34m\"when `importance_getter=='auto'`, the underlying \"\u001b[0m\u001b[0;34m\u001b[0m\u001b[0;34m\u001b[0m\u001b[0m\n\u001b[1;32m    210\u001b[0m                     \u001b[0;34mf\"estimator {estimator.__class__.__name__} should have \"\u001b[0m\u001b[0;34m\u001b[0m\u001b[0;34m\u001b[0m\u001b[0m\n",
            "\u001b[0;31mValueError\u001b[0m: when `importance_getter=='auto'`, the underlying estimator Pipeline should have `coef_` or `feature_importances_` attribute. Either pass a fitted estimator to feature selector or call fit before calling transform."
          ]
        }
      ]
    },
    {
      "cell_type": "markdown",
      "metadata": {
        "id": "1w4Ba1dzwejh"
      },
      "source": [
        "We need to modify the `Pipeline` class (inspired by [this blog](https://ramhiser.com/post/2018-03-25-feature-selection-with-scikit-learn-pipeline/) and this [StackOverflow post](https://stackoverflow.com/q/36683230/2110769))"
      ]
    },
    {
      "cell_type": "code",
      "metadata": {
        "id": "cXvUvfUcweji"
      },
      "source": [
        "class MyPipeline(Pipeline):\n",
        "\n",
        "    def fit(self, X, y=None, **fit_params):\n",
        "        super(MyPipeline, self).fit(X, y, **fit_params)\n",
        "        self.coef_ = self.steps[-1][-1].coef_\n",
        "        return self"
      ],
      "execution_count": null,
      "outputs": []
    },
    {
      "cell_type": "markdown",
      "metadata": {
        "id": "bA1Ib8MFwejl"
      },
      "source": [
        "Let's try again"
      ]
    },
    {
      "cell_type": "code",
      "metadata": {
        "id": "ts8J8lPAwejm",
        "outputId": "c7816bdb-ee87-4259-c348-2444677bfd14",
        "colab": {
          "base_uri": "https://localhost:8080/",
          "height": 151
        }
      },
      "source": [
        "def MyScaledLinearRegression():\n",
        "    return MyPipeline(\n",
        "        [\n",
        "            ('my_nice_scaler',StandardScaler() ),\n",
        "            ('my_beautiful_regression', LinearRegression() )\n",
        "        ]\n",
        "    )\n",
        "\n",
        "rfe = RFECV(MyScaledLinearRegression(), cv=k_fold,\n",
        "            scoring='neg_mean_squared_error')\n",
        "rfe.fit(X_train, y_train)"
      ],
      "execution_count": null,
      "outputs": [
        {
          "output_type": "execute_result",
          "data": {
            "text/plain": [
              "RFECV(cv=KFold(n_splits=5, random_state=10, shuffle=True),\n",
              "      estimator=MyPipeline(steps=[('my_nice_scaler', StandardScaler()),\n",
              "                                  ('my_beautiful_regression',\n",
              "                                   LinearRegression())]),\n",
              "      scoring='neg_mean_squared_error')"
            ],
            "text/html": [
              "<style>#sk-container-id-4 {color: black;background-color: white;}#sk-container-id-4 pre{padding: 0;}#sk-container-id-4 div.sk-toggleable {background-color: white;}#sk-container-id-4 label.sk-toggleable__label {cursor: pointer;display: block;width: 100%;margin-bottom: 0;padding: 0.3em;box-sizing: border-box;text-align: center;}#sk-container-id-4 label.sk-toggleable__label-arrow:before {content: \"▸\";float: left;margin-right: 0.25em;color: #696969;}#sk-container-id-4 label.sk-toggleable__label-arrow:hover:before {color: black;}#sk-container-id-4 div.sk-estimator:hover label.sk-toggleable__label-arrow:before {color: black;}#sk-container-id-4 div.sk-toggleable__content {max-height: 0;max-width: 0;overflow: hidden;text-align: left;background-color: #f0f8ff;}#sk-container-id-4 div.sk-toggleable__content pre {margin: 0.2em;color: black;border-radius: 0.25em;background-color: #f0f8ff;}#sk-container-id-4 input.sk-toggleable__control:checked~div.sk-toggleable__content {max-height: 200px;max-width: 100%;overflow: auto;}#sk-container-id-4 input.sk-toggleable__control:checked~label.sk-toggleable__label-arrow:before {content: \"▾\";}#sk-container-id-4 div.sk-estimator input.sk-toggleable__control:checked~label.sk-toggleable__label {background-color: #d4ebff;}#sk-container-id-4 div.sk-label input.sk-toggleable__control:checked~label.sk-toggleable__label {background-color: #d4ebff;}#sk-container-id-4 input.sk-hidden--visually {border: 0;clip: rect(1px 1px 1px 1px);clip: rect(1px, 1px, 1px, 1px);height: 1px;margin: -1px;overflow: hidden;padding: 0;position: absolute;width: 1px;}#sk-container-id-4 div.sk-estimator {font-family: monospace;background-color: #f0f8ff;border: 1px dotted black;border-radius: 0.25em;box-sizing: border-box;margin-bottom: 0.5em;}#sk-container-id-4 div.sk-estimator:hover {background-color: #d4ebff;}#sk-container-id-4 div.sk-parallel-item::after {content: \"\";width: 100%;border-bottom: 1px solid gray;flex-grow: 1;}#sk-container-id-4 div.sk-label:hover label.sk-toggleable__label {background-color: #d4ebff;}#sk-container-id-4 div.sk-serial::before {content: \"\";position: absolute;border-left: 1px solid gray;box-sizing: border-box;top: 0;bottom: 0;left: 50%;z-index: 0;}#sk-container-id-4 div.sk-serial {display: flex;flex-direction: column;align-items: center;background-color: white;padding-right: 0.2em;padding-left: 0.2em;position: relative;}#sk-container-id-4 div.sk-item {position: relative;z-index: 1;}#sk-container-id-4 div.sk-parallel {display: flex;align-items: stretch;justify-content: center;background-color: white;position: relative;}#sk-container-id-4 div.sk-item::before, #sk-container-id-4 div.sk-parallel-item::before {content: \"\";position: absolute;border-left: 1px solid gray;box-sizing: border-box;top: 0;bottom: 0;left: 50%;z-index: -1;}#sk-container-id-4 div.sk-parallel-item {display: flex;flex-direction: column;z-index: 1;position: relative;background-color: white;}#sk-container-id-4 div.sk-parallel-item:first-child::after {align-self: flex-end;width: 50%;}#sk-container-id-4 div.sk-parallel-item:last-child::after {align-self: flex-start;width: 50%;}#sk-container-id-4 div.sk-parallel-item:only-child::after {width: 0;}#sk-container-id-4 div.sk-dashed-wrapped {border: 1px dashed gray;margin: 0 0.4em 0.5em 0.4em;box-sizing: border-box;padding-bottom: 0.4em;background-color: white;}#sk-container-id-4 div.sk-label label {font-family: monospace;font-weight: bold;display: inline-block;line-height: 1.2em;}#sk-container-id-4 div.sk-label-container {text-align: center;}#sk-container-id-4 div.sk-container {/* jupyter's `normalize.less` sets `[hidden] { display: none; }` but bootstrap.min.css set `[hidden] { display: none !important; }` so we also need the `!important` here to be able to override the default hidden behavior on the sphinx rendered scikit-learn.org. See: https://github.com/scikit-learn/scikit-learn/issues/21755 */display: inline-block !important;position: relative;}#sk-container-id-4 div.sk-text-repr-fallback {display: none;}</style><div id=\"sk-container-id-4\" class=\"sk-top-container\"><div class=\"sk-text-repr-fallback\"><pre>RFECV(cv=KFold(n_splits=5, random_state=10, shuffle=True),\n",
              "      estimator=MyPipeline(steps=[(&#x27;my_nice_scaler&#x27;, StandardScaler()),\n",
              "                                  (&#x27;my_beautiful_regression&#x27;,\n",
              "                                   LinearRegression())]),\n",
              "      scoring=&#x27;neg_mean_squared_error&#x27;)</pre><b>In a Jupyter environment, please rerun this cell to show the HTML representation or trust the notebook. <br />On GitHub, the HTML representation is unable to render, please try loading this page with nbviewer.org.</b></div><div class=\"sk-container\" hidden><div class=\"sk-item sk-dashed-wrapped\"><div class=\"sk-label-container\"><div class=\"sk-label sk-toggleable\"><input class=\"sk-toggleable__control sk-hidden--visually\" id=\"sk-estimator-id-7\" type=\"checkbox\" ><label for=\"sk-estimator-id-7\" class=\"sk-toggleable__label sk-toggleable__label-arrow\">RFECV</label><div class=\"sk-toggleable__content\"><pre>RFECV(cv=KFold(n_splits=5, random_state=10, shuffle=True),\n",
              "      estimator=MyPipeline(steps=[(&#x27;my_nice_scaler&#x27;, StandardScaler()),\n",
              "                                  (&#x27;my_beautiful_regression&#x27;,\n",
              "                                   LinearRegression())]),\n",
              "      scoring=&#x27;neg_mean_squared_error&#x27;)</pre></div></div></div><div class=\"sk-parallel\"><div class=\"sk-parallel-item\"><div class=\"sk-item\"><div class=\"sk-label-container\"><div class=\"sk-label sk-toggleable\"><input class=\"sk-toggleable__control sk-hidden--visually\" id=\"sk-estimator-id-8\" type=\"checkbox\" ><label for=\"sk-estimator-id-8\" class=\"sk-toggleable__label sk-toggleable__label-arrow\">estimator: MyPipeline</label><div class=\"sk-toggleable__content\"><pre>MyPipeline(steps=[(&#x27;my_nice_scaler&#x27;, StandardScaler()),\n",
              "                  (&#x27;my_beautiful_regression&#x27;, LinearRegression())])</pre></div></div></div><div class=\"sk-serial\"><div class=\"sk-item\"><div class=\"sk-serial\"><div class=\"sk-item\"><div class=\"sk-estimator sk-toggleable\"><input class=\"sk-toggleable__control sk-hidden--visually\" id=\"sk-estimator-id-9\" type=\"checkbox\" ><label for=\"sk-estimator-id-9\" class=\"sk-toggleable__label sk-toggleable__label-arrow\">StandardScaler</label><div class=\"sk-toggleable__content\"><pre>StandardScaler()</pre></div></div></div><div class=\"sk-item\"><div class=\"sk-estimator sk-toggleable\"><input class=\"sk-toggleable__control sk-hidden--visually\" id=\"sk-estimator-id-10\" type=\"checkbox\" ><label for=\"sk-estimator-id-10\" class=\"sk-toggleable__label sk-toggleable__label-arrow\">LinearRegression</label><div class=\"sk-toggleable__content\"><pre>LinearRegression()</pre></div></div></div></div></div></div></div></div></div></div></div></div>"
            ]
          },
          "metadata": {},
          "execution_count": 63
        }
      ]
    },
    {
      "cell_type": "markdown",
      "metadata": {
        "id": "tmsnvk45wejp"
      },
      "source": [
        "Let's check how the cross-validated error changed with the num of features"
      ]
    },
    {
      "cell_type": "code",
      "metadata": {
        "id": "Nrb5aC6Jwejp",
        "outputId": "611f1a74-4155-43e9-eea3-5e48a6b0a71a",
        "colab": {
          "base_uri": "https://localhost:8080/"
        }
      },
      "source": [
        "RMSE_values = np.sqrt(- rfe.cv_results_['mean_test_score'])\n",
        "RMSE_values"
      ],
      "execution_count": null,
      "outputs": [
        {
          "output_type": "execute_result",
          "data": {
            "text/plain": [
              "array([2.65942418, 2.84762276, 2.96401222, 3.01300065, 3.01370414])"
            ]
          },
          "metadata": {},
          "execution_count": 65
        }
      ]
    },
    {
      "cell_type": "markdown",
      "metadata": {
        "id": "n3xnsjUVsCva"
      },
      "source": [
        "Let's plot the cross-validation error vs. number of features"
      ]
    },
    {
      "cell_type": "code",
      "metadata": {
        "id": "1HswEev_wejs",
        "outputId": "e660c41e-ae1f-4fa3-8aec-a1021d626eb0",
        "colab": {
          "base_uri": "https://localhost:8080/",
          "height": 466
        }
      },
      "source": [
        "num_of_features = np.arange(1,len(features)+1)\n",
        "\n",
        "fig, ax = plt.subplots()\n",
        "ax.plot(num_of_features, RMSE_values)\n",
        "ax.set(xlabel=\"Num of features\", ylabel=\"Cross-Val RMSE\")"
      ],
      "execution_count": null,
      "outputs": [
        {
          "output_type": "execute_result",
          "data": {
            "text/plain": [
              "[Text(0.5, 0, 'Num of features'), Text(0, 0.5, 'Cross-Val RMSE')]"
            ]
          },
          "metadata": {},
          "execution_count": 66
        },
        {
          "output_type": "display_data",
          "data": {
            "text/plain": [
              "<Figure size 640x480 with 1 Axes>"
            ],
            "image/png": "[encoded data removed]"
          },
          "metadata": {}
        }
      ]
    },
    {
      "cell_type": "markdown",
      "metadata": {
        "id": "6XKc5PdXwejw"
      },
      "source": [
        "One feature only seems to give the best model. What is such feature?"
      ]
    },
    {
      "cell_type": "code",
      "metadata": {
        "id": "YGpCsZbEwejx",
        "outputId": "c165aada-c664-43dc-d996-f11598cc52ce",
        "colab": {
          "base_uri": "https://localhost:8080/"
        }
      },
      "source": [
        "all_features_array = np.array(features)\n",
        "selected_features = all_features_array[rfe.support_]\n",
        "selected_features"
      ],
      "execution_count": null,
      "outputs": [
        {
          "output_type": "execute_result",
          "data": {
            "text/plain": [
              "array(['PacketsReceived'], dtype='<U18')"
            ]
          },
          "metadata": {},
          "execution_count": 67
        }
      ]
    },
    {
      "cell_type": "markdown",
      "metadata": {
        "id": "0NvIUiTmwej0"
      },
      "source": [
        "Let's test the selected model"
      ]
    },
    {
      "cell_type": "code",
      "metadata": {
        "id": "YH0g2MyZwej1",
        "outputId": "935eb781-443d-4518-c7ea-bfc9c6e893eb",
        "colab": {
          "base_uri": "https://localhost:8080/"
        }
      },
      "source": [
        "y_pred = rfe.predict(X_test)\n",
        "RMSE_feat_elimin = sqrt(mean_squared_error(y_pred, y_test))\n",
        "print('RMSE_feat_elimin:', RMSE_feat_elimin,\n",
        "      '\\nRMSE with scaling, poly degree 2 and alpha=10: ',\n",
        "      RMSE_scaling_and_poly_and_ridge,\n",
        "     '\\nRMSE_lin:', RMSE_lin)"
      ],
      "execution_count": null,
      "outputs": [
        {
          "output_type": "stream",
          "name": "stdout",
          "text": [
            "RMSE_feat_elimin: 2.1444712038430045 \n",
            "RMSE with scaling, poly degree 2 and alpha=10:  2.114824051028912 \n",
            "RMSE_lin: 2.148766515019231\n"
          ]
        }
      ]
    },
    {
      "cell_type": "markdown",
      "metadata": {
        "id": "_Miz_Qkqwej5"
      },
      "source": [
        "This model is better than the linear regression where we had all the features.\n",
        "\n",
        "However, the model with scaling, degree 2 and alpha=10 is the best.\n",
        "\n",
        "Some idea to improve even more the model?"
      ]
    },
    {
      "cell_type": "markdown",
      "metadata": {
        "id": "uOt6y1wfwej6"
      },
      "source": [
        "<details>\n",
        "<summary>...\n",
        "    \n",
        "__Click__\n",
        "</summary>\n",
        "\n",
        "* Find the best polynomial + normalization model based only on these two features. Or\n",
        "* Use RFECV on the polynomial model to select a subset of transformed features. Or\n",
        "*\n",
        "</details>"
      ]
    }
  ]
}