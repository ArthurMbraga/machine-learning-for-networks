{
  "nbformat": 4,
  "nbformat_minor": 0,
  "metadata": {
    "kernelspec": {
      "display_name": "Python 3",
      "language": "python",
      "name": "python3"
    },
    "language_info": {
      "codemirror_mode": {
        "name": "ipython",
        "version": 3
      },
      "file_extension": ".py",
      "mimetype": "text/x-python",
      "name": "python",
      "nbconvert_exporter": "python",
      "pygments_lexer": "ipython3",
      "version": "3.6.8"
    },
    "colab": {
      "name": "aircraft.ipynb",
      "provenance": [],
      "include_colab_link": true
    }
  },
  "cells": [
    {
      "cell_type": "markdown",
      "metadata": {
        "id": "view-in-github",
        "colab_type": "text"
      },
      "source": [
        "<a href=\"https://colab.research.google.com/github/andreaaraldo/machine-learning-for-networks/blob/master/08.predictive-maintenance/aircraft.ipynb\" target=\"_parent\"><img src=\"https://colab.research.google.com/assets/colab-badge.svg\" alt=\"Open In Colab\"/></a>"
      ]
    },
    {
      "cell_type": "markdown",
      "metadata": {
        "id": "hkng94v6m2hb",
        "colab_type": "text"
      },
      "source": [
        "# Aircraft Engine\n",
        "Inspired by [Deep Learning for Predictive Maintenance (by Azure)](https://github.com/Azure/lstms_for_predictive_maintenance/blob/master/Deep%20Learning%20Basics%20for%20Predictive%20Maintenance.ipynb) for the LSTM part."
      ]
    },
    {
      "cell_type": "code",
      "metadata": {
        "scrolled": true,
        "id": "e0pMQgEhm2he",
        "colab_type": "code",
        "colab": {},
        "outputId": "3ffdfd75-5e79-48b3-c258-6ef9708bf6ae"
      },
      "source": [
        "import pandas as pd\n",
        "import numpy as np\n",
        "import matplotlib.pyplot as plt\n",
        "\n",
        "# Setting seed for reproducability\n",
        "np.random.seed(1234)  \n",
        "PYTHONHASHSEED = 0\n",
        "from sklearn import preprocessing\n",
        "from sklearn.metrics import confusion_matrix, recall_score, precision_score\n",
        "from keras.models import Sequential\n",
        "from keras.layers import Dense, Dropout, LSTM, Activation\n",
        "%matplotlib inline\n",
        "\n",
        "import keras\n",
        "\n",
        "from sklearn.utils.multiclass import unique_labels\n",
        "from sklearn.metrics import classification_report\n",
        "\n",
        "from statsmodels.tsa.seasonal import seasonal_decompose"
      ],
      "execution_count": 0,
      "outputs": [
        {
          "output_type": "stream",
          "text": [
            "Using TensorFlow backend.\n"
          ],
          "name": "stderr"
        }
      ]
    },
    {
      "cell_type": "code",
      "metadata": {
        "id": "UKUXcthSm2ho",
        "colab_type": "code",
        "colab": {}
      },
      "source": [
        "# read training data \n",
        "train_df = pd.read_csv('PM_train.txt', sep=\" \", header=None)\n",
        "train_df.drop(train_df.columns[[26, 27]], axis=1, inplace=True)\n",
        "train_df.columns = ['id', 'cycle', 'setting1', 'setting2', 'setting3', 's1', 's2', 's3',\n",
        "                     's4', 's5', 's6', 's7', 's8', 's9', 's10', 's11', 's12', 's13', 's14',\n",
        "                     's15', 's16', 's17', 's18', 's19', 's20', 's21']"
      ],
      "execution_count": 0,
      "outputs": []
    },
    {
      "cell_type": "code",
      "metadata": {
        "id": "rA5P94ism2h0",
        "colab_type": "code",
        "colab": {},
        "outputId": "4c032023-737b-42f3-9f7c-75ad8af03a4b"
      },
      "source": [
        "# read test data\n",
        "test_df = pd.read_csv('PM_test.txt', sep=\" \", header=None)\n",
        "test_df.drop(test_df.columns[[26, 27]], axis=1, inplace=True)\n",
        "test_df.columns = ['id', 'cycle', 'setting1', 'setting2', 'setting3', 's1', 's2', 's3',\n",
        "                     's4', 's5', 's6', 's7', 's8', 's9', 's10', 's11', 's12', 's13', 's14',\n",
        "                     's15', 's16', 's17', 's18', 's19', 's20', 's21']\n",
        "\n",
        "test_df.head()"
      ],
      "execution_count": 0,
      "outputs": [
        {
          "output_type": "execute_result",
          "data": {
            "text/html": [
              "<div>\n",
              "<style scoped>\n",
              "    .dataframe tbody tr th:only-of-type {\n",
              "        vertical-align: middle;\n",
              "    }\n",
              "\n",
              "    .dataframe tbody tr th {\n",
              "        vertical-align: top;\n",
              "    }\n",
              "\n",
              "    .dataframe thead th {\n",
              "        text-align: right;\n",
              "    }\n",
              "</style>\n",
              "<table border=\"1\" class=\"dataframe\">\n",
              "  <thead>\n",
              "    <tr style=\"text-align: right;\">\n",
              "      <th></th>\n",
              "      <th>id</th>\n",
              "      <th>cycle</th>\n",
              "      <th>setting1</th>\n",
              "      <th>setting2</th>\n",
              "      <th>setting3</th>\n",
              "      <th>s1</th>\n",
              "      <th>s2</th>\n",
              "      <th>s3</th>\n",
              "      <th>s4</th>\n",
              "      <th>s5</th>\n",
              "      <th>...</th>\n",
              "      <th>s12</th>\n",
              "      <th>s13</th>\n",
              "      <th>s14</th>\n",
              "      <th>s15</th>\n",
              "      <th>s16</th>\n",
              "      <th>s17</th>\n",
              "      <th>s18</th>\n",
              "      <th>s19</th>\n",
              "      <th>s20</th>\n",
              "      <th>s21</th>\n",
              "    </tr>\n",
              "  </thead>\n",
              "  <tbody>\n",
              "    <tr>\n",
              "      <th>0</th>\n",
              "      <td>1</td>\n",
              "      <td>1</td>\n",
              "      <td>0.0023</td>\n",
              "      <td>0.0003</td>\n",
              "      <td>100.0</td>\n",
              "      <td>518.67</td>\n",
              "      <td>643.02</td>\n",
              "      <td>1585.29</td>\n",
              "      <td>1398.21</td>\n",
              "      <td>14.62</td>\n",
              "      <td>...</td>\n",
              "      <td>521.72</td>\n",
              "      <td>2388.03</td>\n",
              "      <td>8125.55</td>\n",
              "      <td>8.4052</td>\n",
              "      <td>0.03</td>\n",
              "      <td>392</td>\n",
              "      <td>2388</td>\n",
              "      <td>100.0</td>\n",
              "      <td>38.86</td>\n",
              "      <td>23.3735</td>\n",
              "    </tr>\n",
              "    <tr>\n",
              "      <th>1</th>\n",
              "      <td>1</td>\n",
              "      <td>2</td>\n",
              "      <td>-0.0027</td>\n",
              "      <td>-0.0003</td>\n",
              "      <td>100.0</td>\n",
              "      <td>518.67</td>\n",
              "      <td>641.71</td>\n",
              "      <td>1588.45</td>\n",
              "      <td>1395.42</td>\n",
              "      <td>14.62</td>\n",
              "      <td>...</td>\n",
              "      <td>522.16</td>\n",
              "      <td>2388.06</td>\n",
              "      <td>8139.62</td>\n",
              "      <td>8.3803</td>\n",
              "      <td>0.03</td>\n",
              "      <td>393</td>\n",
              "      <td>2388</td>\n",
              "      <td>100.0</td>\n",
              "      <td>39.02</td>\n",
              "      <td>23.3916</td>\n",
              "    </tr>\n",
              "    <tr>\n",
              "      <th>2</th>\n",
              "      <td>1</td>\n",
              "      <td>3</td>\n",
              "      <td>0.0003</td>\n",
              "      <td>0.0001</td>\n",
              "      <td>100.0</td>\n",
              "      <td>518.67</td>\n",
              "      <td>642.46</td>\n",
              "      <td>1586.94</td>\n",
              "      <td>1401.34</td>\n",
              "      <td>14.62</td>\n",
              "      <td>...</td>\n",
              "      <td>521.97</td>\n",
              "      <td>2388.03</td>\n",
              "      <td>8130.10</td>\n",
              "      <td>8.4441</td>\n",
              "      <td>0.03</td>\n",
              "      <td>393</td>\n",
              "      <td>2388</td>\n",
              "      <td>100.0</td>\n",
              "      <td>39.08</td>\n",
              "      <td>23.4166</td>\n",
              "    </tr>\n",
              "    <tr>\n",
              "      <th>3</th>\n",
              "      <td>1</td>\n",
              "      <td>4</td>\n",
              "      <td>0.0042</td>\n",
              "      <td>0.0000</td>\n",
              "      <td>100.0</td>\n",
              "      <td>518.67</td>\n",
              "      <td>642.44</td>\n",
              "      <td>1584.12</td>\n",
              "      <td>1406.42</td>\n",
              "      <td>14.62</td>\n",
              "      <td>...</td>\n",
              "      <td>521.38</td>\n",
              "      <td>2388.05</td>\n",
              "      <td>8132.90</td>\n",
              "      <td>8.3917</td>\n",
              "      <td>0.03</td>\n",
              "      <td>391</td>\n",
              "      <td>2388</td>\n",
              "      <td>100.0</td>\n",
              "      <td>39.00</td>\n",
              "      <td>23.3737</td>\n",
              "    </tr>\n",
              "    <tr>\n",
              "      <th>4</th>\n",
              "      <td>1</td>\n",
              "      <td>5</td>\n",
              "      <td>0.0014</td>\n",
              "      <td>0.0000</td>\n",
              "      <td>100.0</td>\n",
              "      <td>518.67</td>\n",
              "      <td>642.51</td>\n",
              "      <td>1587.19</td>\n",
              "      <td>1401.92</td>\n",
              "      <td>14.62</td>\n",
              "      <td>...</td>\n",
              "      <td>522.15</td>\n",
              "      <td>2388.03</td>\n",
              "      <td>8129.54</td>\n",
              "      <td>8.4031</td>\n",
              "      <td>0.03</td>\n",
              "      <td>390</td>\n",
              "      <td>2388</td>\n",
              "      <td>100.0</td>\n",
              "      <td>38.99</td>\n",
              "      <td>23.4130</td>\n",
              "    </tr>\n",
              "  </tbody>\n",
              "</table>\n",
              "<p>5 rows × 26 columns</p>\n",
              "</div>"
            ],
            "text/plain": [
              "   id  cycle  setting1  setting2  setting3      s1      s2       s3       s4  \\\n",
              "0   1      1    0.0023    0.0003     100.0  518.67  643.02  1585.29  1398.21   \n",
              "1   1      2   -0.0027   -0.0003     100.0  518.67  641.71  1588.45  1395.42   \n",
              "2   1      3    0.0003    0.0001     100.0  518.67  642.46  1586.94  1401.34   \n",
              "3   1      4    0.0042    0.0000     100.0  518.67  642.44  1584.12  1406.42   \n",
              "4   1      5    0.0014    0.0000     100.0  518.67  642.51  1587.19  1401.92   \n",
              "\n",
              "      s5   ...        s12      s13      s14     s15   s16  s17   s18    s19  \\\n",
              "0  14.62   ...     521.72  2388.03  8125.55  8.4052  0.03  392  2388  100.0   \n",
              "1  14.62   ...     522.16  2388.06  8139.62  8.3803  0.03  393  2388  100.0   \n",
              "2  14.62   ...     521.97  2388.03  8130.10  8.4441  0.03  393  2388  100.0   \n",
              "3  14.62   ...     521.38  2388.05  8132.90  8.3917  0.03  391  2388  100.0   \n",
              "4  14.62   ...     522.15  2388.03  8129.54  8.4031  0.03  390  2388  100.0   \n",
              "\n",
              "     s20      s21  \n",
              "0  38.86  23.3735  \n",
              "1  39.02  23.3916  \n",
              "2  39.08  23.4166  \n",
              "3  39.00  23.3737  \n",
              "4  38.99  23.4130  \n",
              "\n",
              "[5 rows x 26 columns]"
            ]
          },
          "metadata": {
            "tags": []
          },
          "execution_count": 3
        }
      ]
    },
    {
      "cell_type": "code",
      "metadata": {
        "scrolled": true,
        "id": "uk2pqIDym2h8",
        "colab_type": "code",
        "colab": {}
      },
      "source": [
        "# read ground truth data\n",
        "truth_df = pd.read_csv('PM_truth.txt', sep=\" \", header=None)\n",
        "truth_df.drop(truth_df.columns[[1]], axis=1, inplace=True)"
      ],
      "execution_count": 0,
      "outputs": []
    },
    {
      "cell_type": "code",
      "metadata": {
        "id": "1955BkhGm2iD",
        "colab_type": "code",
        "colab": {},
        "outputId": "cc9d4ff3-027e-4d30-f92a-153b4908ea74"
      },
      "source": [
        "train_df = train_df.sort_values(['id','cycle'])\n",
        "train_df.head()"
      ],
      "execution_count": 0,
      "outputs": [
        {
          "output_type": "execute_result",
          "data": {
            "text/html": [
              "<div>\n",
              "<style scoped>\n",
              "    .dataframe tbody tr th:only-of-type {\n",
              "        vertical-align: middle;\n",
              "    }\n",
              "\n",
              "    .dataframe tbody tr th {\n",
              "        vertical-align: top;\n",
              "    }\n",
              "\n",
              "    .dataframe thead th {\n",
              "        text-align: right;\n",
              "    }\n",
              "</style>\n",
              "<table border=\"1\" class=\"dataframe\">\n",
              "  <thead>\n",
              "    <tr style=\"text-align: right;\">\n",
              "      <th></th>\n",
              "      <th>id</th>\n",
              "      <th>cycle</th>\n",
              "      <th>setting1</th>\n",
              "      <th>setting2</th>\n",
              "      <th>setting3</th>\n",
              "      <th>s1</th>\n",
              "      <th>s2</th>\n",
              "      <th>s3</th>\n",
              "      <th>s4</th>\n",
              "      <th>s5</th>\n",
              "      <th>...</th>\n",
              "      <th>s12</th>\n",
              "      <th>s13</th>\n",
              "      <th>s14</th>\n",
              "      <th>s15</th>\n",
              "      <th>s16</th>\n",
              "      <th>s17</th>\n",
              "      <th>s18</th>\n",
              "      <th>s19</th>\n",
              "      <th>s20</th>\n",
              "      <th>s21</th>\n",
              "    </tr>\n",
              "  </thead>\n",
              "  <tbody>\n",
              "    <tr>\n",
              "      <th>0</th>\n",
              "      <td>1</td>\n",
              "      <td>1</td>\n",
              "      <td>-0.0007</td>\n",
              "      <td>-0.0004</td>\n",
              "      <td>100.0</td>\n",
              "      <td>518.67</td>\n",
              "      <td>641.82</td>\n",
              "      <td>1589.70</td>\n",
              "      <td>1400.60</td>\n",
              "      <td>14.62</td>\n",
              "      <td>...</td>\n",
              "      <td>521.66</td>\n",
              "      <td>2388.02</td>\n",
              "      <td>8138.62</td>\n",
              "      <td>8.4195</td>\n",
              "      <td>0.03</td>\n",
              "      <td>392</td>\n",
              "      <td>2388</td>\n",
              "      <td>100.0</td>\n",
              "      <td>39.06</td>\n",
              "      <td>23.4190</td>\n",
              "    </tr>\n",
              "    <tr>\n",
              "      <th>1</th>\n",
              "      <td>1</td>\n",
              "      <td>2</td>\n",
              "      <td>0.0019</td>\n",
              "      <td>-0.0003</td>\n",
              "      <td>100.0</td>\n",
              "      <td>518.67</td>\n",
              "      <td>642.15</td>\n",
              "      <td>1591.82</td>\n",
              "      <td>1403.14</td>\n",
              "      <td>14.62</td>\n",
              "      <td>...</td>\n",
              "      <td>522.28</td>\n",
              "      <td>2388.07</td>\n",
              "      <td>8131.49</td>\n",
              "      <td>8.4318</td>\n",
              "      <td>0.03</td>\n",
              "      <td>392</td>\n",
              "      <td>2388</td>\n",
              "      <td>100.0</td>\n",
              "      <td>39.00</td>\n",
              "      <td>23.4236</td>\n",
              "    </tr>\n",
              "    <tr>\n",
              "      <th>2</th>\n",
              "      <td>1</td>\n",
              "      <td>3</td>\n",
              "      <td>-0.0043</td>\n",
              "      <td>0.0003</td>\n",
              "      <td>100.0</td>\n",
              "      <td>518.67</td>\n",
              "      <td>642.35</td>\n",
              "      <td>1587.99</td>\n",
              "      <td>1404.20</td>\n",
              "      <td>14.62</td>\n",
              "      <td>...</td>\n",
              "      <td>522.42</td>\n",
              "      <td>2388.03</td>\n",
              "      <td>8133.23</td>\n",
              "      <td>8.4178</td>\n",
              "      <td>0.03</td>\n",
              "      <td>390</td>\n",
              "      <td>2388</td>\n",
              "      <td>100.0</td>\n",
              "      <td>38.95</td>\n",
              "      <td>23.3442</td>\n",
              "    </tr>\n",
              "    <tr>\n",
              "      <th>3</th>\n",
              "      <td>1</td>\n",
              "      <td>4</td>\n",
              "      <td>0.0007</td>\n",
              "      <td>0.0000</td>\n",
              "      <td>100.0</td>\n",
              "      <td>518.67</td>\n",
              "      <td>642.35</td>\n",
              "      <td>1582.79</td>\n",
              "      <td>1401.87</td>\n",
              "      <td>14.62</td>\n",
              "      <td>...</td>\n",
              "      <td>522.86</td>\n",
              "      <td>2388.08</td>\n",
              "      <td>8133.83</td>\n",
              "      <td>8.3682</td>\n",
              "      <td>0.03</td>\n",
              "      <td>392</td>\n",
              "      <td>2388</td>\n",
              "      <td>100.0</td>\n",
              "      <td>38.88</td>\n",
              "      <td>23.3739</td>\n",
              "    </tr>\n",
              "    <tr>\n",
              "      <th>4</th>\n",
              "      <td>1</td>\n",
              "      <td>5</td>\n",
              "      <td>-0.0019</td>\n",
              "      <td>-0.0002</td>\n",
              "      <td>100.0</td>\n",
              "      <td>518.67</td>\n",
              "      <td>642.37</td>\n",
              "      <td>1582.85</td>\n",
              "      <td>1406.22</td>\n",
              "      <td>14.62</td>\n",
              "      <td>...</td>\n",
              "      <td>522.19</td>\n",
              "      <td>2388.04</td>\n",
              "      <td>8133.80</td>\n",
              "      <td>8.4294</td>\n",
              "      <td>0.03</td>\n",
              "      <td>393</td>\n",
              "      <td>2388</td>\n",
              "      <td>100.0</td>\n",
              "      <td>38.90</td>\n",
              "      <td>23.4044</td>\n",
              "    </tr>\n",
              "  </tbody>\n",
              "</table>\n",
              "<p>5 rows × 26 columns</p>\n",
              "</div>"
            ],
            "text/plain": [
              "   id  cycle  setting1  setting2  setting3      s1      s2       s3       s4  \\\n",
              "0   1      1   -0.0007   -0.0004     100.0  518.67  641.82  1589.70  1400.60   \n",
              "1   1      2    0.0019   -0.0003     100.0  518.67  642.15  1591.82  1403.14   \n",
              "2   1      3   -0.0043    0.0003     100.0  518.67  642.35  1587.99  1404.20   \n",
              "3   1      4    0.0007    0.0000     100.0  518.67  642.35  1582.79  1401.87   \n",
              "4   1      5   -0.0019   -0.0002     100.0  518.67  642.37  1582.85  1406.22   \n",
              "\n",
              "      s5   ...        s12      s13      s14     s15   s16  s17   s18    s19  \\\n",
              "0  14.62   ...     521.66  2388.02  8138.62  8.4195  0.03  392  2388  100.0   \n",
              "1  14.62   ...     522.28  2388.07  8131.49  8.4318  0.03  392  2388  100.0   \n",
              "2  14.62   ...     522.42  2388.03  8133.23  8.4178  0.03  390  2388  100.0   \n",
              "3  14.62   ...     522.86  2388.08  8133.83  8.3682  0.03  392  2388  100.0   \n",
              "4  14.62   ...     522.19  2388.04  8133.80  8.4294  0.03  393  2388  100.0   \n",
              "\n",
              "     s20      s21  \n",
              "0  39.06  23.4190  \n",
              "1  39.00  23.4236  \n",
              "2  38.95  23.3442  \n",
              "3  38.88  23.3739  \n",
              "4  38.90  23.4044  \n",
              "\n",
              "[5 rows x 26 columns]"
            ]
          },
          "metadata": {
            "tags": []
          },
          "execution_count": 5
        }
      ]
    },
    {
      "cell_type": "markdown",
      "metadata": {
        "id": "r1vUMFF0m2iK",
        "colab_type": "text"
      },
      "source": [
        "Let us check when the engine 1 fails (we need the training data for that)"
      ]
    },
    {
      "cell_type": "code",
      "metadata": {
        "id": "fWSc9We7m2iK",
        "colab_type": "code",
        "colab": {},
        "outputId": "3ac65f41-fa8f-4404-b202-ae5889488755"
      },
      "source": [
        "fail = max(train_df [ train_df['id']==1 ] ['cycle'] )\n",
        "print (\"Engine 1 fails at cycle \", fail)"
      ],
      "execution_count": 0,
      "outputs": [
        {
          "output_type": "stream",
          "text": [
            "Engine 1 fails at cycle  192\n"
          ],
          "name": "stdout"
        }
      ]
    },
    {
      "cell_type": "markdown",
      "metadata": {
        "id": "uSa_zZKxm2iR",
        "colab_type": "text"
      },
      "source": [
        "In the test data, we have an incomplete time series (you can imagine we have recordings up to \"now\", so we do not know at what cycle in the future the engine will fail)"
      ]
    },
    {
      "cell_type": "code",
      "metadata": {
        "scrolled": false,
        "id": "AjRtn1-Cm2iS",
        "colab_type": "code",
        "colab": {},
        "outputId": "d9bebfe0-5197-4d94-f5f6-283b941195c2"
      },
      "source": [
        "test_df [ test_df['id']==1 ]"
      ],
      "execution_count": 0,
      "outputs": [
        {
          "output_type": "execute_result",
          "data": {
            "text/html": [
              "<div>\n",
              "<style scoped>\n",
              "    .dataframe tbody tr th:only-of-type {\n",
              "        vertical-align: middle;\n",
              "    }\n",
              "\n",
              "    .dataframe tbody tr th {\n",
              "        vertical-align: top;\n",
              "    }\n",
              "\n",
              "    .dataframe thead th {\n",
              "        text-align: right;\n",
              "    }\n",
              "</style>\n",
              "<table border=\"1\" class=\"dataframe\">\n",
              "  <thead>\n",
              "    <tr style=\"text-align: right;\">\n",
              "      <th></th>\n",
              "      <th>id</th>\n",
              "      <th>cycle</th>\n",
              "      <th>setting1</th>\n",
              "      <th>setting2</th>\n",
              "      <th>setting3</th>\n",
              "      <th>s1</th>\n",
              "      <th>s2</th>\n",
              "      <th>s3</th>\n",
              "      <th>s4</th>\n",
              "      <th>s5</th>\n",
              "      <th>...</th>\n",
              "      <th>s12</th>\n",
              "      <th>s13</th>\n",
              "      <th>s14</th>\n",
              "      <th>s15</th>\n",
              "      <th>s16</th>\n",
              "      <th>s17</th>\n",
              "      <th>s18</th>\n",
              "      <th>s19</th>\n",
              "      <th>s20</th>\n",
              "      <th>s21</th>\n",
              "    </tr>\n",
              "  </thead>\n",
              "  <tbody>\n",
              "    <tr>\n",
              "      <th>0</th>\n",
              "      <td>1</td>\n",
              "      <td>1</td>\n",
              "      <td>0.0023</td>\n",
              "      <td>0.0003</td>\n",
              "      <td>100.0</td>\n",
              "      <td>518.67</td>\n",
              "      <td>643.02</td>\n",
              "      <td>1585.29</td>\n",
              "      <td>1398.21</td>\n",
              "      <td>14.62</td>\n",
              "      <td>...</td>\n",
              "      <td>521.72</td>\n",
              "      <td>2388.03</td>\n",
              "      <td>8125.55</td>\n",
              "      <td>8.4052</td>\n",
              "      <td>0.03</td>\n",
              "      <td>392</td>\n",
              "      <td>2388</td>\n",
              "      <td>100.0</td>\n",
              "      <td>38.86</td>\n",
              "      <td>23.3735</td>\n",
              "    </tr>\n",
              "    <tr>\n",
              "      <th>1</th>\n",
              "      <td>1</td>\n",
              "      <td>2</td>\n",
              "      <td>-0.0027</td>\n",
              "      <td>-0.0003</td>\n",
              "      <td>100.0</td>\n",
              "      <td>518.67</td>\n",
              "      <td>641.71</td>\n",
              "      <td>1588.45</td>\n",
              "      <td>1395.42</td>\n",
              "      <td>14.62</td>\n",
              "      <td>...</td>\n",
              "      <td>522.16</td>\n",
              "      <td>2388.06</td>\n",
              "      <td>8139.62</td>\n",
              "      <td>8.3803</td>\n",
              "      <td>0.03</td>\n",
              "      <td>393</td>\n",
              "      <td>2388</td>\n",
              "      <td>100.0</td>\n",
              "      <td>39.02</td>\n",
              "      <td>23.3916</td>\n",
              "    </tr>\n",
              "    <tr>\n",
              "      <th>2</th>\n",
              "      <td>1</td>\n",
              "      <td>3</td>\n",
              "      <td>0.0003</td>\n",
              "      <td>0.0001</td>\n",
              "      <td>100.0</td>\n",
              "      <td>518.67</td>\n",
              "      <td>642.46</td>\n",
              "      <td>1586.94</td>\n",
              "      <td>1401.34</td>\n",
              "      <td>14.62</td>\n",
              "      <td>...</td>\n",
              "      <td>521.97</td>\n",
              "      <td>2388.03</td>\n",
              "      <td>8130.10</td>\n",
              "      <td>8.4441</td>\n",
              "      <td>0.03</td>\n",
              "      <td>393</td>\n",
              "      <td>2388</td>\n",
              "      <td>100.0</td>\n",
              "      <td>39.08</td>\n",
              "      <td>23.4166</td>\n",
              "    </tr>\n",
              "    <tr>\n",
              "      <th>3</th>\n",
              "      <td>1</td>\n",
              "      <td>4</td>\n",
              "      <td>0.0042</td>\n",
              "      <td>0.0000</td>\n",
              "      <td>100.0</td>\n",
              "      <td>518.67</td>\n",
              "      <td>642.44</td>\n",
              "      <td>1584.12</td>\n",
              "      <td>1406.42</td>\n",
              "      <td>14.62</td>\n",
              "      <td>...</td>\n",
              "      <td>521.38</td>\n",
              "      <td>2388.05</td>\n",
              "      <td>8132.90</td>\n",
              "      <td>8.3917</td>\n",
              "      <td>0.03</td>\n",
              "      <td>391</td>\n",
              "      <td>2388</td>\n",
              "      <td>100.0</td>\n",
              "      <td>39.00</td>\n",
              "      <td>23.3737</td>\n",
              "    </tr>\n",
              "    <tr>\n",
              "      <th>4</th>\n",
              "      <td>1</td>\n",
              "      <td>5</td>\n",
              "      <td>0.0014</td>\n",
              "      <td>0.0000</td>\n",
              "      <td>100.0</td>\n",
              "      <td>518.67</td>\n",
              "      <td>642.51</td>\n",
              "      <td>1587.19</td>\n",
              "      <td>1401.92</td>\n",
              "      <td>14.62</td>\n",
              "      <td>...</td>\n",
              "      <td>522.15</td>\n",
              "      <td>2388.03</td>\n",
              "      <td>8129.54</td>\n",
              "      <td>8.4031</td>\n",
              "      <td>0.03</td>\n",
              "      <td>390</td>\n",
              "      <td>2388</td>\n",
              "      <td>100.0</td>\n",
              "      <td>38.99</td>\n",
              "      <td>23.4130</td>\n",
              "    </tr>\n",
              "    <tr>\n",
              "      <th>5</th>\n",
              "      <td>1</td>\n",
              "      <td>6</td>\n",
              "      <td>0.0012</td>\n",
              "      <td>0.0003</td>\n",
              "      <td>100.0</td>\n",
              "      <td>518.67</td>\n",
              "      <td>642.11</td>\n",
              "      <td>1579.12</td>\n",
              "      <td>1395.13</td>\n",
              "      <td>14.62</td>\n",
              "      <td>...</td>\n",
              "      <td>521.92</td>\n",
              "      <td>2388.08</td>\n",
              "      <td>8127.46</td>\n",
              "      <td>8.4238</td>\n",
              "      <td>0.03</td>\n",
              "      <td>392</td>\n",
              "      <td>2388</td>\n",
              "      <td>100.0</td>\n",
              "      <td>38.91</td>\n",
              "      <td>23.3467</td>\n",
              "    </tr>\n",
              "    <tr>\n",
              "      <th>6</th>\n",
              "      <td>1</td>\n",
              "      <td>7</td>\n",
              "      <td>-0.0000</td>\n",
              "      <td>0.0002</td>\n",
              "      <td>100.0</td>\n",
              "      <td>518.67</td>\n",
              "      <td>642.11</td>\n",
              "      <td>1583.34</td>\n",
              "      <td>1404.84</td>\n",
              "      <td>14.62</td>\n",
              "      <td>...</td>\n",
              "      <td>522.01</td>\n",
              "      <td>2388.06</td>\n",
              "      <td>8134.97</td>\n",
              "      <td>8.3914</td>\n",
              "      <td>0.03</td>\n",
              "      <td>391</td>\n",
              "      <td>2388</td>\n",
              "      <td>100.0</td>\n",
              "      <td>38.85</td>\n",
              "      <td>23.3952</td>\n",
              "    </tr>\n",
              "    <tr>\n",
              "      <th>7</th>\n",
              "      <td>1</td>\n",
              "      <td>8</td>\n",
              "      <td>0.0006</td>\n",
              "      <td>-0.0000</td>\n",
              "      <td>100.0</td>\n",
              "      <td>518.67</td>\n",
              "      <td>642.54</td>\n",
              "      <td>1580.89</td>\n",
              "      <td>1400.89</td>\n",
              "      <td>14.62</td>\n",
              "      <td>...</td>\n",
              "      <td>522.09</td>\n",
              "      <td>2388.06</td>\n",
              "      <td>8125.93</td>\n",
              "      <td>8.4213</td>\n",
              "      <td>0.03</td>\n",
              "      <td>393</td>\n",
              "      <td>2388</td>\n",
              "      <td>100.0</td>\n",
              "      <td>39.05</td>\n",
              "      <td>23.3224</td>\n",
              "    </tr>\n",
              "    <tr>\n",
              "      <th>8</th>\n",
              "      <td>1</td>\n",
              "      <td>9</td>\n",
              "      <td>-0.0036</td>\n",
              "      <td>0.0000</td>\n",
              "      <td>100.0</td>\n",
              "      <td>518.67</td>\n",
              "      <td>641.88</td>\n",
              "      <td>1593.29</td>\n",
              "      <td>1412.28</td>\n",
              "      <td>14.62</td>\n",
              "      <td>...</td>\n",
              "      <td>522.03</td>\n",
              "      <td>2388.05</td>\n",
              "      <td>8134.15</td>\n",
              "      <td>8.4353</td>\n",
              "      <td>0.03</td>\n",
              "      <td>391</td>\n",
              "      <td>2388</td>\n",
              "      <td>100.0</td>\n",
              "      <td>39.10</td>\n",
              "      <td>23.4521</td>\n",
              "    </tr>\n",
              "    <tr>\n",
              "      <th>9</th>\n",
              "      <td>1</td>\n",
              "      <td>10</td>\n",
              "      <td>-0.0025</td>\n",
              "      <td>-0.0001</td>\n",
              "      <td>100.0</td>\n",
              "      <td>518.67</td>\n",
              "      <td>642.07</td>\n",
              "      <td>1585.25</td>\n",
              "      <td>1398.64</td>\n",
              "      <td>14.62</td>\n",
              "      <td>...</td>\n",
              "      <td>522.00</td>\n",
              "      <td>2388.06</td>\n",
              "      <td>8134.08</td>\n",
              "      <td>8.4093</td>\n",
              "      <td>0.03</td>\n",
              "      <td>391</td>\n",
              "      <td>2388</td>\n",
              "      <td>100.0</td>\n",
              "      <td>38.87</td>\n",
              "      <td>23.3820</td>\n",
              "    </tr>\n",
              "    <tr>\n",
              "      <th>10</th>\n",
              "      <td>1</td>\n",
              "      <td>11</td>\n",
              "      <td>0.0007</td>\n",
              "      <td>-0.0004</td>\n",
              "      <td>100.0</td>\n",
              "      <td>518.67</td>\n",
              "      <td>642.04</td>\n",
              "      <td>1581.03</td>\n",
              "      <td>1403.83</td>\n",
              "      <td>14.62</td>\n",
              "      <td>...</td>\n",
              "      <td>521.95</td>\n",
              "      <td>2388.06</td>\n",
              "      <td>8132.38</td>\n",
              "      <td>8.3919</td>\n",
              "      <td>0.03</td>\n",
              "      <td>391</td>\n",
              "      <td>2388</td>\n",
              "      <td>100.0</td>\n",
              "      <td>39.06</td>\n",
              "      <td>23.3609</td>\n",
              "    </tr>\n",
              "    <tr>\n",
              "      <th>11</th>\n",
              "      <td>1</td>\n",
              "      <td>12</td>\n",
              "      <td>0.0026</td>\n",
              "      <td>0.0003</td>\n",
              "      <td>100.0</td>\n",
              "      <td>518.67</td>\n",
              "      <td>642.54</td>\n",
              "      <td>1587.43</td>\n",
              "      <td>1397.82</td>\n",
              "      <td>14.62</td>\n",
              "      <td>...</td>\n",
              "      <td>522.01</td>\n",
              "      <td>2388.06</td>\n",
              "      <td>8132.33</td>\n",
              "      <td>8.3984</td>\n",
              "      <td>0.03</td>\n",
              "      <td>391</td>\n",
              "      <td>2388</td>\n",
              "      <td>100.0</td>\n",
              "      <td>39.11</td>\n",
              "      <td>23.3845</td>\n",
              "    </tr>\n",
              "    <tr>\n",
              "      <th>12</th>\n",
              "      <td>1</td>\n",
              "      <td>13</td>\n",
              "      <td>-0.0056</td>\n",
              "      <td>0.0003</td>\n",
              "      <td>100.0</td>\n",
              "      <td>518.67</td>\n",
              "      <td>641.94</td>\n",
              "      <td>1589.09</td>\n",
              "      <td>1403.94</td>\n",
              "      <td>14.62</td>\n",
              "      <td>...</td>\n",
              "      <td>522.37</td>\n",
              "      <td>2388.03</td>\n",
              "      <td>8131.12</td>\n",
              "      <td>8.4166</td>\n",
              "      <td>0.03</td>\n",
              "      <td>392</td>\n",
              "      <td>2388</td>\n",
              "      <td>100.0</td>\n",
              "      <td>39.08</td>\n",
              "      <td>23.3677</td>\n",
              "    </tr>\n",
              "    <tr>\n",
              "      <th>13</th>\n",
              "      <td>1</td>\n",
              "      <td>14</td>\n",
              "      <td>0.0017</td>\n",
              "      <td>-0.0004</td>\n",
              "      <td>100.0</td>\n",
              "      <td>518.67</td>\n",
              "      <td>642.23</td>\n",
              "      <td>1583.16</td>\n",
              "      <td>1402.88</td>\n",
              "      <td>14.62</td>\n",
              "      <td>...</td>\n",
              "      <td>521.95</td>\n",
              "      <td>2388.06</td>\n",
              "      <td>8130.30</td>\n",
              "      <td>8.4293</td>\n",
              "      <td>0.03</td>\n",
              "      <td>392</td>\n",
              "      <td>2388</td>\n",
              "      <td>100.0</td>\n",
              "      <td>39.03</td>\n",
              "      <td>23.4572</td>\n",
              "    </tr>\n",
              "    <tr>\n",
              "      <th>14</th>\n",
              "      <td>1</td>\n",
              "      <td>15</td>\n",
              "      <td>-0.0003</td>\n",
              "      <td>-0.0003</td>\n",
              "      <td>100.0</td>\n",
              "      <td>518.67</td>\n",
              "      <td>642.50</td>\n",
              "      <td>1584.81</td>\n",
              "      <td>1398.79</td>\n",
              "      <td>14.62</td>\n",
              "      <td>...</td>\n",
              "      <td>521.38</td>\n",
              "      <td>2388.00</td>\n",
              "      <td>8133.62</td>\n",
              "      <td>8.4163</td>\n",
              "      <td>0.03</td>\n",
              "      <td>392</td>\n",
              "      <td>2388</td>\n",
              "      <td>100.0</td>\n",
              "      <td>39.04</td>\n",
              "      <td>23.3672</td>\n",
              "    </tr>\n",
              "    <tr>\n",
              "      <th>15</th>\n",
              "      <td>1</td>\n",
              "      <td>16</td>\n",
              "      <td>-0.0018</td>\n",
              "      <td>0.0003</td>\n",
              "      <td>100.0</td>\n",
              "      <td>518.67</td>\n",
              "      <td>642.32</td>\n",
              "      <td>1584.51</td>\n",
              "      <td>1407.76</td>\n",
              "      <td>14.62</td>\n",
              "      <td>...</td>\n",
              "      <td>522.16</td>\n",
              "      <td>2388.10</td>\n",
              "      <td>8133.83</td>\n",
              "      <td>8.4300</td>\n",
              "      <td>0.03</td>\n",
              "      <td>390</td>\n",
              "      <td>2388</td>\n",
              "      <td>100.0</td>\n",
              "      <td>38.87</td>\n",
              "      <td>23.3484</td>\n",
              "    </tr>\n",
              "    <tr>\n",
              "      <th>16</th>\n",
              "      <td>1</td>\n",
              "      <td>17</td>\n",
              "      <td>0.0014</td>\n",
              "      <td>0.0002</td>\n",
              "      <td>100.0</td>\n",
              "      <td>518.67</td>\n",
              "      <td>642.19</td>\n",
              "      <td>1582.70</td>\n",
              "      <td>1404.12</td>\n",
              "      <td>14.62</td>\n",
              "      <td>...</td>\n",
              "      <td>522.09</td>\n",
              "      <td>2388.02</td>\n",
              "      <td>8126.78</td>\n",
              "      <td>8.4577</td>\n",
              "      <td>0.03</td>\n",
              "      <td>391</td>\n",
              "      <td>2388</td>\n",
              "      <td>100.0</td>\n",
              "      <td>39.09</td>\n",
              "      <td>23.3409</td>\n",
              "    </tr>\n",
              "    <tr>\n",
              "      <th>17</th>\n",
              "      <td>1</td>\n",
              "      <td>18</td>\n",
              "      <td>0.0035</td>\n",
              "      <td>0.0001</td>\n",
              "      <td>100.0</td>\n",
              "      <td>518.67</td>\n",
              "      <td>642.59</td>\n",
              "      <td>1586.53</td>\n",
              "      <td>1403.69</td>\n",
              "      <td>14.62</td>\n",
              "      <td>...</td>\n",
              "      <td>522.14</td>\n",
              "      <td>2388.06</td>\n",
              "      <td>8133.22</td>\n",
              "      <td>8.4323</td>\n",
              "      <td>0.03</td>\n",
              "      <td>391</td>\n",
              "      <td>2388</td>\n",
              "      <td>100.0</td>\n",
              "      <td>38.96</td>\n",
              "      <td>23.4481</td>\n",
              "    </tr>\n",
              "    <tr>\n",
              "      <th>18</th>\n",
              "      <td>1</td>\n",
              "      <td>19</td>\n",
              "      <td>0.0029</td>\n",
              "      <td>0.0001</td>\n",
              "      <td>100.0</td>\n",
              "      <td>518.67</td>\n",
              "      <td>642.43</td>\n",
              "      <td>1585.58</td>\n",
              "      <td>1402.30</td>\n",
              "      <td>14.62</td>\n",
              "      <td>...</td>\n",
              "      <td>522.06</td>\n",
              "      <td>2388.01</td>\n",
              "      <td>8129.31</td>\n",
              "      <td>8.3892</td>\n",
              "      <td>0.03</td>\n",
              "      <td>391</td>\n",
              "      <td>2388</td>\n",
              "      <td>100.0</td>\n",
              "      <td>39.06</td>\n",
              "      <td>23.3809</td>\n",
              "    </tr>\n",
              "    <tr>\n",
              "      <th>19</th>\n",
              "      <td>1</td>\n",
              "      <td>20</td>\n",
              "      <td>0.0011</td>\n",
              "      <td>-0.0001</td>\n",
              "      <td>100.0</td>\n",
              "      <td>518.67</td>\n",
              "      <td>642.61</td>\n",
              "      <td>1587.78</td>\n",
              "      <td>1400.70</td>\n",
              "      <td>14.62</td>\n",
              "      <td>...</td>\n",
              "      <td>522.28</td>\n",
              "      <td>2388.05</td>\n",
              "      <td>8128.59</td>\n",
              "      <td>8.4099</td>\n",
              "      <td>0.03</td>\n",
              "      <td>392</td>\n",
              "      <td>2388</td>\n",
              "      <td>100.0</td>\n",
              "      <td>39.00</td>\n",
              "      <td>23.3325</td>\n",
              "    </tr>\n",
              "    <tr>\n",
              "      <th>20</th>\n",
              "      <td>1</td>\n",
              "      <td>21</td>\n",
              "      <td>0.0038</td>\n",
              "      <td>-0.0002</td>\n",
              "      <td>100.0</td>\n",
              "      <td>518.67</td>\n",
              "      <td>642.70</td>\n",
              "      <td>1583.30</td>\n",
              "      <td>1399.20</td>\n",
              "      <td>14.62</td>\n",
              "      <td>...</td>\n",
              "      <td>522.05</td>\n",
              "      <td>2388.11</td>\n",
              "      <td>8126.86</td>\n",
              "      <td>8.4174</td>\n",
              "      <td>0.03</td>\n",
              "      <td>392</td>\n",
              "      <td>2388</td>\n",
              "      <td>100.0</td>\n",
              "      <td>38.96</td>\n",
              "      <td>23.4025</td>\n",
              "    </tr>\n",
              "    <tr>\n",
              "      <th>21</th>\n",
              "      <td>1</td>\n",
              "      <td>22</td>\n",
              "      <td>0.0012</td>\n",
              "      <td>0.0001</td>\n",
              "      <td>100.0</td>\n",
              "      <td>518.67</td>\n",
              "      <td>642.45</td>\n",
              "      <td>1582.78</td>\n",
              "      <td>1404.06</td>\n",
              "      <td>14.62</td>\n",
              "      <td>...</td>\n",
              "      <td>521.41</td>\n",
              "      <td>2388.04</td>\n",
              "      <td>8128.89</td>\n",
              "      <td>8.4557</td>\n",
              "      <td>0.03</td>\n",
              "      <td>392</td>\n",
              "      <td>2388</td>\n",
              "      <td>100.0</td>\n",
              "      <td>38.94</td>\n",
              "      <td>23.3770</td>\n",
              "    </tr>\n",
              "    <tr>\n",
              "      <th>22</th>\n",
              "      <td>1</td>\n",
              "      <td>23</td>\n",
              "      <td>0.0009</td>\n",
              "      <td>-0.0000</td>\n",
              "      <td>100.0</td>\n",
              "      <td>518.67</td>\n",
              "      <td>642.12</td>\n",
              "      <td>1587.51</td>\n",
              "      <td>1395.09</td>\n",
              "      <td>14.62</td>\n",
              "      <td>...</td>\n",
              "      <td>522.00</td>\n",
              "      <td>2388.06</td>\n",
              "      <td>8130.97</td>\n",
              "      <td>8.4116</td>\n",
              "      <td>0.03</td>\n",
              "      <td>393</td>\n",
              "      <td>2388</td>\n",
              "      <td>100.0</td>\n",
              "      <td>39.10</td>\n",
              "      <td>23.3186</td>\n",
              "    </tr>\n",
              "    <tr>\n",
              "      <th>23</th>\n",
              "      <td>1</td>\n",
              "      <td>24</td>\n",
              "      <td>-0.0006</td>\n",
              "      <td>-0.0001</td>\n",
              "      <td>100.0</td>\n",
              "      <td>518.67</td>\n",
              "      <td>642.32</td>\n",
              "      <td>1594.29</td>\n",
              "      <td>1400.15</td>\n",
              "      <td>14.62</td>\n",
              "      <td>...</td>\n",
              "      <td>522.06</td>\n",
              "      <td>2388.12</td>\n",
              "      <td>8130.70</td>\n",
              "      <td>8.4074</td>\n",
              "      <td>0.03</td>\n",
              "      <td>393</td>\n",
              "      <td>2388</td>\n",
              "      <td>100.0</td>\n",
              "      <td>38.94</td>\n",
              "      <td>23.3971</td>\n",
              "    </tr>\n",
              "    <tr>\n",
              "      <th>24</th>\n",
              "      <td>1</td>\n",
              "      <td>25</td>\n",
              "      <td>0.0028</td>\n",
              "      <td>-0.0003</td>\n",
              "      <td>100.0</td>\n",
              "      <td>518.67</td>\n",
              "      <td>642.25</td>\n",
              "      <td>1582.43</td>\n",
              "      <td>1400.23</td>\n",
              "      <td>14.62</td>\n",
              "      <td>...</td>\n",
              "      <td>522.26</td>\n",
              "      <td>2388.08</td>\n",
              "      <td>8128.65</td>\n",
              "      <td>8.4007</td>\n",
              "      <td>0.03</td>\n",
              "      <td>393</td>\n",
              "      <td>2388</td>\n",
              "      <td>100.0</td>\n",
              "      <td>38.96</td>\n",
              "      <td>23.3785</td>\n",
              "    </tr>\n",
              "    <tr>\n",
              "      <th>25</th>\n",
              "      <td>1</td>\n",
              "      <td>26</td>\n",
              "      <td>0.0047</td>\n",
              "      <td>-0.0005</td>\n",
              "      <td>100.0</td>\n",
              "      <td>518.67</td>\n",
              "      <td>642.48</td>\n",
              "      <td>1583.28</td>\n",
              "      <td>1408.07</td>\n",
              "      <td>14.62</td>\n",
              "      <td>...</td>\n",
              "      <td>521.95</td>\n",
              "      <td>2388.07</td>\n",
              "      <td>8129.12</td>\n",
              "      <td>8.3949</td>\n",
              "      <td>0.03</td>\n",
              "      <td>391</td>\n",
              "      <td>2388</td>\n",
              "      <td>100.0</td>\n",
              "      <td>38.77</td>\n",
              "      <td>23.3557</td>\n",
              "    </tr>\n",
              "    <tr>\n",
              "      <th>26</th>\n",
              "      <td>1</td>\n",
              "      <td>27</td>\n",
              "      <td>-0.0007</td>\n",
              "      <td>0.0001</td>\n",
              "      <td>100.0</td>\n",
              "      <td>518.67</td>\n",
              "      <td>642.08</td>\n",
              "      <td>1586.65</td>\n",
              "      <td>1400.31</td>\n",
              "      <td>14.62</td>\n",
              "      <td>...</td>\n",
              "      <td>521.82</td>\n",
              "      <td>2388.02</td>\n",
              "      <td>8127.24</td>\n",
              "      <td>8.4494</td>\n",
              "      <td>0.03</td>\n",
              "      <td>392</td>\n",
              "      <td>2388</td>\n",
              "      <td>100.0</td>\n",
              "      <td>38.87</td>\n",
              "      <td>23.3931</td>\n",
              "    </tr>\n",
              "    <tr>\n",
              "      <th>27</th>\n",
              "      <td>1</td>\n",
              "      <td>28</td>\n",
              "      <td>0.0022</td>\n",
              "      <td>0.0005</td>\n",
              "      <td>100.0</td>\n",
              "      <td>518.67</td>\n",
              "      <td>641.93</td>\n",
              "      <td>1594.25</td>\n",
              "      <td>1401.29</td>\n",
              "      <td>14.62</td>\n",
              "      <td>...</td>\n",
              "      <td>521.84</td>\n",
              "      <td>2388.07</td>\n",
              "      <td>8134.89</td>\n",
              "      <td>8.4470</td>\n",
              "      <td>0.03</td>\n",
              "      <td>392</td>\n",
              "      <td>2388</td>\n",
              "      <td>100.0</td>\n",
              "      <td>38.83</td>\n",
              "      <td>23.3502</td>\n",
              "    </tr>\n",
              "    <tr>\n",
              "      <th>28</th>\n",
              "      <td>1</td>\n",
              "      <td>29</td>\n",
              "      <td>0.0014</td>\n",
              "      <td>0.0001</td>\n",
              "      <td>100.0</td>\n",
              "      <td>518.67</td>\n",
              "      <td>641.95</td>\n",
              "      <td>1587.15</td>\n",
              "      <td>1398.11</td>\n",
              "      <td>14.62</td>\n",
              "      <td>...</td>\n",
              "      <td>522.39</td>\n",
              "      <td>2388.07</td>\n",
              "      <td>8133.13</td>\n",
              "      <td>8.4212</td>\n",
              "      <td>0.03</td>\n",
              "      <td>392</td>\n",
              "      <td>2388</td>\n",
              "      <td>100.0</td>\n",
              "      <td>39.02</td>\n",
              "      <td>23.3621</td>\n",
              "    </tr>\n",
              "    <tr>\n",
              "      <th>29</th>\n",
              "      <td>1</td>\n",
              "      <td>30</td>\n",
              "      <td>-0.0025</td>\n",
              "      <td>0.0004</td>\n",
              "      <td>100.0</td>\n",
              "      <td>518.67</td>\n",
              "      <td>642.79</td>\n",
              "      <td>1585.72</td>\n",
              "      <td>1400.97</td>\n",
              "      <td>14.62</td>\n",
              "      <td>...</td>\n",
              "      <td>521.78</td>\n",
              "      <td>2388.10</td>\n",
              "      <td>8134.79</td>\n",
              "      <td>8.4110</td>\n",
              "      <td>0.03</td>\n",
              "      <td>391</td>\n",
              "      <td>2388</td>\n",
              "      <td>100.0</td>\n",
              "      <td>39.09</td>\n",
              "      <td>23.4069</td>\n",
              "    </tr>\n",
              "    <tr>\n",
              "      <th>30</th>\n",
              "      <td>1</td>\n",
              "      <td>31</td>\n",
              "      <td>-0.0006</td>\n",
              "      <td>0.0004</td>\n",
              "      <td>100.0</td>\n",
              "      <td>518.67</td>\n",
              "      <td>642.58</td>\n",
              "      <td>1581.22</td>\n",
              "      <td>1398.91</td>\n",
              "      <td>14.62</td>\n",
              "      <td>...</td>\n",
              "      <td>521.79</td>\n",
              "      <td>2388.06</td>\n",
              "      <td>8130.11</td>\n",
              "      <td>8.4024</td>\n",
              "      <td>0.03</td>\n",
              "      <td>393</td>\n",
              "      <td>2388</td>\n",
              "      <td>100.0</td>\n",
              "      <td>38.81</td>\n",
              "      <td>23.3552</td>\n",
              "    </tr>\n",
              "  </tbody>\n",
              "</table>\n",
              "<p>31 rows × 26 columns</p>\n",
              "</div>"
            ],
            "text/plain": [
              "    id  cycle  setting1  setting2  setting3      s1      s2       s3       s4  \\\n",
              "0    1      1    0.0023    0.0003     100.0  518.67  643.02  1585.29  1398.21   \n",
              "1    1      2   -0.0027   -0.0003     100.0  518.67  641.71  1588.45  1395.42   \n",
              "2    1      3    0.0003    0.0001     100.0  518.67  642.46  1586.94  1401.34   \n",
              "3    1      4    0.0042    0.0000     100.0  518.67  642.44  1584.12  1406.42   \n",
              "4    1      5    0.0014    0.0000     100.0  518.67  642.51  1587.19  1401.92   \n",
              "5    1      6    0.0012    0.0003     100.0  518.67  642.11  1579.12  1395.13   \n",
              "6    1      7   -0.0000    0.0002     100.0  518.67  642.11  1583.34  1404.84   \n",
              "7    1      8    0.0006   -0.0000     100.0  518.67  642.54  1580.89  1400.89   \n",
              "8    1      9   -0.0036    0.0000     100.0  518.67  641.88  1593.29  1412.28   \n",
              "9    1     10   -0.0025   -0.0001     100.0  518.67  642.07  1585.25  1398.64   \n",
              "10   1     11    0.0007   -0.0004     100.0  518.67  642.04  1581.03  1403.83   \n",
              "11   1     12    0.0026    0.0003     100.0  518.67  642.54  1587.43  1397.82   \n",
              "12   1     13   -0.0056    0.0003     100.0  518.67  641.94  1589.09  1403.94   \n",
              "13   1     14    0.0017   -0.0004     100.0  518.67  642.23  1583.16  1402.88   \n",
              "14   1     15   -0.0003   -0.0003     100.0  518.67  642.50  1584.81  1398.79   \n",
              "15   1     16   -0.0018    0.0003     100.0  518.67  642.32  1584.51  1407.76   \n",
              "16   1     17    0.0014    0.0002     100.0  518.67  642.19  1582.70  1404.12   \n",
              "17   1     18    0.0035    0.0001     100.0  518.67  642.59  1586.53  1403.69   \n",
              "18   1     19    0.0029    0.0001     100.0  518.67  642.43  1585.58  1402.30   \n",
              "19   1     20    0.0011   -0.0001     100.0  518.67  642.61  1587.78  1400.70   \n",
              "20   1     21    0.0038   -0.0002     100.0  518.67  642.70  1583.30  1399.20   \n",
              "21   1     22    0.0012    0.0001     100.0  518.67  642.45  1582.78  1404.06   \n",
              "22   1     23    0.0009   -0.0000     100.0  518.67  642.12  1587.51  1395.09   \n",
              "23   1     24   -0.0006   -0.0001     100.0  518.67  642.32  1594.29  1400.15   \n",
              "24   1     25    0.0028   -0.0003     100.0  518.67  642.25  1582.43  1400.23   \n",
              "25   1     26    0.0047   -0.0005     100.0  518.67  642.48  1583.28  1408.07   \n",
              "26   1     27   -0.0007    0.0001     100.0  518.67  642.08  1586.65  1400.31   \n",
              "27   1     28    0.0022    0.0005     100.0  518.67  641.93  1594.25  1401.29   \n",
              "28   1     29    0.0014    0.0001     100.0  518.67  641.95  1587.15  1398.11   \n",
              "29   1     30   -0.0025    0.0004     100.0  518.67  642.79  1585.72  1400.97   \n",
              "30   1     31   -0.0006    0.0004     100.0  518.67  642.58  1581.22  1398.91   \n",
              "\n",
              "       s5   ...        s12      s13      s14     s15   s16  s17   s18    s19  \\\n",
              "0   14.62   ...     521.72  2388.03  8125.55  8.4052  0.03  392  2388  100.0   \n",
              "1   14.62   ...     522.16  2388.06  8139.62  8.3803  0.03  393  2388  100.0   \n",
              "2   14.62   ...     521.97  2388.03  8130.10  8.4441  0.03  393  2388  100.0   \n",
              "3   14.62   ...     521.38  2388.05  8132.90  8.3917  0.03  391  2388  100.0   \n",
              "4   14.62   ...     522.15  2388.03  8129.54  8.4031  0.03  390  2388  100.0   \n",
              "5   14.62   ...     521.92  2388.08  8127.46  8.4238  0.03  392  2388  100.0   \n",
              "6   14.62   ...     522.01  2388.06  8134.97  8.3914  0.03  391  2388  100.0   \n",
              "7   14.62   ...     522.09  2388.06  8125.93  8.4213  0.03  393  2388  100.0   \n",
              "8   14.62   ...     522.03  2388.05  8134.15  8.4353  0.03  391  2388  100.0   \n",
              "9   14.62   ...     522.00  2388.06  8134.08  8.4093  0.03  391  2388  100.0   \n",
              "10  14.62   ...     521.95  2388.06  8132.38  8.3919  0.03  391  2388  100.0   \n",
              "11  14.62   ...     522.01  2388.06  8132.33  8.3984  0.03  391  2388  100.0   \n",
              "12  14.62   ...     522.37  2388.03  8131.12  8.4166  0.03  392  2388  100.0   \n",
              "13  14.62   ...     521.95  2388.06  8130.30  8.4293  0.03  392  2388  100.0   \n",
              "14  14.62   ...     521.38  2388.00  8133.62  8.4163  0.03  392  2388  100.0   \n",
              "15  14.62   ...     522.16  2388.10  8133.83  8.4300  0.03  390  2388  100.0   \n",
              "16  14.62   ...     522.09  2388.02  8126.78  8.4577  0.03  391  2388  100.0   \n",
              "17  14.62   ...     522.14  2388.06  8133.22  8.4323  0.03  391  2388  100.0   \n",
              "18  14.62   ...     522.06  2388.01  8129.31  8.3892  0.03  391  2388  100.0   \n",
              "19  14.62   ...     522.28  2388.05  8128.59  8.4099  0.03  392  2388  100.0   \n",
              "20  14.62   ...     522.05  2388.11  8126.86  8.4174  0.03  392  2388  100.0   \n",
              "21  14.62   ...     521.41  2388.04  8128.89  8.4557  0.03  392  2388  100.0   \n",
              "22  14.62   ...     522.00  2388.06  8130.97  8.4116  0.03  393  2388  100.0   \n",
              "23  14.62   ...     522.06  2388.12  8130.70  8.4074  0.03  393  2388  100.0   \n",
              "24  14.62   ...     522.26  2388.08  8128.65  8.4007  0.03  393  2388  100.0   \n",
              "25  14.62   ...     521.95  2388.07  8129.12  8.3949  0.03  391  2388  100.0   \n",
              "26  14.62   ...     521.82  2388.02  8127.24  8.4494  0.03  392  2388  100.0   \n",
              "27  14.62   ...     521.84  2388.07  8134.89  8.4470  0.03  392  2388  100.0   \n",
              "28  14.62   ...     522.39  2388.07  8133.13  8.4212  0.03  392  2388  100.0   \n",
              "29  14.62   ...     521.78  2388.10  8134.79  8.4110  0.03  391  2388  100.0   \n",
              "30  14.62   ...     521.79  2388.06  8130.11  8.4024  0.03  393  2388  100.0   \n",
              "\n",
              "      s20      s21  \n",
              "0   38.86  23.3735  \n",
              "1   39.02  23.3916  \n",
              "2   39.08  23.4166  \n",
              "3   39.00  23.3737  \n",
              "4   38.99  23.4130  \n",
              "5   38.91  23.3467  \n",
              "6   38.85  23.3952  \n",
              "7   39.05  23.3224  \n",
              "8   39.10  23.4521  \n",
              "9   38.87  23.3820  \n",
              "10  39.06  23.3609  \n",
              "11  39.11  23.3845  \n",
              "12  39.08  23.3677  \n",
              "13  39.03  23.4572  \n",
              "14  39.04  23.3672  \n",
              "15  38.87  23.3484  \n",
              "16  39.09  23.3409  \n",
              "17  38.96  23.4481  \n",
              "18  39.06  23.3809  \n",
              "19  39.00  23.3325  \n",
              "20  38.96  23.4025  \n",
              "21  38.94  23.3770  \n",
              "22  39.10  23.3186  \n",
              "23  38.94  23.3971  \n",
              "24  38.96  23.3785  \n",
              "25  38.77  23.3557  \n",
              "26  38.87  23.3931  \n",
              "27  38.83  23.3502  \n",
              "28  39.02  23.3621  \n",
              "29  39.09  23.4069  \n",
              "30  38.81  23.3552  \n",
              "\n",
              "[31 rows x 26 columns]"
            ]
          },
          "metadata": {
            "tags": []
          },
          "execution_count": 7
        }
      ]
    },
    {
      "cell_type": "markdown",
      "metadata": {
        "id": "pZCc0aRpm2iX",
        "colab_type": "text"
      },
      "source": [
        "## Feature engineering (pre-processing)"
      ]
    },
    {
      "cell_type": "markdown",
      "metadata": {
        "id": "4vZ9Fq0sm2iY",
        "colab_type": "text"
      },
      "source": [
        "### Training Set"
      ]
    },
    {
      "cell_type": "markdown",
      "metadata": {
        "id": "-mZtrU1zm2iZ",
        "colab_type": "text"
      },
      "source": [
        "Let us add to the training table a column indicating, for each cycle, how many remaining cycle we must wait before the engine fails.\n",
        "RUL stands for Remaining Useful Life."
      ]
    },
    {
      "cell_type": "code",
      "metadata": {
        "scrolled": true,
        "id": "vQfUQ6ttm2if",
        "colab_type": "code",
        "colab": {},
        "outputId": "d36c74c9-9de0-49be-8d6e-2a82b352f083"
      },
      "source": [
        "failing_cycle = \\\n",
        "   pd.DataFrame(train_df.groupby('id')['cycle'].max() )\n",
        "\n",
        "# reset_index is needed to make the following merge \n",
        "# operation work\n",
        "failing_cycle = failing_cycle.reset_index()\n",
        "failing_cycle.columns = ['id', 'max']\n",
        "train_df_aug = train_df.merge(failing_cycle, on=['id'], \n",
        "                          how='left')\n",
        "train_df_aug['RUL'] = train_df_aug['max'] - \\\n",
        "    train_df_aug['cycle']\n",
        "train_df_aug.drop('max', axis=1, inplace=True)\n",
        "train_df_aug.head()"
      ],
      "execution_count": 0,
      "outputs": [
        {
          "output_type": "execute_result",
          "data": {
            "text/html": [
              "<div>\n",
              "<style scoped>\n",
              "    .dataframe tbody tr th:only-of-type {\n",
              "        vertical-align: middle;\n",
              "    }\n",
              "\n",
              "    .dataframe tbody tr th {\n",
              "        vertical-align: top;\n",
              "    }\n",
              "\n",
              "    .dataframe thead th {\n",
              "        text-align: right;\n",
              "    }\n",
              "</style>\n",
              "<table border=\"1\" class=\"dataframe\">\n",
              "  <thead>\n",
              "    <tr style=\"text-align: right;\">\n",
              "      <th></th>\n",
              "      <th>id</th>\n",
              "      <th>cycle</th>\n",
              "      <th>setting1</th>\n",
              "      <th>setting2</th>\n",
              "      <th>setting3</th>\n",
              "      <th>s1</th>\n",
              "      <th>s2</th>\n",
              "      <th>s3</th>\n",
              "      <th>s4</th>\n",
              "      <th>s5</th>\n",
              "      <th>...</th>\n",
              "      <th>s13</th>\n",
              "      <th>s14</th>\n",
              "      <th>s15</th>\n",
              "      <th>s16</th>\n",
              "      <th>s17</th>\n",
              "      <th>s18</th>\n",
              "      <th>s19</th>\n",
              "      <th>s20</th>\n",
              "      <th>s21</th>\n",
              "      <th>RUL</th>\n",
              "    </tr>\n",
              "  </thead>\n",
              "  <tbody>\n",
              "    <tr>\n",
              "      <th>0</th>\n",
              "      <td>1</td>\n",
              "      <td>1</td>\n",
              "      <td>-0.0007</td>\n",
              "      <td>-0.0004</td>\n",
              "      <td>100.0</td>\n",
              "      <td>518.67</td>\n",
              "      <td>641.82</td>\n",
              "      <td>1589.70</td>\n",
              "      <td>1400.60</td>\n",
              "      <td>14.62</td>\n",
              "      <td>...</td>\n",
              "      <td>2388.02</td>\n",
              "      <td>8138.62</td>\n",
              "      <td>8.4195</td>\n",
              "      <td>0.03</td>\n",
              "      <td>392</td>\n",
              "      <td>2388</td>\n",
              "      <td>100.0</td>\n",
              "      <td>39.06</td>\n",
              "      <td>23.4190</td>\n",
              "      <td>191</td>\n",
              "    </tr>\n",
              "    <tr>\n",
              "      <th>1</th>\n",
              "      <td>1</td>\n",
              "      <td>2</td>\n",
              "      <td>0.0019</td>\n",
              "      <td>-0.0003</td>\n",
              "      <td>100.0</td>\n",
              "      <td>518.67</td>\n",
              "      <td>642.15</td>\n",
              "      <td>1591.82</td>\n",
              "      <td>1403.14</td>\n",
              "      <td>14.62</td>\n",
              "      <td>...</td>\n",
              "      <td>2388.07</td>\n",
              "      <td>8131.49</td>\n",
              "      <td>8.4318</td>\n",
              "      <td>0.03</td>\n",
              "      <td>392</td>\n",
              "      <td>2388</td>\n",
              "      <td>100.0</td>\n",
              "      <td>39.00</td>\n",
              "      <td>23.4236</td>\n",
              "      <td>190</td>\n",
              "    </tr>\n",
              "    <tr>\n",
              "      <th>2</th>\n",
              "      <td>1</td>\n",
              "      <td>3</td>\n",
              "      <td>-0.0043</td>\n",
              "      <td>0.0003</td>\n",
              "      <td>100.0</td>\n",
              "      <td>518.67</td>\n",
              "      <td>642.35</td>\n",
              "      <td>1587.99</td>\n",
              "      <td>1404.20</td>\n",
              "      <td>14.62</td>\n",
              "      <td>...</td>\n",
              "      <td>2388.03</td>\n",
              "      <td>8133.23</td>\n",
              "      <td>8.4178</td>\n",
              "      <td>0.03</td>\n",
              "      <td>390</td>\n",
              "      <td>2388</td>\n",
              "      <td>100.0</td>\n",
              "      <td>38.95</td>\n",
              "      <td>23.3442</td>\n",
              "      <td>189</td>\n",
              "    </tr>\n",
              "    <tr>\n",
              "      <th>3</th>\n",
              "      <td>1</td>\n",
              "      <td>4</td>\n",
              "      <td>0.0007</td>\n",
              "      <td>0.0000</td>\n",
              "      <td>100.0</td>\n",
              "      <td>518.67</td>\n",
              "      <td>642.35</td>\n",
              "      <td>1582.79</td>\n",
              "      <td>1401.87</td>\n",
              "      <td>14.62</td>\n",
              "      <td>...</td>\n",
              "      <td>2388.08</td>\n",
              "      <td>8133.83</td>\n",
              "      <td>8.3682</td>\n",
              "      <td>0.03</td>\n",
              "      <td>392</td>\n",
              "      <td>2388</td>\n",
              "      <td>100.0</td>\n",
              "      <td>38.88</td>\n",
              "      <td>23.3739</td>\n",
              "      <td>188</td>\n",
              "    </tr>\n",
              "    <tr>\n",
              "      <th>4</th>\n",
              "      <td>1</td>\n",
              "      <td>5</td>\n",
              "      <td>-0.0019</td>\n",
              "      <td>-0.0002</td>\n",
              "      <td>100.0</td>\n",
              "      <td>518.67</td>\n",
              "      <td>642.37</td>\n",
              "      <td>1582.85</td>\n",
              "      <td>1406.22</td>\n",
              "      <td>14.62</td>\n",
              "      <td>...</td>\n",
              "      <td>2388.04</td>\n",
              "      <td>8133.80</td>\n",
              "      <td>8.4294</td>\n",
              "      <td>0.03</td>\n",
              "      <td>393</td>\n",
              "      <td>2388</td>\n",
              "      <td>100.0</td>\n",
              "      <td>38.90</td>\n",
              "      <td>23.4044</td>\n",
              "      <td>187</td>\n",
              "    </tr>\n",
              "  </tbody>\n",
              "</table>\n",
              "<p>5 rows × 27 columns</p>\n",
              "</div>"
            ],
            "text/plain": [
              "   id  cycle  setting1  setting2  setting3      s1      s2       s3       s4  \\\n",
              "0   1      1   -0.0007   -0.0004     100.0  518.67  641.82  1589.70  1400.60   \n",
              "1   1      2    0.0019   -0.0003     100.0  518.67  642.15  1591.82  1403.14   \n",
              "2   1      3   -0.0043    0.0003     100.0  518.67  642.35  1587.99  1404.20   \n",
              "3   1      4    0.0007    0.0000     100.0  518.67  642.35  1582.79  1401.87   \n",
              "4   1      5   -0.0019   -0.0002     100.0  518.67  642.37  1582.85  1406.22   \n",
              "\n",
              "      s5 ...       s13      s14     s15   s16  s17   s18    s19    s20  \\\n",
              "0  14.62 ...   2388.02  8138.62  8.4195  0.03  392  2388  100.0  39.06   \n",
              "1  14.62 ...   2388.07  8131.49  8.4318  0.03  392  2388  100.0  39.00   \n",
              "2  14.62 ...   2388.03  8133.23  8.4178  0.03  390  2388  100.0  38.95   \n",
              "3  14.62 ...   2388.08  8133.83  8.3682  0.03  392  2388  100.0  38.88   \n",
              "4  14.62 ...   2388.04  8133.80  8.4294  0.03  393  2388  100.0  38.90   \n",
              "\n",
              "       s21  RUL  \n",
              "0  23.4190  191  \n",
              "1  23.4236  190  \n",
              "2  23.3442  189  \n",
              "3  23.3739  188  \n",
              "4  23.4044  187  \n",
              "\n",
              "[5 rows x 27 columns]"
            ]
          },
          "metadata": {
            "tags": []
          },
          "execution_count": 8
        }
      ]
    },
    {
      "cell_type": "markdown",
      "metadata": {
        "id": "rsbt7Vqcm2il",
        "colab_type": "text"
      },
      "source": [
        "We add a bynary label \"label 1\" indicating whether the engine is going to fail within the next w1 cycles."
      ]
    },
    {
      "cell_type": "code",
      "metadata": {
        "scrolled": false,
        "id": "VSFjWhhgm2in",
        "colab_type": "code",
        "colab": {},
        "outputId": "f59dd212-20a6-440d-e1b6-efde5bfbf875"
      },
      "source": [
        "w1 = 30\n",
        "train_df_aug['label1'] = \\\n",
        "    np.where(train_df_aug['RUL'] <= w1, 1, 0 )\n",
        "\n",
        "selection = train_df_aug[train_df_aug['id']==1 ]\n",
        "selection[['cycle','RUL','label1']].head()"
      ],
      "execution_count": 0,
      "outputs": [
        {
          "output_type": "execute_result",
          "data": {
            "text/html": [
              "<div>\n",
              "<style scoped>\n",
              "    .dataframe tbody tr th:only-of-type {\n",
              "        vertical-align: middle;\n",
              "    }\n",
              "\n",
              "    .dataframe tbody tr th {\n",
              "        vertical-align: top;\n",
              "    }\n",
              "\n",
              "    .dataframe thead th {\n",
              "        text-align: right;\n",
              "    }\n",
              "</style>\n",
              "<table border=\"1\" class=\"dataframe\">\n",
              "  <thead>\n",
              "    <tr style=\"text-align: right;\">\n",
              "      <th></th>\n",
              "      <th>cycle</th>\n",
              "      <th>RUL</th>\n",
              "      <th>label1</th>\n",
              "    </tr>\n",
              "  </thead>\n",
              "  <tbody>\n",
              "    <tr>\n",
              "      <th>0</th>\n",
              "      <td>1</td>\n",
              "      <td>191</td>\n",
              "      <td>0</td>\n",
              "    </tr>\n",
              "    <tr>\n",
              "      <th>1</th>\n",
              "      <td>2</td>\n",
              "      <td>190</td>\n",
              "      <td>0</td>\n",
              "    </tr>\n",
              "    <tr>\n",
              "      <th>2</th>\n",
              "      <td>3</td>\n",
              "      <td>189</td>\n",
              "      <td>0</td>\n",
              "    </tr>\n",
              "    <tr>\n",
              "      <th>3</th>\n",
              "      <td>4</td>\n",
              "      <td>188</td>\n",
              "      <td>0</td>\n",
              "    </tr>\n",
              "    <tr>\n",
              "      <th>4</th>\n",
              "      <td>5</td>\n",
              "      <td>187</td>\n",
              "      <td>0</td>\n",
              "    </tr>\n",
              "  </tbody>\n",
              "</table>\n",
              "</div>"
            ],
            "text/plain": [
              "   cycle  RUL  label1\n",
              "0      1  191       0\n",
              "1      2  190       0\n",
              "2      3  189       0\n",
              "3      4  188       0\n",
              "4      5  187       0"
            ]
          },
          "metadata": {
            "tags": []
          },
          "execution_count": 9
        }
      ]
    },
    {
      "cell_type": "markdown",
      "metadata": {
        "id": "Yn0LGEj0m2ir",
        "colab_type": "text"
      },
      "source": [
        "#### Normalize"
      ]
    },
    {
      "cell_type": "markdown",
      "metadata": {
        "id": "SEOwM_sOm2is",
        "colab_type": "text"
      },
      "source": [
        "We normalize the measures, to avoid that one monopolizes and biases the results. We normalize everything except id, cycles, label1, RUL"
      ]
    },
    {
      "cell_type": "code",
      "metadata": {
        "id": "RXYbW3ogm2iu",
        "colab_type": "code",
        "colab": {}
      },
      "source": [
        "cols_to_normalize = \\\n",
        "    train_df.columns.difference(['id','cycle','RUL','label1'])\n",
        "min_max_scaler = preprocessing.MinMaxScaler()\n",
        "norm_train_df = pd.DataFrame(min_max_scaler.fit_transform(train_df_aug[cols_to_normalize]), \n",
        "                             columns=cols_to_normalize, \n",
        "                             index=train_df_aug.index)\n",
        "the_rest_of_train_df = \\\n",
        "    train_df_aug[train_df_aug.columns.difference(cols_to_normalize)]\n",
        "\n",
        "\n",
        "# Since the_rest_of_train_df and norm_train_df have the same\n",
        "# index, we can join them and be sure that the values of \n",
        "# each row across columns will be correct\n",
        "join_df = the_rest_of_train_df.join(norm_train_df)\n",
        "\n",
        "# At this point, the order of columns has changed. We reset\n",
        "# it as in the original dataframe\n",
        "train_df_norm = join_df.reindex(columns = train_df_aug.columns)\n"
      ],
      "execution_count": 0,
      "outputs": []
    },
    {
      "cell_type": "markdown",
      "metadata": {
        "id": "annLDB-7m2iz",
        "colab_type": "text"
      },
      "source": [
        "### Test set"
      ]
    },
    {
      "cell_type": "markdown",
      "metadata": {
        "id": "_v7xEDz1m2i0",
        "colab_type": "text"
      },
      "source": [
        "The engines in the test set are different than the engines in the training set, even if they have the same id.\n",
        "The test data will be obtained from the test file together with the ground truth file"
      ]
    },
    {
      "cell_type": "markdown",
      "metadata": {
        "id": "76bZhKNUm2i1",
        "colab_type": "text"
      },
      "source": [
        "#### Normalize"
      ]
    },
    {
      "cell_type": "code",
      "metadata": {
        "scrolled": true,
        "id": "LB7zPaqSm2i2",
        "colab_type": "code",
        "colab": {}
      },
      "source": [
        "norm_test_df = pd.DataFrame(min_max_scaler.transform(test_df[cols_to_normalize]), \n",
        "                            columns=cols_to_normalize, \n",
        "                            index=test_df.index)\n",
        "test_join_df = \\\n",
        "    test_df[test_df.columns.difference(cols_to_normalize)].join(norm_test_df)\n",
        "\n",
        "# Reorder columns\n",
        "test_df_norm = test_join_df.reindex(columns = test_df.columns)\n"
      ],
      "execution_count": 0,
      "outputs": []
    },
    {
      "cell_type": "markdown",
      "metadata": {
        "id": "DtKwRo7Em2i8",
        "colab_type": "text"
      },
      "source": [
        "#### Other processing"
      ]
    },
    {
      "cell_type": "markdown",
      "metadata": {
        "id": "ccO4A3Xtm2i9",
        "colab_type": "text"
      },
      "source": [
        "We create the test dataset, by adding to each row the RUL. \n",
        "Before doing that, let us see what is the cycle in which each of the engines in the test set fails"
      ]
    },
    {
      "cell_type": "code",
      "metadata": {
        "scrolled": true,
        "id": "B03m9-r0m2i9",
        "colab_type": "code",
        "colab": {}
      },
      "source": [
        "last_measurement = \\\n",
        "    pd.DataFrame(test_df.groupby('id')['cycle'].max()).reset_index()\n",
        "last_measurement.columns = ['id','max']\n",
        "\n",
        "truth_df.columns = ['remaining_life']\n",
        "truth_df_aug = truth_df.copy(deep=True)\n",
        "truth_df_aug['id'] = truth_df.index + 1\n",
        "truth_df_aug['fail_cycle'] = \\\n",
        "    last_measurement['max']+truth_df['remaining_life']"
      ],
      "execution_count": 0,
      "outputs": []
    },
    {
      "cell_type": "markdown",
      "metadata": {
        "id": "tdE9QJ_Sm2jC",
        "colab_type": "text"
      },
      "source": [
        "For further consistency checks, let us collect what are the engines that fail before w1"
      ]
    },
    {
      "cell_type": "code",
      "metadata": {
        "id": "3TKLCKThm2jD",
        "colab_type": "code",
        "colab": {},
        "outputId": "2bcc71e4-f20c-4af1-c980-72fe90476895"
      },
      "source": [
        "failing_test_eng = truth_df_aug[truth_df_aug['remaining_life']<w1]\n",
        "failing_test_eng = failing_test_eng['id'].values\n",
        "failing_test_eng"
      ],
      "execution_count": 0,
      "outputs": [
        {
          "output_type": "execute_result",
          "data": {
            "text/plain": [
              "array([ 18,  20,  24,  31,  34,  35,  36,  37,  40,  41,  42,  49,  52,\n",
              "        53,  56,  61,  64,  66,  68,  76,  81,  82,  90,  92, 100])"
            ]
          },
          "metadata": {
            "tags": []
          },
          "execution_count": 13
        }
      ]
    },
    {
      "cell_type": "code",
      "metadata": {
        "id": "A5spiRWRm2jH",
        "colab_type": "code",
        "colab": {},
        "outputId": "768a4fdc-dd5b-468f-c978-08ab9ff2fb6d"
      },
      "source": [
        "truth_df_aug.drop('remaining_life', axis=1, inplace=True)\n",
        "truth_df_aug.head()\n"
      ],
      "execution_count": 0,
      "outputs": [
        {
          "output_type": "execute_result",
          "data": {
            "text/html": [
              "<div>\n",
              "<style scoped>\n",
              "    .dataframe tbody tr th:only-of-type {\n",
              "        vertical-align: middle;\n",
              "    }\n",
              "\n",
              "    .dataframe tbody tr th {\n",
              "        vertical-align: top;\n",
              "    }\n",
              "\n",
              "    .dataframe thead th {\n",
              "        text-align: right;\n",
              "    }\n",
              "</style>\n",
              "<table border=\"1\" class=\"dataframe\">\n",
              "  <thead>\n",
              "    <tr style=\"text-align: right;\">\n",
              "      <th></th>\n",
              "      <th>id</th>\n",
              "      <th>fail_cycle</th>\n",
              "    </tr>\n",
              "  </thead>\n",
              "  <tbody>\n",
              "    <tr>\n",
              "      <th>0</th>\n",
              "      <td>1</td>\n",
              "      <td>143</td>\n",
              "    </tr>\n",
              "    <tr>\n",
              "      <th>1</th>\n",
              "      <td>2</td>\n",
              "      <td>147</td>\n",
              "    </tr>\n",
              "    <tr>\n",
              "      <th>2</th>\n",
              "      <td>3</td>\n",
              "      <td>195</td>\n",
              "    </tr>\n",
              "    <tr>\n",
              "      <th>3</th>\n",
              "      <td>4</td>\n",
              "      <td>188</td>\n",
              "    </tr>\n",
              "    <tr>\n",
              "      <th>4</th>\n",
              "      <td>5</td>\n",
              "      <td>189</td>\n",
              "    </tr>\n",
              "  </tbody>\n",
              "</table>\n",
              "</div>"
            ],
            "text/plain": [
              "   id  fail_cycle\n",
              "0   1         143\n",
              "1   2         147\n",
              "2   3         195\n",
              "3   4         188\n",
              "4   5         189"
            ]
          },
          "metadata": {
            "tags": []
          },
          "execution_count": 14
        }
      ]
    },
    {
      "cell_type": "markdown",
      "metadata": {
        "id": "xVO49L73m2jL",
        "colab_type": "text"
      },
      "source": [
        "Now, we can assign the RUL to each engine for each cycle"
      ]
    },
    {
      "cell_type": "code",
      "metadata": {
        "scrolled": true,
        "id": "oNoW0Ot5m2jL",
        "colab_type": "code",
        "colab": {},
        "outputId": "7a230b3f-6ee4-4210-e4a3-11edd656a8a6"
      },
      "source": [
        "test_df_merged = test_df_norm.merge(truth_df_aug, on=['id'],\\\n",
        "                                   how='left')\n",
        "test_df_merged['RUL'] = \\\n",
        "    test_df_merged['fail_cycle']-test_df_merged['cycle']\n",
        "test_df_merged.drop('fail_cycle', axis=1,inplace=True)\n",
        "test_df_merged.head()"
      ],
      "execution_count": 0,
      "outputs": [
        {
          "output_type": "execute_result",
          "data": {
            "text/html": [
              "<div>\n",
              "<style scoped>\n",
              "    .dataframe tbody tr th:only-of-type {\n",
              "        vertical-align: middle;\n",
              "    }\n",
              "\n",
              "    .dataframe tbody tr th {\n",
              "        vertical-align: top;\n",
              "    }\n",
              "\n",
              "    .dataframe thead th {\n",
              "        text-align: right;\n",
              "    }\n",
              "</style>\n",
              "<table border=\"1\" class=\"dataframe\">\n",
              "  <thead>\n",
              "    <tr style=\"text-align: right;\">\n",
              "      <th></th>\n",
              "      <th>id</th>\n",
              "      <th>cycle</th>\n",
              "      <th>setting1</th>\n",
              "      <th>setting2</th>\n",
              "      <th>setting3</th>\n",
              "      <th>s1</th>\n",
              "      <th>s2</th>\n",
              "      <th>s3</th>\n",
              "      <th>s4</th>\n",
              "      <th>s5</th>\n",
              "      <th>...</th>\n",
              "      <th>s13</th>\n",
              "      <th>s14</th>\n",
              "      <th>s15</th>\n",
              "      <th>s16</th>\n",
              "      <th>s17</th>\n",
              "      <th>s18</th>\n",
              "      <th>s19</th>\n",
              "      <th>s20</th>\n",
              "      <th>s21</th>\n",
              "      <th>RUL</th>\n",
              "    </tr>\n",
              "  </thead>\n",
              "  <tbody>\n",
              "    <tr>\n",
              "      <th>0</th>\n",
              "      <td>1</td>\n",
              "      <td>1</td>\n",
              "      <td>0.632184</td>\n",
              "      <td>0.750000</td>\n",
              "      <td>0.0</td>\n",
              "      <td>0.0</td>\n",
              "      <td>0.545181</td>\n",
              "      <td>0.310661</td>\n",
              "      <td>0.269413</td>\n",
              "      <td>0.0</td>\n",
              "      <td>...</td>\n",
              "      <td>0.220588</td>\n",
              "      <td>0.132160</td>\n",
              "      <td>0.308965</td>\n",
              "      <td>0.0</td>\n",
              "      <td>0.333333</td>\n",
              "      <td>0.0</td>\n",
              "      <td>0.0</td>\n",
              "      <td>0.558140</td>\n",
              "      <td>0.661834</td>\n",
              "      <td>142</td>\n",
              "    </tr>\n",
              "    <tr>\n",
              "      <th>1</th>\n",
              "      <td>1</td>\n",
              "      <td>2</td>\n",
              "      <td>0.344828</td>\n",
              "      <td>0.250000</td>\n",
              "      <td>0.0</td>\n",
              "      <td>0.0</td>\n",
              "      <td>0.150602</td>\n",
              "      <td>0.379551</td>\n",
              "      <td>0.222316</td>\n",
              "      <td>0.0</td>\n",
              "      <td>...</td>\n",
              "      <td>0.264706</td>\n",
              "      <td>0.204768</td>\n",
              "      <td>0.213159</td>\n",
              "      <td>0.0</td>\n",
              "      <td>0.416667</td>\n",
              "      <td>0.0</td>\n",
              "      <td>0.0</td>\n",
              "      <td>0.682171</td>\n",
              "      <td>0.686827</td>\n",
              "      <td>141</td>\n",
              "    </tr>\n",
              "    <tr>\n",
              "      <th>2</th>\n",
              "      <td>1</td>\n",
              "      <td>3</td>\n",
              "      <td>0.517241</td>\n",
              "      <td>0.583333</td>\n",
              "      <td>0.0</td>\n",
              "      <td>0.0</td>\n",
              "      <td>0.376506</td>\n",
              "      <td>0.346632</td>\n",
              "      <td>0.322248</td>\n",
              "      <td>0.0</td>\n",
              "      <td>...</td>\n",
              "      <td>0.220588</td>\n",
              "      <td>0.155640</td>\n",
              "      <td>0.458638</td>\n",
              "      <td>0.0</td>\n",
              "      <td>0.416667</td>\n",
              "      <td>0.0</td>\n",
              "      <td>0.0</td>\n",
              "      <td>0.728682</td>\n",
              "      <td>0.721348</td>\n",
              "      <td>140</td>\n",
              "    </tr>\n",
              "    <tr>\n",
              "      <th>3</th>\n",
              "      <td>1</td>\n",
              "      <td>4</td>\n",
              "      <td>0.741379</td>\n",
              "      <td>0.500000</td>\n",
              "      <td>0.0</td>\n",
              "      <td>0.0</td>\n",
              "      <td>0.370482</td>\n",
              "      <td>0.285154</td>\n",
              "      <td>0.408001</td>\n",
              "      <td>0.0</td>\n",
              "      <td>...</td>\n",
              "      <td>0.250000</td>\n",
              "      <td>0.170090</td>\n",
              "      <td>0.257022</td>\n",
              "      <td>0.0</td>\n",
              "      <td>0.250000</td>\n",
              "      <td>0.0</td>\n",
              "      <td>0.0</td>\n",
              "      <td>0.666667</td>\n",
              "      <td>0.662110</td>\n",
              "      <td>139</td>\n",
              "    </tr>\n",
              "    <tr>\n",
              "      <th>4</th>\n",
              "      <td>1</td>\n",
              "      <td>5</td>\n",
              "      <td>0.580460</td>\n",
              "      <td>0.500000</td>\n",
              "      <td>0.0</td>\n",
              "      <td>0.0</td>\n",
              "      <td>0.391566</td>\n",
              "      <td>0.352082</td>\n",
              "      <td>0.332039</td>\n",
              "      <td>0.0</td>\n",
              "      <td>...</td>\n",
              "      <td>0.220588</td>\n",
              "      <td>0.152751</td>\n",
              "      <td>0.300885</td>\n",
              "      <td>0.0</td>\n",
              "      <td>0.166667</td>\n",
              "      <td>0.0</td>\n",
              "      <td>0.0</td>\n",
              "      <td>0.658915</td>\n",
              "      <td>0.716377</td>\n",
              "      <td>138</td>\n",
              "    </tr>\n",
              "  </tbody>\n",
              "</table>\n",
              "<p>5 rows × 27 columns</p>\n",
              "</div>"
            ],
            "text/plain": [
              "   id  cycle  setting1  setting2  setting3   s1        s2        s3        s4  \\\n",
              "0   1      1  0.632184  0.750000       0.0  0.0  0.545181  0.310661  0.269413   \n",
              "1   1      2  0.344828  0.250000       0.0  0.0  0.150602  0.379551  0.222316   \n",
              "2   1      3  0.517241  0.583333       0.0  0.0  0.376506  0.346632  0.322248   \n",
              "3   1      4  0.741379  0.500000       0.0  0.0  0.370482  0.285154  0.408001   \n",
              "4   1      5  0.580460  0.500000       0.0  0.0  0.391566  0.352082  0.332039   \n",
              "\n",
              "    s5 ...        s13       s14       s15  s16       s17  s18  s19       s20  \\\n",
              "0  0.0 ...   0.220588  0.132160  0.308965  0.0  0.333333  0.0  0.0  0.558140   \n",
              "1  0.0 ...   0.264706  0.204768  0.213159  0.0  0.416667  0.0  0.0  0.682171   \n",
              "2  0.0 ...   0.220588  0.155640  0.458638  0.0  0.416667  0.0  0.0  0.728682   \n",
              "3  0.0 ...   0.250000  0.170090  0.257022  0.0  0.250000  0.0  0.0  0.666667   \n",
              "4  0.0 ...   0.220588  0.152751  0.300885  0.0  0.166667  0.0  0.0  0.658915   \n",
              "\n",
              "        s21  RUL  \n",
              "0  0.661834  142  \n",
              "1  0.686827  141  \n",
              "2  0.721348  140  \n",
              "3  0.662110  139  \n",
              "4  0.716377  138  \n",
              "\n",
              "[5 rows x 27 columns]"
            ]
          },
          "metadata": {
            "tags": []
          },
          "execution_count": 15
        }
      ]
    },
    {
      "cell_type": "markdown",
      "metadata": {
        "id": "QQnbfWmam2jQ",
        "colab_type": "text"
      },
      "source": [
        "As we did for the training set, we add a binary label denoting whether the engine will fail within w1 cycles"
      ]
    },
    {
      "cell_type": "code",
      "metadata": {
        "id": "7rwQrw_Qm2jQ",
        "colab_type": "code",
        "colab": {},
        "outputId": "7c0198a9-90cf-44ca-efd8-453a8b879229"
      },
      "source": [
        "test_df_merged['label1'] = \\\n",
        "    np.where(test_df_merged['RUL']<=w1, 1, 0)\n",
        "test_df_merged.head()"
      ],
      "execution_count": 0,
      "outputs": [
        {
          "output_type": "execute_result",
          "data": {
            "text/html": [
              "<div>\n",
              "<style scoped>\n",
              "    .dataframe tbody tr th:only-of-type {\n",
              "        vertical-align: middle;\n",
              "    }\n",
              "\n",
              "    .dataframe tbody tr th {\n",
              "        vertical-align: top;\n",
              "    }\n",
              "\n",
              "    .dataframe thead th {\n",
              "        text-align: right;\n",
              "    }\n",
              "</style>\n",
              "<table border=\"1\" class=\"dataframe\">\n",
              "  <thead>\n",
              "    <tr style=\"text-align: right;\">\n",
              "      <th></th>\n",
              "      <th>id</th>\n",
              "      <th>cycle</th>\n",
              "      <th>setting1</th>\n",
              "      <th>setting2</th>\n",
              "      <th>setting3</th>\n",
              "      <th>s1</th>\n",
              "      <th>s2</th>\n",
              "      <th>s3</th>\n",
              "      <th>s4</th>\n",
              "      <th>s5</th>\n",
              "      <th>...</th>\n",
              "      <th>s14</th>\n",
              "      <th>s15</th>\n",
              "      <th>s16</th>\n",
              "      <th>s17</th>\n",
              "      <th>s18</th>\n",
              "      <th>s19</th>\n",
              "      <th>s20</th>\n",
              "      <th>s21</th>\n",
              "      <th>RUL</th>\n",
              "      <th>label1</th>\n",
              "    </tr>\n",
              "  </thead>\n",
              "  <tbody>\n",
              "    <tr>\n",
              "      <th>0</th>\n",
              "      <td>1</td>\n",
              "      <td>1</td>\n",
              "      <td>0.632184</td>\n",
              "      <td>0.750000</td>\n",
              "      <td>0.0</td>\n",
              "      <td>0.0</td>\n",
              "      <td>0.545181</td>\n",
              "      <td>0.310661</td>\n",
              "      <td>0.269413</td>\n",
              "      <td>0.0</td>\n",
              "      <td>...</td>\n",
              "      <td>0.132160</td>\n",
              "      <td>0.308965</td>\n",
              "      <td>0.0</td>\n",
              "      <td>0.333333</td>\n",
              "      <td>0.0</td>\n",
              "      <td>0.0</td>\n",
              "      <td>0.558140</td>\n",
              "      <td>0.661834</td>\n",
              "      <td>142</td>\n",
              "      <td>0</td>\n",
              "    </tr>\n",
              "    <tr>\n",
              "      <th>1</th>\n",
              "      <td>1</td>\n",
              "      <td>2</td>\n",
              "      <td>0.344828</td>\n",
              "      <td>0.250000</td>\n",
              "      <td>0.0</td>\n",
              "      <td>0.0</td>\n",
              "      <td>0.150602</td>\n",
              "      <td>0.379551</td>\n",
              "      <td>0.222316</td>\n",
              "      <td>0.0</td>\n",
              "      <td>...</td>\n",
              "      <td>0.204768</td>\n",
              "      <td>0.213159</td>\n",
              "      <td>0.0</td>\n",
              "      <td>0.416667</td>\n",
              "      <td>0.0</td>\n",
              "      <td>0.0</td>\n",
              "      <td>0.682171</td>\n",
              "      <td>0.686827</td>\n",
              "      <td>141</td>\n",
              "      <td>0</td>\n",
              "    </tr>\n",
              "    <tr>\n",
              "      <th>2</th>\n",
              "      <td>1</td>\n",
              "      <td>3</td>\n",
              "      <td>0.517241</td>\n",
              "      <td>0.583333</td>\n",
              "      <td>0.0</td>\n",
              "      <td>0.0</td>\n",
              "      <td>0.376506</td>\n",
              "      <td>0.346632</td>\n",
              "      <td>0.322248</td>\n",
              "      <td>0.0</td>\n",
              "      <td>...</td>\n",
              "      <td>0.155640</td>\n",
              "      <td>0.458638</td>\n",
              "      <td>0.0</td>\n",
              "      <td>0.416667</td>\n",
              "      <td>0.0</td>\n",
              "      <td>0.0</td>\n",
              "      <td>0.728682</td>\n",
              "      <td>0.721348</td>\n",
              "      <td>140</td>\n",
              "      <td>0</td>\n",
              "    </tr>\n",
              "    <tr>\n",
              "      <th>3</th>\n",
              "      <td>1</td>\n",
              "      <td>4</td>\n",
              "      <td>0.741379</td>\n",
              "      <td>0.500000</td>\n",
              "      <td>0.0</td>\n",
              "      <td>0.0</td>\n",
              "      <td>0.370482</td>\n",
              "      <td>0.285154</td>\n",
              "      <td>0.408001</td>\n",
              "      <td>0.0</td>\n",
              "      <td>...</td>\n",
              "      <td>0.170090</td>\n",
              "      <td>0.257022</td>\n",
              "      <td>0.0</td>\n",
              "      <td>0.250000</td>\n",
              "      <td>0.0</td>\n",
              "      <td>0.0</td>\n",
              "      <td>0.666667</td>\n",
              "      <td>0.662110</td>\n",
              "      <td>139</td>\n",
              "      <td>0</td>\n",
              "    </tr>\n",
              "    <tr>\n",
              "      <th>4</th>\n",
              "      <td>1</td>\n",
              "      <td>5</td>\n",
              "      <td>0.580460</td>\n",
              "      <td>0.500000</td>\n",
              "      <td>0.0</td>\n",
              "      <td>0.0</td>\n",
              "      <td>0.391566</td>\n",
              "      <td>0.352082</td>\n",
              "      <td>0.332039</td>\n",
              "      <td>0.0</td>\n",
              "      <td>...</td>\n",
              "      <td>0.152751</td>\n",
              "      <td>0.300885</td>\n",
              "      <td>0.0</td>\n",
              "      <td>0.166667</td>\n",
              "      <td>0.0</td>\n",
              "      <td>0.0</td>\n",
              "      <td>0.658915</td>\n",
              "      <td>0.716377</td>\n",
              "      <td>138</td>\n",
              "      <td>0</td>\n",
              "    </tr>\n",
              "  </tbody>\n",
              "</table>\n",
              "<p>5 rows × 28 columns</p>\n",
              "</div>"
            ],
            "text/plain": [
              "   id  cycle  setting1  setting2  setting3   s1        s2        s3        s4  \\\n",
              "0   1      1  0.632184  0.750000       0.0  0.0  0.545181  0.310661  0.269413   \n",
              "1   1      2  0.344828  0.250000       0.0  0.0  0.150602  0.379551  0.222316   \n",
              "2   1      3  0.517241  0.583333       0.0  0.0  0.376506  0.346632  0.322248   \n",
              "3   1      4  0.741379  0.500000       0.0  0.0  0.370482  0.285154  0.408001   \n",
              "4   1      5  0.580460  0.500000       0.0  0.0  0.391566  0.352082  0.332039   \n",
              "\n",
              "    s5   ...         s14       s15  s16       s17  s18  s19       s20  \\\n",
              "0  0.0   ...    0.132160  0.308965  0.0  0.333333  0.0  0.0  0.558140   \n",
              "1  0.0   ...    0.204768  0.213159  0.0  0.416667  0.0  0.0  0.682171   \n",
              "2  0.0   ...    0.155640  0.458638  0.0  0.416667  0.0  0.0  0.728682   \n",
              "3  0.0   ...    0.170090  0.257022  0.0  0.250000  0.0  0.0  0.666667   \n",
              "4  0.0   ...    0.152751  0.300885  0.0  0.166667  0.0  0.0  0.658915   \n",
              "\n",
              "        s21  RUL  label1  \n",
              "0  0.661834  142       0  \n",
              "1  0.686827  141       0  \n",
              "2  0.721348  140       0  \n",
              "3  0.662110  139       0  \n",
              "4  0.716377  138       0  \n",
              "\n",
              "[5 rows x 28 columns]"
            ]
          },
          "metadata": {
            "tags": []
          },
          "execution_count": 16
        }
      ]
    },
    {
      "cell_type": "markdown",
      "metadata": {
        "id": "W5hJQuPcm2jU",
        "colab_type": "text"
      },
      "source": [
        "### Visualization"
      ]
    },
    {
      "cell_type": "markdown",
      "metadata": {
        "id": "7of0OZ1pm2jV",
        "colab_type": "text"
      },
      "source": [
        "We focuse on engine 3 in the test set.\n",
        "\n",
        "We select the last L cycles of that engine. We divide the columns in two parts, to plot them more easily"
      ]
    },
    {
      "cell_type": "code",
      "metadata": {
        "id": "cYI_rclJm2jV",
        "colab_type": "code",
        "colab": {}
      },
      "source": [
        "L = 50 # interval used for aggreation\n",
        "engine_id3 = test_df_merged[test_df_merged['id'] == 3]\n",
        "last_cycles = \\\n",
        "    engine_id3[engine_id3['RUL'] <= \\\n",
        "            engine_id3['RUL'].min() + L]\n",
        "cols1 = ['s1', 's2', 's3', 's4', 's5', 's6', 's7', 's8', 's9', 's10']\n",
        "cols2 = ['s11', 's12', 's13', 's14', 's15', 's16', 's17', 's18', 's19', 's20', 's21']\n",
        "last_cycles_1 = last_cycles[cols1]\n",
        "last_cycles_2 = last_cycles[cols2]"
      ],
      "execution_count": 0,
      "outputs": []
    },
    {
      "cell_type": "markdown",
      "metadata": {
        "id": "AMokccizm2ja",
        "colab_type": "text"
      },
      "source": [
        "Plot the last cycles"
      ]
    },
    {
      "cell_type": "code",
      "metadata": {
        "scrolled": true,
        "id": "Sruwakxdm2ja",
        "colab_type": "code",
        "colab": {},
        "outputId": "c5a60969-78be-4c0f-d5a2-81e7dd6444e8"
      },
      "source": [
        "ax1 = last_cycles_1.plot(subplots=True, sharex=True, figsize=(20,20))"
      ],
      "execution_count": 0,
      "outputs": [
        {
          "output_type": "display_data",
          "data": {
            "image/png": "[encoded data removed]",
            "text/plain": [
              "<Figure size 1440x1440 with 10 Axes>"
            ]
          },
          "metadata": {
            "tags": [],
            "needs_background": "light"
          }
        }
      ]
    },
    {
      "cell_type": "code",
      "metadata": {
        "scrolled": true,
        "id": "RnEEP6xHm2je",
        "colab_type": "code",
        "colab": {},
        "outputId": "726a7197-5c01-465e-9463-e2e810bd822c"
      },
      "source": [
        "ax2 = last_cycles_2.plot(subplots=True, sharex=True, figsize=(20,20))"
      ],
      "execution_count": 0,
      "outputs": [
        {
          "output_type": "display_data",
          "data": {
            "image/png": "[encoded data removed]",
            "text/plain": [
              "<Figure size 1440x1440 with 11 Axes>"
            ]
          },
          "metadata": {
            "tags": [],
            "needs_background": "light"
          }
        }
      ]
    },
    {
      "cell_type": "markdown",
      "metadata": {
        "id": "TfvHX9lGm2ji",
        "colab_type": "text"
      },
      "source": [
        "### Construct the LSTM input"
      ]
    },
    {
      "cell_type": "markdown",
      "metadata": {
        "id": "PNPD6-8Rm2jk",
        "colab_type": "text"
      },
      "source": [
        "Keras LSTM layers expect a matrix (3-dimensional array) with the following format.\n",
        "Each row represents one window. Considering one window, the second dimension describes one of the L cycles of that window. Considering one window and one of its cycles, the 3rd dimension describes the value along the different columns. \n",
        "\n",
        "Note that all the windows are piled one after the other, independent of the engine they refer to.\n",
        "Indeed, the goal of the LSTM is to process each window, independent of the engine identity (recall that all engines are of the same type). Based on the observation of the window, the LSTM tries to guess whether there will be a failure in the next w1 cycles."
      ]
    },
    {
      "cell_type": "markdown",
      "metadata": {
        "id": "p1yXCVUlm2jl",
        "colab_type": "text"
      },
      "source": [
        "We only consider for training all engines have at least L cycles of data available in the training set. We will ignore the others. If you need more data to train the LSTM, you could also to pad the missying cycles."
      ]
    },
    {
      "cell_type": "code",
      "metadata": {
        "id": "Qg5YGL8Cm2jm",
        "colab_type": "code",
        "colab": {}
      },
      "source": [
        "train_to_count = train_df_norm[['id','cycle']]\n",
        "counts = pd.DataFrame(train_to_count.groupby('id').count() ).reset_index()\n",
        "valid_ids = pd.DataFrame(counts[counts['cycle']>=L]['id'] )\n",
        "train_df_clean = \\\n",
        "    pd.merge(train_df_norm, valid_ids, on='id', how='right')\n",
        "print(\"Number of rows before and after cleaning \", \\\n",
        "      train_df_norm.shape[0],  train_df_clean.shape[0]) \n"
      ],
      "execution_count": 0,
      "outputs": []
    },
    {
      "cell_type": "markdown",
      "metadata": {
        "id": "O13bk2q2m2jq",
        "colab_type": "text"
      },
      "source": [
        "The following function takes a daframe df with the cycle information of just one engine.\n",
        "It creates a list of matrices, each containing a window of size w of cycles. This function has the same output of list(gen_sequence(..) ), where gen_sequence(..) is the function defined in the reference tutorial. It is simpler, since it does not use yield operator."
      ]
    },
    {
      "cell_type": "code",
      "metadata": {
        "id": "2z-sObN3m2jr",
        "colab_type": "code",
        "colab": {}
      },
      "source": [
        "# w: window length\n",
        "# df: dataframe containing the data of a single engine\n",
        "def gen_sequence_simple(df, w, feature_names):\n",
        "    window_list = list()\n",
        "    num_windows = 0\n",
        "    \n",
        "    \"\"\" Only sequences that meet the window-length are considered, no padding is used. This means for testing\n",
        "    we need to drop those which are below the window-length. An alternative would be to pad sequences so that\n",
        "    we can use shorter ones \"\"\"\n",
        "    data_array = df[feature_names].values\n",
        "    num_elements = data_array.shape[0]\n",
        "    \n",
        "    # In the following loop, the iterations will be\n",
        "    #    (start,stop) = (0, w)\n",
        "    #    (start,stop) = (1, w+1)\n",
        "    #    (start,stop) = (2, w+2)\n",
        "    # until stop<num_elements\n",
        "    # In other words, we are creating a list of matrices\n",
        "    # where each matrix contains the information of\n",
        "    # a single window.\n",
        "    for start, stop in zip(range(0, num_elements-w), \\\n",
        "                           range(w, num_elements)):\n",
        "        new_window = data_array[start:stop, :]\n",
        "        num_windows = num_windows + 1\n",
        "        window_list.append(new_window)\n",
        "        \n",
        "    return window_list, num_windows"
      ],
      "execution_count": 0,
      "outputs": []
    },
    {
      "cell_type": "markdown",
      "metadata": {
        "id": "l6vfpvYam2ju",
        "colab_type": "text"
      },
      "source": [
        "We first list the names of the features"
      ]
    },
    {
      "cell_type": "code",
      "metadata": {
        "id": "_V9zOJxlm2jv",
        "colab_type": "code",
        "colab": {}
      },
      "source": [
        "sensor_cols = ['s' + str(i) for i in range(1,22)]\n",
        "feature_cols = ['setting1', 'setting2', 'setting3', 'cycle']\n",
        "feature_cols.extend(sensor_cols)\n",
        "len(feature_cols)"
      ],
      "execution_count": 0,
      "outputs": []
    },
    {
      "cell_type": "markdown",
      "metadata": {
        "id": "0eqjuScAm2jy",
        "colab_type": "text"
      },
      "source": [
        "We then create an array"
      ]
    },
    {
      "cell_type": "code",
      "metadata": {
        "id": "Zw9W-LHem2j0",
        "colab_type": "code",
        "colab": {}
      },
      "source": [
        "all_windows = list()\n",
        "num_of_all_wins = 0\n",
        "for id in train_df_clean['id'].unique():\n",
        "    windows_of_one_engine, num = gen_sequence_simple(\\\n",
        "        train_df_clean[train_df_clean['id']==id], L,\\\n",
        "                            feature_cols) \n",
        "    #\n",
        "    all_windows.append(windows_of_one_engine)\n",
        "    num_of_all_wins = num_of_all_wins + num\n",
        "    \n",
        "\n",
        "# Transform from list to array\n",
        "all_windows = np.concatenate(all_windows).astype(np.float32)\n",
        "print('Dimensions=', all_windows.shape, '; num_of_all_wins=', num_of_all_wins)"
      ],
      "execution_count": 0,
      "outputs": []
    },
    {
      "cell_type": "markdown",
      "metadata": {
        "id": "AhuGfJE_m2j3",
        "colab_type": "text"
      },
      "source": [
        "We have obtained our 3-dimensional matrix, as we needed."
      ]
    },
    {
      "cell_type": "markdown",
      "metadata": {
        "id": "tmhIsjZbm2j4",
        "colab_type": "text"
      },
      "source": [
        "We now need to create the label array, i.e., an array that associates to each window a binary value indicating whether the engine is going to fail within the next w1 cycles from the end of that window.\n",
        "\n",
        "In other words, we associate to each window the label1 value of its last cycle."
      ]
    },
    {
      "cell_type": "code",
      "metadata": {
        "id": "sq796B1um2j5",
        "colab_type": "code",
        "colab": {}
      },
      "source": [
        "# function to generate labels\n",
        "#    id_df: dataframe of a single engine\n",
        "#    win_len: window length\n",
        "#    label: name of the label containing the value we \n",
        "#           want to predict\n",
        "def gen_labels(id_df, win_len, label):\n",
        "    cycle_labels_array = id_df[label].values\n",
        "    num_cycles = cycle_labels_array.shape[0]\n",
        "    \n",
        "    # Note that the label we need to associate to the\n",
        "    # 1st window is the label value of its last cycle,\n",
        "    # i.e., the label value of the win_len-th cycle. This\n",
        "    # value is the win_len-th in the cycle_labels_array.\n",
        "    #\n",
        "    # Similarly, the label we need to associate to the\n",
        "    # 2nd window is the one of its last cycle, which is at\n",
        "    # the (win-len + 1)-th position in the cycle_labels_array\n",
        "    # And so on and so forth. \n",
        "    return cycle_labels_array[win_len:num_cycles, :]"
      ],
      "execution_count": 0,
      "outputs": []
    },
    {
      "cell_type": "code",
      "metadata": {
        "id": "x30WHaarm2j9",
        "colab_type": "code",
        "colab": {}
      },
      "source": [
        "# generate labels\n",
        "label_gen = [gen_labels(train_df_clean[train_df_clean['id']==id], L, ['label1']) \n",
        "             for id in train_df_clean['id'].unique()]\n",
        "label_array = np.concatenate(label_gen).astype(np.float32)\n",
        "label_array.shape"
      ],
      "execution_count": 0,
      "outputs": []
    },
    {
      "cell_type": "markdown",
      "metadata": {
        "id": "PnsjyhkFm2j_",
        "colab_type": "text"
      },
      "source": [
        "We are now ready to set up the LSTM net."
      ]
    },
    {
      "cell_type": "markdown",
      "metadata": {
        "id": "4xaVQ4yhm2kA",
        "colab_type": "text"
      },
      "source": [
        "## Training"
      ]
    },
    {
      "cell_type": "code",
      "metadata": {
        "scrolled": true,
        "id": "M1pOd5ZKm2kA",
        "colab_type": "code",
        "colab": {}
      },
      "source": [
        "# build the network\n",
        "nb_features = all_windows.shape[2]\n",
        "nb_out = label_array.shape[1]\n",
        "\n",
        "model = Sequential()\n",
        "\n",
        "model.add(LSTM(\n",
        "         input_shape=(L, nb_features),\n",
        "         units=100,\n",
        "         return_sequences=True))\n",
        "model.add(Dropout(0.2))\n",
        "\n",
        "model.add(LSTM(\n",
        "          units=50,\n",
        "          return_sequences=False))\n",
        "model.add(Dropout(0.2))\n",
        "\n",
        "model.add(Dense(units=nb_out, activation='sigmoid'))\n",
        "model.compile(loss='binary_crossentropy', optimizer='adam', metrics=['accuracy'])"
      ],
      "execution_count": 0,
      "outputs": []
    },
    {
      "cell_type": "code",
      "metadata": {
        "scrolled": false,
        "id": "Qxer-Y21m2kE",
        "colab_type": "code",
        "colab": {}
      },
      "source": [
        "print(model.summary())"
      ],
      "execution_count": 0,
      "outputs": []
    },
    {
      "cell_type": "code",
      "metadata": {
        "scrolled": true,
        "id": "sIz3wjZGm2kH",
        "colab_type": "code",
        "colab": {}
      },
      "source": [
        "%%time\n",
        "# fit the network\n",
        "model.fit(all_windows, label_array, epochs=10, batch_size=200, validation_split=0.05, verbose=1,\n",
        "          callbacks = [keras.callbacks.EarlyStopping(monitor='val_loss', min_delta=0, patience=0, verbose=0, mode='auto')])"
      ],
      "execution_count": 0,
      "outputs": []
    },
    {
      "cell_type": "code",
      "metadata": {
        "scrolled": true,
        "id": "av3aezQZm2kJ",
        "colab_type": "code",
        "colab": {}
      },
      "source": [
        "# training metrics\n",
        "scores = model.evaluate(all_windows, label_array, verbose=1, batch_size=200)\n",
        "print('Accurracy: {}'.format(scores[1]))"
      ],
      "execution_count": 0,
      "outputs": []
    },
    {
      "cell_type": "code",
      "metadata": {
        "id": "iXnD3shRm2kM",
        "colab_type": "code",
        "colab": {}
      },
      "source": [
        "# make predictions and compute confusion matrix\n",
        "y_pred = model.predict_classes(all_windows,verbose=1, batch_size=200)\n",
        "y_true = label_array.astype(np.int32)"
      ],
      "execution_count": 0,
      "outputs": []
    },
    {
      "cell_type": "code",
      "metadata": {
        "id": "442d1Hnzm2kQ",
        "colab_type": "code",
        "colab": {}
      },
      "source": [
        "y_true = [np.asscalar(n) for n in y_true]\n",
        "y_pred = [np.asscalar(n) for n in y_pred]"
      ],
      "execution_count": 0,
      "outputs": []
    },
    {
      "cell_type": "code",
      "metadata": {
        "id": "UaEJMSWCm2kS",
        "colab_type": "code",
        "colab": {}
      },
      "source": [
        "# From https://scikit-learn.org/stable/auto_examples/model_selection/plot_confusion_matrix.html#sphx-glr-auto-examples-model-selection-plot-confusion-matrix-py\n",
        "def plot_confusion_matrix(y_true, y_pred, classes,\n",
        "                          normalize=False,\n",
        "                          title=None,\n",
        "                          cmap=plt.cm.Blues):\n",
        "    \"\"\"\n",
        "    This function prints and plots the confusion matrix.\n",
        "    Normalization can be applied by setting `normalize=True`.\n",
        "    \"\"\"\n",
        "    if not title:\n",
        "        if normalize:\n",
        "            title = 'Normalized confusion matrix'\n",
        "        else:\n",
        "            title = 'Confusion matrix, without normalization'\n",
        "\n",
        "    # Compute confusion matrix\n",
        "    cm = confusion_matrix(y_true, y_pred)\n",
        "    # Only use the labels that appear in the data\n",
        "    classes = classes[unique_labels(y_true, y_pred)]\n",
        "    if normalize:\n",
        "        cm = cm.astype('float') / cm.sum(axis=1)[:, np.newaxis]\n",
        "        print(\"Normalized confusion matrix\")\n",
        "    else:\n",
        "        print('Confusion matrix, without normalization')\n",
        "\n",
        "    print(cm)\n",
        "\n",
        "    fig, ax = plt.subplots()\n",
        "    im = ax.imshow(cm, interpolation='nearest', cmap=cmap)\n",
        "    ax.figure.colorbar(im, ax=ax)\n",
        "    # We want to show all ticks...\n",
        "    ax.set(xticks=np.arange(cm.shape[1]),\n",
        "           yticks=np.arange(cm.shape[0]),\n",
        "           # ... and label them with the respective list entries\n",
        "           xticklabels=classes, yticklabels=classes,\n",
        "           title=title,\n",
        "           ylabel='True label',\n",
        "           xlabel='Predicted label')\n",
        "\n",
        "    # Rotate the tick labels and set their alignment.\n",
        "    plt.setp(ax.get_xticklabels(), rotation=45, ha=\"right\",\n",
        "             rotation_mode=\"anchor\")\n",
        "\n",
        "    # Loop over data dimensions and create text annotations.\n",
        "    fmt = '.2f' if normalize else 'd'\n",
        "    thresh = cm.max() / 2.\n",
        "    for i in range(cm.shape[0]):\n",
        "        for j in range(cm.shape[1]):\n",
        "            ax.text(j, i, format(cm[i, j], fmt),\n",
        "                    ha=\"center\", va=\"center\",\n",
        "                    color=\"white\" if cm[i, j] > thresh else \"black\")\n",
        "    fig.tight_layout()\n",
        "    return ax"
      ],
      "execution_count": 0,
      "outputs": []
    },
    {
      "cell_type": "code",
      "metadata": {
        "scrolled": true,
        "id": "Ad5dy-Z5m2kV",
        "colab_type": "code",
        "colab": {}
      },
      "source": [
        "classes = np.array(['ok', 'ko'])\n",
        "np.set_printoptions(precision=2)\n",
        "plot_confusion_matrix(y_true, y_pred, classes=classes, \\\n",
        "                      normalize=True,\n",
        "                      title='Confusion matrix')\n",
        "plt.show()"
      ],
      "execution_count": 0,
      "outputs": []
    },
    {
      "cell_type": "code",
      "metadata": {
        "scrolled": true,
        "id": "De2Uh0JGm2kc",
        "colab_type": "code",
        "colab": {}
      },
      "source": [
        "# compute precision and recall\n",
        "precision = precision_score(y_true, y_pred)\n",
        "recall = recall_score(y_true, y_pred)\n",
        "print( 'precision = ', precision, '\\n', 'recall = ', recall)"
      ],
      "execution_count": 0,
      "outputs": []
    },
    {
      "cell_type": "markdown",
      "metadata": {
        "id": "6Hz7JnjSm2kf",
        "colab_type": "text"
      },
      "source": [
        "## Performance (metrics on test data)"
      ]
    },
    {
      "cell_type": "markdown",
      "metadata": {
        "id": "ACvNbKVZm2kg",
        "colab_type": "text"
      },
      "source": [
        "We only compute the performance on the last window of each engine in the test set.\n",
        "\n",
        "To input the test data into the LSTM, we have to transform them in a matrix with the same format as the training phase input.\n",
        "This matrix is 3-dimensional. Each row corresponds to one window. We have just said that we will consider only the last window of each engine in the test set. Therefore, each row corresponds also to one single engine. \n",
        "Considering a single row (window), we will have one array for each of the L cycles composing the window. Each element of this array is one one of the features."
      ]
    },
    {
      "cell_type": "markdown",
      "metadata": {
        "id": "H-yRb4bwm2kg",
        "colab_type": "text"
      },
      "source": [
        "Let us just consider the engines with enough cycles recorded (at least L)"
      ]
    },
    {
      "cell_type": "code",
      "metadata": {
        "id": "czTueGyam2kg",
        "colab_type": "code",
        "colab": {}
      },
      "source": [
        "considered_engines = \\\n",
        "    [id for id in df['id'].unique() if len(df[ df['id']==id ])>=L ]\n",
        "print ('Engines with enough cycles recorded: ', len(considered_engines))"
      ],
      "execution_count": 0,
      "outputs": []
    },
    {
      "cell_type": "code",
      "metadata": {
        "scrolled": true,
        "id": "ofUK98sdm2kj",
        "colab_type": "code",
        "colab": {}
      },
      "source": [
        "df = test_df_merged\n",
        "\n",
        "\n",
        "last_windows = list()\n",
        "for id in considered_engines:\n",
        "    # Only select the engines with enough cycles measured\n",
        "    cycles = df[ df['id']==id ] # cycles of one engine\n",
        "    cycles = cycles[feature_cols]\n",
        "    last_window = cycles.values[-L:, ]\n",
        "    last_windows.append(last_window)\n",
        "    \n",
        "last_windows = np.asarray(last_windows)\n",
        "last_windows.shape"
      ],
      "execution_count": 0,
      "outputs": []
    },
    {
      "cell_type": "markdown",
      "metadata": {
        "id": "wd0YgGdNm2kl",
        "colab_type": "text"
      },
      "source": [
        "For each of the considered test engines, we take the binary label, which is the value of label1 of its last cycle"
      ]
    },
    {
      "cell_type": "code",
      "metadata": {
        "scrolled": true,
        "id": "FLxMC_Uqm2kl",
        "colab_type": "code",
        "colab": {}
      },
      "source": [
        "df = test_df_merged\n",
        "label_array_test_last = list()\n",
        "\n",
        "for id in considered_engines:\n",
        "    cycles = df[df['id']== id ]\n",
        "    bin_val = cycles.tail(1)['label1']\n",
        "    label_array_test_last.extend(bin_val)\n",
        "\n",
        "label_array_test_last = np.array(label_array_test_last)\n",
        "label_array_test_last.shape\n",
        "print('Number of failing engines: ', \n",
        "      sum(label_array_test_last == 1) )"
      ],
      "execution_count": 0,
      "outputs": []
    },
    {
      "cell_type": "code",
      "metadata": {
        "id": "AnkGjJRxm2ko",
        "colab_type": "code",
        "colab": {}
      },
      "source": [
        "# make predictions and compute confusion matrix\n",
        "y_pred_test = model.predict_classes(last_windows)\n",
        "y_true_test = label_array_test_last"
      ],
      "execution_count": 0,
      "outputs": []
    },
    {
      "cell_type": "code",
      "metadata": {
        "scrolled": true,
        "id": "GVH64fWKm2kr",
        "colab_type": "code",
        "colab": {}
      },
      "source": [
        "np.set_printoptions(precision=2)\n",
        "plot_confusion_matrix(y_true_test, y_pred_test, classes=classes, \\\n",
        "                      normalize=False,\n",
        "                      title='Confusion matrix')\n",
        "plt.show()"
      ],
      "execution_count": 0,
      "outputs": []
    },
    {
      "cell_type": "code",
      "metadata": {
        "id": "O-yTChWrm2ku",
        "colab_type": "code",
        "colab": {}
      },
      "source": [
        "# compute precision and recall\n",
        "precision_test = precision_score(y_true_test, y_pred_test)\n",
        "recall_test = recall_score(y_true_test, y_pred_test)\n",
        "f1_test = 2 * (precision_test * recall_test) / (precision_test + recall_test)\n",
        "print( 'Precision: ', precision_test, '\\n', 'Recall: ', recall_test,'\\n', 'F1-score:', f1_test )"
      ],
      "execution_count": 0,
      "outputs": []
    },
    {
      "cell_type": "markdown",
      "metadata": {
        "id": "a2JHv2-1m2kw",
        "colab_type": "text"
      },
      "source": [
        "## Rubbish"
      ]
    },
    {
      "cell_type": "code",
      "metadata": {
        "id": "2qQY7niVm2kx",
        "colab_type": "code",
        "colab": {}
      },
      "source": [
        ""
      ],
      "execution_count": 0,
      "outputs": []
    },
    {
      "cell_type": "markdown",
      "metadata": {
        "id": "JOdGOk4Lm2ky",
        "colab_type": "text"
      },
      "source": [
        "To know when the engine will fail, instead of looking at the training data, we can look at the ground_truth data, which tells how many additional cycles each engine will work after the last recording"
      ]
    },
    {
      "cell_type": "code",
      "metadata": {
        "scrolled": true,
        "id": "2kEJ00iUm2kz",
        "colab_type": "code",
        "colab": {}
      },
      "source": [
        "truth_df.head()"
      ],
      "execution_count": 0,
      "outputs": []
    },
    {
      "cell_type": "code",
      "metadata": {
        "id": "qmvWwXfcm2k2",
        "colab_type": "code",
        "colab": {}
      },
      "source": [
        ""
      ],
      "execution_count": 0,
      "outputs": []
    },
    {
      "cell_type": "markdown",
      "metadata": {
        "id": "hHMq6Bc7m2k5",
        "colab_type": "text"
      },
      "source": [
        "### Understanding gen{"
      ]
    },
    {
      "cell_type": "code",
      "metadata": {
        "id": "OjW3RdvIm2k5",
        "colab_type": "code",
        "colab": {}
      },
      "source": [
        "toy = train_df_clean[train_df_clean['cycle']<=5]\n",
        "toy = toy[ toy['id']<=2 ]\n",
        "toy_cols = ['id','setting1', 'setting2', 'setting3']\n",
        "toy = toy[toy_cols]\n",
        "toy\n"
      ],
      "execution_count": 0,
      "outputs": []
    },
    {
      "cell_type": "code",
      "metadata": {
        "scrolled": true,
        "id": "-pXOxW-sm2k8",
        "colab_type": "code",
        "colab": {}
      },
      "source": [
        "# generator for the sequences\n",
        "seq_gen = (list(gen_sequence(toy[toy['id']==id], \\\n",
        "                    L, toy_cols)) \n",
        "           for id in toy['id'].unique())\n",
        "seq_array = np.concatenate(list(seq_gen)).astype(np.float32)\n",
        "seq_array.shape"
      ],
      "execution_count": 0,
      "outputs": []
    },
    {
      "cell_type": "code",
      "metadata": {
        "scrolled": true,
        "id": "Bd_V-x2nm2k_",
        "colab_type": "code",
        "colab": {}
      },
      "source": [
        "all_windows = list()\n",
        "for id in toy['id'].unique():\n",
        "    windows_of_one_engine = \\\n",
        "        gen_sequence_simple(toy[toy['id']==id], L, toy_cols) \n",
        "    all_windows.append(windows_of_one_engine)\n",
        "    \n",
        "# Transform from list to array\n",
        "all_windows = np.concatenate(all_windows).astype(np.float32)\n",
        "all_windows.shape"
      ],
      "execution_count": 0,
      "outputs": []
    },
    {
      "cell_type": "markdown",
      "metadata": {
        "id": "l7Dehffjm2lA",
        "colab_type": "text"
      },
      "source": [
        "### } Understanding gen"
      ]
    },
    {
      "cell_type": "markdown",
      "metadata": {
        "id": "UTX5fQlOm2lB",
        "colab_type": "text"
      },
      "source": [
        "### Prova test{"
      ]
    },
    {
      "cell_type": "markdown",
      "metadata": {
        "id": "OBm6dg1Em2lB",
        "colab_type": "text"
      },
      "source": [
        "Their code"
      ]
    },
    {
      "cell_type": "code",
      "metadata": {
        "id": "KNon78uem2lB",
        "colab_type": "code",
        "colab": {}
      },
      "source": [
        "df = test_df_merged\n",
        "seq_array_test_last = [df[df['id']==id][feature_cols].values[-L:] \n",
        "                       for id in df['id'].unique() if len(df[df['id']==id]) >= L]\n",
        "\n",
        "seq_array_test_last = np.asarray(seq_array_test_last).astype(np.float32)\n",
        "print('Number of unique ids=',len(df['id'].unique() ) )\n",
        "seq_array_test_last.shape"
      ],
      "execution_count": 0,
      "outputs": []
    },
    {
      "cell_type": "code",
      "metadata": {
        "scrolled": true,
        "id": "qPp4v36Fm2lE",
        "colab_type": "code",
        "colab": {}
      },
      "source": [
        "seq_array_test_last"
      ],
      "execution_count": 0,
      "outputs": []
    },
    {
      "cell_type": "markdown",
      "metadata": {
        "id": "9d731Ns5m2lG",
        "colab_type": "text"
      },
      "source": [
        "My code"
      ]
    },
    {
      "cell_type": "code",
      "metadata": {
        "id": "r_yWmBTHm2lI",
        "colab_type": "code",
        "colab": {}
      },
      "source": [
        "last_windows = list()\n",
        "last_window = []\n",
        "considered_engines = 0\n",
        "for id in df['id'].unique():\n",
        "    # Only select the engines with enough cycles measured\n",
        "    if len(df['id']==id) >= L :\n",
        "        considered_engines = considered_engines + 1\n",
        "        cycles = df[df['id']==id]\n",
        "        cycles = cycles[feature_cols]\n",
        "        last_window = cycles.values[-L:, ]\n",
        "        last_windows.append(last_window)\n",
        "        \n",
        "print('Considered engines=', considered_engines)\n",
        "\n",
        "last_windows = np.asarray(last_windows)\n",
        "last_windows"
      ],
      "execution_count": 0,
      "outputs": []
    },
    {
      "cell_type": "markdown",
      "metadata": {
        "id": "F9YzWeP9m2lK",
        "colab_type": "text"
      },
      "source": [
        "### }Prova test"
      ]
    },
    {
      "cell_type": "markdown",
      "metadata": {
        "id": "FIXuoElGm2lK",
        "colab_type": "text"
      },
      "source": [
        "### Count the failing engines{"
      ]
    },
    {
      "cell_type": "code",
      "metadata": {
        "id": "L8DCb3RMm2lL",
        "colab_type": "code",
        "colab": {}
      },
      "source": [
        "df = test_df_merged\n",
        "seq_array_test_last = [df[df['id']==id][feature_cols].values[-L:] \n",
        "                       for id in df['id'].unique() if len(df[df['id']==id]) >= L]\n",
        "\n",
        "seq_array_test_last = np.asarray(seq_array_test_last).astype(np.float32)\n",
        "print('Number of unique ids=',len(df['id'].unique() ) )\n",
        "seq_array_test_last.shape"
      ],
      "execution_count": 0,
      "outputs": []
    },
    {
      "cell_type": "code",
      "metadata": {
        "id": "BM_GOsxwm2lM",
        "colab_type": "code",
        "colab": {}
      },
      "source": [
        "y_mask = [len(df[df['id']==id]) >= L for id in df['id'].unique()]"
      ],
      "execution_count": 0,
      "outputs": []
    },
    {
      "cell_type": "code",
      "metadata": {
        "id": "XAwp71gNm2lP",
        "colab_type": "code",
        "colab": {}
      },
      "source": [
        "label_array_test_last = df.groupby('id')['label1'].nth(-1)[y_mask].values\n",
        "label_array_test_last = label_array_test_last.reshape(label_array_test_last.shape[0],1).astype(np.int32)\n",
        "print('shape:',label_array_test_last.shape )\n",
        "label_array_test_last = [np.asscalar(n) for n in label_array_test_last]"
      ],
      "execution_count": 0,
      "outputs": []
    },
    {
      "cell_type": "code",
      "metadata": {
        "id": "QpCn73DYm2lQ",
        "colab_type": "code",
        "colab": {}
      },
      "source": [
        "count = 0\n",
        "for n in  label_array_test_last:\n",
        "    if n == 1:\n",
        "        count = count + 1\n",
        "        \n",
        "count"
      ],
      "execution_count": 0,
      "outputs": []
    },
    {
      "cell_type": "markdown",
      "metadata": {
        "id": "J1x9f16Pm2lS",
        "colab_type": "text"
      },
      "source": [
        "### }Count the failing engines"
      ]
    },
    {
      "cell_type": "markdown",
      "metadata": {
        "id": "OXHeXckom2lS",
        "colab_type": "text"
      },
      "source": [
        "## Time series analysis\n",
        "Inspired by [this post](https://www.machinelearningplus.com/time-series/time-series-analysis-python/).\n",
        "\n",
        "Let us consider again engine 3 and in particular the measurements of sensor s2"
      ]
    },
    {
      "cell_type": "code",
      "metadata": {
        "scrolled": true,
        "id": "_yNeO9iXm2lT",
        "colab_type": "code",
        "colab": {},
        "outputId": "176c6454-144b-401e-c162-72b8bb85e8d2"
      },
      "source": [
        "df_ts = engine_id3[['s2']]\n",
        "df_ts.head()"
      ],
      "execution_count": 0,
      "outputs": [
        {
          "output_type": "execute_result",
          "data": {
            "text/html": [
              "<div>\n",
              "<style scoped>\n",
              "    .dataframe tbody tr th:only-of-type {\n",
              "        vertical-align: middle;\n",
              "    }\n",
              "\n",
              "    .dataframe tbody tr th {\n",
              "        vertical-align: top;\n",
              "    }\n",
              "\n",
              "    .dataframe thead th {\n",
              "        text-align: right;\n",
              "    }\n",
              "</style>\n",
              "<table border=\"1\" class=\"dataframe\">\n",
              "  <thead>\n",
              "    <tr style=\"text-align: right;\">\n",
              "      <th></th>\n",
              "      <th>s2</th>\n",
              "    </tr>\n",
              "  </thead>\n",
              "  <tbody>\n",
              "    <tr>\n",
              "      <th>80</th>\n",
              "      <td>0.246988</td>\n",
              "    </tr>\n",
              "    <tr>\n",
              "      <th>81</th>\n",
              "      <td>0.307229</td>\n",
              "    </tr>\n",
              "    <tr>\n",
              "      <th>82</th>\n",
              "      <td>0.533133</td>\n",
              "    </tr>\n",
              "    <tr>\n",
              "      <th>83</th>\n",
              "      <td>0.364458</td>\n",
              "    </tr>\n",
              "    <tr>\n",
              "      <th>84</th>\n",
              "      <td>0.382530</td>\n",
              "    </tr>\n",
              "  </tbody>\n",
              "</table>\n",
              "</div>"
            ],
            "text/plain": [
              "          s2\n",
              "80  0.246988\n",
              "81  0.307229\n",
              "82  0.533133\n",
              "83  0.364458\n",
              "84  0.382530"
            ]
          },
          "metadata": {
            "tags": []
          },
          "execution_count": 20
        }
      ]
    },
    {
      "cell_type": "code",
      "metadata": {
        "scrolled": false,
        "id": "m4zxdEoJm2lW",
        "colab_type": "code",
        "colab": {},
        "outputId": "017bbc3d-1cd2-4d59-d2d4-07b58396e202"
      },
      "source": [
        "df_ts.plot()"
      ],
      "execution_count": 0,
      "outputs": [
        {
          "output_type": "execute_result",
          "data": {
            "text/plain": [
              "<matplotlib.axes._subplots.AxesSubplot at 0x7f100211d208>"
            ]
          },
          "metadata": {
            "tags": []
          },
          "execution_count": 21
        },
        {
          "output_type": "display_data",
          "data": {
            "image/png": "[encoded data removed]",
            "text/plain": [
              "<Figure size 432x288 with 1 Axes>"
            ]
          },
          "metadata": {
            "tags": [],
            "needs_background": "light"
          }
        }
      ]
    },
    {
      "cell_type": "markdown",
      "metadata": {
        "id": "_zqkgmybm2lY",
        "colab_type": "text"
      },
      "source": [
        "### Stationarity\n",
        "From visual inspection, it seems that the series is not stationary (before 110 it tends to be low, in [110,120] the variance is high, then, toward the end it tends to to stay higher than 0.4)."
      ]
    },
    {
      "cell_type": "code",
      "metadata": {
        "id": "AdfPRfxGm2lY",
        "colab_type": "code",
        "colab": {}
      },
      "source": [
        "from statsmodels.tsa.stattools import adfuller, kpss\n",
        "result = adfuller(df_ts['s2'].values, autolag='AIC')\n",
        "\n",
        "print(f'ADF Statistic: {result[0]}')\n",
        "print(f'p-value: {result[1]}')\n",
        "for key, value in result[4].items():\n",
        "    print('Critial Values:')\n",
        "    print(f'   {key}, {value}')"
      ],
      "execution_count": 0,
      "outputs": []
    },
    {
      "cell_type": "code",
      "metadata": {
        "id": "8tb0QyoTm2la",
        "colab_type": "code",
        "colab": {},
        "outputId": "1065d807-422e-4ef3-9724-934a5bf82a7c"
      },
      "source": [
        "w=50\n",
        "df_avg = df_ts.rolling(window=w).mean()\n",
        "df_avg.plot()"
      ],
      "execution_count": 0,
      "outputs": [
        {
          "output_type": "execute_result",
          "data": {
            "text/plain": [
              "<matplotlib.axes._subplots.AxesSubplot at 0x7f0ff768e9e8>"
            ]
          },
          "metadata": {
            "tags": []
          },
          "execution_count": 68
        },
        {
          "output_type": "display_data",
          "data": {
            "image/png": "[encoded data removed]",
            "text/plain": [
              "<Figure size 432x288 with 1 Axes>"
            ]
          },
          "metadata": {
            "tags": [],
            "needs_background": "light"
          }
        }
      ]
    },
    {
      "cell_type": "markdown",
      "metadata": {
        "id": "REDsPG7mm2lb",
        "colab_type": "text"
      },
      "source": [
        "### Decomposition"
      ]
    },
    {
      "cell_type": "markdown",
      "metadata": {
        "id": "-rptJpium2lc",
        "colab_type": "text"
      },
      "source": [
        "The simple seasonal_decompose from statsmodel only works with well defined timestamps, which requires periods like week, year, day, etc., to be recognizable in your data.\n",
        "\n",
        "Since our data are a-temporal, we cannot use seasonal_decompose. We thus resort to a library written by Welch, which can be applied to any time-series, even if no timestamp is provided. The theory behind it is available [here](https://github.com/welch/seasonal#theory).\n",
        "\n",
        "The trend is a continuous function $\\hat g(t)$, in particular it is a polynomial of order 3. It is the result of polynomial regression, where the samples are the points $t_i, y_i$ of the original dataset. Actually, it is a weighted spline."
      ]
    },
    {
      "cell_type": "code",
      "metadata": {
        "scrolled": true,
        "id": "UNMhOuwdm2lc",
        "colab_type": "code",
        "colab": {},
        "outputId": "e1cf5abd-cd7c-4e4e-b7f8-13b204491c68"
      },
      "source": [
        "# From https://github.com/welch/seasonal\n",
        "# You need to \"pip install seasonal\" on your anaconda environment \n",
        "# the first time you use it.\n",
        "from seasonal import fit_seasons, adjust_seasons, fit_trend\n",
        "\n",
        "s = df_ts['s2'].values\n",
        "\n",
        "# Interesting values for trend: \"line\" and \"spline\"\n",
        "seasons, trend = fit_seasons(s, trend=\"spline\") \n",
        "\n",
        "if seasons != None:\n",
        "    adjusted = adjust_seasons(s, seasons=seasons)\n",
        "else:\n",
        "    print(\"No periodicity has been detected\")\n",
        "    adjusted = s\n",
        "    \n",
        "residual = adjusted - trend\n",
        "print(fit_trend.__doc__)"
      ],
      "execution_count": 0,
      "outputs": [
        {
          "output_type": "stream",
          "text": [
            "No periodicity has been detected\n",
            "Fit a trend for a possibly noisy, periodic timeseries.\n",
            "\n",
            "    Trend may be modeled by a line, cubic spline, or mean or median\n",
            "    filtered series.\n",
            "\n",
            "    Parameters\n",
            "    ----------\n",
            "    data : ndarray\n",
            "        list of observed values\n",
            "    kind : string (\"mean\", \"median\", \"line\", \"spline\", None)\n",
            "        if mean, apply a period-based mean filter\n",
            "        if median, apply a period-based median filter\n",
            "        if line, fit a slope to median-filtered data.\n",
            "        if spline, fit a piecewise cubic spline to the data\n",
            "        if None, return zeros\n",
            "    period : number\n",
            "        seasonal periodicity, for filtering the trend.\n",
            "        if None, will be estimated.\n",
            "    ptimes : number\n",
            "        multiple of period to use as smoothing window size\n",
            "\n",
            "    Returns\n",
            "    -------\n",
            "    trend : ndarray\n",
            "\n",
            "    \n"
          ],
          "name": "stdout"
        }
      ]
    },
    {
      "cell_type": "code",
      "metadata": {
        "id": "Tjo6cefQm2le",
        "colab_type": "code",
        "colab": {},
        "outputId": "4b7f0914-d819-4faa-ef07-3e62b30e6360"
      },
      "source": [
        "# visualize results\n",
        "plt.figure()\n",
        "plt.plot(s, label='data')\n",
        "plt.plot(trend, label='trend')\n",
        "plt.plot(residual, label='residual')\n",
        "plt.legend(loc='best')"
      ],
      "execution_count": 0,
      "outputs": [
        {
          "output_type": "execute_result",
          "data": {
            "text/plain": [
              "<matplotlib.legend.Legend at 0x7f0ff7b79c50>"
            ]
          },
          "metadata": {
            "tags": []
          },
          "execution_count": 63
        },
        {
          "output_type": "display_data",
          "data": {
            "image/png": "[encoded data removed]",
            "text/plain": [
              "<Figure size 432x288 with 1 Axes>"
            ]
          },
          "metadata": {
            "tags": [],
            "needs_background": "light"
          }
        }
      ]
    },
    {
      "cell_type": "code",
      "metadata": {
        "id": "dSf8rwQam2lh",
        "colab_type": "code",
        "colab": {}
      },
      "source": [
        "df_ts.index = pd.DatetimeIndex(freq=\"s\", start=0, \n",
        "                                periods=df_ts.shape[0])\n",
        "df_ts.head()"
      ],
      "execution_count": 0,
      "outputs": []
    },
    {
      "cell_type": "code",
      "metadata": {
        "id": "3lpt6hIhm2lj",
        "colab_type": "code",
        "colab": {}
      },
      "source": [
        "result_mul = seasonal_decompose(df_ts['s2'].values, \n",
        "                                model='multiplicative', \n",
        "                                extrapolate_trend='freq')"
      ],
      "execution_count": 0,
      "outputs": []
    },
    {
      "cell_type": "code",
      "metadata": {
        "id": "3NlA-Itdm2lp",
        "colab_type": "code",
        "colab": {}
      },
      "source": [
        "result_mul.plot()"
      ],
      "execution_count": 0,
      "outputs": []
    }
  ]
}