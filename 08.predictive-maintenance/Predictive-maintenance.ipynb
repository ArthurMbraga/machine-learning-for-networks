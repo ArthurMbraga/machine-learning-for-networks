{
  "nbformat": 4,
  "nbformat_minor": 0,
  "metadata": {
    "colab": {
      "name": "Untitled2.ipynb",
      "provenance": [],
      "authorship_tag": "ABX9TyMxFWSycZmr0bY0dvl+teLX",
      "include_colab_link": true
    },
    "kernelspec": {
      "name": "python3",
      "display_name": "Python 3"
    }
  },
  "cells": [
    {
      "cell_type": "markdown",
      "metadata": {
        "id": "view-in-github",
        "colab_type": "text"
      },
      "source": [
        "<a href=\"https://colab.research.google.com/github/andreaaraldo/machine-learning-for-networks/blob/master/08.predictive-maintenance/Predictive-maintenance.ipynb\" target=\"_parent\"><img src=\"https://colab.research.google.com/assets/colab-badge.svg\" alt=\"Open In Colab\"/></a>"
      ]
    },
    {
      "cell_type": "code",
      "metadata": {
        "id": "-YtOHlxr3T6j",
        "colab_type": "code",
        "colab": {
          "base_uri": "https://localhost:8080/",
          "height": 1000
        },
        "outputId": "7ad1bb10-6fae-4d62-c6a6-df41562696cd"
      },
      "source": [
        "import pandas as pd\n",
        "\n",
        "!pip install scikit-survival\n",
        "\n"
      ],
      "execution_count": 2,
      "outputs": [
        {
          "output_type": "stream",
          "text": [
            "Collecting scikit-survival==0.11\n",
            "\u001b[?25l  Downloading https://files.pythonhosted.org/packages/4d/dc/866c223cd09533ea18c7e716df851e76511bd1ce5f4f1d2d0e5ce3d1c1b7/scikit-survival-0.11.tar.gz (1.8MB)\n",
            "\u001b[K     |████████████████████████████████| 1.8MB 8.2MB/s \n",
            "\u001b[?25hCollecting cvxopt\n",
            "\u001b[?25l  Downloading https://files.pythonhosted.org/packages/bd/da/385b85d3ef47e72a242abe304a03cea098cb9ba6cdb795b044e8c7806b18/cvxopt-1.2.5-cp36-cp36m-manylinux1_x86_64.whl (11.6MB)\n",
            "\u001b[K     |████████████████████████████████| 11.7MB 21.8MB/s \n",
            "\u001b[?25hCollecting cvxpy>=1.0\n",
            "\u001b[?25l  Downloading https://files.pythonhosted.org/packages/11/d0/d900870dc2d02ea74961b90c353666c6528a33ea61a10aa59a0d5574ae59/cvxpy-1.0.31.tar.gz (947kB)\n",
            "\u001b[K     |████████████████████████████████| 952kB 25.3MB/s \n",
            "\u001b[?25h  Installing build dependencies ... \u001b[?25l\u001b[?25hdone\n",
            "  Getting requirements to build wheel ... \u001b[?25l\u001b[?25hdone\n",
            "    Preparing wheel metadata ... \u001b[?25l\u001b[?25hdone\n",
            "Collecting cython>=0.29\n",
            "\u001b[?25l  Downloading https://files.pythonhosted.org/packages/bc/bb/a5fa1fae3fc5412d79fce8d984cf96e1351685cdd60f289952b722a96cc8/Cython-0.29.18-cp36-cp36m-manylinux1_x86_64.whl (2.0MB)\n",
            "\u001b[K     |████████████████████████████████| 2.0MB 40.2MB/s \n",
            "\u001b[?25hCollecting numexpr\n",
            "\u001b[?25l  Downloading https://files.pythonhosted.org/packages/36/ed/eac5f6123f54a61cd13b7e89826b97edea54adf76d9f8e9fa2ce70e2fdf8/numexpr-2.7.1-cp36-cp36m-manylinux1_x86_64.whl (162kB)\n",
            "\u001b[K     |████████████████████████████████| 163kB 52.0MB/s \n",
            "\u001b[?25hCollecting numpy\n",
            "  Using cached https://files.pythonhosted.org/packages/03/27/e35e7c6e6a52fab9fcc64fc2b20c6b516eba930bb02b10ace3b38200d3ab/numpy-1.18.4-cp36-cp36m-manylinux1_x86_64.whl\n",
            "Collecting osqp!=0.6.0,!=0.6.1\n",
            "\u001b[?25l  Downloading https://files.pythonhosted.org/packages/c0/01/8becb29b0d38e0c40eab9e3d54aa8138fa62a010d519caf65e9210021bd3/osqp-0.5.0-cp36-cp36m-manylinux1_x86_64.whl (147kB)\n",
            "\u001b[K     |████████████████████████████████| 153kB 53.9MB/s \n",
            "\u001b[?25hCollecting pandas<0.26,>=0.21\n",
            "\u001b[?25l  Downloading https://files.pythonhosted.org/packages/52/3f/f6a428599e0d4497e1595030965b5ba455fd8ade6e977e3c819973c4b41d/pandas-0.25.3-cp36-cp36m-manylinux1_x86_64.whl (10.4MB)\n",
            "\u001b[K     |████████████████████████████████| 10.4MB 46.4MB/s \n",
            "\u001b[?25hCollecting scipy!=1.3.0,>=1.0\n",
            "  Using cached https://files.pythonhosted.org/packages/dc/29/162476fd44203116e7980cfbd9352eef9db37c49445d1fec35509022f6aa/scipy-1.4.1-cp36-cp36m-manylinux1_x86_64.whl\n",
            "Collecting scikit-learn<0.22,>=0.21.0\n",
            "\u001b[?25l  Downloading https://files.pythonhosted.org/packages/a0/c5/d2238762d780dde84a20b8c761f563fe882b88c5a5fb03c056547c442a19/scikit_learn-0.21.3-cp36-cp36m-manylinux1_x86_64.whl (6.7MB)\n",
            "\u001b[K     |████████████████████████████████| 6.7MB 44.3MB/s \n",
            "\u001b[?25hCollecting scs>=1.1.3\n",
            "\u001b[?25l  Downloading https://files.pythonhosted.org/packages/1a/72/33be87cce255d4e9dbbfef547e9fd6ec7ee94d0d0910bb2b13badea3fbbe/scs-2.1.2.tar.gz (3.5MB)\n",
            "\u001b[K     |████████████████████████████████| 3.6MB 41.5MB/s \n",
            "\u001b[?25hCollecting multiprocess\n",
            "\u001b[?25l  Downloading https://files.pythonhosted.org/packages/58/17/5151b6ac2ac9b6276d46c33369ff814b0901872b2a0871771252f02e9192/multiprocess-0.70.9.tar.gz (1.6MB)\n",
            "\u001b[K     |████████████████████████████████| 1.6MB 43.6MB/s \n",
            "\u001b[?25hCollecting ecos>=2\n",
            "\u001b[?25l  Downloading https://files.pythonhosted.org/packages/55/ed/d131ff51f3a8f73420eb1191345eb49f269f23cadef515172e356018cde3/ecos-2.0.7.post1-cp36-cp36m-manylinux1_x86_64.whl (147kB)\n",
            "\u001b[K     |████████████████████████████████| 153kB 49.1MB/s \n",
            "\u001b[?25hCollecting future\n",
            "\u001b[?25l  Downloading https://files.pythonhosted.org/packages/45/0b/38b06fd9b92dc2b68d58b75f900e97884c45bedd2ff83203d933cf5851c9/future-0.18.2.tar.gz (829kB)\n",
            "\u001b[K     |████████████████████████████████| 829kB 43.9MB/s \n",
            "\u001b[?25hCollecting python-dateutil>=2.6.1\n",
            "\u001b[?25l  Downloading https://files.pythonhosted.org/packages/d4/70/d60450c3dd48ef87586924207ae8907090de0b306af2bce5d134d78615cb/python_dateutil-2.8.1-py2.py3-none-any.whl (227kB)\n",
            "\u001b[K     |████████████████████████████████| 235kB 49.9MB/s \n",
            "\u001b[?25hCollecting pytz>=2017.2\n",
            "\u001b[?25l  Downloading https://files.pythonhosted.org/packages/4f/a4/879454d49688e2fad93e59d7d4efda580b783c745fd2ec2a3adf87b0808d/pytz-2020.1-py2.py3-none-any.whl (510kB)\n",
            "\u001b[K     |████████████████████████████████| 512kB 47.1MB/s \n",
            "\u001b[?25hCollecting joblib>=0.11\n",
            "\u001b[?25l  Downloading https://files.pythonhosted.org/packages/b8/a6/d1a816b89aa1e9e96bcb298eb1ee1854f21662ebc6d55ffa3d7b3b50122b/joblib-0.15.1-py3-none-any.whl (298kB)\n",
            "\u001b[K     |████████████████████████████████| 307kB 48.8MB/s \n",
            "\u001b[?25hCollecting dill>=0.3.1\n",
            "\u001b[?25l  Downloading https://files.pythonhosted.org/packages/c7/11/345f3173809cea7f1a193bfbf02403fff250a3360e0e118a1630985e547d/dill-0.3.1.1.tar.gz (151kB)\n",
            "\u001b[K     |████████████████████████████████| 153kB 52.9MB/s \n",
            "\u001b[?25hCollecting six>=1.5\n",
            "  Downloading https://files.pythonhosted.org/packages/65/eb/1f97cb97bfc2390a276969c6fae16075da282f5058082d4cb10c6c5c1dba/six-1.14.0-py2.py3-none-any.whl\n",
            "Building wheels for collected packages: cvxpy\n",
            "  Building wheel for cvxpy (PEP 517) ... \u001b[?25l\u001b[?25hdone\n",
            "  Created wheel for cvxpy: filename=cvxpy-1.0.31-cp36-cp36m-linux_x86_64.whl size=2114509 sha256=969eb5a3e6e84029db9bff83b4cc054c09cd18faa6e4170d6e7d58937dbc1b48\n",
            "  Stored in directory: /root/.cache/pip/wheels/5d/9f/e3/7df1ddb5ab86f87a43c7a9d03fb1eb8571c974e5447f206d68\n",
            "Successfully built cvxpy\n",
            "Building wheels for collected packages: scikit-survival, scs, multiprocess, future, dill\n",
            "  Building wheel for scikit-survival (setup.py) ... \u001b[?25l\u001b[?25hdone\n",
            "  Created wheel for scikit-survival: filename=scikit_survival-0.11-cp36-cp36m-linux_x86_64.whl size=2365231 sha256=00382ba00368a0109c48a664c307609a98449b799b98f07f53717af97a37a922\n",
            "  Stored in directory: /root/.cache/pip/wheels/bf/2b/7d/8b998b558e8bd884960eb75344a1872ca0a1287d66a7834df0\n",
            "  Building wheel for scs (setup.py) ... \u001b[?25l\u001b[?25hdone\n",
            "  Created wheel for scs: filename=scs-2.1.2-cp36-cp36m-linux_x86_64.whl size=517575 sha256=2b5d8eede6856e9aaf866bc7673f45b00d427612ef2736b24ea31193dbf2fbc7\n",
            "  Stored in directory: /root/.cache/pip/wheels/df/d0/79/37ea880586da03c620ca9ecd5e42adbd86bc6ea84363965c5f\n",
            "  Building wheel for multiprocess (setup.py) ... \u001b[?25l\u001b[?25hdone\n",
            "  Created wheel for multiprocess: filename=multiprocess-0.70.9-cp36-none-any.whl size=100647 sha256=e486af679029a6529f2a8118691bdb880077251d05a7eb75da5f84c3a88b48e1\n",
            "  Stored in directory: /root/.cache/pip/wheels/96/20/ac/9f1d164f7d81787cd6f4401b1d05212807d021fbbbcc301b82\n",
            "  Building wheel for future (setup.py) ... \u001b[?25l\u001b[?25hdone\n",
            "  Created wheel for future: filename=future-0.18.2-cp36-none-any.whl size=491057 sha256=2020e846a480cf62cf92fa0cdddb873c9d10be475e4a1262df712da5779dafe4\n",
            "  Stored in directory: /root/.cache/pip/wheels/8b/99/a0/81daf51dcd359a9377b110a8a886b3895921802d2fc1b2397e\n",
            "  Building wheel for dill (setup.py) ... \u001b[?25l\u001b[?25hdone\n",
            "  Created wheel for dill: filename=dill-0.3.1.1-cp36-none-any.whl size=78532 sha256=9dd4341402744be53381405311fcbd756527407296479d745feb66a3384bb95b\n",
            "  Stored in directory: /root/.cache/pip/wheels/59/b1/91/f02e76c732915c4015ab4010f3015469866c1eb9b14058d8e7\n",
            "Successfully built scikit-survival scs multiprocess future dill\n",
            "\u001b[31mERROR: google-colab 1.0.0 has requirement pandas~=1.0.0; python_version >= \"3.0\", but you'll have pandas 0.25.3 which is incompatible.\u001b[0m\n",
            "\u001b[31mERROR: google-colab 1.0.0 has requirement six~=1.12.0, but you'll have six 1.14.0 which is incompatible.\u001b[0m\n",
            "\u001b[31mERROR: datascience 0.10.6 has requirement folium==0.2.1, but you'll have folium 0.8.3 which is incompatible.\u001b[0m\n",
            "\u001b[31mERROR: albumentations 0.1.12 has requirement imgaug<0.2.7,>=0.2.5, but you'll have imgaug 0.2.9 which is incompatible.\u001b[0m\n",
            "Installing collected packages: cvxopt, numpy, scipy, scs, dill, multiprocess, future, osqp, ecos, cvxpy, cython, numexpr, six, python-dateutil, pytz, pandas, joblib, scikit-learn, scikit-survival\n",
            "Successfully installed cvxopt-1.2.5 cvxpy-1.0.31 cython-0.29.18 dill-0.3.1.1 ecos-2.0.7.post1 future-0.18.2 joblib-0.15.1 multiprocess-0.70.9 numexpr-2.7.1 numpy-1.18.4 osqp-0.6.1 pandas-1.0.3 python-dateutil-2.8.1 pytz-2020.1 scikit-learn-0.22.2.post1 scikit-survival-0.11 scipy-1.4.1 scs-2.1.2 six-1.14.0\n"
          ],
          "name": "stdout"
        },
        {
          "output_type": "display_data",
          "data": {
            "application/vnd.colab-display-data+json": {
              "pip_warning": {
                "packages": [
                  "dateutil",
                  "numpy",
                  "pandas",
                  "pytz",
                  "six"
                ]
              }
            }
          },
          "metadata": {
            "tags": []
          }
        }
      ]
    },
    {
      "cell_type": "code",
      "metadata": {
        "id": "fIquf0Kf822g",
        "colab_type": "code",
        "colab": {}
      },
      "source": [
        "#import sksurv \n",
        "#from sksurv.linear_model import CoxPHSurvivalAnalysis\n",
        "#from sksurv.metrics import concordance_index_censored"
      ],
      "execution_count": 0,
      "outputs": []
    },
    {
      "cell_type": "code",
      "metadata": {
        "id": "MkyxMPGC4MUV",
        "colab_type": "code",
        "colab": {}
      },
      "source": [
        ""
      ],
      "execution_count": 0,
      "outputs": []
    },
    {
      "cell_type": "code",
      "metadata": {
        "id": "O7ez_-cw2wDm",
        "colab_type": "code",
        "colab": {
          "base_uri": "https://localhost:8080/",
          "height": 432
        },
        "outputId": "48b966c2-b8f2-4df1-a3ac-cb8c780f456c"
      },
      "source": [
        "! wget https://raw.githubusercontent.com/andreaaraldo/machine-learning-for-networks/master/08.predictive-maintenance/dataset/transformed/test_set.csv\n",
        "! wget https://raw.githubusercontent.com/andreaaraldo/machine-learning-for-networks/master/08.predictive-maintenance/dataset/transformed/training_set.csv"
      ],
      "execution_count": 2,
      "outputs": [
        {
          "output_type": "stream",
          "text": [
            "--2020-05-19 21:36:11--  https://raw.githubusercontent.com/andreaaraldo/machine-learning-for-networks/master/08.predictive-maintenance/dataset/transformed/test_set.csv\n",
            "Resolving raw.githubusercontent.com (raw.githubusercontent.com)... 151.101.0.133, 151.101.64.133, 151.101.128.133, ...\n",
            "Connecting to raw.githubusercontent.com (raw.githubusercontent.com)|151.101.0.133|:443... connected.\n",
            "HTTP request sent, awaiting response... 200 OK\n",
            "Length: 4397297 (4.2M) [text/plain]\n",
            "Saving to: ‘test_set.csv’\n",
            "\n",
            "\rtest_set.csv          0%[                    ]       0  --.-KB/s               \rtest_set.csv        100%[===================>]   4.19M  --.-KB/s    in 0.08s   \n",
            "\n",
            "2020-05-19 21:36:12 (50.3 MB/s) - ‘test_set.csv’ saved [4397297/4397297]\n",
            "\n",
            "--2020-05-19 21:36:13--  https://raw.githubusercontent.com/andreaaraldo/machine-learning-for-networks/master/08.predictive-maintenance/dataset/transformed/training_set.csv\n",
            "Resolving raw.githubusercontent.com (raw.githubusercontent.com)... 151.101.0.133, 151.101.64.133, 151.101.128.133, ...\n",
            "Connecting to raw.githubusercontent.com (raw.githubusercontent.com)|151.101.0.133|:443... connected.\n",
            "HTTP request sent, awaiting response... 200 OK\n",
            "Length: 6908785 (6.6M) [text/plain]\n",
            "Saving to: ‘training_set.csv’\n",
            "\n",
            "training_set.csv    100%[===================>]   6.59M  19.0MB/s    in 0.3s    \n",
            "\n",
            "2020-05-19 21:36:13 (19.0 MB/s) - ‘training_set.csv’ saved [6908785/6908785]\n",
            "\n"
          ],
          "name": "stdout"
        }
      ]
    },
    {
      "cell_type": "code",
      "metadata": {
        "id": "-XyDoVpt3X-9",
        "colab_type": "code",
        "colab": {}
      },
      "source": [
        "df_trn = pd.read_csv(\"training_set.csv\")\n",
        "df_test = pd.read_csv(\"training_set.csv\")"
      ],
      "execution_count": 0,
      "outputs": []
    },
    {
      "cell_type": "code",
      "metadata": {
        "id": "N19r5JgY3lXl",
        "colab_type": "code",
        "colab": {
          "base_uri": "https://localhost:8080/",
          "height": 226
        },
        "outputId": "2980d9a2-b82e-4b51-d72c-08c6c7338720"
      },
      "source": [
        "df_trn.head()"
      ],
      "execution_count": 4,
      "outputs": [
        {
          "output_type": "execute_result",
          "data": {
            "text/html": [
              "<div>\n",
              "<style scoped>\n",
              "    .dataframe tbody tr th:only-of-type {\n",
              "        vertical-align: middle;\n",
              "    }\n",
              "\n",
              "    .dataframe tbody tr th {\n",
              "        vertical-align: top;\n",
              "    }\n",
              "\n",
              "    .dataframe thead th {\n",
              "        text-align: right;\n",
              "    }\n",
              "</style>\n",
              "<table border=\"1\" class=\"dataframe\">\n",
              "  <thead>\n",
              "    <tr style=\"text-align: right;\">\n",
              "      <th></th>\n",
              "      <th>setting1</th>\n",
              "      <th>setting2</th>\n",
              "      <th>setting3</th>\n",
              "      <th>s1</th>\n",
              "      <th>s2</th>\n",
              "      <th>s3</th>\n",
              "      <th>s4</th>\n",
              "      <th>s5</th>\n",
              "      <th>s6</th>\n",
              "      <th>s7</th>\n",
              "      <th>s8</th>\n",
              "      <th>s9</th>\n",
              "      <th>s10</th>\n",
              "      <th>s11</th>\n",
              "      <th>s12</th>\n",
              "      <th>s13</th>\n",
              "      <th>s14</th>\n",
              "      <th>s15</th>\n",
              "      <th>s16</th>\n",
              "      <th>s17</th>\n",
              "      <th>s18</th>\n",
              "      <th>s19</th>\n",
              "      <th>s20</th>\n",
              "      <th>s21</th>\n",
              "      <th>remaining_duration</th>\n",
              "      <th>failure_observed</th>\n",
              "    </tr>\n",
              "  </thead>\n",
              "  <tbody>\n",
              "    <tr>\n",
              "      <th>0</th>\n",
              "      <td>0.459770</td>\n",
              "      <td>0.166667</td>\n",
              "      <td>0.0</td>\n",
              "      <td>0.0</td>\n",
              "      <td>0.183735</td>\n",
              "      <td>0.406802</td>\n",
              "      <td>0.309757</td>\n",
              "      <td>0.0</td>\n",
              "      <td>1.0</td>\n",
              "      <td>0.726248</td>\n",
              "      <td>0.242424</td>\n",
              "      <td>0.109755</td>\n",
              "      <td>0.0</td>\n",
              "      <td>0.369048</td>\n",
              "      <td>0.633262</td>\n",
              "      <td>0.205882</td>\n",
              "      <td>0.199608</td>\n",
              "      <td>0.363986</td>\n",
              "      <td>0.0</td>\n",
              "      <td>0.333333</td>\n",
              "      <td>0.0</td>\n",
              "      <td>0.0</td>\n",
              "      <td>0.713178</td>\n",
              "      <td>0.724662</td>\n",
              "      <td>191</td>\n",
              "      <td>1</td>\n",
              "    </tr>\n",
              "    <tr>\n",
              "      <th>1</th>\n",
              "      <td>0.609195</td>\n",
              "      <td>0.250000</td>\n",
              "      <td>0.0</td>\n",
              "      <td>0.0</td>\n",
              "      <td>0.283133</td>\n",
              "      <td>0.453019</td>\n",
              "      <td>0.352633</td>\n",
              "      <td>0.0</td>\n",
              "      <td>1.0</td>\n",
              "      <td>0.628019</td>\n",
              "      <td>0.212121</td>\n",
              "      <td>0.100242</td>\n",
              "      <td>0.0</td>\n",
              "      <td>0.380952</td>\n",
              "      <td>0.765458</td>\n",
              "      <td>0.279412</td>\n",
              "      <td>0.162813</td>\n",
              "      <td>0.411312</td>\n",
              "      <td>0.0</td>\n",
              "      <td>0.333333</td>\n",
              "      <td>0.0</td>\n",
              "      <td>0.0</td>\n",
              "      <td>0.666667</td>\n",
              "      <td>0.731014</td>\n",
              "      <td>190</td>\n",
              "      <td>0</td>\n",
              "    </tr>\n",
              "    <tr>\n",
              "      <th>2</th>\n",
              "      <td>0.252874</td>\n",
              "      <td>0.750000</td>\n",
              "      <td>0.0</td>\n",
              "      <td>0.0</td>\n",
              "      <td>0.343373</td>\n",
              "      <td>0.369523</td>\n",
              "      <td>0.370527</td>\n",
              "      <td>0.0</td>\n",
              "      <td>1.0</td>\n",
              "      <td>0.710145</td>\n",
              "      <td>0.272727</td>\n",
              "      <td>0.140043</td>\n",
              "      <td>0.0</td>\n",
              "      <td>0.250000</td>\n",
              "      <td>0.795309</td>\n",
              "      <td>0.220588</td>\n",
              "      <td>0.171793</td>\n",
              "      <td>0.357445</td>\n",
              "      <td>0.0</td>\n",
              "      <td>0.166667</td>\n",
              "      <td>0.0</td>\n",
              "      <td>0.0</td>\n",
              "      <td>0.627907</td>\n",
              "      <td>0.621375</td>\n",
              "      <td>189</td>\n",
              "      <td>0</td>\n",
              "    </tr>\n",
              "    <tr>\n",
              "      <th>3</th>\n",
              "      <td>0.540230</td>\n",
              "      <td>0.500000</td>\n",
              "      <td>0.0</td>\n",
              "      <td>0.0</td>\n",
              "      <td>0.343373</td>\n",
              "      <td>0.256159</td>\n",
              "      <td>0.331195</td>\n",
              "      <td>0.0</td>\n",
              "      <td>1.0</td>\n",
              "      <td>0.740741</td>\n",
              "      <td>0.318182</td>\n",
              "      <td>0.124518</td>\n",
              "      <td>0.0</td>\n",
              "      <td>0.166667</td>\n",
              "      <td>0.889126</td>\n",
              "      <td>0.294118</td>\n",
              "      <td>0.174889</td>\n",
              "      <td>0.166603</td>\n",
              "      <td>0.0</td>\n",
              "      <td>0.333333</td>\n",
              "      <td>0.0</td>\n",
              "      <td>0.0</td>\n",
              "      <td>0.573643</td>\n",
              "      <td>0.662386</td>\n",
              "      <td>188</td>\n",
              "      <td>1</td>\n",
              "    </tr>\n",
              "    <tr>\n",
              "      <th>4</th>\n",
              "      <td>0.390805</td>\n",
              "      <td>0.333333</td>\n",
              "      <td>0.0</td>\n",
              "      <td>0.0</td>\n",
              "      <td>0.349398</td>\n",
              "      <td>0.257467</td>\n",
              "      <td>0.404625</td>\n",
              "      <td>0.0</td>\n",
              "      <td>1.0</td>\n",
              "      <td>0.668277</td>\n",
              "      <td>0.242424</td>\n",
              "      <td>0.149960</td>\n",
              "      <td>0.0</td>\n",
              "      <td>0.255952</td>\n",
              "      <td>0.746269</td>\n",
              "      <td>0.235294</td>\n",
              "      <td>0.174734</td>\n",
              "      <td>0.402078</td>\n",
              "      <td>0.0</td>\n",
              "      <td>0.416667</td>\n",
              "      <td>0.0</td>\n",
              "      <td>0.0</td>\n",
              "      <td>0.589147</td>\n",
              "      <td>0.704502</td>\n",
              "      <td>187</td>\n",
              "      <td>1</td>\n",
              "    </tr>\n",
              "  </tbody>\n",
              "</table>\n",
              "</div>"
            ],
            "text/plain": [
              "   setting1  setting2  setting3  ...       s21  remaining_duration  failure_observed\n",
              "0  0.459770  0.166667       0.0  ...  0.724662                 191                 1\n",
              "1  0.609195  0.250000       0.0  ...  0.731014                 190                 0\n",
              "2  0.252874  0.750000       0.0  ...  0.621375                 189                 0\n",
              "3  0.540230  0.500000       0.0  ...  0.662386                 188                 1\n",
              "4  0.390805  0.333333       0.0  ...  0.704502                 187                 1\n",
              "\n",
              "[5 rows x 26 columns]"
            ]
          },
          "metadata": {
            "tags": []
          },
          "execution_count": 4
        }
      ]
    },
    {
      "cell_type": "markdown",
      "metadata": {
        "id": "plrICKAO35bZ",
        "colab_type": "text"
      },
      "source": [
        ""
      ]
    },
    {
      "cell_type": "code",
      "metadata": {
        "id": "dJ2B4Ktc37Ak",
        "colab_type": "code",
        "colab": {}
      },
      "source": [
        ""
      ],
      "execution_count": 0,
      "outputs": []
    }
  ]
}