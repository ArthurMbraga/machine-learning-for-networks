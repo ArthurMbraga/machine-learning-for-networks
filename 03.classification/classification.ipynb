{
  "nbformat": 4,
  "nbformat_minor": 0,
  "metadata": {
    "kernelspec": {
      "display_name": "Python 3",
      "language": "python",
      "name": "python3"
    },
    "language_info": {
      "codemirror_mode": {
        "name": "ipython",
        "version": 3
      },
      "file_extension": ".py",
      "mimetype": "text/x-python",
      "name": "python",
      "nbconvert_exporter": "python",
      "pygments_lexer": "ipython3",
      "version": "3.6.8"
    },
    "colab": {
      "name": "classification.ipynb",
      "provenance": []
    }
  },
  "cells": [
    {
      "cell_type": "markdown",
      "metadata": {
        "id": "-Vr-wBr92C5M",
        "colab_type": "text"
      },
      "source": [
        "[![Open In Colab](https://colab.research.google.com/assets/colab-badge.svg)](https://colab.research.google.com/github/andreaaraldo/machine-learning-for-networks/blob/master/03.classification/classification.ipynb)"
      ]
    },
    {
      "cell_type": "code",
      "metadata": {
        "id": "Tfn4oGZi2C5R",
        "colab_type": "code",
        "colab": {
          "base_uri": "https://localhost:8080/",
          "height": 570
        },
        "outputId": "f492143f-38fa-4292-888c-16ce302a8578"
      },
      "source": [
        "import pandas as pd\n",
        "import numpy as np\n",
        "from sklearn.model_selection import train_test_split\n",
        "from sklearn.linear_model import LogisticRegression\n",
        "\n",
        "!pip install regressors\n",
        "from regressors import stats # To print information about \n",
        "                            # regression.\n",
        "        \n",
        "from sklearn.pipeline import make_pipeline\n",
        "        \n",
        "from sklearn.metrics import accuracy_score, classification_report\n",
        "from sklearn.model_selection import GridSearchCV, KFold\n",
        "\n",
        "import matplotlib.pyplot as plt\n",
        "%matplotlib inline\n",
        "\n",
        "from sklearn.preprocessing import StandardScaler\n",
        "\n",
        "\n",
        "# May not work in the old versions of scikit-learn\n",
        "from sklearn.metrics import plot_confusion_matrix  \n",
        "\n",
        "from imblearn.over_sampling import SMOTE"
      ],
      "execution_count": 2,
      "outputs": [
        {
          "output_type": "stream",
          "text": [
            "Collecting regressors\n",
            "  Downloading https://files.pythonhosted.org/packages/80/5d/bacfcf2b3865305156e2507ed9a968cb6c7f326cad1d1720e60f80d02797/regressors-0.0.3.tar.gz\n",
            "Requirement already satisfied: numpy>=1.6.1 in /usr/local/lib/python3.6/dist-packages (from regressors) (1.17.5)\n",
            "Requirement already satisfied: scipy>=0.9 in /usr/local/lib/python3.6/dist-packages (from regressors) (1.4.1)\n",
            "Requirement already satisfied: matplotlib in /usr/local/lib/python3.6/dist-packages (from regressors) (3.1.3)\n",
            "Requirement already satisfied: scikit-learn>=0.17 in /usr/local/lib/python3.6/dist-packages (from regressors) (0.22.1)\n",
            "Requirement already satisfied: statsmodels>=0.6.1 in /usr/local/lib/python3.6/dist-packages (from regressors) (0.10.2)\n",
            "Requirement already satisfied: seaborn in /usr/local/lib/python3.6/dist-packages (from regressors) (0.10.0)\n",
            "Requirement already satisfied: pandas in /usr/local/lib/python3.6/dist-packages (from regressors) (0.25.3)\n",
            "Requirement already satisfied: pyparsing!=2.0.4,!=2.1.2,!=2.1.6,>=2.0.1 in /usr/local/lib/python3.6/dist-packages (from matplotlib->regressors) (2.4.6)\n",
            "Requirement already satisfied: cycler>=0.10 in /usr/local/lib/python3.6/dist-packages (from matplotlib->regressors) (0.10.0)\n",
            "Requirement already satisfied: python-dateutil>=2.1 in /usr/local/lib/python3.6/dist-packages (from matplotlib->regressors) (2.6.1)\n",
            "Requirement already satisfied: kiwisolver>=1.0.1 in /usr/local/lib/python3.6/dist-packages (from matplotlib->regressors) (1.1.0)\n",
            "Requirement already satisfied: joblib>=0.11 in /usr/local/lib/python3.6/dist-packages (from scikit-learn>=0.17->regressors) (0.14.1)\n",
            "Requirement already satisfied: patsy>=0.4.0 in /usr/local/lib/python3.6/dist-packages (from statsmodels>=0.6.1->regressors) (0.5.1)\n",
            "Requirement already satisfied: pytz>=2017.2 in /usr/local/lib/python3.6/dist-packages (from pandas->regressors) (2018.9)\n",
            "Requirement already satisfied: six in /usr/local/lib/python3.6/dist-packages (from cycler>=0.10->matplotlib->regressors) (1.12.0)\n",
            "Requirement already satisfied: setuptools in /usr/local/lib/python3.6/dist-packages (from kiwisolver>=1.0.1->matplotlib->regressors) (45.1.0)\n",
            "Building wheels for collected packages: regressors\n",
            "  Building wheel for regressors (setup.py) ... \u001b[?25l\u001b[?25hdone\n",
            "  Created wheel for regressors: filename=regressors-0.0.3-py2.py3-none-any.whl size=12374 sha256=8b6ee99e98cba4e7c8ad07f69d35c5a06517a9eda85e5b02bcba3adab064da8b\n",
            "  Stored in directory: /root/.cache/pip/wheels/b2/89/fc/7867f77234d0033395f7ad9814f245b337139acaa06b085aa2\n",
            "Successfully built regressors\n",
            "Installing collected packages: regressors\n",
            "Successfully installed regressors-0.0.3\n"
          ],
          "name": "stdout"
        },
        {
          "output_type": "stream",
          "text": [
            "/usr/local/lib/python3.6/dist-packages/sklearn/externals/six.py:31: FutureWarning: The module is deprecated in version 0.21 and will be removed in version 0.23 since we've dropped support for Python 2.7. Please rely on the official version of six (https://pypi.org/project/six/).\n",
            "  \"(https://pypi.org/project/six/).\", FutureWarning)\n",
            "/usr/local/lib/python3.6/dist-packages/sklearn/utils/deprecation.py:144: FutureWarning: The sklearn.neighbors.base module is  deprecated in version 0.22 and will be removed in version 0.24. The corresponding classes / functions should instead be imported from sklearn.neighbors. Anything that cannot be imported from sklearn.neighbors is now part of the private API.\n",
            "  warnings.warn(message, FutureWarning)\n"
          ],
          "name": "stderr"
        }
      ]
    },
    {
      "cell_type": "code",
      "metadata": {
        "id": "6Yh2SEcE3L0i",
        "colab_type": "code",
        "colab": {}
      },
      "source": [
        "savefigures=True"
      ],
      "execution_count": 0,
      "outputs": []
    },
    {
      "cell_type": "markdown",
      "metadata": {
        "id": "6V2i7HKP246b",
        "colab_type": "text"
      },
      "source": [
        "Download the dataset from my github"
      ]
    },
    {
      "cell_type": "code",
      "metadata": {
        "id": "I_bYiNxp2C5j",
        "colab_type": "code",
        "colab": {
          "base_uri": "https://localhost:8080/",
          "height": 239
        },
        "outputId": "5249a8b7-51af-479e-b98b-67c09b26d308"
      },
      "source": [
        "dataset_to_use = 'A'\n",
        "mydatasets_folder = \"https://raw.githubusercontent.com/andreaaraldo/machine-learning-for-networks/master/processed_datasets/requet/\"\n",
        "filename = \"df.\"+ dataset_to_use+\"_2.csv\"\n",
        "complete_name = mydatasets_folder+filename\n",
        "!wget $complete_name\n"
      ],
      "execution_count": 3,
      "outputs": [
        {
          "output_type": "stream",
          "text": [
            "--2020-03-03 14:44:41--  https://raw.githubusercontent.com/andreaaraldo/machine-learning-for-networks/master/processed_datasets/requet/df.A_2.csv\n",
            "Resolving raw.githubusercontent.com (raw.githubusercontent.com)... 151.101.0.133, 151.101.64.133, 151.101.128.133, ...\n",
            "Connecting to raw.githubusercontent.com (raw.githubusercontent.com)|151.101.0.133|:443... connected.\n",
            "HTTP request sent, awaiting response... 200 OK\n",
            "Length: 315832 (308K) [text/plain]\n",
            "Saving to: ‘df.A_2.csv’\n",
            "\n",
            "\rdf.A_2.csv            0%[                    ]       0  --.-KB/s               \rdf.A_2.csv          100%[===================>] 308.43K  --.-KB/s    in 0.06s   \n",
            "\n",
            "2020-03-03 14:44:42 (5.45 MB/s) - ‘df.A_2.csv’ saved [315832/315832]\n",
            "\n"
          ],
          "name": "stdout"
        }
      ]
    },
    {
      "cell_type": "code",
      "metadata": {
        "id": "LfNTDaVS2xjG",
        "colab_type": "code",
        "colab": {}
      },
      "source": [
        "df = pd.read_csv(filename)"
      ],
      "execution_count": 0,
      "outputs": []
    },
    {
      "cell_type": "code",
      "metadata": {
        "scrolled": true,
        "id": "d9RI7qSw2C5s",
        "colab_type": "code",
        "colab": {
          "base_uri": "https://localhost:8080/",
          "height": 54
        },
        "outputId": "138aa512-8422-44c0-f408-6f76d746efb9"
      },
      "source": [
        "print(\"The resolutions found in our dataset are\")\n",
        "set(df['label_num'].values)"
      ],
      "execution_count": 7,
      "outputs": [
        {
          "output_type": "stream",
          "text": [
            "The resolutions found in our dataset are\n"
          ],
          "name": "stdout"
        },
        {
          "output_type": "execute_result",
          "data": {
            "text/plain": [
              "{144, 240, 360, 480, 720, 1080}"
            ]
          },
          "metadata": {
            "tags": []
          },
          "execution_count": 7
        }
      ]
    },
    {
      "cell_type": "markdown",
      "metadata": {
        "id": "3JFz9NcU2C52",
        "colab_type": "text"
      },
      "source": [
        "How many samples in each class?"
      ]
    },
    {
      "cell_type": "code",
      "metadata": {
        "id": "tIqNr-kk2C55",
        "colab_type": "code",
        "colab": {
          "base_uri": "https://localhost:8080/",
          "height": 146
        },
        "outputId": "5a429494-d735-44dd-ccb4-9571c391af86"
      },
      "source": [
        "df['label_num'].value_counts()"
      ],
      "execution_count": 8,
      "outputs": [
        {
          "output_type": "execute_result",
          "data": {
            "text/plain": [
              "720     92\n",
              "480     63\n",
              "1080    55\n",
              "360     33\n",
              "144     27\n",
              "240     22\n",
              "Name: label_num, dtype: int64"
            ]
          },
          "metadata": {
            "tags": []
          },
          "execution_count": 8
        }
      ]
    },
    {
      "cell_type": "markdown",
      "metadata": {
        "id": "Qx2SQZOt2C6C",
        "colab_type": "text"
      },
      "source": [
        "We want to infer whether the resolution of the transmitted video is low (<=240) or high (>=360)"
      ]
    },
    {
      "cell_type": "code",
      "metadata": {
        "id": "5oJj_qhX2C6E",
        "colab_type": "code",
        "colab": {
          "base_uri": "https://localhost:8080/",
          "height": 127
        },
        "outputId": "bc00c5ae-26f7-464b-c8d3-d2ddaaefb93a"
      },
      "source": [
        "high_res = df['label_num']>=720\n",
        "high_res.head()"
      ],
      "execution_count": 9,
      "outputs": [
        {
          "output_type": "execute_result",
          "data": {
            "text/plain": [
              "0    False\n",
              "1    False\n",
              "2     True\n",
              "3    False\n",
              "4    False\n",
              "Name: label_num, dtype: bool"
            ]
          },
          "metadata": {
            "tags": []
          },
          "execution_count": 9
        }
      ]
    },
    {
      "cell_type": "markdown",
      "metadata": {
        "id": "vfQ4r0ya2C6M",
        "colab_type": "text"
      },
      "source": [
        "Convert into `int`"
      ]
    },
    {
      "cell_type": "code",
      "metadata": {
        "scrolled": false,
        "id": "5NgalOJf2C6O",
        "colab_type": "code",
        "colab": {
          "base_uri": "https://localhost:8080/",
          "height": 127
        },
        "outputId": "d6a8b525-0080-41bf-d745-dc3b367639e7"
      },
      "source": [
        "high_res = high_res.astype(np.int)\n",
        "high_res.head()"
      ],
      "execution_count": 10,
      "outputs": [
        {
          "output_type": "execute_result",
          "data": {
            "text/plain": [
              "0    0\n",
              "1    0\n",
              "2    1\n",
              "3    0\n",
              "4    0\n",
              "Name: label_num, dtype: int64"
            ]
          },
          "metadata": {
            "tags": []
          },
          "execution_count": 10
        }
      ]
    },
    {
      "cell_type": "markdown",
      "metadata": {
        "id": "PCpiiFDP2C6V",
        "colab_type": "text"
      },
      "source": [
        "Let's add it to the dataframe"
      ]
    },
    {
      "cell_type": "code",
      "metadata": {
        "id": "yt_uS4ZX2C6Y",
        "colab_type": "code",
        "colab": {}
      },
      "source": [
        "df['high_res'] = high_res"
      ],
      "execution_count": 0,
      "outputs": []
    },
    {
      "cell_type": "markdown",
      "metadata": {
        "id": "OtgX_H9y2C6f",
        "colab_type": "text"
      },
      "source": [
        "# Simple binary classification"
      ]
    },
    {
      "cell_type": "code",
      "metadata": {
        "id": "-pV73WJR2C6i",
        "colab_type": "code",
        "colab": {}
      },
      "source": [
        "df_train,df_test = train_test_split(df, test_size=0.2, random_state=1)\n",
        "\n",
        "columns = ['BytesReceived0', 'PacketsSent0']\n",
        "\n",
        "X_train = df_train[columns]\n",
        "X_test = df_test[columns]\n",
        "y_train = df_train['high_res']\n",
        "y_test = df_test['high_res']"
      ],
      "execution_count": 0,
      "outputs": []
    },
    {
      "cell_type": "markdown",
      "metadata": {
        "id": "5SA5mcPo2C6n",
        "colab_type": "text"
      },
      "source": [
        "Logistic regression adds by default a regularization with weight `C`>0.\n",
        "Let's try with no regularization first"
      ]
    },
    {
      "cell_type": "code",
      "metadata": {
        "id": "pJesnyet2C6q",
        "colab_type": "code",
        "colab": {
          "base_uri": "https://localhost:8080/",
          "height": 109
        },
        "outputId": "e8df490c-3a95-4334-9e9f-4246066ebbaf"
      },
      "source": [
        "model = LogisticRegression(C=1e-9)\n",
        "model.fit(X_train, y_train)"
      ],
      "execution_count": 13,
      "outputs": [
        {
          "output_type": "execute_result",
          "data": {
            "text/plain": [
              "LogisticRegression(C=1e-09, class_weight=None, dual=False, fit_intercept=True,\n",
              "                   intercept_scaling=1, l1_ratio=None, max_iter=100,\n",
              "                   multi_class='auto', n_jobs=None, penalty='l2',\n",
              "                   random_state=None, solver='lbfgs', tol=0.0001, verbose=0,\n",
              "                   warm_start=False)"
            ]
          },
          "metadata": {
            "tags": []
          },
          "execution_count": 13
        }
      ]
    },
    {
      "cell_type": "code",
      "metadata": {
        "scrolled": true,
        "id": "BKLNhQs22C6y",
        "colab_type": "code",
        "colab": {
          "base_uri": "https://localhost:8080/",
          "height": 1000
        },
        "outputId": "5e036c73-37a8-43cc-e0d6-5917ca242db0"
      },
      "source": [
        "y_pred_proba = model.predict_proba(X_test)\n",
        "y_pred_proba"
      ],
      "execution_count": 14,
      "outputs": [
        {
          "output_type": "execute_result",
          "data": {
            "text/plain": [
              "array([[0.42748436, 0.57251564],\n",
              "       [0.45211939, 0.54788061],\n",
              "       [0.40498133, 0.59501867],\n",
              "       [0.42705787, 0.57294213],\n",
              "       [0.46802996, 0.53197004],\n",
              "       [0.5       , 0.5       ],\n",
              "       [0.45635394, 0.54364606],\n",
              "       [0.43421147, 0.56578853],\n",
              "       [0.44159467, 0.55840533],\n",
              "       [0.49573093, 0.50426907],\n",
              "       [0.44854129, 0.55145871],\n",
              "       [0.5       , 0.5       ],\n",
              "       [0.5       , 0.5       ],\n",
              "       [0.44266093, 0.55733907],\n",
              "       [0.48292983, 0.51707017],\n",
              "       [0.48932869, 0.51067131],\n",
              "       [0.39792715, 0.60207285],\n",
              "       [0.47973237, 0.52026763],\n",
              "       [0.45211892, 0.54788108],\n",
              "       [0.5       , 0.5       ],\n",
              "       [0.43329908, 0.56670092],\n",
              "       [0.47760179, 0.52239821],\n",
              "       [0.47653727, 0.52346273],\n",
              "       [0.46802549, 0.53197451],\n",
              "       [0.40716638, 0.59283362],\n",
              "       [0.48719528, 0.51280472],\n",
              "       [0.5       , 0.5       ],\n",
              "       [0.42167345, 0.57832655],\n",
              "       [0.5       , 0.5       ],\n",
              "       [0.42370421, 0.57629579],\n",
              "       [0.46377526, 0.53622474],\n",
              "       [0.47760226, 0.52239774],\n",
              "       [0.5       , 0.5       ],\n",
              "       [0.46271555, 0.53728445],\n",
              "       [0.48506258, 0.51493742],\n",
              "       [0.47276603, 0.52723397],\n",
              "       [0.36668748, 0.63331252],\n",
              "       [0.49146225, 0.50853775],\n",
              "       [0.48612857, 0.51387143],\n",
              "       [0.48186474, 0.51813526],\n",
              "       [0.43106755, 0.56893245],\n",
              "       [0.36545462, 0.63454538],\n",
              "       [0.45184838, 0.54815162],\n",
              "       [0.42540337, 0.57459663],\n",
              "       [0.5       , 0.5       ],\n",
              "       [0.45517124, 0.54482876],\n",
              "       [0.46377538, 0.53622462],\n",
              "       [0.5       , 0.5       ],\n",
              "       [0.47015156, 0.52984844],\n",
              "       [0.46320049, 0.53679951],\n",
              "       [0.49252945, 0.50747055],\n",
              "       [0.43355826, 0.56644174],\n",
              "       [0.40984533, 0.59015467],\n",
              "       [0.43002091, 0.56997909],\n",
              "       [0.47760249, 0.52239751],\n",
              "       [0.4457841 , 0.5542159 ],\n",
              "       [0.46271496, 0.53728504],\n",
              "       [0.42064143, 0.57935857],\n",
              "       [0.48506199, 0.51493801]])"
            ]
          },
          "metadata": {
            "tags": []
          },
          "execution_count": 14
        }
      ]
    },
    {
      "cell_type": "markdown",
      "metadata": {
        "id": "q1ir_4S12C64",
        "colab_type": "text"
      },
      "source": [
        "`y_pred_proba` has two values:\n",
        "* $\\mathbb{P}(\\mathbf{x}\\notin \\text{class }1)$\n",
        "* $\\mathbb{P}(\\mathbf{x}\\in \\text{class }1)$\n",
        "\n",
        "They sum up to 1."
      ]
    },
    {
      "cell_type": "markdown",
      "metadata": {
        "id": "M8y8EqW82C67",
        "colab_type": "text"
      },
      "source": [
        "The actual prediction is"
      ]
    },
    {
      "cell_type": "code",
      "metadata": {
        "scrolled": false,
        "id": "93X7Xkr72C69",
        "colab_type": "code",
        "colab": {
          "base_uri": "https://localhost:8080/",
          "height": 72
        },
        "outputId": "72f099c9-88b5-42ab-ef56-ea77bc5af821"
      },
      "source": [
        "y_pred = model.predict(X_test)\n",
        "y_pred"
      ],
      "execution_count": 15,
      "outputs": [
        {
          "output_type": "execute_result",
          "data": {
            "text/plain": [
              "array([1, 1, 1, 1, 1, 0, 1, 1, 1, 1, 1, 0, 0, 1, 1, 1, 1, 1, 1, 0, 1, 1,\n",
              "       1, 1, 1, 1, 0, 1, 0, 1, 1, 1, 0, 1, 1, 1, 1, 1, 1, 1, 1, 1, 1, 1,\n",
              "       0, 1, 1, 0, 1, 1, 1, 1, 1, 1, 1, 1, 1, 1, 1])"
            ]
          },
          "metadata": {
            "tags": []
          },
          "execution_count": 15
        }
      ]
    },
    {
      "cell_type": "markdown",
      "metadata": {
        "id": "y5NX6hfT2C7D",
        "colab_type": "text"
      },
      "source": [
        "Let's have a look at the predictions vs. the true value"
      ]
    },
    {
      "cell_type": "code",
      "metadata": {
        "scrolled": true,
        "id": "AcaM3Ide2C7F",
        "colab_type": "code",
        "colab": {
          "base_uri": "https://localhost:8080/",
          "height": 1000
        },
        "outputId": "d475819e-4b67-4cc3-88b3-f44d9abb2bca"
      },
      "source": [
        "pd.DataFrame({'true':y_test, 'pred':y_pred })"
      ],
      "execution_count": 16,
      "outputs": [
        {
          "output_type": "execute_result",
          "data": {
            "text/html": [
              "<div>\n",
              "<style scoped>\n",
              "    .dataframe tbody tr th:only-of-type {\n",
              "        vertical-align: middle;\n",
              "    }\n",
              "\n",
              "    .dataframe tbody tr th {\n",
              "        vertical-align: top;\n",
              "    }\n",
              "\n",
              "    .dataframe thead th {\n",
              "        text-align: right;\n",
              "    }\n",
              "</style>\n",
              "<table border=\"1\" class=\"dataframe\">\n",
              "  <thead>\n",
              "    <tr style=\"text-align: right;\">\n",
              "      <th></th>\n",
              "      <th>true</th>\n",
              "      <th>pred</th>\n",
              "    </tr>\n",
              "  </thead>\n",
              "  <tbody>\n",
              "    <tr>\n",
              "      <th>132</th>\n",
              "      <td>0</td>\n",
              "      <td>1</td>\n",
              "    </tr>\n",
              "    <tr>\n",
              "      <th>267</th>\n",
              "      <td>0</td>\n",
              "      <td>1</td>\n",
              "    </tr>\n",
              "    <tr>\n",
              "      <th>266</th>\n",
              "      <td>1</td>\n",
              "      <td>1</td>\n",
              "    </tr>\n",
              "    <tr>\n",
              "      <th>62</th>\n",
              "      <td>1</td>\n",
              "      <td>1</td>\n",
              "    </tr>\n",
              "    <tr>\n",
              "      <th>110</th>\n",
              "      <td>1</td>\n",
              "      <td>1</td>\n",
              "    </tr>\n",
              "    <tr>\n",
              "      <th>27</th>\n",
              "      <td>1</td>\n",
              "      <td>0</td>\n",
              "    </tr>\n",
              "    <tr>\n",
              "      <th>91</th>\n",
              "      <td>0</td>\n",
              "      <td>1</td>\n",
              "    </tr>\n",
              "    <tr>\n",
              "      <th>189</th>\n",
              "      <td>1</td>\n",
              "      <td>1</td>\n",
              "    </tr>\n",
              "    <tr>\n",
              "      <th>85</th>\n",
              "      <td>1</td>\n",
              "      <td>1</td>\n",
              "    </tr>\n",
              "    <tr>\n",
              "      <th>164</th>\n",
              "      <td>1</td>\n",
              "      <td>1</td>\n",
              "    </tr>\n",
              "    <tr>\n",
              "      <th>88</th>\n",
              "      <td>0</td>\n",
              "      <td>1</td>\n",
              "    </tr>\n",
              "    <tr>\n",
              "      <th>11</th>\n",
              "      <td>1</td>\n",
              "      <td>0</td>\n",
              "    </tr>\n",
              "    <tr>\n",
              "      <th>139</th>\n",
              "      <td>0</td>\n",
              "      <td>0</td>\n",
              "    </tr>\n",
              "    <tr>\n",
              "      <th>174</th>\n",
              "      <td>1</td>\n",
              "      <td>1</td>\n",
              "    </tr>\n",
              "    <tr>\n",
              "      <th>12</th>\n",
              "      <td>0</td>\n",
              "      <td>1</td>\n",
              "    </tr>\n",
              "    <tr>\n",
              "      <th>18</th>\n",
              "      <td>0</td>\n",
              "      <td>1</td>\n",
              "    </tr>\n",
              "    <tr>\n",
              "      <th>291</th>\n",
              "      <td>1</td>\n",
              "      <td>1</td>\n",
              "    </tr>\n",
              "    <tr>\n",
              "      <th>59</th>\n",
              "      <td>0</td>\n",
              "      <td>1</td>\n",
              "    </tr>\n",
              "    <tr>\n",
              "      <th>243</th>\n",
              "      <td>1</td>\n",
              "      <td>1</td>\n",
              "    </tr>\n",
              "    <tr>\n",
              "      <th>207</th>\n",
              "      <td>0</td>\n",
              "      <td>0</td>\n",
              "    </tr>\n",
              "    <tr>\n",
              "      <th>119</th>\n",
              "      <td>0</td>\n",
              "      <td>1</td>\n",
              "    </tr>\n",
              "    <tr>\n",
              "      <th>127</th>\n",
              "      <td>1</td>\n",
              "      <td>1</td>\n",
              "    </tr>\n",
              "    <tr>\n",
              "      <th>102</th>\n",
              "      <td>0</td>\n",
              "      <td>1</td>\n",
              "    </tr>\n",
              "    <tr>\n",
              "      <th>177</th>\n",
              "      <td>0</td>\n",
              "      <td>1</td>\n",
              "    </tr>\n",
              "    <tr>\n",
              "      <th>154</th>\n",
              "      <td>1</td>\n",
              "      <td>1</td>\n",
              "    </tr>\n",
              "    <tr>\n",
              "      <th>90</th>\n",
              "      <td>1</td>\n",
              "      <td>1</td>\n",
              "    </tr>\n",
              "    <tr>\n",
              "      <th>146</th>\n",
              "      <td>1</td>\n",
              "      <td>0</td>\n",
              "    </tr>\n",
              "    <tr>\n",
              "      <th>204</th>\n",
              "      <td>0</td>\n",
              "      <td>1</td>\n",
              "    </tr>\n",
              "    <tr>\n",
              "      <th>51</th>\n",
              "      <td>0</td>\n",
              "      <td>0</td>\n",
              "    </tr>\n",
              "    <tr>\n",
              "      <th>229</th>\n",
              "      <td>0</td>\n",
              "      <td>1</td>\n",
              "    </tr>\n",
              "    <tr>\n",
              "      <th>157</th>\n",
              "      <td>0</td>\n",
              "      <td>1</td>\n",
              "    </tr>\n",
              "    <tr>\n",
              "      <th>105</th>\n",
              "      <td>0</td>\n",
              "      <td>1</td>\n",
              "    </tr>\n",
              "    <tr>\n",
              "      <th>181</th>\n",
              "      <td>1</td>\n",
              "      <td>0</td>\n",
              "    </tr>\n",
              "    <tr>\n",
              "      <th>185</th>\n",
              "      <td>0</td>\n",
              "      <td>1</td>\n",
              "    </tr>\n",
              "    <tr>\n",
              "      <th>123</th>\n",
              "      <td>0</td>\n",
              "      <td>1</td>\n",
              "    </tr>\n",
              "    <tr>\n",
              "      <th>258</th>\n",
              "      <td>0</td>\n",
              "      <td>1</td>\n",
              "    </tr>\n",
              "    <tr>\n",
              "      <th>290</th>\n",
              "      <td>1</td>\n",
              "      <td>1</td>\n",
              "    </tr>\n",
              "    <tr>\n",
              "      <th>289</th>\n",
              "      <td>0</td>\n",
              "      <td>1</td>\n",
              "    </tr>\n",
              "    <tr>\n",
              "      <th>232</th>\n",
              "      <td>1</td>\n",
              "      <td>1</td>\n",
              "    </tr>\n",
              "    <tr>\n",
              "      <th>180</th>\n",
              "      <td>0</td>\n",
              "      <td>1</td>\n",
              "    </tr>\n",
              "    <tr>\n",
              "      <th>279</th>\n",
              "      <td>1</td>\n",
              "      <td>1</td>\n",
              "    </tr>\n",
              "    <tr>\n",
              "      <th>274</th>\n",
              "      <td>1</td>\n",
              "      <td>1</td>\n",
              "    </tr>\n",
              "    <tr>\n",
              "      <th>218</th>\n",
              "      <td>1</td>\n",
              "      <td>1</td>\n",
              "    </tr>\n",
              "    <tr>\n",
              "      <th>202</th>\n",
              "      <td>1</td>\n",
              "      <td>1</td>\n",
              "    </tr>\n",
              "    <tr>\n",
              "      <th>208</th>\n",
              "      <td>0</td>\n",
              "      <td>0</td>\n",
              "    </tr>\n",
              "    <tr>\n",
              "      <th>120</th>\n",
              "      <td>0</td>\n",
              "      <td>1</td>\n",
              "    </tr>\n",
              "    <tr>\n",
              "      <th>89</th>\n",
              "      <td>1</td>\n",
              "      <td>1</td>\n",
              "    </tr>\n",
              "    <tr>\n",
              "      <th>280</th>\n",
              "      <td>1</td>\n",
              "      <td>0</td>\n",
              "    </tr>\n",
              "    <tr>\n",
              "      <th>238</th>\n",
              "      <td>0</td>\n",
              "      <td>1</td>\n",
              "    </tr>\n",
              "    <tr>\n",
              "      <th>99</th>\n",
              "      <td>0</td>\n",
              "      <td>1</td>\n",
              "    </tr>\n",
              "    <tr>\n",
              "      <th>214</th>\n",
              "      <td>0</td>\n",
              "      <td>1</td>\n",
              "    </tr>\n",
              "    <tr>\n",
              "      <th>224</th>\n",
              "      <td>0</td>\n",
              "      <td>1</td>\n",
              "    </tr>\n",
              "    <tr>\n",
              "      <th>39</th>\n",
              "      <td>1</td>\n",
              "      <td>1</td>\n",
              "    </tr>\n",
              "    <tr>\n",
              "      <th>58</th>\n",
              "      <td>1</td>\n",
              "      <td>1</td>\n",
              "    </tr>\n",
              "    <tr>\n",
              "      <th>179</th>\n",
              "      <td>0</td>\n",
              "      <td>1</td>\n",
              "    </tr>\n",
              "    <tr>\n",
              "      <th>201</th>\n",
              "      <td>0</td>\n",
              "      <td>1</td>\n",
              "    </tr>\n",
              "    <tr>\n",
              "      <th>117</th>\n",
              "      <td>0</td>\n",
              "      <td>1</td>\n",
              "    </tr>\n",
              "    <tr>\n",
              "      <th>4</th>\n",
              "      <td>0</td>\n",
              "      <td>1</td>\n",
              "    </tr>\n",
              "    <tr>\n",
              "      <th>17</th>\n",
              "      <td>1</td>\n",
              "      <td>1</td>\n",
              "    </tr>\n",
              "  </tbody>\n",
              "</table>\n",
              "</div>"
            ],
            "text/plain": [
              "     true  pred\n",
              "132     0     1\n",
              "267     0     1\n",
              "266     1     1\n",
              "62      1     1\n",
              "110     1     1\n",
              "27      1     0\n",
              "91      0     1\n",
              "189     1     1\n",
              "85      1     1\n",
              "164     1     1\n",
              "88      0     1\n",
              "11      1     0\n",
              "139     0     0\n",
              "174     1     1\n",
              "12      0     1\n",
              "18      0     1\n",
              "291     1     1\n",
              "59      0     1\n",
              "243     1     1\n",
              "207     0     0\n",
              "119     0     1\n",
              "127     1     1\n",
              "102     0     1\n",
              "177     0     1\n",
              "154     1     1\n",
              "90      1     1\n",
              "146     1     0\n",
              "204     0     1\n",
              "51      0     0\n",
              "229     0     1\n",
              "157     0     1\n",
              "105     0     1\n",
              "181     1     0\n",
              "185     0     1\n",
              "123     0     1\n",
              "258     0     1\n",
              "290     1     1\n",
              "289     0     1\n",
              "232     1     1\n",
              "180     0     1\n",
              "279     1     1\n",
              "274     1     1\n",
              "218     1     1\n",
              "202     1     1\n",
              "208     0     0\n",
              "120     0     1\n",
              "89      1     1\n",
              "280     1     0\n",
              "238     0     1\n",
              "99      0     1\n",
              "214     0     1\n",
              "224     0     1\n",
              "39      1     1\n",
              "58      1     1\n",
              "179     0     1\n",
              "201     0     1\n",
              "117     0     1\n",
              "4       0     1\n",
              "17      1     1"
            ]
          },
          "metadata": {
            "tags": []
          },
          "execution_count": 16
        }
      ]
    },
    {
      "cell_type": "markdown",
      "metadata": {
        "id": "sl-NWowR2C7M",
        "colab_type": "text"
      },
      "source": [
        "Let's evaluate the goodness of our classifier"
      ]
    },
    {
      "cell_type": "code",
      "metadata": {
        "id": "bGVgf1YC2C7N",
        "colab_type": "code",
        "colab": {
          "base_uri": "https://localhost:8080/",
          "height": 35
        },
        "outputId": "2d7cb9d8-d02c-48be-c5d0-d953d3d689cf"
      },
      "source": [
        "accuracy_score(y_test, y_pred)"
      ],
      "execution_count": 17,
      "outputs": [
        {
          "output_type": "execute_result",
          "data": {
            "text/plain": [
              "0.4406779661016949"
            ]
          },
          "metadata": {
            "tags": []
          },
          "execution_count": 17
        }
      ]
    },
    {
      "cell_type": "markdown",
      "metadata": {
        "id": "K5_V8n4S2C7T",
        "colab_type": "text"
      },
      "source": [
        "Very bad. Our classifier is just a random guess!\n",
        "\n",
        "Let' first normalize"
      ]
    },
    {
      "cell_type": "code",
      "metadata": {
        "scrolled": true,
        "id": "5OmlabtC2C7V",
        "colab_type": "code",
        "colab": {}
      },
      "source": [
        "scaler = StandardScaler()\n",
        "scaler.fit(X_train)\n",
        "X_train_scaled = scaler.transform(X_train)"
      ],
      "execution_count": 0,
      "outputs": []
    },
    {
      "cell_type": "code",
      "metadata": {
        "id": "DeZ69DAm2C7Z",
        "colab_type": "code",
        "colab": {}
      },
      "source": [
        "model = LogisticRegression(C=1)\n",
        "model.fit(X_train_scaled, y_train)\n",
        "X_test_scaled = scaler.transform(X_test)\n",
        "y_pred = model.predict(X_test_scaled)"
      ],
      "execution_count": 0,
      "outputs": []
    },
    {
      "cell_type": "code",
      "metadata": {
        "scrolled": true,
        "id": "HltmJCVd2C7e",
        "colab_type": "code",
        "colab": {
          "base_uri": "https://localhost:8080/",
          "height": 35
        },
        "outputId": "96f90576-3425-4de7-a4ad-af8337861b08"
      },
      "source": [
        "accuracy_score(y_pred, y_test)"
      ],
      "execution_count": 20,
      "outputs": [
        {
          "output_type": "execute_result",
          "data": {
            "text/plain": [
              "0.7627118644067796"
            ]
          },
          "metadata": {
            "tags": []
          },
          "execution_count": 20
        }
      ]
    },
    {
      "cell_type": "markdown",
      "metadata": {
        "id": "7u0n5kBc2C7j",
        "colab_type": "text"
      },
      "source": [
        "Better."
      ]
    },
    {
      "cell_type": "markdown",
      "metadata": {
        "id": "jAqat1Av2C7k",
        "colab_type": "text"
      },
      "source": [
        "## Decision boundary"
      ]
    },
    {
      "cell_type": "markdown",
      "metadata": {
        "id": "H_P9qOsT2C7l",
        "colab_type": "text"
      },
      "source": [
        "Let's plot our dataset"
      ]
    },
    {
      "cell_type": "code",
      "metadata": {
        "id": "8qcVuP9K2C7n",
        "colab_type": "code",
        "colab": {
          "base_uri": "https://localhost:8080/",
          "height": 606
        },
        "outputId": "896af1a4-d36c-4c2a-8cfd-1f205cf624a8"
      },
      "source": [
        "fig, ax = plt.subplots(figsize=(10,10) )\n",
        "\n",
        "X = df[columns]\n",
        "\n",
        "X_scaled = scaler.transform(X)\n",
        "\n",
        "BytesReceived0_scaled = X_scaled[:,0]\n",
        "PacketsSent0_scaled = X_scaled[:,1]\n",
        "\n",
        "scatter = ax.scatter(BytesReceived0_scaled, PacketsSent0_scaled,\n",
        "          c=df['high_res'], cmap='bwr', s=14)\n",
        "\n",
        "\n",
        "ax.set(xlabel=\"BytesReceived0_scaled\", ylabel=\"PacketsSent0_scaled\" )\n",
        "\n",
        "# Add the legend associated to the different colors\n",
        "legend = ax.legend(*scatter.legend_elements() )"
      ],
      "execution_count": 21,
      "outputs": [
        {
          "output_type": "display_data",
          "data": {
            "image/png": "[encoded data removed]",
            "text/plain": [
              "<Figure size 720x720 with 1 Axes>"
            ]
          },
          "metadata": {
            "tags": []
          }
        }
      ]
    },
    {
      "cell_type": "code",
      "metadata": {
        "id": "pbYSmutU2C7t",
        "colab_type": "code",
        "colab": {}
      },
      "source": [
        ""
      ],
      "execution_count": 0,
      "outputs": []
    },
    {
      "cell_type": "code",
      "metadata": {
        "id": "5s_VEaVW2C72",
        "colab_type": "code",
        "colab": {}
      },
      "source": [
        ""
      ],
      "execution_count": 0,
      "outputs": []
    },
    {
      "cell_type": "markdown",
      "metadata": {
        "id": "m0Uox9uh2C78",
        "colab_type": "text"
      },
      "source": [
        "Let's plot the decision boundary, i.e. the surface that separates the areas of the space in which prediction is `1` from the ones in which preciction is `0`."
      ]
    },
    {
      "cell_type": "code",
      "metadata": {
        "id": "xWm4lF5i2C7-",
        "colab_type": "code",
        "colab": {
          "base_uri": "https://localhost:8080/",
          "height": 423
        },
        "outputId": "88218d18-7ea4-4029-d9c7-44fe254efb69"
      },
      "source": [
        "# This code is not important to understand\n",
        "\n",
        "### First, create a grid of points\n",
        "horiz_min = min(BytesReceived0_scaled)\n",
        "vert_min = min(PacketsSent0_scaled)\n",
        "horiz_max = max(BytesReceived0_scaled)\n",
        "vert_max = max(PacketsSent0_scaled)\n",
        "\n",
        "grid_step=0.1\n",
        "\n",
        "horiz_part, vert_part = \\\n",
        "    np.mgrid[horiz_min:horiz_max:grid_step, \n",
        "             vert_min:vert_max:grid_step]\n",
        "grid = np.c_[horiz_part.ravel(), vert_part.ravel()]\n",
        "print (\"The grid is \", grid)\n",
        "grid_probability = model.predict_proba(grid)[:,1]\n",
        "print(\"The probability associated to each point is\", grid_probability)\n",
        "grid_probability = grid_probability.reshape(horiz_part.shape)\n",
        "print(\"After reshaping\", grid_probability)"
      ],
      "execution_count": 22,
      "outputs": [
        {
          "output_type": "stream",
          "text": [
            "The grid is  [[-1.07158236 -0.89800608]\n",
            " [-1.07158236 -0.79800608]\n",
            " [-1.07158236 -0.69800608]\n",
            " ...\n",
            " [ 6.92841764  7.00199392]\n",
            " [ 6.92841764  7.10199392]\n",
            " [ 6.92841764  7.20199392]]\n",
            "The probability associated to each point is [0.4088402  0.45242172 0.49674521 ... 0.99567488 0.9963771  0.99696566]\n",
            "After reshaping [[4.08840204e-01 4.52421722e-01 4.96745207e-01 ... 9.99998858e-01\n",
            "  9.99999044e-01 9.99999200e-01]\n",
            " [3.84187193e-01 4.27039124e-01 4.71014912e-01 ... 9.99998734e-01\n",
            "  9.99998941e-01 9.99999113e-01]\n",
            " [3.60115184e-01 4.02035033e-01 4.45437734e-01 ... 9.99998597e-01\n",
            "  9.99998826e-01 9.99999017e-01]\n",
            " ...\n",
            " [2.23304606e-04 2.66764068e-04 3.18678899e-04 ... 9.96477597e-01\n",
            "  9.97049879e-01 9.97529413e-01]\n",
            " [2.01443212e-04 2.40649042e-04 2.87483102e-04 ... 9.96096740e-01\n",
            "  9.96730696e-01 9.97261970e-01]\n",
            " [1.81721647e-04 2.17090007e-04 2.59340300e-04 ... 9.95674881e-01\n",
            "  9.96377105e-01 9.96965664e-01]]\n"
          ],
          "name": "stdout"
        }
      ]
    },
    {
      "cell_type": "code",
      "metadata": {
        "id": "oG-EfSDB2C8B",
        "colab_type": "code",
        "colab": {
          "base_uri": "https://localhost:8080/",
          "height": 402
        },
        "outputId": "fcfafed2-0a2b-4ec0-a4e7-07567b1ac1ba"
      },
      "source": [
        "### Now, add to the scatterplot the decision boundaruy\n",
        "\n",
        "ax.contour(horiz_part, vert_part, grid_probability, [0.5])\n",
        "fig\n",
        "\n",
        "if savefigures:\n",
        "  \n",
        "  fig.savefig('img/linear-class.pdf')\n"
      ],
      "execution_count": 23,
      "outputs": [
        {
          "output_type": "error",
          "ename": "FileNotFoundError",
          "evalue": "ignored",
          "traceback": [
            "\u001b[0;31m---------------------------------------------------------------------------\u001b[0m",
            "\u001b[0;31mFileNotFoundError\u001b[0m                         Traceback (most recent call last)",
            "\u001b[0;32m<ipython-input-23-1293d34963d8>\u001b[0m in \u001b[0;36m<module>\u001b[0;34m()\u001b[0m\n\u001b[1;32m      2\u001b[0m \u001b[0max\u001b[0m\u001b[0;34m.\u001b[0m\u001b[0mcontour\u001b[0m\u001b[0;34m(\u001b[0m\u001b[0mhoriz_part\u001b[0m\u001b[0;34m,\u001b[0m \u001b[0mvert_part\u001b[0m\u001b[0;34m,\u001b[0m \u001b[0mgrid_probability\u001b[0m\u001b[0;34m,\u001b[0m \u001b[0;34m[\u001b[0m\u001b[0;36m0.5\u001b[0m\u001b[0;34m]\u001b[0m\u001b[0;34m)\u001b[0m\u001b[0;34m\u001b[0m\u001b[0;34m\u001b[0m\u001b[0m\n\u001b[1;32m      3\u001b[0m \u001b[0;34m\u001b[0m\u001b[0m\n\u001b[0;32m----> 4\u001b[0;31m \u001b[0mfig\u001b[0m\u001b[0;34m.\u001b[0m\u001b[0msavefig\u001b[0m\u001b[0;34m(\u001b[0m\u001b[0;34m'img/linear-class.pdf'\u001b[0m\u001b[0;34m)\u001b[0m\u001b[0;34m\u001b[0m\u001b[0;34m\u001b[0m\u001b[0m\n\u001b[0m\u001b[1;32m      5\u001b[0m \u001b[0mfig\u001b[0m\u001b[0;34m\u001b[0m\u001b[0;34m\u001b[0m\u001b[0m\n",
            "\u001b[0;32m/usr/local/lib/python3.6/dist-packages/matplotlib/figure.py\u001b[0m in \u001b[0;36msavefig\u001b[0;34m(self, fname, transparent, **kwargs)\u001b[0m\n\u001b[1;32m   2178\u001b[0m             \u001b[0mself\u001b[0m\u001b[0;34m.\u001b[0m\u001b[0mpatch\u001b[0m\u001b[0;34m.\u001b[0m\u001b[0mset_visible\u001b[0m\u001b[0;34m(\u001b[0m\u001b[0mframeon\u001b[0m\u001b[0;34m)\u001b[0m\u001b[0;34m\u001b[0m\u001b[0;34m\u001b[0m\u001b[0m\n\u001b[1;32m   2179\u001b[0m \u001b[0;34m\u001b[0m\u001b[0m\n\u001b[0;32m-> 2180\u001b[0;31m         \u001b[0mself\u001b[0m\u001b[0;34m.\u001b[0m\u001b[0mcanvas\u001b[0m\u001b[0;34m.\u001b[0m\u001b[0mprint_figure\u001b[0m\u001b[0;34m(\u001b[0m\u001b[0mfname\u001b[0m\u001b[0;34m,\u001b[0m \u001b[0;34m**\u001b[0m\u001b[0mkwargs\u001b[0m\u001b[0;34m)\u001b[0m\u001b[0;34m\u001b[0m\u001b[0;34m\u001b[0m\u001b[0m\n\u001b[0m\u001b[1;32m   2181\u001b[0m \u001b[0;34m\u001b[0m\u001b[0m\n\u001b[1;32m   2182\u001b[0m         \u001b[0;32mif\u001b[0m \u001b[0mframeon\u001b[0m\u001b[0;34m:\u001b[0m\u001b[0;34m\u001b[0m\u001b[0;34m\u001b[0m\u001b[0m\n",
            "\u001b[0;32m/usr/local/lib/python3.6/dist-packages/matplotlib/backend_bases.py\u001b[0m in \u001b[0;36mprint_figure\u001b[0;34m(self, filename, dpi, facecolor, edgecolor, orientation, format, bbox_inches, **kwargs)\u001b[0m\n\u001b[1;32m   2089\u001b[0m                     \u001b[0morientation\u001b[0m\u001b[0;34m=\u001b[0m\u001b[0morientation\u001b[0m\u001b[0;34m,\u001b[0m\u001b[0;34m\u001b[0m\u001b[0;34m\u001b[0m\u001b[0m\n\u001b[1;32m   2090\u001b[0m                     \u001b[0mbbox_inches_restore\u001b[0m\u001b[0;34m=\u001b[0m\u001b[0m_bbox_inches_restore\u001b[0m\u001b[0;34m,\u001b[0m\u001b[0;34m\u001b[0m\u001b[0;34m\u001b[0m\u001b[0m\n\u001b[0;32m-> 2091\u001b[0;31m                     **kwargs)\n\u001b[0m\u001b[1;32m   2092\u001b[0m             \u001b[0;32mfinally\u001b[0m\u001b[0;34m:\u001b[0m\u001b[0;34m\u001b[0m\u001b[0;34m\u001b[0m\u001b[0m\n\u001b[1;32m   2093\u001b[0m                 \u001b[0;32mif\u001b[0m \u001b[0mbbox_inches\u001b[0m \u001b[0;32mand\u001b[0m \u001b[0mrestore_bbox\u001b[0m\u001b[0;34m:\u001b[0m\u001b[0;34m\u001b[0m\u001b[0;34m\u001b[0m\u001b[0m\n",
            "\u001b[0;32m/usr/local/lib/python3.6/dist-packages/matplotlib/backends/backend_pdf.py\u001b[0m in \u001b[0;36mprint_pdf\u001b[0;34m(self, filename, dpi, bbox_inches_restore, metadata, **kwargs)\u001b[0m\n\u001b[1;32m   2494\u001b[0m             \u001b[0mfile\u001b[0m \u001b[0;34m=\u001b[0m \u001b[0mfilename\u001b[0m\u001b[0;34m.\u001b[0m\u001b[0m_file\u001b[0m\u001b[0;34m\u001b[0m\u001b[0;34m\u001b[0m\u001b[0m\n\u001b[1;32m   2495\u001b[0m         \u001b[0;32melse\u001b[0m\u001b[0;34m:\u001b[0m\u001b[0;34m\u001b[0m\u001b[0;34m\u001b[0m\u001b[0m\n\u001b[0;32m-> 2496\u001b[0;31m             \u001b[0mfile\u001b[0m \u001b[0;34m=\u001b[0m \u001b[0mPdfFile\u001b[0m\u001b[0;34m(\u001b[0m\u001b[0mfilename\u001b[0m\u001b[0;34m,\u001b[0m \u001b[0mmetadata\u001b[0m\u001b[0;34m=\u001b[0m\u001b[0mmetadata\u001b[0m\u001b[0;34m)\u001b[0m\u001b[0;34m\u001b[0m\u001b[0;34m\u001b[0m\u001b[0m\n\u001b[0m\u001b[1;32m   2497\u001b[0m         \u001b[0;32mtry\u001b[0m\u001b[0;34m:\u001b[0m\u001b[0;34m\u001b[0m\u001b[0;34m\u001b[0m\u001b[0m\n\u001b[1;32m   2498\u001b[0m             \u001b[0mfile\u001b[0m\u001b[0;34m.\u001b[0m\u001b[0mnewPage\u001b[0m\u001b[0;34m(\u001b[0m\u001b[0mwidth\u001b[0m\u001b[0;34m,\u001b[0m \u001b[0mheight\u001b[0m\u001b[0;34m)\u001b[0m\u001b[0;34m\u001b[0m\u001b[0;34m\u001b[0m\u001b[0m\n",
            "\u001b[0;32m/usr/local/lib/python3.6/dist-packages/matplotlib/backends/backend_pdf.py\u001b[0m in \u001b[0;36m__init__\u001b[0;34m(self, filename, metadata)\u001b[0m\n\u001b[1;32m    430\u001b[0m         \u001b[0mself\u001b[0m\u001b[0;34m.\u001b[0m\u001b[0moriginal_file_like\u001b[0m \u001b[0;34m=\u001b[0m \u001b[0;32mNone\u001b[0m\u001b[0;34m\u001b[0m\u001b[0;34m\u001b[0m\u001b[0m\n\u001b[1;32m    431\u001b[0m         \u001b[0mself\u001b[0m\u001b[0;34m.\u001b[0m\u001b[0mtell_base\u001b[0m \u001b[0;34m=\u001b[0m \u001b[0;36m0\u001b[0m\u001b[0;34m\u001b[0m\u001b[0;34m\u001b[0m\u001b[0m\n\u001b[0;32m--> 432\u001b[0;31m         \u001b[0mfh\u001b[0m\u001b[0;34m,\u001b[0m \u001b[0mopened\u001b[0m \u001b[0;34m=\u001b[0m \u001b[0mcbook\u001b[0m\u001b[0;34m.\u001b[0m\u001b[0mto_filehandle\u001b[0m\u001b[0;34m(\u001b[0m\u001b[0mfilename\u001b[0m\u001b[0;34m,\u001b[0m \u001b[0;34m\"wb\"\u001b[0m\u001b[0;34m,\u001b[0m \u001b[0mreturn_opened\u001b[0m\u001b[0;34m=\u001b[0m\u001b[0;32mTrue\u001b[0m\u001b[0;34m)\u001b[0m\u001b[0;34m\u001b[0m\u001b[0;34m\u001b[0m\u001b[0m\n\u001b[0m\u001b[1;32m    433\u001b[0m         \u001b[0;32mif\u001b[0m \u001b[0;32mnot\u001b[0m \u001b[0mopened\u001b[0m\u001b[0;34m:\u001b[0m\u001b[0;34m\u001b[0m\u001b[0;34m\u001b[0m\u001b[0m\n\u001b[1;32m    434\u001b[0m             \u001b[0;32mtry\u001b[0m\u001b[0;34m:\u001b[0m\u001b[0;34m\u001b[0m\u001b[0;34m\u001b[0m\u001b[0m\n",
            "\u001b[0;32m/usr/local/lib/python3.6/dist-packages/matplotlib/cbook/__init__.py\u001b[0m in \u001b[0;36mto_filehandle\u001b[0;34m(fname, flag, return_opened, encoding)\u001b[0m\n\u001b[1;32m    430\u001b[0m             \u001b[0mfh\u001b[0m \u001b[0;34m=\u001b[0m \u001b[0mbz2\u001b[0m\u001b[0;34m.\u001b[0m\u001b[0mBZ2File\u001b[0m\u001b[0;34m(\u001b[0m\u001b[0mfname\u001b[0m\u001b[0;34m,\u001b[0m \u001b[0mflag\u001b[0m\u001b[0;34m)\u001b[0m\u001b[0;34m\u001b[0m\u001b[0;34m\u001b[0m\u001b[0m\n\u001b[1;32m    431\u001b[0m         \u001b[0;32melse\u001b[0m\u001b[0;34m:\u001b[0m\u001b[0;34m\u001b[0m\u001b[0;34m\u001b[0m\u001b[0m\n\u001b[0;32m--> 432\u001b[0;31m             \u001b[0mfh\u001b[0m \u001b[0;34m=\u001b[0m \u001b[0mopen\u001b[0m\u001b[0;34m(\u001b[0m\u001b[0mfname\u001b[0m\u001b[0;34m,\u001b[0m \u001b[0mflag\u001b[0m\u001b[0;34m,\u001b[0m \u001b[0mencoding\u001b[0m\u001b[0;34m=\u001b[0m\u001b[0mencoding\u001b[0m\u001b[0;34m)\u001b[0m\u001b[0;34m\u001b[0m\u001b[0;34m\u001b[0m\u001b[0m\n\u001b[0m\u001b[1;32m    433\u001b[0m         \u001b[0mopened\u001b[0m \u001b[0;34m=\u001b[0m \u001b[0;32mTrue\u001b[0m\u001b[0;34m\u001b[0m\u001b[0;34m\u001b[0m\u001b[0m\n\u001b[1;32m    434\u001b[0m     \u001b[0;32melif\u001b[0m \u001b[0mhasattr\u001b[0m\u001b[0;34m(\u001b[0m\u001b[0mfname\u001b[0m\u001b[0;34m,\u001b[0m \u001b[0;34m'seek'\u001b[0m\u001b[0;34m)\u001b[0m\u001b[0;34m:\u001b[0m\u001b[0;34m\u001b[0m\u001b[0;34m\u001b[0m\u001b[0m\n",
            "\u001b[0;31mFileNotFoundError\u001b[0m: [Errno 2] No such file or directory: 'img/linear-class.pdf'"
          ]
        }
      ]
    },
    {
      "cell_type": "markdown",
      "metadata": {
        "id": "9MlPJZrX2C8G",
        "colab_type": "text"
      },
      "source": [
        "Some ideas to improve this model?\n",
        "<details>\n",
        "<summary>\n",
        "CLICK\n",
        "</summary>\n",
        "    \n",
        "* Find the regularization weight via grid search\n",
        "* Since data are \"squashed\" towards low value => log-transformation\n",
        "* Find the best combination of features manually or via Recursive Feature Elimination\n",
        "    \n",
        "    \n",
        "</details>"
      ]
    },
    {
      "cell_type": "markdown",
      "metadata": {
        "id": "PyPnq8NZ2C8H",
        "colab_type": "text"
      },
      "source": [
        "# Multinomial Logistic Regression"
      ]
    },
    {
      "cell_type": "markdown",
      "metadata": {
        "id": "aE_gaqdK2C8J",
        "colab_type": "text"
      },
      "source": [
        "Let' create three catagories: \n",
        "\n",
        "* 0: low resolution\n",
        "* 1: mid resolution\n",
        "* 2: high resolution"
      ]
    },
    {
      "cell_type": "code",
      "metadata": {
        "id": "ZbONZ0U52C8K",
        "colab_type": "code",
        "colab": {}
      },
      "source": [
        "threshold1=240\n",
        "threshold2=480\n",
        "\n",
        "res = [0 if d < threshold1 \n",
        "       else 1 if threshold1 <= d < threshold2\n",
        "       else 2\n",
        "      for d in df['label_num'] \n",
        "      ]\n",
        "\n",
        "df['res'] = res\n"
      ],
      "execution_count": 0,
      "outputs": []
    },
    {
      "cell_type": "markdown",
      "metadata": {
        "id": "hOk3oxQ22C8P",
        "colab_type": "text"
      },
      "source": [
        "Let's create a pipeline to scale (important when we regularize) and then apply Multinomial Regression"
      ]
    },
    {
      "cell_type": "code",
      "metadata": {
        "id": "_SoPMXCU2C8R",
        "colab_type": "code",
        "colab": {}
      },
      "source": [
        "def MyMultinomialRegression(C=1e-9):\n",
        "    return make_pipeline(\n",
        "        StandardScaler(),\n",
        "        LogisticRegression(multi_class=\"multinomial\", solver=\"lbfgs\", C=C)\n",
        "    )\n",
        "\n",
        "# lbfgs is an improved version of gradient descent:\n",
        "# https://en.wikipedia.org/wiki/Limited-memory_BFGS"
      ],
      "execution_count": 0,
      "outputs": []
    },
    {
      "cell_type": "markdown",
      "metadata": {
        "id": "aQPwGu-F2C8U",
        "colab_type": "text"
      },
      "source": [
        "Now that we added another column to `df`, we need to divide the new `df` into train and test set again.\n",
        "\n",
        "Note: if we use the same seed (`random_state`) as before, the same samples as before will fall in the train and test set."
      ]
    },
    {
      "cell_type": "code",
      "metadata": {
        "id": "PdQY8W_32C8W",
        "colab_type": "code",
        "colab": {},
        "outputId": "b556eb55-4bd4-4887-c0c1-fbd1a7a3aa5f"
      },
      "source": [
        "df_train, df_test = train_test_split(df,test_size=0.2, random_state=1)\n",
        "\n",
        "y_train = df_train['res']\n",
        "y_test = df_test['res']\n",
        "\n",
        "model = MyMultinomialRegression(C=1)\n",
        "model.fit(X_train, y_train)"
      ],
      "execution_count": 0,
      "outputs": [
        {
          "output_type": "execute_result",
          "data": {
            "text/plain": [
              "Pipeline(memory=None,\n",
              "         steps=[('standardscaler',\n",
              "                 StandardScaler(copy=True, with_mean=True, with_std=True)),\n",
              "                ('logisticregression',\n",
              "                 LogisticRegression(C=1, class_weight=None, dual=False,\n",
              "                                    fit_intercept=True, intercept_scaling=1,\n",
              "                                    l1_ratio=None, max_iter=100,\n",
              "                                    multi_class='multinomial', n_jobs=None,\n",
              "                                    penalty='l2', random_state=None,\n",
              "                                    solver='lbfgs', tol=0.0001, verbose=0,\n",
              "                                    warm_start=False))],\n",
              "         verbose=False)"
            ]
          },
          "metadata": {
            "tags": []
          },
          "execution_count": 22
        }
      ]
    },
    {
      "cell_type": "code",
      "metadata": {
        "id": "PCSrfwdv2C8b",
        "colab_type": "code",
        "colab": {},
        "outputId": "58e95770-091e-4652-a056-1b798172e355"
      },
      "source": [
        "y_pred = model.predict(X_test)\n",
        "y_pred"
      ],
      "execution_count": 0,
      "outputs": [
        {
          "output_type": "execute_result",
          "data": {
            "text/plain": [
              "array([1, 2, 2, 2, 2, 2, 2, 2, 2, 2, 2, 2, 2, 2, 2, 2, 2, 2, 2, 2, 2, 2,\n",
              "       2, 2, 2, 2, 2, 2, 2, 2, 2, 2, 2, 2, 2, 2, 2, 2, 2, 2, 2, 2, 2, 2,\n",
              "       2, 2, 2, 2, 2, 2, 2, 2, 2, 2, 2, 2, 2, 1, 2])"
            ]
          },
          "metadata": {
            "tags": []
          },
          "execution_count": 23
        }
      ]
    },
    {
      "cell_type": "code",
      "metadata": {
        "id": "m8nWw-Wf2C8e",
        "colab_type": "code",
        "colab": {},
        "outputId": "84ba7b83-76ed-4377-9ca2-73510840245b"
      },
      "source": [
        "accuracy_score(y_pred, y_test)"
      ],
      "execution_count": 0,
      "outputs": [
        {
          "output_type": "execute_result",
          "data": {
            "text/plain": [
              "0.7288135593220338"
            ]
          },
          "metadata": {
            "tags": []
          },
          "execution_count": 24
        }
      ]
    },
    {
      "cell_type": "markdown",
      "metadata": {
        "id": "PLe7p2wo2C8i",
        "colab_type": "text"
      },
      "source": [
        "Accuracy may be a misleading."
      ]
    },
    {
      "cell_type": "code",
      "metadata": {
        "id": "nOdXm8Q-2C8j",
        "colab_type": "code",
        "colab": {},
        "outputId": "74f23cbf-06d3-4ef4-bd0d-9cf995f881fc"
      },
      "source": [
        "from sklearn.utils.multiclass import unique_labels\n",
        "\n",
        "np.set_printoptions(precision=2) # To print just 2 decimal numbers\n",
        "\n",
        "plot_confusion_matrix(model, X_test, y_test, normalize='true')\n",
        "\n",
        "plt.savefig('img/bad-confusion.pdf')\n",
        "plt.show()"
      ],
      "execution_count": 0,
      "outputs": [
        {
          "output_type": "display_data",
          "data": {
            "image/png": "[encoded data removed]",
            "text/plain": [
              "<Figure size 432x288 with 2 Axes>"
            ]
          },
          "metadata": {
            "tags": [],
            "needs_background": "light"
          }
        }
      ]
    },
    {
      "cell_type": "markdown",
      "metadata": {
        "id": "2lQOSqFV2C8n",
        "colab_type": "text"
      },
      "source": [
        "# Class imbalance"
      ]
    },
    {
      "cell_type": "markdown",
      "metadata": {
        "id": "hXvsIvak2C8o",
        "colab_type": "text"
      },
      "source": [
        "When a class is prevalent, the model adapts to that class: the result is a very bad classifier with a high accuracy. \n",
        "\n",
        "For instance, a silly classifier that always predicts the prevalent class would give good accuracy."
      ]
    },
    {
      "cell_type": "code",
      "metadata": {
        "scrolled": true,
        "id": "zfNBlXis2C8o",
        "colab_type": "code",
        "colab": {},
        "outputId": "8b8aa112-6b93-4e33-db5b-79ed339e161a"
      },
      "source": [
        "y_pred = [2 for i in range(len(y_test))]\n",
        "accuracy_score(y_pred, y_test)"
      ],
      "execution_count": 0,
      "outputs": [
        {
          "output_type": "execute_result",
          "data": {
            "text/plain": [
              "0.6949152542372882"
            ]
          },
          "metadata": {
            "tags": []
          },
          "execution_count": 26
        }
      ]
    },
    {
      "cell_type": "markdown",
      "metadata": {
        "id": "zyRffZ262C8s",
        "colab_type": "text"
      },
      "source": [
        "Our dataset is quite umbalanced"
      ]
    },
    {
      "cell_type": "code",
      "metadata": {
        "id": "C7mxprdx2C8t",
        "colab_type": "code",
        "colab": {},
        "outputId": "85caefff-631c-431a-9b93-598226645338"
      },
      "source": [
        "df['res'].value_counts()"
      ],
      "execution_count": 0,
      "outputs": [
        {
          "output_type": "execute_result",
          "data": {
            "text/plain": [
              "2    210\n",
              "1     55\n",
              "0     27\n",
              "Name: res, dtype: int64"
            ]
          },
          "metadata": {
            "tags": []
          },
          "execution_count": 27
        }
      ]
    },
    {
      "cell_type": "markdown",
      "metadata": {
        "id": "bgSd23wF2C8w",
        "colab_type": "text"
      },
      "source": [
        "Simple idea: In the training set, we can create synthetic samples  of the small classes, in order for all the classes to be of the same size. This is done by Synthetic Minority Over-sampling TEchnique (SMOTE):\n",
        "\n",
        "N. V. Chawla, K. W. Bowyer, L. O.Hall, W. P. Kegelmeyer, “SMOTE: synthetic minority over-sampling technique,” Journal of artificial intelligence research, 321-357, 2002.\n",
        "\n",
        "(**~10000 citations!**)\n",
        "\n",
        "Synthetic samples are generated via 5-Nearest Neighbors (we'll see it later)"
      ]
    },
    {
      "cell_type": "code",
      "metadata": {
        "scrolled": true,
        "id": "MYm2x0n42C8x",
        "colab_type": "code",
        "colab": {},
        "outputId": "86ab6110-4733-4a32-cb5e-6be993ecef00"
      },
      "source": [
        "smote = SMOTE()\n",
        "\n",
        "X_train_balanced, y_train_balanced = smote.fit_sample(X_train, y_train)\n",
        "pd.value_counts(y_train_balanced)"
      ],
      "execution_count": 0,
      "outputs": [
        {
          "output_type": "stream",
          "text": [
            "/home/araldo/.conda/envs/my_env/lib/python3.6/site-packages/sklearn/utils/deprecation.py:87: FutureWarning: Function safe_indexing is deprecated; safe_indexing is deprecated in version 0.22 and will be removed in version 0.24.\n",
            "  warnings.warn(msg, category=FutureWarning)\n",
            "/home/araldo/.conda/envs/my_env/lib/python3.6/site-packages/sklearn/utils/deprecation.py:87: FutureWarning: Function safe_indexing is deprecated; safe_indexing is deprecated in version 0.22 and will be removed in version 0.24.\n",
            "  warnings.warn(msg, category=FutureWarning)\n"
          ],
          "name": "stderr"
        },
        {
          "output_type": "execute_result",
          "data": {
            "text/plain": [
              "2    169\n",
              "1    169\n",
              "0    169\n",
              "dtype: int64"
            ]
          },
          "metadata": {
            "tags": []
          },
          "execution_count": 28
        }
      ]
    },
    {
      "cell_type": "markdown",
      "metadata": {
        "id": "e_OqPaJX2C80",
        "colab_type": "text"
      },
      "source": [
        "We train on the oversampled traing dataset and we test on the original test set."
      ]
    },
    {
      "cell_type": "code",
      "metadata": {
        "id": "PlIT7QyK2C81",
        "colab_type": "code",
        "colab": {},
        "outputId": "d582ba39-9da0-4e31-b065-7a4fd827786f"
      },
      "source": [
        "model.fit(X_train_balanced, y_train_balanced)\n",
        "y_pred = model.predict(X_test)\n",
        "plot_confusion_matrix(model, X_test, y_test, normalize='true')\n",
        "plt.savefig('img/mmh-confusion.pdf')"
      ],
      "execution_count": 0,
      "outputs": [
        {
          "output_type": "display_data",
          "data": {
            "image/png": "[encoded data removed]",
            "text/plain": [
              "<Figure size 432x288 with 2 Axes>"
            ]
          },
          "metadata": {
            "tags": [],
            "needs_background": "light"
          }
        }
      ]
    },
    {
      "cell_type": "code",
      "metadata": {
        "id": "1OLBtKyT2C85",
        "colab_type": "code",
        "colab": {},
        "outputId": "392b948f-5470-4140-d67f-cf05119ec54c"
      },
      "source": [
        "accuracy_score(y_pred, y_test)"
      ],
      "execution_count": 0,
      "outputs": [
        {
          "output_type": "execute_result",
          "data": {
            "text/plain": [
              "0.6101694915254238"
            ]
          },
          "metadata": {
            "tags": []
          },
          "execution_count": 30
        }
      ]
    },
    {
      "cell_type": "markdown",
      "metadata": {
        "id": "FzBccak-2C89",
        "colab_type": "text"
      },
      "source": [
        "We improved a bit, still the model is not excellent"
      ]
    },
    {
      "cell_type": "markdown",
      "metadata": {
        "id": "gGYic4ID2C8-",
        "colab_type": "text"
      },
      "source": [
        "Some ideas to improve it?\n",
        "<details>\n",
        "<summary>\n",
        "CLICK\n",
        "</summary>\n",
        "    \n",
        "* Find the regularization weight via grid search\n",
        "* Try to transform the input\n",
        "* Find the best combination of features manually or via Recursive Feature Elimination\n",
        "    \n",
        "    \n",
        "</details>"
      ]
    },
    {
      "cell_type": "markdown",
      "metadata": {
        "id": "cI8uynV22C9A",
        "colab_type": "text"
      },
      "source": [
        "A classification report summarizes for us all the important features"
      ]
    },
    {
      "cell_type": "code",
      "metadata": {
        "id": "8tbIfLnM2C9B",
        "colab_type": "code",
        "colab": {},
        "outputId": "acdeda69-aaef-4eec-a694-21d0e978c256"
      },
      "source": [
        "print( classification_report(y_test, y_pred) )"
      ],
      "execution_count": 0,
      "outputs": [
        {
          "output_type": "stream",
          "text": [
            "              precision    recall  f1-score   support\n",
            "\n",
            "           0       0.29      0.75      0.41         8\n",
            "           1       0.55      0.60      0.57        10\n",
            "           2       0.89      0.59      0.71        41\n",
            "\n",
            "    accuracy                           0.61        59\n",
            "   macro avg       0.57      0.65      0.56        59\n",
            "weighted avg       0.75      0.61      0.64        59\n",
            "\n"
          ],
          "name": "stdout"
        }
      ]
    },
    {
      "cell_type": "markdown",
      "metadata": {
        "id": "BtXzs6fI2C9E",
        "colab_type": "text"
      },
      "source": [
        "# Grid search\n",
        "\n",
        "Let's find the best regularization weight `C` via grid search. Let's first check what is the correct name of the parameter `C` to which we need to refer."
      ]
    },
    {
      "cell_type": "code",
      "metadata": {
        "id": "pl-V_x1n2C9E",
        "colab_type": "code",
        "colab": {},
        "outputId": "5575c701-f2ec-4c47-f911-db920b8ee9a3"
      },
      "source": [
        "GridSearchCV(MyMultinomialRegression(), [] ).get_params().keys()"
      ],
      "execution_count": 0,
      "outputs": [
        {
          "output_type": "execute_result",
          "data": {
            "text/plain": [
              "dict_keys(['cv', 'error_score', 'estimator__memory', 'estimator__steps', 'estimator__verbose', 'estimator__standardscaler', 'estimator__logisticregression', 'estimator__standardscaler__copy', 'estimator__standardscaler__with_mean', 'estimator__standardscaler__with_std', 'estimator__logisticregression__C', 'estimator__logisticregression__class_weight', 'estimator__logisticregression__dual', 'estimator__logisticregression__fit_intercept', 'estimator__logisticregression__intercept_scaling', 'estimator__logisticregression__l1_ratio', 'estimator__logisticregression__max_iter', 'estimator__logisticregression__multi_class', 'estimator__logisticregression__n_jobs', 'estimator__logisticregression__penalty', 'estimator__logisticregression__random_state', 'estimator__logisticregression__solver', 'estimator__logisticregression__tol', 'estimator__logisticregression__verbose', 'estimator__logisticregression__warm_start', 'estimator', 'iid', 'n_jobs', 'param_grid', 'pre_dispatch', 'refit', 'return_train_score', 'scoring', 'verbose'])"
            ]
          },
          "metadata": {
            "tags": []
          },
          "execution_count": 34
        }
      ]
    },
    {
      "cell_type": "code",
      "metadata": {
        "id": "QlWKJmnM2C9K",
        "colab_type": "code",
        "colab": {}
      },
      "source": [
        "k_fold = KFold(n_splits=5, shuffle=True, random_state=5)\n",
        "\n",
        "parameters_to_test = [{ 'logisticregression__C': [1e-9, 1e-3, 0.01, 0.1, 1, 10, 100, 1000, 10000] }]\n",
        "\n",
        "# The different scoring metrics available are in:\n",
        "#     https://scikit-learn.org/stable/modules/model_evaluation.html#scoring-parameter\n",
        "grid = GridSearchCV(MyMultinomialRegression(), parameters_to_test, cv=k_fold, \n",
        "                    scoring='f1_macro')"
      ],
      "execution_count": 0,
      "outputs": []
    },
    {
      "cell_type": "code",
      "metadata": {
        "id": "IuTBAZHl2C9P",
        "colab_type": "code",
        "colab": {},
        "outputId": "d6d7b78a-a9de-4cca-dd25-46c1d066e95c"
      },
      "source": [
        "grid.fit(X_train_balanced, y_train_balanced)\n",
        "print(\"The best regularization weigth is \", grid.best_params_)"
      ],
      "execution_count": 0,
      "outputs": [
        {
          "output_type": "stream",
          "text": [
            "The best regularization weigth is  {'logisticregression__C': 0.1}\n"
          ],
          "name": "stdout"
        }
      ]
    },
    {
      "cell_type": "code",
      "metadata": {
        "id": "Jzi56tvQ2C9S",
        "colab_type": "code",
        "colab": {},
        "outputId": "df87261f-a1a9-4b3c-a24d-f1ed166496fd"
      },
      "source": [
        "model = grid.best_estimator_\n",
        "model.fit(X_train_balanced, y_train_balanced)\n",
        "y_pred = model.predict(X_test)\n",
        "print(classification_report(y_test, y_pred))\n",
        "plot_confusion_matrix(model, X_test, y_test, normalize='true')"
      ],
      "execution_count": 0,
      "outputs": [
        {
          "output_type": "stream",
          "text": [
            "              precision    recall  f1-score   support\n",
            "\n",
            "           0       0.30      0.88      0.45         8\n",
            "           1       0.60      0.60      0.60        10\n",
            "           2       0.88      0.56      0.69        41\n",
            "\n",
            "    accuracy                           0.61        59\n",
            "   macro avg       0.60      0.68      0.58        59\n",
            "weighted avg       0.76      0.61      0.64        59\n",
            "\n"
          ],
          "name": "stdout"
        },
        {
          "output_type": "execute_result",
          "data": {
            "text/plain": [
              "<sklearn.metrics._plot.confusion_matrix.ConfusionMatrixDisplay at 0x7f237c12a908>"
            ]
          },
          "metadata": {
            "tags": []
          },
          "execution_count": 51
        },
        {
          "output_type": "display_data",
          "data": {
            "image/png": "[encoded data removed]",
            "text/plain": [
              "<Figure size 432x288 with 2 Axes>"
            ]
          },
          "metadata": {
            "tags": [],
            "needs_background": "light"
          }
        }
      ]
    },
    {
      "cell_type": "code",
      "metadata": {
        "id": "vVcurkvg2C9V",
        "colab_type": "code",
        "colab": {}
      },
      "source": [
        ""
      ],
      "execution_count": 0,
      "outputs": []
    }
  ]
}